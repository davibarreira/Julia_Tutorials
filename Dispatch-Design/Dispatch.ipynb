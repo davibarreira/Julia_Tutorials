{
 "cells": [
  {
   "cell_type": "markdown",
   "id": "12a8fa3f-0b89-45b3-b4f5-b0ef2bf63620",
   "metadata": {},
   "source": [
    "# **On Dispatching Design Patters**\n",
    "\n",
    "If you have experience with Object Oriented Programming languages such as Python, you might\n",
    "find strange the way packages are implemented in Julia. For example, Julia does not have classes!\n",
    "Hence, you might wonder how you should design your code, since you probably won't be creating\n",
    "classes with methods, and so on.\n",
    "\n",
    "The multiple-dispatch capability of Julia makes design patterns in Julia quite different. First of all,\n",
    "in Julia, instead, of classes we only have structs.\n",
    "The struct can be thought of as composite \"types\", on which\n",
    "functions can be written in order to transform such struct. Besides structs, we have abstract types,\n",
    "which provide a hierarchy to the many types in Julia, and help to properly dispatch function calls.\n",
    "\n",
    "Hence, a struct is not like a class where one defines methods,\n",
    "but it's more like a \"concrete\" type to which functions are applied to.\n",
    "\n",
    "Again, while in OOP a class will generate objects that have \"methods\" inside of it.\n",
    "In Julia, there are no methods, it's all functions.\n",
    "These functions are separated from the structs, and\n",
    "the way we tie them together is via multiple dispatch.\n",
    "\n",
    "An example might make things clearer. At first, let's create a struct to store 2D coordinate points.\n"
   ]
  },
  {
   "cell_type": "code",
   "execution_count": 3,
   "id": "e3bf2746-fef8-4e5d-b5ce-df8dbb4539b2",
   "metadata": {},
   "outputs": [
    {
     "name": "stderr",
     "output_type": "stream",
     "text": [
      "\u001b[32m\u001b[1m  Activating\u001b[22m\u001b[39m project at `~/MEGA/EMAp/Julia_Tutorials/Dispatch-Design`\n"
     ]
    }
   ],
   "source": [
    "using Pkg\n",
    "Pkg.activate(\".\")\n",
    "\n",
    "struct Point2D\n",
    "    x::Real\n",
    "    y::Real\n",
    "end\n",
    "\n",
    "p = Point2D(1, 1);"
   ]
  },
  {
   "cell_type": "markdown",
   "id": "3025385a-60f5-4b2c-a4e9-5dc686cbe7be",
   "metadata": {},
   "source": [
    "The structs in Julia are by default immutable. This allows for more efficiency. Yet, if one needs,\n",
    "the struct can be made mutable, by simply writing `mutable struct`.\n",
    "Note also that whenever we define a struct, it already comes with a constructor function (e.g. `Point2D()`).\n",
    "But this can be modified, as we are going to show shortly.\n",
    "\n",
    "We can access the properties of a struct with the `p.x` notation, or using `getproperty(p, :x)`.\n",
    "If you wish to know what are the properties of an object, just do `propertynames(p)`.\n",
    "\n",
    "Next, let's expand on our example. Suppose we are going to work with geometric shapes.\n",
    "Each struct will be an specific shape, such as a square, a rectangle, a triangle, and so on.\n",
    "The functions will take shapes and perform some action."
   ]
  },
  {
   "cell_type": "markdown",
   "id": "0732dd06-e52b-41f6-818c-cec0b42ee9d3",
   "metadata": {},
   "source": [
    "Let's define the abstract type `Shape` which will be the \"supertype\"\n",
    "of each geometric shape. This is useful when we have functions that work for every geometric shape,\n",
    "independent of which shape we have. For example, we can define a function called\n",
    "`area` which is defined as `width * height` and we can leave the definition of the `width` and `height`\n",
    "for the geometric shapes themselves."
   ]
  },
  {
   "cell_type": "code",
   "execution_count": 8,
   "id": "24abfab0-3915-447f-a73f-287fb4615f26",
   "metadata": {},
   "outputs": [],
   "source": [
    "abstract type Shape end"
   ]
  },
  {
   "cell_type": "markdown",
   "id": "92c98187-c7f5-485c-a250-e79d9297475f",
   "metadata": {},
   "source": [
    "Next, let's create some instances of shapes. "
   ]
  },
  {
   "cell_type": "code",
   "execution_count": 9,
   "id": "e366f556-df85-494c-9881-ffeac058e008",
   "metadata": {},
   "outputs": [],
   "source": [
    "mutable struct Square <: Shape\n",
    "    center::Point2D\n",
    "    length::Real\n",
    "    Square(center, length) = length ≥ 0 ? new(center, length) : error(\"length should be greater or equal than 0.\")\n",
    "end\n",
    "\n",
    "□ = Square(p, 10);"
   ]
  },
  {
   "cell_type": "markdown",
   "id": "26d98f1e-9df7-4182-b0df-11e044e916ca",
   "metadata": {},
   "source": [
    "The `new()` is a special function that allows one to construct the object from within the struct. We need to do so \n",
    "because the struct is not yet defined, hence the need for the `new`."
   ]
  },
  {
   "cell_type": "code",
   "execution_count": 10,
   "id": "9f924d17-f61a-43ae-869f-99637fc82836",
   "metadata": {},
   "outputs": [],
   "source": [
    "mutable struct Rectangle <: Shape\n",
    "    center::Point2D\n",
    "    height::Real\n",
    "    width::Real\n",
    "    Rectangle(center, height, width) = height ≥ 0 && width ≥ 0 ? new(center, height, width) : error(\"height and width should be greater or equal than 0.\")\n",
    "end\n",
    "\n",
    "height(s::Rectangle) = s.height\n",
    "width(s::Rectangle)  = s.width\n",
    "\n",
    "height(s::Square) = s.length\n",
    "width(s::Square)  = s.length\n",
    "\n",
    "area(s::Shape)    = width(s) * height(s)\n",
    "sumshapes(s1::Shape, s2::Shape) = area(s1) + area(s2);"
   ]
  },
  {
   "cell_type": "markdown",
   "id": "71cf8629-82c3-4792-84e8-4218d9704989",
   "metadata": {},
   "source": [
    "Next, let's create a list. Our list is a nested struct. To create it, we write a `mklist` function."
   ]
  },
  {
   "cell_type": "code",
   "execution_count": 11,
   "id": "4135f5d0-d180-4fe2-9adc-5c96325419b9",
   "metadata": {},
   "outputs": [
    {
     "name": "stdout",
     "output_type": "stream",
     "text": [
      "1\n",
      "2\n",
      "3\n",
      "4\n",
      "5\n"
     ]
    }
   ],
   "source": []
  },
  {
   "cell_type": "markdown",
   "id": "f9cdd6a0-aad5-410d-8d32-adacd0e662a2",
   "metadata": {},
   "source": [
    "## Using Parameters and Units\n",
    "\n",
    "In many situations, we might want our structs to have default values that could be\n",
    "altered when creating a new instance. The `Parameters.jl` package makes this very easy to do.\n"
   ]
  },
  {
   "cell_type": "code",
   "execution_count": 12,
   "id": "85ac2146-b795-49d7-869f-9cd3366684ab",
   "metadata": {},
   "outputs": [
    {
     "name": "stdout",
     "output_type": "stream",
     "text": [
      "board = Board() = Board\n",
      "  pencil: String \"black\"\n",
      "  background: String \"white\"\n",
      "  boardtype: String \"whiteboard\"\n",
      "  size: Tuple{Int64, Int64}\n",
      "\n",
      "chalkboard = Board(pencil = \"white\", background = \"green\", boardtype = \"chalkboard\") = Board\n",
      "  pencil: String \"white\"\n",
      "  background: String \"green\"\n",
      "  boardtype: String \"chalkboard\"\n",
      "  size: Tuple{Int64, Int64}\n",
      "\n",
      "----------------------------------------------------------------------------\n"
     ]
    }
   ],
   "source": [
    "using Parameters\n",
    "@with_kw struct Board\n",
    "    pencil::String = \"black\"\n",
    "    background::String = \"white\"\n",
    "    boardtype::String = \"whiteboard\"\n",
    "    size::Tuple{Real,Real} = (10,10)\n",
    "end\n",
    "\n",
    "@show board = Board()\n",
    "@show chalkboard = Board(pencil=\"white\", background=\"green\", boardtype=\"chalkboard\");\n",
    "println(\"----------------------------------------------------------------------------\")"
   ]
  },
  {
   "cell_type": "markdown",
   "id": "15b5a117-ec42-4a9e-88e9-3238e797e090",
   "metadata": {},
   "source": [
    "The struct above is great, but it could be improved. Note for example that it's possible in this struct to\n",
    "declare a board with negative size, which is nonsense. Also, the size has no units, which makes it meaningless.\n",
    "We could add another field to state the units, but there is a much more elegant way using the amazing\n",
    "`Unitful.jl` package."
   ]
  },
  {
   "cell_type": "code",
   "execution_count": 13,
   "id": "5c1b9464-c126-425a-bf32-73108778d651",
   "metadata": {},
   "outputs": [
    {
     "name": "stdout",
     "output_type": "stream",
     "text": [
      "newboard = NewBoard() = NewBoard\n",
      "  pencil: String \"black\"\n",
      "  background: String \"white\"\n",
      "  boardtype: String \"whiteboard\"\n",
      "  size: Tuple{Quantity{Int64, 𝐋, Unitful.FreeUnits{(cm,), 𝐋, nothing}}, Quantity{Int64, 𝐋, Unitful.FreeUnits{(cm,), 𝐋, nothing}}}\n",
      "\n",
      "----------------------------------------------------------------------------\n"
     ]
    }
   ],
   "source": [
    "using Unitful\n",
    "\n",
    "@with_kw struct NewBoard\n",
    "    pencil::String = \"black\"\n",
    "    background::String = \"white\"\n",
    "    boardtype::String = \"whiteboard\"\n",
    "    size::Tuple{Unitful.Length,Unitful.Length} = (100u\"cm\",100u\"cm\")\n",
    "    function NewBoard(pencil, background, boardtype, size)\n",
    "        if size[1]≥ 0u\"cm\" && size[2] ≥ 0u\"cm\"\n",
    "            return new(pencil, background, boardtype, size)\n",
    "        else\n",
    "            error(\"Size should be non-negative.\")\n",
    "        end\n",
    "    end\n",
    "end\n",
    "\n",
    "@show newboard = NewBoard();\n",
    "println(\"----------------------------------------------------------------------------\")"
   ]
  },
  {
   "cell_type": "markdown",
   "id": "decc3713-7063-4bb1-ae86-0f3b772ea0a1",
   "metadata": {},
   "source": [
    "This is nice, but `Unitful.jl` enables us to control this in a much more secure manner.\n",
    "Suppose, for example, that we wish to send this specs to an american woodworker. Hence,\n",
    "we need to convert the units for our table."
   ]
  },
  {
   "cell_type": "code",
   "execution_count": 14,
   "id": "e8bc40cd-d2a8-4173-b170-8dd6354440b8",
   "metadata": {},
   "outputs": [
    {
     "data": {
      "text/plain": [
       "(1250//381 ft, 1250//381 ft)"
      ]
     },
     "execution_count": 14,
     "metadata": {},
     "output_type": "execute_result"
    }
   ],
   "source": [
    "uconvert.(u\"ft\",newboard.size)"
   ]
  },
  {
   "cell_type": "markdown",
   "id": "36a7e47c-99ce-4eb0-93bb-0c49e46feaf6",
   "metadata": {},
   "source": [
    "## *Appendix* \n",
    "#### Creating a linked list."
   ]
  },
  {
   "cell_type": "code",
   "execution_count": 15,
   "id": "c7f0947e-4fa6-4f36-94fe-87d5ebb342e0",
   "metadata": {},
   "outputs": [
    {
     "name": "stdout",
     "output_type": "stream",
     "text": [
      "1\n",
      "2\n",
      "3\n",
      "4\n",
      "5\n"
     ]
    }
   ],
   "source": [
    "# Straight from https://github.com/ninjaaron/dispatching-design-patterns\n",
    "struct Nil end\n",
    "struct List{T}\n",
    "    head::T\n",
    "    tail::Union{List{T}, Nil}\n",
    "end\n",
    "\n",
    "mklist(array::AbstractArray{T}) where T = foldr(List{T}, array, init=Nil())\n",
    "\n",
    "# implement the iteration protocol\n",
    "Base.iterate(l::List) = iterate(l, l)\n",
    "Base.iterate(::List, l::List) = l.head, l.tail\n",
    "Base.iterate(::List, ::Nil) = nothing\n",
    "\n",
    "list = mklist(1:5)\n",
    "for val in list\n",
    "    println(val)\n",
    "end"
   ]
  },
  {
   "cell_type": "markdown",
   "id": "e8b882c6-9ca5-4da4-b6e9-6be8355d03a1",
   "metadata": {},
   "source": [
    "----\n",
    "### *References*\n",
    "\n",
    "This tutorial draws heavily from [this talk](https://www.youtube.com/watch?v=n-E-1-A_rZM)."
   ]
  }
 ],
 "metadata": {
  "kernelspec": {
   "display_name": "julia 1.7.1",
   "language": "julia",
   "name": "julia-1.7"
  },
  "language_info": {
   "file_extension": ".jl",
   "mimetype": "application/julia",
   "name": "julia",
   "version": "1.7.1"
  }
 },
 "nbformat": 4,
 "nbformat_minor": 5
}
