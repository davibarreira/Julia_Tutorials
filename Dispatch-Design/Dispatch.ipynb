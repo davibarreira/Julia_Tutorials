{
 "cells": [
  {
   "cell_type": "markdown",
   "id": "12a8fa3f-0b89-45b3-b4f5-b0ef2bf63620",
   "metadata": {},
   "source": [
    "# On Dispatching Design Patters - Based on [this talk](https://www.youtube.com/watch?v=n-E-1-A_rZM)."
   ]
  },
  {
   "cell_type": "markdown",
   "id": "4705cf1f-69ca-4624-80e5-8eaa1cd5a7fb",
   "metadata": {},
   "source": [
    "The multiple-dispatch capability of Julia makes design patterns in Julia quite different. First of all, Julia\n",
    "does not have classes. Instead, it has Structs, which can be thought of as composite \"types\", on which\n",
    "functions can be written in order to transform such struct. Hence, a struct is not like a class where one defines methods,\n",
    "but it's more like an \"pure\" object with properties, and to which functions are applied to.\n",
    "\n",
    "Again, while in OOP a class will generate objects that have \"methods\" inside of it. In Julia, there are no methods, it's all functions.\n",
    "And these functions are separated from the structs.\n",
    "The way we tie them together is via multiple dispatch.\n",
    "\n",
    "An example might make things clearer.\n",
    "\n",
    "Think of the family of geometric shapes.\n",
    "Each object will be a shape, such as a square, a rectangle, a triangle, and so on. While the functions\n",
    "will take shapes and perform some action.\n"
   ]
  },
  {
   "cell_type": "code",
   "execution_count": 2,
   "id": "e3bf2746-fef8-4e5d-b5ce-df8dbb4539b2",
   "metadata": {},
   "outputs": [],
   "source": [
    "struct Point2D\n",
    "    x::Real\n",
    "    y::Real\n",
    "end\n",
    "\n",
    "p = Point2D(1, 1);"
   ]
  },
  {
   "cell_type": "markdown",
   "id": "3025385a-60f5-4b2c-a4e9-5dc686cbe7be",
   "metadata": {},
   "source": [
    "The structs in Julia are by default immutable. This allows for more optimized code. Yet, if one needs,\n",
    "the struct can be made mutable, by simply writing `mutable struct`.\n",
    "Note also that whenever we define a struct, it already comes with a constructor function (e.g. `Point2D()`).\n",
    "But this can be modified, as we are going to show shortly.\n",
    "\n",
    "We can access the properties of a struct with the `p.x` notation, or using `getproperty(p, :x)`.\n",
    "If you wish to know what are the properties of an object, just do `propertynames(p)`."
   ]
  },
  {
   "cell_type": "markdown",
   "id": "0732dd06-e52b-41f6-818c-cec0b42ee9d3",
   "metadata": {},
   "source": [
    "Let's define the abstract type `Shape`. This is useful, because it works as a hierarchical type, allowing us to write functions\n",
    "that work for every struct of \"hypertype\" `Shape`."
   ]
  },
  {
   "cell_type": "code",
   "execution_count": 6,
   "id": "24abfab0-3915-447f-a73f-287fb4615f26",
   "metadata": {},
   "outputs": [],
   "source": [
    "abstract type Shape end"
   ]
  },
  {
   "cell_type": "markdown",
   "id": "92c98187-c7f5-485c-a250-e79d9297475f",
   "metadata": {},
   "source": [
    "Next, let's create some instances of shapes. "
   ]
  },
  {
   "cell_type": "code",
   "execution_count": 7,
   "id": "e366f556-df85-494c-9881-ffeac058e008",
   "metadata": {},
   "outputs": [],
   "source": [
    "mutable struct Square <: Shape\n",
    "    center::Point2D\n",
    "    length::Real\n",
    "    Square(center, length) = length ≥ 0 ? new(center, length) : error(\"length should be greater or equal than 0.\")\n",
    "end\n",
    "\n",
    "□ = Square(p, 10);"
   ]
  },
  {
   "cell_type": "markdown",
   "id": "26d98f1e-9df7-4182-b0df-11e044e916ca",
   "metadata": {},
   "source": [
    "The `new()` is a special function that allows one to construct the object from within the struct. We need to do so \n",
    "because the struct is not yet defined, hence the need for the `new`."
   ]
  },
  {
   "cell_type": "code",
   "execution_count": 8,
   "id": "9f924d17-f61a-43ae-869f-99637fc82836",
   "metadata": {},
   "outputs": [],
   "source": [
    "mutable struct Rectangle <: Shape\n",
    "    center::Point2D\n",
    "    height::Real\n",
    "    width::Real\n",
    "    Rectangle(center, height, width) = height ≥ 0 & width ≥ 0 ? new(center, height, width) : error(\"height and width should be greater or equal than 0.\")\n",
    "end\n",
    "\n",
    "height(s::Rectangle) = s.height\n",
    "width(s::Rectangle)  = s.width\n",
    "\n",
    "height(s::Square) = s.length\n",
    "width(s::Square)  = s.length\n",
    "\n",
    "area(s::Shape)    = width(s) + height(s)\n",
    "sumshapes(s1::Shape, s2::Shape) = area(s1) + area(s2);"
   ]
  },
  {
   "cell_type": "code",
   "execution_count": null,
   "id": "1923d1c5-bf61-4602-8c0a-f138765f9569",
   "metadata": {},
   "outputs": [],
   "source": []
  },
  {
   "cell_type": "code",
   "execution_count": null,
   "id": "4135f5d0-d180-4fe2-9adc-5c96325419b9",
   "metadata": {},
   "outputs": [],
   "source": []
  }
 ],
 "metadata": {
  "kernelspec": {
   "display_name": "julia 1.7.1",
   "language": "julia",
   "name": "julia-1.7"
  },
  "language_info": {
   "file_extension": ".jl",
   "mimetype": "application/julia",
   "name": "julia",
   "version": "1.7.1"
  }
 },
 "nbformat": 4,
 "nbformat_minor": 5
}
