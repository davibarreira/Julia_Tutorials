{
 "cells": [
  {
   "cell_type": "markdown",
   "id": "87bb44c1-7343-4d8c-8a25-ba6a6c583e3a",
   "metadata": {},
   "source": [
    "# Metaprogramação em Julia\n",
    "Esse tutorial é baseado no Workshop em Metaprogramming de 2021 da JuliaCon ministrado por \n",
    "David P. Sanders. O material do workshop pode ser encontrado [neste repositório](https://github.com/dpsanders/Metaprogramming_JuliaCon_2021).\n"
   ]
  },
  {
   "cell_type": "code",
   "execution_count": 1,
   "id": "0cb27d5f-34fe-4220-9b02-e9c7cfa148cc",
   "metadata": {
    "tags": []
   },
   "outputs": [
    {
     "name": "stderr",
     "output_type": "stream",
     "text": [
      "\u001b[32m\u001b[1m  Activating\u001b[22m\u001b[39m project at `~/Main/EMAp/Julia_Tutorials/MetaProgramming`\n"
     ]
    }
   ],
   "source": [
    "using Pkg\n",
    "Pkg.activate(\".\")\n",
    "using StatsBase: sample\n",
    "using Random"
   ]
  },
  {
   "cell_type": "markdown",
   "id": "638aacd5-2ceb-49e7-8e28-f7fd6fecc786",
   "metadata": {},
   "source": [
    "## Introdução\n",
    "\n",
    "Metaprogramação consiste em utilizar a própria linguagem de programação para escrever e manipular código dela mesma, e ainda\n",
    "avaliar este código. Metaprogramação não é algo presente em toda linguagem. Felizmente, em Julia temos essa possibilidade,\n",
    "o que nos permite gerar código de maneira bastante sofisticada.\n",
    "\n",
    "### Exemplo Inicial\n",
    "\n",
    "Vamos começar com um exemplo bastante simples. Suponha que você tem uma lista de variáveis que recebem um valor aleatório.\n",
    "Você então que descobrir qual dessas variáveis contém um certo valor. No código abaixo, nós amostramos sem reposição\n",
    "os valores 1 até 5, e colocamos dentro das variáveis `a`, `b`, `c`, `d` e `e`. Asssim, de antemão, nós não sabemos\n",
    "qual valor está contido em cada uma delas. Como podemos descobrir, por exemplo, qual variável contém o valor 1?"
   ]
  },
  {
   "cell_type": "code",
   "execution_count": 2,
   "id": "6e576d9b-2edf-42e2-bc4b-81d8a4f53667",
   "metadata": {},
   "outputs": [],
   "source": [
    "Random.seed!(7)\n",
    "a,b,c,x,y = sample(1:5, 5, replace=false);"
   ]
  },
  {
   "cell_type": "markdown",
   "id": "2354d5c4-1a23-4cb4-bbe0-17baececcd16",
   "metadata": {},
   "source": [
    "Para descobrir quem tem o valor 1, podemos ir printando o valor de cada uma junto com um `if`. Porém, percebemos\n",
    "que teríamos que realizar um tipo de trabalho \"manual\". Por exemplo:"
   ]
  },
  {
   "cell_type": "code",
   "execution_count": 3,
   "id": "bca66863-d15e-45a9-8586-fb638a2a6220",
   "metadata": {},
   "outputs": [
    {
     "name": "stdout",
     "output_type": "stream",
     "text": [
      "4\n"
     ]
    }
   ],
   "source": [
    "for (i,v) in enumerate([a,b,c,x,y])\n",
    "    v == 1 ? println(i) : nothing\n",
    "end"
   ]
  },
  {
   "cell_type": "markdown",
   "id": "deb01922-12fe-4e8a-b65e-ea7ca557decf",
   "metadata": {},
   "source": [
    "O código mostrou que a quarta variável é que contém o valor 1. Agora olhamos na nossa lista `[a,b,c,x,y]` e vemos que a quarta variável é `x`. Logo ela contém o valor 1. Veja que o trabalho \"manual\" foi que nós tivemos que olhar qual era a variável na lista. E se quisermos evitar esse trabalho \"manual\" de olhar na lista nós mesmos? Como \"printar\" o nome na variável na tela?\n",
    "Bem, sem metaprogramção, uma solução seria fazer isso na \"força bruta\":"
   ]
  },
  {
   "cell_type": "code",
   "execution_count": 4,
   "id": "5e34266d-7677-4999-ab4c-92003fd3bdc9",
   "metadata": {},
   "outputs": [
    {
     "name": "stdout",
     "output_type": "stream",
     "text": [
      "x"
     ]
    }
   ],
   "source": [
    "a == 1 ? print(\"a\") : nothing\n",
    "b == 1 ? print(\"b\") : nothing\n",
    "c == 1 ? print(\"c\") : nothing\n",
    "x == 1 ? print(\"x\") : nothing\n",
    "y == 1 ? print(\"y\") : nothing"
   ]
  },
  {
   "cell_type": "markdown",
   "id": "d2659470-2b7c-4184-9690-f061ce3e2e2d",
   "metadata": {
    "jp-MarkdownHeadingCollapsed": true,
    "tags": []
   },
   "source": [
    "Conseguimos, mas tivemos que escrever um monte de linhas de código. Para cinco variáveis isso não é problema, mas se tivéssemos \n",
    "bem mais variáveis, isso se tornaria tedioso.\n",
    "É nesse tipo de problema (e coisa bem mais complexas), que a metaprogramação nos ajuda. Vamos começar\n",
    "usando o comando `names(Main)`. A função `name()` recebe o nome de um `module`, e rotorna todos os nomes sendo exportados por aquele\n",
    "`module`. No caso, `Main` é o `module` padrão que estamos utilizando. O `Main`, por padrão, exporta `Base`, `Core` e `Main`, e além disso,\n",
    "´ele exporta toda variável criada nele. Assim, ao usar `names(Main)`, vamos pegar todos os resultados a partir do quarto índice."
   ]
  },
  {
   "cell_type": "code",
   "execution_count": 5,
   "id": "84534a82-c518-41ad-b5de-7a1a232e8050",
   "metadata": {},
   "outputs": [
    {
     "data": {
      "text/plain": [
       "8-element Vector{Symbol}:\n",
       " :Base\n",
       " :Core\n",
       " :Main\n",
       " :a\n",
       " :b\n",
       " :c\n",
       " :x\n",
       " :y"
      ]
     },
     "execution_count": 5,
     "metadata": {},
     "output_type": "execute_result"
    }
   ],
   "source": [
    "names(Main)"
   ]
  },
  {
   "cell_type": "code",
   "execution_count": 6,
   "id": "bbb65200-2338-4d9a-bfc9-ea74cf70ef44",
   "metadata": {},
   "outputs": [
    {
     "data": {
      "text/plain": [
       "5-element Vector{Symbol}:\n",
       " :a\n",
       " :b\n",
       " :c\n",
       " :x\n",
       " :y"
      ]
     },
     "execution_count": 6,
     "metadata": {},
     "output_type": "execute_result"
    }
   ],
   "source": [
    "names(Main)[4:end]"
   ]
  },
  {
   "cell_type": "markdown",
   "id": "d3a349d6-1f7f-4f88-b5fe-35deb2837b60",
   "metadata": {},
   "source": [
    "Muito bem, conseguimos de maneira rápida o nome de nossas variáveis. Mas como fazemos para avaliar o valor em cada uma delas?\n",
    "Novamente, sem metaprogramação, o `names(Main)` não será muito útil, porém, com metaprogramação, é bastante. Abaixo iremos apresentar\n",
    "a solução, e na seção seguinte iremos explicar melhor o que foi feito e os básicos da metaprogramação em Julia."
   ]
  },
  {
   "cell_type": "code",
   "execution_count": 7,
   "id": "9f085690-b1ab-4d66-96f2-04e4dc0d9915",
   "metadata": {},
   "outputs": [
    {
     "name": "stdout",
     "output_type": "stream",
     "text": [
      "x\n"
     ]
    }
   ],
   "source": [
    "for v in names(Main)[4:end]\n",
    "    eval(v) == 1 ? println(v) : nothing\n",
    "end"
   ]
  },
  {
   "cell_type": "markdown",
   "id": "626c0485-6e4f-497a-ad0a-0e42ca0683e9",
   "metadata": {},
   "source": [
    "## Básicos da Metaprogramação\n",
    "\n",
    "Vimos que o código anterior foi capaz de facilmente retornar a variável com o valor 1. Além disso, é facíl ver que ele funciona imediatamente\n",
    "para casos envolvendo mais variáveis, sem precisar ser modificado. O que não é verdade para as outras duas soluções que apresentamos.\n",
    "A nossa solução envolveu o uso de uma função chamada `eval`, que é uma função do módulo `Core`, ou seja, `eval` é o mesmo que\n",
    "`Core.eval`.\n",
    "Como você já deve ter adivinhado, a função `eval` recebe uma \"expressão\" em Julia, e avalia essa \"expressão\". Mas, afinal,\n",
    "o que é uma \"expressão\"? Antes de responder a essa pergunta, precisamos introduzir o conceito de um símbolo.\n",
    "\n",
    "### Representando Variáveis com Símbolos\n",
    "\n",
    "Para que uma linguagem de programação possa realizar metaprogramação, é necessário que de alguma forma ela seja capaz\n",
    "de distinguir quando seu código está sendo executado versus quando seu código está sendo referenciado, ou seja,\n",
    "ela deve ser capaz de representar seu próprio código como dado. Por exemplo, se eu escrever `x = 1`, é preciso\n",
    "representar que uma variável chamada \"x\" contém o valor 1... Curiosamente, acabamos de exemplificar essa situação!\n",
    "Quando estamos escrevendo em português, utilizamos aspas como uma maneira de se referir a palavra em si, invés de\n",
    "referenciar o que ela significa. **Isso é exatamente a idéia de um símbolo!**\n",
    "\n",
    "A linguagem Julia precisa ser capaz\n",
    "de usar aspas, ou seja, hora falar do valor por meio da variável, hora falar da própria variável.\n",
    "Vejamos outro exemplo envolvendo a língua portuguesa.\n",
    "\n",
    "*A palavra \"bonita\" é bonita.*\n",
    "\n",
    "Na frase acima, a mesma palavra aparece com sentidos diferentes. Primeiro ela aparece se referindo a própria palavra, e \n",
    "depois aparece indicado o seu siginificado. Em Julia, as aspas podem ser trocadas por `:`, e agora temos uma situação parecida.\n",
    "`:x` se refere à variável em si, enquanto que `x` é o valor guardado dentro da variável;"
   ]
  },
  {
   "cell_type": "code",
   "execution_count": 8,
   "id": "2ba0049c-1763-4944-b274-75c14f66c6ea",
   "metadata": {},
   "outputs": [
    {
     "data": {
      "text/plain": [
       "(Symbol, Int64)"
      ]
     },
     "execution_count": 8,
     "metadata": {},
     "output_type": "execute_result"
    }
   ],
   "source": [
    "x = 1\n",
    "typeof(:x), typeof(x)"
   ]
  },
  {
   "cell_type": "markdown",
   "id": "c76cd173-2857-4ff9-8e59-7c2bf23c2f2f",
   "metadata": {},
   "source": [
    "Quando escrevemos `x + 1`, o que estamos dizendo é que queremos somar o valor que está em `x` com 1, o que no nosso caso\n",
    "irá retornar o valor 2. Já a expressão `:x + 1`, não faz sentido. Porém, novamente a função `eval` irá nos ajudar."
   ]
  },
  {
   "cell_type": "code",
   "execution_count": 9,
   "id": "8cac3662-e60f-4624-a52b-826f8db67c50",
   "metadata": {},
   "outputs": [
    {
     "data": {
      "text/plain": [
       "true"
      ]
     },
     "execution_count": 9,
     "metadata": {},
     "output_type": "execute_result"
    }
   ],
   "source": [
    "eval(:x) + 1 == x + 1"
   ]
  },
  {
   "cell_type": "markdown",
   "id": "5e96374c-6efd-468e-b107-03a6c17b8915",
   "metadata": {},
   "source": [
    "No código acima, `eval(:x)` está pedindo para que avaliemos o valor que está dentro da variável de nome \"x\", que é o valor 1. Ou seja,\n",
    "`eval(:x)` é o mesmo que `x`."
   ]
  },
  {
   "cell_type": "markdown",
   "id": "087a88ef-4cd1-4d8a-984e-7d7f7c7e2647",
   "metadata": {},
   "source": [
    "### Construíndo e Avaliando Expressões\n",
    "\n",
    "Podemos pensar que todo código em Julia se resume a uma combinação de símbolos e valores literais. \n",
    "Essa combinação de símbolos e valores literais é chamada de expressão.\n",
    "\n",
    "Na prática, uma expressão é um struct do tipo \n",
    "do tipo `Expr`, conténdo um campo `head` e um campo `args`. O campo `head` sempre contém um símbolo (`Symbol`),\n",
    "enquanto que `args` é um array contendo símbolos, valores literais ou outras expressões (\"it's all symbols and values all the way down\").\n",
    "O `head` determina o tipo da expressão, enquanto os demais argumentos representam o que de fato a expressão faz.\n",
    "\n",
    "Vamos ver um exemplo:\n"
   ]
  },
  {
   "cell_type": "code",
   "execution_count": 10,
   "id": "0322e10f-08d1-4a60-ac88-d1addb3b42b5",
   "metadata": {},
   "outputs": [
    {
     "data": {
      "text/plain": [
       "3"
      ]
     },
     "execution_count": 10,
     "metadata": {},
     "output_type": "execute_result"
    }
   ],
   "source": [
    "1 + 2"
   ]
  },
  {
   "cell_type": "markdown",
   "id": "636f2890-ae5f-4fdb-8d0b-4f5d1ea400ae",
   "metadata": {},
   "source": [
    "A linha de código acima é interpretada em Julia como uma expressão com os argumentos `1`, `2` e `:+`, onde os dois primeiros são valores\n",
    "literais e o último é um símbolo. Essa mesma expressão pode ser representada por `Expr(:call, :+, 1, 2)`. Ou seja, é sua `head` contém\n",
    "o símbolo `:call`, representando justamente que essa expressão está sendo avaliada."
   ]
  },
  {
   "cell_type": "code",
   "execution_count": 11,
   "id": "71ad7b7e-97c7-4096-82f6-b7ac64c1699b",
   "metadata": {},
   "outputs": [
    {
     "data": {
      "text/plain": [
       "(:call, Any[:+, 1, 2])"
      ]
     },
     "execution_count": 11,
     "metadata": {},
     "output_type": "execute_result"
    }
   ],
   "source": [
    "ex = Expr(:call, :+, 1, 2)\n",
    "\n",
    "ex.head, ex.args"
   ]
  },
  {
   "cell_type": "markdown",
   "id": "624b1154-b925-456d-a4f5-8b838e644c5b",
   "metadata": {},
   "source": [
    "Assim, uma vez que temos uma expressão, podemos passar utilizar a função `eval`, que ela irá\n",
    "executar o que está descrito na expressão.\n",
    "\n",
    "Como vimos no exemplo acima, a estrutura de uma expressão costuma ser mais complexa do que a forma \"natural\"\n",
    "com a qual escrevemos código. Porém, da mesma forma que um símbolo é representado usando `:`, podemos\n",
    "utilizar o mesmo para expressões, e.g. `:(1 + 2 / 2)`.\n",
    "Mais ainda, usando a função `Meta.parse` podemos transformar strings em expressões."
   ]
  },
  {
   "cell_type": "code",
   "execution_count": 12,
   "id": "783fdb2c-2e2c-4b18-b3f5-b487142f9f90",
   "metadata": {},
   "outputs": [
    {
     "data": {
      "text/plain": [
       ":(1 + 2 / 2)"
      ]
     },
     "execution_count": 12,
     "metadata": {},
     "output_type": "execute_result"
    }
   ],
   "source": [
    "ex_string = \"1 + 2 / 2\"\n",
    "ex = Meta.parse(ex_string)"
   ]
  },
  {
   "cell_type": "markdown",
   "id": "031659ef-928d-452c-92d8-cfbe64fd7fea",
   "metadata": {},
   "source": [
    "Caso queiramos entender melhor como está estruturada uma expressão, podemos utilizar a função `dump()` ou a função `Meta.show_sexpr`."
   ]
  },
  {
   "cell_type": "code",
   "execution_count": 13,
   "id": "20be7142-1b5c-4883-b460-77dbef79217d",
   "metadata": {},
   "outputs": [
    {
     "name": "stdout",
     "output_type": "stream",
     "text": [
      "Expr\n",
      "  head: Symbol call\n",
      "  args: Array{Any}((3,))\n",
      "    1: Symbol +\n",
      "    2: Int64 1\n",
      "    3: Expr\n",
      "      head: Symbol call\n",
      "      args: Array{Any}((3,))\n",
      "        1: Symbol /\n",
      "        2: Int64 2\n",
      "        3: Int64 2\n"
     ]
    }
   ],
   "source": [
    "dump(ex)"
   ]
  },
  {
   "cell_type": "code",
   "execution_count": 14,
   "id": "57548c62-174a-456b-aff1-73c9c55d35d7",
   "metadata": {},
   "outputs": [
    {
     "name": "stdout",
     "output_type": "stream",
     "text": [
      "(:call, :+, 1, (:call, :/, 2, 2))"
     ]
    }
   ],
   "source": [
    "Meta.show_sexpr(ex)"
   ]
  },
  {
   "cell_type": "markdown",
   "id": "bef86588-7c08-4c51-a2b8-4d3af756459b",
   "metadata": {},
   "source": [
    "Usando essas funções, fica claro, por exemplo, que nosso código primeiro avalia a divisão (`2 / 2`), para depois realizar a soma. \n",
    "Assim, esses comando podem ser úteis caso você tenha dúvida de como Julia está processando uma linha de código específica."
   ]
  },
  {
   "cell_type": "markdown",
   "id": "d575d09f-73bc-4a49-a47d-f04a32fcb13c",
   "metadata": {},
   "source": [
    "## Outro Exemplo\n",
    "Imagine que um colega seu possui um monte de scripts em Julia. O que você gostaria de fazer é rodar o código dele,\n",
    "e sempre que uma variável do tipo `Importante` for gerada, você quer salvar o nome e valor dessa variável numa pasta.\n",
    "Com metaprogramação, podemos passar o script do nosso como uma expressão, e executa cada comando individualmente,\n",
    "tentando se o tipo da variável é o correto."
   ]
  },
  {
   "cell_type": "code",
   "execution_count": 15,
   "id": "9d2ada1e-c9dc-4c95-8de4-063577690c6d",
   "metadata": {},
   "outputs": [
    {
     "data": {
      "text/plain": [
       "2-element Vector{Any}:\n",
       " (:x, 0.4)\n",
       " (:z, 0.8)"
      ]
     },
     "execution_count": 15,
     "metadata": {},
     "output_type": "execute_result"
    }
   ],
   "source": [
    "codigo = \"\"\"\n",
    "#### Código do seu amigo\n",
    "struct Importante valor::Real end\n",
    "y = 0.4\n",
    "x = 1 * y\n",
    "x = Importante(x)\n",
    "x.valor + y\n",
    "z = Importante(x.valor + y)\n",
    "store = z.valor + y + x.valor\n",
    "\"\"\"\n",
    "\n",
    "module Amigo\n",
    "\n",
    "export x\n",
    "x = 1\n",
    "end\n",
    "\n",
    "store = []\n",
    "for code in split(codigo,\"\\n\")\n",
    "    ex = Meta.parse(code)\n",
    "    if ex !== nothing\n",
    "        Core.eval(Amigo, ex)\n",
    "        if String(ex.head) == \"=\"\n",
    "            if typeof(Core.eval(Amigo,ex.args[1])) <: Amigo.Importante\n",
    "                push!(store,(ex.args[1],Core.eval(Amigo, ex.args[1]).valor))\n",
    "            end\n",
    "        end\n",
    "    end\n",
    "end\n",
    "\n",
    "store"
   ]
  },
  {
   "cell_type": "markdown",
   "id": "8912c842-77ab-4a5d-8843-aab7b208a710",
   "metadata": {},
   "source": [
    "O código funciona! Mas você deve estar se perguntando o que esse `module Amigo` está fazendo? O seu proprósito é isolar \n",
    "o código que está rodando do seu amigo, com o código que estamos rodando. Por exemplo, o código do seu amigo\n",
    "termina com a linha `store = z.valor + y + x.valor`. Ou seja, ele está definindo uma variável `store`, que tem o mesmo\n",
    "nome da variável que estamos usando para rodar o nosso código. Se usássemos o `Core.eval(ex)`, sem o `Amigo`, isso\n",
    "acabaria alterando o valor da nossa variável `store`, causando problemas.\n",
    "\n",
    "Você pode ainda estar se perguntando, *Mas afinal isso tem realmente algum uso prático?!* E a reposta é **sim**.\n",
    "Inclusive, o tipo de problema que resolvemos no exmemplo acima é baseado num problema real que tive que\n",
    "resolver quando programando o pacote `NotebookToLaTeX.jl`. Esse pacote converte notebooks Jupyter e Pluto para arquivos em LaTeX.\n",
    "Um dos desafios com notebooks Pluto é que eles são nada mais que scripts em Julia, isto é, arquivos `.jl`.\n",
    "Diferente do Jupyter, o Pluto não guarda os plots gerados dentro dele, sendo assim necessário rodar o código para gerar as figuras.\n",
    "\n",
    "Meu desafio então era descobrir em que momento um plot estava sendo gerado, para poder então salvar a figura em uma pasta para\n",
    "que o arquivo LaTeX pudesse ler.\n",
    "Similar ao que tivemos no exemplo acima, meu código rodava cada expressão do notebook e checava para ver se era do tipo adequado.\n",
    "Foi inclusive resolvendo esse problema que a comunidade de Julia sugeriu o uso de `module` como maneira de evitar\n",
    "variáveis trocando valores em lugares indesejados."
   ]
  },
  {
   "cell_type": "markdown",
   "id": "2954ebb5-c07f-4446-a58e-9180680ca4e4",
   "metadata": {},
   "source": [
    "## Macros\n",
    "Essa seção se baseia [nesse excelente tutorial](https://www.youtube.com/watch?v=JePBb9-ychE&t=130s).\n",
    "\n",
    "Macros são o equivalente de funções em metaprogramação. Em Julia, usa-se `@` para indicar que algo é uma função.\n",
    "Veja o exemplo abaixo da macro `@show`."
   ]
  },
  {
   "cell_type": "code",
   "execution_count": 16,
   "id": "f87d999d-c3c0-4350-a894-5761b729fa76",
   "metadata": {},
   "outputs": [
    {
     "name": "stdout",
     "output_type": "stream",
     "text": [
      "y + x = 15\n"
     ]
    }
   ],
   "source": [
    "x = 10\n",
    "y = 5\n",
    "\n",
    "@show y + x;"
   ]
  },
  {
   "cell_type": "markdown",
   "id": "901f806f-84ce-4a48-857a-4d223f4685bb",
   "metadata": {},
   "source": [
    "A macro está incrementando o nosso código com mais código, e rodando. Podemos usar a macro `@macroexpand` para\n",
    "mostrar exatamente o que está sendo executado quando rodamos `@show y + x;`."
   ]
  },
  {
   "cell_type": "code",
   "execution_count": 17,
   "id": "dcf01c73-286f-470c-9fe5-b25600e84c46",
   "metadata": {},
   "outputs": [
    {
     "data": {
      "text/plain": [
       "quote\n",
       "    Base.println(\"y + x = \", Base.repr(begin\n",
       "                \u001b[90m#= show.jl:1047 =#\u001b[39m\n",
       "                local var\"#41#value\" = y + x\n",
       "            end))\n",
       "    var\"#41#value\"\n",
       "end"
      ]
     },
     "execution_count": 17,
     "metadata": {},
     "output_type": "execute_result"
    }
   ],
   "source": [
    "@macroexpand @show y + x"
   ]
  },
  {
   "cell_type": "markdown",
   "id": "2150fa7b-9570-48e9-b9cc-a94f0f6d0680",
   "metadata": {},
   "source": [
    "Veja que a expressão \"quote\" simboliza que essa expressão é código em Julia. Ou seja, poderíamos copiar e \n",
    "colar o que está dentro desse \"quote\" no nosso REPL. A segunda expressão estranha é esse comentário\n",
    "\"#= show.jl:955 =#\". Neste caso, esse comentário está informando em que linha do source code está definida essa função.\n",
    "Por fim, temos `var\"#788#value\"`. Isso é o nome da variável que o código criou. Esse nome é estranho\n",
    "justamente com o propósito de evitar que já tenha essa variável no se código."
   ]
  },
  {
   "cell_type": "markdown",
   "id": "4372ccd1-dd79-4a69-be5c-89754021d04b",
   "metadata": {},
   "source": [
    "Vamos agora definir nossa primeira macro."
   ]
  },
  {
   "cell_type": "code",
   "execution_count": 18,
   "id": "7c1379ca-9f3d-4568-b1d2-cb41d32d0d7f",
   "metadata": {},
   "outputs": [
    {
     "data": {
      "text/plain": [
       "(1, 0.8414709848078965, 0.7456241416655579)"
      ]
     },
     "execution_count": 18,
     "metadata": {},
     "output_type": "execute_result"
    }
   ],
   "source": [
    "### IMPORTANTE - Essa macro está incorreta! Explicaremos abaixo.\n",
    "macro inception(f, ex)\n",
    "    return quote\n",
    "        x = $ex\n",
    "        y = $f(x)\n",
    "        z = $f(y)\n",
    "        x, y, z\n",
    "    end\n",
    "end\n",
    "\n",
    "@inception sin 1"
   ]
  },
  {
   "cell_type": "markdown",
   "id": "5967542a-b7e0-473e-88da-cfed7bac782f",
   "metadata": {},
   "source": [
    "Vamos explicar o que está acontecendo. A macro recebe dois argumentos, e retorna uma\n",
    "expressão em Julia, que está dentro do bloco `quote`. A macro irá rodar essa expressão ao final.\n",
    "O `$ex` e `$f` agem como interpoladores em strings, ou seja, o usuário passa `f` e interpolamos\n",
    "o `f` do usuário dentro da nossa expressão. Por fim, note que nosso bloco `quote` não tem o `return`.\n",
    "Isso é deliberado e necessário, pois queremos que ele retorne essas variáveis e não a expressão `return x, y, z`.\n",
    "Se você colocar o `return`, você não conseguirá usar os valores que saem dessa macro (sugiro testar caso não tenha entendido).\n",
    "\n",
    "A macro acima parece funcionar, mas na verdade ela é defeituosa.\n",
    "Qual o defeito? Veja,"
   ]
  },
  {
   "cell_type": "code",
   "execution_count": 19,
   "id": "6ec309bc-45b3-4e96-9845-3afe9c7b4cb6",
   "metadata": {},
   "outputs": [
    {
     "ename": "LoadError",
     "evalue": "UndefVarError: #45#x not defined",
     "output_type": "error",
     "traceback": [
      "UndefVarError: #45#x not defined",
      "",
      "Stacktrace:",
      " [1] top-level scope",
      "   @ In[18]:4",
      " [2] eval",
      "   @ ./boot.jl:373 [inlined]",
      " [3] include_string(mapexpr::typeof(REPL.softscope), mod::Module, code::String, filename::String)",
      "   @ Base ./loading.jl:1196"
     ]
    }
   ],
   "source": [
    "x = 1\n",
    "\n",
    "@inception sin x"
   ]
  },
  {
   "cell_type": "markdown",
   "id": "4f82fa04-144f-4ae1-8aeb-9184c88214f2",
   "metadata": {},
   "source": [
    "Esse erro é estranho. Ele diz que a variável `##220#x`não está definida. Mas de fato, não definimos isso em canto nenhum.\n",
    "Vamos ver o que está acontecendo por debaixo dos panos."
   ]
  },
  {
   "cell_type": "code",
   "execution_count": 20,
   "id": "a813c432-3fe6-4621-8a55-8672fd595bb3",
   "metadata": {},
   "outputs": [
    {
     "data": {
      "text/plain": [
       "quote\n",
       "    \u001b[90m#= In[18]:4 =#\u001b[39m\n",
       "    var\"#48#x\" = 1\n",
       "    \u001b[90m#= In[18]:5 =#\u001b[39m\n",
       "    var\"#49#y\" = Main.sin(var\"#48#x\")\n",
       "    \u001b[90m#= In[18]:6 =#\u001b[39m\n",
       "    var\"#50#z\" = Main.sin(var\"#49#y\")\n",
       "    \u001b[90m#= In[18]:7 =#\u001b[39m\n",
       "    (var\"#48#x\", var\"#49#y\", var\"#50#z\")\n",
       "end"
      ]
     },
     "execution_count": 20,
     "metadata": {},
     "output_type": "execute_result"
    }
   ],
   "source": [
    "@macroexpand(@inception sin 1)"
   ]
  },
  {
   "cell_type": "markdown",
   "id": "83f44a0d-632c-467a-a616-88b07911cde2",
   "metadata": {},
   "source": [
    "Nossa macro está criando essas variáveis com nomes estranhos, e.g. `var\"#68#x`. O que está havendo? \n",
    "Isso na verdade é um artifício que Julia faz para nos ajudar. Através da função `gensym()`, Julia cria\n",
    "essas variáveis com nomes estranhos para evitar que essas variáveis criadas na macro se confundam com\n",
    "as variáveis que já temos no nosso código.\n",
    "\n",
    "Para ver porque isso é necessário, vamos usar a função `esc()`.\n",
    "Essa função força a macro a não usar as variáveis `gensym`."
   ]
  },
  {
   "cell_type": "code",
   "execution_count": 21,
   "id": "bb736544-20c8-4fc1-b69e-358702579100",
   "metadata": {},
   "outputs": [
    {
     "data": {
      "text/plain": [
       "(1, 0.8414709848078965, 0.7456241416655579)"
      ]
     },
     "execution_count": 21,
     "metadata": {},
     "output_type": "execute_result"
    }
   ],
   "source": [
    "macro inception(f, ex)\n",
    "    return esc(quote\n",
    "        x = $ex\n",
    "        y = $f(x)\n",
    "        z = $f(y)\n",
    "        x, y, z\n",
    "    end)\n",
    "end\n",
    "z = 10\n",
    "x = 1\n",
    "@inception sin x"
   ]
  },
  {
   "cell_type": "markdown",
   "id": "890ac892-ad8a-48e6-9dad-747a4142c525",
   "metadata": {},
   "source": [
    "Parce funcionar, porém... "
   ]
  },
  {
   "cell_type": "code",
   "execution_count": 22,
   "id": "424e1f1a-f2be-44be-a251-6893fbaeafac",
   "metadata": {},
   "outputs": [
    {
     "data": {
      "text/plain": [
       "0.7456241416655579"
      ]
     },
     "execution_count": 22,
     "metadata": {},
     "output_type": "execute_result"
    }
   ],
   "source": [
    "z"
   ]
  },
  {
   "cell_type": "markdown",
   "id": "68144ff0-5288-48bf-a106-7c3053fa7eeb",
   "metadata": {},
   "source": [
    "Nossa macro alterou o valor da variável `z`!  Esse comportamento pode não ser desejável, pois perderíamos o controle de quais\n",
    "variáveis estão mudando quando rodamos uma macro, principalmente macros definidas em outros pacotes.\n",
    "Como resolver esses problemas? Ou seja, como rodar `@inception sin x` sem alterar os valores\n",
    "de variáveis fora da macro?\n",
    "\n",
    "Não existe uma única resposta, mas eis uma solução elegante."
   ]
  },
  {
   "cell_type": "code",
   "execution_count": 23,
   "id": "ced0ce55-2c7e-444c-bcc3-e6275103ab96",
   "metadata": {},
   "outputs": [
    {
     "data": {
      "text/plain": [
       "((1, 0.8414709848078965, 0.7456241416655579), 10)"
      ]
     },
     "execution_count": 23,
     "metadata": {},
     "output_type": "execute_result"
    }
   ],
   "source": [
    "macro inception(f, ex)\n",
    "    f = esc(f)\n",
    "    ex = esc(ex)\n",
    "    return quote\n",
    "        x = $ex\n",
    "        y = $f(x)\n",
    "        z = $f(y)\n",
    "        x, y, z\n",
    "    end\n",
    "end\n",
    "z = 10\n",
    "x = 1\n",
    "r = @inception sin x\n",
    "\n",
    "r,z"
   ]
  },
  {
   "cell_type": "markdown",
   "id": "b7529398-613d-4084-a8c9-46bd83596b68",
   "metadata": {},
   "source": [
    "### Manipulando Expressões\n",
    "\n",
    "Já vimos como criar expressões. Como podemos manipular essa expressões?\n",
    "Para tal, vamos usar um pacote chamado MacroTools."
   ]
  },
  {
   "cell_type": "code",
   "execution_count": 24,
   "id": "bc7d89a1-512c-461a-8445-e6fac10ac3a5",
   "metadata": {},
   "outputs": [],
   "source": [
    "using MacroTools"
   ]
  },
  {
   "cell_type": "markdown",
   "id": "a8f9fa7a-8063-4b6a-9074-51c9de450fe3",
   "metadata": {},
   "source": [
    "Imagine que recebemos uma expressão contendo um\n",
    "struct. Como fazemos para extrair o nome dessa struct,\n",
    "e seus campos?"
   ]
  },
  {
   "cell_type": "code",
   "execution_count": 25,
   "id": "c3f7db99-30a5-4ce2-95a7-9c59ca2ef5a8",
   "metadata": {},
   "outputs": [
    {
     "data": {
      "text/plain": [
       "quote\n",
       "    \u001b[90m#= In[25]:2 =#\u001b[39m\n",
       "    struct Foo\n",
       "        \u001b[90m#= In[25]:3 =#\u001b[39m\n",
       "        x::Int\n",
       "        \u001b[90m#= In[25]:4 =#\u001b[39m\n",
       "        y\n",
       "    end\n",
       "end"
      ]
     },
     "execution_count": 25,
     "metadata": {},
     "output_type": "execute_result"
    }
   ],
   "source": [
    "ex = quote\n",
    "  struct Foo\n",
    "    x::Int\n",
    "    y\n",
    "  end\n",
    "end"
   ]
  },
  {
   "cell_type": "code",
   "execution_count": 26,
   "id": "83951686-955b-4896-a05d-016067c16d65",
   "metadata": {},
   "outputs": [
    {
     "data": {
      "text/plain": [
       "2-element Vector{Any}:\n",
       " :(\u001b[90m#= In[25]:2 =#\u001b[39m)\n",
       " :(struct Foo\n",
       "      \u001b[90m#= In[25]:3 =#\u001b[39m\n",
       "      x::Int\n",
       "      \u001b[90m#= In[25]:4 =#\u001b[39m\n",
       "      y\n",
       "  end)"
      ]
     },
     "execution_count": 26,
     "metadata": {},
     "output_type": "execute_result"
    }
   ],
   "source": [
    "ex.args"
   ]
  },
  {
   "cell_type": "markdown",
   "id": "b4dd21f1-a62a-4276-93c3-4f7b11ba0dee",
   "metadata": {},
   "source": [
    "Vemos que temos um vetor onde o primeiro elemento é na\n",
    "verdade somente uma expressão indicando a linha do código.\n",
    "Assim, para extrair o nome do struct, queremos olhar a segunda\n",
    "expressão."
   ]
  },
  {
   "cell_type": "code",
   "execution_count": 27,
   "id": "958755af-3d65-486a-ac53-0577e9923bea",
   "metadata": {},
   "outputs": [
    {
     "data": {
      "text/plain": [
       ":Foo"
      ]
     },
     "execution_count": 27,
     "metadata": {},
     "output_type": "execute_result"
    }
   ],
   "source": [
    "ex.args[2].args[2]"
   ]
  },
  {
   "cell_type": "code",
   "execution_count": 28,
   "id": "c4c526a5-5390-4395-8b40-7de118d1221a",
   "metadata": {},
   "outputs": [
    {
     "data": {
      "text/plain": [
       "(:(x::Int), :y)"
      ]
     },
     "execution_count": 28,
     "metadata": {},
     "output_type": "execute_result"
    }
   ],
   "source": [
    "ex.args[2].args[3].args[2],ex.args[2].args[3].args[4]"
   ]
  },
  {
   "cell_type": "markdown",
   "id": "135d7590-2da0-48d0-ab76-04df63d353a8",
   "metadata": {},
   "source": [
    "Isso não foi nada fácil. Precisamos constantemente pular as\n",
    "expressões que se tratam de linhas.\n",
    "O MacroTools vai facilitar parte do nosso trabalho.\n",
    "Veja, por exemplo, que o uso da função `rmlines` remove\n",
    "as linhas da nossa expressão."
   ]
  },
  {
   "cell_type": "code",
   "execution_count": 29,
   "id": "689f9850-44bb-4974-8ca3-7620ed31ff6c",
   "metadata": {},
   "outputs": [
    {
     "name": "stdout",
     "output_type": "stream",
     "text": [
      "Expr\n",
      "  head: Symbol block\n",
      "  args: Array{Any}((1,))\n",
      "    1: Expr\n",
      "      head: Symbol struct\n",
      "      args: Array{Any}((3,))\n",
      "        1: Bool false\n",
      "        2: Symbol Foo\n",
      "        3: Expr\n",
      "          head: Symbol block\n",
      "          args: Array{Any}((4,))\n",
      "            1: LineNumberNode\n",
      "              line: Int64 3\n",
      "              file: Symbol In[25]\n",
      "            2: Expr\n",
      "              head: Symbol ::\n",
      "              args: Array{Any}((2,))\n",
      "                1: Symbol x\n",
      "                2: Symbol Int\n",
      "            3: LineNumberNode\n",
      "              line: Int64 4\n",
      "              file: Symbol In[25]\n",
      "            4: Symbol y\n"
     ]
    }
   ],
   "source": [
    "dump(rmlines(ex))"
   ]
  },
  {
   "cell_type": "code",
   "execution_count": 30,
   "id": "cd00ff5f-4cef-49d7-843e-c28662957f89",
   "metadata": {},
   "outputs": [
    {
     "name": "stdout",
     "output_type": "stream",
     "text": [
      "((rmlines(ex)).args[1]).args[2] = :Foo\n"
     ]
    },
    {
     "data": {
      "text/plain": [
       "quote\n",
       "    x::Int\n",
       "    y\n",
       "end"
      ]
     },
     "execution_count": 30,
     "metadata": {},
     "output_type": "execute_result"
    }
   ],
   "source": [
    "@show rmlines(ex).args[1].args[2]\n",
    "rmlines(rmlines(ex).args[1].args[3])"
   ]
  },
  {
   "cell_type": "markdown",
   "id": "80d5a4df-f56b-4f87-a2fa-d4fcd870cded",
   "metadata": {},
   "source": [
    "A solução acima não foi perfeita. Veja que precisamos\n",
    "utiliar duas vezes a função `rmlines`. Porém, MacroTools\n",
    "tem outra utilidades que nos serão úteis."
   ]
  },
  {
   "cell_type": "markdown",
   "id": "6d58f577-24e0-4748-866d-8390217a8a64",
   "metadata": {},
   "source": [
    "### Quotation e Quasiquotation\n",
    "\n",
    "Aqui nos baseamos\n",
    "[neste tutorial.](https://github.com/johnmyleswhite/julia_tutorials/blob/master/From%20Macros%20to%20DSLs%20in%20Julia%20-%20Part%201%20-%20Macros.ipynb)\n",
    "\n",
    "Em Julia, a maneira que macros lidam com quotations é diferente\n",
    "do que obtemos quando usamos o operador `:()` ou\n",
    "`quote`. A diferença vai além de simplesmente\n",
    "conter as expressões simbolizando as linhas. O operador\n",
    "`:()` e o `quote` cosutmam fazer o que se chama de quasiquotation, pois\n",
    "eles já interpolam valores, invés de descrever o código em expressões.\n",
    "\n",
    "A distinção é importante, pois como mencionamos, as macro enxergam\n",
    "expressões de forma diferentes. Elas recebem o que chamaremos de\n",
    "\"true quotation\".\n",
    "\n",
    "O exemplo abaixo mostra como o `:()` funciona, versus o que uma \n",
    "macro \"enxerga\" quando passamos a mesma expressão."
   ]
  },
  {
   "cell_type": "code",
   "execution_count": 31,
   "id": "b67a6b3b-f74c-44e6-a8e5-d1f9e19ee419",
   "metadata": {},
   "outputs": [
    {
     "data": {
      "text/plain": [
       "(:(1 + 2), quote\n",
       "    1 + 2\n",
       "end, :(1 + $(Expr(:$, :x))))"
      ]
     },
     "execution_count": 31,
     "metadata": {},
     "output_type": "execute_result"
    }
   ],
   "source": [
    "x = 2\n",
    "\n",
    "(\n",
    "    :(1 + $x),                        # Quasiquotation\n",
    "    rmlines(quote 1 + $x end),   # Quasiquotation\n",
    "    Expr(:call, :+, 1, Expr(:$, :x)), # True quotation\n",
    ")"
   ]
  },
  {
   "cell_type": "markdown",
   "id": "01f7ebb9-778c-4aaf-bd93-4e04f3d0109c",
   "metadata": {},
   "source": [
    "A diferença pode novamente ser vista no exemplo seguinte.\n",
    "Primeiro, o nosso `:(x)` retorna não uma `Expr`,\n",
    "mas sim um Symbol.\n",
    "Já o segundo exemplo nos dá um `QuoteNode`."
   ]
  },
  {
   "cell_type": "code",
   "execution_count": 32,
   "id": "3cde8c92-9e0c-4959-90dc-88c0442515b4",
   "metadata": {},
   "outputs": [
    {
     "data": {
      "text/plain": [
       "(:x, Symbol)"
      ]
     },
     "execution_count": 32,
     "metadata": {},
     "output_type": "execute_result"
    }
   ],
   "source": [
    ":x, typeof(:(x))"
   ]
  },
  {
   "cell_type": "code",
   "execution_count": 33,
   "id": "942b4b0a-14fc-47d6-b743-939f1197c289",
   "metadata": {},
   "outputs": [
    {
     "data": {
      "text/plain": [
       "(:(:x), QuoteNode)"
      ]
     },
     "execution_count": 33,
     "metadata": {},
     "output_type": "execute_result"
    }
   ],
   "source": [
    ":(:x), typeof(:(:x))"
   ]
  },
  {
   "cell_type": "code",
   "execution_count": 34,
   "id": "6dcb9bea-edc1-4a86-b591-2da7d9520b14",
   "metadata": {},
   "outputs": [
    {
     "data": {
      "text/plain": [
       "@true_quote (macro with 1 method)"
      ]
     },
     "execution_count": 34,
     "metadata": {},
     "output_type": "execute_result"
    }
   ],
   "source": [
    "macro true_quote(e)\n",
    "    QuoteNode(e)\n",
    "end"
   ]
  },
  {
   "cell_type": "code",
   "execution_count": 35,
   "id": "71905696-091c-4f0a-a583-c2d378c65deb",
   "metadata": {},
   "outputs": [
    {
     "data": {
      "text/plain": [
       "(:(1 + $(Expr(:$, :y))), :(1 + x))"
      ]
     },
     "execution_count": 35,
     "metadata": {},
     "output_type": "execute_result"
    }
   ],
   "source": [
    "y = :x\n",
    "(\n",
    "    @true_quote(1 + $y),\n",
    "    :(1 + $y),\n",
    ")"
   ]
  },
  {
   "cell_type": "markdown",
   "id": "a428f4a0-6627-4f97-ad37-75b9c48309fd",
   "metadata": {},
   "source": [
    "### Segunda Macro - DSL\n",
    "Uma DSL é o que chamamos de Domain Specific Language.\n",
    "Podemos usar a metaprogramação de Julia para criar\n",
    "macros que permitem os usuários escreverem código como\n",
    "se estivesse escrevendo em uma outra linguagem de programação.\n",
    "\n",
    "No exemplo a seguir, vamos dar um exemplo.\n",
    "Vamos construir um struct chamado `morphism`. Esse struct\n",
    "é o mesmo que uma função, porém, nós vamos guardar\n",
    "o seu domínio e codomínio, isto é, todo morfismo tem\n",
    "que ter um tipo para o resultado de saída.\n",
    "\n",
    "Vamos usar o MacroTools, pois isso irá tornar o processo\n",
    "todo bem mais simples."
   ]
  },
  {
   "cell_type": "code",
   "execution_count": 36,
   "id": "b0eaf081-b26d-432f-a67e-772280bb2198",
   "metadata": {},
   "outputs": [],
   "source": [
    "struct morphism\n",
    "    f::Function\n",
    "    dom::Type\n",
    "    codom::Type\n",
    "end"
   ]
  },
  {
   "cell_type": "markdown",
   "id": "96599453-a095-49ad-a793-33c08777265e",
   "metadata": {},
   "source": [
    "Considere o seguinte exemplo de definição de função. "
   ]
  },
  {
   "cell_type": "code",
   "execution_count": 37,
   "id": "240d52c9-6c24-48d7-8e0f-cc76cea3f1f9",
   "metadata": {},
   "outputs": [
    {
     "data": {
      "text/plain": [
       "quote\n",
       "    \u001b[90m#= In[37]:2 =#\u001b[39m\n",
       "    function name(x::Int, y, z::Real; kwargs)::Tuple{Int, Real}\n",
       "        \u001b[90m#= In[37]:2 =#\u001b[39m\n",
       "        \u001b[90m#= In[37]:3 =#\u001b[39m\n",
       "        body\n",
       "    end\n",
       "end"
      ]
     },
     "execution_count": 37,
     "metadata": {},
     "output_type": "execute_result"
    }
   ],
   "source": [
    "ex = quote\n",
    "    function name(x::Int,y, z::Real; kwargs)::Tuple{Int, Real}\n",
    "       body\n",
    "    end\n",
    "end"
   ]
  },
  {
   "cell_type": "code",
   "execution_count": 39,
   "id": "f3ba153e-15e2-499d-909d-32ce62714726",
   "metadata": {},
   "outputs": [
    {
     "data": {
      "text/plain": [
       "Dict{Symbol, Any} with 6 entries:\n",
       "  :name        => :name\n",
       "  :args        => Any[:(x::Int), :y, :(z::Real)]\n",
       "  :kwargs      => Any[:kwargs]\n",
       "  :body        => quote…\n",
       "  :rtype       => :(Tuple{Int, Real})\n",
       "  :whereparams => ()"
      ]
     },
     "execution_count": 39,
     "metadata": {},
     "output_type": "execute_result"
    }
   ],
   "source": [
    "dex = MacroTools.splitdef(ex)"
   ]
  },
  {
   "cell_type": "markdown",
   "id": "a471d4f0-0274-4137-90e6-870baff41695",
   "metadata": {},
   "source": [
    "A função `splitdef` já coletou para nós o codomínio dentro do `rtype`. Vamos agora obter\n",
    "os tipos de cada argumento."
   ]
  },
  {
   "cell_type": "code",
   "execution_count": 71,
   "id": "0f6a1041-bf17-438f-8cac-1ec8414bd57f",
   "metadata": {},
   "outputs": [
    {
     "data": {
      "text/plain": [
       "Int64"
      ]
     },
     "execution_count": 71,
     "metadata": {},
     "output_type": "execute_result"
    }
   ],
   "source": [
    "function extractypes(dex)\n",
    "    t = map(dex[:args]) do a\n",
    "        if a isa Symbol\n",
    "            return Any\n",
    "        else\n",
    "            return eval(a.args[2])\n",
    "        end\n",
    "    end\n",
    "    length(t) == 1 ? t[1] : Tuple{t...}\n",
    "end\n",
    "\n",
    "extractypes(MacroTools.splitdef(ex))"
   ]
  },
  {
   "cell_type": "markdown",
   "id": "a2ebd99d-4f1f-46fd-b0ed-5d91ee9cfe56",
   "metadata": {
    "jp-MarkdownHeadingCollapsed": true,
    "tags": []
   },
   "source": [
    "Tudo fucionando. Vamos criar nossa macro. \n",
    "Ela recebe uma expressão como `ex` acima, e retorna um struct `morphism`\n",
    "onde vamos passar o dominio e o codominio direto da definição da função."
   ]
  },
  {
   "cell_type": "markdown",
   "id": "bfad821d-c02e-4821-b288-eb2588b1cb0a",
   "metadata": {},
   "source": [
    "Na macro abaixo, nós extraímos os domínios e codomínios.  \n",
    "Em seguida, nós usamos o nome da função para ser o nome do nosso `morphism`.\n",
    "Aqui estamos usando o nome da macro também como  `morphism`, mas isso não gera\n",
    "problemas, pois quando usamos a macro, temos que passar `@` antes.\n",
    "\n",
    "Veja que usamos o `esc(dex[:name])` no nome, mas não nas demais variáveis. A razão disso é que\n",
    "`dom` e `codom` são valores (no caso, são tipos), e portanto não faz diferença.\n",
    "Já no caso de `ex`, esse argumento é a expressão de definição da função. Nós queremos que a macro\n",
    "use o `gensym` para criar um nome único para essa função. Isso evitará com que o nome dela entre em conflito\n",
    "com o nome do nosso `morphism`."
   ]
  },
  {
   "cell_type": "code",
   "execution_count": 166,
   "id": "1acddfa8-8789-449c-ae40-7e7a7a091708",
   "metadata": {},
   "outputs": [
    {
     "data": {
      "text/plain": [
       "@morphism (macro with 1 method)"
      ]
     },
     "execution_count": 166,
     "metadata": {},
     "output_type": "execute_result"
    }
   ],
   "source": [
    "macro morphism(ex)\n",
    "    dex = MacroTools.splitdef(ex)\n",
    "    dom = extractypes(dex)\n",
    "    codom = Any\n",
    "    if :rtype in keys(dex)\n",
    "        codom = eval(dex[:rtype])\n",
    "    end\n",
    "    \n",
    "    name = esc(dex[:name])\n",
    "    \n",
    "    return quote\n",
    "        $name = morphism($ex, $dom, $codom)\n",
    "    end\n",
    "end"
   ]
  },
  {
   "cell_type": "code",
   "execution_count": 167,
   "id": "196b864a-6f7d-4ea4-a605-3ab5fdc690a5",
   "metadata": {},
   "outputs": [
    {
     "data": {
      "text/plain": [
       "morphism(var\"#124#test\", Int64, Real)"
      ]
     },
     "execution_count": 167,
     "metadata": {},
     "output_type": "execute_result"
    }
   ],
   "source": [
    "@morphism function test(x::Int)::Real\n",
    "    x\n",
    "end"
   ]
  },
  {
   "cell_type": "code",
   "execution_count": 168,
   "id": "ef1e4508-8c67-412b-a0ea-fd9b5e033692",
   "metadata": {},
   "outputs": [
    {
     "data": {
      "text/plain": [
       "1"
      ]
     },
     "execution_count": 168,
     "metadata": {},
     "output_type": "execute_result"
    }
   ],
   "source": [
    "test.f(1)"
   ]
  },
  {
   "cell_type": "code",
   "execution_count": 172,
   "id": "64814c8d-ae28-44de-a441-e91f90123626",
   "metadata": {},
   "outputs": [
    {
     "data": {
      "text/plain": [
       "(Int64, Real)"
      ]
     },
     "execution_count": 172,
     "metadata": {},
     "output_type": "execute_result"
    }
   ],
   "source": [
    "test.dom, test.codom"
   ]
  },
  {
   "cell_type": "markdown",
   "id": "f4802d55-c648-47c4-b394-5ff878fc7d1a",
   "metadata": {},
   "source": [
    "### Referências\n",
    "* [Documentação de Julia sobre Metaprogramação](https://docs.julialang.org/en/v1/manual/metaprogramming/);\n",
    "* [Explicação sobre Símbolos em Julia](https://stackoverflow.com/questions/23480722/what-is-a-symbol-in-julia#23482257);"
   ]
  }
 ],
 "metadata": {
  "kernelspec": {
   "display_name": "Julia 1.7.2",
   "language": "julia",
   "name": "julia-1.7"
  },
  "language_info": {
   "file_extension": ".jl",
   "mimetype": "application/julia",
   "name": "julia",
   "version": "1.7.2"
  }
 },
 "nbformat": 4,
 "nbformat_minor": 5
}
