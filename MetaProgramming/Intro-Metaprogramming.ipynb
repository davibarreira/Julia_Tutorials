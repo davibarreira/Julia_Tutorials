{
 "cells": [
  {
   "cell_type": "markdown",
   "id": "87bb44c1-7343-4d8c-8a25-ba6a6c583e3a",
   "metadata": {},
   "source": [
    "# Metaprogramação em Julia\n",
    "Esse tutorial é baseado no Workshop em Metaprogramming de 2021 da JuliaCon ministrado por \n",
    "David P. Sanders. O material do workshop pode ser encontrado [neste repositório](https://github.com/dpsanders/Metaprogramming_JuliaCon_2021).\n"
   ]
  },
  {
   "cell_type": "code",
   "execution_count": 1,
   "id": "0cb27d5f-34fe-4220-9b02-e9c7cfa148cc",
   "metadata": {
    "jupyter": {
     "source_hidden": true
    },
    "tags": []
   },
   "outputs": [
    {
     "name": "stderr",
     "output_type": "stream",
     "text": [
      "\u001b[32m\u001b[1m  Activating\u001b[22m\u001b[39m project at `~/MEGA/EMAp/Julia_Tutorials/MetaProgramming`\n"
     ]
    }
   ],
   "source": [
    "using Pkg\n",
    "Pkg.activate(\".\")\n",
    "using StatsBase: sample\n",
    "using Random"
   ]
  },
  {
   "cell_type": "markdown",
   "id": "638aacd5-2ceb-49e7-8e28-f7fd6fecc786",
   "metadata": {},
   "source": [
    "## Introdução\n",
    "\n",
    "Metaprogramação consiste em utilizar a própria linguagem de programação para escrever e manipular código dela mesma, e ainda\n",
    "avaliar este código. Metaprogramação não é algo presente em toda linguagem. Felizmente, em Julia temos essa possibilidade,\n",
    "o que nos permite gerar código de maneira bastante sofisticada.\n",
    "\n",
    "### Exemplo Inicial\n",
    "\n",
    "Vamos começar com um exemplo bastante simples. Suponha que você tem uma lista de variáveis que recebem um valor aleatório.\n",
    "Você então que descobrir qual dessas variáveis contém um certo valor. No código abaixo, nós amostramos sem reposição\n",
    "os valores 1 até 5, e colocamos dentro das variáveis `a`, `b`, `c`, `d` e `e`. Asssim, de antemão, nós não sabemos\n",
    "qual valor está contido em cada uma delas. Como podemos descobrir, por exemplo, qual variável contém o valor 1?"
   ]
  },
  {
   "cell_type": "code",
   "execution_count": 2,
   "id": "6e576d9b-2edf-42e2-bc4b-81d8a4f53667",
   "metadata": {},
   "outputs": [],
   "source": [
    "Random.seed!(7)\n",
    "a,b,c,x,y = sample(1:5, 5, replace=false);"
   ]
  },
  {
   "cell_type": "markdown",
   "id": "2354d5c4-1a23-4cb4-bbe0-17baececcd16",
   "metadata": {},
   "source": [
    "Para descobrir quem tem o valor 1, podemos ir printando o valor de cada uma junto com um `if`. Porém, percebemos\n",
    "que teríamos que realizar um tipo de trabalho \"manual\". Por exemplo:"
   ]
  },
  {
   "cell_type": "code",
   "execution_count": 3,
   "id": "bca66863-d15e-45a9-8586-fb638a2a6220",
   "metadata": {},
   "outputs": [
    {
     "name": "stdout",
     "output_type": "stream",
     "text": [
      "4\n"
     ]
    }
   ],
   "source": [
    "for (i,v) in enumerate([a,b,c,x,y])\n",
    "    v == 1 ? println(i) : nothing\n",
    "end"
   ]
  },
  {
   "cell_type": "markdown",
   "id": "deb01922-12fe-4e8a-b65e-ea7ca557decf",
   "metadata": {},
   "source": [
    "O código mostrou que a quarta variável é que contém o valor 1. Agora olhamos na nossa lista `[a,b,c,x,y]` e vemos que a quarta variável é `x`. Logo ela contém o valor 1. Veja que o trabalho \"manual\" foi que nós tivemos que olhar qual era a variável na lista. E se quisermos evitar esse trabalho \"manual\" de olhar na lista nós mesmos? Como \"printar\" o nome na variável na tela?\n",
    "Bem, sem metaprogramção, uma solução seria fazer isso na \"força bruta\":"
   ]
  },
  {
   "cell_type": "code",
   "execution_count": 4,
   "id": "5e34266d-7677-4999-ab4c-92003fd3bdc9",
   "metadata": {},
   "outputs": [
    {
     "name": "stdout",
     "output_type": "stream",
     "text": [
      "x"
     ]
    }
   ],
   "source": [
    "a == 1 ? print(\"a\") : nothing\n",
    "b == 1 ? print(\"b\") : nothing\n",
    "c == 1 ? print(\"c\") : nothing\n",
    "x == 1 ? print(\"x\") : nothing\n",
    "y == 1 ? print(\"y\") : nothing"
   ]
  },
  {
   "cell_type": "markdown",
   "id": "d2659470-2b7c-4184-9690-f061ce3e2e2d",
   "metadata": {
    "jp-MarkdownHeadingCollapsed": true,
    "tags": []
   },
   "source": [
    "Conseguimos, mas tivemos que escrever um monte de linhas de código. Para cinco variáveis isso não é problema, mas se tivéssemos \n",
    "bem mais variáveis, isso se tornaria tedioso.\n",
    "É nesse tipo de problema (e coisa bem mais complexas), que a metaprogramação nos ajuda. Vamos começar\n",
    "usando o comando `names(Main)`. A função `name()` recebe o nome de um `module`, e rotorna todos os nomes sendo exportados por aquele\n",
    "`module`. No caso, `Main` é o `module` padrão que estamos utilizando. O `Main`, por padrão, exporta `Base`, `Core` e `Main`, e além disso,\n",
    "´ele exporta toda variável criada nele. Assim, ao usar `names(Main)`, vamos pegar todos os resultados a partir do quarto índice."
   ]
  },
  {
   "cell_type": "code",
   "execution_count": 5,
   "id": "bbb65200-2338-4d9a-bfc9-ea74cf70ef44",
   "metadata": {},
   "outputs": [
    {
     "data": {
      "text/plain": [
       "5-element Vector{Symbol}:\n",
       " :a\n",
       " :b\n",
       " :c\n",
       " :x\n",
       " :y"
      ]
     },
     "execution_count": 5,
     "metadata": {},
     "output_type": "execute_result"
    }
   ],
   "source": [
    "names(Main)[4:end]"
   ]
  },
  {
   "cell_type": "markdown",
   "id": "d3a349d6-1f7f-4f88-b5fe-35deb2837b60",
   "metadata": {},
   "source": [
    "Muito bem, conseguimos de maneira rápida o nome de nossas variáveis. Mas como fazemos para avaliar o valor em cada uma delas?\n",
    "Novamente, sem metaprogramação, o `names(Main)` não será muito útil, porém, com metaprogramação, é bastante. Abaixo iremos apresentar\n",
    "a solução, e na seção seguinte iremos explicar melhor o que foi feito e os básicos da metaprogramação em Julia."
   ]
  },
  {
   "cell_type": "code",
   "execution_count": 6,
   "id": "9f085690-b1ab-4d66-96f2-04e4dc0d9915",
   "metadata": {},
   "outputs": [
    {
     "name": "stdout",
     "output_type": "stream",
     "text": [
      "x\n"
     ]
    }
   ],
   "source": [
    "for v in names(Main)[4:end]\n",
    "    eval(v) == 1 ? println(v) : nothing\n",
    "end"
   ]
  },
  {
   "cell_type": "markdown",
   "id": "626c0485-6e4f-497a-ad0a-0e42ca0683e9",
   "metadata": {},
   "source": [
    "## Básicos da Metaprogramação\n",
    "\n",
    "Vimos que o código anterior foi capaz de facilmente retornar a variável com o valor 1. Além disso, é facíl ver que ele funciona imediatamente\n",
    "para casos envolvendo mais variáveis, sem precisar ser modificado. O que não é verdade para as outras duas soluções que apresentamos.\n",
    "A nossa solução envolveu o uso de uma função chamada `eval`, qu é uma função do módulo `Core`, ou seja, `eval` é o mesmo que\n",
    "`Core.eval`.\n",
    "Como você já deve ter adivinhado, a função `eval` recebe uma \"expressão\" em Julia, e avalia essa \"expressão\". Mas, afinal,\n",
    "o que é uma \"expressão\"? Antes de responder a essa pergunta, precisamos introduzir o conceito de um símbolo.\n",
    "\n",
    "### Representando Variáveis com Símbolos\n",
    "\n",
    "Para que uma linguagem de programação possa realizar metaprogramação, é necessário que de alguma forma ela seja capaz\n",
    "de distinguir quando seu código está sendo executado versus quando seu código está sendo referenciado, ou seja,\n",
    "ela deve ser capaz de representar seu próprio código como dado. Por exemplo, se eu escrever `x = 1`, é preciso\n",
    "representar que uma variável chamada \"x\" contém o valor 1... Curiosamente, acabamos de exemplificar essa situação!\n",
    "Quando estamos escrevendo em português, utilizamos aspas como uma maneira de se referir a palavra em si, invés de\n",
    "referenciar o que ela significa. **Isso é exatamente a idéia de um símbolo!**\n",
    "\n",
    "A linguagem Julia precisa ser capaz\n",
    "de diz usar aspas, ou seja, hora falar do valor por meio da variável, hora falar da própria variável.\n",
    "Vejamos outro exemplo envolvendo a língua portuguesa.\n",
    "\n",
    "*A palavra \"bonita\" é bonita.*\n",
    "\n",
    "Na frase acima, a mesma palavra aparece com sentidos diferentes. Primeiro ela aparece se referindo a própria palavra, e \n",
    "depois aparece indicado o seu siginificado. Em Julia, as aspas podem ser trocadas por `:`, e agora temos uma situação parecida.\n",
    "`:x` se refere à variável em si, enquanto que `x` é o valor guaradado dentro da variável;"
   ]
  },
  {
   "cell_type": "code",
   "execution_count": 48,
   "id": "2ba0049c-1763-4944-b274-75c14f66c6ea",
   "metadata": {},
   "outputs": [
    {
     "data": {
      "text/plain": [
       "(Symbol, Int64)"
      ]
     },
     "execution_count": 48,
     "metadata": {},
     "output_type": "execute_result"
    }
   ],
   "source": [
    "x = 1\n",
    "typeof(:x), typeof(x)"
   ]
  },
  {
   "cell_type": "markdown",
   "id": "c76cd173-2857-4ff9-8e59-7c2bf23c2f2f",
   "metadata": {},
   "source": [
    "Quando escrevemos `x + 1`, o que estamos dizendo é que queremos somar o valor que está em `x` com 1, o que no nosso caso\n",
    "irá retornar o valor 2. Já a expressão `:x + 1`, não faz sentido. Porém, novamente a função `eval` irá nos ajudar."
   ]
  },
  {
   "cell_type": "code",
   "execution_count": 52,
   "id": "8cac3662-e60f-4624-a52b-826f8db67c50",
   "metadata": {},
   "outputs": [
    {
     "data": {
      "text/plain": [
       "true"
      ]
     },
     "execution_count": 52,
     "metadata": {},
     "output_type": "execute_result"
    }
   ],
   "source": [
    "eval(:x) + 1 == x + 1"
   ]
  },
  {
   "cell_type": "markdown",
   "id": "5e96374c-6efd-468e-b107-03a6c17b8915",
   "metadata": {},
   "source": [
    "No código acima, `eval(:x)` está pedindo para que avaliemos o valor que está dentro da variável de nome \"x\", que é o valor 1. Ou seja,\n",
    "`eval(:x)` é o mesmo que `x`."
   ]
  },
  {
   "cell_type": "markdown",
   "id": "087a88ef-4cd1-4d8a-984e-7d7f7c7e2647",
   "metadata": {},
   "source": [
    "### Construíndo e Avaliando Expressões\n",
    "\n",
    "Podemos pensar inicialmente que todo código em Julia é composto de símbolos (`Symbol`) e valores literais.\n",
    "A combinação de\n",
    "símbolos com valores literais forma uma expressão (`Expr`). De forma simplista, uma expressão é formada por um símbolo pai (`head`)\n",
    "seguido de argumentos, que podem ser outros símbolos, valores literais ou outras expressões (\"it's all symbols and values all the way down\").\n",
    "O `head` determina o tipo da expressão, enquanto os demais argumentos representam o que de fato a expressão faz.\n",
    "\n",
    "Vamos ver um exemplo:\n",
    "\n",
    "é composto de dois valores literais (1 e 2),\n",
    "e um símbolo (`+`). Essa mesma expressão pode ser escrita como `Expr()"
   ]
  },
  {
   "cell_type": "code",
   "execution_count": 31,
   "id": "0322e10f-08d1-4a60-ac88-d1addb3b42b5",
   "metadata": {},
   "outputs": [
    {
     "data": {
      "text/plain": [
       "3"
      ]
     },
     "execution_count": 31,
     "metadata": {},
     "output_type": "execute_result"
    }
   ],
   "source": [
    "1 + 2"
   ]
  },
  {
   "cell_type": "markdown",
   "id": "636f2890-ae5f-4fdb-8d0b-4f5d1ea400ae",
   "metadata": {},
   "source": [
    "A linha de código acima é interpretada em Julia como uma expressão com os argumentos `1`, `2` e `:+`, onde os dois primeiros são valores\n",
    "literais e o último é um símbolo. Essa mesma expressão pode ser representada por `Expr(:call, :+, 1, 2)`. Ou seja, é sua `head` contém\n",
    "o símbolo `:call`, representando justamente que essa expressão está sendo avaliada."
   ]
  },
  {
   "cell_type": "code",
   "execution_count": 14,
   "id": "71ad7b7e-97c7-4096-82f6-b7ac64c1699b",
   "metadata": {},
   "outputs": [
    {
     "data": {
      "text/plain": [
       "(:call, Any[:+, 1, 2])"
      ]
     },
     "execution_count": 14,
     "metadata": {},
     "output_type": "execute_result"
    }
   ],
   "source": [
    "ex = Expr(:call, :+, 1, 2)\n",
    "\n",
    "ex.head, ex.args"
   ]
  },
  {
   "cell_type": "markdown",
   "id": "624b1154-b925-456d-a4f5-8b838e644c5b",
   "metadata": {},
   "source": [
    "Assim, uma vez que temos uma expressão, podemos passar utilizar a função `eval`, que ela irá\n",
    "executar o que está descrito na expressão.\n",
    "\n",
    "Como vimos no exemplo acima, a estrutura de uma expressão costuma ser mais complexa do que a forma \"natural\"\n",
    "com a qual escrevemos código. Assim, se quisermos escrever código em Julia usando Julia, uma opção\n",
    "mais simples seria escrever strings, para então torná-los expressões. E isso é exatamente o que faz a função `Meta.parse`."
   ]
  },
  {
   "cell_type": "code",
   "execution_count": 15,
   "id": "783fdb2c-2e2c-4b18-b3f5-b487142f9f90",
   "metadata": {},
   "outputs": [
    {
     "data": {
      "text/plain": [
       ":(1 + 2 / 2)"
      ]
     },
     "execution_count": 15,
     "metadata": {},
     "output_type": "execute_result"
    }
   ],
   "source": [
    "ex_string = \"1 + 2 / 2\"\n",
    "ex = Meta.parse(ex_string)"
   ]
  },
  {
   "cell_type": "markdown",
   "id": "a93788e4-ebe6-44ad-9c50-d95b33fd77e9",
   "metadata": {},
   "source": [
    "Isso torna todo o processo de metaprogramação bem menos laborioso, pois sabemos como escrever código sem ser formato de expressão,\n",
    "e deixamos para a `Meta.parse` o trabalho de converter \"código natural\" no formato de expressões.\n",
    "Também podemos escrever expressões diretamente, por exemplo `:(1 + 2 / 2)`."
   ]
  },
  {
   "cell_type": "markdown",
   "id": "031659ef-928d-452c-92d8-cfbe64fd7fea",
   "metadata": {},
   "source": [
    "Caso queiramos entender melhor como está estruturada uma expressão, podemos utilizar a função `dump()` ou a função `Meta.show_sexpr`."
   ]
  },
  {
   "cell_type": "code",
   "execution_count": 16,
   "id": "20be7142-1b5c-4883-b460-77dbef79217d",
   "metadata": {},
   "outputs": [
    {
     "name": "stdout",
     "output_type": "stream",
     "text": [
      "Expr\n",
      "  head: Symbol call\n",
      "  args: Array{Any}((3,))\n",
      "    1: Symbol +\n",
      "    2: Int64 1\n",
      "    3: Expr\n",
      "      head: Symbol call\n",
      "      args: Array{Any}((3,))\n",
      "        1: Symbol /\n",
      "        2: Int64 2\n",
      "        3: Int64 2\n"
     ]
    }
   ],
   "source": [
    "dump(ex)"
   ]
  },
  {
   "cell_type": "code",
   "execution_count": 17,
   "id": "57548c62-174a-456b-aff1-73c9c55d35d7",
   "metadata": {},
   "outputs": [
    {
     "name": "stdout",
     "output_type": "stream",
     "text": [
      "(:call, :+, 1, (:call, :/, 2, 2))"
     ]
    }
   ],
   "source": [
    "Meta.show_sexpr(ex)"
   ]
  },
  {
   "cell_type": "markdown",
   "id": "bef86588-7c08-4c51-a2b8-4d3af756459b",
   "metadata": {},
   "source": [
    "Usando essas funções, fica claro, por exemplo, que nosso código primeiro avalia a divisão (`2 / 2`), para depois realizar a soma. \n",
    "Assim, esses comando podem ser úteis caso você tenha dúvida de como Julia está processando uma linha de código específica."
   ]
  },
  {
   "cell_type": "markdown",
   "id": "d575d09f-73bc-4a49-a47d-f04a32fcb13c",
   "metadata": {},
   "source": [
    "## Outro Exemplo\n",
    "Imagine que um colega seu possui um monte de scripts em Julia. O que você gostaria de fazer é rodar o código dele,\n",
    "e sempre que uma variável do tipo `Importante` for gerada, você quer salvar o nome e valor dessa variável numa pasta.\n",
    "Quais são os desafios? Bem, o primeiro dessafio é que ao menos que rodemos cada script, não vamos saber qual é a variável que é do tipo\n",
    "`Importante`. Então, pra começar, precisamos rodar cada script. Além disso, precisamos saber o nome da variável, e então verificar se ela é\n",
    "do tipo desejado... Não parece simples. Como metaprogramação nos ajudaria?\n",
    "\n",
    "Fazer isso sem metaprogramção não parece ser trivial. Mas e com metaprogramação? Com metaprogramação conseguimos\n",
    "rapidamente pensar em alumas maneiras de atacar esse problema que não envolve tentar entender o código\n",
    "do seu amigo para descobrir em que momento ele declara variáveis do tipo `Importante`.\n",
    "\n",
    "Por exemplo, uma estratégia seria avaliar quando uma linha de código está atribuindo valor para uma variável via `=`,\n",
    "e então checar se essa variável retorna o tipo `Importante`. Se sim, nós então salvamos o nome e o valor dela. Esse problema\n",
    "não é tão simples assim, por simplicidade, vamos supor que o código do seu amigo consiste em \"uma linha, uma expressão\", ou seja,\n",
    "cada linha representa uma ação. Assim, podemos quebrar cada linha como uma expressão em Julia e avaliar a expressão."
   ]
  },
  {
   "cell_type": "code",
   "execution_count": 18,
   "id": "9d2ada1e-c9dc-4c95-8de4-063577690c6d",
   "metadata": {},
   "outputs": [
    {
     "name": "stderr",
     "output_type": "stream",
     "text": [
      "WARNING: replacing module Amigo.\n"
     ]
    },
    {
     "data": {
      "text/plain": [
       "2-element Vector{Any}:\n",
       " (:x, 10)\n",
       " (:z, 20)"
      ]
     },
     "execution_count": 18,
     "metadata": {},
     "output_type": "execute_result"
    }
   ],
   "source": [
    "codigo = \"\"\"\n",
    "#### Código do seu amigo\n",
    "struct Importante valor::Real end\n",
    "y = 0.4\n",
    "x = 1 * y\n",
    "x = Importante(10)\n",
    "x.valor + y\n",
    "z = Importante(20)\n",
    "store = z.valor + y + x.valor\n",
    "\"\"\"\n",
    "\n",
    "module Amigo\n",
    "\n",
    "export x\n",
    "x = 1\n",
    "end\n",
    "\n",
    "store = []\n",
    "for code in split(codigo,\"\\n\")\n",
    "    ex = Meta.parse(code)\n",
    "    if ex !== nothing\n",
    "        Core.eval(Amigo, ex)\n",
    "        if String(ex.head) == \"=\"\n",
    "            if typeof(Core.eval(Amigo,ex.args[1])) <: Amigo.Importante\n",
    "                push!(store,(ex.args[1],Core.eval(Amigo, ex.args[1]).valor))\n",
    "            end\n",
    "        end\n",
    "    end\n",
    "end\n",
    "\n",
    "store"
   ]
  },
  {
   "cell_type": "markdown",
   "id": "8912c842-77ab-4a5d-8843-aab7b208a710",
   "metadata": {},
   "source": [
    "O código funciona! Mas você deve estar se perguntando o que esse `module Amigo` está fazendo? O seu proprósito é isolar \n",
    "o código que está rodando do seu amigo, com o código que estamos rodando. Por exemplo, o código do seu amigo\n",
    "termina com a linha `store = z.valor + y + x.valor`. Ou seja, ele está definindo uma variável `store`, que tem o mesmo\n",
    "nome da variável que estamos usando para rodar o nosso código. Se usássemos o `Core.eval(ex)`, sem o `Amigo`, isso\n",
    "acabaria alterando o valor da nossa variável `store`, causando problemas.\n",
    "\n",
    "Você pode ainda estar se perguntando, *Mas afinal isso tem realmente algum uso prático?!* E a reposta é **sim**.\n",
    "Inclusive, o tipo de problema que resolvemos no exmemplo acima é baseado num problema real que tive que\n",
    "resolver quando programando o pacote `NotebookToLaTeX.jl`. Esse pacote converte notebooks Jupyter e Pluto para arquivos em LaTeX.\n",
    "Um dos desafios com notebooks Pluto é que eles são nada mais que scripts em Julia, isto é, arquivos `.jl`.\n",
    "Diferente do Jupyter, o Pluto não guarda os plots gerados dentro dele, sendo assim necessário rodar o código para gerar as figuras.\n",
    "\n",
    "Meu desafio então era descobrir em que momento um plot estava sendo gerado, para poder então salvar a figura em uma pasta para\n",
    "que o arquivo LaTeX pudesse ler.\n",
    "Similar ao que tivemos no exemplo acima, meu código rodava cada expressão do notebook e checava para ver se era do tipo adequado.\n",
    "Foi inclusive resolvendo esse problema que a comunidade de Julia sugeriu o uso de `module` como maneira de evitar\n",
    "variáveis trocando valores em lugares indesejados."
   ]
  },
  {
   "cell_type": "markdown",
   "id": "b7529398-613d-4084-a8c9-46bd83596b68",
   "metadata": {},
   "source": [
    "### Manipulando Expressões\n",
    "\n",
    "Já vimos como criar exp"
   ]
  },
  {
   "cell_type": "markdown",
   "id": "e020e928-2603-4eae-ae37-ffef9235d49c",
   "metadata": {},
   "source": [
    "## "
   ]
  },
  {
   "cell_type": "code",
   "execution_count": null,
   "id": "bc7d89a1-512c-461a-8445-e6fac10ac3a5",
   "metadata": {},
   "outputs": [],
   "source": []
  },
  {
   "cell_type": "code",
   "execution_count": null,
   "id": "c3f7db99-30a5-4ce2-95a7-9c59ca2ef5a8",
   "metadata": {},
   "outputs": [],
   "source": []
  },
  {
   "cell_type": "markdown",
   "id": "c43bcf98-72df-445a-901f-f845093fc626",
   "metadata": {},
   "source": [
    "## Macros"
   ]
  },
  {
   "cell_type": "code",
   "execution_count": null,
   "id": "958755af-3d65-486a-ac53-0577e9923bea",
   "metadata": {},
   "outputs": [],
   "source": []
  },
  {
   "cell_type": "code",
   "execution_count": null,
   "id": "689f9850-44bb-4974-8ca3-7620ed31ff6c",
   "metadata": {},
   "outputs": [],
   "source": [
    "x = 10\n",
    "y = 5\n",
    "\n",
    "@show y + x"
   ]
  },
  {
   "cell_type": "code",
   "execution_count": null,
   "id": "b67a6b3b-f74c-44e6-a8e5-d1f9e19ee419",
   "metadata": {},
   "outputs": [],
   "source": [
    "@macroexpand @show y + x"
   ]
  },
  {
   "cell_type": "markdown",
   "id": "f09c628d-34ca-4bbd-9cc5-5f275f3042c1",
   "metadata": {},
   "source": [
    "Veja que a expressão \"quote\" simboliza que essa expressão é código em Julia. Ou seja, poderíamos copiar e \n",
    "colar o que está dentro desse \"quote\" no nosso REPL. A segunda expressão estranha é esse comentário\n",
    "\"#= show.jl:955 =#\". Neste caso, esse comentário está informando em que linha do source code está definida essa função.\n",
    "Por fim, temos `var\"#788#value\"`. Isso é o nome da variável que o código criou. Esse nome é estranho\n",
    "justamente com o propósito de evitar que já tenha essa variável no se código."
   ]
  },
  {
   "cell_type": "code",
   "execution_count": null,
   "id": "52f7fc7c-0ab9-4199-927b-0a79eab9b454",
   "metadata": {},
   "outputs": [],
   "source": [
    "code = Meta.parse(\"j = i^2\")"
   ]
  },
  {
   "cell_type": "code",
   "execution_count": null,
   "id": "25a700f0-e82e-43fd-a334-4e0716c6acf9",
   "metadata": {},
   "outputs": [],
   "source": [
    "typeof(code)"
   ]
  },
  {
   "cell_type": "code",
   "execution_count": null,
   "id": "f6ac76e5-da80-44cc-a526-57e9cae62d43",
   "metadata": {},
   "outputs": [],
   "source": [
    "dump(code)"
   ]
  },
  {
   "cell_type": "code",
   "execution_count": null,
   "id": "1720442b-b66e-466b-bfb8-b6d3e12e0a0a",
   "metadata": {},
   "outputs": [],
   "source": [
    "code.args"
   ]
  },
  {
   "cell_type": "code",
   "execution_count": null,
   "id": "417ef0dc-0163-4ef9-867a-e797dfb3f85c",
   "metadata": {},
   "outputs": [],
   "source": [
    "code.head"
   ]
  },
  {
   "cell_type": "code",
   "execution_count": null,
   "id": "4ec4fbbd-94d5-467d-8e60-80d2e30a6517",
   "metadata": {},
   "outputs": [],
   "source": [
    "dump(code.args[2])"
   ]
  },
  {
   "cell_type": "code",
   "execution_count": null,
   "id": "d7276350-3871-4d4c-ac4f-5ad7eb6cfa0d",
   "metadata": {},
   "outputs": [],
   "source": [
    "code2 = copy(code)\n",
    "code2.args[1] = :k\n",
    "code2.args[2].args[3] = 3\n",
    "code2"
   ]
  },
  {
   "cell_type": "markdown",
   "id": "baf84538-4473-4d3f-bc7e-6e2899f9f901",
   "metadata": {},
   "source": [
    "Em Julia, temos o tipo `Symbol` que pode ser entendido como uma expressão antes de ser\n",
    "avaliada. Por exemplo, caso escrevamos `x = 2`. Ao escrever `x`, o compilador\n",
    "irá avaliar essa expressão, retornando `2`. Entretanto, as vezes queremos\n",
    "nos referir não ao que está dentro de `x`, mas ao símbolo em si. Para isso,\n",
    "usamos `:x`."
   ]
  },
  {
   "cell_type": "code",
   "execution_count": null,
   "id": "4cf735a6-44b9-4495-98fa-d178b3c87a2f",
   "metadata": {},
   "outputs": [],
   "source": [
    "Symbol(\"x\") == :x"
   ]
  },
  {
   "cell_type": "markdown",
   "id": "03fa5e86-c183-4668-93b6-066664beda9d",
   "metadata": {},
   "source": [
    "Da mesma forma, podemos falar sobre a expressão `x + y` usando `:(x + y)`. Considere a seguinte situação,\n",
    "você está escrevendo uma série de comandos no REPL. Você percebe que declarou tantas variáveis que não sabe mais\n",
    "qual delas está armazenando o valor `10`. Julia permite que você faça isso de dentro da própria linguagem."
   ]
  },
  {
   "cell_type": "code",
   "execution_count": null,
   "id": "ff23cfbf-11fb-4269-a48b-71c016898b22",
   "metadata": {},
   "outputs": [],
   "source": [
    "x = 1\n",
    "y = 10\n",
    "z = 2\n",
    "\n",
    "for i in 'x':'z'\n",
    "    v = Meta.parse(\"$i\")\n",
    "    if eval(v) == 10\n",
    "        return v\n",
    "    end\n",
    "end"
   ]
  },
  {
   "cell_type": "markdown",
   "id": "160dc6f4-bedb-4181-85a4-cb36a54cca3d",
   "metadata": {},
   "source": [
    "A função `eval` está justamente avaliando a expressão dentro de `v`. O que fizemos no código acima foi iterar pela\n",
    "nossas variáveis nos referindo a elas pelo seu símbolo. Imagine agora que cada uma das letras do alfabeto\n",
    "foi definida como uma variável e queremos descobrir novamente qual delas armazena `10`. Como faríamos\n",
    "isso sem metaprogramação? Possívelmente teríamos que manualmente escrever algo do tipo\n",
    "`for v in [a,b,c,...,z]`. Com metaprogramação, podemos simplesmente escrever o loop usando `'a':'z'`."
   ]
  },
  {
   "cell_type": "code",
   "execution_count": null,
   "id": "49d06f07-696a-4029-b379-fdb43066d887",
   "metadata": {},
   "outputs": [],
   "source": []
  },
  {
   "cell_type": "markdown",
   "id": "f4802d55-c648-47c4-b394-5ff878fc7d1a",
   "metadata": {},
   "source": [
    "### Referências\n",
    "* [Documentação de Julia sobre Metaprogramação](https://docs.julialang.org/en/v1/manual/metaprogramming/);\n",
    "* [Explicação sobre Símbolos em Julia](https://stackoverflow.com/questions/23480722/what-is-a-symbol-in-julia#23482257);"
   ]
  },
  {
   "cell_type": "code",
   "execution_count": null,
   "id": "22a64417-4107-412c-a48b-886da4001a8c",
   "metadata": {},
   "outputs": [],
   "source": []
  }
 ],
 "metadata": {
  "kernelspec": {
   "display_name": "julia 1.7.1",
   "language": "julia",
   "name": "julia-1.7"
  },
  "language_info": {
   "file_extension": ".jl",
   "mimetype": "application/julia",
   "name": "julia",
   "version": "1.7.1"
  }
 },
 "nbformat": 4,
 "nbformat_minor": 5
}
