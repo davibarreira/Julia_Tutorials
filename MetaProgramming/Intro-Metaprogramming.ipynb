{
 "cells": [
  {
   "cell_type": "markdown",
   "id": "87bb44c1-7343-4d8c-8a25-ba6a6c583e3a",
   "metadata": {},
   "source": [
    "# Metaprogramming em Julia"
   ]
  },
  {
   "cell_type": "code",
   "execution_count": 4,
   "id": "689f9850-44bb-4974-8ca3-7620ed31ff6c",
   "metadata": {},
   "outputs": [
    {
     "name": "stdout",
     "output_type": "stream",
     "text": [
      "y + x = 15\n"
     ]
    },
    {
     "data": {
      "text/plain": [
       "15"
      ]
     },
     "execution_count": 4,
     "metadata": {},
     "output_type": "execute_result"
    }
   ],
   "source": [
    "x = 10\n",
    "y = 5\n",
    "\n",
    "@show y + x"
   ]
  },
  {
   "cell_type": "code",
   "execution_count": 5,
   "id": "b67a6b3b-f74c-44e6-a8e5-d1f9e19ee419",
   "metadata": {},
   "outputs": [
    {
     "data": {
      "text/plain": [
       "quote\n",
       "    Base.println(\"y + x = \", Base.repr(begin\n",
       "                #= show.jl:955 =#\n",
       "                local var\"#788#value\" = y + x\n",
       "            end))\n",
       "    var\"#788#value\"\n",
       "end"
      ]
     },
     "execution_count": 5,
     "metadata": {},
     "output_type": "execute_result"
    }
   ],
   "source": [
    "@macroexpand @show y + x"
   ]
  },
  {
   "cell_type": "markdown",
   "id": "f09c628d-34ca-4bbd-9cc5-5f275f3042c1",
   "metadata": {},
   "source": [
    "Veja que a expressão \"quote\" simboliza que essa expressão é código em Julia. Ou seja, poderíamos copiar e \n",
    "colar o que está dentro desse \"quote\" no nosso REPL. A segunda expressão estranha é esse comentário\n",
    "\"#= show.jl:955 =#\". Neste caso, esse comentário está informando em que linha do source code está definida essa função.\n",
    "Por fim, temos `var\"#788#value\"`. Isso é o nome da variável que o código criou. Esse nome é estranho\n",
    "justamente com o propósito de evitar que já tenha essa variável no se código."
   ]
  },
  {
   "cell_type": "code",
   "execution_count": 6,
   "id": "52f7fc7c-0ab9-4199-927b-0a79eab9b454",
   "metadata": {},
   "outputs": [
    {
     "data": {
      "text/plain": [
       ":(j = i ^ 2)"
      ]
     },
     "execution_count": 6,
     "metadata": {},
     "output_type": "execute_result"
    }
   ],
   "source": [
    "code = Meta.parse(\"j = i^2\")"
   ]
  },
  {
   "cell_type": "code",
   "execution_count": 7,
   "id": "25a700f0-e82e-43fd-a334-4e0716c6acf9",
   "metadata": {},
   "outputs": [
    {
     "data": {
      "text/plain": [
       "Expr"
      ]
     },
     "execution_count": 7,
     "metadata": {},
     "output_type": "execute_result"
    }
   ],
   "source": [
    "typeof(code)"
   ]
  },
  {
   "cell_type": "code",
   "execution_count": 8,
   "id": "f6ac76e5-da80-44cc-a526-57e9cae62d43",
   "metadata": {},
   "outputs": [
    {
     "name": "stdout",
     "output_type": "stream",
     "text": [
      "Expr\n",
      "  head: Symbol =\n",
      "  args: Array{Any}((2,))\n",
      "    1: Symbol j\n",
      "    2: Expr\n",
      "      head: Symbol call\n",
      "      args: Array{Any}((3,))\n",
      "        1: Symbol ^\n",
      "        2: Symbol i\n",
      "        3: Int64 2\n"
     ]
    }
   ],
   "source": [
    "dump(code)"
   ]
  },
  {
   "cell_type": "code",
   "execution_count": 12,
   "id": "1720442b-b66e-466b-bfb8-b6d3e12e0a0a",
   "metadata": {},
   "outputs": [
    {
     "data": {
      "text/plain": [
       "2-element Vector{Any}:\n",
       " :j\n",
       " :(i ^ 2)"
      ]
     },
     "execution_count": 12,
     "metadata": {},
     "output_type": "execute_result"
    }
   ],
   "source": [
    "code.args"
   ]
  },
  {
   "cell_type": "code",
   "execution_count": 13,
   "id": "417ef0dc-0163-4ef9-867a-e797dfb3f85c",
   "metadata": {},
   "outputs": [
    {
     "data": {
      "text/plain": [
       ":(=)"
      ]
     },
     "execution_count": 13,
     "metadata": {},
     "output_type": "execute_result"
    }
   ],
   "source": [
    "code.head"
   ]
  },
  {
   "cell_type": "code",
   "execution_count": 15,
   "id": "4ec4fbbd-94d5-467d-8e60-80d2e30a6517",
   "metadata": {},
   "outputs": [
    {
     "name": "stdout",
     "output_type": "stream",
     "text": [
      "Expr\n",
      "  head: Symbol call\n",
      "  args: Array{Any}((3,))\n",
      "    1: Symbol ^\n",
      "    2: Symbol i\n",
      "    3: Int64 2\n"
     ]
    }
   ],
   "source": [
    "dump(code.args[2])"
   ]
  },
  {
   "cell_type": "code",
   "execution_count": 23,
   "id": "d7276350-3871-4d4c-ac4f-5ad7eb6cfa0d",
   "metadata": {},
   "outputs": [
    {
     "data": {
      "text/plain": [
       ":(k = i ^ 3)"
      ]
     },
     "execution_count": 23,
     "metadata": {},
     "output_type": "execute_result"
    }
   ],
   "source": [
    "code2 = copy(code)\n",
    "code2.args[1] = :k\n",
    "code2.args[2].args[3] = 3\n",
    "code2"
   ]
  },
  {
   "cell_type": "markdown",
   "id": "baf84538-4473-4d3f-bc7e-6e2899f9f901",
   "metadata": {},
   "source": [
    "Em Julia, temos o tipo `Symbol` que pode ser entendido como uma expressão antes de ser\n",
    "avaliada. Por exemplo, caso escrevamos `x = 2`. Ao escrever `x`, o compilador\n",
    "irá avaliar essa expressão, retornando `2`. Entretanto, as vezes queremos\n",
    "nos referir não ao que está dentro de `x`, mas ao símbolo em si. Para isso,\n",
    "usamos `:x`."
   ]
  },
  {
   "cell_type": "code",
   "execution_count": 25,
   "id": "4cf735a6-44b9-4495-98fa-d178b3c87a2f",
   "metadata": {},
   "outputs": [
    {
     "data": {
      "text/plain": [
       "true"
      ]
     },
     "execution_count": 25,
     "metadata": {},
     "output_type": "execute_result"
    }
   ],
   "source": [
    "Symbol(\"x\") == :x"
   ]
  },
  {
   "cell_type": "markdown",
   "id": "03fa5e86-c183-4668-93b6-066664beda9d",
   "metadata": {},
   "source": [
    "Da mesma forma, podemos falar sobre a expressão `x + y` usando `:(x + y)`. Considere a seguinte situação,\n",
    "você está escrevendo uma série de comandos no REPL. Você percebe que declarou tantas variáveis que não sabe mais\n",
    "qual delas está armazenando o valor `10`. Julia permite que você faça isso de dentro da própria linguagem."
   ]
  },
  {
   "cell_type": "code",
   "execution_count": 60,
   "id": "ff23cfbf-11fb-4269-a48b-71c016898b22",
   "metadata": {},
   "outputs": [
    {
     "data": {
      "text/plain": [
       ":y"
      ]
     },
     "execution_count": 60,
     "metadata": {},
     "output_type": "execute_result"
    }
   ],
   "source": [
    "x = 1\n",
    "y = 10\n",
    "z = 2\n",
    "\n",
    "for i in 'x':'z'\n",
    "    v = Meta.parse(\"$i\")\n",
    "    if eval(v) == 10\n",
    "        return v\n",
    "    end\n",
    "end"
   ]
  },
  {
   "cell_type": "markdown",
   "id": "160dc6f4-bedb-4181-85a4-cb36a54cca3d",
   "metadata": {},
   "source": [
    "A função `eval` está justamente avaliando a expressão dentro de `v`. O que fizemos no código acima foi iterar pela\n",
    "nossas variáveis nos referindo a elas pelo seu símbolo. Imagine agora que cada uma das letras do alfabeto\n",
    "foi definida como uma variável e queremos descobrir novamente qual delas armazena `10`. Como faríamos\n",
    "isso sem metaprogramação? Possívelmente teríamos que manualmente escrever algo do tipo\n",
    "`for v in [a,b,c,...,z]`. Com metaprogramação, podemos simplesmente escrever o loop usando `'a':'z'`."
   ]
  },
  {
   "cell_type": "code",
   "execution_count": null,
   "id": "49d06f07-696a-4029-b379-fdb43066d887",
   "metadata": {},
   "outputs": [],
   "source": []
  },
  {
   "cell_type": "code",
   "execution_count": null,
   "id": "8c6921b8-8e3b-4da6-ba45-c159de83b40a",
   "metadata": {},
   "outputs": [],
   "source": []
  }
 ],
 "metadata": {
  "kernelspec": {
   "display_name": "JuliaFlux 1.6.3",
   "language": "julia",
   "name": "juliaflux-1.6"
  },
  "language_info": {
   "file_extension": ".jl",
   "mimetype": "application/julia",
   "name": "julia",
   "version": "1.6.3"
  }
 },
 "nbformat": 4,
 "nbformat_minor": 5
}
