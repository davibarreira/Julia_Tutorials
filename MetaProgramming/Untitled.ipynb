{
 "cells": [
  {
   "cell_type": "code",
   "execution_count": 5,
   "id": "1bbe59c1-ddd5-4011-972a-e1f499f98a3e",
   "metadata": {},
   "outputs": [
    {
     "name": "stderr",
     "output_type": "stream",
     "text": [
      "\u001b[32m\u001b[1m  Activating\u001b[22m\u001b[39m project at `~/Main/EMAp/Julia_Tutorials/MetaProgramming`\n"
     ]
    }
   ],
   "source": [
    "using Pkg\n",
    "Pkg.activate(\".\")\n",
    "using MLStyle"
   ]
  },
  {
   "cell_type": "code",
   "execution_count": 13,
   "id": "7781e0cc-5faf-4ff7-870c-19e678df2241",
   "metadata": {},
   "outputs": [
    {
     "data": {
      "text/plain": [
       "true"
      ]
     },
     "execution_count": 13,
     "metadata": {},
     "output_type": "execute_result"
    }
   ],
   "source": [
    "f = (x,y)->(x^2+y)\n",
    "ex = :($f(a, b))\n",
    "\n",
    "f == @match ex begin\n",
    "    :($f(a, b)) => f\n",
    "end # => true"
   ]
  },
  {
   "cell_type": "code",
   "execution_count": 12,
   "id": "438c6fe7-40b1-4bab-84f6-f1dc9493f0d4",
   "metadata": {},
   "outputs": [
    {
     "data": {
      "text/plain": [
       "#7 (generic function with 1 method)"
      ]
     },
     "execution_count": 12,
     "metadata": {},
     "output_type": "execute_result"
    }
   ],
   "source": [
    "f"
   ]
  },
  {
   "cell_type": "code",
   "execution_count": null,
   "id": "80a4e6e3-eba0-48da-a32f-769c72d742cf",
   "metadata": {},
   "outputs": [],
   "source": []
  }
 ],
 "metadata": {
  "kernelspec": {
   "display_name": "Julia (4 threads) 1.7.2",
   "language": "julia",
   "name": "julia-(4-threads)-1.7"
  },
  "language_info": {
   "file_extension": ".jl",
   "mimetype": "application/julia",
   "name": "julia",
   "version": "1.7.2"
  }
 },
 "nbformat": 4,
 "nbformat_minor": 5
}
