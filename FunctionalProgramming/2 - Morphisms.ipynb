{
 "cells": [
  {
   "cell_type": "markdown",
   "id": "7cfd21d1-8b91-441d-8a0e-fe17038bb91a",
   "metadata": {},
   "source": [
    "***CATEGORY THEORY WITH JULIA***\n",
    "-----"
   ]
  },
  {
   "cell_type": "markdown",
   "id": "ff7fa2b2-e73b-43c6-9044-0ee814373b26",
   "metadata": {},
   "source": [
    "# Enforcing Types with Morphisms\n",
    "\n",
    "This is the \"applied\" part of Category Theory, focusing on programming."
   ]
  },
  {
   "cell_type": "code",
   "execution_count": 1,
   "id": "85c1fbc7-34e7-41e5-b9f7-a13fca8b6622",
   "metadata": {},
   "outputs": [
    {
     "name": "stderr",
     "output_type": "stream",
     "text": [
      "\u001b[32m\u001b[1m  Activating\u001b[22m\u001b[39m project at `~/MEGA/EMAP/PhDThesis/notes/FunctionalProgrammingCategoryTheory/julia`\n"
     ]
    }
   ],
   "source": [
    "using Pkg\n",
    "Pkg.activate(\".\")"
   ]
  },
  {
   "cell_type": "markdown",
   "id": "dec2709c-7e34-42e2-8356-23c2da9b52f8",
   "metadata": {},
   "source": [
    "## 1. Creating Morphisms in Julia"
   ]
  },
  {
   "cell_type": "markdown",
   "id": "f15519e6-7130-43db-b849-a60b4ecf3406",
   "metadata": {},
   "source": [
    "We start be defining the composition operator. This is actually already present in Julia via `\\circ`. But here we'll implement it\n",
    "again using the code from Julia's Base.\n",
    "\n",
    "The implementation relys on function-like objects that are structs that can be called, similar to a function."
   ]
  },
  {
   "cell_type": "code",
   "execution_count": 2,
   "id": "5c030b08-1892-4e58-b1b3-f3aa7e32038f",
   "metadata": {},
   "outputs": [],
   "source": [
    "struct Comp{O,I} <: Function\n",
    "    outer::O\n",
    "    inner::I\n",
    "    Comp{O, I}(outer, inner) where {O, I} = new{O, I}(outer, inner)\n",
    "    Comp(outer, inner) = new{Core.Typeof(outer),Core.Typeof(inner)}(outer, inner)\n",
    "end\n",
    "\n",
    "function (c::Comp)(x...; kw...)\n",
    "    return c.outer(c.inner(x...; kw...))\n",
    "end"
   ]
  },
  {
   "cell_type": "markdown",
   "id": "188dfb49-9be8-4cdf-856f-240422a4ac3d",
   "metadata": {},
   "source": [
    "In the code above, the last two lines in the `struct`are constructors, where the first one allow us to do\n",
    "`Comp{Function, Function}(g, f)` and for the second we do `Comp(g,f)`. In the last line we are defining a function\n",
    "to be dispatched on `Comp`, but this function is nameless.\n",
    "\n",
    "With this, our composition is now working."
   ]
  },
  {
   "cell_type": "code",
   "execution_count": 3,
   "id": "4ff9cd05-6c67-4f6b-9a2c-ebc4fb0b2d95",
   "metadata": {},
   "outputs": [
    {
     "data": {
      "text/plain": [
       "(::Comp{var\"#6#8\", var\"#7#9\"}) (generic function with 1 method)"
      ]
     },
     "execution_count": 3,
     "metadata": {},
     "output_type": "execute_result"
    }
   ],
   "source": [
    "Comp{Function, Function}(x->x, y->y^2)\n",
    "Comp(x->x, y->y^2)"
   ]
  },
  {
   "cell_type": "code",
   "execution_count": 4,
   "id": "f06993ec-6563-4f13-bdb2-2aca4212c50a",
   "metadata": {},
   "outputs": [
    {
     "data": {
      "text/plain": [
       "4"
      ]
     },
     "execution_count": 4,
     "metadata": {},
     "output_type": "execute_result"
    }
   ],
   "source": [
    "id = x -> x\n",
    "sq = x -> x^2\n",
    "Comp(id,sq)(2)"
   ]
  },
  {
   "cell_type": "markdown",
   "id": "2b718cc4-69bc-4c96-913e-d446172ea562",
   "metadata": {},
   "source": [
    "The current implementation does not enforce anything related to domain and codomain.\n",
    "Let's create a struct for that, called morphism."
   ]
  },
  {
   "cell_type": "code",
   "execution_count": 5,
   "id": "5bbb28c7-67b2-428b-a43c-2db0af29540f",
   "metadata": {},
   "outputs": [],
   "source": [
    "struct Morphism1\n",
    "    f::Function\n",
    "    dom::Type\n",
    "    codom::Type\n",
    "end"
   ]
  },
  {
   "cell_type": "code",
   "execution_count": 6,
   "id": "474b0895-779a-47c1-a67e-a99c075fe84b",
   "metadata": {},
   "outputs": [
    {
     "data": {
      "text/plain": [
       "4"
      ]
     },
     "execution_count": 6,
     "metadata": {},
     "output_type": "execute_result"
    }
   ],
   "source": [
    "m = Morphism1(x->x^2, Real, Real)\n",
    "m.f(2)"
   ]
  },
  {
   "cell_type": "markdown",
   "id": "5220fc34-7396-4e56-97ea-c4e366df9d14",
   "metadata": {},
   "source": [
    "This works. But we cannot dispatch our morphisms based on their domain and codomain.\n",
    "Perhaps it's better to use parametric types.\n",
    "\n",
    "Thus, let's reformulate our struct and make it similar to `Comp`.\n",
    "Let's define a function such\n",
    "that our struct would work like a function without having to use the `.f`.\n",
    " "
   ]
  },
  {
   "cell_type": "code",
   "execution_count": 7,
   "id": "b833b652-8fa9-403b-8f04-2f6ffe871718",
   "metadata": {},
   "outputs": [
    {
     "data": {
      "text/plain": [
       "((Any, Real), Int64)"
      ]
     },
     "execution_count": 7,
     "metadata": {},
     "output_type": "execute_result"
    }
   ],
   "source": [
    "function getfunctiontype(f, methodindex=1)\n",
    "    m = collect(methods(f))[methodindex]\n",
    "    dom = Tuple([m.sig.types[2:end]...])\n",
    "    codom = Base.code_typed(f, dom)[1].second\n",
    "    \n",
    "    if length(dom) == 1\n",
    "        dom = dom[1]\n",
    "    end\n",
    "    return dom,codom\n",
    "end\n",
    "\n",
    "function F(x,y::Real)::Int\n",
    "    return x\n",
    "end\n",
    "\n",
    "\n",
    "getfunctiontype(F)"
   ]
  },
  {
   "cell_type": "code",
   "execution_count": 8,
   "id": "fca96817-e36f-444a-b0a0-54513404ca13",
   "metadata": {},
   "outputs": [
    {
     "data": {
      "text/plain": [
       "Morphism{Any, Any}(var\"#16#17\"())"
      ]
     },
     "execution_count": 8,
     "metadata": {},
     "output_type": "execute_result"
    }
   ],
   "source": [
    "struct Morphism{D,C}\n",
    "    f::Function\n",
    "end\n",
    "\n",
    "function Morphism(f::Function)\n",
    "    D,C = getfunctiontype(f)\n",
    "    if typeof(D) <: Tuple\n",
    "        D = Tuple{D...}\n",
    "    end\n",
    "    Morphism{D,C}(f)\n",
    "end\n",
    "\n",
    "function (m::Morphism)(x)\n",
    "    m.f(x)\n",
    "end\n",
    "\n",
    "function ff(x)\n",
    "    x^2\n",
    "end\n",
    "m1 = Morphism(F)\n",
    "m2 = Morphism(x->x^2)"
   ]
  },
  {
   "cell_type": "code",
   "execution_count": 9,
   "id": "6b893b74-e819-4128-a02a-ef2f2d68bcca",
   "metadata": {},
   "outputs": [
    {
     "data": {
      "text/plain": [
       "4"
      ]
     },
     "execution_count": 9,
     "metadata": {},
     "output_type": "execute_result"
    }
   ],
   "source": [
    "m2(2)"
   ]
  },
  {
   "cell_type": "markdown",
   "id": "0c5c6f9b-261b-4dce-99b5-3f797d39fdcc",
   "metadata": {},
   "source": [
    "Let's create a macro to ease the way we define morphisms. "
   ]
  },
  {
   "cell_type": "code",
   "execution_count": 10,
   "id": "af665ef8-3958-4dbd-972e-6dd147963531",
   "metadata": {},
   "outputs": [
    {
     "data": {
      "text/plain": [
       "@morphism (macro with 1 method)"
      ]
     },
     "execution_count": 10,
     "metadata": {},
     "output_type": "execute_result"
    }
   ],
   "source": [
    "using MacroTools\n",
    "\n",
    "function extractypes(dex)\n",
    "    t = map(dex[:args]) do a\n",
    "        if a isa Symbol\n",
    "            return Any\n",
    "        else\n",
    "            return eval(a.args[2])\n",
    "        end\n",
    "    end\n",
    "    length(t) == 1 ? t[1] : Tuple{t...}\n",
    "end\n",
    "\n",
    "macro morphism(ex)\n",
    "    dex = MacroTools.splitdef(ex)\n",
    "    dom = extractypes(dex)\n",
    "    codom = Any\n",
    "    if :rtype in keys(dex)\n",
    "        codom = eval(dex[:rtype])\n",
    "    end\n",
    "    \n",
    "    name = esc(dex[:name])\n",
    "    \n",
    "    return quote\n",
    "        $name = Morphism{$dom, $codom}($ex)\n",
    "    end\n",
    "end"
   ]
  },
  {
   "cell_type": "code",
   "execution_count": 11,
   "id": "3d8ca714-c186-4ef7-ba9e-eedd3e925493",
   "metadata": {},
   "outputs": [
    {
     "data": {
      "text/plain": [
       "Morphism{Tuple{Int64, Real}, Int64}(var\"#32#m\")"
      ]
     },
     "execution_count": 11,
     "metadata": {},
     "output_type": "execute_result"
    }
   ],
   "source": [
    "@morphism function m(x::Int, y::Real)::Int\n",
    "    return x^2\n",
    "end"
   ]
  },
  {
   "cell_type": "markdown",
   "id": "6f48bbf8-44f6-4d04-be04-5ec29e7005de",
   "metadata": {},
   "source": [
    "Nice! Let's write two helper functions to get the domain and codomain. "
   ]
  },
  {
   "cell_type": "code",
   "execution_count": 12,
   "id": "d11d6559-e8d3-4247-a2ef-3a2d56929d54",
   "metadata": {},
   "outputs": [],
   "source": [
    "dom(m::Morphism) = typeof(m).parameters[1]\n",
    "codom(m::Morphism) = typeof(m).parameters[2];"
   ]
  },
  {
   "cell_type": "markdown",
   "id": "0ad9b602-ad20-46cd-82e8-33bb533262b1",
   "metadata": {},
   "source": [
    "Now that we can construct our morphisms, let's implement the composition\n",
    "of such morphisms. In our case, the composition must restrict to matching types."
   ]
  },
  {
   "cell_type": "code",
   "execution_count": 13,
   "id": "1e54d4bd-5302-4e00-8653-cda15178d7f3",
   "metadata": {},
   "outputs": [],
   "source": [
    "function Base.:∘(f::Morphism, g::Morphism)\n",
    "    if codom(g) === dom(f)\n",
    "        return Morphism{dom(g), codom(f)}(f.f ∘ g.f)\n",
    "    end\n",
    "    error(\"Codomain of $f does not match domain of $g\")\n",
    "end"
   ]
  },
  {
   "cell_type": "code",
   "execution_count": 14,
   "id": "8def4725-cf78-4216-bfdb-07b97d7f29e9",
   "metadata": {},
   "outputs": [
    {
     "data": {
      "text/plain": [
       "Morphism{Int64, Real}(var\"#37#f\")"
      ]
     },
     "execution_count": 14,
     "metadata": {},
     "output_type": "execute_result"
    }
   ],
   "source": [
    "@morphism function g(x::Int)::Int\n",
    "   x \n",
    "end\n",
    "@morphism function f(x::Int)::Real\n",
    "   √x \n",
    "end"
   ]
  },
  {
   "cell_type": "code",
   "execution_count": 15,
   "id": "531a8489-5c61-43d7-b675-36612e4e18d9",
   "metadata": {},
   "outputs": [
    {
     "data": {
      "text/plain": [
       "2.0"
      ]
     },
     "execution_count": 15,
     "metadata": {},
     "output_type": "execute_result"
    }
   ],
   "source": [
    "(f∘g)(4)"
   ]
  },
  {
   "cell_type": "markdown",
   "id": "63069e11-6e1f-4105-9f35-02a445690f13",
   "metadata": {},
   "source": [
    "## 2 Type enforcing with FunctionWrappers \n",
    "\n",
    "We've implemented our Morphism in order to enforce types in functions.\n",
    "Our implementation was more for learning, and not focused on optimization.\n",
    "\n",
    "A \"pro\" implementation of this is done in the FunctionWrappers.jl package.\n",
    "Yet, the goal of function wrappers is to do composition of functions an so on. Hence,\n",
    "we proceed with our morphism implementaion.\n",
    "\n",
    "Let's just finish this by showing an example of usage of FunctionWrappers.jl."
   ]
  },
  {
   "cell_type": "code",
   "execution_count": 28,
   "id": "add942e3-efc8-48d2-a6eb-5f9bb2137762",
   "metadata": {},
   "outputs": [],
   "source": [
    "import FunctionWrappers: FunctionWrapper"
   ]
  },
  {
   "cell_type": "code",
   "execution_count": 32,
   "id": "8215523e-409e-45ae-9a9a-80516b5d8445",
   "metadata": {},
   "outputs": [
    {
     "data": {
      "text/plain": [
       "FunctionWrapper{Float64, Tuple{Int64}}"
      ]
     },
     "execution_count": 32,
     "metadata": {},
     "output_type": "execute_result"
    }
   ],
   "source": [
    "f = FunctionWrapper{Float64,Tuple{Int}}(x->x^0.5)\n",
    "typeof(f)"
   ]
  },
  {
   "cell_type": "markdown",
   "id": "38fd87e2-e3d7-4075-919d-27557a01eec4",
   "metadata": {},
   "source": [
    "## 3. Functions as Exponential Objects\n",
    "\n",
    "We've seen in section 1 on Types (the other notebook),\n",
    "that we can do algebra on types. For example, we can definte `Int × Int` which\n",
    "is equivalent to `Tuple{Int,Int}`, and we can do `String + Int` which is equivalent\n",
    "to `Union{String,Int}`. What about exponentiation?\n",
    "\n",
    "First, remember that not every category has products, meaning, it's not always\n",
    "true that for two objects $A$ and $B$ in $\\mathcal C$, that $A \\times B$ is also\n",
    "an object in $\\mathcal C$. The same is true for exponential objects.\n",
    "\n",
    "Moreover, whenever a category has all finite products and exponential objects,\n",
    "this category is said to be a **Cartesian Closed Category**.\n",
    "\n",
    "In set theory, the set $Z^Y$ is the set of all functions from $Y$ to $Z$. Hence,\n",
    "analogously, for a small category $\\mathcal C$, an object $Z^Y$ would be the\n",
    "set of morphisms from $Y$ to $Z$, i.e. $\\text{Hom}(Y,Z)$.\n",
    "\n",
    "Hence, in programming, we can think of `Int^String` as the type consisting of\n",
    "functions that take strings as arguments and return integers.\n",
    "\n",
    "Yet, as we've said, in Julia we do not have these types, meaning,\n",
    "Julia does not enforce that our function always returns a string.\n",
    "\n",
    "Of course, there are ways around it, as we've shown we our implementation of morphisms."
   ]
  },
  {
   "cell_type": "markdown",
   "id": "6fe7dd54-fe61-4a41-bc9f-da035114a226",
   "metadata": {},
   "source": [
    "## 4. Currying"
   ]
  },
  {
   "cell_type": "code",
   "execution_count": 101,
   "id": "91d91dbb-78bf-495a-9ac3-b16a8ac87fce",
   "metadata": {},
   "outputs": [
    {
     "data": {
      "text/plain": [
       "curry (generic function with 2 methods)"
      ]
     },
     "execution_count": 101,
     "metadata": {},
     "output_type": "execute_result"
    }
   ],
   "source": [
    "f(x,y) = x + y\n",
    "curry(f::Function,y) = x->f(x,y)"
   ]
  },
  {
   "cell_type": "code",
   "execution_count": 105,
   "id": "e38b9dc9-514a-42fd-8586-60792b15968b",
   "metadata": {},
   "outputs": [
    {
     "data": {
      "text/plain": [
       "3"
      ]
     },
     "execution_count": 105,
     "metadata": {},
     "output_type": "execute_result"
    }
   ],
   "source": [
    "f(1,2)\n",
    "curry(f,1)(2)"
   ]
  }
 ],
 "metadata": {
  "kernelspec": {
   "display_name": "Julia 1.8.1",
   "language": "julia",
   "name": "julia-1.8"
  },
  "language_info": {
   "file_extension": ".jl",
   "mimetype": "application/julia",
   "name": "julia",
   "version": "1.8.1"
  }
 },
 "nbformat": 4,
 "nbformat_minor": 5
}
