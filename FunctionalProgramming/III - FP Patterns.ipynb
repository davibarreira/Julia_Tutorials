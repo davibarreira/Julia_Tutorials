{
 "cells": [
  {
   "cell_type": "markdown",
   "id": "844d6ba1-d27d-4ebf-b202-344962cc829f",
   "metadata": {},
   "source": [
    "# **Functional Programming - Main Patterns**\n",
    "\n",
    "This is based on the book \"Learning Functionl Programming\" (Jack Widman).\n",
    "\n",
    "## 1. Functor Patterns\n",
    "\n",
    "A functor is like a composable container. The formal definition comes from Category\n",
    "Theory. A functor $F$ takes a type $T$ to $FT$, and takes a function\n",
    "$f:T \\to T'$ to a function $Ff: FT \\to FT'$.\n",
    "Another description is that a functor is a container together with a `map`\n",
    "function that allows for composition. A simple example of a functor\n",
    "is the `Vector` functor. This functor takes any type `T` and turns\n",
    "into `Vector{T}`. Also, it has a `fmap` function that works\n",
    "by applying the function `f` to every element of `v::Vector{T}`.\n",
    "Let's do this example by creating our own functor `List` built from `Vector`."
   ]
  },
  {
   "cell_type": "code",
   "execution_count": 1,
   "id": "0c70795e-cb01-427c-946b-d607b094d03d",
   "metadata": {},
   "outputs": [
    {
     "name": "stderr",
     "output_type": "stream",
     "text": [
      "\u001b[32m\u001b[1m  Activating\u001b[22m\u001b[39m project at `~/MEGA/EMAP/Julia_Tutorials/FunctionalProgramming`\n"
     ]
    }
   ],
   "source": [
    "using Pkg\n",
    "Pkg.activate(\".\")"
   ]
  },
  {
   "cell_type": "code",
   "execution_count": 13,
   "id": "58ffea8e-e0e0-47ee-9e02-5ce5d60355aa",
   "metadata": {},
   "outputs": [],
   "source": [
    "List{T} = Vector{T}\n",
    "List(T::Type) = Vector{T}\n",
    "\n",
    "# List(x...) = [x...]\n",
    "# Note here that using List for instantianting the vector\n",
    "# will cause problems if one tries to do List(List(1)).\n",
    "# Hence, we solve this by calling the function\n",
    "# `list`.\n",
    "# Another solution would be to declare\n",
    "# List(x...) = [x...] and\n",
    "# List(x::List...) = [x...]\n",
    "\n",
    "list(x...) = [x...]\n",
    "fmap(f::Function, a::List{T}) where T = map(f,a)\n",
    "\n",
    "list(1) isa List{Int}\n",
    "fmap(x->x^2, list(1,2,3))\n",
    "List(f::Function) = a::List -> fmap(f,a);"
   ]
  },
  {
   "cell_type": "markdown",
   "id": "14f2f13b-e2c0-4852-ac6c-0afdb8f34d8e",
   "metadata": {},
   "source": [
    "Here is another simple example of a functor. "
   ]
  },
  {
   "cell_type": "code",
   "execution_count": 14,
   "id": "ead7b4c2-0ef8-42e7-8c2e-081af56f9089",
   "metadata": {},
   "outputs": [
    {
     "data": {
      "text/plain": [
       "fmap (generic function with 2 methods)"
      ]
     },
     "execution_count": 14,
     "metadata": {},
     "output_type": "execute_result"
    }
   ],
   "source": [
    "struct F{T}\n",
    "    x::T\n",
    "end\n",
    "\n",
    "fmap(f::Function, a::F{T}) where T = F(a.x)"
   ]
  },
  {
   "cell_type": "markdown",
   "id": "1eed23ca-9e8c-4ed4-b907-ae41489ec6e6",
   "metadata": {},
   "source": [
    "Another useful functor is the `Option` or `Maybe` functor. \n",
    "Julia actually has an implementation of this under the `Some` type."
   ]
  },
  {
   "cell_type": "code",
   "execution_count": 15,
   "id": "42dc5184-9962-4565-b0bb-831ce7096843",
   "metadata": {},
   "outputs": [
    {
     "name": "stdout",
     "output_type": "stream",
     "text": [
      "Some(1) isa Option{Int} = true\n",
      "something(Some(1)) == 1 = true\n"
     ]
    },
    {
     "data": {
      "text/plain": [
       "3-element Vector{Union{Nothing, Some{Int64}}}:\n",
       " Some(1)\n",
       " nothing\n",
       " Some(8)"
      ]
     },
     "execution_count": 15,
     "metadata": {},
     "output_type": "execute_result"
    }
   ],
   "source": [
    "Option{T} = Union{Some{T},Nothing}\n",
    "@show Some(1) isa Option{Int}\n",
    "@show something(Some(1)) == 1\n",
    "Option(::Nothing) = nothing\n",
    "Option(x) = Some(x)\n",
    "Option() = nothing\n",
    "\n",
    "fmap(f, a::Nothing) = nothing\n",
    "fmap(f, a::Some{T}) where T = Some(f(something(a)))\n",
    "Option(f::Function) = a::Option -> fmap(f,a)\n",
    "\n",
    "l = list(Some(1),nothing,Some(8))"
   ]
  },
  {
   "cell_type": "markdown",
   "id": "2b60783b-40ae-46c9-887f-446212053b6a",
   "metadata": {},
   "source": [
    "Suppose we want to add 1 to every element in our list. The problem is,\n",
    "our list is composed of `Option{T}` type elements. So a simple `fmap(f, l)` won't\n",
    "work."
   ]
  },
  {
   "cell_type": "code",
   "execution_count": 16,
   "id": "023e3239-9033-40d0-8de1-cfe2e79828c9",
   "metadata": {},
   "outputs": [
    {
     "ename": "LoadError",
     "evalue": "MethodError: no method matching +(::Some{Int64}, ::Int64)\n\u001b[0mClosest candidates are:\n\u001b[0m  +(::Any, ::Any, \u001b[91m::Any\u001b[39m, \u001b[91m::Any...\u001b[39m) at operators.jl:591\n\u001b[0m  +(\u001b[91m::T\u001b[39m, ::T) where T<:Union{Int128, Int16, Int32, Int64, Int8, UInt128, UInt16, UInt32, UInt64, UInt8} at int.jl:87\n\u001b[0m  +(\u001b[91m::Rational\u001b[39m, ::Integer) at rational.jl:313\n\u001b[0m  ...",
     "output_type": "error",
     "traceback": [
      "MethodError: no method matching +(::Some{Int64}, ::Int64)\n\u001b[0mClosest candidates are:\n\u001b[0m  +(::Any, ::Any, \u001b[91m::Any\u001b[39m, \u001b[91m::Any...\u001b[39m) at operators.jl:591\n\u001b[0m  +(\u001b[91m::T\u001b[39m, ::T) where T<:Union{Int128, Int16, Int32, Int64, Int8, UInt128, UInt16, UInt32, UInt64, UInt8} at int.jl:87\n\u001b[0m  +(\u001b[91m::Rational\u001b[39m, ::Integer) at rational.jl:313\n\u001b[0m  ...",
      "",
      "Stacktrace:",
      " [1] (::var\"#9#10\")(x::Some{Int64})",
      "   @ Main ./In[16]:1",
      " [2] iterate",
      "   @ ./generator.jl:47 [inlined]",
      " [3] _collect",
      "   @ ./array.jl:807 [inlined]",
      " [4] collect_similar(cont::Vector{Union{Nothing, Some{Int64}}}, itr::Base.Generator{Vector{Union{Nothing, Some{Int64}}}, var\"#9#10\"})",
      "   @ Base ./array.jl:716",
      " [5] map(f::Function, A::Vector{Union{Nothing, Some{Int64}}})",
      "   @ Base ./abstractarray.jl:2933",
      " [6] fmap(f::Function, a::Vector{Union{Nothing, Some{Int64}}})",
      "   @ Main ./In[13]:14",
      " [7] top-level scope",
      "   @ In[16]:1",
      " [8] eval",
      "   @ ./boot.jl:368 [inlined]",
      " [9] include_string(mapexpr::typeof(REPL.softscope), mod::Module, code::String, filename::String)",
      "   @ Base ./loading.jl:1428"
     ]
    }
   ],
   "source": [
    "fmap(x->x+1, l)"
   ]
  },
  {
   "cell_type": "markdown",
   "id": "9127a57d-4222-406d-b4a9-a7142f353640",
   "metadata": {},
   "source": [
    "The error here is because we are trying to sum 1 to `Some(1)` and similarly,\n",
    "we are trying to sum 1 to `nothing`.\n",
    "For this to work, we have to lift our function `x->x+1` to be a function\n",
    "that acts on `Option{T}`. We know how to do this, simply use the functor\n",
    "`Option(x->x + 1)`."
   ]
  },
  {
   "cell_type": "code",
   "execution_count": 17,
   "id": "0ff81f8b-3598-4d04-9420-6019805f1b3f",
   "metadata": {},
   "outputs": [
    {
     "data": {
      "text/plain": [
       "3-element Vector{Union{Nothing, Some{Int64}}}:\n",
       " Some(2)\n",
       " nothing\n",
       " Some(9)"
      ]
     },
     "execution_count": 17,
     "metadata": {},
     "output_type": "execute_result"
    }
   ],
   "source": [
    "fmap(Option(x->x+1),l)"
   ]
  },
  {
   "cell_type": "markdown",
   "id": "ab75073d-0820-480d-a7ec-98a07229508f",
   "metadata": {},
   "source": [
    "It worked. Note that instead of using `fmap` we could've lifted\n",
    "`x->x+1` using `List ∘ Option`. "
   ]
  },
  {
   "cell_type": "code",
   "execution_count": 18,
   "id": "6eef4447-502e-4bea-9473-a8ce6bb0000f",
   "metadata": {},
   "outputs": [
    {
     "data": {
      "text/plain": [
       "3-element Vector{Union{Nothing, Some{Int64}}}:\n",
       " Some(2)\n",
       " nothing\n",
       " Some(9)"
      ]
     },
     "execution_count": 18,
     "metadata": {},
     "output_type": "execute_result"
    }
   ],
   "source": [
    "(List ∘ Option)(x->x+1)(l)"
   ]
  },
  {
   "cell_type": "markdown",
   "id": "76c7a302-2eff-41fd-a8e7-d686266d51f2",
   "metadata": {},
   "source": [
    "## 2. Monoids\n",
    "\n",
    "Our second pattern are monoids. Monoids are a triple $(M, e, \\otimes)$ where\n",
    "$M$ is a set, $e$ is a neutral element and $\\otimes$ is a binary operator that is\n",
    "associative. In categorical terms, we can consider that $(M,e \\otimes)$ is a category $\\mathcal M$,\n",
    "where $M$ is an object, $e:M\\to M$ is an endomorphism (a morphism\n",
    "from $M$ to itself) and $\\otimes$ is the composition operation. Thus, \n",
    "$f \\circ e = f \\otimes e = f = e \\otimes f$ for every $f:M \\to M$.\n",
    "\n",
    "In programming, $M$ is a type, $e$ is a value of type $M$ and $\\otimes$\n",
    "is a binary function $\\otimes(a::M,b::M)::M$. So this collection defines a monoid\n",
    "*if* $a \\otimes e = a = e \\otimes a$ for every $a \\in M$, and\n",
    "$a \\otimes(b \\otimes c) = (a \\otimes b) \\otimes c$."
   ]
  },
  {
   "cell_type": "markdown",
   "id": "164e0be3-5c99-4451-9c1c-e0b6a0d5d38e",
   "metadata": {},
   "source": [
    "Our first example of a monoid will be (`String`,`\"\"`,`*`). "
   ]
  },
  {
   "cell_type": "code",
   "execution_count": 19,
   "id": "cb5fb5d7-a051-4680-aeef-8d578fb3aed4",
   "metadata": {},
   "outputs": [
    {
     "data": {
      "text/plain": [
       "\"oknnmm\""
      ]
     },
     "execution_count": 19,
     "metadata": {},
     "output_type": "execute_result"
    }
   ],
   "source": [
    "neutral(::Type{String}) = \"\"\n",
    "⊗(s1::String, s2::String) = s1 * s2\n",
    "\n",
    "\"ok\" ⊗ \"nn\" ⊗ \"mm\" ⊗ neutral(String)"
   ]
  },
  {
   "cell_type": "markdown",
   "id": "bd21b294-4657-4d32-ad94-fb776bfef3a5",
   "metadata": {},
   "source": [
    "Our second example is (`Real`,`0`,`+`) "
   ]
  },
  {
   "cell_type": "code",
   "execution_count": 20,
   "id": "0f955a9f-b792-42f2-9747-ca184ecf0818",
   "metadata": {},
   "outputs": [
    {
     "data": {
      "text/plain": [
       "3"
      ]
     },
     "execution_count": 20,
     "metadata": {},
     "output_type": "execute_result"
    }
   ],
   "source": [
    "neutral(::Type{Real}) = 0\n",
    "⊗(n1::Real, n2::Real) = n1 + n2\n",
    "\n",
    "neutral(Real) ⊗ 1 ⊗ 2 ⊗ neutral(Real)"
   ]
  },
  {
   "cell_type": "markdown",
   "id": "c5ce8e28-15a4-4cd3-b60d-308ba661b852",
   "metadata": {},
   "source": [
    "From two monoids, we can create a new monoid by taking the \"tuple\" (product), i.e.\n",
    "$(M \\times M', e_M \\times e_{M'}, \\otimes_M \\times \\otimes_{M'})$."
   ]
  },
  {
   "cell_type": "code",
   "execution_count": 21,
   "id": "af33b965-2d3b-4f8f-988b-e01a96298fb5",
   "metadata": {},
   "outputs": [
    {
     "data": {
      "text/plain": [
       "⊗ (generic function with 3 methods)"
      ]
     },
     "execution_count": 21,
     "metadata": {},
     "output_type": "execute_result"
    }
   ],
   "source": [
    "neutral(::Type{Tuple{M1, M2}}) where {M1,M2} = (neutral(M1),neutral(M2))\n",
    "⊗(x1::Tuple{M1,M2}, x2::Tuple{M1,M2}) where {M1,M2} = (x1[1] ⊗ x2[1], x1[2] ⊗ x2[2])"
   ]
  },
  {
   "cell_type": "code",
   "execution_count": 22,
   "id": "a8ae3da5-8812-4367-abd9-19605d2c8042",
   "metadata": {},
   "outputs": [
    {
     "data": {
      "text/plain": [
       "(\"onetwo\", 3)"
      ]
     },
     "execution_count": 22,
     "metadata": {},
     "output_type": "execute_result"
    }
   ],
   "source": [
    "(\"one\",1) ⊗ (\"two\",2) ⊗ neutral(Tuple{String, Real})"
   ]
  },
  {
   "cell_type": "markdown",
   "id": "bde9f22d-61c5-4eb2-ae37-b731912d9fe5",
   "metadata": {},
   "source": [
    "### Monoids as Traits\n",
    "\n",
    "Note that if we want to know if an specific type `T` has a \"monoid interface\", i.e.\n",
    "the `neutral(T::Type)` and `⊗(x::T, y::T)`, is defined, then we need to\n",
    "\"manually\" check."
   ]
  },
  {
   "cell_type": "code",
   "execution_count": 23,
   "id": "b0c1fee1-807d-407f-a686-54c6e7dec83b",
   "metadata": {},
   "outputs": [],
   "source": [
    "abstract type Monoid end\n",
    "struct IsMonoid <: Monoid end\n",
    "struct NotMonoid <: Monoid end\n",
    "\n",
    "\n",
    "Base.:&(m1::IsMonoid,m2::IsMonoid) = IsMonoid()\n",
    "Base.:&(m1::NotMonoid,m2::IsMonoid) = NotMonoid()\n",
    "Base.:&(m1::IsMonoid,m2::NotMonoid) = NotMonoid()\n",
    "Base.:&(m1::NotMonoid,m2::NotMonoid) = NotMonoid()\n",
    "\n",
    "Monoid(::Type) = NotMonoid()\n",
    "Monoid(::Type{<:String}) = IsMonoid()\n",
    "Monoid(::Type{<:Real}) = IsMonoid()\n",
    "Monoid(::Type{Tuple{T1,T2}}) where {T1,T2} = Monoid(T1) & Monoid(T2);"
   ]
  },
  {
   "cell_type": "code",
   "execution_count": 24,
   "id": "68899f8b-9c39-4620-8486-79bc4d723683",
   "metadata": {},
   "outputs": [
    {
     "name": "stdout",
     "output_type": "stream",
     "text": [
      "Monoid(Tuple{String, Real}) = IsMonoid()\n",
      "Monoid(String) = IsMonoid()\n",
      "Monoid(Bool) = IsMonoid()\n"
     ]
    }
   ],
   "source": [
    "@show Monoid(Tuple{String,Real})\n",
    "@show Monoid(String);\n",
    "@show Monoid(Bool);"
   ]
  },
  {
   "cell_type": "code",
   "execution_count": 25,
   "id": "ad55c834-9829-4d15-9f6b-1e439485c3cb",
   "metadata": {},
   "outputs": [
    {
     "data": {
      "text/plain": [
       "ismonoid (generic function with 3 methods)"
      ]
     },
     "execution_count": 25,
     "metadata": {},
     "output_type": "execute_result"
    }
   ],
   "source": [
    "ismonoid(x::T) where T  = ismonoid(Monoid(T))\n",
    "ismonoid(::IsMonoid) = true\n",
    "ismonoid(::NotMonoid) = false"
   ]
  },
  {
   "cell_type": "code",
   "execution_count": 26,
   "id": "fb55d848-060c-484c-8c86-2b2804e28ecd",
   "metadata": {},
   "outputs": [
    {
     "name": "stdout",
     "output_type": "stream",
     "text": [
      "ismonoid(1.0) = true\n",
      "ismonoid(\"example\") = true\n"
     ]
    }
   ],
   "source": [
    "@show ismonoid(1.0)\n",
    "@show ismonoid(\"example\");"
   ]
  },
  {
   "cell_type": "markdown",
   "id": "00c43618-53b0-4d76-8e31-d9fbe159bebb",
   "metadata": {},
   "source": [
    "## 3. Monads\n",
    "\n",
    "A monad is a monoid in the category of endofunctors, i.e.\n",
    "for an endofunctor $M$, we define a monad as\n",
    "$(M, \\eta, \\mu)$, where $\\eta$ and $\\mu$ are natural transformations. We call\n",
    "$\\eta$ the unit, and $\\mu$ is the join. Another equivalent way of defining a monad\n",
    "is with the endofunctor $M$ plus the unit and a bind operator. The bind is derived\n",
    "from the join, and vice-versa. The notebook on Category Theory section explains it deeper.\n"
   ]
  },
  {
   "cell_type": "markdown",
   "id": "93fbc745-db84-4add-a6e6-292462275fb0",
   "metadata": {},
   "source": [
    "A functor is this construction that has a `fmap` function associated, and a monoid\n",
    "has a neutral element and an associate composition operation. Thus, consider\n",
    "a functor such as `F{T}` in o"
   ]
  },
  {
   "cell_type": "code",
   "execution_count": 27,
   "id": "582d00a0-4454-4630-9635-1af1f378fb0f",
   "metadata": {},
   "outputs": [],
   "source": [
    "abstract type Monad end\n",
    "struct IsMonad <: Monoid end\n",
    "struct NotMonad <: Monoid end\n",
    "\n",
    "\n",
    "Base.:&(m1::IsMonoid,m2::IsMonoid) = IsMonoid()\n",
    "Base.:&(m1::NotMonoid,m2::IsMonoid) = NotMonoid()\n",
    "Base.:&(m1::IsMonoid,m2::NotMonoid) = NotMonoid()\n",
    "Base.:&(m1::NotMonoid,m2::NotMonoid) = NotMonoid()\n",
    "\n",
    "Monoid(::Type) = NotMonoid()\n",
    "Monoid(::Type{<:String}) = IsMonoid()\n",
    "Monoid(::Type{<:Real}) = IsMonoid()\n",
    "Monoid(::Type{Tuple{T1,T2}}) where {T1,T2} = Monoid(T1) & Monoid(T2);"
   ]
  },
  {
   "cell_type": "markdown",
   "id": "89191dbd-9fc5-40df-b878-b04896f816ed",
   "metadata": {},
   "source": [
    "A simpler description of a monad is that is a functor has a `flatmap` and a `unit`.\n",
    "Remember that every functor already has a `fmap`. Yet, with a `flatmap` and a\n",
    "`unit`, one can recover `fmap`."
   ]
  },
  {
   "cell_type": "code",
   "execution_count": 28,
   "id": "8e83f893-069a-4d7d-8649-5f3ab03f7a91",
   "metadata": {},
   "outputs": [],
   "source": [
    "struct unit{M} end"
   ]
  },
  {
   "cell_type": "code",
   "execution_count": 29,
   "id": "b17c4f5a-b23c-4451-b531-b6be2eb13cc1",
   "metadata": {},
   "outputs": [],
   "source": [
    "unit{Option}(x) = Option(x)\n",
    "unit{List}(x...)   = list(x...)"
   ]
  },
  {
   "cell_type": "code",
   "execution_count": 30,
   "id": "8cdaa7f3-dd77-4b82-b0b8-56b55a659b9c",
   "metadata": {},
   "outputs": [
    {
     "data": {
      "text/plain": [
       "flatmap (generic function with 2 methods)"
      ]
     },
     "execution_count": 30,
     "metadata": {},
     "output_type": "execute_result"
    }
   ],
   "source": [
    "getoption(x::Some) = something(x)\n",
    "getoption(x::Nothing) = nothing\n",
    "join(x::Option{<:Option{T}}) where T = getoption(x)\n",
    "join(x::List{<:List{T}}) where T = vcat(x...)\n",
    "\n",
    "# also called bind\n",
    "flatmap(f, x::Option) = join(fmap(f, x))\n",
    "flatmap(f, x::List)   = join(fmap(f, x))"
   ]
  },
  {
   "cell_type": "code",
   "execution_count": 31,
   "id": "49c5cb68-7ba5-4ff3-b478-185ef610b5d6",
   "metadata": {},
   "outputs": [],
   "source": [
    "# fmap(join,list(Option(1),Option(),Option(2)))"
   ]
  },
  {
   "cell_type": "markdown",
   "id": "76d9a956-4737-4fc9-8a20-649a97ee9856",
   "metadata": {},
   "source": [
    "Let's do an example. Consider our functor `Option{T}`.\n",
    "First, the `unit` function takes an object of type `T` and turns it\n",
    "into `Option{T}`."
   ]
  },
  {
   "cell_type": "code",
   "execution_count": 32,
   "id": "a066ecb6-c9eb-4b46-a3a8-c987341f2421",
   "metadata": {},
   "outputs": [
    {
     "name": "stdout",
     "output_type": "stream",
     "text": [
      "Some(Some(0))\n",
      "Some(Some(0))\n",
      "Some(0)\n"
     ]
    }
   ],
   "source": [
    "println(Option(x::String -> x==\"\" ? nothing : Some(0))(unit{Option}(\"abc\")))\n",
    "println(fmap(x::String -> x==\"\" ? nothing : Some(0), unit{Option}(\"abc\")));\n",
    "println(join(fmap(x::String -> x==\"\" ? nothing : Some(0), unit{Option}(\"abc\"))));"
   ]
  },
  {
   "cell_type": "code",
   "execution_count": 33,
   "id": "300aaf4a-6c3b-4507-a7c4-7ea0a1de35bb",
   "metadata": {},
   "outputs": [
    {
     "name": "stdout",
     "output_type": "stream",
     "text": [
      "Some(0)\n"
     ]
    }
   ],
   "source": [
    "println(flatmap(x::String -> x==\"\" ? nothing : Some(0), unit{Option}(\"abc\")));"
   ]
  },
  {
   "cell_type": "markdown",
   "id": "95d39fcd-0cd0-4d16-b930-b1a6689360b5",
   "metadata": {},
   "source": [
    "## INCOMPLETE EXAMPLE"
   ]
  },
  {
   "cell_type": "markdown",
   "id": "62896be9-fcdb-41c4-b31f-d011e9cbbfee",
   "metadata": {},
   "source": [
    "To illustrate how this can be useful, let's again consider the example with \n",
    "the user database."
   ]
  },
  {
   "cell_type": "code",
   "execution_count": 83,
   "id": "0ebef71f-bd92-4804-8000-237e371856a3",
   "metadata": {},
   "outputs": [
    {
     "data": {
      "text/plain": [
       "Some(User(\"Peter\"))"
      ]
     },
     "execution_count": 83,
     "metadata": {},
     "output_type": "execute_result"
    }
   ],
   "source": [
    "struct User\n",
    "    name::String\n",
    "end\n",
    "DATABASE = Dict( 4 =>User(\"James\"), 2 =>User(\"John\"), 1 =>User(\"Peter\"));\n",
    "\n",
    "function getuserfromdb(uid::Int)::Option\n",
    "    result = nothing\n",
    "    if uid in keys(DATABASE)\n",
    "        result = DATABASE[uid]\n",
    "    end\n",
    "    return Option(result)\n",
    "end\n",
    "getuserfromdb(1)"
   ]
  },
  {
   "cell_type": "markdown",
   "id": "b09bd2cb-9b4c-4092-a178-1111fe01ca49",
   "metadata": {},
   "source": [
    "We have a list of user ids and we want to apply the `getuserfromdb`\n",
    "function."
   ]
  },
  {
   "cell_type": "code",
   "execution_count": 95,
   "id": "68d9e7d1-1f1a-41da-a19c-63c908992fa0",
   "metadata": {},
   "outputs": [
    {
     "data": {
      "text/plain": [
       "3-element Vector{Union{Nothing, Some{User}}}:\n",
       " Some(User(\"Peter\"))\n",
       " Some(User(\"John\"))\n",
       " nothing"
      ]
     },
     "execution_count": 95,
     "metadata": {},
     "output_type": "execute_result"
    }
   ],
   "source": [
    "userids = list(1,2,3)\n",
    "fmap(getuserfromdb,userids)"
   ]
  },
  {
   "cell_type": "markdown",
   "id": "d4d74653-14c1-41d1-8fc8-773bff98d6e3",
   "metadata": {},
   "source": [
    "It worked, but we got a list of `Options`, and we actually wanted a list of users. \n",
    "Let's try with the `flatmap`."
   ]
  },
  {
   "cell_type": "code",
   "execution_count": 85,
   "id": "3d45a295-c25b-4bb3-87ca-c39923e89907",
   "metadata": {},
   "outputs": [
    {
     "data": {
      "text/plain": [
       "3-element Vector{Union{Nothing, Some{User}}}:\n",
       " Some(User(\"Peter\"))\n",
       " Some(User(\"John\"))\n",
       " nothing"
      ]
     },
     "execution_count": 85,
     "metadata": {},
     "output_type": "execute_result"
    }
   ],
   "source": [
    "# flatmap(getuserfromdb, userids)\n",
    "flatmap(getuserfromdb,userids)\n",
    "# flatmap(x->list(x),List(1,2,3))"
   ]
  },
  {
   "cell_type": "code",
   "execution_count": null,
   "id": "fa192a43-0f66-463f-981a-cda56d4daee9",
   "metadata": {},
   "outputs": [],
   "source": [
    "# flatmap(w::Writer{Writer{T,M},M}) where T where M = Writer(w.a.a,w.log ⊗ w.a.log )"
   ]
  },
  {
   "cell_type": "code",
   "execution_count": null,
   "id": "81e0d678-a3e7-4235-837b-6776d1ccecbb",
   "metadata": {},
   "outputs": [],
   "source": [
    "f(x) = x==1 ? nothing : Some(0)\n",
    "\n",
    "flatmap(f,List(1,2,3))"
   ]
  },
  {
   "cell_type": "code",
   "execution_count": null,
   "id": "712e4392-7460-4cd4-9191-182dbb663eb5",
   "metadata": {},
   "outputs": [],
   "source": [
    "flatmap(f,Some(\"ok\"))"
   ]
  }
 ],
 "metadata": {
  "kernelspec": {
   "display_name": "Julia 1.9.4",
   "language": "julia",
   "name": "julia-1.9"
  },
  "language_info": {
   "file_extension": ".jl",
   "mimetype": "application/julia",
   "name": "julia",
   "version": "1.9.4"
  }
 },
 "nbformat": 4,
 "nbformat_minor": 5
}
