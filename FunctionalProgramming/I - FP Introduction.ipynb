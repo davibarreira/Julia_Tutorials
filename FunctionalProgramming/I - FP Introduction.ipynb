{
 "cells": [
  {
   "cell_type": "markdown",
   "id": "b0a90bcf-137d-4542-a616-ca4da6ed1899",
   "metadata": {},
   "source": [
    "# **Functional Programming - Introduction**\n",
    "\n",
    "This is based on the book \"Learning Functionl Programming\" (Jack Widman).\n",
    "\n",
    "## 1. What is Functional Programming?\n",
    "\n",
    "There are three \"main\" programming paradigms: imperative programmming, Object-Oriented Programming (OOP), and Functional Programming (FP).\n",
    "Imperativie programming is *plain* programming, in the sense that you define variables, and functions, and mutate it's values.\n",
    "OOP models programs via objects. An object is from a class, and it has a state and methods. Thus, the value mutation is usually\n",
    "encapsulated by in the state of an object.\n",
    "Finally, FP tries to erradicate (minimize) value mutation. Once a value is assigned to a varible, this shoudl not change.\n",
    "This might seem strange, but the idea is that value mutation is usually a source of bugs and complications, thus,\n",
    "by limiting it, we can try to make our code more robust.\n",
    "\n",
    "\n",
    "In a sense, Functional Programming is the most unusual of the three approaches, as value mutation\n",
    "is a very natural way of thinking in code.\n",
    "\n",
    "## 2. Is Julia an FP language?\n",
    "\n",
    "This question comes up a lot in Julia's forums. \"Is Julia a Functional Programming Language?\". The answer\n",
    "to this is \"not really\". For starters, Julia allows value mutation. FP is a paradigm, and there are\n",
    "programming languages that are more prone to FP than others. Thus, we can apply Functional Programming ideas\n",
    "to Julia (and even to Python)."
   ]
  },
  {
   "cell_type": "code",
   "execution_count": 78,
   "id": "858100b7-5f2a-4e78-bb6a-679e3a001df5",
   "metadata": {},
   "outputs": [
    {
     "name": "stderr",
     "output_type": "stream",
     "text": [
      "\u001b[32m\u001b[1m  Activating\u001b[22m\u001b[39m project at `~/MEGA/EMAP/Julia_Tutorials/FunctionalProgramming`\n"
     ]
    }
   ],
   "source": [
    "using Pkg\n",
    "Pkg.activate(\".\")"
   ]
  },
  {
   "cell_type": "markdown",
   "id": "0d7b17c6-0c19-4194-b777-91f5fd322b69",
   "metadata": {},
   "source": [
    "## 3. A First Example of Immutability\n",
    "\n",
    "As we've said, FP has as a core principle the idea of immutable variables.\n",
    "If we consider a For-Loop, in Python, a simple\n",
    "```\n",
    "for i in range(0,10):\n",
    "    print(i)\n",
    "```\n",
    "\n",
    "will create a variable `i` that mutates by taking first value 0 then 1, and so on.\n",
    "\n",
    "In Julia, the default behaviour of a For-Loop is different. Julia enforces local\n",
    "scope, and creates local variables that are then destroyed. This is more like\n",
    "a FP style."
   ]
  },
  {
   "cell_type": "code",
   "execution_count": 79,
   "id": "95924d76-464c-4147-937e-8c6c42da0313",
   "metadata": {},
   "outputs": [
    {
     "name": "stdout",
     "output_type": "stream",
     "text": [
      "`i` is note defined\n",
      "`m` is note defined\n"
     ]
    }
   ],
   "source": [
    "for i in 1:4\n",
    "    m = 1\n",
    "end\n",
    "try\n",
    "    i\n",
    "catch\n",
    "    println(\"`i` is note defined\")\n",
    "end\n",
    "\n",
    "try\n",
    "    m\n",
    "catch\n",
    "    println(\"`m` is note defined\")\n",
    "end"
   ]
  },
  {
   "cell_type": "markdown",
   "id": "4ffc5271-50bc-4eb0-b246-ac3dfaae714c",
   "metadata": {},
   "source": [
    "Instead of using a For-Loop, a functional way of doing this would\n",
    "be by defining a function and recursively calling it."
   ]
  },
  {
   "cell_type": "code",
   "execution_count": 80,
   "id": "16f03f58-da21-4ecb-a84f-b7dbd8ccabd2",
   "metadata": {},
   "outputs": [
    {
     "name": "stdout",
     "output_type": "stream",
     "text": [
      "0\n",
      "1\n",
      "2\n",
      "3\n",
      "4\n",
      "5\n"
     ]
    }
   ],
   "source": [
    "function myloop(i::Int)\n",
    "    if i > 5\n",
    "        return\n",
    "    end\n",
    "    println(i)\n",
    "    return myloop(i+1)\n",
    "end\n",
    "myloop(0)"
   ]
  },
  {
   "cell_type": "markdown",
   "id": "b2d1f489-1a6e-4660-a078-874f1b367604",
   "metadata": {},
   "source": [
    "## 4. Side Effects, Pure Functions and Referencial Transparency\n",
    "\n",
    "Consider a function `f`. A function produces a side effect if it affects anything outside\n",
    "of it's score. For example:"
   ]
  },
  {
   "cell_type": "code",
   "execution_count": 81,
   "id": "7c40d08c-c534-43f8-a877-8ca218dc3603",
   "metadata": {},
   "outputs": [
    {
     "name": "stdout",
     "output_type": "stream",
     "text": [
      "x = Any[1]\n"
     ]
    }
   ],
   "source": [
    "x = []\n",
    "function f!(x)\n",
    "    push!(x,1)\n",
    "end\n",
    "f!(x)\n",
    "@show x;"
   ]
  },
  {
   "cell_type": "markdown",
   "id": "b82a9285-bdea-4b7f-ac4f-28a5647e17bf",
   "metadata": {},
   "source": [
    "In Julia, we usually write an exclamation to the end of the name of a function\n",
    "to indicate that this function has side effects. Note that this is *just* a notation.\n",
    "The exclamation point does not modify the function."
   ]
  },
  {
   "cell_type": "markdown",
   "id": "e34cb525-718d-442a-a2cd-c22b5e4cecaf",
   "metadata": {},
   "source": [
    "A function without side effects is called *pure*. \n",
    "\n",
    "Another important aspect is \"referencial transparency\". This means that\n",
    "for a given input `x` a function should always return the same output `y`.\n",
    "This seems logical, but there are clear examples that break this.\n",
    "For example:"
   ]
  },
  {
   "cell_type": "code",
   "execution_count": 82,
   "id": "6a3d5428-06ab-4883-aefb-79ea77246774",
   "metadata": {},
   "outputs": [
    {
     "data": {
      "text/plain": [
       "1-element Vector{Float64}:\n",
       " 0.024980886821626025"
      ]
     },
     "execution_count": 82,
     "metadata": {},
     "output_type": "execute_result"
    }
   ],
   "source": [
    "rand(1)"
   ]
  },
  {
   "cell_type": "markdown",
   "id": "6b2367d7-a8d7-449c-b123-0f91a155ae1f",
   "metadata": {},
   "source": [
    "Note that, in Mathematics, what we define as a function usually follows these two principals, i.e.\n",
    "mathematical functions are pure and referencially transparent.\n",
    "\n",
    "**Def.(Function in Set Theory)** \n",
    "  A function $f$ from a set $X$ to $Y$ is an assignment of an element of $Y$ to each element of $X$,\n",
    "  denoted by $f: X \\to Y$.\n",
    "  The set $X$ is called domain, and $Y$ the codomain. The set $f(X):=\\{f(x) :  x \\in X\\}$ is the\n",
    "  image of $f$."
   ]
  },
  {
   "cell_type": "markdown",
   "id": "8d7f4699-09dd-44ab-b187-f62ecd259613",
   "metadata": {},
   "source": [
    "## 5. Higher Order Functions\n",
    "\n",
    "A high order function is a function that receives functions as input or that returns a function as output.\n",
    "In FP, we want functions to be \"first-class citizens\", meaninig that we can\n",
    "pass them to variables and to other functions just like a regular value.\n",
    "\n",
    "Here is one example:"
   ]
  },
  {
   "cell_type": "code",
   "execution_count": 83,
   "id": "6df8ebf4-f5bb-42d1-b30a-0a57d6aa9dac",
   "metadata": {},
   "outputs": [
    {
     "data": {
      "text/plain": [
       "100"
      ]
     },
     "execution_count": 83,
     "metadata": {},
     "output_type": "execute_result"
    }
   ],
   "source": [
    "square() = nums -> map(x->x^2, nums)\n",
    "square()(10)"
   ]
  },
  {
   "cell_type": "markdown",
   "id": "e630952b-da4b-4716-aa68-2e74cdb49d09",
   "metadata": {},
   "source": [
    "The function `square` when called actually returns a function.\n",
    "Another similar consists in "
   ]
  },
  {
   "cell_type": "code",
   "execution_count": 84,
   "id": "618643e8-62d1-4c3a-af37-9d9b7bf40e5a",
   "metadata": {},
   "outputs": [
    {
     "name": "stdout",
     "output_type": "stream",
     "text": [
      "square_plus_one(1) = 2\n",
      "square_plus_two(2) = 6\n"
     ]
    }
   ],
   "source": [
    "square_plus_one = function(x)\n",
    "    x^2 + 1\n",
    "end\n",
    "@show square_plus_one(1)\n",
    "\n",
    "square_plus_two = x->x^2+2\n",
    "\n",
    "@show square_plus_two(2);"
   ]
  },
  {
   "cell_type": "markdown",
   "id": "a9ef0d09-6d3d-4363-927b-a1df6071d778",
   "metadata": {},
   "source": [
    "## 6. Lazy Evaluation\n",
    "\n",
    "Another relevant concept is the one about lazy evaluation.\n",
    "In Julia we don't natively have lazy evaluation, on the contrary,\n",
    "our code is *eagerly* evaluated. This means that once we call a function,\n",
    "it evaluates all the parameters.\n",
    "\n",
    "Of course, we can alter our code to try to make it lazy.\n",
    "Consider the following example:"
   ]
  },
  {
   "cell_type": "code",
   "execution_count": 118,
   "id": "696973d9-8e4b-4760-91e0-ecef4bd88f15",
   "metadata": {},
   "outputs": [
    {
     "data": {
      "text/plain": [
       "take (generic function with 2 methods)"
      ]
     },
     "execution_count": 118,
     "metadata": {},
     "output_type": "execute_result"
    }
   ],
   "source": [
    "imap = Iterators.map # This is a version of `map` that returns an iterable\n",
    "take = Iterators.take # This function takes an iterable and returns the `n` first values."
   ]
  },
  {
   "cell_type": "code",
   "execution_count": 158,
   "id": "788f0230-03db-42dc-a99c-6ef6e873f3db",
   "metadata": {},
   "outputs": [
    {
     "data": {
      "text/plain": [
       "1:10"
      ]
     },
     "execution_count": 158,
     "metadata": {},
     "output_type": "execute_result"
    }
   ],
   "source": [
    "squarelazy(nums) = imap(x->x+1,nums)\n",
    "x = 1:10\n",
    "\n",
    "squarelazy(x);\n",
    "x"
   ]
  },
  {
   "cell_type": "code",
   "execution_count": 159,
   "id": "d51cc2c0-ffea-456b-8e69-5b5ef1233970",
   "metadata": {},
   "outputs": [
    {
     "data": {
      "text/plain": [
       "UnitRange{Int64}"
      ]
     },
     "execution_count": 159,
     "metadata": {},
     "output_type": "execute_result"
    }
   ],
   "source": [
    "typeof(1:10)"
   ]
  },
  {
   "cell_type": "markdown",
   "id": "69be2b5c-6eb1-4caa-a3a4-af75bde0b99c",
   "metadata": {},
   "source": [
    "Note that our function did not evaluate x. "
   ]
  },
  {
   "cell_type": "code",
   "execution_count": 160,
   "id": "6349e5b1-c69b-4e93-a5a4-9839a4ec7193",
   "metadata": {},
   "outputs": [
    {
     "data": {
      "text/plain": [
       "2-element Vector{Int64}:\n",
       " 2\n",
       " 3"
      ]
     },
     "execution_count": 160,
     "metadata": {},
     "output_type": "execute_result"
    }
   ],
   "source": [
    "collect((squarelazy ∘ take)(x,2))"
   ]
  }
 ],
 "metadata": {
  "kernelspec": {
   "display_name": "Julia 1.8.2",
   "language": "julia",
   "name": "julia-1.8"
  },
  "language_info": {
   "file_extension": ".jl",
   "mimetype": "application/julia",
   "name": "julia",
   "version": "1.8.2"
  }
 },
 "nbformat": 4,
 "nbformat_minor": 5
}
