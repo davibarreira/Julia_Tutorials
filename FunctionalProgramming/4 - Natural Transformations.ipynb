{
 "cells": [
  {
   "cell_type": "markdown",
   "id": "1e82221e-2c43-4cb5-bab7-07b116aa8b5e",
   "metadata": {},
   "source": [
    "# Natural Transformations\n",
    "\n",
    "In Category Theory, a category $\\mathcal C$ has objects and morphisms, which act like functions\n",
    "between objects. In similar fashion, we can define \"functions\" between categories,\n",
    "which we call functors. These functors preserve the composition between the categories, for example,\n",
    "for $F:\\mathcal C \\to \\mathcal D$, for morphisms $f:a \\to b \\in \\mathcal C(A,B)$\n",
    "and $g: B\\to C \\in \\mathcal C(B,C)$, we have that\n",
    "$Fg \\circ Ff = F(f \\circ g)$.\n",
    "Also, functors must take identity morphisms to identity morphisms, i.e. $F id_A = id_{FA}$.\n",
    "\n",
    "Hence, if functors are like morphisms between categories, natural transformations act as\n",
    "morphisms between functors.\n",
    "Formally:\n",
    "\n",
    "**Definition: Natural Transformations (Category Theory)**. Let $\\mathcal C$ and $\\mathcal D$\n",
    "be categories, and let $F,G$ be functors from $\\mathcal C$ to $\\mathcal D$. A natural\n",
    "transformation $\\alpha : \\mathcal C \\Rightarrow \\mathcal D$ is such that:\n",
    "* For all $A \\in \\mathcal C$, $\\alpha_A: FA \\to GA$ is a morphism in $\\mathcal D$;\n",
    "* For all $f \\in \\mathcal C(A,B)$,\n",
    "$$\n",
    "\\alpha_B \\circ Ff = Gf \\circ \\alpha_A\n",
    "$$\n",
    "\n",
    "## 1. Natural Transformations in Programming\n",
    "\n",
    "<!-- As we've said before, in programming, there is a main category $\\mathcal C$\n",
    "where types are objects and functions are morphisms. Also, we can define endofunctors (i.e. $F:\\mathcal C \\to \\mathcal C$) -->\n",
    "\n",
    "The formal definition looks cryptic, but it's not so complex as it looks at first.\n",
    "Note that, in programming, a natural transformation is a parametric function. Meaning,\n",
    "for every type `T`, we have a function `α{T}`.\n",
    "\n",
    "Below we present a simple example of a parametric function:"
   ]
  },
  {
   "cell_type": "code",
   "execution_count": 1,
   "id": "66f88273-f533-4779-8284-daab090da2b8",
   "metadata": {},
   "outputs": [
    {
     "data": {
      "text/plain": [
       "(100, \"AA\", (1, 2))"
      ]
     },
     "execution_count": 1,
     "metadata": {},
     "output_type": "execute_result"
    }
   ],
   "source": [
    "struct α{T} end\n",
    "\n",
    "α{Real}(x::Real) = x^2\n",
    "α{String}(x::String) = x*x\n",
    "α{T}(x::T) where T =  x\n",
    "α{Real}(10), α{String}(\"A\"), α{Any}((1,2))"
   ]
  },
  {
   "cell_type": "markdown",
   "id": "425a18ed-e81b-40d0-82b6-de779eb47fa8",
   "metadata": {},
   "source": [
    "Note that the parametric function we defined was somewhat redundant in terms of Julia. Why? Because\n",
    "in Julia we have multiple dispatch. Hence, we could've totally ommited the parameter type, or,\n",
    "we could've provided it as an argument, and the same would've been achieved. \n",
    "See below:"
   ]
  },
  {
   "cell_type": "code",
   "execution_count": 2,
   "id": "e03d151e-ff7c-41ac-a34d-efc51a515382",
   "metadata": {},
   "outputs": [
    {
     "data": {
      "text/plain": [
       "(100, \"AA\", (1, 2))"
      ]
     },
     "execution_count": 2,
     "metadata": {},
     "output_type": "execute_result"
    }
   ],
   "source": [
    "β(x::Real) = x^2\n",
    "β(x::String) = x * x\n",
    "β(x::Any) = x\n",
    "\n",
    "β(10), β(\"A\"), β((1,2))"
   ]
  },
  {
   "cell_type": "markdown",
   "id": "ab66b427-3631-46e0-80f3-7a40a3f0bd4e",
   "metadata": {},
   "source": [
    "Now, the natural transformation is not simply a parametric function. For it be actually\n",
    "be a natural transformation between two functors, it's necessary to satisfy\n",
    "the condtition that for `f(x::A)::B` and `a::F(A)`, then\n",
    "`α{B}(fmap(f,a)) =  fmap(f,α{A}(a))`."
   ]
  },
  {
   "cell_type": "markdown",
   "id": "4c7f04d8-ce81-440e-bc83-813344172782",
   "metadata": {},
   "source": [
    "**Word of caution!** Note that in Julia, we can define a parametric function to a restricted number of types. By doing so,\n",
    "our parametric type will *not* be a natural transformation, since a natural transformation requires to define a function\n",
    "for each object in our category $\\textbf{Types}$. In Haskell, polymorphic functions are always defined to every possible type, so this\n",
    "is not something to worry; Yet, this is not the case for Julia."
   ]
  },
  {
   "cell_type": "markdown",
   "id": "0a8cd3d4-2b1a-4e93-8778-3bb76fbee566",
   "metadata": {},
   "source": [
    "## 2. First Example of Natural Transformation\n",
    "\n",
    "Let's begin with our first example. Consider the functors `Maybe` and the `List` functor we've implemented in the section of Functors.\n"
   ]
  },
  {
   "cell_type": "code",
   "execution_count": 1,
   "id": "34a19854-77cf-4599-8f02-0b275bd046d6",
   "metadata": {},
   "outputs": [
    {
     "data": {
      "text/plain": [
       "fmap (generic function with 3 methods)"
      ]
     },
     "execution_count": 1,
     "metadata": {},
     "output_type": "execute_result"
    }
   ],
   "source": [
    "abstract type Maybe{T} end\n",
    "struct Just{T} <: Maybe{T}\n",
    "    _1::T\n",
    "end\n",
    "struct Null{T} <: Maybe{T} end\n",
    "\n",
    "Maybe(T::Type) = Maybe{T}\n",
    "fmap(f::Function, x::Maybe{T}) where T = x isa Null ? Null{T}() : Just(f(x._1))\n",
    "\n",
    "\n",
    "abstract type List{T} end\n",
    "struct Nil{T} <: List{T} end\n",
    "struct Cons{T} <: List{T}\n",
    "  val::T\n",
    "  next::List{T} # n.b. abstract type!\n",
    "end\n",
    "Nil(T) = Nil{T}()\n",
    "Nil() = Nil(Any)\n",
    "\n",
    "Cons(x::T) where T = Cons(x, Nil(T))\n",
    "# l = Cons(1,Cons(2));\n",
    "\n",
    "fmap(f::Function, x::Nil) = x\n",
    "fmap(f::Function, x::Cons{T}) where T = Cons(f(x.val),fmap(f, x.next))"
   ]
  },
  {
   "cell_type": "markdown",
   "id": "0133d2c6-4830-4b5a-8e5b-18b3a5a5e3e8",
   "metadata": {},
   "source": [
    "Let's define a natural transformation between these two functors. "
   ]
  },
  {
   "cell_type": "code",
   "execution_count": 4,
   "id": "e06692aa-6a78-4a04-97e1-c3ffc4317237",
   "metadata": {},
   "outputs": [
    {
     "data": {
      "text/plain": [
       "(Just{Int64}(1), Null{List}())"
      ]
     },
     "execution_count": 4,
     "metadata": {},
     "output_type": "execute_result"
    }
   ],
   "source": [
    "safehead(x::Nil) =  Null{List}()\n",
    "safehead(x::Cons) = Just(x.val)\n",
    "\n",
    "l = Cons(1,Cons(2));\n",
    "safehead(l), safehead(Nil())"
   ]
  },
  {
   "cell_type": "markdown",
   "id": "f7dca3a5-35a3-4a45-808f-62b8f380853e",
   "metadata": {},
   "source": [
    "Let's check if the conditions are satisfied.  The condition\n",
    "just means that we can either apply the `safehead` function after or before apply the\n",
    "`fmap(f,)`."
   ]
  },
  {
   "cell_type": "code",
   "execution_count": 12,
   "id": "592fe363-9d0e-47dd-a2c4-fb80b55d412f",
   "metadata": {},
   "outputs": [
    {
     "name": "stdout",
     "output_type": "stream",
     "text": [
      "safehead(fmap(f, l)) == fmap(f, safehead(l)) = true\n"
     ]
    },
    {
     "data": {
      "text/plain": [
       "Just{Int64}(1)"
      ]
     },
     "execution_count": 12,
     "metadata": {},
     "output_type": "execute_result"
    }
   ],
   "source": [
    "f(x) = x^2\n",
    "\n",
    "@show safehead(fmap(f, l)) == fmap(f,safehead(l))\n",
    "safehead(fmap(f, l))"
   ]
  }
 ],
 "metadata": {
  "kernelspec": {
   "display_name": "Julia 1.8.1",
   "language": "julia",
   "name": "julia-1.8"
  },
  "language_info": {
   "file_extension": ".jl",
   "mimetype": "application/julia",
   "name": "julia",
   "version": "1.8.1"
  }
 },
 "nbformat": 4,
 "nbformat_minor": 5
}
