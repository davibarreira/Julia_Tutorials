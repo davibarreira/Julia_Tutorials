{
 "cells": [
  {
   "cell_type": "markdown",
   "id": "eb18deb9-c78c-46b0-9eff-746e4c7fd521",
   "metadata": {},
   "source": [
    "# Grokking Simplicity\n",
    "\n",
    "## Chapter 1, 2 and 3\n",
    "\n",
    "### 1.1. Defining Functional Programming\n",
    "\n",
    "We start with a definition of **Function Programming (FP)**. It is a programming paradigm characterized by\n",
    "the use of **pure functions** and the avoidance of **side effects**.\n",
    "\n",
    "What are **pure functions**? In programming, a pure function is a function that depends *only* on it's arguments,\n",
    "such that it always returns the same value if the same same arguments are passed.\n",
    "\n",
    "What are **side effects**? A side effect is anything that a function does that affects the \"outside\"/\"global scope\". For example,\n",
    "consider the following function:"
   ]
  },
  {
   "cell_type": "code",
   "execution_count": 24,
   "id": "4fc8e468-5429-4f80-89d7-bd2f684f3426",
   "metadata": {
    "jupyter": {
     "source_hidden": true
    },
    "tags": []
   },
   "outputs": [
    {
     "name": "stderr",
     "output_type": "stream",
     "text": [
      "\u001b[32m\u001b[1m  Activating\u001b[22m\u001b[39m project at `~/Main/EMAp/Julia_Tutorials/FunctionalProgramming`\n"
     ]
    }
   ],
   "source": [
    "using Pkg\n",
    "Pkg.activate(\".\")"
   ]
  },
  {
   "cell_type": "code",
   "execution_count": 25,
   "id": "51a9ed1b-3bc7-471d-ab23-ce9e4dc0113a",
   "metadata": {},
   "outputs": [
    {
     "name": "stdout",
     "output_type": "stream",
     "text": [
      "squaring"
     ]
    },
    {
     "data": {
      "text/plain": [
       "4"
      ]
     },
     "execution_count": 25,
     "metadata": {},
     "output_type": "execute_result"
    }
   ],
   "source": [
    "function squareprint(x::Real)\n",
    "    print(\"squaring\")\n",
    "    x^2\n",
    "end\n",
    "squareprint(2)"
   ]
  },
  {
   "cell_type": "markdown",
   "id": "469cc91f-8868-4ecb-853e-b38121f2c3ff",
   "metadata": {},
   "source": [
    "This function has the side-effect of printing \"squaring\". Another possible side-effect would be sending an email, writing a log, and so on. \n",
    "\n",
    "From this definition, it might looks like FP is useless in the real world, since we need side-effects for most\n",
    "practical programs. The answer is that, *actually*, FP allows side-effects, but in a very controlled manner. Hence one of it's utility.\n",
    "By controlling side-effects (when an how they occur), we can better understand when some kind of error is going on."
   ]
  },
  {
   "cell_type": "markdown",
   "id": "083d71a0-3fd5-4c70-843f-c5f997f422d4",
   "metadata": {},
   "source": [
    "### 1.2 Data, Calculation and Action \n",
    "\n",
    "In FP, every chunk of code can be classified in Data, Calculation or Action.\n",
    "Actions are usually pieces of code that result in side-effects, and thus, it matters **when** and **how\n",
    "many times** such piece of code is used. For example, a function `sendemail()` would be an Action,\n",
    "since calling this function twice would result in sending two emails. Yet, a function\n",
    "such as `sum(x::Vector{Real})` would be a calculation, since calling it several times does\n",
    "not alter anything, it just calculates the same sum over and over again.\n",
    "\n",
    "Hence, Actions are the most \"dangerous\" pieces of code. On the other hand,\n",
    "Data is \"inert\", while Calculations can be \"executed\". Thus, there is sort of a hierarchy of\n",
    "complixity to simplicity, where Actions are the most complex and Data are the most simple."
   ]
  },
  {
   "cell_type": "markdown",
   "id": "71d980ee-178b-4d95-b08f-d3e2fe3ed6ff",
   "metadata": {},
   "source": [
    "The advantages of **Data** is that it can be more easily turned into bits, and then transfered to another machine\n",
    "or program. Also, it's easier to assert equality, compared to calculations and actions.\n",
    "\n",
    "Another important aspect of data is that it can be interpreted in many ways."
   ]
  },
  {
   "cell_type": "markdown",
   "id": "7a47540a-68cf-449f-a6b4-8c0b92ce9de1",
   "metadata": {},
   "source": [
    "#### CONTEXT MATTERS\n",
    "\n",
    "Consider \"Reading the records in a DataBase\". Is this a Calculation or Action? One might think that it's\n",
    "like a calculation at first, since if I read the database many times, it would always return the records.\n",
    "Yet, this can be better understood as an Action. Why? Because of the context. Consider here that the\n",
    "argument for the function `readdb(x::DataBase)` is a database, and that, for the same database,\n",
    "we can get different results, depending on what is stored in the database.\n",
    "\n",
    "Consider now the function \"Return the odd values\".\n",
    "Depending on the argument we are considering, this can be a Calculation or an Action. This difference\n",
    "we'll usually happen if the arguments that a function receives are mutable or immutable.\n",
    "Note that a database is mutable, so the function will return different values depending on\n",
    "when it's called. If we made the database immutable, then we could actually consider the `readdb` function\n",
    "as a calculation, since it would always return the same value whenever it was called with an specific database.\n",
    "\n",
    "In Julia, since `::Array` is a mutable datatype, this means that a function such as `return_odd_numbers(A::Array)` \n",
    "would be an action, while `return_odd_number(A::Int)` would be a calculation."
   ]
  },
  {
   "cell_type": "markdown",
   "id": "e3979509-bc8d-4fcf-91cd-6c2337306492",
   "metadata": {},
   "source": [
    "## 2. Sending Coupom to Email \n",
    "\n",
    "Let's code the example of sending the emails with coupons from **Chapter 3** of the book.\n",
    "\n",
    "We simplify the example by using dictionaries as databases."
   ]
  },
  {
   "cell_type": "code",
   "execution_count": 39,
   "id": "e14c991a-4585-4ab2-98ca-2bc099008ed8",
   "metadata": {},
   "outputs": [],
   "source": [
    "using StructArrays"
   ]
  },
  {
   "cell_type": "code",
   "execution_count": 32,
   "id": "500582fe-20c9-488e-a09c-d4fb565bdb43",
   "metadata": {},
   "outputs": [],
   "source": [
    "struct Subscriber\n",
    "    email::String\n",
    "    rec_count::Int\n",
    "    Subscriber(email, rec_count) = rec_count ≥ 0 ? new(email, rec_count) : error(\"rec_count must be ≥ 0.\")\n",
    "end\n",
    "\n",
    "struct Coupon\n",
    "    code::String\n",
    "    rank::String\n",
    "    Coupon(code, rank) = rank in [\"good\", \"bad\", \"best\"] ? new(code, rank) : error(\"rank must be 'good', 'bad' or 'best'.\")\n",
    "end"
   ]
  },
  {
   "cell_type": "code",
   "execution_count": 64,
   "id": "a84ea868-7e73-4195-b18c-86b233c4aa26",
   "metadata": {},
   "outputs": [
    {
     "data": {
      "text/plain": [
       "Coupon(\"MYCOUPON\", \"good\")"
      ]
     },
     "execution_count": 64,
     "metadata": {},
     "output_type": "execute_result"
    }
   ],
   "source": [
    "Subscriber(\"Davi\",10)\n",
    "Coupon(\"MYCOUPON\",\"good\")"
   ]
  },
  {
   "cell_type": "code",
   "execution_count": 65,
   "id": "59e861f6-f9b6-4341-8a29-9f5068076ddf",
   "metadata": {},
   "outputs": [
    {
     "data": {
      "text/plain": [
       "6-element StructArray(::Vector{String}, ::Vector{Int64}) with eltype Subscriber:\n",
       " Subscriber(\"john@coldmail.com\", 2)\n",
       " Subscriber(\"sam@pmail.co\", 16)\n",
       " Subscriber(\"linda1989@oal.com\", 1)\n",
       " Subscriber(\"jan1940@ahoy.com\", 0)\n",
       " Subscriber(\"mrbig@pmail.co\", 25)\n",
       " Subscriber(\"lol@lol.lol\", 0)"
      ]
     },
     "execution_count": 65,
     "metadata": {},
     "output_type": "execute_result"
    }
   ],
   "source": [
    "emails = [\"john@coldmail.com\", \"sam@pmail.co\", \"linda1989@oal.com\", \"jan1940@ahoy.com\", \"mrbig@pmail.co\", \"lol@lol.lol\",]\n",
    "rec_count = [2, 16, 1, 0, 25, 0]\n",
    "\n",
    "EMAILS = StructArray{Subscriber}(email = emails, rec_count = rec_count)"
   ]
  },
  {
   "cell_type": "code",
   "execution_count": 66,
   "id": "4f468d79-5fa8-4946-bac3-6d1464494ae2",
   "metadata": {},
   "outputs": [
    {
     "data": {
      "text/plain": [
       "6-element StructArray(::Vector{String}, ::Vector{String}) with eltype Coupon:\n",
       " Coupon(\"MAYDISCOUNT\", \"good\")\n",
       " Coupon(\"10PERCENT\", \"bad\")\n",
       " Coupon(\"PROMOTION45\", \"best\")\n",
       " Coupon(\"IHEARTYOU\", \"bad\")\n",
       " Coupon(\"GETADEAL\", \"best\")\n",
       " Coupon(\"ILIKEDISCOUNTS\", \"good\")"
      ]
     },
     "execution_count": 66,
     "metadata": {},
     "output_type": "execute_result"
    }
   ],
   "source": [
    "coupons = [\"MAYDISCOUNT\", \"10PERCENT\", \"PROMOTION45\", \"IHEARTYOU\", \"GETADEAL\", \"ILIKEDISCOUNTS\",]\n",
    "ranks   = [\"good\", \"bad\", \"best\", \"bad\", \"best\", \"good\",]\n",
    "\n",
    "COUPONS = StructArray{Coupon}(code = coupons, rank = ranks)"
   ]
  },
  {
   "cell_type": "code",
   "execution_count": 67,
   "id": "be0f238a-4ae0-4108-be59-67015dea51f4",
   "metadata": {},
   "outputs": [
    {
     "data": {
      "text/plain": [
       "6-element Vector{String}:\n",
       " \"john@coldmail.com\"\n",
       " \"sam@pmail.co\"\n",
       " \"linda1989@oal.com\"\n",
       " \"jan1940@ahoy.com\"\n",
       " \"mrbig@pmail.co\"\n",
       " \"lol@lol.lol\""
      ]
     },
     "execution_count": 67,
     "metadata": {},
     "output_type": "execute_result"
    }
   ],
   "source": [
    "map(EMAILS) do x getfield(x, :email) end"
   ]
  },
  {
   "cell_type": "code",
   "execution_count": 76,
   "id": "1097336a-36df-4285-985e-fb94fb6c4aa4",
   "metadata": {},
   "outputs": [
    {
     "data": {
      "text/plain": [
       "6-element Vector{String}:\n",
       " \"john@coldmail.com\"\n",
       " \"sam@pmail.co\"\n",
       " \"linda1989@oal.com\"\n",
       " \"jan1940@ahoy.com\"\n",
       " \"mrbig@pmail.co\"\n",
       " \"lol@lol.lol\""
      ]
     },
     "execution_count": 76,
     "metadata": {},
     "output_type": "execute_result"
    }
   ],
   "source": [
    "EMAILS.email"
   ]
  },
  {
   "cell_type": "code",
   "execution_count": 81,
   "id": "819f5601-9c54-44dc-8683-38718781b2c1",
   "metadata": {},
   "outputs": [
    {
     "data": {
      "text/plain": [
       "6-element Vector{String}:\n",
       " \"good\"\n",
       " \"best\"\n",
       " \"good\"\n",
       " \"good\"\n",
       " \"best\"\n",
       " \"good\""
      ]
     },
     "execution_count": 81,
     "metadata": {},
     "output_type": "execute_result"
    }
   ],
   "source": [
    "function subcuponrank(subscriber::Subscriber)\n",
    "    subscriber.rec_count ≥ 10 ? \"best\" : \"good\"\n",
    "end\n",
    "\n",
    "map(subcuponrank, EMAILS)"
   ]
  },
  {
   "cell_type": "code",
   "execution_count": 93,
   "id": "e69b795a-9e24-4aa9-8a48-c572d762745c",
   "metadata": {},
   "outputs": [],
   "source": [
    "flatmap(f,x) = collect(Iterators.flatten(map(f,x)));"
   ]
  },
  {
   "cell_type": "code",
   "execution_count": 96,
   "id": "33a0b17f-346f-46a1-a328-95d7b25c8c85",
   "metadata": {},
   "outputs": [
    {
     "data": {
      "text/plain": [
       "6-element StructArray(::Vector{String}, ::Vector{String}) with eltype Coupon:\n",
       " Coupon(\"MAYDISCOUNT\", \"good\")\n",
       " Coupon(\"10PERCENT\", \"bad\")\n",
       " Coupon(\"PROMOTION45\", \"best\")\n",
       " Coupon(\"IHEARTYOU\", \"bad\")\n",
       " Coupon(\"GETADEAL\", \"best\")\n",
       " Coupon(\"ILIKEDISCOUNTS\", \"good\")"
      ]
     },
     "execution_count": 96,
     "metadata": {},
     "output_type": "execute_result"
    }
   ],
   "source": [
    "COUPONS"
   ]
  },
  {
   "cell_type": "code",
   "execution_count": 105,
   "id": "4597f6d0-e1ac-42e2-af7c-da11852f9e7b",
   "metadata": {},
   "outputs": [
    {
     "data": {
      "text/plain": [
       "selectcuponsbyrank (generic function with 1 method)"
      ]
     },
     "execution_count": 105,
     "metadata": {},
     "output_type": "execute_result"
    }
   ],
   "source": [
    "function selectcuponsbyrank(coupons, rank)\n",
    "    flatmap(coupons) do x\n",
    "        x.rank == rank ? x.code : ()\n",
    "    end\n",
    "end"
   ]
  }
 ],
 "metadata": {
  "kernelspec": {
   "display_name": "Julia (4 threads) 1.7.2",
   "language": "julia",
   "name": "julia-(4-threads)-1.7"
  },
  "language_info": {
   "file_extension": ".jl",
   "mimetype": "application/julia",
   "name": "julia",
   "version": "1.7.2"
  }
 },
 "nbformat": 4,
 "nbformat_minor": 5
}
