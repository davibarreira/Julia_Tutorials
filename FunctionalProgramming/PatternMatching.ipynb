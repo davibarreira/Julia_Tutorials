{
 "cells": [
  {
   "cell_type": "markdown",
   "id": "93988905-6b22-4d12-a27b-583fb0c22554",
   "metadata": {},
   "source": [
    "# Pattern Matching \n",
    "\n",
    "Pattern matching is a way of capturing value from inside a pattern.\n",
    "Consider for exemple:"
   ]
  },
  {
   "cell_type": "code",
   "execution_count": 7,
   "id": "579a7cd4-9b2b-4da1-90e6-4093ffeca3ce",
   "metadata": {},
   "outputs": [
    {
     "name": "stderr",
     "output_type": "stream",
     "text": [
      "\u001b[32m\u001b[1m  Activating\u001b[22m\u001b[39m project at `~/Main/EMAp/PhDThesis/notes/FunctionalProgrammingCategoryTheory/julia`\n"
     ]
    }
   ],
   "source": [
    "using Pkg\n",
    "Pkg.activate(\".\")\n",
    "using MLStyle"
   ]
  },
  {
   "cell_type": "code",
   "execution_count": 8,
   "id": "f90c48ab-1cb3-463f-902c-b72908811775",
   "metadata": {},
   "outputs": [
    {
     "data": {
      "text/plain": [
       "(1, 2, 3)"
      ]
     },
     "execution_count": 8,
     "metadata": {},
     "output_type": "execute_result"
    }
   ],
   "source": [
    "x, y, z = 1,2,3"
   ]
  },
  {
   "cell_type": "markdown",
   "id": "239780c3-e4e2-41da-bf6a-24b3402c7f61",
   "metadata": {},
   "source": [
    "This can be thought as a very simple pattern matching. We are assigning the values of our variables\n",
    "based on the order of the inputs. Here is another simple example."
   ]
  },
  {
   "cell_type": "code",
   "execution_count": 42,
   "id": "e74eb83d-3702-494f-b4d6-4e3e4cb84128",
   "metadata": {},
   "outputs": [
    {
     "name": "stdout",
     "output_type": "stream",
     "text": [
      "(x, y, z) = [0, 2, 1] = [0, 2, 1]\n",
      "(x, y, z) = (0, 2, 1) = (0, 2, 1)\n",
      "(x, y, z) = (0, 2, 1)\n"
     ]
    },
    {
     "data": {
      "text/plain": [
       "(0, 2, 1)"
      ]
     },
     "execution_count": 42,
     "metadata": {},
     "output_type": "execute_result"
    }
   ],
   "source": [
    "@show x,y,z = [0,2,1]\n",
    "@show x,y,z = (0,2,1)\n",
    "@show x,y,z"
   ]
  },
  {
   "cell_type": "markdown",
   "id": "075602e5-43fe-436c-ad95-2134ad2aa7eb",
   "metadata": {},
   "source": [
    "Another simple example of pattern matching are the anonymous functions. "
   ]
  },
  {
   "cell_type": "code",
   "execution_count": 136,
   "id": "bdbcb3d1-2749-44a5-84d6-02029019cdba",
   "metadata": {},
   "outputs": [],
   "source": [
    "(x,y) -> x^2 + y^2;"
   ]
  },
  {
   "cell_type": "markdown",
   "id": "84ede239-428b-45c7-b93a-bc4c0337e52a",
   "metadata": {},
   "source": [
    "Consider now that we have a dictionary, and that we want to put the respective values in the\n",
    "varibles. Let's try a similar thing to the previous examples."
   ]
  },
  {
   "cell_type": "code",
   "execution_count": 50,
   "id": "a3e626a4-5f73-4fb8-a931-81dfab751d44",
   "metadata": {},
   "outputs": [
    {
     "data": {
      "text/plain": [
       "(:y => 2, :z => 1, :x => 3)"
      ]
     },
     "execution_count": 50,
     "metadata": {},
     "output_type": "execute_result"
    }
   ],
   "source": [
    "d  = Dict(:x=>3, :y=> 2, :z=>1)\n",
    "x,y,z = d\n",
    "x,y,z"
   ]
  },
  {
   "cell_type": "code",
   "execution_count": 53,
   "id": "70b6c3b3-8e7b-4959-bde1-028054330a04",
   "metadata": {},
   "outputs": [
    {
     "data": {
      "text/plain": [
       "(:y => 2, Pair{Symbol, Int64})"
      ]
     },
     "execution_count": 53,
     "metadata": {},
     "output_type": "execute_result"
    }
   ],
   "source": [
    "x,typeof(x)"
   ]
  },
  {
   "cell_type": "markdown",
   "id": "47610e01-9cd1-4272-9ca5-557860ccf591",
   "metadata": {},
   "source": [
    "This did not work. For two reasons. First, the `Dict` in Julia does not preserve the order we used in the construction.\n",
    "Secondly, the varibales actually got Pairs with both key and value.\n",
    "How do we do this on Base Julia?"
   ]
  },
  {
   "cell_type": "code",
   "execution_count": 61,
   "id": "d3f09850-0edc-449b-9395-d44411682ec3",
   "metadata": {},
   "outputs": [
    {
     "data": {
      "text/plain": [
       "(3, 2, 1)"
      ]
     },
     "execution_count": 61,
     "metadata": {},
     "output_type": "execute_result"
    }
   ],
   "source": [
    "for (k,v) in d\n",
    "    if k == :x\n",
    "        x = v\n",
    "    elseif k == :y\n",
    "        y = v\n",
    "    elseif k == :z\n",
    "        z = v\n",
    "    end\n",
    "end\n",
    "\n",
    "x,y,z"
   ]
  },
  {
   "cell_type": "markdown",
   "id": "39e93cb0-48e7-46fe-91b6-e4e19ee8d889",
   "metadata": {},
   "source": [
    "This works. But it's not very elegant, and it's not using pattern matching.\n",
    "To use pattern matching, we'll use the macro `@match` from `MLStyle`.\n",
    "Here is how we do it."
   ]
  },
  {
   "cell_type": "code",
   "execution_count": 62,
   "id": "d2921f9d-34ec-4f3c-ae60-c0227cb2372d",
   "metadata": {},
   "outputs": [
    {
     "data": {
      "text/plain": [
       "3-element Vector{Int64}:\n",
       " 3\n",
       " 2\n",
       " 1"
      ]
     },
     "execution_count": 62,
     "metadata": {},
     "output_type": "execute_result"
    }
   ],
   "source": [
    "x,y,z = @match d begin\n",
    "    Dict(:x=>x, :y=> y, :z=>z) => [x,y,z]\n",
    "end"
   ]
  },
  {
   "cell_type": "markdown",
   "id": "5e7e4781-1b95-495b-aedf-c07851ed9453",
   "metadata": {},
   "source": [
    "So what is going on? We just wrote how our dictionary was written, and we matched each variable,\n",
    "hence the name \"pattern matching\".\n",
    "Very neat."
   ]
  },
  {
   "cell_type": "markdown",
   "id": "0b5aaf07-f772-450e-abd7-8957e26fb72e",
   "metadata": {},
   "source": [
    "This is also good to keep track of nested structure. Consdider the following tuple. "
   ]
  },
  {
   "cell_type": "code",
   "execution_count": 79,
   "id": "11d920ad-3d2f-4d5c-acdf-3053365b548b",
   "metadata": {},
   "outputs": [
    {
     "data": {
      "text/plain": [
       "(\"a\", \"B\", (\"cc\", \"d'\", (5,)))"
      ]
     },
     "execution_count": 79,
     "metadata": {},
     "output_type": "execute_result"
    }
   ],
   "source": [
    "t = (\"a\", \"B\", (\"cc\", \"d'\", (5, )))"
   ]
  },
  {
   "cell_type": "markdown",
   "id": "5f0150b4-f916-4c07-8596-6e4fdb773492",
   "metadata": {},
   "source": [
    "Now, suppose you wish to get the values corresponding to positions\n",
    "1,2,3 and 4.\n",
    "\n",
    "Here is how to do it without pattern matching."
   ]
  },
  {
   "cell_type": "code",
   "execution_count": 86,
   "id": "4a7f7c90-aea4-4fc2-9a13-cfef0bae0939",
   "metadata": {},
   "outputs": [
    {
     "data": {
      "text/plain": [
       "\"d'\""
      ]
     },
     "execution_count": 86,
     "metadata": {},
     "output_type": "execute_result"
    }
   ],
   "source": [
    "a = t[1]\n",
    "b = t[2]\n",
    "c = t[3][1]\n",
    "d = t[3][2]"
   ]
  },
  {
   "cell_type": "markdown",
   "id": "9349b24c-83d1-4d3e-88b1-44996981301d",
   "metadata": {},
   "source": [
    "This works, but you can easily miss something.\n",
    "Here is how to do with pattern matching."
   ]
  },
  {
   "cell_type": "code",
   "execution_count": 87,
   "id": "dd31dbd5-7431-4e2a-a338-3c5e1aca34a8",
   "metadata": {},
   "outputs": [
    {
     "data": {
      "text/plain": [
       "(\"a\", \"B\", \"cc\", \"d'\")"
      ]
     },
     "execution_count": 87,
     "metadata": {},
     "output_type": "execute_result"
    }
   ],
   "source": [
    "@match t begin\n",
    "           (a, b, (c, d, (5, ))) => (a, b, c, d)\n",
    "end"
   ]
  },
  {
   "cell_type": "markdown",
   "id": "7d012bad-931c-4758-ba82-ad5a96dc97ec",
   "metadata": {},
   "source": [
    "Very elegant. Another example. Pattern matching behaves very similar to switch statements. "
   ]
  },
  {
   "cell_type": "code",
   "execution_count": 106,
   "id": "bf4d124e-a57d-4957-b40f-030dfe7d1682",
   "metadata": {},
   "outputs": [
    {
     "data": {
      "text/plain": [
       "check (generic function with 2 methods)"
      ]
     },
     "execution_count": 106,
     "metadata": {},
     "output_type": "execute_result"
    }
   ],
   "source": [
    "check(x)  = @match x begin\n",
    "    1  => \"a\"\n",
    "    10 => \"c\"\n",
    "    _  => nothing\n",
    "end"
   ]
  },
  {
   "cell_type": "code",
   "execution_count": 107,
   "id": "f22703fb-72c6-42de-b320-8b34d1415e33",
   "metadata": {},
   "outputs": [
    {
     "data": {
      "text/plain": [
       "(\"c\", nothing)"
      ]
     },
     "execution_count": 107,
     "metadata": {},
     "output_type": "execute_result"
    }
   ],
   "source": [
    "check(10),check(\"b\")"
   ]
  },
  {
   "cell_type": "code",
   "execution_count": 141,
   "id": "94a01a25-a003-4762-9c50-32c16f803a18",
   "metadata": {},
   "outputs": [
    {
     "data": {
      "text/plain": [
       "(\"G\", \"b\", \"No pattern found\")"
      ]
     },
     "execution_count": 141,
     "metadata": {},
     "output_type": "execute_result"
    }
   ],
   "source": [
    "check(x,y)  = @match (x,y) begin\n",
    "    (1,1)  => \"a\"\n",
    "    (2,1)  => \"b\"\n",
    "    if x+y>10 end => \"G\"\n",
    "    _ => \"No pattern found\"\n",
    "end\n",
    "\n",
    "check(10,10), check(2,1), check(2,2)"
   ]
  },
  {
   "cell_type": "markdown",
   "id": "3285495a-b8f0-43cd-a525-759d5dbf40af",
   "metadata": {},
   "source": [
    "### Using Pattern Functions to Manipulate Expressions\n",
    "\n",
    "We actually already created pattern functions. Our `check()` function is a pattern\n",
    "function, since it's just a function with a pattern matching inside.\n",
    "\n",
    "The example below shows how to create an anonymous pattern function."
   ]
  },
  {
   "cell_type": "code",
   "execution_count": 214,
   "id": "74a47564-400a-4da2-bca7-406bf1757683",
   "metadata": {},
   "outputs": [],
   "source": [
    "f = @λ begin\n",
    "           # patterns here\n",
    "           ((x, (1, 2)) &&\n",
    "               if x > 3 end)  => 5\n",
    "           (x, y)             => 2\n",
    "           ::String           => \"is string\"\n",
    "           _                  => \"is any\"\n",
    "end;"
   ]
  },
  {
   "cell_type": "markdown",
   "id": "3a716d4b-2da4-4c37-b073-bf88a440c816",
   "metadata": {},
   "source": [
    "This example is similar to: "
   ]
  },
  {
   "cell_type": "code",
   "execution_count": 216,
   "id": "17421e08-c689-4307-9986-d657d7da3bb4",
   "metadata": {},
   "outputs": [],
   "source": [
    "f = x -> x^2;"
   ]
  },
  {
   "cell_type": "markdown",
   "id": "3e8e62e3-1428-4944-8df4-f50e6898238a",
   "metadata": {},
   "source": [
    "Note that when we do this kind of assignment, the `f` variable is poiting to an annonymous function, which is different\n",
    "than defining `f` as a function, e.g."
   ]
  },
  {
   "cell_type": "code",
   "execution_count": 219,
   "id": "4a25542d-e1fd-4783-893b-7edb095b0e57",
   "metadata": {},
   "outputs": [
    {
     "ename": "LoadError",
     "evalue": "invalid redefinition of constant g",
     "output_type": "error",
     "traceback": [
      "invalid redefinition of constant g",
      "",
      "Stacktrace:",
      " [1] top-level scope",
      "   @ In[219]:3",
      " [2] eval",
      "   @ ./boot.jl:373 [inlined]",
      " [3] include_string(mapexpr::typeof(REPL.softscope), mod::Module, code::String, filename::String)",
      "   @ Base ./loading.jl:1196"
     ]
    }
   ],
   "source": [
    "g(x) = x^2\n",
    "\n",
    "g = 2"
   ]
  },
  {
   "cell_type": "markdown",
   "id": "6c88b5b3-9cb9-494c-a1a4-1b243d165026",
   "metadata": {},
   "source": [
    "We can, in a similar fashion, define our patter function:"
   ]
  },
  {
   "cell_type": "code",
   "execution_count": 220,
   "id": "4d8dfb37-7dda-4962-8c87-dbb2b36f7476",
   "metadata": {},
   "outputs": [],
   "source": [
    "F(x) = @match x begin\n",
    "           # patterns here\n",
    "           ((x, (1, 2)) &&\n",
    "               if x > 3 end)  => 5\n",
    "           (x, y)             => 2\n",
    "           ::String           => \"is string\"\n",
    "           _                  => \"is any\"\n",
    "end;"
   ]
  },
  {
   "cell_type": "markdown",
   "id": "23b39726-365b-4427-aa0a-daca7f4794cc",
   "metadata": {},
   "source": [
    "Let's show how we can use MLStyle to manipulate more complex patterns\n",
    "such as functions and structs.\n",
    "\n",
    "The first issue with expressions (Expr) in Julia is that\n",
    "we have expressions that represent which line we are. This is useful for\n",
    "debugging errors, but it won't be of much use to us. Hence, we want to get rid of\n",
    "it.\n",
    "\n",
    "Here is an example."
   ]
  },
  {
   "cell_type": "code",
   "execution_count": 221,
   "id": "9b471259-1eb3-468c-b45a-5927857869be",
   "metadata": {},
   "outputs": [
    {
     "data": {
      "text/plain": [
       "quote\n",
       "    \u001b[90m#= In[221]:2 =#\u001b[39m\n",
       "    struct S{T}\n",
       "        \u001b[90m#= In[221]:3 =#\u001b[39m\n",
       "        a::Int\n",
       "        \u001b[90m#= In[221]:4 =#\u001b[39m\n",
       "        b::T\n",
       "    end\n",
       "end"
      ]
     },
     "execution_count": 221,
     "metadata": {},
     "output_type": "execute_result"
    }
   ],
   "source": [
    "expr = quote\n",
    "    struct S{T}\n",
    "        a :: Int\n",
    "        b :: T\n",
    "    end\n",
    "end"
   ]
  },
  {
   "cell_type": "markdown",
   "id": "2683ada1-ef76-4cb5-8ef3-4c2eba3b1b6b",
   "metadata": {},
   "source": [
    "Note the `#= In[170]:2 =#`. We want to remove these."
   ]
  },
  {
   "cell_type": "code",
   "execution_count": 290,
   "id": "0e4914c1-9bd9-4468-9994-fdc34fdb7c53",
   "metadata": {},
   "outputs": [],
   "source": [
    "rmlines = @λ begin\n",
    "    e :: Expr           => Expr(e.head, filter(!isnothing, map(rmlines, e.args))...)\n",
    "      :: LineNumberNode => nothing\n",
    "    a                   => a\n",
    "end;"
   ]
  },
  {
   "cell_type": "markdown",
   "id": "9c08c616-64a6-4d10-a37a-5406bbb24fdb",
   "metadata": {},
   "source": [
    "What is going on here? We created a function called `rmlines`.\n",
    "This function is recursive. Whenever the input is an `Expr`, we pass it on to `rmlines`\n",
    "with some tweaking. If it receives a `::LineNumberNode`, it returns `nothing`, which\n",
    "is then filtered. Otherwise, it spits the value without doing nothing."
   ]
  },
  {
   "cell_type": "code",
   "execution_count": 291,
   "id": "962fe537-86e2-40a0-a680-c3b3aeda3b08",
   "metadata": {},
   "outputs": [
    {
     "data": {
      "text/plain": [
       "quote\n",
       "    struct S{T}\n",
       "        a::Int\n",
       "        b::T\n",
       "    end\n",
       "end"
      ]
     },
     "execution_count": 291,
     "metadata": {},
     "output_type": "execute_result"
    }
   ],
   "source": [
    "expr = quote\n",
    "    struct S{T}\n",
    "        a :: Int\n",
    "        b :: T\n",
    "    end\n",
    "end |> rmlines"
   ]
  },
  {
   "cell_type": "markdown",
   "id": "69c359fc-1dea-419c-8a89-a5cab9a6b32d",
   "metadata": {},
   "source": [
    "It works! But how can we use this with pattern matching? Just check the code below:"
   ]
  },
  {
   "cell_type": "code",
   "execution_count": 292,
   "id": "9f2dec02-a647-4bd8-a27b-2a8a46a07521",
   "metadata": {},
   "outputs": [
    {
     "data": {
      "text/plain": [
       "(:S, :T, :a, :Int, :b, :T)"
      ]
     },
     "execution_count": 292,
     "metadata": {},
     "output_type": "execute_result"
    }
   ],
   "source": [
    "@match expr begin\n",
    "    quote\n",
    "        struct $name{$tvar}\n",
    "            $f1 :: $t1\n",
    "            $f2 :: $t2\n",
    "        end\n",
    "    end =>\n",
    "    (name, tvar, f1,t1, f2, t2)\n",
    "end # true"
   ]
  },
  {
   "cell_type": "markdown",
   "id": "60dded75-8f22-4699-9a27-f40260cdfb52",
   "metadata": {},
   "source": [
    "Let's do another example with a function. "
   ]
  },
  {
   "cell_type": "code",
   "execution_count": 293,
   "id": "128d00b7-ae07-45e3-83f0-ab27caec020a",
   "metadata": {},
   "outputs": [
    {
     "data": {
      "text/plain": [
       "quote\n",
       "    function myfunction(x::X, y::Y, z)::T\n",
       "        dostuff\n",
       "    end\n",
       "end"
      ]
     },
     "execution_count": 293,
     "metadata": {},
     "output_type": "execute_result"
    }
   ],
   "source": [
    "expr = quote\n",
    "    function myfunction(x::X,y::Y,z)::T\n",
    "        dostuff\n",
    "    end\n",
    "end |> rmlines"
   ]
  },
  {
   "cell_type": "code",
   "execution_count": 294,
   "id": "3b7765b8-ce38-4d79-be72-40195e976693",
   "metadata": {},
   "outputs": [
    {
     "data": {
      "text/plain": [
       "(:myfunction, :dostuff)"
      ]
     },
     "execution_count": 294,
     "metadata": {},
     "output_type": "execute_result"
    }
   ],
   "source": [
    "@match expr begin\n",
    "    quote\n",
    "        function $f($x :: $X,$y :: $Y,$z) :: $T\n",
    "            $body\n",
    "        end\n",
    "    end =>\n",
    "    (f,body)\n",
    "end # true"
   ]
  }
 ],
 "metadata": {
  "kernelspec": {
   "display_name": "Julia 1.8.1",
   "language": "julia",
   "name": "julia-1.8"
  },
  "language_info": {
   "file_extension": ".jl",
   "mimetype": "application/julia",
   "name": "julia",
   "version": "1.8.1"
  }
 },
 "nbformat": 4,
 "nbformat_minor": 5
}
