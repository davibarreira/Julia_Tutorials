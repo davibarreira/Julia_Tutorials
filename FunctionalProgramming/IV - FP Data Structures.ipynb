{
 "cells": [
  {
   "cell_type": "markdown",
   "id": "beab363e-8c81-487a-a0d5-ca9c78fa366b",
   "metadata": {},
   "source": [
    "# **Functional Programming - Data Structures**\n",
    "\n",
    "This is based on the book \"Learning Functionl Programming\" (Jack Widman).\n",
    "\n",
    "The main data structures here are the `Option`, `Either`, `Try` and `List` monads.\n",
    "We've coded some of them already, but let's recap.\n",
    "\n",
    "Quote from Alan Perlis:\n",
    "It is better to have 100 functions operate on one data structure than to\n",
    "have 10 functions operate on 10 data structures."
   ]
  },
  {
   "cell_type": "code",
   "execution_count": 1,
   "id": "b6fd8918-f140-4a31-9e67-6814efcde5e5",
   "metadata": {},
   "outputs": [
    {
     "name": "stderr",
     "output_type": "stream",
     "text": [
      "\u001b[32m\u001b[1m  Activating\u001b[22m\u001b[39m project at `~/MEGA/EMAP/Julia_Tutorials/FunctionalProgramming`\n"
     ]
    }
   ],
   "source": [
    "using Pkg\n",
    "Pkg.activate(\".\")"
   ]
  },
  {
   "cell_type": "markdown",
   "id": "a99a65f5-6362-4a68-ba64-b1bfe04f7cf7",
   "metadata": {},
   "source": [
    "## 1. Option\n",
    "\n",
    "Since `Option` is a monad, this means that it's a functor\n",
    "with a `flatmap` and a `unit`."
   ]
  },
  {
   "cell_type": "code",
   "execution_count": null,
   "id": "29bb48bd-a1c2-4057-8640-77ac90268e71",
   "metadata": {},
   "outputs": [],
   "source": [
    "unit()"
   ]
  },
  {
   "cell_type": "code",
   "execution_count": null,
   "id": "900bfcda-e3f3-4ecb-8edc-c8f6cafd8ec7",
   "metadata": {},
   "outputs": [],
   "source": [
    "Option{T} = Union{Some{T},Nothing}\n",
    "\n",
    "Option(::Nothing) = nothing\n",
    "Option(x) = Some(x)\n",
    "Option() = nothing\n",
    "\n",
    "fmap(f, a::Nothing) = nothing\n",
    "fmap(f, a::Some{T}) where T = Some(f(something(a)))\n",
    "Option(f::Function) = a::Option -> fmap(f,a)\n",
    "\n",
    "l = list(Some(1),nothing,Some(8))"
   ]
  },
  {
   "cell_type": "code",
   "execution_count": 2,
   "id": "cc2cf260-a062-439c-aa99-297243e50db9",
   "metadata": {},
   "outputs": [
    {
     "data": {
      "text/plain": [
       "getuserfromdb (generic function with 1 method)"
      ]
     },
     "execution_count": 2,
     "metadata": {},
     "output_type": "execute_result"
    }
   ],
   "source": [
    "struct User\n",
    "    name::String\n",
    "end\n",
    "DATABASE = Dict( 4 =>User(\"James\"), 2 =>User(\"John\"), 1 =>User(\"Peter\"));\n",
    "\n",
    "function getuserfromdb(uid::Int)::Option\n",
    "    result = nothing\n",
    "    if uid in keys(DATABASE)\n",
    "        result = DATABASE[uid]\n",
    "    end\n",
    "    return Option(result)\n",
    "end"
   ]
  },
  {
   "cell_type": "code",
   "execution_count": null,
   "id": "ca3af5f5-e3c1-4591-86c7-06872c070a79",
   "metadata": {},
   "outputs": [],
   "source": []
  }
 ],
 "metadata": {
  "kernelspec": {
   "display_name": "Julia 1.8.2",
   "language": "julia",
   "name": "julia-1.8"
  },
  "language_info": {
   "file_extension": ".jl",
   "mimetype": "application/julia",
   "name": "julia",
   "version": "1.8.2"
  }
 },
 "nbformat": 4,
 "nbformat_minor": 5
}
