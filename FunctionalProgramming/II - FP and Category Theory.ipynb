{
 "cells": [
  {
   "cell_type": "markdown",
   "id": "b13f413c-f9e4-46f0-8cb6-575115eafdbb",
   "metadata": {},
   "source": [
    "# **Functional Programming - Category Theory**\n",
    "\n",
    "This is based on the book \"Learning Functionl Programming\" (Jack Widman).\n",
    "\n",
    "> This notebook is quite technical, you can skip it.\n",
    "\n",
    "## 1. Category Theory in Programming\n",
    "\n",
    "We are not going to explain much about Category Theory, because we already\n",
    "have other notes on it.\n",
    "\n",
    "Just remember that a category has objects and morphisms. In programming,\n",
    "our objects are types and morphisms are functions. This forms our category \n",
    "of programming.\n",
    "\n",
    "In our category of programming, types are objects, and functions are morphisms.\n",
    "What about values of a certain type? In Category Theory we cannot peak inside an object,\n",
    "hence, we cannot talk about an instance of a type. Yet, there is a way around this.\n",
    "\n",
    "First, any type with only one possible value is a terminal object in our category.\n",
    "Thus, `Nothing` and `Tuple{}` are examples of terminal objects. A function\n",
    "from a terminal type (object) to our type `T` is the same (isomorphic) to picking\n",
    "a value of type `T`. Thus, in a weird way,\n",
    "values are also morphisms. You can think of the value `1 :: Int` as the function\n",
    "`1(x::Nothing)::Int`."
   ]
  },
  {
   "cell_type": "markdown",
   "id": "aa83d161-59ee-4689-a46c-8520afe60402",
   "metadata": {},
   "source": [
    "By thinking of values as functions themselves, we've made functions and values both \"one-class citizens\",\n",
    "i.e. they are, in a sense, of the same computational class.\n",
    "\n",
    "Also, running a function `f(x)` is equivalent to function compostiion, i.e. `f ∘ x`.\n",
    "<!-- What about a function with multiple arguments? Just turn values into a tuple:\n",
    "`f(x,y)` ≅ `f ∘ tuple  -->"
   ]
  },
  {
   "cell_type": "code",
   "execution_count": 5,
   "id": "4aed3707-2374-44b1-88b9-58068f436c4d",
   "metadata": {},
   "outputs": [
    {
     "name": "stderr",
     "output_type": "stream",
     "text": [
      "\u001b[32m\u001b[1m  Activating\u001b[22m\u001b[39m project at `~/MEGA/EMAP/Julia_Tutorials/FunctionalProgramming`\n"
     ]
    }
   ],
   "source": [
    "using Pkg\n",
    "Pkg.activate(\".\")"
   ]
  },
  {
   "cell_type": "markdown",
   "id": "c95cac41-6781-4440-b75c-3f2372c16181",
   "metadata": {},
   "source": [
    "## 2. Functors\n",
    "\n",
    "A functor goes from a category to another. In programming,\n",
    "we usually have \"endofunctors\", which are functors that go\n",
    "from a category to itself. In our case, it's the category of programming.\n",
    "\n",
    "Thus, a functor `F` must take a type `T` and return another type `FT`.\n",
    "Also, `F` must take a function `f(x::T)::T'` and return\n",
    "a function `Ff( Fx :: FT)::FT'`.\n",
    "\n",
    "Remember also that a functor is covariant, i.e. $F(f \\circ g) = F(f) \\circ F(g)$.\n",
    "Also, it takes identities to identities, i.e. $F(id_A) = id_{FA}$."
   ]
  },
  {
   "cell_type": "markdown",
   "id": "11cc892e-55c9-4e2b-a867-8e404016b610",
   "metadata": {},
   "source": [
    "> :warning: The definition of a functor in programming usually does not\n",
    "define `F(f)` returning a function, but instead it codes\n",
    "`fmap(f,F(a))` which is the same as `F(f)(F(a))`."
   ]
  },
  {
   "cell_type": "markdown",
   "id": "3cbdb878-601f-4ab9-b484-138dc18c58d1",
   "metadata": {},
   "source": [
    "Functors act on types and morphisms. But as we've shown above, a value of type `T` can also\n",
    "be thought of as a morphism from a termminal type to type `T`.\n",
    "\n",
    "This means that `F(x::T)` ≅ `F(x(::Nothing)::T)`.\n",
    "Therefore `F(x): F(Nothing) → F(T)`.\n",
    "\n",
    "Let's do an example. Remember that a functor must take types to types,\n",
    "and functions to functions.\n",
    "Since a value can be thought as a function, let's also extend our functor to act on values.\n",
    "\n",
    "So our functor is a bit different from the Category Theory definition. It acts on types\n",
    "to types (object to objects), from functions to functions (morphisms to morphisms) and\n",
    "values to values, which are isomorphic to morphisms, so we are theoretically safe."
   ]
  },
  {
   "cell_type": "markdown",
   "id": "ebc23b2e-70d3-436a-a426-0ff6170705b6",
   "metadata": {},
   "source": [
    "Let's start with the following functor `F`."
   ]
  },
  {
   "cell_type": "code",
   "execution_count": 6,
   "id": "faf58921-abb1-418d-8fb5-f340f7a1aa44",
   "metadata": {},
   "outputs": [
    {
     "name": "stdout",
     "output_type": "stream",
     "text": [
      "F(String) == MyType = true\n",
      "typeof(F(String)) = DataType\n",
      "(F(f ∘ g))(F(\"ok\")) == (F(f) ∘ F(g))(F(\"ok\")) = true\n",
      "F(identity(1)) == identity(F(1)) = true\n",
      "----------------------------\n"
     ]
    }
   ],
   "source": [
    "struct MyType\n",
    "    x\n",
    "end\n",
    "\n",
    "\n",
    "# Defining a simple functor for MyType\n",
    "F(T::Type) = MyType\n",
    "@show F(String) == MyType\n",
    "@show typeof(F(String));\n",
    "F(f::Function) = a::MyType -> F(f(a.x))\n",
    "\n",
    "# Isomorphism\n",
    "# F(x) = x::MyType -> MyType(x)\n",
    "F(x) = MyType(x)\n",
    "\n",
    "\n",
    "\n",
    "f(x::Int)::String = string(x)\n",
    "g(s::String)::Int = length(s)\n",
    "\n",
    "Ff = F(f);\n",
    "Fg = F(g);\n",
    "\n",
    "@show F((f ∘ g))(F(\"ok\")) == (F(f) ∘ F(g))(F(\"ok\"))\n",
    "@show F(identity(1)) == identity(F(1));\n",
    "println(\"----------------------------\")"
   ]
  },
  {
   "cell_type": "markdown",
   "id": "79e8ee55-7cda-4043-8764-702169449ea2",
   "metadata": {},
   "source": [
    "\n",
    "First, by declaring a `struct MyType`  we are creating a new type (object) `MyType`.\n",
    "Let's now create a functor that takes every object in our category to the object `MyType`.\n",
    "Every function `f(x::T)::T'` must now become a function `Ff(Fx::MyType)::MyType` and\n",
    "must preserve composition.\n",
    "\n",
    "\n",
    "Since a value `x` is a function `x(::Nothing)::T`, then `F(x)` must be a function\n",
    "`Fx(a::MyType)::MyType`.\n",
    "`MyType` has only one field `x`, this means that every instance of this type is actually\n",
    "isomorphic to a function `a ::MyType-> MyType(x)`. Hence, we can drop all this shinnenigans and just write\n",
    "`F(x) = MyType(x)`.\n",
    "\n",
    "Using this contruction, we can show that this commutes properly,\n",
    "so we have indeed defined a functor."
   ]
  },
  {
   "cell_type": "markdown",
   "id": "0f44cc77-4cde-4a5d-bf08-3d58c2b57115",
   "metadata": {},
   "source": [
    "### Name Overloading\n",
    "\n",
    "In our example we separated the type `MyType` from the functor `F` associated to it.\n",
    "Indeed, types and functors do not need to be associated.\n",
    "\n",
    "Note that in our original example, `S` was a functor that sent everything to `String`\n",
    "and every function to the trivial `x->\"\"`. We could define many other functors, such\n",
    "as `S2` which would take `x::String->\"2\"`."
   ]
  },
  {
   "cell_type": "markdown",
   "id": "648afff6-72f9-4f4f-be04-63ec9a29d4d6",
   "metadata": {},
   "source": [
    "## 3. More Examples of Functors\n",
    "\n",
    "As we've said before, it's actually more common to define function via a `map` or `fmap`\n",
    "high order function. This `fmap` takes a function and \"lifts\" it, i.e.\n",
    "lifts `f(a)` to `F(f)(F(a))`.\n",
    "Also, it's more common to define functors by using parametric structs.\n",
    "For example:"
   ]
  },
  {
   "cell_type": "code",
   "execution_count": 7,
   "id": "40e5648c-6976-487e-b8d9-19e7de486006",
   "metadata": {},
   "outputs": [],
   "source": [
    "struct G{T}\n",
    "    x::T\n",
    "end\n",
    "G(T::Type) = G{T}\n",
    "fmap(f::Function, a::G{T}) where T = G(f(a.x))\n",
    "G(f::Function) = a -> fmap(f,a);"
   ]
  },
  {
   "cell_type": "code",
   "execution_count": 8,
   "id": "702a70b0-a30e-4d80-b3a7-def9635ea414",
   "metadata": {},
   "outputs": [
    {
     "name": "stdout",
     "output_type": "stream",
     "text": [
      "G(identity(1)) == identity(G(1)) = true\n",
      "(G(f ∘ g))(G(\"test\")) == (G(f) ∘ G(g))(G(\"test\")) = true\n"
     ]
    }
   ],
   "source": [
    "@show G(identity(1)) == identity(G(1))\n",
    "@show G(f ∘ g)(G(\"test\")) == (G(f) ∘ G(g))(G(\"test\"));"
   ]
  },
  {
   "cell_type": "markdown",
   "id": "cb0e7f3c-d4c8-4fd5-9d6e-f92727d028b9",
   "metadata": {},
   "source": [
    "Note that, in our example, `G` is the functor, and it takes a type `T` and returns a type `G{T}`. "
   ]
  },
  {
   "cell_type": "markdown",
   "id": "8a59c9f4-4e38-44f3-b83b-adc3269650ad",
   "metadata": {},
   "source": [
    "#### Maybe/Option Function \n",
    "\n",
    "A very common example of functor is the so called `Maybe` or `Option` fuctor.\n",
    "This functor takes types `T` to `Maybe{T}`.\n",
    "The type `Maybe{T}`contains values of type\n",
    "`Nothing` and of type `Just{T}`."
   ]
  },
  {
   "cell_type": "code",
   "execution_count": 24,
   "id": "114fc1c2-5274-43f6-b829-ddcf2a94fb85",
   "metadata": {},
   "outputs": [
    {
     "data": {
      "text/plain": [
       "Maybe\u001b[90m (alias for \u001b[39m\u001b[90mUnion{Nothing, Just{T}} where T\u001b[39m\u001b[90m)\u001b[39m"
      ]
     },
     "execution_count": 24,
     "metadata": {},
     "output_type": "execute_result"
    }
   ],
   "source": [
    "struct Just{T}\n",
    "    x::T\n",
    "end\n",
    "just(J::Just) = J.x\n",
    "\n",
    "Maybe{T} = Union{Nothing,Just{T}}\n",
    "Maybe(T::Type) = Union{Nothing,Just{T}}\n",
    "Maybe(a::T) where T = Just(a)\n",
    "Maybe(::Nothing) = nothing\n",
    "Maybe() = nothing\n",
    "\n",
    "fmap(f::Function, a::Just{T}) where T = Just(f(a.x))\n",
    "fmap(f::Function, a::Nothing) = nothing\n",
    "\n",
    "\n",
    "Maybe(f::Function) = a::Maybe -> fmap(f,a)"
   ]
  },
  {
   "cell_type": "code",
   "execution_count": 25,
   "id": "303e10e8-9e26-47ba-8fec-2e1381dabdc9",
   "metadata": {},
   "outputs": [
    {
     "data": {
      "text/plain": [
       "true"
      ]
     },
     "execution_count": 25,
     "metadata": {},
     "output_type": "execute_result"
    }
   ],
   "source": [
    "Maybe(identity)(Maybe())\n",
    "\n",
    "f(x::Int)::Int = x^2\n",
    "g(x::Int)::Int = x + 1\n",
    "\n",
    "Maybe(f∘g)(Maybe(10)) == (Maybe(f) ∘ Maybe(g))(Maybe(10))"
   ]
  },
  {
   "cell_type": "code",
   "execution_count": 27,
   "id": "74145477-5c74-4f45-87cb-6ecea473aeb7",
   "metadata": {},
   "outputs": [
    {
     "data": {
      "text/plain": [
       "true"
      ]
     },
     "execution_count": 27,
     "metadata": {},
     "output_type": "execute_result"
    }
   ],
   "source": [
    "Maybe(identity)(Maybe()) isa Nothing"
   ]
  },
  {
   "cell_type": "markdown",
   "id": "5da4072f-395d-4a26-99db-d832ea02a0c1",
   "metadata": {},
   "source": [
    "### Example - Using our Maybe Functor"
   ]
  },
  {
   "cell_type": "markdown",
   "id": "95a1e1a3-0ed0-4dca-939d-c52a39537fd4",
   "metadata": {},
   "source": [
    "Let's do an use example. We have a function `getuserfromdb` that get's a value from a database\n",
    "by searching the index. If the index is not in the database, it returns nothing.\n",
    "Hence, our function is of type `Union{User, Nothing}`.\n",
    "\n",
    "Next, we have a funciton `getname(x::User)::String`, that returns the\n",
    "name of the user, if a user is passed.\n",
    "We cannot (in good concious) compose our function `getname` with the function\n",
    "`getuserfromdb`, because the types don't match.\n",
    "\n",
    "We could solve this by extending our `getname` function to be able to receive null values,\n",
    "then apply an if statement to check if the null is passed, and then return null... But this does\n",
    "not sound nice. Our `getname` does exactly what's suppose to do. We don't want to add some\n",
    "extra commands to deal with incorrect input.\n",
    "\n",
    "Hence, we can use the `Maybe` functor. Using `Maybe(getname)`\n",
    "we have a new function that takes `Maybe{User}` and returns `Maybe{String}`."
   ]
  },
  {
   "cell_type": "code",
   "execution_count": 11,
   "id": "4bfe42e6-aa1d-40a6-8c34-eda8c5eef30f",
   "metadata": {},
   "outputs": [],
   "source": [
    "struct User\n",
    "    name::String\n",
    "end\n",
    "DATABASE = Dict( 4 =>User(\"James\"), 2 =>User(\"John\"), 1 =>User(\"Peter\"));"
   ]
  },
  {
   "cell_type": "code",
   "execution_count": 12,
   "id": "b1912911-9b6d-4346-8a6c-93a6936d9aaf",
   "metadata": {},
   "outputs": [
    {
     "data": {
      "text/plain": [
       "User(\"Peter\")"
      ]
     },
     "execution_count": 12,
     "metadata": {},
     "output_type": "execute_result"
    }
   ],
   "source": [
    "function getuserfromdb(uid::Int)::Union{User, Nothing}\n",
    "    if uid in keys(DATABASE)\n",
    "        return DATABASE[uid]\n",
    "    end\n",
    "    return nothing\n",
    "end\n",
    "\n",
    "getuserfromdb(1)"
   ]
  },
  {
   "cell_type": "code",
   "execution_count": 13,
   "id": "c1b18308-7c6c-4fb3-81fe-e1a7f4ec3594",
   "metadata": {},
   "outputs": [
    {
     "name": "stdout",
     "output_type": "stream",
     "text": [
      "Maybe(getuserfromdb(10)) isa Maybe{User} = true\n",
      "Maybe(getuserfromdb(1)) isa Maybe{User} = true\n"
     ]
    }
   ],
   "source": [
    "@show Maybe(getuserfromdb(10)) isa Maybe{User}\n",
    "@show Maybe(getuserfromdb(1)) isa Maybe{User};"
   ]
  },
  {
   "cell_type": "code",
   "execution_count": 14,
   "id": "f3e9727c-2570-40f8-86ea-4c4b86a5ffc5",
   "metadata": {},
   "outputs": [
    {
     "data": {
      "text/plain": [
       "getname (generic function with 1 method)"
      ]
     },
     "execution_count": 14,
     "metadata": {},
     "output_type": "execute_result"
    }
   ],
   "source": [
    "getname(x::User)::String = x.name"
   ]
  },
  {
   "cell_type": "code",
   "execution_count": 15,
   "id": "ebd5a009-1b1c-4115-8c81-59a360ce7c3d",
   "metadata": {},
   "outputs": [
    {
     "name": "stdout",
     "output_type": "stream",
     "text": [
      "(Maybe(getname))(Maybe(getuserfromdb(10))) = Nothing\n",
      "fmap(getname, Maybe(getuserfromdb(10))) = Nothing\n",
      "fmap(getname, Maybe(getuserfromdb(1))) = Just{String}(\"Peter\")\n"
     ]
    }
   ],
   "source": [
    "@show Maybe(getname)(Maybe(getuserfromdb(10)))\n",
    "@show fmap(getname, Maybe(getuserfromdb(10)))\n",
    "@show fmap(getname, Maybe(getuserfromdb(1)));"
   ]
  }
 ],
 "metadata": {
  "kernelspec": {
   "display_name": "Julia 1.8.2",
   "language": "julia",
   "name": "julia-1.8"
  },
  "language_info": {
   "file_extension": ".jl",
   "mimetype": "application/julia",
   "name": "julia",
   "version": "1.8.2"
  }
 },
 "nbformat": 4,
 "nbformat_minor": 5
}
