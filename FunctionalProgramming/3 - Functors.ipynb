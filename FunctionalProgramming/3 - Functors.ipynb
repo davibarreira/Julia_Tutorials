{
 "cells": [
  {
   "cell_type": "markdown",
   "id": "9870e562-e7fb-41d5-9e13-f5051d1d3f86",
   "metadata": {},
   "source": [
    "***CATEGORY THEORY WITH JULIA***\n",
    "-----\n",
    "\n",
    "# 3. Functors\n",
    "\n",
    "In Category Theory, a functor $F$ is similar to a morphism, but while morphisms act on objects,\n",
    "functors act on categories.\n",
    "\n",
    "**Definition (Functor in Category Theory).** A functor is $F:\\mathcal C \\to \\mathcal D$ such that\n",
    "for every object $a \\in Ob_{\\mathcal C}$ there is $F(a) \\in Ob_{\\mathcal D}$. Also,\n",
    "\n",
    "$$F(id_a) = id_{F(a)},$$\n",
    "\n",
    "And for\n",
    "\n",
    "$$f \\in Mor_{\\mathcal C}(a,b) \\text{ and }g \\in Mor_{\\mathcal C}(c,a)$$\n",
    "\n",
    "We have\n",
    "\n",
    "$$F(f):Fa \\to Fb \\text{ and } F(g):Fc \\to Fa \\text{ such that }$$\n",
    "\n",
    "$$F(f \\circ g) = F f \\circ Fg.$$\n",
    "\n",
    "\n",
    "When a functor has the same category in the domain and codmain (i.e. $F:\\mathcal C \\to \\mathcal C$) we call\n",
    "it an **endofunctor**.\n",
    "\n",
    "As we'll see, in programming, our functors will be endofunctors acting in the category of types.\n"
   ]
  },
  {
   "cell_type": "markdown",
   "id": "e9f8b1c1-cddb-4f07-b8db-d2a362d5082d",
   "metadata": {
    "tags": []
   },
   "source": [
    "## 3.1 Functors In Programming"
   ]
  },
  {
   "cell_type": "markdown",
   "id": "f4658e2e-871d-4a2f-808d-a8a0168f055d",
   "metadata": {},
   "source": [
    "So, what is this like in a programming language? \n",
    "\n",
    "A functor takes types and returns types, and it takes functions and returns functions, and lastly,\n",
    "it must satisfy the composition property and the identity property.\n",
    "\n",
    "In programming (and Julia more specifically), a functor is represented by a\n",
    "parametric struct `F{T}`, a type constructor for such parametric struct, and an `fmap` function,\n",
    "which is used to apply an arbitrary function `f` to an instance of `F{T}`.\n",
    "Why this `fmap`? Because it takes the role of `F(f)`. We can build `F(f)` from `fmap`.\n",
    "\n",
    "Let's do an example below."
   ]
  },
  {
   "cell_type": "code",
   "execution_count": 1,
   "id": "8e5676a4-45c1-4058-8c3a-e3832d18a253",
   "metadata": {},
   "outputs": [
    {
     "name": "stderr",
     "output_type": "stream",
     "text": [
      "\u001b[32m\u001b[1m  Activating\u001b[22m\u001b[39m project at `~/MEGA/EMAP/PhDThesis/notes/FunctionalProgrammingCategoryTheory/julia`\n"
     ]
    }
   ],
   "source": [
    "using Pkg\n",
    "Pkg.activate(\".\")"
   ]
  },
  {
   "cell_type": "code",
   "execution_count": 2,
   "id": "12af95cf-c802-4e56-acfa-268f757e6633",
   "metadata": {},
   "outputs": [],
   "source": [
    "struct F{T}\n",
    "    x::T\n",
    "    y::T\n",
    "end\n",
    "\n",
    "# This is the type constructor\n",
    "F(T::Type) = F{T}\n",
    "\n",
    "fmap(f::Function, a::F{T}) where T = F(f(a.x), f(a.y))\n",
    "\n",
    "# Note that from fmap we can do\n",
    "F(f::Function) = a -> fmap(f,a);\n",
    "\n",
    "# CAUTION! Overloading `F` in such a way may cause problems when, for example,\n",
    "# your struct has only a single field. In this case, if you wanted to create\n",
    "# a struct where the element was a function, this implementation would enter in conflict"
   ]
  },
  {
   "cell_type": "markdown",
   "id": "a13cc208-43a7-4a41-bd4a-a6c89363bc8a",
   "metadata": {},
   "source": [
    "So why is this implementation a functor? Because, `F` defines how to take objects (types) `T`\n",
    "and maps them to type `F{T}`. Hence, we have the part acting on the objects. But functors\n",
    "also act on functions. This behaviour is coded in the `fmap`. Note,\n",
    "`fmap(f,F(a)) ≡ F(f) (F(a))`.\n",
    "\n",
    "But what about the composition and identity preservation? That depends on the implementation\n",
    "of the `fmap`. Fortunantly, it can be shown that our implementation does satisfies these properties.\n",
    "We'll not prove it, instead, we'll just show an example."
   ]
  },
  {
   "cell_type": "code",
   "execution_count": 3,
   "id": "cf3ed389-76f5-4c68-b5ca-3ec763fb0b2b",
   "metadata": {},
   "outputs": [
    {
     "name": "stdout",
     "output_type": "stream",
     "text": [
      "(F(f) ∘ F(g))(a) == (F(f ∘ g))(a) = true\n",
      "(F(id))(a) = F{Int64}(1, 2)\n"
     ]
    }
   ],
   "source": [
    "a = F(1,2)\n",
    "\n",
    "id(x) = x\n",
    "f(x)  = √2\n",
    "g(x)  = x^2\n",
    "\n",
    "\n",
    "@show (F(f) ∘ F(g))(a) == F(f ∘ g)(a)\n",
    "@show F(id)(a);"
   ]
  },
  {
   "cell_type": "markdown",
   "id": "d659a6a3-5629-495b-b0d7-e161341d7260",
   "metadata": {},
   "source": [
    "*There is a catch in the example above*."
   ]
  },
  {
   "cell_type": "markdown",
   "id": "74e69866-040a-4033-97bb-0e459a3f5d46",
   "metadata": {},
   "source": [
    "In the example above, when we created our struct, Julia implicitly created for us a \"value\" constructor.\n",
    "\"How and where?\" you might ask. Note, when you write `F(1,2)`, Julia is actually creating a value of\n",
    "type `F{Int}`. This value constructor is **not** part of the definition of a functor.\n",
    "A functor does not say how to select values from types.\n",
    "\n",
    "We actually already explained this in section *1 - Types*. This value constructor is a morphism\n",
    "`F(x::T, y::T) where T` to a value of type `F{T}`. But there is a difference here! The type `T`\n",
    "is not an actual type, but a parameter. And this parameter is actually inferred from the types\n",
    "of `x` and `y`.\n",
    "\n",
    "<!-- So if this is not part of the functor, than what is it? In Category Theory, this value selector\n",
    "can be defined as a natural transformation. We'll go deeper into natural transformations latter, but let's\n",
    "give a brief introduction here.\n",
    "\n",
    "Natural transformations are like morphisms, but between functors. Let $F:\\mathcal C \\to \\mathcal C$\n",
    "and $G:\\mathcal C \\to \\mathcal C$ be two endofunctors. A natural transformation between these functors is\n",
    "$\\eta:F\\to G$ such that for every $A \\in \\mathcal C$ we have $\\eta_A:FA \\to GA$. Hence, a natural\n",
    "transformation defines a function that selects an element of $GA$ for every element of $FA$ that we pass,\n",
    "for any type $A$.\n",
    "\n",
    "In the example above, `F(1,2)` is equivalent to $eta_{Tuple{Int,Int}}(Tuple(1,2)) = F(1,2)$. -->"
   ]
  },
  {
   "cell_type": "markdown",
   "id": "18eb57d1-25c1-40e7-a28d-d5a992a49226",
   "metadata": {},
   "source": [
    "## 3.2 The `Maybe` Functor\n",
    "\n",
    "Another common example of functor is the `Maybe` functor. From a type `T`, the functor\n",
    "`Maybe` returns a type `Union{T, Nothing}`.\n",
    "\n",
    "What about the function mapping? In that case, `Maybe f` is a function that returns\n",
    "`nothing` if it gets `nothing` as input. Otherwise, it returns the same result as `f`.\n",
    "\n",
    "Below is an implementation."
   ]
  },
  {
   "cell_type": "code",
   "execution_count": 4,
   "id": "07bfb8ee-abf1-4d96-ad53-64203165b507",
   "metadata": {},
   "outputs": [
    {
     "name": "stdout",
     "output_type": "stream",
     "text": [
      "fmap(f, nothing) = nothing\n",
      "fmap(f, 2) = 4\n"
     ]
    }
   ],
   "source": [
    "Maybe{T} = Union{T, Nothing}\n",
    "Maybe(T::Type) = Union{T, Nothing}\n",
    "\n",
    "fmap(f::Function, x::Maybe) = x === nothing ? nothing : f(x)\n",
    "\n",
    "f(x) = x^2\n",
    "@show fmap(f,nothing);\n",
    "@show fmap(f,2);"
   ]
  },
  {
   "cell_type": "markdown",
   "id": "4cb05a81-5aee-41a9-b87c-cc4111c1b1c0",
   "metadata": {},
   "source": [
    "Note that in this case we **didn't even implement the struct**. Why?\n",
    "Because Julia already has the `Union` type, hence, we just used the so called *type alias*,\n",
    "meaning, we just created another alias (name) for the `Union{T, Nothing}` type.\n",
    "This type already defines a way of says that a value is either of type `T`or type `Nothing`.\n",
    "\n",
    "Our `fmap` was also a bit different. Yet, it's simple to understand what is going on.\n",
    "The `fmap` takes a function and applies it to `x` of type `Maybe`. Now, if `x` is\n",
    "`nothing`, then the function returns nothing. Otherwise, it just applies `f` to `x`.  "
   ]
  },
  {
   "cell_type": "markdown",
   "id": "a5ab0bae-1124-44de-8ce1-52c81c744801",
   "metadata": {},
   "source": [
    "This implementation is very different from what, for example, is described in Haskell.\n",
    "In Haskell, this would be implemented as something like:"
   ]
  },
  {
   "cell_type": "code",
   "execution_count": 78,
   "id": "54bb43f3-fda8-4410-80d4-eec35c3b8e4b",
   "metadata": {},
   "outputs": [
    {
     "name": "stdout",
     "output_type": "stream",
     "text": [
      "(Just(1) isa Maybe2, nil{Any}() isa Maybe2) = (true, true)\n"
     ]
    },
    {
     "data": {
      "text/plain": [
       "(Just{Int64}(4), nil{Any}())"
      ]
     },
     "execution_count": 78,
     "metadata": {},
     "output_type": "execute_result"
    }
   ],
   "source": [
    "abstract type Maybe2{T} end\n",
    "\n",
    "struct Just{T} <: Maybe2{T}\n",
    "    _1::T\n",
    "end\n",
    "\n",
    "struct nil{T} <: Maybe2{T} end\n",
    "\n",
    "Maybe2(T::Type) = Maybe2{T}\n",
    "fmap(f::Function, x::Maybe2{T}) where T = x isa nil ? nil{T}() : Just(f(x._1))\n",
    "\n",
    "@show Just(1) isa Maybe2, nil{Any}() isa Maybe2\n",
    "fmap(x-> x^2, Just(2)), fmap(x->x^2, nil{Any}())"
   ]
  },
  {
   "cell_type": "markdown",
   "id": "64fde603-1945-45a5-a864-18d95a955327",
   "metadata": {},
   "source": [
    "## 3.3 The `Vector` Functor"
   ]
  },
  {
   "cell_type": "markdown",
   "id": "4c3545e7-da63-4114-a111-9f0855d68487",
   "metadata": {},
   "source": [
    "Note that `Vector{T}` works like a functor. By passing a type say `Int`, we get a type Vector{Int}.\n",
    "The fmap for a `Vector{T}` is just passing a function to each of it's elements.\n",
    "Again, one can prove that such implementation satisfies the composition and identity properties.\n",
    "\n",
    "In the implementation below, we use the name `Vec` to avoid clashing with the name `Vector`\n",
    "which is already from Julia's Base."
   ]
  },
  {
   "cell_type": "code",
   "execution_count": 79,
   "id": "09cc4dc6-3459-4d5d-9d86-b9e9c502980f",
   "metadata": {},
   "outputs": [
    {
     "data": {
      "text/plain": [
       "2-element Vector{Int64}:\n",
       " 4\n",
       " 4"
      ]
     },
     "execution_count": 79,
     "metadata": {},
     "output_type": "execute_result"
    }
   ],
   "source": [
    "fmap(f,v::Vector{T}) where T = [f(i) for i in v]\n",
    "\n",
    "Vector(x::T...) where T = [x...]\n",
    "\n",
    "Vec(f) = v -> [f(i) for i in v]\n",
    "\n",
    "Vec(x->x^2)([2,2])"
   ]
  },
  {
   "cell_type": "markdown",
   "id": "8ba99fdc-b49e-4d69-b6f4-41856f583e65",
   "metadata": {},
   "source": [
    "## 3.4 The `Const{T}` Functor\n",
    "\n",
    "Let's start with an example. The `Const_Int` functor is a functor\n",
    "that takes any type `T` and returns the type `Int`.\n",
    "This functor takes every morphism (function)\n",
    "to the identity morphism of `Int`. Note, if `f(x::A)::B`, then `Const{Int}(A)=Int`\n",
    "and `Const{Int}(B) = Int`. Hence, `Const{Int}(f) = x::Int->x`."
   ]
  },
  {
   "cell_type": "code",
   "execution_count": 80,
   "id": "ddab04ef-4480-4c80-b06d-c7f1f1e2504a",
   "metadata": {},
   "outputs": [
    {
     "data": {
      "text/plain": [
       "Const_Int (generic function with 2 methods)"
      ]
     },
     "execution_count": 80,
     "metadata": {},
     "output_type": "execute_result"
    }
   ],
   "source": [
    "Const_Int(T::Type) = Int\n",
    "\n",
    "Const_Int(f::Function) = x::Int -> x"
   ]
  },
  {
   "cell_type": "markdown",
   "id": "314a7bed-ef99-40e4-9442-3ac5eec80b4d",
   "metadata": {},
   "source": [
    "Again, we've constructed our functor without the `fmap`. For this to be possible, we would need to\n",
    "create a struct.\n",
    "\n",
    "Now, note that `Const_Int` can be generalized if we use type parameters. Meaning, we can\n",
    "create a whole class of `Const` functors."
   ]
  },
  {
   "cell_type": "code",
   "execution_count": 81,
   "id": "e0a84299-8060-4497-99e7-8cbb4624899e",
   "metadata": {},
   "outputs": [
    {
     "data": {
      "text/plain": [
       "Int64"
      ]
     },
     "execution_count": 81,
     "metadata": {},
     "output_type": "execute_result"
    }
   ],
   "source": [
    "struct Const{T} end\n",
    "Const{T}(A::Type) where T = T\n",
    "\n",
    "Const{T}(f::Function) where T = x::T -> x\n",
    "fmap(f::Function, x::Const{T}) where T = x\n",
    "\n",
    "fmap(x->x^2, Const{Int}())\n",
    "\n",
    "Const{Int}(String)"
   ]
  },
  {
   "cell_type": "markdown",
   "id": "6c3d0e2f-c9c7-4002-993f-e439b23061d1",
   "metadata": {},
   "source": [
    "Note that `Const{Int}` is equivalant to the functor `Const_Int`, in the sense that it takes\n",
    "every type `A` to type `Int`, and takes every function `f(x::A)::B` to `id(x::Int) = x`.\n",
    "\n",
    "There is a strange abstraction going on here. The only \"value\" of type `Const{T}`\n",
    "is `Const{T}()`.\n",
    "\n",
    "It might be useful to actually store a value inside of this `Const{T}` struct.\n",
    "Yet, once we do this, we are actually defining more than the functor, since now,\n",
    "we have an element for each storage value."
   ]
  },
  {
   "cell_type": "code",
   "execution_count": 82,
   "id": "56725cec-8183-4f91-a85e-0f729f525189",
   "metadata": {},
   "outputs": [
    {
     "data": {
      "text/plain": [
       "ConstStore{Int64}(1)"
      ]
     },
     "execution_count": 82,
     "metadata": {},
     "output_type": "execute_result"
    }
   ],
   "source": [
    "struct ConstStore{T}\n",
    "    value::T\n",
    "end\n",
    "\n",
    "ConstStore{T}(A::Type) where T = T\n",
    "ConstStore{T}(f::Function) where T = x::T -> x\n",
    "\n",
    "fmap(f::Function, x::ConstStore{T}) where T = x\n",
    "\n",
    "fmap(x->10, ConstStore(1))"
   ]
  },
  {
   "cell_type": "markdown",
   "id": "19d2a882-b9bd-4d87-b796-0739981ae9df",
   "metadata": {
    "tags": []
   },
   "source": [
    "## 3.5 List Functor\n",
    "\n",
    "The `Vector{T}` functor is already a list functor. But let's implement our own."
   ]
  },
  {
   "cell_type": "code",
   "execution_count": 83,
   "id": "4ccafe07-ba69-4491-a22e-004be3428b58",
   "metadata": {},
   "outputs": [
    {
     "data": {
      "text/plain": [
       "Cons{Int64}(10, Cons{Int64}(10, Nil{Int64}()))"
      ]
     },
     "execution_count": 83,
     "metadata": {},
     "output_type": "execute_result"
    }
   ],
   "source": [
    "abstract type List{T} end\n",
    "struct Nil{T} <: List{T} end\n",
    "struct Cons{T} <: List{T}\n",
    "  val::T\n",
    "  next::List{T} # n.b. abstract type!\n",
    "end\n",
    "Nil(T) = Nil{T}()\n",
    "Nil() = Nil(Any)\n",
    "\n",
    "## Example of list\n",
    "Cons(1, Cons(1,Nil{Int}()))\n",
    "\n",
    "## Another example of list\n",
    "Cons(x::T) where T = Cons(x, Nil(T))\n",
    "l = Cons(1,Cons(2));\n",
    "\n",
    "\n",
    "fmap(f::Function, x::Nil) = x\n",
    "fmap(f::Function, x::Cons{T}) where T = Cons(f(x.val),fmap(f, x.next))\n",
    "\n",
    "fmap(x->10,l)"
   ]
  },
  {
   "cell_type": "markdown",
   "id": "29fd90f0-ce39-4e13-9c3c-5073c696c24f",
   "metadata": {},
   "source": [
    "## 3.6 Functor Composition\n",
    "\n",
    "In the same way that we compose morphisms (functions) we can think about composing functors\n",
    "when the domain and codomain match. Yet, functors act not only on objects, but also morphisms. Hence,\n",
    "how should the composition work. Here it is:\n",
    "\n",
    "Let $F:\\mathcal C \\to \\mathcal D$ and $G:\\mathcal D \\to \\mathcal E$ be two functors. We define\n",
    "* For any $A \\in \\mathcal C$, then $(G \\circ F) A = G(F(A))$;\n",
    "* For any $f \\in \\mathcal C(A,B)$, then $(G \\circ F) f = G(F(f))$.\n",
    "\n",
    "For such composition, an identity functor $I:\\mathcal D \\to \\mathcal D$ is a functor\n",
    "that for $A \\in \\mathcal D$ we have $I(A) = A$, and $If(A) = f(A)$.\n",
    "\n",
    "Since in programming our functors are endofunctors ($F:\\mathcal C \\to \\mathcal C$),\n",
    "then they are composable.\n",
    "\n",
    "Let's do an example by implementing a function `maybetail`\n",
    "that takes a `List` and returns just the \"tail\"."
   ]
  },
  {
   "cell_type": "code",
   "execution_count": 84,
   "id": "c9b0f2ca-a529-4f40-83f8-6daffd8ae596",
   "metadata": {},
   "outputs": [
    {
     "data": {
      "text/plain": [
       "(Just{Cons{Int64}}(Cons{Int64}(2, Cons{Int64}(3, Nil{Int64}()))), nil{List}())"
      ]
     },
     "execution_count": 84,
     "metadata": {},
     "output_type": "execute_result"
    }
   ],
   "source": [
    "# Since `Nil` and `Cons` are the only subtypes of `List`, then `maybetail` can\n",
    "# be thought of as a function from List.\n",
    "maybetail(x::Nil) =  nil{List}()\n",
    "maybetail(x::Cons) = Just(x.next)\n",
    "\n",
    "\n",
    "l = Cons(1,Cons(2,Cons(3)));\n",
    "\n",
    "maybetail(l), maybetail(Nil())"
   ]
  },
  {
   "cell_type": "markdown",
   "id": "ee37ac43-3f7a-42c9-a629-97b47a7b002c",
   "metadata": {},
   "source": [
    "Note that this implementation returns a `Maybe2{List}`, since it takes `List` and\n",
    "returns either `nil{List}` or `Just{List}`, which as the subtypes of `Maybe2{List}`.\n",
    "\n",
    "The question now is, how do we use `fmap` in such case?\n",
    "For example:"
   ]
  },
  {
   "cell_type": "code",
   "execution_count": 85,
   "id": "8bae8628-7a30-4df0-977e-cc1f3a0ec273",
   "metadata": {},
   "outputs": [
    {
     "data": {
      "text/plain": [
       "Just{Cons{Int64}}(Cons{Int64}(1, Cons{Int64}(2, Cons{Int64}(3, Nil{Int64}()))))"
      ]
     },
     "execution_count": 85,
     "metadata": {},
     "output_type": "execute_result"
    }
   ],
   "source": [
    "mis = Just(l)"
   ]
  },
  {
   "cell_type": "markdown",
   "id": "db4be045-8675-4b35-913a-461900c57bcd",
   "metadata": {},
   "source": [
    "How do we take the squares of each value in this list? I.e. how do we compose these functors?\n",
    "The answer is in the example below:"
   ]
  },
  {
   "cell_type": "code",
   "execution_count": 86,
   "id": "d1ea347a-1adf-45fc-bc60-6e3084a68acc",
   "metadata": {},
   "outputs": [
    {
     "data": {
      "text/plain": [
       "Just{Cons{Int64}}(Cons{Int64}(1, Cons{Int64}(4, Cons{Int64}(9, Nil{Int64}()))))"
      ]
     },
     "execution_count": 86,
     "metadata": {},
     "output_type": "execute_result"
    }
   ],
   "source": [
    "sq(x) = x^2\n",
    "\n",
    "fmap(x->fmap(sq,x),mis)"
   ]
  },
  {
   "cell_type": "markdown",
   "id": "fc17ed51-2929-445a-b0bb-5098b9703d9f",
   "metadata": {},
   "source": [
    "## 3.7 Bifunctor \n",
    "\n",
    "A functor takes one type as argument. The bifunctor takes two."
   ]
  },
  {
   "cell_type": "code",
   "execution_count": 26,
   "id": "0343b3fa-2ba5-4673-af50-5496fe5c342d",
   "metadata": {},
   "outputs": [
    {
     "data": {
      "text/plain": [
       "Bifunctor{Float64, String}(1.4142135623730951, \"Y\")"
      ]
     },
     "execution_count": 26,
     "metadata": {},
     "output_type": "execute_result"
    }
   ],
   "source": [
    "struct Bifunctor{R,L}\n",
    "    x::R\n",
    "    y::L\n",
    "end\n",
    "\n",
    "Bifunctor(::Type{R},::Type{L}) where R where L = Bifunctor{R,L}\n",
    "\n",
    "map_Bifunctor(f,g) = b -> Bifunctor(f(b.x), g(b.y))\n",
    "\n",
    "b = Bifunctor(2,\"y\")\n",
    "\n",
    "map_Bifunctor(x->√x,x->uppercase(x))(b)"
   ]
  },
  {
   "cell_type": "markdown",
   "id": "0b88f69d-bd60-4db2-86d8-3e53f9e0d6b2",
   "metadata": {},
   "source": [
    "## 3.8 Generating Functors\n",
    "\n",
    "As we've seen, given a parametric struct `S{T}`, there is a corresponding functor is just\n",
    "the type constructor and the lifting functor, that takes a function f a applies it to each field\n",
    "in the struct.\n",
    "\n",
    "Hence, one can \"automatically\" generate the respective functor for each struct.\n",
    "In Haskell, this is done by adding  `{-# LANGUAGE DeriveFunctor #-}` to the code, and hence\n",
    "by running:\n",
    "```\n",
    "data Maybe a = Nothing | Just a deriving Functor\n",
    "```\n",
    "\n",
    "The corresponding fmap will be generated.\n",
    "\n",
    "In Julia, we can use the Functors.jl package."
   ]
  },
  {
   "cell_type": "code",
   "execution_count": null,
   "id": "c3763667-50e7-490d-9916-e4c1776fea89",
   "metadata": {},
   "outputs": [],
   "source": [
    "using Functors\n",
    "struct MyType{A,B,C}\n",
    "    x::A\n",
    "    y::B\n",
    "    w::B\n",
    "    z::C\n",
    "end\n",
    "\n",
    "t = MyType(1,1.0,2.0,\"t\")\n",
    "fmap(string, t)"
   ]
  },
  {
   "cell_type": "markdown",
   "id": "a3f53ddb-0d04-42ad-86fb-6c540e9f860f",
   "metadata": {},
   "source": [
    "Note, this is not the correct behavior! The fmap applied a string to the whole\n",
    "thing, and not to the elements. The reason is that we haven't overloaded\n",
    "the fmap function for MyType. This will be done using the @functor macro from Functors.jl."
   ]
  },
  {
   "cell_type": "code",
   "execution_count": null,
   "id": "fd48202c-a319-4621-8851-6638374e95e3",
   "metadata": {},
   "outputs": [],
   "source": [
    "@functor MyType\n",
    "t = MyType(1,1.0,2.0,\"t\")\n",
    "fmap(string, t)"
   ]
  },
  {
   "cell_type": "code",
   "execution_count": null,
   "id": "2241e080-de81-46e7-a07c-d6982bf5b8bd",
   "metadata": {},
   "outputs": [],
   "source": []
  }
 ],
 "metadata": {
  "kernelspec": {
   "display_name": "Julia 1.8.1",
   "language": "julia",
   "name": "julia-1.8"
  },
  "language_info": {
   "file_extension": ".jl",
   "mimetype": "application/julia",
   "name": "julia",
   "version": "1.8.1"
  }
 },
 "nbformat": 4,
 "nbformat_minor": 5
}
