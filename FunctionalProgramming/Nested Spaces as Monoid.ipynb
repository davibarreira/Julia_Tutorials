{
 "cells": [
  {
   "cell_type": "markdown",
   "id": "4204da53-992e-42ce-9a85-5fa151a12b59",
   "metadata": {},
   "source": [
    "# Nested Spaces as Monoid"
   ]
  },
  {
   "cell_type": "code",
   "execution_count": 9,
   "id": "315c0036-391a-4807-b1cb-4c2adab9b3c6",
   "metadata": {},
   "outputs": [
    {
     "name": "stderr",
     "output_type": "stream",
     "text": [
      "\u001b[32m\u001b[1m  Activating\u001b[22m\u001b[39m project at `~/MEGA/EMAP/PhDThesis/notes/FunctionalProgrammingCategoryTheory/julia`\n"
     ]
    }
   ],
   "source": [
    "using Pkg\n",
    "Pkg.activate(\".\")"
   ]
  },
  {
   "cell_type": "code",
   "execution_count": 17,
   "id": "87c4f42b-aa3d-4d31-9b10-2f267885b394",
   "metadata": {},
   "outputs": [
    {
     "data": {
      "text/plain": [
       "2-element SVector{2, Float64} with indices SOneTo(2):\n",
       " 4.5\n",
       " 3.5"
      ]
     },
     "execution_count": 17,
     "metadata": {},
     "output_type": "execute_result"
    }
   ],
   "source": [
    "using CoordinateTransformations, Rotations, StaticArrays, Luxor\n",
    "\n",
    "x = [1.0, 2.0] \n",
    "trans = Translation(3.5, 1.5)\n",
    "\n",
    "y = trans(x)"
   ]
  },
  {
   "cell_type": "code",
   "execution_count": null,
   "id": "f6403233-c058-40a3-bd84-f017c7c4e956",
   "metadata": {},
   "outputs": [],
   "source": [
    "abstract type Space end\n",
    "\n",
    "struct Finite2D\n",
    "end"
   ]
  },
  {
   "cell_type": "code",
   "execution_count": 18,
   "id": "a36580ec-f81a-4d71-b3f0-68e68776c257",
   "metadata": {},
   "outputs": [
    {
     "data": {
      "image/svg+xml": [
       "<?xml version=\"1.0\" encoding=\"UTF-8\"?>\n",
       "<svg xmlns=\"http://www.w3.org/2000/svg\" xmlns:xlink=\"http://www.w3.org/1999/xlink\" width=\"400pt\" height=\"400pt\" viewBox=\"0 0 400 400\" version=\"1.1\">\n",
       "<g id=\"surface1\">\n",
       "<rect x=\"0\" y=\"0\" width=\"400\" height=\"400\" style=\"fill:rgb(98.039216%,92.156863%,84.313725%);fill-opacity:1;stroke:none;\"/>\n",
       "</g>\n",
       "</svg>\n"
      ],
      "text/plain": []
     },
     "execution_count": 18,
     "metadata": {},
     "output_type": "execute_result"
    }
   ],
   "source": [
    "drawheight = 400\n",
    "drawwidth = 400\n",
    "\n",
    "d = Drawing(drawheight,drawwidth,:svg)\n",
    "background(\"antiquewhite\")\n",
    "sethue(\"lightgrey\")\n",
    "\n",
    "finish()\n",
    "d"
   ]
  },
  {
   "cell_type": "code",
   "execution_count": null,
   "id": "d288f8a8-169a-4095-ac1f-4bcf29764257",
   "metadata": {},
   "outputs": [],
   "source": []
  }
 ],
 "metadata": {
  "kernelspec": {
   "display_name": "Julia 1.8.1",
   "language": "julia",
   "name": "julia-1.8"
  },
  "language_info": {
   "file_extension": ".jl",
   "mimetype": "application/julia",
   "name": "julia",
   "version": "1.8.1"
  }
 },
 "nbformat": 4,
 "nbformat_minor": 5
}
