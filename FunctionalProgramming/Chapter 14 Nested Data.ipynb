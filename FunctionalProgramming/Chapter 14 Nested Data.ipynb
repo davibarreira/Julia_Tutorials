{
 "cells": [
  {
   "cell_type": "markdown",
   "id": "377ca77c-11c9-48aa-80b9-4355d647d304",
   "metadata": {},
   "source": [
    "## Chapter 14 - Functional Tools for Nested Data\n",
    "\n",
    "Let's start by creating a function that modifies a field in a struct.\n",
    "Struct are immutable, unless we use the mutable flag. Using mutable structs\n",
    "can be less efficient, so we instead will use the conventional struct with\n",
    "the `Accessors.jl` package to more easily \"update them\". Note the quotes in \"update\".\n",
    "The reason is that we don't actually update immutable structs instances, we just\n",
    "copy them with a different value in one field."
   ]
  },
  {
   "cell_type": "code",
   "execution_count": 1,
   "id": "8418cc6b-7fd4-499b-9145-0e27f1579e4c",
   "metadata": {},
   "outputs": [
    {
     "name": "stderr",
     "output_type": "stream",
     "text": [
      "\u001b[32m\u001b[1m  Activating\u001b[22m\u001b[39m project at `~/MEGA/EMAP/Julia_Tutorials/FunctionalProgramming`\n",
      "┌ Info: Precompiling Accessors [7d9f7c33-5ae7-4f3b-8dc6-eff91059b697]\n",
      "└ @ Base loading.jl:1664\n"
     ]
    }
   ],
   "source": [
    "using Pkg\n",
    "Pkg.activate(\".\")\n",
    "using Accessors"
   ]
  },
  {
   "cell_type": "code",
   "execution_count": 2,
   "id": "8fd98293-8134-4315-9e50-877624834f7f",
   "metadata": {},
   "outputs": [],
   "source": [
    "struct MyData\n",
    "    name::String\n",
    "    size::Int\n",
    "    MyData(name,size) = size ≥ 0 ? new(name,size) : error(\"Size must be ≥ 0\")\n",
    "end"
   ]
  },
  {
   "cell_type": "code",
   "execution_count": 3,
   "id": "93d24c82-70ef-4d89-95aa-774eb6644b57",
   "metadata": {},
   "outputs": [
    {
     "data": {
      "text/plain": [
       "MyData(\"Davi\", 170)"
      ]
     },
     "execution_count": 3,
     "metadata": {},
     "output_type": "execute_result"
    }
   ],
   "source": [
    "item = MyData(\"Davi\",170)"
   ]
  },
  {
   "cell_type": "code",
   "execution_count": 4,
   "id": "25a3b6d6-bf41-4145-a59c-1544e7b1ace9",
   "metadata": {},
   "outputs": [
    {
     "data": {
      "text/plain": [
       "setfield (generic function with 1 method)"
      ]
     },
     "execution_count": 4,
     "metadata": {},
     "output_type": "execute_result"
    }
   ],
   "source": [
    "# function setfield(item, field::Symbol, value)\n",
    "#     ex = quote\n",
    "#         @set $item.$field = $value\n",
    "#     end\n",
    "#     return eval(ex)\n",
    "# end\n",
    "setfield(item,field, value) = set(item, PropertyLens(field), value)"
   ]
  },
  {
   "cell_type": "markdown",
   "id": "6b71fb07-2a57-4ad2-9580-76a409f8cb9b",
   "metadata": {},
   "source": [
    "Note that our `setfield` function is the same as the `objectSet` function from the book.\n",
    "Now we can define the `update` function."
   ]
  },
  {
   "cell_type": "code",
   "execution_count": 6,
   "id": "cbdac586-701a-4d01-b18b-19a2af213049",
   "metadata": {},
   "outputs": [
    {
     "data": {
      "text/plain": [
       "update (generic function with 1 method)"
      ]
     },
     "execution_count": 6,
     "metadata": {},
     "output_type": "execute_result"
    }
   ],
   "source": [
    "function update(item, key, modify::Function)\n",
    "    value = getfield(item, key)\n",
    "    newitem = setfield(item, key, modify(value))\n",
    "    return newitem\n",
    "end"
   ]
  },
  {
   "cell_type": "code",
   "execution_count": 7,
   "id": "53c3b91a-e0b1-46b3-8eec-aba1723ed42c",
   "metadata": {},
   "outputs": [
    {
     "data": {
      "text/plain": [
       "MyData(\"Ok\", 170)"
      ]
     },
     "execution_count": 7,
     "metadata": {},
     "output_type": "execute_result"
    }
   ],
   "source": [
    "update(item,:name,x->\"Ok\")"
   ]
  },
  {
   "cell_type": "markdown",
   "id": "2662efdd-222b-4886-ae70-91346a96cb6f",
   "metadata": {},
   "source": [
    "Note that the function returns a copy of the item with the modification, hence,\n",
    "it can be seen as a pure function, i.e. not side-effects, and hence, we could\n",
    "consider it to be a calculation and not an action."
   ]
  },
  {
   "cell_type": "markdown",
   "id": "a6d592c3-2a58-4b81-bece-34c4117e5187",
   "metadata": {},
   "source": [
    "## Using update()"
   ]
  },
  {
   "cell_type": "code",
   "execution_count": 8,
   "id": "9d27adc6-6cfd-451b-85e2-7376b25d9f1f",
   "metadata": {},
   "outputs": [],
   "source": [
    "struct Employee\n",
    "    name::String\n",
    "    salary::Real\n",
    "    Employee(name,salary) = salary ≥ 0 ? new(name,salary) : error(\"Salary must be ≥ 0\")\n",
    "end"
   ]
  },
  {
   "cell_type": "code",
   "execution_count": 9,
   "id": "f03e2399-3bb2-4f92-84c3-050ebbf57fa8",
   "metadata": {},
   "outputs": [
    {
     "data": {
      "text/plain": [
       "Employee(\"Kim\", 132000.0)"
      ]
     },
     "execution_count": 9,
     "metadata": {},
     "output_type": "execute_result"
    }
   ],
   "source": [
    "employee = Employee(\"Kim\", 120_000)\n",
    "\n",
    "function raise10perc(salary::Real)\n",
    "    return salary*1.1\n",
    "end\n",
    "\n",
    "update(employee,:salary,raise10perc)"
   ]
  },
  {
   "cell_type": "markdown",
   "id": "ea76116c-6186-4113-8ab6-018625ff675d",
   "metadata": {},
   "source": [
    "## Applying Update To Nested Data\n",
    "\n",
    "Our code works fine with \"shallow\" structs. But what if it was more like a json object, with various nestings?"
   ]
  },
  {
   "cell_type": "code",
   "execution_count": 10,
   "id": "809dec48-f664-44aa-bd93-94b490901b1d",
   "metadata": {},
   "outputs": [
    {
     "data": {
      "text/plain": [
       "Clothing(\"shirt\", 13, Options(\"blue\", 3))"
      ]
     },
     "execution_count": 10,
     "metadata": {},
     "output_type": "execute_result"
    }
   ],
   "source": [
    "struct Options\n",
    "    color::String\n",
    "    size::Int\n",
    "end\n",
    "struct Clothing\n",
    "    name::String\n",
    "    price::Real\n",
    "    options::Options\n",
    "end\n",
    "\n",
    "Clothing(name,price,color,size) = Clothing(name,price,Options(color,size));\n",
    "shirt = Clothing(\"shirt\", 13, \"blue\", 3)"
   ]
  },
  {
   "cell_type": "markdown",
   "id": "2a1ee2fa-5a0d-4965-9792-43343bd9398c",
   "metadata": {},
   "source": [
    "How can we update the option size? "
   ]
  },
  {
   "cell_type": "code",
   "execution_count": 11,
   "id": "91e7973b-d771-4177-9c8c-369569a876bd",
   "metadata": {},
   "outputs": [
    {
     "data": {
      "text/plain": [
       "Clothing(\"shirt\", 13, Options(\"blue\", 2))"
      ]
     },
     "execution_count": 11,
     "metadata": {},
     "output_type": "execute_result"
    }
   ],
   "source": [
    "update(shirt,:options, x-> update(x,:size,x->2))"
   ]
  },
  {
   "cell_type": "markdown",
   "id": "a477f949-f127-4ec0-88bd-e2516f1856ec",
   "metadata": {},
   "source": [
    "Let's write this in the form of a function. "
   ]
  },
  {
   "cell_type": "code",
   "execution_count": 12,
   "id": "a3c23f04-92f2-4779-95b8-041187c5f1b6",
   "metadata": {},
   "outputs": [
    {
     "data": {
      "text/plain": [
       "Clothing(\"shirt\", 13, Options(\"blue\", 2))"
      ]
     },
     "execution_count": 12,
     "metadata": {},
     "output_type": "execute_result"
    }
   ],
   "source": [
    "update2(item, key1, key2, modify) = update(item,key1, x-> update(x,key2,modify))\n",
    "\n",
    "update2(shirt, :options,:size,x->2)"
   ]
  },
  {
   "cell_type": "markdown",
   "id": "1d4b9558-6e7c-43e3-b678-646090c17133",
   "metadata": {},
   "source": [
    "It' works beautifully. But we can see that there is the possibility of writing a more\n",
    "generict `update` function. One that can go as deep as the number of keys passed."
   ]
  },
  {
   "cell_type": "code",
   "execution_count": 13,
   "id": "3123c567-f804-4023-9053-d383e9788f9b",
   "metadata": {},
   "outputs": [
    {
     "data": {
      "text/plain": [
       "Clothing(\"shirt\", 13, Options(\"blue\", 2))"
      ]
     },
     "execution_count": 13,
     "metadata": {},
     "output_type": "execute_result"
    }
   ],
   "source": [
    "function updatenested(item,keys::Array, modify::Function)\n",
    "    if length(keys) === 0\n",
    "        return modify(item)\n",
    "    end\n",
    "    restkeys = copy(keys)\n",
    "    key = popfirst!(restkeys)\n",
    "    return update(item, key, x->updatenested(x, restkeys,modify))\n",
    "end\n",
    "\n",
    "keys = [:options,:size]\n",
    "updatenested(shirt, keys, x -> 2)"
   ]
  },
  {
   "cell_type": "markdown",
   "id": "ce16d2f0-5645-4a73-94cf-f168ae066f9a",
   "metadata": {},
   "source": [
    "Let's test it in a more nested object. "
   ]
  },
  {
   "cell_type": "code",
   "execution_count": 14,
   "id": "ed5b641a-ed20-4712-9a41-a6e21421ab7d",
   "metadata": {},
   "outputs": [],
   "source": [
    "struct Cart\n",
    "    products::Clothing\n",
    "end"
   ]
  },
  {
   "cell_type": "code",
   "execution_count": 15,
   "id": "75ed6314-9adb-400e-9f75-3df85627cc5b",
   "metadata": {},
   "outputs": [
    {
     "data": {
      "text/plain": [
       "Cart(Clothing(\"shirt\", 13, Options(\"blue\", 2)))"
      ]
     },
     "execution_count": 15,
     "metadata": {},
     "output_type": "execute_result"
    }
   ],
   "source": [
    "cart = Cart(shirt)\n",
    "\n",
    "updatenested(cart, [:products,:options,:size], x -> 2)"
   ]
  },
  {
   "cell_type": "markdown",
   "id": "8008a90c-cd51-4fed-9295-f09b1cde0ed7",
   "metadata": {},
   "source": [
    "## Deeply Nested Data Struct "
   ]
  },
  {
   "cell_type": "code",
   "execution_count": 9,
   "id": "33dc074d-8e78-42b7-b98a-073cd143e615",
   "metadata": {},
   "outputs": [],
   "source": [
    "struct Mark\n",
    "    name\n",
    "    child::Union{Mark,Nothing}\n",
    "end"
   ]
  },
  {
   "cell_type": "code",
   "execution_count": 11,
   "id": "41981b2b-7d80-4700-a035-35db082db00f",
   "metadata": {},
   "outputs": [
    {
     "data": {
      "text/plain": [
       "Mark(\"ok\", nothing)"
      ]
     },
     "execution_count": 11,
     "metadata": {},
     "output_type": "execute_result"
    }
   ],
   "source": [
    "Mark(\"ok\",nothing)"
   ]
  },
  {
   "cell_type": "code",
   "execution_count": null,
   "id": "e576446b-f13c-4ccd-a62c-c4ef56c45b80",
   "metadata": {},
   "outputs": [],
   "source": []
  }
 ],
 "metadata": {
  "kernelspec": {
   "display_name": "Julia 1.8.2",
   "language": "julia",
   "name": "julia-1.8"
  },
  "language_info": {
   "file_extension": ".jl",
   "mimetype": "application/julia",
   "name": "julia",
   "version": "1.8.2"
  }
 },
 "nbformat": 4,
 "nbformat_minor": 5
}
