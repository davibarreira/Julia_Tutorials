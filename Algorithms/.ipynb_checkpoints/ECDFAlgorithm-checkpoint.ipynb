{
 "cells": [
  {
   "cell_type": "markdown",
   "id": "fe70c174-d955-4e01-9e5f-2707ead1d129",
   "metadata": {},
   "source": [
    "## Multivariate Empirical CDF Algorithm"
   ]
  },
  {
   "cell_type": "markdown",
   "id": "d0b131f1-c745-47bc-9e27-319caacfd609",
   "metadata": {},
   "source": [
    "This algorithm uses Divide and Conquer in order to calculate the multivariate empirical \n",
    "cdf, with $O(n\\log n)$."
   ]
  },
  {
   "cell_type": "markdown",
   "id": "6728cca0-f2d0-4daf-8d14-044a21d9140f",
   "metadata": {},
   "source": [
    "Algorithm based on \n",
    "Lee, D., & Joe, H. (2018). Efficient computation of multivariate empirical distribution functions at the observed values. Computational Statistics, 33(3), 1413-1428."
   ]
  },
  {
   "cell_type": "code",
   "execution_count": 268,
   "id": "9fbdecb0-d0d4-44f3-8cc6-7a5013e7e1f7",
   "metadata": {},
   "outputs": [],
   "source": [
    "using LinearAlgebra\n",
    "using Random\n",
    "using CairoMakie\n",
    "using Distances\n",
    "CairoMakie.activate!(type = \"svg\")\n",
    "using Debugger\n",
    "using StatsBase\n",
    "using BenchmarkTools"
   ]
  },
  {
   "cell_type": "code",
   "execution_count": 486,
   "id": "13ea7d68-ae0d-4b55-bf5b-62272d1b72a9",
   "metadata": {},
   "outputs": [
    {
     "data": {
      "text/plain": [
       "true"
      ]
     },
     "execution_count": 486,
     "metadata": {},
     "output_type": "execute_result"
    }
   ],
   "source": [
    "x = collect(1:8)\n",
    "y = [8,4,3,6,5,1,2,7]*10\n",
    "p = ones(8)\n",
    "# p = [1,1,1,1,0,0,1,1]\n",
    "\n",
    "N = 100\n",
    "x = rand(N)\n",
    "y = rand(N)\n",
    "v = sortperm(x)\n",
    "x = x[v]\n",
    "y = y[v]\n",
    "p = normalize!(rand(N),1)\n",
    "bruteecdf(x,y,p) ≈ bivariatedominance(x,y,p)"
   ]
  },
  {
   "cell_type": "code",
   "execution_count": 487,
   "id": "eade4a1b-a0fe-4b9a-93fd-9c25b102e655",
   "metadata": {},
   "outputs": [
    {
     "data": {
      "text/plain": [
       "bruteecdf (generic function with 2 methods)"
      ]
     },
     "execution_count": 487,
     "metadata": {},
     "output_type": "execute_result"
    }
   ],
   "source": [
    "function bruteecdf(x,y,p=fill(1/length(y),length(y)))\n",
    "    n = length(y)\n",
    "    z = zeros(n)\n",
    "    for i in 1:n\n",
    "        xbool = x[i] .≥ x[1:end]\n",
    "        ybool = y[i] .≥ y[1:end]\n",
    "        z[i] = (xbool .* ybool) ⋅ p\n",
    "    end\n",
    "    return z\n",
    "end"
   ]
  },
  {
   "cell_type": "code",
   "execution_count": 488,
   "id": "bfa3a826-a1f7-4e42-9e25-7439559d165d",
   "metadata": {},
   "outputs": [
    {
     "data": {
      "text/plain": [
       "bivariatedominance (generic function with 2 methods)"
      ]
     },
     "execution_count": 488,
     "metadata": {},
     "output_type": "execute_result"
    }
   ],
   "source": [
    "function bivariatedominance(x,y,p=fill(1/length(y),length(y)))\n",
    "    function Merge!(y1,y2)\n",
    "        y1,y2\n",
    "        N1 = length(y1)\n",
    "        N2 = length(y2)\n",
    "        N  = N1 + N2\n",
    "        i,j,k,b = 1,1,1,0\n",
    "        y = zeros(Int, N)\n",
    "        while i ≤ N1 && j ≤ N2\n",
    "            if y1[i] ≤ y2[j]\n",
    "                y[k]  = y1[i]\n",
    "                b = b+p[y[k]]\n",
    "                i = i+1\n",
    "            else\n",
    "                y[k] = y2[j]\n",
    "                z[y2[j]] = z[y2[j]] + b\n",
    "                j = j+1\n",
    "            end\n",
    "            k = k+1\n",
    "        end\n",
    "        if i ≤ N1\n",
    "            y[k:end] = y1[i:end]\n",
    "        end\n",
    "\n",
    "        if j ≤ N2\n",
    "            y[k:end] = y2[j:end]\n",
    "            z[y[k:end]] = z[y[k:end]] .+ b\n",
    "        end\n",
    "        return y\n",
    "    end\n",
    "\n",
    "    function Sort!(y)\n",
    "        N = length(y)\n",
    "        if N == 1\n",
    "            return y\n",
    "        else\n",
    "            m = floor(Int,N/2)\n",
    "            y1= Sort!(y[1:m])\n",
    "            y2= Sort!(y[m+1:N])\n",
    "            y = Merge!(y1,y2)\n",
    "            return y\n",
    "        end\n",
    "    end\n",
    "    \n",
    "#     @assert issorted(x)\n",
    "    v = sortperm(x)\n",
    "    yᵣ = sortperm(y[v])\n",
    "#     yᵣ = sortperm(y)\n",
    "    z = zeros(length(y))\n",
    "    Sort!(yᵣ)\n",
    "    \n",
    "    return z.+p\n",
    "end"
   ]
  },
  {
   "cell_type": "code",
   "execution_count": null,
   "id": "d3c01f04-44f2-4ac2-80fc-42428d4273cc",
   "metadata": {},
   "outputs": [],
   "source": []
  },
  {
   "cell_type": "code",
   "execution_count": 263,
   "id": "8b537d00-e962-4145-a1e5-5ff6b8e29baf",
   "metadata": {},
   "outputs": [
    {
     "data": {
      "text/plain": [
       "Sort (generic function with 1 method)"
      ]
     },
     "execution_count": 263,
     "metadata": {},
     "output_type": "execute_result"
    }
   ],
   "source": [
    "z = zeros(length(y))\n",
    "\n",
    "function Merge(y1,y2)\n",
    "    @show y1,y2\n",
    "    N1 = length(y1)\n",
    "    N2 = length(y2)\n",
    "    N  = N1 + N2\n",
    "    i,j,k,b = 1,1,1,0\n",
    "    y = zeros(Int, N)\n",
    "    while i ≤ N1 && j ≤ N2\n",
    "        if y1[i] ≤ y2[j]\n",
    "            y[k]  = y1[i]\n",
    "            b = b+1\n",
    "            i = i+1\n",
    "        else\n",
    "            y[k] = y2[j]\n",
    "            z[y2[j]] = z[y2[j]] + b\n",
    "            j = j+1\n",
    "        end\n",
    "        k = k+1\n",
    "    end\n",
    "    @show k\n",
    "    @show y, i, N1\n",
    "    if i ≤ N1 && k-N1 ≤ N1\n",
    "        @show y[k:end] = y1[k-N1:end]\n",
    "    end\n",
    "    @show y, j\n",
    "    if j ≤ N2 && k-N2 ≤ N2\n",
    "        y[k:end] = y2[k-N2:end]\n",
    "        @show z[y[k:end]] = z[y[k:end]] .+ b\n",
    "    end\n",
    "    @show z\n",
    "    @show y\n",
    "    return y\n",
    "end\n",
    "\n",
    "function Sort(y)\n",
    "    N = length(y)\n",
    "    if N == 1\n",
    "        return y\n",
    "    else\n",
    "        m = floor(Int,N/2)\n",
    "        y1= Sort(y[1:m])\n",
    "        y2= Sort(y[m+1:N])\n",
    "        y = Merge(y1,y2)\n",
    "        return y\n",
    "    end\n",
    "end"
   ]
  },
  {
   "cell_type": "code",
   "execution_count": null,
   "id": "4e532b02-590a-43e5-9f17-f27c2165e03b",
   "metadata": {},
   "outputs": [],
   "source": []
  },
  {
   "cell_type": "code",
   "execution_count": 166,
   "id": "828600b0-2f05-4724-9c6c-bcca4d57c1fe",
   "metadata": {},
   "outputs": [
    {
     "name": "stdout",
     "output_type": "stream",
     "text": [
      "(y1, y2) = ([8], [4])\n",
      "k = 2\n",
      "(y, i, N1) = ([4, 0], 1, 1)\n",
      "y[k:end] = y1[k - N1:end] = [8]\n",
      "(y, j) = ([4, 8], 2)\n",
      "z = [0.0, 0.0, 0.0, 0.0, 0.0, 0.0, 0.0, 0.0]\n",
      "y = [4, 8]\n",
      "(y1, y2) = ([3], [6])\n",
      "k = 2\n",
      "(y, i, N1) = ([3, 0], 2, 1)\n",
      "(y, j) = ([3, 0], 1)\n",
      "z[y[k:end]] = z[y[k:end]] .+ b = [1.0]\n",
      "z = [0.0, 0.0, 0.0, 0.0, 0.0, 1.0, 0.0, 0.0]\n",
      "y = [3, 6]\n",
      "(y1, y2) = ([4, 8], [3, 6])\n",
      "k = 4\n",
      "(y, i, N1) = ([3, 4, 6, 0], 2, 2)\n",
      "y[k:end] = y1[k - N1:end] = [8]\n",
      "(y, j) = ([3, 4, 6, 8], 3)\n",
      "z = [0.0, 0.0, 0.0, 0.0, 0.0, 2.0, 0.0, 0.0]\n",
      "y = [3, 4, 6, 8]\n",
      "(y1, y2) = ([5], [1])\n",
      "k = 2\n",
      "(y, i, N1) = ([1, 0], 1, 1)\n",
      "y[k:end] = y1[k - N1:end] = [5]\n",
      "(y, j) = ([1, 5], 2)\n",
      "z = [0.0, 0.0, 0.0, 0.0, 0.0, 2.0, 0.0, 0.0]\n",
      "y = [1, 5]\n",
      "(y1, y2) = ([2], [7])\n",
      "k = 2\n",
      "(y, i, N1) = ([2, 0], 2, 1)\n",
      "(y, j) = ([2, 0], 1)\n",
      "z[y[k:end]] = z[y[k:end]] .+ b = [1.0]\n",
      "z = [0.0, 0.0, 0.0, 0.0, 0.0, 2.0, 1.0, 0.0]\n",
      "y = [2, 7]\n",
      "(y1, y2) = ([1, 5], [2, 7])\n",
      "k = 4\n",
      "(y, i, N1) = ([1, 2, 5, 0], 3, 2)\n",
      "(y, j) = ([1, 2, 5, 0], 2)\n",
      "z[y[k:end]] = z[y[k:end]] .+ b = [3.0]\n",
      "z = [0.0, 1.0, 0.0, 0.0, 0.0, 2.0, 3.0, 0.0]\n",
      "y = [1, 2, 5, 7]\n",
      "(y1, y2) = ([3, 4, 6, 8], [1, 2, 5, 7])\n",
      "k = 8\n",
      "(y, i, N1) = ([1, 2, 3, 4, 5, 6, 7, 0], 4, 4)\n",
      "y[k:end] = y1[k - N1:end] = [8]\n",
      "(y, j) = ([1, 2, 3, 4, 5, 6, 7, 8], 5)\n",
      "z = [0.0, 1.0, 0.0, 0.0, 2.0, 2.0, 6.0, 0.0]\n",
      "y = [1, 2, 3, 4, 5, 6, 7, 8]\n"
     ]
    },
    {
     "data": {
      "text/plain": [
       "8-element Vector{Int64}:\n",
       " 1\n",
       " 2\n",
       " 3\n",
       " 4\n",
       " 5\n",
       " 6\n",
       " 7\n",
       " 8"
      ]
     },
     "execution_count": 166,
     "metadata": {},
     "output_type": "execute_result"
    }
   ],
   "source": [
    "# floor(Int,length(y)/2)\n",
    "Sort(y)"
   ]
  },
  {
   "cell_type": "code",
   "execution_count": null,
   "id": "f0c17d72-35b2-43fe-a65a-c19684d1c506",
   "metadata": {},
   "outputs": [],
   "source": [
    "    "
   ]
  },
  {
   "cell_type": "code",
   "execution_count": null,
   "id": "e7ce2ea3-7205-4f99-a7ff-d2dd58c2daf0",
   "metadata": {},
   "outputs": [],
   "source": []
  }
 ],
 "metadata": {
  "kernelspec": {
   "display_name": "JuliaFlux 1.6.3",
   "language": "julia",
   "name": "juliaflux-1.6"
  },
  "language_info": {
   "file_extension": ".jl",
   "mimetype": "application/julia",
   "name": "julia",
   "version": "1.6.3"
  }
 },
 "nbformat": 4,
 "nbformat_minor": 5
}
