{
 "cells": [
  {
   "cell_type": "markdown",
   "id": "ff7fa2b2-e73b-43c6-9044-0ee814373b26",
   "metadata": {},
   "source": [
    "# 1 - Programming with Categories\n",
    "\n",
    "This is the \"applied\" part of Category Theory, focusing on programming."
   ]
  },
  {
   "cell_type": "code",
   "execution_count": 18,
   "id": "85c1fbc7-34e7-41e5-b9f7-a13fca8b6622",
   "metadata": {},
   "outputs": [
    {
     "name": "stderr",
     "output_type": "stream",
     "text": [
      "\u001b[32m\u001b[1m  Activating\u001b[22m\u001b[39m project at `~/MEGA/EMAp/Mathematical-Short-Notes/Fields/Category-Theory/notebooks`\n"
     ]
    }
   ],
   "source": [
    "using Pkg\n",
    "Pkg.activate(\".\")"
   ]
  },
  {
   "cell_type": "markdown",
   "id": "f15519e6-7130-43db-b849-a60b4ecf3406",
   "metadata": {},
   "source": [
    "We start be defining the composition operator. This is actually already present in Julia via `\\circ`. But here we'll implement it\n",
    "again using the code from Julia's Base.\n",
    "\n",
    "The implementation relys on function-like objects that are structs that can be called, similar to a function."
   ]
  },
  {
   "cell_type": "code",
   "execution_count": 19,
   "id": "5c030b08-1892-4e58-b1b3-f3aa7e32038f",
   "metadata": {},
   "outputs": [],
   "source": [
    "struct Comp{O,I} <: Function\n",
    "    outer::O\n",
    "    inner::I\n",
    "    Comp{O, I}(outer, inner) where {O, I} = new{O, I}(outer, inner)\n",
    "    Comp(outer, inner) = new{Core.Typeof(outer),Core.Typeof(inner)}(outer, inner)\n",
    "end\n",
    "\n",
    "function (c::Comp)(x...; kw...)\n",
    "    return c.outer(c.inner(x...; kw...))\n",
    "end"
   ]
  },
  {
   "cell_type": "markdown",
   "id": "188dfb49-9be8-4cdf-856f-240422a4ac3d",
   "metadata": {},
   "source": [
    "In the code above, the last two lines in the `struct`are constructors, where the first one allow us to do\n",
    "`Comp{Function, Function}(g, f)` and for the second we do `Comp(g,f)`. In the last line we are defining a function\n",
    "to be dispatched on `Comp`, but this function is nameless.\n",
    "\n",
    "With this, our composition is now working."
   ]
  },
  {
   "cell_type": "code",
   "execution_count": 20,
   "id": "4ff9cd05-6c67-4f6b-9a2c-ebc4fb0b2d95",
   "metadata": {},
   "outputs": [
    {
     "data": {
      "text/plain": [
       "(::Comp{var\"#55#57\", var\"#56#58\"}) (generic function with 1 method)"
      ]
     },
     "execution_count": 20,
     "metadata": {},
     "output_type": "execute_result"
    }
   ],
   "source": [
    "Comp{Function, Function}(x->x, y->y^2)\n",
    "Comp(x->x, y->y^2)\n"
   ]
  },
  {
   "cell_type": "code",
   "execution_count": 21,
   "id": "77f5c50c-6adb-4f6f-b60a-0afa13c2622a",
   "metadata": {},
   "outputs": [],
   "source": [
    "using MLStyle"
   ]
  },
  {
   "cell_type": "code",
   "execution_count": null,
   "id": "f06993ec-6563-4f13-bdb2-2aca4212c50a",
   "metadata": {},
   "outputs": [],
   "source": []
  }
 ],
 "metadata": {
  "kernelspec": {
   "display_name": "Julia 1.7.2",
   "language": "julia",
   "name": "julia-1.7"
  },
  "language_info": {
   "file_extension": ".jl",
   "mimetype": "application/julia",
   "name": "julia",
   "version": "1.7.2"
  }
 },
 "nbformat": 4,
 "nbformat_minor": 5
}
