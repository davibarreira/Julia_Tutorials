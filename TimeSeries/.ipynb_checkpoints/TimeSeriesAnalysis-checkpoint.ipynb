{
 "cells": [
  {
   "cell_type": "code",
   "execution_count": 12,
   "id": "3f76eb4c-b3db-456d-973e-f45d80d3576a",
   "metadata": {},
   "outputs": [
    {
     "name": "stderr",
     "output_type": "stream",
     "text": [
      "\u001b[32m\u001b[1m  Activating\u001b[22m\u001b[39m project at `~/Main/EMAp/Julia_Tutorials/TimeSeries`\n"
     ]
    }
   ],
   "source": [
    "using Pkg\n",
    "Pkg.activate(\".\")"
   ]
  },
  {
   "cell_type": "code",
   "execution_count": 24,
   "id": "c9b9b48b-7164-4dae-9410-f3b619a43246",
   "metadata": {},
   "outputs": [
    {
     "data": {
      "text/html": [
       "<div class=\"data-frame\"><p>144 rows × 2 columns</p><table class=\"data-frame\"><thead><tr><th></th><th>month</th><th>passengers</th></tr><tr><th></th><th title=\"Date\">Date</th><th title=\"Int64\">Int64</th></tr></thead><tbody><tr><th>1</th><td>1949-01-01</td><td>112</td></tr><tr><th>2</th><td>1949-02-01</td><td>118</td></tr><tr><th>3</th><td>1949-03-01</td><td>132</td></tr><tr><th>4</th><td>1949-04-01</td><td>129</td></tr><tr><th>5</th><td>1949-05-01</td><td>121</td></tr><tr><th>6</th><td>1949-06-01</td><td>135</td></tr><tr><th>7</th><td>1949-07-01</td><td>148</td></tr><tr><th>8</th><td>1949-08-01</td><td>148</td></tr><tr><th>9</th><td>1949-09-01</td><td>136</td></tr><tr><th>10</th><td>1949-10-01</td><td>119</td></tr><tr><th>11</th><td>1949-11-01</td><td>104</td></tr><tr><th>12</th><td>1949-12-01</td><td>118</td></tr><tr><th>13</th><td>1950-01-01</td><td>115</td></tr><tr><th>14</th><td>1950-02-01</td><td>126</td></tr><tr><th>15</th><td>1950-03-01</td><td>141</td></tr><tr><th>16</th><td>1950-04-01</td><td>135</td></tr><tr><th>17</th><td>1950-05-01</td><td>125</td></tr><tr><th>18</th><td>1950-06-01</td><td>149</td></tr><tr><th>19</th><td>1950-07-01</td><td>170</td></tr><tr><th>20</th><td>1950-08-01</td><td>170</td></tr><tr><th>21</th><td>1950-09-01</td><td>158</td></tr><tr><th>22</th><td>1950-10-01</td><td>133</td></tr><tr><th>23</th><td>1950-11-01</td><td>114</td></tr><tr><th>24</th><td>1950-12-01</td><td>140</td></tr><tr><th>25</th><td>1951-01-01</td><td>145</td></tr><tr><th>26</th><td>1951-02-01</td><td>150</td></tr><tr><th>27</th><td>1951-03-01</td><td>178</td></tr><tr><th>28</th><td>1951-04-01</td><td>163</td></tr><tr><th>29</th><td>1951-05-01</td><td>172</td></tr><tr><th>30</th><td>1951-06-01</td><td>178</td></tr><tr><th>&vellip;</th><td>&vellip;</td><td>&vellip;</td></tr></tbody></table></div>"
      ],
      "text/latex": [
       "\\begin{tabular}{r|cc}\n",
       "\t& month & passengers\\\\\n",
       "\t\\hline\n",
       "\t& Date & Int64\\\\\n",
       "\t\\hline\n",
       "\t1 & 1949-01-01 & 112 \\\\\n",
       "\t2 & 1949-02-01 & 118 \\\\\n",
       "\t3 & 1949-03-01 & 132 \\\\\n",
       "\t4 & 1949-04-01 & 129 \\\\\n",
       "\t5 & 1949-05-01 & 121 \\\\\n",
       "\t6 & 1949-06-01 & 135 \\\\\n",
       "\t7 & 1949-07-01 & 148 \\\\\n",
       "\t8 & 1949-08-01 & 148 \\\\\n",
       "\t9 & 1949-09-01 & 136 \\\\\n",
       "\t10 & 1949-10-01 & 119 \\\\\n",
       "\t11 & 1949-11-01 & 104 \\\\\n",
       "\t12 & 1949-12-01 & 118 \\\\\n",
       "\t13 & 1950-01-01 & 115 \\\\\n",
       "\t14 & 1950-02-01 & 126 \\\\\n",
       "\t15 & 1950-03-01 & 141 \\\\\n",
       "\t16 & 1950-04-01 & 135 \\\\\n",
       "\t17 & 1950-05-01 & 125 \\\\\n",
       "\t18 & 1950-06-01 & 149 \\\\\n",
       "\t19 & 1950-07-01 & 170 \\\\\n",
       "\t20 & 1950-08-01 & 170 \\\\\n",
       "\t21 & 1950-09-01 & 158 \\\\\n",
       "\t22 & 1950-10-01 & 133 \\\\\n",
       "\t23 & 1950-11-01 & 114 \\\\\n",
       "\t24 & 1950-12-01 & 140 \\\\\n",
       "\t25 & 1951-01-01 & 145 \\\\\n",
       "\t26 & 1951-02-01 & 150 \\\\\n",
       "\t27 & 1951-03-01 & 178 \\\\\n",
       "\t28 & 1951-04-01 & 163 \\\\\n",
       "\t29 & 1951-05-01 & 172 \\\\\n",
       "\t30 & 1951-06-01 & 178 \\\\\n",
       "\t$\\dots$ & $\\dots$ & $\\dots$ \\\\\n",
       "\\end{tabular}\n"
      ],
      "text/plain": [
       "\u001b[1m144×2 DataFrame\u001b[0m\n",
       "\u001b[1m Row \u001b[0m│\u001b[1m month      \u001b[0m\u001b[1m passengers \u001b[0m\n",
       "\u001b[1m     \u001b[0m│\u001b[90m Date       \u001b[0m\u001b[90m Int64      \u001b[0m\n",
       "─────┼────────────────────────\n",
       "   1 │ 1949-01-01         112\n",
       "   2 │ 1949-02-01         118\n",
       "   3 │ 1949-03-01         132\n",
       "   4 │ 1949-04-01         129\n",
       "   5 │ 1949-05-01         121\n",
       "   6 │ 1949-06-01         135\n",
       "   7 │ 1949-07-01         148\n",
       "   8 │ 1949-08-01         148\n",
       "   9 │ 1949-09-01         136\n",
       "  10 │ 1949-10-01         119\n",
       "  11 │ 1949-11-01         104\n",
       "  ⋮  │     ⋮           ⋮\n",
       " 135 │ 1960-03-01         419\n",
       " 136 │ 1960-04-01         461\n",
       " 137 │ 1960-05-01         472\n",
       " 138 │ 1960-06-01         535\n",
       " 139 │ 1960-07-01         622\n",
       " 140 │ 1960-08-01         606\n",
       " 141 │ 1960-09-01         508\n",
       " 142 │ 1960-10-01         461\n",
       " 143 │ 1960-11-01         390\n",
       " 144 │ 1960-12-01         432\n",
       "\u001b[36m              123 rows omitted\u001b[0m"
      ]
     },
     "execution_count": 24,
     "metadata": {},
     "output_type": "execute_result"
    }
   ],
   "source": [
    "using CSV\n",
    "using DataFrames\n",
    "using Plots\n",
    "using StateSpaceModels\n",
    "\n",
    "airp = CSV.File(StateSpaceModels.AIR_PASSENGERS) |> DataFrame\n",
    "log_air_passengers = log.(airp.passengers)\n",
    "steps_ahead = 30\n",
    "\n",
    "airp"
   ]
  },
  {
   "cell_type": "code",
   "execution_count": null,
   "id": "c846b80f-270d-48e7-bcd1-1484f1c5e2a9",
   "metadata": {},
   "outputs": [],
   "source": [
    "\n",
    "# SARIMA\n",
    "model_sarima = SARIMA(log_air_passengers; order = (0, 1, 1), seasonal_order = (0, 1, 1, 12))\n",
    "fit!(model_sarima)\n",
    "forec_sarima = forecast(model_sarima, steps_ahead)\n",
    "\n",
    "# Unobserved Components\n",
    "model_uc = UnobservedComponents(log_air_passengers; trend = \"local linear trend\", seasonal = \"stochastic 12\")\n",
    "fit!(model_uc)\n",
    "forec_uc = forecast(model_uc, steps_ahead)\n",
    "\n",
    "# Exponential Smoothing\n",
    "model_ets = ExponentialSmoothing(log_air_passengers; trend = true, seasonal = 12)\n",
    "fit!(model_ets)\n",
    "forec_ets = forecast(model_ets, steps_ahead)\n",
    "\n",
    "# Naive model\n",
    "model_naive = SeasonalNaive(log_air_passengers, 12)\n",
    "fit!(model_naive)\n",
    "forec_naive = forecast(model_naive, steps_ahead)\n",
    "\n",
    "plt_sarima = plot(model_sarima, forec_sarima; title = \"SARIMA\", label = \"\");\n",
    "plt_uc = plot(model_uc, forec_uc; title = \"Unobserved components\", label = \"\");\n",
    "plt_ets = plot(model_ets, forec_ets; title = \"Exponential smoothing\", label = \"\");\n",
    "plt_naive = plot(model_ets, forec_naive; title = \"Seasonal Naive\", label = \"\");\n",
    "\n",
    "plot(plt_sarima, plt_uc, plt_ets, plt_naive; layout = (2, 2), size = (500, 500))"
   ]
  }
 ],
 "metadata": {
  "kernelspec": {
   "display_name": "Julia (4 threads) 1.7.2",
   "language": "julia",
   "name": "julia-(4-threads)-1.7"
  },
  "language_info": {
   "file_extension": ".jl",
   "mimetype": "application/julia",
   "name": "julia",
   "version": "1.7.2"
  }
 },
 "nbformat": 4,
 "nbformat_minor": 5
}
