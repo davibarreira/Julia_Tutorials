{
 "cells": [
  {
   "cell_type": "markdown",
   "id": "d007925b-d158-4f76-a0f5-a5a12ce8a980",
   "metadata": {},
   "source": [
    "# Plotando com Makie \n",
    "\n",
    "Existem diversos pacotes para plotagem com Julia (e.g. Plots.jl, VegaLite.jl, Gadfly.jl,...), entretanto,\n",
    "o pacote Makie vem ganhando destaque. Na comunidade de Julia, é comum ouvir que \"Makie is the future!\".\n",
    "As razões são diversas, entre elas está o fato de o pacote ser totalmente nativo em Julia, simples iteratividade,\n",
    "bom sistema de layout, entre outros. Mas o que me convenceu (e possivelmente outros da comunidade),\n",
    "foram alguns dos belíssimos exmemplos de plots como os presentes no repositório [BeautifulMakie](https://lazarusa.github.io/BeautifulMakie/).\n",
    "\n",
    "Além disso, muitos pacotes interessantes tem sido construídos em cima do Makie, como o [AlgebraOfGraphics.jl](https://github.com/JuliaPlots/AlgebraOfGraphics.jl).\n",
    "\n",
    "Entretanto, é preciso falar alguns dos atuais \"shortcomings\" do Makie. O primeiro é algo bastante\n",
    "comum para quem usa Julia. O primeiro plot leva um tempo considerável devido ao tempo de pré-compilção (felizmente,\n",
    "isso pode ser contornado com o PkgCompiler.jl, olhe esse meu [artigo aqui](https://medium.com/coffee-in-a-klein-bottle/speeding-up-julia-precompilation-97f39d151a9f)). O segundo problema é que o pacote ainda está em franco desenvolvimento, e não está tão maduro\n",
    "como o Plots.jl. Assim, não é incomum encontrar bugs de vez em quando, ou descobrir que uma feature\n",
    "específica ainda não foi implementada.\n",
    "\n",
    "Mesmo assim, esses são somente percalços frente ao que o Makie pode oferecer.\n",
    "\n",
    "*obs: sugiro fortemente seguir o tutorial [aqui](https://medium.com/coffee-in-a-klein-bottle/speeding-up-julia-precompilation-97f39d151a9f) para\n",
    "agilizar a pré-compilação.*"
   ]
  },
  {
   "cell_type": "markdown",
   "id": "4735720d-142d-4fb1-86a7-832626a1f855",
   "metadata": {},
   "source": [
    "O primeiro ponto não convencional ao se usar o Makie é o fato que ele permimte o uso de diferentes\n",
    "backends para plotagem. Você pode olhar na documentação, mas vamos falar de dois especificamente, eles são o CairoMakie\n",
    "e o GLMakie. O CairoMakie produz imagens estáticas e de alta qualidade (e.g. svg), sendo assim ideal para usar\n",
    "quando se quer produzir um imagem para publicação. Já o GLMakie "
   ]
  },
  {
   "cell_type": "code",
   "execution_count": 16,
   "id": "4084a826-0ed1-4b5b-8877-fc4b297076d8",
   "metadata": {},
   "outputs": [],
   "source": [
    "using CairoMakie\n",
    "CairoMakie.activate!(type = \"svg\")\n",
    "using AlgebraOfGraphics\n",
    "kwargs = AlgebraOfGraphics.aog_theme()\n",
    "set_theme!(;resolution=(500,500),kwargs...)"
   ]
  },
  {
   "cell_type": "code",
   "execution_count": 19,
   "id": "510377ee-b0b1-4e84-ac98-c26d41b793af",
   "metadata": {},
   "outputs": [],
   "source": [
    "f = Figure(backgroundcolor = RGBf(0.98, 0.98, 0.98),\n",
    "    resolution = (1000, 700));"
   ]
  },
  {
   "cell_type": "code",
   "execution_count": 46,
   "id": "09bb4d43-6c68-4884-8667-432540973fea",
   "metadata": {},
   "outputs": [
    {
     "data": {
      "text/plain": [
       "GridLayout[1, 1] with 0 children\n"
      ]
     },
     "execution_count": 46,
     "metadata": {},
     "output_type": "execute_result"
    }
   ],
   "source": [
    "ga = f[1, 1] = GridLayout()\n",
    "gb = f[2, 1] = GridLayout()\n",
    "gcd = f[1:2, 2] = GridLayout()\n",
    "gc = gcd[1, 1] = GridLayout()\n",
    "gd = gcd[2, 1] = GridLayout()"
   ]
  },
  {
   "cell_type": "code",
   "execution_count": 42,
   "id": "4f6be57c-396f-4b96-b0dd-878685eb0dd1",
   "metadata": {},
   "outputs": [
    {
     "data": {
      "text/plain": [
       "GridPosition(GridLayout[2, 1] (7 children), GridLayoutBase.Span(2:2, 1:1), GridLayoutBase.Inner())"
      ]
     },
     "execution_count": 42,
     "metadata": {},
     "output_type": "execute_result"
    }
   ],
   "source": []
  },
  {
   "cell_type": "code",
   "execution_count": 43,
   "id": "28a47f2e-d5ff-4b67-af51-94e3651c7c65",
   "metadata": {},
   "outputs": [
    {
     "data": {
      "text/plain": [
       "GridPosition(GridLayout[2, 1] (7 children), GridLayoutBase.Span(2:2, 1:1), GridLayoutBase.Inner())"
      ]
     },
     "execution_count": 43,
     "metadata": {},
     "output_type": "execute_result"
    }
   ],
   "source": []
  }
 ],
 "metadata": {
  "kernelspec": {
   "display_name": "JuliaMakie 1.6.1",
   "language": "julia",
   "name": "juliamakie-1.6"
  },
  "language_info": {
   "file_extension": ".jl",
   "mimetype": "application/julia",
   "name": "julia",
   "version": "1.6.1"
  }
 },
 "nbformat": 4,
 "nbformat_minor": 5
}
