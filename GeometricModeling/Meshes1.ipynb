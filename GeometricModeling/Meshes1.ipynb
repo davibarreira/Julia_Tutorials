{
 "cells": [
  {
   "cell_type": "code",
   "execution_count": 1,
   "id": "edb7073e-3367-4f35-83fc-4da62f01897b",
   "metadata": {},
   "outputs": [
    {
     "name": "stderr",
     "output_type": "stream",
     "text": [
      "\u001b[32m\u001b[1m  Activating\u001b[22m\u001b[39m project at `~/MEGA/EMAP/Julia_Tutorials`\n"
     ]
    }
   ],
   "source": [
    "using Pkg, Revise\n",
    "Pkg.activate(\"../.\")\n",
    "using BasicBSpline\n",
    "using StaticArrays\n",
    "using Plots\n",
    "using LinearAlgebra\n",
    "using Meshes"
   ]
  },
  {
   "cell_type": "markdown",
   "id": "b1a70317-8589-4fb1-a480-3c1a81eb70c2",
   "metadata": {},
   "source": [
    "## Meshes\n",
    "\n",
    "A mesh $M = (V, E, F)$ is a list of vertices $V$, non-oriented edges $E$ and oriented faces $F$.\n",
    "One usually uses *half-edge* to refer to an oriented edge, and *edge* for an oriented one."
   ]
  },
  {
   "cell_type": "code",
   "execution_count": 112,
   "id": "848b95e3-316a-4084-b053-b0f6092b9826",
   "metadata": {},
   "outputs": [
    {
     "data": {
      "text/plain": [
       "Mesh(Vertex[Vertex(Real[0, 0, 0]), Vertex(Real[1, 0, 0]), Vertex(Real[0, 1, 0]), Vertex(Real[-1, 0, 0])], Edge[Edge(Halfedge[Halfedge(Vertex[Vertex(Real[0, 0, 0]), Vertex(Real[-1, 0, 0])]), Halfedge(Vertex[Vertex(Real[-1, 0, 0]), Vertex(Real[0, 0, 0])])]), Edge(Halfedge[Halfedge(Vertex[Vertex(Real[-1, 0, 0]), Vertex(Real[0, 1, 0])]), Halfedge(Vertex[Vertex(Real[0, 1, 0]), Vertex(Real[-1, 0, 0])])]), Edge(Halfedge[Halfedge(Vertex[Vertex(Real[0, 1, 0]), Vertex(Real[0, 0, 0])]), Halfedge(Vertex[Vertex(Real[0, 0, 0]), Vertex(Real[0, 1, 0])])]), Edge(Halfedge[Halfedge(Vertex[Vertex(Real[0, 0, 0]), Vertex(Real[1, 0, 0])]), Halfedge(Vertex[Vertex(Real[1, 0, 0]), Vertex(Real[0, 0, 0])])]), Edge(Halfedge[Halfedge(Vertex[Vertex(Real[1, 0, 0]), Vertex(Real[0, 1, 0])]), Halfedge(Vertex[Vertex(Real[0, 1, 0]), Vertex(Real[1, 0, 0])])]), Edge(Halfedge[Halfedge(Vertex[Vertex(Real[0, 1, 0]), Vertex(Real[0, 0, 0])]), Halfedge(Vertex[Vertex(Real[0, 0, 0]), Vertex(Real[0, 1, 0])])])], Face[Face(Vertex[Vertex(Real[0, 0, 0]), Vertex(Real[-1, 0, 0]), Vertex(Real[0, 1, 0])]), Face(Vertex[Vertex(Real[0, 0, 0]), Vertex(Real[1, 0, 0]), Vertex(Real[0, 1, 0])])])"
      ]
     },
     "execution_count": 112,
     "metadata": {},
     "output_type": "execute_result"
    }
   ],
   "source": [
    "struct Vertex\n",
    "    v::Vec{3, Real}\n",
    "end\n",
    "\n",
    "Vertex(x,y,z) = Vertex([x,y,z])\n",
    "Vertex(x,y) = Vertex([x,y,0])\n",
    "Vertex(v::Vector{2}) = Vertex(vcat(v,[0]))\n",
    "\n",
    "struct Halfedge\n",
    "    h::Vec{2,Vertex}\n",
    "end\n",
    "Halfedge(v1,v2) = Halfedge([v1,v2])\n",
    "struct Edge\n",
    "    e::Vec{2,Halfedge}\n",
    "end\n",
    "Edge(h1::Halfedge) = Edge([h1,Halfedge(h1.h[2],h1.h[1])])\n",
    "Edge(h1::Halfedge,h2::Halfedge) = Edge([h1,h2])\n",
    "Edge(v1::Vertex, v2::Vertex) = Edge(Halfedge(v1,v2), Halfedge(v2,v1))\n",
    "\n",
    "struct Face\n",
    "    f::Vec{3,Vertex}\n",
    "end\n",
    "\n",
    "struct Mesh\n",
    "    V::Vector{Vertex}\n",
    "    E::Vector{Edge}\n",
    "    F::Vector{Face}\n",
    "end\n",
    "\n",
    "function Mesh(V::Vector{Vertex}, faces::Vector{<:Tuple}) \n",
    "    F = []\n",
    "    E = []\n",
    "    H = Dict()\n",
    "    for f in faces\n",
    "        v1,v2,v3 = V[f[1]],V[f[2]],V[f[3]]\n",
    "        e1 = Edge(v1,v2)\n",
    "        e2 = Edge(v2,v3)\n",
    "        e3 = Edge(v3,v1)\n",
    "        E = vcat([e1,e2,e3],E)\n",
    "        F = vcat([Face([v1,v2,v3])],F)\n",
    "    end\n",
    "   Mesh(V,E,F) \n",
    "end\n",
    "Mesh(V::Vector{Vertex}, faces::Tuple)  = Mesh(V, [faces])\n",
    "\n",
    "\n",
    "Base.getindex(x::Vertex, i) = getproperty(x, fieldnames(typeof(x))[1])[i]\n",
    "Base.getindex(x::Halfedge, i) = getproperty(x, fieldnames(typeof(x))[1])[i]\n",
    "Base.getindex(x::Halfedge, i, j) = getproperty(x, fieldnames(typeof(x))[1])[i][j]\n",
    "Base.getindex(x::Edge, i) = getproperty(x, fieldnames(typeof(x))[1])[i]\n",
    "Base.getindex(x::Edge, i, j) = getproperty(x, fieldnames(typeof(x))[1])[i][j]\n",
    "Base.getindex(x::Edge, i, j, k) = getproperty(x, fieldnames(typeof(x))[1])[i][j][k]\n",
    "Base.getindex(x::Face, i) = getproperty(x, fieldnames(typeof(x))[1])[i]\n",
    "\n",
    "Base.:-(v1::Vertex, v2::Vertex) = v1.v - v2.v\n",
    "Base.:+(v1::Vertex, v2::Vertex) = v1.v + v2.v\n",
    "Base.:+(v1::Vertex, v2::Vertex...) = v1.v + +(v2...)\n",
    "Base.:-(v1::Vertex, v2::Vertex...) = v1.v - -(v2...)\n",
    "Base.length(v::Vertex) = length(v.v)\n",
    "M = Mesh([v1,v2,v3,v4],[(1,2,3),(1,4,3)])"
   ]
  },
  {
   "cell_type": "code",
   "execution_count": 102,
   "id": "33ba43f4-4146-4aaf-a424-a7cef867b1d8",
   "metadata": {},
   "outputs": [
    {
     "data": {
      "text/plain": [
       "3-element Vector{Edge}:\n",
       " Edge(Halfedge[Halfedge(Vertex[Vertex(Real[0, 0, 0]), Vertex(Real[1, 0, 0])]), Halfedge(Vertex[Vertex(Real[1, 0, 0]), Vertex(Real[0, 0, 0])])])\n",
       " Edge(Halfedge[Halfedge(Vertex[Vertex(Real[1, 0, 0]), Vertex(Real[0, 1, 0])]), Halfedge(Vertex[Vertex(Real[0, 1, 0]), Vertex(Real[1, 0, 0])])])\n",
       " Edge(Halfedge[Halfedge(Vertex[Vertex(Real[0, 1, 0]), Vertex(Real[0, 0, 0])]), Halfedge(Vertex[Vertex(Real[0, 0, 0]), Vertex(Real[0, 1, 0])])])"
      ]
     },
     "execution_count": 102,
     "metadata": {},
     "output_type": "execute_result"
    }
   ],
   "source": [
    "M.E"
   ]
  },
  {
   "cell_type": "code",
   "execution_count": 106,
   "id": "70ffb63d-f6df-4f8e-b9f3-f3d0e6b7083f",
   "metadata": {},
   "outputs": [
    {
     "data": {
      "text/plain": [
       "Mesh(Vertex[Vertex(Real[0, 0, 0]), Vertex(Real[1, 0, 0]), Vertex(Real[0, 1, 0]), Vertex(Real[-1, 0, 0])], Edge[Edge(Halfedge[Halfedge(Vertex[Vertex(Real[0, 0, 0]), Vertex(Real[-1, 0, 0])]), Halfedge(Vertex[Vertex(Real[-1, 0, 0]), Vertex(Real[0, 0, 0])])]), Edge(Halfedge[Halfedge(Vertex[Vertex(Real[-1, 0, 0]), Vertex(Real[0, 1, 0])]), Halfedge(Vertex[Vertex(Real[0, 1, 0]), Vertex(Real[-1, 0, 0])])]), Edge(Halfedge[Halfedge(Vertex[Vertex(Real[0, 1, 0]), Vertex(Real[0, 0, 0])]), Halfedge(Vertex[Vertex(Real[0, 0, 0]), Vertex(Real[0, 1, 0])])]), Edge(Halfedge[Halfedge(Vertex[Vertex(Real[0, 0, 0]), Vertex(Real[1, 0, 0])]), Halfedge(Vertex[Vertex(Real[1, 0, 0]), Vertex(Real[0, 0, 0])])]), Edge(Halfedge[Halfedge(Vertex[Vertex(Real[1, 0, 0]), Vertex(Real[0, 1, 0])]), Halfedge(Vertex[Vertex(Real[0, 1, 0]), Vertex(Real[1, 0, 0])])]), Edge(Halfedge[Halfedge(Vertex[Vertex(Real[0, 1, 0]), Vertex(Real[0, 0, 0])]), Halfedge(Vertex[Vertex(Real[0, 0, 0]), Vertex(Real[0, 1, 0])])])], Face[Face(Vertex[Vertex(Real[0, 0, 0]), Vertex(Real[-1, 0, 0]), Vertex(Real[0, 1, 0])]), Face(Vertex[Vertex(Real[0, 0, 0]), Vertex(Real[1, 0, 0]), Vertex(Real[0, 1, 0])])])"
      ]
     },
     "execution_count": 106,
     "metadata": {},
     "output_type": "execute_result"
    }
   ],
   "source": [
    "v1 = Vertex([0,0,0])\n",
    "v2 = Vertex(1,0,0)\n",
    "v3 = Vertex(0,1,0)\n",
    "v4 = Vertex(-1,0,0)\n",
    "\n",
    "h1 = Halfedge(v1,v2)\n",
    "h2 = Halfedge(v2,v3)\n",
    "h3 = Halfedge(v3,v1)\n",
    "\n",
    "e1 = Edge(h1)\n",
    "e2 = Edge(h2)\n",
    "e3 = Edge(h3)\n",
    "\n",
    "f1 = Face([v1,v2,v3])\n",
    "f2 = Face([v1,v4,v3])\n",
    "\n",
    "M = Mesh([v1,v2,v3],[e1,e2,e3],[f1])\n",
    "M = Mesh([v1,v2,v3,v4],[(1,2,3),(1,4,3)])"
   ]
  },
  {
   "cell_type": "code",
   "execution_count": 110,
   "id": "1169864c-e513-4cf5-9ffa-1f302a41875a",
   "metadata": {},
   "outputs": [
    {
     "data": {
      "text/plain": [
       "6-element Vector{Edge}:\n",
       " Edge(Halfedge[Halfedge(Vertex[Vertex(Real[0, 0, 0]), Vertex(Real[-1, 0, 0])]), Halfedge(Vertex[Vertex(Real[-1, 0, 0]), Vertex(Real[0, 0, 0])])])\n",
       " Edge(Halfedge[Halfedge(Vertex[Vertex(Real[-1, 0, 0]), Vertex(Real[0, 1, 0])]), Halfedge(Vertex[Vertex(Real[0, 1, 0]), Vertex(Real[-1, 0, 0])])])\n",
       " Edge(Halfedge[Halfedge(Vertex[Vertex(Real[0, 1, 0]), Vertex(Real[0, 0, 0])]), Halfedge(Vertex[Vertex(Real[0, 0, 0]), Vertex(Real[0, 1, 0])])])\n",
       " Edge(Halfedge[Halfedge(Vertex[Vertex(Real[0, 0, 0]), Vertex(Real[1, 0, 0])]), Halfedge(Vertex[Vertex(Real[1, 0, 0]), Vertex(Real[0, 0, 0])])])\n",
       " Edge(Halfedge[Halfedge(Vertex[Vertex(Real[1, 0, 0]), Vertex(Real[0, 1, 0])]), Halfedge(Vertex[Vertex(Real[0, 1, 0]), Vertex(Real[1, 0, 0])])])\n",
       " Edge(Halfedge[Halfedge(Vertex[Vertex(Real[0, 1, 0]), Vertex(Real[0, 0, 0])]), Halfedge(Vertex[Vertex(Real[0, 0, 0]), Vertex(Real[0, 1, 0])])])"
      ]
     },
     "execution_count": 110,
     "metadata": {},
     "output_type": "execute_result"
    }
   ],
   "source": [
    "M.E"
   ]
  },
  {
   "cell_type": "code",
   "execution_count": 47,
   "id": "5fe3f337-8a41-414b-905d-798ee250d0b1",
   "metadata": {},
   "outputs": [
    {
     "data": {
      "text/plain": [
       "dual (generic function with 1 method)"
      ]
     },
     "execution_count": 47,
     "metadata": {},
     "output_type": "execute_result"
    }
   ],
   "source": [
    "∂(h::Halfedge) = h[2] - h[1]\n",
    "∂(f::Face) = [Halfedge(f[1],f[2]),Halfedge(f[2],f[3]),Halfedge(f[3],f[1])]\n",
    "n(f::Face) = (f[2] - f[1]) × (f[3] - f[1])/norm((f[2] - f[1]) × (f[3] - f[1]))\n",
    "\n",
    "dual(h::Halfedge) = Halfedge(h[2],h[1])"
   ]
  },
  {
   "cell_type": "code",
   "execution_count": 73,
   "id": "e6cc0ffc-83f8-4984-ad02-aea0d47c5e0e",
   "metadata": {},
   "outputs": [
    {
     "name": "stdout",
     "output_type": "stream",
     "text": [
      "∂(h1) = [-1, -2, 0]\n",
      "dual(h1) = Halfedge(Vertex[Vertex(Real[0, 0, 0]), Vertex(Real[1, 2, 0])])\n",
      "n(f1) = [0.0, 0.0, 1.0]\n",
      "∂(f1) = Halfedge[Halfedge(Vertex[Vertex(Real[1, 2, 0]), Vertex(Real[0, 0, 0])]), Halfedge(Vertex[Vertex(Real[0, 0, 0]), Vertex(Real[1, 1, 0])]), Halfedge(Vertex[Vertex(Real[1, 1, 0]), Vertex(Real[1, 2, 0])])]\n"
     ]
    }
   ],
   "source": [
    "@show ∂(h1)\n",
    "@show dual(h1)\n",
    "@show n(f1)\n",
    "@show ∂(f1);"
   ]
  },
  {
   "cell_type": "code",
   "execution_count": null,
   "id": "057d6f77-f8d0-4321-a2f3-bd15162f1544",
   "metadata": {},
   "outputs": [],
   "source": []
  }
 ],
 "metadata": {
  "kernelspec": {
   "display_name": "Julia 1.8.2",
   "language": "julia",
   "name": "julia-1.8"
  },
  "language_info": {
   "file_extension": ".jl",
   "mimetype": "application/julia",
   "name": "julia",
   "version": "1.8.2"
  }
 },
 "nbformat": 4,
 "nbformat_minor": 5
}
