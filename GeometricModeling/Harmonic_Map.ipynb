{
 "cells": [
  {
   "cell_type": "code",
   "execution_count": 2,
   "id": "4b7d5892-ad32-4326-ba21-17a819803e5f",
   "metadata": {},
   "outputs": [
    {
     "name": "stderr",
     "output_type": "stream",
     "text": [
      "\u001b[32m\u001b[1m  Activating\u001b[22m\u001b[39m project at `~/MEGA/EMAP/Julia_Tutorials`\n"
     ]
    }
   ],
   "source": [
    "using Pkg, Revise\n",
    "Pkg.activate(\"../.\")\n",
    "using BasicBSpline\n",
    "using StaticArrays\n",
    "using Plots\n",
    "using LinearAlgebra"
   ]
  },
  {
   "cell_type": "code",
   "execution_count": null,
   "id": "07b31936-7db8-4e0e-bb05-2127e6c1a29d",
   "metadata": {},
   "outputs": [],
   "source": []
  }
 ],
 "metadata": {
  "kernelspec": {
   "display_name": "Julia 1.8.2",
   "language": "julia",
   "name": "julia-1.8"
  },
  "language_info": {
   "file_extension": ".jl",
   "mimetype": "application/julia",
   "name": "julia",
   "version": "1.8.2"
  }
 },
 "nbformat": 4,
 "nbformat_minor": 5
}
