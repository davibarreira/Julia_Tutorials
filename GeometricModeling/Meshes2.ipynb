{
 "cells": [
  {
   "cell_type": "code",
   "execution_count": 1,
   "id": "a9441335-381e-4ecd-ac23-a58a670cae51",
   "metadata": {},
   "outputs": [
    {
     "name": "stderr",
     "output_type": "stream",
     "text": [
      "\u001b[32m\u001b[1m  Activating\u001b[22m\u001b[39m project at `~/MEGA/EMAP/Julia_Tutorials`\n"
     ]
    }
   ],
   "source": [
    "using Pkg, Revise\n",
    "Pkg.activate(\"../.\")\n",
    "using Plots\n",
    "using LinearAlgebra\n",
    "using Dictionaries"
   ]
  },
  {
   "cell_type": "code",
   "execution_count": 18,
   "id": "e0678336-92d6-4d1e-a356-e4dd3f313e17",
   "metadata": {},
   "outputs": [],
   "source": [
    "struct Vertex\n",
    "    vertexid::Int\n",
    "    position::Vector\n",
    "    halfedge::Int\n",
    "end\n",
    "\n",
    "struct Face\n",
    "    faceid::Int\n",
    "    halfegde::Int\n",
    "end\n",
    "\n",
    "struct Edge\n",
    "    length::Real\n",
    "    lefthalfedge::Int\n",
    "    righthalfedge::Int\n",
    "end\n",
    "\n",
    "struct HalfEdge\n",
    "    prevhalfedge::Int\n",
    "    nexthalfedge::Int\n",
    "    edge::Int\n",
    "    face::Int\n",
    "    vertex::Int\n",
    "end\n",
    "\n",
    "struct Mesh\n",
    "    V::Vector{Vertex}\n",
    "    F::Vector{Face}\n",
    "end"
   ]
  },
  {
   "cell_type": "code",
   "execution_count": 89,
   "id": "b057c392-9708-4ce6-ae52-8290c5eccbbc",
   "metadata": {},
   "outputs": [
    {
     "data": {
      "text/plain": [
       "1-element Dictionary{String, Int64}\n",
       " \"face\" │ 1"
      ]
     },
     "execution_count": 89,
     "metadata": {},
     "output_type": "execute_result"
    }
   ],
   "source": [
    "# function Mesh(V,F) \n",
    "#     F = []\n",
    "#     E = []\n",
    "#     H = Dict()\n",
    "#     for f in faces\n",
    "#         v1,v2,v3 = V[f[1]],V[f[2]],V[f[3]]\n",
    "#         e1 = Edge(v1,v2)\n",
    "#         e2 = Edge(v2,v3)\n",
    "#         e3 = Edge(v3,v1)\n",
    "#         E = vcat([e1,e2,e3],E)\n",
    "#         F = vcat([Face([v1,v2,v3])],F)\n",
    "#     end\n",
    "#    Mesh(V,E,F) \n",
    "# end\n",
    "\n",
    "vlist = [[0,0,0],[1,0,0],[0,1,0],[-1,0,0]]\n",
    "flist = [[1,2,3],[1,4,3]]\n",
    "\n",
    "V = Dictionary()\n",
    "map(x -> insert!(V,x[1],x[2]),enumerate(vlist));\n",
    "H = Dictionary()\n",
    "\n",
    "for (i,f) in enumerate(flist)\n",
    "    insert!(H,(f[1],f[2]),Dictionary([\"face\"],[i]))\n",
    "    # H[(f[1],f[2])] = Dict(\"face\"=>i)\n",
    "end\n",
    "# V[1]\n",
    "# insert!(V, 1, vlist[1])\n",
    "# insert!(V, 2, vlist[1])\n",
    "# insert!(V, 3, vlist[1])\n",
    "\n",
    "# map(x->x[1], enumerate(vlist))\n",
    "\n",
    "# [i for i in keys(H)]\n",
    "# H[(1,2)][1][2]\n",
    "H[(1,2)]\n"
   ]
  },
  {
   "cell_type": "code",
   "execution_count": 14,
   "id": "54310b14-4262-4845-a149-9c6eeceae228",
   "metadata": {},
   "outputs": [],
   "source": [
    "V = [[0,0,0],[1,0,0],[0,1,0],[-1,0,0]]\n",
    "F = [[1,2,3],[1,4,3]]\n",
    "obj = (V,F);\n",
    "\n",
    "function generatemesh(V::Vector, faces::Vector) \n",
    "    listfaces = []\n",
    "    listhalfedges = []\n",
    "    listvertices = []\n",
    "    for (i,f) in faces\n",
    "        push!(listfaces,i)\n",
    "        V[f[1]]\n",
    "    end\n",
    "end\n",
    "\n",
    "generatemesh(V,F)"
   ]
  },
  {
   "cell_type": "code",
   "execution_count": 8,
   "id": "c233f808-9bdc-4851-99fe-e7d9c623a897",
   "metadata": {},
   "outputs": [
    {
     "name": "stdout",
     "output_type": "stream",
     "text": [
      "1"
     ]
    }
   ],
   "source": [
    "for (i,f) in enumerate(F)\n",
    "    print(i)\n",
    "end"
   ]
  },
  {
   "cell_type": "code",
   "execution_count": null,
   "id": "5f58628e-da88-40da-95cf-0e4adb09d572",
   "metadata": {},
   "outputs": [],
   "source": []
  }
 ],
 "metadata": {
  "kernelspec": {
   "display_name": "Julia 1.8.2",
   "language": "julia",
   "name": "julia-1.8"
  },
  "language_info": {
   "file_extension": ".jl",
   "mimetype": "application/julia",
   "name": "julia",
   "version": "1.8.2"
  }
 },
 "nbformat": 4,
 "nbformat_minor": 5
}
