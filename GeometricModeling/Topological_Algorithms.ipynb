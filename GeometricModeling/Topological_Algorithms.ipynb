{
 "cells": [
  {
   "cell_type": "code",
   "execution_count": 2,
   "id": "edb7073e-3367-4f35-83fc-4da62f01897b",
   "metadata": {},
   "outputs": [
    {
     "name": "stderr",
     "output_type": "stream",
     "text": [
      "\u001b[32m\u001b[1m  Activating\u001b[22m\u001b[39m project at `~/MEGA/EMAP/Julia_Tutorials`\n"
     ]
    }
   ],
   "source": [
    "using Pkg, Revise\n",
    "Pkg.activate(\"../.\")\n",
    "using BasicBSpline\n",
    "using StaticArrays\n",
    "using Plots\n",
    "using LinearAlgebra\n",
    "using Meshes"
   ]
  },
  {
   "cell_type": "markdown",
   "id": "b1a70317-8589-4fb1-a480-3c1a81eb70c2",
   "metadata": {},
   "source": [
    "## Meshes\n",
    "\n",
    "A mesh $M = (V, E, F)$ is a list of vertices $V$, non-oriented edges $E$ and oriented faces $F$.\n",
    "One usually uses *half-edge* to refer to an oriented edge, and *edge* for an oriented one."
   ]
  },
  {
   "cell_type": "code",
   "execution_count": 175,
   "id": "848b95e3-316a-4084-b053-b0f6092b9826",
   "metadata": {},
   "outputs": [],
   "source": [
    "struct Vertex\n",
    "    v::Vec{3, Real}\n",
    "end\n",
    "\n",
    "Vertex(x,y,z) = Vertex([x,y,z])\n",
    "Vertex(x,y) = Vertex([x,y,0])\n",
    "Vertex(v::Vector{2}) = Vertex(vcat(v,[0]))\n",
    "\n",
    "struct Halfedge\n",
    "    h::Vec{2,Vertex}\n",
    "end\n",
    "Halfedge(v1,v2) = Halfedge([v1,v2])\n",
    "struct Edge\n",
    "    e::Vec{2,Halfedge}\n",
    "end\n",
    "Edge(h1::Halfedge) = Edge([h1,Halfedge(h1.h[2],h1.h[1])])\n",
    "Edge(h1::Halfedge,h2::Halfedge) = Edge([h1,h2])\n",
    "Edge(v1::Vertex, v2::Vertex) = Edge(Halfedge(v1,v2), Halfedge(v2,v1))\n",
    "\n",
    "struct Face\n",
    "    f::Vec{3,Vertex}\n",
    "end\n",
    "\n",
    "struct Mesh\n",
    "    V::Vector{Vertex}\n",
    "    E::Vector{Edge}\n",
    "    F::Vector{Face}\n",
    "end\n",
    "\n",
    "function Mesh(V::Vector{Vertex}, faces::Vector{<:Tuple}) \n",
    "    F = []\n",
    "    E = []\n",
    "    for f in faces\n",
    "        v1,v2,v3 = V[f[1]],V[f[2]],V[f[3]]\n",
    "        e1 = Edge(v1,v2)\n",
    "        e2 = Edge(v2,v3)\n",
    "        e3 = Edge(v3,v1)\n",
    "        E = vcat([e1,e2,e3],E)\n",
    "        F = vcat([Face([v1,v2,v3])],F)\n",
    "    end\n",
    "   Mesh(V,E,F) \n",
    "end\n",
    "Mesh(V::Vector{Vertex}, faces::Tuple)  = Mesh(V, [faces])\n",
    "\n",
    "\n",
    "Base.getindex(x::Vertex, i) = getproperty(x, fieldnames(typeof(x))[1])[i]\n",
    "Base.getindex(x::Halfedge, i) = getproperty(x, fieldnames(typeof(x))[1])[i]\n",
    "Base.getindex(x::Halfedge, i, j) = getproperty(x, fieldnames(typeof(x))[1])[i][j]\n",
    "Base.getindex(x::Edge, i) = getproperty(x, fieldnames(typeof(x))[1])[i]\n",
    "Base.getindex(x::Edge, i, j) = getproperty(x, fieldnames(typeof(x))[1])[i][j]\n",
    "Base.getindex(x::Edge, i, j, k) = getproperty(x, fieldnames(typeof(x))[1])[i][j][k]\n",
    "Base.getindex(x::Face, i) = getproperty(x, fieldnames(typeof(x))[1])[i]\n",
    "\n",
    "Base.:-(v1::Vertex, v2::Vertex) = v1.v - v2.v\n",
    "Base.:+(v1::Vertex, v2::Vertex) = v1.v - v2.v\n",
    "Base.length(v::Vertex) = length(v.v)"
   ]
  },
  {
   "cell_type": "code",
   "execution_count": 187,
   "id": "70ffb63d-f6df-4f8e-b9f3-f3d0e6b7083f",
   "metadata": {},
   "outputs": [
    {
     "data": {
      "text/plain": [
       "Mesh(Vertex[Vertex(Real[1, 2, 0]), Vertex(Real[0, 0, 0]), Vertex(Real[1, 1, 0])], Edge[Edge(Halfedge[Halfedge(Vertex[Vertex(Real[1, 2, 0]), Vertex(Real[0, 0, 0])]), Halfedge(Vertex[Vertex(Real[0, 0, 0]), Vertex(Real[1, 2, 0])])]), Edge(Halfedge[Halfedge(Vertex[Vertex(Real[0, 0, 0]), Vertex(Real[1, 1, 0])]), Halfedge(Vertex[Vertex(Real[1, 1, 0]), Vertex(Real[0, 0, 0])])]), Edge(Halfedge[Halfedge(Vertex[Vertex(Real[1, 1, 0]), Vertex(Real[1, 2, 0])]), Halfedge(Vertex[Vertex(Real[1, 2, 0]), Vertex(Real[1, 1, 0])])])], Face[Face(Vertex[Vertex(Real[1, 2, 0]), Vertex(Real[0, 0, 0]), Vertex(Real[1, 1, 0])])])"
      ]
     },
     "execution_count": 187,
     "metadata": {},
     "output_type": "execute_result"
    }
   ],
   "source": [
    "v1 = Vertex([1,2,0])\n",
    "v2 = Vertex(0,0,0)\n",
    "v3 = Vertex(1,1,0)\n",
    "\n",
    "h1 = Halfedge(v1,v2)\n",
    "h2 = Halfedge(v2,v3)\n",
    "h3 = Halfedge(v3,v1)\n",
    "\n",
    "e1 = Edge(h1)\n",
    "e2 = Edge(h2)\n",
    "e3 = Edge(h3)\n",
    "\n",
    "f1 = Face([v1,v2,v3])\n",
    "\n",
    "M = Mesh([v1,v2,v3],[e1,e2,e3],[f1])\n",
    "M = Mesh([v1,v2,v3],(1,2,3))"
   ]
  },
  {
   "cell_type": "code",
   "execution_count": 188,
   "id": "49d780da-dc0a-48d3-b8d1-ef59c8d83ba0",
   "metadata": {},
   "outputs": [
    {
     "data": {
      "text/plain": [
       "𝐧 (generic function with 1 method)"
      ]
     },
     "execution_count": 188,
     "metadata": {},
     "output_type": "execute_result"
    }
   ],
   "source": [
    "∂(h::Halfedge) = h[2] - h[1]\n",
    "\n",
    "𝐧(f::Face) = (f[2] - f[1]) × (f[3] - f[1])/norm((f[2] - f[1]) × (f[3] - f[1]))"
   ]
  },
  {
   "cell_type": "code",
   "execution_count": 193,
   "id": "eb2c2941-4763-4fe2-8d30-09484aa79d3c",
   "metadata": {},
   "outputs": [
    {
     "name": "stdout",
     "output_type": "stream",
     "text": [
      "∂(h1) = [-1, -2, 0]\n",
      "𝐧(f1) = [0.0, 0.0, 1.0]\n"
     ]
    },
    {
     "data": {
      "text/plain": [
       "3-element SVector{3, Float64} with indices SOneTo(3):\n",
       " 0.0\n",
       " 0.0\n",
       " 1.0"
      ]
     },
     "execution_count": 193,
     "metadata": {},
     "output_type": "execute_result"
    }
   ],
   "source": [
    "@show ∂(h1)\n",
    "@show 𝐧(f1)"
   ]
  }
 ],
 "metadata": {
  "kernelspec": {
   "display_name": "Julia 1.8.2",
   "language": "julia",
   "name": "julia-1.8"
  },
  "language_info": {
   "file_extension": ".jl",
   "mimetype": "application/julia",
   "name": "julia",
   "version": "1.8.2"
  }
 },
 "nbformat": 4,
 "nbformat_minor": 5
}
