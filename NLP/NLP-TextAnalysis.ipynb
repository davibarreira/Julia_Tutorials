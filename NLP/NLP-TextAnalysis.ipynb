{
 "cells": [
  {
   "cell_type": "markdown",
   "id": "dbddcdcd-d2d5-4d44-82c6-066b42292243",
   "metadata": {},
   "source": [
    "# NLP with Julia"
   ]
  },
  {
   "cell_type": "code",
   "execution_count": 2,
   "id": "5ec65ffe-51a3-44b4-bdbc-606440d07194",
   "metadata": {},
   "outputs": [
    {
     "name": "stderr",
     "output_type": "stream",
     "text": [
      "\u001b[32m\u001b[1m  Activating\u001b[22m\u001b[39m project at `~/Main/EMAp/Julia_Tutorials/NLP`\n",
      "\u001b[32m\u001b[1m    CondaPkg \u001b[22m\u001b[39m\u001b[0mFound dependencies: /home/davibarreira/Main/EMAp/Julia_Tutorials/NLP/CondaPkg.toml\n",
      "\u001b[32m\u001b[1m    CondaPkg \u001b[22m\u001b[39m\u001b[0mFound dependencies: /home/davibarreira/.julia/packages/PythonCall/XUf6D/CondaPkg.toml\n",
      "\u001b[32m\u001b[1m    CondaPkg \u001b[22m\u001b[39m\u001b[0mDependencies already up to date\n"
     ]
    }
   ],
   "source": [
    "using Pkg\n",
    "Pkg.activate(\".\")\n",
    "\n",
    "using DataFrames\n",
    "using VegaLite\n",
    "using TextAnalysis\n",
    "using PythonCall"
   ]
  },
  {
   "cell_type": "markdown",
   "id": "4f4a6e47-1bd4-47fd-993a-288c9c55330d",
   "metadata": {},
   "source": [
    "## 1. Importing a Corpus\n",
    "\n",
    "Let's start by importing some sample texts. For that, let's use python's nltk package."
   ]
  },
  {
   "cell_type": "code",
   "execution_count": 3,
   "id": "aa9ff3dc-193b-45f5-a282-cfb62ccd23b5",
   "metadata": {},
   "outputs": [
    {
     "data": {
      "text/plain": [
       "\u001b[0m\u001b[1mPython module: \u001b[22m<module 'nltk' from '/home/davibarreira/.local/lib/python3.10/site-packages/nltk/__init__.py'>"
      ]
     },
     "execution_count": 3,
     "metadata": {},
     "output_type": "execute_result"
    }
   ],
   "source": [
    "nltk = pyimport(\"nltk\")"
   ]
  },
  {
   "cell_type": "code",
   "execution_count": null,
   "id": "80d6e372-303b-4f33-ab5f-1d76a28eb7e3",
   "metadata": {},
   "outputs": [],
   "source": []
  }
 ],
 "metadata": {
  "kernelspec": {
   "display_name": "Julia (4 threads) 1.7.2",
   "language": "julia",
   "name": "julia-(4-threads)-1.7"
  },
  "language_info": {
   "file_extension": ".jl",
   "mimetype": "application/julia",
   "name": "julia",
   "version": "1.7.2"
  }
 },
 "nbformat": 4,
 "nbformat_minor": 5
}
