{
 "cells": [
  {
   "cell_type": "markdown",
   "metadata": {},
   "source": [
    "# Creating PreCompiled Julia File\n",
    "\n",
    "This notebook shows the commands to create a precompiled Julia file that can\n",
    "be used to speed-up the initialization of a new kernel. The gist is to use the PackageCompile.jl\n",
    "which creates a source file with the disered packages already precompiled. Then, install\n",
    "the new kernel on Jupyter, and you can significantly increase the speed when starting a new kernel.\n",
    "\n",
    "The only downside is that such sourcefiles can be quite large (e.g 500 mb)."
   ]
  },
  {
   "cell_type": "code",
   "execution_count": 3,
   "metadata": {},
   "outputs": [],
   "source": [
    "using Pkg"
   ]
  },
  {
   "cell_type": "code",
   "execution_count": 6,
   "metadata": {},
   "outputs": [
    {
     "name": "stderr",
     "output_type": "stream",
     "text": [
      "┌ Info: Precompiling StatsPlots [f3b207a7-027a-5e70-b257-86293d7955fd]\n",
      "└ @ Base loading.jl:1278\n"
     ]
    }
   ],
   "source": [
    "using StatsPlots"
   ]
  },
  {
   "cell_type": "code",
   "execution_count": 7,
   "metadata": {},
   "outputs": [
    {
     "name": "stderr",
     "output_type": "stream",
     "text": [
      "┌ Info: Precompiling PackageCompiler [9b87118b-4619-50d2-8e1e-99f35a4d4d9d]\n",
      "└ @ Base loading.jl:1278\n"
     ]
    }
   ],
   "source": [
    "# using Flux\n",
    "using PackageCompiler"
   ]
  },
  {
   "cell_type": "code",
   "execution_count": 13,
   "metadata": {},
   "outputs": [
    {
     "name": "stderr",
     "output_type": "stream",
     "text": [
      "┌ Info: Precompiling CSV [336ed68f-0bac-5ca0-87d4-7b16caf5d00b]\n",
      "└ @ Base loading.jl:1278\n",
      "┌ Info: Precompiling Cairo [159f3aea-2a34-519c-b102-8c37f9878175]\n",
      "└ @ Base loading.jl:1278\n"
     ]
    }
   ],
   "source": [
    "using Plots, Flux, Gadfly, PackageCompiler\n",
    "using VegaLite\n",
    "using LaTeXStrings, Distributions\n",
    "using Statistics\n",
    "using MLDatasets\n",
    "using DataFrames\n",
    "using KernelDensity\n",
    "using CSV\n",
    "using Cairo"
   ]
  },
  {
   "cell_type": "code",
   "execution_count": 14,
   "metadata": {},
   "outputs": [
    {
     "name": "stderr",
     "output_type": "stream",
     "text": [
      "\u001b[32m\u001b[1m  Resolving\u001b[22m\u001b[39m package versions...\n",
      "\u001b[32m\u001b[1mNo Changes\u001b[22m\u001b[39m to `~/.julia/environments/v1.5/Project.toml`\n",
      "\u001b[32m\u001b[1mNo Changes\u001b[22m\u001b[39m to `~/.julia/environments/v1.5/Manifest.toml`\n",
      "\u001b[32m\u001b[1m  Resolving\u001b[22m\u001b[39m package versions...\n",
      "\u001b[32m\u001b[1mNo Changes\u001b[22m\u001b[39m to `~/.julia/environments/v1.5/Project.toml`\n",
      "\u001b[32m\u001b[1mNo Changes\u001b[22m\u001b[39m to `~/.julia/environments/v1.5/Manifest.toml`\n"
     ]
    }
   ],
   "source": [
    "Pkg.add(\"CSV\")\n",
    "Pkg.add(\"Cairo\")"
   ]
  },
  {
   "cell_type": "code",
   "execution_count": 19,
   "metadata": {},
   "outputs": [
    {
     "name": "stderr",
     "output_type": "stream",
     "text": [
      "┌ Info: PackageCompiler: creating system image object file, this might take a while...\n",
      "└ @ PackageCompiler /home/davibarreira/.julia/packages/PackageCompiler/3BsME/src/PackageCompiler.jl:301\n"
     ]
    }
   ],
   "source": [
    "# create_sysimage([:Flux,:Plots,:LaTeXStrings],sysimage_path=\"/home/davi/JuliaSysImageEnv/sys_flux_plots.so\")\n",
    "create_sysimage([:Flux,:Gadfly,:MLDatasets,:LaTeXStrings,:DataFrames,:StatsPlots,:Plots,\n",
    "        :CSV,:Cairo],sysimage_path=\"/home/davibarreira/JuliaSysImageEnv/sys_ml.so\")"
   ]
  },
  {
   "cell_type": "code",
   "execution_count": 20,
   "metadata": {},
   "outputs": [
    {
     "name": "stderr",
     "output_type": "stream",
     "text": [
      "┌ Info: Installing JuliaML kernelspec in /home/davibarreira/.local/share/jupyter/kernels/juliaml-1.5\n",
      "└ @ IJulia /home/davibarreira/.julia/packages/IJulia/IDNmS/deps/kspec.jl:94\n"
     ]
    },
    {
     "data": {
      "text/plain": [
       "\"/home/davibarreira/.local/share/jupyter/kernels/juliaml-1.5\""
      ]
     },
     "execution_count": 20,
     "metadata": {},
     "output_type": "execute_result"
    }
   ],
   "source": [
    "using IJulia\n",
    "installkernel(\"JuliaML\", \"--sysimage=/home/davibarreira/JuliaSysImageEnv/sys_ml.so\")"
   ]
  },
  {
   "cell_type": "code",
   "execution_count": null,
   "metadata": {},
   "outputs": [],
   "source": [
    "    "
   ]
  }
 ],
 "metadata": {
  "kernelspec": {
   "display_name": "Julia 1.5.3",
   "language": "julia",
   "name": "julia-1.5"
  },
  "language_info": {
   "file_extension": ".jl",
   "mimetype": "application/julia",
   "name": "julia",
   "version": "1.5.3"
  }
 },
 "nbformat": 4,
 "nbformat_minor": 4
}
