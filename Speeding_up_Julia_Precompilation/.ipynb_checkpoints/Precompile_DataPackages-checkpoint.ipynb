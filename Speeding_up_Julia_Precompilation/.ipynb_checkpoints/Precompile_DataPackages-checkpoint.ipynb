{
 "cells": [
  {
   "cell_type": "markdown",
   "metadata": {},
   "source": [
    "# Creating PreCompiled Julia File\n",
    "\n",
    "This notebook shows the commands to create a precompiled Julia file that can\n",
    "be used to speed-up the initialization of a new kernel. The gist is to use the PackageCompile.jl\n",
    "which creates a source file with the disered packages already precompiled. Then, install\n",
    "the new kernel on Jupyter, and you can significantly increase the speed when starting a new kernel.\n",
    "\n",
    "The only downside is that such sourcefiles can be quite large (e.g 500 mb)."
   ]
  },
  {
   "cell_type": "code",
   "execution_count": 1,
   "metadata": {},
   "outputs": [],
   "source": [
    "using Pkg"
   ]
  },
  {
   "cell_type": "code",
   "execution_count": 2,
   "metadata": {},
   "outputs": [
    {
     "name": "stderr",
     "output_type": "stream",
     "text": [
      "┌ Info: Precompiling StatsPlots [f3b207a7-027a-5e70-b257-86293d7955fd]\n",
      "└ @ Base loading.jl:1278\n"
     ]
    }
   ],
   "source": [
    "using StatsPlots"
   ]
  },
  {
   "cell_type": "code",
   "execution_count": 3,
   "metadata": {},
   "outputs": [
    {
     "name": "stderr",
     "output_type": "stream",
     "text": [
      "┌ Info: Precompiling PackageCompiler [9b87118b-4619-50d2-8e1e-99f35a4d4d9d]\n",
      "└ @ Base loading.jl:1278\n"
     ]
    }
   ],
   "source": [
    "# using Flux\n",
    "using PackageCompiler"
   ]
  },
  {
   "cell_type": "code",
   "execution_count": 4,
   "metadata": {},
   "outputs": [
    {
     "name": "stderr",
     "output_type": "stream",
     "text": [
      "┌ Info: Precompiling Flux [587475ba-b771-5e3f-ad9e-33799f191a9c]\n",
      "└ @ Base loading.jl:1278\n",
      "┌ Info: Precompiling Gadfly [c91e804a-d5a3-530f-b6f0-dfbca275c004]\n",
      "└ @ Base loading.jl:1278\n",
      "┌ Info: Precompiling MLDatasets [eb30cadb-4394-5ae3-aed4-317e484a6458]\n",
      "└ @ Base loading.jl:1278\n"
     ]
    }
   ],
   "source": [
    "using Plots, Flux, Gadfly, PackageCompiler\n",
    "using VegaLite\n",
    "using LaTeXStrings, Distributions\n",
    "using Statistics\n",
    "using MLDatasets\n",
    "using DataFrames\n",
    "using KernelDensity"
   ]
  },
  {
   "cell_type": "code",
   "execution_count": 5,
   "metadata": {},
   "outputs": [
    {
     "name": "stderr",
     "output_type": "stream",
     "text": [
      "┌ Info: PackageCompiler: creating system image object file, this might take a while...\n",
      "└ @ PackageCompiler /home/davi/.julia/packages/PackageCompiler/AerNj/src/PackageCompiler.jl:290\n"
     ]
    }
   ],
   "source": [
    "# create_sysimage([:Flux,:Plots,:LaTeXStrings],sysimage_path=\"/home/davi/JuliaSysImageEnv/sys_flux_plots.so\")\n",
    "create_sysimage([:Flux,:Gadfly,:MLDatasets,:LaTeXStrings,:DataFrames,:StatsPlots,\n",
    "        :CSV,:Cairo],sysimage_path=\"/home/davi/JuliaSysImageEnv/sys_ml.so\")"
   ]
  },
  {
   "cell_type": "code",
   "execution_count": 6,
   "metadata": {},
   "outputs": [
    {
     "name": "stderr",
     "output_type": "stream",
     "text": [
      "┌ Info: Installing JuliaFluxPlots kernelspec in /home/davi/.local/share/jupyter/kernels/juliafluxplots-1.5\n",
      "└ @ IJulia /home/davi/.julia/packages/IJulia/a1SNk/deps/kspec.jl:94\n",
      "┌ Info: Installing JuliaML kernelspec in /home/davi/.local/share/jupyter/kernels/juliaml-1.5\n",
      "└ @ IJulia /home/davi/.julia/packages/IJulia/a1SNk/deps/kspec.jl:94\n"
     ]
    },
    {
     "data": {
      "text/plain": [
       "\"/home/davi/.local/share/jupyter/kernels/juliaml-1.5\""
      ]
     },
     "execution_count": 6,
     "metadata": {},
     "output_type": "execute_result"
    }
   ],
   "source": [
    "using IJulia\n",
    "installkernel(\"JuliaFluxPlots\", \"--sysimage=/home/davi/JuliaSysImageEnv/sys_flux_plots.so\")\n",
    "installkernel(\"JuliaML\", \"--sysimage=/home/davi/JuliaSysImageEnv/sys_ml.so\")"
   ]
  }
 ],
 "metadata": {
  "kernelspec": {
   "display_name": "Julia 1.5.2",
   "language": "julia",
   "name": "julia-1.5"
  },
  "language_info": {
   "file_extension": ".jl",
   "mimetype": "application/julia",
   "name": "julia",
   "version": "1.5.2"
  }
 },
 "nbformat": 4,
 "nbformat_minor": 4
}
