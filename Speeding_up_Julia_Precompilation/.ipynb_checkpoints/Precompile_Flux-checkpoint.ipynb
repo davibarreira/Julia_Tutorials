{
 "cells": [
  {
   "cell_type": "markdown",
   "metadata": {},
   "source": [
    "# Creating PreCompiled Julia File\n",
    "\n",
    "This notebook shows the commands to create a precompiled Julia file that can\n",
    "be used to speed-up the initialization of a new kernel. The gist is to use the PackageCompile.jl\n",
    "which creates a source file with the disered packages already precompiled. Then, install\n",
    "the new kernel on Jupyter, and you can significantly increase the speed when starting a new kernel.\n",
    "\n",
    "The only downside is that such sourcefiles can be quite large (e.g 500 mb)."
   ]
  },
  {
   "cell_type": "code",
   "execution_count": 12,
   "metadata": {},
   "outputs": [],
   "source": [
    "using Pkg\n",
    "using Flux\n",
    "using Plots\n",
    "Pkg.add(\"PackageCompiler\")\n",
    "using PackageCompiler"
   ]
  },
  {
   "cell_type": "code",
   "execution_count": 16,
   "metadata": {},
   "outputs": [
    {
     "name": "stderr",
     "output_type": "stream",
     "text": [
      "┌ Info: PackageCompiler: creating system image object file, this might take a while...\n",
      "└ @ PackageCompiler /home/davi/.julia/packages/PackageCompiler/vsMJE/src/PackageCompiler.jl:287\n"
     ]
    }
   ],
   "source": [
    "create_sysimage([:Flux,:Plots],sysimage_path=\"sys_flux_plots.so\")"
   ]
  },
  {
   "cell_type": "code",
   "execution_count": 17,
   "metadata": {},
   "outputs": [],
   "source": [
    "using IJulia\n",
    "installkernel(\"JuliaFluxPlots\", \"--sysimage=/home/davi/JuliaSysImageEnv/sys_flux_plots.so\")"
   ]
  }
 ],
 "metadata": {
  "kernelspec": {
   "display_name": "Julia 1.5.1",
   "language": "julia",
   "name": "julia-1.5"
  },
  "language_info": {
   "file_extension": ".jl",
   "mimetype": "application/julia",
   "name": "julia",
   "version": "1.5.1"
  }
 },
 "nbformat": 4,
 "nbformat_minor": 4
}
