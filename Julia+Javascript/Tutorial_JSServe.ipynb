{
 "cells": [
  {
   "cell_type": "markdown",
   "id": "147d523c-0048-41ca-a490-09b169d82711",
   "metadata": {},
   "source": [
    "# **Julia + Javascript** 💻\n",
    "\n",
    "It might be very useful to have a fast connection between Julia and Javascript. Take for example interactive plots,\n",
    "where the user is moving the mouse aroung the graph and you wish to showcase tooltips. It's very common for users to\n",
    "be in the browser (e.g. Jupyter or Pluto notebooks), so you can make use of it.\n",
    "Hence, we need to create a server that runs Javascript and communicates with Julia, in order to execute commands in Julia\n",
    "based on what the user did on the browser.\n",
    "\n",
    "Here is where `JSServe.jl` comes in. This package creates a fast connection between Julia and Javascript, which is exactly what we\n",
    "wish to use. Unfortunantely, at this moment, the documentation is not very good, so we are going to use this tutorial as a way\n",
    "of organizing a bit more how it's used."
   ]
  },
  {
   "cell_type": "code",
   "execution_count": 1,
   "id": "591ac91e-b424-4c6b-a730-077c92ab818a",
   "metadata": {},
   "outputs": [
    {
     "name": "stderr",
     "output_type": "stream",
     "text": [
      "┌ Info: Precompiling JSServe [824d6782-a2ef-11e9-3a09-e5662e0c26f9]\n",
      "└ @ Base loading.jl:1423\n"
     ]
    }
   ],
   "source": [
    "using JSServe"
   ]
  },
  {
   "cell_type": "code",
   "execution_count": null,
   "id": "1030d55e-8987-41a1-97a5-3d173a36ec75",
   "metadata": {},
   "outputs": [],
   "source": []
  }
 ],
 "metadata": {
  "kernelspec": {
   "display_name": "Julia 1.7.0",
   "language": "julia",
   "name": "julia-1.7"
  },
  "language_info": {
   "file_extension": ".jl",
   "mimetype": "application/julia",
   "name": "julia",
   "version": "1.7.0"
  }
 },
 "nbformat": 4,
 "nbformat_minor": 5
}
