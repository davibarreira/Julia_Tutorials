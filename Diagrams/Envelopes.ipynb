{
 "cells": [
  {
   "cell_type": "markdown",
   "id": "9f7aeff1-03bc-4ef3-a8a0-c31dfaf09559",
   "metadata": {},
   "source": [
    "# Envelopes\n",
    "\n",
    "Examples of envelope calculations."
   ]
  },
  {
   "cell_type": "code",
   "execution_count": 1,
   "id": "c3e5cf20-d7e3-4c62-afb5-1d5b1bf6525b",
   "metadata": {},
   "outputs": [
    {
     "name": "stderr",
     "output_type": "stream",
     "text": [
      "\u001b[32m\u001b[1m  Activating\u001b[22m\u001b[39m project at `~/MEGA/EMAP/Diagrams.jl`\n"
     ]
    },
    {
     "data": {
      "application/vnd.webio.node+json": {
       "children": [],
       "instanceArgs": {
        "namespace": "html",
        "tag": "div"
       },
       "nodeType": "DOM",
       "props": {},
       "type": "node"
      },
      "text/html": [
       "<div style=\"padding: 1em; background-color: #f8d6da; border: 1px solid #f5c6cb; font-weight: bold;\">\n",
       "<p>The WebIO Jupyter extension was not detected. See the\n",
       "<a href=\"https://juliagizmos.github.io/WebIO.jl/latest/providers/ijulia/\" target=\"_blank\">\n",
       "    WebIO Jupyter integration documentation\n",
       "</a>\n",
       "for more information.\n",
       "</div>\n"
      ],
      "text/plain": [
       "WebIO._IJuliaInit()"
      ]
     },
     "metadata": {},
     "output_type": "display_data"
    }
   ],
   "source": [
    "using Pkg\n",
    "Pkg.activate(\"..\")\n",
    "using GeometryBasics\n",
    "using PlotlyJS\n",
    "using LinearAlgebra\n",
    "using CoordinateTransformations\n",
    "using Rotations"
   ]
  },
  {
   "cell_type": "markdown",
   "id": "74629afd-ed48-49fd-b134-4f890de113d8",
   "metadata": {},
   "source": [
    "## 3. Envelopes\n",
    "\n",
    "Our Diagram can compose primitives. But we want to be able to do more complicated drawings.\n",
    "For example, we might want to \"glue\" two primitives side by side.\n",
    "To be able to do this, we need to know how much one primitive should be translated until it\n",
    "touched only the \"border\" of the other.\n",
    "\n",
    "Thus, it would be necessary to be able to compute this distance for each primitive.\n",
    "This is what the author of the paper has called an *envelope*.\n",
    "\n",
    "The envelope is a functional defined for each primitive, with\n",
    "$env: V_2 \\to \\mathbb R$ where $V_2$ is a 2D vector.\n",
    "This means that, when we define a primitive, we must also define it's envelope funciton.\n",
    "\n",
    "**Def.(Envelope)** Given a diagram $D$ and a direction $v$,\n",
    "$$\n",
    "env_D(v) := \\sup_{u \\in D}\\frac{\\langle u,v\\rangle}{||v||^2}.\n",
    "$$\n",
    "\n",
    "We call $\\sup_{u \\in D}\\langle u,v\\rangle$ the *support* function.\n",
    "\n",
    "The nice thing about the envelope functional is that the envelope of a diagram $D = [p_1,p_2,...,p_n]$\n",
    "is just $\\max\\{env(p_1),...,env(p_n)\\}$, i.e. once we know how to compute the envelope of the primitives,\n",
    "the envelope for the diagram can easily be found.\n",
    "\n",
    "Let's use the `GeometricBasics.jl` package to define our primimtives. This package\n",
    "has some geometric objects implemented, and some useful functionalities."
   ]
  },
  {
   "cell_type": "code",
   "execution_count": 31,
   "id": "e423c327-f588-4ada-abd5-b4cd763a4828",
   "metadata": {},
   "outputs": [
    {
     "data": {
      "text/plain": [
       "transform (generic function with 1 method)"
      ]
     },
     "execution_count": 31,
     "metadata": {},
     "output_type": "execute_result"
    }
   ],
   "source": [
    "support(t::AbstractGeometry,v::Vector) = mapreduce(p->dot(p,v),max,coordinates(t))\n",
    "envelope(t::AbstractGeometry, v::Vector) = support(t,normalize(v))\n",
    "\n",
    "# translategeo(g::Polygon,p::Point) = Polygon(coordinates(g) .+ p)\n",
    "transform(g::Polygon,T) = Polygon(map(T,coordinates(g)))"
   ]
  },
  {
   "cell_type": "code",
   "execution_count": 32,
   "id": "86f88608-8c4a-44d3-be48-5b1e90af3b27",
   "metadata": {},
   "outputs": [
    {
     "data": {
      "text/plain": [
       "HyperRectangle{2, Int64}([0, 0], [2, 2])"
      ]
     },
     "execution_count": 32,
     "metadata": {},
     "output_type": "execute_result"
    }
   ],
   "source": [
    "a = Point(-1.5,-0.5)#+Point(10,10)\n",
    "b = Point(0.5,1.5)\n",
    "c = Point(1.0,-0.5)\n",
    "v = [1,1]\n",
    "\n",
    "t = Triangle(a,b,c)\n",
    "l = Line(a,b)\n",
    "r = Rect(0,0,2,2)"
   ]
  },
  {
   "cell_type": "code",
   "execution_count": 33,
   "id": "01a3adb6-1043-4634-a3dd-d315325c132f",
   "metadata": {},
   "outputs": [],
   "source": [
    "v = [1,1]\n",
    "\n",
    "θs = 0:0.05:2π\n",
    "vs = [[cos(θ), sin(θ)] for θ in θs]\n",
    "envs = hcat([envelope(t,i)i for i in vs]...);"
   ]
  },
  {
   "cell_type": "code",
   "execution_count": 34,
   "id": "95537c44-5925-476f-8282-374b6a6549a7",
   "metadata": {
    "tags": []
   },
   "outputs": [
    {
     "data": {
      "text/plain": [
       "layout with fields height, margin, template, width, xaxis, and yaxis\n"
      ]
     },
     "execution_count": 34,
     "metadata": {},
     "output_type": "execute_result"
    }
   ],
   "source": [
    "function plotvec(v::Vector; kwargs...)\n",
    "    scatter(x=[0,v[1]], y=[0,v[2]]; kwargs...)\n",
    "end\n",
    "function plottriangle(t::Triangle; kwargs...)\n",
    "    tp = vcat(vcat(t.points'...),t.points[1]')\n",
    "    scatter(x = tp[:,1],y = tp[:,2]; kwargs...)\n",
    "end\n",
    "\n",
    "function plotline(t::Line; kwargs...)\n",
    "    tp = vcat(t.points'...)\n",
    "    scatter(x = tp[:,1],y = tp[:,2]; kwargs...)\n",
    "end\n",
    "\n",
    "function plotrectangle(r::Rect; kwargs...)\n",
    "    tp = collect(coordinates(r))\n",
    "    # adjusting order of points.\n",
    "    tp = tp[[1,2,4,3]]\n",
    "    tp = mapreduce(x->[x[1],x[2]]', vcat, tp)\n",
    "    \n",
    "    tp = vcat(tp, tp[1,:]')\n",
    "    scatter(x = tp[:,1],y = tp[:,2]; kwargs...)\n",
    "end\n",
    "\n",
    "function plotgeometry(g::AbstractGeometry; kwargs...)\n",
    "    x = coordx(g)\n",
    "    y = coordy(g)\n",
    "    x = vcat(x,x[1])\n",
    "    y = vcat(y,y[1])\n",
    "    scatter(x=x,y=y; kwargs...)\n",
    "end\n",
    "\n",
    "function plotenvelope(g::AbstractGeometry;name=\"envelope\", kwargs...)\n",
    "    θs = 0:0.05:2π\n",
    "    vs = [[cos(θ), sin(θ)] for θ in θs]\n",
    "    envs = hcat([envelope(g,i)i for i in vs]...);\n",
    "    scatter(x= envs[1,:],y = envs[2,:]; name = name, kwargs...)\n",
    "end\n",
    "\n",
    "coordx(t::AbstractGeometry) = [x[1] for x in coordinates(t)]\n",
    "coordy(t::AbstractGeometry) = [x[2] for x in coordinates(t)]\n",
    "\n",
    "\n",
    "\n",
    "layout = Layout(\n",
    "    xaxis = attr(range = [-2, 2]),\n",
    "    yaxis = attr(range = [-2, 2]),\n",
    "    width = 600,\n",
    "    height = 600\n",
    ")"
   ]
  },
  {
   "cell_type": "code",
   "execution_count": 16,
   "id": "6e4c8d76-2653-4e84-8cf1-c662218dc560",
   "metadata": {
    "tags": []
   },
   "outputs": [],
   "source": [
    "# pv = plotvec(v,name=\"vector\")\n",
    "# pl = plotline(l, name = \"line\")\n",
    "# pt = plottriangle(t,line=attr(width=1), name= \"triangle\")\n",
    "# pr = plotrectangle(r, name=\"rectangle\")\n",
    "\n",
    "# plot([pv,pt,pl, pr],layout)"
   ]
  },
  {
   "cell_type": "code",
   "execution_count": 42,
   "id": "144ad328-ebe2-4a49-901a-cbc5144a360c",
   "metadata": {},
   "outputs": [
    {
     "data": {
      "application/vnd.plotly.v1+json": {
       "config": {
        "editable": false,
        "responsive": true,
        "scrollZoom": true,
        "showLink": false,
        "staticPlot": false
       },
       "data": [
        {
         "type": "scatter",
         "x": [
          1,
          1,
          1
         ],
         "y": [
          1,
          1,
          1
         ]
        },
        {
         "name": "envelope",
         "type": "scatter",
         "x": [
          1,
          1.047418790962427,
          1.0893679543181516,
          1.125428347893473,
          1.1552396681557677,
          1.178504050247288,
          1.1949890441523567,
          1.2045299372610896,
          1.2070314001233442,
          1.2024684389490738,
          1.1908866453380182,
          1.1724017407435063,
          1.1471984202219498,
          1.1155285070208905,
          1.0777084364443505,
          1.0341160941358787,
          0.9851870403701082,
          0.931410158078472,
          0.8733227680925539,
          0.8115052604119555,
          0.7465752951392698,
          0.6791816310245081,
          0.6099976432821221,
          0.5397145954484479,
          0.4690347325049524,
          0.39866426427851137,
          0.3293063092262584,
          0.2616538691083843,
          0.19638290474362324,
          0.1341455820321957,
          0.07556375572971089,
          0.02122275608000551,
          -0.028334459611166585,
          -0.07261273202605674,
          -0.11116964730314628,
          -0.14361995749020812,
          -0.16963942981449973,
          -0.18896808630945078,
          -0.2014128014285679,
          -0.20684923169205696,
          -0.2052230580857701,
          -0.19655052879883966,
          -0.18091829687714378,
          -0.15848255441471523,
          -0.12946747193396774,
          -0.09416295854793834,
          -0.05292176528425925,
          -0.006155960513495752,
          0.04566718730180339,
          0.10202987839912159,
          0.162368955400044,
          0.22608153019262453,
          0.29253100779011204,
          0.3610534469776304,
          0.4309641941933237,
          0.5015647243604341,
          0.5721496203189647,
          0.6420136211207612,
          0.7104586687637814,
          0.7768008829569,
          0.8403773942257202,
          0.9005529670852449,
          0.9567263471028605,
          1.0083362684338828,
          1.0548670618043434,
          1.0958538069079196,
          1.130886977735954,
          1.159616534425959,
          1.1817554207442167,
          1.1970824322567786,
          1.2054444265310469,
          1.2067578532843413,
          1.201009589190704,
          1.1882570690048349,
          1.1686277116930086,
          1.1423176473048824,
          1.109589757306871,
          1.0707710479574326,
          1.0262493829686268,
          0.9764696081001175,
          0.9219291064073842,
          0.8631728285546476,
          0.8007878478479682,
          0.7353974943928362,
          0.6676551269857974,
          0.5982376049693333,
          0.5278385252770504,
          0.4571612922423911,
          0.38691208941505284,
          0.31779282360838623,
          0.2504941116785398,
          0.18568838010912012,
          0.12402314634804099,
          0.06611454902722912,
          0.012541191709075644,
          -0.036161638329093894,
          -0.07950731850855404,
          -0.11706275312112693,
          -0.14845270067834085,
          -0.17336352320034112,
          -0.19154631998291116,
          -0.20281941453103305,
          -0.20707016981037135,
          -0.2042561136792879,
          -0.19440536325644125,
          -0.1776163439838313,
          -0.15405680619231768,
          -0.12396214899576613,
          -0.08763306826091315,
          -0.04543255215366403,
          0.002217745718673645,
          0.05484171933085484,
          0.11191356733371764,
          0.17286304668746297,
          0.23708117034160764,
          0.3039262920322886,
          0.37273051739963364,
          0.4428063773674225,
          0.5134536971068583,
          0.5839665919520031,
          0.6536405203660286,
          0.7217793234873616,
          0.7877021809189054,
          0.8507504132604045,
          0.9102940634152771,
          0.96573819091369
         ],
         "y": [
          0,
          0.0524146256844012,
          0.1093013764769098,
          0.17009185876786684,
          0.23417867415288268,
          0.30092148835691523,
          0.3696534292426786,
          0.4396877499766013,
          0.5103246907761787,
          0.5808584706784096,
          0.6505843394698784,
          0.7188056193179291,
          0.7848406657452766,
          0.8480296783963029,
          0.9077412935441098,
          0.9633788924681757,
          1.014386562671397,
          1.0602546523739969,
          1.100524862785641,
          1.1347948272754589,
          1.162722131686412,
          1.1840277356243658,
          1.198498760537468,
          1.2059906167282726,
          1.206428448046198,
          1.199807879825445,
          1.1861950625952056,
          1.1657260111254457,
          1.1386052454122817,
          1.1051037471817864,
          1.0655562523301563,
          1.020357906353285,
          0.9699603161835866,
          0.9148670378828082,
          0.8556285452763145,
          0.7928367298005884,
          0.7271189865196472,
          0.6591319454009575,
          0.5895549104858487,
          0.5190830725080828,
          0.4484205627778418,
          0.37827341773442885,
          0.3093425244635556,
          0.24231661766526033,
          0.17786539804445167,
          0.11663284088284126,
          0.05923076165079473,
          0.006232702949394867,
          -0.04183179613764399,
          -0.08448249102345405,
          -0.12129323006318245,
          -0.1518962125203566,
          -0.17598566351026518,
          -0.19332088920153118,
          -0.20372868174931089,
          -0.20710504993082593,
          -0.20341625819128553,
          -0.1926991637183987,
          -0.17506084817753798,
          -0.15067754778713593,
          -0.11979289242464596,
          -0.08271547135733986,
          -0.03981574992035695,
          0.008477632050467736,
          0.06168214304615052,
          0.11926618117989601,
          0.1806543857774247,
          0.24523338619063953,
          0.3123579303943921,
          0.38135733213142164,
          0.4515421721877422,
          0.5222111868415352,
          0.5926582746584493,
          0.6621795516237301,
          0.7300803841186183,
          0.7956823294698565,
          0.8583299147246161,
          0.9173971859195681,
          0.9722939624059781,
          1.0224717337396545,
          1.0674291402159977,
          1.1067169822904388,
          1.1399427088318044,
          1.166774339363457,
          1.186943781102483,
          1.2002495076541568,
          1.206558572597063,
          1.205807937839791,
          1.198005103476709,
          1.1832280328494986,
          1.1616243735632168,
          1.133409982240232,
          1.098866767752205,
          1.058339874479833,
          1.0122342337442822,
          0.9610105178672846,
          0.9051805372855728,
          0.8453021267101829,
          0.7819735714264124,
          0.7158276294250199,
          0.6475252090935415,
          0.5777487656381497,
          0.5071954822168278,
          0.4365703039157055,
          0.3665788941707876,
          0.29792058401216115,
          0.2312813845795104,
          0.16732713272557778,
          0.1066968381944216,
          0.049996298847286624,
          -0.0022079522693771022,
          -0.04939430753484385,
          -0.09109129648503461,
          -0.12688229658955194,
          -0.1564096960062833,
          -0.1793784667207172,
          -0.19555911236834145,
          -0.2047899612864547,
          -0.20697878188398056,
          -0.20210370418903634,
          -0.19021343836646354,
          -0.1714267880219616,
          -0.1459314631557325,
          -0.11398220462620537,
          -0.07589823886358651,
          -0.03206008826489067
         ]
        }
       ],
       "frames": [],
       "layout": {
        "height": 600,
        "margin": {
         "b": 50,
         "l": 50,
         "r": 50,
         "t": 60
        },
        "template": {
         "data": {
          "bar": [
           {
            "error_x": {
             "color": "#2a3f5f"
            },
            "error_y": {
             "color": "#2a3f5f"
            },
            "marker": {
             "line": {
              "color": "#E5ECF6",
              "width": 0.5
             }
            },
            "type": "bar"
           }
          ],
          "barpolar": [
           {
            "marker": {
             "line": {
              "color": "#E5ECF6",
              "width": 0.5
             }
            },
            "type": "barpolar"
           }
          ],
          "carpet": [
           {
            "aaxis": {
             "endlinecolor": "#2a3f5f",
             "gridcolor": "white",
             "linecolor": "white",
             "minorgridcolor": "white",
             "startlinecolor": "#2a3f5f"
            },
            "baxis": {
             "endlinecolor": "#2a3f5f",
             "gridcolor": "white",
             "linecolor": "white",
             "minorgridcolor": "white",
             "startlinecolor": "#2a3f5f"
            },
            "type": "carpet"
           }
          ],
          "choropleth": [
           {
            "colorbar": {
             "outlinewidth": 0,
             "ticks": ""
            },
            "type": "choropleth"
           }
          ],
          "contour": [
           {
            "colorbar": {
             "outlinewidth": 0,
             "ticks": ""
            },
            "colorscale": [
             [
              0,
              "#0d0887"
             ],
             [
              0.1111111111111111,
              "#46039f"
             ],
             [
              0.2222222222222222,
              "#7201a8"
             ],
             [
              0.3333333333333333,
              "#9c179e"
             ],
             [
              0.4444444444444444,
              "#bd3786"
             ],
             [
              0.5555555555555556,
              "#d8576b"
             ],
             [
              0.6666666666666666,
              "#ed7953"
             ],
             [
              0.7777777777777778,
              "#fb9f3a"
             ],
             [
              0.8888888888888888,
              "#fdca26"
             ],
             [
              1,
              "#f0f921"
             ]
            ],
            "type": "contour"
           }
          ],
          "contourcarpet": [
           {
            "colorbar": {
             "outlinewidth": 0,
             "ticks": ""
            },
            "type": "contourcarpet"
           }
          ],
          "heatmap": [
           {
            "colorbar": {
             "outlinewidth": 0,
             "ticks": ""
            },
            "colorscale": [
             [
              0,
              "#0d0887"
             ],
             [
              0.1111111111111111,
              "#46039f"
             ],
             [
              0.2222222222222222,
              "#7201a8"
             ],
             [
              0.3333333333333333,
              "#9c179e"
             ],
             [
              0.4444444444444444,
              "#bd3786"
             ],
             [
              0.5555555555555556,
              "#d8576b"
             ],
             [
              0.6666666666666666,
              "#ed7953"
             ],
             [
              0.7777777777777778,
              "#fb9f3a"
             ],
             [
              0.8888888888888888,
              "#fdca26"
             ],
             [
              1,
              "#f0f921"
             ]
            ],
            "type": "heatmap"
           }
          ],
          "heatmapgl": [
           {
            "colorbar": {
             "outlinewidth": 0,
             "ticks": ""
            },
            "colorscale": [
             [
              0,
              "#0d0887"
             ],
             [
              0.1111111111111111,
              "#46039f"
             ],
             [
              0.2222222222222222,
              "#7201a8"
             ],
             [
              0.3333333333333333,
              "#9c179e"
             ],
             [
              0.4444444444444444,
              "#bd3786"
             ],
             [
              0.5555555555555556,
              "#d8576b"
             ],
             [
              0.6666666666666666,
              "#ed7953"
             ],
             [
              0.7777777777777778,
              "#fb9f3a"
             ],
             [
              0.8888888888888888,
              "#fdca26"
             ],
             [
              1,
              "#f0f921"
             ]
            ],
            "type": "heatmapgl"
           }
          ],
          "histogram": [
           {
            "marker": {
             "colorbar": {
              "outlinewidth": 0,
              "ticks": ""
             }
            },
            "type": "histogram"
           }
          ],
          "histogram2d": [
           {
            "colorbar": {
             "outlinewidth": 0,
             "ticks": ""
            },
            "colorscale": [
             [
              0,
              "#0d0887"
             ],
             [
              0.1111111111111111,
              "#46039f"
             ],
             [
              0.2222222222222222,
              "#7201a8"
             ],
             [
              0.3333333333333333,
              "#9c179e"
             ],
             [
              0.4444444444444444,
              "#bd3786"
             ],
             [
              0.5555555555555556,
              "#d8576b"
             ],
             [
              0.6666666666666666,
              "#ed7953"
             ],
             [
              0.7777777777777778,
              "#fb9f3a"
             ],
             [
              0.8888888888888888,
              "#fdca26"
             ],
             [
              1,
              "#f0f921"
             ]
            ],
            "type": "histogram2d"
           }
          ],
          "histogram2dcontour": [
           {
            "colorbar": {
             "outlinewidth": 0,
             "ticks": ""
            },
            "colorscale": [
             [
              0,
              "#0d0887"
             ],
             [
              0.1111111111111111,
              "#46039f"
             ],
             [
              0.2222222222222222,
              "#7201a8"
             ],
             [
              0.3333333333333333,
              "#9c179e"
             ],
             [
              0.4444444444444444,
              "#bd3786"
             ],
             [
              0.5555555555555556,
              "#d8576b"
             ],
             [
              0.6666666666666666,
              "#ed7953"
             ],
             [
              0.7777777777777778,
              "#fb9f3a"
             ],
             [
              0.8888888888888888,
              "#fdca26"
             ],
             [
              1,
              "#f0f921"
             ]
            ],
            "type": "histogram2dcontour"
           }
          ],
          "mesh3d": [
           {
            "colorbar": {
             "outlinewidth": 0,
             "ticks": ""
            },
            "type": "mesh3d"
           }
          ],
          "parcoords": [
           {
            "line": {
             "colorbar": {
              "outlinewidth": 0,
              "ticks": ""
             }
            },
            "type": "parcoords"
           }
          ],
          "pie": [
           {
            "automargin": true,
            "type": "pie"
           }
          ],
          "scatter": [
           {
            "marker": {
             "colorbar": {
              "outlinewidth": 0,
              "ticks": ""
             }
            },
            "type": "scatter"
           }
          ],
          "scatter3d": [
           {
            "line": {
             "colorbar": {
              "outlinewidth": 0,
              "ticks": ""
             }
            },
            "marker": {
             "colorbar": {
              "outlinewidth": 0,
              "ticks": ""
             }
            },
            "type": "scatter3d"
           }
          ],
          "scattercarpet": [
           {
            "marker": {
             "colorbar": {
              "outlinewidth": 0,
              "ticks": ""
             }
            },
            "type": "scattercarpet"
           }
          ],
          "scattergeo": [
           {
            "marker": {
             "colorbar": {
              "outlinewidth": 0,
              "ticks": ""
             }
            },
            "type": "scattergeo"
           }
          ],
          "scattergl": [
           {
            "marker": {
             "colorbar": {
              "outlinewidth": 0,
              "ticks": ""
             }
            },
            "type": "scattergl"
           }
          ],
          "scattermapbox": [
           {
            "marker": {
             "colorbar": {
              "outlinewidth": 0,
              "ticks": ""
             }
            },
            "type": "scattermapbox"
           }
          ],
          "scatterpolar": [
           {
            "marker": {
             "colorbar": {
              "outlinewidth": 0,
              "ticks": ""
             }
            },
            "type": "scatterpolar"
           }
          ],
          "scatterpolargl": [
           {
            "marker": {
             "colorbar": {
              "outlinewidth": 0,
              "ticks": ""
             }
            },
            "type": "scatterpolargl"
           }
          ],
          "scatterternary": [
           {
            "marker": {
             "colorbar": {
              "outlinewidth": 0,
              "ticks": ""
             }
            },
            "type": "scatterternary"
           }
          ],
          "surface": [
           {
            "colorbar": {
             "outlinewidth": 0,
             "ticks": ""
            },
            "colorscale": [
             [
              0,
              "#0d0887"
             ],
             [
              0.1111111111111111,
              "#46039f"
             ],
             [
              0.2222222222222222,
              "#7201a8"
             ],
             [
              0.3333333333333333,
              "#9c179e"
             ],
             [
              0.4444444444444444,
              "#bd3786"
             ],
             [
              0.5555555555555556,
              "#d8576b"
             ],
             [
              0.6666666666666666,
              "#ed7953"
             ],
             [
              0.7777777777777778,
              "#fb9f3a"
             ],
             [
              0.8888888888888888,
              "#fdca26"
             ],
             [
              1,
              "#f0f921"
             ]
            ],
            "type": "surface"
           }
          ],
          "table": [
           {
            "cells": {
             "fill": {
              "color": "#EBF0F8"
             },
             "line": {
              "color": "white"
             }
            },
            "header": {
             "fill": {
              "color": "#C8D4E3"
             },
             "line": {
              "color": "white"
             }
            },
            "type": "table"
           }
          ]
         },
         "layout": {
          "annotationdefaults": {
           "arrowcolor": "#2a3f5f",
           "arrowhead": 0,
           "arrowwidth": 1
          },
          "autotypenumbers": "strict",
          "coloraxis": {
           "colorbar": {
            "outlinewidth": 0,
            "ticks": ""
           }
          },
          "colorscale": {
           "diverging": [
            [
             0,
             "#8e0152"
            ],
            [
             0.1,
             "#c51b7d"
            ],
            [
             0.2,
             "#de77ae"
            ],
            [
             0.3,
             "#f1b6da"
            ],
            [
             0.4,
             "#fde0ef"
            ],
            [
             0.5,
             "#f7f7f7"
            ],
            [
             0.6,
             "#e6f5d0"
            ],
            [
             0.7,
             "#b8e186"
            ],
            [
             0.8,
             "#7fbc41"
            ],
            [
             0.9,
             "#4d9221"
            ],
            [
             1,
             "#276419"
            ]
           ],
           "sequential": [
            [
             0,
             "#0d0887"
            ],
            [
             0.1111111111111111,
             "#46039f"
            ],
            [
             0.2222222222222222,
             "#7201a8"
            ],
            [
             0.3333333333333333,
             "#9c179e"
            ],
            [
             0.4444444444444444,
             "#bd3786"
            ],
            [
             0.5555555555555556,
             "#d8576b"
            ],
            [
             0.6666666666666666,
             "#ed7953"
            ],
            [
             0.7777777777777778,
             "#fb9f3a"
            ],
            [
             0.8888888888888888,
             "#fdca26"
            ],
            [
             1,
             "#f0f921"
            ]
           ],
           "sequentialminus": [
            [
             0,
             "#0d0887"
            ],
            [
             0.1111111111111111,
             "#46039f"
            ],
            [
             0.2222222222222222,
             "#7201a8"
            ],
            [
             0.3333333333333333,
             "#9c179e"
            ],
            [
             0.4444444444444444,
             "#bd3786"
            ],
            [
             0.5555555555555556,
             "#d8576b"
            ],
            [
             0.6666666666666666,
             "#ed7953"
            ],
            [
             0.7777777777777778,
             "#fb9f3a"
            ],
            [
             0.8888888888888888,
             "#fdca26"
            ],
            [
             1,
             "#f0f921"
            ]
           ]
          },
          "colorway": [
           "#636efa",
           "#EF553B",
           "#00cc96",
           "#ab63fa",
           "#FFA15A",
           "#19d3f3",
           "#FF6692",
           "#B6E880",
           "#FF97FF",
           "#FECB52"
          ],
          "font": {
           "color": "#2a3f5f"
          },
          "geo": {
           "bgcolor": "white",
           "lakecolor": "white",
           "landcolor": "#E5ECF6",
           "showlakes": true,
           "showland": true,
           "subunitcolor": "white"
          },
          "hoverlabel": {
           "align": "left"
          },
          "hovermode": "closest",
          "mapbox": {
           "style": "light"
          },
          "paper_bgcolor": "white",
          "plot_bgcolor": "#E5ECF6",
          "polar": {
           "angularaxis": {
            "gridcolor": "white",
            "linecolor": "white",
            "ticks": ""
           },
           "bgcolor": "#E5ECF6",
           "radialaxis": {
            "gridcolor": "white",
            "linecolor": "white",
            "ticks": ""
           }
          },
          "scene": {
           "xaxis": {
            "backgroundcolor": "#E5ECF6",
            "gridcolor": "white",
            "gridwidth": 2,
            "linecolor": "white",
            "showbackground": true,
            "ticks": "",
            "zerolinecolor": "white"
           },
           "yaxis": {
            "backgroundcolor": "#E5ECF6",
            "gridcolor": "white",
            "gridwidth": 2,
            "linecolor": "white",
            "showbackground": true,
            "ticks": "",
            "zerolinecolor": "white"
           },
           "zaxis": {
            "backgroundcolor": "#E5ECF6",
            "gridcolor": "white",
            "gridwidth": 2,
            "linecolor": "white",
            "showbackground": true,
            "ticks": "",
            "zerolinecolor": "white"
           }
          },
          "shapedefaults": {
           "line": {
            "color": "#2a3f5f"
           }
          },
          "ternary": {
           "aaxis": {
            "gridcolor": "white",
            "linecolor": "white",
            "ticks": ""
           },
           "baxis": {
            "gridcolor": "white",
            "linecolor": "white",
            "ticks": ""
           },
           "bgcolor": "#E5ECF6",
           "caxis": {
            "gridcolor": "white",
            "linecolor": "white",
            "ticks": ""
           }
          },
          "title": {
           "x": 0.05
          },
          "xaxis": {
           "automargin": true,
           "gridcolor": "white",
           "linecolor": "white",
           "ticks": "",
           "title": {
            "standoff": 15
           },
           "zerolinecolor": "white",
           "zerolinewidth": 2
          },
          "yaxis": {
           "automargin": true,
           "gridcolor": "white",
           "linecolor": "white",
           "ticks": "",
           "title": {
            "standoff": 15
           },
           "zerolinecolor": "white",
           "zerolinewidth": 2
          }
         }
        },
        "width": 600,
        "xaxis": {
         "range": [
          -2,
          2
         ],
         "type": "linear"
        },
        "yaxis": {
         "range": [
          -2,
          2
         ],
         "type": "linear"
        }
       }
      },
      "image/png": "[encoded data removed]",
      "text/html": [
       "<div\n",
       "    class=\"webio-mountpoint\"\n",
       "    data-webio-mountpoint=\"14425934002716971883\"\n",
       ">\n",
       "    <script>\n",
       "    (function(){\n",
       "    // Some integrations (namely, IJulia/Jupyter) use an alternate render pathway than\n",
       "    // just putting the html on the page. If WebIO isn't defined, then it's pretty likely\n",
       "    // that we're in one of those situations and the integration just isn't installed\n",
       "    // correctly.\n",
       "    if (typeof window.WebIO === \"undefined\") {\n",
       "        document\n",
       "            .querySelector('[data-webio-mountpoint=\"14425934002716971883\"]')\n",
       "            .innerHTML = (\n",
       "                '<div style=\"padding: 1em; background-color: #f8d6da; border: 1px solid #f5c6cb; font-weight: bold;\">' +\n",
       "                '<p><strong>WebIO not detected.</strong></p>' +\n",
       "                '<p>Please read ' +\n",
       "                '<a href=\"https://juliagizmos.github.io/WebIO.jl/latest/troubleshooting/not-detected/\" target=\"_blank\">the troubleshooting guide</a> ' +\n",
       "                'for more information on how to resolve this issue.</p>' +\n",
       "                '<p><a href=\"https://juliagizmos.github.io/WebIO.jl/latest/troubleshooting/not-detected/\" target=\"_blank\">https://juliagizmos.github.io/WebIO.jl/latest/troubleshooting/not-detected/</a></p>' +\n",
       "                '</div>'\n",
       "            );\n",
       "        return;\n",
       "    }\n",
       "    WebIO.mount(\n",
       "        document.querySelector('[data-webio-mountpoint=\"14425934002716971883\"]'),\n",
       "        {\"props\":{},\"nodeType\":\"Scope\",\"type\":\"node\",\"instanceArgs\":{\"imports\":{\"data\":[{\"name\":\"Plotly\",\"type\":\"js\",\"url\":\"\\/assetserver\\/d66a736669047bda0b2d00471bd5207a90cf3193-plotly.min.js\"},{\"name\":null,\"type\":\"js\",\"url\":\"\\/assetserver\\/aee3160e397a4905b07437c5af565305d1ef6def-plotly_webio.bundle.js\"}],\"type\":\"async_block\"},\"id\":\"150298253462712354\",\"handlers\":{\"_toImage\":[\"(function (options){return this.Plotly.toImage(this.plotElem,options).then((function (data){return WebIO.setval({\\\"name\\\":\\\"image\\\",\\\"scope\\\":\\\"150298253462712354\\\",\\\"id\\\":\\\"2279888254733460387\\\",\\\"type\\\":\\\"observable\\\"},data)}))})\"],\"__get_gd_contents\":[\"(function (prop){prop==\\\"data\\\" ? (WebIO.setval({\\\"name\\\":\\\"__gd_contents\\\",\\\"scope\\\":\\\"150298253462712354\\\",\\\"id\\\":\\\"6389467468318471825\\\",\\\"type\\\":\\\"observable\\\"},this.plotElem.data)) : undefined; return prop==\\\"layout\\\" ? (WebIO.setval({\\\"name\\\":\\\"__gd_contents\\\",\\\"scope\\\":\\\"150298253462712354\\\",\\\"id\\\":\\\"6389467468318471825\\\",\\\"type\\\":\\\"observable\\\"},this.plotElem.layout)) : undefined})\"],\"_downloadImage\":[\"(function (options){return this.Plotly.downloadImage(this.plotElem,options)})\"],\"_commands\":[\"(function (args){var fn=args.shift(); var elem=this.plotElem; var Plotly=this.Plotly; args.unshift(elem); return Plotly[fn].apply(this,args)})\"]},\"systemjs_options\":null,\"mount_callbacks\":[\"function () {\\n    var handler = ((function (Plotly,PlotlyWebIO){PlotlyWebIO.init(WebIO); var gd=this.dom.querySelector(\\\"#plot-2ffcef60-4ba7-4bd8-a184-cd4dd8f75549\\\"); this.plotElem=gd; this.Plotly=Plotly; (window.Blink!==undefined) ? (gd.style.width=\\\"100%\\\", gd.style.height=\\\"100vh\\\", gd.style.marginLeft=\\\"0%\\\", gd.style.marginTop=\\\"0vh\\\") : undefined; window.onresize=(function (){return Plotly.Plots.resize(gd)}); Plotly.newPlot(gd,[{\\\"y\\\":[1,1,1],\\\"type\\\":\\\"scatter\\\",\\\"x\\\":[1,1,1]},{\\\"y\\\":[0.0,0.0524146256844012,0.1093013764769098,0.17009185876786684,0.23417867415288268,0.30092148835691523,0.3696534292426786,0.4396877499766013,0.5103246907761787,0.5808584706784096,0.6505843394698784,0.7188056193179291,0.7848406657452766,0.8480296783963029,0.9077412935441098,0.9633788924681757,1.014386562671397,1.0602546523739969,1.100524862785641,1.1347948272754589,1.162722131686412,1.1840277356243658,1.198498760537468,1.2059906167282726,1.206428448046198,1.199807879825445,1.1861950625952056,1.1657260111254457,1.1386052454122817,1.1051037471817864,1.0655562523301563,1.020357906353285,0.9699603161835866,0.9148670378828082,0.8556285452763145,0.7928367298005884,0.7271189865196472,0.6591319454009575,0.5895549104858487,0.5190830725080828,0.4484205627778418,0.37827341773442885,0.3093425244635556,0.24231661766526033,0.17786539804445167,0.11663284088284126,0.05923076165079473,0.006232702949394867,-0.04183179613764399,-0.08448249102345405,-0.12129323006318245,-0.1518962125203566,-0.17598566351026518,-0.19332088920153118,-0.20372868174931089,-0.20710504993082593,-0.20341625819128553,-0.1926991637183987,-0.17506084817753798,-0.15067754778713593,-0.11979289242464596,-0.08271547135733986,-0.03981574992035695,0.008477632050467736,0.06168214304615052,0.11926618117989601,0.1806543857774247,0.24523338619063953,0.3123579303943921,0.38135733213142164,0.4515421721877422,0.5222111868415352,0.5926582746584493,0.6621795516237301,0.7300803841186183,0.7956823294698565,0.8583299147246161,0.9173971859195681,0.9722939624059781,1.0224717337396545,1.0674291402159977,1.1067169822904388,1.1399427088318044,1.166774339363457,1.186943781102483,1.2002495076541568,1.206558572597063,1.205807937839791,1.198005103476709,1.1832280328494986,1.1616243735632168,1.133409982240232,1.098866767752205,1.058339874479833,1.0122342337442822,0.9610105178672846,0.9051805372855728,0.8453021267101829,0.7819735714264124,0.7158276294250199,0.6475252090935415,0.5777487656381497,0.5071954822168278,0.4365703039157055,0.3665788941707876,0.29792058401216115,0.2312813845795104,0.16732713272557778,0.1066968381944216,0.049996298847286624,-0.0022079522693771022,-0.04939430753484385,-0.09109129648503461,-0.12688229658955194,-0.1564096960062833,-0.1793784667207172,-0.19555911236834145,-0.2047899612864547,-0.20697878188398056,-0.20210370418903634,-0.19021343836646354,-0.1714267880219616,-0.1459314631557325,-0.11398220462620537,-0.07589823886358651,-0.03206008826489067],\\\"type\\\":\\\"scatter\\\",\\\"name\\\":\\\"envelope\\\",\\\"x\\\":[1.0,1.047418790962427,1.0893679543181516,1.125428347893473,1.1552396681557677,1.178504050247288,1.1949890441523567,1.2045299372610896,1.2070314001233442,1.2024684389490738,1.1908866453380182,1.1724017407435063,1.1471984202219498,1.1155285070208905,1.0777084364443505,1.0341160941358787,0.9851870403701082,0.931410158078472,0.8733227680925539,0.8115052604119555,0.7465752951392698,0.6791816310245081,0.6099976432821221,0.5397145954484479,0.4690347325049524,0.39866426427851137,0.3293063092262584,0.2616538691083843,0.19638290474362324,0.1341455820321957,0.07556375572971089,0.02122275608000551,-0.028334459611166585,-0.07261273202605674,-0.11116964730314628,-0.14361995749020812,-0.16963942981449973,-0.18896808630945078,-0.2014128014285679,-0.20684923169205696,-0.2052230580857701,-0.19655052879883966,-0.18091829687714378,-0.15848255441471523,-0.12946747193396774,-0.09416295854793834,-0.05292176528425925,-0.006155960513495752,0.04566718730180339,0.10202987839912159,0.162368955400044,0.22608153019262453,0.29253100779011204,0.3610534469776304,0.4309641941933237,0.5015647243604341,0.5721496203189647,0.6420136211207612,0.7104586687637814,0.7768008829569,0.8403773942257202,0.9005529670852449,0.9567263471028605,1.0083362684338828,1.0548670618043434,1.0958538069079196,1.130886977735954,1.159616534425959,1.1817554207442167,1.1970824322567786,1.2054444265310469,1.2067578532843413,1.201009589190704,1.1882570690048349,1.1686277116930086,1.1423176473048824,1.109589757306871,1.0707710479574326,1.0262493829686268,0.9764696081001175,0.9219291064073842,0.8631728285546476,0.8007878478479682,0.7353974943928362,0.6676551269857974,0.5982376049693333,0.5278385252770504,0.4571612922423911,0.38691208941505284,0.31779282360838623,0.2504941116785398,0.18568838010912012,0.12402314634804099,0.06611454902722912,0.012541191709075644,-0.036161638329093894,-0.07950731850855404,-0.11706275312112693,-0.14845270067834085,-0.17336352320034112,-0.19154631998291116,-0.20281941453103305,-0.20707016981037135,-0.2042561136792879,-0.19440536325644125,-0.1776163439838313,-0.15405680619231768,-0.12396214899576613,-0.08763306826091315,-0.04543255215366403,0.002217745718673645,0.05484171933085484,0.11191356733371764,0.17286304668746297,0.23708117034160764,0.3039262920322886,0.37273051739963364,0.4428063773674225,0.5134536971068583,0.5839665919520031,0.6536405203660286,0.7217793234873616,0.7877021809189054,0.8507504132604045,0.9102940634152771,0.96573819091369]}],{\\\"xaxis\\\":{\\\"range\\\":[-2,2]},\\\"template\\\":{\\\"layout\\\":{\\\"coloraxis\\\":{\\\"colorbar\\\":{\\\"ticks\\\":\\\"\\\",\\\"outlinewidth\\\":0}},\\\"xaxis\\\":{\\\"gridcolor\\\":\\\"white\\\",\\\"zerolinewidth\\\":2,\\\"title\\\":{\\\"standoff\\\":15},\\\"ticks\\\":\\\"\\\",\\\"zerolinecolor\\\":\\\"white\\\",\\\"automargin\\\":true,\\\"linecolor\\\":\\\"white\\\"},\\\"hovermode\\\":\\\"closest\\\",\\\"paper_bgcolor\\\":\\\"white\\\",\\\"geo\\\":{\\\"showlakes\\\":true,\\\"showland\\\":true,\\\"landcolor\\\":\\\"#E5ECF6\\\",\\\"bgcolor\\\":\\\"white\\\",\\\"subunitcolor\\\":\\\"white\\\",\\\"lakecolor\\\":\\\"white\\\"},\\\"colorscale\\\":{\\\"sequential\\\":[[0.0,\\\"#0d0887\\\"],[0.1111111111111111,\\\"#46039f\\\"],[0.2222222222222222,\\\"#7201a8\\\"],[0.3333333333333333,\\\"#9c179e\\\"],[0.4444444444444444,\\\"#bd3786\\\"],[0.5555555555555556,\\\"#d8576b\\\"],[0.6666666666666666,\\\"#ed7953\\\"],[0.7777777777777778,\\\"#fb9f3a\\\"],[0.8888888888888888,\\\"#fdca26\\\"],[1.0,\\\"#f0f921\\\"]],\\\"diverging\\\":[[0,\\\"#8e0152\\\"],[0.1,\\\"#c51b7d\\\"],[0.2,\\\"#de77ae\\\"],[0.3,\\\"#f1b6da\\\"],[0.4,\\\"#fde0ef\\\"],[0.5,\\\"#f7f7f7\\\"],[0.6,\\\"#e6f5d0\\\"],[0.7,\\\"#b8e186\\\"],[0.8,\\\"#7fbc41\\\"],[0.9,\\\"#4d9221\\\"],[1,\\\"#276419\\\"]],\\\"sequentialminus\\\":[[0.0,\\\"#0d0887\\\"],[0.1111111111111111,\\\"#46039f\\\"],[0.2222222222222222,\\\"#7201a8\\\"],[0.3333333333333333,\\\"#9c179e\\\"],[0.4444444444444444,\\\"#bd3786\\\"],[0.5555555555555556,\\\"#d8576b\\\"],[0.6666666666666666,\\\"#ed7953\\\"],[0.7777777777777778,\\\"#fb9f3a\\\"],[0.8888888888888888,\\\"#fdca26\\\"],[1.0,\\\"#f0f921\\\"]]},\\\"yaxis\\\":{\\\"gridcolor\\\":\\\"white\\\",\\\"zerolinewidth\\\":2,\\\"title\\\":{\\\"standoff\\\":15},\\\"ticks\\\":\\\"\\\",\\\"zerolinecolor\\\":\\\"white\\\",\\\"automargin\\\":true,\\\"linecolor\\\":\\\"white\\\"},\\\"shapedefaults\\\":{\\\"line\\\":{\\\"color\\\":\\\"#2a3f5f\\\"}},\\\"hoverlabel\\\":{\\\"align\\\":\\\"left\\\"},\\\"mapbox\\\":{\\\"style\\\":\\\"light\\\"},\\\"polar\\\":{\\\"angularaxis\\\":{\\\"gridcolor\\\":\\\"white\\\",\\\"ticks\\\":\\\"\\\",\\\"linecolor\\\":\\\"white\\\"},\\\"bgcolor\\\":\\\"#E5ECF6\\\",\\\"radialaxis\\\":{\\\"gridcolor\\\":\\\"white\\\",\\\"ticks\\\":\\\"\\\",\\\"linecolor\\\":\\\"white\\\"}},\\\"autotypenumbers\\\":\\\"strict\\\",\\\"font\\\":{\\\"color\\\":\\\"#2a3f5f\\\"},\\\"ternary\\\":{\\\"baxis\\\":{\\\"gridcolor\\\":\\\"white\\\",\\\"ticks\\\":\\\"\\\",\\\"linecolor\\\":\\\"white\\\"},\\\"bgcolor\\\":\\\"#E5ECF6\\\",\\\"caxis\\\":{\\\"gridcolor\\\":\\\"white\\\",\\\"ticks\\\":\\\"\\\",\\\"linecolor\\\":\\\"white\\\"},\\\"aaxis\\\":{\\\"gridcolor\\\":\\\"white\\\",\\\"ticks\\\":\\\"\\\",\\\"linecolor\\\":\\\"white\\\"}},\\\"annotationdefaults\\\":{\\\"arrowhead\\\":0,\\\"arrowwidth\\\":1,\\\"arrowcolor\\\":\\\"#2a3f5f\\\"},\\\"plot_bgcolor\\\":\\\"#E5ECF6\\\",\\\"title\\\":{\\\"x\\\":0.05},\\\"scene\\\":{\\\"xaxis\\\":{\\\"gridcolor\\\":\\\"white\\\",\\\"gridwidth\\\":2,\\\"backgroundcolor\\\":\\\"#E5ECF6\\\",\\\"ticks\\\":\\\"\\\",\\\"showbackground\\\":true,\\\"zerolinecolor\\\":\\\"white\\\",\\\"linecolor\\\":\\\"white\\\"},\\\"zaxis\\\":{\\\"gridcolor\\\":\\\"white\\\",\\\"gridwidth\\\":2,\\\"backgroundcolor\\\":\\\"#E5ECF6\\\",\\\"ticks\\\":\\\"\\\",\\\"showbackground\\\":true,\\\"zerolinecolor\\\":\\\"white\\\",\\\"linecolor\\\":\\\"white\\\"},\\\"yaxis\\\":{\\\"gridcolor\\\":\\\"white\\\",\\\"gridwidth\\\":2,\\\"backgroundcolor\\\":\\\"#E5ECF6\\\",\\\"ticks\\\":\\\"\\\",\\\"showbackground\\\":true,\\\"zerolinecolor\\\":\\\"white\\\",\\\"linecolor\\\":\\\"white\\\"}},\\\"colorway\\\":[\\\"#636efa\\\",\\\"#EF553B\\\",\\\"#00cc96\\\",\\\"#ab63fa\\\",\\\"#FFA15A\\\",\\\"#19d3f3\\\",\\\"#FF6692\\\",\\\"#B6E880\\\",\\\"#FF97FF\\\",\\\"#FECB52\\\"]},\\\"data\\\":{\\\"barpolar\\\":[{\\\"type\\\":\\\"barpolar\\\",\\\"marker\\\":{\\\"line\\\":{\\\"color\\\":\\\"#E5ECF6\\\",\\\"width\\\":0.5}}}],\\\"carpet\\\":[{\\\"aaxis\\\":{\\\"gridcolor\\\":\\\"white\\\",\\\"endlinecolor\\\":\\\"#2a3f5f\\\",\\\"minorgridcolor\\\":\\\"white\\\",\\\"startlinecolor\\\":\\\"#2a3f5f\\\",\\\"linecolor\\\":\\\"white\\\"},\\\"type\\\":\\\"carpet\\\",\\\"baxis\\\":{\\\"gridcolor\\\":\\\"white\\\",\\\"endlinecolor\\\":\\\"#2a3f5f\\\",\\\"minorgridcolor\\\":\\\"white\\\",\\\"startlinecolor\\\":\\\"#2a3f5f\\\",\\\"linecolor\\\":\\\"white\\\"}}],\\\"scatterpolar\\\":[{\\\"type\\\":\\\"scatterpolar\\\",\\\"marker\\\":{\\\"colorbar\\\":{\\\"ticks\\\":\\\"\\\",\\\"outlinewidth\\\":0}}}],\\\"parcoords\\\":[{\\\"line\\\":{\\\"colorbar\\\":{\\\"ticks\\\":\\\"\\\",\\\"outlinewidth\\\":0}},\\\"type\\\":\\\"parcoords\\\"}],\\\"scatter\\\":[{\\\"type\\\":\\\"scatter\\\",\\\"marker\\\":{\\\"colorbar\\\":{\\\"ticks\\\":\\\"\\\",\\\"outlinewidth\\\":0}}}],\\\"histogram2dcontour\\\":[{\\\"colorbar\\\":{\\\"ticks\\\":\\\"\\\",\\\"outlinewidth\\\":0},\\\"type\\\":\\\"histogram2dcontour\\\",\\\"colorscale\\\":[[0.0,\\\"#0d0887\\\"],[0.1111111111111111,\\\"#46039f\\\"],[0.2222222222222222,\\\"#7201a8\\\"],[0.3333333333333333,\\\"#9c179e\\\"],[0.4444444444444444,\\\"#bd3786\\\"],[0.5555555555555556,\\\"#d8576b\\\"],[0.6666666666666666,\\\"#ed7953\\\"],[0.7777777777777778,\\\"#fb9f3a\\\"],[0.8888888888888888,\\\"#fdca26\\\"],[1.0,\\\"#f0f921\\\"]]}],\\\"contour\\\":[{\\\"colorbar\\\":{\\\"ticks\\\":\\\"\\\",\\\"outlinewidth\\\":0},\\\"type\\\":\\\"contour\\\",\\\"colorscale\\\":[[0.0,\\\"#0d0887\\\"],[0.1111111111111111,\\\"#46039f\\\"],[0.2222222222222222,\\\"#7201a8\\\"],[0.3333333333333333,\\\"#9c179e\\\"],[0.4444444444444444,\\\"#bd3786\\\"],[0.5555555555555556,\\\"#d8576b\\\"],[0.6666666666666666,\\\"#ed7953\\\"],[0.7777777777777778,\\\"#fb9f3a\\\"],[0.8888888888888888,\\\"#fdca26\\\"],[1.0,\\\"#f0f921\\\"]]}],\\\"scattercarpet\\\":[{\\\"type\\\":\\\"scattercarpet\\\",\\\"marker\\\":{\\\"colorbar\\\":{\\\"ticks\\\":\\\"\\\",\\\"outlinewidth\\\":0}}}],\\\"mesh3d\\\":[{\\\"colorbar\\\":{\\\"ticks\\\":\\\"\\\",\\\"outlinewidth\\\":0},\\\"type\\\":\\\"mesh3d\\\"}],\\\"surface\\\":[{\\\"colorbar\\\":{\\\"ticks\\\":\\\"\\\",\\\"outlinewidth\\\":0},\\\"type\\\":\\\"surface\\\",\\\"colorscale\\\":[[0.0,\\\"#0d0887\\\"],[0.1111111111111111,\\\"#46039f\\\"],[0.2222222222222222,\\\"#7201a8\\\"],[0.3333333333333333,\\\"#9c179e\\\"],[0.4444444444444444,\\\"#bd3786\\\"],[0.5555555555555556,\\\"#d8576b\\\"],[0.6666666666666666,\\\"#ed7953\\\"],[0.7777777777777778,\\\"#fb9f3a\\\"],[0.8888888888888888,\\\"#fdca26\\\"],[1.0,\\\"#f0f921\\\"]]}],\\\"scattermapbox\\\":[{\\\"type\\\":\\\"scattermapbox\\\",\\\"marker\\\":{\\\"colorbar\\\":{\\\"ticks\\\":\\\"\\\",\\\"outlinewidth\\\":0}}}],\\\"scattergeo\\\":[{\\\"type\\\":\\\"scattergeo\\\",\\\"marker\\\":{\\\"colorbar\\\":{\\\"ticks\\\":\\\"\\\",\\\"outlinewidth\\\":0}}}],\\\"histogram\\\":[{\\\"type\\\":\\\"histogram\\\",\\\"marker\\\":{\\\"colorbar\\\":{\\\"ticks\\\":\\\"\\\",\\\"outlinewidth\\\":0}}}],\\\"pie\\\":[{\\\"type\\\":\\\"pie\\\",\\\"automargin\\\":true}],\\\"choropleth\\\":[{\\\"colorbar\\\":{\\\"ticks\\\":\\\"\\\",\\\"outlinewidth\\\":0},\\\"type\\\":\\\"choropleth\\\"}],\\\"heatmapgl\\\":[{\\\"colorbar\\\":{\\\"ticks\\\":\\\"\\\",\\\"outlinewidth\\\":0},\\\"type\\\":\\\"heatmapgl\\\",\\\"colorscale\\\":[[0.0,\\\"#0d0887\\\"],[0.1111111111111111,\\\"#46039f\\\"],[0.2222222222222222,\\\"#7201a8\\\"],[0.3333333333333333,\\\"#9c179e\\\"],[0.4444444444444444,\\\"#bd3786\\\"],[0.5555555555555556,\\\"#d8576b\\\"],[0.6666666666666666,\\\"#ed7953\\\"],[0.7777777777777778,\\\"#fb9f3a\\\"],[0.8888888888888888,\\\"#fdca26\\\"],[1.0,\\\"#f0f921\\\"]]}],\\\"bar\\\":[{\\\"type\\\":\\\"bar\\\",\\\"error_y\\\":{\\\"color\\\":\\\"#2a3f5f\\\"},\\\"error_x\\\":{\\\"color\\\":\\\"#2a3f5f\\\"},\\\"marker\\\":{\\\"line\\\":{\\\"color\\\":\\\"#E5ECF6\\\",\\\"width\\\":0.5}}}],\\\"heatmap\\\":[{\\\"colorbar\\\":{\\\"ticks\\\":\\\"\\\",\\\"outlinewidth\\\":0},\\\"type\\\":\\\"heatmap\\\",\\\"colorscale\\\":[[0.0,\\\"#0d0887\\\"],[0.1111111111111111,\\\"#46039f\\\"],[0.2222222222222222,\\\"#7201a8\\\"],[0.3333333333333333,\\\"#9c179e\\\"],[0.4444444444444444,\\\"#bd3786\\\"],[0.5555555555555556,\\\"#d8576b\\\"],[0.6666666666666666,\\\"#ed7953\\\"],[0.7777777777777778,\\\"#fb9f3a\\\"],[0.8888888888888888,\\\"#fdca26\\\"],[1.0,\\\"#f0f921\\\"]]}],\\\"contourcarpet\\\":[{\\\"colorbar\\\":{\\\"ticks\\\":\\\"\\\",\\\"outlinewidth\\\":0},\\\"type\\\":\\\"contourcarpet\\\"}],\\\"table\\\":[{\\\"type\\\":\\\"table\\\",\\\"header\\\":{\\\"line\\\":{\\\"color\\\":\\\"white\\\"},\\\"fill\\\":{\\\"color\\\":\\\"#C8D4E3\\\"}},\\\"cells\\\":{\\\"line\\\":{\\\"color\\\":\\\"white\\\"},\\\"fill\\\":{\\\"color\\\":\\\"#EBF0F8\\\"}}}],\\\"scatter3d\\\":[{\\\"line\\\":{\\\"colorbar\\\":{\\\"ticks\\\":\\\"\\\",\\\"outlinewidth\\\":0}},\\\"type\\\":\\\"scatter3d\\\",\\\"marker\\\":{\\\"colorbar\\\":{\\\"ticks\\\":\\\"\\\",\\\"outlinewidth\\\":0}}}],\\\"scattergl\\\":[{\\\"type\\\":\\\"scattergl\\\",\\\"marker\\\":{\\\"colorbar\\\":{\\\"ticks\\\":\\\"\\\",\\\"outlinewidth\\\":0}}}],\\\"histogram2d\\\":[{\\\"colorbar\\\":{\\\"ticks\\\":\\\"\\\",\\\"outlinewidth\\\":0},\\\"type\\\":\\\"histogram2d\\\",\\\"colorscale\\\":[[0.0,\\\"#0d0887\\\"],[0.1111111111111111,\\\"#46039f\\\"],[0.2222222222222222,\\\"#7201a8\\\"],[0.3333333333333333,\\\"#9c179e\\\"],[0.4444444444444444,\\\"#bd3786\\\"],[0.5555555555555556,\\\"#d8576b\\\"],[0.6666666666666666,\\\"#ed7953\\\"],[0.7777777777777778,\\\"#fb9f3a\\\"],[0.8888888888888888,\\\"#fdca26\\\"],[1.0,\\\"#f0f921\\\"]]}],\\\"scatterternary\\\":[{\\\"type\\\":\\\"scatterternary\\\",\\\"marker\\\":{\\\"colorbar\\\":{\\\"ticks\\\":\\\"\\\",\\\"outlinewidth\\\":0}}}],\\\"scatterpolargl\\\":[{\\\"type\\\":\\\"scatterpolargl\\\",\\\"marker\\\":{\\\"colorbar\\\":{\\\"ticks\\\":\\\"\\\",\\\"outlinewidth\\\":0}}}]}},\\\"height\\\":600,\\\"margin\\\":{\\\"l\\\":50,\\\"b\\\":50,\\\"r\\\":50,\\\"t\\\":60},\\\"yaxis\\\":{\\\"range\\\":[-2,2]},\\\"width\\\":600},{\\\"showLink\\\":false,\\\"editable\\\":false,\\\"responsive\\\":true,\\\"staticPlot\\\":false,\\\"scrollZoom\\\":true}); gd.on(\\\"plotly_hover\\\",(function (data){var filtered_data=WebIO.PlotlyCommands.filterEventData(gd,data,\\\"hover\\\"); return !(filtered_data.isnil) ? (WebIO.setval({\\\"name\\\":\\\"hover\\\",\\\"scope\\\":\\\"150298253462712354\\\",\\\"id\\\":\\\"12870945028661259548\\\",\\\"type\\\":\\\"observable\\\"},filtered_data.out)) : undefined})); gd.on(\\\"plotly_unhover\\\",(function (){return WebIO.setval({\\\"name\\\":\\\"hover\\\",\\\"scope\\\":\\\"150298253462712354\\\",\\\"id\\\":\\\"12870945028661259548\\\",\\\"type\\\":\\\"observable\\\"},{})})); gd.on(\\\"plotly_selected\\\",(function (data){var filtered_data=WebIO.PlotlyCommands.filterEventData(gd,data,\\\"selected\\\"); return !(filtered_data.isnil) ? (WebIO.setval({\\\"name\\\":\\\"selected\\\",\\\"scope\\\":\\\"150298253462712354\\\",\\\"id\\\":\\\"7942042337740405073\\\",\\\"type\\\":\\\"observable\\\"},filtered_data.out)) : undefined})); gd.on(\\\"plotly_deselect\\\",(function (){return WebIO.setval({\\\"name\\\":\\\"selected\\\",\\\"scope\\\":\\\"150298253462712354\\\",\\\"id\\\":\\\"7942042337740405073\\\",\\\"type\\\":\\\"observable\\\"},{})})); gd.on(\\\"plotly_relayout\\\",(function (data){var filtered_data=WebIO.PlotlyCommands.filterEventData(gd,data,\\\"relayout\\\"); return !(filtered_data.isnil) ? (WebIO.setval({\\\"name\\\":\\\"relayout\\\",\\\"scope\\\":\\\"150298253462712354\\\",\\\"id\\\":\\\"408628804664759095\\\",\\\"type\\\":\\\"observable\\\"},filtered_data.out)) : undefined})); return gd.on(\\\"plotly_click\\\",(function (data){var filtered_data=WebIO.PlotlyCommands.filterEventData(gd,data,\\\"click\\\"); return !(filtered_data.isnil) ? (WebIO.setval({\\\"name\\\":\\\"click\\\",\\\"scope\\\":\\\"150298253462712354\\\",\\\"id\\\":\\\"9954243254964370610\\\",\\\"type\\\":\\\"observable\\\"},filtered_data.out)) : undefined}))}));\\n    (WebIO.importBlock({\\\"data\\\":[{\\\"name\\\":\\\"Plotly\\\",\\\"type\\\":\\\"js\\\",\\\"url\\\":\\\"\\/assetserver\\/d66a736669047bda0b2d00471bd5207a90cf3193-plotly.min.js\\\"},{\\\"name\\\":null,\\\"type\\\":\\\"js\\\",\\\"url\\\":\\\"\\/assetserver\\/aee3160e397a4905b07437c5af565305d1ef6def-plotly_webio.bundle.js\\\"}],\\\"type\\\":\\\"async_block\\\"})).then((imports) => handler.apply(this, imports));\\n}\\n\"],\"observables\":{\"_toImage\":{\"sync\":false,\"id\":\"5109898862299407645\",\"value\":{}},\"hover\":{\"sync\":false,\"id\":\"12870945028661259548\",\"value\":{}},\"selected\":{\"sync\":false,\"id\":\"7942042337740405073\",\"value\":{}},\"__gd_contents\":{\"sync\":false,\"id\":\"6389467468318471825\",\"value\":{}},\"click\":{\"sync\":false,\"id\":\"9954243254964370610\",\"value\":{}},\"image\":{\"sync\":true,\"id\":\"2279888254733460387\",\"value\":\"\"},\"__get_gd_contents\":{\"sync\":false,\"id\":\"2800880655703002783\",\"value\":\"\"},\"_downloadImage\":{\"sync\":false,\"id\":\"5106616944643017431\",\"value\":{}},\"relayout\":{\"sync\":false,\"id\":\"408628804664759095\",\"value\":{}},\"_commands\":{\"sync\":false,\"id\":\"16850433876825532411\",\"value\":[]}}},\"children\":[{\"props\":{\"id\":\"plot-2ffcef60-4ba7-4bd8-a184-cd4dd8f75549\"},\"nodeType\":\"DOM\",\"type\":\"node\",\"instanceArgs\":{\"namespace\":\"html\",\"tag\":\"div\"},\"children\":[]}]},\n",
       "        window,\n",
       "    );\n",
       "    })()\n",
       "    </script>\n",
       "</div>\n"
      ],
      "text/plain": [
       "data: [\n",
       "  \"scatter with fields type, x, and y\",\n",
       "  \"scatter with fields name, type, x, and y\"\n",
       "]\n",
       "\n",
       "layout: \"layout with fields height, margin, template, width, xaxis, and yaxis\"\n",
       "\n"
      ]
     },
     "execution_count": 42,
     "metadata": {},
     "output_type": "execute_result"
    }
   ],
   "source": [
    "l  = Line(Point(1,1),Point(1,1))\n",
    "pl = plotgeometry(l)\n",
    "pe = plotenvelope(l)\n",
    "\n",
    "plot([pl,pe], layout)"
   ]
  },
  {
   "cell_type": "code",
   "execution_count": 17,
   "id": "a2ca274a-231a-4a6e-a862-8e46f7945fba",
   "metadata": {},
   "outputs": [
    {
     "data": {
      "application/vnd.plotly.v1+json": {
       "config": {
        "editable": false,
        "responsive": true,
        "scrollZoom": true,
        "showLink": false,
        "staticPlot": false
       },
       "data": [
        {
         "type": "scatter",
         "x": [
          -1.5,
          0.5,
          1,
          -1.5
         ],
         "y": [
          -0.5,
          1.5,
          -0.5,
          -0.5
         ]
        },
        {
         "name": "envelope",
         "type": "scatter",
         "x": [
          1,
          0.9725437284773059,
          0.9403659562218556,
          0.9037881928974681,
          0.8631759114242799,
          0.8289647944257456,
          0.8798157587736961,
          0.9243738122493904,
          0.9621937455114334,
          0.9928976742882786,
          1.0161788150729574,
          1.0318045504024709,
          1.0396187530945882,
          1.0395433462190418,
          1.0315790832164056,
          1.0158055403699666,
          0.9923803217058067,
          0.9615374842654705,
          0.9235851994853745,
          0.8789026740496849,
          0.8279363609824757,
          0.7711954988366909,
          0.7092470235508561,
          0.642709903812584,
          0.5722489565280515,
          0.49856820419123393,
          0.42240384052386126,
          0.344516874671107,
          0.2656855274497639,
          0.18669745562308887,
          0.10834188189478904,
          0.031401709256647994,
          -0.04335430151937334,
          -0.11517921308465269,
          -0.18335537466498894,
          -0.24720159258991395,
          -0.3060799365546761,
          -0.35940211360897206,
          -0.40663534618564356,
          -0.44730769543801546,
          -0.4810127766968491,
          -0.5074138199316254,
          -0.526247034645366,
          -0.5373242455820851,
          -0.5405347729117419,
          -0.5358465381065177,
          -0.523306384458862,
          -0.5030396090387984,
          -0.5665830853706254,
          -0.6442711239108485,
          -0.7230155704316353,
          -0.8020296364528029,
          -0.8805238395452446,
          -0.957713891578396,
          -1.032828535067979,
          -1.1051172493258472,
          -1.1738577494146074,
          -1.2383632029799605,
          -1.2979890928525506,
          -1.3521396568504682,
          -1.4002738404380433,
          -1.4419107027639149,
          -1.476634222063039,
          -1.5040974524086492,
          -1.5240259902812678,
          -1.5362207163179715,
          -1.5405597848472417,
          -1.5369998413306392,
          -1.5255764555470206,
          -1.5064037661910679,
          -1.4796733404371758,
          -1.4456522598635737,
          -1.4046804518614793,
          -1.3571672931929697,
          -1.3035875196336992,
          -1.2444764825699541,
          -1.180424799944563,
          -1.1120724549976486,
          -1.0401024017656377,
          -0.9652337412302903,
          -0.8882145362993853,
          -0.8098143374094283,
          -0.730816493432066,
          -0.6520103247111076,
          -0.5741832364345559,
          -0.4981128511422549,
          -0.424559238978519,
          -0.35425732332249565,
          -0.28790953767669847,
          -0.22617880718363698,
          -0.16968192489693143,
          -0.1189833889890041,
          -0.0745897624719385,
          -0.03694461178731281,
          -0.006424074836934582,
          0.02020170201726309,
          0.051237767408682015,
          0.08675771668708115,
          0.1264066462606055,
          0.1697883971311499,
          0.21646951318411628,
          0.2659835721386295,
          0.3178358458847864,
          0.371508243643399,
          0.4264644885577991,
          0.48215547599492126,
          0.5380247600172879,
          0.5935141132068752,
          0.6480691042889556,
          0.701144637826119,
          0.7522104006317013,
          0.8007561604838467,
          0.8462968641972054,
          0.8883774841140297,
          0.9265775645901143,
          0.9605154230486102,
          0.9898519636261646,
          1.0142940653066967,
          1.0335975106897,
          1.047569426129778,
          1.056070208866355,
          1.0590149218883116,
          1.0563741425965258,
          1.0481742567847552,
          1.0344971950015092,
          1.0154796139270903
         ],
         "y": [
          0,
          0.04866774964292052,
          0.09435130985784101,
          0.13659422561207132,
          0.1749744196550465,
          0.21166946323327127,
          0.27215890716650015,
          0.33742278134605647,
          0.40680899071450666,
          0.47962425120387253,
          0.5551410168008694,
          0.6326047489461759,
          0.7112414556343016,
          0.7902654248858578,
          0.8688870753219347,
          0.9463208454002364,
          1.0217930424863428,
          1.094549573334761,
          1.1638634787393642,
          1.2290421970694811,
          1.289434484116777,
          1.3444369201121118,
          1.3934999388964069,
          1.4361333190040484,
          1.471911081793722,
          1.5004757476861894,
          1.5215419079820764,
          1.5348990765712531,
          1.54041379304047,
          1.5380309561656886,
          1.5277743744653007,
          1.5097465283132823,
          1.48412754598917,
          1.4511734038958366,
          1.4112133689278876,
          1.3646467085456921,
          1.3119387014268968,
          1.2536159885556828,
          1.1902613112001326,
          1.1225076883541112,
          1.0510320918207268,
          0.9765486821338488,
          0.8998016729021275,
          0.821557894872618,
          0.7425991340114355,
          0.6637143201568105,
          0.5856916442929245,
          0.5093106832061428,
          0.5189982024867423,
          0.5334675518238932,
          0.5401087523631606,
          0.5388554474240445,
          0.5297201596152091,
          0.512794165712716,
          0.4882465846526489,
          0.45632268775060897,
          0.41734144803180323,
          0.3716923531580182,
          0.31983151379564734,
          0.262277106308686,
          0.19960419531178591,
          0.13243898781471744,
          0.061452576368926676,
          -0.01264576626740917,
          -0.08911567394832208,
          -0.16719308463385577,
          -0.24609787464540167,
          -0.3250416534036189,
          -0.4032356407665005,
          -0.47989854825981093,
          -0.5542643854532656,
          -0.6255901134837059,
          -0.6931630692538012,
          -0.7563080861261474,
          -0.8143942399651226,
          -0.8668411531222976,
          -0.9131247933780514,
          -0.9527827098982843,
          -0.9854186538902915,
          -1.0107065377897133,
          -1.0283936934196896,
          -1.0383033965677626,
          -1.0403366327557884,
          -1.0344730865598752,
          -1.0207713445953819,
          -0.9993683101388237,
          -0.9704778352355881,
          -0.9343885839609866,
          -0.8914611481842354,
          -0.8421244446536916,
          -0.7868714294024869,
          -0.726254172294792,
          -0.6608783409262254,
          -0.5913971489934472,
          -0.5185048295988199,
          -0.5368685992799993,
          -0.5833353545600224,
          -0.6264715331632995,
          -0.6658461326521525,
          -0.701065735044001,
          -0.7317784377137982,
          -0.7576773694887374,
          -0.7785037568035716,
          -0.7940495092805396,
          -0.8041592988996341,
          -0.8087321119848332,
          -0.8077222584993607,
          -0.8011398285654302,
          -0.7890505916470795,
          -0.7715753394034264,
          -0.7488886787783391,
          -0.7212172873855699,
          -0.6888376486209704,
          -0.6520732891317909,
          -0.6112915462453651,
          -0.5668998976559629,
          -0.5193418900423602,
          -0.4690927072960468,
          -0.4166544226408515,
          -0.3625509820832568,
          -0.3073229693170945,
          -0.25152220438996914,
          -0.19570623009975405,
          -0.14043274121124805,
          -0.08625401215443879,
          -0.03371137888095518
         ]
        }
       ],
       "frames": [],
       "layout": {
        "height": 600,
        "margin": {
         "b": 50,
         "l": 50,
         "r": 50,
         "t": 60
        },
        "template": {
         "data": {
          "bar": [
           {
            "error_x": {
             "color": "#2a3f5f"
            },
            "error_y": {
             "color": "#2a3f5f"
            },
            "marker": {
             "line": {
              "color": "#E5ECF6",
              "width": 0.5
             }
            },
            "type": "bar"
           }
          ],
          "barpolar": [
           {
            "marker": {
             "line": {
              "color": "#E5ECF6",
              "width": 0.5
             }
            },
            "type": "barpolar"
           }
          ],
          "carpet": [
           {
            "aaxis": {
             "endlinecolor": "#2a3f5f",
             "gridcolor": "white",
             "linecolor": "white",
             "minorgridcolor": "white",
             "startlinecolor": "#2a3f5f"
            },
            "baxis": {
             "endlinecolor": "#2a3f5f",
             "gridcolor": "white",
             "linecolor": "white",
             "minorgridcolor": "white",
             "startlinecolor": "#2a3f5f"
            },
            "type": "carpet"
           }
          ],
          "choropleth": [
           {
            "colorbar": {
             "outlinewidth": 0,
             "ticks": ""
            },
            "type": "choropleth"
           }
          ],
          "contour": [
           {
            "colorbar": {
             "outlinewidth": 0,
             "ticks": ""
            },
            "colorscale": [
             [
              0,
              "#0d0887"
             ],
             [
              0.1111111111111111,
              "#46039f"
             ],
             [
              0.2222222222222222,
              "#7201a8"
             ],
             [
              0.3333333333333333,
              "#9c179e"
             ],
             [
              0.4444444444444444,
              "#bd3786"
             ],
             [
              0.5555555555555556,
              "#d8576b"
             ],
             [
              0.6666666666666666,
              "#ed7953"
             ],
             [
              0.7777777777777778,
              "#fb9f3a"
             ],
             [
              0.8888888888888888,
              "#fdca26"
             ],
             [
              1,
              "#f0f921"
             ]
            ],
            "type": "contour"
           }
          ],
          "contourcarpet": [
           {
            "colorbar": {
             "outlinewidth": 0,
             "ticks": ""
            },
            "type": "contourcarpet"
           }
          ],
          "heatmap": [
           {
            "colorbar": {
             "outlinewidth": 0,
             "ticks": ""
            },
            "colorscale": [
             [
              0,
              "#0d0887"
             ],
             [
              0.1111111111111111,
              "#46039f"
             ],
             [
              0.2222222222222222,
              "#7201a8"
             ],
             [
              0.3333333333333333,
              "#9c179e"
             ],
             [
              0.4444444444444444,
              "#bd3786"
             ],
             [
              0.5555555555555556,
              "#d8576b"
             ],
             [
              0.6666666666666666,
              "#ed7953"
             ],
             [
              0.7777777777777778,
              "#fb9f3a"
             ],
             [
              0.8888888888888888,
              "#fdca26"
             ],
             [
              1,
              "#f0f921"
             ]
            ],
            "type": "heatmap"
           }
          ],
          "heatmapgl": [
           {
            "colorbar": {
             "outlinewidth": 0,
             "ticks": ""
            },
            "colorscale": [
             [
              0,
              "#0d0887"
             ],
             [
              0.1111111111111111,
              "#46039f"
             ],
             [
              0.2222222222222222,
              "#7201a8"
             ],
             [
              0.3333333333333333,
              "#9c179e"
             ],
             [
              0.4444444444444444,
              "#bd3786"
             ],
             [
              0.5555555555555556,
              "#d8576b"
             ],
             [
              0.6666666666666666,
              "#ed7953"
             ],
             [
              0.7777777777777778,
              "#fb9f3a"
             ],
             [
              0.8888888888888888,
              "#fdca26"
             ],
             [
              1,
              "#f0f921"
             ]
            ],
            "type": "heatmapgl"
           }
          ],
          "histogram": [
           {
            "marker": {
             "colorbar": {
              "outlinewidth": 0,
              "ticks": ""
             }
            },
            "type": "histogram"
           }
          ],
          "histogram2d": [
           {
            "colorbar": {
             "outlinewidth": 0,
             "ticks": ""
            },
            "colorscale": [
             [
              0,
              "#0d0887"
             ],
             [
              0.1111111111111111,
              "#46039f"
             ],
             [
              0.2222222222222222,
              "#7201a8"
             ],
             [
              0.3333333333333333,
              "#9c179e"
             ],
             [
              0.4444444444444444,
              "#bd3786"
             ],
             [
              0.5555555555555556,
              "#d8576b"
             ],
             [
              0.6666666666666666,
              "#ed7953"
             ],
             [
              0.7777777777777778,
              "#fb9f3a"
             ],
             [
              0.8888888888888888,
              "#fdca26"
             ],
             [
              1,
              "#f0f921"
             ]
            ],
            "type": "histogram2d"
           }
          ],
          "histogram2dcontour": [
           {
            "colorbar": {
             "outlinewidth": 0,
             "ticks": ""
            },
            "colorscale": [
             [
              0,
              "#0d0887"
             ],
             [
              0.1111111111111111,
              "#46039f"
             ],
             [
              0.2222222222222222,
              "#7201a8"
             ],
             [
              0.3333333333333333,
              "#9c179e"
             ],
             [
              0.4444444444444444,
              "#bd3786"
             ],
             [
              0.5555555555555556,
              "#d8576b"
             ],
             [
              0.6666666666666666,
              "#ed7953"
             ],
             [
              0.7777777777777778,
              "#fb9f3a"
             ],
             [
              0.8888888888888888,
              "#fdca26"
             ],
             [
              1,
              "#f0f921"
             ]
            ],
            "type": "histogram2dcontour"
           }
          ],
          "mesh3d": [
           {
            "colorbar": {
             "outlinewidth": 0,
             "ticks": ""
            },
            "type": "mesh3d"
           }
          ],
          "parcoords": [
           {
            "line": {
             "colorbar": {
              "outlinewidth": 0,
              "ticks": ""
             }
            },
            "type": "parcoords"
           }
          ],
          "pie": [
           {
            "automargin": true,
            "type": "pie"
           }
          ],
          "scatter": [
           {
            "marker": {
             "colorbar": {
              "outlinewidth": 0,
              "ticks": ""
             }
            },
            "type": "scatter"
           }
          ],
          "scatter3d": [
           {
            "line": {
             "colorbar": {
              "outlinewidth": 0,
              "ticks": ""
             }
            },
            "marker": {
             "colorbar": {
              "outlinewidth": 0,
              "ticks": ""
             }
            },
            "type": "scatter3d"
           }
          ],
          "scattercarpet": [
           {
            "marker": {
             "colorbar": {
              "outlinewidth": 0,
              "ticks": ""
             }
            },
            "type": "scattercarpet"
           }
          ],
          "scattergeo": [
           {
            "marker": {
             "colorbar": {
              "outlinewidth": 0,
              "ticks": ""
             }
            },
            "type": "scattergeo"
           }
          ],
          "scattergl": [
           {
            "marker": {
             "colorbar": {
              "outlinewidth": 0,
              "ticks": ""
             }
            },
            "type": "scattergl"
           }
          ],
          "scattermapbox": [
           {
            "marker": {
             "colorbar": {
              "outlinewidth": 0,
              "ticks": ""
             }
            },
            "type": "scattermapbox"
           }
          ],
          "scatterpolar": [
           {
            "marker": {
             "colorbar": {
              "outlinewidth": 0,
              "ticks": ""
             }
            },
            "type": "scatterpolar"
           }
          ],
          "scatterpolargl": [
           {
            "marker": {
             "colorbar": {
              "outlinewidth": 0,
              "ticks": ""
             }
            },
            "type": "scatterpolargl"
           }
          ],
          "scatterternary": [
           {
            "marker": {
             "colorbar": {
              "outlinewidth": 0,
              "ticks": ""
             }
            },
            "type": "scatterternary"
           }
          ],
          "surface": [
           {
            "colorbar": {
             "outlinewidth": 0,
             "ticks": ""
            },
            "colorscale": [
             [
              0,
              "#0d0887"
             ],
             [
              0.1111111111111111,
              "#46039f"
             ],
             [
              0.2222222222222222,
              "#7201a8"
             ],
             [
              0.3333333333333333,
              "#9c179e"
             ],
             [
              0.4444444444444444,
              "#bd3786"
             ],
             [
              0.5555555555555556,
              "#d8576b"
             ],
             [
              0.6666666666666666,
              "#ed7953"
             ],
             [
              0.7777777777777778,
              "#fb9f3a"
             ],
             [
              0.8888888888888888,
              "#fdca26"
             ],
             [
              1,
              "#f0f921"
             ]
            ],
            "type": "surface"
           }
          ],
          "table": [
           {
            "cells": {
             "fill": {
              "color": "#EBF0F8"
             },
             "line": {
              "color": "white"
             }
            },
            "header": {
             "fill": {
              "color": "#C8D4E3"
             },
             "line": {
              "color": "white"
             }
            },
            "type": "table"
           }
          ]
         },
         "layout": {
          "annotationdefaults": {
           "arrowcolor": "#2a3f5f",
           "arrowhead": 0,
           "arrowwidth": 1
          },
          "autotypenumbers": "strict",
          "coloraxis": {
           "colorbar": {
            "outlinewidth": 0,
            "ticks": ""
           }
          },
          "colorscale": {
           "diverging": [
            [
             0,
             "#8e0152"
            ],
            [
             0.1,
             "#c51b7d"
            ],
            [
             0.2,
             "#de77ae"
            ],
            [
             0.3,
             "#f1b6da"
            ],
            [
             0.4,
             "#fde0ef"
            ],
            [
             0.5,
             "#f7f7f7"
            ],
            [
             0.6,
             "#e6f5d0"
            ],
            [
             0.7,
             "#b8e186"
            ],
            [
             0.8,
             "#7fbc41"
            ],
            [
             0.9,
             "#4d9221"
            ],
            [
             1,
             "#276419"
            ]
           ],
           "sequential": [
            [
             0,
             "#0d0887"
            ],
            [
             0.1111111111111111,
             "#46039f"
            ],
            [
             0.2222222222222222,
             "#7201a8"
            ],
            [
             0.3333333333333333,
             "#9c179e"
            ],
            [
             0.4444444444444444,
             "#bd3786"
            ],
            [
             0.5555555555555556,
             "#d8576b"
            ],
            [
             0.6666666666666666,
             "#ed7953"
            ],
            [
             0.7777777777777778,
             "#fb9f3a"
            ],
            [
             0.8888888888888888,
             "#fdca26"
            ],
            [
             1,
             "#f0f921"
            ]
           ],
           "sequentialminus": [
            [
             0,
             "#0d0887"
            ],
            [
             0.1111111111111111,
             "#46039f"
            ],
            [
             0.2222222222222222,
             "#7201a8"
            ],
            [
             0.3333333333333333,
             "#9c179e"
            ],
            [
             0.4444444444444444,
             "#bd3786"
            ],
            [
             0.5555555555555556,
             "#d8576b"
            ],
            [
             0.6666666666666666,
             "#ed7953"
            ],
            [
             0.7777777777777778,
             "#fb9f3a"
            ],
            [
             0.8888888888888888,
             "#fdca26"
            ],
            [
             1,
             "#f0f921"
            ]
           ]
          },
          "colorway": [
           "#636efa",
           "#EF553B",
           "#00cc96",
           "#ab63fa",
           "#FFA15A",
           "#19d3f3",
           "#FF6692",
           "#B6E880",
           "#FF97FF",
           "#FECB52"
          ],
          "font": {
           "color": "#2a3f5f"
          },
          "geo": {
           "bgcolor": "white",
           "lakecolor": "white",
           "landcolor": "#E5ECF6",
           "showlakes": true,
           "showland": true,
           "subunitcolor": "white"
          },
          "hoverlabel": {
           "align": "left"
          },
          "hovermode": "closest",
          "mapbox": {
           "style": "light"
          },
          "paper_bgcolor": "white",
          "plot_bgcolor": "#E5ECF6",
          "polar": {
           "angularaxis": {
            "gridcolor": "white",
            "linecolor": "white",
            "ticks": ""
           },
           "bgcolor": "#E5ECF6",
           "radialaxis": {
            "gridcolor": "white",
            "linecolor": "white",
            "ticks": ""
           }
          },
          "scene": {
           "xaxis": {
            "backgroundcolor": "#E5ECF6",
            "gridcolor": "white",
            "gridwidth": 2,
            "linecolor": "white",
            "showbackground": true,
            "ticks": "",
            "zerolinecolor": "white"
           },
           "yaxis": {
            "backgroundcolor": "#E5ECF6",
            "gridcolor": "white",
            "gridwidth": 2,
            "linecolor": "white",
            "showbackground": true,
            "ticks": "",
            "zerolinecolor": "white"
           },
           "zaxis": {
            "backgroundcolor": "#E5ECF6",
            "gridcolor": "white",
            "gridwidth": 2,
            "linecolor": "white",
            "showbackground": true,
            "ticks": "",
            "zerolinecolor": "white"
           }
          },
          "shapedefaults": {
           "line": {
            "color": "#2a3f5f"
           }
          },
          "ternary": {
           "aaxis": {
            "gridcolor": "white",
            "linecolor": "white",
            "ticks": ""
           },
           "baxis": {
            "gridcolor": "white",
            "linecolor": "white",
            "ticks": ""
           },
           "bgcolor": "#E5ECF6",
           "caxis": {
            "gridcolor": "white",
            "linecolor": "white",
            "ticks": ""
           }
          },
          "title": {
           "x": 0.05
          },
          "xaxis": {
           "automargin": true,
           "gridcolor": "white",
           "linecolor": "white",
           "ticks": "",
           "title": {
            "standoff": 15
           },
           "zerolinecolor": "white",
           "zerolinewidth": 2
          },
          "yaxis": {
           "automargin": true,
           "gridcolor": "white",
           "linecolor": "white",
           "ticks": "",
           "title": {
            "standoff": 15
           },
           "zerolinecolor": "white",
           "zerolinewidth": 2
          }
         }
        },
        "width": 600,
        "xaxis": {
         "range": [
          -2,
          2
         ],
         "type": "linear"
        },
        "yaxis": {
         "range": [
          -2,
          2
         ],
         "type": "linear"
        }
       }
      },
      "image/png": "[encoded data removed]",
      "text/html": [
       "<div\n",
       "    class=\"webio-mountpoint\"\n",
       "    data-webio-mountpoint=\"3954303287325313091\"\n",
       ">\n",
       "    <script>\n",
       "    (function(){\n",
       "    // Some integrations (namely, IJulia/Jupyter) use an alternate render pathway than\n",
       "    // just putting the html on the page. If WebIO isn't defined, then it's pretty likely\n",
       "    // that we're in one of those situations and the integration just isn't installed\n",
       "    // correctly.\n",
       "    if (typeof window.WebIO === \"undefined\") {\n",
       "        document\n",
       "            .querySelector('[data-webio-mountpoint=\"3954303287325313091\"]')\n",
       "            .innerHTML = (\n",
       "                '<div style=\"padding: 1em; background-color: #f8d6da; border: 1px solid #f5c6cb; font-weight: bold;\">' +\n",
       "                '<p><strong>WebIO not detected.</strong></p>' +\n",
       "                '<p>Please read ' +\n",
       "                '<a href=\"https://juliagizmos.github.io/WebIO.jl/latest/troubleshooting/not-detected/\" target=\"_blank\">the troubleshooting guide</a> ' +\n",
       "                'for more information on how to resolve this issue.</p>' +\n",
       "                '<p><a href=\"https://juliagizmos.github.io/WebIO.jl/latest/troubleshooting/not-detected/\" target=\"_blank\">https://juliagizmos.github.io/WebIO.jl/latest/troubleshooting/not-detected/</a></p>' +\n",
       "                '</div>'\n",
       "            );\n",
       "        return;\n",
       "    }\n",
       "    WebIO.mount(\n",
       "        document.querySelector('[data-webio-mountpoint=\"3954303287325313091\"]'),\n",
       "        {\"props\":{},\"nodeType\":\"Scope\",\"type\":\"node\",\"instanceArgs\":{\"imports\":{\"data\":[{\"name\":\"Plotly\",\"type\":\"js\",\"url\":\"\\/assetserver\\/d66a736669047bda0b2d00471bd5207a90cf3193-plotly.min.js\"},{\"name\":null,\"type\":\"js\",\"url\":\"\\/assetserver\\/aee3160e397a4905b07437c5af565305d1ef6def-plotly_webio.bundle.js\"}],\"type\":\"async_block\"},\"id\":\"246918370153049146\",\"handlers\":{\"_toImage\":[\"(function (options){return this.Plotly.toImage(this.plotElem,options).then((function (data){return WebIO.setval({\\\"name\\\":\\\"image\\\",\\\"scope\\\":\\\"246918370153049146\\\",\\\"id\\\":\\\"3093579818552427908\\\",\\\"type\\\":\\\"observable\\\"},data)}))})\"],\"__get_gd_contents\":[\"(function (prop){prop==\\\"data\\\" ? (WebIO.setval({\\\"name\\\":\\\"__gd_contents\\\",\\\"scope\\\":\\\"246918370153049146\\\",\\\"id\\\":\\\"12795722153006790291\\\",\\\"type\\\":\\\"observable\\\"},this.plotElem.data)) : undefined; return prop==\\\"layout\\\" ? (WebIO.setval({\\\"name\\\":\\\"__gd_contents\\\",\\\"scope\\\":\\\"246918370153049146\\\",\\\"id\\\":\\\"12795722153006790291\\\",\\\"type\\\":\\\"observable\\\"},this.plotElem.layout)) : undefined})\"],\"_downloadImage\":[\"(function (options){return this.Plotly.downloadImage(this.plotElem,options)})\"],\"_commands\":[\"(function (args){var fn=args.shift(); var elem=this.plotElem; var Plotly=this.Plotly; args.unshift(elem); return Plotly[fn].apply(this,args)})\"]},\"systemjs_options\":null,\"mount_callbacks\":[\"function () {\\n    var handler = ((function (Plotly,PlotlyWebIO){PlotlyWebIO.init(WebIO); var gd=this.dom.querySelector(\\\"#plot-f499c6e2-d79e-42b8-a8f4-4a903ea478a5\\\"); this.plotElem=gd; this.Plotly=Plotly; (window.Blink!==undefined) ? (gd.style.width=\\\"100%\\\", gd.style.height=\\\"100vh\\\", gd.style.marginLeft=\\\"0%\\\", gd.style.marginTop=\\\"0vh\\\") : undefined; window.onresize=(function (){return Plotly.Plots.resize(gd)}); Plotly.newPlot(gd,[{\\\"y\\\":[-0.5,1.5,-0.5,-0.5],\\\"type\\\":\\\"scatter\\\",\\\"x\\\":[-1.5,0.5,1.0,-1.5]},{\\\"y\\\":[0.0,0.04866774964292052,0.09435130985784101,0.13659422561207132,0.1749744196550465,0.21166946323327127,0.27215890716650015,0.33742278134605647,0.40680899071450666,0.47962425120387253,0.5551410168008694,0.6326047489461759,0.7112414556343016,0.7902654248858578,0.8688870753219347,0.9463208454002364,1.0217930424863428,1.094549573334761,1.1638634787393642,1.2290421970694811,1.289434484116777,1.3444369201121118,1.3934999388964069,1.4361333190040484,1.471911081793722,1.5004757476861894,1.5215419079820764,1.5348990765712531,1.54041379304047,1.5380309561656886,1.5277743744653007,1.5097465283132823,1.48412754598917,1.4511734038958366,1.4112133689278876,1.3646467085456921,1.3119387014268968,1.2536159885556828,1.1902613112001326,1.1225076883541112,1.0510320918207268,0.9765486821338488,0.8998016729021275,0.821557894872618,0.7425991340114355,0.6637143201568105,0.5856916442929245,0.5093106832061428,0.5189982024867423,0.5334675518238932,0.5401087523631606,0.5388554474240445,0.5297201596152091,0.512794165712716,0.4882465846526489,0.45632268775060897,0.41734144803180323,0.3716923531580182,0.31983151379564734,0.262277106308686,0.19960419531178591,0.13243898781471744,0.061452576368926676,-0.01264576626740917,-0.08911567394832208,-0.16719308463385577,-0.24609787464540167,-0.3250416534036189,-0.4032356407665005,-0.47989854825981093,-0.5542643854532656,-0.6255901134837059,-0.6931630692538012,-0.7563080861261474,-0.8143942399651226,-0.8668411531222976,-0.9131247933780514,-0.9527827098982843,-0.9854186538902915,-1.0107065377897133,-1.0283936934196896,-1.0383033965677626,-1.0403366327557884,-1.0344730865598752,-1.0207713445953819,-0.9993683101388237,-0.9704778352355881,-0.9343885839609866,-0.8914611481842354,-0.8421244446536916,-0.7868714294024869,-0.726254172294792,-0.6608783409262254,-0.5913971489934472,-0.5185048295988199,-0.5368685992799993,-0.5833353545600224,-0.6264715331632995,-0.6658461326521525,-0.701065735044001,-0.7317784377137982,-0.7576773694887374,-0.7785037568035716,-0.7940495092805396,-0.8041592988996341,-0.8087321119848332,-0.8077222584993607,-0.8011398285654302,-0.7890505916470795,-0.7715753394034264,-0.7488886787783391,-0.7212172873855699,-0.6888376486209704,-0.6520732891317909,-0.6112915462453651,-0.5668998976559629,-0.5193418900423602,-0.4690927072960468,-0.4166544226408515,-0.3625509820832568,-0.3073229693170945,-0.25152220438996914,-0.19570623009975405,-0.14043274121124805,-0.08625401215443879,-0.03371137888095518],\\\"type\\\":\\\"scatter\\\",\\\"name\\\":\\\"envelope\\\",\\\"x\\\":[1.0,0.9725437284773059,0.9403659562218556,0.9037881928974681,0.8631759114242799,0.8289647944257456,0.8798157587736961,0.9243738122493904,0.9621937455114334,0.9928976742882786,1.0161788150729574,1.0318045504024709,1.0396187530945882,1.0395433462190418,1.0315790832164056,1.0158055403699666,0.9923803217058067,0.9615374842654705,0.9235851994853745,0.8789026740496849,0.8279363609824757,0.7711954988366909,0.7092470235508561,0.642709903812584,0.5722489565280515,0.49856820419123393,0.42240384052386126,0.344516874671107,0.2656855274497639,0.18669745562308887,0.10834188189478904,0.031401709256647994,-0.04335430151937334,-0.11517921308465269,-0.18335537466498894,-0.24720159258991395,-0.3060799365546761,-0.35940211360897206,-0.40663534618564356,-0.44730769543801546,-0.4810127766968491,-0.5074138199316254,-0.526247034645366,-0.5373242455820851,-0.5405347729117419,-0.5358465381065177,-0.523306384458862,-0.5030396090387984,-0.5665830853706254,-0.6442711239108485,-0.7230155704316353,-0.8020296364528029,-0.8805238395452446,-0.957713891578396,-1.032828535067979,-1.1051172493258472,-1.1738577494146074,-1.2383632029799605,-1.2979890928525506,-1.3521396568504682,-1.4002738404380433,-1.4419107027639149,-1.476634222063039,-1.5040974524086492,-1.5240259902812678,-1.5362207163179715,-1.5405597848472417,-1.5369998413306392,-1.5255764555470206,-1.5064037661910679,-1.4796733404371758,-1.4456522598635737,-1.4046804518614793,-1.3571672931929697,-1.3035875196336992,-1.2444764825699541,-1.180424799944563,-1.1120724549976486,-1.0401024017656377,-0.9652337412302903,-0.8882145362993853,-0.8098143374094283,-0.730816493432066,-0.6520103247111076,-0.5741832364345559,-0.4981128511422549,-0.424559238978519,-0.35425732332249565,-0.28790953767669847,-0.22617880718363698,-0.16968192489693143,-0.1189833889890041,-0.0745897624719385,-0.03694461178731281,-0.006424074836934582,0.02020170201726309,0.051237767408682015,0.08675771668708115,0.1264066462606055,0.1697883971311499,0.21646951318411628,0.2659835721386295,0.3178358458847864,0.371508243643399,0.4264644885577991,0.48215547599492126,0.5380247600172879,0.5935141132068752,0.6480691042889556,0.701144637826119,0.7522104006317013,0.8007561604838467,0.8462968641972054,0.8883774841140297,0.9265775645901143,0.9605154230486102,0.9898519636261646,1.0142940653066967,1.0335975106897,1.047569426129778,1.056070208866355,1.0590149218883116,1.0563741425965258,1.0481742567847552,1.0344971950015092,1.0154796139270903]}],{\\\"xaxis\\\":{\\\"range\\\":[-2,2]},\\\"template\\\":{\\\"layout\\\":{\\\"coloraxis\\\":{\\\"colorbar\\\":{\\\"ticks\\\":\\\"\\\",\\\"outlinewidth\\\":0}},\\\"xaxis\\\":{\\\"gridcolor\\\":\\\"white\\\",\\\"zerolinewidth\\\":2,\\\"title\\\":{\\\"standoff\\\":15},\\\"ticks\\\":\\\"\\\",\\\"zerolinecolor\\\":\\\"white\\\",\\\"automargin\\\":true,\\\"linecolor\\\":\\\"white\\\"},\\\"hovermode\\\":\\\"closest\\\",\\\"paper_bgcolor\\\":\\\"white\\\",\\\"geo\\\":{\\\"showlakes\\\":true,\\\"showland\\\":true,\\\"landcolor\\\":\\\"#E5ECF6\\\",\\\"bgcolor\\\":\\\"white\\\",\\\"subunitcolor\\\":\\\"white\\\",\\\"lakecolor\\\":\\\"white\\\"},\\\"colorscale\\\":{\\\"sequential\\\":[[0.0,\\\"#0d0887\\\"],[0.1111111111111111,\\\"#46039f\\\"],[0.2222222222222222,\\\"#7201a8\\\"],[0.3333333333333333,\\\"#9c179e\\\"],[0.4444444444444444,\\\"#bd3786\\\"],[0.5555555555555556,\\\"#d8576b\\\"],[0.6666666666666666,\\\"#ed7953\\\"],[0.7777777777777778,\\\"#fb9f3a\\\"],[0.8888888888888888,\\\"#fdca26\\\"],[1.0,\\\"#f0f921\\\"]],\\\"diverging\\\":[[0,\\\"#8e0152\\\"],[0.1,\\\"#c51b7d\\\"],[0.2,\\\"#de77ae\\\"],[0.3,\\\"#f1b6da\\\"],[0.4,\\\"#fde0ef\\\"],[0.5,\\\"#f7f7f7\\\"],[0.6,\\\"#e6f5d0\\\"],[0.7,\\\"#b8e186\\\"],[0.8,\\\"#7fbc41\\\"],[0.9,\\\"#4d9221\\\"],[1,\\\"#276419\\\"]],\\\"sequentialminus\\\":[[0.0,\\\"#0d0887\\\"],[0.1111111111111111,\\\"#46039f\\\"],[0.2222222222222222,\\\"#7201a8\\\"],[0.3333333333333333,\\\"#9c179e\\\"],[0.4444444444444444,\\\"#bd3786\\\"],[0.5555555555555556,\\\"#d8576b\\\"],[0.6666666666666666,\\\"#ed7953\\\"],[0.7777777777777778,\\\"#fb9f3a\\\"],[0.8888888888888888,\\\"#fdca26\\\"],[1.0,\\\"#f0f921\\\"]]},\\\"yaxis\\\":{\\\"gridcolor\\\":\\\"white\\\",\\\"zerolinewidth\\\":2,\\\"title\\\":{\\\"standoff\\\":15},\\\"ticks\\\":\\\"\\\",\\\"zerolinecolor\\\":\\\"white\\\",\\\"automargin\\\":true,\\\"linecolor\\\":\\\"white\\\"},\\\"shapedefaults\\\":{\\\"line\\\":{\\\"color\\\":\\\"#2a3f5f\\\"}},\\\"hoverlabel\\\":{\\\"align\\\":\\\"left\\\"},\\\"mapbox\\\":{\\\"style\\\":\\\"light\\\"},\\\"polar\\\":{\\\"angularaxis\\\":{\\\"gridcolor\\\":\\\"white\\\",\\\"ticks\\\":\\\"\\\",\\\"linecolor\\\":\\\"white\\\"},\\\"bgcolor\\\":\\\"#E5ECF6\\\",\\\"radialaxis\\\":{\\\"gridcolor\\\":\\\"white\\\",\\\"ticks\\\":\\\"\\\",\\\"linecolor\\\":\\\"white\\\"}},\\\"autotypenumbers\\\":\\\"strict\\\",\\\"font\\\":{\\\"color\\\":\\\"#2a3f5f\\\"},\\\"ternary\\\":{\\\"baxis\\\":{\\\"gridcolor\\\":\\\"white\\\",\\\"ticks\\\":\\\"\\\",\\\"linecolor\\\":\\\"white\\\"},\\\"bgcolor\\\":\\\"#E5ECF6\\\",\\\"caxis\\\":{\\\"gridcolor\\\":\\\"white\\\",\\\"ticks\\\":\\\"\\\",\\\"linecolor\\\":\\\"white\\\"},\\\"aaxis\\\":{\\\"gridcolor\\\":\\\"white\\\",\\\"ticks\\\":\\\"\\\",\\\"linecolor\\\":\\\"white\\\"}},\\\"annotationdefaults\\\":{\\\"arrowhead\\\":0,\\\"arrowwidth\\\":1,\\\"arrowcolor\\\":\\\"#2a3f5f\\\"},\\\"plot_bgcolor\\\":\\\"#E5ECF6\\\",\\\"title\\\":{\\\"x\\\":0.05},\\\"scene\\\":{\\\"xaxis\\\":{\\\"gridcolor\\\":\\\"white\\\",\\\"gridwidth\\\":2,\\\"backgroundcolor\\\":\\\"#E5ECF6\\\",\\\"ticks\\\":\\\"\\\",\\\"showbackground\\\":true,\\\"zerolinecolor\\\":\\\"white\\\",\\\"linecolor\\\":\\\"white\\\"},\\\"zaxis\\\":{\\\"gridcolor\\\":\\\"white\\\",\\\"gridwidth\\\":2,\\\"backgroundcolor\\\":\\\"#E5ECF6\\\",\\\"ticks\\\":\\\"\\\",\\\"showbackground\\\":true,\\\"zerolinecolor\\\":\\\"white\\\",\\\"linecolor\\\":\\\"white\\\"},\\\"yaxis\\\":{\\\"gridcolor\\\":\\\"white\\\",\\\"gridwidth\\\":2,\\\"backgroundcolor\\\":\\\"#E5ECF6\\\",\\\"ticks\\\":\\\"\\\",\\\"showbackground\\\":true,\\\"zerolinecolor\\\":\\\"white\\\",\\\"linecolor\\\":\\\"white\\\"}},\\\"colorway\\\":[\\\"#636efa\\\",\\\"#EF553B\\\",\\\"#00cc96\\\",\\\"#ab63fa\\\",\\\"#FFA15A\\\",\\\"#19d3f3\\\",\\\"#FF6692\\\",\\\"#B6E880\\\",\\\"#FF97FF\\\",\\\"#FECB52\\\"]},\\\"data\\\":{\\\"barpolar\\\":[{\\\"type\\\":\\\"barpolar\\\",\\\"marker\\\":{\\\"line\\\":{\\\"color\\\":\\\"#E5ECF6\\\",\\\"width\\\":0.5}}}],\\\"carpet\\\":[{\\\"aaxis\\\":{\\\"gridcolor\\\":\\\"white\\\",\\\"endlinecolor\\\":\\\"#2a3f5f\\\",\\\"minorgridcolor\\\":\\\"white\\\",\\\"startlinecolor\\\":\\\"#2a3f5f\\\",\\\"linecolor\\\":\\\"white\\\"},\\\"type\\\":\\\"carpet\\\",\\\"baxis\\\":{\\\"gridcolor\\\":\\\"white\\\",\\\"endlinecolor\\\":\\\"#2a3f5f\\\",\\\"minorgridcolor\\\":\\\"white\\\",\\\"startlinecolor\\\":\\\"#2a3f5f\\\",\\\"linecolor\\\":\\\"white\\\"}}],\\\"scatterpolar\\\":[{\\\"type\\\":\\\"scatterpolar\\\",\\\"marker\\\":{\\\"colorbar\\\":{\\\"ticks\\\":\\\"\\\",\\\"outlinewidth\\\":0}}}],\\\"parcoords\\\":[{\\\"line\\\":{\\\"colorbar\\\":{\\\"ticks\\\":\\\"\\\",\\\"outlinewidth\\\":0}},\\\"type\\\":\\\"parcoords\\\"}],\\\"scatter\\\":[{\\\"type\\\":\\\"scatter\\\",\\\"marker\\\":{\\\"colorbar\\\":{\\\"ticks\\\":\\\"\\\",\\\"outlinewidth\\\":0}}}],\\\"histogram2dcontour\\\":[{\\\"colorbar\\\":{\\\"ticks\\\":\\\"\\\",\\\"outlinewidth\\\":0},\\\"type\\\":\\\"histogram2dcontour\\\",\\\"colorscale\\\":[[0.0,\\\"#0d0887\\\"],[0.1111111111111111,\\\"#46039f\\\"],[0.2222222222222222,\\\"#7201a8\\\"],[0.3333333333333333,\\\"#9c179e\\\"],[0.4444444444444444,\\\"#bd3786\\\"],[0.5555555555555556,\\\"#d8576b\\\"],[0.6666666666666666,\\\"#ed7953\\\"],[0.7777777777777778,\\\"#fb9f3a\\\"],[0.8888888888888888,\\\"#fdca26\\\"],[1.0,\\\"#f0f921\\\"]]}],\\\"contour\\\":[{\\\"colorbar\\\":{\\\"ticks\\\":\\\"\\\",\\\"outlinewidth\\\":0},\\\"type\\\":\\\"contour\\\",\\\"colorscale\\\":[[0.0,\\\"#0d0887\\\"],[0.1111111111111111,\\\"#46039f\\\"],[0.2222222222222222,\\\"#7201a8\\\"],[0.3333333333333333,\\\"#9c179e\\\"],[0.4444444444444444,\\\"#bd3786\\\"],[0.5555555555555556,\\\"#d8576b\\\"],[0.6666666666666666,\\\"#ed7953\\\"],[0.7777777777777778,\\\"#fb9f3a\\\"],[0.8888888888888888,\\\"#fdca26\\\"],[1.0,\\\"#f0f921\\\"]]}],\\\"scattercarpet\\\":[{\\\"type\\\":\\\"scattercarpet\\\",\\\"marker\\\":{\\\"colorbar\\\":{\\\"ticks\\\":\\\"\\\",\\\"outlinewidth\\\":0}}}],\\\"mesh3d\\\":[{\\\"colorbar\\\":{\\\"ticks\\\":\\\"\\\",\\\"outlinewidth\\\":0},\\\"type\\\":\\\"mesh3d\\\"}],\\\"surface\\\":[{\\\"colorbar\\\":{\\\"ticks\\\":\\\"\\\",\\\"outlinewidth\\\":0},\\\"type\\\":\\\"surface\\\",\\\"colorscale\\\":[[0.0,\\\"#0d0887\\\"],[0.1111111111111111,\\\"#46039f\\\"],[0.2222222222222222,\\\"#7201a8\\\"],[0.3333333333333333,\\\"#9c179e\\\"],[0.4444444444444444,\\\"#bd3786\\\"],[0.5555555555555556,\\\"#d8576b\\\"],[0.6666666666666666,\\\"#ed7953\\\"],[0.7777777777777778,\\\"#fb9f3a\\\"],[0.8888888888888888,\\\"#fdca26\\\"],[1.0,\\\"#f0f921\\\"]]}],\\\"scattermapbox\\\":[{\\\"type\\\":\\\"scattermapbox\\\",\\\"marker\\\":{\\\"colorbar\\\":{\\\"ticks\\\":\\\"\\\",\\\"outlinewidth\\\":0}}}],\\\"scattergeo\\\":[{\\\"type\\\":\\\"scattergeo\\\",\\\"marker\\\":{\\\"colorbar\\\":{\\\"ticks\\\":\\\"\\\",\\\"outlinewidth\\\":0}}}],\\\"histogram\\\":[{\\\"type\\\":\\\"histogram\\\",\\\"marker\\\":{\\\"colorbar\\\":{\\\"ticks\\\":\\\"\\\",\\\"outlinewidth\\\":0}}}],\\\"pie\\\":[{\\\"type\\\":\\\"pie\\\",\\\"automargin\\\":true}],\\\"choropleth\\\":[{\\\"colorbar\\\":{\\\"ticks\\\":\\\"\\\",\\\"outlinewidth\\\":0},\\\"type\\\":\\\"choropleth\\\"}],\\\"heatmapgl\\\":[{\\\"colorbar\\\":{\\\"ticks\\\":\\\"\\\",\\\"outlinewidth\\\":0},\\\"type\\\":\\\"heatmapgl\\\",\\\"colorscale\\\":[[0.0,\\\"#0d0887\\\"],[0.1111111111111111,\\\"#46039f\\\"],[0.2222222222222222,\\\"#7201a8\\\"],[0.3333333333333333,\\\"#9c179e\\\"],[0.4444444444444444,\\\"#bd3786\\\"],[0.5555555555555556,\\\"#d8576b\\\"],[0.6666666666666666,\\\"#ed7953\\\"],[0.7777777777777778,\\\"#fb9f3a\\\"],[0.8888888888888888,\\\"#fdca26\\\"],[1.0,\\\"#f0f921\\\"]]}],\\\"bar\\\":[{\\\"type\\\":\\\"bar\\\",\\\"error_y\\\":{\\\"color\\\":\\\"#2a3f5f\\\"},\\\"error_x\\\":{\\\"color\\\":\\\"#2a3f5f\\\"},\\\"marker\\\":{\\\"line\\\":{\\\"color\\\":\\\"#E5ECF6\\\",\\\"width\\\":0.5}}}],\\\"heatmap\\\":[{\\\"colorbar\\\":{\\\"ticks\\\":\\\"\\\",\\\"outlinewidth\\\":0},\\\"type\\\":\\\"heatmap\\\",\\\"colorscale\\\":[[0.0,\\\"#0d0887\\\"],[0.1111111111111111,\\\"#46039f\\\"],[0.2222222222222222,\\\"#7201a8\\\"],[0.3333333333333333,\\\"#9c179e\\\"],[0.4444444444444444,\\\"#bd3786\\\"],[0.5555555555555556,\\\"#d8576b\\\"],[0.6666666666666666,\\\"#ed7953\\\"],[0.7777777777777778,\\\"#fb9f3a\\\"],[0.8888888888888888,\\\"#fdca26\\\"],[1.0,\\\"#f0f921\\\"]]}],\\\"contourcarpet\\\":[{\\\"colorbar\\\":{\\\"ticks\\\":\\\"\\\",\\\"outlinewidth\\\":0},\\\"type\\\":\\\"contourcarpet\\\"}],\\\"table\\\":[{\\\"type\\\":\\\"table\\\",\\\"header\\\":{\\\"line\\\":{\\\"color\\\":\\\"white\\\"},\\\"fill\\\":{\\\"color\\\":\\\"#C8D4E3\\\"}},\\\"cells\\\":{\\\"line\\\":{\\\"color\\\":\\\"white\\\"},\\\"fill\\\":{\\\"color\\\":\\\"#EBF0F8\\\"}}}],\\\"scatter3d\\\":[{\\\"line\\\":{\\\"colorbar\\\":{\\\"ticks\\\":\\\"\\\",\\\"outlinewidth\\\":0}},\\\"type\\\":\\\"scatter3d\\\",\\\"marker\\\":{\\\"colorbar\\\":{\\\"ticks\\\":\\\"\\\",\\\"outlinewidth\\\":0}}}],\\\"scattergl\\\":[{\\\"type\\\":\\\"scattergl\\\",\\\"marker\\\":{\\\"colorbar\\\":{\\\"ticks\\\":\\\"\\\",\\\"outlinewidth\\\":0}}}],\\\"histogram2d\\\":[{\\\"colorbar\\\":{\\\"ticks\\\":\\\"\\\",\\\"outlinewidth\\\":0},\\\"type\\\":\\\"histogram2d\\\",\\\"colorscale\\\":[[0.0,\\\"#0d0887\\\"],[0.1111111111111111,\\\"#46039f\\\"],[0.2222222222222222,\\\"#7201a8\\\"],[0.3333333333333333,\\\"#9c179e\\\"],[0.4444444444444444,\\\"#bd3786\\\"],[0.5555555555555556,\\\"#d8576b\\\"],[0.6666666666666666,\\\"#ed7953\\\"],[0.7777777777777778,\\\"#fb9f3a\\\"],[0.8888888888888888,\\\"#fdca26\\\"],[1.0,\\\"#f0f921\\\"]]}],\\\"scatterternary\\\":[{\\\"type\\\":\\\"scatterternary\\\",\\\"marker\\\":{\\\"colorbar\\\":{\\\"ticks\\\":\\\"\\\",\\\"outlinewidth\\\":0}}}],\\\"scatterpolargl\\\":[{\\\"type\\\":\\\"scatterpolargl\\\",\\\"marker\\\":{\\\"colorbar\\\":{\\\"ticks\\\":\\\"\\\",\\\"outlinewidth\\\":0}}}]}},\\\"height\\\":600,\\\"margin\\\":{\\\"l\\\":50,\\\"b\\\":50,\\\"r\\\":50,\\\"t\\\":60},\\\"yaxis\\\":{\\\"range\\\":[-2,2]},\\\"width\\\":600},{\\\"showLink\\\":false,\\\"editable\\\":false,\\\"responsive\\\":true,\\\"staticPlot\\\":false,\\\"scrollZoom\\\":true}); gd.on(\\\"plotly_hover\\\",(function (data){var filtered_data=WebIO.PlotlyCommands.filterEventData(gd,data,\\\"hover\\\"); return !(filtered_data.isnil) ? (WebIO.setval({\\\"name\\\":\\\"hover\\\",\\\"scope\\\":\\\"246918370153049146\\\",\\\"id\\\":\\\"6766821413744778481\\\",\\\"type\\\":\\\"observable\\\"},filtered_data.out)) : undefined})); gd.on(\\\"plotly_unhover\\\",(function (){return WebIO.setval({\\\"name\\\":\\\"hover\\\",\\\"scope\\\":\\\"246918370153049146\\\",\\\"id\\\":\\\"6766821413744778481\\\",\\\"type\\\":\\\"observable\\\"},{})})); gd.on(\\\"plotly_selected\\\",(function (data){var filtered_data=WebIO.PlotlyCommands.filterEventData(gd,data,\\\"selected\\\"); return !(filtered_data.isnil) ? (WebIO.setval({\\\"name\\\":\\\"selected\\\",\\\"scope\\\":\\\"246918370153049146\\\",\\\"id\\\":\\\"13629332321537848063\\\",\\\"type\\\":\\\"observable\\\"},filtered_data.out)) : undefined})); gd.on(\\\"plotly_deselect\\\",(function (){return WebIO.setval({\\\"name\\\":\\\"selected\\\",\\\"scope\\\":\\\"246918370153049146\\\",\\\"id\\\":\\\"13629332321537848063\\\",\\\"type\\\":\\\"observable\\\"},{})})); gd.on(\\\"plotly_relayout\\\",(function (data){var filtered_data=WebIO.PlotlyCommands.filterEventData(gd,data,\\\"relayout\\\"); return !(filtered_data.isnil) ? (WebIO.setval({\\\"name\\\":\\\"relayout\\\",\\\"scope\\\":\\\"246918370153049146\\\",\\\"id\\\":\\\"18274766195833121992\\\",\\\"type\\\":\\\"observable\\\"},filtered_data.out)) : undefined})); return gd.on(\\\"plotly_click\\\",(function (data){var filtered_data=WebIO.PlotlyCommands.filterEventData(gd,data,\\\"click\\\"); return !(filtered_data.isnil) ? (WebIO.setval({\\\"name\\\":\\\"click\\\",\\\"scope\\\":\\\"246918370153049146\\\",\\\"id\\\":\\\"18310077632398365517\\\",\\\"type\\\":\\\"observable\\\"},filtered_data.out)) : undefined}))}));\\n    (WebIO.importBlock({\\\"data\\\":[{\\\"name\\\":\\\"Plotly\\\",\\\"type\\\":\\\"js\\\",\\\"url\\\":\\\"\\/assetserver\\/d66a736669047bda0b2d00471bd5207a90cf3193-plotly.min.js\\\"},{\\\"name\\\":null,\\\"type\\\":\\\"js\\\",\\\"url\\\":\\\"\\/assetserver\\/aee3160e397a4905b07437c5af565305d1ef6def-plotly_webio.bundle.js\\\"}],\\\"type\\\":\\\"async_block\\\"})).then((imports) => handler.apply(this, imports));\\n}\\n\"],\"observables\":{\"_toImage\":{\"sync\":false,\"id\":\"15238003763105638637\",\"value\":{}},\"hover\":{\"sync\":false,\"id\":\"6766821413744778481\",\"value\":{}},\"selected\":{\"sync\":false,\"id\":\"13629332321537848063\",\"value\":{}},\"__gd_contents\":{\"sync\":false,\"id\":\"12795722153006790291\",\"value\":{}},\"click\":{\"sync\":false,\"id\":\"18310077632398365517\",\"value\":{}},\"image\":{\"sync\":true,\"id\":\"3093579818552427908\",\"value\":\"\"},\"__get_gd_contents\":{\"sync\":false,\"id\":\"6179487466094706127\",\"value\":\"\"},\"_downloadImage\":{\"sync\":false,\"id\":\"6664005578840358007\",\"value\":{}},\"relayout\":{\"sync\":false,\"id\":\"18274766195833121992\",\"value\":{}},\"_commands\":{\"sync\":false,\"id\":\"2828540575602156085\",\"value\":[]}}},\"children\":[{\"props\":{\"id\":\"plot-f499c6e2-d79e-42b8-a8f4-4a903ea478a5\"},\"nodeType\":\"DOM\",\"type\":\"node\",\"instanceArgs\":{\"namespace\":\"html\",\"tag\":\"div\"},\"children\":[]}]},\n",
       "        window,\n",
       "    );\n",
       "    })()\n",
       "    </script>\n",
       "</div>\n"
      ],
      "text/plain": [
       "data: [\n",
       "  \"scatter with fields type, x, and y\",\n",
       "  \"scatter with fields name, type, x, and y\"\n",
       "]\n",
       "\n",
       "layout: \"layout with fields height, margin, template, width, xaxis, and yaxis\"\n",
       "\n"
      ]
     },
     "execution_count": 17,
     "metadata": {},
     "output_type": "execute_result"
    }
   ],
   "source": [
    "pt = plotgeometry(t)\n",
    "pe = plotenvelope(t)\n",
    "\n",
    "plot([pt,pe], layout)"
   ]
  },
  {
   "cell_type": "code",
   "execution_count": 18,
   "id": "729a0315-efe7-41e8-85fd-f6319c13eed8",
   "metadata": {},
   "outputs": [
    {
     "data": {
      "application/vnd.plotly.v1+json": {
       "config": {
        "editable": false,
        "responsive": true,
        "scrollZoom": true,
        "showLink": false,
        "staticPlot": false
       },
       "data": [
        {
         "name": "square",
         "type": "scatter",
         "x": [
          -1,
          1,
          1,
          -1,
          -1
         ],
         "y": [
          -1,
          -1,
          1,
          1,
          -1
         ]
        },
        {
         "name": "envelope",
         "type": "scatter",
         "x": [
          1,
          1.047418790962427,
          1.0893679543181516,
          1.125428347893473,
          1.1552396681557677,
          1.178504050247288,
          1.1949890441523567,
          1.2045299372610896,
          1.2070314001233442,
          1.2024684389490738,
          1.1908866453380182,
          1.1724017407435063,
          1.1471984202219498,
          1.1155285070208905,
          1.0777084364443505,
          1.0341160941358787,
          0.9851870403701082,
          0.931410158078472,
          0.8733227680925539,
          0.8115052604119555,
          0.7465752951392698,
          0.6791816310245081,
          0.6099976432821221,
          0.5397145954484479,
          0.4690347325049524,
          0.39866426427851137,
          0.3293063092262584,
          0.2616538691083843,
          0.19638290474362324,
          0.1341455820321957,
          0.07556375572971089,
          0.02122275608000551,
          -0.03003968381641351,
          -0.0851329621171919,
          -0.14437145472368537,
          -0.20716327019941175,
          -0.27288101348035276,
          -0.3408680545990427,
          -0.4104450895141513,
          -0.48091692749191706,
          -0.5515794372221582,
          -0.6217265822655713,
          -0.6906574755364444,
          -0.7576833823347399,
          -0.8221346019555483,
          -0.8833671591171588,
          -0.9407692383492053,
          -0.9937672970506052,
          -1.041831796137644,
          -1.084482491023454,
          -1.1212932300631826,
          -1.1518962125203567,
          -1.1759856635102652,
          -1.1933208892015312,
          -1.203728681749311,
          -1.207105049930826,
          -1.2034162581912855,
          -1.1926991637183988,
          -1.175060848177538,
          -1.150677547787136,
          -1.1197928924246463,
          -1.08271547135734,
          -1.0398157499203569,
          -1.0083362684338828,
          -1.0548670618043434,
          -1.0958538069079196,
          -1.130886977735954,
          -1.159616534425959,
          -1.1817554207442167,
          -1.1970824322567786,
          -1.2054444265310469,
          -1.2067578532843413,
          -1.201009589190704,
          -1.1882570690048349,
          -1.1686277116930086,
          -1.1423176473048824,
          -1.109589757306871,
          -1.0707710479574326,
          -1.0262493829686268,
          -0.9764696081001175,
          -0.9219291064073842,
          -0.8631728285546476,
          -0.8007878478479682,
          -0.7353974943928362,
          -0.6676551269857974,
          -0.5982376049693333,
          -0.5278385252770504,
          -0.4571612922423911,
          -0.38691208941505284,
          -0.31779282360838623,
          -0.2504941116785398,
          -0.18568838010912012,
          -0.12402314634804099,
          -0.06611454902722912,
          -0.012541191709075644,
          0.03898948213271542,
          0.09481946271442736,
          0.1546978732898172,
          0.21802642857358756,
          0.2841723705749803,
          0.3524747909064587,
          0.4222512343618504,
          0.4928045177831723,
          0.5634296960842946,
          0.6334211058292125,
          0.7020794159878389,
          0.7687186154204898,
          0.8326728672744222,
          0.8933031618055784,
          0.9500037011527134,
          1.0022079522693772,
          1.0493943075348438,
          1.0910912964850346,
          1.126882296589552,
          1.1564096960062833,
          1.1793784667207174,
          1.1955591123683416,
          1.2047899612864545,
          1.2069787818839806,
          1.2021037041890366,
          1.1902134383664638,
          1.1714267880219615,
          1.1459314631557327,
          1.1139822046262056,
          1.0758982388635865,
          1.0320600882648905
         ],
         "y": [
          0,
          0.0524146256844012,
          0.1093013764769098,
          0.17009185876786684,
          0.23417867415288268,
          0.30092148835691523,
          0.3696534292426786,
          0.4396877499766013,
          0.5103246907761787,
          0.5808584706784096,
          0.6505843394698784,
          0.7188056193179291,
          0.7848406657452766,
          0.8480296783963029,
          0.9077412935441098,
          0.9633788924681757,
          1.014386562671397,
          1.0602546523739969,
          1.100524862785641,
          1.1347948272754589,
          1.162722131686412,
          1.1840277356243658,
          1.198498760537468,
          1.2059906167282726,
          1.206428448046198,
          1.199807879825445,
          1.1861950625952056,
          1.1657260111254457,
          1.1386052454122817,
          1.1051037471817864,
          1.0655562523301563,
          1.020357906353285,
          1.0283344596111665,
          1.0726127320260568,
          1.1111696473031463,
          1.1436199574902082,
          1.1696394298144996,
          1.188968086309451,
          1.2014128014285679,
          1.2068492316920567,
          1.2052230580857701,
          1.1965505287988398,
          1.1809182968771437,
          1.1584825544147155,
          1.1294674719339677,
          1.0941629585479384,
          1.0529217652842593,
          1.0061559605134958,
          0.9543328126981966,
          0.8979701216008784,
          0.8376310445999562,
          0.7739184698073756,
          0.7074689922098881,
          0.6389465530223696,
          0.5690358058066762,
          0.4984352756395659,
          0.4278503796810354,
          0.3579863788792389,
          0.2895413312362186,
          0.22319911704310008,
          0.15962260577427995,
          0.09944703291475518,
          0.043273652897139456,
          -0.008477632050467736,
          -0.06168214304615052,
          -0.11926618117989601,
          -0.1806543857774247,
          -0.24523338619063953,
          -0.3123579303943921,
          -0.38135733213142164,
          -0.4515421721877422,
          -0.5222111868415352,
          -0.5926582746584493,
          -0.6621795516237301,
          -0.7300803841186183,
          -0.7956823294698565,
          -0.8583299147246161,
          -0.9173971859195681,
          -0.9722939624059781,
          -1.0224717337396545,
          -1.0674291402159977,
          -1.1067169822904388,
          -1.1399427088318044,
          -1.166774339363457,
          -1.186943781102483,
          -1.2002495076541568,
          -1.206558572597063,
          -1.205807937839791,
          -1.198005103476709,
          -1.1832280328494986,
          -1.1616243735632168,
          -1.133409982240232,
          -1.098866767752205,
          -1.058339874479833,
          -1.0122342337442822,
          -1.0361616383290941,
          -1.079507318508554,
          -1.117062753121127,
          -1.1484527006783407,
          -1.1733635232003412,
          -1.1915463199829113,
          -1.2028194145310331,
          -1.2070701698103714,
          -1.204256113679288,
          -1.1944053632564413,
          -1.1776163439838312,
          -1.1540568061923178,
          -1.1239621489957663,
          -1.0876330682609132,
          -1.045432552153664,
          -0.9977822542813265,
          -0.9451582806691452,
          -0.8880864326662823,
          -0.8271369533125371,
          -0.7629188296583923,
          -0.6960737079677115,
          -0.6272694826003664,
          -0.5571936226325774,
          -0.4865463028931418,
          -0.41603340804799704,
          -0.3463594796339715,
          -0.27822067651263827,
          -0.2122978190810946,
          -0.14924958673959562,
          -0.08970593658472288,
          -0.03426180908631001
         ]
        }
       ],
       "frames": [],
       "layout": {
        "height": 600,
        "margin": {
         "b": 50,
         "l": 50,
         "r": 50,
         "t": 60
        },
        "template": {
         "data": {
          "bar": [
           {
            "error_x": {
             "color": "#2a3f5f"
            },
            "error_y": {
             "color": "#2a3f5f"
            },
            "marker": {
             "line": {
              "color": "#E5ECF6",
              "width": 0.5
             }
            },
            "type": "bar"
           }
          ],
          "barpolar": [
           {
            "marker": {
             "line": {
              "color": "#E5ECF6",
              "width": 0.5
             }
            },
            "type": "barpolar"
           }
          ],
          "carpet": [
           {
            "aaxis": {
             "endlinecolor": "#2a3f5f",
             "gridcolor": "white",
             "linecolor": "white",
             "minorgridcolor": "white",
             "startlinecolor": "#2a3f5f"
            },
            "baxis": {
             "endlinecolor": "#2a3f5f",
             "gridcolor": "white",
             "linecolor": "white",
             "minorgridcolor": "white",
             "startlinecolor": "#2a3f5f"
            },
            "type": "carpet"
           }
          ],
          "choropleth": [
           {
            "colorbar": {
             "outlinewidth": 0,
             "ticks": ""
            },
            "type": "choropleth"
           }
          ],
          "contour": [
           {
            "colorbar": {
             "outlinewidth": 0,
             "ticks": ""
            },
            "colorscale": [
             [
              0,
              "#0d0887"
             ],
             [
              0.1111111111111111,
              "#46039f"
             ],
             [
              0.2222222222222222,
              "#7201a8"
             ],
             [
              0.3333333333333333,
              "#9c179e"
             ],
             [
              0.4444444444444444,
              "#bd3786"
             ],
             [
              0.5555555555555556,
              "#d8576b"
             ],
             [
              0.6666666666666666,
              "#ed7953"
             ],
             [
              0.7777777777777778,
              "#fb9f3a"
             ],
             [
              0.8888888888888888,
              "#fdca26"
             ],
             [
              1,
              "#f0f921"
             ]
            ],
            "type": "contour"
           }
          ],
          "contourcarpet": [
           {
            "colorbar": {
             "outlinewidth": 0,
             "ticks": ""
            },
            "type": "contourcarpet"
           }
          ],
          "heatmap": [
           {
            "colorbar": {
             "outlinewidth": 0,
             "ticks": ""
            },
            "colorscale": [
             [
              0,
              "#0d0887"
             ],
             [
              0.1111111111111111,
              "#46039f"
             ],
             [
              0.2222222222222222,
              "#7201a8"
             ],
             [
              0.3333333333333333,
              "#9c179e"
             ],
             [
              0.4444444444444444,
              "#bd3786"
             ],
             [
              0.5555555555555556,
              "#d8576b"
             ],
             [
              0.6666666666666666,
              "#ed7953"
             ],
             [
              0.7777777777777778,
              "#fb9f3a"
             ],
             [
              0.8888888888888888,
              "#fdca26"
             ],
             [
              1,
              "#f0f921"
             ]
            ],
            "type": "heatmap"
           }
          ],
          "heatmapgl": [
           {
            "colorbar": {
             "outlinewidth": 0,
             "ticks": ""
            },
            "colorscale": [
             [
              0,
              "#0d0887"
             ],
             [
              0.1111111111111111,
              "#46039f"
             ],
             [
              0.2222222222222222,
              "#7201a8"
             ],
             [
              0.3333333333333333,
              "#9c179e"
             ],
             [
              0.4444444444444444,
              "#bd3786"
             ],
             [
              0.5555555555555556,
              "#d8576b"
             ],
             [
              0.6666666666666666,
              "#ed7953"
             ],
             [
              0.7777777777777778,
              "#fb9f3a"
             ],
             [
              0.8888888888888888,
              "#fdca26"
             ],
             [
              1,
              "#f0f921"
             ]
            ],
            "type": "heatmapgl"
           }
          ],
          "histogram": [
           {
            "marker": {
             "colorbar": {
              "outlinewidth": 0,
              "ticks": ""
             }
            },
            "type": "histogram"
           }
          ],
          "histogram2d": [
           {
            "colorbar": {
             "outlinewidth": 0,
             "ticks": ""
            },
            "colorscale": [
             [
              0,
              "#0d0887"
             ],
             [
              0.1111111111111111,
              "#46039f"
             ],
             [
              0.2222222222222222,
              "#7201a8"
             ],
             [
              0.3333333333333333,
              "#9c179e"
             ],
             [
              0.4444444444444444,
              "#bd3786"
             ],
             [
              0.5555555555555556,
              "#d8576b"
             ],
             [
              0.6666666666666666,
              "#ed7953"
             ],
             [
              0.7777777777777778,
              "#fb9f3a"
             ],
             [
              0.8888888888888888,
              "#fdca26"
             ],
             [
              1,
              "#f0f921"
             ]
            ],
            "type": "histogram2d"
           }
          ],
          "histogram2dcontour": [
           {
            "colorbar": {
             "outlinewidth": 0,
             "ticks": ""
            },
            "colorscale": [
             [
              0,
              "#0d0887"
             ],
             [
              0.1111111111111111,
              "#46039f"
             ],
             [
              0.2222222222222222,
              "#7201a8"
             ],
             [
              0.3333333333333333,
              "#9c179e"
             ],
             [
              0.4444444444444444,
              "#bd3786"
             ],
             [
              0.5555555555555556,
              "#d8576b"
             ],
             [
              0.6666666666666666,
              "#ed7953"
             ],
             [
              0.7777777777777778,
              "#fb9f3a"
             ],
             [
              0.8888888888888888,
              "#fdca26"
             ],
             [
              1,
              "#f0f921"
             ]
            ],
            "type": "histogram2dcontour"
           }
          ],
          "mesh3d": [
           {
            "colorbar": {
             "outlinewidth": 0,
             "ticks": ""
            },
            "type": "mesh3d"
           }
          ],
          "parcoords": [
           {
            "line": {
             "colorbar": {
              "outlinewidth": 0,
              "ticks": ""
             }
            },
            "type": "parcoords"
           }
          ],
          "pie": [
           {
            "automargin": true,
            "type": "pie"
           }
          ],
          "scatter": [
           {
            "marker": {
             "colorbar": {
              "outlinewidth": 0,
              "ticks": ""
             }
            },
            "type": "scatter"
           }
          ],
          "scatter3d": [
           {
            "line": {
             "colorbar": {
              "outlinewidth": 0,
              "ticks": ""
             }
            },
            "marker": {
             "colorbar": {
              "outlinewidth": 0,
              "ticks": ""
             }
            },
            "type": "scatter3d"
           }
          ],
          "scattercarpet": [
           {
            "marker": {
             "colorbar": {
              "outlinewidth": 0,
              "ticks": ""
             }
            },
            "type": "scattercarpet"
           }
          ],
          "scattergeo": [
           {
            "marker": {
             "colorbar": {
              "outlinewidth": 0,
              "ticks": ""
             }
            },
            "type": "scattergeo"
           }
          ],
          "scattergl": [
           {
            "marker": {
             "colorbar": {
              "outlinewidth": 0,
              "ticks": ""
             }
            },
            "type": "scattergl"
           }
          ],
          "scattermapbox": [
           {
            "marker": {
             "colorbar": {
              "outlinewidth": 0,
              "ticks": ""
             }
            },
            "type": "scattermapbox"
           }
          ],
          "scatterpolar": [
           {
            "marker": {
             "colorbar": {
              "outlinewidth": 0,
              "ticks": ""
             }
            },
            "type": "scatterpolar"
           }
          ],
          "scatterpolargl": [
           {
            "marker": {
             "colorbar": {
              "outlinewidth": 0,
              "ticks": ""
             }
            },
            "type": "scatterpolargl"
           }
          ],
          "scatterternary": [
           {
            "marker": {
             "colorbar": {
              "outlinewidth": 0,
              "ticks": ""
             }
            },
            "type": "scatterternary"
           }
          ],
          "surface": [
           {
            "colorbar": {
             "outlinewidth": 0,
             "ticks": ""
            },
            "colorscale": [
             [
              0,
              "#0d0887"
             ],
             [
              0.1111111111111111,
              "#46039f"
             ],
             [
              0.2222222222222222,
              "#7201a8"
             ],
             [
              0.3333333333333333,
              "#9c179e"
             ],
             [
              0.4444444444444444,
              "#bd3786"
             ],
             [
              0.5555555555555556,
              "#d8576b"
             ],
             [
              0.6666666666666666,
              "#ed7953"
             ],
             [
              0.7777777777777778,
              "#fb9f3a"
             ],
             [
              0.8888888888888888,
              "#fdca26"
             ],
             [
              1,
              "#f0f921"
             ]
            ],
            "type": "surface"
           }
          ],
          "table": [
           {
            "cells": {
             "fill": {
              "color": "#EBF0F8"
             },
             "line": {
              "color": "white"
             }
            },
            "header": {
             "fill": {
              "color": "#C8D4E3"
             },
             "line": {
              "color": "white"
             }
            },
            "type": "table"
           }
          ]
         },
         "layout": {
          "annotationdefaults": {
           "arrowcolor": "#2a3f5f",
           "arrowhead": 0,
           "arrowwidth": 1
          },
          "autotypenumbers": "strict",
          "coloraxis": {
           "colorbar": {
            "outlinewidth": 0,
            "ticks": ""
           }
          },
          "colorscale": {
           "diverging": [
            [
             0,
             "#8e0152"
            ],
            [
             0.1,
             "#c51b7d"
            ],
            [
             0.2,
             "#de77ae"
            ],
            [
             0.3,
             "#f1b6da"
            ],
            [
             0.4,
             "#fde0ef"
            ],
            [
             0.5,
             "#f7f7f7"
            ],
            [
             0.6,
             "#e6f5d0"
            ],
            [
             0.7,
             "#b8e186"
            ],
            [
             0.8,
             "#7fbc41"
            ],
            [
             0.9,
             "#4d9221"
            ],
            [
             1,
             "#276419"
            ]
           ],
           "sequential": [
            [
             0,
             "#0d0887"
            ],
            [
             0.1111111111111111,
             "#46039f"
            ],
            [
             0.2222222222222222,
             "#7201a8"
            ],
            [
             0.3333333333333333,
             "#9c179e"
            ],
            [
             0.4444444444444444,
             "#bd3786"
            ],
            [
             0.5555555555555556,
             "#d8576b"
            ],
            [
             0.6666666666666666,
             "#ed7953"
            ],
            [
             0.7777777777777778,
             "#fb9f3a"
            ],
            [
             0.8888888888888888,
             "#fdca26"
            ],
            [
             1,
             "#f0f921"
            ]
           ],
           "sequentialminus": [
            [
             0,
             "#0d0887"
            ],
            [
             0.1111111111111111,
             "#46039f"
            ],
            [
             0.2222222222222222,
             "#7201a8"
            ],
            [
             0.3333333333333333,
             "#9c179e"
            ],
            [
             0.4444444444444444,
             "#bd3786"
            ],
            [
             0.5555555555555556,
             "#d8576b"
            ],
            [
             0.6666666666666666,
             "#ed7953"
            ],
            [
             0.7777777777777778,
             "#fb9f3a"
            ],
            [
             0.8888888888888888,
             "#fdca26"
            ],
            [
             1,
             "#f0f921"
            ]
           ]
          },
          "colorway": [
           "#636efa",
           "#EF553B",
           "#00cc96",
           "#ab63fa",
           "#FFA15A",
           "#19d3f3",
           "#FF6692",
           "#B6E880",
           "#FF97FF",
           "#FECB52"
          ],
          "font": {
           "color": "#2a3f5f"
          },
          "geo": {
           "bgcolor": "white",
           "lakecolor": "white",
           "landcolor": "#E5ECF6",
           "showlakes": true,
           "showland": true,
           "subunitcolor": "white"
          },
          "hoverlabel": {
           "align": "left"
          },
          "hovermode": "closest",
          "mapbox": {
           "style": "light"
          },
          "paper_bgcolor": "white",
          "plot_bgcolor": "#E5ECF6",
          "polar": {
           "angularaxis": {
            "gridcolor": "white",
            "linecolor": "white",
            "ticks": ""
           },
           "bgcolor": "#E5ECF6",
           "radialaxis": {
            "gridcolor": "white",
            "linecolor": "white",
            "ticks": ""
           }
          },
          "scene": {
           "xaxis": {
            "backgroundcolor": "#E5ECF6",
            "gridcolor": "white",
            "gridwidth": 2,
            "linecolor": "white",
            "showbackground": true,
            "ticks": "",
            "zerolinecolor": "white"
           },
           "yaxis": {
            "backgroundcolor": "#E5ECF6",
            "gridcolor": "white",
            "gridwidth": 2,
            "linecolor": "white",
            "showbackground": true,
            "ticks": "",
            "zerolinecolor": "white"
           },
           "zaxis": {
            "backgroundcolor": "#E5ECF6",
            "gridcolor": "white",
            "gridwidth": 2,
            "linecolor": "white",
            "showbackground": true,
            "ticks": "",
            "zerolinecolor": "white"
           }
          },
          "shapedefaults": {
           "line": {
            "color": "#2a3f5f"
           }
          },
          "ternary": {
           "aaxis": {
            "gridcolor": "white",
            "linecolor": "white",
            "ticks": ""
           },
           "baxis": {
            "gridcolor": "white",
            "linecolor": "white",
            "ticks": ""
           },
           "bgcolor": "#E5ECF6",
           "caxis": {
            "gridcolor": "white",
            "linecolor": "white",
            "ticks": ""
           }
          },
          "title": {
           "x": 0.05
          },
          "xaxis": {
           "automargin": true,
           "gridcolor": "white",
           "linecolor": "white",
           "ticks": "",
           "title": {
            "standoff": 15
           },
           "zerolinecolor": "white",
           "zerolinewidth": 2
          },
          "yaxis": {
           "automargin": true,
           "gridcolor": "white",
           "linecolor": "white",
           "ticks": "",
           "title": {
            "standoff": 15
           },
           "zerolinecolor": "white",
           "zerolinewidth": 2
          }
         }
        },
        "width": 600,
        "xaxis": {
         "autorange": false,
         "range": [
          -1.798657029149089,
          1.7770494908138696
         ],
         "type": "linear"
        },
        "yaxis": {
         "autorange": false,
         "range": [
          -1.7518370213380292,
          1.8238694986249298
         ],
         "type": "linear"
        }
       }
      },
      "image/png": "[encoded data removed]",
      "text/html": [
       "<div\n",
       "    class=\"webio-mountpoint\"\n",
       "    data-webio-mountpoint=\"10554230415514692926\"\n",
       ">\n",
       "    <script>\n",
       "    (function(){\n",
       "    // Some integrations (namely, IJulia/Jupyter) use an alternate render pathway than\n",
       "    // just putting the html on the page. If WebIO isn't defined, then it's pretty likely\n",
       "    // that we're in one of those situations and the integration just isn't installed\n",
       "    // correctly.\n",
       "    if (typeof window.WebIO === \"undefined\") {\n",
       "        document\n",
       "            .querySelector('[data-webio-mountpoint=\"10554230415514692926\"]')\n",
       "            .innerHTML = (\n",
       "                '<div style=\"padding: 1em; background-color: #f8d6da; border: 1px solid #f5c6cb; font-weight: bold;\">' +\n",
       "                '<p><strong>WebIO not detected.</strong></p>' +\n",
       "                '<p>Please read ' +\n",
       "                '<a href=\"https://juliagizmos.github.io/WebIO.jl/latest/troubleshooting/not-detected/\" target=\"_blank\">the troubleshooting guide</a> ' +\n",
       "                'for more information on how to resolve this issue.</p>' +\n",
       "                '<p><a href=\"https://juliagizmos.github.io/WebIO.jl/latest/troubleshooting/not-detected/\" target=\"_blank\">https://juliagizmos.github.io/WebIO.jl/latest/troubleshooting/not-detected/</a></p>' +\n",
       "                '</div>'\n",
       "            );\n",
       "        return;\n",
       "    }\n",
       "    WebIO.mount(\n",
       "        document.querySelector('[data-webio-mountpoint=\"10554230415514692926\"]'),\n",
       "        {\"props\":{},\"nodeType\":\"Scope\",\"type\":\"node\",\"instanceArgs\":{\"imports\":{\"data\":[{\"name\":\"Plotly\",\"type\":\"js\",\"url\":\"\\/assetserver\\/d66a736669047bda0b2d00471bd5207a90cf3193-plotly.min.js\"},{\"name\":null,\"type\":\"js\",\"url\":\"\\/assetserver\\/aee3160e397a4905b07437c5af565305d1ef6def-plotly_webio.bundle.js\"}],\"type\":\"async_block\"},\"id\":\"10702950960752629620\",\"handlers\":{\"_toImage\":[\"(function (options){return this.Plotly.toImage(this.plotElem,options).then((function (data){return WebIO.setval({\\\"name\\\":\\\"image\\\",\\\"scope\\\":\\\"10702950960752629620\\\",\\\"id\\\":\\\"6329660520833105237\\\",\\\"type\\\":\\\"observable\\\"},data)}))})\"],\"__get_gd_contents\":[\"(function (prop){prop==\\\"data\\\" ? (WebIO.setval({\\\"name\\\":\\\"__gd_contents\\\",\\\"scope\\\":\\\"10702950960752629620\\\",\\\"id\\\":\\\"10698326337373046948\\\",\\\"type\\\":\\\"observable\\\"},this.plotElem.data)) : undefined; return prop==\\\"layout\\\" ? (WebIO.setval({\\\"name\\\":\\\"__gd_contents\\\",\\\"scope\\\":\\\"10702950960752629620\\\",\\\"id\\\":\\\"10698326337373046948\\\",\\\"type\\\":\\\"observable\\\"},this.plotElem.layout)) : undefined})\"],\"_downloadImage\":[\"(function (options){return this.Plotly.downloadImage(this.plotElem,options)})\"],\"_commands\":[\"(function (args){var fn=args.shift(); var elem=this.plotElem; var Plotly=this.Plotly; args.unshift(elem); return Plotly[fn].apply(this,args)})\"]},\"systemjs_options\":null,\"mount_callbacks\":[\"function () {\\n    var handler = ((function (Plotly,PlotlyWebIO){PlotlyWebIO.init(WebIO); var gd=this.dom.querySelector(\\\"#plot-3f3ec9ac-812e-4114-b56b-6e72aac63018\\\"); this.plotElem=gd; this.Plotly=Plotly; (window.Blink!==undefined) ? (gd.style.width=\\\"100%\\\", gd.style.height=\\\"100vh\\\", gd.style.marginLeft=\\\"0%\\\", gd.style.marginTop=\\\"0vh\\\") : undefined; window.onresize=(function (){return Plotly.Plots.resize(gd)}); Plotly.newPlot(gd,[{\\\"y\\\":[-1.0,-1.0,1.0,1.0,-1.0],\\\"type\\\":\\\"scatter\\\",\\\"name\\\":\\\"square\\\",\\\"x\\\":[-1.0,1.0,1.0,-1.0,-1.0]},{\\\"y\\\":[0.0,0.0524146256844012,0.1093013764769098,0.17009185876786684,0.23417867415288268,0.30092148835691523,0.3696534292426786,0.4396877499766013,0.5103246907761787,0.5808584706784096,0.6505843394698784,0.7188056193179291,0.7848406657452766,0.8480296783963029,0.9077412935441098,0.9633788924681757,1.014386562671397,1.0602546523739969,1.100524862785641,1.1347948272754589,1.162722131686412,1.1840277356243658,1.198498760537468,1.2059906167282726,1.206428448046198,1.199807879825445,1.1861950625952056,1.1657260111254457,1.1386052454122817,1.1051037471817864,1.0655562523301563,1.020357906353285,1.0283344596111665,1.0726127320260568,1.1111696473031463,1.1436199574902082,1.1696394298144996,1.188968086309451,1.2014128014285679,1.2068492316920567,1.2052230580857701,1.1965505287988398,1.1809182968771437,1.1584825544147155,1.1294674719339677,1.0941629585479384,1.0529217652842593,1.0061559605134958,0.9543328126981966,0.8979701216008784,0.8376310445999562,0.7739184698073756,0.7074689922098881,0.6389465530223696,0.5690358058066762,0.4984352756395659,0.4278503796810354,0.3579863788792389,0.2895413312362186,0.22319911704310008,0.15962260577427995,0.09944703291475518,0.043273652897139456,-0.008477632050467736,-0.06168214304615052,-0.11926618117989601,-0.1806543857774247,-0.24523338619063953,-0.3123579303943921,-0.38135733213142164,-0.4515421721877422,-0.5222111868415352,-0.5926582746584493,-0.6621795516237301,-0.7300803841186183,-0.7956823294698565,-0.8583299147246161,-0.9173971859195681,-0.9722939624059781,-1.0224717337396545,-1.0674291402159977,-1.1067169822904388,-1.1399427088318044,-1.166774339363457,-1.186943781102483,-1.2002495076541568,-1.206558572597063,-1.205807937839791,-1.198005103476709,-1.1832280328494986,-1.1616243735632168,-1.133409982240232,-1.098866767752205,-1.058339874479833,-1.0122342337442822,-1.0361616383290941,-1.079507318508554,-1.117062753121127,-1.1484527006783407,-1.1733635232003412,-1.1915463199829113,-1.2028194145310331,-1.2070701698103714,-1.204256113679288,-1.1944053632564413,-1.1776163439838312,-1.1540568061923178,-1.1239621489957663,-1.0876330682609132,-1.045432552153664,-0.9977822542813265,-0.9451582806691452,-0.8880864326662823,-0.8271369533125371,-0.7629188296583923,-0.6960737079677115,-0.6272694826003664,-0.5571936226325774,-0.4865463028931418,-0.41603340804799704,-0.3463594796339715,-0.27822067651263827,-0.2122978190810946,-0.14924958673959562,-0.08970593658472288,-0.03426180908631001],\\\"type\\\":\\\"scatter\\\",\\\"name\\\":\\\"envelope\\\",\\\"x\\\":[1.0,1.047418790962427,1.0893679543181516,1.125428347893473,1.1552396681557677,1.178504050247288,1.1949890441523567,1.2045299372610896,1.2070314001233442,1.2024684389490738,1.1908866453380182,1.1724017407435063,1.1471984202219498,1.1155285070208905,1.0777084364443505,1.0341160941358787,0.9851870403701082,0.931410158078472,0.8733227680925539,0.8115052604119555,0.7465752951392698,0.6791816310245081,0.6099976432821221,0.5397145954484479,0.4690347325049524,0.39866426427851137,0.3293063092262584,0.2616538691083843,0.19638290474362324,0.1341455820321957,0.07556375572971089,0.02122275608000551,-0.03003968381641351,-0.0851329621171919,-0.14437145472368537,-0.20716327019941175,-0.27288101348035276,-0.3408680545990427,-0.4104450895141513,-0.48091692749191706,-0.5515794372221582,-0.6217265822655713,-0.6906574755364444,-0.7576833823347399,-0.8221346019555483,-0.8833671591171588,-0.9407692383492053,-0.9937672970506052,-1.041831796137644,-1.084482491023454,-1.1212932300631826,-1.1518962125203567,-1.1759856635102652,-1.1933208892015312,-1.203728681749311,-1.207105049930826,-1.2034162581912855,-1.1926991637183988,-1.175060848177538,-1.150677547787136,-1.1197928924246463,-1.08271547135734,-1.0398157499203569,-1.0083362684338828,-1.0548670618043434,-1.0958538069079196,-1.130886977735954,-1.159616534425959,-1.1817554207442167,-1.1970824322567786,-1.2054444265310469,-1.2067578532843413,-1.201009589190704,-1.1882570690048349,-1.1686277116930086,-1.1423176473048824,-1.109589757306871,-1.0707710479574326,-1.0262493829686268,-0.9764696081001175,-0.9219291064073842,-0.8631728285546476,-0.8007878478479682,-0.7353974943928362,-0.6676551269857974,-0.5982376049693333,-0.5278385252770504,-0.4571612922423911,-0.38691208941505284,-0.31779282360838623,-0.2504941116785398,-0.18568838010912012,-0.12402314634804099,-0.06611454902722912,-0.012541191709075644,0.03898948213271542,0.09481946271442736,0.1546978732898172,0.21802642857358756,0.2841723705749803,0.3524747909064587,0.4222512343618504,0.4928045177831723,0.5634296960842946,0.6334211058292125,0.7020794159878389,0.7687186154204898,0.8326728672744222,0.8933031618055784,0.9500037011527134,1.0022079522693772,1.0493943075348438,1.0910912964850346,1.126882296589552,1.1564096960062833,1.1793784667207174,1.1955591123683416,1.2047899612864545,1.2069787818839806,1.2021037041890366,1.1902134383664638,1.1714267880219615,1.1459314631557327,1.1139822046262056,1.0758982388635865,1.0320600882648905]}],{\\\"xaxis\\\":{\\\"range\\\":[-2,2]},\\\"template\\\":{\\\"layout\\\":{\\\"coloraxis\\\":{\\\"colorbar\\\":{\\\"ticks\\\":\\\"\\\",\\\"outlinewidth\\\":0}},\\\"xaxis\\\":{\\\"gridcolor\\\":\\\"white\\\",\\\"zerolinewidth\\\":2,\\\"title\\\":{\\\"standoff\\\":15},\\\"ticks\\\":\\\"\\\",\\\"zerolinecolor\\\":\\\"white\\\",\\\"automargin\\\":true,\\\"linecolor\\\":\\\"white\\\"},\\\"hovermode\\\":\\\"closest\\\",\\\"paper_bgcolor\\\":\\\"white\\\",\\\"geo\\\":{\\\"showlakes\\\":true,\\\"showland\\\":true,\\\"landcolor\\\":\\\"#E5ECF6\\\",\\\"bgcolor\\\":\\\"white\\\",\\\"subunitcolor\\\":\\\"white\\\",\\\"lakecolor\\\":\\\"white\\\"},\\\"colorscale\\\":{\\\"sequential\\\":[[0.0,\\\"#0d0887\\\"],[0.1111111111111111,\\\"#46039f\\\"],[0.2222222222222222,\\\"#7201a8\\\"],[0.3333333333333333,\\\"#9c179e\\\"],[0.4444444444444444,\\\"#bd3786\\\"],[0.5555555555555556,\\\"#d8576b\\\"],[0.6666666666666666,\\\"#ed7953\\\"],[0.7777777777777778,\\\"#fb9f3a\\\"],[0.8888888888888888,\\\"#fdca26\\\"],[1.0,\\\"#f0f921\\\"]],\\\"diverging\\\":[[0,\\\"#8e0152\\\"],[0.1,\\\"#c51b7d\\\"],[0.2,\\\"#de77ae\\\"],[0.3,\\\"#f1b6da\\\"],[0.4,\\\"#fde0ef\\\"],[0.5,\\\"#f7f7f7\\\"],[0.6,\\\"#e6f5d0\\\"],[0.7,\\\"#b8e186\\\"],[0.8,\\\"#7fbc41\\\"],[0.9,\\\"#4d9221\\\"],[1,\\\"#276419\\\"]],\\\"sequentialminus\\\":[[0.0,\\\"#0d0887\\\"],[0.1111111111111111,\\\"#46039f\\\"],[0.2222222222222222,\\\"#7201a8\\\"],[0.3333333333333333,\\\"#9c179e\\\"],[0.4444444444444444,\\\"#bd3786\\\"],[0.5555555555555556,\\\"#d8576b\\\"],[0.6666666666666666,\\\"#ed7953\\\"],[0.7777777777777778,\\\"#fb9f3a\\\"],[0.8888888888888888,\\\"#fdca26\\\"],[1.0,\\\"#f0f921\\\"]]},\\\"yaxis\\\":{\\\"gridcolor\\\":\\\"white\\\",\\\"zerolinewidth\\\":2,\\\"title\\\":{\\\"standoff\\\":15},\\\"ticks\\\":\\\"\\\",\\\"zerolinecolor\\\":\\\"white\\\",\\\"automargin\\\":true,\\\"linecolor\\\":\\\"white\\\"},\\\"shapedefaults\\\":{\\\"line\\\":{\\\"color\\\":\\\"#2a3f5f\\\"}},\\\"hoverlabel\\\":{\\\"align\\\":\\\"left\\\"},\\\"mapbox\\\":{\\\"style\\\":\\\"light\\\"},\\\"polar\\\":{\\\"angularaxis\\\":{\\\"gridcolor\\\":\\\"white\\\",\\\"ticks\\\":\\\"\\\",\\\"linecolor\\\":\\\"white\\\"},\\\"bgcolor\\\":\\\"#E5ECF6\\\",\\\"radialaxis\\\":{\\\"gridcolor\\\":\\\"white\\\",\\\"ticks\\\":\\\"\\\",\\\"linecolor\\\":\\\"white\\\"}},\\\"autotypenumbers\\\":\\\"strict\\\",\\\"font\\\":{\\\"color\\\":\\\"#2a3f5f\\\"},\\\"ternary\\\":{\\\"baxis\\\":{\\\"gridcolor\\\":\\\"white\\\",\\\"ticks\\\":\\\"\\\",\\\"linecolor\\\":\\\"white\\\"},\\\"bgcolor\\\":\\\"#E5ECF6\\\",\\\"caxis\\\":{\\\"gridcolor\\\":\\\"white\\\",\\\"ticks\\\":\\\"\\\",\\\"linecolor\\\":\\\"white\\\"},\\\"aaxis\\\":{\\\"gridcolor\\\":\\\"white\\\",\\\"ticks\\\":\\\"\\\",\\\"linecolor\\\":\\\"white\\\"}},\\\"annotationdefaults\\\":{\\\"arrowhead\\\":0,\\\"arrowwidth\\\":1,\\\"arrowcolor\\\":\\\"#2a3f5f\\\"},\\\"plot_bgcolor\\\":\\\"#E5ECF6\\\",\\\"title\\\":{\\\"x\\\":0.05},\\\"scene\\\":{\\\"xaxis\\\":{\\\"gridcolor\\\":\\\"white\\\",\\\"gridwidth\\\":2,\\\"backgroundcolor\\\":\\\"#E5ECF6\\\",\\\"ticks\\\":\\\"\\\",\\\"showbackground\\\":true,\\\"zerolinecolor\\\":\\\"white\\\",\\\"linecolor\\\":\\\"white\\\"},\\\"zaxis\\\":{\\\"gridcolor\\\":\\\"white\\\",\\\"gridwidth\\\":2,\\\"backgroundcolor\\\":\\\"#E5ECF6\\\",\\\"ticks\\\":\\\"\\\",\\\"showbackground\\\":true,\\\"zerolinecolor\\\":\\\"white\\\",\\\"linecolor\\\":\\\"white\\\"},\\\"yaxis\\\":{\\\"gridcolor\\\":\\\"white\\\",\\\"gridwidth\\\":2,\\\"backgroundcolor\\\":\\\"#E5ECF6\\\",\\\"ticks\\\":\\\"\\\",\\\"showbackground\\\":true,\\\"zerolinecolor\\\":\\\"white\\\",\\\"linecolor\\\":\\\"white\\\"}},\\\"colorway\\\":[\\\"#636efa\\\",\\\"#EF553B\\\",\\\"#00cc96\\\",\\\"#ab63fa\\\",\\\"#FFA15A\\\",\\\"#19d3f3\\\",\\\"#FF6692\\\",\\\"#B6E880\\\",\\\"#FF97FF\\\",\\\"#FECB52\\\"]},\\\"data\\\":{\\\"barpolar\\\":[{\\\"type\\\":\\\"barpolar\\\",\\\"marker\\\":{\\\"line\\\":{\\\"color\\\":\\\"#E5ECF6\\\",\\\"width\\\":0.5}}}],\\\"carpet\\\":[{\\\"aaxis\\\":{\\\"gridcolor\\\":\\\"white\\\",\\\"endlinecolor\\\":\\\"#2a3f5f\\\",\\\"minorgridcolor\\\":\\\"white\\\",\\\"startlinecolor\\\":\\\"#2a3f5f\\\",\\\"linecolor\\\":\\\"white\\\"},\\\"type\\\":\\\"carpet\\\",\\\"baxis\\\":{\\\"gridcolor\\\":\\\"white\\\",\\\"endlinecolor\\\":\\\"#2a3f5f\\\",\\\"minorgridcolor\\\":\\\"white\\\",\\\"startlinecolor\\\":\\\"#2a3f5f\\\",\\\"linecolor\\\":\\\"white\\\"}}],\\\"scatterpolar\\\":[{\\\"type\\\":\\\"scatterpolar\\\",\\\"marker\\\":{\\\"colorbar\\\":{\\\"ticks\\\":\\\"\\\",\\\"outlinewidth\\\":0}}}],\\\"parcoords\\\":[{\\\"line\\\":{\\\"colorbar\\\":{\\\"ticks\\\":\\\"\\\",\\\"outlinewidth\\\":0}},\\\"type\\\":\\\"parcoords\\\"}],\\\"scatter\\\":[{\\\"type\\\":\\\"scatter\\\",\\\"marker\\\":{\\\"colorbar\\\":{\\\"ticks\\\":\\\"\\\",\\\"outlinewidth\\\":0}}}],\\\"histogram2dcontour\\\":[{\\\"colorbar\\\":{\\\"ticks\\\":\\\"\\\",\\\"outlinewidth\\\":0},\\\"type\\\":\\\"histogram2dcontour\\\",\\\"colorscale\\\":[[0.0,\\\"#0d0887\\\"],[0.1111111111111111,\\\"#46039f\\\"],[0.2222222222222222,\\\"#7201a8\\\"],[0.3333333333333333,\\\"#9c179e\\\"],[0.4444444444444444,\\\"#bd3786\\\"],[0.5555555555555556,\\\"#d8576b\\\"],[0.6666666666666666,\\\"#ed7953\\\"],[0.7777777777777778,\\\"#fb9f3a\\\"],[0.8888888888888888,\\\"#fdca26\\\"],[1.0,\\\"#f0f921\\\"]]}],\\\"contour\\\":[{\\\"colorbar\\\":{\\\"ticks\\\":\\\"\\\",\\\"outlinewidth\\\":0},\\\"type\\\":\\\"contour\\\",\\\"colorscale\\\":[[0.0,\\\"#0d0887\\\"],[0.1111111111111111,\\\"#46039f\\\"],[0.2222222222222222,\\\"#7201a8\\\"],[0.3333333333333333,\\\"#9c179e\\\"],[0.4444444444444444,\\\"#bd3786\\\"],[0.5555555555555556,\\\"#d8576b\\\"],[0.6666666666666666,\\\"#ed7953\\\"],[0.7777777777777778,\\\"#fb9f3a\\\"],[0.8888888888888888,\\\"#fdca26\\\"],[1.0,\\\"#f0f921\\\"]]}],\\\"scattercarpet\\\":[{\\\"type\\\":\\\"scattercarpet\\\",\\\"marker\\\":{\\\"colorbar\\\":{\\\"ticks\\\":\\\"\\\",\\\"outlinewidth\\\":0}}}],\\\"mesh3d\\\":[{\\\"colorbar\\\":{\\\"ticks\\\":\\\"\\\",\\\"outlinewidth\\\":0},\\\"type\\\":\\\"mesh3d\\\"}],\\\"surface\\\":[{\\\"colorbar\\\":{\\\"ticks\\\":\\\"\\\",\\\"outlinewidth\\\":0},\\\"type\\\":\\\"surface\\\",\\\"colorscale\\\":[[0.0,\\\"#0d0887\\\"],[0.1111111111111111,\\\"#46039f\\\"],[0.2222222222222222,\\\"#7201a8\\\"],[0.3333333333333333,\\\"#9c179e\\\"],[0.4444444444444444,\\\"#bd3786\\\"],[0.5555555555555556,\\\"#d8576b\\\"],[0.6666666666666666,\\\"#ed7953\\\"],[0.7777777777777778,\\\"#fb9f3a\\\"],[0.8888888888888888,\\\"#fdca26\\\"],[1.0,\\\"#f0f921\\\"]]}],\\\"scattermapbox\\\":[{\\\"type\\\":\\\"scattermapbox\\\",\\\"marker\\\":{\\\"colorbar\\\":{\\\"ticks\\\":\\\"\\\",\\\"outlinewidth\\\":0}}}],\\\"scattergeo\\\":[{\\\"type\\\":\\\"scattergeo\\\",\\\"marker\\\":{\\\"colorbar\\\":{\\\"ticks\\\":\\\"\\\",\\\"outlinewidth\\\":0}}}],\\\"histogram\\\":[{\\\"type\\\":\\\"histogram\\\",\\\"marker\\\":{\\\"colorbar\\\":{\\\"ticks\\\":\\\"\\\",\\\"outlinewidth\\\":0}}}],\\\"pie\\\":[{\\\"type\\\":\\\"pie\\\",\\\"automargin\\\":true}],\\\"choropleth\\\":[{\\\"colorbar\\\":{\\\"ticks\\\":\\\"\\\",\\\"outlinewidth\\\":0},\\\"type\\\":\\\"choropleth\\\"}],\\\"heatmapgl\\\":[{\\\"colorbar\\\":{\\\"ticks\\\":\\\"\\\",\\\"outlinewidth\\\":0},\\\"type\\\":\\\"heatmapgl\\\",\\\"colorscale\\\":[[0.0,\\\"#0d0887\\\"],[0.1111111111111111,\\\"#46039f\\\"],[0.2222222222222222,\\\"#7201a8\\\"],[0.3333333333333333,\\\"#9c179e\\\"],[0.4444444444444444,\\\"#bd3786\\\"],[0.5555555555555556,\\\"#d8576b\\\"],[0.6666666666666666,\\\"#ed7953\\\"],[0.7777777777777778,\\\"#fb9f3a\\\"],[0.8888888888888888,\\\"#fdca26\\\"],[1.0,\\\"#f0f921\\\"]]}],\\\"bar\\\":[{\\\"type\\\":\\\"bar\\\",\\\"error_y\\\":{\\\"color\\\":\\\"#2a3f5f\\\"},\\\"error_x\\\":{\\\"color\\\":\\\"#2a3f5f\\\"},\\\"marker\\\":{\\\"line\\\":{\\\"color\\\":\\\"#E5ECF6\\\",\\\"width\\\":0.5}}}],\\\"heatmap\\\":[{\\\"colorbar\\\":{\\\"ticks\\\":\\\"\\\",\\\"outlinewidth\\\":0},\\\"type\\\":\\\"heatmap\\\",\\\"colorscale\\\":[[0.0,\\\"#0d0887\\\"],[0.1111111111111111,\\\"#46039f\\\"],[0.2222222222222222,\\\"#7201a8\\\"],[0.3333333333333333,\\\"#9c179e\\\"],[0.4444444444444444,\\\"#bd3786\\\"],[0.5555555555555556,\\\"#d8576b\\\"],[0.6666666666666666,\\\"#ed7953\\\"],[0.7777777777777778,\\\"#fb9f3a\\\"],[0.8888888888888888,\\\"#fdca26\\\"],[1.0,\\\"#f0f921\\\"]]}],\\\"contourcarpet\\\":[{\\\"colorbar\\\":{\\\"ticks\\\":\\\"\\\",\\\"outlinewidth\\\":0},\\\"type\\\":\\\"contourcarpet\\\"}],\\\"table\\\":[{\\\"type\\\":\\\"table\\\",\\\"header\\\":{\\\"line\\\":{\\\"color\\\":\\\"white\\\"},\\\"fill\\\":{\\\"color\\\":\\\"#C8D4E3\\\"}},\\\"cells\\\":{\\\"line\\\":{\\\"color\\\":\\\"white\\\"},\\\"fill\\\":{\\\"color\\\":\\\"#EBF0F8\\\"}}}],\\\"scatter3d\\\":[{\\\"line\\\":{\\\"colorbar\\\":{\\\"ticks\\\":\\\"\\\",\\\"outlinewidth\\\":0}},\\\"type\\\":\\\"scatter3d\\\",\\\"marker\\\":{\\\"colorbar\\\":{\\\"ticks\\\":\\\"\\\",\\\"outlinewidth\\\":0}}}],\\\"scattergl\\\":[{\\\"type\\\":\\\"scattergl\\\",\\\"marker\\\":{\\\"colorbar\\\":{\\\"ticks\\\":\\\"\\\",\\\"outlinewidth\\\":0}}}],\\\"histogram2d\\\":[{\\\"colorbar\\\":{\\\"ticks\\\":\\\"\\\",\\\"outlinewidth\\\":0},\\\"type\\\":\\\"histogram2d\\\",\\\"colorscale\\\":[[0.0,\\\"#0d0887\\\"],[0.1111111111111111,\\\"#46039f\\\"],[0.2222222222222222,\\\"#7201a8\\\"],[0.3333333333333333,\\\"#9c179e\\\"],[0.4444444444444444,\\\"#bd3786\\\"],[0.5555555555555556,\\\"#d8576b\\\"],[0.6666666666666666,\\\"#ed7953\\\"],[0.7777777777777778,\\\"#fb9f3a\\\"],[0.8888888888888888,\\\"#fdca26\\\"],[1.0,\\\"#f0f921\\\"]]}],\\\"scatterternary\\\":[{\\\"type\\\":\\\"scatterternary\\\",\\\"marker\\\":{\\\"colorbar\\\":{\\\"ticks\\\":\\\"\\\",\\\"outlinewidth\\\":0}}}],\\\"scatterpolargl\\\":[{\\\"type\\\":\\\"scatterpolargl\\\",\\\"marker\\\":{\\\"colorbar\\\":{\\\"ticks\\\":\\\"\\\",\\\"outlinewidth\\\":0}}}]}},\\\"height\\\":600,\\\"margin\\\":{\\\"l\\\":50,\\\"b\\\":50,\\\"r\\\":50,\\\"t\\\":60},\\\"yaxis\\\":{\\\"range\\\":[-2,2]},\\\"width\\\":600},{\\\"showLink\\\":false,\\\"editable\\\":false,\\\"responsive\\\":true,\\\"staticPlot\\\":false,\\\"scrollZoom\\\":true}); gd.on(\\\"plotly_hover\\\",(function (data){var filtered_data=WebIO.PlotlyCommands.filterEventData(gd,data,\\\"hover\\\"); return !(filtered_data.isnil) ? (WebIO.setval({\\\"name\\\":\\\"hover\\\",\\\"scope\\\":\\\"10702950960752629620\\\",\\\"id\\\":\\\"6708287690168871168\\\",\\\"type\\\":\\\"observable\\\"},filtered_data.out)) : undefined})); gd.on(\\\"plotly_unhover\\\",(function (){return WebIO.setval({\\\"name\\\":\\\"hover\\\",\\\"scope\\\":\\\"10702950960752629620\\\",\\\"id\\\":\\\"6708287690168871168\\\",\\\"type\\\":\\\"observable\\\"},{})})); gd.on(\\\"plotly_selected\\\",(function (data){var filtered_data=WebIO.PlotlyCommands.filterEventData(gd,data,\\\"selected\\\"); return !(filtered_data.isnil) ? (WebIO.setval({\\\"name\\\":\\\"selected\\\",\\\"scope\\\":\\\"10702950960752629620\\\",\\\"id\\\":\\\"5821300692428924045\\\",\\\"type\\\":\\\"observable\\\"},filtered_data.out)) : undefined})); gd.on(\\\"plotly_deselect\\\",(function (){return WebIO.setval({\\\"name\\\":\\\"selected\\\",\\\"scope\\\":\\\"10702950960752629620\\\",\\\"id\\\":\\\"5821300692428924045\\\",\\\"type\\\":\\\"observable\\\"},{})})); gd.on(\\\"plotly_relayout\\\",(function (data){var filtered_data=WebIO.PlotlyCommands.filterEventData(gd,data,\\\"relayout\\\"); return !(filtered_data.isnil) ? (WebIO.setval({\\\"name\\\":\\\"relayout\\\",\\\"scope\\\":\\\"10702950960752629620\\\",\\\"id\\\":\\\"16088794228061178916\\\",\\\"type\\\":\\\"observable\\\"},filtered_data.out)) : undefined})); return gd.on(\\\"plotly_click\\\",(function (data){var filtered_data=WebIO.PlotlyCommands.filterEventData(gd,data,\\\"click\\\"); return !(filtered_data.isnil) ? (WebIO.setval({\\\"name\\\":\\\"click\\\",\\\"scope\\\":\\\"10702950960752629620\\\",\\\"id\\\":\\\"14344244170926146539\\\",\\\"type\\\":\\\"observable\\\"},filtered_data.out)) : undefined}))}));\\n    (WebIO.importBlock({\\\"data\\\":[{\\\"name\\\":\\\"Plotly\\\",\\\"type\\\":\\\"js\\\",\\\"url\\\":\\\"\\/assetserver\\/d66a736669047bda0b2d00471bd5207a90cf3193-plotly.min.js\\\"},{\\\"name\\\":null,\\\"type\\\":\\\"js\\\",\\\"url\\\":\\\"\\/assetserver\\/aee3160e397a4905b07437c5af565305d1ef6def-plotly_webio.bundle.js\\\"}],\\\"type\\\":\\\"async_block\\\"})).then((imports) => handler.apply(this, imports));\\n}\\n\"],\"observables\":{\"_toImage\":{\"sync\":false,\"id\":\"9116982752639361747\",\"value\":{}},\"hover\":{\"sync\":false,\"id\":\"6708287690168871168\",\"value\":{}},\"selected\":{\"sync\":false,\"id\":\"5821300692428924045\",\"value\":{}},\"__gd_contents\":{\"sync\":false,\"id\":\"10698326337373046948\",\"value\":{}},\"click\":{\"sync\":false,\"id\":\"14344244170926146539\",\"value\":{}},\"image\":{\"sync\":true,\"id\":\"6329660520833105237\",\"value\":\"\"},\"__get_gd_contents\":{\"sync\":false,\"id\":\"3789445182363020617\",\"value\":\"\"},\"_downloadImage\":{\"sync\":false,\"id\":\"154508736229828365\",\"value\":{}},\"relayout\":{\"sync\":false,\"id\":\"16088794228061178916\",\"value\":{}},\"_commands\":{\"sync\":false,\"id\":\"9526120338866945106\",\"value\":[]}}},\"children\":[{\"props\":{\"id\":\"plot-3f3ec9ac-812e-4114-b56b-6e72aac63018\"},\"nodeType\":\"DOM\",\"type\":\"node\",\"instanceArgs\":{\"namespace\":\"html\",\"tag\":\"div\"},\"children\":[]}]},\n",
       "        window,\n",
       "    );\n",
       "    })()\n",
       "    </script>\n",
       "</div>\n"
      ],
      "text/plain": [
       "data: [\n",
       "  \"scatter with fields name, type, x, and y\",\n",
       "  \"scatter with fields name, type, x, and y\"\n",
       "]\n",
       "\n",
       "layout: \"layout with fields height, margin, template, width, xaxis, and yaxis\"\n",
       "\n"
      ]
     },
     "execution_count": 18,
     "metadata": {},
     "output_type": "execute_result"
    }
   ],
   "source": [
    "a = Point(-1.0,-1.0)\n",
    "b = Point(1.0,-1.0)\n",
    "c = Point(1.0,1.0)\n",
    "d = Point(-1.0,1.0)\n",
    "\n",
    "p = Polygon([a,b,c,d])\n",
    "p1 = plotgeometry(p, name=\"square\")\n",
    "p2 = plotenvelope(p)\n",
    "\n",
    "plot([p1,p2], layout)"
   ]
  },
  {
   "cell_type": "code",
   "execution_count": 19,
   "id": "81ef57aa-d728-4379-a2f5-232a2ee5ef60",
   "metadata": {},
   "outputs": [
    {
     "data": {
      "application/vnd.plotly.v1+json": {
       "config": {
        "editable": false,
        "responsive": true,
        "scrollZoom": true,
        "showLink": false,
        "staticPlot": false
       },
       "data": [
        {
         "name": "square",
         "type": "scatter",
         "x": [
          -0.5,
          0.5,
          0.5,
          -0.5,
          -0.5
         ],
         "y": [
          -1,
          -1,
          0,
          0,
          -1
         ]
        },
        {
         "name": "envelope",
         "type": "scatter",
         "x": [
          0.5,
          0.4987510413195065,
          0.49501664446031046,
          0.48883412228140155,
          0.4802652485007213,
          0.46939564047259325,
          0.45633390372741955,
          0.4412105468211221,
          0.4241766773367914,
          0.4054024920676661,
          0.38507557646703494,
          0.3633990303563943,
          0.34058943861916835,
          0.3168747071561469,
          0.2924917857250602,
          0.26768430041692576,
          0.24270011942467778,
          0.2177888764261188,
          0.1931994763267282,
          0.16917760828412412,
          0.14596329086321444,
          0.12378847385003562,
          0.10287472068616355,
          0.08343099468004392,
          0.06565157111468856,
          0.049714096113266576,
          0.03577781165776318,
          0.023981964495734694,
          0.01444441483283544,
          0.00726045871260235,
          0.0025018758498886354,
          0.00021621243168013293,
          -0.00042630605131173155,
          -0.0031300575227837892,
          -0.008300451855134769,
          -0.015885828177300915,
          -0.02581039591646326,
          -0.03797499207239799,
          -0.05225807202139585,
          -0.06851692394996503,
          -0.08658909478409703,
          -0.10629401336668291,
          -0.12743479466482516,
          -0.14980020698000615,
          -0.17316678250539513,
          -0.1973010501423051,
          -0.22196186826623654,
          -0.24690283413427735,
          -0.2718747458598618,
          -0.2966280923556439,
          -0.32091554636580666,
          -0.3444944356782453,
          -0.3671291678250943,
          -0.38859358404479044,
          -0.40867321898565867,
          -0.427167443572815,
          -0.4438914696275626,
          -0.45867819620979,
          -0.47137987923532987,
          -0.481869607686009,
          -0.4900425716625916,
          -0.49581710961064623,
          -0.4991355242558044,
          -0.508371609338029,
          -0.556570832114795,
          -0.6017069004759137,
          -0.6433288297463218,
          -0.6810207473671291,
          -0.7144060481567606,
          -0.7431511572254393,
          -0.7669688629452207,
          -0.7856211866736398,
          -0.7989217605576402,
          -0.8067376896595586,
          -0.808990879799411,
          -0.8056588178461258,
          -0.7967747966613071,
          -0.7824275824479663,
          -0.7627605278279648,
          -0.7379701395100018,
          -0.7083041148595375,
          -0.6740588669885954,
          -0.6355765630939273,
          -0.5932417056354915,
          -0.5474772905149689,
          -0.4987405806405393,
          -0.4475185371070536,
          -0.3943229536417411,
          -0.33968534293046687,
          -0.2841516259186643,
          -0.2282766771497091,
          -0.1726187806418981,
          -0.11773405169908197,
          -0.06417088039037999,
          -0.012464452217877266,
          0.03828252118181004,
          0.09099142666295904,
          0.1452890932476446,
          0.2006329965997759,
          0.2564701587313205,
          0.31224267317557186,
          0.36739327940414607,
          0.4213709307899721,
          0.47363630048304295,
          0.5236671701860197,
          0.570963647986837,
          0.6150531631134466,
          0.6554951877047582,
          0.6918856384194122,
          0.723860913902951,
          0.7511015277723645,
          0.7733353008184192,
          0.7903400805303465,
          0.8019459607702982,
          0.8080369794193105,
          0.8085522770324658,
          0.8034867049263477,
          0.7928908766229854,
          0.7768706621362709,
          0.7555861301537765,
          0.7292499486833406,
          0.6981252601446308,
          0.6625230521370731,
          0.622799050154553,
          0.5793501632938707,
          0.5326105184702454
         ],
         "y": [
          0,
          0.02495835416170704,
          0.04966733269876531,
          0.07388005166533491,
          0.09735458557716262,
          0.11985638465105078,
          0.14116061834875884,
          0.16105442180942278,
          0.1793390227248807,
          0.19583172740687085,
          0.21036774620197413,
          0.22280184001535885,
          0.23300977149180663,
          0.24088954635429827,
          0.24636243249711506,
          0.24937374665101358,
          0.24989340076037628,
          0.24791620261311717,
          0.2434619077195488,
          0.23657502192185362,
          0.22732435670642046,
          0.21580234166221846,
          0.20212410095489752,
          0.18642630304418004,
          0.16886579513778766,
          0.14961803602598914,
          0.12887534295536604,
          0.10684497005845744,
          0.08374703753897618,
          0.05981233230349551,
          0.0352800020149668,
          0.010395165608322623,
          0.014593535856895025,
          0.039436423535812164,
          0.06388527550670792,
          0.08769580692240496,
          0.11063011082371312,
          0.13245903522712335,
          0.1529644727356798,
          0.17194153979599353,
          0.18920062382698208,
          0.20456927776610273,
          0.21789394310339705,
          0.22904148418736375,
          0.237900518472379,
          0.24438252941627428,
          0.24842275090836616,
          0.24998081439102524,
          0.24904115220896014,
          0.24561315315608312,
          0.23973106866578467,
          0.23145367058193303,
          0.2208636639300383,
          0.2080668605559752,
          0.1931911218889968,
          0.17638508139259798,
          0.15781665946808024,
          0.1376713856494094,
          0.11615054485343915,
          0.093469166207559,
          0.06985387454973148,
          0.04554062606802376,
          0.0207723507043741,
          -0.004274156929380085,
          -0.0325448418335271,
          -0.06548618415794213,
          -0.10276904489908004,
          -0.14402090603648993,
          -0.18882959260973983,
          -0.23674739103437162,
          -0.28729552250804496,
          -0.3399689268100662,
          -0.39424130869616103,
          -0.4495703964665889,
          -0.5054033601657116,
          -0.5611823352761717,
          -0.6163499967167443,
          -0.6703551274503178,
          -0.7226581260623269,
          -0.7727363982797116,
          -0.8200895785601521,
          -0.8642445295791672,
          -0.9047600696618614,
          -0.9412313809243837,
          -0.973294054080413,
          -1.0006277294982844,
          -1.0229592981285345,
          -1.0400656303192457,
          -1.0517758052537685,
          -1.0579728187350272,
          -1.0585947522527779,
          -1.053635391652894,
          -1.0431442892271434,
          -1.0272262686030673,
          -1.0060403773809428,
          -1.0173738582136418,
          -1.0359256232028087,
          -1.049122596518391,
          -1.0568329183653586,
          -1.0589795497565109,
          -1.0555410422605689,
          -1.0465517523078123,
          -1.0321014979119856,
          -1.0123346612383923,
          -0.9874487459850279,
          -0.9576924039909138,
          -0.9233629507891158,
          -0.8848033949282191,
          -0.8423990107442904,
          -0.7965734888270697,
          -0.7477847026436506,
          -0.6965201336181479,
          -0.6432920003784531,
          -0.5886321408370148,
          -0.5330866982422234,
          -0.47721066429560427,
          -0.4215623338581894,
          -0.3666977266528194,
          -0.31316503169886123,
          -0.26149912998873864,
          -0.21221625013386272,
          -0.1658088103789883,
          -0.1227404985218878,
          -0.08344163889814536,
          -0.04830489272264553,
          -0.01768133474850984
         ]
        }
       ],
       "frames": [],
       "layout": {
        "height": 600,
        "margin": {
         "b": 50,
         "l": 50,
         "r": 50,
         "t": 60
        },
        "template": {
         "data": {
          "bar": [
           {
            "error_x": {
             "color": "#2a3f5f"
            },
            "error_y": {
             "color": "#2a3f5f"
            },
            "marker": {
             "line": {
              "color": "#E5ECF6",
              "width": 0.5
             }
            },
            "type": "bar"
           }
          ],
          "barpolar": [
           {
            "marker": {
             "line": {
              "color": "#E5ECF6",
              "width": 0.5
             }
            },
            "type": "barpolar"
           }
          ],
          "carpet": [
           {
            "aaxis": {
             "endlinecolor": "#2a3f5f",
             "gridcolor": "white",
             "linecolor": "white",
             "minorgridcolor": "white",
             "startlinecolor": "#2a3f5f"
            },
            "baxis": {
             "endlinecolor": "#2a3f5f",
             "gridcolor": "white",
             "linecolor": "white",
             "minorgridcolor": "white",
             "startlinecolor": "#2a3f5f"
            },
            "type": "carpet"
           }
          ],
          "choropleth": [
           {
            "colorbar": {
             "outlinewidth": 0,
             "ticks": ""
            },
            "type": "choropleth"
           }
          ],
          "contour": [
           {
            "colorbar": {
             "outlinewidth": 0,
             "ticks": ""
            },
            "colorscale": [
             [
              0,
              "#0d0887"
             ],
             [
              0.1111111111111111,
              "#46039f"
             ],
             [
              0.2222222222222222,
              "#7201a8"
             ],
             [
              0.3333333333333333,
              "#9c179e"
             ],
             [
              0.4444444444444444,
              "#bd3786"
             ],
             [
              0.5555555555555556,
              "#d8576b"
             ],
             [
              0.6666666666666666,
              "#ed7953"
             ],
             [
              0.7777777777777778,
              "#fb9f3a"
             ],
             [
              0.8888888888888888,
              "#fdca26"
             ],
             [
              1,
              "#f0f921"
             ]
            ],
            "type": "contour"
           }
          ],
          "contourcarpet": [
           {
            "colorbar": {
             "outlinewidth": 0,
             "ticks": ""
            },
            "type": "contourcarpet"
           }
          ],
          "heatmap": [
           {
            "colorbar": {
             "outlinewidth": 0,
             "ticks": ""
            },
            "colorscale": [
             [
              0,
              "#0d0887"
             ],
             [
              0.1111111111111111,
              "#46039f"
             ],
             [
              0.2222222222222222,
              "#7201a8"
             ],
             [
              0.3333333333333333,
              "#9c179e"
             ],
             [
              0.4444444444444444,
              "#bd3786"
             ],
             [
              0.5555555555555556,
              "#d8576b"
             ],
             [
              0.6666666666666666,
              "#ed7953"
             ],
             [
              0.7777777777777778,
              "#fb9f3a"
             ],
             [
              0.8888888888888888,
              "#fdca26"
             ],
             [
              1,
              "#f0f921"
             ]
            ],
            "type": "heatmap"
           }
          ],
          "heatmapgl": [
           {
            "colorbar": {
             "outlinewidth": 0,
             "ticks": ""
            },
            "colorscale": [
             [
              0,
              "#0d0887"
             ],
             [
              0.1111111111111111,
              "#46039f"
             ],
             [
              0.2222222222222222,
              "#7201a8"
             ],
             [
              0.3333333333333333,
              "#9c179e"
             ],
             [
              0.4444444444444444,
              "#bd3786"
             ],
             [
              0.5555555555555556,
              "#d8576b"
             ],
             [
              0.6666666666666666,
              "#ed7953"
             ],
             [
              0.7777777777777778,
              "#fb9f3a"
             ],
             [
              0.8888888888888888,
              "#fdca26"
             ],
             [
              1,
              "#f0f921"
             ]
            ],
            "type": "heatmapgl"
           }
          ],
          "histogram": [
           {
            "marker": {
             "colorbar": {
              "outlinewidth": 0,
              "ticks": ""
             }
            },
            "type": "histogram"
           }
          ],
          "histogram2d": [
           {
            "colorbar": {
             "outlinewidth": 0,
             "ticks": ""
            },
            "colorscale": [
             [
              0,
              "#0d0887"
             ],
             [
              0.1111111111111111,
              "#46039f"
             ],
             [
              0.2222222222222222,
              "#7201a8"
             ],
             [
              0.3333333333333333,
              "#9c179e"
             ],
             [
              0.4444444444444444,
              "#bd3786"
             ],
             [
              0.5555555555555556,
              "#d8576b"
             ],
             [
              0.6666666666666666,
              "#ed7953"
             ],
             [
              0.7777777777777778,
              "#fb9f3a"
             ],
             [
              0.8888888888888888,
              "#fdca26"
             ],
             [
              1,
              "#f0f921"
             ]
            ],
            "type": "histogram2d"
           }
          ],
          "histogram2dcontour": [
           {
            "colorbar": {
             "outlinewidth": 0,
             "ticks": ""
            },
            "colorscale": [
             [
              0,
              "#0d0887"
             ],
             [
              0.1111111111111111,
              "#46039f"
             ],
             [
              0.2222222222222222,
              "#7201a8"
             ],
             [
              0.3333333333333333,
              "#9c179e"
             ],
             [
              0.4444444444444444,
              "#bd3786"
             ],
             [
              0.5555555555555556,
              "#d8576b"
             ],
             [
              0.6666666666666666,
              "#ed7953"
             ],
             [
              0.7777777777777778,
              "#fb9f3a"
             ],
             [
              0.8888888888888888,
              "#fdca26"
             ],
             [
              1,
              "#f0f921"
             ]
            ],
            "type": "histogram2dcontour"
           }
          ],
          "mesh3d": [
           {
            "colorbar": {
             "outlinewidth": 0,
             "ticks": ""
            },
            "type": "mesh3d"
           }
          ],
          "parcoords": [
           {
            "line": {
             "colorbar": {
              "outlinewidth": 0,
              "ticks": ""
             }
            },
            "type": "parcoords"
           }
          ],
          "pie": [
           {
            "automargin": true,
            "type": "pie"
           }
          ],
          "scatter": [
           {
            "marker": {
             "colorbar": {
              "outlinewidth": 0,
              "ticks": ""
             }
            },
            "type": "scatter"
           }
          ],
          "scatter3d": [
           {
            "line": {
             "colorbar": {
              "outlinewidth": 0,
              "ticks": ""
             }
            },
            "marker": {
             "colorbar": {
              "outlinewidth": 0,
              "ticks": ""
             }
            },
            "type": "scatter3d"
           }
          ],
          "scattercarpet": [
           {
            "marker": {
             "colorbar": {
              "outlinewidth": 0,
              "ticks": ""
             }
            },
            "type": "scattercarpet"
           }
          ],
          "scattergeo": [
           {
            "marker": {
             "colorbar": {
              "outlinewidth": 0,
              "ticks": ""
             }
            },
            "type": "scattergeo"
           }
          ],
          "scattergl": [
           {
            "marker": {
             "colorbar": {
              "outlinewidth": 0,
              "ticks": ""
             }
            },
            "type": "scattergl"
           }
          ],
          "scattermapbox": [
           {
            "marker": {
             "colorbar": {
              "outlinewidth": 0,
              "ticks": ""
             }
            },
            "type": "scattermapbox"
           }
          ],
          "scatterpolar": [
           {
            "marker": {
             "colorbar": {
              "outlinewidth": 0,
              "ticks": ""
             }
            },
            "type": "scatterpolar"
           }
          ],
          "scatterpolargl": [
           {
            "marker": {
             "colorbar": {
              "outlinewidth": 0,
              "ticks": ""
             }
            },
            "type": "scatterpolargl"
           }
          ],
          "scatterternary": [
           {
            "marker": {
             "colorbar": {
              "outlinewidth": 0,
              "ticks": ""
             }
            },
            "type": "scatterternary"
           }
          ],
          "surface": [
           {
            "colorbar": {
             "outlinewidth": 0,
             "ticks": ""
            },
            "colorscale": [
             [
              0,
              "#0d0887"
             ],
             [
              0.1111111111111111,
              "#46039f"
             ],
             [
              0.2222222222222222,
              "#7201a8"
             ],
             [
              0.3333333333333333,
              "#9c179e"
             ],
             [
              0.4444444444444444,
              "#bd3786"
             ],
             [
              0.5555555555555556,
              "#d8576b"
             ],
             [
              0.6666666666666666,
              "#ed7953"
             ],
             [
              0.7777777777777778,
              "#fb9f3a"
             ],
             [
              0.8888888888888888,
              "#fdca26"
             ],
             [
              1,
              "#f0f921"
             ]
            ],
            "type": "surface"
           }
          ],
          "table": [
           {
            "cells": {
             "fill": {
              "color": "#EBF0F8"
             },
             "line": {
              "color": "white"
             }
            },
            "header": {
             "fill": {
              "color": "#C8D4E3"
             },
             "line": {
              "color": "white"
             }
            },
            "type": "table"
           }
          ]
         },
         "layout": {
          "annotationdefaults": {
           "arrowcolor": "#2a3f5f",
           "arrowhead": 0,
           "arrowwidth": 1
          },
          "autotypenumbers": "strict",
          "coloraxis": {
           "colorbar": {
            "outlinewidth": 0,
            "ticks": ""
           }
          },
          "colorscale": {
           "diverging": [
            [
             0,
             "#8e0152"
            ],
            [
             0.1,
             "#c51b7d"
            ],
            [
             0.2,
             "#de77ae"
            ],
            [
             0.3,
             "#f1b6da"
            ],
            [
             0.4,
             "#fde0ef"
            ],
            [
             0.5,
             "#f7f7f7"
            ],
            [
             0.6,
             "#e6f5d0"
            ],
            [
             0.7,
             "#b8e186"
            ],
            [
             0.8,
             "#7fbc41"
            ],
            [
             0.9,
             "#4d9221"
            ],
            [
             1,
             "#276419"
            ]
           ],
           "sequential": [
            [
             0,
             "#0d0887"
            ],
            [
             0.1111111111111111,
             "#46039f"
            ],
            [
             0.2222222222222222,
             "#7201a8"
            ],
            [
             0.3333333333333333,
             "#9c179e"
            ],
            [
             0.4444444444444444,
             "#bd3786"
            ],
            [
             0.5555555555555556,
             "#d8576b"
            ],
            [
             0.6666666666666666,
             "#ed7953"
            ],
            [
             0.7777777777777778,
             "#fb9f3a"
            ],
            [
             0.8888888888888888,
             "#fdca26"
            ],
            [
             1,
             "#f0f921"
            ]
           ],
           "sequentialminus": [
            [
             0,
             "#0d0887"
            ],
            [
             0.1111111111111111,
             "#46039f"
            ],
            [
             0.2222222222222222,
             "#7201a8"
            ],
            [
             0.3333333333333333,
             "#9c179e"
            ],
            [
             0.4444444444444444,
             "#bd3786"
            ],
            [
             0.5555555555555556,
             "#d8576b"
            ],
            [
             0.6666666666666666,
             "#ed7953"
            ],
            [
             0.7777777777777778,
             "#fb9f3a"
            ],
            [
             0.8888888888888888,
             "#fdca26"
            ],
            [
             1,
             "#f0f921"
            ]
           ]
          },
          "colorway": [
           "#636efa",
           "#EF553B",
           "#00cc96",
           "#ab63fa",
           "#FFA15A",
           "#19d3f3",
           "#FF6692",
           "#B6E880",
           "#FF97FF",
           "#FECB52"
          ],
          "font": {
           "color": "#2a3f5f"
          },
          "geo": {
           "bgcolor": "white",
           "lakecolor": "white",
           "landcolor": "#E5ECF6",
           "showlakes": true,
           "showland": true,
           "subunitcolor": "white"
          },
          "hoverlabel": {
           "align": "left"
          },
          "hovermode": "closest",
          "mapbox": {
           "style": "light"
          },
          "paper_bgcolor": "white",
          "plot_bgcolor": "#E5ECF6",
          "polar": {
           "angularaxis": {
            "gridcolor": "white",
            "linecolor": "white",
            "ticks": ""
           },
           "bgcolor": "#E5ECF6",
           "radialaxis": {
            "gridcolor": "white",
            "linecolor": "white",
            "ticks": ""
           }
          },
          "scene": {
           "xaxis": {
            "backgroundcolor": "#E5ECF6",
            "gridcolor": "white",
            "gridwidth": 2,
            "linecolor": "white",
            "showbackground": true,
            "ticks": "",
            "zerolinecolor": "white"
           },
           "yaxis": {
            "backgroundcolor": "#E5ECF6",
            "gridcolor": "white",
            "gridwidth": 2,
            "linecolor": "white",
            "showbackground": true,
            "ticks": "",
            "zerolinecolor": "white"
           },
           "zaxis": {
            "backgroundcolor": "#E5ECF6",
            "gridcolor": "white",
            "gridwidth": 2,
            "linecolor": "white",
            "showbackground": true,
            "ticks": "",
            "zerolinecolor": "white"
           }
          },
          "shapedefaults": {
           "line": {
            "color": "#2a3f5f"
           }
          },
          "ternary": {
           "aaxis": {
            "gridcolor": "white",
            "linecolor": "white",
            "ticks": ""
           },
           "baxis": {
            "gridcolor": "white",
            "linecolor": "white",
            "ticks": ""
           },
           "bgcolor": "#E5ECF6",
           "caxis": {
            "gridcolor": "white",
            "linecolor": "white",
            "ticks": ""
           }
          },
          "title": {
           "x": 0.05
          },
          "xaxis": {
           "automargin": true,
           "gridcolor": "white",
           "linecolor": "white",
           "ticks": "",
           "title": {
            "standoff": 15
           },
           "zerolinecolor": "white",
           "zerolinewidth": 2
          },
          "yaxis": {
           "automargin": true,
           "gridcolor": "white",
           "linecolor": "white",
           "ticks": "",
           "title": {
            "standoff": 15
           },
           "zerolinecolor": "white",
           "zerolinewidth": 2
          }
         }
        },
        "width": 600,
        "xaxis": {
         "range": [
          -2,
          2
         ],
         "type": "linear"
        },
        "yaxis": {
         "range": [
          -2,
          2
         ],
         "type": "linear"
        }
       }
      },
      "image/png": "[encoded data removed]",
      "text/html": [
       "<div\n",
       "    class=\"webio-mountpoint\"\n",
       "    data-webio-mountpoint=\"2155634678682255995\"\n",
       ">\n",
       "    <script>\n",
       "    (function(){\n",
       "    // Some integrations (namely, IJulia/Jupyter) use an alternate render pathway than\n",
       "    // just putting the html on the page. If WebIO isn't defined, then it's pretty likely\n",
       "    // that we're in one of those situations and the integration just isn't installed\n",
       "    // correctly.\n",
       "    if (typeof window.WebIO === \"undefined\") {\n",
       "        document\n",
       "            .querySelector('[data-webio-mountpoint=\"2155634678682255995\"]')\n",
       "            .innerHTML = (\n",
       "                '<div style=\"padding: 1em; background-color: #f8d6da; border: 1px solid #f5c6cb; font-weight: bold;\">' +\n",
       "                '<p><strong>WebIO not detected.</strong></p>' +\n",
       "                '<p>Please read ' +\n",
       "                '<a href=\"https://juliagizmos.github.io/WebIO.jl/latest/troubleshooting/not-detected/\" target=\"_blank\">the troubleshooting guide</a> ' +\n",
       "                'for more information on how to resolve this issue.</p>' +\n",
       "                '<p><a href=\"https://juliagizmos.github.io/WebIO.jl/latest/troubleshooting/not-detected/\" target=\"_blank\">https://juliagizmos.github.io/WebIO.jl/latest/troubleshooting/not-detected/</a></p>' +\n",
       "                '</div>'\n",
       "            );\n",
       "        return;\n",
       "    }\n",
       "    WebIO.mount(\n",
       "        document.querySelector('[data-webio-mountpoint=\"2155634678682255995\"]'),\n",
       "        {\"props\":{},\"nodeType\":\"Scope\",\"type\":\"node\",\"instanceArgs\":{\"imports\":{\"data\":[{\"name\":\"Plotly\",\"type\":\"js\",\"url\":\"\\/assetserver\\/d66a736669047bda0b2d00471bd5207a90cf3193-plotly.min.js\"},{\"name\":null,\"type\":\"js\",\"url\":\"\\/assetserver\\/aee3160e397a4905b07437c5af565305d1ef6def-plotly_webio.bundle.js\"}],\"type\":\"async_block\"},\"id\":\"10404962012891341239\",\"handlers\":{\"_toImage\":[\"(function (options){return this.Plotly.toImage(this.plotElem,options).then((function (data){return WebIO.setval({\\\"name\\\":\\\"image\\\",\\\"scope\\\":\\\"10404962012891341239\\\",\\\"id\\\":\\\"8186958711537329799\\\",\\\"type\\\":\\\"observable\\\"},data)}))})\"],\"__get_gd_contents\":[\"(function (prop){prop==\\\"data\\\" ? (WebIO.setval({\\\"name\\\":\\\"__gd_contents\\\",\\\"scope\\\":\\\"10404962012891341239\\\",\\\"id\\\":\\\"3616825786606036615\\\",\\\"type\\\":\\\"observable\\\"},this.plotElem.data)) : undefined; return prop==\\\"layout\\\" ? (WebIO.setval({\\\"name\\\":\\\"__gd_contents\\\",\\\"scope\\\":\\\"10404962012891341239\\\",\\\"id\\\":\\\"3616825786606036615\\\",\\\"type\\\":\\\"observable\\\"},this.plotElem.layout)) : undefined})\"],\"_downloadImage\":[\"(function (options){return this.Plotly.downloadImage(this.plotElem,options)})\"],\"_commands\":[\"(function (args){var fn=args.shift(); var elem=this.plotElem; var Plotly=this.Plotly; args.unshift(elem); return Plotly[fn].apply(this,args)})\"]},\"systemjs_options\":null,\"mount_callbacks\":[\"function () {\\n    var handler = ((function (Plotly,PlotlyWebIO){PlotlyWebIO.init(WebIO); var gd=this.dom.querySelector(\\\"#plot-e201b2f0-4b00-4f7e-a1b5-2190c8eb529b\\\"); this.plotElem=gd; this.Plotly=Plotly; (window.Blink!==undefined) ? (gd.style.width=\\\"100%\\\", gd.style.height=\\\"100vh\\\", gd.style.marginLeft=\\\"0%\\\", gd.style.marginTop=\\\"0vh\\\") : undefined; window.onresize=(function (){return Plotly.Plots.resize(gd)}); Plotly.newPlot(gd,[{\\\"y\\\":[-1.0,-1.0,0.0,0.0,-1.0],\\\"type\\\":\\\"scatter\\\",\\\"name\\\":\\\"square\\\",\\\"x\\\":[-0.5,0.5,0.5,-0.5,-0.5]},{\\\"y\\\":[0.0,0.02495835416170704,0.04966733269876531,0.07388005166533491,0.09735458557716262,0.11985638465105078,0.14116061834875884,0.16105442180942278,0.1793390227248807,0.19583172740687085,0.21036774620197413,0.22280184001535885,0.23300977149180663,0.24088954635429827,0.24636243249711506,0.24937374665101358,0.24989340076037628,0.24791620261311717,0.2434619077195488,0.23657502192185362,0.22732435670642046,0.21580234166221846,0.20212410095489752,0.18642630304418004,0.16886579513778766,0.14961803602598914,0.12887534295536604,0.10684497005845744,0.08374703753897618,0.05981233230349551,0.0352800020149668,0.010395165608322623,0.014593535856895025,0.039436423535812164,0.06388527550670792,0.08769580692240496,0.11063011082371312,0.13245903522712335,0.1529644727356798,0.17194153979599353,0.18920062382698208,0.20456927776610273,0.21789394310339705,0.22904148418736375,0.237900518472379,0.24438252941627428,0.24842275090836616,0.24998081439102524,0.24904115220896014,0.24561315315608312,0.23973106866578467,0.23145367058193303,0.2208636639300383,0.2080668605559752,0.1931911218889968,0.17638508139259798,0.15781665946808024,0.1376713856494094,0.11615054485343915,0.093469166207559,0.06985387454973148,0.04554062606802376,0.0207723507043741,-0.004274156929380085,-0.0325448418335271,-0.06548618415794213,-0.10276904489908004,-0.14402090603648993,-0.18882959260973983,-0.23674739103437162,-0.28729552250804496,-0.3399689268100662,-0.39424130869616103,-0.4495703964665889,-0.5054033601657116,-0.5611823352761717,-0.6163499967167443,-0.6703551274503178,-0.7226581260623269,-0.7727363982797116,-0.8200895785601521,-0.8642445295791672,-0.9047600696618614,-0.9412313809243837,-0.973294054080413,-1.0006277294982844,-1.0229592981285345,-1.0400656303192457,-1.0517758052537685,-1.0579728187350272,-1.0585947522527779,-1.053635391652894,-1.0431442892271434,-1.0272262686030673,-1.0060403773809428,-1.0173738582136418,-1.0359256232028087,-1.049122596518391,-1.0568329183653586,-1.0589795497565109,-1.0555410422605689,-1.0465517523078123,-1.0321014979119856,-1.0123346612383923,-0.9874487459850279,-0.9576924039909138,-0.9233629507891158,-0.8848033949282191,-0.8423990107442904,-0.7965734888270697,-0.7477847026436506,-0.6965201336181479,-0.6432920003784531,-0.5886321408370148,-0.5330866982422234,-0.47721066429560427,-0.4215623338581894,-0.3666977266528194,-0.31316503169886123,-0.26149912998873864,-0.21221625013386272,-0.1658088103789883,-0.1227404985218878,-0.08344163889814536,-0.04830489272264553,-0.01768133474850984],\\\"type\\\":\\\"scatter\\\",\\\"name\\\":\\\"envelope\\\",\\\"x\\\":[0.5,0.4987510413195065,0.49501664446031046,0.48883412228140155,0.4802652485007213,0.46939564047259325,0.45633390372741955,0.4412105468211221,0.4241766773367914,0.4054024920676661,0.38507557646703494,0.3633990303563943,0.34058943861916835,0.3168747071561469,0.2924917857250602,0.26768430041692576,0.24270011942467778,0.2177888764261188,0.1931994763267282,0.16917760828412412,0.14596329086321444,0.12378847385003562,0.10287472068616355,0.08343099468004392,0.06565157111468856,0.049714096113266576,0.03577781165776318,0.023981964495734694,0.01444441483283544,0.00726045871260235,0.0025018758498886354,0.00021621243168013293,-0.00042630605131173155,-0.0031300575227837892,-0.008300451855134769,-0.015885828177300915,-0.02581039591646326,-0.03797499207239799,-0.05225807202139585,-0.06851692394996503,-0.08658909478409703,-0.10629401336668291,-0.12743479466482516,-0.14980020698000615,-0.17316678250539513,-0.1973010501423051,-0.22196186826623654,-0.24690283413427735,-0.2718747458598618,-0.2966280923556439,-0.32091554636580666,-0.3444944356782453,-0.3671291678250943,-0.38859358404479044,-0.40867321898565867,-0.427167443572815,-0.4438914696275626,-0.45867819620979,-0.47137987923532987,-0.481869607686009,-0.4900425716625916,-0.49581710961064623,-0.4991355242558044,-0.508371609338029,-0.556570832114795,-0.6017069004759137,-0.6433288297463218,-0.6810207473671291,-0.7144060481567606,-0.7431511572254393,-0.7669688629452207,-0.7856211866736398,-0.7989217605576402,-0.8067376896595586,-0.808990879799411,-0.8056588178461258,-0.7967747966613071,-0.7824275824479663,-0.7627605278279648,-0.7379701395100018,-0.7083041148595375,-0.6740588669885954,-0.6355765630939273,-0.5932417056354915,-0.5474772905149689,-0.4987405806405393,-0.4475185371070536,-0.3943229536417411,-0.33968534293046687,-0.2841516259186643,-0.2282766771497091,-0.1726187806418981,-0.11773405169908197,-0.06417088039037999,-0.012464452217877266,0.03828252118181004,0.09099142666295904,0.1452890932476446,0.2006329965997759,0.2564701587313205,0.31224267317557186,0.36739327940414607,0.4213709307899721,0.47363630048304295,0.5236671701860197,0.570963647986837,0.6150531631134466,0.6554951877047582,0.6918856384194122,0.723860913902951,0.7511015277723645,0.7733353008184192,0.7903400805303465,0.8019459607702982,0.8080369794193105,0.8085522770324658,0.8034867049263477,0.7928908766229854,0.7768706621362709,0.7555861301537765,0.7292499486833406,0.6981252601446308,0.6625230521370731,0.622799050154553,0.5793501632938707,0.5326105184702454]}],{\\\"xaxis\\\":{\\\"range\\\":[-2,2]},\\\"template\\\":{\\\"layout\\\":{\\\"coloraxis\\\":{\\\"colorbar\\\":{\\\"ticks\\\":\\\"\\\",\\\"outlinewidth\\\":0}},\\\"xaxis\\\":{\\\"gridcolor\\\":\\\"white\\\",\\\"zerolinewidth\\\":2,\\\"title\\\":{\\\"standoff\\\":15},\\\"ticks\\\":\\\"\\\",\\\"zerolinecolor\\\":\\\"white\\\",\\\"automargin\\\":true,\\\"linecolor\\\":\\\"white\\\"},\\\"hovermode\\\":\\\"closest\\\",\\\"paper_bgcolor\\\":\\\"white\\\",\\\"geo\\\":{\\\"showlakes\\\":true,\\\"showland\\\":true,\\\"landcolor\\\":\\\"#E5ECF6\\\",\\\"bgcolor\\\":\\\"white\\\",\\\"subunitcolor\\\":\\\"white\\\",\\\"lakecolor\\\":\\\"white\\\"},\\\"colorscale\\\":{\\\"sequential\\\":[[0.0,\\\"#0d0887\\\"],[0.1111111111111111,\\\"#46039f\\\"],[0.2222222222222222,\\\"#7201a8\\\"],[0.3333333333333333,\\\"#9c179e\\\"],[0.4444444444444444,\\\"#bd3786\\\"],[0.5555555555555556,\\\"#d8576b\\\"],[0.6666666666666666,\\\"#ed7953\\\"],[0.7777777777777778,\\\"#fb9f3a\\\"],[0.8888888888888888,\\\"#fdca26\\\"],[1.0,\\\"#f0f921\\\"]],\\\"diverging\\\":[[0,\\\"#8e0152\\\"],[0.1,\\\"#c51b7d\\\"],[0.2,\\\"#de77ae\\\"],[0.3,\\\"#f1b6da\\\"],[0.4,\\\"#fde0ef\\\"],[0.5,\\\"#f7f7f7\\\"],[0.6,\\\"#e6f5d0\\\"],[0.7,\\\"#b8e186\\\"],[0.8,\\\"#7fbc41\\\"],[0.9,\\\"#4d9221\\\"],[1,\\\"#276419\\\"]],\\\"sequentialminus\\\":[[0.0,\\\"#0d0887\\\"],[0.1111111111111111,\\\"#46039f\\\"],[0.2222222222222222,\\\"#7201a8\\\"],[0.3333333333333333,\\\"#9c179e\\\"],[0.4444444444444444,\\\"#bd3786\\\"],[0.5555555555555556,\\\"#d8576b\\\"],[0.6666666666666666,\\\"#ed7953\\\"],[0.7777777777777778,\\\"#fb9f3a\\\"],[0.8888888888888888,\\\"#fdca26\\\"],[1.0,\\\"#f0f921\\\"]]},\\\"yaxis\\\":{\\\"gridcolor\\\":\\\"white\\\",\\\"zerolinewidth\\\":2,\\\"title\\\":{\\\"standoff\\\":15},\\\"ticks\\\":\\\"\\\",\\\"zerolinecolor\\\":\\\"white\\\",\\\"automargin\\\":true,\\\"linecolor\\\":\\\"white\\\"},\\\"shapedefaults\\\":{\\\"line\\\":{\\\"color\\\":\\\"#2a3f5f\\\"}},\\\"hoverlabel\\\":{\\\"align\\\":\\\"left\\\"},\\\"mapbox\\\":{\\\"style\\\":\\\"light\\\"},\\\"polar\\\":{\\\"angularaxis\\\":{\\\"gridcolor\\\":\\\"white\\\",\\\"ticks\\\":\\\"\\\",\\\"linecolor\\\":\\\"white\\\"},\\\"bgcolor\\\":\\\"#E5ECF6\\\",\\\"radialaxis\\\":{\\\"gridcolor\\\":\\\"white\\\",\\\"ticks\\\":\\\"\\\",\\\"linecolor\\\":\\\"white\\\"}},\\\"autotypenumbers\\\":\\\"strict\\\",\\\"font\\\":{\\\"color\\\":\\\"#2a3f5f\\\"},\\\"ternary\\\":{\\\"baxis\\\":{\\\"gridcolor\\\":\\\"white\\\",\\\"ticks\\\":\\\"\\\",\\\"linecolor\\\":\\\"white\\\"},\\\"bgcolor\\\":\\\"#E5ECF6\\\",\\\"caxis\\\":{\\\"gridcolor\\\":\\\"white\\\",\\\"ticks\\\":\\\"\\\",\\\"linecolor\\\":\\\"white\\\"},\\\"aaxis\\\":{\\\"gridcolor\\\":\\\"white\\\",\\\"ticks\\\":\\\"\\\",\\\"linecolor\\\":\\\"white\\\"}},\\\"annotationdefaults\\\":{\\\"arrowhead\\\":0,\\\"arrowwidth\\\":1,\\\"arrowcolor\\\":\\\"#2a3f5f\\\"},\\\"plot_bgcolor\\\":\\\"#E5ECF6\\\",\\\"title\\\":{\\\"x\\\":0.05},\\\"scene\\\":{\\\"xaxis\\\":{\\\"gridcolor\\\":\\\"white\\\",\\\"gridwidth\\\":2,\\\"backgroundcolor\\\":\\\"#E5ECF6\\\",\\\"ticks\\\":\\\"\\\",\\\"showbackground\\\":true,\\\"zerolinecolor\\\":\\\"white\\\",\\\"linecolor\\\":\\\"white\\\"},\\\"zaxis\\\":{\\\"gridcolor\\\":\\\"white\\\",\\\"gridwidth\\\":2,\\\"backgroundcolor\\\":\\\"#E5ECF6\\\",\\\"ticks\\\":\\\"\\\",\\\"showbackground\\\":true,\\\"zerolinecolor\\\":\\\"white\\\",\\\"linecolor\\\":\\\"white\\\"},\\\"yaxis\\\":{\\\"gridcolor\\\":\\\"white\\\",\\\"gridwidth\\\":2,\\\"backgroundcolor\\\":\\\"#E5ECF6\\\",\\\"ticks\\\":\\\"\\\",\\\"showbackground\\\":true,\\\"zerolinecolor\\\":\\\"white\\\",\\\"linecolor\\\":\\\"white\\\"}},\\\"colorway\\\":[\\\"#636efa\\\",\\\"#EF553B\\\",\\\"#00cc96\\\",\\\"#ab63fa\\\",\\\"#FFA15A\\\",\\\"#19d3f3\\\",\\\"#FF6692\\\",\\\"#B6E880\\\",\\\"#FF97FF\\\",\\\"#FECB52\\\"]},\\\"data\\\":{\\\"barpolar\\\":[{\\\"type\\\":\\\"barpolar\\\",\\\"marker\\\":{\\\"line\\\":{\\\"color\\\":\\\"#E5ECF6\\\",\\\"width\\\":0.5}}}],\\\"carpet\\\":[{\\\"aaxis\\\":{\\\"gridcolor\\\":\\\"white\\\",\\\"endlinecolor\\\":\\\"#2a3f5f\\\",\\\"minorgridcolor\\\":\\\"white\\\",\\\"startlinecolor\\\":\\\"#2a3f5f\\\",\\\"linecolor\\\":\\\"white\\\"},\\\"type\\\":\\\"carpet\\\",\\\"baxis\\\":{\\\"gridcolor\\\":\\\"white\\\",\\\"endlinecolor\\\":\\\"#2a3f5f\\\",\\\"minorgridcolor\\\":\\\"white\\\",\\\"startlinecolor\\\":\\\"#2a3f5f\\\",\\\"linecolor\\\":\\\"white\\\"}}],\\\"scatterpolar\\\":[{\\\"type\\\":\\\"scatterpolar\\\",\\\"marker\\\":{\\\"colorbar\\\":{\\\"ticks\\\":\\\"\\\",\\\"outlinewidth\\\":0}}}],\\\"parcoords\\\":[{\\\"line\\\":{\\\"colorbar\\\":{\\\"ticks\\\":\\\"\\\",\\\"outlinewidth\\\":0}},\\\"type\\\":\\\"parcoords\\\"}],\\\"scatter\\\":[{\\\"type\\\":\\\"scatter\\\",\\\"marker\\\":{\\\"colorbar\\\":{\\\"ticks\\\":\\\"\\\",\\\"outlinewidth\\\":0}}}],\\\"histogram2dcontour\\\":[{\\\"colorbar\\\":{\\\"ticks\\\":\\\"\\\",\\\"outlinewidth\\\":0},\\\"type\\\":\\\"histogram2dcontour\\\",\\\"colorscale\\\":[[0.0,\\\"#0d0887\\\"],[0.1111111111111111,\\\"#46039f\\\"],[0.2222222222222222,\\\"#7201a8\\\"],[0.3333333333333333,\\\"#9c179e\\\"],[0.4444444444444444,\\\"#bd3786\\\"],[0.5555555555555556,\\\"#d8576b\\\"],[0.6666666666666666,\\\"#ed7953\\\"],[0.7777777777777778,\\\"#fb9f3a\\\"],[0.8888888888888888,\\\"#fdca26\\\"],[1.0,\\\"#f0f921\\\"]]}],\\\"contour\\\":[{\\\"colorbar\\\":{\\\"ticks\\\":\\\"\\\",\\\"outlinewidth\\\":0},\\\"type\\\":\\\"contour\\\",\\\"colorscale\\\":[[0.0,\\\"#0d0887\\\"],[0.1111111111111111,\\\"#46039f\\\"],[0.2222222222222222,\\\"#7201a8\\\"],[0.3333333333333333,\\\"#9c179e\\\"],[0.4444444444444444,\\\"#bd3786\\\"],[0.5555555555555556,\\\"#d8576b\\\"],[0.6666666666666666,\\\"#ed7953\\\"],[0.7777777777777778,\\\"#fb9f3a\\\"],[0.8888888888888888,\\\"#fdca26\\\"],[1.0,\\\"#f0f921\\\"]]}],\\\"scattercarpet\\\":[{\\\"type\\\":\\\"scattercarpet\\\",\\\"marker\\\":{\\\"colorbar\\\":{\\\"ticks\\\":\\\"\\\",\\\"outlinewidth\\\":0}}}],\\\"mesh3d\\\":[{\\\"colorbar\\\":{\\\"ticks\\\":\\\"\\\",\\\"outlinewidth\\\":0},\\\"type\\\":\\\"mesh3d\\\"}],\\\"surface\\\":[{\\\"colorbar\\\":{\\\"ticks\\\":\\\"\\\",\\\"outlinewidth\\\":0},\\\"type\\\":\\\"surface\\\",\\\"colorscale\\\":[[0.0,\\\"#0d0887\\\"],[0.1111111111111111,\\\"#46039f\\\"],[0.2222222222222222,\\\"#7201a8\\\"],[0.3333333333333333,\\\"#9c179e\\\"],[0.4444444444444444,\\\"#bd3786\\\"],[0.5555555555555556,\\\"#d8576b\\\"],[0.6666666666666666,\\\"#ed7953\\\"],[0.7777777777777778,\\\"#fb9f3a\\\"],[0.8888888888888888,\\\"#fdca26\\\"],[1.0,\\\"#f0f921\\\"]]}],\\\"scattermapbox\\\":[{\\\"type\\\":\\\"scattermapbox\\\",\\\"marker\\\":{\\\"colorbar\\\":{\\\"ticks\\\":\\\"\\\",\\\"outlinewidth\\\":0}}}],\\\"scattergeo\\\":[{\\\"type\\\":\\\"scattergeo\\\",\\\"marker\\\":{\\\"colorbar\\\":{\\\"ticks\\\":\\\"\\\",\\\"outlinewidth\\\":0}}}],\\\"histogram\\\":[{\\\"type\\\":\\\"histogram\\\",\\\"marker\\\":{\\\"colorbar\\\":{\\\"ticks\\\":\\\"\\\",\\\"outlinewidth\\\":0}}}],\\\"pie\\\":[{\\\"type\\\":\\\"pie\\\",\\\"automargin\\\":true}],\\\"choropleth\\\":[{\\\"colorbar\\\":{\\\"ticks\\\":\\\"\\\",\\\"outlinewidth\\\":0},\\\"type\\\":\\\"choropleth\\\"}],\\\"heatmapgl\\\":[{\\\"colorbar\\\":{\\\"ticks\\\":\\\"\\\",\\\"outlinewidth\\\":0},\\\"type\\\":\\\"heatmapgl\\\",\\\"colorscale\\\":[[0.0,\\\"#0d0887\\\"],[0.1111111111111111,\\\"#46039f\\\"],[0.2222222222222222,\\\"#7201a8\\\"],[0.3333333333333333,\\\"#9c179e\\\"],[0.4444444444444444,\\\"#bd3786\\\"],[0.5555555555555556,\\\"#d8576b\\\"],[0.6666666666666666,\\\"#ed7953\\\"],[0.7777777777777778,\\\"#fb9f3a\\\"],[0.8888888888888888,\\\"#fdca26\\\"],[1.0,\\\"#f0f921\\\"]]}],\\\"bar\\\":[{\\\"type\\\":\\\"bar\\\",\\\"error_y\\\":{\\\"color\\\":\\\"#2a3f5f\\\"},\\\"error_x\\\":{\\\"color\\\":\\\"#2a3f5f\\\"},\\\"marker\\\":{\\\"line\\\":{\\\"color\\\":\\\"#E5ECF6\\\",\\\"width\\\":0.5}}}],\\\"heatmap\\\":[{\\\"colorbar\\\":{\\\"ticks\\\":\\\"\\\",\\\"outlinewidth\\\":0},\\\"type\\\":\\\"heatmap\\\",\\\"colorscale\\\":[[0.0,\\\"#0d0887\\\"],[0.1111111111111111,\\\"#46039f\\\"],[0.2222222222222222,\\\"#7201a8\\\"],[0.3333333333333333,\\\"#9c179e\\\"],[0.4444444444444444,\\\"#bd3786\\\"],[0.5555555555555556,\\\"#d8576b\\\"],[0.6666666666666666,\\\"#ed7953\\\"],[0.7777777777777778,\\\"#fb9f3a\\\"],[0.8888888888888888,\\\"#fdca26\\\"],[1.0,\\\"#f0f921\\\"]]}],\\\"contourcarpet\\\":[{\\\"colorbar\\\":{\\\"ticks\\\":\\\"\\\",\\\"outlinewidth\\\":0},\\\"type\\\":\\\"contourcarpet\\\"}],\\\"table\\\":[{\\\"type\\\":\\\"table\\\",\\\"header\\\":{\\\"line\\\":{\\\"color\\\":\\\"white\\\"},\\\"fill\\\":{\\\"color\\\":\\\"#C8D4E3\\\"}},\\\"cells\\\":{\\\"line\\\":{\\\"color\\\":\\\"white\\\"},\\\"fill\\\":{\\\"color\\\":\\\"#EBF0F8\\\"}}}],\\\"scatter3d\\\":[{\\\"line\\\":{\\\"colorbar\\\":{\\\"ticks\\\":\\\"\\\",\\\"outlinewidth\\\":0}},\\\"type\\\":\\\"scatter3d\\\",\\\"marker\\\":{\\\"colorbar\\\":{\\\"ticks\\\":\\\"\\\",\\\"outlinewidth\\\":0}}}],\\\"scattergl\\\":[{\\\"type\\\":\\\"scattergl\\\",\\\"marker\\\":{\\\"colorbar\\\":{\\\"ticks\\\":\\\"\\\",\\\"outlinewidth\\\":0}}}],\\\"histogram2d\\\":[{\\\"colorbar\\\":{\\\"ticks\\\":\\\"\\\",\\\"outlinewidth\\\":0},\\\"type\\\":\\\"histogram2d\\\",\\\"colorscale\\\":[[0.0,\\\"#0d0887\\\"],[0.1111111111111111,\\\"#46039f\\\"],[0.2222222222222222,\\\"#7201a8\\\"],[0.3333333333333333,\\\"#9c179e\\\"],[0.4444444444444444,\\\"#bd3786\\\"],[0.5555555555555556,\\\"#d8576b\\\"],[0.6666666666666666,\\\"#ed7953\\\"],[0.7777777777777778,\\\"#fb9f3a\\\"],[0.8888888888888888,\\\"#fdca26\\\"],[1.0,\\\"#f0f921\\\"]]}],\\\"scatterternary\\\":[{\\\"type\\\":\\\"scatterternary\\\",\\\"marker\\\":{\\\"colorbar\\\":{\\\"ticks\\\":\\\"\\\",\\\"outlinewidth\\\":0}}}],\\\"scatterpolargl\\\":[{\\\"type\\\":\\\"scatterpolargl\\\",\\\"marker\\\":{\\\"colorbar\\\":{\\\"ticks\\\":\\\"\\\",\\\"outlinewidth\\\":0}}}]}},\\\"height\\\":600,\\\"margin\\\":{\\\"l\\\":50,\\\"b\\\":50,\\\"r\\\":50,\\\"t\\\":60},\\\"yaxis\\\":{\\\"range\\\":[-2,2]},\\\"width\\\":600},{\\\"showLink\\\":false,\\\"editable\\\":false,\\\"responsive\\\":true,\\\"staticPlot\\\":false,\\\"scrollZoom\\\":true}); gd.on(\\\"plotly_hover\\\",(function (data){var filtered_data=WebIO.PlotlyCommands.filterEventData(gd,data,\\\"hover\\\"); return !(filtered_data.isnil) ? (WebIO.setval({\\\"name\\\":\\\"hover\\\",\\\"scope\\\":\\\"10404962012891341239\\\",\\\"id\\\":\\\"1200087375666761188\\\",\\\"type\\\":\\\"observable\\\"},filtered_data.out)) : undefined})); gd.on(\\\"plotly_unhover\\\",(function (){return WebIO.setval({\\\"name\\\":\\\"hover\\\",\\\"scope\\\":\\\"10404962012891341239\\\",\\\"id\\\":\\\"1200087375666761188\\\",\\\"type\\\":\\\"observable\\\"},{})})); gd.on(\\\"plotly_selected\\\",(function (data){var filtered_data=WebIO.PlotlyCommands.filterEventData(gd,data,\\\"selected\\\"); return !(filtered_data.isnil) ? (WebIO.setval({\\\"name\\\":\\\"selected\\\",\\\"scope\\\":\\\"10404962012891341239\\\",\\\"id\\\":\\\"9845435197363927350\\\",\\\"type\\\":\\\"observable\\\"},filtered_data.out)) : undefined})); gd.on(\\\"plotly_deselect\\\",(function (){return WebIO.setval({\\\"name\\\":\\\"selected\\\",\\\"scope\\\":\\\"10404962012891341239\\\",\\\"id\\\":\\\"9845435197363927350\\\",\\\"type\\\":\\\"observable\\\"},{})})); gd.on(\\\"plotly_relayout\\\",(function (data){var filtered_data=WebIO.PlotlyCommands.filterEventData(gd,data,\\\"relayout\\\"); return !(filtered_data.isnil) ? (WebIO.setval({\\\"name\\\":\\\"relayout\\\",\\\"scope\\\":\\\"10404962012891341239\\\",\\\"id\\\":\\\"13928666175997617779\\\",\\\"type\\\":\\\"observable\\\"},filtered_data.out)) : undefined})); return gd.on(\\\"plotly_click\\\",(function (data){var filtered_data=WebIO.PlotlyCommands.filterEventData(gd,data,\\\"click\\\"); return !(filtered_data.isnil) ? (WebIO.setval({\\\"name\\\":\\\"click\\\",\\\"scope\\\":\\\"10404962012891341239\\\",\\\"id\\\":\\\"15955658269106163418\\\",\\\"type\\\":\\\"observable\\\"},filtered_data.out)) : undefined}))}));\\n    (WebIO.importBlock({\\\"data\\\":[{\\\"name\\\":\\\"Plotly\\\",\\\"type\\\":\\\"js\\\",\\\"url\\\":\\\"\\/assetserver\\/d66a736669047bda0b2d00471bd5207a90cf3193-plotly.min.js\\\"},{\\\"name\\\":null,\\\"type\\\":\\\"js\\\",\\\"url\\\":\\\"\\/assetserver\\/aee3160e397a4905b07437c5af565305d1ef6def-plotly_webio.bundle.js\\\"}],\\\"type\\\":\\\"async_block\\\"})).then((imports) => handler.apply(this, imports));\\n}\\n\"],\"observables\":{\"_toImage\":{\"sync\":false,\"id\":\"265874661275745085\",\"value\":{}},\"hover\":{\"sync\":false,\"id\":\"1200087375666761188\",\"value\":{}},\"selected\":{\"sync\":false,\"id\":\"9845435197363927350\",\"value\":{}},\"__gd_contents\":{\"sync\":false,\"id\":\"3616825786606036615\",\"value\":{}},\"click\":{\"sync\":false,\"id\":\"15955658269106163418\",\"value\":{}},\"image\":{\"sync\":true,\"id\":\"8186958711537329799\",\"value\":\"\"},\"__get_gd_contents\":{\"sync\":false,\"id\":\"12273223247048448206\",\"value\":\"\"},\"_downloadImage\":{\"sync\":false,\"id\":\"5072724762523400330\",\"value\":{}},\"relayout\":{\"sync\":false,\"id\":\"13928666175997617779\",\"value\":{}},\"_commands\":{\"sync\":false,\"id\":\"4267216657386928785\",\"value\":[]}}},\"children\":[{\"props\":{\"id\":\"plot-e201b2f0-4b00-4f7e-a1b5-2190c8eb529b\"},\"nodeType\":\"DOM\",\"type\":\"node\",\"instanceArgs\":{\"namespace\":\"html\",\"tag\":\"div\"},\"children\":[]}]},\n",
       "        window,\n",
       "    );\n",
       "    })()\n",
       "    </script>\n",
       "</div>\n"
      ],
      "text/plain": [
       "data: [\n",
       "  \"scatter with fields name, type, x, and y\",\n",
       "  \"scatter with fields name, type, x, and y\"\n",
       "]\n",
       "\n",
       "layout: \"layout with fields height, margin, template, width, xaxis, and yaxis\"\n",
       "\n"
      ]
     },
     "execution_count": 19,
     "metadata": {},
     "output_type": "execute_result"
    }
   ],
   "source": [
    "a = Point(-0.5,-1.0)\n",
    "b = Point(0.5,-1.0)\n",
    "c = Point(0.5,0.0)\n",
    "d = Point(-0.5,0.0)\n",
    "\n",
    "p = Polygon([a,b,c,d])\n",
    "p1 = plotgeometry(p, name=\"square\")\n",
    "p2 = plotenvelope(p)\n",
    "\n",
    "plot([p1,p2], layout)"
   ]
  },
  {
   "cell_type": "markdown",
   "id": "52760197-8f48-4fa4-8ca1-a4f32a8555fe",
   "metadata": {},
   "source": [
    "Next, let's apply rotation. Note that the envelope shape is rotated equally."
   ]
  },
  {
   "cell_type": "code",
   "execution_count": 20,
   "id": "710ac338-1cc5-40bd-bf0d-944d3fdd6132",
   "metadata": {},
   "outputs": [
    {
     "data": {
      "application/vnd.plotly.v1+json": {
       "config": {
        "editable": false,
        "responsive": true,
        "scrollZoom": true,
        "showLink": false,
        "staticPlot": false
       },
       "data": [
        {
         "name": "square",
         "type": "scatter",
         "x": [
          0.3535533905932737,
          1.0606601717798212,
          0.3535533905932738,
          -0.3535533905932738,
          0.3535533905932737
         ],
         "y": [
          -1.0606601717798214,
          -0.35355339059327384,
          0.35355339059327373,
          -0.35355339059327373,
          -1.0606601717798214
         ]
        },
        {
         "name": "envelope",
         "type": "scatter",
         "x": [
          1.0606601717798212,
          1.0403625088476263,
          1.0149687705395418,
          0.9847326826946882,
          0.9499563543080893,
          0.9109872589574587,
          0.8682147629620688,
          0.8220662349631989,
          0.7730027757979384,
          0.7215146113320428,
          0.6681161942851315,
          0.6133410639891668,
          0.5577365154398155,
          0.5018581309057631,
          0.4462642287343349,
          0.39151028481912764,
          0.3483162184914042,
          0.32930321942166085,
          0.3087662257414257,
          0.28691043630292445,
          0.2639542269296629,
          0.24012696847738466,
          0.2156667350363006,
          0.19081792517347584,
          0.16582881998313512,
          0.14094910234404065,
          0.11642736217070072,
          0.0925086125851179,
          0.0694318418266639,
          0.04742762536059094,
          0.0267158220442012,
          0.007503377369819962,
          -0.01001774426615612,
          -0.025672477608053156,
          -0.039304405735085764,
          -0.05077732292752491,
          -0.05997659558922606,
          -0.0668103076286287,
          -0.07121017885395994,
          -0.0731322472063404,
          -0.07255730801414437,
          -0.06949110587973066,
          -0.06396427728127464,
          -0.056032044463205546,
          -0.04577366367379376,
          -0.033291633262917474,
          -0.018710669552431218,
          -0.002176460711904687,
          -0.01614578890941069,
          -0.036073009449828906,
          -0.057406094708773614,
          -0.07993189155011804,
          -0.10342532965786154,
          -0.12765167036433006,
          -0.1523688520813477,
          -0.17732990889961225,
          -0.20228543819042424,
          -0.22698609255431057,
          -0.2511850712178186,
          -0.27464058598526087,
          -0.2971182771064437,
          -0.31839355492182125,
          -0.33825384388813373,
          -0.3565007065629688,
          -0.37295182632609003,
          -0.38744282902684174,
          -0.3998289253563267,
          -0.40998635753431956,
          -0.41781363585609865,
          -0.42323255274402705,
          -0.4261889641718161,
          -0.4266533306537393,
          -0.42462101239340816,
          -0.42011231564308504,
          -0.413172289810322,
          -0.40387027733917263,
          -0.39229922086341196,
          -0.37857473455446317,
          -0.3628339489428132,
          -0.3611240560674102,
          -0.3736307637532683,
          -0.3806379820488163,
          -0.3820756971451233,
          -0.37792954386819244,
          -0.36824094921103084,
          -0.35310671840882923,
          -0.33267806769305164,
          -0.3071591133888355,
          -0.27680483245214477,
          -0.24191851482430698,
          -0.20284873305917633,
          -0.159985859501397,
          -0.11375816581497532,
          -0.06462754383438374,
          -0.013084890494027127,
          0.04035479705165364,
          0.09515756710951524,
          0.1507758485165248,
          0.20665392178982403,
          0.26223347169210137,
          0.31695916573288985,
          0.370284202867244,
          0.4216757769510295,
          0.4706204003637977,
          0.5166290346073499,
          0.5592419766167567,
          0.5980334519614268,
          0.6326158690424718,
          0.662643691779846,
          0.6878168920946357,
          0.709452130727071,
          0.7614233068118378,
          0.8110854758224143,
          0.8579424297821783,
          0.9015259894960137,
          0.9414006824420693,
          0.9771680938692496,
          1.008470847625707,
          1.034996176943223,
          1.0564790494993646,
          1.0727048155328447,
          1.0835113525529814,
          1.088790685214036,
          1.0884900641691748,
          1.0826124931245058,
          1.0712166988270402
         ],
         "y": [
          0,
          0.05206151727259681,
          0.10183655876905783,
          0.1488277887281916,
          0.19256568631348184,
          0.2326132369100832,
          0.26857029863039444,
          0.3000776003995307,
          0.326820331673144,
          0.34853128792032,
          0.36499354044292504,
          0.37604260385545024,
          0.38156807956861255,
          0.3815147588555655,
          0.37588317447924824,
          0.3647295953691948,
          0.35863980860472877,
          0.3748566272391194,
          0.38909429667006074,
          0.40121055881094697,
          0.41108435197557,
          0.41861702048647087,
          0.4237333004098579,
          0.426382071567954,
          0.42653686831491455,
          0.42419614397281324,
          0.41938328628553556,
          0.4121463837361736,
          0.4025577450627987,
          0.3907131767734526,
          0.3767310258791887,
          0.360750997409858,
          0.3429327585276309,
          0.3234543431854918,
          0.30251037327083147,
          0.2803101140078812,
          0.25707538304876615,
          0.2330383341448491,
          0.20843913754318577,
          0.18352358028480686,
          0.1585406103818499,
          0.13373984941131312,
          0.10936909837877276,
          0.08567186177264673,
          0.06288491454783808,
          0.0412359363486543,
          0.020941236609060478,
          0.002203593260319205,
          0.01478977335907065,
          0.029869071147108035,
          0.04288363274484816,
          0.053703420954848584,
          0.062220328029861265,
          0.06834925584970797,
          0.0720289661935669,
          0.07322269261203278,
          0.07191850778532581,
          0.06812944269712823,
          0.06189335643330288,
          0.05327255790642196,
          0.04235318328570888,
          0.02924433535290833,
          0.01407699338335607,
          -0.002997295555645076,
          -0.021807930813025837,
          -0.04216696273926394,
          -0.0638709706171538,
          -0.08670309517437032,
          -0.11043520536963512,
          -0.13483017780266934,
          -0.1596442659728281,
          -0.18462953571356241,
          -0.20953634246865444,
          -0.23411582565810354,
          -0.25812239521077723,
          -0.2813161854192221,
          -0.3034654515985235,
          -0.3243488856025912,
          -0.34375782706200264,
          -0.378136847925822,
          -0.43259765001406114,
          -0.48803496229552396,
          -0.5438948734710335,
          -0.5996192497729544,
          -0.6546513116533083,
          -0.7084411969409676,
          -0.7604514548827106,
          -0.8101624161734895,
          -0.8570773853203444,
          -0.9007276034595871,
          -0.940676932040415,
          -0.9765262105771398,
          -1.00791724492882,
          -1.0345363862567083,
          -1.0561176648997752,
          -1.0724454478556418,
          -1.0833565933142606,
          -1.0887420807169534,
          -1.0885481000537989,
          -1.0827765895154615,
          -1.0714852161274326,
          -1.0547867995601732,
          -1.032848184872261,
          -1.0058885754497162,
          -0.9741773427982263,
          -0.938031335072105,
          -0.8978117112322699,
          -0.8539203324652898,
          -0.8067957469192426,
          -0.7569088078755877,
          -0.7063192271610323,
          -0.6857913544607216,
          -0.6601775755439195,
          -0.6297338148227731,
          -0.5947642562910384,
          -0.5556183042181656,
          -0.5126870920173343,
          -0.46639957416968497,
          -0.4172182402529314,
          -0.3656344938983824,
          -0.31216374284829307,
          -0.25734024917207426,
          -0.2017117910963034,
          -0.1458341897857491,
          -0.09026575576202714,
          -0.0355617104494204
         ]
        }
       ],
       "frames": [],
       "layout": {
        "height": 600,
        "margin": {
         "b": 50,
         "l": 50,
         "r": 50,
         "t": 60
        },
        "template": {
         "data": {
          "bar": [
           {
            "error_x": {
             "color": "#2a3f5f"
            },
            "error_y": {
             "color": "#2a3f5f"
            },
            "marker": {
             "line": {
              "color": "#E5ECF6",
              "width": 0.5
             }
            },
            "type": "bar"
           }
          ],
          "barpolar": [
           {
            "marker": {
             "line": {
              "color": "#E5ECF6",
              "width": 0.5
             }
            },
            "type": "barpolar"
           }
          ],
          "carpet": [
           {
            "aaxis": {
             "endlinecolor": "#2a3f5f",
             "gridcolor": "white",
             "linecolor": "white",
             "minorgridcolor": "white",
             "startlinecolor": "#2a3f5f"
            },
            "baxis": {
             "endlinecolor": "#2a3f5f",
             "gridcolor": "white",
             "linecolor": "white",
             "minorgridcolor": "white",
             "startlinecolor": "#2a3f5f"
            },
            "type": "carpet"
           }
          ],
          "choropleth": [
           {
            "colorbar": {
             "outlinewidth": 0,
             "ticks": ""
            },
            "type": "choropleth"
           }
          ],
          "contour": [
           {
            "colorbar": {
             "outlinewidth": 0,
             "ticks": ""
            },
            "colorscale": [
             [
              0,
              "#0d0887"
             ],
             [
              0.1111111111111111,
              "#46039f"
             ],
             [
              0.2222222222222222,
              "#7201a8"
             ],
             [
              0.3333333333333333,
              "#9c179e"
             ],
             [
              0.4444444444444444,
              "#bd3786"
             ],
             [
              0.5555555555555556,
              "#d8576b"
             ],
             [
              0.6666666666666666,
              "#ed7953"
             ],
             [
              0.7777777777777778,
              "#fb9f3a"
             ],
             [
              0.8888888888888888,
              "#fdca26"
             ],
             [
              1,
              "#f0f921"
             ]
            ],
            "type": "contour"
           }
          ],
          "contourcarpet": [
           {
            "colorbar": {
             "outlinewidth": 0,
             "ticks": ""
            },
            "type": "contourcarpet"
           }
          ],
          "heatmap": [
           {
            "colorbar": {
             "outlinewidth": 0,
             "ticks": ""
            },
            "colorscale": [
             [
              0,
              "#0d0887"
             ],
             [
              0.1111111111111111,
              "#46039f"
             ],
             [
              0.2222222222222222,
              "#7201a8"
             ],
             [
              0.3333333333333333,
              "#9c179e"
             ],
             [
              0.4444444444444444,
              "#bd3786"
             ],
             [
              0.5555555555555556,
              "#d8576b"
             ],
             [
              0.6666666666666666,
              "#ed7953"
             ],
             [
              0.7777777777777778,
              "#fb9f3a"
             ],
             [
              0.8888888888888888,
              "#fdca26"
             ],
             [
              1,
              "#f0f921"
             ]
            ],
            "type": "heatmap"
           }
          ],
          "heatmapgl": [
           {
            "colorbar": {
             "outlinewidth": 0,
             "ticks": ""
            },
            "colorscale": [
             [
              0,
              "#0d0887"
             ],
             [
              0.1111111111111111,
              "#46039f"
             ],
             [
              0.2222222222222222,
              "#7201a8"
             ],
             [
              0.3333333333333333,
              "#9c179e"
             ],
             [
              0.4444444444444444,
              "#bd3786"
             ],
             [
              0.5555555555555556,
              "#d8576b"
             ],
             [
              0.6666666666666666,
              "#ed7953"
             ],
             [
              0.7777777777777778,
              "#fb9f3a"
             ],
             [
              0.8888888888888888,
              "#fdca26"
             ],
             [
              1,
              "#f0f921"
             ]
            ],
            "type": "heatmapgl"
           }
          ],
          "histogram": [
           {
            "marker": {
             "colorbar": {
              "outlinewidth": 0,
              "ticks": ""
             }
            },
            "type": "histogram"
           }
          ],
          "histogram2d": [
           {
            "colorbar": {
             "outlinewidth": 0,
             "ticks": ""
            },
            "colorscale": [
             [
              0,
              "#0d0887"
             ],
             [
              0.1111111111111111,
              "#46039f"
             ],
             [
              0.2222222222222222,
              "#7201a8"
             ],
             [
              0.3333333333333333,
              "#9c179e"
             ],
             [
              0.4444444444444444,
              "#bd3786"
             ],
             [
              0.5555555555555556,
              "#d8576b"
             ],
             [
              0.6666666666666666,
              "#ed7953"
             ],
             [
              0.7777777777777778,
              "#fb9f3a"
             ],
             [
              0.8888888888888888,
              "#fdca26"
             ],
             [
              1,
              "#f0f921"
             ]
            ],
            "type": "histogram2d"
           }
          ],
          "histogram2dcontour": [
           {
            "colorbar": {
             "outlinewidth": 0,
             "ticks": ""
            },
            "colorscale": [
             [
              0,
              "#0d0887"
             ],
             [
              0.1111111111111111,
              "#46039f"
             ],
             [
              0.2222222222222222,
              "#7201a8"
             ],
             [
              0.3333333333333333,
              "#9c179e"
             ],
             [
              0.4444444444444444,
              "#bd3786"
             ],
             [
              0.5555555555555556,
              "#d8576b"
             ],
             [
              0.6666666666666666,
              "#ed7953"
             ],
             [
              0.7777777777777778,
              "#fb9f3a"
             ],
             [
              0.8888888888888888,
              "#fdca26"
             ],
             [
              1,
              "#f0f921"
             ]
            ],
            "type": "histogram2dcontour"
           }
          ],
          "mesh3d": [
           {
            "colorbar": {
             "outlinewidth": 0,
             "ticks": ""
            },
            "type": "mesh3d"
           }
          ],
          "parcoords": [
           {
            "line": {
             "colorbar": {
              "outlinewidth": 0,
              "ticks": ""
             }
            },
            "type": "parcoords"
           }
          ],
          "pie": [
           {
            "automargin": true,
            "type": "pie"
           }
          ],
          "scatter": [
           {
            "marker": {
             "colorbar": {
              "outlinewidth": 0,
              "ticks": ""
             }
            },
            "type": "scatter"
           }
          ],
          "scatter3d": [
           {
            "line": {
             "colorbar": {
              "outlinewidth": 0,
              "ticks": ""
             }
            },
            "marker": {
             "colorbar": {
              "outlinewidth": 0,
              "ticks": ""
             }
            },
            "type": "scatter3d"
           }
          ],
          "scattercarpet": [
           {
            "marker": {
             "colorbar": {
              "outlinewidth": 0,
              "ticks": ""
             }
            },
            "type": "scattercarpet"
           }
          ],
          "scattergeo": [
           {
            "marker": {
             "colorbar": {
              "outlinewidth": 0,
              "ticks": ""
             }
            },
            "type": "scattergeo"
           }
          ],
          "scattergl": [
           {
            "marker": {
             "colorbar": {
              "outlinewidth": 0,
              "ticks": ""
             }
            },
            "type": "scattergl"
           }
          ],
          "scattermapbox": [
           {
            "marker": {
             "colorbar": {
              "outlinewidth": 0,
              "ticks": ""
             }
            },
            "type": "scattermapbox"
           }
          ],
          "scatterpolar": [
           {
            "marker": {
             "colorbar": {
              "outlinewidth": 0,
              "ticks": ""
             }
            },
            "type": "scatterpolar"
           }
          ],
          "scatterpolargl": [
           {
            "marker": {
             "colorbar": {
              "outlinewidth": 0,
              "ticks": ""
             }
            },
            "type": "scatterpolargl"
           }
          ],
          "scatterternary": [
           {
            "marker": {
             "colorbar": {
              "outlinewidth": 0,
              "ticks": ""
             }
            },
            "type": "scatterternary"
           }
          ],
          "surface": [
           {
            "colorbar": {
             "outlinewidth": 0,
             "ticks": ""
            },
            "colorscale": [
             [
              0,
              "#0d0887"
             ],
             [
              0.1111111111111111,
              "#46039f"
             ],
             [
              0.2222222222222222,
              "#7201a8"
             ],
             [
              0.3333333333333333,
              "#9c179e"
             ],
             [
              0.4444444444444444,
              "#bd3786"
             ],
             [
              0.5555555555555556,
              "#d8576b"
             ],
             [
              0.6666666666666666,
              "#ed7953"
             ],
             [
              0.7777777777777778,
              "#fb9f3a"
             ],
             [
              0.8888888888888888,
              "#fdca26"
             ],
             [
              1,
              "#f0f921"
             ]
            ],
            "type": "surface"
           }
          ],
          "table": [
           {
            "cells": {
             "fill": {
              "color": "#EBF0F8"
             },
             "line": {
              "color": "white"
             }
            },
            "header": {
             "fill": {
              "color": "#C8D4E3"
             },
             "line": {
              "color": "white"
             }
            },
            "type": "table"
           }
          ]
         },
         "layout": {
          "annotationdefaults": {
           "arrowcolor": "#2a3f5f",
           "arrowhead": 0,
           "arrowwidth": 1
          },
          "autotypenumbers": "strict",
          "coloraxis": {
           "colorbar": {
            "outlinewidth": 0,
            "ticks": ""
           }
          },
          "colorscale": {
           "diverging": [
            [
             0,
             "#8e0152"
            ],
            [
             0.1,
             "#c51b7d"
            ],
            [
             0.2,
             "#de77ae"
            ],
            [
             0.3,
             "#f1b6da"
            ],
            [
             0.4,
             "#fde0ef"
            ],
            [
             0.5,
             "#f7f7f7"
            ],
            [
             0.6,
             "#e6f5d0"
            ],
            [
             0.7,
             "#b8e186"
            ],
            [
             0.8,
             "#7fbc41"
            ],
            [
             0.9,
             "#4d9221"
            ],
            [
             1,
             "#276419"
            ]
           ],
           "sequential": [
            [
             0,
             "#0d0887"
            ],
            [
             0.1111111111111111,
             "#46039f"
            ],
            [
             0.2222222222222222,
             "#7201a8"
            ],
            [
             0.3333333333333333,
             "#9c179e"
            ],
            [
             0.4444444444444444,
             "#bd3786"
            ],
            [
             0.5555555555555556,
             "#d8576b"
            ],
            [
             0.6666666666666666,
             "#ed7953"
            ],
            [
             0.7777777777777778,
             "#fb9f3a"
            ],
            [
             0.8888888888888888,
             "#fdca26"
            ],
            [
             1,
             "#f0f921"
            ]
           ],
           "sequentialminus": [
            [
             0,
             "#0d0887"
            ],
            [
             0.1111111111111111,
             "#46039f"
            ],
            [
             0.2222222222222222,
             "#7201a8"
            ],
            [
             0.3333333333333333,
             "#9c179e"
            ],
            [
             0.4444444444444444,
             "#bd3786"
            ],
            [
             0.5555555555555556,
             "#d8576b"
            ],
            [
             0.6666666666666666,
             "#ed7953"
            ],
            [
             0.7777777777777778,
             "#fb9f3a"
            ],
            [
             0.8888888888888888,
             "#fdca26"
            ],
            [
             1,
             "#f0f921"
            ]
           ]
          },
          "colorway": [
           "#636efa",
           "#EF553B",
           "#00cc96",
           "#ab63fa",
           "#FFA15A",
           "#19d3f3",
           "#FF6692",
           "#B6E880",
           "#FF97FF",
           "#FECB52"
          ],
          "font": {
           "color": "#2a3f5f"
          },
          "geo": {
           "bgcolor": "white",
           "lakecolor": "white",
           "landcolor": "#E5ECF6",
           "showlakes": true,
           "showland": true,
           "subunitcolor": "white"
          },
          "hoverlabel": {
           "align": "left"
          },
          "hovermode": "closest",
          "mapbox": {
           "style": "light"
          },
          "paper_bgcolor": "white",
          "plot_bgcolor": "#E5ECF6",
          "polar": {
           "angularaxis": {
            "gridcolor": "white",
            "linecolor": "white",
            "ticks": ""
           },
           "bgcolor": "#E5ECF6",
           "radialaxis": {
            "gridcolor": "white",
            "linecolor": "white",
            "ticks": ""
           }
          },
          "scene": {
           "xaxis": {
            "backgroundcolor": "#E5ECF6",
            "gridcolor": "white",
            "gridwidth": 2,
            "linecolor": "white",
            "showbackground": true,
            "ticks": "",
            "zerolinecolor": "white"
           },
           "yaxis": {
            "backgroundcolor": "#E5ECF6",
            "gridcolor": "white",
            "gridwidth": 2,
            "linecolor": "white",
            "showbackground": true,
            "ticks": "",
            "zerolinecolor": "white"
           },
           "zaxis": {
            "backgroundcolor": "#E5ECF6",
            "gridcolor": "white",
            "gridwidth": 2,
            "linecolor": "white",
            "showbackground": true,
            "ticks": "",
            "zerolinecolor": "white"
           }
          },
          "shapedefaults": {
           "line": {
            "color": "#2a3f5f"
           }
          },
          "ternary": {
           "aaxis": {
            "gridcolor": "white",
            "linecolor": "white",
            "ticks": ""
           },
           "baxis": {
            "gridcolor": "white",
            "linecolor": "white",
            "ticks": ""
           },
           "bgcolor": "#E5ECF6",
           "caxis": {
            "gridcolor": "white",
            "linecolor": "white",
            "ticks": ""
           }
          },
          "title": {
           "x": 0.05
          },
          "xaxis": {
           "automargin": true,
           "gridcolor": "white",
           "linecolor": "white",
           "ticks": "",
           "title": {
            "standoff": 15
           },
           "zerolinecolor": "white",
           "zerolinewidth": 2
          },
          "yaxis": {
           "automargin": true,
           "gridcolor": "white",
           "linecolor": "white",
           "ticks": "",
           "title": {
            "standoff": 15
           },
           "zerolinecolor": "white",
           "zerolinewidth": 2
          }
         }
        },
        "width": 600,
        "xaxis": {
         "range": [
          -2,
          2
         ],
         "type": "linear"
        },
        "yaxis": {
         "range": [
          -2,
          2
         ],
         "type": "linear"
        }
       }
      },
      "image/png": "[encoded data removed]",
      "text/html": [
       "<div\n",
       "    class=\"webio-mountpoint\"\n",
       "    data-webio-mountpoint=\"163622916060814451\"\n",
       ">\n",
       "    <script>\n",
       "    (function(){\n",
       "    // Some integrations (namely, IJulia/Jupyter) use an alternate render pathway than\n",
       "    // just putting the html on the page. If WebIO isn't defined, then it's pretty likely\n",
       "    // that we're in one of those situations and the integration just isn't installed\n",
       "    // correctly.\n",
       "    if (typeof window.WebIO === \"undefined\") {\n",
       "        document\n",
       "            .querySelector('[data-webio-mountpoint=\"163622916060814451\"]')\n",
       "            .innerHTML = (\n",
       "                '<div style=\"padding: 1em; background-color: #f8d6da; border: 1px solid #f5c6cb; font-weight: bold;\">' +\n",
       "                '<p><strong>WebIO not detected.</strong></p>' +\n",
       "                '<p>Please read ' +\n",
       "                '<a href=\"https://juliagizmos.github.io/WebIO.jl/latest/troubleshooting/not-detected/\" target=\"_blank\">the troubleshooting guide</a> ' +\n",
       "                'for more information on how to resolve this issue.</p>' +\n",
       "                '<p><a href=\"https://juliagizmos.github.io/WebIO.jl/latest/troubleshooting/not-detected/\" target=\"_blank\">https://juliagizmos.github.io/WebIO.jl/latest/troubleshooting/not-detected/</a></p>' +\n",
       "                '</div>'\n",
       "            );\n",
       "        return;\n",
       "    }\n",
       "    WebIO.mount(\n",
       "        document.querySelector('[data-webio-mountpoint=\"163622916060814451\"]'),\n",
       "        {\"props\":{},\"nodeType\":\"Scope\",\"type\":\"node\",\"instanceArgs\":{\"imports\":{\"data\":[{\"name\":\"Plotly\",\"type\":\"js\",\"url\":\"\\/assetserver\\/d66a736669047bda0b2d00471bd5207a90cf3193-plotly.min.js\"},{\"name\":null,\"type\":\"js\",\"url\":\"\\/assetserver\\/aee3160e397a4905b07437c5af565305d1ef6def-plotly_webio.bundle.js\"}],\"type\":\"async_block\"},\"id\":\"15802990293698710084\",\"handlers\":{\"_toImage\":[\"(function (options){return this.Plotly.toImage(this.plotElem,options).then((function (data){return WebIO.setval({\\\"name\\\":\\\"image\\\",\\\"scope\\\":\\\"15802990293698710084\\\",\\\"id\\\":\\\"1294221916197226728\\\",\\\"type\\\":\\\"observable\\\"},data)}))})\"],\"__get_gd_contents\":[\"(function (prop){prop==\\\"data\\\" ? (WebIO.setval({\\\"name\\\":\\\"__gd_contents\\\",\\\"scope\\\":\\\"15802990293698710084\\\",\\\"id\\\":\\\"12142989986569071175\\\",\\\"type\\\":\\\"observable\\\"},this.plotElem.data)) : undefined; return prop==\\\"layout\\\" ? (WebIO.setval({\\\"name\\\":\\\"__gd_contents\\\",\\\"scope\\\":\\\"15802990293698710084\\\",\\\"id\\\":\\\"12142989986569071175\\\",\\\"type\\\":\\\"observable\\\"},this.plotElem.layout)) : undefined})\"],\"_downloadImage\":[\"(function (options){return this.Plotly.downloadImage(this.plotElem,options)})\"],\"_commands\":[\"(function (args){var fn=args.shift(); var elem=this.plotElem; var Plotly=this.Plotly; args.unshift(elem); return Plotly[fn].apply(this,args)})\"]},\"systemjs_options\":null,\"mount_callbacks\":[\"function () {\\n    var handler = ((function (Plotly,PlotlyWebIO){PlotlyWebIO.init(WebIO); var gd=this.dom.querySelector(\\\"#plot-04f1489d-834f-435a-8a3f-e95dfa25f554\\\"); this.plotElem=gd; this.Plotly=Plotly; (window.Blink!==undefined) ? (gd.style.width=\\\"100%\\\", gd.style.height=\\\"100vh\\\", gd.style.marginLeft=\\\"0%\\\", gd.style.marginTop=\\\"0vh\\\") : undefined; window.onresize=(function (){return Plotly.Plots.resize(gd)}); Plotly.newPlot(gd,[{\\\"y\\\":[-1.0606601717798214,-0.35355339059327384,0.35355339059327373,-0.35355339059327373,-1.0606601717798214],\\\"type\\\":\\\"scatter\\\",\\\"name\\\":\\\"square\\\",\\\"x\\\":[0.3535533905932737,1.0606601717798212,0.3535533905932738,-0.3535533905932738,0.3535533905932737]},{\\\"y\\\":[0.0,0.05206151727259681,0.10183655876905783,0.1488277887281916,0.19256568631348184,0.2326132369100832,0.26857029863039444,0.3000776003995307,0.326820331673144,0.34853128792032,0.36499354044292504,0.37604260385545024,0.38156807956861255,0.3815147588555655,0.37588317447924824,0.3647295953691948,0.35863980860472877,0.3748566272391194,0.38909429667006074,0.40121055881094697,0.41108435197557,0.41861702048647087,0.4237333004098579,0.426382071567954,0.42653686831491455,0.42419614397281324,0.41938328628553556,0.4121463837361736,0.4025577450627987,0.3907131767734526,0.3767310258791887,0.360750997409858,0.3429327585276309,0.3234543431854918,0.30251037327083147,0.2803101140078812,0.25707538304876615,0.2330383341448491,0.20843913754318577,0.18352358028480686,0.1585406103818499,0.13373984941131312,0.10936909837877276,0.08567186177264673,0.06288491454783808,0.0412359363486543,0.020941236609060478,0.002203593260319205,0.01478977335907065,0.029869071147108035,0.04288363274484816,0.053703420954848584,0.062220328029861265,0.06834925584970797,0.0720289661935669,0.07322269261203278,0.07191850778532581,0.06812944269712823,0.06189335643330288,0.05327255790642196,0.04235318328570888,0.02924433535290833,0.01407699338335607,-0.002997295555645076,-0.021807930813025837,-0.04216696273926394,-0.0638709706171538,-0.08670309517437032,-0.11043520536963512,-0.13483017780266934,-0.1596442659728281,-0.18462953571356241,-0.20953634246865444,-0.23411582565810354,-0.25812239521077723,-0.2813161854192221,-0.3034654515985235,-0.3243488856025912,-0.34375782706200264,-0.378136847925822,-0.43259765001406114,-0.48803496229552396,-0.5438948734710335,-0.5996192497729544,-0.6546513116533083,-0.7084411969409676,-0.7604514548827106,-0.8101624161734895,-0.8570773853203444,-0.9007276034595871,-0.940676932040415,-0.9765262105771398,-1.00791724492882,-1.0345363862567083,-1.0561176648997752,-1.0724454478556418,-1.0833565933142606,-1.0887420807169534,-1.0885481000537989,-1.0827765895154615,-1.0714852161274326,-1.0547867995601732,-1.032848184872261,-1.0058885754497162,-0.9741773427982263,-0.938031335072105,-0.8978117112322699,-0.8539203324652898,-0.8067957469192426,-0.7569088078755877,-0.7063192271610323,-0.6857913544607216,-0.6601775755439195,-0.6297338148227731,-0.5947642562910384,-0.5556183042181656,-0.5126870920173343,-0.46639957416968497,-0.4172182402529314,-0.3656344938983824,-0.31216374284829307,-0.25734024917207426,-0.2017117910963034,-0.1458341897857491,-0.09026575576202714,-0.0355617104494204],\\\"type\\\":\\\"scatter\\\",\\\"name\\\":\\\"envelope\\\",\\\"x\\\":[1.0606601717798212,1.0403625088476263,1.0149687705395418,0.9847326826946882,0.9499563543080893,0.9109872589574587,0.8682147629620688,0.8220662349631989,0.7730027757979384,0.7215146113320428,0.6681161942851315,0.6133410639891668,0.5577365154398155,0.5018581309057631,0.4462642287343349,0.39151028481912764,0.3483162184914042,0.32930321942166085,0.3087662257414257,0.28691043630292445,0.2639542269296629,0.24012696847738466,0.2156667350363006,0.19081792517347584,0.16582881998313512,0.14094910234404065,0.11642736217070072,0.0925086125851179,0.0694318418266639,0.04742762536059094,0.0267158220442012,0.007503377369819962,-0.01001774426615612,-0.025672477608053156,-0.039304405735085764,-0.05077732292752491,-0.05997659558922606,-0.0668103076286287,-0.07121017885395994,-0.0731322472063404,-0.07255730801414437,-0.06949110587973066,-0.06396427728127464,-0.056032044463205546,-0.04577366367379376,-0.033291633262917474,-0.018710669552431218,-0.002176460711904687,-0.01614578890941069,-0.036073009449828906,-0.057406094708773614,-0.07993189155011804,-0.10342532965786154,-0.12765167036433006,-0.1523688520813477,-0.17732990889961225,-0.20228543819042424,-0.22698609255431057,-0.2511850712178186,-0.27464058598526087,-0.2971182771064437,-0.31839355492182125,-0.33825384388813373,-0.3565007065629688,-0.37295182632609003,-0.38744282902684174,-0.3998289253563267,-0.40998635753431956,-0.41781363585609865,-0.42323255274402705,-0.4261889641718161,-0.4266533306537393,-0.42462101239340816,-0.42011231564308504,-0.413172289810322,-0.40387027733917263,-0.39229922086341196,-0.37857473455446317,-0.3628339489428132,-0.3611240560674102,-0.3736307637532683,-0.3806379820488163,-0.3820756971451233,-0.37792954386819244,-0.36824094921103084,-0.35310671840882923,-0.33267806769305164,-0.3071591133888355,-0.27680483245214477,-0.24191851482430698,-0.20284873305917633,-0.159985859501397,-0.11375816581497532,-0.06462754383438374,-0.013084890494027127,0.04035479705165364,0.09515756710951524,0.1507758485165248,0.20665392178982403,0.26223347169210137,0.31695916573288985,0.370284202867244,0.4216757769510295,0.4706204003637977,0.5166290346073499,0.5592419766167567,0.5980334519614268,0.6326158690424718,0.662643691779846,0.6878168920946357,0.709452130727071,0.7614233068118378,0.8110854758224143,0.8579424297821783,0.9015259894960137,0.9414006824420693,0.9771680938692496,1.008470847625707,1.034996176943223,1.0564790494993646,1.0727048155328447,1.0835113525529814,1.088790685214036,1.0884900641691748,1.0826124931245058,1.0712166988270402]}],{\\\"xaxis\\\":{\\\"range\\\":[-2,2]},\\\"template\\\":{\\\"layout\\\":{\\\"coloraxis\\\":{\\\"colorbar\\\":{\\\"ticks\\\":\\\"\\\",\\\"outlinewidth\\\":0}},\\\"xaxis\\\":{\\\"gridcolor\\\":\\\"white\\\",\\\"zerolinewidth\\\":2,\\\"title\\\":{\\\"standoff\\\":15},\\\"ticks\\\":\\\"\\\",\\\"zerolinecolor\\\":\\\"white\\\",\\\"automargin\\\":true,\\\"linecolor\\\":\\\"white\\\"},\\\"hovermode\\\":\\\"closest\\\",\\\"paper_bgcolor\\\":\\\"white\\\",\\\"geo\\\":{\\\"showlakes\\\":true,\\\"showland\\\":true,\\\"landcolor\\\":\\\"#E5ECF6\\\",\\\"bgcolor\\\":\\\"white\\\",\\\"subunitcolor\\\":\\\"white\\\",\\\"lakecolor\\\":\\\"white\\\"},\\\"colorscale\\\":{\\\"sequential\\\":[[0.0,\\\"#0d0887\\\"],[0.1111111111111111,\\\"#46039f\\\"],[0.2222222222222222,\\\"#7201a8\\\"],[0.3333333333333333,\\\"#9c179e\\\"],[0.4444444444444444,\\\"#bd3786\\\"],[0.5555555555555556,\\\"#d8576b\\\"],[0.6666666666666666,\\\"#ed7953\\\"],[0.7777777777777778,\\\"#fb9f3a\\\"],[0.8888888888888888,\\\"#fdca26\\\"],[1.0,\\\"#f0f921\\\"]],\\\"diverging\\\":[[0,\\\"#8e0152\\\"],[0.1,\\\"#c51b7d\\\"],[0.2,\\\"#de77ae\\\"],[0.3,\\\"#f1b6da\\\"],[0.4,\\\"#fde0ef\\\"],[0.5,\\\"#f7f7f7\\\"],[0.6,\\\"#e6f5d0\\\"],[0.7,\\\"#b8e186\\\"],[0.8,\\\"#7fbc41\\\"],[0.9,\\\"#4d9221\\\"],[1,\\\"#276419\\\"]],\\\"sequentialminus\\\":[[0.0,\\\"#0d0887\\\"],[0.1111111111111111,\\\"#46039f\\\"],[0.2222222222222222,\\\"#7201a8\\\"],[0.3333333333333333,\\\"#9c179e\\\"],[0.4444444444444444,\\\"#bd3786\\\"],[0.5555555555555556,\\\"#d8576b\\\"],[0.6666666666666666,\\\"#ed7953\\\"],[0.7777777777777778,\\\"#fb9f3a\\\"],[0.8888888888888888,\\\"#fdca26\\\"],[1.0,\\\"#f0f921\\\"]]},\\\"yaxis\\\":{\\\"gridcolor\\\":\\\"white\\\",\\\"zerolinewidth\\\":2,\\\"title\\\":{\\\"standoff\\\":15},\\\"ticks\\\":\\\"\\\",\\\"zerolinecolor\\\":\\\"white\\\",\\\"automargin\\\":true,\\\"linecolor\\\":\\\"white\\\"},\\\"shapedefaults\\\":{\\\"line\\\":{\\\"color\\\":\\\"#2a3f5f\\\"}},\\\"hoverlabel\\\":{\\\"align\\\":\\\"left\\\"},\\\"mapbox\\\":{\\\"style\\\":\\\"light\\\"},\\\"polar\\\":{\\\"angularaxis\\\":{\\\"gridcolor\\\":\\\"white\\\",\\\"ticks\\\":\\\"\\\",\\\"linecolor\\\":\\\"white\\\"},\\\"bgcolor\\\":\\\"#E5ECF6\\\",\\\"radialaxis\\\":{\\\"gridcolor\\\":\\\"white\\\",\\\"ticks\\\":\\\"\\\",\\\"linecolor\\\":\\\"white\\\"}},\\\"autotypenumbers\\\":\\\"strict\\\",\\\"font\\\":{\\\"color\\\":\\\"#2a3f5f\\\"},\\\"ternary\\\":{\\\"baxis\\\":{\\\"gridcolor\\\":\\\"white\\\",\\\"ticks\\\":\\\"\\\",\\\"linecolor\\\":\\\"white\\\"},\\\"bgcolor\\\":\\\"#E5ECF6\\\",\\\"caxis\\\":{\\\"gridcolor\\\":\\\"white\\\",\\\"ticks\\\":\\\"\\\",\\\"linecolor\\\":\\\"white\\\"},\\\"aaxis\\\":{\\\"gridcolor\\\":\\\"white\\\",\\\"ticks\\\":\\\"\\\",\\\"linecolor\\\":\\\"white\\\"}},\\\"annotationdefaults\\\":{\\\"arrowhead\\\":0,\\\"arrowwidth\\\":1,\\\"arrowcolor\\\":\\\"#2a3f5f\\\"},\\\"plot_bgcolor\\\":\\\"#E5ECF6\\\",\\\"title\\\":{\\\"x\\\":0.05},\\\"scene\\\":{\\\"xaxis\\\":{\\\"gridcolor\\\":\\\"white\\\",\\\"gridwidth\\\":2,\\\"backgroundcolor\\\":\\\"#E5ECF6\\\",\\\"ticks\\\":\\\"\\\",\\\"showbackground\\\":true,\\\"zerolinecolor\\\":\\\"white\\\",\\\"linecolor\\\":\\\"white\\\"},\\\"zaxis\\\":{\\\"gridcolor\\\":\\\"white\\\",\\\"gridwidth\\\":2,\\\"backgroundcolor\\\":\\\"#E5ECF6\\\",\\\"ticks\\\":\\\"\\\",\\\"showbackground\\\":true,\\\"zerolinecolor\\\":\\\"white\\\",\\\"linecolor\\\":\\\"white\\\"},\\\"yaxis\\\":{\\\"gridcolor\\\":\\\"white\\\",\\\"gridwidth\\\":2,\\\"backgroundcolor\\\":\\\"#E5ECF6\\\",\\\"ticks\\\":\\\"\\\",\\\"showbackground\\\":true,\\\"zerolinecolor\\\":\\\"white\\\",\\\"linecolor\\\":\\\"white\\\"}},\\\"colorway\\\":[\\\"#636efa\\\",\\\"#EF553B\\\",\\\"#00cc96\\\",\\\"#ab63fa\\\",\\\"#FFA15A\\\",\\\"#19d3f3\\\",\\\"#FF6692\\\",\\\"#B6E880\\\",\\\"#FF97FF\\\",\\\"#FECB52\\\"]},\\\"data\\\":{\\\"barpolar\\\":[{\\\"type\\\":\\\"barpolar\\\",\\\"marker\\\":{\\\"line\\\":{\\\"color\\\":\\\"#E5ECF6\\\",\\\"width\\\":0.5}}}],\\\"carpet\\\":[{\\\"aaxis\\\":{\\\"gridcolor\\\":\\\"white\\\",\\\"endlinecolor\\\":\\\"#2a3f5f\\\",\\\"minorgridcolor\\\":\\\"white\\\",\\\"startlinecolor\\\":\\\"#2a3f5f\\\",\\\"linecolor\\\":\\\"white\\\"},\\\"type\\\":\\\"carpet\\\",\\\"baxis\\\":{\\\"gridcolor\\\":\\\"white\\\",\\\"endlinecolor\\\":\\\"#2a3f5f\\\",\\\"minorgridcolor\\\":\\\"white\\\",\\\"startlinecolor\\\":\\\"#2a3f5f\\\",\\\"linecolor\\\":\\\"white\\\"}}],\\\"scatterpolar\\\":[{\\\"type\\\":\\\"scatterpolar\\\",\\\"marker\\\":{\\\"colorbar\\\":{\\\"ticks\\\":\\\"\\\",\\\"outlinewidth\\\":0}}}],\\\"parcoords\\\":[{\\\"line\\\":{\\\"colorbar\\\":{\\\"ticks\\\":\\\"\\\",\\\"outlinewidth\\\":0}},\\\"type\\\":\\\"parcoords\\\"}],\\\"scatter\\\":[{\\\"type\\\":\\\"scatter\\\",\\\"marker\\\":{\\\"colorbar\\\":{\\\"ticks\\\":\\\"\\\",\\\"outlinewidth\\\":0}}}],\\\"histogram2dcontour\\\":[{\\\"colorbar\\\":{\\\"ticks\\\":\\\"\\\",\\\"outlinewidth\\\":0},\\\"type\\\":\\\"histogram2dcontour\\\",\\\"colorscale\\\":[[0.0,\\\"#0d0887\\\"],[0.1111111111111111,\\\"#46039f\\\"],[0.2222222222222222,\\\"#7201a8\\\"],[0.3333333333333333,\\\"#9c179e\\\"],[0.4444444444444444,\\\"#bd3786\\\"],[0.5555555555555556,\\\"#d8576b\\\"],[0.6666666666666666,\\\"#ed7953\\\"],[0.7777777777777778,\\\"#fb9f3a\\\"],[0.8888888888888888,\\\"#fdca26\\\"],[1.0,\\\"#f0f921\\\"]]}],\\\"contour\\\":[{\\\"colorbar\\\":{\\\"ticks\\\":\\\"\\\",\\\"outlinewidth\\\":0},\\\"type\\\":\\\"contour\\\",\\\"colorscale\\\":[[0.0,\\\"#0d0887\\\"],[0.1111111111111111,\\\"#46039f\\\"],[0.2222222222222222,\\\"#7201a8\\\"],[0.3333333333333333,\\\"#9c179e\\\"],[0.4444444444444444,\\\"#bd3786\\\"],[0.5555555555555556,\\\"#d8576b\\\"],[0.6666666666666666,\\\"#ed7953\\\"],[0.7777777777777778,\\\"#fb9f3a\\\"],[0.8888888888888888,\\\"#fdca26\\\"],[1.0,\\\"#f0f921\\\"]]}],\\\"scattercarpet\\\":[{\\\"type\\\":\\\"scattercarpet\\\",\\\"marker\\\":{\\\"colorbar\\\":{\\\"ticks\\\":\\\"\\\",\\\"outlinewidth\\\":0}}}],\\\"mesh3d\\\":[{\\\"colorbar\\\":{\\\"ticks\\\":\\\"\\\",\\\"outlinewidth\\\":0},\\\"type\\\":\\\"mesh3d\\\"}],\\\"surface\\\":[{\\\"colorbar\\\":{\\\"ticks\\\":\\\"\\\",\\\"outlinewidth\\\":0},\\\"type\\\":\\\"surface\\\",\\\"colorscale\\\":[[0.0,\\\"#0d0887\\\"],[0.1111111111111111,\\\"#46039f\\\"],[0.2222222222222222,\\\"#7201a8\\\"],[0.3333333333333333,\\\"#9c179e\\\"],[0.4444444444444444,\\\"#bd3786\\\"],[0.5555555555555556,\\\"#d8576b\\\"],[0.6666666666666666,\\\"#ed7953\\\"],[0.7777777777777778,\\\"#fb9f3a\\\"],[0.8888888888888888,\\\"#fdca26\\\"],[1.0,\\\"#f0f921\\\"]]}],\\\"scattermapbox\\\":[{\\\"type\\\":\\\"scattermapbox\\\",\\\"marker\\\":{\\\"colorbar\\\":{\\\"ticks\\\":\\\"\\\",\\\"outlinewidth\\\":0}}}],\\\"scattergeo\\\":[{\\\"type\\\":\\\"scattergeo\\\",\\\"marker\\\":{\\\"colorbar\\\":{\\\"ticks\\\":\\\"\\\",\\\"outlinewidth\\\":0}}}],\\\"histogram\\\":[{\\\"type\\\":\\\"histogram\\\",\\\"marker\\\":{\\\"colorbar\\\":{\\\"ticks\\\":\\\"\\\",\\\"outlinewidth\\\":0}}}],\\\"pie\\\":[{\\\"type\\\":\\\"pie\\\",\\\"automargin\\\":true}],\\\"choropleth\\\":[{\\\"colorbar\\\":{\\\"ticks\\\":\\\"\\\",\\\"outlinewidth\\\":0},\\\"type\\\":\\\"choropleth\\\"}],\\\"heatmapgl\\\":[{\\\"colorbar\\\":{\\\"ticks\\\":\\\"\\\",\\\"outlinewidth\\\":0},\\\"type\\\":\\\"heatmapgl\\\",\\\"colorscale\\\":[[0.0,\\\"#0d0887\\\"],[0.1111111111111111,\\\"#46039f\\\"],[0.2222222222222222,\\\"#7201a8\\\"],[0.3333333333333333,\\\"#9c179e\\\"],[0.4444444444444444,\\\"#bd3786\\\"],[0.5555555555555556,\\\"#d8576b\\\"],[0.6666666666666666,\\\"#ed7953\\\"],[0.7777777777777778,\\\"#fb9f3a\\\"],[0.8888888888888888,\\\"#fdca26\\\"],[1.0,\\\"#f0f921\\\"]]}],\\\"bar\\\":[{\\\"type\\\":\\\"bar\\\",\\\"error_y\\\":{\\\"color\\\":\\\"#2a3f5f\\\"},\\\"error_x\\\":{\\\"color\\\":\\\"#2a3f5f\\\"},\\\"marker\\\":{\\\"line\\\":{\\\"color\\\":\\\"#E5ECF6\\\",\\\"width\\\":0.5}}}],\\\"heatmap\\\":[{\\\"colorbar\\\":{\\\"ticks\\\":\\\"\\\",\\\"outlinewidth\\\":0},\\\"type\\\":\\\"heatmap\\\",\\\"colorscale\\\":[[0.0,\\\"#0d0887\\\"],[0.1111111111111111,\\\"#46039f\\\"],[0.2222222222222222,\\\"#7201a8\\\"],[0.3333333333333333,\\\"#9c179e\\\"],[0.4444444444444444,\\\"#bd3786\\\"],[0.5555555555555556,\\\"#d8576b\\\"],[0.6666666666666666,\\\"#ed7953\\\"],[0.7777777777777778,\\\"#fb9f3a\\\"],[0.8888888888888888,\\\"#fdca26\\\"],[1.0,\\\"#f0f921\\\"]]}],\\\"contourcarpet\\\":[{\\\"colorbar\\\":{\\\"ticks\\\":\\\"\\\",\\\"outlinewidth\\\":0},\\\"type\\\":\\\"contourcarpet\\\"}],\\\"table\\\":[{\\\"type\\\":\\\"table\\\",\\\"header\\\":{\\\"line\\\":{\\\"color\\\":\\\"white\\\"},\\\"fill\\\":{\\\"color\\\":\\\"#C8D4E3\\\"}},\\\"cells\\\":{\\\"line\\\":{\\\"color\\\":\\\"white\\\"},\\\"fill\\\":{\\\"color\\\":\\\"#EBF0F8\\\"}}}],\\\"scatter3d\\\":[{\\\"line\\\":{\\\"colorbar\\\":{\\\"ticks\\\":\\\"\\\",\\\"outlinewidth\\\":0}},\\\"type\\\":\\\"scatter3d\\\",\\\"marker\\\":{\\\"colorbar\\\":{\\\"ticks\\\":\\\"\\\",\\\"outlinewidth\\\":0}}}],\\\"scattergl\\\":[{\\\"type\\\":\\\"scattergl\\\",\\\"marker\\\":{\\\"colorbar\\\":{\\\"ticks\\\":\\\"\\\",\\\"outlinewidth\\\":0}}}],\\\"histogram2d\\\":[{\\\"colorbar\\\":{\\\"ticks\\\":\\\"\\\",\\\"outlinewidth\\\":0},\\\"type\\\":\\\"histogram2d\\\",\\\"colorscale\\\":[[0.0,\\\"#0d0887\\\"],[0.1111111111111111,\\\"#46039f\\\"],[0.2222222222222222,\\\"#7201a8\\\"],[0.3333333333333333,\\\"#9c179e\\\"],[0.4444444444444444,\\\"#bd3786\\\"],[0.5555555555555556,\\\"#d8576b\\\"],[0.6666666666666666,\\\"#ed7953\\\"],[0.7777777777777778,\\\"#fb9f3a\\\"],[0.8888888888888888,\\\"#fdca26\\\"],[1.0,\\\"#f0f921\\\"]]}],\\\"scatterternary\\\":[{\\\"type\\\":\\\"scatterternary\\\",\\\"marker\\\":{\\\"colorbar\\\":{\\\"ticks\\\":\\\"\\\",\\\"outlinewidth\\\":0}}}],\\\"scatterpolargl\\\":[{\\\"type\\\":\\\"scatterpolargl\\\",\\\"marker\\\":{\\\"colorbar\\\":{\\\"ticks\\\":\\\"\\\",\\\"outlinewidth\\\":0}}}]}},\\\"height\\\":600,\\\"margin\\\":{\\\"l\\\":50,\\\"b\\\":50,\\\"r\\\":50,\\\"t\\\":60},\\\"yaxis\\\":{\\\"range\\\":[-2,2]},\\\"width\\\":600},{\\\"showLink\\\":false,\\\"editable\\\":false,\\\"responsive\\\":true,\\\"staticPlot\\\":false,\\\"scrollZoom\\\":true}); gd.on(\\\"plotly_hover\\\",(function (data){var filtered_data=WebIO.PlotlyCommands.filterEventData(gd,data,\\\"hover\\\"); return !(filtered_data.isnil) ? (WebIO.setval({\\\"name\\\":\\\"hover\\\",\\\"scope\\\":\\\"15802990293698710084\\\",\\\"id\\\":\\\"16225223134777445997\\\",\\\"type\\\":\\\"observable\\\"},filtered_data.out)) : undefined})); gd.on(\\\"plotly_unhover\\\",(function (){return WebIO.setval({\\\"name\\\":\\\"hover\\\",\\\"scope\\\":\\\"15802990293698710084\\\",\\\"id\\\":\\\"16225223134777445997\\\",\\\"type\\\":\\\"observable\\\"},{})})); gd.on(\\\"plotly_selected\\\",(function (data){var filtered_data=WebIO.PlotlyCommands.filterEventData(gd,data,\\\"selected\\\"); return !(filtered_data.isnil) ? (WebIO.setval({\\\"name\\\":\\\"selected\\\",\\\"scope\\\":\\\"15802990293698710084\\\",\\\"id\\\":\\\"8917979053446330241\\\",\\\"type\\\":\\\"observable\\\"},filtered_data.out)) : undefined})); gd.on(\\\"plotly_deselect\\\",(function (){return WebIO.setval({\\\"name\\\":\\\"selected\\\",\\\"scope\\\":\\\"15802990293698710084\\\",\\\"id\\\":\\\"8917979053446330241\\\",\\\"type\\\":\\\"observable\\\"},{})})); gd.on(\\\"plotly_relayout\\\",(function (data){var filtered_data=WebIO.PlotlyCommands.filterEventData(gd,data,\\\"relayout\\\"); return !(filtered_data.isnil) ? (WebIO.setval({\\\"name\\\":\\\"relayout\\\",\\\"scope\\\":\\\"15802990293698710084\\\",\\\"id\\\":\\\"11197032853752887099\\\",\\\"type\\\":\\\"observable\\\"},filtered_data.out)) : undefined})); return gd.on(\\\"plotly_click\\\",(function (data){var filtered_data=WebIO.PlotlyCommands.filterEventData(gd,data,\\\"click\\\"); return !(filtered_data.isnil) ? (WebIO.setval({\\\"name\\\":\\\"click\\\",\\\"scope\\\":\\\"15802990293698710084\\\",\\\"id\\\":\\\"16235385972297652249\\\",\\\"type\\\":\\\"observable\\\"},filtered_data.out)) : undefined}))}));\\n    (WebIO.importBlock({\\\"data\\\":[{\\\"name\\\":\\\"Plotly\\\",\\\"type\\\":\\\"js\\\",\\\"url\\\":\\\"\\/assetserver\\/d66a736669047bda0b2d00471bd5207a90cf3193-plotly.min.js\\\"},{\\\"name\\\":null,\\\"type\\\":\\\"js\\\",\\\"url\\\":\\\"\\/assetserver\\/aee3160e397a4905b07437c5af565305d1ef6def-plotly_webio.bundle.js\\\"}],\\\"type\\\":\\\"async_block\\\"})).then((imports) => handler.apply(this, imports));\\n}\\n\"],\"observables\":{\"_toImage\":{\"sync\":false,\"id\":\"15902935208354962\",\"value\":{}},\"hover\":{\"sync\":false,\"id\":\"16225223134777445997\",\"value\":{}},\"selected\":{\"sync\":false,\"id\":\"8917979053446330241\",\"value\":{}},\"__gd_contents\":{\"sync\":false,\"id\":\"12142989986569071175\",\"value\":{}},\"click\":{\"sync\":false,\"id\":\"16235385972297652249\",\"value\":{}},\"image\":{\"sync\":true,\"id\":\"1294221916197226728\",\"value\":\"\"},\"__get_gd_contents\":{\"sync\":false,\"id\":\"4803615643576149576\",\"value\":\"\"},\"_downloadImage\":{\"sync\":false,\"id\":\"396010154568957343\",\"value\":{}},\"relayout\":{\"sync\":false,\"id\":\"11197032853752887099\",\"value\":{}},\"_commands\":{\"sync\":false,\"id\":\"15862935734736573620\",\"value\":[]}}},\"children\":[{\"props\":{\"id\":\"plot-04f1489d-834f-435a-8a3f-e95dfa25f554\"},\"nodeType\":\"DOM\",\"type\":\"node\",\"instanceArgs\":{\"namespace\":\"html\",\"tag\":\"div\"},\"children\":[]}]},\n",
       "        window,\n",
       "    );\n",
       "    })()\n",
       "    </script>\n",
       "</div>\n"
      ],
      "text/plain": [
       "data: [\n",
       "  \"scatter with fields name, type, x, and y\",\n",
       "  \"scatter with fields name, type, x, and y\"\n",
       "]\n",
       "\n",
       "layout: \"layout with fields height, margin, template, width, xaxis, and yaxis\"\n",
       "\n"
      ]
     },
     "execution_count": 20,
     "metadata": {},
     "output_type": "execute_result"
    }
   ],
   "source": [
    "R = LinearMap(RotMatrix{2}(π/4))\n",
    "s = transform(p,R)\n",
    "\n",
    "p1 = plotgeometry(s, name=\"square\")\n",
    "p2 = plotenvelope(s)\n",
    "\n",
    "plot([p1,p2], layout)"
   ]
  },
  {
   "cell_type": "code",
   "execution_count": 21,
   "id": "eedea88b-1153-43b5-b9bb-de37c62eb0ba",
   "metadata": {},
   "outputs": [
    {
     "data": {
      "application/vnd.plotly.v1+json": {
       "config": {
        "editable": false,
        "responsive": true,
        "scrollZoom": true,
        "showLink": false,
        "staticPlot": false
       },
       "data": [
        {
         "name": "square",
         "type": "scatter",
         "x": [
          0,
          1,
          1,
          0,
          0
         ],
         "y": [
          -1,
          -1,
          0,
          0,
          -1
         ]
        },
        {
         "name": "envelope",
         "type": "scatter",
         "x": [
          1,
          0.997502082639013,
          0.9900332889206209,
          0.9776682445628031,
          0.9605304970014426,
          0.9387912809451865,
          0.9126678074548391,
          0.8824210936422442,
          0.8483533546735827,
          0.8108049841353322,
          0.7701511529340699,
          0.7267980607127886,
          0.6811788772383367,
          0.6337494143122938,
          0.5849835714501204,
          0.5353686008338515,
          0.48540023884935557,
          0.4355777528522376,
          0.3863989526534564,
          0.33835521656824824,
          0.2919265817264289,
          0.24757694770007124,
          0.2057494413723271,
          0.16686198936008784,
          0.1313031422293771,
          0.09942819222653315,
          0.07155562331552635,
          0.04796392899146939,
          0.02888882966567088,
          0.0145209174252047,
          0.005003751699777271,
          0.00043242486336026587,
          0,
          0,
          0,
          0,
          0,
          0,
          0,
          0,
          0,
          0,
          0,
          0,
          0,
          0,
          0,
          0,
          0,
          0,
          0,
          0,
          0,
          0,
          0,
          0,
          0,
          0,
          0,
          0,
          0,
          0,
          0,
          -0.0084069502421753,
          -0.058274602425246826,
          -0.10755999404390776,
          -0.15577068175668934,
          -0.20242496030829918,
          -0.24705667556930447,
          -0.2892198821941001,
          -0.32849329935939453,
          -0.36448452006293824,
          -0.3968339319245766,
          -0.4252183103142824,
          -0.44935404790581346,
          -0.4689999883873694,
          -0.4839598360157433,
          -0.49408411693850024,
          -0.4992716726873025,
          -0.499470670919886,
          -0.4946791233116909,
          -0.48494490542254315,
          -0.4703652783398863,
          -0.45108591687814664,
          -0.42729945404414027,
          -0.39924355631174513,
          -0.36719854893705667,
          -0.331484615041091,
          -0.29245859644588085,
          -0.2505104282289423,
          -0.20605924262087832,
          -0.15954918117467606,
          -0.11144495705012297,
          -0.06222721175353086,
          -0.012387712726678886,
          0.03898948213271542,
          0.09481946271442736,
          0.1546978732898172,
          0.21802642857358756,
          0.2841723705749803,
          0.3524747909064587,
          0.4222512343618504,
          0.4928045177831723,
          0.5634296960842946,
          0.6334211058292125,
          0.7020794159878389,
          0.7687186154204898,
          0.8326728672744222,
          0.8933031618055784,
          0.9500037011527134,
          1.0022079522693772,
          1.0493943075348438,
          1.0910912964850346,
          1.126882296589552,
          1.1564096960062833,
          1.1793784667207174,
          1.1955591123683416,
          1.2047899612864545,
          1.2069787818839806,
          1.2021037041890366,
          1.1902134383664638,
          1.1714267880219615,
          1.1459314631557327,
          1.1139822046262056,
          1.0758982388635865,
          1.0320600882648905
         ],
         "y": [
          0,
          0.04991670832341408,
          0.09933466539753062,
          0.14776010333066983,
          0.19470917115432523,
          0.23971276930210156,
          0.2823212366975177,
          0.32210884361884556,
          0.3586780454497614,
          0.3916634548137417,
          0.42073549240394825,
          0.4456036800307177,
          0.46601954298361326,
          0.48177909270859653,
          0.4927248649942301,
          0.49874749330202717,
          0.49978680152075255,
          0.49583240522623434,
          0.4869238154390976,
          0.47315004384370724,
          0.4546487134128409,
          0.4316046833244369,
          0.40424820190979505,
          0.3728526060883601,
          0.3377315902755753,
          0.2992360720519783,
          0.2577506859107321,
          0.2136899401169149,
          0.16749407507795236,
          0.11962466460699102,
          0.0705600040299336,
          0.020790331216645246,
          0,
          0,
          0,
          0,
          0,
          0,
          0,
          0,
          0,
          0,
          0,
          0,
          0,
          0,
          0,
          0,
          0,
          0,
          0,
          0,
          0,
          0,
          0,
          0,
          0,
          0,
          0,
          0,
          0,
          0,
          0,
          -7.068180829243484e-05,
          -0.0034075406209036914,
          -0.011706187135988248,
          -0.024883704020735354,
          -0.04280842588234032,
          -0.0653012548250876,
          -0.09213744993732156,
          -0.12304887282834767,
          -0.15772666677859704,
          -0.19582434273387272,
          -0.23696124130944768,
          -0.28072633621280485,
          -0.32668234108248706,
          -0.37437007870887257,
          -0.4233130689810678,
          -0.4730222897186756,
          -0.5230010628197685,
          -0.5727500169043067,
          -0.6217720768678956,
          -0.6695774304919181,
          -0.7156884224853104,
          -0.7596443270583428,
          -0.8010059513424118,
          -0.8393600236600062,
          -0.8743233227987001,
          -0.9055465070308281,
          -0.9327176046205561,
          -0.9555651309423386,
          -0.973860801065556,
          -0.987421810702082,
          -0.9961126627263018,
          -0.9998465210176034,
          -1.0361616383290941,
          -1.079507318508554,
          -1.117062753121127,
          -1.1484527006783407,
          -1.1733635232003412,
          -1.1915463199829113,
          -1.2028194145310331,
          -1.2070701698103714,
          -1.204256113679288,
          -1.1944053632564413,
          -1.1776163439838312,
          -1.1540568061923178,
          -1.1239621489957663,
          -1.0876330682609132,
          -1.045432552153664,
          -0.9977822542813265,
          -0.9451582806691452,
          -0.8880864326662823,
          -0.8271369533125371,
          -0.7629188296583923,
          -0.6960737079677115,
          -0.6272694826003664,
          -0.5571936226325774,
          -0.4865463028931418,
          -0.41603340804799704,
          -0.3463594796339715,
          -0.27822067651263827,
          -0.2122978190810946,
          -0.14924958673959562,
          -0.08970593658472288,
          -0.03426180908631001
         ]
        }
       ],
       "frames": [],
       "layout": {
        "height": 600,
        "margin": {
         "b": 50,
         "l": 50,
         "r": 50,
         "t": 60
        },
        "template": {
         "data": {
          "bar": [
           {
            "error_x": {
             "color": "#2a3f5f"
            },
            "error_y": {
             "color": "#2a3f5f"
            },
            "marker": {
             "line": {
              "color": "#E5ECF6",
              "width": 0.5
             }
            },
            "type": "bar"
           }
          ],
          "barpolar": [
           {
            "marker": {
             "line": {
              "color": "#E5ECF6",
              "width": 0.5
             }
            },
            "type": "barpolar"
           }
          ],
          "carpet": [
           {
            "aaxis": {
             "endlinecolor": "#2a3f5f",
             "gridcolor": "white",
             "linecolor": "white",
             "minorgridcolor": "white",
             "startlinecolor": "#2a3f5f"
            },
            "baxis": {
             "endlinecolor": "#2a3f5f",
             "gridcolor": "white",
             "linecolor": "white",
             "minorgridcolor": "white",
             "startlinecolor": "#2a3f5f"
            },
            "type": "carpet"
           }
          ],
          "choropleth": [
           {
            "colorbar": {
             "outlinewidth": 0,
             "ticks": ""
            },
            "type": "choropleth"
           }
          ],
          "contour": [
           {
            "colorbar": {
             "outlinewidth": 0,
             "ticks": ""
            },
            "colorscale": [
             [
              0,
              "#0d0887"
             ],
             [
              0.1111111111111111,
              "#46039f"
             ],
             [
              0.2222222222222222,
              "#7201a8"
             ],
             [
              0.3333333333333333,
              "#9c179e"
             ],
             [
              0.4444444444444444,
              "#bd3786"
             ],
             [
              0.5555555555555556,
              "#d8576b"
             ],
             [
              0.6666666666666666,
              "#ed7953"
             ],
             [
              0.7777777777777778,
              "#fb9f3a"
             ],
             [
              0.8888888888888888,
              "#fdca26"
             ],
             [
              1,
              "#f0f921"
             ]
            ],
            "type": "contour"
           }
          ],
          "contourcarpet": [
           {
            "colorbar": {
             "outlinewidth": 0,
             "ticks": ""
            },
            "type": "contourcarpet"
           }
          ],
          "heatmap": [
           {
            "colorbar": {
             "outlinewidth": 0,
             "ticks": ""
            },
            "colorscale": [
             [
              0,
              "#0d0887"
             ],
             [
              0.1111111111111111,
              "#46039f"
             ],
             [
              0.2222222222222222,
              "#7201a8"
             ],
             [
              0.3333333333333333,
              "#9c179e"
             ],
             [
              0.4444444444444444,
              "#bd3786"
             ],
             [
              0.5555555555555556,
              "#d8576b"
             ],
             [
              0.6666666666666666,
              "#ed7953"
             ],
             [
              0.7777777777777778,
              "#fb9f3a"
             ],
             [
              0.8888888888888888,
              "#fdca26"
             ],
             [
              1,
              "#f0f921"
             ]
            ],
            "type": "heatmap"
           }
          ],
          "heatmapgl": [
           {
            "colorbar": {
             "outlinewidth": 0,
             "ticks": ""
            },
            "colorscale": [
             [
              0,
              "#0d0887"
             ],
             [
              0.1111111111111111,
              "#46039f"
             ],
             [
              0.2222222222222222,
              "#7201a8"
             ],
             [
              0.3333333333333333,
              "#9c179e"
             ],
             [
              0.4444444444444444,
              "#bd3786"
             ],
             [
              0.5555555555555556,
              "#d8576b"
             ],
             [
              0.6666666666666666,
              "#ed7953"
             ],
             [
              0.7777777777777778,
              "#fb9f3a"
             ],
             [
              0.8888888888888888,
              "#fdca26"
             ],
             [
              1,
              "#f0f921"
             ]
            ],
            "type": "heatmapgl"
           }
          ],
          "histogram": [
           {
            "marker": {
             "colorbar": {
              "outlinewidth": 0,
              "ticks": ""
             }
            },
            "type": "histogram"
           }
          ],
          "histogram2d": [
           {
            "colorbar": {
             "outlinewidth": 0,
             "ticks": ""
            },
            "colorscale": [
             [
              0,
              "#0d0887"
             ],
             [
              0.1111111111111111,
              "#46039f"
             ],
             [
              0.2222222222222222,
              "#7201a8"
             ],
             [
              0.3333333333333333,
              "#9c179e"
             ],
             [
              0.4444444444444444,
              "#bd3786"
             ],
             [
              0.5555555555555556,
              "#d8576b"
             ],
             [
              0.6666666666666666,
              "#ed7953"
             ],
             [
              0.7777777777777778,
              "#fb9f3a"
             ],
             [
              0.8888888888888888,
              "#fdca26"
             ],
             [
              1,
              "#f0f921"
             ]
            ],
            "type": "histogram2d"
           }
          ],
          "histogram2dcontour": [
           {
            "colorbar": {
             "outlinewidth": 0,
             "ticks": ""
            },
            "colorscale": [
             [
              0,
              "#0d0887"
             ],
             [
              0.1111111111111111,
              "#46039f"
             ],
             [
              0.2222222222222222,
              "#7201a8"
             ],
             [
              0.3333333333333333,
              "#9c179e"
             ],
             [
              0.4444444444444444,
              "#bd3786"
             ],
             [
              0.5555555555555556,
              "#d8576b"
             ],
             [
              0.6666666666666666,
              "#ed7953"
             ],
             [
              0.7777777777777778,
              "#fb9f3a"
             ],
             [
              0.8888888888888888,
              "#fdca26"
             ],
             [
              1,
              "#f0f921"
             ]
            ],
            "type": "histogram2dcontour"
           }
          ],
          "mesh3d": [
           {
            "colorbar": {
             "outlinewidth": 0,
             "ticks": ""
            },
            "type": "mesh3d"
           }
          ],
          "parcoords": [
           {
            "line": {
             "colorbar": {
              "outlinewidth": 0,
              "ticks": ""
             }
            },
            "type": "parcoords"
           }
          ],
          "pie": [
           {
            "automargin": true,
            "type": "pie"
           }
          ],
          "scatter": [
           {
            "marker": {
             "colorbar": {
              "outlinewidth": 0,
              "ticks": ""
             }
            },
            "type": "scatter"
           }
          ],
          "scatter3d": [
           {
            "line": {
             "colorbar": {
              "outlinewidth": 0,
              "ticks": ""
             }
            },
            "marker": {
             "colorbar": {
              "outlinewidth": 0,
              "ticks": ""
             }
            },
            "type": "scatter3d"
           }
          ],
          "scattercarpet": [
           {
            "marker": {
             "colorbar": {
              "outlinewidth": 0,
              "ticks": ""
             }
            },
            "type": "scattercarpet"
           }
          ],
          "scattergeo": [
           {
            "marker": {
             "colorbar": {
              "outlinewidth": 0,
              "ticks": ""
             }
            },
            "type": "scattergeo"
           }
          ],
          "scattergl": [
           {
            "marker": {
             "colorbar": {
              "outlinewidth": 0,
              "ticks": ""
             }
            },
            "type": "scattergl"
           }
          ],
          "scattermapbox": [
           {
            "marker": {
             "colorbar": {
              "outlinewidth": 0,
              "ticks": ""
             }
            },
            "type": "scattermapbox"
           }
          ],
          "scatterpolar": [
           {
            "marker": {
             "colorbar": {
              "outlinewidth": 0,
              "ticks": ""
             }
            },
            "type": "scatterpolar"
           }
          ],
          "scatterpolargl": [
           {
            "marker": {
             "colorbar": {
              "outlinewidth": 0,
              "ticks": ""
             }
            },
            "type": "scatterpolargl"
           }
          ],
          "scatterternary": [
           {
            "marker": {
             "colorbar": {
              "outlinewidth": 0,
              "ticks": ""
             }
            },
            "type": "scatterternary"
           }
          ],
          "surface": [
           {
            "colorbar": {
             "outlinewidth": 0,
             "ticks": ""
            },
            "colorscale": [
             [
              0,
              "#0d0887"
             ],
             [
              0.1111111111111111,
              "#46039f"
             ],
             [
              0.2222222222222222,
              "#7201a8"
             ],
             [
              0.3333333333333333,
              "#9c179e"
             ],
             [
              0.4444444444444444,
              "#bd3786"
             ],
             [
              0.5555555555555556,
              "#d8576b"
             ],
             [
              0.6666666666666666,
              "#ed7953"
             ],
             [
              0.7777777777777778,
              "#fb9f3a"
             ],
             [
              0.8888888888888888,
              "#fdca26"
             ],
             [
              1,
              "#f0f921"
             ]
            ],
            "type": "surface"
           }
          ],
          "table": [
           {
            "cells": {
             "fill": {
              "color": "#EBF0F8"
             },
             "line": {
              "color": "white"
             }
            },
            "header": {
             "fill": {
              "color": "#C8D4E3"
             },
             "line": {
              "color": "white"
             }
            },
            "type": "table"
           }
          ]
         },
         "layout": {
          "annotationdefaults": {
           "arrowcolor": "#2a3f5f",
           "arrowhead": 0,
           "arrowwidth": 1
          },
          "autotypenumbers": "strict",
          "coloraxis": {
           "colorbar": {
            "outlinewidth": 0,
            "ticks": ""
           }
          },
          "colorscale": {
           "diverging": [
            [
             0,
             "#8e0152"
            ],
            [
             0.1,
             "#c51b7d"
            ],
            [
             0.2,
             "#de77ae"
            ],
            [
             0.3,
             "#f1b6da"
            ],
            [
             0.4,
             "#fde0ef"
            ],
            [
             0.5,
             "#f7f7f7"
            ],
            [
             0.6,
             "#e6f5d0"
            ],
            [
             0.7,
             "#b8e186"
            ],
            [
             0.8,
             "#7fbc41"
            ],
            [
             0.9,
             "#4d9221"
            ],
            [
             1,
             "#276419"
            ]
           ],
           "sequential": [
            [
             0,
             "#0d0887"
            ],
            [
             0.1111111111111111,
             "#46039f"
            ],
            [
             0.2222222222222222,
             "#7201a8"
            ],
            [
             0.3333333333333333,
             "#9c179e"
            ],
            [
             0.4444444444444444,
             "#bd3786"
            ],
            [
             0.5555555555555556,
             "#d8576b"
            ],
            [
             0.6666666666666666,
             "#ed7953"
            ],
            [
             0.7777777777777778,
             "#fb9f3a"
            ],
            [
             0.8888888888888888,
             "#fdca26"
            ],
            [
             1,
             "#f0f921"
            ]
           ],
           "sequentialminus": [
            [
             0,
             "#0d0887"
            ],
            [
             0.1111111111111111,
             "#46039f"
            ],
            [
             0.2222222222222222,
             "#7201a8"
            ],
            [
             0.3333333333333333,
             "#9c179e"
            ],
            [
             0.4444444444444444,
             "#bd3786"
            ],
            [
             0.5555555555555556,
             "#d8576b"
            ],
            [
             0.6666666666666666,
             "#ed7953"
            ],
            [
             0.7777777777777778,
             "#fb9f3a"
            ],
            [
             0.8888888888888888,
             "#fdca26"
            ],
            [
             1,
             "#f0f921"
            ]
           ]
          },
          "colorway": [
           "#636efa",
           "#EF553B",
           "#00cc96",
           "#ab63fa",
           "#FFA15A",
           "#19d3f3",
           "#FF6692",
           "#B6E880",
           "#FF97FF",
           "#FECB52"
          ],
          "font": {
           "color": "#2a3f5f"
          },
          "geo": {
           "bgcolor": "white",
           "lakecolor": "white",
           "landcolor": "#E5ECF6",
           "showlakes": true,
           "showland": true,
           "subunitcolor": "white"
          },
          "hoverlabel": {
           "align": "left"
          },
          "hovermode": "closest",
          "mapbox": {
           "style": "light"
          },
          "paper_bgcolor": "white",
          "plot_bgcolor": "#E5ECF6",
          "polar": {
           "angularaxis": {
            "gridcolor": "white",
            "linecolor": "white",
            "ticks": ""
           },
           "bgcolor": "#E5ECF6",
           "radialaxis": {
            "gridcolor": "white",
            "linecolor": "white",
            "ticks": ""
           }
          },
          "scene": {
           "xaxis": {
            "backgroundcolor": "#E5ECF6",
            "gridcolor": "white",
            "gridwidth": 2,
            "linecolor": "white",
            "showbackground": true,
            "ticks": "",
            "zerolinecolor": "white"
           },
           "yaxis": {
            "backgroundcolor": "#E5ECF6",
            "gridcolor": "white",
            "gridwidth": 2,
            "linecolor": "white",
            "showbackground": true,
            "ticks": "",
            "zerolinecolor": "white"
           },
           "zaxis": {
            "backgroundcolor": "#E5ECF6",
            "gridcolor": "white",
            "gridwidth": 2,
            "linecolor": "white",
            "showbackground": true,
            "ticks": "",
            "zerolinecolor": "white"
           }
          },
          "shapedefaults": {
           "line": {
            "color": "#2a3f5f"
           }
          },
          "ternary": {
           "aaxis": {
            "gridcolor": "white",
            "linecolor": "white",
            "ticks": ""
           },
           "baxis": {
            "gridcolor": "white",
            "linecolor": "white",
            "ticks": ""
           },
           "bgcolor": "#E5ECF6",
           "caxis": {
            "gridcolor": "white",
            "linecolor": "white",
            "ticks": ""
           }
          },
          "title": {
           "x": 0.05
          },
          "xaxis": {
           "automargin": true,
           "gridcolor": "white",
           "linecolor": "white",
           "ticks": "",
           "title": {
            "standoff": 15
           },
           "zerolinecolor": "white",
           "zerolinewidth": 2
          },
          "yaxis": {
           "automargin": true,
           "gridcolor": "white",
           "linecolor": "white",
           "ticks": "",
           "title": {
            "standoff": 15
           },
           "zerolinecolor": "white",
           "zerolinewidth": 2
          }
         }
        },
        "width": 600,
        "xaxis": {
         "range": [
          -2,
          2
         ],
         "type": "linear"
        },
        "yaxis": {
         "range": [
          -2,
          2
         ],
         "type": "linear"
        }
       }
      },
      "image/png": "[encoded data removed]",
      "text/html": [
       "<div\n",
       "    class=\"webio-mountpoint\"\n",
       "    data-webio-mountpoint=\"12810231458694032288\"\n",
       ">\n",
       "    <script>\n",
       "    (function(){\n",
       "    // Some integrations (namely, IJulia/Jupyter) use an alternate render pathway than\n",
       "    // just putting the html on the page. If WebIO isn't defined, then it's pretty likely\n",
       "    // that we're in one of those situations and the integration just isn't installed\n",
       "    // correctly.\n",
       "    if (typeof window.WebIO === \"undefined\") {\n",
       "        document\n",
       "            .querySelector('[data-webio-mountpoint=\"12810231458694032288\"]')\n",
       "            .innerHTML = (\n",
       "                '<div style=\"padding: 1em; background-color: #f8d6da; border: 1px solid #f5c6cb; font-weight: bold;\">' +\n",
       "                '<p><strong>WebIO not detected.</strong></p>' +\n",
       "                '<p>Please read ' +\n",
       "                '<a href=\"https://juliagizmos.github.io/WebIO.jl/latest/troubleshooting/not-detected/\" target=\"_blank\">the troubleshooting guide</a> ' +\n",
       "                'for more information on how to resolve this issue.</p>' +\n",
       "                '<p><a href=\"https://juliagizmos.github.io/WebIO.jl/latest/troubleshooting/not-detected/\" target=\"_blank\">https://juliagizmos.github.io/WebIO.jl/latest/troubleshooting/not-detected/</a></p>' +\n",
       "                '</div>'\n",
       "            );\n",
       "        return;\n",
       "    }\n",
       "    WebIO.mount(\n",
       "        document.querySelector('[data-webio-mountpoint=\"12810231458694032288\"]'),\n",
       "        {\"props\":{},\"nodeType\":\"Scope\",\"type\":\"node\",\"instanceArgs\":{\"imports\":{\"data\":[{\"name\":\"Plotly\",\"type\":\"js\",\"url\":\"\\/assetserver\\/d66a736669047bda0b2d00471bd5207a90cf3193-plotly.min.js\"},{\"name\":null,\"type\":\"js\",\"url\":\"\\/assetserver\\/aee3160e397a4905b07437c5af565305d1ef6def-plotly_webio.bundle.js\"}],\"type\":\"async_block\"},\"id\":\"8300639261528816462\",\"handlers\":{\"_toImage\":[\"(function (options){return this.Plotly.toImage(this.plotElem,options).then((function (data){return WebIO.setval({\\\"name\\\":\\\"image\\\",\\\"scope\\\":\\\"8300639261528816462\\\",\\\"id\\\":\\\"7129934800755098704\\\",\\\"type\\\":\\\"observable\\\"},data)}))})\"],\"__get_gd_contents\":[\"(function (prop){prop==\\\"data\\\" ? (WebIO.setval({\\\"name\\\":\\\"__gd_contents\\\",\\\"scope\\\":\\\"8300639261528816462\\\",\\\"id\\\":\\\"5145379482066260636\\\",\\\"type\\\":\\\"observable\\\"},this.plotElem.data)) : undefined; return prop==\\\"layout\\\" ? (WebIO.setval({\\\"name\\\":\\\"__gd_contents\\\",\\\"scope\\\":\\\"8300639261528816462\\\",\\\"id\\\":\\\"5145379482066260636\\\",\\\"type\\\":\\\"observable\\\"},this.plotElem.layout)) : undefined})\"],\"_downloadImage\":[\"(function (options){return this.Plotly.downloadImage(this.plotElem,options)})\"],\"_commands\":[\"(function (args){var fn=args.shift(); var elem=this.plotElem; var Plotly=this.Plotly; args.unshift(elem); return Plotly[fn].apply(this,args)})\"]},\"systemjs_options\":null,\"mount_callbacks\":[\"function () {\\n    var handler = ((function (Plotly,PlotlyWebIO){PlotlyWebIO.init(WebIO); var gd=this.dom.querySelector(\\\"#plot-d75c0581-5535-4ec5-9af1-e15030c4483d\\\"); this.plotElem=gd; this.Plotly=Plotly; (window.Blink!==undefined) ? (gd.style.width=\\\"100%\\\", gd.style.height=\\\"100vh\\\", gd.style.marginLeft=\\\"0%\\\", gd.style.marginTop=\\\"0vh\\\") : undefined; window.onresize=(function (){return Plotly.Plots.resize(gd)}); Plotly.newPlot(gd,[{\\\"y\\\":[-1.0,-1.0,0.0,0.0,-1.0],\\\"type\\\":\\\"scatter\\\",\\\"name\\\":\\\"square\\\",\\\"x\\\":[0.0,1.0,1.0,0.0,0.0]},{\\\"y\\\":[0.0,0.04991670832341408,0.09933466539753062,0.14776010333066983,0.19470917115432523,0.23971276930210156,0.2823212366975177,0.32210884361884556,0.3586780454497614,0.3916634548137417,0.42073549240394825,0.4456036800307177,0.46601954298361326,0.48177909270859653,0.4927248649942301,0.49874749330202717,0.49978680152075255,0.49583240522623434,0.4869238154390976,0.47315004384370724,0.4546487134128409,0.4316046833244369,0.40424820190979505,0.3728526060883601,0.3377315902755753,0.2992360720519783,0.2577506859107321,0.2136899401169149,0.16749407507795236,0.11962466460699102,0.0705600040299336,0.020790331216645246,0.0,0.0,0.0,0.0,0.0,0.0,0.0,0.0,0.0,0.0,0.0,0.0,0.0,0.0,0.0,0.0,0.0,0.0,0.0,0.0,0.0,0.0,0.0,0.0,0.0,0.0,0.0,0.0,0.0,0.0,0.0,-7.068180829243484e-5,-0.0034075406209036914,-0.011706187135988248,-0.024883704020735354,-0.04280842588234032,-0.0653012548250876,-0.09213744993732156,-0.12304887282834767,-0.15772666677859704,-0.19582434273387272,-0.23696124130944768,-0.28072633621280485,-0.32668234108248706,-0.37437007870887257,-0.4233130689810678,-0.4730222897186756,-0.5230010628197685,-0.5727500169043067,-0.6217720768678956,-0.6695774304919181,-0.7156884224853104,-0.7596443270583428,-0.8010059513424118,-0.8393600236600062,-0.8743233227987001,-0.9055465070308281,-0.9327176046205561,-0.9555651309423386,-0.973860801065556,-0.987421810702082,-0.9961126627263018,-0.9998465210176034,-1.0361616383290941,-1.079507318508554,-1.117062753121127,-1.1484527006783407,-1.1733635232003412,-1.1915463199829113,-1.2028194145310331,-1.2070701698103714,-1.204256113679288,-1.1944053632564413,-1.1776163439838312,-1.1540568061923178,-1.1239621489957663,-1.0876330682609132,-1.045432552153664,-0.9977822542813265,-0.9451582806691452,-0.8880864326662823,-0.8271369533125371,-0.7629188296583923,-0.6960737079677115,-0.6272694826003664,-0.5571936226325774,-0.4865463028931418,-0.41603340804799704,-0.3463594796339715,-0.27822067651263827,-0.2122978190810946,-0.14924958673959562,-0.08970593658472288,-0.03426180908631001],\\\"type\\\":\\\"scatter\\\",\\\"name\\\":\\\"envelope\\\",\\\"x\\\":[1.0,0.997502082639013,0.9900332889206209,0.9776682445628031,0.9605304970014426,0.9387912809451865,0.9126678074548391,0.8824210936422442,0.8483533546735827,0.8108049841353322,0.7701511529340699,0.7267980607127886,0.6811788772383367,0.6337494143122938,0.5849835714501204,0.5353686008338515,0.48540023884935557,0.4355777528522376,0.3863989526534564,0.33835521656824824,0.2919265817264289,0.24757694770007124,0.2057494413723271,0.16686198936008784,0.1313031422293771,0.09942819222653315,0.07155562331552635,0.04796392899146939,0.02888882966567088,0.0145209174252047,0.005003751699777271,0.00043242486336026587,-0.0,-0.0,-0.0,-0.0,-0.0,-0.0,-0.0,-0.0,-0.0,-0.0,-0.0,-0.0,-0.0,-0.0,-0.0,-0.0,-0.0,-0.0,-0.0,-0.0,-0.0,-0.0,-0.0,-0.0,-0.0,-0.0,-0.0,-0.0,-0.0,-0.0,-0.0,-0.0084069502421753,-0.058274602425246826,-0.10755999404390776,-0.15577068175668934,-0.20242496030829918,-0.24705667556930447,-0.2892198821941001,-0.32849329935939453,-0.36448452006293824,-0.3968339319245766,-0.4252183103142824,-0.44935404790581346,-0.4689999883873694,-0.4839598360157433,-0.49408411693850024,-0.4992716726873025,-0.499470670919886,-0.4946791233116909,-0.48494490542254315,-0.4703652783398863,-0.45108591687814664,-0.42729945404414027,-0.39924355631174513,-0.36719854893705667,-0.331484615041091,-0.29245859644588085,-0.2505104282289423,-0.20605924262087832,-0.15954918117467606,-0.11144495705012297,-0.06222721175353086,-0.012387712726678886,0.03898948213271542,0.09481946271442736,0.1546978732898172,0.21802642857358756,0.2841723705749803,0.3524747909064587,0.4222512343618504,0.4928045177831723,0.5634296960842946,0.6334211058292125,0.7020794159878389,0.7687186154204898,0.8326728672744222,0.8933031618055784,0.9500037011527134,1.0022079522693772,1.0493943075348438,1.0910912964850346,1.126882296589552,1.1564096960062833,1.1793784667207174,1.1955591123683416,1.2047899612864545,1.2069787818839806,1.2021037041890366,1.1902134383664638,1.1714267880219615,1.1459314631557327,1.1139822046262056,1.0758982388635865,1.0320600882648905]}],{\\\"xaxis\\\":{\\\"range\\\":[-2,2]},\\\"template\\\":{\\\"layout\\\":{\\\"coloraxis\\\":{\\\"colorbar\\\":{\\\"ticks\\\":\\\"\\\",\\\"outlinewidth\\\":0}},\\\"xaxis\\\":{\\\"gridcolor\\\":\\\"white\\\",\\\"zerolinewidth\\\":2,\\\"title\\\":{\\\"standoff\\\":15},\\\"ticks\\\":\\\"\\\",\\\"zerolinecolor\\\":\\\"white\\\",\\\"automargin\\\":true,\\\"linecolor\\\":\\\"white\\\"},\\\"hovermode\\\":\\\"closest\\\",\\\"paper_bgcolor\\\":\\\"white\\\",\\\"geo\\\":{\\\"showlakes\\\":true,\\\"showland\\\":true,\\\"landcolor\\\":\\\"#E5ECF6\\\",\\\"bgcolor\\\":\\\"white\\\",\\\"subunitcolor\\\":\\\"white\\\",\\\"lakecolor\\\":\\\"white\\\"},\\\"colorscale\\\":{\\\"sequential\\\":[[0.0,\\\"#0d0887\\\"],[0.1111111111111111,\\\"#46039f\\\"],[0.2222222222222222,\\\"#7201a8\\\"],[0.3333333333333333,\\\"#9c179e\\\"],[0.4444444444444444,\\\"#bd3786\\\"],[0.5555555555555556,\\\"#d8576b\\\"],[0.6666666666666666,\\\"#ed7953\\\"],[0.7777777777777778,\\\"#fb9f3a\\\"],[0.8888888888888888,\\\"#fdca26\\\"],[1.0,\\\"#f0f921\\\"]],\\\"diverging\\\":[[0,\\\"#8e0152\\\"],[0.1,\\\"#c51b7d\\\"],[0.2,\\\"#de77ae\\\"],[0.3,\\\"#f1b6da\\\"],[0.4,\\\"#fde0ef\\\"],[0.5,\\\"#f7f7f7\\\"],[0.6,\\\"#e6f5d0\\\"],[0.7,\\\"#b8e186\\\"],[0.8,\\\"#7fbc41\\\"],[0.9,\\\"#4d9221\\\"],[1,\\\"#276419\\\"]],\\\"sequentialminus\\\":[[0.0,\\\"#0d0887\\\"],[0.1111111111111111,\\\"#46039f\\\"],[0.2222222222222222,\\\"#7201a8\\\"],[0.3333333333333333,\\\"#9c179e\\\"],[0.4444444444444444,\\\"#bd3786\\\"],[0.5555555555555556,\\\"#d8576b\\\"],[0.6666666666666666,\\\"#ed7953\\\"],[0.7777777777777778,\\\"#fb9f3a\\\"],[0.8888888888888888,\\\"#fdca26\\\"],[1.0,\\\"#f0f921\\\"]]},\\\"yaxis\\\":{\\\"gridcolor\\\":\\\"white\\\",\\\"zerolinewidth\\\":2,\\\"title\\\":{\\\"standoff\\\":15},\\\"ticks\\\":\\\"\\\",\\\"zerolinecolor\\\":\\\"white\\\",\\\"automargin\\\":true,\\\"linecolor\\\":\\\"white\\\"},\\\"shapedefaults\\\":{\\\"line\\\":{\\\"color\\\":\\\"#2a3f5f\\\"}},\\\"hoverlabel\\\":{\\\"align\\\":\\\"left\\\"},\\\"mapbox\\\":{\\\"style\\\":\\\"light\\\"},\\\"polar\\\":{\\\"angularaxis\\\":{\\\"gridcolor\\\":\\\"white\\\",\\\"ticks\\\":\\\"\\\",\\\"linecolor\\\":\\\"white\\\"},\\\"bgcolor\\\":\\\"#E5ECF6\\\",\\\"radialaxis\\\":{\\\"gridcolor\\\":\\\"white\\\",\\\"ticks\\\":\\\"\\\",\\\"linecolor\\\":\\\"white\\\"}},\\\"autotypenumbers\\\":\\\"strict\\\",\\\"font\\\":{\\\"color\\\":\\\"#2a3f5f\\\"},\\\"ternary\\\":{\\\"baxis\\\":{\\\"gridcolor\\\":\\\"white\\\",\\\"ticks\\\":\\\"\\\",\\\"linecolor\\\":\\\"white\\\"},\\\"bgcolor\\\":\\\"#E5ECF6\\\",\\\"caxis\\\":{\\\"gridcolor\\\":\\\"white\\\",\\\"ticks\\\":\\\"\\\",\\\"linecolor\\\":\\\"white\\\"},\\\"aaxis\\\":{\\\"gridcolor\\\":\\\"white\\\",\\\"ticks\\\":\\\"\\\",\\\"linecolor\\\":\\\"white\\\"}},\\\"annotationdefaults\\\":{\\\"arrowhead\\\":0,\\\"arrowwidth\\\":1,\\\"arrowcolor\\\":\\\"#2a3f5f\\\"},\\\"plot_bgcolor\\\":\\\"#E5ECF6\\\",\\\"title\\\":{\\\"x\\\":0.05},\\\"scene\\\":{\\\"xaxis\\\":{\\\"gridcolor\\\":\\\"white\\\",\\\"gridwidth\\\":2,\\\"backgroundcolor\\\":\\\"#E5ECF6\\\",\\\"ticks\\\":\\\"\\\",\\\"showbackground\\\":true,\\\"zerolinecolor\\\":\\\"white\\\",\\\"linecolor\\\":\\\"white\\\"},\\\"zaxis\\\":{\\\"gridcolor\\\":\\\"white\\\",\\\"gridwidth\\\":2,\\\"backgroundcolor\\\":\\\"#E5ECF6\\\",\\\"ticks\\\":\\\"\\\",\\\"showbackground\\\":true,\\\"zerolinecolor\\\":\\\"white\\\",\\\"linecolor\\\":\\\"white\\\"},\\\"yaxis\\\":{\\\"gridcolor\\\":\\\"white\\\",\\\"gridwidth\\\":2,\\\"backgroundcolor\\\":\\\"#E5ECF6\\\",\\\"ticks\\\":\\\"\\\",\\\"showbackground\\\":true,\\\"zerolinecolor\\\":\\\"white\\\",\\\"linecolor\\\":\\\"white\\\"}},\\\"colorway\\\":[\\\"#636efa\\\",\\\"#EF553B\\\",\\\"#00cc96\\\",\\\"#ab63fa\\\",\\\"#FFA15A\\\",\\\"#19d3f3\\\",\\\"#FF6692\\\",\\\"#B6E880\\\",\\\"#FF97FF\\\",\\\"#FECB52\\\"]},\\\"data\\\":{\\\"barpolar\\\":[{\\\"type\\\":\\\"barpolar\\\",\\\"marker\\\":{\\\"line\\\":{\\\"color\\\":\\\"#E5ECF6\\\",\\\"width\\\":0.5}}}],\\\"carpet\\\":[{\\\"aaxis\\\":{\\\"gridcolor\\\":\\\"white\\\",\\\"endlinecolor\\\":\\\"#2a3f5f\\\",\\\"minorgridcolor\\\":\\\"white\\\",\\\"startlinecolor\\\":\\\"#2a3f5f\\\",\\\"linecolor\\\":\\\"white\\\"},\\\"type\\\":\\\"carpet\\\",\\\"baxis\\\":{\\\"gridcolor\\\":\\\"white\\\",\\\"endlinecolor\\\":\\\"#2a3f5f\\\",\\\"minorgridcolor\\\":\\\"white\\\",\\\"startlinecolor\\\":\\\"#2a3f5f\\\",\\\"linecolor\\\":\\\"white\\\"}}],\\\"scatterpolar\\\":[{\\\"type\\\":\\\"scatterpolar\\\",\\\"marker\\\":{\\\"colorbar\\\":{\\\"ticks\\\":\\\"\\\",\\\"outlinewidth\\\":0}}}],\\\"parcoords\\\":[{\\\"line\\\":{\\\"colorbar\\\":{\\\"ticks\\\":\\\"\\\",\\\"outlinewidth\\\":0}},\\\"type\\\":\\\"parcoords\\\"}],\\\"scatter\\\":[{\\\"type\\\":\\\"scatter\\\",\\\"marker\\\":{\\\"colorbar\\\":{\\\"ticks\\\":\\\"\\\",\\\"outlinewidth\\\":0}}}],\\\"histogram2dcontour\\\":[{\\\"colorbar\\\":{\\\"ticks\\\":\\\"\\\",\\\"outlinewidth\\\":0},\\\"type\\\":\\\"histogram2dcontour\\\",\\\"colorscale\\\":[[0.0,\\\"#0d0887\\\"],[0.1111111111111111,\\\"#46039f\\\"],[0.2222222222222222,\\\"#7201a8\\\"],[0.3333333333333333,\\\"#9c179e\\\"],[0.4444444444444444,\\\"#bd3786\\\"],[0.5555555555555556,\\\"#d8576b\\\"],[0.6666666666666666,\\\"#ed7953\\\"],[0.7777777777777778,\\\"#fb9f3a\\\"],[0.8888888888888888,\\\"#fdca26\\\"],[1.0,\\\"#f0f921\\\"]]}],\\\"contour\\\":[{\\\"colorbar\\\":{\\\"ticks\\\":\\\"\\\",\\\"outlinewidth\\\":0},\\\"type\\\":\\\"contour\\\",\\\"colorscale\\\":[[0.0,\\\"#0d0887\\\"],[0.1111111111111111,\\\"#46039f\\\"],[0.2222222222222222,\\\"#7201a8\\\"],[0.3333333333333333,\\\"#9c179e\\\"],[0.4444444444444444,\\\"#bd3786\\\"],[0.5555555555555556,\\\"#d8576b\\\"],[0.6666666666666666,\\\"#ed7953\\\"],[0.7777777777777778,\\\"#fb9f3a\\\"],[0.8888888888888888,\\\"#fdca26\\\"],[1.0,\\\"#f0f921\\\"]]}],\\\"scattercarpet\\\":[{\\\"type\\\":\\\"scattercarpet\\\",\\\"marker\\\":{\\\"colorbar\\\":{\\\"ticks\\\":\\\"\\\",\\\"outlinewidth\\\":0}}}],\\\"mesh3d\\\":[{\\\"colorbar\\\":{\\\"ticks\\\":\\\"\\\",\\\"outlinewidth\\\":0},\\\"type\\\":\\\"mesh3d\\\"}],\\\"surface\\\":[{\\\"colorbar\\\":{\\\"ticks\\\":\\\"\\\",\\\"outlinewidth\\\":0},\\\"type\\\":\\\"surface\\\",\\\"colorscale\\\":[[0.0,\\\"#0d0887\\\"],[0.1111111111111111,\\\"#46039f\\\"],[0.2222222222222222,\\\"#7201a8\\\"],[0.3333333333333333,\\\"#9c179e\\\"],[0.4444444444444444,\\\"#bd3786\\\"],[0.5555555555555556,\\\"#d8576b\\\"],[0.6666666666666666,\\\"#ed7953\\\"],[0.7777777777777778,\\\"#fb9f3a\\\"],[0.8888888888888888,\\\"#fdca26\\\"],[1.0,\\\"#f0f921\\\"]]}],\\\"scattermapbox\\\":[{\\\"type\\\":\\\"scattermapbox\\\",\\\"marker\\\":{\\\"colorbar\\\":{\\\"ticks\\\":\\\"\\\",\\\"outlinewidth\\\":0}}}],\\\"scattergeo\\\":[{\\\"type\\\":\\\"scattergeo\\\",\\\"marker\\\":{\\\"colorbar\\\":{\\\"ticks\\\":\\\"\\\",\\\"outlinewidth\\\":0}}}],\\\"histogram\\\":[{\\\"type\\\":\\\"histogram\\\",\\\"marker\\\":{\\\"colorbar\\\":{\\\"ticks\\\":\\\"\\\",\\\"outlinewidth\\\":0}}}],\\\"pie\\\":[{\\\"type\\\":\\\"pie\\\",\\\"automargin\\\":true}],\\\"choropleth\\\":[{\\\"colorbar\\\":{\\\"ticks\\\":\\\"\\\",\\\"outlinewidth\\\":0},\\\"type\\\":\\\"choropleth\\\"}],\\\"heatmapgl\\\":[{\\\"colorbar\\\":{\\\"ticks\\\":\\\"\\\",\\\"outlinewidth\\\":0},\\\"type\\\":\\\"heatmapgl\\\",\\\"colorscale\\\":[[0.0,\\\"#0d0887\\\"],[0.1111111111111111,\\\"#46039f\\\"],[0.2222222222222222,\\\"#7201a8\\\"],[0.3333333333333333,\\\"#9c179e\\\"],[0.4444444444444444,\\\"#bd3786\\\"],[0.5555555555555556,\\\"#d8576b\\\"],[0.6666666666666666,\\\"#ed7953\\\"],[0.7777777777777778,\\\"#fb9f3a\\\"],[0.8888888888888888,\\\"#fdca26\\\"],[1.0,\\\"#f0f921\\\"]]}],\\\"bar\\\":[{\\\"type\\\":\\\"bar\\\",\\\"error_y\\\":{\\\"color\\\":\\\"#2a3f5f\\\"},\\\"error_x\\\":{\\\"color\\\":\\\"#2a3f5f\\\"},\\\"marker\\\":{\\\"line\\\":{\\\"color\\\":\\\"#E5ECF6\\\",\\\"width\\\":0.5}}}],\\\"heatmap\\\":[{\\\"colorbar\\\":{\\\"ticks\\\":\\\"\\\",\\\"outlinewidth\\\":0},\\\"type\\\":\\\"heatmap\\\",\\\"colorscale\\\":[[0.0,\\\"#0d0887\\\"],[0.1111111111111111,\\\"#46039f\\\"],[0.2222222222222222,\\\"#7201a8\\\"],[0.3333333333333333,\\\"#9c179e\\\"],[0.4444444444444444,\\\"#bd3786\\\"],[0.5555555555555556,\\\"#d8576b\\\"],[0.6666666666666666,\\\"#ed7953\\\"],[0.7777777777777778,\\\"#fb9f3a\\\"],[0.8888888888888888,\\\"#fdca26\\\"],[1.0,\\\"#f0f921\\\"]]}],\\\"contourcarpet\\\":[{\\\"colorbar\\\":{\\\"ticks\\\":\\\"\\\",\\\"outlinewidth\\\":0},\\\"type\\\":\\\"contourcarpet\\\"}],\\\"table\\\":[{\\\"type\\\":\\\"table\\\",\\\"header\\\":{\\\"line\\\":{\\\"color\\\":\\\"white\\\"},\\\"fill\\\":{\\\"color\\\":\\\"#C8D4E3\\\"}},\\\"cells\\\":{\\\"line\\\":{\\\"color\\\":\\\"white\\\"},\\\"fill\\\":{\\\"color\\\":\\\"#EBF0F8\\\"}}}],\\\"scatter3d\\\":[{\\\"line\\\":{\\\"colorbar\\\":{\\\"ticks\\\":\\\"\\\",\\\"outlinewidth\\\":0}},\\\"type\\\":\\\"scatter3d\\\",\\\"marker\\\":{\\\"colorbar\\\":{\\\"ticks\\\":\\\"\\\",\\\"outlinewidth\\\":0}}}],\\\"scattergl\\\":[{\\\"type\\\":\\\"scattergl\\\",\\\"marker\\\":{\\\"colorbar\\\":{\\\"ticks\\\":\\\"\\\",\\\"outlinewidth\\\":0}}}],\\\"histogram2d\\\":[{\\\"colorbar\\\":{\\\"ticks\\\":\\\"\\\",\\\"outlinewidth\\\":0},\\\"type\\\":\\\"histogram2d\\\",\\\"colorscale\\\":[[0.0,\\\"#0d0887\\\"],[0.1111111111111111,\\\"#46039f\\\"],[0.2222222222222222,\\\"#7201a8\\\"],[0.3333333333333333,\\\"#9c179e\\\"],[0.4444444444444444,\\\"#bd3786\\\"],[0.5555555555555556,\\\"#d8576b\\\"],[0.6666666666666666,\\\"#ed7953\\\"],[0.7777777777777778,\\\"#fb9f3a\\\"],[0.8888888888888888,\\\"#fdca26\\\"],[1.0,\\\"#f0f921\\\"]]}],\\\"scatterternary\\\":[{\\\"type\\\":\\\"scatterternary\\\",\\\"marker\\\":{\\\"colorbar\\\":{\\\"ticks\\\":\\\"\\\",\\\"outlinewidth\\\":0}}}],\\\"scatterpolargl\\\":[{\\\"type\\\":\\\"scatterpolargl\\\",\\\"marker\\\":{\\\"colorbar\\\":{\\\"ticks\\\":\\\"\\\",\\\"outlinewidth\\\":0}}}]}},\\\"height\\\":600,\\\"margin\\\":{\\\"l\\\":50,\\\"b\\\":50,\\\"r\\\":50,\\\"t\\\":60},\\\"yaxis\\\":{\\\"range\\\":[-2,2]},\\\"width\\\":600},{\\\"showLink\\\":false,\\\"editable\\\":false,\\\"responsive\\\":true,\\\"staticPlot\\\":false,\\\"scrollZoom\\\":true}); gd.on(\\\"plotly_hover\\\",(function (data){var filtered_data=WebIO.PlotlyCommands.filterEventData(gd,data,\\\"hover\\\"); return !(filtered_data.isnil) ? (WebIO.setval({\\\"name\\\":\\\"hover\\\",\\\"scope\\\":\\\"8300639261528816462\\\",\\\"id\\\":\\\"16225832738633536021\\\",\\\"type\\\":\\\"observable\\\"},filtered_data.out)) : undefined})); gd.on(\\\"plotly_unhover\\\",(function (){return WebIO.setval({\\\"name\\\":\\\"hover\\\",\\\"scope\\\":\\\"8300639261528816462\\\",\\\"id\\\":\\\"16225832738633536021\\\",\\\"type\\\":\\\"observable\\\"},{})})); gd.on(\\\"plotly_selected\\\",(function (data){var filtered_data=WebIO.PlotlyCommands.filterEventData(gd,data,\\\"selected\\\"); return !(filtered_data.isnil) ? (WebIO.setval({\\\"name\\\":\\\"selected\\\",\\\"scope\\\":\\\"8300639261528816462\\\",\\\"id\\\":\\\"9489701168418469784\\\",\\\"type\\\":\\\"observable\\\"},filtered_data.out)) : undefined})); gd.on(\\\"plotly_deselect\\\",(function (){return WebIO.setval({\\\"name\\\":\\\"selected\\\",\\\"scope\\\":\\\"8300639261528816462\\\",\\\"id\\\":\\\"9489701168418469784\\\",\\\"type\\\":\\\"observable\\\"},{})})); gd.on(\\\"plotly_relayout\\\",(function (data){var filtered_data=WebIO.PlotlyCommands.filterEventData(gd,data,\\\"relayout\\\"); return !(filtered_data.isnil) ? (WebIO.setval({\\\"name\\\":\\\"relayout\\\",\\\"scope\\\":\\\"8300639261528816462\\\",\\\"id\\\":\\\"10024141285944236645\\\",\\\"type\\\":\\\"observable\\\"},filtered_data.out)) : undefined})); return gd.on(\\\"plotly_click\\\",(function (data){var filtered_data=WebIO.PlotlyCommands.filterEventData(gd,data,\\\"click\\\"); return !(filtered_data.isnil) ? (WebIO.setval({\\\"name\\\":\\\"click\\\",\\\"scope\\\":\\\"8300639261528816462\\\",\\\"id\\\":\\\"2141828867554242243\\\",\\\"type\\\":\\\"observable\\\"},filtered_data.out)) : undefined}))}));\\n    (WebIO.importBlock({\\\"data\\\":[{\\\"name\\\":\\\"Plotly\\\",\\\"type\\\":\\\"js\\\",\\\"url\\\":\\\"\\/assetserver\\/d66a736669047bda0b2d00471bd5207a90cf3193-plotly.min.js\\\"},{\\\"name\\\":null,\\\"type\\\":\\\"js\\\",\\\"url\\\":\\\"\\/assetserver\\/aee3160e397a4905b07437c5af565305d1ef6def-plotly_webio.bundle.js\\\"}],\\\"type\\\":\\\"async_block\\\"})).then((imports) => handler.apply(this, imports));\\n}\\n\"],\"observables\":{\"_toImage\":{\"sync\":false,\"id\":\"4291034171367510171\",\"value\":{}},\"hover\":{\"sync\":false,\"id\":\"16225832738633536021\",\"value\":{}},\"selected\":{\"sync\":false,\"id\":\"9489701168418469784\",\"value\":{}},\"__gd_contents\":{\"sync\":false,\"id\":\"5145379482066260636\",\"value\":{}},\"click\":{\"sync\":false,\"id\":\"2141828867554242243\",\"value\":{}},\"image\":{\"sync\":true,\"id\":\"7129934800755098704\",\"value\":\"\"},\"__get_gd_contents\":{\"sync\":false,\"id\":\"6605578776810900071\",\"value\":\"\"},\"_downloadImage\":{\"sync\":false,\"id\":\"6027077609829797737\",\"value\":{}},\"relayout\":{\"sync\":false,\"id\":\"10024141285944236645\",\"value\":{}},\"_commands\":{\"sync\":false,\"id\":\"1565200583332583926\",\"value\":[]}}},\"children\":[{\"props\":{\"id\":\"plot-d75c0581-5535-4ec5-9af1-e15030c4483d\"},\"nodeType\":\"DOM\",\"type\":\"node\",\"instanceArgs\":{\"namespace\":\"html\",\"tag\":\"div\"},\"children\":[]}]},\n",
       "        window,\n",
       "    );\n",
       "    })()\n",
       "    </script>\n",
       "</div>\n"
      ],
      "text/plain": [
       "data: [\n",
       "  \"scatter with fields name, type, x, and y\",\n",
       "  \"scatter with fields name, type, x, and y\"\n",
       "]\n",
       "\n",
       "layout: \"layout with fields height, margin, template, width, xaxis, and yaxis\"\n",
       "\n"
      ]
     },
     "execution_count": 21,
     "metadata": {},
     "output_type": "execute_result"
    }
   ],
   "source": [
    "T = Translation(0.5, 0.0)\n",
    "s = transform(p,T)\n",
    "\n",
    "p1 = plotgeometry(s, name=\"square\")\n",
    "p2 = plotenvelope(s)\n",
    "\n",
    "plot([p1,p2], layout)"
   ]
  },
  {
   "cell_type": "code",
   "execution_count": 50,
   "id": "74d423d7-c67c-4f2d-81c6-5b6301498041",
   "metadata": {},
   "outputs": [
    {
     "data": {
      "application/vnd.plotly.v1+json": {
       "config": {
        "editable": false,
        "responsive": true,
        "scrollZoom": true,
        "showLink": false,
        "staticPlot": false
       },
       "data": [
        {
         "type": "scatter",
         "x": [
          1.2246467991473532e-16,
          -0.09956784659581648,
          -0.19814614319939736,
          -0.29475517441090393,
          -0.3884347962746944,
          -0.47825397862131824,
          -0.5633200580636216,
          -0.6427876096865393,
          -0.7158668492597183,
          -0.7818314824680297,
          -0.8400259231507715,
          -0.8898718088114684,
          -0.930873748644204,
          -0.9626242469500119,
          -0.984807753012208,
          -0.9972037971811801,
          -0.9996891820008162,
          -0.9922392066001722,
          -0.9749279121818236,
          -0.9479273461671317,
          -0.9115058523116732,
          -0.866025403784439,
          -0.8119380057158567,
          -0.7497812029677342,
          -0.6801727377709198,
          -0.6038044103254782,
          -0.5214352033794986,
          -0.43388373911755834,
          -0.3420201433256686,
          -0.24675739769029395,
          -0.14904226617617528,
          -0.0498458856606976,
          0.049845885660697115,
          0.14904226617617478,
          0.24675739769029262,
          0.3420201433256681,
          0.4338837391175579,
          0.5214352033794982,
          0.603804410325477,
          0.6801727377709194,
          0.7497812029677339,
          0.8119380057158564,
          0.8660254037844384,
          0.911505852311673,
          0.9479273461671315,
          0.9749279121818235,
          0.992239206600172,
          0.9996891820008162,
          0.9972037971811802,
          0.9848077530122081,
          0.9626242469500126,
          0.9308737486442048,
          0.8898718088114691,
          0.8400259231507718,
          0.78183148246803,
          0.7158668492597183,
          0.642787609686539,
          0.5633200580636213,
          0.4782539786213187,
          0.38843479627469485,
          0.2947551744109057,
          0.19814614319939872,
          0.09956784659581741,
          3.6739403974420594e-16,
          1.2246467991473532e-16
         ],
         "y": [
          -0.5,
          -0.4950307753654014,
          -0.48017248784854394,
          -0.4555728057861408,
          -0.42147621187040774,
          -0.37822157337022855,
          -0.32623877431599513,
          -0.2660444431189781,
          -0.19823681808607296,
          -0.1234898018587337,
          -0.042546263865759215,
          0.043789342646836815,
          0.1346589756336043,
          0.2291595318569945,
          0.3263518223330697,
          0.42526990641357526,
          0.5249306917380728,
          0.6243437046474846,
          0.7225209339563142,
          0.8184866502516845,
          0.9112871031306113,
          0.9999999999999993,
          1.0837436722347895,
          1.1616858375968593,
          1.233051871829826,
          1.2971325072229218,
          1.3532908816321554,
          1.400968867902419,
          1.4396926207859084,
          1.4690772862290777,
          1.4888308262251284,
          1.4987569212189222,
          1.4987569212189222,
          1.4888308262251284,
          1.4690772862290782,
          1.4396926207859086,
          1.4009688679024193,
          1.3532908816321556,
          1.2971325072229227,
          1.2330518718298262,
          1.1616858375968597,
          1.08374367223479,
          1.0000000000000004,
          0.9112871031306118,
          0.8184866502516851,
          0.7225209339563147,
          0.624343704647486,
          0.5249306917380733,
          0.42526990641357665,
          0.32635182233307014,
          0.22915953185699672,
          0.1346589756336064,
          0.043789342646838036,
          -0.04254626386575877,
          -0.12348980185873326,
          -0.19823681808607285,
          -0.26604444311897835,
          -0.32623877431599535,
          -0.3782215733702283,
          -0.4214762118704076,
          -0.45557280578614023,
          -0.4801724878485436,
          -0.4950307753654013,
          -0.5,
          -0.5
         ]
        },
        {
         "name": "envelope",
         "type": "scatter",
         "x": [
          0.9996891820008162,
          1.023394853267003,
          1.0443688181005684,
          1.0623338536157443,
          1.0771294442208685,
          1.0884513174637993,
          1.0962189359723045,
          1.100112873928223,
          1.1001377246076742,
          1.0959713432621705,
          1.087705955598727,
          1.0750292640292574,
          1.0581207499669008,
          1.0366902787182755,
          1.0110011834138544,
          0.9807972130702574,
          0.9464190605038301,
          0.9076551880477046,
          0.8649141013043705,
          0.8180386746841639,
          0.7674927547217908,
          0.7131820184887565,
          0.6556104827251282,
          0.5947535973062256,
          0.5311379978504379,
          0.46481440936212454,
          0.39631255758086786,
          0.32576249162234855,
          0.2536759988266706,
          0.18026511868373993,
          0.10600171083619965,
          0.031181207405676776,
          -0.04378682494653616,
          -0.11852326642362274,
          -0.19270297134209483,
          -0.26586376101678755,
          -0.3377861782276505,
          -0.40792634045815734,
          -0.4761902718452929,
          -0.5419542684009189,
          -0.6052675679620944,
          -0.6654288668898811,
          -0.7226457488767613,
          -0.7761417069183307,
          -0.8262947259886809,
          -0.8722555346819668,
          -0.9145810992641398,
          -0.9523517755258174,
          -0.986308307014614,
          -1.015462978938738,
          -1.0407411148481909,
          -1.0610891519869787,
          -1.0776136994736212,
          -1.089197552172814,
          -1.0971212172105091,
          -1.10020614918271,
          -1.099895383504446,
          -1.0949515931071323,
          -1.0869652033089239,
          -1.0746431196591972,
          -1.0597045586543157,
          -1.040804357300268,
          -1.0197688567502132,
          -0.9952054559556693,
          -0.9690233500152929,
          -0.9397883143177619,
          -0.9094660425115666,
          -0.8765879286267181,
          -0.8431482835835139,
          -0.8076530107808684,
          -0.7720962119337971,
          -0.734969022972875,
          -0.6982361497146234,
          -0.6603866500991583,
          -0.623326859312224,
          -0.5855584852648671,
          -0.5489012730965683,
          -0.511886347900753,
          -0.4762199008432346,
          -0.4404812027899209,
          -0.40623762725673807,
          -0.37213711993331555,
          -0.3395850529272302,
          -0.30732013098726824,
          -0.27656492867736626,
          -0.24617222151860946,
          -0.2171636098934984,
          -0.18853007434600694,
          -0.161076839152974,
          -0.13395757285179827,
          -0.10774857710079971,
          -0.08179050871402416,
          -0.05642106672155447,
          -0.03119143868451119,
          -0.006193856363339443,
          0.018787780115452325,
          0.0439108594505553,
          0.06913856073878406,
          0.094879480543957,
          0.12082624706687932,
          0.1476378617047569,
          0.1747219268281146,
          0.20298484767720473,
          0.23153841215728113,
          0.2615314275889586,
          0.2917732326247398,
          0.32364822428989626,
          0.3556611990733959,
          0.38942369334438776,
          0.42313870516392127,
          0.4586349681990228,
          0.4938214529481222,
          0.5307327699265231,
          0.5669967383525067,
          0.604841222719152,
          0.6416308342557865,
          0.679772803148598,
          0.7163913869107917,
          0.7540580267575735,
          0.7896841207879599,
          0.8259888649072713,
          0.8597025524696947,
          0.893674312549448,
          0.9244888699412389,
          0.9551060167849567,
          0.9820036614595962
         ],
         "y": [
          0,
          0.05121242680021467,
          0.10478640290039007,
          0.16055605861692446,
          0.21834494788544892,
          0.27792725055677464,
          0.3391002544047244,
          0.4015725465135919,
          0.46513076964215594,
          0.5294145091333973,
          0.594216471761504,
          0.6591060462136454,
          0.7238993527224736,
          0.7880965104207501,
          0.8515545494239123,
          0.9137072116192638,
          0.9744695558221248,
          1.0332135928862132,
          1.0899286122338692,
          1.143931040042319,
          1.1952991448203871,
          1.2433011316361497,
          1.2881170273276465,
          1.3289750984420152,
          1.36616746274393,
          1.3988913503907137,
          1.4275584338224947,
          1.4513441411252506,
          1.4707839426060112,
          1.4850407678410051,
          1.4947746396199144,
          1.499145133934727,
          1.4989339183684165,
          1.4933060173836172,
          1.483158101511702,
          1.4676689684398927,
          1.4478399499562624,
          1.4228713832989235,
          1.3938553612320894,
          1.3600209413358042,
          1.3225337639365267,
          1.2806582270516367,
          1.2356133354615688,
          1.1867049590660124,
          1.1351827462497033,
          1.0803997936613992,
          1.023611642768623,
          0.9642241380802021,
          0.903472503248975,
          0.8408207806271426,
          0.7774568184446199,
          0.7129084060778226,
          0.6482887518224554,
          0.5831952057647171,
          0.5186395118505623,
          0.4542948066199001,
          0.3910456205312409,
          0.3286476320168056,
          0.26783408915515333,
          0.20845057410362108,
          0.15105722151622594,
          0.09559751191926909,
          0.04243936826856244,
          -0.008367234160201544,
          -0.05666253033672757,
          -0.10228094537758842,
          -0.14528333293242127,
          -0.1853790625168896,
          -0.22285834128848375,
          -0.25729589640593287,
          -0.2892161538112473,
          -0.3180497601352622,
          -0.34455630955692496,
          -0.3680134099494076,
          -0.38941290568819475,
          -0.40787126128678053,
          -0.4246059228887704,
          -0.4385653646226195,
          -0.4511824728489075,
          -0.4612325620380817,
          -0.47035057052904616,
          -0.47713558252347116,
          -0.4834083161388731,
          -0.4875910586312354,
          -0.4916715365411021,
          -0.4938975504406602,
          -0.4964029767164042,
          -0.4972666409548255,
          -0.49874604758124746,
          -0.4987600211074872,
          -0.4996659304218182,
          -0.49923521856620784,
          -0.4999005189520042,
          -0.4993022532546567,
          -0.4999232605088017,
          -0.49929303904909467,
          -0.4999194551612074,
          -0.499244814186997,
          -0.4997770058545363,
          -0.49889829425222354,
          -0.49909200698308887,
          -0.4977106249333781,
          -0.497188937424596,
          -0.49488259197166035,
          -0.49315461214926803,
          -0.4893989478276367,
          -0.48588446872657454,
          -0.4800801627335845,
          -0.4741392447213081,
          -0.4656434242495704,
          -0.4566096601265694,
          -0.444770313765485,
          -0.43198637351572483,
          -0.4161782966316825,
          -0.39903224554383127,
          -0.37869298664463724,
          -0.35665382841016013,
          -0.3313180927149947,
          -0.3039690097228747,
          -0.27330002803247117,
          -0.2403678737028771,
          -0.20418435722444497,
          -0.16556409665248936,
          -0.1238615672773556,
          -0.07963455713422894,
          -0.03260006113360198
         ]
        }
       ],
       "frames": [],
       "layout": {
        "height": 600,
        "margin": {
         "b": 50,
         "l": 50,
         "r": 50,
         "t": 60
        },
        "template": {
         "data": {
          "bar": [
           {
            "error_x": {
             "color": "#2a3f5f"
            },
            "error_y": {
             "color": "#2a3f5f"
            },
            "marker": {
             "line": {
              "color": "#E5ECF6",
              "width": 0.5
             }
            },
            "type": "bar"
           }
          ],
          "barpolar": [
           {
            "marker": {
             "line": {
              "color": "#E5ECF6",
              "width": 0.5
             }
            },
            "type": "barpolar"
           }
          ],
          "carpet": [
           {
            "aaxis": {
             "endlinecolor": "#2a3f5f",
             "gridcolor": "white",
             "linecolor": "white",
             "minorgridcolor": "white",
             "startlinecolor": "#2a3f5f"
            },
            "baxis": {
             "endlinecolor": "#2a3f5f",
             "gridcolor": "white",
             "linecolor": "white",
             "minorgridcolor": "white",
             "startlinecolor": "#2a3f5f"
            },
            "type": "carpet"
           }
          ],
          "choropleth": [
           {
            "colorbar": {
             "outlinewidth": 0,
             "ticks": ""
            },
            "type": "choropleth"
           }
          ],
          "contour": [
           {
            "colorbar": {
             "outlinewidth": 0,
             "ticks": ""
            },
            "colorscale": [
             [
              0,
              "#0d0887"
             ],
             [
              0.1111111111111111,
              "#46039f"
             ],
             [
              0.2222222222222222,
              "#7201a8"
             ],
             [
              0.3333333333333333,
              "#9c179e"
             ],
             [
              0.4444444444444444,
              "#bd3786"
             ],
             [
              0.5555555555555556,
              "#d8576b"
             ],
             [
              0.6666666666666666,
              "#ed7953"
             ],
             [
              0.7777777777777778,
              "#fb9f3a"
             ],
             [
              0.8888888888888888,
              "#fdca26"
             ],
             [
              1,
              "#f0f921"
             ]
            ],
            "type": "contour"
           }
          ],
          "contourcarpet": [
           {
            "colorbar": {
             "outlinewidth": 0,
             "ticks": ""
            },
            "type": "contourcarpet"
           }
          ],
          "heatmap": [
           {
            "colorbar": {
             "outlinewidth": 0,
             "ticks": ""
            },
            "colorscale": [
             [
              0,
              "#0d0887"
             ],
             [
              0.1111111111111111,
              "#46039f"
             ],
             [
              0.2222222222222222,
              "#7201a8"
             ],
             [
              0.3333333333333333,
              "#9c179e"
             ],
             [
              0.4444444444444444,
              "#bd3786"
             ],
             [
              0.5555555555555556,
              "#d8576b"
             ],
             [
              0.6666666666666666,
              "#ed7953"
             ],
             [
              0.7777777777777778,
              "#fb9f3a"
             ],
             [
              0.8888888888888888,
              "#fdca26"
             ],
             [
              1,
              "#f0f921"
             ]
            ],
            "type": "heatmap"
           }
          ],
          "heatmapgl": [
           {
            "colorbar": {
             "outlinewidth": 0,
             "ticks": ""
            },
            "colorscale": [
             [
              0,
              "#0d0887"
             ],
             [
              0.1111111111111111,
              "#46039f"
             ],
             [
              0.2222222222222222,
              "#7201a8"
             ],
             [
              0.3333333333333333,
              "#9c179e"
             ],
             [
              0.4444444444444444,
              "#bd3786"
             ],
             [
              0.5555555555555556,
              "#d8576b"
             ],
             [
              0.6666666666666666,
              "#ed7953"
             ],
             [
              0.7777777777777778,
              "#fb9f3a"
             ],
             [
              0.8888888888888888,
              "#fdca26"
             ],
             [
              1,
              "#f0f921"
             ]
            ],
            "type": "heatmapgl"
           }
          ],
          "histogram": [
           {
            "marker": {
             "colorbar": {
              "outlinewidth": 0,
              "ticks": ""
             }
            },
            "type": "histogram"
           }
          ],
          "histogram2d": [
           {
            "colorbar": {
             "outlinewidth": 0,
             "ticks": ""
            },
            "colorscale": [
             [
              0,
              "#0d0887"
             ],
             [
              0.1111111111111111,
              "#46039f"
             ],
             [
              0.2222222222222222,
              "#7201a8"
             ],
             [
              0.3333333333333333,
              "#9c179e"
             ],
             [
              0.4444444444444444,
              "#bd3786"
             ],
             [
              0.5555555555555556,
              "#d8576b"
             ],
             [
              0.6666666666666666,
              "#ed7953"
             ],
             [
              0.7777777777777778,
              "#fb9f3a"
             ],
             [
              0.8888888888888888,
              "#fdca26"
             ],
             [
              1,
              "#f0f921"
             ]
            ],
            "type": "histogram2d"
           }
          ],
          "histogram2dcontour": [
           {
            "colorbar": {
             "outlinewidth": 0,
             "ticks": ""
            },
            "colorscale": [
             [
              0,
              "#0d0887"
             ],
             [
              0.1111111111111111,
              "#46039f"
             ],
             [
              0.2222222222222222,
              "#7201a8"
             ],
             [
              0.3333333333333333,
              "#9c179e"
             ],
             [
              0.4444444444444444,
              "#bd3786"
             ],
             [
              0.5555555555555556,
              "#d8576b"
             ],
             [
              0.6666666666666666,
              "#ed7953"
             ],
             [
              0.7777777777777778,
              "#fb9f3a"
             ],
             [
              0.8888888888888888,
              "#fdca26"
             ],
             [
              1,
              "#f0f921"
             ]
            ],
            "type": "histogram2dcontour"
           }
          ],
          "mesh3d": [
           {
            "colorbar": {
             "outlinewidth": 0,
             "ticks": ""
            },
            "type": "mesh3d"
           }
          ],
          "parcoords": [
           {
            "line": {
             "colorbar": {
              "outlinewidth": 0,
              "ticks": ""
             }
            },
            "type": "parcoords"
           }
          ],
          "pie": [
           {
            "automargin": true,
            "type": "pie"
           }
          ],
          "scatter": [
           {
            "marker": {
             "colorbar": {
              "outlinewidth": 0,
              "ticks": ""
             }
            },
            "type": "scatter"
           }
          ],
          "scatter3d": [
           {
            "line": {
             "colorbar": {
              "outlinewidth": 0,
              "ticks": ""
             }
            },
            "marker": {
             "colorbar": {
              "outlinewidth": 0,
              "ticks": ""
             }
            },
            "type": "scatter3d"
           }
          ],
          "scattercarpet": [
           {
            "marker": {
             "colorbar": {
              "outlinewidth": 0,
              "ticks": ""
             }
            },
            "type": "scattercarpet"
           }
          ],
          "scattergeo": [
           {
            "marker": {
             "colorbar": {
              "outlinewidth": 0,
              "ticks": ""
             }
            },
            "type": "scattergeo"
           }
          ],
          "scattergl": [
           {
            "marker": {
             "colorbar": {
              "outlinewidth": 0,
              "ticks": ""
             }
            },
            "type": "scattergl"
           }
          ],
          "scattermapbox": [
           {
            "marker": {
             "colorbar": {
              "outlinewidth": 0,
              "ticks": ""
             }
            },
            "type": "scattermapbox"
           }
          ],
          "scatterpolar": [
           {
            "marker": {
             "colorbar": {
              "outlinewidth": 0,
              "ticks": ""
             }
            },
            "type": "scatterpolar"
           }
          ],
          "scatterpolargl": [
           {
            "marker": {
             "colorbar": {
              "outlinewidth": 0,
              "ticks": ""
             }
            },
            "type": "scatterpolargl"
           }
          ],
          "scatterternary": [
           {
            "marker": {
             "colorbar": {
              "outlinewidth": 0,
              "ticks": ""
             }
            },
            "type": "scatterternary"
           }
          ],
          "surface": [
           {
            "colorbar": {
             "outlinewidth": 0,
             "ticks": ""
            },
            "colorscale": [
             [
              0,
              "#0d0887"
             ],
             [
              0.1111111111111111,
              "#46039f"
             ],
             [
              0.2222222222222222,
              "#7201a8"
             ],
             [
              0.3333333333333333,
              "#9c179e"
             ],
             [
              0.4444444444444444,
              "#bd3786"
             ],
             [
              0.5555555555555556,
              "#d8576b"
             ],
             [
              0.6666666666666666,
              "#ed7953"
             ],
             [
              0.7777777777777778,
              "#fb9f3a"
             ],
             [
              0.8888888888888888,
              "#fdca26"
             ],
             [
              1,
              "#f0f921"
             ]
            ],
            "type": "surface"
           }
          ],
          "table": [
           {
            "cells": {
             "fill": {
              "color": "#EBF0F8"
             },
             "line": {
              "color": "white"
             }
            },
            "header": {
             "fill": {
              "color": "#C8D4E3"
             },
             "line": {
              "color": "white"
             }
            },
            "type": "table"
           }
          ]
         },
         "layout": {
          "annotationdefaults": {
           "arrowcolor": "#2a3f5f",
           "arrowhead": 0,
           "arrowwidth": 1
          },
          "autotypenumbers": "strict",
          "coloraxis": {
           "colorbar": {
            "outlinewidth": 0,
            "ticks": ""
           }
          },
          "colorscale": {
           "diverging": [
            [
             0,
             "#8e0152"
            ],
            [
             0.1,
             "#c51b7d"
            ],
            [
             0.2,
             "#de77ae"
            ],
            [
             0.3,
             "#f1b6da"
            ],
            [
             0.4,
             "#fde0ef"
            ],
            [
             0.5,
             "#f7f7f7"
            ],
            [
             0.6,
             "#e6f5d0"
            ],
            [
             0.7,
             "#b8e186"
            ],
            [
             0.8,
             "#7fbc41"
            ],
            [
             0.9,
             "#4d9221"
            ],
            [
             1,
             "#276419"
            ]
           ],
           "sequential": [
            [
             0,
             "#0d0887"
            ],
            [
             0.1111111111111111,
             "#46039f"
            ],
            [
             0.2222222222222222,
             "#7201a8"
            ],
            [
             0.3333333333333333,
             "#9c179e"
            ],
            [
             0.4444444444444444,
             "#bd3786"
            ],
            [
             0.5555555555555556,
             "#d8576b"
            ],
            [
             0.6666666666666666,
             "#ed7953"
            ],
            [
             0.7777777777777778,
             "#fb9f3a"
            ],
            [
             0.8888888888888888,
             "#fdca26"
            ],
            [
             1,
             "#f0f921"
            ]
           ],
           "sequentialminus": [
            [
             0,
             "#0d0887"
            ],
            [
             0.1111111111111111,
             "#46039f"
            ],
            [
             0.2222222222222222,
             "#7201a8"
            ],
            [
             0.3333333333333333,
             "#9c179e"
            ],
            [
             0.4444444444444444,
             "#bd3786"
            ],
            [
             0.5555555555555556,
             "#d8576b"
            ],
            [
             0.6666666666666666,
             "#ed7953"
            ],
            [
             0.7777777777777778,
             "#fb9f3a"
            ],
            [
             0.8888888888888888,
             "#fdca26"
            ],
            [
             1,
             "#f0f921"
            ]
           ]
          },
          "colorway": [
           "#636efa",
           "#EF553B",
           "#00cc96",
           "#ab63fa",
           "#FFA15A",
           "#19d3f3",
           "#FF6692",
           "#B6E880",
           "#FF97FF",
           "#FECB52"
          ],
          "font": {
           "color": "#2a3f5f"
          },
          "geo": {
           "bgcolor": "white",
           "lakecolor": "white",
           "landcolor": "#E5ECF6",
           "showlakes": true,
           "showland": true,
           "subunitcolor": "white"
          },
          "hoverlabel": {
           "align": "left"
          },
          "hovermode": "closest",
          "mapbox": {
           "style": "light"
          },
          "paper_bgcolor": "white",
          "plot_bgcolor": "#E5ECF6",
          "polar": {
           "angularaxis": {
            "gridcolor": "white",
            "linecolor": "white",
            "ticks": ""
           },
           "bgcolor": "#E5ECF6",
           "radialaxis": {
            "gridcolor": "white",
            "linecolor": "white",
            "ticks": ""
           }
          },
          "scene": {
           "xaxis": {
            "backgroundcolor": "#E5ECF6",
            "gridcolor": "white",
            "gridwidth": 2,
            "linecolor": "white",
            "showbackground": true,
            "ticks": "",
            "zerolinecolor": "white"
           },
           "yaxis": {
            "backgroundcolor": "#E5ECF6",
            "gridcolor": "white",
            "gridwidth": 2,
            "linecolor": "white",
            "showbackground": true,
            "ticks": "",
            "zerolinecolor": "white"
           },
           "zaxis": {
            "backgroundcolor": "#E5ECF6",
            "gridcolor": "white",
            "gridwidth": 2,
            "linecolor": "white",
            "showbackground": true,
            "ticks": "",
            "zerolinecolor": "white"
           }
          },
          "shapedefaults": {
           "line": {
            "color": "#2a3f5f"
           }
          },
          "ternary": {
           "aaxis": {
            "gridcolor": "white",
            "linecolor": "white",
            "ticks": ""
           },
           "baxis": {
            "gridcolor": "white",
            "linecolor": "white",
            "ticks": ""
           },
           "bgcolor": "#E5ECF6",
           "caxis": {
            "gridcolor": "white",
            "linecolor": "white",
            "ticks": ""
           }
          },
          "title": {
           "x": 0.05
          },
          "xaxis": {
           "automargin": true,
           "gridcolor": "white",
           "linecolor": "white",
           "ticks": "",
           "title": {
            "standoff": 15
           },
           "zerolinecolor": "white",
           "zerolinewidth": 2
          },
          "yaxis": {
           "automargin": true,
           "gridcolor": "white",
           "linecolor": "white",
           "ticks": "",
           "title": {
            "standoff": 15
           },
           "zerolinecolor": "white",
           "zerolinewidth": 2
          }
         }
        },
        "width": 600,
        "xaxis": {
         "range": [
          -3,
          3
         ],
         "type": "linear"
        },
        "yaxis": {
         "range": [
          -3,
          3
         ],
         "type": "linear"
        }
       }
      },
      "image/png": "[encoded data removed]",
      "text/html": [
       "<div\n",
       "    class=\"webio-mountpoint\"\n",
       "    data-webio-mountpoint=\"7433104625237077856\"\n",
       ">\n",
       "    <script>\n",
       "    (function(){\n",
       "    // Some integrations (namely, IJulia/Jupyter) use an alternate render pathway than\n",
       "    // just putting the html on the page. If WebIO isn't defined, then it's pretty likely\n",
       "    // that we're in one of those situations and the integration just isn't installed\n",
       "    // correctly.\n",
       "    if (typeof window.WebIO === \"undefined\") {\n",
       "        document\n",
       "            .querySelector('[data-webio-mountpoint=\"7433104625237077856\"]')\n",
       "            .innerHTML = (\n",
       "                '<div style=\"padding: 1em; background-color: #f8d6da; border: 1px solid #f5c6cb; font-weight: bold;\">' +\n",
       "                '<p><strong>WebIO not detected.</strong></p>' +\n",
       "                '<p>Please read ' +\n",
       "                '<a href=\"https://juliagizmos.github.io/WebIO.jl/latest/troubleshooting/not-detected/\" target=\"_blank\">the troubleshooting guide</a> ' +\n",
       "                'for more information on how to resolve this issue.</p>' +\n",
       "                '<p><a href=\"https://juliagizmos.github.io/WebIO.jl/latest/troubleshooting/not-detected/\" target=\"_blank\">https://juliagizmos.github.io/WebIO.jl/latest/troubleshooting/not-detected/</a></p>' +\n",
       "                '</div>'\n",
       "            );\n",
       "        return;\n",
       "    }\n",
       "    WebIO.mount(\n",
       "        document.querySelector('[data-webio-mountpoint=\"7433104625237077856\"]'),\n",
       "        {\"props\":{},\"nodeType\":\"Scope\",\"type\":\"node\",\"instanceArgs\":{\"imports\":{\"data\":[{\"name\":\"Plotly\",\"type\":\"js\",\"url\":\"\\/assetserver\\/d66a736669047bda0b2d00471bd5207a90cf3193-plotly.min.js\"},{\"name\":null,\"type\":\"js\",\"url\":\"\\/assetserver\\/aee3160e397a4905b07437c5af565305d1ef6def-plotly_webio.bundle.js\"}],\"type\":\"async_block\"},\"id\":\"8558953843779149935\",\"handlers\":{\"_toImage\":[\"(function (options){return this.Plotly.toImage(this.plotElem,options).then((function (data){return WebIO.setval({\\\"name\\\":\\\"image\\\",\\\"scope\\\":\\\"8558953843779149935\\\",\\\"id\\\":\\\"1786548784218003711\\\",\\\"type\\\":\\\"observable\\\"},data)}))})\"],\"__get_gd_contents\":[\"(function (prop){prop==\\\"data\\\" ? (WebIO.setval({\\\"name\\\":\\\"__gd_contents\\\",\\\"scope\\\":\\\"8558953843779149935\\\",\\\"id\\\":\\\"18329360895838263371\\\",\\\"type\\\":\\\"observable\\\"},this.plotElem.data)) : undefined; return prop==\\\"layout\\\" ? (WebIO.setval({\\\"name\\\":\\\"__gd_contents\\\",\\\"scope\\\":\\\"8558953843779149935\\\",\\\"id\\\":\\\"18329360895838263371\\\",\\\"type\\\":\\\"observable\\\"},this.plotElem.layout)) : undefined})\"],\"_downloadImage\":[\"(function (options){return this.Plotly.downloadImage(this.plotElem,options)})\"],\"_commands\":[\"(function (args){var fn=args.shift(); var elem=this.plotElem; var Plotly=this.Plotly; args.unshift(elem); return Plotly[fn].apply(this,args)})\"]},\"systemjs_options\":null,\"mount_callbacks\":[\"function () {\\n    var handler = ((function (Plotly,PlotlyWebIO){PlotlyWebIO.init(WebIO); var gd=this.dom.querySelector(\\\"#plot-bbc9aa2a-5dcd-4b24-957f-1ece082eba4b\\\"); this.plotElem=gd; this.Plotly=Plotly; (window.Blink!==undefined) ? (gd.style.width=\\\"100%\\\", gd.style.height=\\\"100vh\\\", gd.style.marginLeft=\\\"0%\\\", gd.style.marginTop=\\\"0vh\\\") : undefined; window.onresize=(function (){return Plotly.Plots.resize(gd)}); Plotly.newPlot(gd,[{\\\"y\\\":[-0.5,-0.4950307753654014,-0.48017248784854394,-0.4555728057861408,-0.42147621187040774,-0.37822157337022855,-0.32623877431599513,-0.2660444431189781,-0.19823681808607296,-0.1234898018587337,-0.042546263865759215,0.043789342646836815,0.1346589756336043,0.2291595318569945,0.3263518223330697,0.42526990641357526,0.5249306917380728,0.6243437046474846,0.7225209339563142,0.8184866502516845,0.9112871031306113,0.9999999999999993,1.0837436722347895,1.1616858375968593,1.233051871829826,1.2971325072229218,1.3532908816321554,1.400968867902419,1.4396926207859084,1.4690772862290777,1.4888308262251284,1.4987569212189222,1.4987569212189222,1.4888308262251284,1.4690772862290782,1.4396926207859086,1.4009688679024193,1.3532908816321556,1.2971325072229227,1.2330518718298262,1.1616858375968597,1.08374367223479,1.0000000000000004,0.9112871031306118,0.8184866502516851,0.7225209339563147,0.624343704647486,0.5249306917380733,0.42526990641357665,0.32635182233307014,0.22915953185699672,0.1346589756336064,0.043789342646838036,-0.04254626386575877,-0.12348980185873326,-0.19823681808607285,-0.26604444311897835,-0.32623877431599535,-0.3782215733702283,-0.4214762118704076,-0.45557280578614023,-0.4801724878485436,-0.4950307753654013,-0.5,-0.5],\\\"type\\\":\\\"scatter\\\",\\\"x\\\":[1.2246467991473532e-16,-0.09956784659581648,-0.19814614319939736,-0.29475517441090393,-0.3884347962746944,-0.47825397862131824,-0.5633200580636216,-0.6427876096865393,-0.7158668492597183,-0.7818314824680297,-0.8400259231507715,-0.8898718088114684,-0.930873748644204,-0.9626242469500119,-0.984807753012208,-0.9972037971811801,-0.9996891820008162,-0.9922392066001722,-0.9749279121818236,-0.9479273461671317,-0.9115058523116732,-0.866025403784439,-0.8119380057158567,-0.7497812029677342,-0.6801727377709198,-0.6038044103254782,-0.5214352033794986,-0.43388373911755834,-0.3420201433256686,-0.24675739769029395,-0.14904226617617528,-0.0498458856606976,0.049845885660697115,0.14904226617617478,0.24675739769029262,0.3420201433256681,0.4338837391175579,0.5214352033794982,0.603804410325477,0.6801727377709194,0.7497812029677339,0.8119380057158564,0.8660254037844384,0.911505852311673,0.9479273461671315,0.9749279121818235,0.992239206600172,0.9996891820008162,0.9972037971811802,0.9848077530122081,0.9626242469500126,0.9308737486442048,0.8898718088114691,0.8400259231507718,0.78183148246803,0.7158668492597183,0.642787609686539,0.5633200580636213,0.4782539786213187,0.38843479627469485,0.2947551744109057,0.19814614319939872,0.09956784659581741,3.6739403974420594e-16,1.2246467991473532e-16]},{\\\"y\\\":[0.0,0.05121242680021467,0.10478640290039007,0.16055605861692446,0.21834494788544892,0.27792725055677464,0.3391002544047244,0.4015725465135919,0.46513076964215594,0.5294145091333973,0.594216471761504,0.6591060462136454,0.7238993527224736,0.7880965104207501,0.8515545494239123,0.9137072116192638,0.9744695558221248,1.0332135928862132,1.0899286122338692,1.143931040042319,1.1952991448203871,1.2433011316361497,1.2881170273276465,1.3289750984420152,1.36616746274393,1.3988913503907137,1.4275584338224947,1.4513441411252506,1.4707839426060112,1.4850407678410051,1.4947746396199144,1.499145133934727,1.4989339183684165,1.4933060173836172,1.483158101511702,1.4676689684398927,1.4478399499562624,1.4228713832989235,1.3938553612320894,1.3600209413358042,1.3225337639365267,1.2806582270516367,1.2356133354615688,1.1867049590660124,1.1351827462497033,1.0803997936613992,1.023611642768623,0.9642241380802021,0.903472503248975,0.8408207806271426,0.7774568184446199,0.7129084060778226,0.6482887518224554,0.5831952057647171,0.5186395118505623,0.4542948066199001,0.3910456205312409,0.3286476320168056,0.26783408915515333,0.20845057410362108,0.15105722151622594,0.09559751191926909,0.04243936826856244,-0.008367234160201544,-0.05666253033672757,-0.10228094537758842,-0.14528333293242127,-0.1853790625168896,-0.22285834128848375,-0.25729589640593287,-0.2892161538112473,-0.3180497601352622,-0.34455630955692496,-0.3680134099494076,-0.38941290568819475,-0.40787126128678053,-0.4246059228887704,-0.4385653646226195,-0.4511824728489075,-0.4612325620380817,-0.47035057052904616,-0.47713558252347116,-0.4834083161388731,-0.4875910586312354,-0.4916715365411021,-0.4938975504406602,-0.4964029767164042,-0.4972666409548255,-0.49874604758124746,-0.4987600211074872,-0.4996659304218182,-0.49923521856620784,-0.4999005189520042,-0.4993022532546567,-0.4999232605088017,-0.49929303904909467,-0.4999194551612074,-0.499244814186997,-0.4997770058545363,-0.49889829425222354,-0.49909200698308887,-0.4977106249333781,-0.497188937424596,-0.49488259197166035,-0.49315461214926803,-0.4893989478276367,-0.48588446872657454,-0.4800801627335845,-0.4741392447213081,-0.4656434242495704,-0.4566096601265694,-0.444770313765485,-0.43198637351572483,-0.4161782966316825,-0.39903224554383127,-0.37869298664463724,-0.35665382841016013,-0.3313180927149947,-0.3039690097228747,-0.27330002803247117,-0.2403678737028771,-0.20418435722444497,-0.16556409665248936,-0.1238615672773556,-0.07963455713422894,-0.03260006113360198],\\\"type\\\":\\\"scatter\\\",\\\"name\\\":\\\"envelope\\\",\\\"x\\\":[0.9996891820008162,1.023394853267003,1.0443688181005684,1.0623338536157443,1.0771294442208685,1.0884513174637993,1.0962189359723045,1.100112873928223,1.1001377246076742,1.0959713432621705,1.087705955598727,1.0750292640292574,1.0581207499669008,1.0366902787182755,1.0110011834138544,0.9807972130702574,0.9464190605038301,0.9076551880477046,0.8649141013043705,0.8180386746841639,0.7674927547217908,0.7131820184887565,0.6556104827251282,0.5947535973062256,0.5311379978504379,0.46481440936212454,0.39631255758086786,0.32576249162234855,0.2536759988266706,0.18026511868373993,0.10600171083619965,0.031181207405676776,-0.04378682494653616,-0.11852326642362274,-0.19270297134209483,-0.26586376101678755,-0.3377861782276505,-0.40792634045815734,-0.4761902718452929,-0.5419542684009189,-0.6052675679620944,-0.6654288668898811,-0.7226457488767613,-0.7761417069183307,-0.8262947259886809,-0.8722555346819668,-0.9145810992641398,-0.9523517755258174,-0.986308307014614,-1.015462978938738,-1.0407411148481909,-1.0610891519869787,-1.0776136994736212,-1.089197552172814,-1.0971212172105091,-1.10020614918271,-1.099895383504446,-1.0949515931071323,-1.0869652033089239,-1.0746431196591972,-1.0597045586543157,-1.040804357300268,-1.0197688567502132,-0.9952054559556693,-0.9690233500152929,-0.9397883143177619,-0.9094660425115666,-0.8765879286267181,-0.8431482835835139,-0.8076530107808684,-0.7720962119337971,-0.734969022972875,-0.6982361497146234,-0.6603866500991583,-0.623326859312224,-0.5855584852648671,-0.5489012730965683,-0.511886347900753,-0.4762199008432346,-0.4404812027899209,-0.40623762725673807,-0.37213711993331555,-0.3395850529272302,-0.30732013098726824,-0.27656492867736626,-0.24617222151860946,-0.2171636098934984,-0.18853007434600694,-0.161076839152974,-0.13395757285179827,-0.10774857710079971,-0.08179050871402416,-0.05642106672155447,-0.03119143868451119,-0.006193856363339443,0.018787780115452325,0.0439108594505553,0.06913856073878406,0.094879480543957,0.12082624706687932,0.1476378617047569,0.1747219268281146,0.20298484767720473,0.23153841215728113,0.2615314275889586,0.2917732326247398,0.32364822428989626,0.3556611990733959,0.38942369334438776,0.42313870516392127,0.4586349681990228,0.4938214529481222,0.5307327699265231,0.5669967383525067,0.604841222719152,0.6416308342557865,0.679772803148598,0.7163913869107917,0.7540580267575735,0.7896841207879599,0.8259888649072713,0.8597025524696947,0.893674312549448,0.9244888699412389,0.9551060167849567,0.9820036614595962]}],{\\\"xaxis\\\":{\\\"range\\\":[-3,3]},\\\"template\\\":{\\\"layout\\\":{\\\"coloraxis\\\":{\\\"colorbar\\\":{\\\"ticks\\\":\\\"\\\",\\\"outlinewidth\\\":0}},\\\"xaxis\\\":{\\\"gridcolor\\\":\\\"white\\\",\\\"zerolinewidth\\\":2,\\\"title\\\":{\\\"standoff\\\":15},\\\"ticks\\\":\\\"\\\",\\\"zerolinecolor\\\":\\\"white\\\",\\\"automargin\\\":true,\\\"linecolor\\\":\\\"white\\\"},\\\"hovermode\\\":\\\"closest\\\",\\\"paper_bgcolor\\\":\\\"white\\\",\\\"geo\\\":{\\\"showlakes\\\":true,\\\"showland\\\":true,\\\"landcolor\\\":\\\"#E5ECF6\\\",\\\"bgcolor\\\":\\\"white\\\",\\\"subunitcolor\\\":\\\"white\\\",\\\"lakecolor\\\":\\\"white\\\"},\\\"colorscale\\\":{\\\"sequential\\\":[[0.0,\\\"#0d0887\\\"],[0.1111111111111111,\\\"#46039f\\\"],[0.2222222222222222,\\\"#7201a8\\\"],[0.3333333333333333,\\\"#9c179e\\\"],[0.4444444444444444,\\\"#bd3786\\\"],[0.5555555555555556,\\\"#d8576b\\\"],[0.6666666666666666,\\\"#ed7953\\\"],[0.7777777777777778,\\\"#fb9f3a\\\"],[0.8888888888888888,\\\"#fdca26\\\"],[1.0,\\\"#f0f921\\\"]],\\\"diverging\\\":[[0,\\\"#8e0152\\\"],[0.1,\\\"#c51b7d\\\"],[0.2,\\\"#de77ae\\\"],[0.3,\\\"#f1b6da\\\"],[0.4,\\\"#fde0ef\\\"],[0.5,\\\"#f7f7f7\\\"],[0.6,\\\"#e6f5d0\\\"],[0.7,\\\"#b8e186\\\"],[0.8,\\\"#7fbc41\\\"],[0.9,\\\"#4d9221\\\"],[1,\\\"#276419\\\"]],\\\"sequentialminus\\\":[[0.0,\\\"#0d0887\\\"],[0.1111111111111111,\\\"#46039f\\\"],[0.2222222222222222,\\\"#7201a8\\\"],[0.3333333333333333,\\\"#9c179e\\\"],[0.4444444444444444,\\\"#bd3786\\\"],[0.5555555555555556,\\\"#d8576b\\\"],[0.6666666666666666,\\\"#ed7953\\\"],[0.7777777777777778,\\\"#fb9f3a\\\"],[0.8888888888888888,\\\"#fdca26\\\"],[1.0,\\\"#f0f921\\\"]]},\\\"yaxis\\\":{\\\"gridcolor\\\":\\\"white\\\",\\\"zerolinewidth\\\":2,\\\"title\\\":{\\\"standoff\\\":15},\\\"ticks\\\":\\\"\\\",\\\"zerolinecolor\\\":\\\"white\\\",\\\"automargin\\\":true,\\\"linecolor\\\":\\\"white\\\"},\\\"shapedefaults\\\":{\\\"line\\\":{\\\"color\\\":\\\"#2a3f5f\\\"}},\\\"hoverlabel\\\":{\\\"align\\\":\\\"left\\\"},\\\"mapbox\\\":{\\\"style\\\":\\\"light\\\"},\\\"polar\\\":{\\\"angularaxis\\\":{\\\"gridcolor\\\":\\\"white\\\",\\\"ticks\\\":\\\"\\\",\\\"linecolor\\\":\\\"white\\\"},\\\"bgcolor\\\":\\\"#E5ECF6\\\",\\\"radialaxis\\\":{\\\"gridcolor\\\":\\\"white\\\",\\\"ticks\\\":\\\"\\\",\\\"linecolor\\\":\\\"white\\\"}},\\\"autotypenumbers\\\":\\\"strict\\\",\\\"font\\\":{\\\"color\\\":\\\"#2a3f5f\\\"},\\\"ternary\\\":{\\\"baxis\\\":{\\\"gridcolor\\\":\\\"white\\\",\\\"ticks\\\":\\\"\\\",\\\"linecolor\\\":\\\"white\\\"},\\\"bgcolor\\\":\\\"#E5ECF6\\\",\\\"caxis\\\":{\\\"gridcolor\\\":\\\"white\\\",\\\"ticks\\\":\\\"\\\",\\\"linecolor\\\":\\\"white\\\"},\\\"aaxis\\\":{\\\"gridcolor\\\":\\\"white\\\",\\\"ticks\\\":\\\"\\\",\\\"linecolor\\\":\\\"white\\\"}},\\\"annotationdefaults\\\":{\\\"arrowhead\\\":0,\\\"arrowwidth\\\":1,\\\"arrowcolor\\\":\\\"#2a3f5f\\\"},\\\"plot_bgcolor\\\":\\\"#E5ECF6\\\",\\\"title\\\":{\\\"x\\\":0.05},\\\"scene\\\":{\\\"xaxis\\\":{\\\"gridcolor\\\":\\\"white\\\",\\\"gridwidth\\\":2,\\\"backgroundcolor\\\":\\\"#E5ECF6\\\",\\\"ticks\\\":\\\"\\\",\\\"showbackground\\\":true,\\\"zerolinecolor\\\":\\\"white\\\",\\\"linecolor\\\":\\\"white\\\"},\\\"zaxis\\\":{\\\"gridcolor\\\":\\\"white\\\",\\\"gridwidth\\\":2,\\\"backgroundcolor\\\":\\\"#E5ECF6\\\",\\\"ticks\\\":\\\"\\\",\\\"showbackground\\\":true,\\\"zerolinecolor\\\":\\\"white\\\",\\\"linecolor\\\":\\\"white\\\"},\\\"yaxis\\\":{\\\"gridcolor\\\":\\\"white\\\",\\\"gridwidth\\\":2,\\\"backgroundcolor\\\":\\\"#E5ECF6\\\",\\\"ticks\\\":\\\"\\\",\\\"showbackground\\\":true,\\\"zerolinecolor\\\":\\\"white\\\",\\\"linecolor\\\":\\\"white\\\"}},\\\"colorway\\\":[\\\"#636efa\\\",\\\"#EF553B\\\",\\\"#00cc96\\\",\\\"#ab63fa\\\",\\\"#FFA15A\\\",\\\"#19d3f3\\\",\\\"#FF6692\\\",\\\"#B6E880\\\",\\\"#FF97FF\\\",\\\"#FECB52\\\"]},\\\"data\\\":{\\\"barpolar\\\":[{\\\"type\\\":\\\"barpolar\\\",\\\"marker\\\":{\\\"line\\\":{\\\"color\\\":\\\"#E5ECF6\\\",\\\"width\\\":0.5}}}],\\\"carpet\\\":[{\\\"aaxis\\\":{\\\"gridcolor\\\":\\\"white\\\",\\\"endlinecolor\\\":\\\"#2a3f5f\\\",\\\"minorgridcolor\\\":\\\"white\\\",\\\"startlinecolor\\\":\\\"#2a3f5f\\\",\\\"linecolor\\\":\\\"white\\\"},\\\"type\\\":\\\"carpet\\\",\\\"baxis\\\":{\\\"gridcolor\\\":\\\"white\\\",\\\"endlinecolor\\\":\\\"#2a3f5f\\\",\\\"minorgridcolor\\\":\\\"white\\\",\\\"startlinecolor\\\":\\\"#2a3f5f\\\",\\\"linecolor\\\":\\\"white\\\"}}],\\\"scatterpolar\\\":[{\\\"type\\\":\\\"scatterpolar\\\",\\\"marker\\\":{\\\"colorbar\\\":{\\\"ticks\\\":\\\"\\\",\\\"outlinewidth\\\":0}}}],\\\"parcoords\\\":[{\\\"line\\\":{\\\"colorbar\\\":{\\\"ticks\\\":\\\"\\\",\\\"outlinewidth\\\":0}},\\\"type\\\":\\\"parcoords\\\"}],\\\"scatter\\\":[{\\\"type\\\":\\\"scatter\\\",\\\"marker\\\":{\\\"colorbar\\\":{\\\"ticks\\\":\\\"\\\",\\\"outlinewidth\\\":0}}}],\\\"histogram2dcontour\\\":[{\\\"colorbar\\\":{\\\"ticks\\\":\\\"\\\",\\\"outlinewidth\\\":0},\\\"type\\\":\\\"histogram2dcontour\\\",\\\"colorscale\\\":[[0.0,\\\"#0d0887\\\"],[0.1111111111111111,\\\"#46039f\\\"],[0.2222222222222222,\\\"#7201a8\\\"],[0.3333333333333333,\\\"#9c179e\\\"],[0.4444444444444444,\\\"#bd3786\\\"],[0.5555555555555556,\\\"#d8576b\\\"],[0.6666666666666666,\\\"#ed7953\\\"],[0.7777777777777778,\\\"#fb9f3a\\\"],[0.8888888888888888,\\\"#fdca26\\\"],[1.0,\\\"#f0f921\\\"]]}],\\\"contour\\\":[{\\\"colorbar\\\":{\\\"ticks\\\":\\\"\\\",\\\"outlinewidth\\\":0},\\\"type\\\":\\\"contour\\\",\\\"colorscale\\\":[[0.0,\\\"#0d0887\\\"],[0.1111111111111111,\\\"#46039f\\\"],[0.2222222222222222,\\\"#7201a8\\\"],[0.3333333333333333,\\\"#9c179e\\\"],[0.4444444444444444,\\\"#bd3786\\\"],[0.5555555555555556,\\\"#d8576b\\\"],[0.6666666666666666,\\\"#ed7953\\\"],[0.7777777777777778,\\\"#fb9f3a\\\"],[0.8888888888888888,\\\"#fdca26\\\"],[1.0,\\\"#f0f921\\\"]]}],\\\"scattercarpet\\\":[{\\\"type\\\":\\\"scattercarpet\\\",\\\"marker\\\":{\\\"colorbar\\\":{\\\"ticks\\\":\\\"\\\",\\\"outlinewidth\\\":0}}}],\\\"mesh3d\\\":[{\\\"colorbar\\\":{\\\"ticks\\\":\\\"\\\",\\\"outlinewidth\\\":0},\\\"type\\\":\\\"mesh3d\\\"}],\\\"surface\\\":[{\\\"colorbar\\\":{\\\"ticks\\\":\\\"\\\",\\\"outlinewidth\\\":0},\\\"type\\\":\\\"surface\\\",\\\"colorscale\\\":[[0.0,\\\"#0d0887\\\"],[0.1111111111111111,\\\"#46039f\\\"],[0.2222222222222222,\\\"#7201a8\\\"],[0.3333333333333333,\\\"#9c179e\\\"],[0.4444444444444444,\\\"#bd3786\\\"],[0.5555555555555556,\\\"#d8576b\\\"],[0.6666666666666666,\\\"#ed7953\\\"],[0.7777777777777778,\\\"#fb9f3a\\\"],[0.8888888888888888,\\\"#fdca26\\\"],[1.0,\\\"#f0f921\\\"]]}],\\\"scattermapbox\\\":[{\\\"type\\\":\\\"scattermapbox\\\",\\\"marker\\\":{\\\"colorbar\\\":{\\\"ticks\\\":\\\"\\\",\\\"outlinewidth\\\":0}}}],\\\"scattergeo\\\":[{\\\"type\\\":\\\"scattergeo\\\",\\\"marker\\\":{\\\"colorbar\\\":{\\\"ticks\\\":\\\"\\\",\\\"outlinewidth\\\":0}}}],\\\"histogram\\\":[{\\\"type\\\":\\\"histogram\\\",\\\"marker\\\":{\\\"colorbar\\\":{\\\"ticks\\\":\\\"\\\",\\\"outlinewidth\\\":0}}}],\\\"pie\\\":[{\\\"type\\\":\\\"pie\\\",\\\"automargin\\\":true}],\\\"choropleth\\\":[{\\\"colorbar\\\":{\\\"ticks\\\":\\\"\\\",\\\"outlinewidth\\\":0},\\\"type\\\":\\\"choropleth\\\"}],\\\"heatmapgl\\\":[{\\\"colorbar\\\":{\\\"ticks\\\":\\\"\\\",\\\"outlinewidth\\\":0},\\\"type\\\":\\\"heatmapgl\\\",\\\"colorscale\\\":[[0.0,\\\"#0d0887\\\"],[0.1111111111111111,\\\"#46039f\\\"],[0.2222222222222222,\\\"#7201a8\\\"],[0.3333333333333333,\\\"#9c179e\\\"],[0.4444444444444444,\\\"#bd3786\\\"],[0.5555555555555556,\\\"#d8576b\\\"],[0.6666666666666666,\\\"#ed7953\\\"],[0.7777777777777778,\\\"#fb9f3a\\\"],[0.8888888888888888,\\\"#fdca26\\\"],[1.0,\\\"#f0f921\\\"]]}],\\\"bar\\\":[{\\\"type\\\":\\\"bar\\\",\\\"error_y\\\":{\\\"color\\\":\\\"#2a3f5f\\\"},\\\"error_x\\\":{\\\"color\\\":\\\"#2a3f5f\\\"},\\\"marker\\\":{\\\"line\\\":{\\\"color\\\":\\\"#E5ECF6\\\",\\\"width\\\":0.5}}}],\\\"heatmap\\\":[{\\\"colorbar\\\":{\\\"ticks\\\":\\\"\\\",\\\"outlinewidth\\\":0},\\\"type\\\":\\\"heatmap\\\",\\\"colorscale\\\":[[0.0,\\\"#0d0887\\\"],[0.1111111111111111,\\\"#46039f\\\"],[0.2222222222222222,\\\"#7201a8\\\"],[0.3333333333333333,\\\"#9c179e\\\"],[0.4444444444444444,\\\"#bd3786\\\"],[0.5555555555555556,\\\"#d8576b\\\"],[0.6666666666666666,\\\"#ed7953\\\"],[0.7777777777777778,\\\"#fb9f3a\\\"],[0.8888888888888888,\\\"#fdca26\\\"],[1.0,\\\"#f0f921\\\"]]}],\\\"contourcarpet\\\":[{\\\"colorbar\\\":{\\\"ticks\\\":\\\"\\\",\\\"outlinewidth\\\":0},\\\"type\\\":\\\"contourcarpet\\\"}],\\\"table\\\":[{\\\"type\\\":\\\"table\\\",\\\"header\\\":{\\\"line\\\":{\\\"color\\\":\\\"white\\\"},\\\"fill\\\":{\\\"color\\\":\\\"#C8D4E3\\\"}},\\\"cells\\\":{\\\"line\\\":{\\\"color\\\":\\\"white\\\"},\\\"fill\\\":{\\\"color\\\":\\\"#EBF0F8\\\"}}}],\\\"scatter3d\\\":[{\\\"line\\\":{\\\"colorbar\\\":{\\\"ticks\\\":\\\"\\\",\\\"outlinewidth\\\":0}},\\\"type\\\":\\\"scatter3d\\\",\\\"marker\\\":{\\\"colorbar\\\":{\\\"ticks\\\":\\\"\\\",\\\"outlinewidth\\\":0}}}],\\\"scattergl\\\":[{\\\"type\\\":\\\"scattergl\\\",\\\"marker\\\":{\\\"colorbar\\\":{\\\"ticks\\\":\\\"\\\",\\\"outlinewidth\\\":0}}}],\\\"histogram2d\\\":[{\\\"colorbar\\\":{\\\"ticks\\\":\\\"\\\",\\\"outlinewidth\\\":0},\\\"type\\\":\\\"histogram2d\\\",\\\"colorscale\\\":[[0.0,\\\"#0d0887\\\"],[0.1111111111111111,\\\"#46039f\\\"],[0.2222222222222222,\\\"#7201a8\\\"],[0.3333333333333333,\\\"#9c179e\\\"],[0.4444444444444444,\\\"#bd3786\\\"],[0.5555555555555556,\\\"#d8576b\\\"],[0.6666666666666666,\\\"#ed7953\\\"],[0.7777777777777778,\\\"#fb9f3a\\\"],[0.8888888888888888,\\\"#fdca26\\\"],[1.0,\\\"#f0f921\\\"]]}],\\\"scatterternary\\\":[{\\\"type\\\":\\\"scatterternary\\\",\\\"marker\\\":{\\\"colorbar\\\":{\\\"ticks\\\":\\\"\\\",\\\"outlinewidth\\\":0}}}],\\\"scatterpolargl\\\":[{\\\"type\\\":\\\"scatterpolargl\\\",\\\"marker\\\":{\\\"colorbar\\\":{\\\"ticks\\\":\\\"\\\",\\\"outlinewidth\\\":0}}}]}},\\\"height\\\":600,\\\"margin\\\":{\\\"l\\\":50,\\\"b\\\":50,\\\"r\\\":50,\\\"t\\\":60},\\\"yaxis\\\":{\\\"range\\\":[-3,3]},\\\"width\\\":600},{\\\"showLink\\\":false,\\\"editable\\\":false,\\\"responsive\\\":true,\\\"staticPlot\\\":false,\\\"scrollZoom\\\":true}); gd.on(\\\"plotly_hover\\\",(function (data){var filtered_data=WebIO.PlotlyCommands.filterEventData(gd,data,\\\"hover\\\"); return !(filtered_data.isnil) ? (WebIO.setval({\\\"name\\\":\\\"hover\\\",\\\"scope\\\":\\\"8558953843779149935\\\",\\\"id\\\":\\\"3485635087790316746\\\",\\\"type\\\":\\\"observable\\\"},filtered_data.out)) : undefined})); gd.on(\\\"plotly_unhover\\\",(function (){return WebIO.setval({\\\"name\\\":\\\"hover\\\",\\\"scope\\\":\\\"8558953843779149935\\\",\\\"id\\\":\\\"3485635087790316746\\\",\\\"type\\\":\\\"observable\\\"},{})})); gd.on(\\\"plotly_selected\\\",(function (data){var filtered_data=WebIO.PlotlyCommands.filterEventData(gd,data,\\\"selected\\\"); return !(filtered_data.isnil) ? (WebIO.setval({\\\"name\\\":\\\"selected\\\",\\\"scope\\\":\\\"8558953843779149935\\\",\\\"id\\\":\\\"2960607655238734040\\\",\\\"type\\\":\\\"observable\\\"},filtered_data.out)) : undefined})); gd.on(\\\"plotly_deselect\\\",(function (){return WebIO.setval({\\\"name\\\":\\\"selected\\\",\\\"scope\\\":\\\"8558953843779149935\\\",\\\"id\\\":\\\"2960607655238734040\\\",\\\"type\\\":\\\"observable\\\"},{})})); gd.on(\\\"plotly_relayout\\\",(function (data){var filtered_data=WebIO.PlotlyCommands.filterEventData(gd,data,\\\"relayout\\\"); return !(filtered_data.isnil) ? (WebIO.setval({\\\"name\\\":\\\"relayout\\\",\\\"scope\\\":\\\"8558953843779149935\\\",\\\"id\\\":\\\"11394980625206762173\\\",\\\"type\\\":\\\"observable\\\"},filtered_data.out)) : undefined})); return gd.on(\\\"plotly_click\\\",(function (data){var filtered_data=WebIO.PlotlyCommands.filterEventData(gd,data,\\\"click\\\"); return !(filtered_data.isnil) ? (WebIO.setval({\\\"name\\\":\\\"click\\\",\\\"scope\\\":\\\"8558953843779149935\\\",\\\"id\\\":\\\"305357469584711045\\\",\\\"type\\\":\\\"observable\\\"},filtered_data.out)) : undefined}))}));\\n    (WebIO.importBlock({\\\"data\\\":[{\\\"name\\\":\\\"Plotly\\\",\\\"type\\\":\\\"js\\\",\\\"url\\\":\\\"\\/assetserver\\/d66a736669047bda0b2d00471bd5207a90cf3193-plotly.min.js\\\"},{\\\"name\\\":null,\\\"type\\\":\\\"js\\\",\\\"url\\\":\\\"\\/assetserver\\/aee3160e397a4905b07437c5af565305d1ef6def-plotly_webio.bundle.js\\\"}],\\\"type\\\":\\\"async_block\\\"})).then((imports) => handler.apply(this, imports));\\n}\\n\"],\"observables\":{\"_toImage\":{\"sync\":false,\"id\":\"12302244786329790650\",\"value\":{}},\"hover\":{\"sync\":false,\"id\":\"3485635087790316746\",\"value\":{}},\"selected\":{\"sync\":false,\"id\":\"2960607655238734040\",\"value\":{}},\"__gd_contents\":{\"sync\":false,\"id\":\"18329360895838263371\",\"value\":{}},\"click\":{\"sync\":false,\"id\":\"305357469584711045\",\"value\":{}},\"image\":{\"sync\":true,\"id\":\"1786548784218003711\",\"value\":\"\"},\"__get_gd_contents\":{\"sync\":false,\"id\":\"9612830953318725103\",\"value\":\"\"},\"_downloadImage\":{\"sync\":false,\"id\":\"15881335411217113137\",\"value\":{}},\"relayout\":{\"sync\":false,\"id\":\"11394980625206762173\",\"value\":{}},\"_commands\":{\"sync\":false,\"id\":\"57027401774225730\",\"value\":[]}}},\"children\":[{\"props\":{\"id\":\"plot-bbc9aa2a-5dcd-4b24-957f-1ece082eba4b\"},\"nodeType\":\"DOM\",\"type\":\"node\",\"instanceArgs\":{\"namespace\":\"html\",\"tag\":\"div\"},\"children\":[]}]},\n",
       "        window,\n",
       "    );\n",
       "    })()\n",
       "    </script>\n",
       "</div>\n"
      ],
      "text/plain": [
       "data: [\n",
       "  \"scatter with fields type, x, and y\",\n",
       "  \"scatter with fields name, type, x, and y\"\n",
       "]\n",
       "\n",
       "layout: \"layout with fields height, margin, template, width, xaxis, and yaxis\"\n",
       "\n"
      ]
     },
     "execution_count": 50,
     "metadata": {},
     "output_type": "execute_result"
    }
   ],
   "source": [
    "layout = Layout(\n",
    "    xaxis = attr(range = [-3, 3]),\n",
    "    yaxis = attr(range = [-3, 3]),\n",
    "    width = 600,\n",
    "    height = 600\n",
    ")\n",
    "\n",
    "c = Circle(Point(0,0.5), 1.)\n",
    "pc = plotgeometry(c)\n",
    "pe = plotenvelope(c)\n",
    "plot([pc,pe],layout)"
   ]
  }
 ],
 "metadata": {
  "kernelspec": {
   "display_name": "Julia 1.8.2",
   "language": "julia",
   "name": "julia-1.8"
  },
  "language_info": {
   "file_extension": ".jl",
   "mimetype": "application/julia",
   "name": "julia",
   "version": "1.8.2"
  }
 },
 "nbformat": 4,
 "nbformat_minor": 5
}
