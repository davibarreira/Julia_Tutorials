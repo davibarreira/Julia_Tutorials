{
 "cells": [
  {
   "cell_type": "markdown",
   "id": "b7bbbea8-e888-4db7-9d4f-52041aa9bbad",
   "metadata": {},
   "source": [
    "# Relational Databases with Julia\n",
    "\n",
    "This notebook contains some basic functionallity for using relational databases with Julia.\n",
    "More specifically, we focus on PostgreSQL."
   ]
  },
  {
   "cell_type": "code",
   "execution_count": 1,
   "id": "f50289ad-ea47-447f-805f-e82bc425d92e",
   "metadata": {},
   "outputs": [
    {
     "name": "stderr",
     "output_type": "stream",
     "text": [
      "\u001b[32m\u001b[1m  Activating\u001b[22m\u001b[39m project at `~/Main/EMAp/Julia_Tutorials/DataBases`\n"
     ]
    }
   ],
   "source": [
    "using Pkg\n",
    "Pkg.activate(\".\")\n",
    "using LibPQ\n",
    "using SQLStrings"
   ]
  },
  {
   "cell_type": "code",
   "execution_count": 2,
   "id": "44c08b7f-29fe-4867-93d7-f442b5fb72b9",
   "metadata": {},
   "outputs": [],
   "source": [
    "using DataFrames\n",
    "using PalmerPenguins\n",
    "using Tables"
   ]
  },
  {
   "cell_type": "markdown",
   "id": "a9850d9b-be8b-419a-b123-c37df4869a72",
   "metadata": {},
   "source": [
    "## 1. Setting Up PostgreSQL Locally\n",
    "\n",
    "Before we can start, you need to install postgres in your computer. I'm assuming you are using Linux\n",
    "with Ubuntu. Hop into the terminal and run the following commands.\n",
    "First, run `sudo apt install postgresql`.\n",
    "\n",
    "This will install postgres, which will start running on the background. We can acess it by running\n",
    "`sudo -i -u postgres`, which will connect us. Note that there will be a change in the terminal, which\n",
    "will indicate that you are now with the `postgres` user. From here, run `psql`, which\n",
    "will start a postgres repl, where you can type SQL commands.\n",
    "\n",
    "Let's create a database and a user.\n",
    "\n",
    "Run `create database juliatutorial;`.\n",
    "\n",
    "Followed by `create user julia with password 'julia123';`.\n"
   ]
  },
  {
   "cell_type": "code",
   "execution_count": 3,
   "id": "18ad1408-b8bd-4064-b0ae-2054954712f4",
   "metadata": {},
   "outputs": [
    {
     "data": {
      "text/plain": [
       "PostgreSQL connection (CONNECTION_OK) with parameters:\n",
       "  user = julia\n",
       "  password = ********************\n",
       "  channel_binding = prefer\n",
       "  dbname = juliatutorial\n",
       "  host = localhost\n",
       "  port = 5432\n",
       "  client_encoding = UTF8\n",
       "  options = -c DateStyle=ISO,YMD -c IntervalStyle=iso_8601 -c TimeZone=UTC\n",
       "  application_name = LibPQ.jl\n",
       "  sslmode = prefer\n",
       "  sslcompression = 0\n",
       "  sslsni = 1\n",
       "  ssl_min_protocol_version = TLSv1.2\n",
       "  gssencmode = prefer\n",
       "  krbsrvname = postgres\n",
       "  target_session_attrs = any"
      ]
     },
     "execution_count": 3,
     "metadata": {},
     "output_type": "execute_result"
    }
   ],
   "source": [
    "conn = LibPQ.Connection(\"dbname=juliatutorial user=julia password=julia123 host=localhost\")"
   ]
  },
  {
   "cell_type": "markdown",
   "id": "d9fb9bae-d62c-4318-a235-8b2774cda862",
   "metadata": {},
   "source": [
    "**Remember** to close the connection after finishing. "
   ]
  },
  {
   "cell_type": "code",
   "execution_count": 4,
   "id": "2fb8ee39-b4d3-48bf-856c-f1135878b839",
   "metadata": {},
   "outputs": [],
   "source": [
    "close(conn)"
   ]
  },
  {
   "cell_type": "markdown",
   "id": "ea56da6b-25f8-4cf7-85f7-fbc85659b1f7",
   "metadata": {},
   "source": [
    "## 2. The Basics\n",
    "\n",
    "Let's now do some basic queries.\n",
    "\n",
    "\n",
    "### 2.1 SQLStrings.jl\n",
    "First, notice that we'll use the `SQLStrings.jl` package in order to parse our SQL queries. This is\n",
    "necessary to avoid SQL injection attacks (read the docs on `SQLStrings.jl` to learn more)."
   ]
  },
  {
   "cell_type": "code",
   "execution_count": 5,
   "id": "aefb9a56-298d-4cd8-ba8c-ebe9360cda31",
   "metadata": {},
   "outputs": [
    {
     "data": {
      "text/plain": [
       "runquery (generic function with 1 method)"
      ]
     },
     "execution_count": 5,
     "metadata": {},
     "output_type": "execute_result"
    }
   ],
   "source": [
    "function runquery(conn, sql::SQLStrings.Sql)\n",
    "    query, args = SQLStrings.prepare(sql)\n",
    "    LibPQ.execute(conn, query, args)\n",
    "end"
   ]
  },
  {
   "cell_type": "markdown",
   "id": "873a6da2-14b1-473a-9d22-f9dfdb1fb40a",
   "metadata": {},
   "source": [
    "### 2.2 Creating a Table"
   ]
  },
  {
   "cell_type": "markdown",
   "id": "6c1c6842-09cb-4383-8ec3-6eba4d4b47fe",
   "metadata": {},
   "source": [
    "Let's start by creating a new table and then deleting it. "
   ]
  },
  {
   "cell_type": "code",
   "execution_count": 185,
   "id": "2128726d-daf3-4e0b-848c-d817428786ef",
   "metadata": {},
   "outputs": [],
   "source": [
    "conn = LibPQ.Connection(\"dbname=juliatutorial user=julia password=julia123 host=localhost\")\n",
    "runquery(conn, sql`CREATE TABLE Employees (name char(64),age int,date_of_birth date,salary float)`)\n",
    "runquery(conn, sql`drop TABLE Employees `)\n",
    "close(conn)"
   ]
  },
  {
   "cell_type": "markdown",
   "id": "68dadc0e-00cc-47f1-92c1-e4bd43000fef",
   "metadata": {},
   "source": [
    "### 2.3 Inserting Values in Table"
   ]
  },
  {
   "cell_type": "markdown",
   "id": "92b08817-06f9-40da-95da-3ddee3a3a7b9",
   "metadata": {},
   "source": [
    "Very easy. Let's create our table again and populate it. "
   ]
  },
  {
   "cell_type": "code",
   "execution_count": 186,
   "id": "9b9691d2-1ab1-4b90-a549-c100ed1c51c5",
   "metadata": {},
   "outputs": [
    {
     "data": {
      "text/plain": [
       "PostgreSQL result"
      ]
     },
     "execution_count": 186,
     "metadata": {},
     "output_type": "execute_result"
    }
   ],
   "source": [
    "conn = LibPQ.Connection(\"dbname=juliatutorial user=julia password=julia123 host=localhost\");\n",
    "runquery(conn, sql`CREATE TABLE Employees (name char(64),age int,date_of_birth date,salary float)`)"
   ]
  },
  {
   "cell_type": "code",
   "execution_count": 187,
   "id": "79185d54-a86b-4f7f-95a5-c025da977014",
   "metadata": {},
   "outputs": [
    {
     "data": {
      "text/plain": [
       "PostgreSQL result"
      ]
     },
     "execution_count": 187,
     "metadata": {},
     "output_type": "execute_result"
    }
   ],
   "source": [
    "runquery(conn, sql`INSERT INTO Employees VALUES('James', 30, '1992-01-21', 3000.0)`)"
   ]
  },
  {
   "cell_type": "markdown",
   "id": "35238e1b-4082-4d3a-8cae-88f72d05b77b",
   "metadata": {},
   "source": [
    "Note that the date format is `yyyy-mm-dd`.\n",
    "\n",
    "Let's insert another row, but let's use string interpolation instead of writing the whole thing\n",
    "by hand."
   ]
  },
  {
   "cell_type": "code",
   "execution_count": 188,
   "id": "b2374a61-c950-435c-9b65-a33c228190ad",
   "metadata": {},
   "outputs": [
    {
     "data": {
      "text/plain": [
       "PostgreSQL result"
      ]
     },
     "execution_count": 188,
     "metadata": {},
     "output_type": "execute_result"
    }
   ],
   "source": [
    "table = \"Employees\"\n",
    "row   = Dict(\"name\"=>\"Bill\", \"date_of_birth\"=>\"2002-03-01\", \"age\"=>20, \"salary\"=>2000)\n",
    "row   = Dict(\"name\"=>\"Bill\", \"age\"=>20, \"date_of_birth\"=>\"2002-03-01\", \"salary\"=>2000)\n",
    "\n",
    "cols = [\"name\", \"salary\", \"date_of_birth\", \"age\"]\n",
    "rowvalues = tuple([row[k] for k in cols]...)\n",
    "runquery(conn,sql`INSERT INTO Employees (name, salary, date_of_birth, age) VALUES ($(rowvalues...))`)"
   ]
  },
  {
   "cell_type": "markdown",
   "id": "27ab28cd-e06c-4e76-a2a4-3cc55f6ed43d",
   "metadata": {},
   "source": [
    "Let's now add a column with an id."
   ]
  },
  {
   "cell_type": "code",
   "execution_count": 192,
   "id": "bcdb74bd-8103-4220-945b-3442e4da9126",
   "metadata": {},
   "outputs": [],
   "source": [
    "runquery(conn,sql`ALTER TABLE Employees ADD employee_id SERIAL PRIMARY KEY;`)"
   ]
  },
  {
   "cell_type": "markdown",
   "id": "4c3944e2-fb8e-413e-b0cb-6991b1308a2b",
   "metadata": {},
   "source": [
    "### 2.4 Selecting Table Values\n",
    "\n",
    "Next, let's show how we can run queries to select the values inside a table."
   ]
  },
  {
   "cell_type": "code",
   "execution_count": 193,
   "id": "e003fab5-37bd-4df6-9240-d194ffd24a35",
   "metadata": {},
   "outputs": [
    {
     "data": {
      "text/html": [
       "<div class=\"data-frame\"><p>2 rows × 5 columns</p><table class=\"data-frame\"><thead><tr><th></th><th>name</th><th>age</th><th>date_of_birth</th><th>salary</th><th>employee_id</th></tr><tr><th></th><th title=\"Union{Missing, String}\">String?</th><th title=\"Union{Missing, Int32}\">Int32?</th><th title=\"Union{Missing, Dates.Date}\">Date</th><th title=\"Union{Missing, Float64}\">Float64?</th><th title=\"Union{Missing, Int32}\">Int32?</th></tr></thead><tbody><tr><th>1</th><td>James</td><td>30</td><td>1992-01-21</td><td>3000.0</td><td>1</td></tr><tr><th>2</th><td>Bill</td><td>20</td><td>2002-03-01</td><td>2000.0</td><td>2</td></tr></tbody></table></div>"
      ],
      "text/latex": [
       "\\begin{tabular}{r|ccccc}\n",
       "\t& name & age & date\\_of\\_birth & salary & employee\\_id\\\\\n",
       "\t\\hline\n",
       "\t& String? & Int32? & Date & Float64? & Int32?\\\\\n",
       "\t\\hline\n",
       "\t1 & James & 30 & 1992-01-21 & 3000.0 & 1 \\\\\n",
       "\t2 & Bill & 20 & 2002-03-01 & 2000.0 & 2 \\\\\n",
       "\\end{tabular}\n"
      ],
      "text/plain": [
       "\u001b[1m2×5 DataFrame\u001b[0m\n",
       "\u001b[1m Row \u001b[0m│\u001b[1m name    \u001b[0m\u001b[1m age    \u001b[0m\u001b[1m date_of_birth \u001b[0m\u001b[1m salary   \u001b[0m\u001b[1m employee_id \u001b[0m\n",
       "\u001b[1m     \u001b[0m│\u001b[90m String? \u001b[0m\u001b[90m Int32? \u001b[0m\u001b[90m Dates.Date?   \u001b[0m\u001b[90m Float64? \u001b[0m\u001b[90m Int32?      \u001b[0m\n",
       "─────┼───────────────────────────────────────────────────────\n",
       "   1 │ James        30  1992-01-21       3000.0            1\n",
       "   2 │ Bill         20  2002-03-01       2000.0            2"
      ]
     },
     "execution_count": 193,
     "metadata": {},
     "output_type": "execute_result"
    }
   ],
   "source": [
    "runquery(conn, sql`SELECT * FROM Employees `) |> DataFrame"
   ]
  },
  {
   "cell_type": "markdown",
   "id": "8a0d3cb3-0656-4654-b0bd-683845bf5a47",
   "metadata": {},
   "source": [
    "### 2.5 Showing Available Tables"
   ]
  },
  {
   "cell_type": "markdown",
   "id": "47a22ae2-a410-4a6a-a611-bb615f07557f",
   "metadata": {},
   "source": [
    "How can we show the tables we have on our database \"juliatutorial\"? If we hop inside Postgres `psql` terminal,\n",
    "we could just run the command `\\dt`. This is not an option from within Julia. So we use a query\n",
    "that excludes some auxiliary tables that are automatically generated by Postgres."
   ]
  },
  {
   "cell_type": "code",
   "execution_count": 110,
   "id": "1e13334d-0561-4c25-b9bf-b72d825f3709",
   "metadata": {},
   "outputs": [
    {
     "data": {
      "text/html": [
       "<div class=\"data-frame\"><p>1 rows × 8 columns (omitted printing of 1 columns)</p><table class=\"data-frame\"><thead><tr><th></th><th>schemaname</th><th>tablename</th><th>tableowner</th><th>tablespace</th><th>hasindexes</th><th>hasrules</th><th>hastriggers</th></tr><tr><th></th><th title=\"Union{Missing, String}\">String?</th><th title=\"Union{Missing, String}\">String?</th><th title=\"Union{Missing, String}\">String?</th><th title=\"Union{Missing, String}\">String?</th><th title=\"Union{Missing, Bool}\">Bool?</th><th title=\"Union{Missing, Bool}\">Bool?</th><th title=\"Union{Missing, Bool}\">Bool?</th></tr></thead><tbody><tr><th>1</th><td>public</td><td>employees</td><td>julia</td><td><em>missing</em></td><td>0</td><td>0</td><td>0</td></tr></tbody></table></div>"
      ],
      "text/latex": [
       "\\begin{tabular}{r|cccccccc}\n",
       "\t& schemaname & tablename & tableowner & tablespace & hasindexes & hasrules & hastriggers & \\\\\n",
       "\t\\hline\n",
       "\t& String? & String? & String? & String? & Bool? & Bool? & Bool? & \\\\\n",
       "\t\\hline\n",
       "\t1 & public & employees & julia & \\emph{missing} & 0 & 0 & 0 & $\\dots$ \\\\\n",
       "\\end{tabular}\n"
      ],
      "text/plain": [
       "\u001b[1m1×8 DataFrame\u001b[0m\n",
       "\u001b[1m Row \u001b[0m│\u001b[1m schemaname \u001b[0m\u001b[1m tablename \u001b[0m\u001b[1m tableowner \u001b[0m\u001b[1m tablespace \u001b[0m\u001b[1m hasindexes \u001b[0m\u001b[1m hasrules \u001b[0m\u001b[1m ha\u001b[0m ⋯\n",
       "\u001b[1m     \u001b[0m│\u001b[90m String?    \u001b[0m\u001b[90m String?   \u001b[0m\u001b[90m String?    \u001b[0m\u001b[90m String?    \u001b[0m\u001b[90m Bool?      \u001b[0m\u001b[90m Bool?    \u001b[0m\u001b[90m Bo\u001b[0m ⋯\n",
       "─────┼──────────────────────────────────────────────────────────────────────────\n",
       "   1 │ public      employees  julia      \u001b[90m missing    \u001b[0m      false     false     ⋯\n",
       "\u001b[36m                                                               2 columns omitted\u001b[0m"
      ]
     },
     "execution_count": 110,
     "metadata": {},
     "output_type": "execute_result"
    }
   ],
   "source": [
    "SHOWTABLES =  sql`\n",
    "SELECT *\n",
    "FROM pg_catalog.pg_tables\n",
    "WHERE schemaname != 'pg_catalog' AND \n",
    "    schemaname != 'information_schema';\n",
    "`\n",
    "\n",
    "runquery(conn, SHOWTABLES) |> DataFrame"
   ]
  },
  {
   "cell_type": "markdown",
   "id": "34560988-b32b-4e69-a19b-d3bdceb8cf36",
   "metadata": {},
   "source": [
    "## 3. SQL and DataFrames\n",
    "Let's now showcase how one can operate with SQL and Dataframes, doing things like populating an SQL table\n",
    "from a DataFrame."
   ]
  },
  {
   "cell_type": "code",
   "execution_count": 13,
   "id": "532c3a42-0a8c-4ea8-a53b-cdf79066b833",
   "metadata": {},
   "outputs": [
    {
     "data": {
      "text/html": [
       "<div class=\"data-frame\"><p>344 rows × 7 columns (omitted printing of 1 columns)</p><table class=\"data-frame\"><thead><tr><th></th><th>species</th><th>island</th><th>bill_length_mm</th><th>bill_depth_mm</th><th>flipper_length_mm</th><th>body_mass_g</th></tr><tr><th></th><th title=\"InlineStrings.String15\">String15</th><th title=\"InlineStrings.String15\">String15</th><th title=\"Union{Missing, Float64}\">Float64?</th><th title=\"Union{Missing, Float64}\">Float64?</th><th title=\"Union{Missing, Int64}\">Int64?</th><th title=\"Union{Missing, Int64}\">Int64?</th></tr></thead><tbody><tr><th>1</th><td>Adelie</td><td>Torgersen</td><td>39.1</td><td>18.7</td><td>181</td><td>3750</td></tr><tr><th>2</th><td>Adelie</td><td>Torgersen</td><td>39.5</td><td>17.4</td><td>186</td><td>3800</td></tr><tr><th>3</th><td>Adelie</td><td>Torgersen</td><td>40.3</td><td>18.0</td><td>195</td><td>3250</td></tr><tr><th>4</th><td>Adelie</td><td>Torgersen</td><td><em>missing</em></td><td><em>missing</em></td><td><em>missing</em></td><td><em>missing</em></td></tr><tr><th>5</th><td>Adelie</td><td>Torgersen</td><td>36.7</td><td>19.3</td><td>193</td><td>3450</td></tr><tr><th>6</th><td>Adelie</td><td>Torgersen</td><td>39.3</td><td>20.6</td><td>190</td><td>3650</td></tr><tr><th>7</th><td>Adelie</td><td>Torgersen</td><td>38.9</td><td>17.8</td><td>181</td><td>3625</td></tr><tr><th>8</th><td>Adelie</td><td>Torgersen</td><td>39.2</td><td>19.6</td><td>195</td><td>4675</td></tr><tr><th>9</th><td>Adelie</td><td>Torgersen</td><td>34.1</td><td>18.1</td><td>193</td><td>3475</td></tr><tr><th>10</th><td>Adelie</td><td>Torgersen</td><td>42.0</td><td>20.2</td><td>190</td><td>4250</td></tr><tr><th>11</th><td>Adelie</td><td>Torgersen</td><td>37.8</td><td>17.1</td><td>186</td><td>3300</td></tr><tr><th>12</th><td>Adelie</td><td>Torgersen</td><td>37.8</td><td>17.3</td><td>180</td><td>3700</td></tr><tr><th>13</th><td>Adelie</td><td>Torgersen</td><td>41.1</td><td>17.6</td><td>182</td><td>3200</td></tr><tr><th>14</th><td>Adelie</td><td>Torgersen</td><td>38.6</td><td>21.2</td><td>191</td><td>3800</td></tr><tr><th>15</th><td>Adelie</td><td>Torgersen</td><td>34.6</td><td>21.1</td><td>198</td><td>4400</td></tr><tr><th>16</th><td>Adelie</td><td>Torgersen</td><td>36.6</td><td>17.8</td><td>185</td><td>3700</td></tr><tr><th>17</th><td>Adelie</td><td>Torgersen</td><td>38.7</td><td>19.0</td><td>195</td><td>3450</td></tr><tr><th>18</th><td>Adelie</td><td>Torgersen</td><td>42.5</td><td>20.7</td><td>197</td><td>4500</td></tr><tr><th>19</th><td>Adelie</td><td>Torgersen</td><td>34.4</td><td>18.4</td><td>184</td><td>3325</td></tr><tr><th>20</th><td>Adelie</td><td>Torgersen</td><td>46.0</td><td>21.5</td><td>194</td><td>4200</td></tr><tr><th>21</th><td>Adelie</td><td>Biscoe</td><td>37.8</td><td>18.3</td><td>174</td><td>3400</td></tr><tr><th>22</th><td>Adelie</td><td>Biscoe</td><td>37.7</td><td>18.7</td><td>180</td><td>3600</td></tr><tr><th>23</th><td>Adelie</td><td>Biscoe</td><td>35.9</td><td>19.2</td><td>189</td><td>3800</td></tr><tr><th>24</th><td>Adelie</td><td>Biscoe</td><td>38.2</td><td>18.1</td><td>185</td><td>3950</td></tr><tr><th>25</th><td>Adelie</td><td>Biscoe</td><td>38.8</td><td>17.2</td><td>180</td><td>3800</td></tr><tr><th>26</th><td>Adelie</td><td>Biscoe</td><td>35.3</td><td>18.9</td><td>187</td><td>3800</td></tr><tr><th>27</th><td>Adelie</td><td>Biscoe</td><td>40.6</td><td>18.6</td><td>183</td><td>3550</td></tr><tr><th>28</th><td>Adelie</td><td>Biscoe</td><td>40.5</td><td>17.9</td><td>187</td><td>3200</td></tr><tr><th>29</th><td>Adelie</td><td>Biscoe</td><td>37.9</td><td>18.6</td><td>172</td><td>3150</td></tr><tr><th>30</th><td>Adelie</td><td>Biscoe</td><td>40.5</td><td>18.9</td><td>180</td><td>3950</td></tr><tr><th>&vellip;</th><td>&vellip;</td><td>&vellip;</td><td>&vellip;</td><td>&vellip;</td><td>&vellip;</td><td>&vellip;</td></tr></tbody></table></div>"
      ],
      "text/latex": [
       "\\begin{tabular}{r|ccccccc}\n",
       "\t& species & island & bill\\_length\\_mm & bill\\_depth\\_mm & flipper\\_length\\_mm & body\\_mass\\_g & \\\\\n",
       "\t\\hline\n",
       "\t& String15 & String15 & Float64? & Float64? & Int64? & Int64? & \\\\\n",
       "\t\\hline\n",
       "\t1 & Adelie & Torgersen & 39.1 & 18.7 & 181 & 3750 & $\\dots$ \\\\\n",
       "\t2 & Adelie & Torgersen & 39.5 & 17.4 & 186 & 3800 & $\\dots$ \\\\\n",
       "\t3 & Adelie & Torgersen & 40.3 & 18.0 & 195 & 3250 & $\\dots$ \\\\\n",
       "\t4 & Adelie & Torgersen & \\emph{missing} & \\emph{missing} & \\emph{missing} & \\emph{missing} & $\\dots$ \\\\\n",
       "\t5 & Adelie & Torgersen & 36.7 & 19.3 & 193 & 3450 & $\\dots$ \\\\\n",
       "\t6 & Adelie & Torgersen & 39.3 & 20.6 & 190 & 3650 & $\\dots$ \\\\\n",
       "\t7 & Adelie & Torgersen & 38.9 & 17.8 & 181 & 3625 & $\\dots$ \\\\\n",
       "\t8 & Adelie & Torgersen & 39.2 & 19.6 & 195 & 4675 & $\\dots$ \\\\\n",
       "\t9 & Adelie & Torgersen & 34.1 & 18.1 & 193 & 3475 & $\\dots$ \\\\\n",
       "\t10 & Adelie & Torgersen & 42.0 & 20.2 & 190 & 4250 & $\\dots$ \\\\\n",
       "\t11 & Adelie & Torgersen & 37.8 & 17.1 & 186 & 3300 & $\\dots$ \\\\\n",
       "\t12 & Adelie & Torgersen & 37.8 & 17.3 & 180 & 3700 & $\\dots$ \\\\\n",
       "\t13 & Adelie & Torgersen & 41.1 & 17.6 & 182 & 3200 & $\\dots$ \\\\\n",
       "\t14 & Adelie & Torgersen & 38.6 & 21.2 & 191 & 3800 & $\\dots$ \\\\\n",
       "\t15 & Adelie & Torgersen & 34.6 & 21.1 & 198 & 4400 & $\\dots$ \\\\\n",
       "\t16 & Adelie & Torgersen & 36.6 & 17.8 & 185 & 3700 & $\\dots$ \\\\\n",
       "\t17 & Adelie & Torgersen & 38.7 & 19.0 & 195 & 3450 & $\\dots$ \\\\\n",
       "\t18 & Adelie & Torgersen & 42.5 & 20.7 & 197 & 4500 & $\\dots$ \\\\\n",
       "\t19 & Adelie & Torgersen & 34.4 & 18.4 & 184 & 3325 & $\\dots$ \\\\\n",
       "\t20 & Adelie & Torgersen & 46.0 & 21.5 & 194 & 4200 & $\\dots$ \\\\\n",
       "\t21 & Adelie & Biscoe & 37.8 & 18.3 & 174 & 3400 & $\\dots$ \\\\\n",
       "\t22 & Adelie & Biscoe & 37.7 & 18.7 & 180 & 3600 & $\\dots$ \\\\\n",
       "\t23 & Adelie & Biscoe & 35.9 & 19.2 & 189 & 3800 & $\\dots$ \\\\\n",
       "\t24 & Adelie & Biscoe & 38.2 & 18.1 & 185 & 3950 & $\\dots$ \\\\\n",
       "\t25 & Adelie & Biscoe & 38.8 & 17.2 & 180 & 3800 & $\\dots$ \\\\\n",
       "\t26 & Adelie & Biscoe & 35.3 & 18.9 & 187 & 3800 & $\\dots$ \\\\\n",
       "\t27 & Adelie & Biscoe & 40.6 & 18.6 & 183 & 3550 & $\\dots$ \\\\\n",
       "\t28 & Adelie & Biscoe & 40.5 & 17.9 & 187 & 3200 & $\\dots$ \\\\\n",
       "\t29 & Adelie & Biscoe & 37.9 & 18.6 & 172 & 3150 & $\\dots$ \\\\\n",
       "\t30 & Adelie & Biscoe & 40.5 & 18.9 & 180 & 3950 & $\\dots$ \\\\\n",
       "\t$\\dots$ & $\\dots$ & $\\dots$ & $\\dots$ & $\\dots$ & $\\dots$ & $\\dots$ &  \\\\\n",
       "\\end{tabular}\n"
      ],
      "text/plain": [
       "\u001b[1m344×7 DataFrame\u001b[0m\n",
       "\u001b[1m Row \u001b[0m│\u001b[1m species   \u001b[0m\u001b[1m island    \u001b[0m\u001b[1m bill_length_mm \u001b[0m\u001b[1m bill_depth_mm \u001b[0m\u001b[1m flipper_length_mm \u001b[0m\u001b[1m\u001b[0m ⋯\n",
       "\u001b[1m     \u001b[0m│\u001b[90m String15  \u001b[0m\u001b[90m String15  \u001b[0m\u001b[90m Float64?       \u001b[0m\u001b[90m Float64?      \u001b[0m\u001b[90m Int64?            \u001b[0m\u001b[90m\u001b[0m ⋯\n",
       "─────┼──────────────────────────────────────────────────────────────────────────\n",
       "   1 │ Adelie     Torgersen            39.1           18.7                181  ⋯\n",
       "   2 │ Adelie     Torgersen            39.5           17.4                186\n",
       "   3 │ Adelie     Torgersen            40.3           18.0                195\n",
       "   4 │ Adelie     Torgersen \u001b[90m      missing   \u001b[0m\u001b[90m     missing   \u001b[0m\u001b[90m           missing \u001b[0m\u001b[90m\u001b[0m\n",
       "   5 │ Adelie     Torgersen            36.7           19.3                193  ⋯\n",
       "   6 │ Adelie     Torgersen            39.3           20.6                190\n",
       "   7 │ Adelie     Torgersen            38.9           17.8                181\n",
       "   8 │ Adelie     Torgersen            39.2           19.6                195\n",
       "   9 │ Adelie     Torgersen            34.1           18.1                193  ⋯\n",
       "  10 │ Adelie     Torgersen            42.0           20.2                190\n",
       "  11 │ Adelie     Torgersen            37.8           17.1                186\n",
       "  ⋮  │     ⋮          ⋮            ⋮               ⋮                ⋮          ⋱\n",
       " 335 │ Chinstrap  Dream                50.2           18.8                202\n",
       " 336 │ Chinstrap  Dream                45.6           19.4                194  ⋯\n",
       " 337 │ Chinstrap  Dream                51.9           19.5                206\n",
       " 338 │ Chinstrap  Dream                46.8           16.5                189\n",
       " 339 │ Chinstrap  Dream                45.7           17.0                195\n",
       " 340 │ Chinstrap  Dream                55.8           19.8                207  ⋯\n",
       " 341 │ Chinstrap  Dream                43.5           18.1                202\n",
       " 342 │ Chinstrap  Dream                49.6           18.2                193\n",
       " 343 │ Chinstrap  Dream                50.8           19.0                210\n",
       " 344 │ Chinstrap  Dream                50.2           18.7                198  ⋯\n",
       "\u001b[36m                                                  2 columns and 323 rows omitted\u001b[0m"
      ]
     },
     "execution_count": 13,
     "metadata": {},
     "output_type": "execute_result"
    }
   ],
   "source": [
    "table = PalmerPenguins.load()\n",
    "df = DataFrame(table)"
   ]
  },
  {
   "cell_type": "code",
   "execution_count": null,
   "id": "c58bc71a-2f05-4994-9a6b-0c0c11a49657",
   "metadata": {},
   "outputs": [],
   "source": []
  }
 ],
 "metadata": {
  "kernelspec": {
   "display_name": "Julia (4 threads) 1.7.2",
   "language": "julia",
   "name": "julia-(4-threads)-1.7"
  },
  "language_info": {
   "file_extension": ".jl",
   "mimetype": "application/julia",
   "name": "julia",
   "version": "1.7.2"
  }
 },
 "nbformat": 4,
 "nbformat_minor": 5
}
