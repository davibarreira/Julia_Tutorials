{
 "cells": [
  {
   "cell_type": "markdown",
   "id": "f72cc74f-fa7a-4dcf-a9df-c6ad3bfdcb75",
   "metadata": {},
   "source": [
    "# Avaliando a Performance do Código (Avançado)\n",
    "\n",
    "Julia é uma linguagem feita para ser rápida, comparável com C++.\n",
    "Assim, queremos ser eficientes na hora de escrever nosso código.\n",
    "Esse notebook é para os interessados em otimizar o código para obter melhor performance.\n",
    "\n",
    "A tarefa de otimizar o código não é trivial, e requer bastante atenção em\n",
    "atividades como criação de variáveis, alocação de memória, atenação aos tipos, etc.\n",
    "Para código rodando \"in-house\" em problemas de tamanho razoável, geralmente\n",
    "não é necessário se atentar tanto para esse tipo de coisa. Porém,\n",
    "se você pretende criar um pacote para compartilhar com a comunidade,\n",
    "torna-se essencial otimizar a performance do código.\n",
    "\n",
    "Nesse cenário, o pacote BenchmarkTools nos ajudará bastante, pois permitirá\n",
    "de maneira fácil avaliar o desempenho de diferentes implementações.\n",
    "\n",
    "Esses notebooks são baseados na [série de notebooks do professor Jeff Fessler da University of Michigan](https://web.eecs.umich.edu/~fessler/course/551/julia/tutor/)."
   ]
  },
  {
   "cell_type": "code",
   "execution_count": 31,
   "id": "801e7e48-7d92-4cdf-8c84-7f435ef923fc",
   "metadata": {},
   "outputs": [],
   "source": [
    "using BenchmarkTools\n",
    "using LinearAlgebra"
   ]
  },
  {
   "cell_type": "markdown",
   "id": "a6114d6d-bd81-49bb-9e25-a921c75f99de",
   "metadata": {},
   "source": [
    "## **Caso 1: Matrizes Diagonais**\n",
    "O primeiro ponto que vamos ilustrar se trata de matrizes diagonais."
   ]
  },
  {
   "cell_type": "code",
   "execution_count": 32,
   "id": "0b8f4ac6-5150-43a6-b3eb-6daa19209f68",
   "metadata": {},
   "outputs": [],
   "source": [
    "N = 100\n",
    "x = rand(N)    # Amostrando um vetor com cada entrada amostrada de U(0,1)\n",
    "A = randn(N,N); # Amostrando uma matriz onde cada entrada é N(0,1)"
   ]
  },
  {
   "cell_type": "markdown",
   "id": "8f338f87-7497-4ace-898b-428b17195e03",
   "metadata": {},
   "source": [
    "Abaixo usamos dois métodos diferentes de se obter uma matriz diagonal. Observe que D1 é do tipo Diagonal,\n",
    "enquanto D2 é do tipo Matrix. Veremos que é mais eficiente utilizar o tipo Diagonal.\n",
    "Julia também possui vários outros tipos, como Sparse, Symmetric, entre outros,\n",
    "que permite realizar computações de forma mais eficiente. Isso tem a ver\n",
    "com algo chamado *multiple-dispatch* o qual não entraremos em detalhe ainda."
   ]
  },
  {
   "cell_type": "code",
   "execution_count": 33,
   "id": "37095f67-e882-4cab-b7e5-66309a7d6d5e",
   "metadata": {},
   "outputs": [],
   "source": [
    "D1 = Diagonal(A)\n",
    "D2 = diagm(diag(A));"
   ]
  },
  {
   "cell_type": "code",
   "execution_count": 4,
   "id": "8f6433dc-fb3c-4858-b555-18cd6cb1e729",
   "metadata": {},
   "outputs": [
    {
     "name": "stdout",
     "output_type": "stream",
     "text": [
      "  78.183 ns (1 allocation: 896 bytes)\n",
      "  2.942 μs (1 allocation: 896 bytes)\n"
     ]
    }
   ],
   "source": [
    "@btime D1 * x; # mais eficientes\n",
    "@btime D2 * x; # bem menos eficiente"
   ]
  },
  {
   "cell_type": "markdown",
   "id": "a9d05a98-a19a-46cc-a4af-02515d8aa898",
   "metadata": {},
   "source": [
    "A medida que nosso N aumenta, a diferença de performance se torna ainda mais pronunciada."
   ]
  },
  {
   "cell_type": "markdown",
   "id": "56f7db42-5610-4530-a9de-46eae8ae22e6",
   "metadata": {},
   "source": [
    "## **Caso 2: Alocação Inplace**\n",
    "O primeiro ponto que vamos ilustrar se trata de matrizes diagonais."
   ]
  },
  {
   "cell_type": "markdown",
   "id": "aaf984ca-7a43-4d44-8438-28d36446b619",
   "metadata": {},
   "source": [
    "A variável y mudou "
   ]
  },
  {
   "cell_type": "markdown",
   "id": "86cfea5c-8c29-4dce-aa5e-040ba5d40477",
   "metadata": {},
   "source": [
    "A variável y mudou "
   ]
  },
  {
   "cell_type": "markdown",
   "id": "cb01a8d4-c0d9-4291-94bd-d9b1766a137b",
   "metadata": {},
   "source": [
    "A variável y mudou "
   ]
  },
  {
   "cell_type": "code",
   "execution_count": 5,
   "id": "c01827da-27fd-47f5-b2f0-736df5a9aa2e",
   "metadata": {},
   "outputs": [
    {
     "data": {
      "text/plain": [
       "3×3 Matrix{Int64}:\n",
       " 1  2  3\n",
       " 4  5  6\n",
       " 7  8  9"
      ]
     },
     "execution_count": 5,
     "metadata": {},
     "output_type": "execute_result"
    }
   ],
   "source": [
    "A = [1 2 3\n",
    "     4 5 6\n",
    "     7 8 9]"
   ]
  },
  {
   "cell_type": "code",
   "execution_count": 28,
   "id": "f76cf8d7-498c-4968-9d7a-fcf24a4075a9",
   "metadata": {},
   "outputs": [
    {
     "data": {
      "text/plain": [
       "2"
      ]
     },
     "execution_count": 28,
     "metadata": {},
     "output_type": "execute_result"
    }
   ],
   "source": [
    "A[CartesianIndex(1,2)]"
   ]
  },
  {
   "cell_type": "code",
   "execution_count": 30,
   "id": "a15ba72b-38f6-4b54-94dd-1e4257fe529c",
   "metadata": {},
   "outputs": [
    {
     "data": {
      "text/plain": [
       "2-element Vector{Int64}:\n",
       " 2\n",
       " 3"
      ]
     },
     "execution_count": 30,
     "metadata": {},
     "output_type": "execute_result"
    }
   ],
   "source": [
    "A[[CartesianIndex(1,2),CartesianIndex(1,3)]]"
   ]
  },
  {
   "cell_type": "code",
   "execution_count": 25,
   "id": "b2cd9de2-7418-46ab-95d7-c8233a90b8e1",
   "metadata": {},
   "outputs": [
    {
     "data": {
      "text/plain": [
       "2"
      ]
     },
     "execution_count": 25,
     "metadata": {},
     "output_type": "execute_result"
    }
   ],
   "source": [
    "A[1,2]"
   ]
  },
  {
   "cell_type": "code",
   "execution_count": null,
   "id": "3723efbd-0390-475b-86a1-cecec1abc353",
   "metadata": {},
   "outputs": [],
   "source": [
    "[A[i...] for i in inds]"
   ]
  }
 ],
 "metadata": {
  "kernelspec": {
   "display_name": "JuliaMakie 1.6.1",
   "language": "julia",
   "name": "juliamakie-1.6"
  },
  "language_info": {
   "file_extension": ".jl",
   "mimetype": "application/julia",
   "name": "julia",
   "version": "1.6.1"
  }
 },
 "nbformat": 4,
 "nbformat_minor": 5
}
