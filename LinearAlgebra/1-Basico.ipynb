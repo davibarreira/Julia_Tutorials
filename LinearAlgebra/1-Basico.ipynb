{
 "cells": [
  {
   "cell_type": "markdown",
   "id": "a3fa9285-0152-4be1-ab52-67748ba663e5",
   "metadata": {},
   "source": [
    "# *Álgebra Linear em Julia*\n",
    "\n",
    "Esse notebook consiste em uma introdução à Álgebra Linear utlilizando Julia.\n",
    "Felizmente, a linguagem já tem uma sintaxe excelente e muito paracida com Matlab. Assim,\n",
    "para tornar essa exposição inicial mais motivante, vamos focar apresentar técnicas e resolver problemas\n",
    "de Machine Learning que utilizam Álgebra Linear. Logo, ao seguir este notebook,\n",
    "o leitor não só irá aprender a utilizar Julia, mas também aprenderá mais sobre Álgebra Linear e Machine Learning."
   ]
  },
  {
   "cell_type": "markdown",
   "id": "ae97b5b3-8017-4f9c-b6cc-ff6b090e915c",
   "metadata": {},
   "source": [
    "## **1. Declarando Vetores e Matrizes**"
   ]
  },
  {
   "cell_type": "code",
   "execution_count": 2,
   "id": "822d052b-da48-4b6f-a11d-9b6ad0272c13",
   "metadata": {},
   "outputs": [],
   "source": [
    "using LinearAlgebra\n",
    "using CairoMakie # Biblioteca para plotagem. Existem muitas outras opções."
   ]
  },
  {
   "cell_type": "markdown",
   "id": "36544fc0-4055-40f0-b432-8e2903b44a83",
   "metadata": {},
   "source": [
    "Veja a diferença na hora de declarar vetores versus matrizes.\n",
    "O tipo \"Vector\" em Julia tem dimensão $(n,)$, enquanto uma \"Matrix\" tem, por exemplo,\n",
    "$(n,1)$."
   ]
  },
  {
   "cell_type": "code",
   "execution_count": 3,
   "id": "c85265e6-dd8b-43a0-b918-6f1bcf70fca6",
   "metadata": {},
   "outputs": [
    {
     "data": {
      "text/plain": [
       "3-element Vector{Int64}:\n",
       " 1\n",
       " 2\n",
       " 3"
      ]
     },
     "metadata": {},
     "output_type": "display_data"
    },
    {
     "data": {
      "text/plain": [
       "3-element Vector{Int64}:\n",
       " 1\n",
       " 2\n",
       " 3"
      ]
     },
     "metadata": {},
     "output_type": "display_data"
    },
    {
     "data": {
      "text/plain": [
       "1×3 Matrix{Int64}:\n",
       " 1  2  3"
      ]
     },
     "metadata": {},
     "output_type": "display_data"
    },
    {
     "data": {
      "text/plain": [
       "3×3 Matrix{Int64}:\n",
       " 1  1  0\n",
       " 1  1  1\n",
       " 0  1  0"
      ]
     },
     "metadata": {},
     "output_type": "display_data"
    },
    {
     "name": "stdout",
     "output_type": "stream",
     "text": [
      "true\n",
      "false\n"
     ]
    }
   ],
   "source": [
    "x = [1,2,3]\n",
    "y = [1;2;3]\n",
    "z = [1 2 3]\n",
    "display(x) # A função display é similar a função print, só que provê melhor formatação e mostra o tipo da variável.\n",
    "display(y)\n",
    "display(z)\n",
    "\n",
    "A = [1 1 0;\n",
    "     1 1 1;\n",
    "     0 1 0]\n",
    "\n",
    "display(A)\n",
    "println(x==y) # println é a função para printar sozinho em uma linha.\n",
    "println(x==z)"
   ]
  },
  {
   "cell_type": "markdown",
   "id": "dc1111ba-3079-4c9c-9ac0-2b586be641d1",
   "metadata": {},
   "source": [
    "---\n",
    "Vamos mostrar algumas maneiras programáticas de declarar vetores e matrizes:"
   ]
  },
  {
   "cell_type": "code",
   "execution_count": 4,
   "id": "d9b85b01-2939-48c2-8cf9-b9472acb5be4",
   "metadata": {},
   "outputs": [
    {
     "data": {
      "text/plain": [
       "2-element Vector{Float64}:\n",
       " 0.0\n",
       " 0.0"
      ]
     },
     "execution_count": 4,
     "metadata": {},
     "output_type": "execute_result"
    }
   ],
   "source": [
    "x = zeros(2)"
   ]
  },
  {
   "cell_type": "code",
   "execution_count": 5,
   "id": "b119e3cb-41ba-426b-b3b3-924082f15fa9",
   "metadata": {},
   "outputs": [
    {
     "data": {
      "text/plain": [
       "2×2 Matrix{Float64}:\n",
       " 0.0  0.0\n",
       " 0.0  0.0"
      ]
     },
     "execution_count": 5,
     "metadata": {},
     "output_type": "execute_result"
    }
   ],
   "source": [
    "A = zeros(2,2)"
   ]
  },
  {
   "cell_type": "code",
   "execution_count": 6,
   "id": "ddad6cf7-e248-4e22-ab24-17178e149220",
   "metadata": {},
   "outputs": [
    {
     "data": {
      "text/plain": [
       "2×2 Matrix{Float64}:\n",
       " 1.0  1.0\n",
       " 1.0  1.0"
      ]
     },
     "execution_count": 6,
     "metadata": {},
     "output_type": "execute_result"
    }
   ],
   "source": [
    "A = ones(2,2)"
   ]
  },
  {
   "cell_type": "code",
   "execution_count": 7,
   "id": "be0183f7-372b-4ba0-a0c1-74d2cb706bff",
   "metadata": {},
   "outputs": [
    {
     "data": {
      "text/plain": [
       "3-element Vector{Float64}:\n",
       " 2.0\n",
       " 2.0\n",
       " 2.0"
      ]
     },
     "execution_count": 7,
     "metadata": {},
     "output_type": "execute_result"
    }
   ],
   "source": [
    "x = fill(2.0, 3)"
   ]
  },
  {
   "cell_type": "code",
   "execution_count": 8,
   "id": "2e2ad570-d600-42c9-a701-3bbe9cd63fdd",
   "metadata": {},
   "outputs": [
    {
     "data": {
      "text/plain": [
       "5×5 Matrix{Float64}:\n",
       " 3.0  3.0  3.0  3.0  3.0\n",
       " 3.0  3.0  3.0  3.0  3.0\n",
       " 3.0  3.0  3.0  3.0  3.0\n",
       " 3.0  3.0  3.0  3.0  3.0\n",
       " 3.0  3.0  3.0  3.0  3.0"
      ]
     },
     "execution_count": 8,
     "metadata": {},
     "output_type": "execute_result"
    }
   ],
   "source": [
    "A = fill(3.0, (5,5))"
   ]
  },
  {
   "cell_type": "code",
   "execution_count": 9,
   "id": "6da26bad-f83e-4d29-8c2a-f861e730a17c",
   "metadata": {},
   "outputs": [
    {
     "data": {
      "text/plain": [
       "5×5 Diagonal{Float64, Vector{Float64}}:\n",
       " 3.0   ⋅    ⋅    ⋅    ⋅ \n",
       "  ⋅   3.0   ⋅    ⋅    ⋅ \n",
       "  ⋅    ⋅   3.0   ⋅    ⋅ \n",
       "  ⋅    ⋅    ⋅   3.0   ⋅ \n",
       "  ⋅    ⋅    ⋅    ⋅   3.0"
      ]
     },
     "execution_count": 9,
     "metadata": {},
     "output_type": "execute_result"
    }
   ],
   "source": [
    "Diagonal(A)"
   ]
  },
  {
   "cell_type": "code",
   "execution_count": 10,
   "id": "416d9366-68a1-4a78-8078-602f3ae997f8",
   "metadata": {},
   "outputs": [
    {
     "data": {
      "text/plain": [
       "3×3 Diagonal{Int64, UnitRange{Int64}}:\n",
       " 1  ⋅  ⋅\n",
       " ⋅  2  ⋅\n",
       " ⋅  ⋅  3"
      ]
     },
     "execution_count": 10,
     "metadata": {},
     "output_type": "execute_result"
    }
   ],
   "source": [
    "Diagonal(1:3)"
   ]
  },
  {
   "cell_type": "code",
   "execution_count": 11,
   "id": "591faf1b-1238-4b38-befa-ef2f49d80c3f",
   "metadata": {},
   "outputs": [
    {
     "data": {
      "text/plain": [
       "4×4 Diagonal{Bool, Vector{Bool}}:\n",
       " 1  ⋅  ⋅  ⋅\n",
       " ⋅  1  ⋅  ⋅\n",
       " ⋅  ⋅  1  ⋅\n",
       " ⋅  ⋅  ⋅  1"
      ]
     },
     "execution_count": 11,
     "metadata": {},
     "output_type": "execute_result"
    }
   ],
   "source": [
    "I(4) # A variável I é reservada para representar a matriz identidade"
   ]
  },
  {
   "cell_type": "code",
   "execution_count": 12,
   "id": "b3178c3c-a2a1-491a-b16e-eedf9246798c",
   "metadata": {},
   "outputs": [
    {
     "data": {
      "text/plain": [
       "3×3 UpperTriangular{Int64, Matrix{Int64}}:\n",
       " 10  10  10\n",
       "  ⋅  10  10\n",
       "  ⋅   ⋅  10"
      ]
     },
     "execution_count": 12,
     "metadata": {},
     "output_type": "execute_result"
    }
   ],
   "source": [
    "UpperTriangular(fill(10,(3,3)))"
   ]
  },
  {
   "cell_type": "code",
   "execution_count": 13,
   "id": "db4eaee4-aa30-4b6e-b1a1-2cc29fdc28d3",
   "metadata": {},
   "outputs": [
    {
     "data": {
      "text/plain": [
       "3×3 LowerTriangular{Int64, Matrix{Int64}}:\n",
       " 10   ⋅   ⋅\n",
       " 10  10   ⋅\n",
       " 10  10  10"
      ]
     },
     "execution_count": 13,
     "metadata": {},
     "output_type": "execute_result"
    }
   ],
   "source": [
    "LowerTriangular(fill(10,(3,3)))"
   ]
  },
  {
   "cell_type": "code",
   "execution_count": 14,
   "id": "674a0146-106c-4a83-a1ae-8f6e27919374",
   "metadata": {},
   "outputs": [
    {
     "data": {
      "text/plain": [
       "4×4 Matrix{Float64}:\n",
       " 0.888617  0.605656  0.0563437  0.491534\n",
       " 0.662143  0.877193  0.828379   0.717147\n",
       " 0.989086  0.286034  0.69849    0.284398\n",
       " 0.59666   0.924634  0.894482   0.965405"
      ]
     },
     "execution_count": 14,
     "metadata": {},
     "output_type": "execute_result"
    }
   ],
   "source": [
    "rand(4,4)"
   ]
  },
  {
   "cell_type": "markdown",
   "id": "b7227943-a20f-4b7d-9114-d34aeb535dbd",
   "metadata": {},
   "source": [
    "#### Concatenando"
   ]
  },
  {
   "cell_type": "code",
   "execution_count": 15,
   "id": "92ce7f47-0d04-43da-83e1-1ab9eab2073b",
   "metadata": {},
   "outputs": [
    {
     "data": {
      "text/plain": [
       "2×2 Matrix{Int64}:\n",
       " 1  3\n",
       " 2  4"
      ]
     },
     "metadata": {},
     "output_type": "display_data"
    },
    {
     "data": {
      "text/plain": [
       "4-element Vector{Int64}:\n",
       " 1\n",
       " 2\n",
       " 3\n",
       " 4"
      ]
     },
     "metadata": {},
     "output_type": "display_data"
    }
   ],
   "source": [
    "v = [1, 2]\n",
    "u = [3, 4]\n",
    "A = [v u]\n",
    "display(A)\n",
    "\n",
    "B = [v;u]\n",
    "display(B)"
   ]
  },
  {
   "cell_type": "markdown",
   "id": "3c558cca-6533-43b9-be02-6fbe3458edb9",
   "metadata": {},
   "source": [
    "----\n",
    "\n",
    "## **2. Produto de Matrizes e Vetors**\n",
    "\n",
    "Vamos agora declarar matrizes e fazer algumas contas básicas. Aqui já vai começar a ficar claro\n",
    "como Julia é a linguagem ideal para Álgebra Linear."
   ]
  },
  {
   "cell_type": "code",
   "execution_count": 70,
   "id": "0869ec33-2467-41da-9fae-91a3d2251349",
   "metadata": {},
   "outputs": [
    {
     "data": {
      "text/plain": [
       "true"
      ]
     },
     "execution_count": 70,
     "metadata": {},
     "output_type": "execute_result"
    }
   ],
   "source": [
    "v = z ⋅ x   # Escreva \\cdot e aperte tab para obter esse ponto. Julia aceita unicode! Tente declarar, por exemplo, \\mu\n",
    "w = dot(z,x)\n",
    "v == w      # O nosso ⋅ é uma maneira elegante de se escrever o produto interno."
   ]
  },
  {
   "cell_type": "code",
   "execution_count": 101,
   "id": "01cc7131-6de4-4551-b4b6-bc5c96b1cf20",
   "metadata": {},
   "outputs": [
    {
     "data": {
      "text/plain": [
       "3×3 Matrix{Int64}:\n",
       " 1  1  0\n",
       " 1  1  1\n",
       " 0  1  0"
      ]
     },
     "metadata": {},
     "output_type": "display_data"
    },
    {
     "data": {
      "text/plain": [
       "3×3 Matrix{Int64}:\n",
       " 2  2  0\n",
       " 2  2  2\n",
       " 0  2  0"
      ]
     },
     "metadata": {},
     "output_type": "display_data"
    },
    {
     "data": {
      "text/plain": [
       "3×3 Matrix{Int64}:\n",
       " 4  4  2\n",
       " 4  6  2\n",
       " 2  2  2"
      ]
     },
     "metadata": {},
     "output_type": "display_data"
    },
    {
     "data": {
      "text/plain": [
       "3×3 Matrix{Int64}:\n",
       " 2  2  0\n",
       " 2  2  2\n",
       " 0  2  0"
      ]
     },
     "metadata": {},
     "output_type": "display_data"
    },
    {
     "data": {
      "text/plain": [
       "true"
      ]
     },
     "execution_count": 101,
     "metadata": {},
     "output_type": "execute_result"
    }
   ],
   "source": [
    "λ = 2\n",
    "M = A*λ # Multiplicando por um escalar\n",
    "display(M)\n",
    "\n",
    "u = A*x # Multiplicação por um vetor\n",
    "\n",
    "display(A * M)  # Multiplicação matricial\n",
    "display(A .* M) # Multiplicando elemento por elemento. O mesmo funciona para vetores.\n",
    "                # Perceba que o \".\" é o operador de broadcasting, ele \"vetoriza\" a operação.\n",
    "A + M == A .+ M # No caso da soma, por exemplo, a soma com ou sem o broadcast funciona igualmente."
   ]
  },
  {
   "cell_type": "markdown",
   "id": "3b4f4ba6-bce0-4942-8cab-ed966bae2ecd",
   "metadata": {},
   "source": [
    "Além do produto interno e da multiplicação de elemento a elemento, temos também o *cross product*.\n",
    "Enquanto o produto interno é dado por\n",
    "$$\n",
    "\\langle v, u \\rangle = u^T v = \\sum^n_{i=1} v_i u_i,\n",
    "$$\n",
    "o \"produto vetorial\" é dado por\n",
    "$$\n",
    "v \\otimes u = v u^T =\n",
    "\\begin{bmatrix} \n",
    "u_1 v_1 & u_2v_1& u_3v_1\\\\\n",
    "u_1 v_2 & u_2v_2& u_3v_2\\\\\n",
    "u_1 v_3 & u_2v_3& u_3v_3\\\\\n",
    "\\end{bmatrix}.\n",
    "$$\n",
    "Diferente do produto interno para vetores reais, não temos comutativdade, ou seja,\n",
    "$u\\otimes v \\neq v \\otimes u$."
   ]
  },
  {
   "cell_type": "code",
   "execution_count": 19,
   "id": "10da931e-ef31-4ecf-b2d3-e9795a462703",
   "metadata": {},
   "outputs": [
    {
     "data": {
      "text/plain": [
       "3-element Vector{Int64}:\n",
       "  0\n",
       "  1\n",
       " -2"
      ]
     },
     "execution_count": 19,
     "metadata": {},
     "output_type": "execute_result"
    }
   ],
   "source": [
    "# Para vetores de 3 dimensões, podemos escrever o produto vetorial da usando o símbolo ×\n",
    "v = [1, 2, 1]\n",
    "u = [3, 4, 2]\n",
    "v × u"
   ]
  },
  {
   "cell_type": "markdown",
   "id": "f5bfcfaa-a77d-48b3-a839-4ca9722c1a99",
   "metadata": {},
   "source": [
    "## **3. Dimensões, Rank, Diagonal, Inversa, Transposta, Exponencial, Autovalores, Autovetores...**"
   ]
  },
  {
   "cell_type": "code",
   "execution_count": 65,
   "id": "0ae4495e-4d08-4cb1-9843-8794f5fbd037",
   "metadata": {},
   "outputs": [
    {
     "name": "stdout",
     "output_type": "stream",
     "text": [
      "rank(A) = 3\n",
      "A' = [1 3 6; 1 4 7; 2 5 8]\n"
     ]
    },
    {
     "data": {
      "text/plain": [
       "3×3 Matrix{Float64}:\n",
       "  1.0  -2.0        1.0\n",
       " -2.0   1.33333   -0.333333\n",
       "  1.0   0.333333  -0.333333"
      ]
     },
     "execution_count": 65,
     "metadata": {},
     "output_type": "execute_result"
    }
   ],
   "source": [
    "A = [1 1 2\n",
    "     3 4 5\n",
    "     6 7 8]\n",
    "\n",
    "diag(A)        # Extrai valores da Diagonal\n",
    "\n",
    "@show rank(A)  # Retorna o rank da matriz\n",
    "\n",
    "@show A'       # Transposta\n",
    "\n",
    "inv(A)         # Invertendo matriz\n",
    "A^(-1)         # Pode-se elevar por -1 para inverter"
   ]
  },
  {
   "cell_type": "markdown",
   "id": "adeb26d8-9fce-458e-bcbb-0b1dbd85a7eb",
   "metadata": {},
   "source": [
    "Caso a matriz não tenha inversa, podemos utlizar a pseudo-inversa."
   ]
  },
  {
   "cell_type": "code",
   "execution_count": 78,
   "id": "74ea4107-5a92-4ccb-b315-9be297aa5f09",
   "metadata": {},
   "outputs": [
    {
     "data": {
      "text/plain": [
       "true"
      ]
     },
     "execution_count": 78,
     "metadata": {},
     "output_type": "execute_result"
    }
   ],
   "source": [
    "A = [0 1\n",
    "     1 1\n",
    "     3 4\n",
    "     6 7]\n",
    "\n",
    "# Quando a matriz A tem rank cheio, podemos calcular a pseudo-inversa\n",
    "# como mostrado abaixo. Isso equivale a função `pinv` em Julia.\n",
    "(A'*A)^-1*A' ≈ pinv(A)"
   ]
  },
  {
   "cell_type": "code",
   "execution_count": 210,
   "id": "50d833b5-45f9-4633-a17c-d50dbca0f9f1",
   "metadata": {},
   "outputs": [
    {
     "data": {
      "text/plain": [
       "2×2 Matrix{Float64}:\n",
       " 1.0  0.0\n",
       " 0.0  1.0"
      ]
     },
     "metadata": {},
     "output_type": "display_data"
    },
    {
     "data": {
      "text/plain": [
       "2×2 Matrix{Float64}:\n",
       " 2.71828  0.0\n",
       " 0.0      2.71828"
      ]
     },
     "metadata": {},
     "output_type": "display_data"
    },
    {
     "name": "stdout",
     "output_type": "stream",
     "text": [
      "Traço de A =2.0\n",
      "Determinante de A =1.0\n",
      "Dimensão de A é (2, 2)\n",
      "Dimensão de u é (1, 3)\n"
     ]
    }
   ],
   "source": [
    "A = Matrix(1.0I, 2, 2)\n",
    "\n",
    "display(A)\n",
    "display(exp(A))# Exponencial da matriz basta aplicar a função de exp\n",
    "u = [1 1 3]\n",
    "\n",
    "\n",
    "println(\"Traço de A =\", tr(A)) # Traço da matriz\n",
    "println(\"Determinante de A =\", det(A)) # Traço da matriz\n",
    "println(\"Dimensão de A é \", size(A))\n",
    "println(\"Dimensão de u é \", size(u))"
   ]
  },
  {
   "cell_type": "markdown",
   "id": "f65e0523-90ee-42fe-9c7c-09b7399d0d27",
   "metadata": {},
   "source": [
    "Vamos calcular os autovalores e autovetores. "
   ]
  },
  {
   "cell_type": "code",
   "execution_count": 265,
   "id": "8ce06820-91ce-4678-ac2a-635254e1a544",
   "metadata": {},
   "outputs": [
    {
     "name": "stdout",
     "output_type": "stream",
     "text": [
      "true\n",
      "true\n"
     ]
    },
    {
     "data": {
      "text/plain": [
       "(1.0 - 1.0im, 1.0 + 1.0im)"
      ]
     },
     "execution_count": 265,
     "metadata": {},
     "output_type": "execute_result"
    }
   ],
   "source": [
    "A = [1 -1\n",
    "     1  1]\n",
    "λ1, λ2 = eigvals(A)\n",
    "v      = eigvecs(A)\n",
    "v1     = v[:,1]\n",
    "v2     = v[:,2];\n",
    "println(A*v1 == λ1 *v1)\n",
    "println(A*v2 == λ2 *v2)\n",
    "λ1, λ2 # Julia retorna números complexos!"
   ]
  },
  {
   "cell_type": "markdown",
   "id": "02d25fe4-b7bc-4ffc-bbe1-4064e1a24f21",
   "metadata": {},
   "source": [
    "## **4. Slicing**\n",
    "Slicing consiste em vazer \"cortes\" obtendo os elementos desejados de uma matriz.\n",
    "Em Julia, é especialmente fácil obter colunas e linhas específicas de uma matriz. Entretanto,\n",
    "como veremos a seguir, para extrair uma lista de elementos específicos é um pouco mais verboso, porém,\n",
    "nada muito complexo."
   ]
  },
  {
   "cell_type": "code",
   "execution_count": 20,
   "id": "f4c7a8b6-4eb5-4d15-9a91-c968f036f7d4",
   "metadata": {},
   "outputs": [
    {
     "data": {
      "text/plain": [
       "7"
      ]
     },
     "execution_count": 20,
     "metadata": {},
     "output_type": "execute_result"
    }
   ],
   "source": [
    "A = [1 2 3\n",
    "     4 5 6\n",
    "     7 8 9]\n",
    "\n",
    "# A[i,j] o primeiro índice é a linha e o segundo é a coluna.\n",
    "A[3,1]"
   ]
  },
  {
   "cell_type": "markdown",
   "id": "897b7a17-5e5e-43c4-b853-b707d0a672f4",
   "metadata": {},
   "source": [
    "Para selecionar todas as linhas ou todas as colunas, use \":\"."
   ]
  },
  {
   "cell_type": "code",
   "execution_count": 21,
   "id": "cd874082-a0b7-45d3-9266-936024d23f36",
   "metadata": {},
   "outputs": [
    {
     "data": {
      "text/plain": [
       "3-element Vector{Int64}:\n",
       " 1\n",
       " 4\n",
       " 7"
      ]
     },
     "execution_count": 21,
     "metadata": {},
     "output_type": "execute_result"
    }
   ],
   "source": [
    "A[:,1] # Priemeira coluna"
   ]
  },
  {
   "cell_type": "code",
   "execution_count": 22,
   "id": "9173950f-396d-447b-ac0d-386d98a124f4",
   "metadata": {},
   "outputs": [
    {
     "data": {
      "text/plain": [
       "3-element Vector{Int64}:\n",
       " 4\n",
       " 5\n",
       " 6"
      ]
     },
     "execution_count": 22,
     "metadata": {},
     "output_type": "execute_result"
    }
   ],
   "source": [
    "A[2,:] # Segunda linha, mas retorna como vetor"
   ]
  },
  {
   "cell_type": "code",
   "execution_count": 23,
   "id": "8278c895-54e5-4d42-aafd-f6ff39fda184",
   "metadata": {},
   "outputs": [
    {
     "data": {
      "text/plain": [
       "1×3 Matrix{Int64}:\n",
       " 4  5  6"
      ]
     },
     "execution_count": 23,
     "metadata": {},
     "output_type": "execute_result"
    }
   ],
   "source": [
    "A[[2],:] # Segunda linha, mas retorna como matriz 1x3"
   ]
  },
  {
   "cell_type": "markdown",
   "id": "c77e8ab9-ba19-4ea1-833d-8b6c1df9a8e8",
   "metadata": {},
   "source": [
    "Aqui as coisas ficaram um pouco mais verbosas. Se quisermos selecionar\n",
    "vários elementos de uma matriz através de uma lista qualquer\n",
    "de índices, infelizmente não podemos simplesmente passar uma lista\n",
    "de índices como [(1,2),(1,3),(3,3)].\n",
    "\n",
    "Uma primeira maneira de selecionar vários elementos através de uma lista de índices\n",
    "é transformando esses índices em o que chamamos de LinearIndex. Em Julia,\n",
    "uma matrix nxd pode ser vista como um Array de nd elementos, construida através\n",
    "da concatenação de cada coluna, e.g.:\n",
    "```\n",
    "|1 2 3|    --- >    |1 4 2 5 3 6|\n",
    "|4 5 6| \n",
    "```\n",
    "\n",
    "Assim, `A[2] = 4`. Logo, na matriz 3x3 o índice $(i,j)$ equivale a $i + 3(j-1)$.\n",
    "Podemos assim converter cada tupla em um índice linear e passar essa lista\n",
    "para selecionar cada elemento.\n",
    "\n",
    "Felizmente, existe uma forma mais elegante, utilizando `CartersianIndex`.\n",
    "Esse é um tipo de variável em Julia que justamente indica que estamos\n",
    "querendo selecionar um índice em uma matriz (ou em um array multidimensional."
   ]
  },
  {
   "cell_type": "code",
   "execution_count": 76,
   "id": "7b56853b-2cf7-4c9e-b939-40c246ee1146",
   "metadata": {},
   "outputs": [
    {
     "data": {
      "text/plain": [
       "3-element Vector{Int64}:\n",
       " 2\n",
       " 6\n",
       " 9"
      ]
     },
     "execution_count": 76,
     "metadata": {},
     "output_type": "execute_result"
    }
   ],
   "source": [
    "A = [1 2 3\n",
    "     4 5 6\n",
    "     7 8 9]\n",
    "\n",
    "indices = [(1,2),(2,3),(3,3)]\n",
    "A[CartesianIndex.(indices)] # Usamos o . para fazer o broadcasting"
   ]
  },
  {
   "cell_type": "markdown",
   "id": "86ecbc8d-72db-46e5-820c-b2aa95959eeb",
   "metadata": {},
   "source": [
    "Para alterar os valores da matriz, basta, por exemplo, selecionar o índice e fazer `A[1,2] = 10`.\n",
    "Caso se queira modificar vários elementos ao mesmo tempo,\n",
    "devemos utilizar o operador \".\" de broadcasting."
   ]
  },
  {
   "cell_type": "code",
   "execution_count": 77,
   "id": "5759256a-0a41-4355-89f1-6ed6df0ea334",
   "metadata": {},
   "outputs": [
    {
     "data": {
      "text/plain": [
       "3×3 Matrix{Int64}:\n",
       " 20  2  3\n",
       "  4  5  6\n",
       "  7  8  9"
      ]
     },
     "execution_count": 77,
     "metadata": {},
     "output_type": "execute_result"
    }
   ],
   "source": [
    "A[1,1] = 20\n",
    "A"
   ]
  },
  {
   "cell_type": "code",
   "execution_count": 78,
   "id": "2d86d2f7-ff6b-42e4-9cb0-f2ac8d6d4ddc",
   "metadata": {},
   "outputs": [
    {
     "data": {
      "text/plain": [
       "3×3 Matrix{Int64}:\n",
       " 10  2  3\n",
       " 10  5  6\n",
       " 10  8  9"
      ]
     },
     "execution_count": 78,
     "metadata": {},
     "output_type": "execute_result"
    }
   ],
   "source": [
    "A[:,1] .= 10\n",
    "A"
   ]
  },
  {
   "cell_type": "code",
   "execution_count": 81,
   "id": "95062d1f-48f2-4cbc-ad05-f71088ff41e4",
   "metadata": {},
   "outputs": [
    {
     "data": {
      "text/plain": [
       "3×3 Matrix{Int64}:\n",
       "  0  20  30\n",
       " 10   5   6\n",
       " 10   8   9"
      ]
     },
     "execution_count": 81,
     "metadata": {},
     "output_type": "execute_result"
    }
   ],
   "source": [
    "A[1,:] .= [0,20,30]\n",
    "A"
   ]
  },
  {
   "cell_type": "markdown",
   "id": "12893639-658d-4254-9a6e-3a4a074b43b0",
   "metadata": {},
   "source": [
    "Uma observação importante. Assim como em Python,\n",
    "temos que ter cuidado ao copiar vetores e matrizes, pois\n",
    "um simplex \"x = y\" irá na verdade criar uma relação entre as duas variáveis.\n",
    "Observe:"
   ]
  },
  {
   "cell_type": "code",
   "execution_count": 62,
   "id": "379ef625-51bb-42b9-9981-c4768ce4984c",
   "metadata": {},
   "outputs": [
    {
     "data": {
      "text/plain": [
       "3-element Vector{Int64}:\n",
       " 1\n",
       " 1\n",
       " 3"
      ]
     },
     "metadata": {},
     "output_type": "display_data"
    }
   ],
   "source": [
    "y = [1,1,1]\n",
    "x = y\n",
    "x[3] = 3\n",
    "display(y)"
   ]
  },
  {
   "cell_type": "markdown",
   "id": "ed1fdd22-ccb3-4747-867f-5b036ecd67eb",
   "metadata": {},
   "source": [
    "Usando `copy` a variável original se mantém igual. "
   ]
  },
  {
   "cell_type": "code",
   "execution_count": 66,
   "id": "d6805937-0aee-4fef-99d4-1c6be151a1f5",
   "metadata": {},
   "outputs": [
    {
     "data": {
      "text/plain": [
       "3-element Vector{Int64}:\n",
       " 1\n",
       " 1\n",
       " 3"
      ]
     },
     "execution_count": 66,
     "metadata": {},
     "output_type": "execute_result"
    }
   ],
   "source": [
    "a = copy(y)\n",
    "a[3] = 10\n",
    "y"
   ]
  },
  {
   "cell_type": "markdown",
   "id": "ab8b71dd-bc33-4ad3-ac9a-84e446e15e1c",
   "metadata": {},
   "source": [
    "## **5 Aplicando Funções**\n",
    "Algumas poucas palavras sobre a aplicação de funções. Primeiro ponto é perceber a\n",
    "diferença entre aplicar a função elemento a elemento ou em toda a matriz de uma vez.\n",
    "Como nos casos anteriores, o operador \".\" é responsável por garantir que a função\n",
    "seja aplicada em cada elemento."
   ]
  },
  {
   "cell_type": "code",
   "execution_count": 119,
   "id": "ec52afc9-a922-41b3-9b46-1df267db366e",
   "metadata": {},
   "outputs": [
    {
     "data": {
      "text/plain": [
       "true"
      ]
     },
     "execution_count": 119,
     "metadata": {},
     "output_type": "execute_result"
    }
   ],
   "source": [
    "A = [1 2 3\n",
    "     4 5 6\n",
    "     7 8 9]\n",
    "f(x) = x^2\n",
    "f(A) == A*A"
   ]
  },
  {
   "cell_type": "code",
   "execution_count": 120,
   "id": "9e00556b-8013-4dee-90cf-e689df7804b2",
   "metadata": {},
   "outputs": [
    {
     "data": {
      "text/plain": [
       "3×3 Matrix{Int64}:\n",
       "  1   4   9\n",
       " 16  25  36\n",
       " 49  64  81"
      ]
     },
     "execution_count": 120,
     "metadata": {},
     "output_type": "execute_result"
    }
   ],
   "source": [
    "f.(A) # Elevando cada elemento ao quadrado."
   ]
  },
  {
   "cell_type": "markdown",
   "id": "1864f8c7-5a68-40e3-9e83-f9a99c1093a9",
   "metadata": {},
   "source": [
    "Em Julia, é comum utilizar a exclamação (!) para indicar que uma função está atuando inplace.\n",
    "Por exemplo, eu posso criar duas funções `myfunc` e `myfunc!`, e a comunidade de Julia irá\n",
    "intuir que ambas fazem a mesma coisa, com a diferença que a segunda é inplace, ou seja,\n",
    "irá modificar o valor da variável que estou passando pra ela."
   ]
  },
  {
   "cell_type": "code",
   "execution_count": 121,
   "id": "844ed522-6c9d-4cee-af4f-cf0eca8434b6",
   "metadata": {},
   "outputs": [
    {
     "data": {
      "text/plain": [
       "3×3 Matrix{Int64}:\n",
       " 1  2  3\n",
       " 4  5  6\n",
       " 7  8  9"
      ]
     },
     "execution_count": 121,
     "metadata": {},
     "output_type": "execute_result"
    }
   ],
   "source": [
    "function f!(x)\n",
    "   x .= x^2    # Aqui o operador . está fazendo a função de inplace\n",
    "end\n",
    "A"
   ]
  },
  {
   "cell_type": "code",
   "execution_count": 122,
   "id": "8827c136-2af6-451d-b64d-df5ce2e89bdc",
   "metadata": {},
   "outputs": [
    {
     "data": {
      "text/plain": [
       "3×3 Matrix{Int64}:\n",
       "  30   36   42\n",
       "  66   81   96\n",
       " 102  126  150"
      ]
     },
     "execution_count": 122,
     "metadata": {},
     "output_type": "execute_result"
    }
   ],
   "source": [
    "f!(A)\n",
    "A"
   ]
  },
  {
   "cell_type": "markdown",
   "id": "04805667-1232-4a2d-a08d-76589b2b086e",
   "metadata": {},
   "source": [
    "## **6. Iterando em Vetores e Matrizes**\n",
    "Vamos concluir esse notebook falando sobre como iterar nos elementos de uma matriz.\n",
    "A primeira forma é clara, poderíamos simplemente escrever dois loops variando os índices `i` e `j`,\n",
    "e usar `A[i,j]`. Existe, porém, uma outra forma que é mais direta de se programar."
   ]
  },
  {
   "cell_type": "code",
   "execution_count": 30,
   "id": "1df075fb-6220-4be4-bc66-0a48dbb25af8",
   "metadata": {},
   "outputs": [
    {
     "data": {
      "text/plain": [
       "(2, 3)"
      ]
     },
     "execution_count": 30,
     "metadata": {},
     "output_type": "execute_result"
    }
   ],
   "source": [
    "size(A[1:2,:])"
   ]
  },
  {
   "cell_type": "code",
   "execution_count": 49,
   "id": "657bd923-d295-4a74-8136-55a105cae17d",
   "metadata": {},
   "outputs": [
    {
     "name": "stdout",
     "output_type": "stream",
     "text": [
      "123456789,123456789,\n",
      "1,1\n",
      "2,4\n",
      "3,7\n",
      "4,2\n",
      "5,5\n",
      "6,8\n",
      "7,3\n",
      "8,6\n",
      "9,9\n",
      "[1, 2, 3]\n",
      "[4, 5, 6]\n",
      "[7, 8, 9]\n",
      "[1, 4, 7]\n",
      "[2, 5, 8]\n",
      "[3, 6, 9]\n"
     ]
    }
   ],
   "source": [
    "A = [1 2 3\n",
    "     4 5 6\n",
    "     7 8 9]\n",
    "\n",
    "# Formato 1\n",
    "for i = 1:size(A)[1]      # Note que abaixo escrevemos diferente só para mostrar que Julia aceita diferentes maneiras.\n",
    "    for j in 1:size(A)[2] # Aqui, podemos tanto usar o sinal \"=\" como \"in\".\n",
    "        print(A[i,j])\n",
    "    end\n",
    "end\n",
    "print(\",\")\n",
    "\n",
    "\n",
    "# Formato 2 - Julia nos permite uma maneira limpa de escrever loops dentro de loops\n",
    "for i = 1:size(A)[1], j = 1:size(A)[2]\n",
    "        print(A[i,j])\n",
    "end\n",
    "println(\",\")\n",
    "\n",
    "# Formato 3 - Aqui, o índice é no formato \"corrido\", lembrando que a matriz \"empilha\" as colunas, ou seja, para\n",
    "# matriz 3x3, o índice 4 representa a linha 1 coluna 2. Já explicamos isso na seção de Slicing.\n",
    "for (i,e) in enumerate(A)\n",
    "    println(i,\",\",e)\n",
    "end\n",
    "\n",
    "# Aqui mostramos como iterar diretamente por linha e coluna.\n",
    "for r in eachrow(A)\n",
    "    println(r)\n",
    "end\n",
    "\n",
    "for c in eachcol(A)\n",
    "    println(c)\n",
    "end"
   ]
  },
  {
   "cell_type": "markdown",
   "id": "b2606fe4-0ab8-4052-9ab2-f3a73b7a069d",
   "metadata": {},
   "source": [
    "----\n",
    "Concluímos essa seção de conceitos básico de Álgebra Linear.\n",
    "Nos notebooks seguintes vamos entrar em alguns assuntos mais avançados,\n",
    "como decomposição SVD. Porém, com o que foi apresentado aqui, você já poderia\n",
    "programar, por exemplo, a decomposição SVD sem utilizar a função nativa de Julia."
   ]
  }
 ],
 "metadata": {
  "kernelspec": {
   "display_name": "JuliaMakie 1.6.1",
   "language": "julia",
   "name": "juliamakie-1.6"
  },
  "language_info": {
   "file_extension": ".jl",
   "mimetype": "application/julia",
   "name": "julia",
   "version": "1.6.1"
  }
 },
 "nbformat": 4,
 "nbformat_minor": 5
}
