{
 "cells": [
  {
   "cell_type": "code",
   "execution_count": 79,
   "id": "b70ee2eb-642b-4dae-b0fd-fea2880753b9",
   "metadata": {},
   "outputs": [],
   "source": [
    "using OptimalTransport\n",
    "using Distances\n",
    "using Tulip\n",
    "using CairoMakie\n",
    "\n",
    "using LinearAlgebra\n",
    "using Random"
   ]
  },
  {
   "cell_type": "code",
   "execution_count": 80,
   "id": "cdb36b88-fdb1-47c3-a902-0506abe31648",
   "metadata": {},
   "outputs": [],
   "source": [
    "Random.seed!(1234)\n",
    "M = 5\n",
    "μ = normalize!(rand(M),1)\n",
    "μsupport = rand(M,2)\n",
    "\n",
    "N = 5\n",
    "ν = normalize!(rand(N),1)\n",
    "νsupport = rand(N,2);\n",
    "\n",
    "C = pairwise(sqeuclidean, μsupport', νsupport'; dims=2);\n",
    "C2 = pairwise(euclidean, μsupport', νsupport'; dims=2);"
   ]
  },
  {
   "cell_type": "code",
   "execution_count": 81,
   "id": "ff118ae1-01c7-4890-a01f-1fdc86436c70",
   "metadata": {},
   "outputs": [],
   "source": [
    "γ = emd(μ, ν, C, Tulip.Optimizer());"
   ]
  },
  {
   "cell_type": "code",
   "execution_count": 82,
   "id": "cc563832-d26c-4987-80a2-d2ba6f425e01",
   "metadata": {},
   "outputs": [],
   "source": [
    "γ2 = emd(μ, ν, C2, Tulip.Optimizer());"
   ]
  },
  {
   "cell_type": "code",
   "execution_count": 83,
   "id": "5169a11e-4a7c-4df5-b61c-cf5b4e7683d9",
   "metadata": {},
   "outputs": [
    {
     "data": {
      "text/plain": [
       "5×5 Matrix{Float64}:\n",
       "  7.0195e-12   1.45888e-11  0.185918     4.48367e-12  5.87312e-11\n",
       "  0.0579965    0.142314     4.4029e-10   0.0292043    0.0117693\n",
       "  6.38318e-10  2.47574e-9   3.88487e-9   1.71263e-10  0.178175\n",
       " -9.57278e-13  3.82883e-13  3.94263e-11  1.2163e-12   0.144772\n",
       "  6.69401e-12  1.263e-11    0.150074     9.43707e-12  0.099778"
      ]
     },
     "execution_count": 83,
     "metadata": {},
     "output_type": "execute_result"
    }
   ],
   "source": [
    "γ"
   ]
  },
  {
   "cell_type": "code",
   "execution_count": 84,
   "id": "5b2c1673-6615-4564-8dc2-c80d600293c3",
   "metadata": {},
   "outputs": [
    {
     "data": {
      "text/plain": [
       "5×5 Matrix{Float64}:\n",
       " 5.12407e-9  7.78447e-9  0.185918    4.22327e-9  1.72425e-7\n",
       " 0.0579963   0.142313    0.0117687   0.0292038   1.46565e-6\n",
       " 2.01421e-7  2.47701e-7  0.138305    3.98083e-7  0.0398689\n",
       " 5.44494e-9  7.26134e-9  5.31506e-8  5.97496e-9  0.144772\n",
       " 5.41829e-9  7.66549e-9  5.75379e-8  5.76691e-9  0.249851"
      ]
     },
     "execution_count": 84,
     "metadata": {},
     "output_type": "execute_result"
    },
    {
     "name": "stderr",
     "output_type": "stream",
     "text": [
      "WARNING: both CairoMakie and Plots export \"scatter\"; uses of it in module Main must be qualified\n",
      "WARNING: both CairoMakie and Plots export \"scatter!\"; uses of it in module Main must be qualified\n"
     ]
    }
   ],
   "source": [
    "γ2"
   ]
  },
  {
   "cell_type": "code",
   "execution_count": null,
   "id": "16077d44-695e-4f85-a8e5-fe0b718b7b0f",
   "metadata": {},
   "outputs": [],
   "source": []
  }
 ],
 "metadata": {
  "kernelspec": {
   "display_name": "JuliaFlux 1.6.3",
   "language": "julia",
   "name": "juliaflux-1.6"
  },
  "language_info": {
   "file_extension": ".jl",
   "mimetype": "application/julia",
   "name": "julia",
   "version": "1.6.3"
  }
 },
 "nbformat": 4,
 "nbformat_minor": 5
}
