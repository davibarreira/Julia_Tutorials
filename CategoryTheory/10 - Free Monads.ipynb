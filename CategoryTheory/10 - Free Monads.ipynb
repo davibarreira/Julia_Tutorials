{
 "cells": [
  {
   "cell_type": "markdown",
   "id": "c8257f90-4a7e-4a4b-b6d9-091a81014e53",
   "metadata": {},
   "source": [
    "# Free Monads"
   ]
  },
  {
   "cell_type": "code",
   "execution_count": 8,
   "id": "b598e109-e54a-4683-9920-5fea695ad46f",
   "metadata": {},
   "outputs": [
    {
     "name": "stderr",
     "output_type": "stream",
     "text": [
      "\u001b[32m\u001b[1m  Activating\u001b[22m\u001b[39m project at `~/MEGA/EMAP/Julia_Tutorials/CategoryTheory`\n"
     ]
    }
   ],
   "source": [
    "using Pkg\n",
    "Pkg.activate(\".\")\n",
    "using MLStyle\n",
    "using Functors"
   ]
  },
  {
   "cell_type": "code",
   "execution_count": null,
   "id": "07503710-88b0-497f-920a-8850b2c89137",
   "metadata": {},
   "outputs": [],
   "source": [
    "struct Just{T}\n",
    "    _1::T\n",
    "end\n",
    "struct Nothing end\n",
    "Maybe{T} = Union{Just{T}, Nothing};\n",
    "\n",
    "fmap(f::Function, x::Nothing) = Nothing()\n",
    "fmap(f::Function, x::Just)    = Just(f(x._1))\n",
    "\n",
    "\n",
    "unit(x) = Just(x) #η\n",
    "bind(m::Nothing, f::Function) = Nothing()\n",
    "bind(m::Just, f::Function) = f(m._1)"
   ]
  },
  {
   "cell_type": "code",
   "execution_count": null,
   "id": "5d0d2595-1ed6-4f7d-93c1-aa87b2181979",
   "metadata": {},
   "outputs": [],
   "source": [
    "abstract type M end\n",
    "struct J{T} <: M\n",
    "    _1::T\n",
    "end\n",
    "struct Nil <: M end"
   ]
  },
  {
   "cell_type": "code",
   "execution_count": null,
   "id": "7ffc551b-854f-4a7b-81c2-511c13baafbe",
   "metadata": {},
   "outputs": [],
   "source": [
    "Just{Nothing()}"
   ]
  },
  {
   "cell_type": "code",
   "execution_count": null,
   "id": "a1a03044-7e80-4395-b3c9-3e4b757069c3",
   "metadata": {},
   "outputs": [],
   "source": [
    "Just(Just(Nothing()))"
   ]
  },
  {
   "cell_type": "code",
   "execution_count": null,
   "id": "a66ec7ab-1541-49e3-aadd-af2b8794f8e7",
   "metadata": {},
   "outputs": [],
   "source": [
    "typeof(Just(Just(10))) <: Just{Just{Int}}"
   ]
  }
 ],
 "metadata": {
  "kernelspec": {
   "display_name": "Julia 1.9.1",
   "language": "julia",
   "name": "julia-1.9"
  },
  "language_info": {
   "file_extension": ".jl",
   "mimetype": "application/julia",
   "name": "julia",
   "version": "1.9.1"
  }
 },
 "nbformat": 4,
 "nbformat_minor": 5
}
