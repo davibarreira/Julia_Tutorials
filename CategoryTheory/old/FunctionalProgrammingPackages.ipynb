{
 "cells": [
  {
   "cell_type": "code",
   "execution_count": 1,
   "id": "a0c25186-0f7e-498d-b374-c5fe783df190",
   "metadata": {},
   "outputs": [
    {
     "name": "stderr",
     "output_type": "stream",
     "text": [
      "\u001b[32m\u001b[1m  Activating\u001b[22m\u001b[39m new project at `~/Main/EMAp/Julia_Tutorials/FunctionalProgramming`\n"
     ]
    }
   ],
   "source": [
    "using Pkg\n",
    "Pkg.activate(\".\")"
   ]
  },
  {
   "cell_type": "code",
   "execution_count": 2,
   "id": "cc27a969-6a97-40bc-9f13-11bcb7a9ef3a",
   "metadata": {},
   "outputs": [
    {
     "name": "stderr",
     "output_type": "stream",
     "text": [
      "\u001b[32m\u001b[1m    Updating\u001b[22m\u001b[39m registry at `~/.julia/registries/General.toml`\n",
      "\u001b[32m\u001b[1m   Resolving\u001b[22m\u001b[39m package versions...\n",
      "\u001b[32m\u001b[1m   Installed\u001b[22m\u001b[39m MLStyle ─ v0.4.13\n",
      "\u001b[32m\u001b[1m    Updating\u001b[22m\u001b[39m `~/Main/EMAp/Julia_Tutorials/FunctionalProgramming/Project.toml`\n",
      " \u001b[90m [d8e11817] \u001b[39m\u001b[92m+ MLStyle v0.4.13\u001b[39m\n",
      "\u001b[32m\u001b[1m    Updating\u001b[22m\u001b[39m `~/Main/EMAp/Julia_Tutorials/FunctionalProgramming/Manifest.toml`\n",
      " \u001b[90m [d8e11817] \u001b[39m\u001b[92m+ MLStyle v0.4.13\u001b[39m\n",
      "\u001b[32m\u001b[1mPrecompiling\u001b[22m\u001b[39m project...\n",
      "\u001b[32m  ✓ \u001b[39mMLStyle\n",
      "  1 dependency successfully precompiled in 10 seconds\n",
      "\u001b[32m\u001b[1m   Resolving\u001b[22m\u001b[39m package versions...\n",
      "\u001b[32m\u001b[1m   Installed\u001b[22m\u001b[39m Adapt ────────────── v3.4.0\n",
      "\u001b[32m\u001b[1m   Installed\u001b[22m\u001b[39m Accessors ────────── v0.1.18\n",
      "\u001b[32m\u001b[1m   Installed\u001b[22m\u001b[39m Folds ────────────── v0.2.8\n",
      "\u001b[32m\u001b[1m   Installed\u001b[22m\u001b[39m ThreadedScans ────── v0.1.0\n",
      "\u001b[32m\u001b[1m   Installed\u001b[22m\u001b[39m ExternalDocstrings ─ v0.1.1\n",
      "\u001b[32m\u001b[1m    Updating\u001b[22m\u001b[39m `~/Main/EMAp/Julia_Tutorials/FunctionalProgramming/Project.toml`\n",
      " \u001b[90m [41a02a25] \u001b[39m\u001b[92m+ Folds v0.2.8\u001b[39m\n",
      "\u001b[32m\u001b[1m    Updating\u001b[22m\u001b[39m `~/Main/EMAp/Julia_Tutorials/FunctionalProgramming/Manifest.toml`\n",
      " \u001b[90m [7d9f7c33] \u001b[39m\u001b[92m+ Accessors v0.1.18\u001b[39m\n",
      " \u001b[90m [79e6a3ab] \u001b[39m\u001b[92m+ Adapt v3.4.0\u001b[39m\n",
      " \u001b[90m [dce04be8] \u001b[39m\u001b[92m+ ArgCheck v2.3.0\u001b[39m\n",
      " \u001b[90m [198e06fe] \u001b[39m\u001b[92m+ BangBang v0.3.36\u001b[39m\n",
      " \u001b[90m [9718e550] \u001b[39m\u001b[92m+ Baselet v0.1.1\u001b[39m\n",
      " \u001b[90m [34da2185] \u001b[39m\u001b[92m+ Compat v3.45.0\u001b[39m\n",
      " \u001b[90m [a33af91c] \u001b[39m\u001b[92m+ CompositionsBase v0.1.1\u001b[39m\n",
      " \u001b[90m [187b0558] \u001b[39m\u001b[92m+ ConstructionBase v1.4.0\u001b[39m\n",
      " \u001b[90m [9a962f9c] \u001b[39m\u001b[92m+ DataAPI v1.10.0\u001b[39m\n",
      " \u001b[90m [e2d170a0] \u001b[39m\u001b[92m+ DataValueInterfaces v1.0.0\u001b[39m\n",
      " \u001b[90m [244e2a9f] \u001b[39m\u001b[92m+ DefineSingletons v0.1.2\u001b[39m\n",
      " \u001b[90m [e189563c] \u001b[39m\u001b[92m+ ExternalDocstrings v0.1.1\u001b[39m\n",
      " \u001b[90m [41a02a25] \u001b[39m\u001b[92m+ Folds v0.2.8\u001b[39m\n",
      " \u001b[90m [22cec73e] \u001b[39m\u001b[92m+ InitialValues v0.3.1\u001b[39m\n",
      " \u001b[90m [3587e190] \u001b[39m\u001b[92m+ InverseFunctions v0.1.7\u001b[39m\n",
      " \u001b[90m [82899510] \u001b[39m\u001b[92m+ IteratorInterfaceExtensions v1.0.0\u001b[39m\n",
      " \u001b[90m [1914dd2f] \u001b[39m\u001b[92m+ MacroTools v0.5.9\u001b[39m\n",
      " \u001b[90m [128add7d] \u001b[39m\u001b[92m+ MicroCollections v0.1.2\u001b[39m\n",
      " \u001b[90m [bac558e1] \u001b[39m\u001b[92m+ OrderedCollections v1.4.1\u001b[39m\n",
      " \u001b[90m [42d2dcc6] \u001b[39m\u001b[92m+ Referenceables v0.1.2\u001b[39m\n",
      " \u001b[90m [ae029012] \u001b[39m\u001b[92m+ Requires v1.3.0\u001b[39m\n",
      " \u001b[90m [efcf1570] \u001b[39m\u001b[92m+ Setfield v0.8.2\u001b[39m\n",
      " \u001b[90m [171d559e] \u001b[39m\u001b[92m+ SplittablesBase v0.1.14\u001b[39m\n",
      " \u001b[90m [3783bdb8] \u001b[39m\u001b[92m+ TableTraits v1.0.1\u001b[39m\n",
      " \u001b[90m [bd369af6] \u001b[39m\u001b[92m+ Tables v1.7.0\u001b[39m\n",
      " \u001b[90m [24d252fe] \u001b[39m\u001b[92m+ ThreadedScans v0.1.0\u001b[39m\n",
      " \u001b[90m [28d57a85] \u001b[39m\u001b[92m+ Transducers v0.4.73\u001b[39m\n",
      " \u001b[90m [700de1a5] \u001b[39m\u001b[92m+ ZygoteRules v0.2.2\u001b[39m\n",
      " \u001b[90m [0dad84c5] \u001b[39m\u001b[92m+ ArgTools\u001b[39m\n",
      " \u001b[90m [56f22d72] \u001b[39m\u001b[92m+ Artifacts\u001b[39m\n",
      " \u001b[90m [2a0f44e3] \u001b[39m\u001b[92m+ Base64\u001b[39m\n",
      " \u001b[90m [ade2ca70] \u001b[39m\u001b[92m+ Dates\u001b[39m\n",
      " \u001b[90m [8bb1440f] \u001b[39m\u001b[92m+ DelimitedFiles\u001b[39m\n",
      " \u001b[90m [8ba89e20] \u001b[39m\u001b[92m+ Distributed\u001b[39m\n",
      " \u001b[90m [f43a241f] \u001b[39m\u001b[92m+ Downloads\u001b[39m\n",
      " \u001b[90m [9fa8497b] \u001b[39m\u001b[92m+ Future\u001b[39m\n",
      " \u001b[90m [b77e0a4c] \u001b[39m\u001b[92m+ InteractiveUtils\u001b[39m\n",
      " \u001b[90m [b27032c2] \u001b[39m\u001b[92m+ LibCURL\u001b[39m\n",
      " \u001b[90m [76f85450] \u001b[39m\u001b[92m+ LibGit2\u001b[39m\n",
      " \u001b[90m [8f399da3] \u001b[39m\u001b[92m+ Libdl\u001b[39m\n",
      " \u001b[90m [37e2e46d] \u001b[39m\u001b[92m+ LinearAlgebra\u001b[39m\n",
      " \u001b[90m [56ddb016] \u001b[39m\u001b[92m+ Logging\u001b[39m\n",
      " \u001b[90m [d6f4376e] \u001b[39m\u001b[92m+ Markdown\u001b[39m\n",
      " \u001b[90m [a63ad114] \u001b[39m\u001b[92m+ Mmap\u001b[39m\n",
      " \u001b[90m [ca575930] \u001b[39m\u001b[92m+ NetworkOptions\u001b[39m\n",
      " \u001b[90m [44cfe95a] \u001b[39m\u001b[92m+ Pkg\u001b[39m\n",
      " \u001b[90m [de0858da] \u001b[39m\u001b[92m+ Printf\u001b[39m\n",
      " \u001b[90m [3fa0cd96] \u001b[39m\u001b[92m+ REPL\u001b[39m\n",
      " \u001b[90m [9a3f8284] \u001b[39m\u001b[92m+ Random\u001b[39m\n",
      " \u001b[90m [ea8e919c] \u001b[39m\u001b[92m+ SHA\u001b[39m\n",
      " \u001b[90m [9e88b42a] \u001b[39m\u001b[92m+ Serialization\u001b[39m\n",
      " \u001b[90m [1a1011a3] \u001b[39m\u001b[92m+ SharedArrays\u001b[39m\n",
      " \u001b[90m [6462fe0b] \u001b[39m\u001b[92m+ Sockets\u001b[39m\n",
      " \u001b[90m [2f01184e] \u001b[39m\u001b[92m+ SparseArrays\u001b[39m\n",
      " \u001b[90m [10745b16] \u001b[39m\u001b[92m+ Statistics\u001b[39m\n",
      " \u001b[90m [fa267f1f] \u001b[39m\u001b[92m+ TOML\u001b[39m\n",
      " \u001b[90m [a4e569a6] \u001b[39m\u001b[92m+ Tar\u001b[39m\n",
      " \u001b[90m [8dfed614] \u001b[39m\u001b[92m+ Test\u001b[39m\n",
      " \u001b[90m [cf7118a7] \u001b[39m\u001b[92m+ UUIDs\u001b[39m\n",
      " \u001b[90m [4ec0a83e] \u001b[39m\u001b[92m+ Unicode\u001b[39m\n",
      " \u001b[90m [e66e0078] \u001b[39m\u001b[92m+ CompilerSupportLibraries_jll\u001b[39m\n",
      " \u001b[90m [deac9b47] \u001b[39m\u001b[92m+ LibCURL_jll\u001b[39m\n",
      " \u001b[90m [29816b5a] \u001b[39m\u001b[92m+ LibSSH2_jll\u001b[39m\n",
      " \u001b[90m [c8ffd9c3] \u001b[39m\u001b[92m+ MbedTLS_jll\u001b[39m\n",
      " \u001b[90m [14a3606d] \u001b[39m\u001b[92m+ MozillaCACerts_jll\u001b[39m\n",
      " \u001b[90m [4536629a] \u001b[39m\u001b[92m+ OpenBLAS_jll\u001b[39m\n",
      " \u001b[90m [83775a58] \u001b[39m\u001b[92m+ Zlib_jll\u001b[39m\n",
      " \u001b[90m [8e850b90] \u001b[39m\u001b[92m+ libblastrampoline_jll\u001b[39m\n",
      " \u001b[90m [8e850ede] \u001b[39m\u001b[92m+ nghttp2_jll\u001b[39m\n",
      " \u001b[90m [3f19e933] \u001b[39m\u001b[92m+ p7zip_jll\u001b[39m\n",
      "\u001b[32m\u001b[1mPrecompiling\u001b[22m\u001b[39m project...\n",
      "\u001b[32m  ✓ \u001b[39m\u001b[90mExternalDocstrings\u001b[39m\n",
      "\u001b[32m  ✓ \u001b[39m\u001b[90mAdapt\u001b[39m\n",
      "\u001b[32m  ✓ \u001b[39m\u001b[90mReferenceables\u001b[39m\n",
      "\u001b[32m  ✓ \u001b[39m\u001b[90mThreadedScans\u001b[39m\n",
      "\u001b[32m  ✓ \u001b[39m\u001b[90mSetfield\u001b[39m\n",
      "\u001b[32m  ✓ \u001b[39m\u001b[90mAccessors\u001b[39m\n",
      "\u001b[32m  ✓ \u001b[39m\u001b[90mSplittablesBase\u001b[39m\n",
      "\u001b[32m  ✓ \u001b[39m\u001b[90mBangBang\u001b[39m\n",
      "\u001b[32m  ✓ \u001b[39m\u001b[90mMicroCollections\u001b[39m\n",
      "\u001b[32m  ✓ \u001b[39m\u001b[90mTransducers\u001b[39m\n",
      "\u001b[32m  ✓ \u001b[39mFolds\n",
      "  11 dependencies successfully precompiled in 13 seconds (24 already precompiled)\n"
     ]
    }
   ],
   "source": [
    "Pkg.add(\"MLStyle\")\n",
    "Pkg.add(\"Folds\")"
   ]
  },
  {
   "cell_type": "code",
   "execution_count": null,
   "id": "4bbef55c-9e5c-4c21-bc3e-8fe6397fc040",
   "metadata": {},
   "outputs": [],
   "source": []
  }
 ],
 "metadata": {
  "kernelspec": {
   "display_name": "Julia (4 threads) 1.7.2",
   "language": "julia",
   "name": "julia-(4-threads)-1.7"
  },
  "language_info": {
   "file_extension": ".jl",
   "mimetype": "application/julia",
   "name": "julia",
   "version": "1.7.2"
  }
 },
 "nbformat": 4,
 "nbformat_minor": 5
}
