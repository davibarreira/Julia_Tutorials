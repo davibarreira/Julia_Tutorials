{
 "cells": [
  {
   "cell_type": "markdown",
   "id": "8ad74696-f951-45ff-9c9c-4ab198cadeac",
   "metadata": {},
   "source": [
    "# Getting Rid of For-Loops with Do-Block\n",
    "by: Nicolau Leal Werneck\n",
    "\n",
    "[Check this talk](https://live.juliacon.org/talk/WKNY78)"
   ]
  },
  {
   "cell_type": "markdown",
   "id": "03523db8-9fed-4369-a5a7-e008acac14c8",
   "metadata": {},
   "source": [
    "### A Simple Loop"
   ]
  },
  {
   "cell_type": "code",
   "execution_count": 3,
   "id": "b2d6d602-9024-4c25-aa7e-70d8a8b2aa60",
   "metadata": {},
   "outputs": [
    {
     "data": {
      "text/plain": [
       "3-element Vector{Int64}:\n",
       " 1\n",
       " 4\n",
       " 9"
      ]
     },
     "execution_count": 3,
     "metadata": {},
     "output_type": "execute_result"
    }
   ],
   "source": [
    "a1 = [j*j for j in 1:3]"
   ]
  },
  {
   "cell_type": "code",
   "execution_count": 4,
   "id": "4331f85b-db55-4202-9697-00cc41917d4a",
   "metadata": {},
   "outputs": [
    {
     "data": {
      "text/plain": [
       "3-element Vector{Int64}:\n",
       " 1\n",
       " 4\n",
       " 9"
      ]
     },
     "execution_count": 4,
     "metadata": {},
     "output_type": "execute_result"
    }
   ],
   "source": [
    "a1 = map(1:3) do j j*j end"
   ]
  },
  {
   "cell_type": "markdown",
   "id": "6bceccf1-eb45-4e57-8a8b-362425b74be5",
   "metadata": {},
   "source": [
    "### A Nested Loop"
   ]
  },
  {
   "cell_type": "code",
   "execution_count": 5,
   "id": "8cf567d3-fe4a-43ba-907e-f54a6d602101",
   "metadata": {},
   "outputs": [
    {
     "data": {
      "text/plain": [
       "12-element Vector{Int64}:\n",
       "  2\n",
       "  3\n",
       "  4\n",
       "  5\n",
       "  2\n",
       "  6\n",
       "  8\n",
       " 10\n",
       "  3\n",
       "  6\n",
       " 12\n",
       " 15"
      ]
     },
     "execution_count": 5,
     "metadata": {},
     "output_type": "execute_result"
    }
   ],
   "source": [
    "[j*k for j in 1:3 for k in 1:5 if j != k]"
   ]
  },
  {
   "cell_type": "code",
   "execution_count": 11,
   "id": "576e13a7-9019-4b68-9674-5ed6e630ae79",
   "metadata": {},
   "outputs": [
    {
     "data": {
      "text/plain": [
       "12-element Vector{Any}:\n",
       "  2\n",
       "  3\n",
       "  4\n",
       "  5\n",
       "  2\n",
       "  6\n",
       "  8\n",
       " 10\n",
       "  3\n",
       "  6\n",
       " 12\n",
       " 15"
      ]
     },
     "execution_count": 11,
     "metadata": {},
     "output_type": "execute_result"
    }
   ],
   "source": [
    "a = []\n",
    "for j in 1:3\n",
    "    for k in 1:5\n",
    "        j != k ? push!(a, j*k) : continue\n",
    "    end\n",
    "end\n",
    "a"
   ]
  },
  {
   "cell_type": "markdown",
   "id": "a59745ff-5842-4ec7-9bfc-a7eecfe0ab94",
   "metadata": {},
   "source": [
    "Let's now use the do-block. For this, we'll need to use `flatten` and create a `flatmap`. "
   ]
  },
  {
   "cell_type": "code",
   "execution_count": 16,
   "id": "b14a31aa-6c84-4dde-a3c0-03b0adef6153",
   "metadata": {},
   "outputs": [
    {
     "data": {
      "text/plain": [
       "6-element Vector{Any}:\n",
       " 1\n",
       " 2\n",
       " 3\n",
       "  'a': ASCII/Unicode U+0061 (category Ll: Letter, lowercase)\n",
       "  'b': ASCII/Unicode U+0062 (category Ll: Letter, lowercase)\n",
       "  'c': ASCII/Unicode U+0063 (category Ll: Letter, lowercase)"
      ]
     },
     "execution_count": 16,
     "metadata": {},
     "output_type": "execute_result"
    }
   ],
   "source": [
    "collect(Iterators.flatten((1:3,'a':'c')))"
   ]
  },
  {
   "cell_type": "code",
   "execution_count": 17,
   "id": "5508d3cb-a43c-44c7-a2a9-398e5cbea573",
   "metadata": {},
   "outputs": [
    {
     "data": {
      "text/plain": [
       "5-element Vector{Any}:\n",
       " 1\n",
       " 2\n",
       " 3\n",
       "  \"ok\"\n",
       "  \"nope\""
      ]
     },
     "execution_count": 17,
     "metadata": {},
     "output_type": "execute_result"
    }
   ],
   "source": [
    "collect(Iterators.flatten((1:3,[\"ok\", \"nope\"])))"
   ]
  },
  {
   "cell_type": "markdown",
   "id": "01491f75-5902-4d3a-bf33-448f5ac2138c",
   "metadata": {},
   "source": [
    "Note that `flatten` creates a generator that \"concatenates\" the two \"lists\"."
   ]
  },
  {
   "cell_type": "code",
   "execution_count": 19,
   "id": "de71703a-2e8c-411c-ac1b-a6c7757209d8",
   "metadata": {},
   "outputs": [],
   "source": [
    "flatmap(f,x) = collect(Iterators.flatten(map(f,x)));"
   ]
  },
  {
   "cell_type": "code",
   "execution_count": 24,
   "id": "ee898de0-3022-4091-b6f0-c0a6e256ae31",
   "metadata": {},
   "outputs": [
    {
     "data": {
      "text/plain": [
       "12-element Vector{Int64}:\n",
       "  2\n",
       "  3\n",
       "  4\n",
       "  5\n",
       "  2\n",
       "  6\n",
       "  8\n",
       " 10\n",
       "  3\n",
       "  6\n",
       " 12\n",
       " 15"
      ]
     },
     "execution_count": 24,
     "metadata": {},
     "output_type": "execute_result"
    }
   ],
   "source": [
    "flatmap(1:3) do j\n",
    "    flatmap(1:5) do k\n",
    "        j != k ? (j*k,) : ()\n",
    "    end\n",
    "end"
   ]
  },
  {
   "cell_type": "code",
   "execution_count": null,
   "id": "4a37493c-5ee3-4070-a99f-5d5f4580f4a0",
   "metadata": {},
   "outputs": [],
   "source": []
  }
 ],
 "metadata": {
  "kernelspec": {
   "display_name": "Julia (4 threads) 1.7.2",
   "language": "julia",
   "name": "julia-(4-threads)-1.7"
  },
  "language_info": {
   "file_extension": ".jl",
   "mimetype": "application/julia",
   "name": "julia",
   "version": "1.7.2"
  }
 },
 "nbformat": 4,
 "nbformat_minor": 5
}
