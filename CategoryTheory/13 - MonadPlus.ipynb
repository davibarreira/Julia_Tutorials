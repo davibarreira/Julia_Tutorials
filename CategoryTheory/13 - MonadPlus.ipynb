{
 "cells": [
  {
   "cell_type": "code",
   "execution_count": 1,
   "id": "a4985343-999d-4022-9dbe-f89113fb9b5f",
   "metadata": {},
   "outputs": [
    {
     "name": "stderr",
     "output_type": "stream",
     "text": [
      "\u001b[32m\u001b[1m  Activating\u001b[22m\u001b[39m project at `~/MEGA/EMAP/Julia_Tutorials/CategoryTheory`\n"
     ]
    }
   ],
   "source": [
    "using Pkg\n",
    "Pkg.activate(\".\")\n",
    "using MLStyle\n",
    "\n",
    "flatmap(f,v::Vector; init) = foldr(vcat, map(f,v), init=init);"
   ]
  },
  {
   "cell_type": "code",
   "execution_count": 2,
   "id": "c64b0117-5c2f-4922-9e71-a5cb81982fc3",
   "metadata": {},
   "outputs": [
    {
     "data": {
      "text/plain": [
       "univ (generic function with 1 method)"
      ]
     },
     "execution_count": 2,
     "metadata": {},
     "output_type": "execute_result"
    }
   ],
   "source": [
    "struct Leaf end\n",
    "struct Node{a}\n",
    "    _1::a\n",
    "    _2::Vector{Union{Leaf, Node{a}}} # Forest{a} = Vector{Tree{a}} = Vector{Union{Leaf, Node{a}}}\n",
    "end\n",
    "Tree{a} = Union{Leaf, Node{a}}\n",
    "Forest{a} = Vector{Tree{a}};\n",
    "\n",
    "Forest(n::Node{a}) where a = Tree{a}[n]\n",
    "zero(::Forest{a}) where a = Tree{a}[]\n",
    "one(::Forest{a}) where a  = Tree{a}[Leaf()]\n",
    "⊕(x::Forest, y::Forest)   = vcat(x,y)\n",
    "⊗(x::Forest, y::Forest)   = begin\n",
    "    g(::Leaf) = y\n",
    "    g(n::Node{a}) where a = Tree{a}[Node(n._1, n._2 ⊗ y)]\n",
    "    flatmap(g, x, init=zero(x))\n",
    "end\n",
    "\n",
    "inj(x::T) where T = Forest(Node{T}(x, one(Forest{T}())))\n",
    "univ(h::Function, xs::Forest) = begin\n",
    "    univT(::Leaf)  = one(xs)\n",
    "    univT(n::Node) = h(n._1) ⊕ univ(h, n._2)\n",
    "    foldr(⊕, map(univT(xs)))\n",
    "    end"
   ]
  },
  {
   "cell_type": "code",
   "execution_count": 4,
   "id": "a0e32dc8-d4cd-47a0-bc73-98e5e17204a8",
   "metadata": {},
   "outputs": [
    {
     "data": {
      "text/plain": [
       "Union{Leaf, Node{Int64}}[]"
      ]
     },
     "execution_count": 4,
     "metadata": {},
     "output_type": "execute_result"
    }
   ],
   "source": [
    "Forest{Int}()"
   ]
  },
  {
   "cell_type": "code",
   "execution_count": 3,
   "id": "38831656-603e-4148-b5c7-db9a6f195557",
   "metadata": {},
   "outputs": [
    {
     "data": {
      "text/plain": [
       "1-element Vector{Union{Leaf, Node{Float64}}}:\n",
       " Node{Float64}(10.0, Union{Leaf, Node{Float64}}[Leaf()])"
      ]
     },
     "execution_count": 3,
     "metadata": {},
     "output_type": "execute_result"
    }
   ],
   "source": [
    "inj(10.0)\n",
    "inj(10.0)"
   ]
  },
  {
   "cell_type": "code",
   "execution_count": 19,
   "id": "8b3f3de6-b442-4dc5-abf5-503dd572cb17",
   "metadata": {},
   "outputs": [
    {
     "name": "stdout",
     "output_type": "stream",
     "text": [
      "zero(Forest{Int}()) = Union{Leaf, Node{Int64}}[]\n",
      "one(Forest{Int}()) = Union{Leaf, Node{Int64}}[Leaf()]\n",
      "Node(1, Tree{Int}[Leaf()]) = Node{Int64}(1, Union{Leaf, Node{Int64}}[Leaf()])\n"
     ]
    }
   ],
   "source": [
    "@show zero(Forest{Int}())\n",
    "@show one(Forest{Int}())\n",
    "@show Node(1,Tree{Int}[Leaf()]);"
   ]
  },
  {
   "cell_type": "code",
   "execution_count": 20,
   "id": "cbaa9ee7-2a41-4720-b85b-00c44f1917c2",
   "metadata": {},
   "outputs": [
    {
     "name": "stdout",
     "output_type": "stream",
     "text": [
      "zero(Forest{Int}()) ⊕ x == x == x ⊕ zero(Forest{Int}()) = true\n",
      "one(Forest{Int}()) ⊗ x == x = true\n"
     ]
    }
   ],
   "source": [
    "x = Tree{Int}[Node(3,zero(Forest{Int}())),Node(4,Tree{Int}[Node(10,Tree{Int}[Leaf()])]),Leaf()]\n",
    "@show zero(Forest{Int}()) ⊕ x == x == x ⊕ zero(Forest{Int}())\n",
    "@show one(Forest{Int}()) ⊗ x == x;"
   ]
  },
  {
   "cell_type": "code",
   "execution_count": 23,
   "id": "8197fda5-7712-4908-a4af-bdb604d378d2",
   "metadata": {},
   "outputs": [
    {
     "data": {
      "text/plain": [
       "2-element Vector{Union{Leaf, Node{Int64}}}:\n",
       " Node{Int64}(3, Union{Leaf, Node{Int64}}[])\n",
       " Node{Int64}(4, Union{Leaf, Node{Int64}}[Node{Int64}(10, Union{Leaf, Node{Int64}}[])])"
      ]
     },
     "execution_count": 23,
     "metadata": {},
     "output_type": "execute_result"
    }
   ],
   "source": [
    "x = Tree{Int}[Node(3,zero(Forest{Int}())),Node(4,Tree{Int}[Node(10,Tree{Int}[Leaf()])]),Leaf()]\n",
    "y = zero(x)\n",
    "x ⊗ y"
   ]
  },
  {
   "cell_type": "code",
   "execution_count": 24,
   "id": "f65080e5-556c-434c-befe-65b288de8d53",
   "metadata": {},
   "outputs": [
    {
     "data": {
      "text/plain": [
       "Union{Leaf, Node{Int64}}[]"
      ]
     },
     "execution_count": 24,
     "metadata": {},
     "output_type": "execute_result"
    }
   ],
   "source": [
    "y ⊗ x"
   ]
  },
  {
   "cell_type": "code",
   "execution_count": 25,
   "id": "4a1c862a-50c9-41f4-bc00-974950eea11e",
   "metadata": {},
   "outputs": [
    {
     "data": {
      "text/plain": [
       "2-element Vector{Union{Leaf, Node{Int64}}}:\n",
       " Node{Int64}(3, Union{Leaf, Node{Int64}}[])\n",
       " Node{Int64}(1, Union{Leaf, Node{Int64}}[])"
      ]
     },
     "execution_count": 25,
     "metadata": {},
     "output_type": "execute_result"
    }
   ],
   "source": [
    "Forest(Node{Int}(3,zero(Forest{Int}()))) ⊕ Forest(Node{Int}(1,zero(Forest{Int}())))"
   ]
  }
 ],
 "metadata": {
  "kernelspec": {
   "display_name": "Julia 1.9.2",
   "language": "julia",
   "name": "julia-1.9"
  },
  "language_info": {
   "file_extension": ".jl",
   "mimetype": "application/julia",
   "name": "julia",
   "version": "1.9.2"
  }
 },
 "nbformat": 4,
 "nbformat_minor": 5
}
