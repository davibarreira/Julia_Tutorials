{
 "cells": [
  {
   "cell_type": "markdown",
   "id": "2973db32-0e20-45e3-a14e-b2961f61c65e",
   "metadata": {},
   "source": [
    "# 1. Creating Categories"
   ]
  },
  {
   "cell_type": "code",
   "execution_count": 1,
   "id": "faf9e751-bd29-432a-9830-3f8d5f0d128a",
   "metadata": {},
   "outputs": [],
   "source": [
    "# struct morphism\n",
    "#     f::function\n",
    "#     dom::Type\n",
    "#     codom"
   ]
  },
  {
   "cell_type": "code",
   "execution_count": 3,
   "id": "b43e02c5-24f9-4ae6-8931-93e1bf5b15b1",
   "metadata": {},
   "outputs": [
    {
     "data": {
      "text/plain": [
       "f (generic function with 1 method)"
      ]
     },
     "execution_count": 3,
     "metadata": {},
     "output_type": "execute_result"
    }
   ],
   "source": [
    "function f(x::Int, y::Real)::Real\n",
    "    return x^2 + y\n",
    "end"
   ]
  },
  {
   "cell_type": "code",
   "execution_count": 7,
   "id": "f1b73e91-4cb7-49e4-97e0-2bab20dfcbf1",
   "metadata": {},
   "outputs": [
    {
     "data": {
      "text/html": [
       "# 1 method for generic function <b>f</b>:<ul><li> f(x::<b>Int64</b>, y::<b>Real</b>) in Main at In[3]:1</li> </ul>"
      ],
      "text/plain": [
       "# 1 method for generic function \"f\":\n",
       "[1] f(x::Int64, y::Real) in Main at In[3]:1"
      ]
     },
     "execution_count": 7,
     "metadata": {},
     "output_type": "execute_result"
    }
   ],
   "source": [
    "methods(f)"
   ]
  },
  {
   "cell_type": "code",
   "execution_count": 11,
   "id": "311b6d9c-421f-42a9-8fa4-91a320a57e40",
   "metadata": {},
   "outputs": [
    {
     "data": {
      "text/plain": [
       "3-element Vector{Int64}:\n",
       " 1\n",
       " 4\n",
       " 9"
      ]
     },
     "execution_count": 11,
     "metadata": {},
     "output_type": "execute_result"
    }
   ],
   "source": [
    "map(1:3) do j\n",
    "    j*j\n",
    "end"
   ]
  },
  {
   "cell_type": "code",
   "execution_count": null,
   "id": "37f9422f-86bc-448a-8a84-e34856c97f2d",
   "metadata": {},
   "outputs": [],
   "source": []
  }
 ],
 "metadata": {
  "kernelspec": {
   "display_name": "Julia (4 threads) 1.7.2",
   "language": "julia",
   "name": "julia-(4-threads)-1.7"
  },
  "language_info": {
   "file_extension": ".jl",
   "mimetype": "application/julia",
   "name": "julia",
   "version": "1.7.2"
  }
 },
 "nbformat": 4,
 "nbformat_minor": 5
}
