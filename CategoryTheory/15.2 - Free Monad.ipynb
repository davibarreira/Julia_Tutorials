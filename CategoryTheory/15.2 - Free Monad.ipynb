{
 "cells": [
  {
   "cell_type": "markdown",
   "id": "5359bf39-cad1-4324-8857-f7c51d703515",
   "metadata": {},
   "source": [
    "Free[S,A] \n",
    "\n",
    "* Free - This is the program\n",
    "* S - This is the language\n",
    "* A - This is the type of a vlaue it will produce once you run the programm.\n"
   ]
  },
  {
   "cell_type": "markdown",
   "id": "b8b9a5c7-094c-4740-9bcf-d174e8ac4517",
   "metadata": {},
   "source": [
    "## 15 - Free Monads\n",
    "\n",
    "Base on [this blog post](https://serokell.io/blog/introduction-to-free-monads).\n",
    "\n",
    "Remember that for a set $A$, a free monoid is a list of $A$. Such free monoid\n",
    "can be coded as the following functor:\n",
    "```haskell\n",
    "List a = Nil | Cons a (List a)\n",
    "```\n",
    "\n",
    "Similarly, if we have\n",
    "an endofunctor $F:\\mathbf{Set} \\to \\mathbf{Set}$, then we can think of a free\n",
    "monad over $F$ as a \"list\" of applications of $F$.\n",
    "For example, consider a functor \n",
    "```haskell\n",
    "F a := Nil | Cons a\n",
    "```\n",
    "For a value `x :: Int`, we have that  `F(x)` is either `Nil` or `Cons Int`.\n",
    "A free monad over such functor would the functor\n",
    "```haskell\n",
    "(Free F) a := Pure a | Free (F (Free F a))\n",
    "```\n",
    "\n",
    "Suppose we have a functor:\n",
    "```haskell\n",
    "data F a = One a | Two a a | Two' a a | Three Int a a a\n",
    "```\n",
    "\n",
    "We want to construct tree whose leaves have type `a` and whose\n",
    "nodes are one of the \"subtypes\" `One`, `Two`, `Two'` or `Three`, e.g.\n",
    "```\n",
    "     Two\n",
    "    /   \\\n",
    " One   Three\n",
    "  |   / / | \\\n",
    "  a  2 a  a Two'\n",
    "            / \\\n",
    "           a   a\n",
    "```"
   ]
  },
  {
   "cell_type": "markdown",
   "id": "18455831-3dc9-4c00-b0ec-1f77a3001d68",
   "metadata": {},
   "source": [
    "Let's start by creating the `F` functor. "
   ]
  },
  {
   "cell_type": "code",
   "execution_count": 51,
   "id": "8e5b3bac-069c-4c62-b940-fcf5ebe16c72",
   "metadata": {
    "tags": []
   },
   "outputs": [],
   "source": [
    "using MLStyle\n",
    "@data F{a} begin\n",
    "    One(::a)\n",
    "    Two(::a,::a)\n",
    "    Two_(::a,::a)\n",
    "    Three(Int, ::a, ::a,::a)\n",
    "end\n",
    "fmap(f::Function, x::One)   = One(f(x._1))\n",
    "fmap(f::Function, x::Two)   = Two(f(x._1),f(x._2))\n",
    "fmap(f::Function, x::Two_)  = Two_(f(x._1),f(x._2))\n",
    "fmap(f::Function, x::Three) = Three(x._1,f(x._2),f(x._3), f(x._4));\n",
    "\n"
   ]
  },
  {
   "cell_type": "code",
   "execution_count": 45,
   "id": "d5438bc5-6234-45a6-b2e5-8ffa59b210fd",
   "metadata": {
    "tags": []
   },
   "outputs": [
    {
     "data": {
      "text/plain": [
       "Three{Float64}(3, 1.0, 1.0, 1.0)"
      ]
     },
     "execution_count": 45,
     "metadata": {},
     "output_type": "execute_result"
    }
   ],
   "source": [
    "fmap(x->x+1,One(10))\n",
    "fmap(x->x+1,Two(10,0))\n",
    "fmap(x->x+1,Two_(10,0))\n",
    "fmap(x->x+1,Three(3,0.,0.,0.))"
   ]
  },
  {
   "cell_type": "markdown",
   "id": "2129bbd3-5a29-4767-a7a9-392511d2724c",
   "metadata": {},
   "source": [
    "Now,we want to create the tree example above. "
   ]
  },
  {
   "cell_type": "code",
   "execution_count": 46,
   "id": "92c7dbdf-e482-44bd-a4b6-f5f3e9b1997b",
   "metadata": {
    "tags": []
   },
   "outputs": [
    {
     "ename": "LoadError",
     "evalue": "MethodError: no method matching Three(::Int64, ::String, ::String, ::Two_{String})\n\n\u001b[0mClosest candidates are:\n\u001b[0m  Three(::Int64, ::a, ::a, \u001b[91m::a\u001b[39m) where a\n\u001b[0m\u001b[90m   @\u001b[39m \u001b[35mMain\u001b[39m \u001b[90m\u001b[4mIn[44]:6\u001b[24m\u001b[39m\n",
     "output_type": "error",
     "traceback": [
      "MethodError: no method matching Three(::Int64, ::String, ::String, ::Two_{String})\n\n\u001b[0mClosest candidates are:\n\u001b[0m  Three(::Int64, ::a, ::a, \u001b[91m::a\u001b[39m) where a\n\u001b[0m\u001b[90m   @\u001b[39m \u001b[35mMain\u001b[39m \u001b[90m\u001b[4mIn[44]:6\u001b[24m\u001b[39m\n",
      "",
      "Stacktrace:",
      " [1] top-level scope",
      "   @ In[46]:1"
     ]
    }
   ],
   "source": [
    "Two(One(\"f\"), Three(2,\"a\",\"b\",Two_(\"c\",\"d\")))"
   ]
  },
  {
   "cell_type": "markdown",
   "id": "6506f668-baa4-4b84-b7a2-a37386907a58",
   "metadata": {},
   "source": [
    "The code above does not work. Note that\n",
    "`Three` is taking an `Int`, two arguments of type `String` and a last argument\n",
    "of type `Two_`. \n",
    "This goes agains the definition of `Three(_1::Int,_2::a,_3::a,_4::a)`. \n",
    "\n",
    "The solution to this is creating a new functor `FreeF`, where\n",
    "each value `a` is wrapped into a container `Pure`, and each\n",
    "of the \"subfunctors\" (i.e. `FreeOne`, `FreeTwo`, `FreeTwo_`, `FreeThree`)\n",
    "can receive a value either `Pure{a}` or `Free{a}`.\n",
    "\n",
    "In the example below, we will construct the `FreeF` functor manually. Yet,\n",
    "the idea is that `Free` should be a functor itself, such that `Free ∘ F`\n",
    "would define `FreeF`."
   ]
  },
  {
   "cell_type": "markdown",
   "id": "00acb1f2-d428-45c6-9ca2-a9b565d78b1b",
   "metadata": {},
   "source": [
    "The `FreeF` is a functor with an `fmap` that inherits the `fmap` from `F`."
   ]
  },
  {
   "cell_type": "code",
   "execution_count": 47,
   "id": "ec16122a-f20a-44da-a30b-106ce380d342",
   "metadata": {
    "tags": []
   },
   "outputs": [
    {
     "data": {
      "text/plain": [
       "evalconcat (generic function with 4 methods)"
      ]
     },
     "execution_count": 47,
     "metadata": {},
     "output_type": "execute_result"
    }
   ],
   "source": [
    "abstract type FreeF end\n",
    "\n",
    "struct Pure{a} <: FreeF\n",
    "    _1::a\n",
    "end\n",
    "struct Roll{a} <: FreeF\n",
    "    _1::F{a}\n",
    "end\n",
    "\n",
    "# FreeF{a} = Union{Pure{a},Roll{F,a}}\n",
    "\n",
    "Pure(One(1))\n",
    "x = Roll(One(Pure(1)))\n",
    "\n",
    "fmap(f::Function, x::Pure) = Pure(f(x._1))\n",
    "fmap(f::Function, x::Roll) = Roll(fmap(y->fmap(f,y),x._1))\n",
    "\n",
    "μ(x::Pure) = x._1\n",
    "μ(x::Roll) = Roll(fmap(μ, x._1))\n",
    "\n",
    "liftFreeF(x::F) = Roll(fmap(x->Pure(x),x))\n",
    "foldFreeF(alg::Function, x::Pure) = x._1\n",
    "foldFreeF(alg::Function, x::FreeF) = alg(fmap(y -> foldFreeF(alg, y), x._1))\n",
    "\n",
    "evalsum(x::One) = x._1\n",
    "evalsum(x::Two) = x._1 + x._2\n",
    "evalsum(x::Two_) = x._1 - x._2\n",
    "evalsum(x::Three) = x._1 + x._2 + x._3 + x._4\n",
    "\n",
    "\n",
    "evaldraw(x::One) = \"One \\n\" * string(x._1)\n",
    "evaldraw(x::Two) = \"Two \\n\" * string(x._1)* \"\\t\" * string(x._2)\n",
    "evaldraw(x::Two_) = \"Two_ \\n\" * string(x._2) * \"\\t\"*string(x._1)\n",
    "evaldraw(x::Three) = string(x._1) * string(x._2) * string(x._3) * string(x._4)\n",
    "\n",
    "evalconcat(x::One) = [x._1]\n",
    "evalconcat(x::Two) = vcat(x._1,x._2)\n",
    "evalconcat(x::Two_) = vcat(x._2,x._1)\n",
    "evalconcat(x::Three) = vcat(x._1, x._2, x._3, x._4)\n"
   ]
  },
  {
   "cell_type": "code",
   "execution_count": 49,
   "id": "3fa53d23-f021-4a3f-88e0-ed362357dc92",
   "metadata": {
    "tags": []
   },
   "outputs": [],
   "source": [
    "# liftFreeF(Two(1,2))\n",
    "# liftFreeF(One(1))"
   ]
  },
  {
   "cell_type": "code",
   "execution_count": 50,
   "id": "9cf4e9d5-b4db-4801-ad65-b35a08c7df2d",
   "metadata": {
    "tags": []
   },
   "outputs": [
    {
     "ename": "LoadError",
     "evalue": "MethodError: \u001b[0mCannot `convert` an object of type \u001b[92mPure{Int64}\u001b[39m\u001b[0m to an object of type \u001b[91mInt64\u001b[39m\n\n\u001b[0mClosest candidates are:\n\u001b[0m  convert(::Type{T}, \u001b[91m::Ptr\u001b[39m) where T<:Integer\n\u001b[0m\u001b[90m   @\u001b[39m \u001b[90mBase\u001b[39m \u001b[90m\u001b[4mpointer.jl:23\u001b[24m\u001b[39m\n\u001b[0m  convert(::Type{T}, \u001b[91m::T\u001b[39m) where T<:Number\n\u001b[0m\u001b[90m   @\u001b[39m \u001b[90mBase\u001b[39m \u001b[90m\u001b[4mnumber.jl:6\u001b[24m\u001b[39m\n\u001b[0m  convert(::Type{T}, \u001b[91m::Number\u001b[39m) where T<:Number\n\u001b[0m\u001b[90m   @\u001b[39m \u001b[90mBase\u001b[39m \u001b[90m\u001b[4mnumber.jl:7\u001b[24m\u001b[39m\n\u001b[0m  ...\n",
     "output_type": "error",
     "traceback": [
      "MethodError: \u001b[0mCannot `convert` an object of type \u001b[92mPure{Int64}\u001b[39m\u001b[0m to an object of type \u001b[91mInt64\u001b[39m\n\n\u001b[0mClosest candidates are:\n\u001b[0m  convert(::Type{T}, \u001b[91m::Ptr\u001b[39m) where T<:Integer\n\u001b[0m\u001b[90m   @\u001b[39m \u001b[90mBase\u001b[39m \u001b[90m\u001b[4mpointer.jl:23\u001b[24m\u001b[39m\n\u001b[0m  convert(::Type{T}, \u001b[91m::T\u001b[39m) where T<:Number\n\u001b[0m\u001b[90m   @\u001b[39m \u001b[90mBase\u001b[39m \u001b[90m\u001b[4mnumber.jl:6\u001b[24m\u001b[39m\n\u001b[0m  convert(::Type{T}, \u001b[91m::Number\u001b[39m) where T<:Number\n\u001b[0m\u001b[90m   @\u001b[39m \u001b[90mBase\u001b[39m \u001b[90m\u001b[4mnumber.jl:7\u001b[24m\u001b[39m\n\u001b[0m  ...\n",
      "",
      "Stacktrace:",
      " [1] Two{Int64}(_1::Pure{Int64}, _2::Pure{Int64})",
      "   @ Main ./In[44]:4",
      " [2] fmap(f::var\"#49#50\", x::Two{Int64})",
      "   @ Main ./In[44]:9",
      " [3] liftFreeF(x::Two{Int64})",
      "   @ Main ./In[47]:21",
      " [4] top-level scope",
      "   @ In[50]:1"
     ]
    }
   ],
   "source": [
    "tree = μ(liftFreeF(\n",
    "        Two(\n",
    "            liftFreeF(Two(1,2)),\n",
    "            liftFreeF(One(1)\n",
    "                )\n",
    "            )))\n",
    "\n",
    "foldFreeF(evalsum, tree)"
   ]
  },
  {
   "cell_type": "code",
   "execution_count": 34,
   "id": "124e1fd4-ca85-4b11-8059-f7339101b9f6",
   "metadata": {
    "tags": []
   },
   "outputs": [
    {
     "ename": "LoadError",
     "evalue": "MethodError: no method matching Two(::Roll{Pure{Int64}}, ::Roll{Pure{One{Int64}}})\n\n\u001b[0mClosest candidates are:\n\u001b[0m  Two(::a, \u001b[91m::a\u001b[39m) where a\n\u001b[0m\u001b[90m   @\u001b[39m \u001b[35mMain\u001b[39m \u001b[90m\u001b[4mIn[1]:4\u001b[24m\u001b[39m\n",
     "output_type": "error",
     "traceback": [
      "MethodError: no method matching Two(::Roll{Pure{Int64}}, ::Roll{Pure{One{Int64}}})\n\n\u001b[0mClosest candidates are:\n\u001b[0m  Two(::a, \u001b[91m::a\u001b[39m) where a\n\u001b[0m\u001b[90m   @\u001b[39m \u001b[35mMain\u001b[39m \u001b[90m\u001b[4mIn[1]:4\u001b[24m\u001b[39m\n",
      "",
      "Stacktrace:",
      " [1] top-level scope",
      "   @ In[34]:1"
     ]
    }
   ],
   "source": [
    "Two(\n",
    "    liftFreeF(Two(1,2)),\n",
    "    liftFreeF(\n",
    "        Two(\n",
    "            One(1),\n",
    "            One(1)\n",
    "        )\n",
    "    )\n",
    ")\n",
    "# liftFreeF(Two(1,2))"
   ]
  },
  {
   "cell_type": "code",
   "execution_count": 14,
   "id": "f566b0f0-07cd-48bf-a7d5-a3b4112198a3",
   "metadata": {
    "tags": []
   },
   "outputs": [
    {
     "name": "stdout",
     "output_type": "stream",
     "text": [
      "Two \n",
      "Two \n",
      "1\t2\tOne \n",
      "1\n"
     ]
    }
   ],
   "source": [
    "println(foldFreeF(evaldraw, tree))"
   ]
  },
  {
   "cell_type": "code",
   "execution_count": 15,
   "id": "febb9b72-b0e2-4c4f-8d14-d70eef207f71",
   "metadata": {
    "tags": []
   },
   "outputs": [
    {
     "data": {
      "text/plain": [
       "3-element Vector{Int64}:\n",
       " 1\n",
       " 2\n",
       " 1"
      ]
     },
     "execution_count": 15,
     "metadata": {},
     "output_type": "execute_result"
    }
   ],
   "source": [
    "foldFreeF(evalconcat, tree)"
   ]
  }
 ],
 "metadata": {
  "kernelspec": {
   "display_name": "Julia 1.9.3",
   "language": "julia",
   "name": "julia-1.9"
  },
  "language_info": {
   "file_extension": ".jl",
   "mimetype": "application/julia",
   "name": "julia",
   "version": "1.9.3"
  }
 },
 "nbformat": 4,
 "nbformat_minor": 5
}
