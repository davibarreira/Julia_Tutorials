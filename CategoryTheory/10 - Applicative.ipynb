{
 "cells": [
  {
   "cell_type": "markdown",
   "id": "d949e501-3c95-49f2-8252-ed8102e2f935",
   "metadata": {},
   "source": [
    "# Applicative Functors\n",
    "\n",
    "Remember that a functor in programming is class of parametrized types with an `fmap`, e.g.\n",
    "for a struct `F{T}`, we have `fmap(f::Function, x::F)` that *lifts* a function on\n",
    "type `T` to type `M` to a function on `F{T}` to `F{M}`."
   ]
  },
  {
   "cell_type": "code",
   "execution_count": 1,
   "id": "94a44786-883c-4837-a15d-24fa925f60c5",
   "metadata": {},
   "outputs": [
    {
     "name": "stderr",
     "output_type": "stream",
     "text": [
      "\u001b[32m\u001b[1m  Activating\u001b[22m\u001b[39m project at `~/MEGA/EMAP/Julia_Tutorials/CategoryTheory`\n"
     ]
    }
   ],
   "source": [
    "using Pkg\n",
    "Pkg.activate(\".\")\n",
    "using PartialFunctions\n",
    "\n",
    "include(\"Currier.jl\");\n",
    "using .Currier"
   ]
  },
  {
   "cell_type": "code",
   "execution_count": 2,
   "id": "f9000233-9938-48e1-bc9f-a620510cec8a",
   "metadata": {},
   "outputs": [
    {
     "data": {
      "text/plain": [
       "SimpleFunctor{Int64}(11)"
      ]
     },
     "execution_count": 2,
     "metadata": {},
     "output_type": "execute_result"
    }
   ],
   "source": [
    "struct SimpleFunctor{T}\n",
    "    _1::T\n",
    "end\n",
    "fmap(f::Function, x::SimpleFunctor) = SimpleFunctor(f(x._1))\n",
    "fmap(x::Int-> x + 1, SimpleFunctor(10))"
   ]
  },
  {
   "cell_type": "markdown",
   "id": "d9a4ee0c-30cb-4dd1-aa7b-9ebb8d74a8e2",
   "metadata": {},
   "source": [
    "We can expand on this idea of fmaps in the following way. Consider\n",
    "a function that takes two arguments, e.g `+`. Our `fmap` only\n",
    "lifts functions with \"single\" arguments, such that a function\n",
    "acting of a type `T` is lifted to act on type `F{T}`.\n",
    "What we want to do is to be able to do is lift functions with many arguments.\n",
    "For example:"
   ]
  },
  {
   "cell_type": "code",
   "execution_count": 3,
   "id": "c33230a4-9274-43b7-9fbd-b375e1729d92",
   "metadata": {},
   "outputs": [
    {
     "data": {
      "text/plain": [
       "SimpleFunctor{Int64}(3)"
      ]
     },
     "execution_count": 3,
     "metadata": {},
     "output_type": "execute_result"
    }
   ],
   "source": [
    "fmap2(f::Function, x1::SimpleFunctor, x2::SimpleFunctor) = SimpleFunctor(f(x1._1,x2._1))\n",
    "fmap2(+, SimpleFunctor(1), SimpleFunctor(2))"
   ]
  },
  {
   "cell_type": "markdown",
   "id": "100a6f65-46c8-4e74-b3e0-51b0de60bd2f",
   "metadata": {},
   "source": [
    "Our implementation works. What we want is to expand it to any number of arguments...\n",
    "For example, `fmap0` should take a function with zero arguments (i.e. a value).\n",
    "\n",
    "Let's implement this:"
   ]
  },
  {
   "cell_type": "code",
   "execution_count": 4,
   "id": "6a777fd6-7ccb-4a14-a21c-d99bfc9b487d",
   "metadata": {},
   "outputs": [
    {
     "data": {
      "text/plain": [
       "SimpleFunctor{Int64}(10)"
      ]
     },
     "execution_count": 4,
     "metadata": {},
     "output_type": "execute_result"
    }
   ],
   "source": [
    "fmap0(v, ::Type{SimpleFunctor}) = SimpleFunctor(v)\n",
    "\n",
    "fmap0(10, SimpleFunctor)"
   ]
  },
  {
   "cell_type": "markdown",
   "id": "546fbaee-9462-4550-8f0a-3ff75b6f0bf6",
   "metadata": {},
   "source": [
    "A parametric struct that has this generalized `fmap` is an applicative functor.\n",
    "In order to construct all these `fmap0`,  `fmap1`, ... we only need\n",
    "to define two functions:\n",
    "```haskell\n",
    "pure :: a -> F a\n",
    "(<*>) :: F (a -> b) -> F a -> F b\n",
    "```"
   ]
  },
  {
   "cell_type": "markdown",
   "id": "e53e9081-4344-4e2a-b91b-be6ea42aaad0",
   "metadata": {},
   "source": [
    "## Example - Maybe Applicative"
   ]
  },
  {
   "cell_type": "code",
   "execution_count": 5,
   "id": "a20b4a32-bdcd-4ea3-a321-ad6df0db4f3f",
   "metadata": {},
   "outputs": [
    {
     "data": {
      "text/plain": [
       "fmap (generic function with 3 methods)"
      ]
     },
     "execution_count": 5,
     "metadata": {},
     "output_type": "execute_result"
    }
   ],
   "source": [
    "struct Just{T}\n",
    "    _1::T\n",
    "end\n",
    "struct Nothing end\n",
    "Maybe{T} = Union{Just{T}, Nothing};\n",
    "\n",
    "fmap(f::Function, x::Nothing) = Nothing()\n",
    "fmap(f::Function, x::Just)    = Just(f(x._1))\n"
   ]
  },
  {
   "cell_type": "code",
   "execution_count": 6,
   "id": "e64bb912-a922-4ad1-891c-0f4762eb4426",
   "metadata": {},
   "outputs": [
    {
     "data": {
      "text/plain": [
       "Just{Int64}(10)"
      ]
     },
     "execution_count": 6,
     "metadata": {},
     "output_type": "execute_result"
    }
   ],
   "source": [
    "pure(x,::Type{SimpleFunctor}) = Just(x)\n",
    "⊗(mg::Nothing,mx::Maybe) = Nothing()\n",
    "⊗(mg::Just{<:Function},mx::Maybe) = fmap(mg._1, mx)\n",
    "\n",
    "pure(10,SimpleFunctor)"
   ]
  },
  {
   "cell_type": "code",
   "execution_count": 7,
   "id": "a8659b72-8597-4904-84ce-0f0903ba6c8b",
   "metadata": {},
   "outputs": [
    {
     "data": {
      "text/plain": [
       "Nothing()"
      ]
     },
     "execution_count": 7,
     "metadata": {},
     "output_type": "execute_result"
    }
   ],
   "source": [
    "⊗(Nothing(), Just(10))"
   ]
  },
  {
   "cell_type": "code",
   "execution_count": 8,
   "id": "017c28c6-e6f6-46fb-8e77-c5b1a7fd7148",
   "metadata": {},
   "outputs": [
    {
     "data": {
      "text/plain": [
       "Just{Int64}(11)"
      ]
     },
     "execution_count": 8,
     "metadata": {},
     "output_type": "execute_result"
    }
   ],
   "source": [
    "⊗(Just(x->x+1), Just(10))"
   ]
  },
  {
   "cell_type": "code",
   "execution_count": 9,
   "id": "72e0a031-2577-40f3-ac69-d06e31fae0e6",
   "metadata": {},
   "outputs": [
    {
     "data": {
      "text/plain": [
       "Just{Int64}(2)"
      ]
     },
     "execution_count": 9,
     "metadata": {},
     "output_type": "execute_result"
    }
   ],
   "source": [
    "pure(x->x+1,SimpleFunctor) ⊗ Just(1)"
   ]
  },
  {
   "cell_type": "markdown",
   "id": "2e8c2286-6e8b-4eb3-8f68-52635167df46",
   "metadata": {},
   "source": [
    "We almost got it right. But note that the example below fails: "
   ]
  },
  {
   "cell_type": "code",
   "execution_count": 10,
   "id": "18bb458c-2282-416f-9d66-e19f9de8614b",
   "metadata": {},
   "outputs": [
    {
     "ename": "LoadError",
     "evalue": "MethodError: no method matching (::var\"#11#12\")(::Int64)\n\n\u001b[0mClosest candidates are:\n\u001b[0m  (::var\"#11#12\")(::Any, \u001b[91m::Any\u001b[39m)\n\u001b[0m\u001b[90m   @\u001b[39m \u001b[35mMain\u001b[39m \u001b[90m\u001b[4mIn[10]:1\u001b[24m\u001b[39m\n",
     "output_type": "error",
     "traceback": [
      "MethodError: no method matching (::var\"#11#12\")(::Int64)\n\n\u001b[0mClosest candidates are:\n\u001b[0m  (::var\"#11#12\")(::Any, \u001b[91m::Any\u001b[39m)\n\u001b[0m\u001b[90m   @\u001b[39m \u001b[35mMain\u001b[39m \u001b[90m\u001b[4mIn[10]:1\u001b[24m\u001b[39m\n",
      "",
      "Stacktrace:",
      " [1] fmap(f::var\"#11#12\", x::Just{Int64})",
      "   @ Main ./In[5]:8",
      " [2] ⊗(mg::Just{var\"#11#12\"}, mx::Just{Int64})",
      "   @ Main ./In[6]:3",
      " [3] top-level scope",
      "   @ In[10]:1"
     ]
    }
   ],
   "source": [
    "pure((x,y)->x+y, SimpleFunctor) ⊗ Just(10) ⊗ Just(10)"
   ]
  },
  {
   "cell_type": "markdown",
   "id": "cad2a7bc-5885-4b7f-b7b5-918bb9181fcc",
   "metadata": {},
   "source": [
    "**We have a problem!**\n",
    "Our implementation worked for the previous examples, but it does not actually work\n",
    "when our functions have more than one argument. Why?\n",
    "Because Julia does not have native currying like Haskell. This means,\n",
    "for example:\n",
    "```julia\n",
    "f(x,y) = 2*(x + y)\n",
    "\n",
    "f(10,_) #This does not work!\n",
    "```\n",
    "What we want is to be able to apply a single argument to a function, and\n",
    "later on apply the other arguments.\n",
    "\n",
    "Julia does have lambda functions, so we could construct\n",
    "`y->f(10,y)`, which would be the curried version for `f(10,_)`.\n",
    "Here, we use the `PartialFunctions.jl` package, which implements macros\n",
    "that do this partial application for us.\n",
    "\n",
    "There is one issue with partial functions that they do not immediatly apply the function, e.g.\n",
    "```julia\n",
    "f $ 1 $ 2 #returns a function z -> f(1,2...)\n",
    "```\n",
    "Thus, if we want to actually run this function, we need to actually store and run it, or\n",
    "we need to pass the last argument with `<|`, e.g.\n",
    "\n",
    "```julia\n",
    "f $ 1 <| 2      # returns 3\n",
    "f $ 1 $ 2 <| () # returns 3\n",
    "\n",
    "h = f $ 1 $ 2\n",
    "h()             # returns 3\n",
    "```\n",
    "\n",
    "Therefore, our applicative will also need a way to define whether the number of\n",
    "argumets for a function has \"saturated\". Our solution was to pass `()` in the end of the applicative."
   ]
  },
  {
   "cell_type": "code",
   "execution_count": 11,
   "id": "45d9a92c-29ce-4cf3-a445-ba5c5594c736",
   "metadata": {},
   "outputs": [
    {
     "data": {
      "text/plain": [
       "⊗ (generic function with 3 methods)"
      ]
     },
     "execution_count": 11,
     "metadata": {},
     "output_type": "execute_result"
    }
   ],
   "source": [
    "fmap(f::Function, x::Nothing) = Nothing()\n",
    "fmap(f::Function, x::Just)    = Just(f $ x._1)\n",
    "fmap(::Tuple{}, x::Just)      = Just(x._1())\n",
    "fmap(::Tuple{}, x::Nothing)   = Nothing()\n",
    "\n",
    "pure(x,::Type{SimpleFunctor}) = Just(x)\n",
    "⊗(mg::Nothing,mx::Maybe) = Nothing()\n",
    "⊗(mg::Just{<:Function},mx::Maybe) = fmap(mg._1, mx)\n",
    "⊗(mg::Maybe,::Tuple{}) = fmap((),mg)"
   ]
  },
  {
   "cell_type": "code",
   "execution_count": 12,
   "id": "94d96dc2-4e10-41c1-a927-8f4c8ad3e585",
   "metadata": {},
   "outputs": [
    {
     "data": {
      "text/plain": [
       "(Just{Int64}(20), Just{Int64}(40), Nothing())"
      ]
     },
     "execution_count": 12,
     "metadata": {},
     "output_type": "execute_result"
    }
   ],
   "source": [
    "g = pure((x,y)->x+y, SimpleFunctor) ⊗ Just(10) ⊗ Just(10) ⊗ ()\n",
    "\n",
    "h = pure((x,y,z)->z*(x+y), SimpleFunctor) ⊗ Just(10) ⊗ Just(10) ⊗ Just(2) ⊗ ()\n",
    "\n",
    "l = pure((x,y,z)->z*(x+y), SimpleFunctor) ⊗ Just(10) ⊗ Nothing() ⊗ Just(2) ⊗ ()\n",
    "\n",
    "g,h,l"
   ]
  },
  {
   "cell_type": "markdown",
   "id": "c26a62c6-f6b4-4919-8405-6fc82dd9a840",
   "metadata": {},
   "source": [
    "## Example - List Applicative\n",
    "\n",
    "We start by defining our List functor."
   ]
  },
  {
   "cell_type": "code",
   "execution_count": 13,
   "id": "05e7d629-4785-456d-ac21-a28b4a51dfeb",
   "metadata": {},
   "outputs": [
    {
     "data": {
      "text/plain": [
       "Cons{Int64}(2, Cons{Int64}(3, Nil()))"
      ]
     },
     "execution_count": 13,
     "metadata": {},
     "output_type": "execute_result"
    }
   ],
   "source": [
    "struct Nil end\n",
    "struct Cons{T}\n",
    "  val::T\n",
    "  next::Union{Cons{T},Nil} # n.b. abstract type!\n",
    "end\n",
    "List{T} = Union{Cons{T}, Nil}\n",
    "fmap(f::Function, x::Nil) = Nil()\n",
    "fmap(f::Function, x::Cons) = Cons(f(x.val),fmap(f, x.next))\n",
    "\n",
    "fmap(x->x+1, Cons(1,Cons(2,Nil())))"
   ]
  },
  {
   "cell_type": "markdown",
   "id": "93ba09a1-c8ee-4912-bb74-89e02a2297e6",
   "metadata": {},
   "source": [
    "To make it into an applicative, we need to enable the partial\n",
    "function application. Thus, we need to modify our fmap."
   ]
  },
  {
   "cell_type": "code",
   "execution_count": 14,
   "id": "ba0bcffd-912e-462f-b290-7952c588016a",
   "metadata": {},
   "outputs": [
    {
     "data": {
      "text/plain": [
       "2"
      ]
     },
     "execution_count": 14,
     "metadata": {},
     "output_type": "execute_result"
    }
   ],
   "source": [
    "fmap(f::Function, x::Cons) = Cons(f $ x.val,fmap(f, x.next))\n",
    "fmap(::Tuple{}, x::Nil)    = Nil()\n",
    "fmap(::Tuple{}, x::Cons)   = Cons(x.val(), fmap((),x.next))\n",
    "\n",
    "fmap(x->x+1, Cons(1,Cons(2,Nil()))).val()"
   ]
  },
  {
   "cell_type": "markdown",
   "id": "a751c94c-3137-4fe2-be51-fb5132ec7aa4",
   "metadata": {},
   "source": [
    "To properly define the ⊗ operator, we need a concatenation function for our List struct."
   ]
  },
  {
   "cell_type": "code",
   "execution_count": 15,
   "id": "a4406666-badf-4f8f-bb1e-e38b68e4af98",
   "metadata": {},
   "outputs": [
    {
     "data": {
      "text/plain": [
       "concatenate (generic function with 2 methods)"
      ]
     },
     "execution_count": 15,
     "metadata": {},
     "output_type": "execute_result"
    }
   ],
   "source": [
    "concatenate(x::Nil ,y::List) = y\n",
    "concatenate(x::Cons,y::List) = Cons(x.val, concatenate(x.next, y))"
   ]
  },
  {
   "cell_type": "markdown",
   "id": "746391d4-b62a-4ed0-ade0-7bf5956c75c9",
   "metadata": {},
   "source": [
    "Finally, we can construct our applicative. "
   ]
  },
  {
   "cell_type": "code",
   "execution_count": 35,
   "id": "92d81b63-3d01-48c6-9cc9-b386e543ca27",
   "metadata": {},
   "outputs": [
    {
     "data": {
      "text/plain": [
       "⊗ (generic function with 6 methods)"
      ]
     },
     "execution_count": 35,
     "metadata": {},
     "output_type": "execute_result"
    }
   ],
   "source": [
    "pure(x, ::Type{List}) = Cons(x, Nil())\n",
    "\n",
    "⊗(mg::Nil,mx::List) = Nil()\n",
    "⊗(mg::Cons{<:Function},mx::List) = fmap(mg.val, mx)\n",
    "⊗(mg::Cons{<:Function},mx::List) = concatenate(fmap(mg.val, mx), mg.next ⊗ mx)\n",
    "⊗(mg::List,::Tuple{}) = fmap((),mg)"
   ]
  },
  {
   "cell_type": "code",
   "execution_count": 46,
   "id": "e79c7256-5262-4c0d-9223-0a1c82e97951",
   "metadata": {},
   "outputs": [
    {
     "name": "stdout",
     "output_type": "stream",
     "text": [
      "Cons{Int64}(2, Nil())\n",
      "Cons{Int64}(3, Nil())\n",
      "Cons{Int64}(3, Cons{Int64}(4, Cons{Int64}(6, Cons{Int64}(8, Nil()))))\n"
     ]
    }
   ],
   "source": [
    "println(pure(x->x+1, List) ⊗ Cons(1,Nil()) ⊗ () )\n",
    "println(pure(+, List) ⊗ Cons(1,Nil()) ⊗ Cons(2,Nil()) ⊗ () )\n",
    "println(pure(*, List) ⊗ Cons(1,Cons(2,Nil())) ⊗ Cons(3,Cons(4,Nil())) ⊗ () )"
   ]
  }
 ],
 "metadata": {
  "kernelspec": {
   "display_name": "Julia 1.9.1",
   "language": "julia",
   "name": "julia-1.9"
  },
  "language_info": {
   "file_extension": ".jl",
   "mimetype": "application/julia",
   "name": "julia",
   "version": "1.9.1"
  }
 },
 "nbformat": 4,
 "nbformat_minor": 5
}
