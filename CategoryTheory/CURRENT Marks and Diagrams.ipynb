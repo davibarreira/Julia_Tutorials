{
 "cells": [
  {
   "cell_type": "code",
   "execution_count": 22,
   "id": "2d7451b5-e393-454b-9738-c8bb8e64756a",
   "metadata": {},
   "outputs": [
    {
     "name": "stderr",
     "output_type": "stream",
     "text": [
      "\u001b[32m\u001b[1m  Activating\u001b[22m\u001b[39m project at `~/MEGA/EMAP/Julia_Tutorials/CategoryTheory`\n"
     ]
    }
   ],
   "source": [
    "using Pkg\n",
    "Pkg.activate(\".\")"
   ]
  },
  {
   "cell_type": "code",
   "execution_count": 23,
   "id": "6b8f0ab4-2a42-40d9-a729-297f570b3fd4",
   "metadata": {},
   "outputs": [
    {
     "name": "stderr",
     "output_type": "stream",
     "text": [
      "\u001b[32m\u001b[1m    Updating\u001b[22m\u001b[39m registry at `~/.julia/registries/General.toml`\n",
      "\u001b[32m\u001b[1m   Resolving\u001b[22m\u001b[39m package versions...\n",
      "\u001b[32m\u001b[1m    Updating\u001b[22m\u001b[39m `~/MEGA/EMAP/Julia_Tutorials/CategoryTheory/Project.toml`\n",
      " \u001b[90m [47d2ed2b] \u001b[39m\u001b[92m+ Hyperscript v0.0.4\u001b[39m\n",
      "\u001b[32m\u001b[1m    Updating\u001b[22m\u001b[39m `~/MEGA/EMAP/Julia_Tutorials/CategoryTheory/Manifest.toml`\n",
      " \u001b[90m [47d2ed2b] \u001b[39m\u001b[92m+ Hyperscript v0.0.4\u001b[39m\n",
      " \u001b[90m [8bb1440f] \u001b[39m\u001b[93m~ DelimitedFiles v1.9.1 ⇒ \u001b[39m\n",
      " \u001b[90m [44cfe95a] \u001b[39m\u001b[95m↓ Pkg v1.9.0 ⇒ v1.8.0\u001b[39m\n",
      " \u001b[90m [10745b16] \u001b[39m\u001b[93m~ Statistics v1.9.0 ⇒ \u001b[39m\n",
      " \u001b[90m [fa267f1f] \u001b[39m\u001b[95m↓ TOML v1.0.3 ⇒ v1.0.0\u001b[39m\n",
      " \u001b[90m [a4e569a6] \u001b[39m\u001b[93m↑ Tar v1.10.0 ⇒ v1.10.1\u001b[39m\n",
      " \u001b[90m [e66e0078] \u001b[39m\u001b[95m↓ CompilerSupportLibraries_jll v1.0.2+0 ⇒ v0.5.2+0\u001b[39m\n",
      " \u001b[90m [c8ffd9c3] \u001b[39m\u001b[95m↓ MbedTLS_jll v2.28.2+0 ⇒ v2.28.0+0\u001b[39m\n",
      " \u001b[90m [14a3606d] \u001b[39m\u001b[95m↓ MozillaCACerts_jll v2022.10.11 ⇒ v2022.2.1\u001b[39m\n",
      " \u001b[90m [4536629a] \u001b[39m\u001b[95m↓ OpenBLAS_jll v0.3.21+4 ⇒ v0.3.20+0\u001b[39m\n",
      " \u001b[90m [efcefdf7] \u001b[39m\u001b[95m↓ PCRE2_jll v10.42.0+0 ⇒ v10.40.0+0\u001b[39m\n",
      " \u001b[90m [bea87d4a] \u001b[39m\u001b[91m- SuiteSparse_jll v5.10.1+6\u001b[39m\n",
      " \u001b[90m [83775a58] \u001b[39m\u001b[95m↓ Zlib_jll v1.2.13+0 ⇒ v1.2.12+3\u001b[39m\n",
      " \u001b[90m [8e850b90] \u001b[39m\u001b[95m↓ libblastrampoline_jll v5.7.0+0 ⇒ v5.1.1+0\u001b[39m\n"
     ]
    }
   ],
   "source": [
    "Pkg.add(\"Hyperscript\")"
   ]
  },
  {
   "cell_type": "code",
   "execution_count": 24,
   "id": "1ccc4cf9-fbe7-4915-9356-09b0232f3c19",
   "metadata": {},
   "outputs": [],
   "source": [
    "using MLStyle\n",
    "using Hyperscript"
   ]
  },
  {
   "cell_type": "code",
   "execution_count": 13,
   "id": "d1aa45f1-5c95-47ec-b734-e617ce333caa",
   "metadata": {},
   "outputs": [
    {
     "data": {
      "text/plain": [
       "evalZ (generic function with 3 methods)"
      ]
     },
     "execution_count": 13,
     "metadata": {},
     "output_type": "execute_result"
    }
   ],
   "source": [
    "@data RingF{T} begin\n",
    "    RZero()\n",
    "    ROne()\n",
    "    RAdd(a::T, b::T)\n",
    "end\n",
    "\n",
    "evalZ(x::RZero{Int}) = 0\n",
    "evalZ(x::ROne{Int}) = 1\n",
    "evalZ(x::RAdd{Int}) = x.a + x.b"
   ]
  },
  {
   "cell_type": "code",
   "execution_count": 28,
   "id": "6c9b9989-b854-4bbe-92a7-3d4d6daea5f9",
   "metadata": {},
   "outputs": [
    {
     "name": "stdout",
     "output_type": "stream",
     "text": [
      "(1, \"a\")\n",
      "(2, \"b\")\n"
     ]
    }
   ],
   "source": [
    "for i in zip([1,2],[\"a\",\"b\"])\n",
    "    println(i)\n",
    "end"
   ]
  },
  {
   "cell_type": "code",
   "execution_count": 11,
   "id": "4abdba5c-236d-49f5-85ab-db6e9898abdb",
   "metadata": {},
   "outputs": [
    {
     "data": {
      "text/plain": [
       "2"
      ]
     },
     "execution_count": 11,
     "metadata": {},
     "output_type": "execute_result"
    }
   ],
   "source": [
    "view("
   ]
  },
  {
   "cell_type": "code",
   "execution_count": 14,
   "id": "5f4512d0-7dfc-4701-a185-17bc38712d4b",
   "metadata": {},
   "outputs": [],
   "source": [
    "abstract type Diagram end\n",
    "abstract type Prim <: Diagram end\n",
    "\n",
    "struct DEmpty <: Prim end\n",
    "# struct ROne <: Expression end\n",
    "# struct RAdd <: Expression\n",
    "#     _1::Expression\n",
    "#     _2::Expression\n",
    "# end\n",
    "# struct RMult <: Expression\n",
    "#     _1::Expression\n",
    "#     _2::Expression\n",
    "# end\n",
    "# struct RNeg <: Expression\n",
    "#     _1::Expression\n",
    "# end"
   ]
  },
  {
   "cell_type": "code",
   "execution_count": 20,
   "id": "ff45a0b8-672b-4691-a852-14622449ded7",
   "metadata": {},
   "outputs": [],
   "source": [
    "struct Circle <: Prim\n",
    "    r::Real\n",
    "    function Circle(r::Real)\n",
    "        @assert r > 0 \"r must be positive\"\n",
    "        new(r)\n",
    "    end\n",
    "end\n",
    "\n",
    "struct Square <: Prim\n",
    "    l::Real\n",
    "    function Circle(l::Real)\n",
    "        @assert l > 0 \"l must be positive\"\n",
    "        new(r)\n",
    "    end\n",
    "end\n",
    "\n",
    "map()"
   ]
  },
  {
   "cell_type": "code",
   "execution_count": null,
   "id": "dec79cbe-e467-4948-8aec-0db893242f04",
   "metadata": {},
   "outputs": [],
   "source": [
    "struct RZero <:  end\n",
    "struct ROne end\n",
    "# P{T} = Union{T,Tuple{T,T},}"
   ]
  },
  {
   "cell_type": "code",
   "execution_count": null,
   "id": "f4442d39-790f-4a30-8dee-582505b6edc5",
   "metadata": {},
   "outputs": [],
   "source": [
    "eval(DEmpty)"
   ]
  }
 ],
 "metadata": {
  "kernelspec": {
   "display_name": "Julia 1.8.2",
   "language": "julia",
   "name": "julia-1.8"
  },
  "language_info": {
   "file_extension": ".jl",
   "mimetype": "application/julia",
   "name": "julia",
   "version": "1.8.2"
  }
 },
 "nbformat": 4,
 "nbformat_minor": 5
}
