{
 "cells": [
  {
   "cell_type": "markdown",
   "id": "0a502979-2f27-46d6-a6e0-00f0e254f2bb",
   "metadata": {},
   "source": [
    "***CATEGORY THEORY WITH JULIA***\n",
    "-----\n",
    "\n",
    "# 1. Types and Categories in Julia"
   ]
  },
  {
   "cell_type": "markdown",
   "id": "a10bf7cc-34b8-445e-9ed5-80f002bb86c0",
   "metadata": {},
   "source": [
    "In programming languages, we can define a category by considering types to be objects\n",
    "and functions to be morphisms.\n",
    "\n",
    "## 1.1 Types in Julia\n",
    "In Julia, types can be concrete or abstract. Only concrete type can be instantiated, while abstract\n",
    "types are ways of grouping these types. For example, `Int` and `Float64` are concrete types, while\n",
    "`Number` is an abstract type that contains both, i.e. `Int` and `Float64` are subtypes of `Number`."
   ]
  },
  {
   "cell_type": "code",
   "execution_count": 4,
   "id": "61835119-3343-4d95-ba20-4de0da0ee03f",
   "metadata": {},
   "outputs": [
    {
     "name": "stderr",
     "output_type": "stream",
     "text": [
      "\u001b[32m\u001b[1m  Activating\u001b[22m\u001b[39m project at `~/MEGA/EMAP/PhDThesis/notes/FunctionalProgrammingCategoryTheory/julia`\n"
     ]
    }
   ],
   "source": [
    "using Pkg\n",
    "Pkg.activate(\".\")"
   ]
  },
  {
   "cell_type": "code",
   "execution_count": 5,
   "id": "b78b5476-90ee-4891-b11c-34b860e244fe",
   "metadata": {},
   "outputs": [
    {
     "data": {
      "text/plain": [
       "(true, true)"
      ]
     },
     "execution_count": 5,
     "metadata": {},
     "output_type": "execute_result"
    }
   ],
   "source": [
    "Int <: Number, Float64 <: Number"
   ]
  },
  {
   "cell_type": "code",
   "execution_count": 6,
   "id": "1bb8697e-ee8a-41f5-8296-02b25e9d5c7f",
   "metadata": {},
   "outputs": [
    {
     "data": {
      "text/plain": [
       "true"
      ]
     },
     "execution_count": 6,
     "metadata": {},
     "output_type": "execute_result"
    }
   ],
   "source": [
    "isconcretetype(Int)"
   ]
  },
  {
   "cell_type": "code",
   "execution_count": 7,
   "id": "0f75cbde-421e-4c84-bb1a-1cf02d32916c",
   "metadata": {},
   "outputs": [
    {
     "data": {
      "text/plain": [
       "true"
      ]
     },
     "execution_count": 7,
     "metadata": {},
     "output_type": "execute_result"
    }
   ],
   "source": [
    "isabstracttype(Real)"
   ]
  },
  {
   "cell_type": "markdown",
   "id": "f24fb3e9-a88f-4ff4-92a9-55a113b40de2",
   "metadata": {},
   "source": [
    "It's easy to create an abstract type in Julia. "
   ]
  },
  {
   "cell_type": "code",
   "execution_count": 8,
   "id": "2597875a-97dd-4b89-b654-a468051eb6cf",
   "metadata": {},
   "outputs": [],
   "source": [
    "abstract type MyTypes end"
   ]
  },
  {
   "cell_type": "markdown",
   "id": "e4298a76-e039-4444-9af0-985cd052c24d",
   "metadata": {},
   "source": [
    "Types can also be composite or primitive. A primitive type is a concrete type where it's definition is given in bits.\n",
    "Primitive types are the ones you would imagine, e.g. `Float16`, `Float32`, `Float64`, `Bool`, `Int8` and so on.\n",
    "\n",
    "In Julia, one can define his own primitive type, but this is not usually optimal, since it's not native to the LLVM (the compiler structure used in Julia).\n",
    "\n",
    "Composite types are types composed of other types. In Julia, these are the so called `structs`."
   ]
  },
  {
   "cell_type": "code",
   "execution_count": 9,
   "id": "c0b7d2f4-a207-49ce-9bd8-16711d4e82d2",
   "metadata": {},
   "outputs": [],
   "source": [
    "struct MyType <: MyTypes\n",
    "    a::Int\n",
    "    b::Real\n",
    "    c\n",
    "end"
   ]
  },
  {
   "cell_type": "code",
   "execution_count": 10,
   "id": "d4ec1ba2-90f2-4a26-afa2-0f22d0979956",
   "metadata": {},
   "outputs": [
    {
     "data": {
      "text/plain": [
       "true"
      ]
     },
     "execution_count": 10,
     "metadata": {},
     "output_type": "execute_result"
    }
   ],
   "source": [
    "MyType <: MyTypes"
   ]
  },
  {
   "cell_type": "markdown",
   "id": "8eecbace-5fd2-4898-81cb-155fcfb56b8c",
   "metadata": {},
   "source": [
    "Another way of constructing types is with operations such as `Union`. "
   ]
  },
  {
   "cell_type": "code",
   "execution_count": 11,
   "id": "3720c2ed-5dca-4848-92b1-dec69c5c55d6",
   "metadata": {},
   "outputs": [
    {
     "data": {
      "text/plain": [
       "true"
      ]
     },
     "execution_count": 11,
     "metadata": {},
     "output_type": "execute_result"
    }
   ],
   "source": [
    "IntOrNothing = Union{Int, Nothing}\n",
    "\n",
    "1 isa IntOrNothing"
   ]
  },
  {
   "cell_type": "markdown",
   "id": "9f0baea2-08b6-49c9-83a4-988b1697a2a5",
   "metadata": {},
   "source": [
    "Another possible contruction is with `Tuple`. "
   ]
  },
  {
   "cell_type": "code",
   "execution_count": 12,
   "id": "519ebab3-4a82-47ec-beb2-312c639f680d",
   "metadata": {},
   "outputs": [
    {
     "data": {
      "text/plain": [
       "true"
      ]
     },
     "execution_count": 12,
     "metadata": {},
     "output_type": "execute_result"
    }
   ],
   "source": [
    "Tuple2Int = Tuple{Int,Int}\n",
    "\n",
    "(1,2) isa Tuple2Int"
   ]
  },
  {
   "cell_type": "code",
   "execution_count": 13,
   "id": "5a4bd7a2-2aaf-4f87-8637-95d624eee3c0",
   "metadata": {},
   "outputs": [
    {
     "data": {
      "text/plain": [
       "true"
      ]
     },
     "execution_count": 13,
     "metadata": {},
     "output_type": "execute_result"
    }
   ],
   "source": [
    "MyType2 = Tuple{MyType,MyType}\n",
    "\n",
    "(MyType(1,2,3),MyType(3,3,\"o\")) isa MyType2"
   ]
  },
  {
   "cell_type": "markdown",
   "id": "bd7274d2-35e1-41f8-bc16-1e34463684b1",
   "metadata": {},
   "source": [
    "Another interesting way of creating types with tuples is by using `Vararg`. In this case, we \n",
    "can do:"
   ]
  },
  {
   "cell_type": "code",
   "execution_count": 14,
   "id": "442f1f1d-86e0-4f54-bb2f-9e29e7d6dc8f",
   "metadata": {},
   "outputs": [
    {
     "data": {
      "text/plain": [
       "true"
      ]
     },
     "execution_count": 14,
     "metadata": {},
     "output_type": "execute_result"
    }
   ],
   "source": [
    "MyTypeTuple = Tuple{MyType, Vararg{MyType}}\n",
    "\n",
    "(MyType(1,2,3),MyType(1,2,3),MyType(3,3,\"o\")) isa MyTypeTuple"
   ]
  },
  {
   "cell_type": "markdown",
   "id": "972579e5-84ab-472e-8f2f-05508869f581",
   "metadata": {},
   "source": [
    "Another very important aspect of types are the so called parametric types. "
   ]
  },
  {
   "cell_type": "code",
   "execution_count": 15,
   "id": "dbfc2547-ab26-4f81-8c50-fc528d23a9dc",
   "metadata": {},
   "outputs": [],
   "source": [
    "struct NewType{T} <: MyTypes\n",
    "    x::T\n",
    "    y::T\n",
    "end"
   ]
  },
  {
   "cell_type": "markdown",
   "id": "bcef7bd0-07b2-43ff-b645-c4620508f85e",
   "metadata": {},
   "source": [
    "Note that we just created a plethora of new types with the caveat that\n",
    "they all have the fields `x` and `y`, and both fields have the same type."
   ]
  },
  {
   "cell_type": "code",
   "execution_count": 16,
   "id": "1cb9875e-141c-4a5d-aefd-bb494c555436",
   "metadata": {},
   "outputs": [
    {
     "data": {
      "text/plain": [
       "NewType{Int64}(10, 10)"
      ]
     },
     "execution_count": 16,
     "metadata": {},
     "output_type": "execute_result"
    }
   ],
   "source": [
    "NewType(10,10)"
   ]
  },
  {
   "cell_type": "markdown",
   "id": "07816bc7-1a4e-48e1-bbc4-de631bbb7375",
   "metadata": {},
   "source": [
    "You can also specify a supertype for the parameter, for example:"
   ]
  },
  {
   "cell_type": "code",
   "execution_count": 17,
   "id": "0cfe6215-5e57-4153-9c28-f1eec434f387",
   "metadata": {},
   "outputs": [
    {
     "data": {
      "text/plain": [
       "f (generic function with 2 methods)"
      ]
     },
     "execution_count": 17,
     "metadata": {},
     "output_type": "execute_result"
    }
   ],
   "source": [
    "struct NewType2{T<:Real}\n",
    "    x::T\n",
    "    y::T\n",
    "end\n",
    "\n",
    "function f(x::NewType2{T}) where T <: Int\n",
    "    x.x+x.y\n",
    "end"
   ]
  },
  {
   "cell_type": "markdown",
   "id": "576516d6-8702-47ed-bc6b-c08e6e5a41cf",
   "metadata": {},
   "source": [
    "An important thing to note here is that in parametric types is that subtyping behaves a bit different than\n",
    "for non-composite types. See:"
   ]
  },
  {
   "cell_type": "code",
   "execution_count": 18,
   "id": "ecfb8b76-10d0-46bd-832b-0e8f7668be83",
   "metadata": {},
   "outputs": [
    {
     "name": "stdout",
     "output_type": "stream",
     "text": [
      "NewType(10, 10) isa NewType{Int} = true\n",
      "NewType(10, 10) isa NewType{Real} = false\n"
     ]
    }
   ],
   "source": [
    "@show NewType(10,10) isa NewType{Int}\n",
    "@show NewType(10,10) isa NewType{Real};"
   ]
  },
  {
   "cell_type": "markdown",
   "id": "3da9dd79-1434-4b41-9786-cb3ff848b3e0",
   "metadata": {},
   "source": [
    "Although `Int <: Real`, it's not true that `NewType{Int} <: NewType{Real}`. Yet, we can say\n",
    "that `NewType{Int} <: NewType`."
   ]
  },
  {
   "cell_type": "code",
   "execution_count": 19,
   "id": "2447e7ee-968c-4b71-a0e4-dd6e3a9f5e10",
   "metadata": {},
   "outputs": [
    {
     "data": {
      "text/plain": [
       "true"
      ]
     },
     "execution_count": 19,
     "metadata": {},
     "output_type": "execute_result"
    }
   ],
   "source": [
    "NewType{Int} <: NewType"
   ]
  },
  {
   "cell_type": "markdown",
   "id": "3fb548af-67da-4dc8-a2be-bff187730fd4",
   "metadata": {},
   "source": [
    "Here the use of tuples can be helpful. Tuples allow the use of parameters, and the subtyping works for the elements also. "
   ]
  },
  {
   "cell_type": "code",
   "execution_count": 20,
   "id": "092992e9-f226-47fc-b7af-7515df483297",
   "metadata": {},
   "outputs": [
    {
     "data": {
      "text/plain": [
       "true"
      ]
     },
     "execution_count": 20,
     "metadata": {},
     "output_type": "execute_result"
    }
   ],
   "source": [
    "Tuple{Int, Int} <: Tuple{Real, Real}"
   ]
  },
  {
   "cell_type": "markdown",
   "id": "f52ea310-ab1f-4c1f-8493-21282b57656c",
   "metadata": {},
   "source": [
    "Lastly, note the following: "
   ]
  },
  {
   "cell_type": "code",
   "execution_count": 21,
   "id": "8c2a681a-f29a-42af-b991-90c23849d9dd",
   "metadata": {},
   "outputs": [
    {
     "name": "stdout",
     "output_type": "stream",
     "text": [
      "typeof(NewType{Int}) = DataType\n",
      "typeof(NewType) = UnionAll\n",
      "DataType <: Type = true\n"
     ]
    }
   ],
   "source": [
    "@show typeof(NewType{Int})\n",
    "@show typeof(NewType)\n",
    "@show DataType <: Type;"
   ]
  },
  {
   "cell_type": "markdown",
   "id": "574270be-cfea-4ae3-b32e-f49c37f6207a",
   "metadata": {},
   "source": [
    "\n",
    "\n",
    "In Julia, even types have types!\n",
    "Moreover, what is the difference between a DataType and UnionAll?\n",
    "You can think that a DataType can infer how much memory will be needed for the type, while\n",
    "a UnionType can't. Why?\n",
    "\n",
    "Note that for `NewType{Int}` we know that two ints will have to be stored in memory, hence\n",
    "we know the amount of bits necessary. Yet, for `NewType`, we cannot predict how much bits will be used,\n",
    "since the parameter type could be pretty much anything.\n",
    "\n",
    "But what about `Union{Int,Float64}` and `Tuple{Int,Float64}?"
   ]
  },
  {
   "cell_type": "code",
   "execution_count": 22,
   "id": "3993f293-5339-4547-a1ec-4fcca0cf2554",
   "metadata": {},
   "outputs": [
    {
     "name": "stdout",
     "output_type": "stream",
     "text": [
      "typeof(Union{Int, Float64}) = Union\n",
      "typeof(Union{Int, Real}) = DataType\n",
      "typeof(Tuple{Int, Float64}) = DataType\n"
     ]
    }
   ],
   "source": [
    "@show typeof(Union{Int,Float64})\n",
    "@show typeof(Union{Int,Real})\n",
    "@show typeof(Tuple{Int,Float64});"
   ]
  },
  {
   "cell_type": "markdown",
   "id": "e3d42b6d-4789-4179-b3a2-7dd89f2c6297",
   "metadata": {
    "jp-MarkdownHeadingCollapsed": true,
    "tags": []
   },
   "source": [
    "Note that in the first example, we have a type `Union`, which makes sense, since we are either going to allocate the\n",
    "size of an Int or a Float. But what about the second union? In the second case, Julia is just turning\n",
    "`Union{Int,Real}` in the type `Real`, sort of just saying \"allocate the larger memmory.\n",
    "\n",
    "Lastly, the Tuple is also a DataType, since we know how much each element will store.\n"
   ]
  },
  {
   "cell_type": "markdown",
   "id": "7613c54d-33b5-4711-a80c-9aad9124f14b",
   "metadata": {},
   "source": [
    "## 1.2 Value Types\n",
    "\n",
    "Types in Julia are very useful due to multiple-dispatch. It would be very useful if one could also dispatch on values,\n",
    "for example, a function `f(x::Bool)` with two methods, one for `x == True` and another for `x == False`.\n",
    "\n",
    "This can be done using `Val`. This is already implemented in Julia, but here is how one could implement it."
   ]
  },
  {
   "cell_type": "code",
   "execution_count": 23,
   "id": "a9b7e084-56b1-4739-8217-f81ca832c507",
   "metadata": {},
   "outputs": [
    {
     "name": "stdout",
     "output_type": "stream",
     "text": [
      "MyVal(1) = MyVal{1}()\n"
     ]
    }
   ],
   "source": [
    "struct MyVal{x}\n",
    "end\n",
    "MyVal(x) = MyVal{x}()\n",
    "\n",
    "@show MyVal(1);"
   ]
  },
  {
   "cell_type": "code",
   "execution_count": 24,
   "id": "a91261cc-b722-4efa-a972-91d4d456266c",
   "metadata": {},
   "outputs": [
    {
     "data": {
      "text/plain": [
       "(1, 0)"
      ]
     },
     "execution_count": 24,
     "metadata": {},
     "output_type": "execute_result"
    }
   ],
   "source": [
    "f(::Val{true}) = 1\n",
    "f(::Val{false}) = 0\n",
    "\n",
    "f(Val(true)) ,f(Val(false)) "
   ]
  },
  {
   "cell_type": "markdown",
   "id": "be2a26c5-bf23-4950-ac95-96240967e36c",
   "metadata": {},
   "source": [
    "Note that this is easily abused, and must be used carefully.\n",
    "The proper way to use it is such that the compiler knows what is going to be passed."
   ]
  },
  {
   "cell_type": "markdown",
   "id": "9588cfed-e0f3-4e8f-af78-a3fda083a394",
   "metadata": {},
   "source": [
    "## 1.3 Initial and Terminal Objects"
   ]
  },
  {
   "cell_type": "markdown",
   "id": "ebf2447b-a4c5-4a19-bd4a-2b7acc87e25c",
   "metadata": {},
   "source": [
    "In Category Theory, the initial object is one where there is a unique morphism\n",
    "leaving it to any other object. In the case o $\\mathbf{Set}$, this is the empty set, since\n",
    "every morphism from the empty set is the \"same\" uncallable function.\n",
    "\n",
    "In Julia, the initial object is the type `::Union{}`.\n",
    "Note that this type is known as `Base.Bottom`, and it's actually a subtype of every type in Julia."
   ]
  },
  {
   "cell_type": "code",
   "execution_count": 25,
   "id": "1ec52ae0-51dc-4711-89ab-61c4bd7bc01c",
   "metadata": {},
   "outputs": [
    {
     "data": {
      "text/plain": [
       "(true, true, true)"
      ]
     },
     "execution_count": 25,
     "metadata": {},
     "output_type": "execute_result"
    }
   ],
   "source": [
    "Union{} <: Int, Union{} <: Float64, Union{} <: Nothing"
   ]
  },
  {
   "cell_type": "markdown",
   "id": "f90bc542-bc61-4d0e-a0b7-79cef64745a0",
   "metadata": {},
   "source": [
    "Since `Union{}` is a subtype of every other type, it behaves in the same way as the empty set,\n",
    "which is a subset of every other set."
   ]
  },
  {
   "cell_type": "code",
   "execution_count": 26,
   "id": "04033da9-6021-4286-9d89-909fa2f834cc",
   "metadata": {},
   "outputs": [],
   "source": [
    "absurd(x::Union{}) = \"anything\";"
   ]
  },
  {
   "cell_type": "markdown",
   "id": "410f70f3-3213-4403-a741-71f92f31fe06",
   "metadata": {},
   "source": [
    "*Ex falso sequitur quodlibet*. "
   ]
  },
  {
   "cell_type": "markdown",
   "id": "e40c2a0d-6f6c-44d3-8c36-67ade123d42f",
   "metadata": {},
   "source": [
    "The exact opposite of `Union{}` is the `Any` type, i.e. any value is of type `Any`. "
   ]
  },
  {
   "cell_type": "markdown",
   "id": "28f2f2cc-7d52-481b-9d41-a820a4aa5718",
   "metadata": {},
   "source": [
    "Now, in the other end of the spectrum, we have a terminal object, which is an object that\n",
    "for every object in the category, there is only one morphism arriving to it.\n",
    "\n",
    "In $\\mathbf{Set}$, this terminal object is the singleton set, i.e., the set with a single object.\n",
    "Now, you may wonder, \"but we have an infinite number of singletons, which one is the terminal?\". The answer is\n",
    "that they all are \"the same\" up to an isomorphism. \n",
    "Hence, the terminal object is the unique up to an isomorphism.\n",
    "\n",
    "But what about in Julia? The terminal object would be a type that has only a single possible \"value\", also\n",
    "called a singleton type. Hence,\n",
    "`Int` or `Float64` or `Char` are not possibilities, since they have many elements.\n",
    "We could construct such a type. See:\n"
   ]
  },
  {
   "cell_type": "code",
   "execution_count": 27,
   "id": "9f8a4832-221b-4fe5-862e-95102a7afddf",
   "metadata": {},
   "outputs": [
    {
     "data": {
      "text/plain": [
       "Terminal()"
      ]
     },
     "execution_count": 27,
     "metadata": {},
     "output_type": "execute_result"
    }
   ],
   "source": [
    "struct Terminal end\n",
    "\n",
    "Terminal()"
   ]
  },
  {
   "cell_type": "code",
   "execution_count": 28,
   "id": "90f8b218-530a-493d-a72e-464f377b0f88",
   "metadata": {},
   "outputs": [
    {
     "data": {
      "text/plain": [
       "true"
      ]
     },
     "execution_count": 28,
     "metadata": {},
     "output_type": "execute_result"
    }
   ],
   "source": [
    "Base.issingletontype(Terminal)"
   ]
  },
  {
   "cell_type": "markdown",
   "id": "ea5777e5-b793-4a4a-a603-9cec843e7761",
   "metadata": {},
   "source": [
    "In Julia, the `Nothing` type is already a type with a singleton, which is the value `nothing`. \n",
    "So is the `Tuple{}` type, which only has `()` as element."
   ]
  },
  {
   "cell_type": "code",
   "execution_count": 29,
   "id": "313253a0-049c-473a-8e9e-e296ef4007d6",
   "metadata": {},
   "outputs": [
    {
     "data": {
      "text/plain": [
       "(true, true)"
      ]
     },
     "execution_count": 29,
     "metadata": {},
     "output_type": "execute_result"
    }
   ],
   "source": [
    "Base.issingletontype(Nothing),Base.issingletontype(Tuple{})"
   ]
  },
  {
   "cell_type": "markdown",
   "id": "db5f5c84-3fd7-4130-b264-073ba35c3522",
   "metadata": {},
   "source": [
    "## 1.4 Product and Coproduct of Types\n",
    "\n",
    "As we already talked about, types are objects in programming languages such as Julia, and we can\n",
    "create product objects and coproduct objects, i.e. product types and coproduct types.\n",
    "\n",
    "So what are they? We actually already talked about them. The `Tuple{Type1, Type2}` is the product\n",
    "of `Type1` and `Type2`, while `Union{Type1,Type2}` is the coproudct."
   ]
  },
  {
   "cell_type": "code",
   "execution_count": 17,
   "id": "6c5ae411-264e-40fc-9f4e-a59346be749f",
   "metadata": {},
   "outputs": [
    {
     "data": {
      "text/plain": [
       "Tuple{Int64, Int64}"
      ]
     },
     "execution_count": 17,
     "metadata": {},
     "output_type": "execute_result"
    }
   ],
   "source": [
    "Tuple{Int,Int}"
   ]
  },
  {
   "cell_type": "markdown",
   "id": "76ae4384-c56b-4dbf-818c-fd20d5ccc391",
   "metadata": {},
   "source": [
    "## 1.5 Type Classes and Traits in Julia\n",
    "\n",
    "As we said, Julia can defined types in a hierarchical nature, but it does not provide a\n",
    "\"native\" way of grouping distincting types in classes.\n",
    "Remember, we could say that some types belong to the same class if they share some **traits**.\n",
    "\n",
    "The benefit of having a class of types is that once we know that a certain type pertains\n",
    "to a certain class, we can then use what we know about such class.\n",
    "For example, we could think of a class `Eq` which would consist of all types in Julia\n",
    "where the `==` operator is defined.\n"
   ]
  },
  {
   "cell_type": "code",
   "execution_count": 11,
   "id": "ec64c765-4739-4cf5-82a8-7ea07c4e0087",
   "metadata": {},
   "outputs": [
    {
     "data": {
      "text/plain": [
       "(true, false)"
      ]
     },
     "execution_count": 11,
     "metadata": {},
     "output_type": "execute_result"
    }
   ],
   "source": [
    "struct Point2\n",
    "    x::Real\n",
    "    y::Real\n",
    "end\n",
    "\n",
    "Base.isequal(p::Point2, q::Point2)::Bool = p.x == q.x && p.y == q.y ? true : false\n",
    "\n",
    "p = Point2(1,1)\n",
    "q = Point2(1,1)\n",
    "q_ = Point2(2,1)\n",
    "\n",
    "p == q, p == q_"
   ]
  },
  {
   "cell_type": "markdown",
   "id": "f6e3aabe-2543-4a11-9505-157402c7a76c",
   "metadata": {},
   "source": [
    "In the implementation above, we've defined a new type `Point2`, and such type would now belong to the class `Eq`.\n",
    "The question is, how can we define such class in Julia?\n",
    "\n",
    "What we need is a way to group types that go beyond the simple type hierarchy. To do this,\n",
    "we use a design pattern known (in Julia) as Holy Trait (note that \"Holy\" is the surname of Tim Holy, the creator of this idea)."
   ]
  },
  {
   "cell_type": "code",
   "execution_count": 4,
   "id": "f208fad4-6d3b-46f8-88a4-583082c6e03f",
   "metadata": {},
   "outputs": [],
   "source": [
    "abstract type Eq end\n",
    "struct IsEq <: Eq end\n",
    "struct IsNotEq <: Eq end"
   ]
  },
  {
   "cell_type": "code",
   "execution_count": 5,
   "id": "dc261a74-e825-45dd-aab0-9ca18141cd6c",
   "metadata": {},
   "outputs": [],
   "source": [
    "Eq(::Type) = IsNotEq()\n",
    "Eq(::Type{<:Point2}) = IsEq()\n",
    "Eq(::Type{<:String}) = IsEq()\n",
    "Eq(::Type{<:Number}) = IsEq();"
   ]
  },
  {
   "cell_type": "markdown",
   "id": "e41854c4-ce17-48b4-971c-f40ae81f7c20",
   "metadata": {},
   "source": [
    "In the code above, we've implemented the class `Eq`.\n",
    "First, we used `Eq(::Type)= IsNotEq()`, which means that, by default, a type does NOT belong to the `Eq` class.\n",
    "Next, we used `Eq(::Type{<:Point2})= IsEq()` and others to specify that such types indeed were from class `Eq`."
   ]
  },
  {
   "cell_type": "markdown",
   "id": "a1be57e0-8f29-4599-8dc7-4f38955f8287",
   "metadata": {},
   "source": [
    "At first this might not look very useful, yet, it can be, specially if you think of multiple-dispatch.\n",
    "\n",
    "Consider the following example."
   ]
  },
  {
   "cell_type": "code",
   "execution_count": 6,
   "id": "5bcb7773-9042-4b16-98a0-4ee98dbba596",
   "metadata": {},
   "outputs": [],
   "source": [
    "abstract type Geometric end\n",
    "\n",
    "struct Circle <:Geometric\n",
    "    r::Real\n",
    "end\n",
    "struct Rect <:Geometric\n",
    "    l::Real\n",
    "    h::Real\n",
    "end\n",
    "\n",
    "struct Trapz <:Geometric\n",
    "    l::Real\n",
    "    h::Real\n",
    "    θ::Real\n",
    "end\n",
    "struct Square <:Geometric\n",
    "    l::Real\n",
    "    h::Real\n",
    "    Square(l) = new(l,l)\n",
    "end"
   ]
  },
  {
   "cell_type": "markdown",
   "id": "404c15de-d81d-4135-8e1c-6438503f4821",
   "metadata": {},
   "source": [
    "Now, we want to implement a function such as `area` that is\n",
    "computed by multiplying `l*h`. Note that all shapes have this property, but `Circle`.\n",
    "Yet, all of them share the `Geomtric` type, hence, we cannot just dispatch on it.\n",
    "\n",
    "How to solve this? We could perhpas create an `if x is Circle`, but this is not very good,\n",
    "cause we could add a new geometric shape like `Ellipse` which would also not have the `l` and `h`...\n",
    "\n"
   ]
  },
  {
   "cell_type": "code",
   "execution_count": 7,
   "id": "c3b11900-cceb-41ad-8274-cc1f3eb9d55e",
   "metadata": {},
   "outputs": [],
   "source": [
    "abstract type HasHeightLengthTrait end\n",
    "struct HasHeightLength <: HasHeightLengthTrait end\n",
    "struct NotHasHeightLength <: HasHeightLengthTrait end"
   ]
  },
  {
   "cell_type": "code",
   "execution_count": 8,
   "id": "6fdab152-5fd9-4a13-94e7-428963124d29",
   "metadata": {},
   "outputs": [
    {
     "data": {
      "text/plain": [
       "HasHeightLengthTrait"
      ]
     },
     "execution_count": 8,
     "metadata": {},
     "output_type": "execute_result"
    }
   ],
   "source": [
    "HasHeightLengthTrait(::Type) = NotHasHeightLength()\n",
    "HasHeightLengthTrait(::Type{<:Rect})   = HasHeightLength()\n",
    "HasHeightLengthTrait(::Type{<:Trapz})  = HasHeightLength()\n",
    "HasHeightLengthTrait(::Type{<:Square}) = HasHeightLength()"
   ]
  },
  {
   "cell_type": "code",
   "execution_count": 9,
   "id": "f8aa88e4-e8be-4219-956d-6b24ced612fb",
   "metadata": {},
   "outputs": [
    {
     "data": {
      "text/plain": [
       "hasheightlength (generic function with 3 methods)"
      ]
     },
     "execution_count": 9,
     "metadata": {},
     "output_type": "execute_result"
    }
   ],
   "source": [
    "hasheightlength(x::T) where T<: Geometric  = hasheightlength(HasHeightLengthTrait(T), x)\n",
    "hasheightlength(::HasHeightLength, x) = true\n",
    "hasheightlength(::NotHasHeightLength, x) = false"
   ]
  },
  {
   "cell_type": "code",
   "execution_count": 10,
   "id": "acf68781-59bd-4659-b389-f2c09d0b75fe",
   "metadata": {},
   "outputs": [
    {
     "data": {
      "text/plain": [
       "1"
      ]
     },
     "execution_count": 10,
     "metadata": {},
     "output_type": "execute_result"
    }
   ],
   "source": [
    "area(x::T) where T<: Geometric  = area(HasHeightLengthTrait(T), x)\n",
    "area(::HasHeightLength, x) = x.l * x.h\n",
    "area(::NotHasHeightLength, x) = error(\"Area function not implemented.\")\n",
    "\n",
    "s = Square(1)\n",
    "area(s)"
   ]
  },
  {
   "cell_type": "markdown",
   "id": "99b53760-ee32-48f4-8e10-915c801dcdd3",
   "metadata": {},
   "source": [
    "## 1.6 Enumerations\n",
    "\n",
    "The @enum macro create an enumeartion struct. This is nothing more than a type suit where\n",
    "the possible values are enumerated. Look the example below."
   ]
  },
  {
   "cell_type": "code",
   "execution_count": 1,
   "id": "92bcfe08-4807-4072-961a-d690e613c467",
   "metadata": {},
   "outputs": [
    {
     "data": {
      "text/plain": [
       "Enum suit:\n",
       "clubs = 0\n",
       "diamonds = 1\n",
       "hearts = 2\n",
       "spades = 3"
      ]
     },
     "execution_count": 1,
     "metadata": {},
     "output_type": "execute_result"
    }
   ],
   "source": [
    "@enum suit clubs diamonds hearts spades\n",
    "suit"
   ]
  },
  {
   "cell_type": "code",
   "execution_count": 2,
   "id": "38c680a2-bb3e-4521-a7c5-4e27d62cfc23",
   "metadata": {},
   "outputs": [
    {
     "data": {
      "text/plain": [
       "(diamonds, 1)"
      ]
     },
     "execution_count": 2,
     "metadata": {},
     "output_type": "execute_result"
    }
   ],
   "source": [
    "instances(suit)\n",
    "suit(1), Int(diamonds)"
   ]
  },
  {
   "cell_type": "markdown",
   "id": "678e43ab-3d6c-4acd-b9d2-204a872cfdaa",
   "metadata": {},
   "source": [
    "Note that, for example, `diamonds` is of type `suit`, and it's not a type itself, but an instance of `suit`. Similar\n",
    "to how  `1` is an instance of `Int`."
   ]
  },
  {
   "cell_type": "markdown",
   "id": "662b2eac-63f0-4d4e-afd7-8963870fba19",
   "metadata": {},
   "source": [
    "## 1.7 What it means to be a value of type T?\n",
    "\n",
    "As pointed out, in programming we have a category $\\textbf{Types}$ where types are objects and functions\n",
    "are morphisms.\n",
    "If `Int` is an object, then what is a value of `Int` represented in Category Theory?\n",
    "\n",
    "One might be tempted to say \"well, it's just an element of the object\". The problem is that, in Category Theory,\n",
    "we are not \"allowed\" to peek inside objects. We can only talk about morphisms, objects, and things of higher abstraction (e.g. functors).\n",
    "\n",
    "To solve this, note that we can think of a type `T` as a set, and we can show that\n",
    "there is an isomorphism between the values of `T` and the set of morphisms (functions) from\n",
    "the terminal type `Terminal` to type `T`. Why? Remember, a terminal type `Terminal` is\n",
    "a type containing only a singleton value. In the example of `Terminal`, such singleton is `Terminal()`.\n",
    "\n",
    "Hence, for each `a::A`, we can define a function `fa(x::Terminal) = a`. Since the only value\n",
    "of `Terminal` is `Terminal()`, this means that each function from `Terminal` to `A` is exactly\n",
    "a function that takes `Terminal()` to a value of `A`. Therefore, the set of morphisms from\n",
    "`Terminal` to `A` is isomorphic to the set of values of `A`.\n",
    "\n",
    "Now, consider the following code:"
   ]
  },
  {
   "cell_type": "code",
   "execution_count": 24,
   "id": "f3970ede-c84f-4bb9-b168-0c7b65c4ec0d",
   "metadata": {},
   "outputs": [
    {
     "data": {
      "text/plain": [
       "T(1, 2)"
      ]
     },
     "execution_count": 24,
     "metadata": {},
     "output_type": "execute_result"
    }
   ],
   "source": [
    "struct T\n",
    "    x::Int\n",
    "    y::Int\n",
    "end\n",
    "a = (1,2)\n",
    "t = T(a...)"
   ]
  },
  {
   "cell_type": "markdown",
   "id": "42c8c53e-0bc3-42c9-b3a2-5a9209603060",
   "metadata": {},
   "source": [
    "When we created such struct, Julia implicitly created a \"value\" constructor, i.e. \n",
    "a function `T(a::Tuple{Int,Int})` that returns values of type `T`.\n",
    "Since a value `a::Tuple{Int,Int}` is just a function `a(x::Terminal)::Tuple{Int,Int}`,\n",
    "then `T(a)` is actually a function composition `T ∘ a` in the category $\\mathbf{Types}$.\n",
    "\n",
    "Thus, we are able to talk about `T(1,2)` as a morphism (function), without requiring to talk\n",
    "about elements of sets.\n",
    "\n",
    "But what about the fields `x` and `y`? For a value of type `t = T(a)`, `t.x` can be understood\n",
    "as a function `x(t::T)::Int`, and the same for `y`. Note that\n",
    "`t` is isomorphic to `T ∘ a` , thus\n",
    "`x(t)` is ismorphic to `x ∘ t = x ∘ T ∘ a`.\n",
    "\n",
    "Hence, again we've defined `t.x` in terms of a morphism.\n",
    "\n",
    "Lastly, we can prove that our type `T` is isomorphic to `Tuple{Int,Int}`.\n",
    "Two objects are isormophic if there is a morphism (function) which is left and right invertible,\n",
    "meaning, for  `f(x::Tuple{Int,Int})::T`, there is `fl(y::T)::Tuple{Int,Int}` and \n",
    "`fr(y::T)::Tuple{Int,Int}` such that:\n",
    "\n",
    "$$\n",
    "f_l\\circ f = id_{\\text{Tuple\\{Int,Int\\}}}\n",
    "$$\n",
    "\n",
    "$$\n",
    "f\\circ f_r = id_{\\text{T}}\n",
    "$$\n",
    "\n",
    "In our example, this function is just `f(x,y) = T(x,y)`. The inverse of `f`\n",
    "is `fl(T) = (T.x, T.y)`."
   ]
  }
 ],
 "metadata": {
  "kernelspec": {
   "display_name": "Julia 1.8.2",
   "language": "julia",
   "name": "julia-1.8"
  },
  "language_info": {
   "file_extension": ".jl",
   "mimetype": "application/julia",
   "name": "julia",
   "version": "1.8.2"
  }
 },
 "nbformat": 4,
 "nbformat_minor": 5
}
