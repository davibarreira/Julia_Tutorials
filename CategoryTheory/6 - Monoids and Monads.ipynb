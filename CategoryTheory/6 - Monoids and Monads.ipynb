{
 "cells": [
  {
   "cell_type": "markdown",
   "id": "414550f5-4f13-4e3a-a779-bddd5c96a280",
   "metadata": {},
   "source": [
    "# Monoids and Monads\n",
    "\n",
    "Monoids and monads are concepts from category theory that have applications in programming.\n",
    "More specifically, both of these concepts are type classes, meaning, a type in Julia can be \"monoidal\" or not.\n",
    "Although, this actually depends on the composition operator.\n",
    "\n",
    "\n",
    "## 1. Monoids\n",
    "\n",
    "We start with a more simplified definition and then we move to a more general yet more complex definition,\n",
    "which is based on Category Theory.\n",
    "\n",
    "### 1.1. Monoids in Set Theory\n",
    "A monoid is a category composed of a single object (type), a neutral element and an operator, e.g. $(M,e,\\otimes)$.\n",
    "In programming, $M$ is a type, $\\otimes$ is a function with two arguments of type $M$, and $e$ is a value of type $M$;\n",
    "\n",
    "One type that is \"monoidal\" are strings. Note, `(String, \"\", *)` is a monoid. Why? Because\n",
    "`*` acts as the composition function that is associative and closed under string composition (meaning, `string_1 * string_2`\n",
    "always returns another value of type `String`), and `\"\"` is indeed a neutral element since `\"\" * string_1 == string_1 * \"\"` is\n",
    "always true."
   ]
  },
  {
   "cell_type": "markdown",
   "id": "68da88f3-61b9-4ac4-99ee-2c71023701bb",
   "metadata": {},
   "source": [
    "Let's define the monoid as a type class in Julia. "
   ]
  },
  {
   "cell_type": "code",
   "execution_count": 1,
   "id": "5bad0cc7-4a2d-4db0-8273-da98deb627a3",
   "metadata": {},
   "outputs": [
    {
     "name": "stderr",
     "output_type": "stream",
     "text": [
      "\u001b[32m\u001b[1m  Activating\u001b[22m\u001b[39m project at `~/MEGA/EMAP/Julia_Tutorials/CategoryTheory`\n"
     ]
    }
   ],
   "source": [
    "using Pkg\n",
    "Pkg.activate(\".\")"
   ]
  },
  {
   "cell_type": "code",
   "execution_count": 2,
   "id": "56817e25-1703-4d20-a586-3fbab306dd00",
   "metadata": {},
   "outputs": [
    {
     "data": {
      "text/plain": [
       "Monoid"
      ]
     },
     "execution_count": 2,
     "metadata": {},
     "output_type": "execute_result"
    }
   ],
   "source": [
    "abstract type Monoid end\n",
    "struct IsMonoid <: Monoid end\n",
    "struct NotMonoid <: Monoid end\n",
    "    \n",
    "Monoid(::Type) = NotMonoid()\n",
    "Monoid(::Type{<:String}) = IsMonoid()\n"
   ]
  },
  {
   "cell_type": "markdown",
   "id": "47a87f5f-22af-4931-b36b-fd5efab2117f",
   "metadata": {},
   "source": [
    "Above we've used `Monoid(::Type{<:String}) = IsMonoid()` to indicate that a `String` type belongs to the class of monoids.\n",
    "To belong to the class of monoids, we must define a neutral element and define a composition operation."
   ]
  },
  {
   "cell_type": "code",
   "execution_count": 3,
   "id": "67182318-5c34-4f8f-ac32-3decfb3870f1",
   "metadata": {},
   "outputs": [
    {
     "data": {
      "text/plain": [
       "\"oknnmm\""
      ]
     },
     "execution_count": 3,
     "metadata": {},
     "output_type": "execute_result"
    }
   ],
   "source": [
    "neutral(::Type{<:String}) = \"\"\n",
    "⊗(s1::T, s2::T) where T <: String = s1 * s2\n",
    "\n",
    "\"ok\" ⊗ \"nn\" ⊗ \"mm\" ⊗ neutral(String)"
   ]
  },
  {
   "cell_type": "markdown",
   "id": "19887acb-062d-42f2-a601-4477a4fdbd61",
   "metadata": {},
   "source": [
    "The triple (`Int`,`0`,`+`) is also a monoid. Let's add it to our class. Actually,\n",
    "we can add (`Real`,`0`,`+`), since it's also a monoid and `Int` is a subtype of `Real`."
   ]
  },
  {
   "cell_type": "code",
   "execution_count": 4,
   "id": "dd2487e0-840b-4002-90ea-1ac7ffc4b7dc",
   "metadata": {},
   "outputs": [
    {
     "data": {
      "text/plain": [
       "⊗ (generic function with 2 methods)"
      ]
     },
     "execution_count": 4,
     "metadata": {},
     "output_type": "execute_result"
    }
   ],
   "source": [
    "Monoid(::Type{<:Real}) = IsMonoid()\n",
    "neutral(T::Type{<:Real}) = convert(T,0)\n",
    "⊗(s1::T, s2::T) where T <: Real = s1 + s2"
   ]
  },
  {
   "cell_type": "code",
   "execution_count": 5,
   "id": "38e86229-8063-4cc3-9654-63f7b80d0d0a",
   "metadata": {},
   "outputs": [
    {
     "name": "stdout",
     "output_type": "stream",
     "text": [
      "neutral(Int) = 0\n",
      "neutral(Float64) = 0.0\n",
      "neutral(Real) = 0\n"
     ]
    }
   ],
   "source": [
    "@show neutral(Int)\n",
    "@show neutral(Float64);\n",
    "@show neutral(Real);"
   ]
  },
  {
   "cell_type": "markdown",
   "id": "891f36aa-5cdb-41c7-af35-cf4c334e0b5e",
   "metadata": {},
   "source": [
    "Finally, let's implement the Holy Trait in order to dispatch on monoids, i.e., define functions\n",
    "that are valid only if the type is from the class of monoids."
   ]
  },
  {
   "cell_type": "code",
   "execution_count": 6,
   "id": "cc839728-e877-45e9-859b-f9b2e34c61b5",
   "metadata": {},
   "outputs": [
    {
     "data": {
      "text/plain": [
       "ismonoid (generic function with 3 methods)"
      ]
     },
     "execution_count": 6,
     "metadata": {},
     "output_type": "execute_result"
    }
   ],
   "source": [
    "ismonoid(x::T) where T  = ismonoid(Monoid(T))\n",
    "ismonoid(::IsMonoid) = true\n",
    "ismonoid(::NotMonoid) = false"
   ]
  },
  {
   "cell_type": "code",
   "execution_count": 7,
   "id": "f2ba77f7-8734-47a7-920a-fd02535c9aea",
   "metadata": {},
   "outputs": [
    {
     "name": "stdout",
     "output_type": "stream",
     "text": [
      "ismonoid(\"string\") = true\n",
      "ismonoid((1, 2)) = false\n"
     ]
    }
   ],
   "source": [
    "@show ismonoid(\"string\")\n",
    "@show ismonoid((1,2));"
   ]
  },
  {
   "cell_type": "markdown",
   "id": "678b4d50-da8e-4cf3-8a1d-e9200a1b7165",
   "metadata": {},
   "source": [
    "Another example of a monoid is a pair of monoids, such that\n",
    "$(a_1,b_1) \\otimes (a_2,b_2) = (a_1 \\otimes a_2, b_1 \\otimes b_2)$. One can check that all\n",
    "the properties for a monoid are satisfied."
   ]
  },
  {
   "cell_type": "code",
   "execution_count": 8,
   "id": "886ed07e-133f-4111-b4ba-f2e9ea04d23d",
   "metadata": {},
   "outputs": [
    {
     "data": {
      "text/plain": [
       "(\"\", 0)"
      ]
     },
     "execution_count": 8,
     "metadata": {},
     "output_type": "execute_result"
    }
   ],
   "source": [
    "Monoid(::Type{<:Tuple{String,Real}}) = IsMonoid()\n",
    "\n",
    "neutral(::Type{Tuple{T1,T2}}) where {T1, T2} = (neutral(T1), neutral(T2))\n",
    "neutral(Tuple{String,Int})"
   ]
  },
  {
   "cell_type": "markdown",
   "id": "f1a52598-94b9-486a-8a1f-ee676001a019",
   "metadata": {},
   "source": [
    "### 1.2 Monoidal Categories"
   ]
  },
  {
   "cell_type": "markdown",
   "id": "9ad9a508-01a1-462e-8ac5-785f5ebb04de",
   "metadata": {},
   "source": [
    "Note that this definition of a monoid was very \"set-based\". We've talked about $e$ as an element of $M$, and \n",
    "$M$ as a set. A question that might be posed is how does this translates to category theory?\n",
    "\n",
    "One way to do this is to note that for any monoid $(M,e,\\otimes)$, where $M$ is a set and $e \\in M$, we can\n",
    "define a category $\\mathcal M$ where there is only one object $M$ and the morphisms are the elements of $M$.\n",
    "Lastly, the $\\otimes$ operator defines the composition of morphisms and $e$ is the identity morphism.\n",
    "\n",
    "An example of this is the set of natural numbers plus 0. The $0$ is the identity morphism, hence,\n",
    "$0: M \\to M$ is a morphism, and $1:M \\to  M$ is also a morphism. In this category,\n",
    "$0 \\circ 1$ is equivalent to the $2$ morphism."
   ]
  },
  {
   "attachments": {
    "33ffeb03-510d-4259-9196-3fead29bb840.png": {
     "image/png": "[encoded data removed]"
    },
    "cc2748cc-d408-4c9d-8095-36b2b0528828.png": {
     "image/png": "[encoded data removed]"
    }
   },
   "cell_type": "markdown",
   "id": "64d58b65-3d88-4448-8ecc-769bb33e62cf",
   "metadata": {},
   "source": [
    "Another way to think of monoids in Category Theory is to identify whether an existing category\n",
    "has this \"monoidicity\". A category that has this property is called a monoidal category.\n",
    "The formalization of this concept is not so simple, but here it is.\n",
    "\n",
    "Let $\\mathcal C$ be a category, and $\\mathcal C \\times \\mathcal C$ be the product category\n",
    "of $\\mathcal C$ with itself.\n",
    "\n",
    "---\n",
    "**Definition (Monoidal Category)**. A monoidal category $\\mathcal C$ consists of the following:\n",
    "\n",
    "* A functor $\\otimes: \\mathcal C \\times \\mathcal C \\to \\mathcal C$, called the tensor functor;\n",
    "\n",
    "* An object $1$ of $\\mathcal C$, called the unit object;\n",
    "\n",
    "* A natural isomorphism (a natural transformation with an inverse) $\\alpha : (\\cdot \\otimes \\cdot) \\otimes \\cdot \\to \\cdot \\otimes (\\cdot \\otimes \\cdot)$. This is a way to enforce assotiativity via isomorphism instead of equality;\n",
    "\n",
    "* A natural isomorphism $\\lambda: (1 \\otimes \\cdot) \\to \\cdot$. This is a way to enforce the neutral element from the left via isomorphism.\n",
    "\n",
    "* A natural isomorphism $\\rho: (\\cdot \\otimes 1) \\to \\cdot$. This is a way to enforce the neutral element from the right via isomorphism.\n",
    "\n",
    "\n",
    "The $\\otimes, 1, \\alpha, \\lambda, \\rho$ must satisfy two properties:\n",
    "\n",
    "* The petagon diagram below must commute:\n",
    "\n",
    "![image.png](attachment:33ffeb03-510d-4259-9196-3fead29bb840.png)\n",
    "\n",
    "* The triagular diagram below must commute:\n",
    "\n",
    "![image.png](attachment:cc2748cc-d408-4c9d-8095-36b2b0528828.png)\n",
    "\n",
    "---\n",
    "\n",
    "Forget for a minute about the properties of the commuting diagrams.\n",
    "Note that in the definition above, the monoidal category is $(\\mathcal C, 1, \\otimes_{\\alpha, \\lambda, \\rho})$, which is analogous to our\n",
    "definition of a monoid, with the difference that we don't have the equality of associativity or identity, but only\n",
    "natural isomorphism, e.g. $(a \\otimes b) \\otimes c$ is isomorphic to $a \\otimes (b \\otimes c)$, and not necesserily equal,\n",
    "and so is $1 \\otimes a$ and $a \\otimes 1$ to $a$. An example of this, for the category $\\mathbf{Sets}$, we don't have\n",
    "$(A \\times B) \\times C = A \\times (B \\times C)$, yet, these sets are isomorphic."
   ]
  },
  {
   "attachments": {
    "b0ec84a0-517f-4a5d-95c6-afde1e8c70e0.png": {
     "image/png": "[encoded data removed]"
    },
    "dc84843a-4f90-4339-89c0-a3ba124d5faf.png": {
     "image/png": "[encoded data removed]"
    }
   },
   "cell_type": "markdown",
   "id": "700a64be-f044-4cd3-81aa-4ab240dab04b",
   "metadata": {},
   "source": [
    "### 1.3 Monoids in Category Theory\n",
    "\n",
    "From the concept of a monoidal category, we can now create a more general definition of what a monoid is in Category Theory.\n",
    "\n",
    "---\n",
    "**Definition (Monoid - Category Theory)**. Let $(\\mathcal C, 1, \\otimes_{\\alpha, \\lambda, \\rho})$ \n",
    "be a monoidal category. For an object $M \\in Ob_{\\mathcal C}$, we say that $(M, \\eta, \\mu)$ is a monoid if\n",
    "$\\eta: 1 \\to M$ and $\\mu: M \\otimes M \\to M$ are two morphisms of $\\mathcal C$, such that:\n",
    "\n",
    "* The pentagon diagram below commutes:\n",
    "\n",
    "![image.png](attachment:b0ec84a0-517f-4a5d-95c6-afde1e8c70e0.png)\n",
    "\n",
    "* The triangular diagram below commutes:\n",
    "\n",
    "\n",
    "![image.png](attachment:dc84843a-4f90-4339-89c0-a3ba124d5faf.png)\n",
    "\n",
    "\n",
    "Note that $\\mu$ is called the *multiplication* and $\\eta$ the *unit*.\n",
    "\n",
    "---\n",
    "\n",
    "How does this definition generalizes the set theoretic version? Note that category $\\mathbf{Sets}$\n",
    "is a monoidal category, with $\\otimes$ equals to the cartesian product of sets, and $1$ equal to the\n",
    "corresponding terminal object (which is the singleton set in this case).\n",
    "Thus, take, as an example, a set $M$ such as $\\mathbb N$. Then, the morphism $\\mu:M \\times M \\to M$ will be $+:\\mathbb N \\times \\mathbb N \\to \\mathbb N$\n",
    "and $\\eta: 1 \\to \\mathbb N$ as the morphism that is isormorphic to the element $0$.\n",
    "We can then show that these two morphisms satisfy the pentagon and triangular diagrams, and are therefore\n",
    "categorical monoids.\n",
    "\n",
    "Furthermore, one can prove that every monoid in the set theoretic sense will also be a monoid in the categorical sense. Hence,\n",
    "similarly to what happens to the cartesian product, the categorical notion is more general.\n"
   ]
  },
  {
   "cell_type": "markdown",
   "id": "1656ea47-1447-45f5-835b-52fcb65c89eb",
   "metadata": {},
   "source": [
    "---\n",
    "## 2. Monads\n",
    "\n",
    "Now that we know what a monoid is, what about a monad?\n",
    "\n",
    "Let $\\mathcal C$ be a category. We can then define a new category $[\\mathcal C, \\mathcal C]$ of endofunctors\n",
    "on $\\mathcal C$, where endofunctors are objects and natural transformations are morphisms.\n",
    "One can then prove that such category is monoidal, where the $\\otimes$ operator is the composition\n",
    "of functors (i.e. $F \\otimes G \\equiv F \\circ G$), and the unit is the identity functor $I$.\n",
    "With this, we can easily define a monad.\n",
    "\n",
    "**Definition (Monad - Category Theory)** A monad is a monoid in the category of endofunctor.\n",
    "Hence, a monad in $\\mathcal C$ is $(M, \\eta,\\mu)$, where $M$ is an endofunctor $M:\\mathcal C\\to \\mathcal C$,\n",
    "with $\\eta$ as the unit and $\\mu$ as the multiplication.\n",
    "\n",
    "\n",
    "Informally:\n",
    "\n",
    "**Monad**:\n",
    "* $M$ is an endofunctor $m: \\mathcal C \\to \\mathcal C$;\n",
    "* $\\eta:I \\rightarrow m$ where $I$ is the identity endofunctor in $\\mathcal C$;\n",
    "* $\\mu: M \\circ M \\rightarrow M$ represents the composition;\n",
    "\n",
    "satisfying the conditions:\n",
    "\n",
    "* $\\mu \\circ M\\eta = \\mu \\circ \\eta M  = id_M$ where $id_M$ is the identity natural transformation;\n",
    "* $\\mu \\circ M\\mu = \\mu \\circ \\mu M$\n",
    "\n",
    "Note that the conditions above were written informally. For example, $M \\eta$ represents the horizontal\n",
    "composition of $id_M$ with $\\eta$, and analogously for $M \\mu$, $\\mu M$ and $\\eta M$.\n",
    "\n",
    "Let's try to get a feel for such definition by looking at it from the programming\n",
    "perspective. First, a functor `F` acts on a type `T`(the object of the programming category)\n",
    "and returns another type `F T`. It also acts on a function `f(x::T)` and returns another function\n",
    "`Ff(x::F T)`.\n",
    "\n",
    "In programming (more specifically in Julia), a functor is a\n",
    "struct `F` together with an `fmap`. For example:\n",
    "\n",
    "<!-- \n",
    "Similarly, a monad is another type class. We've actually seen an example of it with the Kleisi Category.\n",
    "The idea of the monad is that it keeps track of a context. For example, in the Kleisi Category,\n",
    "we wanted to code functions that returned logs. The context in that sense would be the log-stream.\n",
    "Let's redo the example of the Kleisi Category. -->"
   ]
  },
  {
   "cell_type": "code",
   "execution_count": 9,
   "id": "aee501d9-c5ae-4dbf-ab01-0b399949d4fb",
   "metadata": {},
   "outputs": [
    {
     "data": {
      "text/plain": [
       "MyFunctor{String}(\"1\", \"2\")"
      ]
     },
     "execution_count": 9,
     "metadata": {},
     "output_type": "execute_result"
    }
   ],
   "source": [
    "struct MyFunctor{T}\n",
    "    x::T\n",
    "    y::T\n",
    "end\n",
    "fmap(f::Function, F::MyFunctor{T}) where T = MyFunctor(f(F.x),f(F.y))\n",
    "\n",
    "# Example of usage\n",
    "fmap(string,MyFunctor(1,2))"
   ]
  },
  {
   "cell_type": "markdown",
   "id": "b4571d38-b72b-4edc-a3bf-448df47e779b",
   "metadata": {},
   "source": [
    "Note that our functor `MyFunctor` is an endofunctor, because it take any type `T` which is the object from the programming category and returns a type `MyFunctor{T}`,\n",
    "which is also an object of our programming category. Hence, `MyFunctor` indeed has the same category as domain and codomain. One can also\n",
    "prove that our implementation of `fmap` statisfies the composition propoerties in the definition of a functor.\n",
    "\n",
    "Now, if the **monad** is a monoid of such functors... This means that we need some sort of neutral element\n",
    "and a way to compose such functors.\n",
    "\n",
    "How can we construct this?\n",
    "\n",
    "Let's first take a detour."
   ]
  },
  {
   "cell_type": "markdown",
   "id": "42507988-1b01-4152-ac37-2c3846fc1866",
   "metadata": {},
   "source": [
    "### 2.1 Kleisi Category"
   ]
  },
  {
   "cell_type": "markdown",
   "id": "0aa4cf3d-c4c3-4151-9842-3353765d8ee5",
   "metadata": {},
   "source": [
    "An embellishing of a function consists of pairing such function with another type that is from the class of monoids.\n",
    "For example, consider the function `uppercase`. We can embellish it by creating another function\n",
    "called `e_uppercase` where:"
   ]
  },
  {
   "cell_type": "code",
   "execution_count": 1,
   "id": "afc97feb-0ac3-422a-9e1b-8ec2d1ba2f00",
   "metadata": {},
   "outputs": [
    {
     "data": {
      "text/plain": [
       "e_uppercase (generic function with 1 method)"
      ]
     },
     "execution_count": 1,
     "metadata": {},
     "output_type": "execute_result"
    }
   ],
   "source": [
    "e_uppercase(s::String)::Tuple{String, String} = uppercase(s), \"Uppercase. \""
   ]
  },
  {
   "cell_type": "markdown",
   "id": "af2309f7-c5fa-46a2-8255-d5adfeb02be6",
   "metadata": {},
   "source": [
    "Note, our embellishing returns both the original output, plus a string. Since the tyep `String` is a monoid, our\n",
    "example is a valid embellishing.\n",
    "\n",
    "This sounds strange, but consider the following. I have a bunch of functions, and now I want to get a log\n",
    "for everytime I run this function. Thus, I want to wrap this function as to return the log."
   ]
  },
  {
   "cell_type": "code",
   "execution_count": 2,
   "id": "b0ed2b06-de3e-4c37-bff6-363808b25749",
   "metadata": {},
   "outputs": [
    {
     "name": "stdout",
     "output_type": "stream",
     "text": [
      "upperstring(x) = (\"MY STRING\", \"Uppercase. \")\n",
      "splitstring(x) = ([\"my\", \"string\"], \"Splitting. \")\n"
     ]
    }
   ],
   "source": [
    "x = \"my string\"\n",
    "upperstring(s::String)::Tuple{String, String} = uppercase(s), \"Uppercase. \"\n",
    "splitstring(s::String)::Tuple{Base.Vector{String}, String} = split(s, \" \"), \"Splitting. \"\n",
    "id(s) = s, \"\"\n",
    "\n",
    "@show upperstring(x)\n",
    "@show splitstring(x);"
   ]
  },
  {
   "cell_type": "markdown",
   "id": "c7137608-d0bc-44b4-840a-fb72ba973c6f",
   "metadata": {},
   "source": [
    "If we try to compose these functions, we'll get an error. Why? Because the output\n",
    "of `upperstring` is a `Tuple{String, String}`, and the input of `splitstring` must\n",
    "be a `String`.\n",
    "\n",
    "```\n",
    "(splitstring ∘ upperstring)(x) # This returns an error!\n",
    "```\n",
    "\n",
    "Hence, it'd be nice to have a way to compose such things."
   ]
  },
  {
   "cell_type": "code",
   "execution_count": 3,
   "id": "b9be1147-0ebb-4cec-bdcb-d9ddace7f9ed",
   "metadata": {},
   "outputs": [
    {
     "data": {
      "text/plain": [
       "([\"OK\", \"EXAMPLE\"], \"Uppercase. Splitting. \")"
      ]
     },
     "execution_count": 3,
     "metadata": {},
     "output_type": "execute_result"
    }
   ],
   "source": [
    "comp(f::Function, g::Function) = x-> begin\n",
    "        (y,s1) = g(x)\n",
    "        (z,s2) = f(y)\n",
    "        (z, s1*s2)\n",
    "    end\n",
    "\n",
    "s = \"Ok Example\"\n",
    "comp(id,comp(splitstring , upperstring))(s)"
   ]
  },
  {
   "cell_type": "markdown",
   "id": "44678492-6f38-46e4-91d4-54a7484ba6ac",
   "metadata": {},
   "source": [
    "Nice, so this worked. But our example was restricted to this embelishing using log strings. As we've said,\n",
    "we can actually use any monoidal class, not only strings. Why? Because we know how to compose them."
   ]
  },
  {
   "cell_type": "markdown",
   "id": "b3534d7d-1677-4b09-a9b6-7831464e1445",
   "metadata": {},
   "source": [
    "This means that we can actually define a whole class of functors... What do I mean?\n",
    "Take a look at the example below:"
   ]
  },
  {
   "cell_type": "code",
   "execution_count": 13,
   "id": "cf2ee859-8207-41da-a29b-cb4a188ed9d4",
   "metadata": {},
   "outputs": [],
   "source": [
    "struct Writer{T,M}\n",
    "    a::T\n",
    "    log::M\n",
    "    function Writer{T,M}(a,log) where {T,M}\n",
    "        @assert Monoid(M) isa IsMonoid\n",
    "        new(a,log)\n",
    "    end\n",
    "end\n",
    "Writer(a::T, log::M) where {T,M} = Writer{T,M}(a,log)\n",
    "fmap(f::Function, W::Writer) = Writer(f(W.a), W.log)\n",
    "\n",
    "# This `unit` is called `return` in Haskell.\n",
    "struct unit{M} end\n",
    "unit{M}(x) where M  = Writer(x, neutral(M))"
   ]
  },
  {
   "cell_type": "code",
   "execution_count": 14,
   "id": "bdedff47-aeb1-4c75-8b0d-10247b551af3",
   "metadata": {},
   "outputs": [
    {
     "data": {
      "text/plain": [
       "⊙ (generic function with 1 method)"
      ]
     },
     "execution_count": 14,
     "metadata": {},
     "output_type": "execute_result"
    }
   ],
   "source": [
    "emb_split(x::String) = Writer(split(x),\"Split.\")\n",
    "emb_upper(x::String) = Writer(uppercase(x), \"Upper.\")\n",
    "\n",
    "# Composition for embellished functions\n",
    "⊙(f, g) = x-> begin\n",
    "    w1 = g(x)\n",
    "    w2 = f(w1.a)\n",
    "    return Writer(w2.a, w1.log ⊗ w2.log)\n",
    "end"
   ]
  },
  {
   "cell_type": "code",
   "execution_count": 15,
   "id": "a72a6820-4b0f-4a1a-b980-400a50c896ad",
   "metadata": {},
   "outputs": [
    {
     "data": {
      "text/plain": [
       "Writer{Vector{SubString{String}}, String}(SubString{String}[\"TESTING\", \"THIS\"], \"Upper.Split.\")"
      ]
     },
     "execution_count": 15,
     "metadata": {},
     "output_type": "execute_result"
    }
   ],
   "source": [
    "(unit{String} ⊙ emb_split ⊙ emb_upper)(\"testing this\")"
   ]
  },
  {
   "cell_type": "markdown",
   "id": "5b9dbf6b-ed1b-44db-b97f-0e0530be592d",
   "metadata": {},
   "source": [
    "The `Writer{T,M}` struct above defines *more* than a single functor, it actually defines a whole class of possible\n",
    "functors, each one depending on the monoidal type `M`. For example, `Writer{s,String}` is the functor\n",
    "that embelishes functions with strings. Another possible functor would be `Writer{T,Int}` which\n",
    "embellished with integers."
   ]
  },
  {
   "cell_type": "code",
   "execution_count": 16,
   "id": "9bb35b10-ee9c-4897-bcc8-6d6b2d66e220",
   "metadata": {},
   "outputs": [
    {
     "data": {
      "text/plain": [
       "Writer{Int64, Int64}(8, 3)"
      ]
     },
     "execution_count": 16,
     "metadata": {},
     "output_type": "execute_result"
    }
   ],
   "source": [
    "mult2(x) = 2x\n",
    "mult2_1(x) = Writer(mult2(x), 1)\n",
    "mult2_2(x) = Writer(mult2(x), 2)\n",
    "\n",
    "(mult2_1 ⊙ mult2_2)(2)"
   ]
  },
  {
   "cell_type": "markdown",
   "id": "0195c666-e2f8-4667-aed4-3ef46ba66754",
   "metadata": {},
   "source": [
    "We can now define the **Kleisi Category**. In programming, consider the category\n",
    "of types, where functions are the morphisms.\n",
    "For an endofunctor `M` and the programming category, the corresponding Kleisi Category (`K(M)`)\n",
    "also has types as objecs, yet, the morphism between two types `T` and `S` is not a function\n",
    "`f(x::T)::S`, but `f(x::T)::M S`, where `M` is the endofunctor. In other words,\n",
    "we say that there is a morphism between `T` and `S` in the category `K(M)` if there\n",
    "exists a function from `x::T` that returns a value of type `M S`.\n",
    "In the example above, for every function `f(x::T)::S`, we could write an embelished version, such as\n",
    "`Writer(f, \"something\")`.\n",
    "\n",
    "Now, to properly define this category, we need to define a way to compose\n",
    "these morphisms and also we need to guarantee that for each object there is an identity morphism.\n",
    "For the `Writer{T,M}` functor, we've created a composition using ⊙. The identity with respect to ⊙ was implemented\n",
    "as `unit(::Type{M})`.\n",
    "\n",
    "Hence, `K(Writer{T,String})` is an example of Kleisi Category for the functor the embellishes with strings, where we used ⊙ as our composition operator.\n",
    "\n",
    "**Important**! For a function `f:A->B`, the embellished function `f` with a `Writer{T,String}` is a function\n",
    "`emb_f:A -> Writer{B,String}`. Considering any monad `m`, the embellished function would be\n",
    "`emb_f:A -> m B`."
   ]
  },
  {
   "cell_type": "markdown",
   "id": "54976470-c44b-414e-bf0f-3814c03c7c49",
   "metadata": {},
   "source": [
    "### 2.2 Back to Monads\n",
    "\n",
    "We've defined a Kleisi Category. But what about monads?\n",
    "Well, a monad `m` is just a functor that forms a Kleisi Category, i.e.\n",
    "a functor `m` together with a composition operation `⊙` and a `unit` function.\n",
    "Hence, in our example above,\n",
    "the `Writer{T,String}` functor is a monad, and so is the `Writer{T,Int}`.\n",
    "\n",
    "Note that our `Writer` construction provided a whole range of monads. For each\n",
    "monoidal type `m`, the `Writer{T,M}` represents a monad.\n",
    "\n",
    "Hence, programmatically speaking, a monad `m` is an endofunctor, together \n",
    "with a composition operator and an identity in relation to this operator.\n",
    "\n",
    "\n",
    "We can also define a monad by provinding a `bind` function. This function is\n",
    "part of the implementation of operator `⊙`. Yet, instead of composing\n",
    "two embellished functions, it composes a value of type `Writer{T,M}`\n",
    "with an embellished function.\n",
    "\n",
    "Check the implementation below."
   ]
  },
  {
   "cell_type": "code",
   "execution_count": 17,
   "id": "f376e030-d8c7-4ec9-8788-a21b70f7a8d4",
   "metadata": {},
   "outputs": [
    {
     "data": {
      "text/plain": [
       "bind (generic function with 1 method)"
      ]
     },
     "execution_count": 17,
     "metadata": {},
     "output_type": "execute_result"
    }
   ],
   "source": [
    "bind(w::Writer, f) = let\n",
    "    w2 = f(w.a)\n",
    "    return Writer(w2.a, w.log ⊗ w2.log)\n",
    "end"
   ]
  },
  {
   "cell_type": "code",
   "execution_count": 18,
   "id": "ac2a548f-b692-46ad-8749-13bcacf0ce4f",
   "metadata": {},
   "outputs": [
    {
     "data": {
      "text/plain": [
       "Writer{Int64, String}(3, \"Str.Length.\")"
      ]
     },
     "execution_count": 18,
     "metadata": {},
     "output_type": "execute_result"
    }
   ],
   "source": [
    "emb_len(x::String) = Writer(length(x),\"Length.\")\n",
    "\n",
    "bind(Writer(\"str\",\"Str.\"),emb_len)"
   ]
  },
  {
   "cell_type": "markdown",
   "id": "e7aed943-052e-43be-b952-76f34e93ab87",
   "metadata": {},
   "source": [
    "We can break this down even further. Since `m` is a functor, we have an `fmap` associated. Yet,\n",
    "note that this will actually return a `Writer{Writer{T,M},M}`, because our `fmap`\n",
    "goes into the `Writer` value and exchanges the `a::T` for `f(a)::Writer{b,M}`."
   ]
  },
  {
   "cell_type": "code",
   "execution_count": 19,
   "id": "4a4a49c8-b48e-4740-8967-2734cc87bb3a",
   "metadata": {},
   "outputs": [
    {
     "data": {
      "text/plain": [
       "Writer{Writer{Int64, String}, String}(Writer{Int64, String}(3, \"Length.\"), \"\")"
      ]
     },
     "execution_count": 19,
     "metadata": {},
     "output_type": "execute_result"
    }
   ],
   "source": [
    "fmap(emb_len, Writer(\"str\",\"\"))"
   ]
  },
  {
   "cell_type": "markdown",
   "id": "201364bd-9666-43ae-8757-f0f90066e750",
   "metadata": {},
   "source": [
    "We need another function that \"flattens\" the nested `Writer`. This is where `join` comes in. "
   ]
  },
  {
   "cell_type": "code",
   "execution_count": 20,
   "id": "8072a616-073a-471c-80b0-71c8f447bea3",
   "metadata": {},
   "outputs": [
    {
     "data": {
      "text/plain": [
       "Writer{Int64, String}(1, \"21\")"
      ]
     },
     "execution_count": 20,
     "metadata": {},
     "output_type": "execute_result"
    }
   ],
   "source": [
    "join(w::Writer{Writer{T,M},M}) where T where M = Writer(w.a.a,w.log ⊗ w.a.log )\n",
    "\n",
    "join(Writer(Writer(1,\"1\"),\"2\"))"
   ]
  },
  {
   "cell_type": "markdown",
   "id": "ee0eb20a-bc7b-461a-8c1d-edfb8e0375a5",
   "metadata": {},
   "source": [
    "We can now rewrite our `bind` function using these two more abstract implementations."
   ]
  },
  {
   "cell_type": "code",
   "execution_count": 21,
   "id": "37638e15-ac0b-4c97-8deb-fcaef88898a1",
   "metadata": {},
   "outputs": [
    {
     "data": {
      "text/plain": [
       "Writer{Int64, String}(3, \"Str.Length.\")"
      ]
     },
     "execution_count": 21,
     "metadata": {},
     "output_type": "execute_result"
    }
   ],
   "source": [
    "bind(w::Writer, f) = join(fmap(f, w))\n",
    "bind(Writer(\"str\",\"Str.\"),emb_len)"
   ]
  },
  {
   "cell_type": "markdown",
   "id": "97bab5a1-ddd3-4761-a573-655b0892cabb",
   "metadata": {},
   "source": [
    "**Very elegant!** "
   ]
  },
  {
   "cell_type": "markdown",
   "id": "bd40ea90-d073-4d92-ab2c-266d6ae7b994",
   "metadata": {},
   "source": [
    "### 2.3 Back to the Mathematical Definition of Monad\n",
    "\n",
    "We've defined our monad as a functor `m` plus a composition (or bind function) and an identity (unit) function.\n",
    "These conditions emerged in order to properly define the Kleisi Category, which, in the context of programming,\n",
    "is a category where types as the objects and *embellished functions*  are the morphisms!\n",
    "\n",
    "But what about our mathematical definition where $(m,\\eta, \\mu)$ was the monad?\n",
    "\n",
    "Now it's actually \"simple\", since we've done all the heavy lifting. The\n",
    "`unit` function is the $\\eta$, and the `join` function is the $\\mu$.\n",
    "\n",
    "Remember, $\\mu:m \\circ m \\to m$ is our natural transformation, meaning that\n",
    "for every object $a \\in \\mathcal C$, we have $\\mu_a: m(m(a)) \\to m(a)$.\n",
    "Thus, for every possible type `T`, `join(a::m(m(T))::m(a)`."
   ]
  },
  {
   "cell_type": "markdown",
   "id": "0374549f-4615-44c4-ac8d-d8896561e150",
   "metadata": {},
   "source": [
    "### 2.4 Vector Monad\n",
    "\n",
    "Consider the `Vector{T}` functor. Let's define the following natural transformations $\\eta$ and $\\mu$:"
   ]
  },
  {
   "cell_type": "code",
   "execution_count": 22,
   "id": "775fbef4-79a0-4a11-b0c1-3090a205b262",
   "metadata": {},
   "outputs": [
    {
     "data": {
      "text/plain": [
       "η (generic function with 1 method)"
      ]
     },
     "execution_count": 22,
     "metadata": {},
     "output_type": "execute_result"
    }
   ],
   "source": [
    "Vector(T::Type) = Vector{T}\n",
    "fmap(f,v::Base.Vector) = [f(i) for i in v]\n",
    "vector(x::T...) where T = [x...]\n",
    "\n",
    "vector(1,2,3)\n",
    "\n",
    "μ(x::Base.Vector{Base.Vector{T}}) where T= vcat(x...)\n",
    "η(x::T) where T = [x]"
   ]
  },
  {
   "cell_type": "markdown",
   "id": "32ff3d53-2a38-43b0-a7e6-b5a5b597ce15",
   "metadata": {},
   "source": [
    "Does (`Vector{T}`,`η`,`μ`) satisfy the monad conditions we've imposed?"
   ]
  },
  {
   "cell_type": "code",
   "execution_count": 23,
   "id": "56ad9290-93eb-47c4-9841-39def8fc08a9",
   "metadata": {},
   "outputs": [
    {
     "name": "stdout",
     "output_type": "stream",
     "text": [
      "μ(fmap(η, x)) == x = true\n",
      "μ(η(x)) == x = true\n",
      "μ(fmap(μ, x)) == μ(μ(x)) = true\n"
     ]
    }
   ],
   "source": [
    "x = [1,2,3]\n",
    "@show μ(fmap(η, x)) == x # This means μ ∘ m η == 1ₘ\n",
    "@show μ(η(x)) == x # This means μ ∘ η m == 1ₘ\n",
    "\n",
    "x = [[[1],[2,3]],[[1]]]\n",
    "@show μ(fmap(μ,x)) == μ(μ(x));"
   ]
  }
 ],
 "metadata": {
  "kernelspec": {
   "display_name": "Julia 1.8.2",
   "language": "julia",
   "name": "julia-1.8"
  },
  "language_info": {
   "file_extension": ".jl",
   "mimetype": "application/julia",
   "name": "julia",
   "version": "1.8.2"
  }
 },
 "nbformat": 4,
 "nbformat_minor": 5
}
