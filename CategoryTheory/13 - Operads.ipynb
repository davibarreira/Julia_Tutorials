{
 "cells": [
  {
   "cell_type": "markdown",
   "id": "c5b164b8-1a0b-4be8-a6d3-bc911035bb62",
   "metadata": {},
   "source": [
    "# Operads\n",
    "\n",
    "Think of the algebra of trees. "
   ]
  },
  {
   "cell_type": "code",
   "execution_count": null,
   "id": "4076ba5e-0fd3-4989-97b8-66875d24fc36",
   "metadata": {},
   "outputs": [],
   "source": []
  }
 ],
 "metadata": {
  "kernelspec": {
   "display_name": "Julia 1.9.3",
   "language": "julia",
   "name": "julia-1.9"
  },
  "language_info": {
   "file_extension": ".jl",
   "mimetype": "application/julia",
   "name": "julia",
   "version": "1.9.3"
  }
 },
 "nbformat": 4,
 "nbformat_minor": 5
}
