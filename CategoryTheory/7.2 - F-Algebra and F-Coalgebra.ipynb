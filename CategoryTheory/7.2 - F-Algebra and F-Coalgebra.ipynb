{
 "cells": [
  {
   "cell_type": "markdown",
   "id": "8a2a1332-2f71-4d9d-896b-c5e523b82496",
   "metadata": {},
   "source": [
    "# **F-Algebra and F-Coalbgera**\n"
   ]
  },
  {
   "cell_type": "code",
   "execution_count": 1,
   "id": "0107cb4c-1a3c-4d09-a970-84b4562fdd84",
   "metadata": {},
   "outputs": [
    {
     "name": "stderr",
     "output_type": "stream",
     "text": [
      "\u001b[32m\u001b[1m  Activating\u001b[22m\u001b[39m project at `~/MEGA/EMAP/Julia_Tutorials/CategoryTheory`\n"
     ]
    }
   ],
   "source": [
    "using Pkg\n",
    "Pkg.activate(\".\")\n",
    "using MLStyle"
   ]
  },
  {
   "cell_type": "code",
   "execution_count": 2,
   "id": "a51d7929-fab3-432a-8679-0f65b17ec8bf",
   "metadata": {},
   "outputs": [],
   "source": [
    "struct NilF end\n",
    "struct ConsF{c,a}\n",
    "    _1::c\n",
    "    _2::a\n",
    "end\n",
    "ListF{c,a} = Union{NilF, ConsF{c,a}}\n",
    "fmap(f::Function, x::ConsF) = ConsF(x._1,f(x._2))\n",
    "fmap(f::Function, x::NilF)  = NilF()\n",
    "\n",
    "\n",
    "# data List c = Nil | Cons c (List c) ----- In Haskell\n",
    "struct Nil end\n",
    "struct Cons{c}\n",
    "    _1::c\n",
    "    _2::Union{Nil, Cons{c}}\n",
    "end\n",
    "\n",
    "List{T} = Union{Nil, Cons{T}};"
   ]
  },
  {
   "cell_type": "code",
   "execution_count": 3,
   "id": "1e5d32a8-33a7-429e-84f9-8d854480b184",
   "metadata": {},
   "outputs": [
    {
     "data": {
      "text/plain": [
       "Cons{Int64}(10, Nil())"
      ]
     },
     "execution_count": 3,
     "metadata": {},
     "output_type": "execute_result"
    }
   ],
   "source": [
    "fix(::NilF)  = Nil()\n",
    "fix(x::ConsF)= Cons(x._1,x._2)\n",
    "fix(ConsF(10, Nil()))"
   ]
  },
  {
   "cell_type": "markdown",
   "id": "0c735757-be53-48a7-8689-67208a711b92",
   "metadata": {},
   "source": [
    "Note that `ListF{I,T}` is a functor when we fix the first type. Fix `I` to be `Int`. Now we have\n",
    "`ListF{Int,T}`, which we use to create the category of algebras over.\n",
    "The (`List{Int}`,`fix`) algebra is the initial object in the `ListF{Int,_}`-Algebra category.\n",
    "Let's define another F-Algebra for the functor `ListF{Int,_}`. For that, we need a *carrier* type `T`\n",
    "and an evaluation function `eval(x::ListF{Int,T})::T`.\n",
    "\n",
    "Take `T` to be `Int`. We can define the evaluation as the following:"
   ]
  },
  {
   "cell_type": "code",
   "execution_count": 4,
   "id": "65513d41-eca0-4ff9-9c95-de807d9c4f2f",
   "metadata": {},
   "outputs": [],
   "source": [
    "evalSum(::NilF)   = 0\n",
    "evalSum(x::ConsF{Int,Int}) = x._1 + x._2;"
   ]
  },
  {
   "cell_type": "code",
   "execution_count": 5,
   "id": "7f74c6c3-798d-46e6-993d-7651ee276425",
   "metadata": {},
   "outputs": [
    {
     "data": {
      "text/plain": [
       "30"
      ]
     },
     "execution_count": 5,
     "metadata": {},
     "output_type": "execute_result"
    }
   ],
   "source": [
    "cataSum(::Nil)   = evalSum(NilF())\n",
    "cataSum(x::Cons) = evalSum(ConsF(x._1,(cataSum(x._2))))\n",
    "cataSum(Cons(10, Cons(20,Nil())))"
   ]
  },
  {
   "cell_type": "markdown",
   "id": "4419a976-740b-41f6-9f8c-dc023fb5cba2",
   "metadata": {},
   "source": [
    "Note that (`Int`, `evalSum`) is a `ListF{Int,_}`-Algebra. With the same carrier (`Int`) we can\n",
    "define a new algebra by changing `evalSum` for `evalProd`.\n",
    "\n",
    "Hence, we get a new catamorphism `cataProd`."
   ]
  },
  {
   "cell_type": "code",
   "execution_count": 6,
   "id": "2243041e-090b-4a72-a667-96447582c888",
   "metadata": {},
   "outputs": [
    {
     "data": {
      "text/plain": [
       "200"
      ]
     },
     "execution_count": 6,
     "metadata": {},
     "output_type": "execute_result"
    }
   ],
   "source": [
    "evalProd(::NilF)   = 1\n",
    "evalProd(x::ConsF{Int,Int}) = x._1 * x._2;\n",
    "\n",
    "cataProd(::Nil)   = evalProd(NilF())\n",
    "cataProd(x::Cons) = evalProd(ConsF(x._1,(cataProd(x._2))))\n",
    "cataProd(Cons(10, Cons(20,Nil())))"
   ]
  },
  {
   "cell_type": "markdown",
   "id": "18ff8a0b-414d-44e4-8e1d-c478d9c64080",
   "metadata": {},
   "source": [
    "### Catamorphism"
   ]
  },
  {
   "cell_type": "markdown",
   "id": "70f39730-8d02-4190-8802-a3f91c1ee600",
   "metadata": {},
   "source": [
    "We can perceive that there is a general construction. Which is defined as\n",
    "\n",
    "```Haskell\n",
    "cata alg = alg . fmap (cata alg) . unFix\n",
    "```\n",
    "\n",
    "A theorem by Lambek states that for the initial F-Algebra, which is `(List{c}, fix)` in our case,\n",
    "there is an inverse function to `fix`, which we call `unfix`. While\n",
    "`fix(x::ListF{c, List{c}})::List{c}`, the inverse take a vaue of `List{c}` and returns\n",
    "a value of type `ListF{c,List{c}}`. Let's implement this."
   ]
  },
  {
   "cell_type": "code",
   "execution_count": 7,
   "id": "17f58020-70ce-40f1-97d5-165472091a7f",
   "metadata": {},
   "outputs": [
    {
     "data": {
      "text/plain": [
       "ConsF{Int64, Nil}(10, Nil())"
      ]
     },
     "execution_count": 7,
     "metadata": {},
     "output_type": "execute_result"
    }
   ],
   "source": [
    "unfix(::Nil) = NilF()\n",
    "unfix(x::Cons)= ConsF(x._1,x._2)\n",
    "unfix(Cons(10, Nil()))"
   ]
  },
  {
   "cell_type": "markdown",
   "id": "47c0e0aa-7673-46b6-8734-c98176955939",
   "metadata": {},
   "source": [
    "We can now implement the generic catamorphism. Note that the idea is to\n",
    "do a single implementation `cata` that takes an algebra (`eval`), instead\n",
    "of implementing every single `cataSum`,  `cataProd` and so on."
   ]
  },
  {
   "cell_type": "code",
   "execution_count": 8,
   "id": "5130f430-0b90-4439-a3cd-a104b74a46e6",
   "metadata": {},
   "outputs": [
    {
     "name": "stdout",
     "output_type": "stream",
     "text": [
      "cata(evalSum, Nil()) = 0\n",
      "cata(evalSum, Cons(10, Nil())) = 10\n",
      "cata(evalSum, Cons(10, Cons(10, Nil()))) = 20\n",
      "cata(evalProd, Nil()) = 1\n",
      "cata(evalProd, Cons(10, Nil())) = 10\n",
      "cata(evalProd, Cons(10, Cons(10, Nil()))) = 100\n"
     ]
    }
   ],
   "source": [
    "x = Cons(20,Cons(10,Nil()))\n",
    "\n",
    "cata(alg::Function, x::List) = alg(fmap(y -> cata(alg, y), unfix(x)))\n",
    "@show cata(evalSum,Nil())\n",
    "@show cata(evalSum,Cons(10,Nil()))\n",
    "@show cata(evalSum,Cons(10,Cons(10,Nil())));\n",
    "\n",
    "@show cata(evalProd,Nil())\n",
    "@show cata(evalProd,Cons(10,Nil()))\n",
    "@show cata(evalProd,Cons(10,Cons(10,Nil())));"
   ]
  },
  {
   "cell_type": "markdown",
   "id": "3e2bc9f1-d7bc-45c4-b75c-abaec05faec0",
   "metadata": {},
   "source": [
    "**Example 2 - Natural Numbers Functor** "
   ]
  },
  {
   "cell_type": "code",
   "execution_count": 28,
   "id": "8e6d861d-b1e8-46a2-883d-a180f27f88b6",
   "metadata": {},
   "outputs": [
    {
     "name": "stdout",
     "output_type": "stream",
     "text": [
      "fib(SuccF((10, 10))) = (10, 20)\n",
      "fib(ZeroF()) = (1, 1)\n",
      "cata(fib, Succ(Succ(Zero()))) = (2, 2)\n"
     ]
    }
   ],
   "source": [
    "@data NatF begin\n",
    "    ZeroF()\n",
    "    SuccF(_1)\n",
    "end\n",
    "fmap(f::Function, x::ZeroF)  = ZeroF()\n",
    "fmap(f::Function, x::SuccF) = SuccF(f(x._1))\n",
    "\n",
    "@data Nat begin\n",
    "    Zero()\n",
    "    Succ(Nat)\n",
    "end\n",
    "unfix(::Zero) = ZeroF()\n",
    "unfix(x::Succ)= SuccF(x._1)\n",
    "unfix(Succ(Succ(Zero())))\n",
    "\n",
    "fib(::ZeroF) = (1,1)\n",
    "fib(x::SuccF) = (x._1[2], x._1[1] + x._1[1])\n",
    "\n",
    "@show fib(SuccF((10,10)))\n",
    "@show fib(ZeroF());\n",
    "\n",
    "cata(alg::Function, x::Nat) = alg(fmap(y -> cata(alg, y), unfix(x)))\n",
    "\n",
    "@show cata(fib, Succ(Succ(Zero())));"
   ]
  }
 ],
 "metadata": {
  "kernelspec": {
   "display_name": "Julia 1.9.0",
   "language": "julia",
   "name": "julia-1.9"
  },
  "language_info": {
   "file_extension": ".jl",
   "mimetype": "application/julia",
   "name": "julia",
   "version": "1.9.0"
  }
 },
 "nbformat": 4,
 "nbformat_minor": 5
}
