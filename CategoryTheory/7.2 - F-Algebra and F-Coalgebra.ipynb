{
 "cells": [
  {
   "cell_type": "markdown",
   "id": "8a2a1332-2f71-4d9d-896b-c5e523b82496",
   "metadata": {},
   "source": [
    "# **F-Algebra and F-Coalbgera**\n"
   ]
  },
  {
   "cell_type": "code",
   "execution_count": 1,
   "id": "0107cb4c-1a3c-4d09-a970-84b4562fdd84",
   "metadata": {},
   "outputs": [
    {
     "name": "stderr",
     "output_type": "stream",
     "text": [
      "\u001b[32m\u001b[1m  Activating\u001b[22m\u001b[39m project at `~/Documents/GitHub/Julia_Tutorials/CategoryTheory`\n"
     ]
    }
   ],
   "source": [
    "using Pkg\n",
    "Pkg.activate(\".\")\n",
    "using MLStyle"
   ]
  },
  {
   "cell_type": "code",
   "execution_count": 2,
   "id": "a51d7929-fab3-432a-8679-0f65b17ec8bf",
   "metadata": {},
   "outputs": [],
   "source": [
    "struct NilF end\n",
    "struct ConsF{c,a}\n",
    "    _1::c\n",
    "    _2::a\n",
    "end\n",
    "ListF{c,a} = Union{NilF, ConsF{c,a}}\n",
    "fmap(f::Function, x::ConsF) = ConsF(x._1,f(x._2))\n",
    "fmap(f::Function, x::NilF)  = NilF()\n",
    "\n",
    "\n",
    "# data List c = Nil | Cons c (List c) ----- In Haskell\n",
    "struct Nil end\n",
    "struct Cons{c}\n",
    "    _1::c\n",
    "    _2::Union{Nil, Cons{c}}\n",
    "end\n",
    "\n",
    "List{T} = Union{Nil, Cons{T}};"
   ]
  },
  {
   "cell_type": "code",
   "execution_count": 3,
   "id": "1e5d32a8-33a7-429e-84f9-8d854480b184",
   "metadata": {},
   "outputs": [
    {
     "data": {
      "text/plain": [
       "Cons{Int64}(10, Nil())"
      ]
     },
     "execution_count": 3,
     "metadata": {},
     "output_type": "execute_result"
    }
   ],
   "source": [
    "fix(::NilF)  = Nil()\n",
    "fix(x::ConsF)= Cons(x._1,x._2)\n",
    "fix(ConsF(10, Nil()))"
   ]
  },
  {
   "cell_type": "markdown",
   "id": "0c735757-be53-48a7-8689-67208a711b92",
   "metadata": {},
   "source": [
    "Note that `ListF{I,T}` is a functor when we fix the first type. Fix `I` to be `Int`. Now we have\n",
    "`ListF{Int,T}`, which we use to create the category of algebras over.\n",
    "The (`List{Int}`,`fix`) algebra is the initial object in the `ListF{Int,_}`-Algebra category.\n",
    "Let's define another F-Algebra for the functor `ListF{Int,_}`. For that, we need a *carrier* type `T`\n",
    "and an evaluation function `eval(x::ListF{Int,T})::T`.\n",
    "\n",
    "Take `T` to be `Int`. We can define the evaluation as the following:"
   ]
  },
  {
   "cell_type": "code",
   "execution_count": 4,
   "id": "65513d41-eca0-4ff9-9c95-de807d9c4f2f",
   "metadata": {},
   "outputs": [],
   "source": [
    "evalSum(::NilF)   = 0\n",
    "evalSum(x::ConsF{Int,Int}) = x._1 + x._2;"
   ]
  },
  {
   "cell_type": "code",
   "execution_count": 5,
   "id": "7f74c6c3-798d-46e6-993d-7651ee276425",
   "metadata": {},
   "outputs": [
    {
     "data": {
      "text/plain": [
       "30"
      ]
     },
     "execution_count": 5,
     "metadata": {},
     "output_type": "execute_result"
    }
   ],
   "source": [
    "cataSum(::Nil)   = evalSum(NilF())\n",
    "cataSum(x::Cons) = evalSum(ConsF(x._1,(cataSum(x._2))))\n",
    "cataSum(Cons(10, Cons(20,Nil())))"
   ]
  },
  {
   "cell_type": "markdown",
   "id": "4419a976-740b-41f6-9f8c-dc023fb5cba2",
   "metadata": {},
   "source": [
    "Note that (`Int`, `evalSum`) is a `ListF{Int,_}`-Algebra. With the same carrier (`Int`) we can\n",
    "define a new algebra by changing `evalSum` for `evalProd`.\n",
    "\n",
    "Hence, we get a new catamorphism `cataProd`."
   ]
  },
  {
   "cell_type": "code",
   "execution_count": 6,
   "id": "2243041e-090b-4a72-a667-96447582c888",
   "metadata": {},
   "outputs": [
    {
     "data": {
      "text/plain": [
       "200"
      ]
     },
     "execution_count": 6,
     "metadata": {},
     "output_type": "execute_result"
    }
   ],
   "source": [
    "evalProd(::NilF)   = 1\n",
    "evalProd(x::ConsF{Int,Int}) = x._1 * x._2;\n",
    "\n",
    "cataProd(::Nil)   = evalProd(NilF())\n",
    "cataProd(x::Cons) = evalProd(ConsF(x._1,(cataProd(x._2))))\n",
    "cataProd(Cons(10, Cons(20,Nil())))"
   ]
  },
  {
   "cell_type": "markdown",
   "id": "18ff8a0b-414d-44e4-8e1d-c478d9c64080",
   "metadata": {},
   "source": [
    "### Catamorphism"
   ]
  },
  {
   "cell_type": "markdown",
   "id": "70f39730-8d02-4190-8802-a3f91c1ee600",
   "metadata": {},
   "source": [
    "We can perceive that there is a general construction. Which is defined as\n",
    "\n",
    "```Haskell\n",
    "cata alg = alg . fmap (cata alg) . unFix\n",
    "```\n",
    "\n",
    "A theorem by Lambek states that for the initial F-Algebra, which is `(List{c}, fix)` in our case,\n",
    "there is an inverse function to `fix`, which we call `unfix`. While\n",
    "`fix(x::ListF{c, List{c}})::List{c}`, the inverse take a vaue of `List{c}` and returns\n",
    "a value of type `ListF{c,List{c}}`. Let's implement this."
   ]
  },
  {
   "cell_type": "code",
   "execution_count": 7,
   "id": "17f58020-70ce-40f1-97d5-165472091a7f",
   "metadata": {},
   "outputs": [
    {
     "data": {
      "text/plain": [
       "ConsF{Int64, Nil}(10, Nil())"
      ]
     },
     "execution_count": 7,
     "metadata": {},
     "output_type": "execute_result"
    }
   ],
   "source": [
    "unfix(::Nil) = NilF()\n",
    "unfix(x::Cons)= ConsF(x._1,x._2)\n",
    "unfix(Cons(10, Nil()))"
   ]
  },
  {
   "cell_type": "markdown",
   "id": "47c0e0aa-7673-46b6-8734-c98176955939",
   "metadata": {},
   "source": [
    "We can now implement the generic catamorphism. Note that the idea is to\n",
    "do a single implementation `cata` that takes an algebra (`eval`), instead\n",
    "of implementing every single `cataSum`,  `cataProd` and so on."
   ]
  },
  {
   "cell_type": "code",
   "execution_count": 8,
   "id": "5130f430-0b90-4439-a3cd-a104b74a46e6",
   "metadata": {},
   "outputs": [
    {
     "name": "stdout",
     "output_type": "stream",
     "text": [
      "cata(evalSum, Nil()) = 0\n",
      "cata(evalSum, Cons(10, Nil())) = 10\n",
      "cata(evalSum, Cons(10, Cons(10, Nil()))) = 20\n",
      "cata(evalProd, Nil()) = 1\n",
      "cata(evalProd, Cons(10, Nil())) = 10\n",
      "cata(evalProd, Cons(10, Cons(10, Nil()))) = 100\n"
     ]
    }
   ],
   "source": [
    "x = Cons(20,Cons(10,Nil()))\n",
    "\n",
    "cata(alg::Function, x::List) = alg(fmap(y -> cata(alg, y), unfix(x)))\n",
    "@show cata(evalSum,Nil())\n",
    "@show cata(evalSum,Cons(10,Nil()))\n",
    "@show cata(evalSum,Cons(10,Cons(10,Nil())));\n",
    "\n",
    "@show cata(evalProd,Nil())\n",
    "@show cata(evalProd,Cons(10,Nil()))\n",
    "@show cata(evalProd,Cons(10,Cons(10,Nil())));"
   ]
  },
  {
   "cell_type": "code",
   "execution_count": 9,
   "id": "63bb6281-b7b6-4087-bb29-dce4ced18deb",
   "metadata": {
    "tags": []
   },
   "outputs": [
    {
     "data": {
      "text/plain": [
       "ConsF{Int64, Int64}(10, 0)"
      ]
     },
     "execution_count": 9,
     "metadata": {},
     "output_type": "execute_result"
    }
   ],
   "source": [
    "# cata(evalSum, Nil())\n",
    "fmap(y->cata(evalSum,y),unfix(Cons(10,Nil())))"
   ]
  },
  {
   "cell_type": "markdown",
   "id": "3e2bc9f1-d7bc-45c4-b75c-abaec05faec0",
   "metadata": {},
   "source": [
    "**Example 2 - Natural Numbers Functor** "
   ]
  },
  {
   "cell_type": "code",
   "execution_count": 10,
   "id": "8e6d861d-b1e8-46a2-883d-a180f27f88b6",
   "metadata": {},
   "outputs": [
    {
     "name": "stdout",
     "output_type": "stream",
     "text": [
      "fib(SuccF((10, 10))) = (10, 20)\n",
      "fib(ZeroF()) = (1, 1)\n",
      "cata(fib, Succ(Succ(Zero()))) = (2, 2)\n"
     ]
    }
   ],
   "source": [
    "@data NatF begin\n",
    "    ZeroF()\n",
    "    SuccF(_1)\n",
    "end\n",
    "fmap(f::Function, x::ZeroF)  = ZeroF()\n",
    "fmap(f::Function, x::SuccF) = SuccF(f(x._1))\n",
    "\n",
    "@data Nat begin\n",
    "    Zero()\n",
    "    Succ(Nat)\n",
    "end\n",
    "unfix(::Zero) = ZeroF()\n",
    "unfix(x::Succ)= SuccF(x._1)\n",
    "unfix(Succ(Succ(Zero())))\n",
    "\n",
    "fib(::ZeroF) = (1,1)\n",
    "fib(x::SuccF) = (x._1[2], x._1[1] + x._1[1])\n",
    "\n",
    "@show fib(SuccF((10,10)))\n",
    "@show fib(ZeroF());\n",
    "\n",
    "cata(alg::Function, x::Nat) = alg(fmap(y -> cata(alg, y), unfix(x)))\n",
    "\n",
    "@show cata(fib, Succ(Succ(Zero())));"
   ]
  },
  {
   "cell_type": "markdown",
   "id": "f592aab7-0d68-4540-b983-bdeb9fb394e9",
   "metadata": {},
   "source": [
    "## Vector to List\n",
    "\n",
    "In Julia, we already have the Vector type to represent a List. We can define a function that turns a Vector into our List type."
   ]
  },
  {
   "cell_type": "code",
   "execution_count": 11,
   "id": "1a62bd27-0f54-4514-9edb-03a35b8073a0",
   "metadata": {},
   "outputs": [
    {
     "data": {
      "text/plain": [
       "3-element Vector{Int64}:\n",
       " 1\n",
       " 2\n",
       " 3"
      ]
     },
     "execution_count": 11,
     "metadata": {},
     "output_type": "execute_result"
    }
   ],
   "source": [
    "function vectolist(x::Vector)\n",
    "    if x == []\n",
    "        return Nil()\n",
    "    end\n",
    "    (n,ns) = Iterators.peel(x)\n",
    "    ns = collect(ns)\n",
    "    return Cons(n,vectolist(ns))\n",
    "end\n",
    "\n",
    "listtovec(x::Nil) = []\n",
    "listtovec(x::Cons{T}) where T = convert(Vector{T},vcat(x._1,listtovec(x._2)))\n",
    "listtovec(vectolist([1,2,3]))"
   ]
  },
  {
   "cell_type": "markdown",
   "id": "78e1bd90-5899-427e-b7c5-8b1db1fd6991",
   "metadata": {},
   "source": [
    "## Co-Algebras and Anamorphism\n",
    "The co-algebra is the dual of an F-Algebra:\n",
    "$$\n",
    "a \\to F a\n",
    "$$\n"
   ]
  },
  {
   "cell_type": "markdown",
   "id": "79d8462a-87e5-4899-adb6-ed2d30359998",
   "metadata": {},
   "source": [
    "Instead of our `List` , let us use the `Vector` from Julia."
   ]
  },
  {
   "cell_type": "code",
   "execution_count": 12,
   "id": "339ad9a8-e96b-40d1-877a-37ab43ca5715",
   "metadata": {},
   "outputs": [
    {
     "data": {
      "text/plain": [
       "fmap (generic function with 5 methods)"
      ]
     },
     "execution_count": 12,
     "metadata": {},
     "output_type": "execute_result"
    }
   ],
   "source": [
    "# Make `Vector` into a functor by defining the fmap\n",
    "fmap(f,x) = map(f,x)"
   ]
  },
  {
   "cell_type": "code",
   "execution_count": 13,
   "id": "15bba8d7-21dc-43fd-9953-01ab8a488acd",
   "metadata": {},
   "outputs": [
    {
     "data": {
      "text/plain": [
       "Node(10, Leaf(), Leaf())"
      ]
     },
     "execution_count": 13,
     "metadata": {},
     "output_type": "execute_result"
    }
   ],
   "source": [
    "@data TreeF{a} begin\n",
    "    LeafF()\n",
    "    NodeF(Int,::a, ::a)\n",
    "end\n",
    "fmap(f::Function, x::LeafF) = x\n",
    "fmap(f::Function, x::NodeF) = NodeF(x._1,f(x._2),f(x._3))\n",
    "NodeF(x::Int,y::TreeF{T},z::TreeF{T}) where T = NodeF{TreeF{T}}(x,y,z) \n",
    "\n",
    "@data Tree begin\n",
    "    Leaf()\n",
    "    Node(Int,::Tree, ::Tree)\n",
    "end\n",
    "\n",
    "fix(x::LeafF)  = Leaf()\n",
    "fix(x::NodeF)= Node(x._1,x._2,x._3)\n",
    "\n",
    "NodeF(x::Int,y::Tree, z::Tree) = NodeF{Tree}(x::Int,y,z)\n",
    "fix(NodeF(10,fix(LeafF{Int}()),fix(LeafF{Int}())))"
   ]
  },
  {
   "cell_type": "code",
   "execution_count": 14,
   "id": "de471e02-8923-4bd1-9397-9ba18899d7c0",
   "metadata": {},
   "outputs": [
    {
     "data": {
      "text/plain": [
       "([1, 2, 3, -12, 0], [4, 5])"
      ]
     },
     "execution_count": 14,
     "metadata": {},
     "output_type": "execute_result"
    }
   ],
   "source": [
    "x = [1,2,3,4,-12,0,5]\n",
    "function partition(f, x::Vector{T}) where T\n",
    "    index = map(f, x)\n",
    "    x[index],x[.!(index)]\n",
    "end\n",
    "partition(x-> x ≤ 3,x)"
   ]
  },
  {
   "cell_type": "code",
   "execution_count": 15,
   "id": "224a2bdc-5e34-4cdc-bd7a-68bdf33479ee",
   "metadata": {},
   "outputs": [
    {
     "data": {
      "text/plain": [
       "split (generic function with 1 method)"
      ]
     },
     "execution_count": 15,
     "metadata": {},
     "output_type": "execute_result"
    }
   ],
   "source": [
    "function split(ns::Vector{Int})::TreeF{Vector{Int}}\n",
    "    if isempty(ns)\n",
    "        return LeafF{Vector{Int}}()\n",
    "    end\n",
    "    \n",
    "    # Extract head and tail [1,2,3], after peel we get n = 1, ns = [2,3]\n",
    "    # ns comes out as an iterator, hence we use `collect`.\n",
    "    (n,ns) = Iterators.peel(ns)\n",
    "    ns = collect(ns)\n",
    "    \n",
    "    (left, right) = partition(x -> x <= n, ns)\n",
    "    return NodeF(n, left, right)\n",
    "end"
   ]
  },
  {
   "cell_type": "code",
   "execution_count": 16,
   "id": "0af12d63-362b-4ebd-bcd3-c5fdc9ca8ec8",
   "metadata": {},
   "outputs": [
    {
     "data": {
      "text/plain": [
       "LeafF{Vector{Int64}}()"
      ]
     },
     "execution_count": 16,
     "metadata": {},
     "output_type": "execute_result"
    }
   ],
   "source": [
    "split(Int[])"
   ]
  },
  {
   "cell_type": "code",
   "execution_count": 17,
   "id": "d9c4ffb8-c1e5-4783-b873-fcd42b49642a",
   "metadata": {},
   "outputs": [
    {
     "data": {
      "text/plain": [
       "NodeF{Vector{Int64}}(1, Int64[], Int64[])"
      ]
     },
     "execution_count": 17,
     "metadata": {},
     "output_type": "execute_result"
    }
   ],
   "source": [
    "split([1])"
   ]
  },
  {
   "cell_type": "code",
   "execution_count": 18,
   "id": "d7863c7a-a7a5-4764-a7ae-2b163eeecda7",
   "metadata": {},
   "outputs": [
    {
     "data": {
      "text/plain": [
       "NodeF{Vector{Int64}}(1, [0, 1], [2, 3])"
      ]
     },
     "execution_count": 18,
     "metadata": {},
     "output_type": "execute_result"
    }
   ],
   "source": [
    "split([1,2,0,1,3])"
   ]
  },
  {
   "cell_type": "markdown",
   "id": "26a9bf80-8bd7-4139-96d7-70e25420bc41",
   "metadata": {},
   "source": [
    "```\n",
    "ana :: Functor f => Coalgebra f a -> a -> Fix f\n",
    "ana coa = In . fmap (ana coa) . coa\n",
    "``` "
   ]
  },
  {
   "cell_type": "code",
   "execution_count": null,
   "id": "3e09c919-cf8d-4db7-869f-b500ce339f03",
   "metadata": {},
   "outputs": [],
   "source": [
    "fmap(f::Function) = x->fmap(f, x)"
   ]
  },
  {
   "cell_type": "code",
   "execution_count": 23,
   "id": "4e7efa1a-792f-47f0-ad93-2b5bc257cd57",
   "metadata": {},
   "outputs": [
    {
     "data": {
      "text/plain": [
       "ana (generic function with 1 method)"
      ]
     },
     "execution_count": 23,
     "metadata": {},
     "output_type": "execute_result"
    }
   ],
   "source": [
    "# Let coalg: A -> [A] , i.e. List coalgebras\n",
    "ana(coalg::Function, x) = fix(fmap(y -> ana(coalg, y), coalg(x)))"
   ]
  },
  {
   "cell_type": "code",
   "execution_count": 24,
   "id": "819cb3d4-2a8e-4856-95ce-3cf12b5bdcd6",
   "metadata": {},
   "outputs": [
    {
     "data": {
      "text/plain": [
       "Leaf()"
      ]
     },
     "execution_count": 24,
     "metadata": {},
     "output_type": "execute_result"
    }
   ],
   "source": [
    "ana(split,Int[])"
   ]
  },
  {
   "cell_type": "code",
   "execution_count": 25,
   "id": "03a3d2c6-b870-466e-a100-7847f62dd3bc",
   "metadata": {},
   "outputs": [
    {
     "data": {
      "text/plain": [
       "Node(1, Leaf(), Leaf())"
      ]
     },
     "execution_count": 25,
     "metadata": {},
     "output_type": "execute_result"
    }
   ],
   "source": [
    "ana(split,[1])"
   ]
  },
  {
   "cell_type": "code",
   "execution_count": 27,
   "id": "9dd8299e-dd9c-4ccc-b641-e9bd6e76bd05",
   "metadata": {},
   "outputs": [
    {
     "data": {
      "text/plain": [
       "Node(1, Leaf(), Node(2, Leaf(), Node(3, Leaf(), Node(4, Leaf(), Node(5, Leaf(), Leaf())))))"
      ]
     },
     "execution_count": 27,
     "metadata": {},
     "output_type": "execute_result"
    }
   ],
   "source": [
    "ana(split,[1,2,3,4,5])"
   ]
  }
 ],
 "metadata": {
  "kernelspec": {
   "display_name": "Julia 1.10.1",
   "language": "julia",
   "name": "julia-1.10"
  },
  "language_info": {
   "file_extension": ".jl",
   "mimetype": "application/julia",
   "name": "julia",
   "version": "1.10.1"
  }
 },
 "nbformat": 4,
 "nbformat_minor": 5
}
