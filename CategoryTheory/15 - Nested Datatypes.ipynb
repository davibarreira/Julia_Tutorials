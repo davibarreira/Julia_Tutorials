{
 "cells": [
  {
   "cell_type": "markdown",
   "id": "ac335163-a20e-4ba7-977c-f450ae938504",
   "metadata": {},
   "source": [
    "# Nested Datatypes\n",
    "\n",
    "Consider the following binary functor:\n",
    "$$\n",
    "F(a,b) := 1 + a \\times b\n",
    "$$\n",
    "\n",
    "Fix an $a$ and define $F_a(b) := F(a,b)$. We then have the category of $F_a$-algebras,\n",
    "where an object in this category is a tuple $(alg, x)$ such that $alg:F_a(x) \\to x$,\n",
    "and the morphisms are homomorphisms between the algebras. We then have an initial\n",
    "object for such category, which will be the `List a` object in $\\mathbf Set$ (remember\n",
    "that we consider sets to be types).\n",
    "Thus, we have the initial algebra $(\\phi, List a)$, where:\n",
    "$$\n",
    "\\alpha_a: F_a(List a) \\to List a.\n",
    "$$\n"
   ]
  },
  {
   "cell_type": "code",
   "execution_count": null,
   "id": "9a8b6fc3-f608-4937-8a5c-faf5a4652c27",
   "metadata": {},
   "outputs": [],
   "source": []
  }
 ],
 "metadata": {
  "kernelspec": {
   "display_name": "Julia 1.9.3",
   "language": "julia",
   "name": "julia-1.9"
  },
  "language_info": {
   "file_extension": ".jl",
   "mimetype": "application/julia",
   "name": "julia",
   "version": "1.9.3"
  }
 },
 "nbformat": 4,
 "nbformat_minor": 5
}
