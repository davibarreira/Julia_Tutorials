{
 "cells": [
  {
   "cell_type": "markdown",
   "id": "c8257f90-4a7e-4a4b-b6d9-091a81014e53",
   "metadata": {},
   "source": [
    "# Monads Revisited\n",
    "\n",
    "Let's go back to monads. In Haskell, a monad is a type class defined as\n",
    "```haskell\n",
    "class Functor m => Monad m where\n",
    "    (<=<) :: (b -> m c) -> (a -> m b) -> (a -> m c)\n",
    "    return :: a -> m a\n",
    "```"
   ]
  },
  {
   "cell_type": "code",
   "execution_count": 1,
   "id": "b598e109-e54a-4683-9920-5fea695ad46f",
   "metadata": {},
   "outputs": [
    {
     "name": "stderr",
     "output_type": "stream",
     "text": [
      "\u001b[32m\u001b[1m  Activating\u001b[22m\u001b[39m project at `~/MEGA/EMAP/Julia_Tutorials/CategoryTheory`\n"
     ]
    }
   ],
   "source": [
    "using Pkg\n",
    "Pkg.activate(\".\")\n",
    "using MLStyle\n",
    "\n",
    "include(\"aux_functors.jl\");"
   ]
  },
  {
   "cell_type": "markdown",
   "id": "c185fd60-9f03-40ac-936f-5a094f0d03e0",
   "metadata": {},
   "source": [
    "## Example - List Monad"
   ]
  },
  {
   "cell_type": "code",
   "execution_count": 1,
   "id": "5f3129da-5dff-4fef-be76-90e3b41b375e",
   "metadata": {},
   "outputs": [
    {
     "data": {
      "text/plain": [
       "fmap (generic function with 2 methods)"
      ]
     },
     "execution_count": 1,
     "metadata": {},
     "output_type": "execute_result"
    }
   ],
   "source": [
    "struct Nil end\n",
    "struct Cons{T}\n",
    "  val::T\n",
    "  next::Union{Cons{T},Nil} # n.b. abstract type!\n",
    "end\n",
    "List{T} = Union{Cons{T}, Nil}\n",
    "fmap(f::Function, x::Nil) = Nil()\n",
    "fmap(f::Function, x::Cons) = Cons(f(x.val),fmap(f, x.next))"
   ]
  },
  {
   "cell_type": "code",
   "execution_count": 2,
   "id": "98b0b4f0-afd2-469a-af6e-edd9e2cf096d",
   "metadata": {},
   "outputs": [
    {
     "data": {
      "text/plain": [
       "bind (generic function with 1 method)"
      ]
     },
     "execution_count": 2,
     "metadata": {},
     "output_type": "execute_result"
    }
   ],
   "source": [
    "concatenate(x::Nil ,y::List) = y\n",
    "concatenate(x::Cons,y::List) = Cons(x.val, concatenate(x.next, y))\n",
    "\n",
    "μ(x::Nil) = Nil()\n",
    "μ(x::Cons{<:List})  = concatenate(x.val, μ(x.next))\n",
    "η(x,::Type{List}) = Cons(x,Nil())\n",
    "bind(x::List, f::Function) = μ(fmap(f, x))\n"
   ]
  },
  {
   "cell_type": "code",
   "execution_count": 3,
   "id": "87110bbc-30c8-48f6-b50b-5b68f2090f4d",
   "metadata": {},
   "outputs": [
    {
     "data": {
      "text/plain": [
       "Cons{Int64}(3, Cons{Int64}(2, Cons{Int64}(2, Cons{Int64}(1, Nil()))))"
      ]
     },
     "execution_count": 3,
     "metadata": {},
     "output_type": "execute_result"
    }
   ],
   "source": [
    "concatplus1(x::Int)::List  = Cons(x+1,Cons(x, Nil()))\n",
    "x = Cons(1,Nil())\n",
    "\n",
    "μ(fmap(concatplus1,bind(x, concatplus1)))"
   ]
  },
  {
   "cell_type": "code",
   "execution_count": 4,
   "id": "f3da72e9-225f-4330-a595-e4758172a914",
   "metadata": {},
   "outputs": [
    {
     "data": {
      "text/plain": [
       "Cons{Int64}(1, Cons{Int64}(1, Cons{Int64}(1, Nil())))"
      ]
     },
     "execution_count": 4,
     "metadata": {},
     "output_type": "execute_result"
    }
   ],
   "source": [
    "μ(Cons(x,Cons(x,Cons(x,Nil()))))"
   ]
  },
  {
   "cell_type": "code",
   "execution_count": 5,
   "id": "d165803e-e45f-4ce7-bc77-e008cad72cd1",
   "metadata": {
    "tags": []
   },
   "outputs": [
    {
     "data": {
      "text/plain": [
       "Cons{Int64}(10, Cons{Int64}(10, Nil()))"
      ]
     },
     "execution_count": 5,
     "metadata": {},
     "output_type": "execute_result"
    }
   ],
   "source": [
    "Cons(10,Cons(10,Nil()))"
   ]
  },
  {
   "cell_type": "markdown",
   "id": "b4940a33-ad44-4b33-ac09-169eb73fe6c6",
   "metadata": {},
   "source": [
    "## Example - Maybe Monad \n",
    "\n",
    "Remeber that `Maybe` is an endofunctor. If we have a natural transformation \n",
    "$\\eta$ and $\\mu$ such that $(\\text{Maybe}, \\eta, \\mu)$ is a monoid, then we have our monad."
   ]
  },
  {
   "cell_type": "code",
   "execution_count": 6,
   "id": "f22a159b-f4ad-48a7-bfa0-24bc876e6df2",
   "metadata": {},
   "outputs": [
    {
     "name": "stdout",
     "output_type": "stream",
     "text": [
      "(safesolve ⊙ safesqrt)(14) = Just{Float64}(2.6726124191242437)\n",
      "(safesolve ⊙ safesqrt)(-10) = Nothing()\n",
      "(safesolve ⊙ safesqrt)(0) = Nothing()\n"
     ]
    }
   ],
   "source": [
    "η(x,::Type{Maybe})   = Just(x)\n",
    "μ(x::Just{<:Just})   = Just(x._1._1)\n",
    "μ(x::Just{<:Nothing})= Nothing()\n",
    "μ(x::Nothing)        = Nothing()\n",
    "\n",
    "μ(Just(η(10, Maybe)))\n",
    "bind(mx::Maybe, f::Function) = μ(fmap(f, mx))\n",
    "⊙(f::Function,g::Function) = x -> bind(g(x),f)\n",
    "\n",
    "safesqrt(x::Real) = x < 0 ? Nothing() : Just(√x)\n",
    "safesolve(x::Real) = x == 0 ? Nothing() : Just(10 / x)\n",
    "@show (safesolve ⊙ safesqrt)(14)\n",
    "@show (safesolve ⊙ safesqrt)(-10)\n",
    "@show (safesolve ⊙ safesqrt)(0);"
   ]
  },
  {
   "cell_type": "code",
   "execution_count": 7,
   "id": "94822242-8bb8-4f79-98ef-d5e15b38660c",
   "metadata": {},
   "outputs": [],
   "source": [
    "struct unit{T} end\n",
    "unit{Maybe}(x) = η(x,Maybe)"
   ]
  },
  {
   "cell_type": "markdown",
   "id": "79029fe2-17cb-49a9-b3c0-2e5cc1166768",
   "metadata": {},
   "source": [
    "## Example - State Monad\n",
    "\n",
    "<!-- The State functor \n",
    " State (\\s -> let (a, s') = g s in (f a, s')) -->"
   ]
  },
  {
   "cell_type": "code",
   "execution_count": 8,
   "id": "274b5aac-2f72-4c50-8722-ceb73b7af97c",
   "metadata": {},
   "outputs": [],
   "source": [
    "# struct State\n",
    "#     s::String\n",
    "# end\n",
    "\n",
    "# struct ST{a}\n",
    "#     \"State -> (a, State)\"\n",
    "#     f::Function \n",
    "# end\n",
    "\n",
    "# app(s::ST) =\n",
    "# # ST(x::Int->x)\n",
    "# f(x::Int) = x+1"
   ]
  },
  {
   "cell_type": "code",
   "execution_count": 9,
   "id": "805e9ee9-7041-4ec5-976f-039fd8e106da",
   "metadata": {},
   "outputs": [
    {
     "data": {
      "text/plain": [
       "(2, \"ok\")"
      ]
     },
     "execution_count": 9,
     "metadata": {},
     "output_type": "execute_result"
    }
   ],
   "source": [
    "# struct State{T}\n",
    "#     \"s->(a,s)\"\n",
    "#     f::T\n",
    "# end\n",
    "struct State\n",
    "    \"s->(a,s)\"\n",
    "    f::Function\n",
    "end\n",
    "function (s::State)(state = nothing)\n",
    "  s.f(state)\n",
    "end\n",
    "\n",
    "fmap(f::Function, g::State) = State(s-> begin\n",
    "        a,s_new = g(s)\n",
    "        f(a), s_new\n",
    "    end)\n",
    "\n",
    "s1 = State(s -> (0, s))\n",
    "s1_update = fmap(x->x+2,s1)\n",
    "\n",
    "s1_update(\"ok\")"
   ]
  },
  {
   "cell_type": "code",
   "execution_count": 10,
   "id": "284421bb-1fb9-475b-961f-1396e13e9969",
   "metadata": {},
   "outputs": [
    {
     "data": {
      "text/plain": [
       "bind (generic function with 3 methods)"
      ]
     },
     "execution_count": 10,
     "metadata": {},
     "output_type": "execute_result"
    }
   ],
   "source": [
    "η(x) = State(s->(x,s))\n",
    "\n",
    "bind(st::State, f::Function) = State(s -> begin\n",
    "        x,s_new = st(s)\n",
    "        f(x)(s_new)\n",
    "    end)\n",
    "\n",
    "↣ = bind"
   ]
  },
  {
   "cell_type": "code",
   "execution_count": 11,
   "id": "0e27ff49-9a44-4864-9b6e-07d67ab29fb2",
   "metadata": {},
   "outputs": [
    {
     "data": {
      "text/plain": [
       "(\"0\", \"<SVG><\\\\svg>\")"
      ]
     },
     "execution_count": 11,
     "metadata": {},
     "output_type": "execute_result"
    }
   ],
   "source": [
    "myf(x::Int) = State(s->(string(x),s*\"<\\\\svg>\"))\n",
    "bind(s1, myf)(\"<SVG>\")"
   ]
  },
  {
   "cell_type": "code",
   "execution_count": 12,
   "id": "85b75676-a1c9-4dfb-951a-72e08510e146",
   "metadata": {},
   "outputs": [
    {
     "data": {
      "text/plain": [
       "(\"0\", \"<SVG><\\\\svg>\")"
      ]
     },
     "execution_count": 12,
     "metadata": {},
     "output_type": "execute_result"
    }
   ],
   "source": [
    "(s1 ↣ myf)(\"<SVG>\")"
   ]
  },
  {
   "cell_type": "markdown",
   "id": "1870d640-cb20-4cb6-b2d2-18eca40b2c06",
   "metadata": {},
   "source": [
    "### Using State Monads - Relabelling trees\n",
    "\n",
    "We want to define a function that takes a `Tree a` and returns a `Tree Int`, where each\n",
    "value in the nodes is exchanged for an integer. For example:\n",
    "```\n",
    "Tree{String}\n",
    "    *\n",
    "   / \\\n",
    "  *   c\n",
    " / \\\n",
    "a   b\n",
    "\n",
    "----\n",
    "\n",
    "Tree{Int}\n",
    "    *\n",
    "   / \\\n",
    "  *   2\n",
    " / \\\n",
    "0   1\n",
    "```"
   ]
  },
  {
   "cell_type": "code",
   "execution_count": 13,
   "id": "789b56e7-41b7-4895-8645-58ae0c8ba27d",
   "metadata": {},
   "outputs": [],
   "source": [
    "@data Tree{a} begin\n",
    "    Leaf(::a)\n",
    "    Node(::Tree{a}, ::Tree{a})\n",
    "end"
   ]
  },
  {
   "cell_type": "code",
   "execution_count": 14,
   "id": "28119997-ebff-484c-be0f-9c40c2c8890e",
   "metadata": {},
   "outputs": [
    {
     "data": {
      "text/plain": [
       "Node{String}(Node{String}(Leaf{String}(\"a\"), Leaf{String}(\"b\")), Leaf{String}(\"c\"))"
      ]
     },
     "execution_count": 14,
     "metadata": {},
     "output_type": "execute_result"
    }
   ],
   "source": [
    "t = Node(Node(Leaf(\"a\"),Leaf(\"b\")),Leaf(\"c\"))"
   ]
  },
  {
   "cell_type": "code",
   "execution_count": 15,
   "id": "6dd53b97-9cae-47af-aba2-90d07913634d",
   "metadata": {},
   "outputs": [],
   "source": [
    "fresh = State(s->(s,s+1))\n",
    "mlabel(lx::Leaf) = fresh ↣ n -> η(Leaf(n))\n",
    "mlabel(n::Node) = begin\n",
    "    mlabel(n._1) ↣ (l -> mlabel(n._2) ↣ r-> η(Node(l, r)))\n",
    "end;"
   ]
  },
  {
   "cell_type": "code",
   "execution_count": 16,
   "id": "d2e63ba2-48a1-4291-a116-3935db265d47",
   "metadata": {},
   "outputs": [
    {
     "data": {
      "text/plain": [
       "Node{Int64}(Node{Int64}(Leaf{Int64}(0), Leaf{Int64}(1)), Leaf{Int64}(2))"
      ]
     },
     "execution_count": 16,
     "metadata": {},
     "output_type": "execute_result"
    }
   ],
   "source": [
    "label(t::Tree)::Tree{Int} = first(mlabel(t)(0))\n",
    "label(t)"
   ]
  },
  {
   "cell_type": "code",
   "execution_count": null,
   "id": "050e5e71-0243-4048-8d7b-e57e03eb9b3e",
   "metadata": {},
   "outputs": [],
   "source": []
  }
 ],
 "metadata": {
  "kernelspec": {
   "display_name": "Julia 1.9.2",
   "language": "julia",
   "name": "julia-1.9"
  },
  "language_info": {
   "file_extension": ".jl",
   "mimetype": "application/julia",
   "name": "julia",
   "version": "1.9.2"
  }
 },
 "nbformat": 4,
 "nbformat_minor": 5
}
