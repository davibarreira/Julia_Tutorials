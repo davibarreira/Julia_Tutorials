{
 "cells": [
  {
   "cell_type": "markdown",
   "id": "5359bf39-cad1-4324-8857-f7c51d703515",
   "metadata": {},
   "source": [
    "Free[S,A] \n",
    "\n",
    "* Free - This is the program\n",
    "* S - This is the language\n",
    "* A - This is the type of a vlaue it will produce once you run the programm.\n"
   ]
  },
  {
   "cell_type": "markdown",
   "id": "b8b9a5c7-094c-4740-9bcf-d174e8ac4517",
   "metadata": {},
   "source": [
    "## 15 - Free Monads\n",
    "\n",
    "Base on [this blog post](https://serokell.io/blog/introduction-to-free-monads).\n",
    "\n",
    "Remember that for a set $A$, a free monoid is a list of $A$. Such free monoid\n",
    "can be coded as the following functor:\n",
    "```haskell\n",
    "List a = Nil | Cons a (List a)\n",
    "```\n",
    "\n",
    "Similarly, if we have\n",
    "an endofunctor $F:\\mathbf{Set} \\to \\mathbf{Set}$, then we can think of a free\n",
    "monad over $F$ as a \"list\" of applications of $F$.\n",
    "For example, consider a functor \n",
    "```haskell\n",
    "F a := Nil | Cons a\n",
    "```\n",
    "For a value `x :: Int`, we have that  `F(x)` is either `Nil` or `Cons Int`.\n",
    "A free monad over such functor would the functor\n",
    "```haskell\n",
    "(Free F) a := Pure a | Free (F (Free F a))\n",
    "```\n",
    "\n",
    "Suppose we have a functor:\n",
    "```haskell\n",
    "data F a = One a | Two a a | Two' a a | Three Int a a a\n",
    "```\n",
    "\n",
    "We want to construct tree whose leaves have type `a` and whose\n",
    "nodes are one of the \"subtypes\" `One`, `Two`, `Two'` or `Three`, e.g.\n",
    "```\n",
    "     Two\n",
    "    /   \\\n",
    " One   Three\n",
    "  |   / / | \\\n",
    "  a  2 a  a Two'\n",
    "            / \\\n",
    "           a   a\n",
    "```"
   ]
  },
  {
   "cell_type": "markdown",
   "id": "18455831-3dc9-4c00-b0ec-1f77a3001d68",
   "metadata": {},
   "source": [
    "Let's start by creating the `F` functor. "
   ]
  },
  {
   "cell_type": "code",
   "execution_count": 12,
   "id": "8e5b3bac-069c-4c62-b940-fcf5ebe16c72",
   "metadata": {
    "tags": []
   },
   "outputs": [],
   "source": [
    "using MLStyle\n",
    "@data F{a} begin\n",
    "    One(::a)\n",
    "    Two(::a,::a)\n",
    "    Two_(::a,::a)\n",
    "    Three(Int, ::a, ::a,::a)\n",
    "end"
   ]
  },
  {
   "cell_type": "markdown",
   "id": "2129bbd3-5a29-4767-a7a9-392511d2724c",
   "metadata": {},
   "source": [
    "Now,we want to create the tree example above. "
   ]
  },
  {
   "cell_type": "code",
   "execution_count": 13,
   "id": "92c7dbdf-e482-44bd-a4b6-f5f3e9b1997b",
   "metadata": {
    "tags": []
   },
   "outputs": [
    {
     "ename": "LoadError",
     "evalue": "MethodError: no method matching Three(::Int64, ::String, ::String, ::Two_{String})\n\n\u001b[0mClosest candidates are:\n\u001b[0m  Three(::Int64, ::a, ::a, \u001b[91m::a\u001b[39m) where a\n\u001b[0m\u001b[90m   @\u001b[39m \u001b[35mMain\u001b[39m \u001b[90m\u001b[4mIn[12]:6\u001b[24m\u001b[39m\n",
     "output_type": "error",
     "traceback": [
      "MethodError: no method matching Three(::Int64, ::String, ::String, ::Two_{String})\n\n\u001b[0mClosest candidates are:\n\u001b[0m  Three(::Int64, ::a, ::a, \u001b[91m::a\u001b[39m) where a\n\u001b[0m\u001b[90m   @\u001b[39m \u001b[35mMain\u001b[39m \u001b[90m\u001b[4mIn[12]:6\u001b[24m\u001b[39m\n",
      "",
      "Stacktrace:",
      " [1] top-level scope",
      "   @ In[13]:1"
     ]
    }
   ],
   "source": [
    "Two(One(\"f\"), Three(2,\"a\",\"b\",Two_(\"c\",\"d\")))"
   ]
  },
  {
   "cell_type": "markdown",
   "id": "6506f668-baa4-4b84-b7a2-a37386907a58",
   "metadata": {},
   "source": [
    "The code above does not work. Note that\n",
    "`Three` is taking an `Int`, two arguments of type `String` and a last argument\n",
    "of type `Two_`. \n",
    "This goes agains the definition of `Three(_1::Int,_2::a,_3::a,_4::a)`. \n",
    "\n",
    "The solution to this is creating a new functor `FreeF`, where\n",
    "each value `a` is wrapped into a container `Pure`, and each\n",
    "of the \"subfunctors\" (i.e. `FreeOne`, `FreeTwo`, `FreeTwo_`, `FreeThree`)\n",
    "can receive a value either `Pure{a}` or `Free{a}`."
   ]
  },
  {
   "cell_type": "code",
   "execution_count": 14,
   "id": "24df3034-e173-4fc6-9e35-5b6d74c2ab05",
   "metadata": {
    "tags": []
   },
   "outputs": [],
   "source": [
    "@data FreeF{a} begin\n",
    "    Pure(::a)\n",
    "    FreeOne(::Union{Pure{a},FreeF{a}})\n",
    "    FreeTwo(::Union{Pure{a},FreeF{a}},::Union{Pure{a},FreeF{a}})\n",
    "    FreeTwo_(::Union{Pure{a},FreeF{a}},::Union{Pure{a},FreeF{a}})\n",
    "    FreeThree(Int, ::Union{Pure{a},FreeF{a}},::Union{Pure{a},FreeF{a}},::Union{Pure{a},FreeF{a}})\n",
    "end"
   ]
  },
  {
   "cell_type": "code",
   "execution_count": 15,
   "id": "5d97e05c-3a51-4bb3-be6f-d6f58390e9a2",
   "metadata": {
    "tags": []
   },
   "outputs": [
    {
     "data": {
      "text/plain": [
       "FreeTwo{String}(FreeOne{String}(Pure{String}(\"f\")), FreeThree{String}(2, Pure{String}(\"a\"), Pure{String}(\"b\"), FreeTwo_{String}(Pure{String}(\"c\"), Pure{String}(\"d\"))))"
      ]
     },
     "execution_count": 15,
     "metadata": {},
     "output_type": "execute_result"
    }
   ],
   "source": [
    "FreeTwo(FreeOne(Pure(\"f\")),FreeThree(2,Pure(\"a\"),Pure(\"b\"),FreeTwo_(Pure(\"c\"),Pure(\"d\"))))"
   ]
  },
  {
   "cell_type": "code",
   "execution_count": null,
   "id": "15649b59-b35f-46f1-806b-c18e09b97adc",
   "metadata": {},
   "outputs": [],
   "source": [
    "# Three(2,Pure(\"a\"),Pure(\"b\"),Two_(Pure(\"c\"),Pure(\"d\")))"
   ]
  },
  {
   "cell_type": "code",
   "execution_count": null,
   "id": "dd061149-7a3c-45b1-8613-7d72e44af32b",
   "metadata": {
    "tags": []
   },
   "outputs": [],
   "source": [
    "abstract type Free end\n",
    "struct Pure{a} <: Free\n",
    "    _1::a\n",
    "end\n",
    "\n",
    "struct Roll{f,a} <: Free\n",
    "end\n",
    "\n",
    "# Two(One(\"f\"), Three(2,\"a\",\"b\",Two_(\"c\",\"d\")))\n",
    "# One(Pure(\"f\"))\n",
    "# Three(2,Pure(\"a\"),Pure(\"b\"),Two_(Pure(\"c\"),Pure(\"d\")))\n",
    "# Three(Pure(\"f\"))\n",
    "# Three(2,Pure{F}(\"a\"),Pure{F}(\"b\"),Pure{F}(Two_(\"c\",\"d\")))"
   ]
  },
  {
   "cell_type": "markdown",
   "id": "4d255b07-4a97-4010-bae7-a84ae3ad6d9b",
   "metadata": {},
   "source": [
    "Consider the following functor `ToyLangF`. "
   ]
  },
  {
   "cell_type": "code",
   "execution_count": null,
   "id": "9df84612-7f77-4ffc-9682-07a77f6aff09",
   "metadata": {
    "tags": []
   },
   "outputs": [],
   "source": [
    "using MLStyle\n",
    "@data ToyLangF{next} begin\n",
    "    Add(::Int, ::next)\n",
    "    Mult(::Int, ::next)\n",
    "    End()\n",
    "end\n",
    "End() = End{Any}()\n",
    "\n",
    "fmap(f::Function, x::Add) = Add(x._1,f(x._2))\n",
    "fmap(f::Function, x::Mult)= Mult(x._1,f(x._2))\n",
    "fmap(f::Function, x::End) = x"
   ]
  },
  {
   "cell_type": "markdown",
   "id": "6d423c85-7843-45de-ae1e-a79bfc39613a",
   "metadata": {},
   "source": [
    "We know that `List{T}` is a functor that takes types and creates monoids over such types.\n",
    "More specifically, the `List` functor takes a type `T` to a type `List{T}` that\n",
    "has a free monoid structure.\n",
    "Analogously, we want to define a functor `Free` that takes a functor `F` and returns\n",
    "a new functor `Free{F}`, which has a free monoid structure over it... Since a monoid structure\n",
    "over functors is a monad, then `Free{F}` should have `(Free{F}, η, μ)`.\n",
    "\n",
    "\n"
   ]
  },
  {
   "cell_type": "code",
   "execution_count": null,
   "id": "209b41a7-2611-495d-9682-bbcf368eba31",
   "metadata": {
    "tags": []
   },
   "outputs": [],
   "source": [
    "Mult(2,Add(10, Add(10,1)))"
   ]
  },
  {
   "cell_type": "code",
   "execution_count": null,
   "id": "5b693fa8-0696-434a-b1c0-a3987c3856c6",
   "metadata": {
    "tags": []
   },
   "outputs": [],
   "source": [
    "abstract type Free end\n",
    "\n",
    "struct Pure{a} <: Free\n",
    "    _1::a\n",
    "end\n",
    "struct Rec{f,a} <: Free\n",
    "    _1::f\n",
    "    _2::Free\n",
    "end"
   ]
  },
  {
   "cell_type": "code",
   "execution_count": null,
   "id": "f3a5cd70-5575-4284-895d-47555ba5b0ff",
   "metadata": {},
   "outputs": [],
   "source": []
  },
  {
   "cell_type": "code",
   "execution_count": null,
   "id": "a85cfe67-76a0-461c-b3d8-e9e43d065614",
   "metadata": {
    "tags": []
   },
   "outputs": [],
   "source": [
    "# abstract type Free{F{a}} where F <: Functor end"
   ]
  },
  {
   "cell_type": "code",
   "execution_count": null,
   "id": "d4aa63d3-a73b-46e8-8de9-1b1bb21adee0",
   "metadata": {
    "tags": []
   },
   "outputs": [],
   "source": [
    "abstract type Free{f,a} end\n",
    "\n",
    "struct Pure{f,a} <: Free{f, a}\n",
    "    _1::a\n",
    "end\n",
    "struct Roll{f,a} <: Free{f, a}\n",
    "    _1::a\n",
    "end\n",
    "Pure(x::a) where a = Pure{Any, a}(x)\n",
    "Pure{f}(x::a) where {f,a} = Pure{f, a}(x)\n",
    "\n",
    "# Pure(10) isa Free{<: Add, Int}\n",
    "# Pure{Any,Int}(10)\n",
    "@show Pure(10) isa Free\n",
    "@show Pure(10) isa Free{Any, Int}\n",
    "# @show Pure(10) isa Free{<:, Int}\n",
    "# Free{Number, Int} <: Free{<:Real,Int}\n",
    "# Pure{Number}(1)"
   ]
  },
  {
   "cell_type": "code",
   "execution_count": null,
   "id": "bd39bb4b-d07c-4fec-a46e-5c106fd11fdf",
   "metadata": {},
   "outputs": [],
   "source": []
  },
  {
   "cell_type": "code",
   "execution_count": null,
   "id": "5defad9c-1106-469d-a75a-b1d1bafc1079",
   "metadata": {},
   "outputs": [],
   "source": [
    "abstract type List{T} end\n",
    "struct Nil{T} <: List{T} end\n",
    "struct Cons{T} <: List{T}\n",
    "  val::T\n",
    "  next::List{T} # n.b. abstract type!\n",
    "end\n",
    "\n",
    "# List a = Nil | Cons a (List a)"
   ]
  },
  {
   "cell_type": "code",
   "execution_count": null,
   "id": "f81b2bec-8fb4-4fda-9715-0ae6432c043c",
   "metadata": {},
   "outputs": [],
   "source": [
    "struct Nil end\n",
    "struct Cons{T}\n",
    "  val::T\n",
    "  next::Union{Cons{T},Nil} # n.b. abstract type!\n",
    "end\n",
    "# Cons{T} ≃ Cons T (Cons T (List T) | Nil)\n",
    "# \n",
    "List{T} = Union{Nil, Cons{T}} # Nil | "
   ]
  },
  {
   "cell_type": "code",
   "execution_count": null,
   "id": "e749f4fb-a128-4e95-b85e-f8e46bb38e75",
   "metadata": {},
   "outputs": [],
   "source": [
    "abstract type Free{f,a} end\n",
    "\n",
    "struct Pure{a} <: Free{<:Any, f}\n",
    "    _1::a\n",
    "end\n",
    "struct Roll{f,a} <: Free{f,a}\n",
    "    _1::\n",
    "end"
   ]
  },
  {
   "cell_type": "code",
   "execution_count": null,
   "id": "c18bcc99-ca48-4553-bfb9-3dd2ae39f7f6",
   "metadata": {
    "tags": []
   },
   "outputs": [],
   "source": [
    "# # # Define the Free type\n",
    "# abstract type Free end\n",
    "\n",
    "# Define the constructors\n",
    "struct Pure{a}\n",
    "    _1::a\n",
    "end\n",
    "\n",
    "# struct FreeF{f, a}\n",
    "#     _1::f\n",
    "#     # _2::Union{Pure{a},FreeF{f,a}} # Free{f,a}\n",
    "# end\n",
    "struct FreeF{f, a}\n",
    "    _1::Union{Pure{a},FreeF{f,a}} # Free{f,a}\n",
    "end\n",
    "Free{f,a} = Union{Pure{a}, FreeF{f,a}}\n",
    "\n",
    "# struct FreeF{f, a}\n",
    "#     _1::f\n",
    "#     _2::Union{Pure{a},FreeF{f,a}} # Free{f,a}\n",
    "# end\n",
    "# Pure{a} | FreeF{f,}\n",
    "# Free{f,a} = Union{Pure{a},FreeF{FreeF{f,a},a}} # == Pure{a} | FreeF{f,a}  == Pure{a} | \n",
    "# Free{f,a} = Union{Pure{a},FreeF{f,FreeF{f,a}}} # == Pure{a} | FreeF{f,\n",
    "\n",
    "fmap(g::Function, x::Pure)  = Pure(g(x._1))\n",
    "# fmap(g::Function, x::FreeF) = FreeF(fmap(input->fmap(g,input),x)\n",
    "\n",
    "# Free{ToyLangF}\n",
    "\n",
    "# FreeF{Add,Int}(Add,Pure(10))"
   ]
  },
  {
   "cell_type": "code",
   "execution_count": null,
   "id": "9ccc8af7-2681-482d-9233-be15e4cfdcfb",
   "metadata": {
    "tags": []
   },
   "outputs": [],
   "source": [
    "@data Free{f,a} begin\n",
    "    Pure(::a)\n",
    "    Roll(::f,::Union{Pure, Roll{f,a}})\n",
    "end"
   ]
  },
  {
   "cell_type": "code",
   "execution_count": null,
   "id": "f377057c-0233-444e-9ab0-5a299324c2ab",
   "metadata": {
    "tags": []
   },
   "outputs": [],
   "source": [
    "@data List{T} begin\n",
    "    Nil()\n",
    "    Cons(val::T, next::Union{Cons{T},Nil})\n",
    "end\n",
    "\n",
    "Cons(1, Cons(1,Nil{Int}()))"
   ]
  },
  {
   "cell_type": "code",
   "execution_count": null,
   "id": "177d56b4-9bb6-4f5f-83fd-fee18334535a",
   "metadata": {},
   "outputs": [],
   "source": [
    "struct Nil end\n",
    "struct Cons{T}\n",
    "  val::T\n",
    "  next::Union{Cons{T},Nil} # n.b. abstract type!\n",
    "end\n",
    "List{T} = Union{Cons{T}, Nil} # Nil | Cons T List T"
   ]
  },
  {
   "cell_type": "code",
   "execution_count": null,
   "id": "23488c56-abdc-439f-bfec-48d0bdd1d49d",
   "metadata": {
    "tags": []
   },
   "outputs": [],
   "source": [
    "# Pure(Add(1,\"s\"))\n",
    "Free{Add}"
   ]
  },
  {
   "cell_type": "code",
   "execution_count": null,
   "id": "b6e6dcec-1c49-4f42-b4d8-57ed388ff0c6",
   "metadata": {},
   "outputs": [],
   "source": []
  },
  {
   "cell_type": "code",
   "execution_count": null,
   "id": "0f6ba481-fbc3-4085-af8f-bbfe6615daa4",
   "metadata": {
    "tags": []
   },
   "outputs": [],
   "source": [
    "# using MLStyle\n",
    "\n",
    "# # abstract type Free end\n",
    "# struct Pure{a}\n",
    "#     _1::a\n",
    "# end\n",
    "# struct FreeF{f, a}\n",
    "#     _1::f\n",
    "#     _2::a\n",
    "# end\n",
    "# fmap(g::Function, x::Pure)  = Pure(g(x._1))\n",
    "# # fmap(g::Function, x::FreeF) = FreeF(fmap(input->fmap(g,input),x)\n",
    "\n",
    "# Free{f,a} = Union{Pure{a},FreeF{f,Free{f,a}}}\n",
    "\n",
    "# # struct FreeF{f,a}\n",
    "# #     _1::Union{Pure{a},FreeF{f,FreeF{f,a}}}\n",
    "# # end\n",
    "\n",
    "# # Free{f,a} = Union{Pure{a},FreeF{f,a}}\n",
    "# # # Free{f}(x::Pure{a}) where {f,a}   = Free{f,a}(x)\n",
    "# # Free()\n",
    "\n",
    "\n",
    "# @data ToyLangF{next} begin\n",
    "#     Add(::Int, ::next)\n",
    "#     Mult(::Int, ::next)\n",
    "#     End()\n",
    "# end\n",
    "# End() = End{Any}()\n",
    "\n",
    "# fmap(f::Function, x::Add) = Add(x._1,f(x._2))\n",
    "# fmap(f::Function, x::Mult)= Mult(x._1,f(x._2))\n",
    "# fmap(f::Function, x::End) = x\n",
    "\n",
    "# ToyLang = Free{ToyLangF}\n",
    "# Pure(End()) isa ToyLang"
   ]
  },
  {
   "cell_type": "code",
   "execution_count": null,
   "id": "8f620400-a40e-4884-a47e-7576048b7f27",
   "metadata": {
    "tags": []
   },
   "outputs": [],
   "source": []
  },
  {
   "cell_type": "code",
   "execution_count": null,
   "id": "8c9041f4-3a49-4b7c-bb10-d10d75d23ae6",
   "metadata": {
    "tags": []
   },
   "outputs": [],
   "source": [
    "# fmap(x->x+1,Add(10,Pure(1)))\n",
    "# FreeF(Add(10,Pure(1)))"
   ]
  },
  {
   "cell_type": "code",
   "execution_count": null,
   "id": "da44c282-80d7-4628-8156-d385a42a64f6",
   "metadata": {
    "tags": []
   },
   "outputs": [],
   "source": [
    "# ToyLang(Pure(1))\n"
   ]
  },
  {
   "cell_type": "code",
   "execution_count": null,
   "id": "affe4263-7860-4e97-9e51-fb030a1b02ce",
   "metadata": {
    "tags": []
   },
   "outputs": [],
   "source": [
    "# # Define the Free type\n",
    "# abstract type Free{T} end\n",
    "\n",
    "# # Define the constructors\n",
    "# struct Pure{A} <: Free\n",
    "#     _1::A\n",
    "# end\n",
    "\n",
    "# struct FreeF{F, A} <: Free\n",
    "#     _1::F\n",
    "#     _2::A\n",
    "# end\n",
    "\n",
    "# # Define the fmap function for Free\n",
    "# fmap(f::Function, x::Pure)  = Pure(f(x._1))\n",
    "# fmap(f::Function, x::FreeF) = FreeF(x._1, f(x._2))\n",
    "\n",
    "# # Example Functor: MyF\n",
    "# struct MyF{A}\n",
    "#     n::Int\n",
    "#     a::A\n",
    "# end\n",
    "\n",
    "# # Define Functor instance for MyF\n",
    "# fmap(f::Function, x::MyF) = MyF(x.n, f(x.a))\n",
    "\n",
    "# # Construct a Free monad using the constructors\n",
    "# function free_example()\n",
    "#     return FreeF(MyF(5, Pure(10)), Pure(0))\n",
    "# end\n",
    "\n",
    "# # Evaluate the Free monad\n",
    "# function evaluate(x::Free)\n",
    "#     if x isa Pure\n",
    "#         return x._1\n",
    "#     elseif x isa FreeF\n",
    "#         return x._1.n + evaluate(x._1.a)\n",
    "#     end\n",
    "# end\n",
    "\n",
    "# evaluate(free_example())"
   ]
  },
  {
   "cell_type": "code",
   "execution_count": null,
   "id": "f6f679bf-9e91-4265-8503-ef37fc93496e",
   "metadata": {
    "tags": []
   },
   "outputs": [],
   "source": [
    "using MLStyle\n",
    "@data ToyLangF{next} begin\n",
    "    Add(::Int, ::next)\n",
    "    Mult(::Int, ::next)\n",
    "    End()\n",
    "end\n",
    "\n",
    "fmap(f::Function, x::Add) = Add(x._1,f(x._2))\n",
    "fmap(f::Function, x::Mult)= Mult(x._1,f(x._2))\n",
    "fmap(f::Function, x::End) = x"
   ]
  },
  {
   "cell_type": "code",
   "execution_count": null,
   "id": "1b2c1a64-9d35-4422-b53c-d5f9cbd6787b",
   "metadata": {},
   "outputs": [],
   "source": []
  },
  {
   "cell_type": "code",
   "execution_count": null,
   "id": "3547122d-b5a0-417e-a08e-4b5b104e186e",
   "metadata": {
    "tags": []
   },
   "outputs": [],
   "source": []
  },
  {
   "cell_type": "code",
   "execution_count": null,
   "id": "1ad96be4-5aed-48c4-af6c-9d5c9cdd6b32",
   "metadata": {
    "tags": []
   },
   "outputs": [],
   "source": [
    "struct F{T}\n",
    "    _1::T\n",
    "end\n",
    "\n",
    "fmap(f::Function, x::F) = F(f(x._1))\n",
    "\n",
    "fmap(x->x+1, F(10))"
   ]
  },
  {
   "cell_type": "code",
   "execution_count": null,
   "id": "c79eede3-86ff-4ad9-b1d6-5645aa33ff4d",
   "metadata": {
    "tags": []
   },
   "outputs": [],
   "source": [
    "using MLStyle"
   ]
  },
  {
   "cell_type": "code",
   "execution_count": null,
   "id": "63147f03-1ff8-4afc-9ba2-9d3ff9efa838",
   "metadata": {},
   "outputs": [],
   "source": [
    "@data Free{}"
   ]
  },
  {
   "cell_type": "code",
   "execution_count": null,
   "id": "471de849-be4d-4f91-a9f8-e27b8ec1c1a4",
   "metadata": {
    "tags": []
   },
   "outputs": [],
   "source": [
    "# struct Pure{a}\n",
    "#     _1::a\n",
    "# end"
   ]
  },
  {
   "cell_type": "code",
   "execution_count": null,
   "id": "cd4b1fba-43cf-422f-8f16-c5af918955bc",
   "metadata": {
    "tags": []
   },
   "outputs": [],
   "source": [
    "# struct Free{f,a}\n",
    "#     _1::Union{Pure{a},Free}\n",
    "# end\n",
    "# Free{f,a} = Union{}\n",
    "\n",
    "\n",
    "# Free{F,Int}(Pure(10))"
   ]
  },
  {
   "cell_type": "code",
   "execution_count": null,
   "id": "fef4bee7-8453-4b66-9bb5-699cb7c0378f",
   "metadata": {
    "tags": []
   },
   "outputs": [],
   "source": [
    "Free{f}(x::Pure{a}) where {f,a}   = Free{f,a}(x)\n",
    "Free{f}(x::Free{f,a}) where {f,a} = Free{f,a}(x)"
   ]
  },
  {
   "cell_type": "code",
   "execution_count": null,
   "id": "8dec9ecb-84ad-4e2a-ae6a-9e5112f8c82e",
   "metadata": {
    "tags": []
   },
   "outputs": [],
   "source": [
    "Pure(1)\n",
    "Free{F,Int}(Pure(1))\n",
    "Free{F}(Pure(1))\n",
    "Free{F,Int}(Free{F}(Pure(1)))\n",
    "Free{F}(Free{F}(Pure(1)))\n",
    "Free{F}(Free{F}(Pure(1)))"
   ]
  },
  {
   "cell_type": "code",
   "execution_count": null,
   "id": "a7635531-1a5c-4779-9a72-2339c5f97fdb",
   "metadata": {
    "tags": []
   },
   "outputs": [],
   "source": [
    "fmap(g::Function, fx::Free{f}) where f = Free{f}(fmap(g,fx._1))\n",
    "fmap(g::Function, x::Pure)  = Pure(g(x._1))"
   ]
  },
  {
   "cell_type": "code",
   "execution_count": null,
   "id": "578bd518-aa6c-4bc2-9e7c-f9ffa1befe15",
   "metadata": {
    "tags": []
   },
   "outputs": [],
   "source": [
    "fmap(x->x+1, Free{F}(Pure(1)))\n",
    "fmap(x->string(x+1),Free{F}(Pure(1)))\n",
    "fmap(x->string(x+1),Free{F}(Free{F}(Pure(1))))"
   ]
  },
  {
   "cell_type": "code",
   "execution_count": null,
   "id": "16599b5f-8372-42d3-89ef-caf0550483e6",
   "metadata": {
    "tags": []
   },
   "outputs": [],
   "source": [
    "using MLStyle\n",
    "@data MyF{a} begin\n",
    "    MyAction(Int, ::a)\n",
    "end\n",
    "MyAction(x,y::a) where a = MyAction{a}(x,y)\n",
    "fmap(f::Function, x::MyAction) = MyAction(x._1,f(x._2))\n",
    "\n",
    "fmap(x->x*\"#\", MyAction(10,\"ok\"))"
   ]
  },
  {
   "cell_type": "code",
   "execution_count": null,
   "id": "ef1bedc0-78c5-4dab-bdde-d5a20f7cdebe",
   "metadata": {
    "tags": []
   },
   "outputs": [],
   "source": [
    "MyAction(10,Pure(1))"
   ]
  },
  {
   "cell_type": "code",
   "execution_count": null,
   "id": "0392c85a-7232-4e4e-8c66-50b5c53f47c9",
   "metadata": {
    "tags": []
   },
   "outputs": [],
   "source": []
  },
  {
   "cell_type": "code",
   "execution_count": null,
   "id": "74b8648a-d8cc-464e-99fa-2b73527cb41c",
   "metadata": {
    "tags": []
   },
   "outputs": [],
   "source": []
  },
  {
   "cell_type": "code",
   "execution_count": null,
   "id": "db6f65b9-bf6f-40ce-aad4-546420eaae99",
   "metadata": {
    "tags": []
   },
   "outputs": [],
   "source": []
  }
 ],
 "metadata": {
  "kernelspec": {
   "display_name": "Julia 1.9.2",
   "language": "julia",
   "name": "julia-1.9"
  },
  "language_info": {
   "file_extension": ".jl",
   "mimetype": "application/julia",
   "name": "julia",
   "version": "1.9.2"
  }
 },
 "nbformat": 4,
 "nbformat_minor": 5
}
