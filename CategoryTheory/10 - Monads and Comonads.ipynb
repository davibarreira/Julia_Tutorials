{
 "cells": [
  {
   "cell_type": "markdown",
   "id": "c8257f90-4a7e-4a4b-b6d9-091a81014e53",
   "metadata": {},
   "source": [
    "# Monads and Comonads"
   ]
  },
  {
   "cell_type": "code",
   "execution_count": null,
   "id": "b598e109-e54a-4683-9920-5fea695ad46f",
   "metadata": {},
   "outputs": [],
   "source": []
  }
 ],
 "metadata": {
  "kernelspec": {
   "display_name": "Julia 1.9.0",
   "language": "julia",
   "name": "julia-1.9"
  },
  "language_info": {
   "file_extension": ".jl",
   "mimetype": "application/julia",
   "name": "julia",
   "version": "1.9.0"
  }
 },
 "nbformat": 4,
 "nbformat_minor": 5
}
