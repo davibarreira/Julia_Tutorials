{
 "cells": [
  {
   "cell_type": "markdown",
   "id": "5359bf39-cad1-4324-8857-f7c51d703515",
   "metadata": {},
   "source": [
    "Free[S,A] \n",
    "\n",
    "* Free - This is the program\n",
    "* S - This is the language\n",
    "* A - This is the type of a vlaue it will produce once you run the programm.\n"
   ]
  },
  {
   "cell_type": "markdown",
   "id": "b8b9a5c7-094c-4740-9bcf-d174e8ac4517",
   "metadata": {},
   "source": [
    "## 15 - Free Monads\n",
    "\n",
    "Base on [this blog post](https://serokell.io/blog/introduction-to-free-monads).\n",
    "\n",
    "Remember that for a set $A$, a free monoid is a list of $A$. Such free monoid\n",
    "can be coded as the following functor:\n",
    "```haskell\n",
    "List a = Nil | Cons a (List a)\n",
    "```\n",
    "\n",
    "Similarly, if we have\n",
    "an endofunctor $F:\\mathbf{Set} \\to \\mathbf{Set}$, then we can think of a free\n",
    "monad over $F$ as a \"list\" of applications of $F$.\n",
    "For example, consider a functor \n",
    "```haskell\n",
    "F a := Nil | Cons a\n",
    "```\n",
    "For a value `x :: Int`, we have that  `F(x)` is either `Nil` or `Cons Int`.\n",
    "A free monad over such functor would the functor\n",
    "```haskell\n",
    "(Free F) a := Pure a | Free (F (Free F a))\n",
    "```\n",
    "\n",
    "Suppose we have a functor:\n",
    "```haskell\n",
    "data F a = One a | Two a a | Two' a a | Three Int a a a\n",
    "```\n",
    "\n",
    "We want to construct tree whose leaves have type `a` and whose\n",
    "nodes are one of the \"subtypes\" `One`, `Two`, `Two'` or `Three`, e.g.\n",
    "```\n",
    "     Two\n",
    "    /   \\\n",
    " One   Three\n",
    "  |   / / | \\\n",
    "  a  2 a  a Two'\n",
    "            / \\\n",
    "           a   a\n",
    "```"
   ]
  },
  {
   "cell_type": "markdown",
   "id": "18455831-3dc9-4c00-b0ec-1f77a3001d68",
   "metadata": {},
   "source": [
    "Let's start by creating the `F` functor. "
   ]
  },
  {
   "cell_type": "code",
   "execution_count": 1,
   "id": "8e5b3bac-069c-4c62-b940-fcf5ebe16c72",
   "metadata": {
    "tags": []
   },
   "outputs": [],
   "source": [
    "using MLStyle\n",
    "@data F{a} begin\n",
    "    One(::a)\n",
    "    Two(::a,::a)\n",
    "    Two_(::a,::a)\n",
    "    Three(Int, ::a, ::a,::a)\n",
    "end\n",
    "fmap(f::Function, x::One)   = One(f(x._1))\n",
    "fmap(f::Function, x::Two)   = Two(f(x._1),f(x._2))\n",
    "fmap(f::Function, x::Two_)  = Two_(f(x._1),f(x._2))\n",
    "fmap(f::Function, x::Three) = Three(x._1,f(x._2),f(x._3), f(x._4));"
   ]
  },
  {
   "cell_type": "code",
   "execution_count": 2,
   "id": "e2d38c3d-cd55-4d1d-a493-63b2fdc07dd9",
   "metadata": {
    "tags": []
   },
   "outputs": [],
   "source": [
    "# abstract type F{a} end\n",
    "\n",
    "# struct One{a} <: F{a}\n",
    "#     _1::T where T<:a\n",
    "# end\n",
    "# struct Two{a} <: F{a}\n",
    "#     _1::T where T<:a\n",
    "#     _2::T where T<:a\n",
    "# end\n",
    "\n",
    "# Two(1,2)\n",
    "# Two(1,2.0)"
   ]
  },
  {
   "cell_type": "code",
   "execution_count": 3,
   "id": "d5438bc5-6234-45a6-b2e5-8ffa59b210fd",
   "metadata": {
    "tags": []
   },
   "outputs": [
    {
     "data": {
      "text/plain": [
       "Three{Float64}(3, 1.0, 1.0, 1.0)"
      ]
     },
     "execution_count": 3,
     "metadata": {},
     "output_type": "execute_result"
    }
   ],
   "source": [
    "fmap(x->x+1,One(10))\n",
    "fmap(x->x+1,Two(10,0))\n",
    "fmap(x->x+1,Two_(10,0))\n",
    "fmap(x->x+1,Three(3,0.,0.,0.))"
   ]
  },
  {
   "cell_type": "markdown",
   "id": "2129bbd3-5a29-4767-a7a9-392511d2724c",
   "metadata": {},
   "source": [
    "Now,we want to create the tree example above. "
   ]
  },
  {
   "cell_type": "code",
   "execution_count": 4,
   "id": "92c7dbdf-e482-44bd-a4b6-f5f3e9b1997b",
   "metadata": {
    "tags": []
   },
   "outputs": [
    {
     "ename": "LoadError",
     "evalue": "MethodError: no method matching Three(::Int64, ::String, ::String, ::Two_{String})\n\n\u001b[0mClosest candidates are:\n\u001b[0m  Three(::Int64, ::a, ::a, \u001b[91m::a\u001b[39m) where a\n\u001b[0m\u001b[90m   @\u001b[39m \u001b[35mMain\u001b[39m \u001b[90m\u001b[4mIn[1]:6\u001b[24m\u001b[39m\n",
     "output_type": "error",
     "traceback": [
      "MethodError: no method matching Three(::Int64, ::String, ::String, ::Two_{String})\n\n\u001b[0mClosest candidates are:\n\u001b[0m  Three(::Int64, ::a, ::a, \u001b[91m::a\u001b[39m) where a\n\u001b[0m\u001b[90m   @\u001b[39m \u001b[35mMain\u001b[39m \u001b[90m\u001b[4mIn[1]:6\u001b[24m\u001b[39m\n",
      "",
      "Stacktrace:",
      " [1] top-level scope",
      "   @ In[4]:1"
     ]
    }
   ],
   "source": [
    "Two(One(\"f\"), Three(2,\"a\",\"b\",Two_(\"c\",\"d\")))"
   ]
  },
  {
   "cell_type": "markdown",
   "id": "6506f668-baa4-4b84-b7a2-a37386907a58",
   "metadata": {},
   "source": [
    "The code above does not work. Note that\n",
    "`Three` is taking an `Int`, two arguments of type `String` and a last argument\n",
    "of type `Two_`. \n",
    "This goes agains the definition of `Three(_1::Int,_2::a,_3::a,_4::a)`. \n",
    "\n",
    "The solution to this is creating a new functor `FreeF`, where\n",
    "each value `a` is wrapped into a container `Pure`, and each\n",
    "of the \"subfunctors\" (i.e. `FreeOne`, `FreeTwo`, `FreeTwo_`, `FreeThree`)\n",
    "can receive a value either `Pure{a}` or `Free{a}`.\n",
    "\n",
    "In the example below, we will construct the `FreeF` functor manually. Yet,\n",
    "the idea is that `Free` should be a functor itself, such that `Free ∘ F`\n",
    "would define `FreeF`."
   ]
  },
  {
   "cell_type": "markdown",
   "id": "00acb1f2-d428-45c6-9ca2-a9b565d78b1b",
   "metadata": {},
   "source": [
    "The `FreeF` is a functor with an `fmap` that inherits the `fmap` from `F`."
   ]
  },
  {
   "cell_type": "code",
   "execution_count": 5,
   "id": "24df3034-e173-4fc6-9e35-5b6d74c2ab05",
   "metadata": {
    "tags": []
   },
   "outputs": [],
   "source": [
    "# @data FreeF{a} begin\n",
    "#     Pure(::a)\n",
    "#     FreeOne(::Union{Pure{a},FreeF{a}})\n",
    "#     FreeTwo(::Union{Pure{a},FreeF{a}},::Union{Pure{a},FreeF{a}})\n",
    "#     FreeTwo_(::Union{Pure{a},FreeF{a}},::Union{Pure{a},FreeF{a}})\n",
    "#     FreeThree(Int, ::Union{Pure{a},FreeF{a}},::Union{Pure{a},FreeF{a}},::Union{Pure{a},FreeF{a}})\n",
    "# end\n",
    "\n",
    "@data FreeF{a} begin\n",
    "    Pure(::a)\n",
    "    FreeOne(::FreeF{a})\n",
    "    FreeTwo(::FreeF{a},::FreeF{a})\n",
    "    FreeTwo_(::FreeF{a},::FreeF{a})\n",
    "    FreeThree(Int, ::FreeF{a},::FreeF{a},::FreeF{a})\n",
    "end\n",
    "\n",
    "One(a::FreeF) = One{FreeF}(a)\n",
    "Two(a::FreeF, b::FreeF) = Two{FreeF}(a,b)\n",
    "Two_(a::FreeF, b::FreeF) = Two_{FreeF}(a,b)\n",
    "Three(i::Int, a::FreeF, b::FreeF, c::FreeF) = Three{FreeF}(i,a,b,c)\n",
    "\n",
    "Tree = FreeTwo(FreeOne(Pure(\"f\")),FreeThree(2,Pure(\"a\"),Pure(\"b\"),FreeTwo_(Pure(\"c\"),Pure(\"d\"))));"
   ]
  },
  {
   "cell_type": "code",
   "execution_count": 6,
   "id": "3f6a2a2b-ee65-41af-941d-e28dfb8f0b8d",
   "metadata": {
    "tags": []
   },
   "outputs": [
    {
     "data": {
      "text/plain": [
       "FreeTwo{String}(FreeOne{String}(Pure{String}(\"f\")), FreeThree{String}(2, Pure{String}(\"a\"), Pure{String}(\"b\"), FreeTwo_{String}(Pure{String}(\"c\"), Pure{String}(\"d\"))))"
      ]
     },
     "execution_count": 6,
     "metadata": {},
     "output_type": "execute_result"
    }
   ],
   "source": [
    "Tree"
   ]
  },
  {
   "cell_type": "markdown",
   "id": "f6ff1969-5c59-4b09-8eab-0161907f07fe",
   "metadata": {},
   "source": [
    "Let us define the `fmap` so that `FreeF` becomes a functor. "
   ]
  },
  {
   "cell_type": "code",
   "execution_count": 7,
   "id": "263fe49f-708c-45c2-8b8b-20833127724b",
   "metadata": {
    "tags": []
   },
   "outputs": [
    {
     "data": {
      "text/plain": [
       "FreeTwo{Int64}(Pure{Int64}(11), Pure{Int64}(11))"
      ]
     },
     "execution_count": 7,
     "metadata": {},
     "output_type": "execute_result"
    }
   ],
   "source": [
    "unfree(x::Pure)       = x._1\n",
    "unfree(x::FreeOne)    = One{FreeF}(x._1)\n",
    "unfree(x::FreeTwo)    = Two{FreeF}(x._1,x._2)\n",
    "unfree(x::FreeTwo_)   = Two_{FreeF}(x._1,x._2)\n",
    "unfree(x::FreeThree)  = Three{FreeF}(x._1,x._2,x._3,x._4)\n",
    "free(x::One)    = FreeOne(x._1)\n",
    "free(x::Two)    = FreeTwo(x._1,x._2)\n",
    "free(x::Two_)   = FreeTwo_(x._1,x._2)\n",
    "free(x::Three)  = FreeThree(x._1,x._2,x._3,x._4)\n",
    "\n",
    "\n",
    "fmap(f::Function, x::Pure)    = Pure(f(x._1))\n",
    "fmap(f::Function, x::FreeF) = free(fmap(y->fmap(f,y), unfree(x)))\n",
    "\n",
    "fmap(x->x+1,FreeTwo(Pure(10),Pure(10)))"
   ]
  },
  {
   "cell_type": "code",
   "execution_count": 8,
   "id": "5749fca0-9be8-4209-b98b-13ef00f4f0bf",
   "metadata": {
    "tags": []
   },
   "outputs": [
    {
     "data": {
      "text/plain": [
       "Two{FreeF{Int64}}(Pure{Int64}(1), FreeOne{Int64}(Pure{Int64}(1)))"
      ]
     },
     "execution_count": 8,
     "metadata": {},
     "output_type": "execute_result"
    }
   ],
   "source": [
    "# Two(Pure(1),FreeOne(Pure(1)))\n",
    "Two{FreeF{Int}}(Pure(1),FreeOne(Pure(1)))"
   ]
  },
  {
   "cell_type": "code",
   "execution_count": 9,
   "id": "5d97e05c-3a51-4bb3-be6f-d6f58390e9a2",
   "metadata": {
    "tags": []
   },
   "outputs": [
    {
     "data": {
      "text/plain": [
       "FreeTwo{String}(FreeOne{String}(Pure{String}(\"f_\")), FreeThree{String}(2, Pure{String}(\"a_\"), Pure{String}(\"b_\"), FreeTwo_{String}(Pure{String}(\"c_\"), Pure{String}(\"d_\"))))"
      ]
     },
     "execution_count": 9,
     "metadata": {},
     "output_type": "execute_result"
    }
   ],
   "source": [
    "fmap(x->x*\"_\",Tree)"
   ]
  },
  {
   "cell_type": "code",
   "execution_count": 10,
   "id": "73c563e0-898f-4582-92fd-730a397796da",
   "metadata": {
    "tags": []
   },
   "outputs": [
    {
     "data": {
      "text/plain": [
       "cata (generic function with 2 methods)"
      ]
     },
     "execution_count": 10,
     "metadata": {},
     "output_type": "execute_result"
    }
   ],
   "source": [
    "# foldFree(f::Function, x::Pure)  = x._1\n",
    "# foldFree(f::Function, x::FreeF) = f(fmap(y->foldFree(f,y),x._1))\n",
    "\n",
    "evalString(x::One{String}) = x._1\n",
    "evalString(x::Two{String}) = x._1 * x._2\n",
    "evalString(x::Two_{String}) = x._2 * x._1\n",
    "evalString(x::Three{String}) = string(x._1) * x._2 * x._3 * x._4\n",
    "\n",
    "# evalString(x::One{T}) where T <: Pure{String} = x._1\n",
    "# evalString(x::Two{String}) = x._1 * x._2\n",
    "# evalString(x::Two_{String}) = x._2 * x._1\n",
    "# evalString(x::Three{String}) = string(x._1) * x._2 * x._3 * x._4\n",
    "\n",
    "evalString(Three(1,\"ok\",\"ok\",\"Ok\"))\n",
    "evalString(One(\"a\"))\n",
    "evalString(Two(\"a\",\"b\"))\n",
    "evalString(Two_(\"a\",\"b\"))\n",
    "\n",
    "# evalString(x::One) = x._1\n",
    "# evalString(x::Two) = x._1 * x._2\n",
    "# evalString(x::Two_) = x._2 * x._1\n",
    "# evalString(x::Three) = string(x._1) * x._2 * x._3 * x._4\n",
    "\n",
    "cata(alg::Function, x::Pure)  = x._1\n",
    "cata(alg::Function, x::FreeF) = alg(fmap(y -> cata(alg, y), unfree(x)))\n",
    "\n",
    "# cata(evalString,Tree)\n",
    "\n",
    "# unfree(Tree)\n",
    "# cata(evalString,FreeOne(Pure(\"a\")))\n",
    "# unfree(FreeOne(Pure(\"a\")))"
   ]
  },
  {
   "cell_type": "code",
   "execution_count": 11,
   "id": "318ce91c-8b88-4681-89fa-a0d653f93b15",
   "metadata": {
    "tags": []
   },
   "outputs": [
    {
     "data": {
      "text/plain": [
       "\"f2abdc\""
      ]
     },
     "execution_count": 11,
     "metadata": {},
     "output_type": "execute_result"
    }
   ],
   "source": [
    "cata(evalString,Tree)\n",
    "# fmap(y->unfree(y),unfree(x))\n",
    "# fmap(x->x*\"o\",x)\n",
    "# cata(evalString,unfree(x)._1)\n",
    "\n",
    "# unfree(x)\n",
    "# cata(evalString, x)\n",
    "# fmap(unfree(x)"
   ]
  },
  {
   "cell_type": "code",
   "execution_count": null,
   "id": "3d70f7f7-a9c3-45db-9a1c-0385f7ac3c4f",
   "metadata": {
    "tags": []
   },
   "outputs": [],
   "source": []
  },
  {
   "cell_type": "code",
   "execution_count": null,
   "id": "d4be5c48-75a8-45f0-95b5-2e80695a2a21",
   "metadata": {
    "tags": []
   },
   "outputs": [],
   "source": [
    "# cata(evalString,Tree)\n",
    "# cata(evalString,Tree)\n",
    "# cata(evalString,FreeOne(Pure(\"a\")))\n",
    "x = FreeOne(Pure(\"a\"))\n",
    "# foldFree(x->unfree(evalString(x)),Tree)\n",
    "# fmap(x->unfree(evalString(x)),unfree(Tree))\n",
    "\n",
    "# fmap(evalString,unfree(x))\n",
    "unfree(x)"
   ]
  },
  {
   "cell_type": "code",
   "execution_count": null,
   "id": "9f3902ac-66b0-4d07-921d-b75dd44069ba",
   "metadata": {
    "tags": []
   },
   "outputs": [],
   "source": []
  },
  {
   "cell_type": "markdown",
   "id": "7b4c0199-7207-41b8-b1f3-748f10ed69f2",
   "metadata": {},
   "source": [
    "We have constructed our `FreeF` functor. Now we must show that it has a monadic structure to it. "
   ]
  },
  {
   "cell_type": "code",
   "execution_count": null,
   "id": "57b53377-d2b7-43bf-8725-a63fb017a063",
   "metadata": {
    "tags": []
   },
   "outputs": [],
   "source": [
    "η(x) = Pure(x)\n",
    "μ(x::Pure{<:FreeF}) = x._1\n",
    "μ(x::FreeF{<:FreeF}) = free(fmap(μ, unfree(x)))\n",
    "# bind(x::Pure,  f::Function) = f(x._1)\n",
    "# bind(x::FreeF, f::Function) = free(fmap(y->fmap(f,y), unfree(x)))\n",
    "\n",
    "μ(FreeOne(Pure(FreeOne(Pure(\"a\")))))\n",
    "μ(FreeTwo(Pure(FreeOne(Pure(1))),Pure(FreeOne(Pure(1)))))"
   ]
  },
  {
   "cell_type": "code",
   "execution_count": null,
   "id": "5e98c589-db6f-4bbb-9a9a-b284729a7e4c",
   "metadata": {
    "tags": []
   },
   "outputs": [],
   "source": [
    "# example = FreeThree(Pure(1))"
   ]
  },
  {
   "cell_type": "code",
   "execution_count": null,
   "id": "50d7df5c-3cde-4551-a22f-a9d2bcd35879",
   "metadata": {
    "tags": []
   },
   "outputs": [],
   "source": [
    "x = FreeOne(FreeOne(Pure(1)))\n",
    "# x = FreeOne(Pure(1))\n",
    "\n",
    "unfree(x)\n",
    "# μ(x)"
   ]
  },
  {
   "cell_type": "code",
   "execution_count": null,
   "id": "2613f950-e527-4cbb-9a7c-c2c7f3d1ef36",
   "metadata": {
    "tags": []
   },
   "outputs": [],
   "source": [
    "# fmap(f::Function, x::Pure)    = Pure(f(x._1))\n",
    "# fmap(f::Function, x::FreeF) = free(fmap(y->fmap(f,y), unfree(x)))\n",
    "\n",
    "\n",
    "# fmap(μ,unfree(FreeOne(FreeOne(Pure(1)))._1))"
   ]
  },
  {
   "cell_type": "code",
   "execution_count": null,
   "id": "fe93bf42-8466-4a6c-bf31-75bcfe89fd4e",
   "metadata": {
    "tags": []
   },
   "outputs": [],
   "source": [
    "# test(x::T) where T <: FreeF = T(Pure(1))\n",
    "# concatfree(Pure(1))\n",
    "# concatfree(FreeOne(Pure(10)))\n",
    "# concatfree(FreeOne(Pure(10))._1)\n",
    "# fmap(concatfree, FreeOne(Pure(10)))"
   ]
  },
  {
   "cell_type": "code",
   "execution_count": null,
   "id": "447f54d2-e749-4182-8825-cf33bb833fc5",
   "metadata": {
    "tags": []
   },
   "outputs": [],
   "source": [
    "concatfree(x::Pure)  = x._1\n",
    "concatfree(x::T) where T <: FreeF = T(fmap(concatfree, x._1))\n",
    "\n",
    "# η(x) = Pure(x)\n",
    "# bind(x::Pure, f::Function)  = f(x._1)\n",
    "# bind(x::FreeF, f::Function) = f(x._1)\n",
    "# bind(mx::Maybe, f::Function) = μ(fmap(f, mx))"
   ]
  },
  {
   "cell_type": "code",
   "execution_count": null,
   "id": "017ca882-7bbc-416f-a101-170f97390b7a",
   "metadata": {
    "tags": []
   },
   "outputs": [],
   "source": [
    "[[1],[2,[3]]]"
   ]
  },
  {
   "cell_type": "markdown",
   "id": "4d255b07-4a97-4010-bae7-a84ae3ad6d9b",
   "metadata": {},
   "source": [
    "Consider the following functor `ToyLangF`. "
   ]
  },
  {
   "cell_type": "code",
   "execution_count": null,
   "id": "9df84612-7f77-4ffc-9682-07a77f6aff09",
   "metadata": {
    "tags": []
   },
   "outputs": [],
   "source": [
    "using MLStyle\n",
    "@data ToyLangF{next} begin\n",
    "    Add(::Int, ::next)\n",
    "    Mult(::Int, ::next)\n",
    "    End()\n",
    "end\n",
    "End() = End{Any}()\n",
    "\n",
    "fmap(f::Function, x::Add) = Add(x._1,f(x._2))\n",
    "fmap(f::Function, x::Mult)= Mult(x._1,f(x._2))\n",
    "fmap(f::Function, x::End) = x"
   ]
  },
  {
   "cell_type": "markdown",
   "id": "6d423c85-7843-45de-ae1e-a79bfc39613a",
   "metadata": {},
   "source": [
    "We know that `List{T}` is a functor that takes types and creates monoids over such types.\n",
    "More specifically, the `List` functor takes a type `T` to a type `List{T}` that\n",
    "has a free monoid structure.\n",
    "Analogously, we want to define a functor `Free` that takes a functor `F` and returns\n",
    "a new functor `Free{F}`, which has a free monoid structure over it... Since a monoid structure\n",
    "over functors is a monad, then `Free{F}` should have `(Free{F}, η, μ)`.\n",
    "\n",
    "\n"
   ]
  },
  {
   "cell_type": "code",
   "execution_count": null,
   "id": "209b41a7-2611-495d-9682-bbcf368eba31",
   "metadata": {
    "tags": []
   },
   "outputs": [],
   "source": [
    "Mult(2,Add(10, Add(10,1)))"
   ]
  },
  {
   "cell_type": "code",
   "execution_count": null,
   "id": "5b693fa8-0696-434a-b1c0-a3987c3856c6",
   "metadata": {
    "tags": []
   },
   "outputs": [],
   "source": [
    "abstract type Free end\n",
    "\n",
    "struct Pure{a} <: Free\n",
    "    _1::a\n",
    "end\n",
    "struct Rec{f,a} <: Free\n",
    "    _1::f\n",
    "    _2::Free\n",
    "end"
   ]
  },
  {
   "cell_type": "code",
   "execution_count": null,
   "id": "f3a5cd70-5575-4284-895d-47555ba5b0ff",
   "metadata": {},
   "outputs": [],
   "source": []
  },
  {
   "cell_type": "code",
   "execution_count": null,
   "id": "a85cfe67-76a0-461c-b3d8-e9e43d065614",
   "metadata": {
    "tags": []
   },
   "outputs": [],
   "source": [
    "# abstract type Free{F{a}} where F <: Functor end"
   ]
  },
  {
   "cell_type": "code",
   "execution_count": null,
   "id": "d4aa63d3-a73b-46e8-8de9-1b1bb21adee0",
   "metadata": {
    "tags": []
   },
   "outputs": [],
   "source": [
    "abstract type Free{f,a} end\n",
    "\n",
    "struct Pure{f,a} <: Free{f, a}\n",
    "    _1::a\n",
    "end\n",
    "struct Roll{f,a} <: Free{f, a}\n",
    "    _1::a\n",
    "end\n",
    "Pure(x::a) where a = Pure{Any, a}(x)\n",
    "Pure{f}(x::a) where {f,a} = Pure{f, a}(x)\n",
    "\n",
    "# Pure(10) isa Free{<: Add, Int}\n",
    "# Pure{Any,Int}(10)\n",
    "@show Pure(10) isa Free\n",
    "@show Pure(10) isa Free{Any, Int}\n",
    "# @show Pure(10) isa Free{<:, Int}\n",
    "# Free{Number, Int} <: Free{<:Real,Int}\n",
    "# Pure{Number}(1)"
   ]
  },
  {
   "cell_type": "code",
   "execution_count": null,
   "id": "bd39bb4b-d07c-4fec-a46e-5c106fd11fdf",
   "metadata": {},
   "outputs": [],
   "source": []
  },
  {
   "cell_type": "code",
   "execution_count": null,
   "id": "5defad9c-1106-469d-a75a-b1d1bafc1079",
   "metadata": {},
   "outputs": [],
   "source": [
    "abstract type List{T} end\n",
    "struct Nil{T} <: List{T} end\n",
    "struct Cons{T} <: List{T}\n",
    "  val::T\n",
    "  next::List{T} # n.b. abstract type!\n",
    "end\n",
    "\n",
    "# List a = Nil | Cons a (List a)"
   ]
  },
  {
   "cell_type": "code",
   "execution_count": null,
   "id": "f81b2bec-8fb4-4fda-9715-0ae6432c043c",
   "metadata": {},
   "outputs": [],
   "source": [
    "struct Nil end\n",
    "struct Cons{T}\n",
    "  val::T\n",
    "  next::Union{Cons{T},Nil} # n.b. abstract type!\n",
    "end\n",
    "# Cons{T} ≃ Cons T (Cons T (List T) | Nil)\n",
    "# \n",
    "List{T} = Union{Nil, Cons{T}} # Nil | "
   ]
  },
  {
   "cell_type": "code",
   "execution_count": null,
   "id": "e749f4fb-a128-4e95-b85e-f8e46bb38e75",
   "metadata": {},
   "outputs": [],
   "source": [
    "abstract type Free{f,a} end\n",
    "\n",
    "struct Pure{a} <: Free{<:Any, f}\n",
    "    _1::a\n",
    "end\n",
    "struct Roll{f,a} <: Free{f,a}\n",
    "    _1::\n",
    "end"
   ]
  },
  {
   "cell_type": "code",
   "execution_count": null,
   "id": "c18bcc99-ca48-4553-bfb9-3dd2ae39f7f6",
   "metadata": {
    "tags": []
   },
   "outputs": [],
   "source": [
    "# # # Define the Free type\n",
    "# abstract type Free end\n",
    "\n",
    "# Define the constructors\n",
    "struct Pure{a}\n",
    "    _1::a\n",
    "end\n",
    "\n",
    "# struct FreeF{f, a}\n",
    "#     _1::f\n",
    "#     # _2::Union{Pure{a},FreeF{f,a}} # Free{f,a}\n",
    "# end\n",
    "struct FreeF{f, a}\n",
    "    _1::Union{Pure{a},FreeF{f,a}} # Free{f,a}\n",
    "end\n",
    "Free{f,a} = Union{Pure{a}, FreeF{f,a}}\n",
    "\n",
    "# struct FreeF{f, a}\n",
    "#     _1::f\n",
    "#     _2::Union{Pure{a},FreeF{f,a}} # Free{f,a}\n",
    "# end\n",
    "# Pure{a} | FreeF{f,}\n",
    "# Free{f,a} = Union{Pure{a},FreeF{FreeF{f,a},a}} # == Pure{a} | FreeF{f,a}  == Pure{a} | \n",
    "# Free{f,a} = Union{Pure{a},FreeF{f,FreeF{f,a}}} # == Pure{a} | FreeF{f,\n",
    "\n",
    "fmap(g::Function, x::Pure)  = Pure(g(x._1))\n",
    "# fmap(g::Function, x::FreeF) = FreeF(fmap(input->fmap(g,input),x)\n",
    "\n",
    "# Free{ToyLangF}\n",
    "\n",
    "# FreeF{Add,Int}(Add,Pure(10))"
   ]
  },
  {
   "cell_type": "code",
   "execution_count": null,
   "id": "9ccc8af7-2681-482d-9233-be15e4cfdcfb",
   "metadata": {
    "tags": []
   },
   "outputs": [],
   "source": [
    "@data Free{f,a} begin\n",
    "    Pure(::a)\n",
    "    Roll(::f,::Union{Pure, Roll{f,a}})\n",
    "end"
   ]
  },
  {
   "cell_type": "code",
   "execution_count": null,
   "id": "f377057c-0233-444e-9ab0-5a299324c2ab",
   "metadata": {
    "tags": []
   },
   "outputs": [],
   "source": [
    "@data List{T} begin\n",
    "    Nil()\n",
    "    Cons(val::T, next::Union{Cons{T},Nil})\n",
    "end\n",
    "\n",
    "Cons(1, Cons(1,Nil{Int}()))"
   ]
  },
  {
   "cell_type": "code",
   "execution_count": null,
   "id": "177d56b4-9bb6-4f5f-83fd-fee18334535a",
   "metadata": {},
   "outputs": [],
   "source": [
    "struct Nil end\n",
    "struct Cons{T}\n",
    "  val::T\n",
    "  next::Union{Cons{T},Nil} # n.b. abstract type!\n",
    "end\n",
    "List{T} = Union{Cons{T}, Nil} # Nil | Cons T List T"
   ]
  },
  {
   "cell_type": "code",
   "execution_count": null,
   "id": "23488c56-abdc-439f-bfec-48d0bdd1d49d",
   "metadata": {
    "tags": []
   },
   "outputs": [],
   "source": [
    "# Pure(Add(1,\"s\"))\n",
    "Free{Add}"
   ]
  },
  {
   "cell_type": "code",
   "execution_count": null,
   "id": "b6e6dcec-1c49-4f42-b4d8-57ed388ff0c6",
   "metadata": {},
   "outputs": [],
   "source": []
  },
  {
   "cell_type": "code",
   "execution_count": null,
   "id": "0f6ba481-fbc3-4085-af8f-bbfe6615daa4",
   "metadata": {
    "tags": []
   },
   "outputs": [],
   "source": [
    "# using MLStyle\n",
    "\n",
    "# # abstract type Free end\n",
    "# struct Pure{a}\n",
    "#     _1::a\n",
    "# end\n",
    "# struct FreeF{f, a}\n",
    "#     _1::f\n",
    "#     _2::a\n",
    "# end\n",
    "# fmap(g::Function, x::Pure)  = Pure(g(x._1))\n",
    "# # fmap(g::Function, x::FreeF) = FreeF(fmap(input->fmap(g,input),x)\n",
    "\n",
    "# Free{f,a} = Union{Pure{a},FreeF{f,Free{f,a}}}\n",
    "\n",
    "# # struct FreeF{f,a}\n",
    "# #     _1::Union{Pure{a},FreeF{f,FreeF{f,a}}}\n",
    "# # end\n",
    "\n",
    "# # Free{f,a} = Union{Pure{a},FreeF{f,a}}\n",
    "# # # Free{f}(x::Pure{a}) where {f,a}   = Free{f,a}(x)\n",
    "# # Free()\n",
    "\n",
    "\n",
    "# @data ToyLangF{next} begin\n",
    "#     Add(::Int, ::next)\n",
    "#     Mult(::Int, ::next)\n",
    "#     End()\n",
    "# end\n",
    "# End() = End{Any}()\n",
    "\n",
    "# fmap(f::Function, x::Add) = Add(x._1,f(x._2))\n",
    "# fmap(f::Function, x::Mult)= Mult(x._1,f(x._2))\n",
    "# fmap(f::Function, x::End) = x\n",
    "\n",
    "# ToyLang = Free{ToyLangF}\n",
    "# Pure(End()) isa ToyLang"
   ]
  },
  {
   "cell_type": "code",
   "execution_count": null,
   "id": "8f620400-a40e-4884-a47e-7576048b7f27",
   "metadata": {
    "tags": []
   },
   "outputs": [],
   "source": []
  },
  {
   "cell_type": "code",
   "execution_count": null,
   "id": "8c9041f4-3a49-4b7c-bb10-d10d75d23ae6",
   "metadata": {
    "tags": []
   },
   "outputs": [],
   "source": [
    "# fmap(x->x+1,Add(10,Pure(1)))\n",
    "# FreeF(Add(10,Pure(1)))"
   ]
  },
  {
   "cell_type": "code",
   "execution_count": null,
   "id": "da44c282-80d7-4628-8156-d385a42a64f6",
   "metadata": {
    "tags": []
   },
   "outputs": [],
   "source": [
    "# ToyLang(Pure(1))\n"
   ]
  },
  {
   "cell_type": "code",
   "execution_count": null,
   "id": "affe4263-7860-4e97-9e51-fb030a1b02ce",
   "metadata": {
    "tags": []
   },
   "outputs": [],
   "source": [
    "# # Define the Free type\n",
    "# abstract type Free{T} end\n",
    "\n",
    "# # Define the constructors\n",
    "# struct Pure{A} <: Free\n",
    "#     _1::A\n",
    "# end\n",
    "\n",
    "# struct FreeF{F, A} <: Free\n",
    "#     _1::F\n",
    "#     _2::A\n",
    "# end\n",
    "\n",
    "# # Define the fmap function for Free\n",
    "# fmap(f::Function, x::Pure)  = Pure(f(x._1))\n",
    "# fmap(f::Function, x::FreeF) = FreeF(x._1, f(x._2))\n",
    "\n",
    "# # Example Functor: MyF\n",
    "# struct MyF{A}\n",
    "#     n::Int\n",
    "#     a::A\n",
    "# end\n",
    "\n",
    "# # Define Functor instance for MyF\n",
    "# fmap(f::Function, x::MyF) = MyF(x.n, f(x.a))\n",
    "\n",
    "# # Construct a Free monad using the constructors\n",
    "# function free_example()\n",
    "#     return FreeF(MyF(5, Pure(10)), Pure(0))\n",
    "# end\n",
    "\n",
    "# # Evaluate the Free monad\n",
    "# function evaluate(x::Free)\n",
    "#     if x isa Pure\n",
    "#         return x._1\n",
    "#     elseif x isa FreeF\n",
    "#         return x._1.n + evaluate(x._1.a)\n",
    "#     end\n",
    "# end\n",
    "\n",
    "# evaluate(free_example())"
   ]
  },
  {
   "cell_type": "code",
   "execution_count": null,
   "id": "f6f679bf-9e91-4265-8503-ef37fc93496e",
   "metadata": {
    "tags": []
   },
   "outputs": [],
   "source": [
    "using MLStyle\n",
    "@data ToyLangF{next} begin\n",
    "    Add(::Int, ::next)\n",
    "    Mult(::Int, ::next)\n",
    "    End()\n",
    "end\n",
    "\n",
    "fmap(f::Function, x::Add) = Add(x._1,f(x._2))\n",
    "fmap(f::Function, x::Mult)= Mult(x._1,f(x._2))\n",
    "fmap(f::Function, x::End) = x"
   ]
  },
  {
   "cell_type": "code",
   "execution_count": null,
   "id": "1b2c1a64-9d35-4422-b53c-d5f9cbd6787b",
   "metadata": {},
   "outputs": [],
   "source": []
  },
  {
   "cell_type": "code",
   "execution_count": null,
   "id": "3547122d-b5a0-417e-a08e-4b5b104e186e",
   "metadata": {
    "tags": []
   },
   "outputs": [],
   "source": []
  },
  {
   "cell_type": "code",
   "execution_count": null,
   "id": "1ad96be4-5aed-48c4-af6c-9d5c9cdd6b32",
   "metadata": {
    "tags": []
   },
   "outputs": [],
   "source": [
    "struct F{T}\n",
    "    _1::T\n",
    "end\n",
    "\n",
    "fmap(f::Function, x::F) = F(f(x._1))\n",
    "\n",
    "fmap(x->x+1, F(10))"
   ]
  },
  {
   "cell_type": "code",
   "execution_count": null,
   "id": "c79eede3-86ff-4ad9-b1d6-5645aa33ff4d",
   "metadata": {
    "tags": []
   },
   "outputs": [],
   "source": [
    "using MLStyle"
   ]
  },
  {
   "cell_type": "code",
   "execution_count": null,
   "id": "63147f03-1ff8-4afc-9ba2-9d3ff9efa838",
   "metadata": {},
   "outputs": [],
   "source": [
    "@data Free{}"
   ]
  },
  {
   "cell_type": "code",
   "execution_count": null,
   "id": "471de849-be4d-4f91-a9f8-e27b8ec1c1a4",
   "metadata": {
    "tags": []
   },
   "outputs": [],
   "source": [
    "# struct Pure{a}\n",
    "#     _1::a\n",
    "# end"
   ]
  },
  {
   "cell_type": "code",
   "execution_count": null,
   "id": "cd4b1fba-43cf-422f-8f16-c5af918955bc",
   "metadata": {
    "tags": []
   },
   "outputs": [],
   "source": [
    "# struct Free{f,a}\n",
    "#     _1::Union{Pure{a},Free}\n",
    "# end\n",
    "# Free{f,a} = Union{}\n",
    "\n",
    "\n",
    "# Free{F,Int}(Pure(10))"
   ]
  },
  {
   "cell_type": "code",
   "execution_count": null,
   "id": "fef4bee7-8453-4b66-9bb5-699cb7c0378f",
   "metadata": {
    "tags": []
   },
   "outputs": [],
   "source": [
    "Free{f}(x::Pure{a}) where {f,a}   = Free{f,a}(x)\n",
    "Free{f}(x::Free{f,a}) where {f,a} = Free{f,a}(x)"
   ]
  },
  {
   "cell_type": "code",
   "execution_count": null,
   "id": "8dec9ecb-84ad-4e2a-ae6a-9e5112f8c82e",
   "metadata": {
    "tags": []
   },
   "outputs": [],
   "source": [
    "Pure(1)\n",
    "Free{F,Int}(Pure(1))\n",
    "Free{F}(Pure(1))\n",
    "Free{F,Int}(Free{F}(Pure(1)))\n",
    "Free{F}(Free{F}(Pure(1)))\n",
    "Free{F}(Free{F}(Pure(1)))"
   ]
  },
  {
   "cell_type": "code",
   "execution_count": null,
   "id": "a7635531-1a5c-4779-9a72-2339c5f97fdb",
   "metadata": {
    "tags": []
   },
   "outputs": [],
   "source": [
    "fmap(g::Function, fx::Free{f}) where f = Free{f}(fmap(g,fx._1))\n",
    "fmap(g::Function, x::Pure)  = Pure(g(x._1))"
   ]
  },
  {
   "cell_type": "code",
   "execution_count": null,
   "id": "578bd518-aa6c-4bc2-9e7c-f9ffa1befe15",
   "metadata": {
    "tags": []
   },
   "outputs": [],
   "source": [
    "fmap(x->x+1, Free{F}(Pure(1)))\n",
    "fmap(x->string(x+1),Free{F}(Pure(1)))\n",
    "fmap(x->string(x+1),Free{F}(Free{F}(Pure(1))))"
   ]
  },
  {
   "cell_type": "code",
   "execution_count": null,
   "id": "16599b5f-8372-42d3-89ef-caf0550483e6",
   "metadata": {
    "tags": []
   },
   "outputs": [],
   "source": [
    "using MLStyle\n",
    "@data MyF{a} begin\n",
    "    MyAction(Int, ::a)\n",
    "end\n",
    "MyAction(x,y::a) where a = MyAction{a}(x,y)\n",
    "fmap(f::Function, x::MyAction) = MyAction(x._1,f(x._2))\n",
    "\n",
    "fmap(x->x*\"#\", MyAction(10,\"ok\"))"
   ]
  },
  {
   "cell_type": "code",
   "execution_count": null,
   "id": "ef1bedc0-78c5-4dab-bdde-d5a20f7cdebe",
   "metadata": {
    "tags": []
   },
   "outputs": [],
   "source": [
    "MyAction(10,Pure(1))"
   ]
  },
  {
   "cell_type": "code",
   "execution_count": null,
   "id": "0392c85a-7232-4e4e-8c66-50b5c53f47c9",
   "metadata": {
    "tags": []
   },
   "outputs": [],
   "source": []
  },
  {
   "cell_type": "code",
   "execution_count": null,
   "id": "74b8648a-d8cc-464e-99fa-2b73527cb41c",
   "metadata": {
    "tags": []
   },
   "outputs": [],
   "source": []
  },
  {
   "cell_type": "code",
   "execution_count": null,
   "id": "db6f65b9-bf6f-40ce-aad4-546420eaae99",
   "metadata": {
    "tags": []
   },
   "outputs": [],
   "source": []
  }
 ],
 "metadata": {
  "kernelspec": {
   "display_name": "Julia 1.9.4",
   "language": "julia",
   "name": "julia-1.9"
  },
  "language_info": {
   "file_extension": ".jl",
   "mimetype": "application/julia",
   "name": "julia",
   "version": "1.9.4"
  }
 },
 "nbformat": 4,
 "nbformat_minor": 5
}
