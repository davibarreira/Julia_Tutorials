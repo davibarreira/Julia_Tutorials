{
 "cells": [
  {
   "cell_type": "code",
   "execution_count": 2,
   "id": "c36a1f0a-90ac-4d5b-bed3-f1468d83fd8c",
   "metadata": {},
   "outputs": [
    {
     "name": "stderr",
     "output_type": "stream",
     "text": [
      "\u001b[32m\u001b[1m  Activating\u001b[22m\u001b[39m project at `~/Main/EMAp/PhDThesis/notes/FunctionalProgrammingCategoryTheory/julia`\n"
     ]
    }
   ],
   "source": [
    "using Pkg\n",
    "Pkg.activate(\".\")"
   ]
  },
  {
   "cell_type": "code",
   "execution_count": 3,
   "id": "e5ab9a30-2087-4421-b27a-57bd96deb6b8",
   "metadata": {},
   "outputs": [
    {
     "data": {
      "text/plain": [
       "Cart(Clothing[Clothing(\"shirt\", 13)])"
      ]
     },
     "execution_count": 3,
     "metadata": {},
     "output_type": "execute_result"
    }
   ],
   "source": [
    "# struct Options\n",
    "#     color::String\n",
    "#     size::Int\n",
    "# end\n",
    "struct Clothing\n",
    "    name::String\n",
    "    price::Real\n",
    "    # options::Options\n",
    "end\n",
    "\n",
    "struct Cart\n",
    "    products::Vector{Clothing}\n",
    "end\n",
    "\n",
    "Cart(shirt::Clothing) = Cart([shirt])\n",
    "\n",
    "shirt = Clothing(\"shirt\", 13)\n",
    "\n",
    "cart = Cart(shirt)"
   ]
  },
  {
   "cell_type": "code",
   "execution_count": 11,
   "id": "c330de5b-c2fd-4bf0-8e78-907533f473e7",
   "metadata": {},
   "outputs": [
    {
     "data": {
      "text/plain": [
       "additem (generic function with 2 methods)"
      ]
     },
     "execution_count": 11,
     "metadata": {},
     "output_type": "execute_result"
    }
   ],
   "source": [
    "# This implementation guarantees that the original\n",
    "# cart is not mutated.\n",
    "function additem(cart, item)\n",
    "    return push!(copy(cart.products),shirt)\n",
    "end"
   ]
  },
  {
   "cell_type": "code",
   "execution_count": 12,
   "id": "087d13f6-8aad-416f-b994-3cf27cfc5053",
   "metadata": {},
   "outputs": [
    {
     "data": {
      "text/plain": [
       "valuecell (generic function with 1 method)"
      ]
     },
     "execution_count": 12,
     "metadata": {},
     "output_type": "execute_result"
    }
   ],
   "source": [
    "function valuecell(initialvalue)\n",
    "    currentvalue = initialvalue\n",
    "    return (\n",
    "        val    = x->currentvalue,\n",
    "        update = f -> begin\n",
    "            oldvalue = currentvalue\n",
    "            newvalue = f(oldvalue)\n",
    "            currentvalue = newvalue\n",
    "        end\n",
    "    )\n",
    "end"
   ]
  },
  {
   "cell_type": "code",
   "execution_count": 18,
   "id": "70c35a25-c388-42e9-8624-e22ba7e37d02",
   "metadata": {},
   "outputs": [
    {
     "data": {
      "text/plain": [
       "(val = var\"#9#11\"(Core.Box(Any[])), update = var\"#10#12\"(Core.Box(Any[])))"
      ]
     },
     "execution_count": 18,
     "metadata": {},
     "output_type": "execute_result"
    }
   ],
   "source": [
    "shopppingcart = valuecell([])"
   ]
  },
  {
   "cell_type": "code",
   "execution_count": 19,
   "id": "7b4e0fbf-799d-450e-9569-2534c8badb26",
   "metadata": {},
   "outputs": [
    {
     "ename": "LoadError",
     "evalue": "type Array has no field products",
     "output_type": "error",
     "traceback": [
      "type Array has no field products",
      "",
      "Stacktrace:",
      " [1] getproperty",
      "   @ ./Base.jl:42 [inlined]",
      " [2] additem(cart::Vector{Any}, item::Clothing)",
      "   @ Main ./In[11]:4",
      " [3] (::var\"#21#22\"{Clothing})(cart::Vector{Any})",
      "   @ Main ./In[19]:3",
      " [4] (::var\"#10#12\")(f::var\"#21#22\"{Clothing})",
      "   @ Main ./In[12]:7",
      " [5] additemcart(name::String, price::Int64)",
      "   @ Main ./In[19]:3",
      " [6] top-level scope",
      "   @ In[19]:6",
      " [7] eval",
      "   @ ./boot.jl:373 [inlined]",
      " [8] include_string(mapexpr::typeof(REPL.softscope), mod::Module, code::String, filename::String)",
      "   @ Base ./loading.jl:1196"
     ]
    }
   ],
   "source": [
    "function additemcart(name, price)\n",
    "    item = Clothing(name,price)\n",
    "    shopppingcart.update(cart-> additem(cart, item))\n",
    "end\n",
    "\n",
    "additemcart(\"Davi\", 10)"
   ]
  },
  {
   "cell_type": "code",
   "execution_count": null,
   "id": "d41faa01-e419-4476-a6c6-9380ec589f7d",
   "metadata": {},
   "outputs": [],
   "source": [
    "# shopppingcart.update(cart -> additem(cart,"
   ]
  },
  {
   "cell_type": "code",
   "execution_count": null,
   "id": "b6af8497-bc69-4bc7-9c24-dcda88122281",
   "metadata": {},
   "outputs": [],
   "source": []
  }
 ],
 "metadata": {
  "kernelspec": {
   "display_name": "Julia (4 threads) 1.7.2",
   "language": "julia",
   "name": "julia-(4-threads)-1.7"
  },
  "language_info": {
   "file_extension": ".jl",
   "mimetype": "application/julia",
   "name": "julia",
   "version": "1.7.2"
  }
 },
 "nbformat": 4,
 "nbformat_minor": 5
}
