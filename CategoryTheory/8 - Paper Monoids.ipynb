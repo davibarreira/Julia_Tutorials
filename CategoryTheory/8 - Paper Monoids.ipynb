{
 "cells": [
  {
   "cell_type": "markdown",
   "id": "9f7aeff1-03bc-4ef3-a8a0-c31dfaf09559",
   "metadata": {},
   "source": [
    "# Paper: Monoids: Themes and Variations\n",
    "\n",
    "This notebook is to reproduce the work in the article \"Monoids: Theme and Variations\"."
   ]
  },
  {
   "cell_type": "code",
   "execution_count": 5,
   "id": "c3e5cf20-d7e3-4c62-afb5-1d5b1bf6525b",
   "metadata": {},
   "outputs": [
    {
     "name": "stderr",
     "output_type": "stream",
     "text": [
      "\u001b[32m\u001b[1m  Activating\u001b[22m\u001b[39m project at `~/MEGA/EMAP/Julia_Tutorials/CategoryTheory`\n",
      "\u001b[36m\u001b[1m[ \u001b[22m\u001b[39m\u001b[36m\u001b[1mInfo: \u001b[22m\u001b[39mPrecompiling GeometryBasics [5c1252a2-5f33-56bf-86c9-59e7332b4326]\n",
      "\u001b[36m\u001b[1m[ \u001b[22m\u001b[39m\u001b[36m\u001b[1mInfo: \u001b[22m\u001b[39mPrecompiling PlotlyJS [f0f68f2c-4968-5e81-91da-67840de0976a]\n"
     ]
    },
    {
     "data": {
      "application/vnd.webio.node+json": {
       "children": [],
       "instanceArgs": {
        "namespace": "html",
        "tag": "div"
       },
       "nodeType": "DOM",
       "props": {},
       "type": "node"
      },
      "text/html": [
       "<div style=\"padding: 1em; background-color: #f8d6da; border: 1px solid #f5c6cb; font-weight: bold;\">\n",
       "<p>The WebIO Jupyter extension was not detected. See the\n",
       "<a href=\"https://juliagizmos.github.io/WebIO.jl/latest/providers/ijulia/\" target=\"_blank\">\n",
       "    WebIO Jupyter integration documentation\n",
       "</a>\n",
       "for more information.\n",
       "</div>\n"
      ],
      "text/plain": [
       "WebIO._IJuliaInit()"
      ]
     },
     "metadata": {},
     "output_type": "display_data"
    },
    {
     "name": "stderr",
     "output_type": "stream",
     "text": [
      "\u001b[36m\u001b[1m[ \u001b[22m\u001b[39m\u001b[36m\u001b[1mInfo: \u001b[22m\u001b[39mPrecompiling CoordinateTransformations [150eb455-5306-5404-9cee-2592286d6298]\n",
      "\u001b[36m\u001b[1m[ \u001b[22m\u001b[39m\u001b[36m\u001b[1mInfo: \u001b[22m\u001b[39mPrecompiling Rotations [6038ab10-8711-5258-84ad-4b1120ba62dc]\n",
      "\u001b[36m\u001b[1m[ \u001b[22m\u001b[39m\u001b[36m\u001b[1mInfo: \u001b[22m\u001b[39mPrecompiling FunctionWrappers [069b7b12-0de2-55c6-9aab-29f3d0a68a2e]\n"
     ]
    }
   ],
   "source": [
    "using Pkg\n",
    "Pkg.activate(\".\")\n",
    "using GeometryBasics\n",
    "using PlotlyJS\n",
    "using LinearAlgebra\n",
    "using CoordinateTransformations\n",
    "using Rotations\n",
    "import FunctionWrappers: FunctionWrapper\n",
    "\n",
    "\"\"\"\n",
    "FunctionType(domain::Type, codomain::Type)\n",
    "Returns a type for functions from `domain`\n",
    "to `codmain`. This can be used to enforce\n",
    "correct composition of functions.\n",
    "\"\"\"\n",
    "function FunctionType(domain::Type, codomain::Type)\n",
    "    FunctionWrapper{codomain,Tuple{domain}}\n",
    "end;"
   ]
  },
  {
   "cell_type": "markdown",
   "id": "096aea8e-9336-4ca5-ae3e-2ce7bef59377",
   "metadata": {},
   "source": [
    "## 1. What is a Diagram?\n",
    "\n",
    "The first question is how de we define a \"Diagram\". A simple description\n",
    "is that a diagram is an *ordered collection of primitives*.\n",
    "\n",
    "A primitive is any thing that we know how to draw. For example, if we are using SVG,\n",
    "then our primitives includes things like lines, rectangles, circles ,ellipses, Bézier curves, and so on.\n",
    "\n",
    "The order of the primitive defines which one is in top of the other.\n",
    "We can note that a list with a concatenation operation creates a *monoid*. Hence,\n",
    "we can say that a Diagram as such is a monoid."
   ]
  },
  {
   "cell_type": "markdown",
   "id": "535060ea-a305-4048-9fe4-0f5ef77ed104",
   "metadata": {},
   "source": [
    "## 2. A Diagram is a Monoid\n",
    "\n",
    "A monoid is a category composed of a single object (type), a neutral element and an operator, e.g. $(M,e,\\otimes)$.\n",
    "In programming, $M$ is a type, $\\otimes$ is a function with two arguments of type $M$, and $e$ is a value of type $M$;\n",
    "\n",
    "Thus, consider $M$ to be the set of ordered list of primitives of type `Primitive`.\n",
    "For two diagrams $D_1 = [p^{(1)}_1,...,p^{(1)}_n]$ and\n",
    "$D_2 = [p^{(2)}_1,...,p^{(2)}_m]$, we have\n",
    "\n",
    "$$\n",
    "D_1 \\otimes D_2 = \n",
    "[p^{(1)}_1,...,p^{(1)}_n,p^{(2)}_1,...,p^{(2)}_m].\n",
    "$$\n",
    "\n",
    "Note that the empty list `[]` is the null element. We can also show that this composition operation is associative.\n",
    "Thus, the ordered list of primitives with concatenation operator does indeed defines a **monoid**.\n",
    "\n",
    "Let's code this.\n",
    "First, we'll define our primitives using the `GeometryBasic.jl` package. It already\n",
    "provides the primitives we want. Yet, we can also define them manually."
   ]
  },
  {
   "cell_type": "code",
   "execution_count": 6,
   "id": "08c7cb01-2a74-4875-bd2c-227cf5cecccf",
   "metadata": {},
   "outputs": [
    {
     "data": {
      "text/plain": [
       "⋄ (generic function with 2 methods)"
      ]
     },
     "execution_count": 6,
     "metadata": {},
     "output_type": "execute_result"
    }
   ],
   "source": [
    "abstract type Primitive1 end\n",
    "struct Prim{T<:AbstractGeometry} <: Primitive1\n",
    "    g::T\n",
    "end\n",
    "\n",
    "struct MyCircle <: Primitive1\n",
    "    ρ::Real\n",
    "    c::Point2\n",
    "    g::Circle\n",
    "    function MyCircle(ρ=1,c=Point(0,0)) \n",
    "        if ρ < 0\n",
    "            error(\"ρ should be greater or equal than 0.\")\n",
    "        end\n",
    "        return new(ρ, c, Circle(c,ρ))\n",
    "    end\n",
    "end\n",
    "\n",
    "struct MySquare <: Primitive1\n",
    "    l::Real\n",
    "    c::Point2\n",
    "    g::AbstractGeometry\n",
    "    function MySquare(l=1,c=Point(0,0)) \n",
    "        if l < 0\n",
    "            error(\"length should be greater or equal than 0.\")\n",
    "        end\n",
    "        pts = [c + Point(l/2,l/2), c + Point(-l/2,l/2), c + Point(-l/2,-l/2), c + Point(l/2, -l/2)]\n",
    "        return new(l, c, Polygon(pts))\n",
    "    end\n",
    "end\n",
    "\n",
    "# Base.@kwdef struct MyPoint <: Primitive1\n",
    "#     p::Point = Point(0,0)\n",
    "# end\n",
    "\n",
    "struct Diagram1\n",
    "    p::Vector{Primitive1}\n",
    "end\n",
    "Diagram1(p::Primitive1=[]) = Diagram1([p])\n",
    "\n",
    "neutral(::Type{Diagram1}) = Diagram1(Primitive1[])\n",
    "\n",
    "⋄(p::Vector{Primitive1}, q::Vector{Primitive1}) = vcat(p,q)\n",
    "⋄(d1::Diagram1, d2::Diagram1) = Diagram1(d1.p ⋄ d2.p)\n"
   ]
  },
  {
   "cell_type": "code",
   "execution_count": 7,
   "id": "b7cbc352-f347-4c8f-b6ec-d20a5c6e2137",
   "metadata": {},
   "outputs": [
    {
     "data": {
      "text/plain": [
       "true"
      ]
     },
     "execution_count": 7,
     "metadata": {},
     "output_type": "execute_result"
    }
   ],
   "source": [
    "circle = MyCircle(1, Point(0,0))\n",
    "D = Diagram1([circle])\n",
    "\n",
    "D.p == (Diagram1() ⋄ D).p"
   ]
  },
  {
   "cell_type": "markdown",
   "id": "4ae1c45a-dc3d-4bdf-b0b9-2deeea42faeb",
   "metadata": {},
   "source": [
    "Here are some functions that can help working with a diagram. "
   ]
  },
  {
   "cell_type": "code",
   "execution_count": 8,
   "id": "6e517e58-eba1-4347-b8a2-0a980c56d950",
   "metadata": {},
   "outputs": [
    {
     "data": {
      "text/plain": [
       "prim (generic function with 1 method)"
      ]
     },
     "execution_count": 8,
     "metadata": {},
     "output_type": "execute_result"
    }
   ],
   "source": [
    "unD(d::Diagram1) = d.p\n",
    "prim(p::Primitive1) = Diagram1([p])"
   ]
  },
  {
   "cell_type": "code",
   "execution_count": 9,
   "id": "56e260d0-32a1-4380-b3ce-d4c832d5740b",
   "metadata": {},
   "outputs": [
    {
     "data": {
      "text/plain": [
       "(MyCircle(2, [0, 0], Circle{Int64}([0, 0], 2)), MyCircle(1, [0, 0], Circle{Int64}([0, 0], 1)))"
      ]
     },
     "execution_count": 9,
     "metadata": {},
     "output_type": "execute_result"
    }
   ],
   "source": [
    "d = Diagram1(MyCircle(2)) ⋄ Diagram1(MyCircle(1));\n",
    "\n",
    "d.p[1],d.p[2]"
   ]
  },
  {
   "cell_type": "markdown",
   "id": "548616cc-b997-4657-be3e-5821e3d0699d",
   "metadata": {},
   "source": [
    "There is a *practical* issue with our `Diagram1` definition. Suppose we have diagrams\n",
    "`d1 = [p1]`, `d2 = [p2]`, `d3 = [p3]`. One now wishes to draw `d1` over `d2` and over `d3`. We could think\n",
    "that `d1 ⋄ (d2 ⋄ d3)` would do the job, but this is actually putting `d1` under the other two.\n",
    "Remember that `⋄` is just concatenation, hence:\n",
    "```\n",
    "julia> d1 ⋄ (d2 ⋄ d3)\n",
    "[p1,p2,p3]\n",
    "```\n",
    "When we draw `[p1,p2,p3]`, we first draw `p1`, i.e. under the other two.\n",
    "\n",
    "We can change the order to this by defining a dual of `Diagram1`."
   ]
  },
  {
   "cell_type": "code",
   "execution_count": 10,
   "id": "022b614f-36fb-4949-bb18-5e9bf191d0a5",
   "metadata": {},
   "outputs": [
    {
     "data": {
      "text/plain": [
       "unD (generic function with 2 methods)"
      ]
     },
     "execution_count": 10,
     "metadata": {},
     "output_type": "execute_result"
    }
   ],
   "source": [
    "struct DiagramDual\n",
    "    p::Vector{Primitive1}\n",
    "end\n",
    "DiagramDual(p::Primitive1=[]) = DiagramDual([p])\n",
    "neutral(::Type{DiagramDual}) = DiagramDual([])\n",
    "⋄(d1::DiagramDual, d2::DiagramDual) = DiagramDual(d2.p ⋄ d1.p)\n",
    "mconcat(ds::Vector{T}) where T = foldr(⋄,ds; init=neutral(T))\n",
    "unD(d::DiagramDual) = d.p"
   ]
  },
  {
   "cell_type": "markdown",
   "id": "0b3b87ac-279d-4f20-99c2-5563d424f9da",
   "metadata": {},
   "source": [
    "This is now a **contravariant functor**."
   ]
  },
  {
   "cell_type": "code",
   "execution_count": 11,
   "id": "3ee35aa8-063e-4a97-93f3-430b34510fc7",
   "metadata": {},
   "outputs": [],
   "source": [
    "circle = MyCircle()\n",
    "square = MySquare()\n",
    "triangle1 = Prim(Triangle(Point(0,0),Point(1,1), Point(1,0)))\n",
    "triangle2 = Prim(Triangle(Point(0,0),Point(-1,-1), Point(-1,0)))\n",
    "\n",
    "D1 = DiagramDual(circle)\n",
    "D2 = DiagramDual(square)\n",
    "D3 = DiagramDual([triangle1, triangle2])\n",
    "\n",
    "D = D1 ⋄ D2 ⋄ D3;"
   ]
  },
  {
   "cell_type": "code",
   "execution_count": 12,
   "id": "10c48749-04f6-41ae-81c4-61609c28c99c",
   "metadata": {},
   "outputs": [
    {
     "data": {
      "text/plain": [
       "(false, true)"
      ]
     },
     "execution_count": 12,
     "metadata": {},
     "output_type": "execute_result"
    }
   ],
   "source": [
    "D.p[1] == D1.p[1], D.p[1] == D3.p[1]"
   ]
  },
  {
   "cell_type": "code",
   "execution_count": 13,
   "id": "99f69015-7989-4dee-85c0-ddbda8d0c66f",
   "metadata": {},
   "outputs": [],
   "source": [
    "D = mconcat([D1,D2,D3]);"
   ]
  },
  {
   "cell_type": "code",
   "execution_count": 14,
   "id": "39adba13-4406-4b2c-99da-55c2b1d08612",
   "metadata": {},
   "outputs": [
    {
     "data": {
      "text/plain": [
       "(false, true)"
      ]
     },
     "execution_count": 14,
     "metadata": {},
     "output_type": "execute_result"
    }
   ],
   "source": [
    "D.p[1] == D1.p[1], D.p[1] == D3.p[1]"
   ]
  },
  {
   "cell_type": "markdown",
   "id": "5c97e0fc-665d-4029-8339-7ae27e46c629",
   "metadata": {},
   "source": [
    "Note that now that the order follows the \"desired\" drawing order. \n",
    "\n",
    "Let's plot our diagram. We know how to draw each primitive, we just\n",
    "need to iteratively plot each one."
   ]
  },
  {
   "cell_type": "code",
   "execution_count": 15,
   "id": "6e30b5c8-78cd-4b4c-9b9e-5ff3397cb53b",
   "metadata": {},
   "outputs": [
    {
     "data": {
      "text/plain": [
       "coordy (generic function with 1 method)"
      ]
     },
     "execution_count": 15,
     "metadata": {},
     "output_type": "execute_result"
    }
   ],
   "source": [
    "function plotgeometry(g::AbstractGeometry; kwargs...)\n",
    "    x = coordx(g)\n",
    "    y = coordy(g)\n",
    "    x = vcat(x,x[1])\n",
    "    y = vcat(y,y[1])\n",
    "    scatter(x=x,y=y; kwargs...)\n",
    "end\n",
    "\n",
    "function plotgeometry(p::Primitive1; kwargs...)\n",
    "    plotgeometry(p.g)\n",
    "end\n",
    "coordx(t::AbstractGeometry) = [x[1] for x in coordinates(t)]\n",
    "coordy(t::AbstractGeometry) = [x[2] for x in coordinates(t)]"
   ]
  },
  {
   "cell_type": "code",
   "execution_count": 16,
   "id": "c27b4310-9821-464b-9301-36ce50cf9b77",
   "metadata": {},
   "outputs": [
    {
     "data": {
      "application/vnd.plotly.v1+json": {
       "config": {
        "editable": false,
        "responsive": true,
        "scrollZoom": true,
        "showLink": false,
        "staticPlot": false
       },
       "data": [
        {
         "type": "scatter",
         "x": [
          0,
          1,
          1,
          0
         ],
         "y": [
          0,
          1,
          0,
          0
         ]
        },
        {
         "type": "scatter",
         "x": [
          0,
          -1,
          -1,
          0
         ],
         "y": [
          0,
          -1,
          0,
          0
         ]
        },
        {
         "type": "scatter",
         "x": [
          0.5,
          -0.5,
          -0.5,
          0.5,
          0.5
         ],
         "y": [
          0.5,
          0.5,
          -0.5,
          -0.5,
          0.5
         ]
        },
        {
         "type": "scatter",
         "x": [
          1.2246467991473532e-16,
          -0.09956784659581648,
          -0.19814614319939736,
          -0.29475517441090393,
          -0.3884347962746944,
          -0.47825397862131824,
          -0.5633200580636216,
          -0.6427876096865393,
          -0.7158668492597183,
          -0.7818314824680297,
          -0.8400259231507715,
          -0.8898718088114684,
          -0.930873748644204,
          -0.9626242469500119,
          -0.984807753012208,
          -0.9972037971811801,
          -0.9996891820008162,
          -0.9922392066001722,
          -0.9749279121818236,
          -0.9479273461671317,
          -0.9115058523116732,
          -0.866025403784439,
          -0.8119380057158567,
          -0.7497812029677342,
          -0.6801727377709198,
          -0.6038044103254782,
          -0.5214352033794986,
          -0.43388373911755834,
          -0.3420201433256686,
          -0.24675739769029395,
          -0.14904226617617528,
          -0.0498458856606976,
          0.049845885660697115,
          0.14904226617617478,
          0.24675739769029262,
          0.3420201433256681,
          0.4338837391175579,
          0.5214352033794982,
          0.603804410325477,
          0.6801727377709194,
          0.7497812029677339,
          0.8119380057158564,
          0.8660254037844384,
          0.911505852311673,
          0.9479273461671315,
          0.9749279121818235,
          0.992239206600172,
          0.9996891820008162,
          0.9972037971811802,
          0.9848077530122081,
          0.9626242469500126,
          0.9308737486442048,
          0.8898718088114691,
          0.8400259231507718,
          0.78183148246803,
          0.7158668492597183,
          0.642787609686539,
          0.5633200580636213,
          0.4782539786213187,
          0.38843479627469485,
          0.2947551744109057,
          0.19814614319939872,
          0.09956784659581741,
          3.6739403974420594e-16,
          1.2246467991473532e-16
         ],
         "y": [
          -1,
          -0.9950307753654014,
          -0.9801724878485439,
          -0.9555728057861408,
          -0.9214762118704077,
          -0.8782215733702285,
          -0.8262387743159951,
          -0.7660444431189781,
          -0.698236818086073,
          -0.6234898018587337,
          -0.5425462638657592,
          -0.4562106573531632,
          -0.3653410243663957,
          -0.2708404681430055,
          -0.17364817766693033,
          -0.07473009358642473,
          0.02493069173807279,
          0.1243437046474846,
          0.22252093395631423,
          0.3184866502516846,
          0.4112871031306113,
          0.49999999999999933,
          0.5837436722347895,
          0.6616858375968594,
          0.733051871829826,
          0.7971325072229218,
          0.8532908816321554,
          0.900968867902419,
          0.9396926207859084,
          0.9690772862290778,
          0.9888308262251284,
          0.9987569212189223,
          0.9987569212189223,
          0.9888308262251285,
          0.9690772862290782,
          0.9396926207859086,
          0.9009688679024193,
          0.8532908816321556,
          0.7971325072229227,
          0.7330518718298263,
          0.6616858375968597,
          0.58374367223479,
          0.5000000000000006,
          0.41128710313061173,
          0.3184866502516851,
          0.2225209339563147,
          0.12434370464748597,
          0.024930691738073277,
          -0.07473009358642335,
          -0.17364817766692986,
          -0.2708404681430033,
          -0.3653410243663936,
          -0.45621065735316196,
          -0.5425462638657588,
          -0.6234898018587333,
          -0.6982368180860729,
          -0.7660444431189783,
          -0.8262387743159954,
          -0.8782215733702283,
          -0.9214762118704076,
          -0.9555728057861402,
          -0.9801724878485436,
          -0.9950307753654013,
          -1,
          -1
         ]
        }
       ],
       "frames": [],
       "layout": {
        "height": 600,
        "margin": {
         "b": 50,
         "l": 50,
         "r": 50,
         "t": 60
        },
        "template": {
         "data": {
          "bar": [
           {
            "error_x": {
             "color": "#2a3f5f"
            },
            "error_y": {
             "color": "#2a3f5f"
            },
            "marker": {
             "line": {
              "color": "#E5ECF6",
              "width": 0.5
             }
            },
            "type": "bar"
           }
          ],
          "barpolar": [
           {
            "marker": {
             "line": {
              "color": "#E5ECF6",
              "width": 0.5
             }
            },
            "type": "barpolar"
           }
          ],
          "carpet": [
           {
            "aaxis": {
             "endlinecolor": "#2a3f5f",
             "gridcolor": "white",
             "linecolor": "white",
             "minorgridcolor": "white",
             "startlinecolor": "#2a3f5f"
            },
            "baxis": {
             "endlinecolor": "#2a3f5f",
             "gridcolor": "white",
             "linecolor": "white",
             "minorgridcolor": "white",
             "startlinecolor": "#2a3f5f"
            },
            "type": "carpet"
           }
          ],
          "choropleth": [
           {
            "colorbar": {
             "outlinewidth": 0,
             "ticks": ""
            },
            "type": "choropleth"
           }
          ],
          "contour": [
           {
            "colorbar": {
             "outlinewidth": 0,
             "ticks": ""
            },
            "colorscale": [
             [
              0,
              "#0d0887"
             ],
             [
              0.1111111111111111,
              "#46039f"
             ],
             [
              0.2222222222222222,
              "#7201a8"
             ],
             [
              0.3333333333333333,
              "#9c179e"
             ],
             [
              0.4444444444444444,
              "#bd3786"
             ],
             [
              0.5555555555555556,
              "#d8576b"
             ],
             [
              0.6666666666666666,
              "#ed7953"
             ],
             [
              0.7777777777777778,
              "#fb9f3a"
             ],
             [
              0.8888888888888888,
              "#fdca26"
             ],
             [
              1,
              "#f0f921"
             ]
            ],
            "type": "contour"
           }
          ],
          "contourcarpet": [
           {
            "colorbar": {
             "outlinewidth": 0,
             "ticks": ""
            },
            "type": "contourcarpet"
           }
          ],
          "heatmap": [
           {
            "colorbar": {
             "outlinewidth": 0,
             "ticks": ""
            },
            "colorscale": [
             [
              0,
              "#0d0887"
             ],
             [
              0.1111111111111111,
              "#46039f"
             ],
             [
              0.2222222222222222,
              "#7201a8"
             ],
             [
              0.3333333333333333,
              "#9c179e"
             ],
             [
              0.4444444444444444,
              "#bd3786"
             ],
             [
              0.5555555555555556,
              "#d8576b"
             ],
             [
              0.6666666666666666,
              "#ed7953"
             ],
             [
              0.7777777777777778,
              "#fb9f3a"
             ],
             [
              0.8888888888888888,
              "#fdca26"
             ],
             [
              1,
              "#f0f921"
             ]
            ],
            "type": "heatmap"
           }
          ],
          "heatmapgl": [
           {
            "colorbar": {
             "outlinewidth": 0,
             "ticks": ""
            },
            "colorscale": [
             [
              0,
              "#0d0887"
             ],
             [
              0.1111111111111111,
              "#46039f"
             ],
             [
              0.2222222222222222,
              "#7201a8"
             ],
             [
              0.3333333333333333,
              "#9c179e"
             ],
             [
              0.4444444444444444,
              "#bd3786"
             ],
             [
              0.5555555555555556,
              "#d8576b"
             ],
             [
              0.6666666666666666,
              "#ed7953"
             ],
             [
              0.7777777777777778,
              "#fb9f3a"
             ],
             [
              0.8888888888888888,
              "#fdca26"
             ],
             [
              1,
              "#f0f921"
             ]
            ],
            "type": "heatmapgl"
           }
          ],
          "histogram": [
           {
            "marker": {
             "colorbar": {
              "outlinewidth": 0,
              "ticks": ""
             }
            },
            "type": "histogram"
           }
          ],
          "histogram2d": [
           {
            "colorbar": {
             "outlinewidth": 0,
             "ticks": ""
            },
            "colorscale": [
             [
              0,
              "#0d0887"
             ],
             [
              0.1111111111111111,
              "#46039f"
             ],
             [
              0.2222222222222222,
              "#7201a8"
             ],
             [
              0.3333333333333333,
              "#9c179e"
             ],
             [
              0.4444444444444444,
              "#bd3786"
             ],
             [
              0.5555555555555556,
              "#d8576b"
             ],
             [
              0.6666666666666666,
              "#ed7953"
             ],
             [
              0.7777777777777778,
              "#fb9f3a"
             ],
             [
              0.8888888888888888,
              "#fdca26"
             ],
             [
              1,
              "#f0f921"
             ]
            ],
            "type": "histogram2d"
           }
          ],
          "histogram2dcontour": [
           {
            "colorbar": {
             "outlinewidth": 0,
             "ticks": ""
            },
            "colorscale": [
             [
              0,
              "#0d0887"
             ],
             [
              0.1111111111111111,
              "#46039f"
             ],
             [
              0.2222222222222222,
              "#7201a8"
             ],
             [
              0.3333333333333333,
              "#9c179e"
             ],
             [
              0.4444444444444444,
              "#bd3786"
             ],
             [
              0.5555555555555556,
              "#d8576b"
             ],
             [
              0.6666666666666666,
              "#ed7953"
             ],
             [
              0.7777777777777778,
              "#fb9f3a"
             ],
             [
              0.8888888888888888,
              "#fdca26"
             ],
             [
              1,
              "#f0f921"
             ]
            ],
            "type": "histogram2dcontour"
           }
          ],
          "mesh3d": [
           {
            "colorbar": {
             "outlinewidth": 0,
             "ticks": ""
            },
            "type": "mesh3d"
           }
          ],
          "parcoords": [
           {
            "line": {
             "colorbar": {
              "outlinewidth": 0,
              "ticks": ""
             }
            },
            "type": "parcoords"
           }
          ],
          "pie": [
           {
            "automargin": true,
            "type": "pie"
           }
          ],
          "scatter": [
           {
            "marker": {
             "colorbar": {
              "outlinewidth": 0,
              "ticks": ""
             }
            },
            "type": "scatter"
           }
          ],
          "scatter3d": [
           {
            "line": {
             "colorbar": {
              "outlinewidth": 0,
              "ticks": ""
             }
            },
            "marker": {
             "colorbar": {
              "outlinewidth": 0,
              "ticks": ""
             }
            },
            "type": "scatter3d"
           }
          ],
          "scattercarpet": [
           {
            "marker": {
             "colorbar": {
              "outlinewidth": 0,
              "ticks": ""
             }
            },
            "type": "scattercarpet"
           }
          ],
          "scattergeo": [
           {
            "marker": {
             "colorbar": {
              "outlinewidth": 0,
              "ticks": ""
             }
            },
            "type": "scattergeo"
           }
          ],
          "scattergl": [
           {
            "marker": {
             "colorbar": {
              "outlinewidth": 0,
              "ticks": ""
             }
            },
            "type": "scattergl"
           }
          ],
          "scattermapbox": [
           {
            "marker": {
             "colorbar": {
              "outlinewidth": 0,
              "ticks": ""
             }
            },
            "type": "scattermapbox"
           }
          ],
          "scatterpolar": [
           {
            "marker": {
             "colorbar": {
              "outlinewidth": 0,
              "ticks": ""
             }
            },
            "type": "scatterpolar"
           }
          ],
          "scatterpolargl": [
           {
            "marker": {
             "colorbar": {
              "outlinewidth": 0,
              "ticks": ""
             }
            },
            "type": "scatterpolargl"
           }
          ],
          "scatterternary": [
           {
            "marker": {
             "colorbar": {
              "outlinewidth": 0,
              "ticks": ""
             }
            },
            "type": "scatterternary"
           }
          ],
          "surface": [
           {
            "colorbar": {
             "outlinewidth": 0,
             "ticks": ""
            },
            "colorscale": [
             [
              0,
              "#0d0887"
             ],
             [
              0.1111111111111111,
              "#46039f"
             ],
             [
              0.2222222222222222,
              "#7201a8"
             ],
             [
              0.3333333333333333,
              "#9c179e"
             ],
             [
              0.4444444444444444,
              "#bd3786"
             ],
             [
              0.5555555555555556,
              "#d8576b"
             ],
             [
              0.6666666666666666,
              "#ed7953"
             ],
             [
              0.7777777777777778,
              "#fb9f3a"
             ],
             [
              0.8888888888888888,
              "#fdca26"
             ],
             [
              1,
              "#f0f921"
             ]
            ],
            "type": "surface"
           }
          ],
          "table": [
           {
            "cells": {
             "fill": {
              "color": "#EBF0F8"
             },
             "line": {
              "color": "white"
             }
            },
            "header": {
             "fill": {
              "color": "#C8D4E3"
             },
             "line": {
              "color": "white"
             }
            },
            "type": "table"
           }
          ]
         },
         "layout": {
          "annotationdefaults": {
           "arrowcolor": "#2a3f5f",
           "arrowhead": 0,
           "arrowwidth": 1
          },
          "autotypenumbers": "strict",
          "coloraxis": {
           "colorbar": {
            "outlinewidth": 0,
            "ticks": ""
           }
          },
          "colorscale": {
           "diverging": [
            [
             0,
             "#8e0152"
            ],
            [
             0.1,
             "#c51b7d"
            ],
            [
             0.2,
             "#de77ae"
            ],
            [
             0.3,
             "#f1b6da"
            ],
            [
             0.4,
             "#fde0ef"
            ],
            [
             0.5,
             "#f7f7f7"
            ],
            [
             0.6,
             "#e6f5d0"
            ],
            [
             0.7,
             "#b8e186"
            ],
            [
             0.8,
             "#7fbc41"
            ],
            [
             0.9,
             "#4d9221"
            ],
            [
             1,
             "#276419"
            ]
           ],
           "sequential": [
            [
             0,
             "#0d0887"
            ],
            [
             0.1111111111111111,
             "#46039f"
            ],
            [
             0.2222222222222222,
             "#7201a8"
            ],
            [
             0.3333333333333333,
             "#9c179e"
            ],
            [
             0.4444444444444444,
             "#bd3786"
            ],
            [
             0.5555555555555556,
             "#d8576b"
            ],
            [
             0.6666666666666666,
             "#ed7953"
            ],
            [
             0.7777777777777778,
             "#fb9f3a"
            ],
            [
             0.8888888888888888,
             "#fdca26"
            ],
            [
             1,
             "#f0f921"
            ]
           ],
           "sequentialminus": [
            [
             0,
             "#0d0887"
            ],
            [
             0.1111111111111111,
             "#46039f"
            ],
            [
             0.2222222222222222,
             "#7201a8"
            ],
            [
             0.3333333333333333,
             "#9c179e"
            ],
            [
             0.4444444444444444,
             "#bd3786"
            ],
            [
             0.5555555555555556,
             "#d8576b"
            ],
            [
             0.6666666666666666,
             "#ed7953"
            ],
            [
             0.7777777777777778,
             "#fb9f3a"
            ],
            [
             0.8888888888888888,
             "#fdca26"
            ],
            [
             1,
             "#f0f921"
            ]
           ]
          },
          "colorway": [
           "#636efa",
           "#EF553B",
           "#00cc96",
           "#ab63fa",
           "#FFA15A",
           "#19d3f3",
           "#FF6692",
           "#B6E880",
           "#FF97FF",
           "#FECB52"
          ],
          "font": {
           "color": "#2a3f5f"
          },
          "geo": {
           "bgcolor": "white",
           "lakecolor": "white",
           "landcolor": "#E5ECF6",
           "showlakes": true,
           "showland": true,
           "subunitcolor": "white"
          },
          "hoverlabel": {
           "align": "left"
          },
          "hovermode": "closest",
          "mapbox": {
           "style": "light"
          },
          "paper_bgcolor": "white",
          "plot_bgcolor": "#E5ECF6",
          "polar": {
           "angularaxis": {
            "gridcolor": "white",
            "linecolor": "white",
            "ticks": ""
           },
           "bgcolor": "#E5ECF6",
           "radialaxis": {
            "gridcolor": "white",
            "linecolor": "white",
            "ticks": ""
           }
          },
          "scene": {
           "xaxis": {
            "backgroundcolor": "#E5ECF6",
            "gridcolor": "white",
            "gridwidth": 2,
            "linecolor": "white",
            "showbackground": true,
            "ticks": "",
            "zerolinecolor": "white"
           },
           "yaxis": {
            "backgroundcolor": "#E5ECF6",
            "gridcolor": "white",
            "gridwidth": 2,
            "linecolor": "white",
            "showbackground": true,
            "ticks": "",
            "zerolinecolor": "white"
           },
           "zaxis": {
            "backgroundcolor": "#E5ECF6",
            "gridcolor": "white",
            "gridwidth": 2,
            "linecolor": "white",
            "showbackground": true,
            "ticks": "",
            "zerolinecolor": "white"
           }
          },
          "shapedefaults": {
           "line": {
            "color": "#2a3f5f"
           }
          },
          "ternary": {
           "aaxis": {
            "gridcolor": "white",
            "linecolor": "white",
            "ticks": ""
           },
           "baxis": {
            "gridcolor": "white",
            "linecolor": "white",
            "ticks": ""
           },
           "bgcolor": "#E5ECF6",
           "caxis": {
            "gridcolor": "white",
            "linecolor": "white",
            "ticks": ""
           }
          },
          "title": {
           "x": 0.05
          },
          "xaxis": {
           "automargin": true,
           "gridcolor": "white",
           "linecolor": "white",
           "ticks": "",
           "title": {
            "standoff": 15
           },
           "zerolinecolor": "white",
           "zerolinewidth": 2
          },
          "yaxis": {
           "automargin": true,
           "gridcolor": "white",
           "linecolor": "white",
           "ticks": "",
           "title": {
            "standoff": 15
           },
           "zerolinecolor": "white",
           "zerolinewidth": 2
          }
         }
        },
        "width": 600,
        "xaxis": {
         "range": [
          -2,
          2
         ],
         "type": "linear"
        },
        "yaxis": {
         "range": [
          -2,
          2
         ],
         "type": "linear"
        }
       }
      },
      "image/png": "[encoded data removed]",
      "text/html": [
       "<div\n",
       "    class=\"webio-mountpoint\"\n",
       "    data-webio-mountpoint=\"17971782102586970253\"\n",
       ">\n",
       "    <script>\n",
       "    (function(){\n",
       "    // Some integrations (namely, IJulia/Jupyter) use an alternate render pathway than\n",
       "    // just putting the html on the page. If WebIO isn't defined, then it's pretty likely\n",
       "    // that we're in one of those situations and the integration just isn't installed\n",
       "    // correctly.\n",
       "    if (typeof window.WebIO === \"undefined\") {\n",
       "        document\n",
       "            .querySelector('[data-webio-mountpoint=\"17971782102586970253\"]')\n",
       "            .innerHTML = (\n",
       "                '<div style=\"padding: 1em; background-color: #f8d6da; border: 1px solid #f5c6cb; font-weight: bold;\">' +\n",
       "                '<p><strong>WebIO not detected.</strong></p>' +\n",
       "                '<p>Please read ' +\n",
       "                '<a href=\"https://juliagizmos.github.io/WebIO.jl/latest/troubleshooting/not-detected/\" target=\"_blank\">the troubleshooting guide</a> ' +\n",
       "                'for more information on how to resolve this issue.</p>' +\n",
       "                '<p><a href=\"https://juliagizmos.github.io/WebIO.jl/latest/troubleshooting/not-detected/\" target=\"_blank\">https://juliagizmos.github.io/WebIO.jl/latest/troubleshooting/not-detected/</a></p>' +\n",
       "                '</div>'\n",
       "            );\n",
       "        return;\n",
       "    }\n",
       "    WebIO.mount(\n",
       "        document.querySelector('[data-webio-mountpoint=\"17971782102586970253\"]'),\n",
       "        {\"props\":{},\"nodeType\":\"Scope\",\"type\":\"node\",\"instanceArgs\":{\"imports\":{\"data\":[{\"name\":\"Plotly\",\"type\":\"js\",\"url\":\"\\/assetserver\\/d66a736669047bda0b2d00471bd5207a90cf3193-plotly.min.js\"},{\"name\":null,\"type\":\"js\",\"url\":\"\\/assetserver\\/aee3160e397a4905b07437c5af565305d1ef6def-plotly_webio.bundle.js\"}],\"type\":\"async_block\"},\"id\":\"2491798453591571685\",\"handlers\":{\"_toImage\":[\"(function (options){return this.Plotly.toImage(this.plotElem,options).then((function (data){return WebIO.setval({\\\"name\\\":\\\"image\\\",\\\"scope\\\":\\\"2491798453591571685\\\",\\\"id\\\":\\\"17885706733382890520\\\",\\\"type\\\":\\\"observable\\\"},data)}))})\"],\"__get_gd_contents\":[\"(function (prop){prop==\\\"data\\\" ? (WebIO.setval({\\\"name\\\":\\\"__gd_contents\\\",\\\"scope\\\":\\\"2491798453591571685\\\",\\\"id\\\":\\\"10286733105778620636\\\",\\\"type\\\":\\\"observable\\\"},this.plotElem.data)) : undefined; return prop==\\\"layout\\\" ? (WebIO.setval({\\\"name\\\":\\\"__gd_contents\\\",\\\"scope\\\":\\\"2491798453591571685\\\",\\\"id\\\":\\\"10286733105778620636\\\",\\\"type\\\":\\\"observable\\\"},this.plotElem.layout)) : undefined})\"],\"_downloadImage\":[\"(function (options){return this.Plotly.downloadImage(this.plotElem,options)})\"],\"_commands\":[\"(function (args){var fn=args.shift(); var elem=this.plotElem; var Plotly=this.Plotly; args.unshift(elem); return Plotly[fn].apply(this,args)})\"]},\"systemjs_options\":null,\"mount_callbacks\":[\"function () {\\n    var handler = ((function (Plotly,PlotlyWebIO){PlotlyWebIO.init(WebIO); var gd=this.dom.querySelector(\\\"#plot-26f111f8-16b1-40c6-add9-2f9cc76882e2\\\"); this.plotElem=gd; this.Plotly=Plotly; (window.Blink!==undefined) ? (gd.style.width=\\\"100%\\\", gd.style.height=\\\"100vh\\\", gd.style.marginLeft=\\\"0%\\\", gd.style.marginTop=\\\"0vh\\\") : undefined; window.onresize=(function (){return Plotly.Plots.resize(gd)}); Plotly.newPlot(gd,[{\\\"y\\\":[0,1,0,0],\\\"type\\\":\\\"scatter\\\",\\\"x\\\":[0,1,1,0]},{\\\"y\\\":[0,-1,0,0],\\\"type\\\":\\\"scatter\\\",\\\"x\\\":[0,-1,-1,0]},{\\\"y\\\":[0.5,0.5,-0.5,-0.5,0.5],\\\"type\\\":\\\"scatter\\\",\\\"x\\\":[0.5,-0.5,-0.5,0.5,0.5]},{\\\"y\\\":[-1.0,-0.9950307753654014,-0.9801724878485439,-0.9555728057861408,-0.9214762118704077,-0.8782215733702285,-0.8262387743159951,-0.7660444431189781,-0.698236818086073,-0.6234898018587337,-0.5425462638657592,-0.4562106573531632,-0.3653410243663957,-0.2708404681430055,-0.17364817766693033,-0.07473009358642473,0.02493069173807279,0.1243437046474846,0.22252093395631423,0.3184866502516846,0.4112871031306113,0.49999999999999933,0.5837436722347895,0.6616858375968594,0.733051871829826,0.7971325072229218,0.8532908816321554,0.900968867902419,0.9396926207859084,0.9690772862290778,0.9888308262251284,0.9987569212189223,0.9987569212189223,0.9888308262251285,0.9690772862290782,0.9396926207859086,0.9009688679024193,0.8532908816321556,0.7971325072229227,0.7330518718298263,0.6616858375968597,0.58374367223479,0.5000000000000006,0.41128710313061173,0.3184866502516851,0.2225209339563147,0.12434370464748597,0.024930691738073277,-0.07473009358642335,-0.17364817766692986,-0.2708404681430033,-0.3653410243663936,-0.45621065735316196,-0.5425462638657588,-0.6234898018587333,-0.6982368180860729,-0.7660444431189783,-0.8262387743159954,-0.8782215733702283,-0.9214762118704076,-0.9555728057861402,-0.9801724878485436,-0.9950307753654013,-1.0,-1.0],\\\"type\\\":\\\"scatter\\\",\\\"x\\\":[1.2246467991473532e-16,-0.09956784659581648,-0.19814614319939736,-0.29475517441090393,-0.3884347962746944,-0.47825397862131824,-0.5633200580636216,-0.6427876096865393,-0.7158668492597183,-0.7818314824680297,-0.8400259231507715,-0.8898718088114684,-0.930873748644204,-0.9626242469500119,-0.984807753012208,-0.9972037971811801,-0.9996891820008162,-0.9922392066001722,-0.9749279121818236,-0.9479273461671317,-0.9115058523116732,-0.866025403784439,-0.8119380057158567,-0.7497812029677342,-0.6801727377709198,-0.6038044103254782,-0.5214352033794986,-0.43388373911755834,-0.3420201433256686,-0.24675739769029395,-0.14904226617617528,-0.0498458856606976,0.049845885660697115,0.14904226617617478,0.24675739769029262,0.3420201433256681,0.4338837391175579,0.5214352033794982,0.603804410325477,0.6801727377709194,0.7497812029677339,0.8119380057158564,0.8660254037844384,0.911505852311673,0.9479273461671315,0.9749279121818235,0.992239206600172,0.9996891820008162,0.9972037971811802,0.9848077530122081,0.9626242469500126,0.9308737486442048,0.8898718088114691,0.8400259231507718,0.78183148246803,0.7158668492597183,0.642787609686539,0.5633200580636213,0.4782539786213187,0.38843479627469485,0.2947551744109057,0.19814614319939872,0.09956784659581741,3.6739403974420594e-16,1.2246467991473532e-16]}],{\\\"xaxis\\\":{\\\"range\\\":[-2,2]},\\\"template\\\":{\\\"layout\\\":{\\\"coloraxis\\\":{\\\"colorbar\\\":{\\\"ticks\\\":\\\"\\\",\\\"outlinewidth\\\":0}},\\\"xaxis\\\":{\\\"gridcolor\\\":\\\"white\\\",\\\"zerolinewidth\\\":2,\\\"title\\\":{\\\"standoff\\\":15},\\\"ticks\\\":\\\"\\\",\\\"zerolinecolor\\\":\\\"white\\\",\\\"automargin\\\":true,\\\"linecolor\\\":\\\"white\\\"},\\\"hovermode\\\":\\\"closest\\\",\\\"paper_bgcolor\\\":\\\"white\\\",\\\"geo\\\":{\\\"showlakes\\\":true,\\\"showland\\\":true,\\\"landcolor\\\":\\\"#E5ECF6\\\",\\\"bgcolor\\\":\\\"white\\\",\\\"subunitcolor\\\":\\\"white\\\",\\\"lakecolor\\\":\\\"white\\\"},\\\"colorscale\\\":{\\\"sequential\\\":[[0.0,\\\"#0d0887\\\"],[0.1111111111111111,\\\"#46039f\\\"],[0.2222222222222222,\\\"#7201a8\\\"],[0.3333333333333333,\\\"#9c179e\\\"],[0.4444444444444444,\\\"#bd3786\\\"],[0.5555555555555556,\\\"#d8576b\\\"],[0.6666666666666666,\\\"#ed7953\\\"],[0.7777777777777778,\\\"#fb9f3a\\\"],[0.8888888888888888,\\\"#fdca26\\\"],[1.0,\\\"#f0f921\\\"]],\\\"diverging\\\":[[0,\\\"#8e0152\\\"],[0.1,\\\"#c51b7d\\\"],[0.2,\\\"#de77ae\\\"],[0.3,\\\"#f1b6da\\\"],[0.4,\\\"#fde0ef\\\"],[0.5,\\\"#f7f7f7\\\"],[0.6,\\\"#e6f5d0\\\"],[0.7,\\\"#b8e186\\\"],[0.8,\\\"#7fbc41\\\"],[0.9,\\\"#4d9221\\\"],[1,\\\"#276419\\\"]],\\\"sequentialminus\\\":[[0.0,\\\"#0d0887\\\"],[0.1111111111111111,\\\"#46039f\\\"],[0.2222222222222222,\\\"#7201a8\\\"],[0.3333333333333333,\\\"#9c179e\\\"],[0.4444444444444444,\\\"#bd3786\\\"],[0.5555555555555556,\\\"#d8576b\\\"],[0.6666666666666666,\\\"#ed7953\\\"],[0.7777777777777778,\\\"#fb9f3a\\\"],[0.8888888888888888,\\\"#fdca26\\\"],[1.0,\\\"#f0f921\\\"]]},\\\"yaxis\\\":{\\\"gridcolor\\\":\\\"white\\\",\\\"zerolinewidth\\\":2,\\\"title\\\":{\\\"standoff\\\":15},\\\"ticks\\\":\\\"\\\",\\\"zerolinecolor\\\":\\\"white\\\",\\\"automargin\\\":true,\\\"linecolor\\\":\\\"white\\\"},\\\"shapedefaults\\\":{\\\"line\\\":{\\\"color\\\":\\\"#2a3f5f\\\"}},\\\"hoverlabel\\\":{\\\"align\\\":\\\"left\\\"},\\\"mapbox\\\":{\\\"style\\\":\\\"light\\\"},\\\"polar\\\":{\\\"angularaxis\\\":{\\\"gridcolor\\\":\\\"white\\\",\\\"ticks\\\":\\\"\\\",\\\"linecolor\\\":\\\"white\\\"},\\\"bgcolor\\\":\\\"#E5ECF6\\\",\\\"radialaxis\\\":{\\\"gridcolor\\\":\\\"white\\\",\\\"ticks\\\":\\\"\\\",\\\"linecolor\\\":\\\"white\\\"}},\\\"autotypenumbers\\\":\\\"strict\\\",\\\"font\\\":{\\\"color\\\":\\\"#2a3f5f\\\"},\\\"ternary\\\":{\\\"baxis\\\":{\\\"gridcolor\\\":\\\"white\\\",\\\"ticks\\\":\\\"\\\",\\\"linecolor\\\":\\\"white\\\"},\\\"bgcolor\\\":\\\"#E5ECF6\\\",\\\"caxis\\\":{\\\"gridcolor\\\":\\\"white\\\",\\\"ticks\\\":\\\"\\\",\\\"linecolor\\\":\\\"white\\\"},\\\"aaxis\\\":{\\\"gridcolor\\\":\\\"white\\\",\\\"ticks\\\":\\\"\\\",\\\"linecolor\\\":\\\"white\\\"}},\\\"annotationdefaults\\\":{\\\"arrowhead\\\":0,\\\"arrowwidth\\\":1,\\\"arrowcolor\\\":\\\"#2a3f5f\\\"},\\\"plot_bgcolor\\\":\\\"#E5ECF6\\\",\\\"title\\\":{\\\"x\\\":0.05},\\\"scene\\\":{\\\"xaxis\\\":{\\\"gridcolor\\\":\\\"white\\\",\\\"gridwidth\\\":2,\\\"backgroundcolor\\\":\\\"#E5ECF6\\\",\\\"ticks\\\":\\\"\\\",\\\"showbackground\\\":true,\\\"zerolinecolor\\\":\\\"white\\\",\\\"linecolor\\\":\\\"white\\\"},\\\"zaxis\\\":{\\\"gridcolor\\\":\\\"white\\\",\\\"gridwidth\\\":2,\\\"backgroundcolor\\\":\\\"#E5ECF6\\\",\\\"ticks\\\":\\\"\\\",\\\"showbackground\\\":true,\\\"zerolinecolor\\\":\\\"white\\\",\\\"linecolor\\\":\\\"white\\\"},\\\"yaxis\\\":{\\\"gridcolor\\\":\\\"white\\\",\\\"gridwidth\\\":2,\\\"backgroundcolor\\\":\\\"#E5ECF6\\\",\\\"ticks\\\":\\\"\\\",\\\"showbackground\\\":true,\\\"zerolinecolor\\\":\\\"white\\\",\\\"linecolor\\\":\\\"white\\\"}},\\\"colorway\\\":[\\\"#636efa\\\",\\\"#EF553B\\\",\\\"#00cc96\\\",\\\"#ab63fa\\\",\\\"#FFA15A\\\",\\\"#19d3f3\\\",\\\"#FF6692\\\",\\\"#B6E880\\\",\\\"#FF97FF\\\",\\\"#FECB52\\\"]},\\\"data\\\":{\\\"barpolar\\\":[{\\\"type\\\":\\\"barpolar\\\",\\\"marker\\\":{\\\"line\\\":{\\\"color\\\":\\\"#E5ECF6\\\",\\\"width\\\":0.5}}}],\\\"carpet\\\":[{\\\"aaxis\\\":{\\\"gridcolor\\\":\\\"white\\\",\\\"endlinecolor\\\":\\\"#2a3f5f\\\",\\\"minorgridcolor\\\":\\\"white\\\",\\\"startlinecolor\\\":\\\"#2a3f5f\\\",\\\"linecolor\\\":\\\"white\\\"},\\\"type\\\":\\\"carpet\\\",\\\"baxis\\\":{\\\"gridcolor\\\":\\\"white\\\",\\\"endlinecolor\\\":\\\"#2a3f5f\\\",\\\"minorgridcolor\\\":\\\"white\\\",\\\"startlinecolor\\\":\\\"#2a3f5f\\\",\\\"linecolor\\\":\\\"white\\\"}}],\\\"scatterpolar\\\":[{\\\"type\\\":\\\"scatterpolar\\\",\\\"marker\\\":{\\\"colorbar\\\":{\\\"ticks\\\":\\\"\\\",\\\"outlinewidth\\\":0}}}],\\\"parcoords\\\":[{\\\"line\\\":{\\\"colorbar\\\":{\\\"ticks\\\":\\\"\\\",\\\"outlinewidth\\\":0}},\\\"type\\\":\\\"parcoords\\\"}],\\\"scatter\\\":[{\\\"type\\\":\\\"scatter\\\",\\\"marker\\\":{\\\"colorbar\\\":{\\\"ticks\\\":\\\"\\\",\\\"outlinewidth\\\":0}}}],\\\"histogram2dcontour\\\":[{\\\"colorbar\\\":{\\\"ticks\\\":\\\"\\\",\\\"outlinewidth\\\":0},\\\"type\\\":\\\"histogram2dcontour\\\",\\\"colorscale\\\":[[0.0,\\\"#0d0887\\\"],[0.1111111111111111,\\\"#46039f\\\"],[0.2222222222222222,\\\"#7201a8\\\"],[0.3333333333333333,\\\"#9c179e\\\"],[0.4444444444444444,\\\"#bd3786\\\"],[0.5555555555555556,\\\"#d8576b\\\"],[0.6666666666666666,\\\"#ed7953\\\"],[0.7777777777777778,\\\"#fb9f3a\\\"],[0.8888888888888888,\\\"#fdca26\\\"],[1.0,\\\"#f0f921\\\"]]}],\\\"contour\\\":[{\\\"colorbar\\\":{\\\"ticks\\\":\\\"\\\",\\\"outlinewidth\\\":0},\\\"type\\\":\\\"contour\\\",\\\"colorscale\\\":[[0.0,\\\"#0d0887\\\"],[0.1111111111111111,\\\"#46039f\\\"],[0.2222222222222222,\\\"#7201a8\\\"],[0.3333333333333333,\\\"#9c179e\\\"],[0.4444444444444444,\\\"#bd3786\\\"],[0.5555555555555556,\\\"#d8576b\\\"],[0.6666666666666666,\\\"#ed7953\\\"],[0.7777777777777778,\\\"#fb9f3a\\\"],[0.8888888888888888,\\\"#fdca26\\\"],[1.0,\\\"#f0f921\\\"]]}],\\\"scattercarpet\\\":[{\\\"type\\\":\\\"scattercarpet\\\",\\\"marker\\\":{\\\"colorbar\\\":{\\\"ticks\\\":\\\"\\\",\\\"outlinewidth\\\":0}}}],\\\"mesh3d\\\":[{\\\"colorbar\\\":{\\\"ticks\\\":\\\"\\\",\\\"outlinewidth\\\":0},\\\"type\\\":\\\"mesh3d\\\"}],\\\"surface\\\":[{\\\"colorbar\\\":{\\\"ticks\\\":\\\"\\\",\\\"outlinewidth\\\":0},\\\"type\\\":\\\"surface\\\",\\\"colorscale\\\":[[0.0,\\\"#0d0887\\\"],[0.1111111111111111,\\\"#46039f\\\"],[0.2222222222222222,\\\"#7201a8\\\"],[0.3333333333333333,\\\"#9c179e\\\"],[0.4444444444444444,\\\"#bd3786\\\"],[0.5555555555555556,\\\"#d8576b\\\"],[0.6666666666666666,\\\"#ed7953\\\"],[0.7777777777777778,\\\"#fb9f3a\\\"],[0.8888888888888888,\\\"#fdca26\\\"],[1.0,\\\"#f0f921\\\"]]}],\\\"scattermapbox\\\":[{\\\"type\\\":\\\"scattermapbox\\\",\\\"marker\\\":{\\\"colorbar\\\":{\\\"ticks\\\":\\\"\\\",\\\"outlinewidth\\\":0}}}],\\\"scattergeo\\\":[{\\\"type\\\":\\\"scattergeo\\\",\\\"marker\\\":{\\\"colorbar\\\":{\\\"ticks\\\":\\\"\\\",\\\"outlinewidth\\\":0}}}],\\\"histogram\\\":[{\\\"type\\\":\\\"histogram\\\",\\\"marker\\\":{\\\"colorbar\\\":{\\\"ticks\\\":\\\"\\\",\\\"outlinewidth\\\":0}}}],\\\"pie\\\":[{\\\"type\\\":\\\"pie\\\",\\\"automargin\\\":true}],\\\"choropleth\\\":[{\\\"colorbar\\\":{\\\"ticks\\\":\\\"\\\",\\\"outlinewidth\\\":0},\\\"type\\\":\\\"choropleth\\\"}],\\\"heatmapgl\\\":[{\\\"colorbar\\\":{\\\"ticks\\\":\\\"\\\",\\\"outlinewidth\\\":0},\\\"type\\\":\\\"heatmapgl\\\",\\\"colorscale\\\":[[0.0,\\\"#0d0887\\\"],[0.1111111111111111,\\\"#46039f\\\"],[0.2222222222222222,\\\"#7201a8\\\"],[0.3333333333333333,\\\"#9c179e\\\"],[0.4444444444444444,\\\"#bd3786\\\"],[0.5555555555555556,\\\"#d8576b\\\"],[0.6666666666666666,\\\"#ed7953\\\"],[0.7777777777777778,\\\"#fb9f3a\\\"],[0.8888888888888888,\\\"#fdca26\\\"],[1.0,\\\"#f0f921\\\"]]}],\\\"bar\\\":[{\\\"type\\\":\\\"bar\\\",\\\"error_y\\\":{\\\"color\\\":\\\"#2a3f5f\\\"},\\\"error_x\\\":{\\\"color\\\":\\\"#2a3f5f\\\"},\\\"marker\\\":{\\\"line\\\":{\\\"color\\\":\\\"#E5ECF6\\\",\\\"width\\\":0.5}}}],\\\"heatmap\\\":[{\\\"colorbar\\\":{\\\"ticks\\\":\\\"\\\",\\\"outlinewidth\\\":0},\\\"type\\\":\\\"heatmap\\\",\\\"colorscale\\\":[[0.0,\\\"#0d0887\\\"],[0.1111111111111111,\\\"#46039f\\\"],[0.2222222222222222,\\\"#7201a8\\\"],[0.3333333333333333,\\\"#9c179e\\\"],[0.4444444444444444,\\\"#bd3786\\\"],[0.5555555555555556,\\\"#d8576b\\\"],[0.6666666666666666,\\\"#ed7953\\\"],[0.7777777777777778,\\\"#fb9f3a\\\"],[0.8888888888888888,\\\"#fdca26\\\"],[1.0,\\\"#f0f921\\\"]]}],\\\"contourcarpet\\\":[{\\\"colorbar\\\":{\\\"ticks\\\":\\\"\\\",\\\"outlinewidth\\\":0},\\\"type\\\":\\\"contourcarpet\\\"}],\\\"table\\\":[{\\\"type\\\":\\\"table\\\",\\\"header\\\":{\\\"line\\\":{\\\"color\\\":\\\"white\\\"},\\\"fill\\\":{\\\"color\\\":\\\"#C8D4E3\\\"}},\\\"cells\\\":{\\\"line\\\":{\\\"color\\\":\\\"white\\\"},\\\"fill\\\":{\\\"color\\\":\\\"#EBF0F8\\\"}}}],\\\"scatter3d\\\":[{\\\"line\\\":{\\\"colorbar\\\":{\\\"ticks\\\":\\\"\\\",\\\"outlinewidth\\\":0}},\\\"type\\\":\\\"scatter3d\\\",\\\"marker\\\":{\\\"colorbar\\\":{\\\"ticks\\\":\\\"\\\",\\\"outlinewidth\\\":0}}}],\\\"scattergl\\\":[{\\\"type\\\":\\\"scattergl\\\",\\\"marker\\\":{\\\"colorbar\\\":{\\\"ticks\\\":\\\"\\\",\\\"outlinewidth\\\":0}}}],\\\"histogram2d\\\":[{\\\"colorbar\\\":{\\\"ticks\\\":\\\"\\\",\\\"outlinewidth\\\":0},\\\"type\\\":\\\"histogram2d\\\",\\\"colorscale\\\":[[0.0,\\\"#0d0887\\\"],[0.1111111111111111,\\\"#46039f\\\"],[0.2222222222222222,\\\"#7201a8\\\"],[0.3333333333333333,\\\"#9c179e\\\"],[0.4444444444444444,\\\"#bd3786\\\"],[0.5555555555555556,\\\"#d8576b\\\"],[0.6666666666666666,\\\"#ed7953\\\"],[0.7777777777777778,\\\"#fb9f3a\\\"],[0.8888888888888888,\\\"#fdca26\\\"],[1.0,\\\"#f0f921\\\"]]}],\\\"scatterternary\\\":[{\\\"type\\\":\\\"scatterternary\\\",\\\"marker\\\":{\\\"colorbar\\\":{\\\"ticks\\\":\\\"\\\",\\\"outlinewidth\\\":0}}}],\\\"scatterpolargl\\\":[{\\\"type\\\":\\\"scatterpolargl\\\",\\\"marker\\\":{\\\"colorbar\\\":{\\\"ticks\\\":\\\"\\\",\\\"outlinewidth\\\":0}}}]}},\\\"height\\\":600,\\\"margin\\\":{\\\"l\\\":50,\\\"b\\\":50,\\\"r\\\":50,\\\"t\\\":60},\\\"yaxis\\\":{\\\"range\\\":[-2,2]},\\\"width\\\":600},{\\\"showLink\\\":false,\\\"editable\\\":false,\\\"responsive\\\":true,\\\"staticPlot\\\":false,\\\"scrollZoom\\\":true}); gd.on(\\\"plotly_hover\\\",(function (data){var filtered_data=WebIO.PlotlyCommands.filterEventData(gd,data,\\\"hover\\\"); return !(filtered_data.isnil) ? (WebIO.setval({\\\"name\\\":\\\"hover\\\",\\\"scope\\\":\\\"2491798453591571685\\\",\\\"id\\\":\\\"9693405853428104544\\\",\\\"type\\\":\\\"observable\\\"},filtered_data.out)) : undefined})); gd.on(\\\"plotly_unhover\\\",(function (){return WebIO.setval({\\\"name\\\":\\\"hover\\\",\\\"scope\\\":\\\"2491798453591571685\\\",\\\"id\\\":\\\"9693405853428104544\\\",\\\"type\\\":\\\"observable\\\"},{})})); gd.on(\\\"plotly_selected\\\",(function (data){var filtered_data=WebIO.PlotlyCommands.filterEventData(gd,data,\\\"selected\\\"); return !(filtered_data.isnil) ? (WebIO.setval({\\\"name\\\":\\\"selected\\\",\\\"scope\\\":\\\"2491798453591571685\\\",\\\"id\\\":\\\"10630816763668619883\\\",\\\"type\\\":\\\"observable\\\"},filtered_data.out)) : undefined})); gd.on(\\\"plotly_deselect\\\",(function (){return WebIO.setval({\\\"name\\\":\\\"selected\\\",\\\"scope\\\":\\\"2491798453591571685\\\",\\\"id\\\":\\\"10630816763668619883\\\",\\\"type\\\":\\\"observable\\\"},{})})); gd.on(\\\"plotly_relayout\\\",(function (data){var filtered_data=WebIO.PlotlyCommands.filterEventData(gd,data,\\\"relayout\\\"); return !(filtered_data.isnil) ? (WebIO.setval({\\\"name\\\":\\\"relayout\\\",\\\"scope\\\":\\\"2491798453591571685\\\",\\\"id\\\":\\\"2031798685495502685\\\",\\\"type\\\":\\\"observable\\\"},filtered_data.out)) : undefined})); return gd.on(\\\"plotly_click\\\",(function (data){var filtered_data=WebIO.PlotlyCommands.filterEventData(gd,data,\\\"click\\\"); return !(filtered_data.isnil) ? (WebIO.setval({\\\"name\\\":\\\"click\\\",\\\"scope\\\":\\\"2491798453591571685\\\",\\\"id\\\":\\\"9394971405779449215\\\",\\\"type\\\":\\\"observable\\\"},filtered_data.out)) : undefined}))}));\\n    (WebIO.importBlock({\\\"data\\\":[{\\\"name\\\":\\\"Plotly\\\",\\\"type\\\":\\\"js\\\",\\\"url\\\":\\\"\\/assetserver\\/d66a736669047bda0b2d00471bd5207a90cf3193-plotly.min.js\\\"},{\\\"name\\\":null,\\\"type\\\":\\\"js\\\",\\\"url\\\":\\\"\\/assetserver\\/aee3160e397a4905b07437c5af565305d1ef6def-plotly_webio.bundle.js\\\"}],\\\"type\\\":\\\"async_block\\\"})).then((imports) => handler.apply(this, imports));\\n}\\n\"],\"observables\":{\"_toImage\":{\"sync\":false,\"id\":\"16478891796945794398\",\"value\":{}},\"hover\":{\"sync\":false,\"id\":\"9693405853428104544\",\"value\":{}},\"selected\":{\"sync\":false,\"id\":\"10630816763668619883\",\"value\":{}},\"__gd_contents\":{\"sync\":false,\"id\":\"10286733105778620636\",\"value\":{}},\"click\":{\"sync\":false,\"id\":\"9394971405779449215\",\"value\":{}},\"image\":{\"sync\":true,\"id\":\"17885706733382890520\",\"value\":\"\"},\"__get_gd_contents\":{\"sync\":false,\"id\":\"9834075481356353120\",\"value\":\"\"},\"_downloadImage\":{\"sync\":false,\"id\":\"12396737070544974094\",\"value\":{}},\"relayout\":{\"sync\":false,\"id\":\"2031798685495502685\",\"value\":{}},\"_commands\":{\"sync\":false,\"id\":\"1063071223055739920\",\"value\":[]}}},\"children\":[{\"props\":{\"id\":\"plot-26f111f8-16b1-40c6-add9-2f9cc76882e2\"},\"nodeType\":\"DOM\",\"type\":\"node\",\"instanceArgs\":{\"namespace\":\"html\",\"tag\":\"div\"},\"children\":[]}]},\n",
       "        window,\n",
       "    );\n",
       "    })()\n",
       "    </script>\n",
       "</div>\n"
      ],
      "text/plain": [
       "data: [\n",
       "  \"scatter with fields type, x, and y\",\n",
       "  \"scatter with fields type, x, and y\",\n",
       "  \"scatter with fields type, x, and y\",\n",
       "  \"scatter with fields type, x, and y\"\n",
       "]\n",
       "\n",
       "layout: \"layout with fields height, margin, template, width, xaxis, and yaxis\"\n",
       "\n"
      ]
     },
     "execution_count": 16,
     "metadata": {},
     "output_type": "execute_result"
    }
   ],
   "source": [
    "function plotgeometry(D::DiagramDual; kwargs...)\n",
    "    map(plotgeometry,D.p)\n",
    "end\n",
    "\n",
    " layout = Layout(\n",
    "    xaxis = attr(range = [-2, 2]),\n",
    "    yaxis = attr(range = [-2, 2]),\n",
    "    width = 600,\n",
    "    height = 600\n",
    ")\n",
    "\n",
    "\n",
    "plot(plotgeometry(D),layout)"
   ]
  },
  {
   "cell_type": "markdown",
   "id": "c95d1c7c-b732-4557-b792-2ec400bd5397",
   "metadata": {
    "tags": []
   },
   "source": [
    "## 3. Envelopes\n",
    "\n",
    "Our Diagram can compose primitives. But we want to be able to do more complicated drawings.\n",
    "For example, we might want to \"glue\" two primitives side by side.\n",
    "To be able to do this, we need to know how much one primitive should be translated until it\n",
    "touched only the \"border\" of the other.\n",
    "\n",
    "Thus, it would be necessary to be able to compute this distance for each primitive.\n",
    "This is what the author of the paper has called an *envelope*.\n",
    "\n",
    "The envelope is a functional defined for each primitive, with\n",
    "$env: V_2 \\to \\mathbb R$ where $V_2$ is a 2D vector.\n",
    "This means that, when we define a primitive, we must also define it's envelope funciton.\n",
    "\n",
    "**Def.(Envelope)** Given a diagram $D$ and a direction $v$,\n",
    "$$\n",
    "env_D(v) := \\sup_{u \\in D}\\frac{\\langle u,v\\rangle}{||v||^2}.\n",
    "$$\n",
    "\n",
    "We call $\\sup_{u \\in D}\\langle u,v\\rangle$ the *support* function.\n",
    "\n",
    "The nice thing about the envelope functional is that the envelope of a diagram $D = [p_1,p_2,...,p_n]$\n",
    "is just $\\max\\{env(p_1),...,env(p_n)\\}$, i.e. once we know how to compute the envelope of the primitives,\n",
    "the envelope for the diagram can easily be found.\n",
    "\n",
    "Let's use the `GeometricBasics.jl` package to define our primimtives. This package\n",
    "has some geometric objects implemented, and some useful functionalities."
   ]
  },
  {
   "cell_type": "markdown",
   "id": "6087c936-86be-4525-abcb-b677eb31614f",
   "metadata": {},
   "source": [
    "An envelope type is a function taking a vector $V_2$  to $\\mathbb R$.\n",
    "Again this works as a monoid. Note, the set of envelope functions is defined\n",
    "by one envelope function for each primitive. Thus, $envelopeP::\\text{Prim} \\to \\text{Envelope}$\n",
    "where $env::\\text{Envelope}$ is $env:V_2 \\to \\mathbb R$."
   ]
  },
  {
   "cell_type": "code",
   "execution_count": 17,
   "id": "e423c327-f588-4ada-abd5-b4cd763a4828",
   "metadata": {},
   "outputs": [
    {
     "data": {
      "text/plain": [
       "plotenvelope (generic function with 1 method)"
      ]
     },
     "execution_count": 17,
     "metadata": {},
     "output_type": "execute_result"
    }
   ],
   "source": [
    "# support(p::Primitive1,v::Vector) = support(p.g,v)\n",
    "# support(t::AbstractGeometry,v::Vector) = mapreduce(p->dot(p,v),max,coordinates(t))\n",
    "\n",
    "# envelope(p::Primitive1, v::Vector) = support(p,normalize(v))\n",
    "# envelope(t::AbstractGeometry, v::Vector) = support(t,normalize(v))\n",
    "function envelopeP(t::AbstractGeometry, v::Vector)\n",
    "    v = normalize(v)\n",
    "    mapreduce(p->dot(p,v),max,coordinates(t))\n",
    "end\n",
    "envelopeP(p::Primitive1, v::Vector) = envelopeP(p.g,v)\n",
    "\n",
    "# Lifting function for Diagram. Note that returns `nothing` for the empty Diagram\n",
    "# Hence, `envelope` returns `x::Option{Nothig, Real}`\n",
    "envelope(D::DiagramDual, v::Vector) = !isempty(D.p) ? mapreduce(x->envelopeP(x,v),max, D.p) : nothing\n",
    "\n",
    "transform(g::AbstractGeometry,T) = Polygon(map(T,coordinates(g)))\n",
    "\n",
    "\n",
    "function plotenvelopeP(g::Primitive1;name=\"envelope\", kwargs...)\n",
    "    θs = 0:0.05:2π\n",
    "    vs = [[cos(θ), sin(θ)] for θ in θs]\n",
    "    envs = hcat([envelopeP(g,i)i for i in vs]...);\n",
    "    scatter(x= envs[1,:],y = envs[2,:]; name = name, kwargs...)\n",
    "end\n",
    "function plotenvelope(g::DiagramDual;name=\"envelope\", kwargs...)\n",
    "    θs = 0:0.05:2π\n",
    "    vs = [[cos(θ), sin(θ)] for θ in θs]\n",
    "    envs = hcat([envelope(g,i)i for i in vs]...);\n",
    "    scatter(x= envs[1,:],y = envs[2,:]; name = name, kwargs...)\n",
    "end"
   ]
  },
  {
   "cell_type": "code",
   "execution_count": 18,
   "id": "86f88608-8c4a-44d3-be48-5b1e90af3b27",
   "metadata": {},
   "outputs": [
    {
     "data": {
      "application/vnd.plotly.v1+json": {
       "config": {
        "editable": false,
        "responsive": true,
        "scrollZoom": true,
        "showLink": false,
        "staticPlot": false
       },
       "data": [
        {
         "type": "scatter",
         "x": [
          -1.5,
          0.5,
          1,
          -1.5
         ],
         "y": [
          -0.5,
          1.5,
          -0.5,
          -0.5
         ]
        },
        {
         "name": "envelope",
         "type": "scatter",
         "x": [
          1,
          0.9725437284773059,
          0.9403659562218556,
          0.9037881928974681,
          0.8631759114242799,
          0.8289647944257456,
          0.8798157587736961,
          0.9243738122493904,
          0.9621937455114334,
          0.9928976742882786,
          1.0161788150729574,
          1.0318045504024709,
          1.0396187530945882,
          1.0395433462190418,
          1.0315790832164056,
          1.0158055403699666,
          0.9923803217058067,
          0.9615374842654705,
          0.9235851994853745,
          0.8789026740496849,
          0.8279363609824757,
          0.7711954988366909,
          0.7092470235508561,
          0.642709903812584,
          0.5722489565280515,
          0.49856820419123393,
          0.42240384052386126,
          0.344516874671107,
          0.2656855274497639,
          0.18669745562308887,
          0.10834188189478904,
          0.031401709256647994,
          -0.04335430151937334,
          -0.11517921308465269,
          -0.18335537466498894,
          -0.24720159258991395,
          -0.3060799365546761,
          -0.35940211360897206,
          -0.40663534618564356,
          -0.44730769543801546,
          -0.4810127766968491,
          -0.5074138199316254,
          -0.526247034645366,
          -0.5373242455820851,
          -0.5405347729117419,
          -0.5358465381065177,
          -0.523306384458862,
          -0.5030396090387984,
          -0.5665830853706254,
          -0.6442711239108485,
          -0.7230155704316353,
          -0.8020296364528029,
          -0.8805238395452446,
          -0.957713891578396,
          -1.032828535067979,
          -1.1051172493258472,
          -1.1738577494146074,
          -1.2383632029799605,
          -1.2979890928525506,
          -1.3521396568504682,
          -1.4002738404380433,
          -1.4419107027639149,
          -1.476634222063039,
          -1.5040974524086492,
          -1.5240259902812678,
          -1.5362207163179715,
          -1.5405597848472417,
          -1.5369998413306392,
          -1.5255764555470206,
          -1.5064037661910679,
          -1.4796733404371758,
          -1.4456522598635737,
          -1.4046804518614793,
          -1.3571672931929697,
          -1.3035875196336992,
          -1.2444764825699541,
          -1.180424799944563,
          -1.1120724549976486,
          -1.0401024017656377,
          -0.9652337412302903,
          -0.8882145362993853,
          -0.8098143374094283,
          -0.730816493432066,
          -0.6520103247111076,
          -0.5741832364345559,
          -0.4981128511422549,
          -0.424559238978519,
          -0.35425732332249565,
          -0.28790953767669847,
          -0.22617880718363698,
          -0.16968192489693143,
          -0.1189833889890041,
          -0.0745897624719385,
          -0.03694461178731281,
          -0.006424074836934582,
          0.02020170201726309,
          0.051237767408682015,
          0.08675771668708115,
          0.1264066462606055,
          0.1697883971311499,
          0.21646951318411628,
          0.2659835721386295,
          0.3178358458847864,
          0.371508243643399,
          0.4264644885577991,
          0.48215547599492126,
          0.5380247600172879,
          0.5935141132068752,
          0.6480691042889556,
          0.701144637826119,
          0.7522104006317013,
          0.8007561604838467,
          0.8462968641972054,
          0.8883774841140297,
          0.9265775645901143,
          0.9605154230486102,
          0.9898519636261646,
          1.0142940653066967,
          1.0335975106897,
          1.047569426129778,
          1.056070208866355,
          1.0590149218883116,
          1.0563741425965258,
          1.0481742567847552,
          1.0344971950015092,
          1.0154796139270903
         ],
         "y": [
          0,
          0.04866774964292052,
          0.09435130985784101,
          0.13659422561207132,
          0.1749744196550465,
          0.21166946323327127,
          0.27215890716650015,
          0.33742278134605647,
          0.40680899071450666,
          0.47962425120387253,
          0.5551410168008694,
          0.6326047489461759,
          0.7112414556343016,
          0.7902654248858578,
          0.8688870753219347,
          0.9463208454002364,
          1.0217930424863428,
          1.094549573334761,
          1.1638634787393642,
          1.2290421970694811,
          1.289434484116777,
          1.3444369201121118,
          1.3934999388964069,
          1.4361333190040484,
          1.471911081793722,
          1.5004757476861894,
          1.5215419079820764,
          1.5348990765712531,
          1.54041379304047,
          1.5380309561656886,
          1.5277743744653007,
          1.5097465283132823,
          1.48412754598917,
          1.4511734038958366,
          1.4112133689278876,
          1.3646467085456921,
          1.3119387014268968,
          1.2536159885556828,
          1.1902613112001326,
          1.1225076883541112,
          1.0510320918207268,
          0.9765486821338488,
          0.8998016729021275,
          0.821557894872618,
          0.7425991340114355,
          0.6637143201568105,
          0.5856916442929245,
          0.5093106832061428,
          0.5189982024867423,
          0.5334675518238932,
          0.5401087523631606,
          0.5388554474240445,
          0.5297201596152091,
          0.512794165712716,
          0.4882465846526489,
          0.45632268775060897,
          0.41734144803180323,
          0.3716923531580182,
          0.31983151379564734,
          0.262277106308686,
          0.19960419531178591,
          0.13243898781471744,
          0.061452576368926676,
          -0.01264576626740917,
          -0.08911567394832208,
          -0.16719308463385577,
          -0.24609787464540167,
          -0.3250416534036189,
          -0.4032356407665005,
          -0.47989854825981093,
          -0.5542643854532656,
          -0.6255901134837059,
          -0.6931630692538012,
          -0.7563080861261474,
          -0.8143942399651226,
          -0.8668411531222976,
          -0.9131247933780514,
          -0.9527827098982843,
          -0.9854186538902915,
          -1.0107065377897133,
          -1.0283936934196896,
          -1.0383033965677626,
          -1.0403366327557884,
          -1.0344730865598752,
          -1.0207713445953819,
          -0.9993683101388237,
          -0.9704778352355881,
          -0.9343885839609866,
          -0.8914611481842354,
          -0.8421244446536916,
          -0.7868714294024869,
          -0.726254172294792,
          -0.6608783409262254,
          -0.5913971489934472,
          -0.5185048295988199,
          -0.5368685992799993,
          -0.5833353545600224,
          -0.6264715331632995,
          -0.6658461326521525,
          -0.701065735044001,
          -0.7317784377137982,
          -0.7576773694887374,
          -0.7785037568035716,
          -0.7940495092805396,
          -0.8041592988996341,
          -0.8087321119848332,
          -0.8077222584993607,
          -0.8011398285654302,
          -0.7890505916470795,
          -0.7715753394034264,
          -0.7488886787783391,
          -0.7212172873855699,
          -0.6888376486209704,
          -0.6520732891317909,
          -0.6112915462453651,
          -0.5668998976559629,
          -0.5193418900423602,
          -0.4690927072960468,
          -0.4166544226408515,
          -0.3625509820832568,
          -0.3073229693170945,
          -0.25152220438996914,
          -0.19570623009975405,
          -0.14043274121124805,
          -0.08625401215443879,
          -0.03371137888095518
         ]
        }
       ],
       "frames": [],
       "layout": {
        "height": 600,
        "margin": {
         "b": 50,
         "l": 50,
         "r": 50,
         "t": 60
        },
        "template": {
         "data": {
          "bar": [
           {
            "error_x": {
             "color": "#2a3f5f"
            },
            "error_y": {
             "color": "#2a3f5f"
            },
            "marker": {
             "line": {
              "color": "#E5ECF6",
              "width": 0.5
             }
            },
            "type": "bar"
           }
          ],
          "barpolar": [
           {
            "marker": {
             "line": {
              "color": "#E5ECF6",
              "width": 0.5
             }
            },
            "type": "barpolar"
           }
          ],
          "carpet": [
           {
            "aaxis": {
             "endlinecolor": "#2a3f5f",
             "gridcolor": "white",
             "linecolor": "white",
             "minorgridcolor": "white",
             "startlinecolor": "#2a3f5f"
            },
            "baxis": {
             "endlinecolor": "#2a3f5f",
             "gridcolor": "white",
             "linecolor": "white",
             "minorgridcolor": "white",
             "startlinecolor": "#2a3f5f"
            },
            "type": "carpet"
           }
          ],
          "choropleth": [
           {
            "colorbar": {
             "outlinewidth": 0,
             "ticks": ""
            },
            "type": "choropleth"
           }
          ],
          "contour": [
           {
            "colorbar": {
             "outlinewidth": 0,
             "ticks": ""
            },
            "colorscale": [
             [
              0,
              "#0d0887"
             ],
             [
              0.1111111111111111,
              "#46039f"
             ],
             [
              0.2222222222222222,
              "#7201a8"
             ],
             [
              0.3333333333333333,
              "#9c179e"
             ],
             [
              0.4444444444444444,
              "#bd3786"
             ],
             [
              0.5555555555555556,
              "#d8576b"
             ],
             [
              0.6666666666666666,
              "#ed7953"
             ],
             [
              0.7777777777777778,
              "#fb9f3a"
             ],
             [
              0.8888888888888888,
              "#fdca26"
             ],
             [
              1,
              "#f0f921"
             ]
            ],
            "type": "contour"
           }
          ],
          "contourcarpet": [
           {
            "colorbar": {
             "outlinewidth": 0,
             "ticks": ""
            },
            "type": "contourcarpet"
           }
          ],
          "heatmap": [
           {
            "colorbar": {
             "outlinewidth": 0,
             "ticks": ""
            },
            "colorscale": [
             [
              0,
              "#0d0887"
             ],
             [
              0.1111111111111111,
              "#46039f"
             ],
             [
              0.2222222222222222,
              "#7201a8"
             ],
             [
              0.3333333333333333,
              "#9c179e"
             ],
             [
              0.4444444444444444,
              "#bd3786"
             ],
             [
              0.5555555555555556,
              "#d8576b"
             ],
             [
              0.6666666666666666,
              "#ed7953"
             ],
             [
              0.7777777777777778,
              "#fb9f3a"
             ],
             [
              0.8888888888888888,
              "#fdca26"
             ],
             [
              1,
              "#f0f921"
             ]
            ],
            "type": "heatmap"
           }
          ],
          "heatmapgl": [
           {
            "colorbar": {
             "outlinewidth": 0,
             "ticks": ""
            },
            "colorscale": [
             [
              0,
              "#0d0887"
             ],
             [
              0.1111111111111111,
              "#46039f"
             ],
             [
              0.2222222222222222,
              "#7201a8"
             ],
             [
              0.3333333333333333,
              "#9c179e"
             ],
             [
              0.4444444444444444,
              "#bd3786"
             ],
             [
              0.5555555555555556,
              "#d8576b"
             ],
             [
              0.6666666666666666,
              "#ed7953"
             ],
             [
              0.7777777777777778,
              "#fb9f3a"
             ],
             [
              0.8888888888888888,
              "#fdca26"
             ],
             [
              1,
              "#f0f921"
             ]
            ],
            "type": "heatmapgl"
           }
          ],
          "histogram": [
           {
            "marker": {
             "colorbar": {
              "outlinewidth": 0,
              "ticks": ""
             }
            },
            "type": "histogram"
           }
          ],
          "histogram2d": [
           {
            "colorbar": {
             "outlinewidth": 0,
             "ticks": ""
            },
            "colorscale": [
             [
              0,
              "#0d0887"
             ],
             [
              0.1111111111111111,
              "#46039f"
             ],
             [
              0.2222222222222222,
              "#7201a8"
             ],
             [
              0.3333333333333333,
              "#9c179e"
             ],
             [
              0.4444444444444444,
              "#bd3786"
             ],
             [
              0.5555555555555556,
              "#d8576b"
             ],
             [
              0.6666666666666666,
              "#ed7953"
             ],
             [
              0.7777777777777778,
              "#fb9f3a"
             ],
             [
              0.8888888888888888,
              "#fdca26"
             ],
             [
              1,
              "#f0f921"
             ]
            ],
            "type": "histogram2d"
           }
          ],
          "histogram2dcontour": [
           {
            "colorbar": {
             "outlinewidth": 0,
             "ticks": ""
            },
            "colorscale": [
             [
              0,
              "#0d0887"
             ],
             [
              0.1111111111111111,
              "#46039f"
             ],
             [
              0.2222222222222222,
              "#7201a8"
             ],
             [
              0.3333333333333333,
              "#9c179e"
             ],
             [
              0.4444444444444444,
              "#bd3786"
             ],
             [
              0.5555555555555556,
              "#d8576b"
             ],
             [
              0.6666666666666666,
              "#ed7953"
             ],
             [
              0.7777777777777778,
              "#fb9f3a"
             ],
             [
              0.8888888888888888,
              "#fdca26"
             ],
             [
              1,
              "#f0f921"
             ]
            ],
            "type": "histogram2dcontour"
           }
          ],
          "mesh3d": [
           {
            "colorbar": {
             "outlinewidth": 0,
             "ticks": ""
            },
            "type": "mesh3d"
           }
          ],
          "parcoords": [
           {
            "line": {
             "colorbar": {
              "outlinewidth": 0,
              "ticks": ""
             }
            },
            "type": "parcoords"
           }
          ],
          "pie": [
           {
            "automargin": true,
            "type": "pie"
           }
          ],
          "scatter": [
           {
            "marker": {
             "colorbar": {
              "outlinewidth": 0,
              "ticks": ""
             }
            },
            "type": "scatter"
           }
          ],
          "scatter3d": [
           {
            "line": {
             "colorbar": {
              "outlinewidth": 0,
              "ticks": ""
             }
            },
            "marker": {
             "colorbar": {
              "outlinewidth": 0,
              "ticks": ""
             }
            },
            "type": "scatter3d"
           }
          ],
          "scattercarpet": [
           {
            "marker": {
             "colorbar": {
              "outlinewidth": 0,
              "ticks": ""
             }
            },
            "type": "scattercarpet"
           }
          ],
          "scattergeo": [
           {
            "marker": {
             "colorbar": {
              "outlinewidth": 0,
              "ticks": ""
             }
            },
            "type": "scattergeo"
           }
          ],
          "scattergl": [
           {
            "marker": {
             "colorbar": {
              "outlinewidth": 0,
              "ticks": ""
             }
            },
            "type": "scattergl"
           }
          ],
          "scattermapbox": [
           {
            "marker": {
             "colorbar": {
              "outlinewidth": 0,
              "ticks": ""
             }
            },
            "type": "scattermapbox"
           }
          ],
          "scatterpolar": [
           {
            "marker": {
             "colorbar": {
              "outlinewidth": 0,
              "ticks": ""
             }
            },
            "type": "scatterpolar"
           }
          ],
          "scatterpolargl": [
           {
            "marker": {
             "colorbar": {
              "outlinewidth": 0,
              "ticks": ""
             }
            },
            "type": "scatterpolargl"
           }
          ],
          "scatterternary": [
           {
            "marker": {
             "colorbar": {
              "outlinewidth": 0,
              "ticks": ""
             }
            },
            "type": "scatterternary"
           }
          ],
          "surface": [
           {
            "colorbar": {
             "outlinewidth": 0,
             "ticks": ""
            },
            "colorscale": [
             [
              0,
              "#0d0887"
             ],
             [
              0.1111111111111111,
              "#46039f"
             ],
             [
              0.2222222222222222,
              "#7201a8"
             ],
             [
              0.3333333333333333,
              "#9c179e"
             ],
             [
              0.4444444444444444,
              "#bd3786"
             ],
             [
              0.5555555555555556,
              "#d8576b"
             ],
             [
              0.6666666666666666,
              "#ed7953"
             ],
             [
              0.7777777777777778,
              "#fb9f3a"
             ],
             [
              0.8888888888888888,
              "#fdca26"
             ],
             [
              1,
              "#f0f921"
             ]
            ],
            "type": "surface"
           }
          ],
          "table": [
           {
            "cells": {
             "fill": {
              "color": "#EBF0F8"
             },
             "line": {
              "color": "white"
             }
            },
            "header": {
             "fill": {
              "color": "#C8D4E3"
             },
             "line": {
              "color": "white"
             }
            },
            "type": "table"
           }
          ]
         },
         "layout": {
          "annotationdefaults": {
           "arrowcolor": "#2a3f5f",
           "arrowhead": 0,
           "arrowwidth": 1
          },
          "autotypenumbers": "strict",
          "coloraxis": {
           "colorbar": {
            "outlinewidth": 0,
            "ticks": ""
           }
          },
          "colorscale": {
           "diverging": [
            [
             0,
             "#8e0152"
            ],
            [
             0.1,
             "#c51b7d"
            ],
            [
             0.2,
             "#de77ae"
            ],
            [
             0.3,
             "#f1b6da"
            ],
            [
             0.4,
             "#fde0ef"
            ],
            [
             0.5,
             "#f7f7f7"
            ],
            [
             0.6,
             "#e6f5d0"
            ],
            [
             0.7,
             "#b8e186"
            ],
            [
             0.8,
             "#7fbc41"
            ],
            [
             0.9,
             "#4d9221"
            ],
            [
             1,
             "#276419"
            ]
           ],
           "sequential": [
            [
             0,
             "#0d0887"
            ],
            [
             0.1111111111111111,
             "#46039f"
            ],
            [
             0.2222222222222222,
             "#7201a8"
            ],
            [
             0.3333333333333333,
             "#9c179e"
            ],
            [
             0.4444444444444444,
             "#bd3786"
            ],
            [
             0.5555555555555556,
             "#d8576b"
            ],
            [
             0.6666666666666666,
             "#ed7953"
            ],
            [
             0.7777777777777778,
             "#fb9f3a"
            ],
            [
             0.8888888888888888,
             "#fdca26"
            ],
            [
             1,
             "#f0f921"
            ]
           ],
           "sequentialminus": [
            [
             0,
             "#0d0887"
            ],
            [
             0.1111111111111111,
             "#46039f"
            ],
            [
             0.2222222222222222,
             "#7201a8"
            ],
            [
             0.3333333333333333,
             "#9c179e"
            ],
            [
             0.4444444444444444,
             "#bd3786"
            ],
            [
             0.5555555555555556,
             "#d8576b"
            ],
            [
             0.6666666666666666,
             "#ed7953"
            ],
            [
             0.7777777777777778,
             "#fb9f3a"
            ],
            [
             0.8888888888888888,
             "#fdca26"
            ],
            [
             1,
             "#f0f921"
            ]
           ]
          },
          "colorway": [
           "#636efa",
           "#EF553B",
           "#00cc96",
           "#ab63fa",
           "#FFA15A",
           "#19d3f3",
           "#FF6692",
           "#B6E880",
           "#FF97FF",
           "#FECB52"
          ],
          "font": {
           "color": "#2a3f5f"
          },
          "geo": {
           "bgcolor": "white",
           "lakecolor": "white",
           "landcolor": "#E5ECF6",
           "showlakes": true,
           "showland": true,
           "subunitcolor": "white"
          },
          "hoverlabel": {
           "align": "left"
          },
          "hovermode": "closest",
          "mapbox": {
           "style": "light"
          },
          "paper_bgcolor": "white",
          "plot_bgcolor": "#E5ECF6",
          "polar": {
           "angularaxis": {
            "gridcolor": "white",
            "linecolor": "white",
            "ticks": ""
           },
           "bgcolor": "#E5ECF6",
           "radialaxis": {
            "gridcolor": "white",
            "linecolor": "white",
            "ticks": ""
           }
          },
          "scene": {
           "xaxis": {
            "backgroundcolor": "#E5ECF6",
            "gridcolor": "white",
            "gridwidth": 2,
            "linecolor": "white",
            "showbackground": true,
            "ticks": "",
            "zerolinecolor": "white"
           },
           "yaxis": {
            "backgroundcolor": "#E5ECF6",
            "gridcolor": "white",
            "gridwidth": 2,
            "linecolor": "white",
            "showbackground": true,
            "ticks": "",
            "zerolinecolor": "white"
           },
           "zaxis": {
            "backgroundcolor": "#E5ECF6",
            "gridcolor": "white",
            "gridwidth": 2,
            "linecolor": "white",
            "showbackground": true,
            "ticks": "",
            "zerolinecolor": "white"
           }
          },
          "shapedefaults": {
           "line": {
            "color": "#2a3f5f"
           }
          },
          "ternary": {
           "aaxis": {
            "gridcolor": "white",
            "linecolor": "white",
            "ticks": ""
           },
           "baxis": {
            "gridcolor": "white",
            "linecolor": "white",
            "ticks": ""
           },
           "bgcolor": "#E5ECF6",
           "caxis": {
            "gridcolor": "white",
            "linecolor": "white",
            "ticks": ""
           }
          },
          "title": {
           "x": 0.05
          },
          "xaxis": {
           "automargin": true,
           "gridcolor": "white",
           "linecolor": "white",
           "ticks": "",
           "title": {
            "standoff": 15
           },
           "zerolinecolor": "white",
           "zerolinewidth": 2
          },
          "yaxis": {
           "automargin": true,
           "gridcolor": "white",
           "linecolor": "white",
           "ticks": "",
           "title": {
            "standoff": 15
           },
           "zerolinecolor": "white",
           "zerolinewidth": 2
          }
         }
        },
        "width": 600,
        "xaxis": {
         "range": [
          -2,
          2
         ],
         "type": "linear"
        },
        "yaxis": {
         "range": [
          -2,
          2
         ],
         "type": "linear"
        }
       }
      },
      "image/png": "[encoded data removed]",
      "text/html": [
       "<div\n",
       "    class=\"webio-mountpoint\"\n",
       "    data-webio-mountpoint=\"5308551784193982810\"\n",
       ">\n",
       "    <script>\n",
       "    (function(){\n",
       "    // Some integrations (namely, IJulia/Jupyter) use an alternate render pathway than\n",
       "    // just putting the html on the page. If WebIO isn't defined, then it's pretty likely\n",
       "    // that we're in one of those situations and the integration just isn't installed\n",
       "    // correctly.\n",
       "    if (typeof window.WebIO === \"undefined\") {\n",
       "        document\n",
       "            .querySelector('[data-webio-mountpoint=\"5308551784193982810\"]')\n",
       "            .innerHTML = (\n",
       "                '<div style=\"padding: 1em; background-color: #f8d6da; border: 1px solid #f5c6cb; font-weight: bold;\">' +\n",
       "                '<p><strong>WebIO not detected.</strong></p>' +\n",
       "                '<p>Please read ' +\n",
       "                '<a href=\"https://juliagizmos.github.io/WebIO.jl/latest/troubleshooting/not-detected/\" target=\"_blank\">the troubleshooting guide</a> ' +\n",
       "                'for more information on how to resolve this issue.</p>' +\n",
       "                '<p><a href=\"https://juliagizmos.github.io/WebIO.jl/latest/troubleshooting/not-detected/\" target=\"_blank\">https://juliagizmos.github.io/WebIO.jl/latest/troubleshooting/not-detected/</a></p>' +\n",
       "                '</div>'\n",
       "            );\n",
       "        return;\n",
       "    }\n",
       "    WebIO.mount(\n",
       "        document.querySelector('[data-webio-mountpoint=\"5308551784193982810\"]'),\n",
       "        {\"props\":{},\"nodeType\":\"Scope\",\"type\":\"node\",\"instanceArgs\":{\"imports\":{\"data\":[{\"name\":\"Plotly\",\"type\":\"js\",\"url\":\"\\/assetserver\\/d66a736669047bda0b2d00471bd5207a90cf3193-plotly.min.js\"},{\"name\":null,\"type\":\"js\",\"url\":\"\\/assetserver\\/aee3160e397a4905b07437c5af565305d1ef6def-plotly_webio.bundle.js\"}],\"type\":\"async_block\"},\"id\":\"638268731657503345\",\"handlers\":{\"_toImage\":[\"(function (options){return this.Plotly.toImage(this.plotElem,options).then((function (data){return WebIO.setval({\\\"name\\\":\\\"image\\\",\\\"scope\\\":\\\"638268731657503345\\\",\\\"id\\\":\\\"13201103700156811502\\\",\\\"type\\\":\\\"observable\\\"},data)}))})\"],\"__get_gd_contents\":[\"(function (prop){prop==\\\"data\\\" ? (WebIO.setval({\\\"name\\\":\\\"__gd_contents\\\",\\\"scope\\\":\\\"638268731657503345\\\",\\\"id\\\":\\\"1464145257371070103\\\",\\\"type\\\":\\\"observable\\\"},this.plotElem.data)) : undefined; return prop==\\\"layout\\\" ? (WebIO.setval({\\\"name\\\":\\\"__gd_contents\\\",\\\"scope\\\":\\\"638268731657503345\\\",\\\"id\\\":\\\"1464145257371070103\\\",\\\"type\\\":\\\"observable\\\"},this.plotElem.layout)) : undefined})\"],\"_downloadImage\":[\"(function (options){return this.Plotly.downloadImage(this.plotElem,options)})\"],\"_commands\":[\"(function (args){var fn=args.shift(); var elem=this.plotElem; var Plotly=this.Plotly; args.unshift(elem); return Plotly[fn].apply(this,args)})\"]},\"systemjs_options\":null,\"mount_callbacks\":[\"function () {\\n    var handler = ((function (Plotly,PlotlyWebIO){PlotlyWebIO.init(WebIO); var gd=this.dom.querySelector(\\\"#plot-ba8f70ec-58f5-423c-ba0b-35f32979d54f\\\"); this.plotElem=gd; this.Plotly=Plotly; (window.Blink!==undefined) ? (gd.style.width=\\\"100%\\\", gd.style.height=\\\"100vh\\\", gd.style.marginLeft=\\\"0%\\\", gd.style.marginTop=\\\"0vh\\\") : undefined; window.onresize=(function (){return Plotly.Plots.resize(gd)}); Plotly.newPlot(gd,[{\\\"y\\\":[-0.5,1.5,-0.5,-0.5],\\\"type\\\":\\\"scatter\\\",\\\"x\\\":[-1.5,0.5,1.0,-1.5]},{\\\"y\\\":[0.0,0.04866774964292052,0.09435130985784101,0.13659422561207132,0.1749744196550465,0.21166946323327127,0.27215890716650015,0.33742278134605647,0.40680899071450666,0.47962425120387253,0.5551410168008694,0.6326047489461759,0.7112414556343016,0.7902654248858578,0.8688870753219347,0.9463208454002364,1.0217930424863428,1.094549573334761,1.1638634787393642,1.2290421970694811,1.289434484116777,1.3444369201121118,1.3934999388964069,1.4361333190040484,1.471911081793722,1.5004757476861894,1.5215419079820764,1.5348990765712531,1.54041379304047,1.5380309561656886,1.5277743744653007,1.5097465283132823,1.48412754598917,1.4511734038958366,1.4112133689278876,1.3646467085456921,1.3119387014268968,1.2536159885556828,1.1902613112001326,1.1225076883541112,1.0510320918207268,0.9765486821338488,0.8998016729021275,0.821557894872618,0.7425991340114355,0.6637143201568105,0.5856916442929245,0.5093106832061428,0.5189982024867423,0.5334675518238932,0.5401087523631606,0.5388554474240445,0.5297201596152091,0.512794165712716,0.4882465846526489,0.45632268775060897,0.41734144803180323,0.3716923531580182,0.31983151379564734,0.262277106308686,0.19960419531178591,0.13243898781471744,0.061452576368926676,-0.01264576626740917,-0.08911567394832208,-0.16719308463385577,-0.24609787464540167,-0.3250416534036189,-0.4032356407665005,-0.47989854825981093,-0.5542643854532656,-0.6255901134837059,-0.6931630692538012,-0.7563080861261474,-0.8143942399651226,-0.8668411531222976,-0.9131247933780514,-0.9527827098982843,-0.9854186538902915,-1.0107065377897133,-1.0283936934196896,-1.0383033965677626,-1.0403366327557884,-1.0344730865598752,-1.0207713445953819,-0.9993683101388237,-0.9704778352355881,-0.9343885839609866,-0.8914611481842354,-0.8421244446536916,-0.7868714294024869,-0.726254172294792,-0.6608783409262254,-0.5913971489934472,-0.5185048295988199,-0.5368685992799993,-0.5833353545600224,-0.6264715331632995,-0.6658461326521525,-0.701065735044001,-0.7317784377137982,-0.7576773694887374,-0.7785037568035716,-0.7940495092805396,-0.8041592988996341,-0.8087321119848332,-0.8077222584993607,-0.8011398285654302,-0.7890505916470795,-0.7715753394034264,-0.7488886787783391,-0.7212172873855699,-0.6888376486209704,-0.6520732891317909,-0.6112915462453651,-0.5668998976559629,-0.5193418900423602,-0.4690927072960468,-0.4166544226408515,-0.3625509820832568,-0.3073229693170945,-0.25152220438996914,-0.19570623009975405,-0.14043274121124805,-0.08625401215443879,-0.03371137888095518],\\\"type\\\":\\\"scatter\\\",\\\"name\\\":\\\"envelope\\\",\\\"x\\\":[1.0,0.9725437284773059,0.9403659562218556,0.9037881928974681,0.8631759114242799,0.8289647944257456,0.8798157587736961,0.9243738122493904,0.9621937455114334,0.9928976742882786,1.0161788150729574,1.0318045504024709,1.0396187530945882,1.0395433462190418,1.0315790832164056,1.0158055403699666,0.9923803217058067,0.9615374842654705,0.9235851994853745,0.8789026740496849,0.8279363609824757,0.7711954988366909,0.7092470235508561,0.642709903812584,0.5722489565280515,0.49856820419123393,0.42240384052386126,0.344516874671107,0.2656855274497639,0.18669745562308887,0.10834188189478904,0.031401709256647994,-0.04335430151937334,-0.11517921308465269,-0.18335537466498894,-0.24720159258991395,-0.3060799365546761,-0.35940211360897206,-0.40663534618564356,-0.44730769543801546,-0.4810127766968491,-0.5074138199316254,-0.526247034645366,-0.5373242455820851,-0.5405347729117419,-0.5358465381065177,-0.523306384458862,-0.5030396090387984,-0.5665830853706254,-0.6442711239108485,-0.7230155704316353,-0.8020296364528029,-0.8805238395452446,-0.957713891578396,-1.032828535067979,-1.1051172493258472,-1.1738577494146074,-1.2383632029799605,-1.2979890928525506,-1.3521396568504682,-1.4002738404380433,-1.4419107027639149,-1.476634222063039,-1.5040974524086492,-1.5240259902812678,-1.5362207163179715,-1.5405597848472417,-1.5369998413306392,-1.5255764555470206,-1.5064037661910679,-1.4796733404371758,-1.4456522598635737,-1.4046804518614793,-1.3571672931929697,-1.3035875196336992,-1.2444764825699541,-1.180424799944563,-1.1120724549976486,-1.0401024017656377,-0.9652337412302903,-0.8882145362993853,-0.8098143374094283,-0.730816493432066,-0.6520103247111076,-0.5741832364345559,-0.4981128511422549,-0.424559238978519,-0.35425732332249565,-0.28790953767669847,-0.22617880718363698,-0.16968192489693143,-0.1189833889890041,-0.0745897624719385,-0.03694461178731281,-0.006424074836934582,0.02020170201726309,0.051237767408682015,0.08675771668708115,0.1264066462606055,0.1697883971311499,0.21646951318411628,0.2659835721386295,0.3178358458847864,0.371508243643399,0.4264644885577991,0.48215547599492126,0.5380247600172879,0.5935141132068752,0.6480691042889556,0.701144637826119,0.7522104006317013,0.8007561604838467,0.8462968641972054,0.8883774841140297,0.9265775645901143,0.9605154230486102,0.9898519636261646,1.0142940653066967,1.0335975106897,1.047569426129778,1.056070208866355,1.0590149218883116,1.0563741425965258,1.0481742567847552,1.0344971950015092,1.0154796139270903]}],{\\\"xaxis\\\":{\\\"range\\\":[-2,2]},\\\"template\\\":{\\\"layout\\\":{\\\"coloraxis\\\":{\\\"colorbar\\\":{\\\"ticks\\\":\\\"\\\",\\\"outlinewidth\\\":0}},\\\"xaxis\\\":{\\\"gridcolor\\\":\\\"white\\\",\\\"zerolinewidth\\\":2,\\\"title\\\":{\\\"standoff\\\":15},\\\"ticks\\\":\\\"\\\",\\\"zerolinecolor\\\":\\\"white\\\",\\\"automargin\\\":true,\\\"linecolor\\\":\\\"white\\\"},\\\"hovermode\\\":\\\"closest\\\",\\\"paper_bgcolor\\\":\\\"white\\\",\\\"geo\\\":{\\\"showlakes\\\":true,\\\"showland\\\":true,\\\"landcolor\\\":\\\"#E5ECF6\\\",\\\"bgcolor\\\":\\\"white\\\",\\\"subunitcolor\\\":\\\"white\\\",\\\"lakecolor\\\":\\\"white\\\"},\\\"colorscale\\\":{\\\"sequential\\\":[[0.0,\\\"#0d0887\\\"],[0.1111111111111111,\\\"#46039f\\\"],[0.2222222222222222,\\\"#7201a8\\\"],[0.3333333333333333,\\\"#9c179e\\\"],[0.4444444444444444,\\\"#bd3786\\\"],[0.5555555555555556,\\\"#d8576b\\\"],[0.6666666666666666,\\\"#ed7953\\\"],[0.7777777777777778,\\\"#fb9f3a\\\"],[0.8888888888888888,\\\"#fdca26\\\"],[1.0,\\\"#f0f921\\\"]],\\\"diverging\\\":[[0,\\\"#8e0152\\\"],[0.1,\\\"#c51b7d\\\"],[0.2,\\\"#de77ae\\\"],[0.3,\\\"#f1b6da\\\"],[0.4,\\\"#fde0ef\\\"],[0.5,\\\"#f7f7f7\\\"],[0.6,\\\"#e6f5d0\\\"],[0.7,\\\"#b8e186\\\"],[0.8,\\\"#7fbc41\\\"],[0.9,\\\"#4d9221\\\"],[1,\\\"#276419\\\"]],\\\"sequentialminus\\\":[[0.0,\\\"#0d0887\\\"],[0.1111111111111111,\\\"#46039f\\\"],[0.2222222222222222,\\\"#7201a8\\\"],[0.3333333333333333,\\\"#9c179e\\\"],[0.4444444444444444,\\\"#bd3786\\\"],[0.5555555555555556,\\\"#d8576b\\\"],[0.6666666666666666,\\\"#ed7953\\\"],[0.7777777777777778,\\\"#fb9f3a\\\"],[0.8888888888888888,\\\"#fdca26\\\"],[1.0,\\\"#f0f921\\\"]]},\\\"yaxis\\\":{\\\"gridcolor\\\":\\\"white\\\",\\\"zerolinewidth\\\":2,\\\"title\\\":{\\\"standoff\\\":15},\\\"ticks\\\":\\\"\\\",\\\"zerolinecolor\\\":\\\"white\\\",\\\"automargin\\\":true,\\\"linecolor\\\":\\\"white\\\"},\\\"shapedefaults\\\":{\\\"line\\\":{\\\"color\\\":\\\"#2a3f5f\\\"}},\\\"hoverlabel\\\":{\\\"align\\\":\\\"left\\\"},\\\"mapbox\\\":{\\\"style\\\":\\\"light\\\"},\\\"polar\\\":{\\\"angularaxis\\\":{\\\"gridcolor\\\":\\\"white\\\",\\\"ticks\\\":\\\"\\\",\\\"linecolor\\\":\\\"white\\\"},\\\"bgcolor\\\":\\\"#E5ECF6\\\",\\\"radialaxis\\\":{\\\"gridcolor\\\":\\\"white\\\",\\\"ticks\\\":\\\"\\\",\\\"linecolor\\\":\\\"white\\\"}},\\\"autotypenumbers\\\":\\\"strict\\\",\\\"font\\\":{\\\"color\\\":\\\"#2a3f5f\\\"},\\\"ternary\\\":{\\\"baxis\\\":{\\\"gridcolor\\\":\\\"white\\\",\\\"ticks\\\":\\\"\\\",\\\"linecolor\\\":\\\"white\\\"},\\\"bgcolor\\\":\\\"#E5ECF6\\\",\\\"caxis\\\":{\\\"gridcolor\\\":\\\"white\\\",\\\"ticks\\\":\\\"\\\",\\\"linecolor\\\":\\\"white\\\"},\\\"aaxis\\\":{\\\"gridcolor\\\":\\\"white\\\",\\\"ticks\\\":\\\"\\\",\\\"linecolor\\\":\\\"white\\\"}},\\\"annotationdefaults\\\":{\\\"arrowhead\\\":0,\\\"arrowwidth\\\":1,\\\"arrowcolor\\\":\\\"#2a3f5f\\\"},\\\"plot_bgcolor\\\":\\\"#E5ECF6\\\",\\\"title\\\":{\\\"x\\\":0.05},\\\"scene\\\":{\\\"xaxis\\\":{\\\"gridcolor\\\":\\\"white\\\",\\\"gridwidth\\\":2,\\\"backgroundcolor\\\":\\\"#E5ECF6\\\",\\\"ticks\\\":\\\"\\\",\\\"showbackground\\\":true,\\\"zerolinecolor\\\":\\\"white\\\",\\\"linecolor\\\":\\\"white\\\"},\\\"zaxis\\\":{\\\"gridcolor\\\":\\\"white\\\",\\\"gridwidth\\\":2,\\\"backgroundcolor\\\":\\\"#E5ECF6\\\",\\\"ticks\\\":\\\"\\\",\\\"showbackground\\\":true,\\\"zerolinecolor\\\":\\\"white\\\",\\\"linecolor\\\":\\\"white\\\"},\\\"yaxis\\\":{\\\"gridcolor\\\":\\\"white\\\",\\\"gridwidth\\\":2,\\\"backgroundcolor\\\":\\\"#E5ECF6\\\",\\\"ticks\\\":\\\"\\\",\\\"showbackground\\\":true,\\\"zerolinecolor\\\":\\\"white\\\",\\\"linecolor\\\":\\\"white\\\"}},\\\"colorway\\\":[\\\"#636efa\\\",\\\"#EF553B\\\",\\\"#00cc96\\\",\\\"#ab63fa\\\",\\\"#FFA15A\\\",\\\"#19d3f3\\\",\\\"#FF6692\\\",\\\"#B6E880\\\",\\\"#FF97FF\\\",\\\"#FECB52\\\"]},\\\"data\\\":{\\\"barpolar\\\":[{\\\"type\\\":\\\"barpolar\\\",\\\"marker\\\":{\\\"line\\\":{\\\"color\\\":\\\"#E5ECF6\\\",\\\"width\\\":0.5}}}],\\\"carpet\\\":[{\\\"aaxis\\\":{\\\"gridcolor\\\":\\\"white\\\",\\\"endlinecolor\\\":\\\"#2a3f5f\\\",\\\"minorgridcolor\\\":\\\"white\\\",\\\"startlinecolor\\\":\\\"#2a3f5f\\\",\\\"linecolor\\\":\\\"white\\\"},\\\"type\\\":\\\"carpet\\\",\\\"baxis\\\":{\\\"gridcolor\\\":\\\"white\\\",\\\"endlinecolor\\\":\\\"#2a3f5f\\\",\\\"minorgridcolor\\\":\\\"white\\\",\\\"startlinecolor\\\":\\\"#2a3f5f\\\",\\\"linecolor\\\":\\\"white\\\"}}],\\\"scatterpolar\\\":[{\\\"type\\\":\\\"scatterpolar\\\",\\\"marker\\\":{\\\"colorbar\\\":{\\\"ticks\\\":\\\"\\\",\\\"outlinewidth\\\":0}}}],\\\"parcoords\\\":[{\\\"line\\\":{\\\"colorbar\\\":{\\\"ticks\\\":\\\"\\\",\\\"outlinewidth\\\":0}},\\\"type\\\":\\\"parcoords\\\"}],\\\"scatter\\\":[{\\\"type\\\":\\\"scatter\\\",\\\"marker\\\":{\\\"colorbar\\\":{\\\"ticks\\\":\\\"\\\",\\\"outlinewidth\\\":0}}}],\\\"histogram2dcontour\\\":[{\\\"colorbar\\\":{\\\"ticks\\\":\\\"\\\",\\\"outlinewidth\\\":0},\\\"type\\\":\\\"histogram2dcontour\\\",\\\"colorscale\\\":[[0.0,\\\"#0d0887\\\"],[0.1111111111111111,\\\"#46039f\\\"],[0.2222222222222222,\\\"#7201a8\\\"],[0.3333333333333333,\\\"#9c179e\\\"],[0.4444444444444444,\\\"#bd3786\\\"],[0.5555555555555556,\\\"#d8576b\\\"],[0.6666666666666666,\\\"#ed7953\\\"],[0.7777777777777778,\\\"#fb9f3a\\\"],[0.8888888888888888,\\\"#fdca26\\\"],[1.0,\\\"#f0f921\\\"]]}],\\\"contour\\\":[{\\\"colorbar\\\":{\\\"ticks\\\":\\\"\\\",\\\"outlinewidth\\\":0},\\\"type\\\":\\\"contour\\\",\\\"colorscale\\\":[[0.0,\\\"#0d0887\\\"],[0.1111111111111111,\\\"#46039f\\\"],[0.2222222222222222,\\\"#7201a8\\\"],[0.3333333333333333,\\\"#9c179e\\\"],[0.4444444444444444,\\\"#bd3786\\\"],[0.5555555555555556,\\\"#d8576b\\\"],[0.6666666666666666,\\\"#ed7953\\\"],[0.7777777777777778,\\\"#fb9f3a\\\"],[0.8888888888888888,\\\"#fdca26\\\"],[1.0,\\\"#f0f921\\\"]]}],\\\"scattercarpet\\\":[{\\\"type\\\":\\\"scattercarpet\\\",\\\"marker\\\":{\\\"colorbar\\\":{\\\"ticks\\\":\\\"\\\",\\\"outlinewidth\\\":0}}}],\\\"mesh3d\\\":[{\\\"colorbar\\\":{\\\"ticks\\\":\\\"\\\",\\\"outlinewidth\\\":0},\\\"type\\\":\\\"mesh3d\\\"}],\\\"surface\\\":[{\\\"colorbar\\\":{\\\"ticks\\\":\\\"\\\",\\\"outlinewidth\\\":0},\\\"type\\\":\\\"surface\\\",\\\"colorscale\\\":[[0.0,\\\"#0d0887\\\"],[0.1111111111111111,\\\"#46039f\\\"],[0.2222222222222222,\\\"#7201a8\\\"],[0.3333333333333333,\\\"#9c179e\\\"],[0.4444444444444444,\\\"#bd3786\\\"],[0.5555555555555556,\\\"#d8576b\\\"],[0.6666666666666666,\\\"#ed7953\\\"],[0.7777777777777778,\\\"#fb9f3a\\\"],[0.8888888888888888,\\\"#fdca26\\\"],[1.0,\\\"#f0f921\\\"]]}],\\\"scattermapbox\\\":[{\\\"type\\\":\\\"scattermapbox\\\",\\\"marker\\\":{\\\"colorbar\\\":{\\\"ticks\\\":\\\"\\\",\\\"outlinewidth\\\":0}}}],\\\"scattergeo\\\":[{\\\"type\\\":\\\"scattergeo\\\",\\\"marker\\\":{\\\"colorbar\\\":{\\\"ticks\\\":\\\"\\\",\\\"outlinewidth\\\":0}}}],\\\"histogram\\\":[{\\\"type\\\":\\\"histogram\\\",\\\"marker\\\":{\\\"colorbar\\\":{\\\"ticks\\\":\\\"\\\",\\\"outlinewidth\\\":0}}}],\\\"pie\\\":[{\\\"type\\\":\\\"pie\\\",\\\"automargin\\\":true}],\\\"choropleth\\\":[{\\\"colorbar\\\":{\\\"ticks\\\":\\\"\\\",\\\"outlinewidth\\\":0},\\\"type\\\":\\\"choropleth\\\"}],\\\"heatmapgl\\\":[{\\\"colorbar\\\":{\\\"ticks\\\":\\\"\\\",\\\"outlinewidth\\\":0},\\\"type\\\":\\\"heatmapgl\\\",\\\"colorscale\\\":[[0.0,\\\"#0d0887\\\"],[0.1111111111111111,\\\"#46039f\\\"],[0.2222222222222222,\\\"#7201a8\\\"],[0.3333333333333333,\\\"#9c179e\\\"],[0.4444444444444444,\\\"#bd3786\\\"],[0.5555555555555556,\\\"#d8576b\\\"],[0.6666666666666666,\\\"#ed7953\\\"],[0.7777777777777778,\\\"#fb9f3a\\\"],[0.8888888888888888,\\\"#fdca26\\\"],[1.0,\\\"#f0f921\\\"]]}],\\\"bar\\\":[{\\\"type\\\":\\\"bar\\\",\\\"error_y\\\":{\\\"color\\\":\\\"#2a3f5f\\\"},\\\"error_x\\\":{\\\"color\\\":\\\"#2a3f5f\\\"},\\\"marker\\\":{\\\"line\\\":{\\\"color\\\":\\\"#E5ECF6\\\",\\\"width\\\":0.5}}}],\\\"heatmap\\\":[{\\\"colorbar\\\":{\\\"ticks\\\":\\\"\\\",\\\"outlinewidth\\\":0},\\\"type\\\":\\\"heatmap\\\",\\\"colorscale\\\":[[0.0,\\\"#0d0887\\\"],[0.1111111111111111,\\\"#46039f\\\"],[0.2222222222222222,\\\"#7201a8\\\"],[0.3333333333333333,\\\"#9c179e\\\"],[0.4444444444444444,\\\"#bd3786\\\"],[0.5555555555555556,\\\"#d8576b\\\"],[0.6666666666666666,\\\"#ed7953\\\"],[0.7777777777777778,\\\"#fb9f3a\\\"],[0.8888888888888888,\\\"#fdca26\\\"],[1.0,\\\"#f0f921\\\"]]}],\\\"contourcarpet\\\":[{\\\"colorbar\\\":{\\\"ticks\\\":\\\"\\\",\\\"outlinewidth\\\":0},\\\"type\\\":\\\"contourcarpet\\\"}],\\\"table\\\":[{\\\"type\\\":\\\"table\\\",\\\"header\\\":{\\\"line\\\":{\\\"color\\\":\\\"white\\\"},\\\"fill\\\":{\\\"color\\\":\\\"#C8D4E3\\\"}},\\\"cells\\\":{\\\"line\\\":{\\\"color\\\":\\\"white\\\"},\\\"fill\\\":{\\\"color\\\":\\\"#EBF0F8\\\"}}}],\\\"scatter3d\\\":[{\\\"line\\\":{\\\"colorbar\\\":{\\\"ticks\\\":\\\"\\\",\\\"outlinewidth\\\":0}},\\\"type\\\":\\\"scatter3d\\\",\\\"marker\\\":{\\\"colorbar\\\":{\\\"ticks\\\":\\\"\\\",\\\"outlinewidth\\\":0}}}],\\\"scattergl\\\":[{\\\"type\\\":\\\"scattergl\\\",\\\"marker\\\":{\\\"colorbar\\\":{\\\"ticks\\\":\\\"\\\",\\\"outlinewidth\\\":0}}}],\\\"histogram2d\\\":[{\\\"colorbar\\\":{\\\"ticks\\\":\\\"\\\",\\\"outlinewidth\\\":0},\\\"type\\\":\\\"histogram2d\\\",\\\"colorscale\\\":[[0.0,\\\"#0d0887\\\"],[0.1111111111111111,\\\"#46039f\\\"],[0.2222222222222222,\\\"#7201a8\\\"],[0.3333333333333333,\\\"#9c179e\\\"],[0.4444444444444444,\\\"#bd3786\\\"],[0.5555555555555556,\\\"#d8576b\\\"],[0.6666666666666666,\\\"#ed7953\\\"],[0.7777777777777778,\\\"#fb9f3a\\\"],[0.8888888888888888,\\\"#fdca26\\\"],[1.0,\\\"#f0f921\\\"]]}],\\\"scatterternary\\\":[{\\\"type\\\":\\\"scatterternary\\\",\\\"marker\\\":{\\\"colorbar\\\":{\\\"ticks\\\":\\\"\\\",\\\"outlinewidth\\\":0}}}],\\\"scatterpolargl\\\":[{\\\"type\\\":\\\"scatterpolargl\\\",\\\"marker\\\":{\\\"colorbar\\\":{\\\"ticks\\\":\\\"\\\",\\\"outlinewidth\\\":0}}}]}},\\\"height\\\":600,\\\"margin\\\":{\\\"l\\\":50,\\\"b\\\":50,\\\"r\\\":50,\\\"t\\\":60},\\\"yaxis\\\":{\\\"range\\\":[-2,2]},\\\"width\\\":600},{\\\"showLink\\\":false,\\\"editable\\\":false,\\\"responsive\\\":true,\\\"staticPlot\\\":false,\\\"scrollZoom\\\":true}); gd.on(\\\"plotly_hover\\\",(function (data){var filtered_data=WebIO.PlotlyCommands.filterEventData(gd,data,\\\"hover\\\"); return !(filtered_data.isnil) ? (WebIO.setval({\\\"name\\\":\\\"hover\\\",\\\"scope\\\":\\\"638268731657503345\\\",\\\"id\\\":\\\"384252019645606516\\\",\\\"type\\\":\\\"observable\\\"},filtered_data.out)) : undefined})); gd.on(\\\"plotly_unhover\\\",(function (){return WebIO.setval({\\\"name\\\":\\\"hover\\\",\\\"scope\\\":\\\"638268731657503345\\\",\\\"id\\\":\\\"384252019645606516\\\",\\\"type\\\":\\\"observable\\\"},{})})); gd.on(\\\"plotly_selected\\\",(function (data){var filtered_data=WebIO.PlotlyCommands.filterEventData(gd,data,\\\"selected\\\"); return !(filtered_data.isnil) ? (WebIO.setval({\\\"name\\\":\\\"selected\\\",\\\"scope\\\":\\\"638268731657503345\\\",\\\"id\\\":\\\"6877620222722706939\\\",\\\"type\\\":\\\"observable\\\"},filtered_data.out)) : undefined})); gd.on(\\\"plotly_deselect\\\",(function (){return WebIO.setval({\\\"name\\\":\\\"selected\\\",\\\"scope\\\":\\\"638268731657503345\\\",\\\"id\\\":\\\"6877620222722706939\\\",\\\"type\\\":\\\"observable\\\"},{})})); gd.on(\\\"plotly_relayout\\\",(function (data){var filtered_data=WebIO.PlotlyCommands.filterEventData(gd,data,\\\"relayout\\\"); return !(filtered_data.isnil) ? (WebIO.setval({\\\"name\\\":\\\"relayout\\\",\\\"scope\\\":\\\"638268731657503345\\\",\\\"id\\\":\\\"11253230926221580335\\\",\\\"type\\\":\\\"observable\\\"},filtered_data.out)) : undefined})); return gd.on(\\\"plotly_click\\\",(function (data){var filtered_data=WebIO.PlotlyCommands.filterEventData(gd,data,\\\"click\\\"); return !(filtered_data.isnil) ? (WebIO.setval({\\\"name\\\":\\\"click\\\",\\\"scope\\\":\\\"638268731657503345\\\",\\\"id\\\":\\\"16044412705445780177\\\",\\\"type\\\":\\\"observable\\\"},filtered_data.out)) : undefined}))}));\\n    (WebIO.importBlock({\\\"data\\\":[{\\\"name\\\":\\\"Plotly\\\",\\\"type\\\":\\\"js\\\",\\\"url\\\":\\\"\\/assetserver\\/d66a736669047bda0b2d00471bd5207a90cf3193-plotly.min.js\\\"},{\\\"name\\\":null,\\\"type\\\":\\\"js\\\",\\\"url\\\":\\\"\\/assetserver\\/aee3160e397a4905b07437c5af565305d1ef6def-plotly_webio.bundle.js\\\"}],\\\"type\\\":\\\"async_block\\\"})).then((imports) => handler.apply(this, imports));\\n}\\n\"],\"observables\":{\"_toImage\":{\"sync\":false,\"id\":\"13380214191639187812\",\"value\":{}},\"hover\":{\"sync\":false,\"id\":\"384252019645606516\",\"value\":{}},\"selected\":{\"sync\":false,\"id\":\"6877620222722706939\",\"value\":{}},\"__gd_contents\":{\"sync\":false,\"id\":\"1464145257371070103\",\"value\":{}},\"click\":{\"sync\":false,\"id\":\"16044412705445780177\",\"value\":{}},\"image\":{\"sync\":true,\"id\":\"13201103700156811502\",\"value\":\"\"},\"__get_gd_contents\":{\"sync\":false,\"id\":\"1901076401607355266\",\"value\":\"\"},\"_downloadImage\":{\"sync\":false,\"id\":\"544157728063728226\",\"value\":{}},\"relayout\":{\"sync\":false,\"id\":\"11253230926221580335\",\"value\":{}},\"_commands\":{\"sync\":false,\"id\":\"766381573740176680\",\"value\":[]}}},\"children\":[{\"props\":{\"id\":\"plot-ba8f70ec-58f5-423c-ba0b-35f32979d54f\"},\"nodeType\":\"DOM\",\"type\":\"node\",\"instanceArgs\":{\"namespace\":\"html\",\"tag\":\"div\"},\"children\":[]}]},\n",
       "        window,\n",
       "    );\n",
       "    })()\n",
       "    </script>\n",
       "</div>\n"
      ],
      "text/plain": [
       "data: [\n",
       "  \"scatter with fields type, x, and y\",\n",
       "  \"scatter with fields name, type, x, and y\"\n",
       "]\n",
       "\n",
       "layout: \"layout with fields height, margin, template, width, xaxis, and yaxis\"\n",
       "\n"
      ]
     },
     "execution_count": 18,
     "metadata": {},
     "output_type": "execute_result"
    }
   ],
   "source": [
    "a = Point(-1.5,-0.5)#+Point(10,10)\n",
    "b = Point(0.5,1.5)\n",
    "c = Point(1.0,-0.5)\n",
    "t = Triangle(a,b,c)\n",
    "\n",
    "pt = plotgeometry(t)\n",
    "pe = plotenvelopeP(Prim(t))\n",
    "plot([pt,pe], layout)"
   ]
  },
  {
   "cell_type": "markdown",
   "id": "fa6b7714-7762-4e83-a416-05eca88ee60b",
   "metadata": {},
   "source": [
    "Our function for the envelope works on our primitives, but we need to extend it for the actual diagrams.\n",
    "\n",
    "As we've said, it's a simple max over all envelopes."
   ]
  },
  {
   "cell_type": "code",
   "execution_count": 15,
   "id": "c207f5c0-f390-41cb-9b29-dbd322293b21",
   "metadata": {},
   "outputs": [
    {
     "data": {
      "application/vnd.plotly.v1+json": {
       "config": {
        "editable": false,
        "responsive": true,
        "scrollZoom": true,
        "showLink": false,
        "staticPlot": false
       },
       "data": [
        {
         "type": "scatter",
         "x": [
          0,
          1,
          1,
          0
         ],
         "y": [
          0,
          1,
          0,
          0
         ]
        },
        {
         "type": "scatter",
         "x": [
          0,
          -1,
          -1,
          0
         ],
         "y": [
          0,
          -1,
          0,
          0
         ]
        },
        {
         "type": "scatter",
         "x": [
          0.5,
          -0.5,
          -0.5,
          0.5,
          0.5
         ],
         "y": [
          0.5,
          0.5,
          -0.5,
          -0.5,
          0.5
         ]
        },
        {
         "type": "scatter",
         "x": [
          1.2246467991473532e-16,
          -0.09956784659581648,
          -0.19814614319939736,
          -0.29475517441090393,
          -0.3884347962746944,
          -0.47825397862131824,
          -0.5633200580636216,
          -0.6427876096865393,
          -0.7158668492597183,
          -0.7818314824680297,
          -0.8400259231507715,
          -0.8898718088114684,
          -0.930873748644204,
          -0.9626242469500119,
          -0.984807753012208,
          -0.9972037971811801,
          -0.9996891820008162,
          -0.9922392066001722,
          -0.9749279121818236,
          -0.9479273461671317,
          -0.9115058523116732,
          -0.866025403784439,
          -0.8119380057158567,
          -0.7497812029677342,
          -0.6801727377709198,
          -0.6038044103254782,
          -0.5214352033794986,
          -0.43388373911755834,
          -0.3420201433256686,
          -0.24675739769029395,
          -0.14904226617617528,
          -0.0498458856606976,
          0.049845885660697115,
          0.14904226617617478,
          0.24675739769029262,
          0.3420201433256681,
          0.4338837391175579,
          0.5214352033794982,
          0.603804410325477,
          0.6801727377709194,
          0.7497812029677339,
          0.8119380057158564,
          0.8660254037844384,
          0.911505852311673,
          0.9479273461671315,
          0.9749279121818235,
          0.992239206600172,
          0.9996891820008162,
          0.9972037971811802,
          0.9848077530122081,
          0.9626242469500126,
          0.9308737486442048,
          0.8898718088114691,
          0.8400259231507718,
          0.78183148246803,
          0.7158668492597183,
          0.642787609686539,
          0.5633200580636213,
          0.4782539786213187,
          0.38843479627469485,
          0.2947551744109057,
          0.19814614319939872,
          0.09956784659581741,
          3.6739403974420594e-16,
          1.2246467991473532e-16
         ],
         "y": [
          -1,
          -0.9950307753654014,
          -0.9801724878485439,
          -0.9555728057861408,
          -0.9214762118704077,
          -0.8782215733702285,
          -0.8262387743159951,
          -0.7660444431189781,
          -0.698236818086073,
          -0.6234898018587337,
          -0.5425462638657592,
          -0.4562106573531632,
          -0.3653410243663957,
          -0.2708404681430055,
          -0.17364817766693033,
          -0.07473009358642473,
          0.02493069173807279,
          0.1243437046474846,
          0.22252093395631423,
          0.3184866502516846,
          0.4112871031306113,
          0.49999999999999933,
          0.5837436722347895,
          0.6616858375968594,
          0.733051871829826,
          0.7971325072229218,
          0.8532908816321554,
          0.900968867902419,
          0.9396926207859084,
          0.9690772862290778,
          0.9888308262251284,
          0.9987569212189223,
          0.9987569212189223,
          0.9888308262251285,
          0.9690772862290782,
          0.9396926207859086,
          0.9009688679024193,
          0.8532908816321556,
          0.7971325072229227,
          0.7330518718298263,
          0.6616858375968597,
          0.58374367223479,
          0.5000000000000006,
          0.41128710313061173,
          0.3184866502516851,
          0.2225209339563147,
          0.12434370464748597,
          0.024930691738073277,
          -0.07473009358642335,
          -0.17364817766692986,
          -0.2708404681430033,
          -0.3653410243663936,
          -0.45621065735316196,
          -0.5425462638657588,
          -0.6234898018587333,
          -0.6982368180860729,
          -0.7660444431189783,
          -0.8262387743159954,
          -0.8782215733702283,
          -0.9214762118704076,
          -0.9555728057861402,
          -0.9801724878485436,
          -0.9950307753654013,
          -1,
          -1
         ]
        },
        {
         "name": "envelope",
         "type": "scatter",
         "x": [
          1,
          1.047418790962427,
          1.0893679543181516,
          1.125428347893473,
          1.1552396681557677,
          1.178504050247288,
          1.1949890441523567,
          1.2045299372610896,
          1.2070314001233442,
          1.2024684389490738,
          1.1908866453380182,
          1.1724017407435063,
          1.1471984202219498,
          1.1155285070208905,
          1.0777084364443505,
          1.0341160941358787,
          0.9851870403701082,
          0.931410158078472,
          0.8733227680925539,
          0.8115052604119555,
          0.7465752951392698,
          0.6791816310245081,
          0.6099976432821221,
          0.5397145954484479,
          0.4690347325049524,
          0.39866426427851137,
          0.3293063092262584,
          0.2616538691083843,
          0.19638290474362324,
          0.1341455820321957,
          0.07556375572971089,
          0.02122275608000551,
          -0.02919328908964114,
          -0.07908684288781058,
          -0.12881769583538694,
          -0.1781679540943826,
          -0.22715606740393743,
          -0.275467305231034,
          -0.323225799109613,
          -0.37001272860492534,
          -0.41606694413511236,
          -0.4608595891237784,
          -0.5047518057733642,
          -0.5471002227309669,
          -0.5883942075163019,
          -0.6278730052656926,
          -0.6661583483557735,
          -0.7023709611347922,
          -0.737267154805654,
          -0.7698498257826549,
          -0.8010100461824063,
          -0.8296354814050457,
          -0.8567500355435828,
          -0.881130691616839,
          -0.9039300953215125,
          -0.9238210677901122,
          -0.942078724036366,
          -0.9572802074577227,
          -0.9708146584554848,
          -0.9811739534516384,
          -0.9898506841045842,
          -0.9952637312322443,
          -0.9989965060458391,
          -1.0083362684338828,
          -1.0548670618043434,
          -1.0958538069079196,
          -1.130886977735954,
          -1.159616534425959,
          -1.1817554207442167,
          -1.1970824322567786,
          -1.2054444265310469,
          -1.2067578532843413,
          -1.201009589190704,
          -1.1882570690048349,
          -1.1686277116930086,
          -1.1423176473048824,
          -1.109589757306871,
          -1.0707710479574326,
          -1.0262493829686268,
          -0.9764696081001175,
          -0.9219291064073842,
          -0.8631728285546476,
          -0.8007878478479682,
          -0.7353974943928362,
          -0.6676551269857974,
          -0.5982376049693333,
          -0.5278385252770504,
          -0.4571612922423911,
          -0.38691208941505284,
          -0.31779282360838623,
          -0.2504941116785398,
          -0.18568838010912012,
          -0.12402314634804099,
          -0.06611454902722912,
          -0.012541191709075644,
          0.03757556023090465,
          0.08749255475630065,
          0.1370787173415201,
          0.18649926285693913,
          0.23521022051070964,
          0.28364313942709934,
          0.3309895890513355,
          0.3779535195755907,
          0.4234598645981768,
          0.4684880448603721,
          0.5116971726176573,
          0.5543420796930981,
          0.5948199531409429,
          0.6346577508610107,
          0.6719977684905156,
          0.7086325198366986,
          0.7424595999991195,
          0.7755272022143523,
          0.8055015508280291,
          0.834673354135321,
          0.8604938779278937,
          0.885479951890775,
          0.9068872828905498,
          0.9274392979518541,
          0.9442183988472183,
          0.96013209440738,
          0.9721144186033448,
          0.9832316331086547,
          0.9902968177826893,
          0.9965070606470341,
          0.9988991395892903
         ],
         "y": [
          0,
          0.0524146256844012,
          0.1093013764769098,
          0.17009185876786684,
          0.23417867415288268,
          0.30092148835691523,
          0.3696534292426786,
          0.4396877499766013,
          0.5103246907761787,
          0.5808584706784096,
          0.6505843394698784,
          0.7188056193179291,
          0.7848406657452766,
          0.8480296783963029,
          0.9077412935441098,
          0.9633788924681757,
          1.014386562671397,
          1.0602546523739969,
          1.100524862785641,
          1.1347948272754589,
          1.162722131686412,
          1.1840277356243658,
          1.198498760537468,
          1.2059906167282726,
          1.206428448046198,
          1.199807879825445,
          1.1861950625952056,
          1.1657260111254457,
          1.1386052454122817,
          1.1051037471817864,
          1.0655562523301563,
          1.020357906353285,
          0.9993602244197284,
          0.996436074906401,
          0.9914585533668369,
          0.9835547966171938,
          0.9736503458727258,
          0.9608463753713216,
          0.946113433253485,
          0.9285378652857692,
          0.9091228587206239,
          0.8869522404183195,
          0.8630481301263941,
          0.8365051660460183,
          0.8083495287550984,
          0.7777008438037043,
          0.7455735110348595,
          0.7111269722144795,
          0.6753472491088369,
          0.6374488729827865,
          0.5983723648104264,
          0.5574028417560679,
          0.5154179196475497,
          0.4717887898095075,
          0.42731273083622107,
          0.3814622501927152,
          0.33493709015880346,
          0.28732582822659547,
          0.2392139683904832,
          0.19032018178963006,
          0.14109979317881746,
          0.09141462152991527,
          0.041574892524366816,
          -0.008477632050467736,
          -0.06168214304615052,
          -0.11926618117989601,
          -0.1806543857774247,
          -0.24523338619063953,
          -0.3123579303943921,
          -0.38135733213142164,
          -0.4515421721877422,
          -0.5222111868415352,
          -0.5926582746584493,
          -0.6621795516237301,
          -0.7300803841186183,
          -0.7956823294698565,
          -0.8583299147246161,
          -0.9173971859195681,
          -0.9722939624059781,
          -1.0224717337396545,
          -1.0674291402159977,
          -1.1067169822904388,
          -1.1399427088318044,
          -1.166774339363457,
          -1.186943781102483,
          -1.2002495076541568,
          -1.206558572597063,
          -1.205807937839791,
          -1.198005103476709,
          -1.1832280328494986,
          -1.1616243735632168,
          -1.133409982240232,
          -1.098866767752205,
          -1.058339874479833,
          -1.0122342337442822,
          -0.9985860780981893,
          -0.9960914191097391,
          -0.9898360341448245,
          -0.9823835738807246,
          -0.9711960824085637,
          -0.958859889252202,
          -0.9428526699756739,
          -0.9257553504313959,
          -0.9050891963704089,
          -0.8834006765060753,
          -0.8582831798266348,
          -0.8322190164195316,
          -0.8029024831639204,
          -0.7727217213351418,
          -0.7395006369998081,
          -0.7055032356295566,
          -0.6687113070490603,
          -0.6312351575610368,
          -0.5912419608124289,
          -0.5506595289568585,
          -0.5078667969563858,
          -0.46458142096816635,
          -0.4194190080515254,
          -0.37386088997516503,
          -0.3267824539972113,
          -0.2794043840197541,
          -0.23088282934711415,
          -0.1821556856338299,
          -0.13267841280570317,
          -0.08308648156451304,
          -0.03316094867560034
         ]
        }
       ],
       "frames": [],
       "layout": {
        "height": 600,
        "margin": {
         "b": 50,
         "l": 50,
         "r": 50,
         "t": 60
        },
        "template": {
         "data": {
          "bar": [
           {
            "error_x": {
             "color": "#2a3f5f"
            },
            "error_y": {
             "color": "#2a3f5f"
            },
            "marker": {
             "line": {
              "color": "#E5ECF6",
              "width": 0.5
             }
            },
            "type": "bar"
           }
          ],
          "barpolar": [
           {
            "marker": {
             "line": {
              "color": "#E5ECF6",
              "width": 0.5
             }
            },
            "type": "barpolar"
           }
          ],
          "carpet": [
           {
            "aaxis": {
             "endlinecolor": "#2a3f5f",
             "gridcolor": "white",
             "linecolor": "white",
             "minorgridcolor": "white",
             "startlinecolor": "#2a3f5f"
            },
            "baxis": {
             "endlinecolor": "#2a3f5f",
             "gridcolor": "white",
             "linecolor": "white",
             "minorgridcolor": "white",
             "startlinecolor": "#2a3f5f"
            },
            "type": "carpet"
           }
          ],
          "choropleth": [
           {
            "colorbar": {
             "outlinewidth": 0,
             "ticks": ""
            },
            "type": "choropleth"
           }
          ],
          "contour": [
           {
            "colorbar": {
             "outlinewidth": 0,
             "ticks": ""
            },
            "colorscale": [
             [
              0,
              "#0d0887"
             ],
             [
              0.1111111111111111,
              "#46039f"
             ],
             [
              0.2222222222222222,
              "#7201a8"
             ],
             [
              0.3333333333333333,
              "#9c179e"
             ],
             [
              0.4444444444444444,
              "#bd3786"
             ],
             [
              0.5555555555555556,
              "#d8576b"
             ],
             [
              0.6666666666666666,
              "#ed7953"
             ],
             [
              0.7777777777777778,
              "#fb9f3a"
             ],
             [
              0.8888888888888888,
              "#fdca26"
             ],
             [
              1,
              "#f0f921"
             ]
            ],
            "type": "contour"
           }
          ],
          "contourcarpet": [
           {
            "colorbar": {
             "outlinewidth": 0,
             "ticks": ""
            },
            "type": "contourcarpet"
           }
          ],
          "heatmap": [
           {
            "colorbar": {
             "outlinewidth": 0,
             "ticks": ""
            },
            "colorscale": [
             [
              0,
              "#0d0887"
             ],
             [
              0.1111111111111111,
              "#46039f"
             ],
             [
              0.2222222222222222,
              "#7201a8"
             ],
             [
              0.3333333333333333,
              "#9c179e"
             ],
             [
              0.4444444444444444,
              "#bd3786"
             ],
             [
              0.5555555555555556,
              "#d8576b"
             ],
             [
              0.6666666666666666,
              "#ed7953"
             ],
             [
              0.7777777777777778,
              "#fb9f3a"
             ],
             [
              0.8888888888888888,
              "#fdca26"
             ],
             [
              1,
              "#f0f921"
             ]
            ],
            "type": "heatmap"
           }
          ],
          "heatmapgl": [
           {
            "colorbar": {
             "outlinewidth": 0,
             "ticks": ""
            },
            "colorscale": [
             [
              0,
              "#0d0887"
             ],
             [
              0.1111111111111111,
              "#46039f"
             ],
             [
              0.2222222222222222,
              "#7201a8"
             ],
             [
              0.3333333333333333,
              "#9c179e"
             ],
             [
              0.4444444444444444,
              "#bd3786"
             ],
             [
              0.5555555555555556,
              "#d8576b"
             ],
             [
              0.6666666666666666,
              "#ed7953"
             ],
             [
              0.7777777777777778,
              "#fb9f3a"
             ],
             [
              0.8888888888888888,
              "#fdca26"
             ],
             [
              1,
              "#f0f921"
             ]
            ],
            "type": "heatmapgl"
           }
          ],
          "histogram": [
           {
            "marker": {
             "colorbar": {
              "outlinewidth": 0,
              "ticks": ""
             }
            },
            "type": "histogram"
           }
          ],
          "histogram2d": [
           {
            "colorbar": {
             "outlinewidth": 0,
             "ticks": ""
            },
            "colorscale": [
             [
              0,
              "#0d0887"
             ],
             [
              0.1111111111111111,
              "#46039f"
             ],
             [
              0.2222222222222222,
              "#7201a8"
             ],
             [
              0.3333333333333333,
              "#9c179e"
             ],
             [
              0.4444444444444444,
              "#bd3786"
             ],
             [
              0.5555555555555556,
              "#d8576b"
             ],
             [
              0.6666666666666666,
              "#ed7953"
             ],
             [
              0.7777777777777778,
              "#fb9f3a"
             ],
             [
              0.8888888888888888,
              "#fdca26"
             ],
             [
              1,
              "#f0f921"
             ]
            ],
            "type": "histogram2d"
           }
          ],
          "histogram2dcontour": [
           {
            "colorbar": {
             "outlinewidth": 0,
             "ticks": ""
            },
            "colorscale": [
             [
              0,
              "#0d0887"
             ],
             [
              0.1111111111111111,
              "#46039f"
             ],
             [
              0.2222222222222222,
              "#7201a8"
             ],
             [
              0.3333333333333333,
              "#9c179e"
             ],
             [
              0.4444444444444444,
              "#bd3786"
             ],
             [
              0.5555555555555556,
              "#d8576b"
             ],
             [
              0.6666666666666666,
              "#ed7953"
             ],
             [
              0.7777777777777778,
              "#fb9f3a"
             ],
             [
              0.8888888888888888,
              "#fdca26"
             ],
             [
              1,
              "#f0f921"
             ]
            ],
            "type": "histogram2dcontour"
           }
          ],
          "mesh3d": [
           {
            "colorbar": {
             "outlinewidth": 0,
             "ticks": ""
            },
            "type": "mesh3d"
           }
          ],
          "parcoords": [
           {
            "line": {
             "colorbar": {
              "outlinewidth": 0,
              "ticks": ""
             }
            },
            "type": "parcoords"
           }
          ],
          "pie": [
           {
            "automargin": true,
            "type": "pie"
           }
          ],
          "scatter": [
           {
            "marker": {
             "colorbar": {
              "outlinewidth": 0,
              "ticks": ""
             }
            },
            "type": "scatter"
           }
          ],
          "scatter3d": [
           {
            "line": {
             "colorbar": {
              "outlinewidth": 0,
              "ticks": ""
             }
            },
            "marker": {
             "colorbar": {
              "outlinewidth": 0,
              "ticks": ""
             }
            },
            "type": "scatter3d"
           }
          ],
          "scattercarpet": [
           {
            "marker": {
             "colorbar": {
              "outlinewidth": 0,
              "ticks": ""
             }
            },
            "type": "scattercarpet"
           }
          ],
          "scattergeo": [
           {
            "marker": {
             "colorbar": {
              "outlinewidth": 0,
              "ticks": ""
             }
            },
            "type": "scattergeo"
           }
          ],
          "scattergl": [
           {
            "marker": {
             "colorbar": {
              "outlinewidth": 0,
              "ticks": ""
             }
            },
            "type": "scattergl"
           }
          ],
          "scattermapbox": [
           {
            "marker": {
             "colorbar": {
              "outlinewidth": 0,
              "ticks": ""
             }
            },
            "type": "scattermapbox"
           }
          ],
          "scatterpolar": [
           {
            "marker": {
             "colorbar": {
              "outlinewidth": 0,
              "ticks": ""
             }
            },
            "type": "scatterpolar"
           }
          ],
          "scatterpolargl": [
           {
            "marker": {
             "colorbar": {
              "outlinewidth": 0,
              "ticks": ""
             }
            },
            "type": "scatterpolargl"
           }
          ],
          "scatterternary": [
           {
            "marker": {
             "colorbar": {
              "outlinewidth": 0,
              "ticks": ""
             }
            },
            "type": "scatterternary"
           }
          ],
          "surface": [
           {
            "colorbar": {
             "outlinewidth": 0,
             "ticks": ""
            },
            "colorscale": [
             [
              0,
              "#0d0887"
             ],
             [
              0.1111111111111111,
              "#46039f"
             ],
             [
              0.2222222222222222,
              "#7201a8"
             ],
             [
              0.3333333333333333,
              "#9c179e"
             ],
             [
              0.4444444444444444,
              "#bd3786"
             ],
             [
              0.5555555555555556,
              "#d8576b"
             ],
             [
              0.6666666666666666,
              "#ed7953"
             ],
             [
              0.7777777777777778,
              "#fb9f3a"
             ],
             [
              0.8888888888888888,
              "#fdca26"
             ],
             [
              1,
              "#f0f921"
             ]
            ],
            "type": "surface"
           }
          ],
          "table": [
           {
            "cells": {
             "fill": {
              "color": "#EBF0F8"
             },
             "line": {
              "color": "white"
             }
            },
            "header": {
             "fill": {
              "color": "#C8D4E3"
             },
             "line": {
              "color": "white"
             }
            },
            "type": "table"
           }
          ]
         },
         "layout": {
          "annotationdefaults": {
           "arrowcolor": "#2a3f5f",
           "arrowhead": 0,
           "arrowwidth": 1
          },
          "autotypenumbers": "strict",
          "coloraxis": {
           "colorbar": {
            "outlinewidth": 0,
            "ticks": ""
           }
          },
          "colorscale": {
           "diverging": [
            [
             0,
             "#8e0152"
            ],
            [
             0.1,
             "#c51b7d"
            ],
            [
             0.2,
             "#de77ae"
            ],
            [
             0.3,
             "#f1b6da"
            ],
            [
             0.4,
             "#fde0ef"
            ],
            [
             0.5,
             "#f7f7f7"
            ],
            [
             0.6,
             "#e6f5d0"
            ],
            [
             0.7,
             "#b8e186"
            ],
            [
             0.8,
             "#7fbc41"
            ],
            [
             0.9,
             "#4d9221"
            ],
            [
             1,
             "#276419"
            ]
           ],
           "sequential": [
            [
             0,
             "#0d0887"
            ],
            [
             0.1111111111111111,
             "#46039f"
            ],
            [
             0.2222222222222222,
             "#7201a8"
            ],
            [
             0.3333333333333333,
             "#9c179e"
            ],
            [
             0.4444444444444444,
             "#bd3786"
            ],
            [
             0.5555555555555556,
             "#d8576b"
            ],
            [
             0.6666666666666666,
             "#ed7953"
            ],
            [
             0.7777777777777778,
             "#fb9f3a"
            ],
            [
             0.8888888888888888,
             "#fdca26"
            ],
            [
             1,
             "#f0f921"
            ]
           ],
           "sequentialminus": [
            [
             0,
             "#0d0887"
            ],
            [
             0.1111111111111111,
             "#46039f"
            ],
            [
             0.2222222222222222,
             "#7201a8"
            ],
            [
             0.3333333333333333,
             "#9c179e"
            ],
            [
             0.4444444444444444,
             "#bd3786"
            ],
            [
             0.5555555555555556,
             "#d8576b"
            ],
            [
             0.6666666666666666,
             "#ed7953"
            ],
            [
             0.7777777777777778,
             "#fb9f3a"
            ],
            [
             0.8888888888888888,
             "#fdca26"
            ],
            [
             1,
             "#f0f921"
            ]
           ]
          },
          "colorway": [
           "#636efa",
           "#EF553B",
           "#00cc96",
           "#ab63fa",
           "#FFA15A",
           "#19d3f3",
           "#FF6692",
           "#B6E880",
           "#FF97FF",
           "#FECB52"
          ],
          "font": {
           "color": "#2a3f5f"
          },
          "geo": {
           "bgcolor": "white",
           "lakecolor": "white",
           "landcolor": "#E5ECF6",
           "showlakes": true,
           "showland": true,
           "subunitcolor": "white"
          },
          "hoverlabel": {
           "align": "left"
          },
          "hovermode": "closest",
          "mapbox": {
           "style": "light"
          },
          "paper_bgcolor": "white",
          "plot_bgcolor": "#E5ECF6",
          "polar": {
           "angularaxis": {
            "gridcolor": "white",
            "linecolor": "white",
            "ticks": ""
           },
           "bgcolor": "#E5ECF6",
           "radialaxis": {
            "gridcolor": "white",
            "linecolor": "white",
            "ticks": ""
           }
          },
          "scene": {
           "xaxis": {
            "backgroundcolor": "#E5ECF6",
            "gridcolor": "white",
            "gridwidth": 2,
            "linecolor": "white",
            "showbackground": true,
            "ticks": "",
            "zerolinecolor": "white"
           },
           "yaxis": {
            "backgroundcolor": "#E5ECF6",
            "gridcolor": "white",
            "gridwidth": 2,
            "linecolor": "white",
            "showbackground": true,
            "ticks": "",
            "zerolinecolor": "white"
           },
           "zaxis": {
            "backgroundcolor": "#E5ECF6",
            "gridcolor": "white",
            "gridwidth": 2,
            "linecolor": "white",
            "showbackground": true,
            "ticks": "",
            "zerolinecolor": "white"
           }
          },
          "shapedefaults": {
           "line": {
            "color": "#2a3f5f"
           }
          },
          "ternary": {
           "aaxis": {
            "gridcolor": "white",
            "linecolor": "white",
            "ticks": ""
           },
           "baxis": {
            "gridcolor": "white",
            "linecolor": "white",
            "ticks": ""
           },
           "bgcolor": "#E5ECF6",
           "caxis": {
            "gridcolor": "white",
            "linecolor": "white",
            "ticks": ""
           }
          },
          "title": {
           "x": 0.05
          },
          "xaxis": {
           "automargin": true,
           "gridcolor": "white",
           "linecolor": "white",
           "ticks": "",
           "title": {
            "standoff": 15
           },
           "zerolinecolor": "white",
           "zerolinewidth": 2
          },
          "yaxis": {
           "automargin": true,
           "gridcolor": "white",
           "linecolor": "white",
           "ticks": "",
           "title": {
            "standoff": 15
           },
           "zerolinecolor": "white",
           "zerolinewidth": 2
          }
         }
        },
        "width": 600,
        "xaxis": {
         "range": [
          -2,
          2
         ],
         "type": "linear"
        },
        "yaxis": {
         "range": [
          -2,
          2
         ],
         "type": "linear"
        }
       }
      },
      "image/png": "[encoded data removed]",
      "text/html": [
       "<div\n",
       "    class=\"webio-mountpoint\"\n",
       "    data-webio-mountpoint=\"4178101962116171506\"\n",
       ">\n",
       "    <script>\n",
       "    (function(){\n",
       "    // Some integrations (namely, IJulia/Jupyter) use an alternate render pathway than\n",
       "    // just putting the html on the page. If WebIO isn't defined, then it's pretty likely\n",
       "    // that we're in one of those situations and the integration just isn't installed\n",
       "    // correctly.\n",
       "    if (typeof window.WebIO === \"undefined\") {\n",
       "        document\n",
       "            .querySelector('[data-webio-mountpoint=\"4178101962116171506\"]')\n",
       "            .innerHTML = (\n",
       "                '<div style=\"padding: 1em; background-color: #f8d6da; border: 1px solid #f5c6cb; font-weight: bold;\">' +\n",
       "                '<p><strong>WebIO not detected.</strong></p>' +\n",
       "                '<p>Please read ' +\n",
       "                '<a href=\"https://juliagizmos.github.io/WebIO.jl/latest/troubleshooting/not-detected/\" target=\"_blank\">the troubleshooting guide</a> ' +\n",
       "                'for more information on how to resolve this issue.</p>' +\n",
       "                '<p><a href=\"https://juliagizmos.github.io/WebIO.jl/latest/troubleshooting/not-detected/\" target=\"_blank\">https://juliagizmos.github.io/WebIO.jl/latest/troubleshooting/not-detected/</a></p>' +\n",
       "                '</div>'\n",
       "            );\n",
       "        return;\n",
       "    }\n",
       "    WebIO.mount(\n",
       "        document.querySelector('[data-webio-mountpoint=\"4178101962116171506\"]'),\n",
       "        {\"props\":{},\"nodeType\":\"Scope\",\"type\":\"node\",\"instanceArgs\":{\"imports\":{\"data\":[{\"name\":\"Plotly\",\"type\":\"js\",\"url\":\"\\/assetserver\\/d66a736669047bda0b2d00471bd5207a90cf3193-plotly.min.js\"},{\"name\":null,\"type\":\"js\",\"url\":\"\\/assetserver\\/aee3160e397a4905b07437c5af565305d1ef6def-plotly_webio.bundle.js\"}],\"type\":\"async_block\"},\"id\":\"6319857370116018204\",\"handlers\":{\"_toImage\":[\"(function (options){return this.Plotly.toImage(this.plotElem,options).then((function (data){return WebIO.setval({\\\"name\\\":\\\"image\\\",\\\"scope\\\":\\\"6319857370116018204\\\",\\\"id\\\":\\\"8219044453529207322\\\",\\\"type\\\":\\\"observable\\\"},data)}))})\"],\"__get_gd_contents\":[\"(function (prop){prop==\\\"data\\\" ? (WebIO.setval({\\\"name\\\":\\\"__gd_contents\\\",\\\"scope\\\":\\\"6319857370116018204\\\",\\\"id\\\":\\\"17171396202679963256\\\",\\\"type\\\":\\\"observable\\\"},this.plotElem.data)) : undefined; return prop==\\\"layout\\\" ? (WebIO.setval({\\\"name\\\":\\\"__gd_contents\\\",\\\"scope\\\":\\\"6319857370116018204\\\",\\\"id\\\":\\\"17171396202679963256\\\",\\\"type\\\":\\\"observable\\\"},this.plotElem.layout)) : undefined})\"],\"_downloadImage\":[\"(function (options){return this.Plotly.downloadImage(this.plotElem,options)})\"],\"_commands\":[\"(function (args){var fn=args.shift(); var elem=this.plotElem; var Plotly=this.Plotly; args.unshift(elem); return Plotly[fn].apply(this,args)})\"]},\"systemjs_options\":null,\"mount_callbacks\":[\"function () {\\n    var handler = ((function (Plotly,PlotlyWebIO){PlotlyWebIO.init(WebIO); var gd=this.dom.querySelector(\\\"#plot-7ec391ab-aa28-446d-bbe6-23e75e691359\\\"); this.plotElem=gd; this.Plotly=Plotly; (window.Blink!==undefined) ? (gd.style.width=\\\"100%\\\", gd.style.height=\\\"100vh\\\", gd.style.marginLeft=\\\"0%\\\", gd.style.marginTop=\\\"0vh\\\") : undefined; window.onresize=(function (){return Plotly.Plots.resize(gd)}); Plotly.newPlot(gd,[{\\\"y\\\":[0,1,0,0],\\\"type\\\":\\\"scatter\\\",\\\"x\\\":[0,1,1,0]},{\\\"y\\\":[0,-1,0,0],\\\"type\\\":\\\"scatter\\\",\\\"x\\\":[0,-1,-1,0]},{\\\"y\\\":[0.5,0.5,-0.5,-0.5,0.5],\\\"type\\\":\\\"scatter\\\",\\\"x\\\":[0.5,-0.5,-0.5,0.5,0.5]},{\\\"y\\\":[-1.0,-0.9950307753654014,-0.9801724878485439,-0.9555728057861408,-0.9214762118704077,-0.8782215733702285,-0.8262387743159951,-0.7660444431189781,-0.698236818086073,-0.6234898018587337,-0.5425462638657592,-0.4562106573531632,-0.3653410243663957,-0.2708404681430055,-0.17364817766693033,-0.07473009358642473,0.02493069173807279,0.1243437046474846,0.22252093395631423,0.3184866502516846,0.4112871031306113,0.49999999999999933,0.5837436722347895,0.6616858375968594,0.733051871829826,0.7971325072229218,0.8532908816321554,0.900968867902419,0.9396926207859084,0.9690772862290778,0.9888308262251284,0.9987569212189223,0.9987569212189223,0.9888308262251285,0.9690772862290782,0.9396926207859086,0.9009688679024193,0.8532908816321556,0.7971325072229227,0.7330518718298263,0.6616858375968597,0.58374367223479,0.5000000000000006,0.41128710313061173,0.3184866502516851,0.2225209339563147,0.12434370464748597,0.024930691738073277,-0.07473009358642335,-0.17364817766692986,-0.2708404681430033,-0.3653410243663936,-0.45621065735316196,-0.5425462638657588,-0.6234898018587333,-0.6982368180860729,-0.7660444431189783,-0.8262387743159954,-0.8782215733702283,-0.9214762118704076,-0.9555728057861402,-0.9801724878485436,-0.9950307753654013,-1.0,-1.0],\\\"type\\\":\\\"scatter\\\",\\\"x\\\":[1.2246467991473532e-16,-0.09956784659581648,-0.19814614319939736,-0.29475517441090393,-0.3884347962746944,-0.47825397862131824,-0.5633200580636216,-0.6427876096865393,-0.7158668492597183,-0.7818314824680297,-0.8400259231507715,-0.8898718088114684,-0.930873748644204,-0.9626242469500119,-0.984807753012208,-0.9972037971811801,-0.9996891820008162,-0.9922392066001722,-0.9749279121818236,-0.9479273461671317,-0.9115058523116732,-0.866025403784439,-0.8119380057158567,-0.7497812029677342,-0.6801727377709198,-0.6038044103254782,-0.5214352033794986,-0.43388373911755834,-0.3420201433256686,-0.24675739769029395,-0.14904226617617528,-0.0498458856606976,0.049845885660697115,0.14904226617617478,0.24675739769029262,0.3420201433256681,0.4338837391175579,0.5214352033794982,0.603804410325477,0.6801727377709194,0.7497812029677339,0.8119380057158564,0.8660254037844384,0.911505852311673,0.9479273461671315,0.9749279121818235,0.992239206600172,0.9996891820008162,0.9972037971811802,0.9848077530122081,0.9626242469500126,0.9308737486442048,0.8898718088114691,0.8400259231507718,0.78183148246803,0.7158668492597183,0.642787609686539,0.5633200580636213,0.4782539786213187,0.38843479627469485,0.2947551744109057,0.19814614319939872,0.09956784659581741,3.6739403974420594e-16,1.2246467991473532e-16]},{\\\"y\\\":[0.0,0.0524146256844012,0.1093013764769098,0.17009185876786684,0.23417867415288268,0.30092148835691523,0.3696534292426786,0.4396877499766013,0.5103246907761787,0.5808584706784096,0.6505843394698784,0.7188056193179291,0.7848406657452766,0.8480296783963029,0.9077412935441098,0.9633788924681757,1.014386562671397,1.0602546523739969,1.100524862785641,1.1347948272754589,1.162722131686412,1.1840277356243658,1.198498760537468,1.2059906167282726,1.206428448046198,1.199807879825445,1.1861950625952056,1.1657260111254457,1.1386052454122817,1.1051037471817864,1.0655562523301563,1.020357906353285,0.9993602244197284,0.996436074906401,0.9914585533668369,0.9835547966171938,0.9736503458727258,0.9608463753713216,0.946113433253485,0.9285378652857692,0.9091228587206239,0.8869522404183195,0.8630481301263941,0.8365051660460183,0.8083495287550984,0.7777008438037043,0.7455735110348595,0.7111269722144795,0.6753472491088369,0.6374488729827865,0.5983723648104264,0.5574028417560679,0.5154179196475497,0.4717887898095075,0.42731273083622107,0.3814622501927152,0.33493709015880346,0.28732582822659547,0.2392139683904832,0.19032018178963006,0.14109979317881746,0.09141462152991527,0.041574892524366816,-0.008477632050467736,-0.06168214304615052,-0.11926618117989601,-0.1806543857774247,-0.24523338619063953,-0.3123579303943921,-0.38135733213142164,-0.4515421721877422,-0.5222111868415352,-0.5926582746584493,-0.6621795516237301,-0.7300803841186183,-0.7956823294698565,-0.8583299147246161,-0.9173971859195681,-0.9722939624059781,-1.0224717337396545,-1.0674291402159977,-1.1067169822904388,-1.1399427088318044,-1.166774339363457,-1.186943781102483,-1.2002495076541568,-1.206558572597063,-1.205807937839791,-1.198005103476709,-1.1832280328494986,-1.1616243735632168,-1.133409982240232,-1.098866767752205,-1.058339874479833,-1.0122342337442822,-0.9985860780981893,-0.9960914191097391,-0.9898360341448245,-0.9823835738807246,-0.9711960824085637,-0.958859889252202,-0.9428526699756739,-0.9257553504313959,-0.9050891963704089,-0.8834006765060753,-0.8582831798266348,-0.8322190164195316,-0.8029024831639204,-0.7727217213351418,-0.7395006369998081,-0.7055032356295566,-0.6687113070490603,-0.6312351575610368,-0.5912419608124289,-0.5506595289568585,-0.5078667969563858,-0.46458142096816635,-0.4194190080515254,-0.37386088997516503,-0.3267824539972113,-0.2794043840197541,-0.23088282934711415,-0.1821556856338299,-0.13267841280570317,-0.08308648156451304,-0.03316094867560034],\\\"type\\\":\\\"scatter\\\",\\\"name\\\":\\\"envelope\\\",\\\"x\\\":[1.0,1.047418790962427,1.0893679543181516,1.125428347893473,1.1552396681557677,1.178504050247288,1.1949890441523567,1.2045299372610896,1.2070314001233442,1.2024684389490738,1.1908866453380182,1.1724017407435063,1.1471984202219498,1.1155285070208905,1.0777084364443505,1.0341160941358787,0.9851870403701082,0.931410158078472,0.8733227680925539,0.8115052604119555,0.7465752951392698,0.6791816310245081,0.6099976432821221,0.5397145954484479,0.4690347325049524,0.39866426427851137,0.3293063092262584,0.2616538691083843,0.19638290474362324,0.1341455820321957,0.07556375572971089,0.02122275608000551,-0.02919328908964114,-0.07908684288781058,-0.12881769583538694,-0.1781679540943826,-0.22715606740393743,-0.275467305231034,-0.323225799109613,-0.37001272860492534,-0.41606694413511236,-0.4608595891237784,-0.5047518057733642,-0.5471002227309669,-0.5883942075163019,-0.6278730052656926,-0.6661583483557735,-0.7023709611347922,-0.737267154805654,-0.7698498257826549,-0.8010100461824063,-0.8296354814050457,-0.8567500355435828,-0.881130691616839,-0.9039300953215125,-0.9238210677901122,-0.942078724036366,-0.9572802074577227,-0.9708146584554848,-0.9811739534516384,-0.9898506841045842,-0.9952637312322443,-0.9989965060458391,-1.0083362684338828,-1.0548670618043434,-1.0958538069079196,-1.130886977735954,-1.159616534425959,-1.1817554207442167,-1.1970824322567786,-1.2054444265310469,-1.2067578532843413,-1.201009589190704,-1.1882570690048349,-1.1686277116930086,-1.1423176473048824,-1.109589757306871,-1.0707710479574326,-1.0262493829686268,-0.9764696081001175,-0.9219291064073842,-0.8631728285546476,-0.8007878478479682,-0.7353974943928362,-0.6676551269857974,-0.5982376049693333,-0.5278385252770504,-0.4571612922423911,-0.38691208941505284,-0.31779282360838623,-0.2504941116785398,-0.18568838010912012,-0.12402314634804099,-0.06611454902722912,-0.012541191709075644,0.03757556023090465,0.08749255475630065,0.1370787173415201,0.18649926285693913,0.23521022051070964,0.28364313942709934,0.3309895890513355,0.3779535195755907,0.4234598645981768,0.4684880448603721,0.5116971726176573,0.5543420796930981,0.5948199531409429,0.6346577508610107,0.6719977684905156,0.7086325198366986,0.7424595999991195,0.7755272022143523,0.8055015508280291,0.834673354135321,0.8604938779278937,0.885479951890775,0.9068872828905498,0.9274392979518541,0.9442183988472183,0.96013209440738,0.9721144186033448,0.9832316331086547,0.9902968177826893,0.9965070606470341,0.9988991395892903]}],{\\\"xaxis\\\":{\\\"range\\\":[-2,2]},\\\"template\\\":{\\\"layout\\\":{\\\"coloraxis\\\":{\\\"colorbar\\\":{\\\"ticks\\\":\\\"\\\",\\\"outlinewidth\\\":0}},\\\"xaxis\\\":{\\\"gridcolor\\\":\\\"white\\\",\\\"zerolinewidth\\\":2,\\\"title\\\":{\\\"standoff\\\":15},\\\"ticks\\\":\\\"\\\",\\\"zerolinecolor\\\":\\\"white\\\",\\\"automargin\\\":true,\\\"linecolor\\\":\\\"white\\\"},\\\"hovermode\\\":\\\"closest\\\",\\\"paper_bgcolor\\\":\\\"white\\\",\\\"geo\\\":{\\\"showlakes\\\":true,\\\"showland\\\":true,\\\"landcolor\\\":\\\"#E5ECF6\\\",\\\"bgcolor\\\":\\\"white\\\",\\\"subunitcolor\\\":\\\"white\\\",\\\"lakecolor\\\":\\\"white\\\"},\\\"colorscale\\\":{\\\"sequential\\\":[[0.0,\\\"#0d0887\\\"],[0.1111111111111111,\\\"#46039f\\\"],[0.2222222222222222,\\\"#7201a8\\\"],[0.3333333333333333,\\\"#9c179e\\\"],[0.4444444444444444,\\\"#bd3786\\\"],[0.5555555555555556,\\\"#d8576b\\\"],[0.6666666666666666,\\\"#ed7953\\\"],[0.7777777777777778,\\\"#fb9f3a\\\"],[0.8888888888888888,\\\"#fdca26\\\"],[1.0,\\\"#f0f921\\\"]],\\\"diverging\\\":[[0,\\\"#8e0152\\\"],[0.1,\\\"#c51b7d\\\"],[0.2,\\\"#de77ae\\\"],[0.3,\\\"#f1b6da\\\"],[0.4,\\\"#fde0ef\\\"],[0.5,\\\"#f7f7f7\\\"],[0.6,\\\"#e6f5d0\\\"],[0.7,\\\"#b8e186\\\"],[0.8,\\\"#7fbc41\\\"],[0.9,\\\"#4d9221\\\"],[1,\\\"#276419\\\"]],\\\"sequentialminus\\\":[[0.0,\\\"#0d0887\\\"],[0.1111111111111111,\\\"#46039f\\\"],[0.2222222222222222,\\\"#7201a8\\\"],[0.3333333333333333,\\\"#9c179e\\\"],[0.4444444444444444,\\\"#bd3786\\\"],[0.5555555555555556,\\\"#d8576b\\\"],[0.6666666666666666,\\\"#ed7953\\\"],[0.7777777777777778,\\\"#fb9f3a\\\"],[0.8888888888888888,\\\"#fdca26\\\"],[1.0,\\\"#f0f921\\\"]]},\\\"yaxis\\\":{\\\"gridcolor\\\":\\\"white\\\",\\\"zerolinewidth\\\":2,\\\"title\\\":{\\\"standoff\\\":15},\\\"ticks\\\":\\\"\\\",\\\"zerolinecolor\\\":\\\"white\\\",\\\"automargin\\\":true,\\\"linecolor\\\":\\\"white\\\"},\\\"shapedefaults\\\":{\\\"line\\\":{\\\"color\\\":\\\"#2a3f5f\\\"}},\\\"hoverlabel\\\":{\\\"align\\\":\\\"left\\\"},\\\"mapbox\\\":{\\\"style\\\":\\\"light\\\"},\\\"polar\\\":{\\\"angularaxis\\\":{\\\"gridcolor\\\":\\\"white\\\",\\\"ticks\\\":\\\"\\\",\\\"linecolor\\\":\\\"white\\\"},\\\"bgcolor\\\":\\\"#E5ECF6\\\",\\\"radialaxis\\\":{\\\"gridcolor\\\":\\\"white\\\",\\\"ticks\\\":\\\"\\\",\\\"linecolor\\\":\\\"white\\\"}},\\\"autotypenumbers\\\":\\\"strict\\\",\\\"font\\\":{\\\"color\\\":\\\"#2a3f5f\\\"},\\\"ternary\\\":{\\\"baxis\\\":{\\\"gridcolor\\\":\\\"white\\\",\\\"ticks\\\":\\\"\\\",\\\"linecolor\\\":\\\"white\\\"},\\\"bgcolor\\\":\\\"#E5ECF6\\\",\\\"caxis\\\":{\\\"gridcolor\\\":\\\"white\\\",\\\"ticks\\\":\\\"\\\",\\\"linecolor\\\":\\\"white\\\"},\\\"aaxis\\\":{\\\"gridcolor\\\":\\\"white\\\",\\\"ticks\\\":\\\"\\\",\\\"linecolor\\\":\\\"white\\\"}},\\\"annotationdefaults\\\":{\\\"arrowhead\\\":0,\\\"arrowwidth\\\":1,\\\"arrowcolor\\\":\\\"#2a3f5f\\\"},\\\"plot_bgcolor\\\":\\\"#E5ECF6\\\",\\\"title\\\":{\\\"x\\\":0.05},\\\"scene\\\":{\\\"xaxis\\\":{\\\"gridcolor\\\":\\\"white\\\",\\\"gridwidth\\\":2,\\\"backgroundcolor\\\":\\\"#E5ECF6\\\",\\\"ticks\\\":\\\"\\\",\\\"showbackground\\\":true,\\\"zerolinecolor\\\":\\\"white\\\",\\\"linecolor\\\":\\\"white\\\"},\\\"zaxis\\\":{\\\"gridcolor\\\":\\\"white\\\",\\\"gridwidth\\\":2,\\\"backgroundcolor\\\":\\\"#E5ECF6\\\",\\\"ticks\\\":\\\"\\\",\\\"showbackground\\\":true,\\\"zerolinecolor\\\":\\\"white\\\",\\\"linecolor\\\":\\\"white\\\"},\\\"yaxis\\\":{\\\"gridcolor\\\":\\\"white\\\",\\\"gridwidth\\\":2,\\\"backgroundcolor\\\":\\\"#E5ECF6\\\",\\\"ticks\\\":\\\"\\\",\\\"showbackground\\\":true,\\\"zerolinecolor\\\":\\\"white\\\",\\\"linecolor\\\":\\\"white\\\"}},\\\"colorway\\\":[\\\"#636efa\\\",\\\"#EF553B\\\",\\\"#00cc96\\\",\\\"#ab63fa\\\",\\\"#FFA15A\\\",\\\"#19d3f3\\\",\\\"#FF6692\\\",\\\"#B6E880\\\",\\\"#FF97FF\\\",\\\"#FECB52\\\"]},\\\"data\\\":{\\\"barpolar\\\":[{\\\"type\\\":\\\"barpolar\\\",\\\"marker\\\":{\\\"line\\\":{\\\"color\\\":\\\"#E5ECF6\\\",\\\"width\\\":0.5}}}],\\\"carpet\\\":[{\\\"aaxis\\\":{\\\"gridcolor\\\":\\\"white\\\",\\\"endlinecolor\\\":\\\"#2a3f5f\\\",\\\"minorgridcolor\\\":\\\"white\\\",\\\"startlinecolor\\\":\\\"#2a3f5f\\\",\\\"linecolor\\\":\\\"white\\\"},\\\"type\\\":\\\"carpet\\\",\\\"baxis\\\":{\\\"gridcolor\\\":\\\"white\\\",\\\"endlinecolor\\\":\\\"#2a3f5f\\\",\\\"minorgridcolor\\\":\\\"white\\\",\\\"startlinecolor\\\":\\\"#2a3f5f\\\",\\\"linecolor\\\":\\\"white\\\"}}],\\\"scatterpolar\\\":[{\\\"type\\\":\\\"scatterpolar\\\",\\\"marker\\\":{\\\"colorbar\\\":{\\\"ticks\\\":\\\"\\\",\\\"outlinewidth\\\":0}}}],\\\"parcoords\\\":[{\\\"line\\\":{\\\"colorbar\\\":{\\\"ticks\\\":\\\"\\\",\\\"outlinewidth\\\":0}},\\\"type\\\":\\\"parcoords\\\"}],\\\"scatter\\\":[{\\\"type\\\":\\\"scatter\\\",\\\"marker\\\":{\\\"colorbar\\\":{\\\"ticks\\\":\\\"\\\",\\\"outlinewidth\\\":0}}}],\\\"histogram2dcontour\\\":[{\\\"colorbar\\\":{\\\"ticks\\\":\\\"\\\",\\\"outlinewidth\\\":0},\\\"type\\\":\\\"histogram2dcontour\\\",\\\"colorscale\\\":[[0.0,\\\"#0d0887\\\"],[0.1111111111111111,\\\"#46039f\\\"],[0.2222222222222222,\\\"#7201a8\\\"],[0.3333333333333333,\\\"#9c179e\\\"],[0.4444444444444444,\\\"#bd3786\\\"],[0.5555555555555556,\\\"#d8576b\\\"],[0.6666666666666666,\\\"#ed7953\\\"],[0.7777777777777778,\\\"#fb9f3a\\\"],[0.8888888888888888,\\\"#fdca26\\\"],[1.0,\\\"#f0f921\\\"]]}],\\\"contour\\\":[{\\\"colorbar\\\":{\\\"ticks\\\":\\\"\\\",\\\"outlinewidth\\\":0},\\\"type\\\":\\\"contour\\\",\\\"colorscale\\\":[[0.0,\\\"#0d0887\\\"],[0.1111111111111111,\\\"#46039f\\\"],[0.2222222222222222,\\\"#7201a8\\\"],[0.3333333333333333,\\\"#9c179e\\\"],[0.4444444444444444,\\\"#bd3786\\\"],[0.5555555555555556,\\\"#d8576b\\\"],[0.6666666666666666,\\\"#ed7953\\\"],[0.7777777777777778,\\\"#fb9f3a\\\"],[0.8888888888888888,\\\"#fdca26\\\"],[1.0,\\\"#f0f921\\\"]]}],\\\"scattercarpet\\\":[{\\\"type\\\":\\\"scattercarpet\\\",\\\"marker\\\":{\\\"colorbar\\\":{\\\"ticks\\\":\\\"\\\",\\\"outlinewidth\\\":0}}}],\\\"mesh3d\\\":[{\\\"colorbar\\\":{\\\"ticks\\\":\\\"\\\",\\\"outlinewidth\\\":0},\\\"type\\\":\\\"mesh3d\\\"}],\\\"surface\\\":[{\\\"colorbar\\\":{\\\"ticks\\\":\\\"\\\",\\\"outlinewidth\\\":0},\\\"type\\\":\\\"surface\\\",\\\"colorscale\\\":[[0.0,\\\"#0d0887\\\"],[0.1111111111111111,\\\"#46039f\\\"],[0.2222222222222222,\\\"#7201a8\\\"],[0.3333333333333333,\\\"#9c179e\\\"],[0.4444444444444444,\\\"#bd3786\\\"],[0.5555555555555556,\\\"#d8576b\\\"],[0.6666666666666666,\\\"#ed7953\\\"],[0.7777777777777778,\\\"#fb9f3a\\\"],[0.8888888888888888,\\\"#fdca26\\\"],[1.0,\\\"#f0f921\\\"]]}],\\\"scattermapbox\\\":[{\\\"type\\\":\\\"scattermapbox\\\",\\\"marker\\\":{\\\"colorbar\\\":{\\\"ticks\\\":\\\"\\\",\\\"outlinewidth\\\":0}}}],\\\"scattergeo\\\":[{\\\"type\\\":\\\"scattergeo\\\",\\\"marker\\\":{\\\"colorbar\\\":{\\\"ticks\\\":\\\"\\\",\\\"outlinewidth\\\":0}}}],\\\"histogram\\\":[{\\\"type\\\":\\\"histogram\\\",\\\"marker\\\":{\\\"colorbar\\\":{\\\"ticks\\\":\\\"\\\",\\\"outlinewidth\\\":0}}}],\\\"pie\\\":[{\\\"type\\\":\\\"pie\\\",\\\"automargin\\\":true}],\\\"choropleth\\\":[{\\\"colorbar\\\":{\\\"ticks\\\":\\\"\\\",\\\"outlinewidth\\\":0},\\\"type\\\":\\\"choropleth\\\"}],\\\"heatmapgl\\\":[{\\\"colorbar\\\":{\\\"ticks\\\":\\\"\\\",\\\"outlinewidth\\\":0},\\\"type\\\":\\\"heatmapgl\\\",\\\"colorscale\\\":[[0.0,\\\"#0d0887\\\"],[0.1111111111111111,\\\"#46039f\\\"],[0.2222222222222222,\\\"#7201a8\\\"],[0.3333333333333333,\\\"#9c179e\\\"],[0.4444444444444444,\\\"#bd3786\\\"],[0.5555555555555556,\\\"#d8576b\\\"],[0.6666666666666666,\\\"#ed7953\\\"],[0.7777777777777778,\\\"#fb9f3a\\\"],[0.8888888888888888,\\\"#fdca26\\\"],[1.0,\\\"#f0f921\\\"]]}],\\\"bar\\\":[{\\\"type\\\":\\\"bar\\\",\\\"error_y\\\":{\\\"color\\\":\\\"#2a3f5f\\\"},\\\"error_x\\\":{\\\"color\\\":\\\"#2a3f5f\\\"},\\\"marker\\\":{\\\"line\\\":{\\\"color\\\":\\\"#E5ECF6\\\",\\\"width\\\":0.5}}}],\\\"heatmap\\\":[{\\\"colorbar\\\":{\\\"ticks\\\":\\\"\\\",\\\"outlinewidth\\\":0},\\\"type\\\":\\\"heatmap\\\",\\\"colorscale\\\":[[0.0,\\\"#0d0887\\\"],[0.1111111111111111,\\\"#46039f\\\"],[0.2222222222222222,\\\"#7201a8\\\"],[0.3333333333333333,\\\"#9c179e\\\"],[0.4444444444444444,\\\"#bd3786\\\"],[0.5555555555555556,\\\"#d8576b\\\"],[0.6666666666666666,\\\"#ed7953\\\"],[0.7777777777777778,\\\"#fb9f3a\\\"],[0.8888888888888888,\\\"#fdca26\\\"],[1.0,\\\"#f0f921\\\"]]}],\\\"contourcarpet\\\":[{\\\"colorbar\\\":{\\\"ticks\\\":\\\"\\\",\\\"outlinewidth\\\":0},\\\"type\\\":\\\"contourcarpet\\\"}],\\\"table\\\":[{\\\"type\\\":\\\"table\\\",\\\"header\\\":{\\\"line\\\":{\\\"color\\\":\\\"white\\\"},\\\"fill\\\":{\\\"color\\\":\\\"#C8D4E3\\\"}},\\\"cells\\\":{\\\"line\\\":{\\\"color\\\":\\\"white\\\"},\\\"fill\\\":{\\\"color\\\":\\\"#EBF0F8\\\"}}}],\\\"scatter3d\\\":[{\\\"line\\\":{\\\"colorbar\\\":{\\\"ticks\\\":\\\"\\\",\\\"outlinewidth\\\":0}},\\\"type\\\":\\\"scatter3d\\\",\\\"marker\\\":{\\\"colorbar\\\":{\\\"ticks\\\":\\\"\\\",\\\"outlinewidth\\\":0}}}],\\\"scattergl\\\":[{\\\"type\\\":\\\"scattergl\\\",\\\"marker\\\":{\\\"colorbar\\\":{\\\"ticks\\\":\\\"\\\",\\\"outlinewidth\\\":0}}}],\\\"histogram2d\\\":[{\\\"colorbar\\\":{\\\"ticks\\\":\\\"\\\",\\\"outlinewidth\\\":0},\\\"type\\\":\\\"histogram2d\\\",\\\"colorscale\\\":[[0.0,\\\"#0d0887\\\"],[0.1111111111111111,\\\"#46039f\\\"],[0.2222222222222222,\\\"#7201a8\\\"],[0.3333333333333333,\\\"#9c179e\\\"],[0.4444444444444444,\\\"#bd3786\\\"],[0.5555555555555556,\\\"#d8576b\\\"],[0.6666666666666666,\\\"#ed7953\\\"],[0.7777777777777778,\\\"#fb9f3a\\\"],[0.8888888888888888,\\\"#fdca26\\\"],[1.0,\\\"#f0f921\\\"]]}],\\\"scatterternary\\\":[{\\\"type\\\":\\\"scatterternary\\\",\\\"marker\\\":{\\\"colorbar\\\":{\\\"ticks\\\":\\\"\\\",\\\"outlinewidth\\\":0}}}],\\\"scatterpolargl\\\":[{\\\"type\\\":\\\"scatterpolargl\\\",\\\"marker\\\":{\\\"colorbar\\\":{\\\"ticks\\\":\\\"\\\",\\\"outlinewidth\\\":0}}}]}},\\\"height\\\":600,\\\"margin\\\":{\\\"l\\\":50,\\\"b\\\":50,\\\"r\\\":50,\\\"t\\\":60},\\\"yaxis\\\":{\\\"range\\\":[-2,2]},\\\"width\\\":600},{\\\"showLink\\\":false,\\\"editable\\\":false,\\\"responsive\\\":true,\\\"staticPlot\\\":false,\\\"scrollZoom\\\":true}); gd.on(\\\"plotly_hover\\\",(function (data){var filtered_data=WebIO.PlotlyCommands.filterEventData(gd,data,\\\"hover\\\"); return !(filtered_data.isnil) ? (WebIO.setval({\\\"name\\\":\\\"hover\\\",\\\"scope\\\":\\\"6319857370116018204\\\",\\\"id\\\":\\\"3893095241421460752\\\",\\\"type\\\":\\\"observable\\\"},filtered_data.out)) : undefined})); gd.on(\\\"plotly_unhover\\\",(function (){return WebIO.setval({\\\"name\\\":\\\"hover\\\",\\\"scope\\\":\\\"6319857370116018204\\\",\\\"id\\\":\\\"3893095241421460752\\\",\\\"type\\\":\\\"observable\\\"},{})})); gd.on(\\\"plotly_selected\\\",(function (data){var filtered_data=WebIO.PlotlyCommands.filterEventData(gd,data,\\\"selected\\\"); return !(filtered_data.isnil) ? (WebIO.setval({\\\"name\\\":\\\"selected\\\",\\\"scope\\\":\\\"6319857370116018204\\\",\\\"id\\\":\\\"1019788569615566257\\\",\\\"type\\\":\\\"observable\\\"},filtered_data.out)) : undefined})); gd.on(\\\"plotly_deselect\\\",(function (){return WebIO.setval({\\\"name\\\":\\\"selected\\\",\\\"scope\\\":\\\"6319857370116018204\\\",\\\"id\\\":\\\"1019788569615566257\\\",\\\"type\\\":\\\"observable\\\"},{})})); gd.on(\\\"plotly_relayout\\\",(function (data){var filtered_data=WebIO.PlotlyCommands.filterEventData(gd,data,\\\"relayout\\\"); return !(filtered_data.isnil) ? (WebIO.setval({\\\"name\\\":\\\"relayout\\\",\\\"scope\\\":\\\"6319857370116018204\\\",\\\"id\\\":\\\"16773434121361848493\\\",\\\"type\\\":\\\"observable\\\"},filtered_data.out)) : undefined})); return gd.on(\\\"plotly_click\\\",(function (data){var filtered_data=WebIO.PlotlyCommands.filterEventData(gd,data,\\\"click\\\"); return !(filtered_data.isnil) ? (WebIO.setval({\\\"name\\\":\\\"click\\\",\\\"scope\\\":\\\"6319857370116018204\\\",\\\"id\\\":\\\"8219536858645093560\\\",\\\"type\\\":\\\"observable\\\"},filtered_data.out)) : undefined}))}));\\n    (WebIO.importBlock({\\\"data\\\":[{\\\"name\\\":\\\"Plotly\\\",\\\"type\\\":\\\"js\\\",\\\"url\\\":\\\"\\/assetserver\\/d66a736669047bda0b2d00471bd5207a90cf3193-plotly.min.js\\\"},{\\\"name\\\":null,\\\"type\\\":\\\"js\\\",\\\"url\\\":\\\"\\/assetserver\\/aee3160e397a4905b07437c5af565305d1ef6def-plotly_webio.bundle.js\\\"}],\\\"type\\\":\\\"async_block\\\"})).then((imports) => handler.apply(this, imports));\\n}\\n\"],\"observables\":{\"_toImage\":{\"sync\":false,\"id\":\"13966413644813449945\",\"value\":{}},\"hover\":{\"sync\":false,\"id\":\"3893095241421460752\",\"value\":{}},\"selected\":{\"sync\":false,\"id\":\"1019788569615566257\",\"value\":{}},\"__gd_contents\":{\"sync\":false,\"id\":\"17171396202679963256\",\"value\":{}},\"click\":{\"sync\":false,\"id\":\"8219536858645093560\",\"value\":{}},\"image\":{\"sync\":true,\"id\":\"8219044453529207322\",\"value\":\"\"},\"__get_gd_contents\":{\"sync\":false,\"id\":\"664210314368323393\",\"value\":\"\"},\"_downloadImage\":{\"sync\":false,\"id\":\"16056187083098398562\",\"value\":{}},\"relayout\":{\"sync\":false,\"id\":\"16773434121361848493\",\"value\":{}},\"_commands\":{\"sync\":false,\"id\":\"11263751302271890128\",\"value\":[]}}},\"children\":[{\"props\":{\"id\":\"plot-7ec391ab-aa28-446d-bbe6-23e75e691359\"},\"nodeType\":\"DOM\",\"type\":\"node\",\"instanceArgs\":{\"namespace\":\"html\",\"tag\":\"div\"},\"children\":[]}]},\n",
       "        window,\n",
       "    );\n",
       "    })()\n",
       "    </script>\n",
       "</div>\n"
      ],
      "text/plain": [
       "data: [\n",
       "  \"scatter with fields type, x, and y\",\n",
       "  \"scatter with fields type, x, and y\",\n",
       "  \"scatter with fields type, x, and y\",\n",
       "  \"scatter with fields type, x, and y\",\n",
       "  \"scatter with fields name, type, x, and y\"\n",
       "]\n",
       "\n",
       "layout: \"layout with fields height, margin, template, width, xaxis, and yaxis\"\n",
       "\n"
      ]
     },
     "execution_count": 15,
     "metadata": {},
     "output_type": "execute_result"
    }
   ],
   "source": [
    "D = D1 ⋄ D2 ⋄ D3\n",
    "\n",
    "pD = plotgeometry(D)\n",
    "pe = plotenvelope(D)\n",
    "\n",
    "plot(vcat(pD,pe), layout)"
   ]
  },
  {
   "cell_type": "markdown",
   "id": "56bf9190-9940-4e40-9ff6-8017226df988",
   "metadata": {},
   "source": [
    "## 3. Trace\n",
    "\n",
    "The trace is in a sense the dual of an evelope. The trace is the smallest distance from a point until the geometric object."
   ]
  },
  {
   "cell_type": "code",
   "execution_count": 16,
   "id": "70132b7e-b06a-4579-9974-d853d37ee03d",
   "metadata": {},
   "outputs": [
    {
     "data": {
      "text/plain": [
       "trace (generic function with 1 method)"
      ]
     },
     "execution_count": 16,
     "metadata": {},
     "output_type": "execute_result"
    }
   ],
   "source": [
    "function traceG(g::AbstractGeometry, v)\n",
    "    ρ = mapreduce(norm, max, coordinates(g))\n",
    "    v = normalize(v)\n",
    "    ray = ρ*v\n",
    "    ray = Line(Point(0.0,0.0),Point(ray...))\n",
    "    \n",
    "    # Collecting line segments of geometry\n",
    "    pts = collect(coordinates(g))\n",
    "    L = length(pts)\n",
    "    pts = push!(pts,pts[1])\n",
    "\n",
    "    lines = []\n",
    "    for i in 1:L\n",
    "        push!(lines,Line(pts[i], pts[i + 1]))\n",
    "    end\n",
    "    \n",
    "    inter = map(x->intersects(x,ray),lines)\n",
    "    if mapreduce(x->x[1], +, inter) == 0 return Inf end\n",
    "    \n",
    "    mapreduce(x-> !x[1] ? Inf : norm(x[2]), min, inter)\n",
    "end\n",
    "\n",
    "function traceP(p::Primitive1, v)\n",
    "    traceG(p.g,v)\n",
    "end\n",
    "\n",
    "function trace(D::DiagramDual, v)\n",
    "    mapreduce(x->traceP(x,v),min,D.p)\n",
    "end"
   ]
  },
  {
   "cell_type": "code",
   "execution_count": 17,
   "id": "8d3234ae-d1cf-47fa-9e94-3f2db157f72a",
   "metadata": {},
   "outputs": [
    {
     "data": {
      "application/vnd.plotly.v1+json": {
       "config": {
        "editable": false,
        "responsive": true,
        "scrollZoom": true,
        "showLink": false,
        "staticPlot": false
       },
       "data": [
        {
         "type": "scatter",
         "x": [
          2,
          2.7071067811865475,
          2,
          2
         ],
         "y": [
          4,
          4.707106781186548,
          5.414213562373095,
          4
         ]
        },
        {
         "type": "scatter",
         "x": [
          2,
          1.2928932188134525,
          2,
          2.7071067811865475,
          2
         ],
         "y": [
          4.707106781186548,
          4,
          3.2928932188134525,
          4,
          4.707106781186548
         ]
        },
        {
         "type": "scatter",
         "x": [
          3,
          2.800864306808367,
          2.6037077136012052,
          2.4104896511781924,
          2.2231304074506113,
          2.0434920427573635,
          1.8733598838727568,
          1.7144247806269215,
          1.5682663014805633,
          1.4363370350639406,
          1.319948153698457,
          1.2202563823770631,
          1.138252502711592,
          1.0747515060999762,
          1.030384493975584,
          1.0055924056376397,
          1.0006216359983675,
          1.0155215867996557,
          1.0501441756363528,
          1.1041453076657366,
          1.1769882953766535,
          1.267949192431122,
          1.3761239885682865,
          1.5004375940645316,
          1.6396545244581604,
          1.7923911793490437,
          1.9571295932410029,
          2.1322325217648834,
          2.3159597133486627,
          2.506485204619412,
          2.7019154676476496,
          2.900308228678605,
          3.0996917713213943,
          3.2980845323523496,
          3.493514795380585,
          3.684040286651336,
          3.8677674782351157,
          4.042870406758997,
          4.207608820650954,
          4.3603454755418385,
          4.4995624059354675,
          4.623876011431713,
          4.732050807568877,
          4.823011704623346,
          4.895854692334263,
          4.949855824363647,
          4.984478413200344,
          4.9993783640016325,
          4.994407594362361,
          4.969615506024416,
          4.925248493900025,
          4.86174749728841,
          4.779743617622938,
          4.680051846301543,
          4.56366296493606,
          4.431733698519436,
          4.285575219373078,
          4.126640116127243,
          3.9565079572426374,
          3.7768695925493896,
          3.589510348821811,
          3.3962922863987974,
          3.199135693191635,
          3.000000000000001,
          3
         ],
         "y": [
          2,
          2.009938449269197,
          2.0396550243029123,
          2.0888543884277184,
          2.1570475762591848,
          2.243556853259543,
          2.3475224513680097,
          2.4679111137620438,
          2.603526363827854,
          2.7530203962825324,
          2.9149074722684816,
          3.0875786852936735,
          3.2693179512672086,
          3.458319063713989,
          3.6527036446661394,
          3.8505398128271504,
          4.049861383476146,
          4.248687409294969,
          4.445041867912629,
          4.636973300503369,
          4.822574206261223,
          4.999999999999998,
          5.1674873444695795,
          5.323371675193719,
          5.466103743659652,
          5.594265014445844,
          5.70658176326431,
          5.801937735804838,
          5.879385241571817,
          5.9381545724581555,
          5.977661652450257,
          5.9975138424378445,
          5.9975138424378445,
          5.977661652450257,
          5.938154572458156,
          5.879385241571818,
          5.801937735804838,
          5.706581763264311,
          5.5942650144458455,
          5.4661037436596525,
          5.3233716751937195,
          5.1674873444695795,
          5.000000000000001,
          4.822574206261224,
          4.63697330050337,
          4.44504186791263,
          4.248687409294972,
          4.049861383476147,
          3.8505398128271535,
          3.6527036446661403,
          3.4583190637139936,
          3.2693179512672126,
          3.087578685293676,
          2.9149074722684825,
          2.7530203962825333,
          2.6035263638278545,
          2.4679111137620433,
          2.3475224513680093,
          2.2435568532595433,
          2.1570475762591848,
          2.0888543884277198,
          2.039655024302913,
          2.0099384492691974,
          2,
          2
         ]
        },
        {
         "type": "scatter",
         "x": [
          0,
          1.401050493462196,
          0
         ],
         "y": [
          0,
          2.802100986924392,
          0
         ]
        }
       ],
       "frames": [],
       "layout": {
        "height": 600,
        "margin": {
         "b": 50,
         "l": 50,
         "r": 50,
         "t": 60
        },
        "template": {
         "data": {
          "bar": [
           {
            "error_x": {
             "color": "#2a3f5f"
            },
            "error_y": {
             "color": "#2a3f5f"
            },
            "marker": {
             "line": {
              "color": "#E5ECF6",
              "width": 0.5
             }
            },
            "type": "bar"
           }
          ],
          "barpolar": [
           {
            "marker": {
             "line": {
              "color": "#E5ECF6",
              "width": 0.5
             }
            },
            "type": "barpolar"
           }
          ],
          "carpet": [
           {
            "aaxis": {
             "endlinecolor": "#2a3f5f",
             "gridcolor": "white",
             "linecolor": "white",
             "minorgridcolor": "white",
             "startlinecolor": "#2a3f5f"
            },
            "baxis": {
             "endlinecolor": "#2a3f5f",
             "gridcolor": "white",
             "linecolor": "white",
             "minorgridcolor": "white",
             "startlinecolor": "#2a3f5f"
            },
            "type": "carpet"
           }
          ],
          "choropleth": [
           {
            "colorbar": {
             "outlinewidth": 0,
             "ticks": ""
            },
            "type": "choropleth"
           }
          ],
          "contour": [
           {
            "colorbar": {
             "outlinewidth": 0,
             "ticks": ""
            },
            "colorscale": [
             [
              0,
              "#0d0887"
             ],
             [
              0.1111111111111111,
              "#46039f"
             ],
             [
              0.2222222222222222,
              "#7201a8"
             ],
             [
              0.3333333333333333,
              "#9c179e"
             ],
             [
              0.4444444444444444,
              "#bd3786"
             ],
             [
              0.5555555555555556,
              "#d8576b"
             ],
             [
              0.6666666666666666,
              "#ed7953"
             ],
             [
              0.7777777777777778,
              "#fb9f3a"
             ],
             [
              0.8888888888888888,
              "#fdca26"
             ],
             [
              1,
              "#f0f921"
             ]
            ],
            "type": "contour"
           }
          ],
          "contourcarpet": [
           {
            "colorbar": {
             "outlinewidth": 0,
             "ticks": ""
            },
            "type": "contourcarpet"
           }
          ],
          "heatmap": [
           {
            "colorbar": {
             "outlinewidth": 0,
             "ticks": ""
            },
            "colorscale": [
             [
              0,
              "#0d0887"
             ],
             [
              0.1111111111111111,
              "#46039f"
             ],
             [
              0.2222222222222222,
              "#7201a8"
             ],
             [
              0.3333333333333333,
              "#9c179e"
             ],
             [
              0.4444444444444444,
              "#bd3786"
             ],
             [
              0.5555555555555556,
              "#d8576b"
             ],
             [
              0.6666666666666666,
              "#ed7953"
             ],
             [
              0.7777777777777778,
              "#fb9f3a"
             ],
             [
              0.8888888888888888,
              "#fdca26"
             ],
             [
              1,
              "#f0f921"
             ]
            ],
            "type": "heatmap"
           }
          ],
          "heatmapgl": [
           {
            "colorbar": {
             "outlinewidth": 0,
             "ticks": ""
            },
            "colorscale": [
             [
              0,
              "#0d0887"
             ],
             [
              0.1111111111111111,
              "#46039f"
             ],
             [
              0.2222222222222222,
              "#7201a8"
             ],
             [
              0.3333333333333333,
              "#9c179e"
             ],
             [
              0.4444444444444444,
              "#bd3786"
             ],
             [
              0.5555555555555556,
              "#d8576b"
             ],
             [
              0.6666666666666666,
              "#ed7953"
             ],
             [
              0.7777777777777778,
              "#fb9f3a"
             ],
             [
              0.8888888888888888,
              "#fdca26"
             ],
             [
              1,
              "#f0f921"
             ]
            ],
            "type": "heatmapgl"
           }
          ],
          "histogram": [
           {
            "marker": {
             "colorbar": {
              "outlinewidth": 0,
              "ticks": ""
             }
            },
            "type": "histogram"
           }
          ],
          "histogram2d": [
           {
            "colorbar": {
             "outlinewidth": 0,
             "ticks": ""
            },
            "colorscale": [
             [
              0,
              "#0d0887"
             ],
             [
              0.1111111111111111,
              "#46039f"
             ],
             [
              0.2222222222222222,
              "#7201a8"
             ],
             [
              0.3333333333333333,
              "#9c179e"
             ],
             [
              0.4444444444444444,
              "#bd3786"
             ],
             [
              0.5555555555555556,
              "#d8576b"
             ],
             [
              0.6666666666666666,
              "#ed7953"
             ],
             [
              0.7777777777777778,
              "#fb9f3a"
             ],
             [
              0.8888888888888888,
              "#fdca26"
             ],
             [
              1,
              "#f0f921"
             ]
            ],
            "type": "histogram2d"
           }
          ],
          "histogram2dcontour": [
           {
            "colorbar": {
             "outlinewidth": 0,
             "ticks": ""
            },
            "colorscale": [
             [
              0,
              "#0d0887"
             ],
             [
              0.1111111111111111,
              "#46039f"
             ],
             [
              0.2222222222222222,
              "#7201a8"
             ],
             [
              0.3333333333333333,
              "#9c179e"
             ],
             [
              0.4444444444444444,
              "#bd3786"
             ],
             [
              0.5555555555555556,
              "#d8576b"
             ],
             [
              0.6666666666666666,
              "#ed7953"
             ],
             [
              0.7777777777777778,
              "#fb9f3a"
             ],
             [
              0.8888888888888888,
              "#fdca26"
             ],
             [
              1,
              "#f0f921"
             ]
            ],
            "type": "histogram2dcontour"
           }
          ],
          "mesh3d": [
           {
            "colorbar": {
             "outlinewidth": 0,
             "ticks": ""
            },
            "type": "mesh3d"
           }
          ],
          "parcoords": [
           {
            "line": {
             "colorbar": {
              "outlinewidth": 0,
              "ticks": ""
             }
            },
            "type": "parcoords"
           }
          ],
          "pie": [
           {
            "automargin": true,
            "type": "pie"
           }
          ],
          "scatter": [
           {
            "marker": {
             "colorbar": {
              "outlinewidth": 0,
              "ticks": ""
             }
            },
            "type": "scatter"
           }
          ],
          "scatter3d": [
           {
            "line": {
             "colorbar": {
              "outlinewidth": 0,
              "ticks": ""
             }
            },
            "marker": {
             "colorbar": {
              "outlinewidth": 0,
              "ticks": ""
             }
            },
            "type": "scatter3d"
           }
          ],
          "scattercarpet": [
           {
            "marker": {
             "colorbar": {
              "outlinewidth": 0,
              "ticks": ""
             }
            },
            "type": "scattercarpet"
           }
          ],
          "scattergeo": [
           {
            "marker": {
             "colorbar": {
              "outlinewidth": 0,
              "ticks": ""
             }
            },
            "type": "scattergeo"
           }
          ],
          "scattergl": [
           {
            "marker": {
             "colorbar": {
              "outlinewidth": 0,
              "ticks": ""
             }
            },
            "type": "scattergl"
           }
          ],
          "scattermapbox": [
           {
            "marker": {
             "colorbar": {
              "outlinewidth": 0,
              "ticks": ""
             }
            },
            "type": "scattermapbox"
           }
          ],
          "scatterpolar": [
           {
            "marker": {
             "colorbar": {
              "outlinewidth": 0,
              "ticks": ""
             }
            },
            "type": "scatterpolar"
           }
          ],
          "scatterpolargl": [
           {
            "marker": {
             "colorbar": {
              "outlinewidth": 0,
              "ticks": ""
             }
            },
            "type": "scatterpolargl"
           }
          ],
          "scatterternary": [
           {
            "marker": {
             "colorbar": {
              "outlinewidth": 0,
              "ticks": ""
             }
            },
            "type": "scatterternary"
           }
          ],
          "surface": [
           {
            "colorbar": {
             "outlinewidth": 0,
             "ticks": ""
            },
            "colorscale": [
             [
              0,
              "#0d0887"
             ],
             [
              0.1111111111111111,
              "#46039f"
             ],
             [
              0.2222222222222222,
              "#7201a8"
             ],
             [
              0.3333333333333333,
              "#9c179e"
             ],
             [
              0.4444444444444444,
              "#bd3786"
             ],
             [
              0.5555555555555556,
              "#d8576b"
             ],
             [
              0.6666666666666666,
              "#ed7953"
             ],
             [
              0.7777777777777778,
              "#fb9f3a"
             ],
             [
              0.8888888888888888,
              "#fdca26"
             ],
             [
              1,
              "#f0f921"
             ]
            ],
            "type": "surface"
           }
          ],
          "table": [
           {
            "cells": {
             "fill": {
              "color": "#EBF0F8"
             },
             "line": {
              "color": "white"
             }
            },
            "header": {
             "fill": {
              "color": "#C8D4E3"
             },
             "line": {
              "color": "white"
             }
            },
            "type": "table"
           }
          ]
         },
         "layout": {
          "annotationdefaults": {
           "arrowcolor": "#2a3f5f",
           "arrowhead": 0,
           "arrowwidth": 1
          },
          "autotypenumbers": "strict",
          "coloraxis": {
           "colorbar": {
            "outlinewidth": 0,
            "ticks": ""
           }
          },
          "colorscale": {
           "diverging": [
            [
             0,
             "#8e0152"
            ],
            [
             0.1,
             "#c51b7d"
            ],
            [
             0.2,
             "#de77ae"
            ],
            [
             0.3,
             "#f1b6da"
            ],
            [
             0.4,
             "#fde0ef"
            ],
            [
             0.5,
             "#f7f7f7"
            ],
            [
             0.6,
             "#e6f5d0"
            ],
            [
             0.7,
             "#b8e186"
            ],
            [
             0.8,
             "#7fbc41"
            ],
            [
             0.9,
             "#4d9221"
            ],
            [
             1,
             "#276419"
            ]
           ],
           "sequential": [
            [
             0,
             "#0d0887"
            ],
            [
             0.1111111111111111,
             "#46039f"
            ],
            [
             0.2222222222222222,
             "#7201a8"
            ],
            [
             0.3333333333333333,
             "#9c179e"
            ],
            [
             0.4444444444444444,
             "#bd3786"
            ],
            [
             0.5555555555555556,
             "#d8576b"
            ],
            [
             0.6666666666666666,
             "#ed7953"
            ],
            [
             0.7777777777777778,
             "#fb9f3a"
            ],
            [
             0.8888888888888888,
             "#fdca26"
            ],
            [
             1,
             "#f0f921"
            ]
           ],
           "sequentialminus": [
            [
             0,
             "#0d0887"
            ],
            [
             0.1111111111111111,
             "#46039f"
            ],
            [
             0.2222222222222222,
             "#7201a8"
            ],
            [
             0.3333333333333333,
             "#9c179e"
            ],
            [
             0.4444444444444444,
             "#bd3786"
            ],
            [
             0.5555555555555556,
             "#d8576b"
            ],
            [
             0.6666666666666666,
             "#ed7953"
            ],
            [
             0.7777777777777778,
             "#fb9f3a"
            ],
            [
             0.8888888888888888,
             "#fdca26"
            ],
            [
             1,
             "#f0f921"
            ]
           ]
          },
          "colorway": [
           "#636efa",
           "#EF553B",
           "#00cc96",
           "#ab63fa",
           "#FFA15A",
           "#19d3f3",
           "#FF6692",
           "#B6E880",
           "#FF97FF",
           "#FECB52"
          ],
          "font": {
           "color": "#2a3f5f"
          },
          "geo": {
           "bgcolor": "white",
           "lakecolor": "white",
           "landcolor": "#E5ECF6",
           "showlakes": true,
           "showland": true,
           "subunitcolor": "white"
          },
          "hoverlabel": {
           "align": "left"
          },
          "hovermode": "closest",
          "mapbox": {
           "style": "light"
          },
          "paper_bgcolor": "white",
          "plot_bgcolor": "#E5ECF6",
          "polar": {
           "angularaxis": {
            "gridcolor": "white",
            "linecolor": "white",
            "ticks": ""
           },
           "bgcolor": "#E5ECF6",
           "radialaxis": {
            "gridcolor": "white",
            "linecolor": "white",
            "ticks": ""
           }
          },
          "scene": {
           "xaxis": {
            "backgroundcolor": "#E5ECF6",
            "gridcolor": "white",
            "gridwidth": 2,
            "linecolor": "white",
            "showbackground": true,
            "ticks": "",
            "zerolinecolor": "white"
           },
           "yaxis": {
            "backgroundcolor": "#E5ECF6",
            "gridcolor": "white",
            "gridwidth": 2,
            "linecolor": "white",
            "showbackground": true,
            "ticks": "",
            "zerolinecolor": "white"
           },
           "zaxis": {
            "backgroundcolor": "#E5ECF6",
            "gridcolor": "white",
            "gridwidth": 2,
            "linecolor": "white",
            "showbackground": true,
            "ticks": "",
            "zerolinecolor": "white"
           }
          },
          "shapedefaults": {
           "line": {
            "color": "#2a3f5f"
           }
          },
          "ternary": {
           "aaxis": {
            "gridcolor": "white",
            "linecolor": "white",
            "ticks": ""
           },
           "baxis": {
            "gridcolor": "white",
            "linecolor": "white",
            "ticks": ""
           },
           "bgcolor": "#E5ECF6",
           "caxis": {
            "gridcolor": "white",
            "linecolor": "white",
            "ticks": ""
           }
          },
          "title": {
           "x": 0.05
          },
          "xaxis": {
           "automargin": true,
           "gridcolor": "white",
           "linecolor": "white",
           "ticks": "",
           "title": {
            "standoff": 15
           },
           "zerolinecolor": "white",
           "zerolinewidth": 2
          },
          "yaxis": {
           "automargin": true,
           "gridcolor": "white",
           "linecolor": "white",
           "ticks": "",
           "title": {
            "standoff": 15
           },
           "zerolinecolor": "white",
           "zerolinewidth": 2
          }
         }
        },
        "width": 600,
        "xaxis": {
         "range": [
          -5,
          6
         ],
         "type": "linear"
        },
        "yaxis": {
         "range": [
          -5,
          6
         ],
         "type": "linear"
        }
       }
      },
      "image/png": "[encoded data removed]",
      "text/html": [
       "<div\n",
       "    class=\"webio-mountpoint\"\n",
       "    data-webio-mountpoint=\"16588855863138271558\"\n",
       ">\n",
       "    <script>\n",
       "    (function(){\n",
       "    // Some integrations (namely, IJulia/Jupyter) use an alternate render pathway than\n",
       "    // just putting the html on the page. If WebIO isn't defined, then it's pretty likely\n",
       "    // that we're in one of those situations and the integration just isn't installed\n",
       "    // correctly.\n",
       "    if (typeof window.WebIO === \"undefined\") {\n",
       "        document\n",
       "            .querySelector('[data-webio-mountpoint=\"16588855863138271558\"]')\n",
       "            .innerHTML = (\n",
       "                '<div style=\"padding: 1em; background-color: #f8d6da; border: 1px solid #f5c6cb; font-weight: bold;\">' +\n",
       "                '<p><strong>WebIO not detected.</strong></p>' +\n",
       "                '<p>Please read ' +\n",
       "                '<a href=\"https://juliagizmos.github.io/WebIO.jl/latest/troubleshooting/not-detected/\" target=\"_blank\">the troubleshooting guide</a> ' +\n",
       "                'for more information on how to resolve this issue.</p>' +\n",
       "                '<p><a href=\"https://juliagizmos.github.io/WebIO.jl/latest/troubleshooting/not-detected/\" target=\"_blank\">https://juliagizmos.github.io/WebIO.jl/latest/troubleshooting/not-detected/</a></p>' +\n",
       "                '</div>'\n",
       "            );\n",
       "        return;\n",
       "    }\n",
       "    WebIO.mount(\n",
       "        document.querySelector('[data-webio-mountpoint=\"16588855863138271558\"]'),\n",
       "        {\"props\":{},\"nodeType\":\"Scope\",\"type\":\"node\",\"instanceArgs\":{\"imports\":{\"data\":[{\"name\":\"Plotly\",\"type\":\"js\",\"url\":\"\\/assetserver\\/d66a736669047bda0b2d00471bd5207a90cf3193-plotly.min.js\"},{\"name\":null,\"type\":\"js\",\"url\":\"\\/assetserver\\/aee3160e397a4905b07437c5af565305d1ef6def-plotly_webio.bundle.js\"}],\"type\":\"async_block\"},\"id\":\"1661382939321389884\",\"handlers\":{\"_toImage\":[\"(function (options){return this.Plotly.toImage(this.plotElem,options).then((function (data){return WebIO.setval({\\\"name\\\":\\\"image\\\",\\\"scope\\\":\\\"1661382939321389884\\\",\\\"id\\\":\\\"9216084370411507118\\\",\\\"type\\\":\\\"observable\\\"},data)}))})\"],\"__get_gd_contents\":[\"(function (prop){prop==\\\"data\\\" ? (WebIO.setval({\\\"name\\\":\\\"__gd_contents\\\",\\\"scope\\\":\\\"1661382939321389884\\\",\\\"id\\\":\\\"13538807123628198587\\\",\\\"type\\\":\\\"observable\\\"},this.plotElem.data)) : undefined; return prop==\\\"layout\\\" ? (WebIO.setval({\\\"name\\\":\\\"__gd_contents\\\",\\\"scope\\\":\\\"1661382939321389884\\\",\\\"id\\\":\\\"13538807123628198587\\\",\\\"type\\\":\\\"observable\\\"},this.plotElem.layout)) : undefined})\"],\"_downloadImage\":[\"(function (options){return this.Plotly.downloadImage(this.plotElem,options)})\"],\"_commands\":[\"(function (args){var fn=args.shift(); var elem=this.plotElem; var Plotly=this.Plotly; args.unshift(elem); return Plotly[fn].apply(this,args)})\"]},\"systemjs_options\":null,\"mount_callbacks\":[\"function () {\\n    var handler = ((function (Plotly,PlotlyWebIO){PlotlyWebIO.init(WebIO); var gd=this.dom.querySelector(\\\"#plot-ebeaecfc-f9e5-43db-ad0a-8f738307455c\\\"); this.plotElem=gd; this.Plotly=Plotly; (window.Blink!==undefined) ? (gd.style.width=\\\"100%\\\", gd.style.height=\\\"100vh\\\", gd.style.marginLeft=\\\"0%\\\", gd.style.marginTop=\\\"0vh\\\") : undefined; window.onresize=(function (){return Plotly.Plots.resize(gd)}); Plotly.newPlot(gd,[{\\\"y\\\":[4.0,4.707106781186548,5.414213562373095,4.0],\\\"type\\\":\\\"scatter\\\",\\\"x\\\":[2.0,2.7071067811865475,2.0,2.0]},{\\\"y\\\":[4.707106781186548,4.0,3.2928932188134525,4.0,4.707106781186548],\\\"type\\\":\\\"scatter\\\",\\\"x\\\":[2.0,1.2928932188134525,2.0,2.7071067811865475,2.0]},{\\\"y\\\":[2.0,2.009938449269197,2.0396550243029123,2.0888543884277184,2.1570475762591848,2.243556853259543,2.3475224513680097,2.4679111137620438,2.603526363827854,2.7530203962825324,2.9149074722684816,3.0875786852936735,3.2693179512672086,3.458319063713989,3.6527036446661394,3.8505398128271504,4.049861383476146,4.248687409294969,4.445041867912629,4.636973300503369,4.822574206261223,4.999999999999998,5.1674873444695795,5.323371675193719,5.466103743659652,5.594265014445844,5.70658176326431,5.801937735804838,5.879385241571817,5.9381545724581555,5.977661652450257,5.9975138424378445,5.9975138424378445,5.977661652450257,5.938154572458156,5.879385241571818,5.801937735804838,5.706581763264311,5.5942650144458455,5.4661037436596525,5.3233716751937195,5.1674873444695795,5.000000000000001,4.822574206261224,4.63697330050337,4.44504186791263,4.248687409294972,4.049861383476147,3.8505398128271535,3.6527036446661403,3.4583190637139936,3.2693179512672126,3.087578685293676,2.9149074722684825,2.7530203962825333,2.6035263638278545,2.4679111137620433,2.3475224513680093,2.2435568532595433,2.1570475762591848,2.0888543884277198,2.039655024302913,2.0099384492691974,2.0,2.0],\\\"type\\\":\\\"scatter\\\",\\\"x\\\":[3.0,2.800864306808367,2.6037077136012052,2.4104896511781924,2.2231304074506113,2.0434920427573635,1.8733598838727568,1.7144247806269215,1.5682663014805633,1.4363370350639406,1.319948153698457,1.2202563823770631,1.138252502711592,1.0747515060999762,1.030384493975584,1.0055924056376397,1.0006216359983675,1.0155215867996557,1.0501441756363528,1.1041453076657366,1.1769882953766535,1.267949192431122,1.3761239885682865,1.5004375940645316,1.6396545244581604,1.7923911793490437,1.9571295932410029,2.1322325217648834,2.3159597133486627,2.506485204619412,2.7019154676476496,2.900308228678605,3.0996917713213943,3.2980845323523496,3.493514795380585,3.684040286651336,3.8677674782351157,4.042870406758997,4.207608820650954,4.3603454755418385,4.4995624059354675,4.623876011431713,4.732050807568877,4.823011704623346,4.895854692334263,4.949855824363647,4.984478413200344,4.9993783640016325,4.994407594362361,4.969615506024416,4.925248493900025,4.86174749728841,4.779743617622938,4.680051846301543,4.56366296493606,4.431733698519436,4.285575219373078,4.126640116127243,3.9565079572426374,3.7768695925493896,3.589510348821811,3.3962922863987974,3.199135693191635,3.000000000000001,3.0]},{\\\"y\\\":[0.0,2.802100986924392,0.0],\\\"type\\\":\\\"scatter\\\",\\\"x\\\":[0.0,1.401050493462196,0.0]}],{\\\"xaxis\\\":{\\\"range\\\":[-5,6]},\\\"template\\\":{\\\"layout\\\":{\\\"coloraxis\\\":{\\\"colorbar\\\":{\\\"ticks\\\":\\\"\\\",\\\"outlinewidth\\\":0}},\\\"xaxis\\\":{\\\"gridcolor\\\":\\\"white\\\",\\\"zerolinewidth\\\":2,\\\"title\\\":{\\\"standoff\\\":15},\\\"ticks\\\":\\\"\\\",\\\"zerolinecolor\\\":\\\"white\\\",\\\"automargin\\\":true,\\\"linecolor\\\":\\\"white\\\"},\\\"hovermode\\\":\\\"closest\\\",\\\"paper_bgcolor\\\":\\\"white\\\",\\\"geo\\\":{\\\"showlakes\\\":true,\\\"showland\\\":true,\\\"landcolor\\\":\\\"#E5ECF6\\\",\\\"bgcolor\\\":\\\"white\\\",\\\"subunitcolor\\\":\\\"white\\\",\\\"lakecolor\\\":\\\"white\\\"},\\\"colorscale\\\":{\\\"sequential\\\":[[0.0,\\\"#0d0887\\\"],[0.1111111111111111,\\\"#46039f\\\"],[0.2222222222222222,\\\"#7201a8\\\"],[0.3333333333333333,\\\"#9c179e\\\"],[0.4444444444444444,\\\"#bd3786\\\"],[0.5555555555555556,\\\"#d8576b\\\"],[0.6666666666666666,\\\"#ed7953\\\"],[0.7777777777777778,\\\"#fb9f3a\\\"],[0.8888888888888888,\\\"#fdca26\\\"],[1.0,\\\"#f0f921\\\"]],\\\"diverging\\\":[[0,\\\"#8e0152\\\"],[0.1,\\\"#c51b7d\\\"],[0.2,\\\"#de77ae\\\"],[0.3,\\\"#f1b6da\\\"],[0.4,\\\"#fde0ef\\\"],[0.5,\\\"#f7f7f7\\\"],[0.6,\\\"#e6f5d0\\\"],[0.7,\\\"#b8e186\\\"],[0.8,\\\"#7fbc41\\\"],[0.9,\\\"#4d9221\\\"],[1,\\\"#276419\\\"]],\\\"sequentialminus\\\":[[0.0,\\\"#0d0887\\\"],[0.1111111111111111,\\\"#46039f\\\"],[0.2222222222222222,\\\"#7201a8\\\"],[0.3333333333333333,\\\"#9c179e\\\"],[0.4444444444444444,\\\"#bd3786\\\"],[0.5555555555555556,\\\"#d8576b\\\"],[0.6666666666666666,\\\"#ed7953\\\"],[0.7777777777777778,\\\"#fb9f3a\\\"],[0.8888888888888888,\\\"#fdca26\\\"],[1.0,\\\"#f0f921\\\"]]},\\\"yaxis\\\":{\\\"gridcolor\\\":\\\"white\\\",\\\"zerolinewidth\\\":2,\\\"title\\\":{\\\"standoff\\\":15},\\\"ticks\\\":\\\"\\\",\\\"zerolinecolor\\\":\\\"white\\\",\\\"automargin\\\":true,\\\"linecolor\\\":\\\"white\\\"},\\\"shapedefaults\\\":{\\\"line\\\":{\\\"color\\\":\\\"#2a3f5f\\\"}},\\\"hoverlabel\\\":{\\\"align\\\":\\\"left\\\"},\\\"mapbox\\\":{\\\"style\\\":\\\"light\\\"},\\\"polar\\\":{\\\"angularaxis\\\":{\\\"gridcolor\\\":\\\"white\\\",\\\"ticks\\\":\\\"\\\",\\\"linecolor\\\":\\\"white\\\"},\\\"bgcolor\\\":\\\"#E5ECF6\\\",\\\"radialaxis\\\":{\\\"gridcolor\\\":\\\"white\\\",\\\"ticks\\\":\\\"\\\",\\\"linecolor\\\":\\\"white\\\"}},\\\"autotypenumbers\\\":\\\"strict\\\",\\\"font\\\":{\\\"color\\\":\\\"#2a3f5f\\\"},\\\"ternary\\\":{\\\"baxis\\\":{\\\"gridcolor\\\":\\\"white\\\",\\\"ticks\\\":\\\"\\\",\\\"linecolor\\\":\\\"white\\\"},\\\"bgcolor\\\":\\\"#E5ECF6\\\",\\\"caxis\\\":{\\\"gridcolor\\\":\\\"white\\\",\\\"ticks\\\":\\\"\\\",\\\"linecolor\\\":\\\"white\\\"},\\\"aaxis\\\":{\\\"gridcolor\\\":\\\"white\\\",\\\"ticks\\\":\\\"\\\",\\\"linecolor\\\":\\\"white\\\"}},\\\"annotationdefaults\\\":{\\\"arrowhead\\\":0,\\\"arrowwidth\\\":1,\\\"arrowcolor\\\":\\\"#2a3f5f\\\"},\\\"plot_bgcolor\\\":\\\"#E5ECF6\\\",\\\"title\\\":{\\\"x\\\":0.05},\\\"scene\\\":{\\\"xaxis\\\":{\\\"gridcolor\\\":\\\"white\\\",\\\"gridwidth\\\":2,\\\"backgroundcolor\\\":\\\"#E5ECF6\\\",\\\"ticks\\\":\\\"\\\",\\\"showbackground\\\":true,\\\"zerolinecolor\\\":\\\"white\\\",\\\"linecolor\\\":\\\"white\\\"},\\\"zaxis\\\":{\\\"gridcolor\\\":\\\"white\\\",\\\"gridwidth\\\":2,\\\"backgroundcolor\\\":\\\"#E5ECF6\\\",\\\"ticks\\\":\\\"\\\",\\\"showbackground\\\":true,\\\"zerolinecolor\\\":\\\"white\\\",\\\"linecolor\\\":\\\"white\\\"},\\\"yaxis\\\":{\\\"gridcolor\\\":\\\"white\\\",\\\"gridwidth\\\":2,\\\"backgroundcolor\\\":\\\"#E5ECF6\\\",\\\"ticks\\\":\\\"\\\",\\\"showbackground\\\":true,\\\"zerolinecolor\\\":\\\"white\\\",\\\"linecolor\\\":\\\"white\\\"}},\\\"colorway\\\":[\\\"#636efa\\\",\\\"#EF553B\\\",\\\"#00cc96\\\",\\\"#ab63fa\\\",\\\"#FFA15A\\\",\\\"#19d3f3\\\",\\\"#FF6692\\\",\\\"#B6E880\\\",\\\"#FF97FF\\\",\\\"#FECB52\\\"]},\\\"data\\\":{\\\"barpolar\\\":[{\\\"type\\\":\\\"barpolar\\\",\\\"marker\\\":{\\\"line\\\":{\\\"color\\\":\\\"#E5ECF6\\\",\\\"width\\\":0.5}}}],\\\"carpet\\\":[{\\\"aaxis\\\":{\\\"gridcolor\\\":\\\"white\\\",\\\"endlinecolor\\\":\\\"#2a3f5f\\\",\\\"minorgridcolor\\\":\\\"white\\\",\\\"startlinecolor\\\":\\\"#2a3f5f\\\",\\\"linecolor\\\":\\\"white\\\"},\\\"type\\\":\\\"carpet\\\",\\\"baxis\\\":{\\\"gridcolor\\\":\\\"white\\\",\\\"endlinecolor\\\":\\\"#2a3f5f\\\",\\\"minorgridcolor\\\":\\\"white\\\",\\\"startlinecolor\\\":\\\"#2a3f5f\\\",\\\"linecolor\\\":\\\"white\\\"}}],\\\"scatterpolar\\\":[{\\\"type\\\":\\\"scatterpolar\\\",\\\"marker\\\":{\\\"colorbar\\\":{\\\"ticks\\\":\\\"\\\",\\\"outlinewidth\\\":0}}}],\\\"parcoords\\\":[{\\\"line\\\":{\\\"colorbar\\\":{\\\"ticks\\\":\\\"\\\",\\\"outlinewidth\\\":0}},\\\"type\\\":\\\"parcoords\\\"}],\\\"scatter\\\":[{\\\"type\\\":\\\"scatter\\\",\\\"marker\\\":{\\\"colorbar\\\":{\\\"ticks\\\":\\\"\\\",\\\"outlinewidth\\\":0}}}],\\\"histogram2dcontour\\\":[{\\\"colorbar\\\":{\\\"ticks\\\":\\\"\\\",\\\"outlinewidth\\\":0},\\\"type\\\":\\\"histogram2dcontour\\\",\\\"colorscale\\\":[[0.0,\\\"#0d0887\\\"],[0.1111111111111111,\\\"#46039f\\\"],[0.2222222222222222,\\\"#7201a8\\\"],[0.3333333333333333,\\\"#9c179e\\\"],[0.4444444444444444,\\\"#bd3786\\\"],[0.5555555555555556,\\\"#d8576b\\\"],[0.6666666666666666,\\\"#ed7953\\\"],[0.7777777777777778,\\\"#fb9f3a\\\"],[0.8888888888888888,\\\"#fdca26\\\"],[1.0,\\\"#f0f921\\\"]]}],\\\"contour\\\":[{\\\"colorbar\\\":{\\\"ticks\\\":\\\"\\\",\\\"outlinewidth\\\":0},\\\"type\\\":\\\"contour\\\",\\\"colorscale\\\":[[0.0,\\\"#0d0887\\\"],[0.1111111111111111,\\\"#46039f\\\"],[0.2222222222222222,\\\"#7201a8\\\"],[0.3333333333333333,\\\"#9c179e\\\"],[0.4444444444444444,\\\"#bd3786\\\"],[0.5555555555555556,\\\"#d8576b\\\"],[0.6666666666666666,\\\"#ed7953\\\"],[0.7777777777777778,\\\"#fb9f3a\\\"],[0.8888888888888888,\\\"#fdca26\\\"],[1.0,\\\"#f0f921\\\"]]}],\\\"scattercarpet\\\":[{\\\"type\\\":\\\"scattercarpet\\\",\\\"marker\\\":{\\\"colorbar\\\":{\\\"ticks\\\":\\\"\\\",\\\"outlinewidth\\\":0}}}],\\\"mesh3d\\\":[{\\\"colorbar\\\":{\\\"ticks\\\":\\\"\\\",\\\"outlinewidth\\\":0},\\\"type\\\":\\\"mesh3d\\\"}],\\\"surface\\\":[{\\\"colorbar\\\":{\\\"ticks\\\":\\\"\\\",\\\"outlinewidth\\\":0},\\\"type\\\":\\\"surface\\\",\\\"colorscale\\\":[[0.0,\\\"#0d0887\\\"],[0.1111111111111111,\\\"#46039f\\\"],[0.2222222222222222,\\\"#7201a8\\\"],[0.3333333333333333,\\\"#9c179e\\\"],[0.4444444444444444,\\\"#bd3786\\\"],[0.5555555555555556,\\\"#d8576b\\\"],[0.6666666666666666,\\\"#ed7953\\\"],[0.7777777777777778,\\\"#fb9f3a\\\"],[0.8888888888888888,\\\"#fdca26\\\"],[1.0,\\\"#f0f921\\\"]]}],\\\"scattermapbox\\\":[{\\\"type\\\":\\\"scattermapbox\\\",\\\"marker\\\":{\\\"colorbar\\\":{\\\"ticks\\\":\\\"\\\",\\\"outlinewidth\\\":0}}}],\\\"scattergeo\\\":[{\\\"type\\\":\\\"scattergeo\\\",\\\"marker\\\":{\\\"colorbar\\\":{\\\"ticks\\\":\\\"\\\",\\\"outlinewidth\\\":0}}}],\\\"histogram\\\":[{\\\"type\\\":\\\"histogram\\\",\\\"marker\\\":{\\\"colorbar\\\":{\\\"ticks\\\":\\\"\\\",\\\"outlinewidth\\\":0}}}],\\\"pie\\\":[{\\\"type\\\":\\\"pie\\\",\\\"automargin\\\":true}],\\\"choropleth\\\":[{\\\"colorbar\\\":{\\\"ticks\\\":\\\"\\\",\\\"outlinewidth\\\":0},\\\"type\\\":\\\"choropleth\\\"}],\\\"heatmapgl\\\":[{\\\"colorbar\\\":{\\\"ticks\\\":\\\"\\\",\\\"outlinewidth\\\":0},\\\"type\\\":\\\"heatmapgl\\\",\\\"colorscale\\\":[[0.0,\\\"#0d0887\\\"],[0.1111111111111111,\\\"#46039f\\\"],[0.2222222222222222,\\\"#7201a8\\\"],[0.3333333333333333,\\\"#9c179e\\\"],[0.4444444444444444,\\\"#bd3786\\\"],[0.5555555555555556,\\\"#d8576b\\\"],[0.6666666666666666,\\\"#ed7953\\\"],[0.7777777777777778,\\\"#fb9f3a\\\"],[0.8888888888888888,\\\"#fdca26\\\"],[1.0,\\\"#f0f921\\\"]]}],\\\"bar\\\":[{\\\"type\\\":\\\"bar\\\",\\\"error_y\\\":{\\\"color\\\":\\\"#2a3f5f\\\"},\\\"error_x\\\":{\\\"color\\\":\\\"#2a3f5f\\\"},\\\"marker\\\":{\\\"line\\\":{\\\"color\\\":\\\"#E5ECF6\\\",\\\"width\\\":0.5}}}],\\\"heatmap\\\":[{\\\"colorbar\\\":{\\\"ticks\\\":\\\"\\\",\\\"outlinewidth\\\":0},\\\"type\\\":\\\"heatmap\\\",\\\"colorscale\\\":[[0.0,\\\"#0d0887\\\"],[0.1111111111111111,\\\"#46039f\\\"],[0.2222222222222222,\\\"#7201a8\\\"],[0.3333333333333333,\\\"#9c179e\\\"],[0.4444444444444444,\\\"#bd3786\\\"],[0.5555555555555556,\\\"#d8576b\\\"],[0.6666666666666666,\\\"#ed7953\\\"],[0.7777777777777778,\\\"#fb9f3a\\\"],[0.8888888888888888,\\\"#fdca26\\\"],[1.0,\\\"#f0f921\\\"]]}],\\\"contourcarpet\\\":[{\\\"colorbar\\\":{\\\"ticks\\\":\\\"\\\",\\\"outlinewidth\\\":0},\\\"type\\\":\\\"contourcarpet\\\"}],\\\"table\\\":[{\\\"type\\\":\\\"table\\\",\\\"header\\\":{\\\"line\\\":{\\\"color\\\":\\\"white\\\"},\\\"fill\\\":{\\\"color\\\":\\\"#C8D4E3\\\"}},\\\"cells\\\":{\\\"line\\\":{\\\"color\\\":\\\"white\\\"},\\\"fill\\\":{\\\"color\\\":\\\"#EBF0F8\\\"}}}],\\\"scatter3d\\\":[{\\\"line\\\":{\\\"colorbar\\\":{\\\"ticks\\\":\\\"\\\",\\\"outlinewidth\\\":0}},\\\"type\\\":\\\"scatter3d\\\",\\\"marker\\\":{\\\"colorbar\\\":{\\\"ticks\\\":\\\"\\\",\\\"outlinewidth\\\":0}}}],\\\"scattergl\\\":[{\\\"type\\\":\\\"scattergl\\\",\\\"marker\\\":{\\\"colorbar\\\":{\\\"ticks\\\":\\\"\\\",\\\"outlinewidth\\\":0}}}],\\\"histogram2d\\\":[{\\\"colorbar\\\":{\\\"ticks\\\":\\\"\\\",\\\"outlinewidth\\\":0},\\\"type\\\":\\\"histogram2d\\\",\\\"colorscale\\\":[[0.0,\\\"#0d0887\\\"],[0.1111111111111111,\\\"#46039f\\\"],[0.2222222222222222,\\\"#7201a8\\\"],[0.3333333333333333,\\\"#9c179e\\\"],[0.4444444444444444,\\\"#bd3786\\\"],[0.5555555555555556,\\\"#d8576b\\\"],[0.6666666666666666,\\\"#ed7953\\\"],[0.7777777777777778,\\\"#fb9f3a\\\"],[0.8888888888888888,\\\"#fdca26\\\"],[1.0,\\\"#f0f921\\\"]]}],\\\"scatterternary\\\":[{\\\"type\\\":\\\"scatterternary\\\",\\\"marker\\\":{\\\"colorbar\\\":{\\\"ticks\\\":\\\"\\\",\\\"outlinewidth\\\":0}}}],\\\"scatterpolargl\\\":[{\\\"type\\\":\\\"scatterpolargl\\\",\\\"marker\\\":{\\\"colorbar\\\":{\\\"ticks\\\":\\\"\\\",\\\"outlinewidth\\\":0}}}]}},\\\"height\\\":600,\\\"margin\\\":{\\\"l\\\":50,\\\"b\\\":50,\\\"r\\\":50,\\\"t\\\":60},\\\"yaxis\\\":{\\\"range\\\":[-5,6]},\\\"width\\\":600},{\\\"showLink\\\":false,\\\"editable\\\":false,\\\"responsive\\\":true,\\\"staticPlot\\\":false,\\\"scrollZoom\\\":true}); gd.on(\\\"plotly_hover\\\",(function (data){var filtered_data=WebIO.PlotlyCommands.filterEventData(gd,data,\\\"hover\\\"); return !(filtered_data.isnil) ? (WebIO.setval({\\\"name\\\":\\\"hover\\\",\\\"scope\\\":\\\"1661382939321389884\\\",\\\"id\\\":\\\"17384452876544988790\\\",\\\"type\\\":\\\"observable\\\"},filtered_data.out)) : undefined})); gd.on(\\\"plotly_unhover\\\",(function (){return WebIO.setval({\\\"name\\\":\\\"hover\\\",\\\"scope\\\":\\\"1661382939321389884\\\",\\\"id\\\":\\\"17384452876544988790\\\",\\\"type\\\":\\\"observable\\\"},{})})); gd.on(\\\"plotly_selected\\\",(function (data){var filtered_data=WebIO.PlotlyCommands.filterEventData(gd,data,\\\"selected\\\"); return !(filtered_data.isnil) ? (WebIO.setval({\\\"name\\\":\\\"selected\\\",\\\"scope\\\":\\\"1661382939321389884\\\",\\\"id\\\":\\\"8249763530620149264\\\",\\\"type\\\":\\\"observable\\\"},filtered_data.out)) : undefined})); gd.on(\\\"plotly_deselect\\\",(function (){return WebIO.setval({\\\"name\\\":\\\"selected\\\",\\\"scope\\\":\\\"1661382939321389884\\\",\\\"id\\\":\\\"8249763530620149264\\\",\\\"type\\\":\\\"observable\\\"},{})})); gd.on(\\\"plotly_relayout\\\",(function (data){var filtered_data=WebIO.PlotlyCommands.filterEventData(gd,data,\\\"relayout\\\"); return !(filtered_data.isnil) ? (WebIO.setval({\\\"name\\\":\\\"relayout\\\",\\\"scope\\\":\\\"1661382939321389884\\\",\\\"id\\\":\\\"15165495532132588873\\\",\\\"type\\\":\\\"observable\\\"},filtered_data.out)) : undefined})); return gd.on(\\\"plotly_click\\\",(function (data){var filtered_data=WebIO.PlotlyCommands.filterEventData(gd,data,\\\"click\\\"); return !(filtered_data.isnil) ? (WebIO.setval({\\\"name\\\":\\\"click\\\",\\\"scope\\\":\\\"1661382939321389884\\\",\\\"id\\\":\\\"1626167879650945776\\\",\\\"type\\\":\\\"observable\\\"},filtered_data.out)) : undefined}))}));\\n    (WebIO.importBlock({\\\"data\\\":[{\\\"name\\\":\\\"Plotly\\\",\\\"type\\\":\\\"js\\\",\\\"url\\\":\\\"\\/assetserver\\/d66a736669047bda0b2d00471bd5207a90cf3193-plotly.min.js\\\"},{\\\"name\\\":null,\\\"type\\\":\\\"js\\\",\\\"url\\\":\\\"\\/assetserver\\/aee3160e397a4905b07437c5af565305d1ef6def-plotly_webio.bundle.js\\\"}],\\\"type\\\":\\\"async_block\\\"})).then((imports) => handler.apply(this, imports));\\n}\\n\"],\"observables\":{\"_toImage\":{\"sync\":false,\"id\":\"12574917140838241801\",\"value\":{}},\"hover\":{\"sync\":false,\"id\":\"17384452876544988790\",\"value\":{}},\"selected\":{\"sync\":false,\"id\":\"8249763530620149264\",\"value\":{}},\"__gd_contents\":{\"sync\":false,\"id\":\"13538807123628198587\",\"value\":{}},\"click\":{\"sync\":false,\"id\":\"1626167879650945776\",\"value\":{}},\"image\":{\"sync\":true,\"id\":\"9216084370411507118\",\"value\":\"\"},\"__get_gd_contents\":{\"sync\":false,\"id\":\"5779314618736617428\",\"value\":\"\"},\"_downloadImage\":{\"sync\":false,\"id\":\"13281366981354564463\",\"value\":{}},\"relayout\":{\"sync\":false,\"id\":\"15165495532132588873\",\"value\":{}},\"_commands\":{\"sync\":false,\"id\":\"16321039061124651720\",\"value\":[]}}},\"children\":[{\"props\":{\"id\":\"plot-ebeaecfc-f9e5-43db-ad0a-8f738307455c\"},\"nodeType\":\"DOM\",\"type\":\"node\",\"instanceArgs\":{\"namespace\":\"html\",\"tag\":\"div\"},\"children\":[]}]},\n",
       "        window,\n",
       "    );\n",
       "    })()\n",
       "    </script>\n",
       "</div>\n"
      ],
      "text/plain": [
       "data: [\n",
       "  \"scatter with fields type, x, and y\",\n",
       "  \"scatter with fields type, x, and y\",\n",
       "  \"scatter with fields type, x, and y\",\n",
       "  \"scatter with fields type, x, and y\"\n",
       "]\n",
       "\n",
       "layout: \"layout with fields height, margin, template, width, xaxis, and yaxis\"\n",
       "\n"
      ]
     },
     "execution_count": 17,
     "metadata": {},
     "output_type": "execute_result"
    }
   ],
   "source": [
    "R = LinearMap(RotMatrix{2}(π/4))\n",
    "T = Translation(2.0, 4.0)\n",
    "s = MySquare(1).g\n",
    "t = Triangle(Point(0,0), Point(1,0), Point(1,1))\n",
    "c = Circle(Point(1,0),2)\n",
    "\n",
    "st = transform(t,T∘R)\n",
    "ss = transform(s,T∘R)\n",
    "sc = transform(c,T)\n",
    "D  = DiagramDual(Prim.([st,ss,sc]))\n",
    "\n",
    "\n",
    "v = [2.0,4.0]\n",
    "v = normalize(v) * trace(D,v)\n",
    "\n",
    "l = Line(Point(0.0,0.),Point(v...))\n",
    "\n",
    "layout = Layout(\n",
    "    xaxis = attr(range = [-5, 6]),\n",
    "    yaxis = attr(range = [-5, 6]),\n",
    "    width = 600,\n",
    "    height = 600\n",
    ")\n",
    "pt = plotgeometry(D)\n",
    "pl = plotgeometry(l)\n",
    "\n",
    "plot(vcat(pt,pl),layout)"
   ]
  },
  {
   "cell_type": "markdown",
   "id": "c058008f-e464-4808-8b56-7ff193bde8e2",
   "metadata": {},
   "source": [
    "## 5. Envelope and Trace as Semigroups / Monoids\n",
    "\n",
    "We explained how these two functions are defined, let us explain the categorical\n",
    "interpratation.\n",
    "\n",
    "First, a semigroup $(S, \\circ)$ is a set $S$ with an associative binary operation $\\circ$,\n",
    "i.e. a semigroup is just a monoid without a neutral element.\n",
    "The tuple $(\\mathbb R, max)$ is a semigroup. Just note that for $a,b \\in \\mathbb R$,\n",
    "$max(a,max(b,c)) = max(max(a,b),c)$.\n",
    "\n",
    "Consider a type `Envelope` containing functions that go from vectors\n",
    "to real numbers, i.e. a type that contains envelope functions.\n",
    "\n",
    "We can define a semigroup `(Envelope, ⋄)` where\n",
    "the composition of two envelope functions return another\n",
    "evelope fuction as  `max(env1, env2)` "
   ]
  },
  {
   "cell_type": "code",
   "execution_count": 18,
   "id": "9609a693-4790-4b54-947c-b59d6425fe4a",
   "metadata": {},
   "outputs": [
    {
     "data": {
      "text/plain": [
       "true"
      ]
     },
     "execution_count": 18,
     "metadata": {},
     "output_type": "execute_result"
    }
   ],
   "source": [
    "struct Envelope1\n",
    "    f::FunctionType(Vector{Real},Real)\n",
    "end\n",
    "\n",
    "function ⋄(env1::Envelope1, env2::Envelope1)::Envelope1\n",
    "    Envelope1(FunctionType(Vector{Real},Real)(x::Vector{Real} -> max(env1.f(x),env2.f(x))))\n",
    "end\n",
    "\n",
    "envP(p::Primitive1) = Envelope1(v -> envelopeP(p.g,v))\n",
    "envP(MyCircle()) isa Envelope1"
   ]
  },
  {
   "cell_type": "code",
   "execution_count": 19,
   "id": "e3915337-7b94-483f-be22-6dee7ae58fd9",
   "metadata": {},
   "outputs": [
    {
     "data": {
      "text/plain": [
       "true"
      ]
     },
     "execution_count": 19,
     "metadata": {},
     "output_type": "execute_result"
    }
   ],
   "source": [
    "envP(MyCircle()) ⋄ envP(MyCircle(2)) isa Envelope1"
   ]
  },
  {
   "cell_type": "code",
   "execution_count": 20,
   "id": "3dd2de97-9308-4a9b-ab2f-ca036ed1cadb",
   "metadata": {},
   "outputs": [
    {
     "data": {
      "text/plain": [
       "1.9986014095767968"
      ]
     },
     "execution_count": 20,
     "metadata": {},
     "output_type": "execute_result"
    }
   ],
   "source": [
    "(envP(MyCircle()) ⋄ envP(MyCircle(2))).f([1,1])"
   ]
  },
  {
   "cell_type": "markdown",
   "id": "d399c182-e040-4827-9f6e-aa64680d7660",
   "metadata": {},
   "source": [
    "We can turn the semigroup `(Envelope, ⋄)` into a monoid if we define an empty envelope\n",
    "function `env_empty(v::Vector) = nothing`."
   ]
  },
  {
   "cell_type": "code",
   "execution_count": 21,
   "id": "83574447-e8c8-495f-ba63-e3c10912511a",
   "metadata": {},
   "outputs": [
    {
     "data": {
      "text/plain": [
       "(true, true)"
      ]
     },
     "execution_count": 21,
     "metadata": {},
     "output_type": "execute_result"
    }
   ],
   "source": [
    "# Removing the function wrapper due to compilation erros\n",
    "struct Envelope\n",
    "    # f::FunctionType(Vector{Real},Union{Real,Nothing})\n",
    "    f::Function\n",
    "end\n",
    "\n",
    "# Let's create a function `fmax` that can compute the max when there are `nothing` values.\n",
    "fmax(x,y) = max(x,y)\n",
    "fmax(x,y::Nothing) = x\n",
    "fmax(x::Nothing,y) = y\n",
    "fmax(x::Nothing,y::Nothing) = nothing\n",
    "function ⋄(env1::Envelope, env2::Envelope)::Envelope\n",
    "    Envelope(x -> fmax(env1.f(x),env2.f(x)))\n",
    "end\n",
    "neutral(::Type{Envelope}) = Envelope(v::Vector -> nothing)\n",
    "\n",
    "\n",
    "envP(p::Primitive1) = Envelope(v -> envelopeP(p.g,v))\n",
    "envP() = Envelope(v::Vector -> nothing)\n",
    "\n",
    "(envP(MyCircle()) ⋄ envP()).f([1,1]) ≈ envP(MyCircle()).f([1,1]), (envP() ⋄ envP(MyCircle(2))).f([1,1]) ≈ envP(MyCircle(2)).f([1,1])"
   ]
  },
  {
   "cell_type": "markdown",
   "id": "9daa58aa-24b7-4464-9461-77ca9fcafceb",
   "metadata": {},
   "source": [
    "Finally, let's implement the `env` function, which is the same as\n",
    "the  `envelope`, but it is actually a high-order function. "
   ]
  },
  {
   "cell_type": "code",
   "execution_count": 22,
   "id": "e0e19a22-2ef4-4d8f-bee4-f780859ef494",
   "metadata": {},
   "outputs": [
    {
     "data": {
      "text/plain": [
       "true"
      ]
     },
     "execution_count": 22,
     "metadata": {},
     "output_type": "execute_result"
    }
   ],
   "source": [
    "envD(D::DiagramDual) = (mconcat ∘ map)(envP,unD(D))\n",
    "envD(D).f([1,2]) == envelope(D,[1,2])"
   ]
  },
  {
   "cell_type": "markdown",
   "id": "7a0c117b-4dfb-4c7f-b999-3d2d0868471a",
   "metadata": {},
   "source": [
    "### Defining `beside` \n",
    "\n",
    "With the envelope working, let us define the `beside` operation.\n",
    "This consists in translating a primitive by the "
   ]
  },
  {
   "cell_type": "code",
   "execution_count": 23,
   "id": "2757dc83-05a6-4fbf-9bcb-f131d9da5ccb",
   "metadata": {},
   "outputs": [
    {
     "data": {
      "text/plain": [
       "translate (generic function with 1 method)"
      ]
     },
     "execution_count": 23,
     "metadata": {},
     "output_type": "execute_result"
    }
   ],
   "source": [
    "translateP(C::MyCircle,v::Vector) = MyCircle(C.ρ, C.c + Point2(v))\n",
    "translateP(S::MySquare,v::Vector) = MySquare(S.l, S.c + Point2(v))\n",
    "translateP(p::Prim,v::Vector) = Prim(transform(p.g,Translation(v)))\n",
    "\n",
    "\n",
    "# Usage\n",
    "translateP(triangle1,[1,1]);\n",
    "translateP(MySquare(),[1,0])\n",
    "translateP(MyCircle(),[1,2])\n",
    "\n",
    "# Lift to Diagram\n",
    "translate(d::DiagramDual, v) = DiagramDual(map(x->translateP(x,v), d.p))"
   ]
  },
  {
   "cell_type": "code",
   "execution_count": 24,
   "id": "15bbe943-0714-448f-a7ab-f2881464fcb9",
   "metadata": {},
   "outputs": [],
   "source": [
    "D1 = DiagramDual([MyCircle(),MyCircle(2)])\n",
    "D2 = DiagramDual(MySquare(2));"
   ]
  },
  {
   "cell_type": "code",
   "execution_count": 25,
   "id": "50379f3c-543c-4776-9199-e6ddc770668c",
   "metadata": {},
   "outputs": [
    {
     "data": {
      "text/plain": [
       "beside (generic function with 1 method)"
      ]
     },
     "execution_count": 25,
     "metadata": {},
     "output_type": "execute_result"
    }
   ],
   "source": [
    "function beside(D1::DiagramDual, D2::DiagramDual, v::Vector)::DiagramDual\n",
    "    e1 = envD(D1).f(v)\n",
    "    e2 = envD(D2).f(-v)\n",
    "    if isnothing(e1) || isnothing(e2)\n",
    "        return D1 ⋄ D2\n",
    "    end\n",
    "    D1 ⋄ translate(D2, (e1+e2)*v)\n",
    "end"
   ]
  },
  {
   "cell_type": "code",
   "execution_count": 26,
   "id": "cbf5577a-50a5-4710-801b-5ca778377f10",
   "metadata": {},
   "outputs": [
    {
     "data": {
      "text/plain": [
       "DiagramDual(Primitive1[MyCircle(1, [0, 0], Circle{Int64}([0, 0], 1)), MyCircle(2, [0, 0], Circle{Int64}([0, 0], 2))])"
      ]
     },
     "execution_count": 26,
     "metadata": {},
     "output_type": "execute_result"
    }
   ],
   "source": [
    "# Does nothing\n",
    "beside(D1,DiagramDual(),[1,0])"
   ]
  },
  {
   "cell_type": "code",
   "execution_count": 27,
   "id": "25cde52e-ed5a-46ef-82bb-1c5c6ee00b72",
   "metadata": {},
   "outputs": [
    {
     "data": {
      "application/vnd.plotly.v1+json": {
       "config": {
        "editable": false,
        "responsive": true,
        "scrollZoom": true,
        "showLink": false,
        "staticPlot": false
       },
       "data": [
        {
         "type": "scatter",
         "x": [
          2.9996891820008162,
          0.9996891820008162,
          0.9996891820008162,
          2.9996891820008162,
          2.9996891820008162
         ],
         "y": [
          1,
          1,
          -1,
          -1,
          1
         ]
        },
        {
         "type": "scatter",
         "x": [
          1.2246467991473532e-16,
          -0.09956784659581648,
          -0.19814614319939736,
          -0.29475517441090393,
          -0.3884347962746944,
          -0.47825397862131824,
          -0.5633200580636216,
          -0.6427876096865393,
          -0.7158668492597183,
          -0.7818314824680297,
          -0.8400259231507715,
          -0.8898718088114684,
          -0.930873748644204,
          -0.9626242469500119,
          -0.984807753012208,
          -0.9972037971811801,
          -0.9996891820008162,
          -0.9922392066001722,
          -0.9749279121818236,
          -0.9479273461671317,
          -0.9115058523116732,
          -0.866025403784439,
          -0.8119380057158567,
          -0.7497812029677342,
          -0.6801727377709198,
          -0.6038044103254782,
          -0.5214352033794986,
          -0.43388373911755834,
          -0.3420201433256686,
          -0.24675739769029395,
          -0.14904226617617528,
          -0.0498458856606976,
          0.049845885660697115,
          0.14904226617617478,
          0.24675739769029262,
          0.3420201433256681,
          0.4338837391175579,
          0.5214352033794982,
          0.603804410325477,
          0.6801727377709194,
          0.7497812029677339,
          0.8119380057158564,
          0.8660254037844384,
          0.911505852311673,
          0.9479273461671315,
          0.9749279121818235,
          0.992239206600172,
          0.9996891820008162,
          0.9972037971811802,
          0.9848077530122081,
          0.9626242469500126,
          0.9308737486442048,
          0.8898718088114691,
          0.8400259231507718,
          0.78183148246803,
          0.7158668492597183,
          0.642787609686539,
          0.5633200580636213,
          0.4782539786213187,
          0.38843479627469485,
          0.2947551744109057,
          0.19814614319939872,
          0.09956784659581741,
          3.6739403974420594e-16,
          1.2246467991473532e-16
         ],
         "y": [
          -1,
          -0.9950307753654014,
          -0.9801724878485439,
          -0.9555728057861408,
          -0.9214762118704077,
          -0.8782215733702285,
          -0.8262387743159951,
          -0.7660444431189781,
          -0.698236818086073,
          -0.6234898018587337,
          -0.5425462638657592,
          -0.4562106573531632,
          -0.3653410243663957,
          -0.2708404681430055,
          -0.17364817766693033,
          -0.07473009358642473,
          0.02493069173807279,
          0.1243437046474846,
          0.22252093395631423,
          0.3184866502516846,
          0.4112871031306113,
          0.49999999999999933,
          0.5837436722347895,
          0.6616858375968594,
          0.733051871829826,
          0.7971325072229218,
          0.8532908816321554,
          0.900968867902419,
          0.9396926207859084,
          0.9690772862290778,
          0.9888308262251284,
          0.9987569212189223,
          0.9987569212189223,
          0.9888308262251285,
          0.9690772862290782,
          0.9396926207859086,
          0.9009688679024193,
          0.8532908816321556,
          0.7971325072229227,
          0.7330518718298263,
          0.6616858375968597,
          0.58374367223479,
          0.5000000000000006,
          0.41128710313061173,
          0.3184866502516851,
          0.2225209339563147,
          0.12434370464748597,
          0.024930691738073277,
          -0.07473009358642335,
          -0.17364817766692986,
          -0.2708404681430033,
          -0.3653410243663936,
          -0.45621065735316196,
          -0.5425462638657588,
          -0.6234898018587333,
          -0.6982368180860729,
          -0.7660444431189783,
          -0.8262387743159954,
          -0.8782215733702283,
          -0.9214762118704076,
          -0.9555728057861402,
          -0.9801724878485436,
          -0.9950307753654013,
          -1,
          -1
         ]
        }
       ],
       "frames": [],
       "layout": {
        "height": 600,
        "margin": {
         "b": 50,
         "l": 50,
         "r": 50,
         "t": 60
        },
        "template": {
         "data": {
          "bar": [
           {
            "error_x": {
             "color": "#2a3f5f"
            },
            "error_y": {
             "color": "#2a3f5f"
            },
            "marker": {
             "line": {
              "color": "#E5ECF6",
              "width": 0.5
             }
            },
            "type": "bar"
           }
          ],
          "barpolar": [
           {
            "marker": {
             "line": {
              "color": "#E5ECF6",
              "width": 0.5
             }
            },
            "type": "barpolar"
           }
          ],
          "carpet": [
           {
            "aaxis": {
             "endlinecolor": "#2a3f5f",
             "gridcolor": "white",
             "linecolor": "white",
             "minorgridcolor": "white",
             "startlinecolor": "#2a3f5f"
            },
            "baxis": {
             "endlinecolor": "#2a3f5f",
             "gridcolor": "white",
             "linecolor": "white",
             "minorgridcolor": "white",
             "startlinecolor": "#2a3f5f"
            },
            "type": "carpet"
           }
          ],
          "choropleth": [
           {
            "colorbar": {
             "outlinewidth": 0,
             "ticks": ""
            },
            "type": "choropleth"
           }
          ],
          "contour": [
           {
            "colorbar": {
             "outlinewidth": 0,
             "ticks": ""
            },
            "colorscale": [
             [
              0,
              "#0d0887"
             ],
             [
              0.1111111111111111,
              "#46039f"
             ],
             [
              0.2222222222222222,
              "#7201a8"
             ],
             [
              0.3333333333333333,
              "#9c179e"
             ],
             [
              0.4444444444444444,
              "#bd3786"
             ],
             [
              0.5555555555555556,
              "#d8576b"
             ],
             [
              0.6666666666666666,
              "#ed7953"
             ],
             [
              0.7777777777777778,
              "#fb9f3a"
             ],
             [
              0.8888888888888888,
              "#fdca26"
             ],
             [
              1,
              "#f0f921"
             ]
            ],
            "type": "contour"
           }
          ],
          "contourcarpet": [
           {
            "colorbar": {
             "outlinewidth": 0,
             "ticks": ""
            },
            "type": "contourcarpet"
           }
          ],
          "heatmap": [
           {
            "colorbar": {
             "outlinewidth": 0,
             "ticks": ""
            },
            "colorscale": [
             [
              0,
              "#0d0887"
             ],
             [
              0.1111111111111111,
              "#46039f"
             ],
             [
              0.2222222222222222,
              "#7201a8"
             ],
             [
              0.3333333333333333,
              "#9c179e"
             ],
             [
              0.4444444444444444,
              "#bd3786"
             ],
             [
              0.5555555555555556,
              "#d8576b"
             ],
             [
              0.6666666666666666,
              "#ed7953"
             ],
             [
              0.7777777777777778,
              "#fb9f3a"
             ],
             [
              0.8888888888888888,
              "#fdca26"
             ],
             [
              1,
              "#f0f921"
             ]
            ],
            "type": "heatmap"
           }
          ],
          "heatmapgl": [
           {
            "colorbar": {
             "outlinewidth": 0,
             "ticks": ""
            },
            "colorscale": [
             [
              0,
              "#0d0887"
             ],
             [
              0.1111111111111111,
              "#46039f"
             ],
             [
              0.2222222222222222,
              "#7201a8"
             ],
             [
              0.3333333333333333,
              "#9c179e"
             ],
             [
              0.4444444444444444,
              "#bd3786"
             ],
             [
              0.5555555555555556,
              "#d8576b"
             ],
             [
              0.6666666666666666,
              "#ed7953"
             ],
             [
              0.7777777777777778,
              "#fb9f3a"
             ],
             [
              0.8888888888888888,
              "#fdca26"
             ],
             [
              1,
              "#f0f921"
             ]
            ],
            "type": "heatmapgl"
           }
          ],
          "histogram": [
           {
            "marker": {
             "colorbar": {
              "outlinewidth": 0,
              "ticks": ""
             }
            },
            "type": "histogram"
           }
          ],
          "histogram2d": [
           {
            "colorbar": {
             "outlinewidth": 0,
             "ticks": ""
            },
            "colorscale": [
             [
              0,
              "#0d0887"
             ],
             [
              0.1111111111111111,
              "#46039f"
             ],
             [
              0.2222222222222222,
              "#7201a8"
             ],
             [
              0.3333333333333333,
              "#9c179e"
             ],
             [
              0.4444444444444444,
              "#bd3786"
             ],
             [
              0.5555555555555556,
              "#d8576b"
             ],
             [
              0.6666666666666666,
              "#ed7953"
             ],
             [
              0.7777777777777778,
              "#fb9f3a"
             ],
             [
              0.8888888888888888,
              "#fdca26"
             ],
             [
              1,
              "#f0f921"
             ]
            ],
            "type": "histogram2d"
           }
          ],
          "histogram2dcontour": [
           {
            "colorbar": {
             "outlinewidth": 0,
             "ticks": ""
            },
            "colorscale": [
             [
              0,
              "#0d0887"
             ],
             [
              0.1111111111111111,
              "#46039f"
             ],
             [
              0.2222222222222222,
              "#7201a8"
             ],
             [
              0.3333333333333333,
              "#9c179e"
             ],
             [
              0.4444444444444444,
              "#bd3786"
             ],
             [
              0.5555555555555556,
              "#d8576b"
             ],
             [
              0.6666666666666666,
              "#ed7953"
             ],
             [
              0.7777777777777778,
              "#fb9f3a"
             ],
             [
              0.8888888888888888,
              "#fdca26"
             ],
             [
              1,
              "#f0f921"
             ]
            ],
            "type": "histogram2dcontour"
           }
          ],
          "mesh3d": [
           {
            "colorbar": {
             "outlinewidth": 0,
             "ticks": ""
            },
            "type": "mesh3d"
           }
          ],
          "parcoords": [
           {
            "line": {
             "colorbar": {
              "outlinewidth": 0,
              "ticks": ""
             }
            },
            "type": "parcoords"
           }
          ],
          "pie": [
           {
            "automargin": true,
            "type": "pie"
           }
          ],
          "scatter": [
           {
            "marker": {
             "colorbar": {
              "outlinewidth": 0,
              "ticks": ""
             }
            },
            "type": "scatter"
           }
          ],
          "scatter3d": [
           {
            "line": {
             "colorbar": {
              "outlinewidth": 0,
              "ticks": ""
             }
            },
            "marker": {
             "colorbar": {
              "outlinewidth": 0,
              "ticks": ""
             }
            },
            "type": "scatter3d"
           }
          ],
          "scattercarpet": [
           {
            "marker": {
             "colorbar": {
              "outlinewidth": 0,
              "ticks": ""
             }
            },
            "type": "scattercarpet"
           }
          ],
          "scattergeo": [
           {
            "marker": {
             "colorbar": {
              "outlinewidth": 0,
              "ticks": ""
             }
            },
            "type": "scattergeo"
           }
          ],
          "scattergl": [
           {
            "marker": {
             "colorbar": {
              "outlinewidth": 0,
              "ticks": ""
             }
            },
            "type": "scattergl"
           }
          ],
          "scattermapbox": [
           {
            "marker": {
             "colorbar": {
              "outlinewidth": 0,
              "ticks": ""
             }
            },
            "type": "scattermapbox"
           }
          ],
          "scatterpolar": [
           {
            "marker": {
             "colorbar": {
              "outlinewidth": 0,
              "ticks": ""
             }
            },
            "type": "scatterpolar"
           }
          ],
          "scatterpolargl": [
           {
            "marker": {
             "colorbar": {
              "outlinewidth": 0,
              "ticks": ""
             }
            },
            "type": "scatterpolargl"
           }
          ],
          "scatterternary": [
           {
            "marker": {
             "colorbar": {
              "outlinewidth": 0,
              "ticks": ""
             }
            },
            "type": "scatterternary"
           }
          ],
          "surface": [
           {
            "colorbar": {
             "outlinewidth": 0,
             "ticks": ""
            },
            "colorscale": [
             [
              0,
              "#0d0887"
             ],
             [
              0.1111111111111111,
              "#46039f"
             ],
             [
              0.2222222222222222,
              "#7201a8"
             ],
             [
              0.3333333333333333,
              "#9c179e"
             ],
             [
              0.4444444444444444,
              "#bd3786"
             ],
             [
              0.5555555555555556,
              "#d8576b"
             ],
             [
              0.6666666666666666,
              "#ed7953"
             ],
             [
              0.7777777777777778,
              "#fb9f3a"
             ],
             [
              0.8888888888888888,
              "#fdca26"
             ],
             [
              1,
              "#f0f921"
             ]
            ],
            "type": "surface"
           }
          ],
          "table": [
           {
            "cells": {
             "fill": {
              "color": "#EBF0F8"
             },
             "line": {
              "color": "white"
             }
            },
            "header": {
             "fill": {
              "color": "#C8D4E3"
             },
             "line": {
              "color": "white"
             }
            },
            "type": "table"
           }
          ]
         },
         "layout": {
          "annotationdefaults": {
           "arrowcolor": "#2a3f5f",
           "arrowhead": 0,
           "arrowwidth": 1
          },
          "autotypenumbers": "strict",
          "coloraxis": {
           "colorbar": {
            "outlinewidth": 0,
            "ticks": ""
           }
          },
          "colorscale": {
           "diverging": [
            [
             0,
             "#8e0152"
            ],
            [
             0.1,
             "#c51b7d"
            ],
            [
             0.2,
             "#de77ae"
            ],
            [
             0.3,
             "#f1b6da"
            ],
            [
             0.4,
             "#fde0ef"
            ],
            [
             0.5,
             "#f7f7f7"
            ],
            [
             0.6,
             "#e6f5d0"
            ],
            [
             0.7,
             "#b8e186"
            ],
            [
             0.8,
             "#7fbc41"
            ],
            [
             0.9,
             "#4d9221"
            ],
            [
             1,
             "#276419"
            ]
           ],
           "sequential": [
            [
             0,
             "#0d0887"
            ],
            [
             0.1111111111111111,
             "#46039f"
            ],
            [
             0.2222222222222222,
             "#7201a8"
            ],
            [
             0.3333333333333333,
             "#9c179e"
            ],
            [
             0.4444444444444444,
             "#bd3786"
            ],
            [
             0.5555555555555556,
             "#d8576b"
            ],
            [
             0.6666666666666666,
             "#ed7953"
            ],
            [
             0.7777777777777778,
             "#fb9f3a"
            ],
            [
             0.8888888888888888,
             "#fdca26"
            ],
            [
             1,
             "#f0f921"
            ]
           ],
           "sequentialminus": [
            [
             0,
             "#0d0887"
            ],
            [
             0.1111111111111111,
             "#46039f"
            ],
            [
             0.2222222222222222,
             "#7201a8"
            ],
            [
             0.3333333333333333,
             "#9c179e"
            ],
            [
             0.4444444444444444,
             "#bd3786"
            ],
            [
             0.5555555555555556,
             "#d8576b"
            ],
            [
             0.6666666666666666,
             "#ed7953"
            ],
            [
             0.7777777777777778,
             "#fb9f3a"
            ],
            [
             0.8888888888888888,
             "#fdca26"
            ],
            [
             1,
             "#f0f921"
            ]
           ]
          },
          "colorway": [
           "#636efa",
           "#EF553B",
           "#00cc96",
           "#ab63fa",
           "#FFA15A",
           "#19d3f3",
           "#FF6692",
           "#B6E880",
           "#FF97FF",
           "#FECB52"
          ],
          "font": {
           "color": "#2a3f5f"
          },
          "geo": {
           "bgcolor": "white",
           "lakecolor": "white",
           "landcolor": "#E5ECF6",
           "showlakes": true,
           "showland": true,
           "subunitcolor": "white"
          },
          "hoverlabel": {
           "align": "left"
          },
          "hovermode": "closest",
          "mapbox": {
           "style": "light"
          },
          "paper_bgcolor": "white",
          "plot_bgcolor": "#E5ECF6",
          "polar": {
           "angularaxis": {
            "gridcolor": "white",
            "linecolor": "white",
            "ticks": ""
           },
           "bgcolor": "#E5ECF6",
           "radialaxis": {
            "gridcolor": "white",
            "linecolor": "white",
            "ticks": ""
           }
          },
          "scene": {
           "xaxis": {
            "backgroundcolor": "#E5ECF6",
            "gridcolor": "white",
            "gridwidth": 2,
            "linecolor": "white",
            "showbackground": true,
            "ticks": "",
            "zerolinecolor": "white"
           },
           "yaxis": {
            "backgroundcolor": "#E5ECF6",
            "gridcolor": "white",
            "gridwidth": 2,
            "linecolor": "white",
            "showbackground": true,
            "ticks": "",
            "zerolinecolor": "white"
           },
           "zaxis": {
            "backgroundcolor": "#E5ECF6",
            "gridcolor": "white",
            "gridwidth": 2,
            "linecolor": "white",
            "showbackground": true,
            "ticks": "",
            "zerolinecolor": "white"
           }
          },
          "shapedefaults": {
           "line": {
            "color": "#2a3f5f"
           }
          },
          "ternary": {
           "aaxis": {
            "gridcolor": "white",
            "linecolor": "white",
            "ticks": ""
           },
           "baxis": {
            "gridcolor": "white",
            "linecolor": "white",
            "ticks": ""
           },
           "bgcolor": "#E5ECF6",
           "caxis": {
            "gridcolor": "white",
            "linecolor": "white",
            "ticks": ""
           }
          },
          "title": {
           "x": 0.05
          },
          "xaxis": {
           "automargin": true,
           "gridcolor": "white",
           "linecolor": "white",
           "ticks": "",
           "title": {
            "standoff": 15
           },
           "zerolinecolor": "white",
           "zerolinewidth": 2
          },
          "yaxis": {
           "automargin": true,
           "gridcolor": "white",
           "linecolor": "white",
           "ticks": "",
           "title": {
            "standoff": 15
           },
           "zerolinecolor": "white",
           "zerolinewidth": 2
          }
         }
        },
        "width": 600,
        "xaxis": {
         "range": [
          -5,
          6
         ],
         "type": "linear"
        },
        "yaxis": {
         "range": [
          -5,
          6
         ],
         "type": "linear"
        }
       }
      },
      "image/png": "[encoded data removed]",
      "text/html": [
       "<div\n",
       "    class=\"webio-mountpoint\"\n",
       "    data-webio-mountpoint=\"2043440203353931281\"\n",
       ">\n",
       "    <script>\n",
       "    (function(){\n",
       "    // Some integrations (namely, IJulia/Jupyter) use an alternate render pathway than\n",
       "    // just putting the html on the page. If WebIO isn't defined, then it's pretty likely\n",
       "    // that we're in one of those situations and the integration just isn't installed\n",
       "    // correctly.\n",
       "    if (typeof window.WebIO === \"undefined\") {\n",
       "        document\n",
       "            .querySelector('[data-webio-mountpoint=\"2043440203353931281\"]')\n",
       "            .innerHTML = (\n",
       "                '<div style=\"padding: 1em; background-color: #f8d6da; border: 1px solid #f5c6cb; font-weight: bold;\">' +\n",
       "                '<p><strong>WebIO not detected.</strong></p>' +\n",
       "                '<p>Please read ' +\n",
       "                '<a href=\"https://juliagizmos.github.io/WebIO.jl/latest/troubleshooting/not-detected/\" target=\"_blank\">the troubleshooting guide</a> ' +\n",
       "                'for more information on how to resolve this issue.</p>' +\n",
       "                '<p><a href=\"https://juliagizmos.github.io/WebIO.jl/latest/troubleshooting/not-detected/\" target=\"_blank\">https://juliagizmos.github.io/WebIO.jl/latest/troubleshooting/not-detected/</a></p>' +\n",
       "                '</div>'\n",
       "            );\n",
       "        return;\n",
       "    }\n",
       "    WebIO.mount(\n",
       "        document.querySelector('[data-webio-mountpoint=\"2043440203353931281\"]'),\n",
       "        {\"props\":{},\"nodeType\":\"Scope\",\"type\":\"node\",\"instanceArgs\":{\"imports\":{\"data\":[{\"name\":\"Plotly\",\"type\":\"js\",\"url\":\"\\/assetserver\\/d66a736669047bda0b2d00471bd5207a90cf3193-plotly.min.js\"},{\"name\":null,\"type\":\"js\",\"url\":\"\\/assetserver\\/aee3160e397a4905b07437c5af565305d1ef6def-plotly_webio.bundle.js\"}],\"type\":\"async_block\"},\"id\":\"3928017432222632600\",\"handlers\":{\"_toImage\":[\"(function (options){return this.Plotly.toImage(this.plotElem,options).then((function (data){return WebIO.setval({\\\"name\\\":\\\"image\\\",\\\"scope\\\":\\\"3928017432222632600\\\",\\\"id\\\":\\\"8713067419030644036\\\",\\\"type\\\":\\\"observable\\\"},data)}))})\"],\"__get_gd_contents\":[\"(function (prop){prop==\\\"data\\\" ? (WebIO.setval({\\\"name\\\":\\\"__gd_contents\\\",\\\"scope\\\":\\\"3928017432222632600\\\",\\\"id\\\":\\\"14110183904063696713\\\",\\\"type\\\":\\\"observable\\\"},this.plotElem.data)) : undefined; return prop==\\\"layout\\\" ? (WebIO.setval({\\\"name\\\":\\\"__gd_contents\\\",\\\"scope\\\":\\\"3928017432222632600\\\",\\\"id\\\":\\\"14110183904063696713\\\",\\\"type\\\":\\\"observable\\\"},this.plotElem.layout)) : undefined})\"],\"_downloadImage\":[\"(function (options){return this.Plotly.downloadImage(this.plotElem,options)})\"],\"_commands\":[\"(function (args){var fn=args.shift(); var elem=this.plotElem; var Plotly=this.Plotly; args.unshift(elem); return Plotly[fn].apply(this,args)})\"]},\"systemjs_options\":null,\"mount_callbacks\":[\"function () {\\n    var handler = ((function (Plotly,PlotlyWebIO){PlotlyWebIO.init(WebIO); var gd=this.dom.querySelector(\\\"#plot-9ac1684b-c010-4e69-83c7-4bc357f88bc6\\\"); this.plotElem=gd; this.Plotly=Plotly; (window.Blink!==undefined) ? (gd.style.width=\\\"100%\\\", gd.style.height=\\\"100vh\\\", gd.style.marginLeft=\\\"0%\\\", gd.style.marginTop=\\\"0vh\\\") : undefined; window.onresize=(function (){return Plotly.Plots.resize(gd)}); Plotly.newPlot(gd,[{\\\"y\\\":[1.0,1.0,-1.0,-1.0,1.0],\\\"type\\\":\\\"scatter\\\",\\\"x\\\":[2.9996891820008162,0.9996891820008162,0.9996891820008162,2.9996891820008162,2.9996891820008162]},{\\\"y\\\":[-1.0,-0.9950307753654014,-0.9801724878485439,-0.9555728057861408,-0.9214762118704077,-0.8782215733702285,-0.8262387743159951,-0.7660444431189781,-0.698236818086073,-0.6234898018587337,-0.5425462638657592,-0.4562106573531632,-0.3653410243663957,-0.2708404681430055,-0.17364817766693033,-0.07473009358642473,0.02493069173807279,0.1243437046474846,0.22252093395631423,0.3184866502516846,0.4112871031306113,0.49999999999999933,0.5837436722347895,0.6616858375968594,0.733051871829826,0.7971325072229218,0.8532908816321554,0.900968867902419,0.9396926207859084,0.9690772862290778,0.9888308262251284,0.9987569212189223,0.9987569212189223,0.9888308262251285,0.9690772862290782,0.9396926207859086,0.9009688679024193,0.8532908816321556,0.7971325072229227,0.7330518718298263,0.6616858375968597,0.58374367223479,0.5000000000000006,0.41128710313061173,0.3184866502516851,0.2225209339563147,0.12434370464748597,0.024930691738073277,-0.07473009358642335,-0.17364817766692986,-0.2708404681430033,-0.3653410243663936,-0.45621065735316196,-0.5425462638657588,-0.6234898018587333,-0.6982368180860729,-0.7660444431189783,-0.8262387743159954,-0.8782215733702283,-0.9214762118704076,-0.9555728057861402,-0.9801724878485436,-0.9950307753654013,-1.0,-1.0],\\\"type\\\":\\\"scatter\\\",\\\"x\\\":[1.2246467991473532e-16,-0.09956784659581648,-0.19814614319939736,-0.29475517441090393,-0.3884347962746944,-0.47825397862131824,-0.5633200580636216,-0.6427876096865393,-0.7158668492597183,-0.7818314824680297,-0.8400259231507715,-0.8898718088114684,-0.930873748644204,-0.9626242469500119,-0.984807753012208,-0.9972037971811801,-0.9996891820008162,-0.9922392066001722,-0.9749279121818236,-0.9479273461671317,-0.9115058523116732,-0.866025403784439,-0.8119380057158567,-0.7497812029677342,-0.6801727377709198,-0.6038044103254782,-0.5214352033794986,-0.43388373911755834,-0.3420201433256686,-0.24675739769029395,-0.14904226617617528,-0.0498458856606976,0.049845885660697115,0.14904226617617478,0.24675739769029262,0.3420201433256681,0.4338837391175579,0.5214352033794982,0.603804410325477,0.6801727377709194,0.7497812029677339,0.8119380057158564,0.8660254037844384,0.911505852311673,0.9479273461671315,0.9749279121818235,0.992239206600172,0.9996891820008162,0.9972037971811802,0.9848077530122081,0.9626242469500126,0.9308737486442048,0.8898718088114691,0.8400259231507718,0.78183148246803,0.7158668492597183,0.642787609686539,0.5633200580636213,0.4782539786213187,0.38843479627469485,0.2947551744109057,0.19814614319939872,0.09956784659581741,3.6739403974420594e-16,1.2246467991473532e-16]}],{\\\"xaxis\\\":{\\\"range\\\":[-5,6]},\\\"template\\\":{\\\"layout\\\":{\\\"coloraxis\\\":{\\\"colorbar\\\":{\\\"ticks\\\":\\\"\\\",\\\"outlinewidth\\\":0}},\\\"xaxis\\\":{\\\"gridcolor\\\":\\\"white\\\",\\\"zerolinewidth\\\":2,\\\"title\\\":{\\\"standoff\\\":15},\\\"ticks\\\":\\\"\\\",\\\"zerolinecolor\\\":\\\"white\\\",\\\"automargin\\\":true,\\\"linecolor\\\":\\\"white\\\"},\\\"hovermode\\\":\\\"closest\\\",\\\"paper_bgcolor\\\":\\\"white\\\",\\\"geo\\\":{\\\"showlakes\\\":true,\\\"showland\\\":true,\\\"landcolor\\\":\\\"#E5ECF6\\\",\\\"bgcolor\\\":\\\"white\\\",\\\"subunitcolor\\\":\\\"white\\\",\\\"lakecolor\\\":\\\"white\\\"},\\\"colorscale\\\":{\\\"sequential\\\":[[0.0,\\\"#0d0887\\\"],[0.1111111111111111,\\\"#46039f\\\"],[0.2222222222222222,\\\"#7201a8\\\"],[0.3333333333333333,\\\"#9c179e\\\"],[0.4444444444444444,\\\"#bd3786\\\"],[0.5555555555555556,\\\"#d8576b\\\"],[0.6666666666666666,\\\"#ed7953\\\"],[0.7777777777777778,\\\"#fb9f3a\\\"],[0.8888888888888888,\\\"#fdca26\\\"],[1.0,\\\"#f0f921\\\"]],\\\"diverging\\\":[[0,\\\"#8e0152\\\"],[0.1,\\\"#c51b7d\\\"],[0.2,\\\"#de77ae\\\"],[0.3,\\\"#f1b6da\\\"],[0.4,\\\"#fde0ef\\\"],[0.5,\\\"#f7f7f7\\\"],[0.6,\\\"#e6f5d0\\\"],[0.7,\\\"#b8e186\\\"],[0.8,\\\"#7fbc41\\\"],[0.9,\\\"#4d9221\\\"],[1,\\\"#276419\\\"]],\\\"sequentialminus\\\":[[0.0,\\\"#0d0887\\\"],[0.1111111111111111,\\\"#46039f\\\"],[0.2222222222222222,\\\"#7201a8\\\"],[0.3333333333333333,\\\"#9c179e\\\"],[0.4444444444444444,\\\"#bd3786\\\"],[0.5555555555555556,\\\"#d8576b\\\"],[0.6666666666666666,\\\"#ed7953\\\"],[0.7777777777777778,\\\"#fb9f3a\\\"],[0.8888888888888888,\\\"#fdca26\\\"],[1.0,\\\"#f0f921\\\"]]},\\\"yaxis\\\":{\\\"gridcolor\\\":\\\"white\\\",\\\"zerolinewidth\\\":2,\\\"title\\\":{\\\"standoff\\\":15},\\\"ticks\\\":\\\"\\\",\\\"zerolinecolor\\\":\\\"white\\\",\\\"automargin\\\":true,\\\"linecolor\\\":\\\"white\\\"},\\\"shapedefaults\\\":{\\\"line\\\":{\\\"color\\\":\\\"#2a3f5f\\\"}},\\\"hoverlabel\\\":{\\\"align\\\":\\\"left\\\"},\\\"mapbox\\\":{\\\"style\\\":\\\"light\\\"},\\\"polar\\\":{\\\"angularaxis\\\":{\\\"gridcolor\\\":\\\"white\\\",\\\"ticks\\\":\\\"\\\",\\\"linecolor\\\":\\\"white\\\"},\\\"bgcolor\\\":\\\"#E5ECF6\\\",\\\"radialaxis\\\":{\\\"gridcolor\\\":\\\"white\\\",\\\"ticks\\\":\\\"\\\",\\\"linecolor\\\":\\\"white\\\"}},\\\"autotypenumbers\\\":\\\"strict\\\",\\\"font\\\":{\\\"color\\\":\\\"#2a3f5f\\\"},\\\"ternary\\\":{\\\"baxis\\\":{\\\"gridcolor\\\":\\\"white\\\",\\\"ticks\\\":\\\"\\\",\\\"linecolor\\\":\\\"white\\\"},\\\"bgcolor\\\":\\\"#E5ECF6\\\",\\\"caxis\\\":{\\\"gridcolor\\\":\\\"white\\\",\\\"ticks\\\":\\\"\\\",\\\"linecolor\\\":\\\"white\\\"},\\\"aaxis\\\":{\\\"gridcolor\\\":\\\"white\\\",\\\"ticks\\\":\\\"\\\",\\\"linecolor\\\":\\\"white\\\"}},\\\"annotationdefaults\\\":{\\\"arrowhead\\\":0,\\\"arrowwidth\\\":1,\\\"arrowcolor\\\":\\\"#2a3f5f\\\"},\\\"plot_bgcolor\\\":\\\"#E5ECF6\\\",\\\"title\\\":{\\\"x\\\":0.05},\\\"scene\\\":{\\\"xaxis\\\":{\\\"gridcolor\\\":\\\"white\\\",\\\"gridwidth\\\":2,\\\"backgroundcolor\\\":\\\"#E5ECF6\\\",\\\"ticks\\\":\\\"\\\",\\\"showbackground\\\":true,\\\"zerolinecolor\\\":\\\"white\\\",\\\"linecolor\\\":\\\"white\\\"},\\\"zaxis\\\":{\\\"gridcolor\\\":\\\"white\\\",\\\"gridwidth\\\":2,\\\"backgroundcolor\\\":\\\"#E5ECF6\\\",\\\"ticks\\\":\\\"\\\",\\\"showbackground\\\":true,\\\"zerolinecolor\\\":\\\"white\\\",\\\"linecolor\\\":\\\"white\\\"},\\\"yaxis\\\":{\\\"gridcolor\\\":\\\"white\\\",\\\"gridwidth\\\":2,\\\"backgroundcolor\\\":\\\"#E5ECF6\\\",\\\"ticks\\\":\\\"\\\",\\\"showbackground\\\":true,\\\"zerolinecolor\\\":\\\"white\\\",\\\"linecolor\\\":\\\"white\\\"}},\\\"colorway\\\":[\\\"#636efa\\\",\\\"#EF553B\\\",\\\"#00cc96\\\",\\\"#ab63fa\\\",\\\"#FFA15A\\\",\\\"#19d3f3\\\",\\\"#FF6692\\\",\\\"#B6E880\\\",\\\"#FF97FF\\\",\\\"#FECB52\\\"]},\\\"data\\\":{\\\"barpolar\\\":[{\\\"type\\\":\\\"barpolar\\\",\\\"marker\\\":{\\\"line\\\":{\\\"color\\\":\\\"#E5ECF6\\\",\\\"width\\\":0.5}}}],\\\"carpet\\\":[{\\\"aaxis\\\":{\\\"gridcolor\\\":\\\"white\\\",\\\"endlinecolor\\\":\\\"#2a3f5f\\\",\\\"minorgridcolor\\\":\\\"white\\\",\\\"startlinecolor\\\":\\\"#2a3f5f\\\",\\\"linecolor\\\":\\\"white\\\"},\\\"type\\\":\\\"carpet\\\",\\\"baxis\\\":{\\\"gridcolor\\\":\\\"white\\\",\\\"endlinecolor\\\":\\\"#2a3f5f\\\",\\\"minorgridcolor\\\":\\\"white\\\",\\\"startlinecolor\\\":\\\"#2a3f5f\\\",\\\"linecolor\\\":\\\"white\\\"}}],\\\"scatterpolar\\\":[{\\\"type\\\":\\\"scatterpolar\\\",\\\"marker\\\":{\\\"colorbar\\\":{\\\"ticks\\\":\\\"\\\",\\\"outlinewidth\\\":0}}}],\\\"parcoords\\\":[{\\\"line\\\":{\\\"colorbar\\\":{\\\"ticks\\\":\\\"\\\",\\\"outlinewidth\\\":0}},\\\"type\\\":\\\"parcoords\\\"}],\\\"scatter\\\":[{\\\"type\\\":\\\"scatter\\\",\\\"marker\\\":{\\\"colorbar\\\":{\\\"ticks\\\":\\\"\\\",\\\"outlinewidth\\\":0}}}],\\\"histogram2dcontour\\\":[{\\\"colorbar\\\":{\\\"ticks\\\":\\\"\\\",\\\"outlinewidth\\\":0},\\\"type\\\":\\\"histogram2dcontour\\\",\\\"colorscale\\\":[[0.0,\\\"#0d0887\\\"],[0.1111111111111111,\\\"#46039f\\\"],[0.2222222222222222,\\\"#7201a8\\\"],[0.3333333333333333,\\\"#9c179e\\\"],[0.4444444444444444,\\\"#bd3786\\\"],[0.5555555555555556,\\\"#d8576b\\\"],[0.6666666666666666,\\\"#ed7953\\\"],[0.7777777777777778,\\\"#fb9f3a\\\"],[0.8888888888888888,\\\"#fdca26\\\"],[1.0,\\\"#f0f921\\\"]]}],\\\"contour\\\":[{\\\"colorbar\\\":{\\\"ticks\\\":\\\"\\\",\\\"outlinewidth\\\":0},\\\"type\\\":\\\"contour\\\",\\\"colorscale\\\":[[0.0,\\\"#0d0887\\\"],[0.1111111111111111,\\\"#46039f\\\"],[0.2222222222222222,\\\"#7201a8\\\"],[0.3333333333333333,\\\"#9c179e\\\"],[0.4444444444444444,\\\"#bd3786\\\"],[0.5555555555555556,\\\"#d8576b\\\"],[0.6666666666666666,\\\"#ed7953\\\"],[0.7777777777777778,\\\"#fb9f3a\\\"],[0.8888888888888888,\\\"#fdca26\\\"],[1.0,\\\"#f0f921\\\"]]}],\\\"scattercarpet\\\":[{\\\"type\\\":\\\"scattercarpet\\\",\\\"marker\\\":{\\\"colorbar\\\":{\\\"ticks\\\":\\\"\\\",\\\"outlinewidth\\\":0}}}],\\\"mesh3d\\\":[{\\\"colorbar\\\":{\\\"ticks\\\":\\\"\\\",\\\"outlinewidth\\\":0},\\\"type\\\":\\\"mesh3d\\\"}],\\\"surface\\\":[{\\\"colorbar\\\":{\\\"ticks\\\":\\\"\\\",\\\"outlinewidth\\\":0},\\\"type\\\":\\\"surface\\\",\\\"colorscale\\\":[[0.0,\\\"#0d0887\\\"],[0.1111111111111111,\\\"#46039f\\\"],[0.2222222222222222,\\\"#7201a8\\\"],[0.3333333333333333,\\\"#9c179e\\\"],[0.4444444444444444,\\\"#bd3786\\\"],[0.5555555555555556,\\\"#d8576b\\\"],[0.6666666666666666,\\\"#ed7953\\\"],[0.7777777777777778,\\\"#fb9f3a\\\"],[0.8888888888888888,\\\"#fdca26\\\"],[1.0,\\\"#f0f921\\\"]]}],\\\"scattermapbox\\\":[{\\\"type\\\":\\\"scattermapbox\\\",\\\"marker\\\":{\\\"colorbar\\\":{\\\"ticks\\\":\\\"\\\",\\\"outlinewidth\\\":0}}}],\\\"scattergeo\\\":[{\\\"type\\\":\\\"scattergeo\\\",\\\"marker\\\":{\\\"colorbar\\\":{\\\"ticks\\\":\\\"\\\",\\\"outlinewidth\\\":0}}}],\\\"histogram\\\":[{\\\"type\\\":\\\"histogram\\\",\\\"marker\\\":{\\\"colorbar\\\":{\\\"ticks\\\":\\\"\\\",\\\"outlinewidth\\\":0}}}],\\\"pie\\\":[{\\\"type\\\":\\\"pie\\\",\\\"automargin\\\":true}],\\\"choropleth\\\":[{\\\"colorbar\\\":{\\\"ticks\\\":\\\"\\\",\\\"outlinewidth\\\":0},\\\"type\\\":\\\"choropleth\\\"}],\\\"heatmapgl\\\":[{\\\"colorbar\\\":{\\\"ticks\\\":\\\"\\\",\\\"outlinewidth\\\":0},\\\"type\\\":\\\"heatmapgl\\\",\\\"colorscale\\\":[[0.0,\\\"#0d0887\\\"],[0.1111111111111111,\\\"#46039f\\\"],[0.2222222222222222,\\\"#7201a8\\\"],[0.3333333333333333,\\\"#9c179e\\\"],[0.4444444444444444,\\\"#bd3786\\\"],[0.5555555555555556,\\\"#d8576b\\\"],[0.6666666666666666,\\\"#ed7953\\\"],[0.7777777777777778,\\\"#fb9f3a\\\"],[0.8888888888888888,\\\"#fdca26\\\"],[1.0,\\\"#f0f921\\\"]]}],\\\"bar\\\":[{\\\"type\\\":\\\"bar\\\",\\\"error_y\\\":{\\\"color\\\":\\\"#2a3f5f\\\"},\\\"error_x\\\":{\\\"color\\\":\\\"#2a3f5f\\\"},\\\"marker\\\":{\\\"line\\\":{\\\"color\\\":\\\"#E5ECF6\\\",\\\"width\\\":0.5}}}],\\\"heatmap\\\":[{\\\"colorbar\\\":{\\\"ticks\\\":\\\"\\\",\\\"outlinewidth\\\":0},\\\"type\\\":\\\"heatmap\\\",\\\"colorscale\\\":[[0.0,\\\"#0d0887\\\"],[0.1111111111111111,\\\"#46039f\\\"],[0.2222222222222222,\\\"#7201a8\\\"],[0.3333333333333333,\\\"#9c179e\\\"],[0.4444444444444444,\\\"#bd3786\\\"],[0.5555555555555556,\\\"#d8576b\\\"],[0.6666666666666666,\\\"#ed7953\\\"],[0.7777777777777778,\\\"#fb9f3a\\\"],[0.8888888888888888,\\\"#fdca26\\\"],[1.0,\\\"#f0f921\\\"]]}],\\\"contourcarpet\\\":[{\\\"colorbar\\\":{\\\"ticks\\\":\\\"\\\",\\\"outlinewidth\\\":0},\\\"type\\\":\\\"contourcarpet\\\"}],\\\"table\\\":[{\\\"type\\\":\\\"table\\\",\\\"header\\\":{\\\"line\\\":{\\\"color\\\":\\\"white\\\"},\\\"fill\\\":{\\\"color\\\":\\\"#C8D4E3\\\"}},\\\"cells\\\":{\\\"line\\\":{\\\"color\\\":\\\"white\\\"},\\\"fill\\\":{\\\"color\\\":\\\"#EBF0F8\\\"}}}],\\\"scatter3d\\\":[{\\\"line\\\":{\\\"colorbar\\\":{\\\"ticks\\\":\\\"\\\",\\\"outlinewidth\\\":0}},\\\"type\\\":\\\"scatter3d\\\",\\\"marker\\\":{\\\"colorbar\\\":{\\\"ticks\\\":\\\"\\\",\\\"outlinewidth\\\":0}}}],\\\"scattergl\\\":[{\\\"type\\\":\\\"scattergl\\\",\\\"marker\\\":{\\\"colorbar\\\":{\\\"ticks\\\":\\\"\\\",\\\"outlinewidth\\\":0}}}],\\\"histogram2d\\\":[{\\\"colorbar\\\":{\\\"ticks\\\":\\\"\\\",\\\"outlinewidth\\\":0},\\\"type\\\":\\\"histogram2d\\\",\\\"colorscale\\\":[[0.0,\\\"#0d0887\\\"],[0.1111111111111111,\\\"#46039f\\\"],[0.2222222222222222,\\\"#7201a8\\\"],[0.3333333333333333,\\\"#9c179e\\\"],[0.4444444444444444,\\\"#bd3786\\\"],[0.5555555555555556,\\\"#d8576b\\\"],[0.6666666666666666,\\\"#ed7953\\\"],[0.7777777777777778,\\\"#fb9f3a\\\"],[0.8888888888888888,\\\"#fdca26\\\"],[1.0,\\\"#f0f921\\\"]]}],\\\"scatterternary\\\":[{\\\"type\\\":\\\"scatterternary\\\",\\\"marker\\\":{\\\"colorbar\\\":{\\\"ticks\\\":\\\"\\\",\\\"outlinewidth\\\":0}}}],\\\"scatterpolargl\\\":[{\\\"type\\\":\\\"scatterpolargl\\\",\\\"marker\\\":{\\\"colorbar\\\":{\\\"ticks\\\":\\\"\\\",\\\"outlinewidth\\\":0}}}]}},\\\"height\\\":600,\\\"margin\\\":{\\\"l\\\":50,\\\"b\\\":50,\\\"r\\\":50,\\\"t\\\":60},\\\"yaxis\\\":{\\\"range\\\":[-5,6]},\\\"width\\\":600},{\\\"showLink\\\":false,\\\"editable\\\":false,\\\"responsive\\\":true,\\\"staticPlot\\\":false,\\\"scrollZoom\\\":true}); gd.on(\\\"plotly_hover\\\",(function (data){var filtered_data=WebIO.PlotlyCommands.filterEventData(gd,data,\\\"hover\\\"); return !(filtered_data.isnil) ? (WebIO.setval({\\\"name\\\":\\\"hover\\\",\\\"scope\\\":\\\"3928017432222632600\\\",\\\"id\\\":\\\"17415074743528265331\\\",\\\"type\\\":\\\"observable\\\"},filtered_data.out)) : undefined})); gd.on(\\\"plotly_unhover\\\",(function (){return WebIO.setval({\\\"name\\\":\\\"hover\\\",\\\"scope\\\":\\\"3928017432222632600\\\",\\\"id\\\":\\\"17415074743528265331\\\",\\\"type\\\":\\\"observable\\\"},{})})); gd.on(\\\"plotly_selected\\\",(function (data){var filtered_data=WebIO.PlotlyCommands.filterEventData(gd,data,\\\"selected\\\"); return !(filtered_data.isnil) ? (WebIO.setval({\\\"name\\\":\\\"selected\\\",\\\"scope\\\":\\\"3928017432222632600\\\",\\\"id\\\":\\\"18104347049167331796\\\",\\\"type\\\":\\\"observable\\\"},filtered_data.out)) : undefined})); gd.on(\\\"plotly_deselect\\\",(function (){return WebIO.setval({\\\"name\\\":\\\"selected\\\",\\\"scope\\\":\\\"3928017432222632600\\\",\\\"id\\\":\\\"18104347049167331796\\\",\\\"type\\\":\\\"observable\\\"},{})})); gd.on(\\\"plotly_relayout\\\",(function (data){var filtered_data=WebIO.PlotlyCommands.filterEventData(gd,data,\\\"relayout\\\"); return !(filtered_data.isnil) ? (WebIO.setval({\\\"name\\\":\\\"relayout\\\",\\\"scope\\\":\\\"3928017432222632600\\\",\\\"id\\\":\\\"291815335787315564\\\",\\\"type\\\":\\\"observable\\\"},filtered_data.out)) : undefined})); return gd.on(\\\"plotly_click\\\",(function (data){var filtered_data=WebIO.PlotlyCommands.filterEventData(gd,data,\\\"click\\\"); return !(filtered_data.isnil) ? (WebIO.setval({\\\"name\\\":\\\"click\\\",\\\"scope\\\":\\\"3928017432222632600\\\",\\\"id\\\":\\\"7670048305214572389\\\",\\\"type\\\":\\\"observable\\\"},filtered_data.out)) : undefined}))}));\\n    (WebIO.importBlock({\\\"data\\\":[{\\\"name\\\":\\\"Plotly\\\",\\\"type\\\":\\\"js\\\",\\\"url\\\":\\\"\\/assetserver\\/d66a736669047bda0b2d00471bd5207a90cf3193-plotly.min.js\\\"},{\\\"name\\\":null,\\\"type\\\":\\\"js\\\",\\\"url\\\":\\\"\\/assetserver\\/aee3160e397a4905b07437c5af565305d1ef6def-plotly_webio.bundle.js\\\"}],\\\"type\\\":\\\"async_block\\\"})).then((imports) => handler.apply(this, imports));\\n}\\n\"],\"observables\":{\"_toImage\":{\"sync\":false,\"id\":\"8908006752654640309\",\"value\":{}},\"hover\":{\"sync\":false,\"id\":\"17415074743528265331\",\"value\":{}},\"selected\":{\"sync\":false,\"id\":\"18104347049167331796\",\"value\":{}},\"__gd_contents\":{\"sync\":false,\"id\":\"14110183904063696713\",\"value\":{}},\"click\":{\"sync\":false,\"id\":\"7670048305214572389\",\"value\":{}},\"image\":{\"sync\":true,\"id\":\"8713067419030644036\",\"value\":\"\"},\"__get_gd_contents\":{\"sync\":false,\"id\":\"6681326271059021030\",\"value\":\"\"},\"_downloadImage\":{\"sync\":false,\"id\":\"12239240331659880157\",\"value\":{}},\"relayout\":{\"sync\":false,\"id\":\"291815335787315564\",\"value\":{}},\"_commands\":{\"sync\":false,\"id\":\"8433156025033738100\",\"value\":[]}}},\"children\":[{\"props\":{\"id\":\"plot-9ac1684b-c010-4e69-83c7-4bc357f88bc6\"},\"nodeType\":\"DOM\",\"type\":\"node\",\"instanceArgs\":{\"namespace\":\"html\",\"tag\":\"div\"},\"children\":[]}]},\n",
       "        window,\n",
       "    );\n",
       "    })()\n",
       "    </script>\n",
       "</div>\n"
      ],
      "text/plain": [
       "data: [\n",
       "  \"scatter with fields type, x, and y\",\n",
       "  \"scatter with fields type, x, and y\"\n",
       "]\n",
       "\n",
       "layout: \"layout with fields height, margin, template, width, xaxis, and yaxis\"\n",
       "\n"
      ]
     },
     "execution_count": 27,
     "metadata": {},
     "output_type": "execute_result"
    }
   ],
   "source": [
    "D1 = DiagramDual(MyCircle())\n",
    "D2 = DiagramDual(MySquare(2));\n",
    "D3  = beside(D1,D2,[1,0])\n",
    "\n",
    "function plotgeometry(D::DiagramDual; kwargs...)\n",
    "    map(plotgeometry,D.p)\n",
    "end\n",
    "\n",
    "p = plotgeometry(D3)\n",
    "plot(p,layout)"
   ]
  },
  {
   "cell_type": "code",
   "execution_count": 28,
   "id": "f3cc2290-9420-4f12-a799-cf814eb49ff4",
   "metadata": {},
   "outputs": [
    {
     "data": {
      "application/vnd.plotly.v1+json": {
       "config": {
        "editable": false,
        "responsive": true,
        "scrollZoom": true,
        "showLink": false,
        "staticPlot": false
       },
       "data": [
        {
         "type": "scatter",
         "x": [
          2.9996891820008162,
          0.9996891820008162,
          0.9996891820008162,
          2.9996891820008162,
          2.9996891820008162
         ],
         "y": [
          3,
          3,
          1,
          1,
          3
         ]
        },
        {
         "type": "scatter",
         "x": [
          1.2246467991473532e-16,
          -0.09956784659581648,
          -0.19814614319939736,
          -0.29475517441090393,
          -0.3884347962746944,
          -0.47825397862131824,
          -0.5633200580636216,
          -0.6427876096865393,
          -0.7158668492597183,
          -0.7818314824680297,
          -0.8400259231507715,
          -0.8898718088114684,
          -0.930873748644204,
          -0.9626242469500119,
          -0.984807753012208,
          -0.9972037971811801,
          -0.9996891820008162,
          -0.9922392066001722,
          -0.9749279121818236,
          -0.9479273461671317,
          -0.9115058523116732,
          -0.866025403784439,
          -0.8119380057158567,
          -0.7497812029677342,
          -0.6801727377709198,
          -0.6038044103254782,
          -0.5214352033794986,
          -0.43388373911755834,
          -0.3420201433256686,
          -0.24675739769029395,
          -0.14904226617617528,
          -0.0498458856606976,
          0.049845885660697115,
          0.14904226617617478,
          0.24675739769029262,
          0.3420201433256681,
          0.4338837391175579,
          0.5214352033794982,
          0.603804410325477,
          0.6801727377709194,
          0.7497812029677339,
          0.8119380057158564,
          0.8660254037844384,
          0.911505852311673,
          0.9479273461671315,
          0.9749279121818235,
          0.992239206600172,
          0.9996891820008162,
          0.9972037971811802,
          0.9848077530122081,
          0.9626242469500126,
          0.9308737486442048,
          0.8898718088114691,
          0.8400259231507718,
          0.78183148246803,
          0.7158668492597183,
          0.642787609686539,
          0.5633200580636213,
          0.4782539786213187,
          0.38843479627469485,
          0.2947551744109057,
          0.19814614319939872,
          0.09956784659581741,
          3.6739403974420594e-16,
          1.2246467991473532e-16
         ],
         "y": [
          1,
          1.0049692246345985,
          1.0198275121514562,
          1.0444271942138592,
          1.0785237881295924,
          1.1217784266297715,
          1.1737612256840049,
          1.2339555568810219,
          1.301763181913927,
          1.3765101981412662,
          1.4574537361342408,
          1.5437893426468368,
          1.6346589756336043,
          1.7291595318569946,
          1.8263518223330697,
          1.9252699064135752,
          2.024930691738073,
          2.1243437046474845,
          2.2225209339563143,
          2.3184866502516845,
          2.4112871031306113,
          2.499999999999999,
          2.5837436722347897,
          2.6616858375968593,
          2.733051871829826,
          2.797132507222922,
          2.853290881632155,
          2.900968867902419,
          2.9396926207859084,
          2.9690772862290777,
          2.9888308262251284,
          2.9987569212189222,
          2.9987569212189222,
          2.9888308262251284,
          2.969077286229078,
          2.939692620785909,
          2.900968867902419,
          2.8532908816321556,
          2.7971325072229227,
          2.7330518718298262,
          2.6616858375968597,
          2.5837436722347897,
          2.5000000000000004,
          2.411287103130612,
          2.318486650251685,
          2.222520933956315,
          2.124343704647486,
          2.0249306917380734,
          1.9252699064135768,
          1.8263518223330701,
          1.7291595318569968,
          1.6346589756336063,
          1.543789342646838,
          1.4574537361342412,
          1.3765101981412666,
          1.3017631819139273,
          1.2339555568810217,
          1.1737612256840046,
          1.1217784266297717,
          1.0785237881295924,
          1.0444271942138599,
          1.0198275121514564,
          1.0049692246345987,
          1,
          1
         ]
        },
        {
         "type": "scatter",
         "x": [
          0,
          1,
          1,
          0
         ],
         "y": [
          0,
          1,
          0,
          0
         ]
        }
       ],
       "frames": [],
       "layout": {
        "height": 600,
        "margin": {
         "b": 50,
         "l": 50,
         "r": 50,
         "t": 60
        },
        "template": {
         "data": {
          "bar": [
           {
            "error_x": {
             "color": "#2a3f5f"
            },
            "error_y": {
             "color": "#2a3f5f"
            },
            "marker": {
             "line": {
              "color": "#E5ECF6",
              "width": 0.5
             }
            },
            "type": "bar"
           }
          ],
          "barpolar": [
           {
            "marker": {
             "line": {
              "color": "#E5ECF6",
              "width": 0.5
             }
            },
            "type": "barpolar"
           }
          ],
          "carpet": [
           {
            "aaxis": {
             "endlinecolor": "#2a3f5f",
             "gridcolor": "white",
             "linecolor": "white",
             "minorgridcolor": "white",
             "startlinecolor": "#2a3f5f"
            },
            "baxis": {
             "endlinecolor": "#2a3f5f",
             "gridcolor": "white",
             "linecolor": "white",
             "minorgridcolor": "white",
             "startlinecolor": "#2a3f5f"
            },
            "type": "carpet"
           }
          ],
          "choropleth": [
           {
            "colorbar": {
             "outlinewidth": 0,
             "ticks": ""
            },
            "type": "choropleth"
           }
          ],
          "contour": [
           {
            "colorbar": {
             "outlinewidth": 0,
             "ticks": ""
            },
            "colorscale": [
             [
              0,
              "#0d0887"
             ],
             [
              0.1111111111111111,
              "#46039f"
             ],
             [
              0.2222222222222222,
              "#7201a8"
             ],
             [
              0.3333333333333333,
              "#9c179e"
             ],
             [
              0.4444444444444444,
              "#bd3786"
             ],
             [
              0.5555555555555556,
              "#d8576b"
             ],
             [
              0.6666666666666666,
              "#ed7953"
             ],
             [
              0.7777777777777778,
              "#fb9f3a"
             ],
             [
              0.8888888888888888,
              "#fdca26"
             ],
             [
              1,
              "#f0f921"
             ]
            ],
            "type": "contour"
           }
          ],
          "contourcarpet": [
           {
            "colorbar": {
             "outlinewidth": 0,
             "ticks": ""
            },
            "type": "contourcarpet"
           }
          ],
          "heatmap": [
           {
            "colorbar": {
             "outlinewidth": 0,
             "ticks": ""
            },
            "colorscale": [
             [
              0,
              "#0d0887"
             ],
             [
              0.1111111111111111,
              "#46039f"
             ],
             [
              0.2222222222222222,
              "#7201a8"
             ],
             [
              0.3333333333333333,
              "#9c179e"
             ],
             [
              0.4444444444444444,
              "#bd3786"
             ],
             [
              0.5555555555555556,
              "#d8576b"
             ],
             [
              0.6666666666666666,
              "#ed7953"
             ],
             [
              0.7777777777777778,
              "#fb9f3a"
             ],
             [
              0.8888888888888888,
              "#fdca26"
             ],
             [
              1,
              "#f0f921"
             ]
            ],
            "type": "heatmap"
           }
          ],
          "heatmapgl": [
           {
            "colorbar": {
             "outlinewidth": 0,
             "ticks": ""
            },
            "colorscale": [
             [
              0,
              "#0d0887"
             ],
             [
              0.1111111111111111,
              "#46039f"
             ],
             [
              0.2222222222222222,
              "#7201a8"
             ],
             [
              0.3333333333333333,
              "#9c179e"
             ],
             [
              0.4444444444444444,
              "#bd3786"
             ],
             [
              0.5555555555555556,
              "#d8576b"
             ],
             [
              0.6666666666666666,
              "#ed7953"
             ],
             [
              0.7777777777777778,
              "#fb9f3a"
             ],
             [
              0.8888888888888888,
              "#fdca26"
             ],
             [
              1,
              "#f0f921"
             ]
            ],
            "type": "heatmapgl"
           }
          ],
          "histogram": [
           {
            "marker": {
             "colorbar": {
              "outlinewidth": 0,
              "ticks": ""
             }
            },
            "type": "histogram"
           }
          ],
          "histogram2d": [
           {
            "colorbar": {
             "outlinewidth": 0,
             "ticks": ""
            },
            "colorscale": [
             [
              0,
              "#0d0887"
             ],
             [
              0.1111111111111111,
              "#46039f"
             ],
             [
              0.2222222222222222,
              "#7201a8"
             ],
             [
              0.3333333333333333,
              "#9c179e"
             ],
             [
              0.4444444444444444,
              "#bd3786"
             ],
             [
              0.5555555555555556,
              "#d8576b"
             ],
             [
              0.6666666666666666,
              "#ed7953"
             ],
             [
              0.7777777777777778,
              "#fb9f3a"
             ],
             [
              0.8888888888888888,
              "#fdca26"
             ],
             [
              1,
              "#f0f921"
             ]
            ],
            "type": "histogram2d"
           }
          ],
          "histogram2dcontour": [
           {
            "colorbar": {
             "outlinewidth": 0,
             "ticks": ""
            },
            "colorscale": [
             [
              0,
              "#0d0887"
             ],
             [
              0.1111111111111111,
              "#46039f"
             ],
             [
              0.2222222222222222,
              "#7201a8"
             ],
             [
              0.3333333333333333,
              "#9c179e"
             ],
             [
              0.4444444444444444,
              "#bd3786"
             ],
             [
              0.5555555555555556,
              "#d8576b"
             ],
             [
              0.6666666666666666,
              "#ed7953"
             ],
             [
              0.7777777777777778,
              "#fb9f3a"
             ],
             [
              0.8888888888888888,
              "#fdca26"
             ],
             [
              1,
              "#f0f921"
             ]
            ],
            "type": "histogram2dcontour"
           }
          ],
          "mesh3d": [
           {
            "colorbar": {
             "outlinewidth": 0,
             "ticks": ""
            },
            "type": "mesh3d"
           }
          ],
          "parcoords": [
           {
            "line": {
             "colorbar": {
              "outlinewidth": 0,
              "ticks": ""
             }
            },
            "type": "parcoords"
           }
          ],
          "pie": [
           {
            "automargin": true,
            "type": "pie"
           }
          ],
          "scatter": [
           {
            "marker": {
             "colorbar": {
              "outlinewidth": 0,
              "ticks": ""
             }
            },
            "type": "scatter"
           }
          ],
          "scatter3d": [
           {
            "line": {
             "colorbar": {
              "outlinewidth": 0,
              "ticks": ""
             }
            },
            "marker": {
             "colorbar": {
              "outlinewidth": 0,
              "ticks": ""
             }
            },
            "type": "scatter3d"
           }
          ],
          "scattercarpet": [
           {
            "marker": {
             "colorbar": {
              "outlinewidth": 0,
              "ticks": ""
             }
            },
            "type": "scattercarpet"
           }
          ],
          "scattergeo": [
           {
            "marker": {
             "colorbar": {
              "outlinewidth": 0,
              "ticks": ""
             }
            },
            "type": "scattergeo"
           }
          ],
          "scattergl": [
           {
            "marker": {
             "colorbar": {
              "outlinewidth": 0,
              "ticks": ""
             }
            },
            "type": "scattergl"
           }
          ],
          "scattermapbox": [
           {
            "marker": {
             "colorbar": {
              "outlinewidth": 0,
              "ticks": ""
             }
            },
            "type": "scattermapbox"
           }
          ],
          "scatterpolar": [
           {
            "marker": {
             "colorbar": {
              "outlinewidth": 0,
              "ticks": ""
             }
            },
            "type": "scatterpolar"
           }
          ],
          "scatterpolargl": [
           {
            "marker": {
             "colorbar": {
              "outlinewidth": 0,
              "ticks": ""
             }
            },
            "type": "scatterpolargl"
           }
          ],
          "scatterternary": [
           {
            "marker": {
             "colorbar": {
              "outlinewidth": 0,
              "ticks": ""
             }
            },
            "type": "scatterternary"
           }
          ],
          "surface": [
           {
            "colorbar": {
             "outlinewidth": 0,
             "ticks": ""
            },
            "colorscale": [
             [
              0,
              "#0d0887"
             ],
             [
              0.1111111111111111,
              "#46039f"
             ],
             [
              0.2222222222222222,
              "#7201a8"
             ],
             [
              0.3333333333333333,
              "#9c179e"
             ],
             [
              0.4444444444444444,
              "#bd3786"
             ],
             [
              0.5555555555555556,
              "#d8576b"
             ],
             [
              0.6666666666666666,
              "#ed7953"
             ],
             [
              0.7777777777777778,
              "#fb9f3a"
             ],
             [
              0.8888888888888888,
              "#fdca26"
             ],
             [
              1,
              "#f0f921"
             ]
            ],
            "type": "surface"
           }
          ],
          "table": [
           {
            "cells": {
             "fill": {
              "color": "#EBF0F8"
             },
             "line": {
              "color": "white"
             }
            },
            "header": {
             "fill": {
              "color": "#C8D4E3"
             },
             "line": {
              "color": "white"
             }
            },
            "type": "table"
           }
          ]
         },
         "layout": {
          "annotationdefaults": {
           "arrowcolor": "#2a3f5f",
           "arrowhead": 0,
           "arrowwidth": 1
          },
          "autotypenumbers": "strict",
          "coloraxis": {
           "colorbar": {
            "outlinewidth": 0,
            "ticks": ""
           }
          },
          "colorscale": {
           "diverging": [
            [
             0,
             "#8e0152"
            ],
            [
             0.1,
             "#c51b7d"
            ],
            [
             0.2,
             "#de77ae"
            ],
            [
             0.3,
             "#f1b6da"
            ],
            [
             0.4,
             "#fde0ef"
            ],
            [
             0.5,
             "#f7f7f7"
            ],
            [
             0.6,
             "#e6f5d0"
            ],
            [
             0.7,
             "#b8e186"
            ],
            [
             0.8,
             "#7fbc41"
            ],
            [
             0.9,
             "#4d9221"
            ],
            [
             1,
             "#276419"
            ]
           ],
           "sequential": [
            [
             0,
             "#0d0887"
            ],
            [
             0.1111111111111111,
             "#46039f"
            ],
            [
             0.2222222222222222,
             "#7201a8"
            ],
            [
             0.3333333333333333,
             "#9c179e"
            ],
            [
             0.4444444444444444,
             "#bd3786"
            ],
            [
             0.5555555555555556,
             "#d8576b"
            ],
            [
             0.6666666666666666,
             "#ed7953"
            ],
            [
             0.7777777777777778,
             "#fb9f3a"
            ],
            [
             0.8888888888888888,
             "#fdca26"
            ],
            [
             1,
             "#f0f921"
            ]
           ],
           "sequentialminus": [
            [
             0,
             "#0d0887"
            ],
            [
             0.1111111111111111,
             "#46039f"
            ],
            [
             0.2222222222222222,
             "#7201a8"
            ],
            [
             0.3333333333333333,
             "#9c179e"
            ],
            [
             0.4444444444444444,
             "#bd3786"
            ],
            [
             0.5555555555555556,
             "#d8576b"
            ],
            [
             0.6666666666666666,
             "#ed7953"
            ],
            [
             0.7777777777777778,
             "#fb9f3a"
            ],
            [
             0.8888888888888888,
             "#fdca26"
            ],
            [
             1,
             "#f0f921"
            ]
           ]
          },
          "colorway": [
           "#636efa",
           "#EF553B",
           "#00cc96",
           "#ab63fa",
           "#FFA15A",
           "#19d3f3",
           "#FF6692",
           "#B6E880",
           "#FF97FF",
           "#FECB52"
          ],
          "font": {
           "color": "#2a3f5f"
          },
          "geo": {
           "bgcolor": "white",
           "lakecolor": "white",
           "landcolor": "#E5ECF6",
           "showlakes": true,
           "showland": true,
           "subunitcolor": "white"
          },
          "hoverlabel": {
           "align": "left"
          },
          "hovermode": "closest",
          "mapbox": {
           "style": "light"
          },
          "paper_bgcolor": "white",
          "plot_bgcolor": "#E5ECF6",
          "polar": {
           "angularaxis": {
            "gridcolor": "white",
            "linecolor": "white",
            "ticks": ""
           },
           "bgcolor": "#E5ECF6",
           "radialaxis": {
            "gridcolor": "white",
            "linecolor": "white",
            "ticks": ""
           }
          },
          "scene": {
           "xaxis": {
            "backgroundcolor": "#E5ECF6",
            "gridcolor": "white",
            "gridwidth": 2,
            "linecolor": "white",
            "showbackground": true,
            "ticks": "",
            "zerolinecolor": "white"
           },
           "yaxis": {
            "backgroundcolor": "#E5ECF6",
            "gridcolor": "white",
            "gridwidth": 2,
            "linecolor": "white",
            "showbackground": true,
            "ticks": "",
            "zerolinecolor": "white"
           },
           "zaxis": {
            "backgroundcolor": "#E5ECF6",
            "gridcolor": "white",
            "gridwidth": 2,
            "linecolor": "white",
            "showbackground": true,
            "ticks": "",
            "zerolinecolor": "white"
           }
          },
          "shapedefaults": {
           "line": {
            "color": "#2a3f5f"
           }
          },
          "ternary": {
           "aaxis": {
            "gridcolor": "white",
            "linecolor": "white",
            "ticks": ""
           },
           "baxis": {
            "gridcolor": "white",
            "linecolor": "white",
            "ticks": ""
           },
           "bgcolor": "#E5ECF6",
           "caxis": {
            "gridcolor": "white",
            "linecolor": "white",
            "ticks": ""
           }
          },
          "title": {
           "x": 0.05
          },
          "xaxis": {
           "automargin": true,
           "gridcolor": "white",
           "linecolor": "white",
           "ticks": "",
           "title": {
            "standoff": 15
           },
           "zerolinecolor": "white",
           "zerolinewidth": 2
          },
          "yaxis": {
           "automargin": true,
           "gridcolor": "white",
           "linecolor": "white",
           "ticks": "",
           "title": {
            "standoff": 15
           },
           "zerolinecolor": "white",
           "zerolinewidth": 2
          }
         }
        },
        "width": 600,
        "xaxis": {
         "range": [
          -5,
          6
         ],
         "type": "linear"
        },
        "yaxis": {
         "range": [
          -5,
          6
         ],
         "type": "linear"
        }
       }
      },
      "image/png": "[encoded data removed]",
      "text/html": [
       "<div\n",
       "    class=\"webio-mountpoint\"\n",
       "    data-webio-mountpoint=\"12644074745270164653\"\n",
       ">\n",
       "    <script>\n",
       "    (function(){\n",
       "    // Some integrations (namely, IJulia/Jupyter) use an alternate render pathway than\n",
       "    // just putting the html on the page. If WebIO isn't defined, then it's pretty likely\n",
       "    // that we're in one of those situations and the integration just isn't installed\n",
       "    // correctly.\n",
       "    if (typeof window.WebIO === \"undefined\") {\n",
       "        document\n",
       "            .querySelector('[data-webio-mountpoint=\"12644074745270164653\"]')\n",
       "            .innerHTML = (\n",
       "                '<div style=\"padding: 1em; background-color: #f8d6da; border: 1px solid #f5c6cb; font-weight: bold;\">' +\n",
       "                '<p><strong>WebIO not detected.</strong></p>' +\n",
       "                '<p>Please read ' +\n",
       "                '<a href=\"https://juliagizmos.github.io/WebIO.jl/latest/troubleshooting/not-detected/\" target=\"_blank\">the troubleshooting guide</a> ' +\n",
       "                'for more information on how to resolve this issue.</p>' +\n",
       "                '<p><a href=\"https://juliagizmos.github.io/WebIO.jl/latest/troubleshooting/not-detected/\" target=\"_blank\">https://juliagizmos.github.io/WebIO.jl/latest/troubleshooting/not-detected/</a></p>' +\n",
       "                '</div>'\n",
       "            );\n",
       "        return;\n",
       "    }\n",
       "    WebIO.mount(\n",
       "        document.querySelector('[data-webio-mountpoint=\"12644074745270164653\"]'),\n",
       "        {\"props\":{},\"nodeType\":\"Scope\",\"type\":\"node\",\"instanceArgs\":{\"imports\":{\"data\":[{\"name\":\"Plotly\",\"type\":\"js\",\"url\":\"\\/assetserver\\/d66a736669047bda0b2d00471bd5207a90cf3193-plotly.min.js\"},{\"name\":null,\"type\":\"js\",\"url\":\"\\/assetserver\\/aee3160e397a4905b07437c5af565305d1ef6def-plotly_webio.bundle.js\"}],\"type\":\"async_block\"},\"id\":\"14074838576720801882\",\"handlers\":{\"_toImage\":[\"(function (options){return this.Plotly.toImage(this.plotElem,options).then((function (data){return WebIO.setval({\\\"name\\\":\\\"image\\\",\\\"scope\\\":\\\"14074838576720801882\\\",\\\"id\\\":\\\"13886132750125146344\\\",\\\"type\\\":\\\"observable\\\"},data)}))})\"],\"__get_gd_contents\":[\"(function (prop){prop==\\\"data\\\" ? (WebIO.setval({\\\"name\\\":\\\"__gd_contents\\\",\\\"scope\\\":\\\"14074838576720801882\\\",\\\"id\\\":\\\"8007397248829861736\\\",\\\"type\\\":\\\"observable\\\"},this.plotElem.data)) : undefined; return prop==\\\"layout\\\" ? (WebIO.setval({\\\"name\\\":\\\"__gd_contents\\\",\\\"scope\\\":\\\"14074838576720801882\\\",\\\"id\\\":\\\"8007397248829861736\\\",\\\"type\\\":\\\"observable\\\"},this.plotElem.layout)) : undefined})\"],\"_downloadImage\":[\"(function (options){return this.Plotly.downloadImage(this.plotElem,options)})\"],\"_commands\":[\"(function (args){var fn=args.shift(); var elem=this.plotElem; var Plotly=this.Plotly; args.unshift(elem); return Plotly[fn].apply(this,args)})\"]},\"systemjs_options\":null,\"mount_callbacks\":[\"function () {\\n    var handler = ((function (Plotly,PlotlyWebIO){PlotlyWebIO.init(WebIO); var gd=this.dom.querySelector(\\\"#plot-d76bd14a-5665-4b37-b5fa-09c6464d5f72\\\"); this.plotElem=gd; this.Plotly=Plotly; (window.Blink!==undefined) ? (gd.style.width=\\\"100%\\\", gd.style.height=\\\"100vh\\\", gd.style.marginLeft=\\\"0%\\\", gd.style.marginTop=\\\"0vh\\\") : undefined; window.onresize=(function (){return Plotly.Plots.resize(gd)}); Plotly.newPlot(gd,[{\\\"y\\\":[3.0,3.0,1.0,1.0,3.0],\\\"type\\\":\\\"scatter\\\",\\\"x\\\":[2.9996891820008162,0.9996891820008162,0.9996891820008162,2.9996891820008162,2.9996891820008162]},{\\\"y\\\":[1.0,1.0049692246345985,1.0198275121514562,1.0444271942138592,1.0785237881295924,1.1217784266297715,1.1737612256840049,1.2339555568810219,1.301763181913927,1.3765101981412662,1.4574537361342408,1.5437893426468368,1.6346589756336043,1.7291595318569946,1.8263518223330697,1.9252699064135752,2.024930691738073,2.1243437046474845,2.2225209339563143,2.3184866502516845,2.4112871031306113,2.499999999999999,2.5837436722347897,2.6616858375968593,2.733051871829826,2.797132507222922,2.853290881632155,2.900968867902419,2.9396926207859084,2.9690772862290777,2.9888308262251284,2.9987569212189222,2.9987569212189222,2.9888308262251284,2.969077286229078,2.939692620785909,2.900968867902419,2.8532908816321556,2.7971325072229227,2.7330518718298262,2.6616858375968597,2.5837436722347897,2.5000000000000004,2.411287103130612,2.318486650251685,2.222520933956315,2.124343704647486,2.0249306917380734,1.9252699064135768,1.8263518223330701,1.7291595318569968,1.6346589756336063,1.543789342646838,1.4574537361342412,1.3765101981412666,1.3017631819139273,1.2339555568810217,1.1737612256840046,1.1217784266297717,1.0785237881295924,1.0444271942138599,1.0198275121514564,1.0049692246345987,1.0,1.0],\\\"type\\\":\\\"scatter\\\",\\\"x\\\":[1.2246467991473532e-16,-0.09956784659581648,-0.19814614319939736,-0.29475517441090393,-0.3884347962746944,-0.47825397862131824,-0.5633200580636216,-0.6427876096865393,-0.7158668492597183,-0.7818314824680297,-0.8400259231507715,-0.8898718088114684,-0.930873748644204,-0.9626242469500119,-0.984807753012208,-0.9972037971811801,-0.9996891820008162,-0.9922392066001722,-0.9749279121818236,-0.9479273461671317,-0.9115058523116732,-0.866025403784439,-0.8119380057158567,-0.7497812029677342,-0.6801727377709198,-0.6038044103254782,-0.5214352033794986,-0.43388373911755834,-0.3420201433256686,-0.24675739769029395,-0.14904226617617528,-0.0498458856606976,0.049845885660697115,0.14904226617617478,0.24675739769029262,0.3420201433256681,0.4338837391175579,0.5214352033794982,0.603804410325477,0.6801727377709194,0.7497812029677339,0.8119380057158564,0.8660254037844384,0.911505852311673,0.9479273461671315,0.9749279121818235,0.992239206600172,0.9996891820008162,0.9972037971811802,0.9848077530122081,0.9626242469500126,0.9308737486442048,0.8898718088114691,0.8400259231507718,0.78183148246803,0.7158668492597183,0.642787609686539,0.5633200580636213,0.4782539786213187,0.38843479627469485,0.2947551744109057,0.19814614319939872,0.09956784659581741,3.6739403974420594e-16,1.2246467991473532e-16]},{\\\"y\\\":[0,1,0,0],\\\"type\\\":\\\"scatter\\\",\\\"x\\\":[0,1,1,0]}],{\\\"xaxis\\\":{\\\"range\\\":[-5,6]},\\\"template\\\":{\\\"layout\\\":{\\\"coloraxis\\\":{\\\"colorbar\\\":{\\\"ticks\\\":\\\"\\\",\\\"outlinewidth\\\":0}},\\\"xaxis\\\":{\\\"gridcolor\\\":\\\"white\\\",\\\"zerolinewidth\\\":2,\\\"title\\\":{\\\"standoff\\\":15},\\\"ticks\\\":\\\"\\\",\\\"zerolinecolor\\\":\\\"white\\\",\\\"automargin\\\":true,\\\"linecolor\\\":\\\"white\\\"},\\\"hovermode\\\":\\\"closest\\\",\\\"paper_bgcolor\\\":\\\"white\\\",\\\"geo\\\":{\\\"showlakes\\\":true,\\\"showland\\\":true,\\\"landcolor\\\":\\\"#E5ECF6\\\",\\\"bgcolor\\\":\\\"white\\\",\\\"subunitcolor\\\":\\\"white\\\",\\\"lakecolor\\\":\\\"white\\\"},\\\"colorscale\\\":{\\\"sequential\\\":[[0.0,\\\"#0d0887\\\"],[0.1111111111111111,\\\"#46039f\\\"],[0.2222222222222222,\\\"#7201a8\\\"],[0.3333333333333333,\\\"#9c179e\\\"],[0.4444444444444444,\\\"#bd3786\\\"],[0.5555555555555556,\\\"#d8576b\\\"],[0.6666666666666666,\\\"#ed7953\\\"],[0.7777777777777778,\\\"#fb9f3a\\\"],[0.8888888888888888,\\\"#fdca26\\\"],[1.0,\\\"#f0f921\\\"]],\\\"diverging\\\":[[0,\\\"#8e0152\\\"],[0.1,\\\"#c51b7d\\\"],[0.2,\\\"#de77ae\\\"],[0.3,\\\"#f1b6da\\\"],[0.4,\\\"#fde0ef\\\"],[0.5,\\\"#f7f7f7\\\"],[0.6,\\\"#e6f5d0\\\"],[0.7,\\\"#b8e186\\\"],[0.8,\\\"#7fbc41\\\"],[0.9,\\\"#4d9221\\\"],[1,\\\"#276419\\\"]],\\\"sequentialminus\\\":[[0.0,\\\"#0d0887\\\"],[0.1111111111111111,\\\"#46039f\\\"],[0.2222222222222222,\\\"#7201a8\\\"],[0.3333333333333333,\\\"#9c179e\\\"],[0.4444444444444444,\\\"#bd3786\\\"],[0.5555555555555556,\\\"#d8576b\\\"],[0.6666666666666666,\\\"#ed7953\\\"],[0.7777777777777778,\\\"#fb9f3a\\\"],[0.8888888888888888,\\\"#fdca26\\\"],[1.0,\\\"#f0f921\\\"]]},\\\"yaxis\\\":{\\\"gridcolor\\\":\\\"white\\\",\\\"zerolinewidth\\\":2,\\\"title\\\":{\\\"standoff\\\":15},\\\"ticks\\\":\\\"\\\",\\\"zerolinecolor\\\":\\\"white\\\",\\\"automargin\\\":true,\\\"linecolor\\\":\\\"white\\\"},\\\"shapedefaults\\\":{\\\"line\\\":{\\\"color\\\":\\\"#2a3f5f\\\"}},\\\"hoverlabel\\\":{\\\"align\\\":\\\"left\\\"},\\\"mapbox\\\":{\\\"style\\\":\\\"light\\\"},\\\"polar\\\":{\\\"angularaxis\\\":{\\\"gridcolor\\\":\\\"white\\\",\\\"ticks\\\":\\\"\\\",\\\"linecolor\\\":\\\"white\\\"},\\\"bgcolor\\\":\\\"#E5ECF6\\\",\\\"radialaxis\\\":{\\\"gridcolor\\\":\\\"white\\\",\\\"ticks\\\":\\\"\\\",\\\"linecolor\\\":\\\"white\\\"}},\\\"autotypenumbers\\\":\\\"strict\\\",\\\"font\\\":{\\\"color\\\":\\\"#2a3f5f\\\"},\\\"ternary\\\":{\\\"baxis\\\":{\\\"gridcolor\\\":\\\"white\\\",\\\"ticks\\\":\\\"\\\",\\\"linecolor\\\":\\\"white\\\"},\\\"bgcolor\\\":\\\"#E5ECF6\\\",\\\"caxis\\\":{\\\"gridcolor\\\":\\\"white\\\",\\\"ticks\\\":\\\"\\\",\\\"linecolor\\\":\\\"white\\\"},\\\"aaxis\\\":{\\\"gridcolor\\\":\\\"white\\\",\\\"ticks\\\":\\\"\\\",\\\"linecolor\\\":\\\"white\\\"}},\\\"annotationdefaults\\\":{\\\"arrowhead\\\":0,\\\"arrowwidth\\\":1,\\\"arrowcolor\\\":\\\"#2a3f5f\\\"},\\\"plot_bgcolor\\\":\\\"#E5ECF6\\\",\\\"title\\\":{\\\"x\\\":0.05},\\\"scene\\\":{\\\"xaxis\\\":{\\\"gridcolor\\\":\\\"white\\\",\\\"gridwidth\\\":2,\\\"backgroundcolor\\\":\\\"#E5ECF6\\\",\\\"ticks\\\":\\\"\\\",\\\"showbackground\\\":true,\\\"zerolinecolor\\\":\\\"white\\\",\\\"linecolor\\\":\\\"white\\\"},\\\"zaxis\\\":{\\\"gridcolor\\\":\\\"white\\\",\\\"gridwidth\\\":2,\\\"backgroundcolor\\\":\\\"#E5ECF6\\\",\\\"ticks\\\":\\\"\\\",\\\"showbackground\\\":true,\\\"zerolinecolor\\\":\\\"white\\\",\\\"linecolor\\\":\\\"white\\\"},\\\"yaxis\\\":{\\\"gridcolor\\\":\\\"white\\\",\\\"gridwidth\\\":2,\\\"backgroundcolor\\\":\\\"#E5ECF6\\\",\\\"ticks\\\":\\\"\\\",\\\"showbackground\\\":true,\\\"zerolinecolor\\\":\\\"white\\\",\\\"linecolor\\\":\\\"white\\\"}},\\\"colorway\\\":[\\\"#636efa\\\",\\\"#EF553B\\\",\\\"#00cc96\\\",\\\"#ab63fa\\\",\\\"#FFA15A\\\",\\\"#19d3f3\\\",\\\"#FF6692\\\",\\\"#B6E880\\\",\\\"#FF97FF\\\",\\\"#FECB52\\\"]},\\\"data\\\":{\\\"barpolar\\\":[{\\\"type\\\":\\\"barpolar\\\",\\\"marker\\\":{\\\"line\\\":{\\\"color\\\":\\\"#E5ECF6\\\",\\\"width\\\":0.5}}}],\\\"carpet\\\":[{\\\"aaxis\\\":{\\\"gridcolor\\\":\\\"white\\\",\\\"endlinecolor\\\":\\\"#2a3f5f\\\",\\\"minorgridcolor\\\":\\\"white\\\",\\\"startlinecolor\\\":\\\"#2a3f5f\\\",\\\"linecolor\\\":\\\"white\\\"},\\\"type\\\":\\\"carpet\\\",\\\"baxis\\\":{\\\"gridcolor\\\":\\\"white\\\",\\\"endlinecolor\\\":\\\"#2a3f5f\\\",\\\"minorgridcolor\\\":\\\"white\\\",\\\"startlinecolor\\\":\\\"#2a3f5f\\\",\\\"linecolor\\\":\\\"white\\\"}}],\\\"scatterpolar\\\":[{\\\"type\\\":\\\"scatterpolar\\\",\\\"marker\\\":{\\\"colorbar\\\":{\\\"ticks\\\":\\\"\\\",\\\"outlinewidth\\\":0}}}],\\\"parcoords\\\":[{\\\"line\\\":{\\\"colorbar\\\":{\\\"ticks\\\":\\\"\\\",\\\"outlinewidth\\\":0}},\\\"type\\\":\\\"parcoords\\\"}],\\\"scatter\\\":[{\\\"type\\\":\\\"scatter\\\",\\\"marker\\\":{\\\"colorbar\\\":{\\\"ticks\\\":\\\"\\\",\\\"outlinewidth\\\":0}}}],\\\"histogram2dcontour\\\":[{\\\"colorbar\\\":{\\\"ticks\\\":\\\"\\\",\\\"outlinewidth\\\":0},\\\"type\\\":\\\"histogram2dcontour\\\",\\\"colorscale\\\":[[0.0,\\\"#0d0887\\\"],[0.1111111111111111,\\\"#46039f\\\"],[0.2222222222222222,\\\"#7201a8\\\"],[0.3333333333333333,\\\"#9c179e\\\"],[0.4444444444444444,\\\"#bd3786\\\"],[0.5555555555555556,\\\"#d8576b\\\"],[0.6666666666666666,\\\"#ed7953\\\"],[0.7777777777777778,\\\"#fb9f3a\\\"],[0.8888888888888888,\\\"#fdca26\\\"],[1.0,\\\"#f0f921\\\"]]}],\\\"contour\\\":[{\\\"colorbar\\\":{\\\"ticks\\\":\\\"\\\",\\\"outlinewidth\\\":0},\\\"type\\\":\\\"contour\\\",\\\"colorscale\\\":[[0.0,\\\"#0d0887\\\"],[0.1111111111111111,\\\"#46039f\\\"],[0.2222222222222222,\\\"#7201a8\\\"],[0.3333333333333333,\\\"#9c179e\\\"],[0.4444444444444444,\\\"#bd3786\\\"],[0.5555555555555556,\\\"#d8576b\\\"],[0.6666666666666666,\\\"#ed7953\\\"],[0.7777777777777778,\\\"#fb9f3a\\\"],[0.8888888888888888,\\\"#fdca26\\\"],[1.0,\\\"#f0f921\\\"]]}],\\\"scattercarpet\\\":[{\\\"type\\\":\\\"scattercarpet\\\",\\\"marker\\\":{\\\"colorbar\\\":{\\\"ticks\\\":\\\"\\\",\\\"outlinewidth\\\":0}}}],\\\"mesh3d\\\":[{\\\"colorbar\\\":{\\\"ticks\\\":\\\"\\\",\\\"outlinewidth\\\":0},\\\"type\\\":\\\"mesh3d\\\"}],\\\"surface\\\":[{\\\"colorbar\\\":{\\\"ticks\\\":\\\"\\\",\\\"outlinewidth\\\":0},\\\"type\\\":\\\"surface\\\",\\\"colorscale\\\":[[0.0,\\\"#0d0887\\\"],[0.1111111111111111,\\\"#46039f\\\"],[0.2222222222222222,\\\"#7201a8\\\"],[0.3333333333333333,\\\"#9c179e\\\"],[0.4444444444444444,\\\"#bd3786\\\"],[0.5555555555555556,\\\"#d8576b\\\"],[0.6666666666666666,\\\"#ed7953\\\"],[0.7777777777777778,\\\"#fb9f3a\\\"],[0.8888888888888888,\\\"#fdca26\\\"],[1.0,\\\"#f0f921\\\"]]}],\\\"scattermapbox\\\":[{\\\"type\\\":\\\"scattermapbox\\\",\\\"marker\\\":{\\\"colorbar\\\":{\\\"ticks\\\":\\\"\\\",\\\"outlinewidth\\\":0}}}],\\\"scattergeo\\\":[{\\\"type\\\":\\\"scattergeo\\\",\\\"marker\\\":{\\\"colorbar\\\":{\\\"ticks\\\":\\\"\\\",\\\"outlinewidth\\\":0}}}],\\\"histogram\\\":[{\\\"type\\\":\\\"histogram\\\",\\\"marker\\\":{\\\"colorbar\\\":{\\\"ticks\\\":\\\"\\\",\\\"outlinewidth\\\":0}}}],\\\"pie\\\":[{\\\"type\\\":\\\"pie\\\",\\\"automargin\\\":true}],\\\"choropleth\\\":[{\\\"colorbar\\\":{\\\"ticks\\\":\\\"\\\",\\\"outlinewidth\\\":0},\\\"type\\\":\\\"choropleth\\\"}],\\\"heatmapgl\\\":[{\\\"colorbar\\\":{\\\"ticks\\\":\\\"\\\",\\\"outlinewidth\\\":0},\\\"type\\\":\\\"heatmapgl\\\",\\\"colorscale\\\":[[0.0,\\\"#0d0887\\\"],[0.1111111111111111,\\\"#46039f\\\"],[0.2222222222222222,\\\"#7201a8\\\"],[0.3333333333333333,\\\"#9c179e\\\"],[0.4444444444444444,\\\"#bd3786\\\"],[0.5555555555555556,\\\"#d8576b\\\"],[0.6666666666666666,\\\"#ed7953\\\"],[0.7777777777777778,\\\"#fb9f3a\\\"],[0.8888888888888888,\\\"#fdca26\\\"],[1.0,\\\"#f0f921\\\"]]}],\\\"bar\\\":[{\\\"type\\\":\\\"bar\\\",\\\"error_y\\\":{\\\"color\\\":\\\"#2a3f5f\\\"},\\\"error_x\\\":{\\\"color\\\":\\\"#2a3f5f\\\"},\\\"marker\\\":{\\\"line\\\":{\\\"color\\\":\\\"#E5ECF6\\\",\\\"width\\\":0.5}}}],\\\"heatmap\\\":[{\\\"colorbar\\\":{\\\"ticks\\\":\\\"\\\",\\\"outlinewidth\\\":0},\\\"type\\\":\\\"heatmap\\\",\\\"colorscale\\\":[[0.0,\\\"#0d0887\\\"],[0.1111111111111111,\\\"#46039f\\\"],[0.2222222222222222,\\\"#7201a8\\\"],[0.3333333333333333,\\\"#9c179e\\\"],[0.4444444444444444,\\\"#bd3786\\\"],[0.5555555555555556,\\\"#d8576b\\\"],[0.6666666666666666,\\\"#ed7953\\\"],[0.7777777777777778,\\\"#fb9f3a\\\"],[0.8888888888888888,\\\"#fdca26\\\"],[1.0,\\\"#f0f921\\\"]]}],\\\"contourcarpet\\\":[{\\\"colorbar\\\":{\\\"ticks\\\":\\\"\\\",\\\"outlinewidth\\\":0},\\\"type\\\":\\\"contourcarpet\\\"}],\\\"table\\\":[{\\\"type\\\":\\\"table\\\",\\\"header\\\":{\\\"line\\\":{\\\"color\\\":\\\"white\\\"},\\\"fill\\\":{\\\"color\\\":\\\"#C8D4E3\\\"}},\\\"cells\\\":{\\\"line\\\":{\\\"color\\\":\\\"white\\\"},\\\"fill\\\":{\\\"color\\\":\\\"#EBF0F8\\\"}}}],\\\"scatter3d\\\":[{\\\"line\\\":{\\\"colorbar\\\":{\\\"ticks\\\":\\\"\\\",\\\"outlinewidth\\\":0}},\\\"type\\\":\\\"scatter3d\\\",\\\"marker\\\":{\\\"colorbar\\\":{\\\"ticks\\\":\\\"\\\",\\\"outlinewidth\\\":0}}}],\\\"scattergl\\\":[{\\\"type\\\":\\\"scattergl\\\",\\\"marker\\\":{\\\"colorbar\\\":{\\\"ticks\\\":\\\"\\\",\\\"outlinewidth\\\":0}}}],\\\"histogram2d\\\":[{\\\"colorbar\\\":{\\\"ticks\\\":\\\"\\\",\\\"outlinewidth\\\":0},\\\"type\\\":\\\"histogram2d\\\",\\\"colorscale\\\":[[0.0,\\\"#0d0887\\\"],[0.1111111111111111,\\\"#46039f\\\"],[0.2222222222222222,\\\"#7201a8\\\"],[0.3333333333333333,\\\"#9c179e\\\"],[0.4444444444444444,\\\"#bd3786\\\"],[0.5555555555555556,\\\"#d8576b\\\"],[0.6666666666666666,\\\"#ed7953\\\"],[0.7777777777777778,\\\"#fb9f3a\\\"],[0.8888888888888888,\\\"#fdca26\\\"],[1.0,\\\"#f0f921\\\"]]}],\\\"scatterternary\\\":[{\\\"type\\\":\\\"scatterternary\\\",\\\"marker\\\":{\\\"colorbar\\\":{\\\"ticks\\\":\\\"\\\",\\\"outlinewidth\\\":0}}}],\\\"scatterpolargl\\\":[{\\\"type\\\":\\\"scatterpolargl\\\",\\\"marker\\\":{\\\"colorbar\\\":{\\\"ticks\\\":\\\"\\\",\\\"outlinewidth\\\":0}}}]}},\\\"height\\\":600,\\\"margin\\\":{\\\"l\\\":50,\\\"b\\\":50,\\\"r\\\":50,\\\"t\\\":60},\\\"yaxis\\\":{\\\"range\\\":[-5,6]},\\\"width\\\":600},{\\\"showLink\\\":false,\\\"editable\\\":false,\\\"responsive\\\":true,\\\"staticPlot\\\":false,\\\"scrollZoom\\\":true}); gd.on(\\\"plotly_hover\\\",(function (data){var filtered_data=WebIO.PlotlyCommands.filterEventData(gd,data,\\\"hover\\\"); return !(filtered_data.isnil) ? (WebIO.setval({\\\"name\\\":\\\"hover\\\",\\\"scope\\\":\\\"14074838576720801882\\\",\\\"id\\\":\\\"2006168784127431569\\\",\\\"type\\\":\\\"observable\\\"},filtered_data.out)) : undefined})); gd.on(\\\"plotly_unhover\\\",(function (){return WebIO.setval({\\\"name\\\":\\\"hover\\\",\\\"scope\\\":\\\"14074838576720801882\\\",\\\"id\\\":\\\"2006168784127431569\\\",\\\"type\\\":\\\"observable\\\"},{})})); gd.on(\\\"plotly_selected\\\",(function (data){var filtered_data=WebIO.PlotlyCommands.filterEventData(gd,data,\\\"selected\\\"); return !(filtered_data.isnil) ? (WebIO.setval({\\\"name\\\":\\\"selected\\\",\\\"scope\\\":\\\"14074838576720801882\\\",\\\"id\\\":\\\"8582292870221447223\\\",\\\"type\\\":\\\"observable\\\"},filtered_data.out)) : undefined})); gd.on(\\\"plotly_deselect\\\",(function (){return WebIO.setval({\\\"name\\\":\\\"selected\\\",\\\"scope\\\":\\\"14074838576720801882\\\",\\\"id\\\":\\\"8582292870221447223\\\",\\\"type\\\":\\\"observable\\\"},{})})); gd.on(\\\"plotly_relayout\\\",(function (data){var filtered_data=WebIO.PlotlyCommands.filterEventData(gd,data,\\\"relayout\\\"); return !(filtered_data.isnil) ? (WebIO.setval({\\\"name\\\":\\\"relayout\\\",\\\"scope\\\":\\\"14074838576720801882\\\",\\\"id\\\":\\\"1856059073619416992\\\",\\\"type\\\":\\\"observable\\\"},filtered_data.out)) : undefined})); return gd.on(\\\"plotly_click\\\",(function (data){var filtered_data=WebIO.PlotlyCommands.filterEventData(gd,data,\\\"click\\\"); return !(filtered_data.isnil) ? (WebIO.setval({\\\"name\\\":\\\"click\\\",\\\"scope\\\":\\\"14074838576720801882\\\",\\\"id\\\":\\\"3933618518261746061\\\",\\\"type\\\":\\\"observable\\\"},filtered_data.out)) : undefined}))}));\\n    (WebIO.importBlock({\\\"data\\\":[{\\\"name\\\":\\\"Plotly\\\",\\\"type\\\":\\\"js\\\",\\\"url\\\":\\\"\\/assetserver\\/d66a736669047bda0b2d00471bd5207a90cf3193-plotly.min.js\\\"},{\\\"name\\\":null,\\\"type\\\":\\\"js\\\",\\\"url\\\":\\\"\\/assetserver\\/aee3160e397a4905b07437c5af565305d1ef6def-plotly_webio.bundle.js\\\"}],\\\"type\\\":\\\"async_block\\\"})).then((imports) => handler.apply(this, imports));\\n}\\n\"],\"observables\":{\"_toImage\":{\"sync\":false,\"id\":\"8667445413709858078\",\"value\":{}},\"hover\":{\"sync\":false,\"id\":\"2006168784127431569\",\"value\":{}},\"selected\":{\"sync\":false,\"id\":\"8582292870221447223\",\"value\":{}},\"__gd_contents\":{\"sync\":false,\"id\":\"8007397248829861736\",\"value\":{}},\"click\":{\"sync\":false,\"id\":\"3933618518261746061\",\"value\":{}},\"image\":{\"sync\":true,\"id\":\"13886132750125146344\",\"value\":\"\"},\"__get_gd_contents\":{\"sync\":false,\"id\":\"4971680423771876488\",\"value\":\"\"},\"_downloadImage\":{\"sync\":false,\"id\":\"8037464633403473973\",\"value\":{}},\"relayout\":{\"sync\":false,\"id\":\"1856059073619416992\",\"value\":{}},\"_commands\":{\"sync\":false,\"id\":\"8106475927429555785\",\"value\":[]}}},\"children\":[{\"props\":{\"id\":\"plot-d76bd14a-5665-4b37-b5fa-09c6464d5f72\"},\"nodeType\":\"DOM\",\"type\":\"node\",\"instanceArgs\":{\"namespace\":\"html\",\"tag\":\"div\"},\"children\":[]}]},\n",
       "        window,\n",
       "    );\n",
       "    })()\n",
       "    </script>\n",
       "</div>\n"
      ],
      "text/plain": [
       "data: [\n",
       "  \"scatter with fields type, x, and y\",\n",
       "  \"scatter with fields type, x, and y\",\n",
       "  \"scatter with fields type, x, and y\"\n",
       "]\n",
       "\n",
       "layout: \"layout with fields height, margin, template, width, xaxis, and yaxis\"\n",
       "\n"
      ]
     },
     "execution_count": 28,
     "metadata": {},
     "output_type": "execute_result"
    }
   ],
   "source": [
    "D1 = DiagramDual(MyCircle())\n",
    "D2 = DiagramDual(MySquare(2));\n",
    "D3 = DiagramDual(Prim(Triangle(Point(0,0),Point(1,1), Point(1,0))))\n",
    "\n",
    "D  = beside(D3,beside(D1,D2,[1,0]),[0,1])\n",
    "p = plotgeometry(D)\n",
    "plot(p,layout)"
   ]
  },
  {
   "cell_type": "markdown",
   "id": "26ef1c41-e587-45ba-8c1a-02cb59c990c5",
   "metadata": {},
   "source": [
    "## Caching Envelopes\n",
    "\n",
    "We have two monoids, `(Envelope, envP(),⋄)` and `(Diagram, [],⋄)`.\n",
    "Remember the the product of monoids also defines a monoid. Hence, we can\n",
    "redefine the `Diagram` as a tuple `([Prim],Envelope)`."
   ]
  },
  {
   "cell_type": "code",
   "execution_count": 29,
   "id": "40f43443-3783-4576-9e7b-ccd1a5644d07",
   "metadata": {},
   "outputs": [
    {
     "data": {
      "text/plain": [
       "beside (generic function with 2 methods)"
      ]
     },
     "execution_count": 29,
     "metadata": {},
     "output_type": "execute_result"
    }
   ],
   "source": [
    "struct Diagram2\n",
    "    p::Vector{Primitive1}\n",
    "    e::Envelope\n",
    "end\n",
    "fnothing(x) = nothing\n",
    "\n",
    "Diagram2(p::Primitive1) = Diagram2([p],envP(p))\n",
    "Diagram2(p::Primitive1,e::Envelope) = Diagram2([p],e)\n",
    "Diagram2() = Diagram2([],Envelope(fnothing))\n",
    "Diagram2(p::Vector{<:Primitive1}) = Diagram2(p,mconcat(map(envP,p)))\n",
    "\n",
    "neutral(::Type{Diagram2}) = Diagram2()\n",
    "⋄(d1::Diagram2, d2::Diagram2) = Diagram2(d2.p ⋄ d1.p,d2.e ⋄ d1.e)\n",
    "D1 = Diagram2(MyCircle())\n",
    "D2 = Diagram2(MyCircle(2))\n",
    "\n",
    "translate(d, v) = Diagram2(map(x->translateP(x,v), d.p))\n",
    "function beside(D1, D2, v::Vector)::Diagram2\n",
    "    e1 = D1.e.f(v)\n",
    "    e2 = D2.e.f(-v)\n",
    "    if isnothing(e1) || isnothing(e2)\n",
    "        return D1 ⋄ D2\n",
    "    end\n",
    "    D1 ⋄ translate(D2, (e1+e2)*v/norm(v))\n",
    "end"
   ]
  },
  {
   "cell_type": "code",
   "execution_count": 30,
   "id": "9ac26194-a72b-4849-9d0d-5fdfb1aa95c8",
   "metadata": {},
   "outputs": [
    {
     "data": {
      "text/plain": [
       "Diagram2(Primitive1[MyCircle(1, [0, 0], Circle{Int64}([0, 0], 1))], Envelope(var\"#36#37\"{Envelope, Envelope}(Envelope(var\"#40#41\"{MyCircle}(MyCircle(1, [0, 0], Circle{Int64}([0, 0], 1)))), Envelope(var\"#38#39\"()))))"
      ]
     },
     "execution_count": 30,
     "metadata": {},
     "output_type": "execute_result"
    }
   ],
   "source": [
    "# [MyCircle()] isa Vector{<: Primitive1}\n",
    "Diagram2([MyCircle()])"
   ]
  },
  {
   "cell_type": "code",
   "execution_count": 31,
   "id": "3463a90a-0ffb-4348-906b-161238934af3",
   "metadata": {},
   "outputs": [
    {
     "data": {
      "application/vnd.plotly.v1+json": {
       "config": {
        "editable": false,
        "responsive": true,
        "scrollZoom": true,
        "showLink": false,
        "staticPlot": false
       },
       "data": [
        {
         "type": "scatter",
         "x": [
          2.120715972146164,
          1.9215802789545307,
          1.724423685747369,
          1.5312056233243558,
          1.343846379596775,
          1.1642080149035272,
          0.9940758560189205,
          0.8351407527730852,
          0.688982273626727,
          0.5570530072101043,
          0.44066412584462067,
          0.34097235452322683,
          0.25896847485775565,
          0.19546747824613986,
          0.15110046612174766,
          0.12630837778380344,
          0.1213376081445312,
          0.13623755894581935,
          0.17086014778251646,
          0.2248612798119003,
          0.2977042675228172,
          0.3886651645772856,
          0.49683996071445025,
          0.6211535662106953,
          0.7603704966043241,
          0.9131071514952074,
          1.0778455653871666,
          1.2529484939110471,
          1.4366756854948264,
          1.6272011767655759,
          1.8226314397938133,
          2.0210242008247685,
          2.220407743467558,
          2.4188005044985132,
          2.614230767526749,
          2.8047562587975,
          2.9884834503812794,
          3.16358637890516,
          3.328324792797118,
          3.4810614476880026,
          3.6202783780816317,
          3.7445919835778767,
          3.8527667797150404,
          3.9437276767695097,
          4.016570664480427,
          4.07057179650981,
          4.105194385346508,
          4.120094336147796,
          4.115123566508524,
          4.0903314781705795,
          4.045964466046189,
          3.982463469434573,
          3.9004595897691017,
          3.8007678184477074,
          3.684378937082224,
          3.5524496706656006,
          3.4062911915192418,
          3.2473560882734063,
          3.077223929388801,
          2.8975855646955533,
          2.7102263209679753,
          2.517008258544961,
          2.3198516653377985,
          2.1207159721461646,
          2.120715972146164
         ],
         "y": [
          0.1207159721461637,
          0.13065442141536088,
          0.16037099644907582,
          0.20957036057388212,
          0.2777635484053482,
          0.3642728254057066,
          0.46823842351417344,
          0.5886270859082074,
          0.7242423359740178,
          0.8737363684286963,
          1.0356234444146453,
          1.2082946574398372,
          1.3900339234133723,
          1.5790350358601528,
          1.773419616812303,
          1.9712557849733143,
          2.170577355622309,
          2.369403381441133,
          2.565757840058792,
          2.757689272649533,
          2.9432901784073864,
          3.1207159721461624,
          3.2882033166157427,
          3.4440876473398827,
          3.5868197158058157,
          3.7149809865920074,
          3.8272977354104745,
          3.9226537079510018,
          4.000101213717981,
          4.05887054460432,
          4.09837762459642,
          4.118229814584009,
          4.118229814584009,
          4.098377624596421,
          4.05887054460432,
          4.000101213717981,
          3.922653707951002,
          3.827297735410475,
          3.714980986592009,
          3.5868197158058166,
          3.444087647339883,
          3.2882033166157436,
          3.120715972146165,
          2.9432901784073873,
          2.757689272649534,
          2.5657578400587933,
          2.3694033814411357,
          2.1705773556223105,
          1.971255784973317,
          1.773419616812304,
          1.5790350358601573,
          1.3900339234133765,
          1.2082946574398399,
          1.0356234444146462,
          0.8737363684286972,
          0.724242335974018,
          0.588627085908207,
          0.468238423514173,
          0.36427282540570705,
          0.27776354840534845,
          0.20957036057388323,
          0.16037099644907649,
          0.1306544214153611,
          0.1207159721461637,
          0.1207159721461637
         ]
        },
        {
         "type": "scatter",
         "x": [
          1.2246467991473532e-16,
          -0.09956784659581648,
          -0.19814614319939736,
          -0.29475517441090393,
          -0.3884347962746944,
          -0.47825397862131824,
          -0.5633200580636216,
          -0.6427876096865393,
          -0.7158668492597183,
          -0.7818314824680297,
          -0.8400259231507715,
          -0.8898718088114684,
          -0.930873748644204,
          -0.9626242469500119,
          -0.984807753012208,
          -0.9972037971811801,
          -0.9996891820008162,
          -0.9922392066001722,
          -0.9749279121818236,
          -0.9479273461671317,
          -0.9115058523116732,
          -0.866025403784439,
          -0.8119380057158567,
          -0.7497812029677342,
          -0.6801727377709198,
          -0.6038044103254782,
          -0.5214352033794986,
          -0.43388373911755834,
          -0.3420201433256686,
          -0.24675739769029395,
          -0.14904226617617528,
          -0.0498458856606976,
          0.049845885660697115,
          0.14904226617617478,
          0.24675739769029262,
          0.3420201433256681,
          0.4338837391175579,
          0.5214352033794982,
          0.603804410325477,
          0.6801727377709194,
          0.7497812029677339,
          0.8119380057158564,
          0.8660254037844384,
          0.911505852311673,
          0.9479273461671315,
          0.9749279121818235,
          0.992239206600172,
          0.9996891820008162,
          0.9972037971811802,
          0.9848077530122081,
          0.9626242469500126,
          0.9308737486442048,
          0.8898718088114691,
          0.8400259231507718,
          0.78183148246803,
          0.7158668492597183,
          0.642787609686539,
          0.5633200580636213,
          0.4782539786213187,
          0.38843479627469485,
          0.2947551744109057,
          0.19814614319939872,
          0.09956784659581741,
          3.6739403974420594e-16,
          1.2246467991473532e-16
         ],
         "y": [
          -1,
          -0.9950307753654014,
          -0.9801724878485439,
          -0.9555728057861408,
          -0.9214762118704077,
          -0.8782215733702285,
          -0.8262387743159951,
          -0.7660444431189781,
          -0.698236818086073,
          -0.6234898018587337,
          -0.5425462638657592,
          -0.4562106573531632,
          -0.3653410243663957,
          -0.2708404681430055,
          -0.17364817766693033,
          -0.07473009358642473,
          0.02493069173807279,
          0.1243437046474846,
          0.22252093395631423,
          0.3184866502516846,
          0.4112871031306113,
          0.49999999999999933,
          0.5837436722347895,
          0.6616858375968594,
          0.733051871829826,
          0.7971325072229218,
          0.8532908816321554,
          0.900968867902419,
          0.9396926207859084,
          0.9690772862290778,
          0.9888308262251284,
          0.9987569212189223,
          0.9987569212189223,
          0.9888308262251285,
          0.9690772862290782,
          0.9396926207859086,
          0.9009688679024193,
          0.8532908816321556,
          0.7971325072229227,
          0.7330518718298263,
          0.6616858375968597,
          0.58374367223479,
          0.5000000000000006,
          0.41128710313061173,
          0.3184866502516851,
          0.2225209339563147,
          0.12434370464748597,
          0.024930691738073277,
          -0.07473009358642335,
          -0.17364817766692986,
          -0.2708404681430033,
          -0.3653410243663936,
          -0.45621065735316196,
          -0.5425462638657588,
          -0.6234898018587333,
          -0.6982368180860729,
          -0.7660444431189783,
          -0.8262387743159954,
          -0.8782215733702283,
          -0.9214762118704076,
          -0.9555728057861402,
          -0.9801724878485436,
          -0.9950307753654013,
          -1,
          -1
         ]
        }
       ],
       "frames": [],
       "layout": {
        "height": 600,
        "margin": {
         "b": 50,
         "l": 50,
         "r": 50,
         "t": 60
        },
        "template": {
         "data": {
          "bar": [
           {
            "error_x": {
             "color": "#2a3f5f"
            },
            "error_y": {
             "color": "#2a3f5f"
            },
            "marker": {
             "line": {
              "color": "#E5ECF6",
              "width": 0.5
             }
            },
            "type": "bar"
           }
          ],
          "barpolar": [
           {
            "marker": {
             "line": {
              "color": "#E5ECF6",
              "width": 0.5
             }
            },
            "type": "barpolar"
           }
          ],
          "carpet": [
           {
            "aaxis": {
             "endlinecolor": "#2a3f5f",
             "gridcolor": "white",
             "linecolor": "white",
             "minorgridcolor": "white",
             "startlinecolor": "#2a3f5f"
            },
            "baxis": {
             "endlinecolor": "#2a3f5f",
             "gridcolor": "white",
             "linecolor": "white",
             "minorgridcolor": "white",
             "startlinecolor": "#2a3f5f"
            },
            "type": "carpet"
           }
          ],
          "choropleth": [
           {
            "colorbar": {
             "outlinewidth": 0,
             "ticks": ""
            },
            "type": "choropleth"
           }
          ],
          "contour": [
           {
            "colorbar": {
             "outlinewidth": 0,
             "ticks": ""
            },
            "colorscale": [
             [
              0,
              "#0d0887"
             ],
             [
              0.1111111111111111,
              "#46039f"
             ],
             [
              0.2222222222222222,
              "#7201a8"
             ],
             [
              0.3333333333333333,
              "#9c179e"
             ],
             [
              0.4444444444444444,
              "#bd3786"
             ],
             [
              0.5555555555555556,
              "#d8576b"
             ],
             [
              0.6666666666666666,
              "#ed7953"
             ],
             [
              0.7777777777777778,
              "#fb9f3a"
             ],
             [
              0.8888888888888888,
              "#fdca26"
             ],
             [
              1,
              "#f0f921"
             ]
            ],
            "type": "contour"
           }
          ],
          "contourcarpet": [
           {
            "colorbar": {
             "outlinewidth": 0,
             "ticks": ""
            },
            "type": "contourcarpet"
           }
          ],
          "heatmap": [
           {
            "colorbar": {
             "outlinewidth": 0,
             "ticks": ""
            },
            "colorscale": [
             [
              0,
              "#0d0887"
             ],
             [
              0.1111111111111111,
              "#46039f"
             ],
             [
              0.2222222222222222,
              "#7201a8"
             ],
             [
              0.3333333333333333,
              "#9c179e"
             ],
             [
              0.4444444444444444,
              "#bd3786"
             ],
             [
              0.5555555555555556,
              "#d8576b"
             ],
             [
              0.6666666666666666,
              "#ed7953"
             ],
             [
              0.7777777777777778,
              "#fb9f3a"
             ],
             [
              0.8888888888888888,
              "#fdca26"
             ],
             [
              1,
              "#f0f921"
             ]
            ],
            "type": "heatmap"
           }
          ],
          "heatmapgl": [
           {
            "colorbar": {
             "outlinewidth": 0,
             "ticks": ""
            },
            "colorscale": [
             [
              0,
              "#0d0887"
             ],
             [
              0.1111111111111111,
              "#46039f"
             ],
             [
              0.2222222222222222,
              "#7201a8"
             ],
             [
              0.3333333333333333,
              "#9c179e"
             ],
             [
              0.4444444444444444,
              "#bd3786"
             ],
             [
              0.5555555555555556,
              "#d8576b"
             ],
             [
              0.6666666666666666,
              "#ed7953"
             ],
             [
              0.7777777777777778,
              "#fb9f3a"
             ],
             [
              0.8888888888888888,
              "#fdca26"
             ],
             [
              1,
              "#f0f921"
             ]
            ],
            "type": "heatmapgl"
           }
          ],
          "histogram": [
           {
            "marker": {
             "colorbar": {
              "outlinewidth": 0,
              "ticks": ""
             }
            },
            "type": "histogram"
           }
          ],
          "histogram2d": [
           {
            "colorbar": {
             "outlinewidth": 0,
             "ticks": ""
            },
            "colorscale": [
             [
              0,
              "#0d0887"
             ],
             [
              0.1111111111111111,
              "#46039f"
             ],
             [
              0.2222222222222222,
              "#7201a8"
             ],
             [
              0.3333333333333333,
              "#9c179e"
             ],
             [
              0.4444444444444444,
              "#bd3786"
             ],
             [
              0.5555555555555556,
              "#d8576b"
             ],
             [
              0.6666666666666666,
              "#ed7953"
             ],
             [
              0.7777777777777778,
              "#fb9f3a"
             ],
             [
              0.8888888888888888,
              "#fdca26"
             ],
             [
              1,
              "#f0f921"
             ]
            ],
            "type": "histogram2d"
           }
          ],
          "histogram2dcontour": [
           {
            "colorbar": {
             "outlinewidth": 0,
             "ticks": ""
            },
            "colorscale": [
             [
              0,
              "#0d0887"
             ],
             [
              0.1111111111111111,
              "#46039f"
             ],
             [
              0.2222222222222222,
              "#7201a8"
             ],
             [
              0.3333333333333333,
              "#9c179e"
             ],
             [
              0.4444444444444444,
              "#bd3786"
             ],
             [
              0.5555555555555556,
              "#d8576b"
             ],
             [
              0.6666666666666666,
              "#ed7953"
             ],
             [
              0.7777777777777778,
              "#fb9f3a"
             ],
             [
              0.8888888888888888,
              "#fdca26"
             ],
             [
              1,
              "#f0f921"
             ]
            ],
            "type": "histogram2dcontour"
           }
          ],
          "mesh3d": [
           {
            "colorbar": {
             "outlinewidth": 0,
             "ticks": ""
            },
            "type": "mesh3d"
           }
          ],
          "parcoords": [
           {
            "line": {
             "colorbar": {
              "outlinewidth": 0,
              "ticks": ""
             }
            },
            "type": "parcoords"
           }
          ],
          "pie": [
           {
            "automargin": true,
            "type": "pie"
           }
          ],
          "scatter": [
           {
            "marker": {
             "colorbar": {
              "outlinewidth": 0,
              "ticks": ""
             }
            },
            "type": "scatter"
           }
          ],
          "scatter3d": [
           {
            "line": {
             "colorbar": {
              "outlinewidth": 0,
              "ticks": ""
             }
            },
            "marker": {
             "colorbar": {
              "outlinewidth": 0,
              "ticks": ""
             }
            },
            "type": "scatter3d"
           }
          ],
          "scattercarpet": [
           {
            "marker": {
             "colorbar": {
              "outlinewidth": 0,
              "ticks": ""
             }
            },
            "type": "scattercarpet"
           }
          ],
          "scattergeo": [
           {
            "marker": {
             "colorbar": {
              "outlinewidth": 0,
              "ticks": ""
             }
            },
            "type": "scattergeo"
           }
          ],
          "scattergl": [
           {
            "marker": {
             "colorbar": {
              "outlinewidth": 0,
              "ticks": ""
             }
            },
            "type": "scattergl"
           }
          ],
          "scattermapbox": [
           {
            "marker": {
             "colorbar": {
              "outlinewidth": 0,
              "ticks": ""
             }
            },
            "type": "scattermapbox"
           }
          ],
          "scatterpolar": [
           {
            "marker": {
             "colorbar": {
              "outlinewidth": 0,
              "ticks": ""
             }
            },
            "type": "scatterpolar"
           }
          ],
          "scatterpolargl": [
           {
            "marker": {
             "colorbar": {
              "outlinewidth": 0,
              "ticks": ""
             }
            },
            "type": "scatterpolargl"
           }
          ],
          "scatterternary": [
           {
            "marker": {
             "colorbar": {
              "outlinewidth": 0,
              "ticks": ""
             }
            },
            "type": "scatterternary"
           }
          ],
          "surface": [
           {
            "colorbar": {
             "outlinewidth": 0,
             "ticks": ""
            },
            "colorscale": [
             [
              0,
              "#0d0887"
             ],
             [
              0.1111111111111111,
              "#46039f"
             ],
             [
              0.2222222222222222,
              "#7201a8"
             ],
             [
              0.3333333333333333,
              "#9c179e"
             ],
             [
              0.4444444444444444,
              "#bd3786"
             ],
             [
              0.5555555555555556,
              "#d8576b"
             ],
             [
              0.6666666666666666,
              "#ed7953"
             ],
             [
              0.7777777777777778,
              "#fb9f3a"
             ],
             [
              0.8888888888888888,
              "#fdca26"
             ],
             [
              1,
              "#f0f921"
             ]
            ],
            "type": "surface"
           }
          ],
          "table": [
           {
            "cells": {
             "fill": {
              "color": "#EBF0F8"
             },
             "line": {
              "color": "white"
             }
            },
            "header": {
             "fill": {
              "color": "#C8D4E3"
             },
             "line": {
              "color": "white"
             }
            },
            "type": "table"
           }
          ]
         },
         "layout": {
          "annotationdefaults": {
           "arrowcolor": "#2a3f5f",
           "arrowhead": 0,
           "arrowwidth": 1
          },
          "autotypenumbers": "strict",
          "coloraxis": {
           "colorbar": {
            "outlinewidth": 0,
            "ticks": ""
           }
          },
          "colorscale": {
           "diverging": [
            [
             0,
             "#8e0152"
            ],
            [
             0.1,
             "#c51b7d"
            ],
            [
             0.2,
             "#de77ae"
            ],
            [
             0.3,
             "#f1b6da"
            ],
            [
             0.4,
             "#fde0ef"
            ],
            [
             0.5,
             "#f7f7f7"
            ],
            [
             0.6,
             "#e6f5d0"
            ],
            [
             0.7,
             "#b8e186"
            ],
            [
             0.8,
             "#7fbc41"
            ],
            [
             0.9,
             "#4d9221"
            ],
            [
             1,
             "#276419"
            ]
           ],
           "sequential": [
            [
             0,
             "#0d0887"
            ],
            [
             0.1111111111111111,
             "#46039f"
            ],
            [
             0.2222222222222222,
             "#7201a8"
            ],
            [
             0.3333333333333333,
             "#9c179e"
            ],
            [
             0.4444444444444444,
             "#bd3786"
            ],
            [
             0.5555555555555556,
             "#d8576b"
            ],
            [
             0.6666666666666666,
             "#ed7953"
            ],
            [
             0.7777777777777778,
             "#fb9f3a"
            ],
            [
             0.8888888888888888,
             "#fdca26"
            ],
            [
             1,
             "#f0f921"
            ]
           ],
           "sequentialminus": [
            [
             0,
             "#0d0887"
            ],
            [
             0.1111111111111111,
             "#46039f"
            ],
            [
             0.2222222222222222,
             "#7201a8"
            ],
            [
             0.3333333333333333,
             "#9c179e"
            ],
            [
             0.4444444444444444,
             "#bd3786"
            ],
            [
             0.5555555555555556,
             "#d8576b"
            ],
            [
             0.6666666666666666,
             "#ed7953"
            ],
            [
             0.7777777777777778,
             "#fb9f3a"
            ],
            [
             0.8888888888888888,
             "#fdca26"
            ],
            [
             1,
             "#f0f921"
            ]
           ]
          },
          "colorway": [
           "#636efa",
           "#EF553B",
           "#00cc96",
           "#ab63fa",
           "#FFA15A",
           "#19d3f3",
           "#FF6692",
           "#B6E880",
           "#FF97FF",
           "#FECB52"
          ],
          "font": {
           "color": "#2a3f5f"
          },
          "geo": {
           "bgcolor": "white",
           "lakecolor": "white",
           "landcolor": "#E5ECF6",
           "showlakes": true,
           "showland": true,
           "subunitcolor": "white"
          },
          "hoverlabel": {
           "align": "left"
          },
          "hovermode": "closest",
          "mapbox": {
           "style": "light"
          },
          "paper_bgcolor": "white",
          "plot_bgcolor": "#E5ECF6",
          "polar": {
           "angularaxis": {
            "gridcolor": "white",
            "linecolor": "white",
            "ticks": ""
           },
           "bgcolor": "#E5ECF6",
           "radialaxis": {
            "gridcolor": "white",
            "linecolor": "white",
            "ticks": ""
           }
          },
          "scene": {
           "xaxis": {
            "backgroundcolor": "#E5ECF6",
            "gridcolor": "white",
            "gridwidth": 2,
            "linecolor": "white",
            "showbackground": true,
            "ticks": "",
            "zerolinecolor": "white"
           },
           "yaxis": {
            "backgroundcolor": "#E5ECF6",
            "gridcolor": "white",
            "gridwidth": 2,
            "linecolor": "white",
            "showbackground": true,
            "ticks": "",
            "zerolinecolor": "white"
           },
           "zaxis": {
            "backgroundcolor": "#E5ECF6",
            "gridcolor": "white",
            "gridwidth": 2,
            "linecolor": "white",
            "showbackground": true,
            "ticks": "",
            "zerolinecolor": "white"
           }
          },
          "shapedefaults": {
           "line": {
            "color": "#2a3f5f"
           }
          },
          "ternary": {
           "aaxis": {
            "gridcolor": "white",
            "linecolor": "white",
            "ticks": ""
           },
           "baxis": {
            "gridcolor": "white",
            "linecolor": "white",
            "ticks": ""
           },
           "bgcolor": "#E5ECF6",
           "caxis": {
            "gridcolor": "white",
            "linecolor": "white",
            "ticks": ""
           }
          },
          "title": {
           "x": 0.05
          },
          "xaxis": {
           "automargin": true,
           "gridcolor": "white",
           "linecolor": "white",
           "ticks": "",
           "title": {
            "standoff": 15
           },
           "zerolinecolor": "white",
           "zerolinewidth": 2
          },
          "yaxis": {
           "automargin": true,
           "gridcolor": "white",
           "linecolor": "white",
           "ticks": "",
           "title": {
            "standoff": 15
           },
           "zerolinecolor": "white",
           "zerolinewidth": 2
          }
         }
        },
        "width": 600,
        "xaxis": {
         "range": [
          -5,
          6
         ],
         "type": "linear"
        },
        "yaxis": {
         "range": [
          -5,
          6
         ],
         "type": "linear"
        }
       }
      },
      "image/png": "[encoded data removed]",
      "text/html": [
       "<div\n",
       "    class=\"webio-mountpoint\"\n",
       "    data-webio-mountpoint=\"5443639789267706134\"\n",
       ">\n",
       "    <script>\n",
       "    (function(){\n",
       "    // Some integrations (namely, IJulia/Jupyter) use an alternate render pathway than\n",
       "    // just putting the html on the page. If WebIO isn't defined, then it's pretty likely\n",
       "    // that we're in one of those situations and the integration just isn't installed\n",
       "    // correctly.\n",
       "    if (typeof window.WebIO === \"undefined\") {\n",
       "        document\n",
       "            .querySelector('[data-webio-mountpoint=\"5443639789267706134\"]')\n",
       "            .innerHTML = (\n",
       "                '<div style=\"padding: 1em; background-color: #f8d6da; border: 1px solid #f5c6cb; font-weight: bold;\">' +\n",
       "                '<p><strong>WebIO not detected.</strong></p>' +\n",
       "                '<p>Please read ' +\n",
       "                '<a href=\"https://juliagizmos.github.io/WebIO.jl/latest/troubleshooting/not-detected/\" target=\"_blank\">the troubleshooting guide</a> ' +\n",
       "                'for more information on how to resolve this issue.</p>' +\n",
       "                '<p><a href=\"https://juliagizmos.github.io/WebIO.jl/latest/troubleshooting/not-detected/\" target=\"_blank\">https://juliagizmos.github.io/WebIO.jl/latest/troubleshooting/not-detected/</a></p>' +\n",
       "                '</div>'\n",
       "            );\n",
       "        return;\n",
       "    }\n",
       "    WebIO.mount(\n",
       "        document.querySelector('[data-webio-mountpoint=\"5443639789267706134\"]'),\n",
       "        {\"props\":{},\"nodeType\":\"Scope\",\"type\":\"node\",\"instanceArgs\":{\"imports\":{\"data\":[{\"name\":\"Plotly\",\"type\":\"js\",\"url\":\"\\/assetserver\\/d66a736669047bda0b2d00471bd5207a90cf3193-plotly.min.js\"},{\"name\":null,\"type\":\"js\",\"url\":\"\\/assetserver\\/aee3160e397a4905b07437c5af565305d1ef6def-plotly_webio.bundle.js\"}],\"type\":\"async_block\"},\"id\":\"15564117848681266712\",\"handlers\":{\"_toImage\":[\"(function (options){return this.Plotly.toImage(this.plotElem,options).then((function (data){return WebIO.setval({\\\"name\\\":\\\"image\\\",\\\"scope\\\":\\\"15564117848681266712\\\",\\\"id\\\":\\\"5628959468024976965\\\",\\\"type\\\":\\\"observable\\\"},data)}))})\"],\"__get_gd_contents\":[\"(function (prop){prop==\\\"data\\\" ? (WebIO.setval({\\\"name\\\":\\\"__gd_contents\\\",\\\"scope\\\":\\\"15564117848681266712\\\",\\\"id\\\":\\\"14374404904216124011\\\",\\\"type\\\":\\\"observable\\\"},this.plotElem.data)) : undefined; return prop==\\\"layout\\\" ? (WebIO.setval({\\\"name\\\":\\\"__gd_contents\\\",\\\"scope\\\":\\\"15564117848681266712\\\",\\\"id\\\":\\\"14374404904216124011\\\",\\\"type\\\":\\\"observable\\\"},this.plotElem.layout)) : undefined})\"],\"_downloadImage\":[\"(function (options){return this.Plotly.downloadImage(this.plotElem,options)})\"],\"_commands\":[\"(function (args){var fn=args.shift(); var elem=this.plotElem; var Plotly=this.Plotly; args.unshift(elem); return Plotly[fn].apply(this,args)})\"]},\"systemjs_options\":null,\"mount_callbacks\":[\"function () {\\n    var handler = ((function (Plotly,PlotlyWebIO){PlotlyWebIO.init(WebIO); var gd=this.dom.querySelector(\\\"#plot-1289b315-4909-42b8-8323-36728f9fbde2\\\"); this.plotElem=gd; this.Plotly=Plotly; (window.Blink!==undefined) ? (gd.style.width=\\\"100%\\\", gd.style.height=\\\"100vh\\\", gd.style.marginLeft=\\\"0%\\\", gd.style.marginTop=\\\"0vh\\\") : undefined; window.onresize=(function (){return Plotly.Plots.resize(gd)}); Plotly.newPlot(gd,[{\\\"y\\\":[0.1207159721461637,0.13065442141536088,0.16037099644907582,0.20957036057388212,0.2777635484053482,0.3642728254057066,0.46823842351417344,0.5886270859082074,0.7242423359740178,0.8737363684286963,1.0356234444146453,1.2082946574398372,1.3900339234133723,1.5790350358601528,1.773419616812303,1.9712557849733143,2.170577355622309,2.369403381441133,2.565757840058792,2.757689272649533,2.9432901784073864,3.1207159721461624,3.2882033166157427,3.4440876473398827,3.5868197158058157,3.7149809865920074,3.8272977354104745,3.9226537079510018,4.000101213717981,4.05887054460432,4.09837762459642,4.118229814584009,4.118229814584009,4.098377624596421,4.05887054460432,4.000101213717981,3.922653707951002,3.827297735410475,3.714980986592009,3.5868197158058166,3.444087647339883,3.2882033166157436,3.120715972146165,2.9432901784073873,2.757689272649534,2.5657578400587933,2.3694033814411357,2.1705773556223105,1.971255784973317,1.773419616812304,1.5790350358601573,1.3900339234133765,1.2082946574398399,1.0356234444146462,0.8737363684286972,0.724242335974018,0.588627085908207,0.468238423514173,0.36427282540570705,0.27776354840534845,0.20957036057388323,0.16037099644907649,0.1306544214153611,0.1207159721461637,0.1207159721461637],\\\"type\\\":\\\"scatter\\\",\\\"x\\\":[2.120715972146164,1.9215802789545307,1.724423685747369,1.5312056233243558,1.343846379596775,1.1642080149035272,0.9940758560189205,0.8351407527730852,0.688982273626727,0.5570530072101043,0.44066412584462067,0.34097235452322683,0.25896847485775565,0.19546747824613986,0.15110046612174766,0.12630837778380344,0.1213376081445312,0.13623755894581935,0.17086014778251646,0.2248612798119003,0.2977042675228172,0.3886651645772856,0.49683996071445025,0.6211535662106953,0.7603704966043241,0.9131071514952074,1.0778455653871666,1.2529484939110471,1.4366756854948264,1.6272011767655759,1.8226314397938133,2.0210242008247685,2.220407743467558,2.4188005044985132,2.614230767526749,2.8047562587975,2.9884834503812794,3.16358637890516,3.328324792797118,3.4810614476880026,3.6202783780816317,3.7445919835778767,3.8527667797150404,3.9437276767695097,4.016570664480427,4.07057179650981,4.105194385346508,4.120094336147796,4.115123566508524,4.0903314781705795,4.045964466046189,3.982463469434573,3.9004595897691017,3.8007678184477074,3.684378937082224,3.5524496706656006,3.4062911915192418,3.2473560882734063,3.077223929388801,2.8975855646955533,2.7102263209679753,2.517008258544961,2.3198516653377985,2.1207159721461646,2.120715972146164]},{\\\"y\\\":[-1.0,-0.9950307753654014,-0.9801724878485439,-0.9555728057861408,-0.9214762118704077,-0.8782215733702285,-0.8262387743159951,-0.7660444431189781,-0.698236818086073,-0.6234898018587337,-0.5425462638657592,-0.4562106573531632,-0.3653410243663957,-0.2708404681430055,-0.17364817766693033,-0.07473009358642473,0.02493069173807279,0.1243437046474846,0.22252093395631423,0.3184866502516846,0.4112871031306113,0.49999999999999933,0.5837436722347895,0.6616858375968594,0.733051871829826,0.7971325072229218,0.8532908816321554,0.900968867902419,0.9396926207859084,0.9690772862290778,0.9888308262251284,0.9987569212189223,0.9987569212189223,0.9888308262251285,0.9690772862290782,0.9396926207859086,0.9009688679024193,0.8532908816321556,0.7971325072229227,0.7330518718298263,0.6616858375968597,0.58374367223479,0.5000000000000006,0.41128710313061173,0.3184866502516851,0.2225209339563147,0.12434370464748597,0.024930691738073277,-0.07473009358642335,-0.17364817766692986,-0.2708404681430033,-0.3653410243663936,-0.45621065735316196,-0.5425462638657588,-0.6234898018587333,-0.6982368180860729,-0.7660444431189783,-0.8262387743159954,-0.8782215733702283,-0.9214762118704076,-0.9555728057861402,-0.9801724878485436,-0.9950307753654013,-1.0,-1.0],\\\"type\\\":\\\"scatter\\\",\\\"x\\\":[1.2246467991473532e-16,-0.09956784659581648,-0.19814614319939736,-0.29475517441090393,-0.3884347962746944,-0.47825397862131824,-0.5633200580636216,-0.6427876096865393,-0.7158668492597183,-0.7818314824680297,-0.8400259231507715,-0.8898718088114684,-0.930873748644204,-0.9626242469500119,-0.984807753012208,-0.9972037971811801,-0.9996891820008162,-0.9922392066001722,-0.9749279121818236,-0.9479273461671317,-0.9115058523116732,-0.866025403784439,-0.8119380057158567,-0.7497812029677342,-0.6801727377709198,-0.6038044103254782,-0.5214352033794986,-0.43388373911755834,-0.3420201433256686,-0.24675739769029395,-0.14904226617617528,-0.0498458856606976,0.049845885660697115,0.14904226617617478,0.24675739769029262,0.3420201433256681,0.4338837391175579,0.5214352033794982,0.603804410325477,0.6801727377709194,0.7497812029677339,0.8119380057158564,0.8660254037844384,0.911505852311673,0.9479273461671315,0.9749279121818235,0.992239206600172,0.9996891820008162,0.9972037971811802,0.9848077530122081,0.9626242469500126,0.9308737486442048,0.8898718088114691,0.8400259231507718,0.78183148246803,0.7158668492597183,0.642787609686539,0.5633200580636213,0.4782539786213187,0.38843479627469485,0.2947551744109057,0.19814614319939872,0.09956784659581741,3.6739403974420594e-16,1.2246467991473532e-16]}],{\\\"xaxis\\\":{\\\"range\\\":[-5,6]},\\\"template\\\":{\\\"layout\\\":{\\\"coloraxis\\\":{\\\"colorbar\\\":{\\\"ticks\\\":\\\"\\\",\\\"outlinewidth\\\":0}},\\\"xaxis\\\":{\\\"gridcolor\\\":\\\"white\\\",\\\"zerolinewidth\\\":2,\\\"title\\\":{\\\"standoff\\\":15},\\\"ticks\\\":\\\"\\\",\\\"zerolinecolor\\\":\\\"white\\\",\\\"automargin\\\":true,\\\"linecolor\\\":\\\"white\\\"},\\\"hovermode\\\":\\\"closest\\\",\\\"paper_bgcolor\\\":\\\"white\\\",\\\"geo\\\":{\\\"showlakes\\\":true,\\\"showland\\\":true,\\\"landcolor\\\":\\\"#E5ECF6\\\",\\\"bgcolor\\\":\\\"white\\\",\\\"subunitcolor\\\":\\\"white\\\",\\\"lakecolor\\\":\\\"white\\\"},\\\"colorscale\\\":{\\\"sequential\\\":[[0.0,\\\"#0d0887\\\"],[0.1111111111111111,\\\"#46039f\\\"],[0.2222222222222222,\\\"#7201a8\\\"],[0.3333333333333333,\\\"#9c179e\\\"],[0.4444444444444444,\\\"#bd3786\\\"],[0.5555555555555556,\\\"#d8576b\\\"],[0.6666666666666666,\\\"#ed7953\\\"],[0.7777777777777778,\\\"#fb9f3a\\\"],[0.8888888888888888,\\\"#fdca26\\\"],[1.0,\\\"#f0f921\\\"]],\\\"diverging\\\":[[0,\\\"#8e0152\\\"],[0.1,\\\"#c51b7d\\\"],[0.2,\\\"#de77ae\\\"],[0.3,\\\"#f1b6da\\\"],[0.4,\\\"#fde0ef\\\"],[0.5,\\\"#f7f7f7\\\"],[0.6,\\\"#e6f5d0\\\"],[0.7,\\\"#b8e186\\\"],[0.8,\\\"#7fbc41\\\"],[0.9,\\\"#4d9221\\\"],[1,\\\"#276419\\\"]],\\\"sequentialminus\\\":[[0.0,\\\"#0d0887\\\"],[0.1111111111111111,\\\"#46039f\\\"],[0.2222222222222222,\\\"#7201a8\\\"],[0.3333333333333333,\\\"#9c179e\\\"],[0.4444444444444444,\\\"#bd3786\\\"],[0.5555555555555556,\\\"#d8576b\\\"],[0.6666666666666666,\\\"#ed7953\\\"],[0.7777777777777778,\\\"#fb9f3a\\\"],[0.8888888888888888,\\\"#fdca26\\\"],[1.0,\\\"#f0f921\\\"]]},\\\"yaxis\\\":{\\\"gridcolor\\\":\\\"white\\\",\\\"zerolinewidth\\\":2,\\\"title\\\":{\\\"standoff\\\":15},\\\"ticks\\\":\\\"\\\",\\\"zerolinecolor\\\":\\\"white\\\",\\\"automargin\\\":true,\\\"linecolor\\\":\\\"white\\\"},\\\"shapedefaults\\\":{\\\"line\\\":{\\\"color\\\":\\\"#2a3f5f\\\"}},\\\"hoverlabel\\\":{\\\"align\\\":\\\"left\\\"},\\\"mapbox\\\":{\\\"style\\\":\\\"light\\\"},\\\"polar\\\":{\\\"angularaxis\\\":{\\\"gridcolor\\\":\\\"white\\\",\\\"ticks\\\":\\\"\\\",\\\"linecolor\\\":\\\"white\\\"},\\\"bgcolor\\\":\\\"#E5ECF6\\\",\\\"radialaxis\\\":{\\\"gridcolor\\\":\\\"white\\\",\\\"ticks\\\":\\\"\\\",\\\"linecolor\\\":\\\"white\\\"}},\\\"autotypenumbers\\\":\\\"strict\\\",\\\"font\\\":{\\\"color\\\":\\\"#2a3f5f\\\"},\\\"ternary\\\":{\\\"baxis\\\":{\\\"gridcolor\\\":\\\"white\\\",\\\"ticks\\\":\\\"\\\",\\\"linecolor\\\":\\\"white\\\"},\\\"bgcolor\\\":\\\"#E5ECF6\\\",\\\"caxis\\\":{\\\"gridcolor\\\":\\\"white\\\",\\\"ticks\\\":\\\"\\\",\\\"linecolor\\\":\\\"white\\\"},\\\"aaxis\\\":{\\\"gridcolor\\\":\\\"white\\\",\\\"ticks\\\":\\\"\\\",\\\"linecolor\\\":\\\"white\\\"}},\\\"annotationdefaults\\\":{\\\"arrowhead\\\":0,\\\"arrowwidth\\\":1,\\\"arrowcolor\\\":\\\"#2a3f5f\\\"},\\\"plot_bgcolor\\\":\\\"#E5ECF6\\\",\\\"title\\\":{\\\"x\\\":0.05},\\\"scene\\\":{\\\"xaxis\\\":{\\\"gridcolor\\\":\\\"white\\\",\\\"gridwidth\\\":2,\\\"backgroundcolor\\\":\\\"#E5ECF6\\\",\\\"ticks\\\":\\\"\\\",\\\"showbackground\\\":true,\\\"zerolinecolor\\\":\\\"white\\\",\\\"linecolor\\\":\\\"white\\\"},\\\"zaxis\\\":{\\\"gridcolor\\\":\\\"white\\\",\\\"gridwidth\\\":2,\\\"backgroundcolor\\\":\\\"#E5ECF6\\\",\\\"ticks\\\":\\\"\\\",\\\"showbackground\\\":true,\\\"zerolinecolor\\\":\\\"white\\\",\\\"linecolor\\\":\\\"white\\\"},\\\"yaxis\\\":{\\\"gridcolor\\\":\\\"white\\\",\\\"gridwidth\\\":2,\\\"backgroundcolor\\\":\\\"#E5ECF6\\\",\\\"ticks\\\":\\\"\\\",\\\"showbackground\\\":true,\\\"zerolinecolor\\\":\\\"white\\\",\\\"linecolor\\\":\\\"white\\\"}},\\\"colorway\\\":[\\\"#636efa\\\",\\\"#EF553B\\\",\\\"#00cc96\\\",\\\"#ab63fa\\\",\\\"#FFA15A\\\",\\\"#19d3f3\\\",\\\"#FF6692\\\",\\\"#B6E880\\\",\\\"#FF97FF\\\",\\\"#FECB52\\\"]},\\\"data\\\":{\\\"barpolar\\\":[{\\\"type\\\":\\\"barpolar\\\",\\\"marker\\\":{\\\"line\\\":{\\\"color\\\":\\\"#E5ECF6\\\",\\\"width\\\":0.5}}}],\\\"carpet\\\":[{\\\"aaxis\\\":{\\\"gridcolor\\\":\\\"white\\\",\\\"endlinecolor\\\":\\\"#2a3f5f\\\",\\\"minorgridcolor\\\":\\\"white\\\",\\\"startlinecolor\\\":\\\"#2a3f5f\\\",\\\"linecolor\\\":\\\"white\\\"},\\\"type\\\":\\\"carpet\\\",\\\"baxis\\\":{\\\"gridcolor\\\":\\\"white\\\",\\\"endlinecolor\\\":\\\"#2a3f5f\\\",\\\"minorgridcolor\\\":\\\"white\\\",\\\"startlinecolor\\\":\\\"#2a3f5f\\\",\\\"linecolor\\\":\\\"white\\\"}}],\\\"scatterpolar\\\":[{\\\"type\\\":\\\"scatterpolar\\\",\\\"marker\\\":{\\\"colorbar\\\":{\\\"ticks\\\":\\\"\\\",\\\"outlinewidth\\\":0}}}],\\\"parcoords\\\":[{\\\"line\\\":{\\\"colorbar\\\":{\\\"ticks\\\":\\\"\\\",\\\"outlinewidth\\\":0}},\\\"type\\\":\\\"parcoords\\\"}],\\\"scatter\\\":[{\\\"type\\\":\\\"scatter\\\",\\\"marker\\\":{\\\"colorbar\\\":{\\\"ticks\\\":\\\"\\\",\\\"outlinewidth\\\":0}}}],\\\"histogram2dcontour\\\":[{\\\"colorbar\\\":{\\\"ticks\\\":\\\"\\\",\\\"outlinewidth\\\":0},\\\"type\\\":\\\"histogram2dcontour\\\",\\\"colorscale\\\":[[0.0,\\\"#0d0887\\\"],[0.1111111111111111,\\\"#46039f\\\"],[0.2222222222222222,\\\"#7201a8\\\"],[0.3333333333333333,\\\"#9c179e\\\"],[0.4444444444444444,\\\"#bd3786\\\"],[0.5555555555555556,\\\"#d8576b\\\"],[0.6666666666666666,\\\"#ed7953\\\"],[0.7777777777777778,\\\"#fb9f3a\\\"],[0.8888888888888888,\\\"#fdca26\\\"],[1.0,\\\"#f0f921\\\"]]}],\\\"contour\\\":[{\\\"colorbar\\\":{\\\"ticks\\\":\\\"\\\",\\\"outlinewidth\\\":0},\\\"type\\\":\\\"contour\\\",\\\"colorscale\\\":[[0.0,\\\"#0d0887\\\"],[0.1111111111111111,\\\"#46039f\\\"],[0.2222222222222222,\\\"#7201a8\\\"],[0.3333333333333333,\\\"#9c179e\\\"],[0.4444444444444444,\\\"#bd3786\\\"],[0.5555555555555556,\\\"#d8576b\\\"],[0.6666666666666666,\\\"#ed7953\\\"],[0.7777777777777778,\\\"#fb9f3a\\\"],[0.8888888888888888,\\\"#fdca26\\\"],[1.0,\\\"#f0f921\\\"]]}],\\\"scattercarpet\\\":[{\\\"type\\\":\\\"scattercarpet\\\",\\\"marker\\\":{\\\"colorbar\\\":{\\\"ticks\\\":\\\"\\\",\\\"outlinewidth\\\":0}}}],\\\"mesh3d\\\":[{\\\"colorbar\\\":{\\\"ticks\\\":\\\"\\\",\\\"outlinewidth\\\":0},\\\"type\\\":\\\"mesh3d\\\"}],\\\"surface\\\":[{\\\"colorbar\\\":{\\\"ticks\\\":\\\"\\\",\\\"outlinewidth\\\":0},\\\"type\\\":\\\"surface\\\",\\\"colorscale\\\":[[0.0,\\\"#0d0887\\\"],[0.1111111111111111,\\\"#46039f\\\"],[0.2222222222222222,\\\"#7201a8\\\"],[0.3333333333333333,\\\"#9c179e\\\"],[0.4444444444444444,\\\"#bd3786\\\"],[0.5555555555555556,\\\"#d8576b\\\"],[0.6666666666666666,\\\"#ed7953\\\"],[0.7777777777777778,\\\"#fb9f3a\\\"],[0.8888888888888888,\\\"#fdca26\\\"],[1.0,\\\"#f0f921\\\"]]}],\\\"scattermapbox\\\":[{\\\"type\\\":\\\"scattermapbox\\\",\\\"marker\\\":{\\\"colorbar\\\":{\\\"ticks\\\":\\\"\\\",\\\"outlinewidth\\\":0}}}],\\\"scattergeo\\\":[{\\\"type\\\":\\\"scattergeo\\\",\\\"marker\\\":{\\\"colorbar\\\":{\\\"ticks\\\":\\\"\\\",\\\"outlinewidth\\\":0}}}],\\\"histogram\\\":[{\\\"type\\\":\\\"histogram\\\",\\\"marker\\\":{\\\"colorbar\\\":{\\\"ticks\\\":\\\"\\\",\\\"outlinewidth\\\":0}}}],\\\"pie\\\":[{\\\"type\\\":\\\"pie\\\",\\\"automargin\\\":true}],\\\"choropleth\\\":[{\\\"colorbar\\\":{\\\"ticks\\\":\\\"\\\",\\\"outlinewidth\\\":0},\\\"type\\\":\\\"choropleth\\\"}],\\\"heatmapgl\\\":[{\\\"colorbar\\\":{\\\"ticks\\\":\\\"\\\",\\\"outlinewidth\\\":0},\\\"type\\\":\\\"heatmapgl\\\",\\\"colorscale\\\":[[0.0,\\\"#0d0887\\\"],[0.1111111111111111,\\\"#46039f\\\"],[0.2222222222222222,\\\"#7201a8\\\"],[0.3333333333333333,\\\"#9c179e\\\"],[0.4444444444444444,\\\"#bd3786\\\"],[0.5555555555555556,\\\"#d8576b\\\"],[0.6666666666666666,\\\"#ed7953\\\"],[0.7777777777777778,\\\"#fb9f3a\\\"],[0.8888888888888888,\\\"#fdca26\\\"],[1.0,\\\"#f0f921\\\"]]}],\\\"bar\\\":[{\\\"type\\\":\\\"bar\\\",\\\"error_y\\\":{\\\"color\\\":\\\"#2a3f5f\\\"},\\\"error_x\\\":{\\\"color\\\":\\\"#2a3f5f\\\"},\\\"marker\\\":{\\\"line\\\":{\\\"color\\\":\\\"#E5ECF6\\\",\\\"width\\\":0.5}}}],\\\"heatmap\\\":[{\\\"colorbar\\\":{\\\"ticks\\\":\\\"\\\",\\\"outlinewidth\\\":0},\\\"type\\\":\\\"heatmap\\\",\\\"colorscale\\\":[[0.0,\\\"#0d0887\\\"],[0.1111111111111111,\\\"#46039f\\\"],[0.2222222222222222,\\\"#7201a8\\\"],[0.3333333333333333,\\\"#9c179e\\\"],[0.4444444444444444,\\\"#bd3786\\\"],[0.5555555555555556,\\\"#d8576b\\\"],[0.6666666666666666,\\\"#ed7953\\\"],[0.7777777777777778,\\\"#fb9f3a\\\"],[0.8888888888888888,\\\"#fdca26\\\"],[1.0,\\\"#f0f921\\\"]]}],\\\"contourcarpet\\\":[{\\\"colorbar\\\":{\\\"ticks\\\":\\\"\\\",\\\"outlinewidth\\\":0},\\\"type\\\":\\\"contourcarpet\\\"}],\\\"table\\\":[{\\\"type\\\":\\\"table\\\",\\\"header\\\":{\\\"line\\\":{\\\"color\\\":\\\"white\\\"},\\\"fill\\\":{\\\"color\\\":\\\"#C8D4E3\\\"}},\\\"cells\\\":{\\\"line\\\":{\\\"color\\\":\\\"white\\\"},\\\"fill\\\":{\\\"color\\\":\\\"#EBF0F8\\\"}}}],\\\"scatter3d\\\":[{\\\"line\\\":{\\\"colorbar\\\":{\\\"ticks\\\":\\\"\\\",\\\"outlinewidth\\\":0}},\\\"type\\\":\\\"scatter3d\\\",\\\"marker\\\":{\\\"colorbar\\\":{\\\"ticks\\\":\\\"\\\",\\\"outlinewidth\\\":0}}}],\\\"scattergl\\\":[{\\\"type\\\":\\\"scattergl\\\",\\\"marker\\\":{\\\"colorbar\\\":{\\\"ticks\\\":\\\"\\\",\\\"outlinewidth\\\":0}}}],\\\"histogram2d\\\":[{\\\"colorbar\\\":{\\\"ticks\\\":\\\"\\\",\\\"outlinewidth\\\":0},\\\"type\\\":\\\"histogram2d\\\",\\\"colorscale\\\":[[0.0,\\\"#0d0887\\\"],[0.1111111111111111,\\\"#46039f\\\"],[0.2222222222222222,\\\"#7201a8\\\"],[0.3333333333333333,\\\"#9c179e\\\"],[0.4444444444444444,\\\"#bd3786\\\"],[0.5555555555555556,\\\"#d8576b\\\"],[0.6666666666666666,\\\"#ed7953\\\"],[0.7777777777777778,\\\"#fb9f3a\\\"],[0.8888888888888888,\\\"#fdca26\\\"],[1.0,\\\"#f0f921\\\"]]}],\\\"scatterternary\\\":[{\\\"type\\\":\\\"scatterternary\\\",\\\"marker\\\":{\\\"colorbar\\\":{\\\"ticks\\\":\\\"\\\",\\\"outlinewidth\\\":0}}}],\\\"scatterpolargl\\\":[{\\\"type\\\":\\\"scatterpolargl\\\",\\\"marker\\\":{\\\"colorbar\\\":{\\\"ticks\\\":\\\"\\\",\\\"outlinewidth\\\":0}}}]}},\\\"height\\\":600,\\\"margin\\\":{\\\"l\\\":50,\\\"b\\\":50,\\\"r\\\":50,\\\"t\\\":60},\\\"yaxis\\\":{\\\"range\\\":[-5,6]},\\\"width\\\":600},{\\\"showLink\\\":false,\\\"editable\\\":false,\\\"responsive\\\":true,\\\"staticPlot\\\":false,\\\"scrollZoom\\\":true}); gd.on(\\\"plotly_hover\\\",(function (data){var filtered_data=WebIO.PlotlyCommands.filterEventData(gd,data,\\\"hover\\\"); return !(filtered_data.isnil) ? (WebIO.setval({\\\"name\\\":\\\"hover\\\",\\\"scope\\\":\\\"15564117848681266712\\\",\\\"id\\\":\\\"9170900343771513600\\\",\\\"type\\\":\\\"observable\\\"},filtered_data.out)) : undefined})); gd.on(\\\"plotly_unhover\\\",(function (){return WebIO.setval({\\\"name\\\":\\\"hover\\\",\\\"scope\\\":\\\"15564117848681266712\\\",\\\"id\\\":\\\"9170900343771513600\\\",\\\"type\\\":\\\"observable\\\"},{})})); gd.on(\\\"plotly_selected\\\",(function (data){var filtered_data=WebIO.PlotlyCommands.filterEventData(gd,data,\\\"selected\\\"); return !(filtered_data.isnil) ? (WebIO.setval({\\\"name\\\":\\\"selected\\\",\\\"scope\\\":\\\"15564117848681266712\\\",\\\"id\\\":\\\"5042097799305974733\\\",\\\"type\\\":\\\"observable\\\"},filtered_data.out)) : undefined})); gd.on(\\\"plotly_deselect\\\",(function (){return WebIO.setval({\\\"name\\\":\\\"selected\\\",\\\"scope\\\":\\\"15564117848681266712\\\",\\\"id\\\":\\\"5042097799305974733\\\",\\\"type\\\":\\\"observable\\\"},{})})); gd.on(\\\"plotly_relayout\\\",(function (data){var filtered_data=WebIO.PlotlyCommands.filterEventData(gd,data,\\\"relayout\\\"); return !(filtered_data.isnil) ? (WebIO.setval({\\\"name\\\":\\\"relayout\\\",\\\"scope\\\":\\\"15564117848681266712\\\",\\\"id\\\":\\\"8673745307658737382\\\",\\\"type\\\":\\\"observable\\\"},filtered_data.out)) : undefined})); return gd.on(\\\"plotly_click\\\",(function (data){var filtered_data=WebIO.PlotlyCommands.filterEventData(gd,data,\\\"click\\\"); return !(filtered_data.isnil) ? (WebIO.setval({\\\"name\\\":\\\"click\\\",\\\"scope\\\":\\\"15564117848681266712\\\",\\\"id\\\":\\\"15209065943848844181\\\",\\\"type\\\":\\\"observable\\\"},filtered_data.out)) : undefined}))}));\\n    (WebIO.importBlock({\\\"data\\\":[{\\\"name\\\":\\\"Plotly\\\",\\\"type\\\":\\\"js\\\",\\\"url\\\":\\\"\\/assetserver\\/d66a736669047bda0b2d00471bd5207a90cf3193-plotly.min.js\\\"},{\\\"name\\\":null,\\\"type\\\":\\\"js\\\",\\\"url\\\":\\\"\\/assetserver\\/aee3160e397a4905b07437c5af565305d1ef6def-plotly_webio.bundle.js\\\"}],\\\"type\\\":\\\"async_block\\\"})).then((imports) => handler.apply(this, imports));\\n}\\n\"],\"observables\":{\"_toImage\":{\"sync\":false,\"id\":\"17305426539118620630\",\"value\":{}},\"hover\":{\"sync\":false,\"id\":\"9170900343771513600\",\"value\":{}},\"selected\":{\"sync\":false,\"id\":\"5042097799305974733\",\"value\":{}},\"__gd_contents\":{\"sync\":false,\"id\":\"14374404904216124011\",\"value\":{}},\"click\":{\"sync\":false,\"id\":\"15209065943848844181\",\"value\":{}},\"image\":{\"sync\":true,\"id\":\"5628959468024976965\",\"value\":\"\"},\"__get_gd_contents\":{\"sync\":false,\"id\":\"4234923665617121703\",\"value\":\"\"},\"_downloadImage\":{\"sync\":false,\"id\":\"15081889146803928834\",\"value\":{}},\"relayout\":{\"sync\":false,\"id\":\"8673745307658737382\",\"value\":{}},\"_commands\":{\"sync\":false,\"id\":\"12005375838278995759\",\"value\":[]}}},\"children\":[{\"props\":{\"id\":\"plot-1289b315-4909-42b8-8323-36728f9fbde2\"},\"nodeType\":\"DOM\",\"type\":\"node\",\"instanceArgs\":{\"namespace\":\"html\",\"tag\":\"div\"},\"children\":[]}]},\n",
       "        window,\n",
       "    );\n",
       "    })()\n",
       "    </script>\n",
       "</div>\n"
      ],
      "text/plain": [
       "data: [\n",
       "  \"scatter with fields type, x, and y\",\n",
       "  \"scatter with fields type, x, and y\"\n",
       "]\n",
       "\n",
       "layout: \"layout with fields height, margin, template, width, xaxis, and yaxis\"\n",
       "\n"
      ]
     },
     "execution_count": 31,
     "metadata": {},
     "output_type": "execute_result"
    }
   ],
   "source": [
    "D1 = Diagram2(MyCircle())\n",
    "D2 = Diagram2(MyCircle(2));\n",
    "D1 ⋄ D2\n",
    "D  = beside(D1,D2,[1,1])\n",
    "\n",
    "function plotgeometry(D::Diagram2; kwargs...)\n",
    "    map(plotgeometry,D.p)\n",
    "end\n",
    "\n",
    "p = plotgeometry(D)\n",
    "plot(p,layout)"
   ]
  },
  {
   "cell_type": "markdown",
   "id": "6d4e0afb-d1d8-437b-a5c9-c63fd317eb84",
   "metadata": {},
   "source": [
    "## Caching Trace\n",
    "\n",
    "Let us repeate the same process for trace."
   ]
  },
  {
   "cell_type": "code",
   "execution_count": 32,
   "id": "ecc61d91-42c1-4a30-89d6-ddb09a43f546",
   "metadata": {},
   "outputs": [
    {
     "data": {
      "text/plain": [
       "trP (generic function with 2 methods)"
      ]
     },
     "execution_count": 32,
     "metadata": {},
     "output_type": "execute_result"
    }
   ],
   "source": [
    "struct Trace\n",
    "    f::Function\n",
    "end\n",
    "\n",
    "# Let's create a function `fmax` that can compute the max when there are `nothing` values.\n",
    "fmin(x,y) = min(x,y)\n",
    "fmin(x,y::Nothing) = x\n",
    "fmin(x::Nothing,y) = y\n",
    "fmin(x::Nothing,y::Nothing) = nothing\n",
    "function ⋄(tr1::Trace, tr2::Trace)::Trace\n",
    "    Trace(x -> fmin(tr1.f(x),tr2.f(x)))\n",
    "end\n",
    "neutral(::Type{Trace}) = Trace(v::Vector -> nothing)\n",
    "\n",
    "trP(p::Primitive1) = Trace(v -> traceP(p.g,v))\n",
    "trP() = Envelope(v::Vector -> nothing)\n",
    "\n",
    "# (envP(MyCircle()) ⋄ envP()).f([1,1]) ≈ envP(MyCircle()).f([1,1]), (envP() ⋄ envP(MyCircle(2))).f([1,1]) ≈ envP(MyCircle(2)).f([1,1])"
   ]
  },
  {
   "cell_type": "code",
   "execution_count": 33,
   "id": "561e16e6-1f8f-4f11-b6d4-b033ebdb3995",
   "metadata": {},
   "outputs": [
    {
     "data": {
      "text/plain": [
       "Envelope(var\"#56#57\"())"
      ]
     },
     "execution_count": 33,
     "metadata": {},
     "output_type": "execute_result"
    }
   ],
   "source": [
    "trP()"
   ]
  },
  {
   "cell_type": "code",
   "execution_count": 34,
   "id": "96b36893-d879-4735-b047-529fc0998b3d",
   "metadata": {},
   "outputs": [],
   "source": [
    "struct Diagram3\n",
    "    p::Vector{Primitive1}\n",
    "    e::Envelope\n",
    "    t::Trace\n",
    "end\n",
    "Diagram3(p::Primitive1) = Diagram3([p],envP(p),trP(p))\n",
    "Diagram3(p::Primitive1,e::Envelope,t::Trace) = Diagram3([p],e,t)\n",
    "Diagram3() = Diagram3([],Envelope(fnothing), Trace(fnothing))\n",
    "Diagram3(p::Vector{<:Primitive1}) = Diagram3(p,mconcat(map(envP,p)),mconcat(map(trP,p)))\n",
    "\n",
    "neutral(::Type{Diagram3}) = Diagram3()\n",
    "⋄(d1::Diagram3, d2::Diagram3) = Diagram3(d2.p ⋄ d1.p,d2.e ⋄ d1.e,d2.t ⋄ d1.t)\n",
    "\n",
    "D1 = Diagram3(MyCircle())\n",
    "D2 = Diagram3(MyCircle(2))\n",
    "\n",
    "D1 ⋄ D2;"
   ]
  },
  {
   "cell_type": "code",
   "execution_count": 35,
   "id": "66c0b7fa-a1f5-4a63-817c-7796f1730a3d",
   "metadata": {},
   "outputs": [
    {
     "ename": "LoadError",
     "evalue": "MethodError: no method matching ⋄(::Diagram2, ::Diagram3)\n\u001b[0mClosest candidates are:\n\u001b[0m  ⋄(::Diagram2, \u001b[91m::Diagram2\u001b[39m) at In[29]:13\n\u001b[0m  ⋄(\u001b[91m::Diagram3\u001b[39m, ::Diagram3) at In[34]:12",
     "output_type": "error",
     "traceback": [
      "MethodError: no method matching ⋄(::Diagram2, ::Diagram3)\n\u001b[0mClosest candidates are:\n\u001b[0m  ⋄(::Diagram2, \u001b[91m::Diagram2\u001b[39m) at In[29]:13\n\u001b[0m  ⋄(\u001b[91m::Diagram3\u001b[39m, ::Diagram3) at In[34]:12",
      "",
      "Stacktrace:",
      " [1] top-level scope",
      "   @ In[35]:9",
      " [2] eval",
      "   @ ./boot.jl:368 [inlined]",
      " [3] include_string(mapexpr::typeof(REPL.softscope), mod::Module, code::String, filename::String)",
      "   @ Base ./loading.jl:1428"
     ]
    }
   ],
   "source": [
    "D1 = translate(Diagram3(MyCircle()),[3,3])\n",
    "D2 = Diagram3(MyCircle(2))\n",
    "l = Line(Point(0.0,0.),Point(v...))\n",
    "\n",
    "function plotgeometry(D::Diagram3; kwargs...)\n",
    "    map(plotgeometry,D.p)\n",
    "end\n",
    "\n",
    "p = plotgeometry(D1 ⋄ D2)\n",
    "plot(p,layout)"
   ]
  },
  {
   "cell_type": "code",
   "execution_count": 36,
   "id": "ccd984ae-7c69-4c24-a1a3-7cbdf842ced6",
   "metadata": {},
   "outputs": [
    {
     "ename": "LoadError",
     "evalue": "MethodError: no method matching ⋄(::Diagram2, ::Diagram3)\n\u001b[0mClosest candidates are:\n\u001b[0m  ⋄(::Diagram2, \u001b[91m::Diagram2\u001b[39m) at In[29]:13\n\u001b[0m  ⋄(\u001b[91m::Diagram3\u001b[39m, ::Diagram3) at In[34]:12",
     "output_type": "error",
     "traceback": [
      "MethodError: no method matching ⋄(::Diagram2, ::Diagram3)\n\u001b[0mClosest candidates are:\n\u001b[0m  ⋄(::Diagram2, \u001b[91m::Diagram2\u001b[39m) at In[29]:13\n\u001b[0m  ⋄(\u001b[91m::Diagram3\u001b[39m, ::Diagram3) at In[34]:12",
      "",
      "Stacktrace:",
      " [1] top-level scope",
      "   @ In[36]:1",
      " [2] eval",
      "   @ ./boot.jl:368 [inlined]",
      " [3] include_string(mapexpr::typeof(REPL.softscope), mod::Module, code::String, filename::String)",
      "   @ Base ./loading.jl:1428"
     ]
    }
   ],
   "source": [
    "D = D1 ⋄ D2\n",
    "\n",
    "D.t.f([1,1])"
   ]
  },
  {
   "cell_type": "code",
   "execution_count": null,
   "id": "cff81e43-9a3a-4b3a-8e6c-8e07fa3b7346",
   "metadata": {},
   "outputs": [],
   "source": []
  }
 ],
 "metadata": {
  "kernelspec": {
   "display_name": "Julia 1.9.0",
   "language": "julia",
   "name": "julia-1.9"
  },
  "language_info": {
   "file_extension": ".jl",
   "mimetype": "application/julia",
   "name": "julia",
   "version": "1.9.0"
  }
 },
 "nbformat": 4,
 "nbformat_minor": 5
}
