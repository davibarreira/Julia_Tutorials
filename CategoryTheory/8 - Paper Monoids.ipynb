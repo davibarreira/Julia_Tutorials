{
 "cells": [
  {
   "cell_type": "markdown",
   "id": "9f7aeff1-03bc-4ef3-a8a0-c31dfaf09559",
   "metadata": {},
   "source": [
    "# Paper: Monoids: Themes and Variations\n",
    "\n",
    "This notebook is to reproduce the work in the article \"Monoids: Theme and Variations\"."
   ]
  },
  {
   "cell_type": "code",
   "execution_count": 1,
   "id": "c3e5cf20-d7e3-4c62-afb5-1d5b1bf6525b",
   "metadata": {},
   "outputs": [
    {
     "name": "stderr",
     "output_type": "stream",
     "text": [
      "\u001b[32m\u001b[1m  Activating\u001b[22m\u001b[39m project at `~/MEGA/EMAP/Julia_Tutorials/CategoryTheory`\n"
     ]
    },
    {
     "data": {
      "application/vnd.webio.node+json": {
       "children": [],
       "instanceArgs": {
        "namespace": "html",
        "tag": "div"
       },
       "nodeType": "DOM",
       "props": {},
       "type": "node"
      },
      "text/html": [
       "<div style=\"padding: 1em; background-color: #f8d6da; border: 1px solid #f5c6cb; font-weight: bold;\">\n",
       "<p>The WebIO Jupyter extension was not detected. See the\n",
       "<a href=\"https://juliagizmos.github.io/WebIO.jl/latest/providers/ijulia/\" target=\"_blank\">\n",
       "    WebIO Jupyter integration documentation\n",
       "</a>\n",
       "for more information.\n",
       "</div>\n"
      ],
      "text/plain": [
       "WebIO._IJuliaInit()"
      ]
     },
     "metadata": {},
     "output_type": "display_data"
    }
   ],
   "source": [
    "using Pkg\n",
    "Pkg.activate(\".\")\n",
    "using GeometryBasics\n",
    "using PlotlyJS\n",
    "using LinearAlgebra\n",
    "using CoordinateTransformations\n",
    "using Rotations\n",
    "import FunctionWrappers: FunctionWrapper\n",
    "\n",
    "\"\"\"\n",
    "FunctionType(domain::Type, codomain::Type)\n",
    "Returns a type for functions from `domain`\n",
    "to `codmain`. This can be used to enforce\n",
    "correct composition of functions.\n",
    "\"\"\"\n",
    "function FunctionType(domain::Type, codomain::Type)\n",
    "    FunctionWrapper{codomain,Tuple{domain}}\n",
    "end;"
   ]
  },
  {
   "cell_type": "markdown",
   "id": "096aea8e-9336-4ca5-ae3e-2ce7bef59377",
   "metadata": {},
   "source": [
    "## 1. What is a Diagram?\n",
    "\n",
    "The first question is how de we define a \"Diagram\". A simple description\n",
    "is that a diagram is an *ordered collection of primitives*.\n",
    "\n",
    "A primitive is any thing that we know how to draw. For example, if we are using SVG,\n",
    "then our primitives includes things like lines, rectangles, circles ,ellipses, Bézier curves, and so on.\n",
    "\n",
    "The order of the primitive defines which one is in top of the other.\n",
    "We can note that a list with a concatenation operation creates a *monoid*. Hence,\n",
    "we can say that a Diagram as such is a monoid."
   ]
  },
  {
   "cell_type": "markdown",
   "id": "535060ea-a305-4048-9fe4-0f5ef77ed104",
   "metadata": {},
   "source": [
    "## 2. A Diagram is a Monoid\n",
    "\n",
    "A monoid is a category composed of a single object (type), a neutral element and an operator, e.g. $(M,e,\\otimes)$.\n",
    "In programming, $M$ is a type, $\\otimes$ is a function with two arguments of type $M$, and $e$ is a value of type $M$;\n",
    "\n",
    "Thus, consider $M$ to be the set of ordered list of primitives of type `Primitive`.\n",
    "For two diagrams $D_1 = [p^{(1)}_1,...,p^{(1)}_n]$ and\n",
    "$D_2 = [p^{(2)}_1,...,p^{(2)}_m]$, we have\n",
    "\n",
    "$$\n",
    "D_1 \\otimes D_2 = \n",
    "[p^{(1)}_1,...,p^{(1)}_n,p^{(2)}_1,...,p^{(2)}_m].\n",
    "$$\n",
    "\n",
    "Note that the empty list `[]` is the null element. We can also show that this composition operation is associative.\n",
    "Thus, the ordered list of primitives with concatenation operator does indeed defines a **monoid**.\n",
    "\n",
    "Let's code this.\n",
    "First, we'll define our primitives using the `GeometryBasic.jl` package. It already\n",
    "provides the primitives we want. Yet, we can also define them manually."
   ]
  },
  {
   "cell_type": "code",
   "execution_count": 2,
   "id": "08c7cb01-2a74-4875-bd2c-227cf5cecccf",
   "metadata": {},
   "outputs": [
    {
     "data": {
      "text/plain": [
       "⋄ (generic function with 2 methods)"
      ]
     },
     "execution_count": 2,
     "metadata": {},
     "output_type": "execute_result"
    }
   ],
   "source": [
    "abstract type Primitive1 end\n",
    "struct Prim{T<:AbstractGeometry} <: Primitive1\n",
    "    g::T\n",
    "end\n",
    "\n",
    "struct MyCircle <: Primitive1\n",
    "    ρ::Real\n",
    "    c::Point2\n",
    "    g::Circle\n",
    "    function MyCircle(ρ=1,c=Point(0,0)) \n",
    "        if ρ < 0\n",
    "            error(\"ρ should be greater or equal than 0.\")\n",
    "        end\n",
    "        return new(ρ, c, Circle(c,ρ))\n",
    "    end\n",
    "end\n",
    "\n",
    "struct MySquare <: Primitive1\n",
    "    l::Real\n",
    "    c::Point2\n",
    "    g::AbstractGeometry\n",
    "    function MySquare(l=1,c=Point(0,0)) \n",
    "        if l < 0\n",
    "            error(\"length should be greater or equal than 0.\")\n",
    "        end\n",
    "        pts = [c + Point(l/2,l/2), c + Point(-l/2,l/2), c + Point(-l/2,-l/2), c + Point(l/2, -l/2)]\n",
    "        return new(l, c, Polygon(pts))\n",
    "    end\n",
    "end\n",
    "\n",
    "# Base.@kwdef struct MyPoint <: Primitive1\n",
    "#     p::Point = Point(0,0)\n",
    "# end\n",
    "\n",
    "struct Diagram1\n",
    "    p::Vector{Primitive1}\n",
    "end\n",
    "Diagram1(p::Primitive1=[]) = Diagram1([p])\n",
    "\n",
    "neutral(::Type{Diagram1}) = Diagram1(Primitive1[])\n",
    "\n",
    "⋄(p::Vector{Primitive1}, q::Vector{Primitive1}) = vcat(p,q)\n",
    "⋄(d1::Diagram1, d2::Diagram1) = Diagram1(d1.p ⋄ d2.p)\n"
   ]
  },
  {
   "cell_type": "code",
   "execution_count": 3,
   "id": "b7cbc352-f347-4c8f-b6ec-d20a5c6e2137",
   "metadata": {},
   "outputs": [
    {
     "data": {
      "text/plain": [
       "true"
      ]
     },
     "execution_count": 3,
     "metadata": {},
     "output_type": "execute_result"
    }
   ],
   "source": [
    "circle = MyCircle(1, Point(0,0))\n",
    "D = Diagram1([circle])\n",
    "\n",
    "D.p == (Diagram1() ⋄ D).p"
   ]
  },
  {
   "cell_type": "markdown",
   "id": "4ae1c45a-dc3d-4bdf-b0b9-2deeea42faeb",
   "metadata": {},
   "source": [
    "Here are some functions that can help working with a diagram. "
   ]
  },
  {
   "cell_type": "code",
   "execution_count": 4,
   "id": "6e517e58-eba1-4347-b8a2-0a980c56d950",
   "metadata": {},
   "outputs": [
    {
     "data": {
      "text/plain": [
       "prim (generic function with 1 method)"
      ]
     },
     "execution_count": 4,
     "metadata": {},
     "output_type": "execute_result"
    }
   ],
   "source": [
    "unD(d::Diagram1) = d.p\n",
    "prim(p::Primitive1) = Diagram1([p])"
   ]
  },
  {
   "cell_type": "code",
   "execution_count": 5,
   "id": "56e260d0-32a1-4380-b3ce-d4c832d5740b",
   "metadata": {},
   "outputs": [
    {
     "data": {
      "text/plain": [
       "(MyCircle(2, [0, 0], Circle{Int64}([0, 0], 2)), MyCircle(1, [0, 0], Circle{Int64}([0, 0], 1)))"
      ]
     },
     "execution_count": 5,
     "metadata": {},
     "output_type": "execute_result"
    }
   ],
   "source": [
    "d = Diagram1(MyCircle(2)) ⋄ Diagram1(MyCircle(1));\n",
    "\n",
    "d.p[1],d.p[2]"
   ]
  },
  {
   "cell_type": "markdown",
   "id": "548616cc-b997-4657-be3e-5821e3d0699d",
   "metadata": {},
   "source": [
    "There is a *practical* issue with our `Diagram1` definition. Suppose we have diagrams\n",
    "`d1 = [p1]`, `d2 = [p2]`, `d3 = [p3]`. One now wishes to draw `d1` over `d2` and over `d3`. We could think\n",
    "that `d1 ⋄ (d2 ⋄ d3)` would do the job, but this is actually putting `d1` under the other two.\n",
    "Remember that `⋄` is just concatenation, hence:\n",
    "```\n",
    "julia> d1 ⋄ (d2 ⋄ d3)\n",
    "[p1,p2,p3]\n",
    "```\n",
    "When we draw `[p1,p2,p3]`, we first draw `p1`, i.e. under the other two.\n",
    "\n",
    "We can change the order to this by defining a dual of `Diagram1`."
   ]
  },
  {
   "cell_type": "code",
   "execution_count": 6,
   "id": "022b614f-36fb-4949-bb18-5e9bf191d0a5",
   "metadata": {},
   "outputs": [
    {
     "data": {
      "text/plain": [
       "unD (generic function with 2 methods)"
      ]
     },
     "execution_count": 6,
     "metadata": {},
     "output_type": "execute_result"
    }
   ],
   "source": [
    "struct DiagramDual\n",
    "    p::Vector{Primitive1}\n",
    "end\n",
    "DiagramDual(p::Primitive1=[]) = DiagramDual([p])\n",
    "neutral(::Type{DiagramDual}) = DiagramDual([])\n",
    "⋄(d1::DiagramDual, d2::DiagramDual) = DiagramDual(d2.p ⋄ d1.p)\n",
    "mconcat(ds::Vector{T}) where T = foldr(⋄,ds; init=neutral(T))\n",
    "unD(d::DiagramDual) = d.p"
   ]
  },
  {
   "cell_type": "markdown",
   "id": "0b3b87ac-279d-4f20-99c2-5563d424f9da",
   "metadata": {},
   "source": [
    "This is now a **contravariant functor**."
   ]
  },
  {
   "cell_type": "code",
   "execution_count": 7,
   "id": "3ee35aa8-063e-4a97-93f3-430b34510fc7",
   "metadata": {},
   "outputs": [],
   "source": [
    "circle = MyCircle()\n",
    "square = MySquare()\n",
    "triangle1 = Prim(Triangle(Point(0,0),Point(1,1), Point(1,0)))\n",
    "triangle2 = Prim(Triangle(Point(0,0),Point(-1,-1), Point(-1,0)))\n",
    "\n",
    "D1 = DiagramDual(circle)\n",
    "D2 = DiagramDual(square)\n",
    "D3 = DiagramDual([triangle1, triangle2])\n",
    "\n",
    "D = D1 ⋄ D2 ⋄ D3;"
   ]
  },
  {
   "cell_type": "code",
   "execution_count": 8,
   "id": "10c48749-04f6-41ae-81c4-61609c28c99c",
   "metadata": {},
   "outputs": [
    {
     "data": {
      "text/plain": [
       "(false, true)"
      ]
     },
     "execution_count": 8,
     "metadata": {},
     "output_type": "execute_result"
    }
   ],
   "source": [
    "D.p[1] == D1.p[1], D.p[1] == D3.p[1]"
   ]
  },
  {
   "cell_type": "code",
   "execution_count": 9,
   "id": "99f69015-7989-4dee-85c0-ddbda8d0c66f",
   "metadata": {},
   "outputs": [],
   "source": [
    "D = mconcat([D1,D2,D3]);"
   ]
  },
  {
   "cell_type": "code",
   "execution_count": 10,
   "id": "39adba13-4406-4b2c-99da-55c2b1d08612",
   "metadata": {},
   "outputs": [
    {
     "data": {
      "text/plain": [
       "(false, true)"
      ]
     },
     "execution_count": 10,
     "metadata": {},
     "output_type": "execute_result"
    }
   ],
   "source": [
    "D.p[1] == D1.p[1], D.p[1] == D3.p[1]"
   ]
  },
  {
   "cell_type": "markdown",
   "id": "5c97e0fc-665d-4029-8339-7ae27e46c629",
   "metadata": {},
   "source": [
    "Note that now that the order follows the \"desired\" drawing order. \n",
    "\n",
    "Let's plot our diagram. We know how to draw each primitive, we just\n",
    "need to iteratively plot each one."
   ]
  },
  {
   "cell_type": "code",
   "execution_count": 11,
   "id": "6e30b5c8-78cd-4b4c-9b9e-5ff3397cb53b",
   "metadata": {},
   "outputs": [
    {
     "data": {
      "text/plain": [
       "coordy (generic function with 1 method)"
      ]
     },
     "execution_count": 11,
     "metadata": {},
     "output_type": "execute_result"
    }
   ],
   "source": [
    "function plotgeometry(g::AbstractGeometry; kwargs...)\n",
    "    x = coordx(g)\n",
    "    y = coordy(g)\n",
    "    x = vcat(x,x[1])\n",
    "    y = vcat(y,y[1])\n",
    "    scatter(x=x,y=y; kwargs...)\n",
    "end\n",
    "\n",
    "function plotgeometry(p::Primitive1; kwargs...)\n",
    "    plotgeometry(p.g)\n",
    "end\n",
    "coordx(t::AbstractGeometry) = [x[1] for x in coordinates(t)]\n",
    "coordy(t::AbstractGeometry) = [x[2] for x in coordinates(t)]"
   ]
  },
  {
   "cell_type": "code",
   "execution_count": 12,
   "id": "c27b4310-9821-464b-9301-36ce50cf9b77",
   "metadata": {},
   "outputs": [
    {
     "data": {
      "application/vnd.plotly.v1+json": {
       "config": {
        "editable": false,
        "responsive": true,
        "scrollZoom": true,
        "showLink": false,
        "staticPlot": false
       },
       "data": [
        {
         "type": "scatter",
         "x": [
          0,
          1,
          1,
          0
         ],
         "y": [
          0,
          1,
          0,
          0
         ]
        },
        {
         "type": "scatter",
         "x": [
          0,
          -1,
          -1,
          0
         ],
         "y": [
          0,
          -1,
          0,
          0
         ]
        },
        {
         "type": "scatter",
         "x": [
          0.5,
          -0.5,
          -0.5,
          0.5,
          0.5
         ],
         "y": [
          0.5,
          0.5,
          -0.5,
          -0.5,
          0.5
         ]
        },
        {
         "type": "scatter",
         "x": [
          1.2246467991473532e-16,
          -0.09956784659581648,
          -0.19814614319939736,
          -0.29475517441090393,
          -0.3884347962746944,
          -0.47825397862131824,
          -0.5633200580636216,
          -0.6427876096865393,
          -0.7158668492597183,
          -0.7818314824680297,
          -0.8400259231507715,
          -0.8898718088114684,
          -0.930873748644204,
          -0.9626242469500119,
          -0.984807753012208,
          -0.9972037971811801,
          -0.9996891820008162,
          -0.9922392066001722,
          -0.9749279121818236,
          -0.9479273461671317,
          -0.9115058523116732,
          -0.866025403784439,
          -0.8119380057158567,
          -0.7497812029677342,
          -0.6801727377709198,
          -0.6038044103254782,
          -0.5214352033794986,
          -0.43388373911755834,
          -0.3420201433256686,
          -0.24675739769029395,
          -0.14904226617617528,
          -0.0498458856606976,
          0.049845885660697115,
          0.14904226617617478,
          0.24675739769029262,
          0.3420201433256681,
          0.4338837391175579,
          0.5214352033794982,
          0.603804410325477,
          0.6801727377709194,
          0.7497812029677339,
          0.8119380057158564,
          0.8660254037844384,
          0.911505852311673,
          0.9479273461671315,
          0.9749279121818235,
          0.992239206600172,
          0.9996891820008162,
          0.9972037971811802,
          0.9848077530122081,
          0.9626242469500126,
          0.9308737486442048,
          0.8898718088114691,
          0.8400259231507718,
          0.78183148246803,
          0.7158668492597183,
          0.642787609686539,
          0.5633200580636213,
          0.4782539786213187,
          0.38843479627469485,
          0.2947551744109057,
          0.19814614319939872,
          0.09956784659581741,
          3.6739403974420594e-16,
          1.2246467991473532e-16
         ],
         "y": [
          -1,
          -0.9950307753654014,
          -0.9801724878485439,
          -0.9555728057861408,
          -0.9214762118704077,
          -0.8782215733702285,
          -0.8262387743159951,
          -0.7660444431189781,
          -0.698236818086073,
          -0.6234898018587337,
          -0.5425462638657592,
          -0.4562106573531632,
          -0.3653410243663957,
          -0.2708404681430055,
          -0.17364817766693033,
          -0.07473009358642473,
          0.02493069173807279,
          0.1243437046474846,
          0.22252093395631423,
          0.3184866502516846,
          0.4112871031306113,
          0.49999999999999933,
          0.5837436722347895,
          0.6616858375968594,
          0.733051871829826,
          0.7971325072229218,
          0.8532908816321554,
          0.900968867902419,
          0.9396926207859084,
          0.9690772862290778,
          0.9888308262251284,
          0.9987569212189223,
          0.9987569212189223,
          0.9888308262251285,
          0.9690772862290782,
          0.9396926207859086,
          0.9009688679024193,
          0.8532908816321556,
          0.7971325072229227,
          0.7330518718298263,
          0.6616858375968597,
          0.58374367223479,
          0.5000000000000006,
          0.41128710313061173,
          0.3184866502516851,
          0.2225209339563147,
          0.12434370464748597,
          0.024930691738073277,
          -0.07473009358642335,
          -0.17364817766692986,
          -0.2708404681430033,
          -0.3653410243663936,
          -0.45621065735316196,
          -0.5425462638657588,
          -0.6234898018587333,
          -0.6982368180860729,
          -0.7660444431189783,
          -0.8262387743159954,
          -0.8782215733702283,
          -0.9214762118704076,
          -0.9555728057861402,
          -0.9801724878485436,
          -0.9950307753654013,
          -1,
          -1
         ]
        }
       ],
       "frames": [],
       "layout": {
        "height": 600,
        "margin": {
         "b": 50,
         "l": 50,
         "r": 50,
         "t": 60
        },
        "template": {
         "data": {
          "bar": [
           {
            "error_x": {
             "color": "#2a3f5f"
            },
            "error_y": {
             "color": "#2a3f5f"
            },
            "marker": {
             "line": {
              "color": "#E5ECF6",
              "width": 0.5
             }
            },
            "type": "bar"
           }
          ],
          "barpolar": [
           {
            "marker": {
             "line": {
              "color": "#E5ECF6",
              "width": 0.5
             }
            },
            "type": "barpolar"
           }
          ],
          "carpet": [
           {
            "aaxis": {
             "endlinecolor": "#2a3f5f",
             "gridcolor": "white",
             "linecolor": "white",
             "minorgridcolor": "white",
             "startlinecolor": "#2a3f5f"
            },
            "baxis": {
             "endlinecolor": "#2a3f5f",
             "gridcolor": "white",
             "linecolor": "white",
             "minorgridcolor": "white",
             "startlinecolor": "#2a3f5f"
            },
            "type": "carpet"
           }
          ],
          "choropleth": [
           {
            "colorbar": {
             "outlinewidth": 0,
             "ticks": ""
            },
            "type": "choropleth"
           }
          ],
          "contour": [
           {
            "colorbar": {
             "outlinewidth": 0,
             "ticks": ""
            },
            "colorscale": [
             [
              0,
              "#0d0887"
             ],
             [
              0.1111111111111111,
              "#46039f"
             ],
             [
              0.2222222222222222,
              "#7201a8"
             ],
             [
              0.3333333333333333,
              "#9c179e"
             ],
             [
              0.4444444444444444,
              "#bd3786"
             ],
             [
              0.5555555555555556,
              "#d8576b"
             ],
             [
              0.6666666666666666,
              "#ed7953"
             ],
             [
              0.7777777777777778,
              "#fb9f3a"
             ],
             [
              0.8888888888888888,
              "#fdca26"
             ],
             [
              1,
              "#f0f921"
             ]
            ],
            "type": "contour"
           }
          ],
          "contourcarpet": [
           {
            "colorbar": {
             "outlinewidth": 0,
             "ticks": ""
            },
            "type": "contourcarpet"
           }
          ],
          "heatmap": [
           {
            "colorbar": {
             "outlinewidth": 0,
             "ticks": ""
            },
            "colorscale": [
             [
              0,
              "#0d0887"
             ],
             [
              0.1111111111111111,
              "#46039f"
             ],
             [
              0.2222222222222222,
              "#7201a8"
             ],
             [
              0.3333333333333333,
              "#9c179e"
             ],
             [
              0.4444444444444444,
              "#bd3786"
             ],
             [
              0.5555555555555556,
              "#d8576b"
             ],
             [
              0.6666666666666666,
              "#ed7953"
             ],
             [
              0.7777777777777778,
              "#fb9f3a"
             ],
             [
              0.8888888888888888,
              "#fdca26"
             ],
             [
              1,
              "#f0f921"
             ]
            ],
            "type": "heatmap"
           }
          ],
          "heatmapgl": [
           {
            "colorbar": {
             "outlinewidth": 0,
             "ticks": ""
            },
            "colorscale": [
             [
              0,
              "#0d0887"
             ],
             [
              0.1111111111111111,
              "#46039f"
             ],
             [
              0.2222222222222222,
              "#7201a8"
             ],
             [
              0.3333333333333333,
              "#9c179e"
             ],
             [
              0.4444444444444444,
              "#bd3786"
             ],
             [
              0.5555555555555556,
              "#d8576b"
             ],
             [
              0.6666666666666666,
              "#ed7953"
             ],
             [
              0.7777777777777778,
              "#fb9f3a"
             ],
             [
              0.8888888888888888,
              "#fdca26"
             ],
             [
              1,
              "#f0f921"
             ]
            ],
            "type": "heatmapgl"
           }
          ],
          "histogram": [
           {
            "marker": {
             "colorbar": {
              "outlinewidth": 0,
              "ticks": ""
             }
            },
            "type": "histogram"
           }
          ],
          "histogram2d": [
           {
            "colorbar": {
             "outlinewidth": 0,
             "ticks": ""
            },
            "colorscale": [
             [
              0,
              "#0d0887"
             ],
             [
              0.1111111111111111,
              "#46039f"
             ],
             [
              0.2222222222222222,
              "#7201a8"
             ],
             [
              0.3333333333333333,
              "#9c179e"
             ],
             [
              0.4444444444444444,
              "#bd3786"
             ],
             [
              0.5555555555555556,
              "#d8576b"
             ],
             [
              0.6666666666666666,
              "#ed7953"
             ],
             [
              0.7777777777777778,
              "#fb9f3a"
             ],
             [
              0.8888888888888888,
              "#fdca26"
             ],
             [
              1,
              "#f0f921"
             ]
            ],
            "type": "histogram2d"
           }
          ],
          "histogram2dcontour": [
           {
            "colorbar": {
             "outlinewidth": 0,
             "ticks": ""
            },
            "colorscale": [
             [
              0,
              "#0d0887"
             ],
             [
              0.1111111111111111,
              "#46039f"
             ],
             [
              0.2222222222222222,
              "#7201a8"
             ],
             [
              0.3333333333333333,
              "#9c179e"
             ],
             [
              0.4444444444444444,
              "#bd3786"
             ],
             [
              0.5555555555555556,
              "#d8576b"
             ],
             [
              0.6666666666666666,
              "#ed7953"
             ],
             [
              0.7777777777777778,
              "#fb9f3a"
             ],
             [
              0.8888888888888888,
              "#fdca26"
             ],
             [
              1,
              "#f0f921"
             ]
            ],
            "type": "histogram2dcontour"
           }
          ],
          "mesh3d": [
           {
            "colorbar": {
             "outlinewidth": 0,
             "ticks": ""
            },
            "type": "mesh3d"
           }
          ],
          "parcoords": [
           {
            "line": {
             "colorbar": {
              "outlinewidth": 0,
              "ticks": ""
             }
            },
            "type": "parcoords"
           }
          ],
          "pie": [
           {
            "automargin": true,
            "type": "pie"
           }
          ],
          "scatter": [
           {
            "marker": {
             "colorbar": {
              "outlinewidth": 0,
              "ticks": ""
             }
            },
            "type": "scatter"
           }
          ],
          "scatter3d": [
           {
            "line": {
             "colorbar": {
              "outlinewidth": 0,
              "ticks": ""
             }
            },
            "marker": {
             "colorbar": {
              "outlinewidth": 0,
              "ticks": ""
             }
            },
            "type": "scatter3d"
           }
          ],
          "scattercarpet": [
           {
            "marker": {
             "colorbar": {
              "outlinewidth": 0,
              "ticks": ""
             }
            },
            "type": "scattercarpet"
           }
          ],
          "scattergeo": [
           {
            "marker": {
             "colorbar": {
              "outlinewidth": 0,
              "ticks": ""
             }
            },
            "type": "scattergeo"
           }
          ],
          "scattergl": [
           {
            "marker": {
             "colorbar": {
              "outlinewidth": 0,
              "ticks": ""
             }
            },
            "type": "scattergl"
           }
          ],
          "scattermapbox": [
           {
            "marker": {
             "colorbar": {
              "outlinewidth": 0,
              "ticks": ""
             }
            },
            "type": "scattermapbox"
           }
          ],
          "scatterpolar": [
           {
            "marker": {
             "colorbar": {
              "outlinewidth": 0,
              "ticks": ""
             }
            },
            "type": "scatterpolar"
           }
          ],
          "scatterpolargl": [
           {
            "marker": {
             "colorbar": {
              "outlinewidth": 0,
              "ticks": ""
             }
            },
            "type": "scatterpolargl"
           }
          ],
          "scatterternary": [
           {
            "marker": {
             "colorbar": {
              "outlinewidth": 0,
              "ticks": ""
             }
            },
            "type": "scatterternary"
           }
          ],
          "surface": [
           {
            "colorbar": {
             "outlinewidth": 0,
             "ticks": ""
            },
            "colorscale": [
             [
              0,
              "#0d0887"
             ],
             [
              0.1111111111111111,
              "#46039f"
             ],
             [
              0.2222222222222222,
              "#7201a8"
             ],
             [
              0.3333333333333333,
              "#9c179e"
             ],
             [
              0.4444444444444444,
              "#bd3786"
             ],
             [
              0.5555555555555556,
              "#d8576b"
             ],
             [
              0.6666666666666666,
              "#ed7953"
             ],
             [
              0.7777777777777778,
              "#fb9f3a"
             ],
             [
              0.8888888888888888,
              "#fdca26"
             ],
             [
              1,
              "#f0f921"
             ]
            ],
            "type": "surface"
           }
          ],
          "table": [
           {
            "cells": {
             "fill": {
              "color": "#EBF0F8"
             },
             "line": {
              "color": "white"
             }
            },
            "header": {
             "fill": {
              "color": "#C8D4E3"
             },
             "line": {
              "color": "white"
             }
            },
            "type": "table"
           }
          ]
         },
         "layout": {
          "annotationdefaults": {
           "arrowcolor": "#2a3f5f",
           "arrowhead": 0,
           "arrowwidth": 1
          },
          "autotypenumbers": "strict",
          "coloraxis": {
           "colorbar": {
            "outlinewidth": 0,
            "ticks": ""
           }
          },
          "colorscale": {
           "diverging": [
            [
             0,
             "#8e0152"
            ],
            [
             0.1,
             "#c51b7d"
            ],
            [
             0.2,
             "#de77ae"
            ],
            [
             0.3,
             "#f1b6da"
            ],
            [
             0.4,
             "#fde0ef"
            ],
            [
             0.5,
             "#f7f7f7"
            ],
            [
             0.6,
             "#e6f5d0"
            ],
            [
             0.7,
             "#b8e186"
            ],
            [
             0.8,
             "#7fbc41"
            ],
            [
             0.9,
             "#4d9221"
            ],
            [
             1,
             "#276419"
            ]
           ],
           "sequential": [
            [
             0,
             "#0d0887"
            ],
            [
             0.1111111111111111,
             "#46039f"
            ],
            [
             0.2222222222222222,
             "#7201a8"
            ],
            [
             0.3333333333333333,
             "#9c179e"
            ],
            [
             0.4444444444444444,
             "#bd3786"
            ],
            [
             0.5555555555555556,
             "#d8576b"
            ],
            [
             0.6666666666666666,
             "#ed7953"
            ],
            [
             0.7777777777777778,
             "#fb9f3a"
            ],
            [
             0.8888888888888888,
             "#fdca26"
            ],
            [
             1,
             "#f0f921"
            ]
           ],
           "sequentialminus": [
            [
             0,
             "#0d0887"
            ],
            [
             0.1111111111111111,
             "#46039f"
            ],
            [
             0.2222222222222222,
             "#7201a8"
            ],
            [
             0.3333333333333333,
             "#9c179e"
            ],
            [
             0.4444444444444444,
             "#bd3786"
            ],
            [
             0.5555555555555556,
             "#d8576b"
            ],
            [
             0.6666666666666666,
             "#ed7953"
            ],
            [
             0.7777777777777778,
             "#fb9f3a"
            ],
            [
             0.8888888888888888,
             "#fdca26"
            ],
            [
             1,
             "#f0f921"
            ]
           ]
          },
          "colorway": [
           "#636efa",
           "#EF553B",
           "#00cc96",
           "#ab63fa",
           "#FFA15A",
           "#19d3f3",
           "#FF6692",
           "#B6E880",
           "#FF97FF",
           "#FECB52"
          ],
          "font": {
           "color": "#2a3f5f"
          },
          "geo": {
           "bgcolor": "white",
           "lakecolor": "white",
           "landcolor": "#E5ECF6",
           "showlakes": true,
           "showland": true,
           "subunitcolor": "white"
          },
          "hoverlabel": {
           "align": "left"
          },
          "hovermode": "closest",
          "mapbox": {
           "style": "light"
          },
          "paper_bgcolor": "white",
          "plot_bgcolor": "#E5ECF6",
          "polar": {
           "angularaxis": {
            "gridcolor": "white",
            "linecolor": "white",
            "ticks": ""
           },
           "bgcolor": "#E5ECF6",
           "radialaxis": {
            "gridcolor": "white",
            "linecolor": "white",
            "ticks": ""
           }
          },
          "scene": {
           "xaxis": {
            "backgroundcolor": "#E5ECF6",
            "gridcolor": "white",
            "gridwidth": 2,
            "linecolor": "white",
            "showbackground": true,
            "ticks": "",
            "zerolinecolor": "white"
           },
           "yaxis": {
            "backgroundcolor": "#E5ECF6",
            "gridcolor": "white",
            "gridwidth": 2,
            "linecolor": "white",
            "showbackground": true,
            "ticks": "",
            "zerolinecolor": "white"
           },
           "zaxis": {
            "backgroundcolor": "#E5ECF6",
            "gridcolor": "white",
            "gridwidth": 2,
            "linecolor": "white",
            "showbackground": true,
            "ticks": "",
            "zerolinecolor": "white"
           }
          },
          "shapedefaults": {
           "line": {
            "color": "#2a3f5f"
           }
          },
          "ternary": {
           "aaxis": {
            "gridcolor": "white",
            "linecolor": "white",
            "ticks": ""
           },
           "baxis": {
            "gridcolor": "white",
            "linecolor": "white",
            "ticks": ""
           },
           "bgcolor": "#E5ECF6",
           "caxis": {
            "gridcolor": "white",
            "linecolor": "white",
            "ticks": ""
           }
          },
          "title": {
           "x": 0.05
          },
          "xaxis": {
           "automargin": true,
           "gridcolor": "white",
           "linecolor": "white",
           "ticks": "",
           "title": {
            "standoff": 15
           },
           "zerolinecolor": "white",
           "zerolinewidth": 2
          },
          "yaxis": {
           "automargin": true,
           "gridcolor": "white",
           "linecolor": "white",
           "ticks": "",
           "title": {
            "standoff": 15
           },
           "zerolinecolor": "white",
           "zerolinewidth": 2
          }
         }
        },
        "width": 600,
        "xaxis": {
         "autorange": false,
         "range": [
          -0.7730913851177252,
          1.4221551592583799
         ],
         "type": "linear"
        },
        "yaxis": {
         "autorange": false,
         "range": [
          0.8316348187246749,
          3.794907701451546
         ],
         "type": "linear"
        }
       }
      },
      "image/png": "[encoded data removed]",
      "text/html": [
       "<div\n",
       "    class=\"webio-mountpoint\"\n",
       "    data-webio-mountpoint=\"11533948420633539489\"\n",
       ">\n",
       "    <script>\n",
       "    (function(){\n",
       "    // Some integrations (namely, IJulia/Jupyter) use an alternate render pathway than\n",
       "    // just putting the html on the page. If WebIO isn't defined, then it's pretty likely\n",
       "    // that we're in one of those situations and the integration just isn't installed\n",
       "    // correctly.\n",
       "    if (typeof window.WebIO === \"undefined\") {\n",
       "        document\n",
       "            .querySelector('[data-webio-mountpoint=\"11533948420633539489\"]')\n",
       "            .innerHTML = (\n",
       "                '<div style=\"padding: 1em; background-color: #f8d6da; border: 1px solid #f5c6cb; font-weight: bold;\">' +\n",
       "                '<p><strong>WebIO not detected.</strong></p>' +\n",
       "                '<p>Please read ' +\n",
       "                '<a href=\"https://juliagizmos.github.io/WebIO.jl/latest/troubleshooting/not-detected/\" target=\"_blank\">the troubleshooting guide</a> ' +\n",
       "                'for more information on how to resolve this issue.</p>' +\n",
       "                '<p><a href=\"https://juliagizmos.github.io/WebIO.jl/latest/troubleshooting/not-detected/\" target=\"_blank\">https://juliagizmos.github.io/WebIO.jl/latest/troubleshooting/not-detected/</a></p>' +\n",
       "                '</div>'\n",
       "            );\n",
       "        return;\n",
       "    }\n",
       "    WebIO.mount(\n",
       "        document.querySelector('[data-webio-mountpoint=\"11533948420633539489\"]'),\n",
       "        {\"props\":{},\"nodeType\":\"Scope\",\"type\":\"node\",\"instanceArgs\":{\"imports\":{\"data\":[{\"name\":\"Plotly\",\"type\":\"js\",\"url\":\"\\/assetserver\\/d66a736669047bda0b2d00471bd5207a90cf3193-plotly.min.js\"},{\"name\":null,\"type\":\"js\",\"url\":\"\\/assetserver\\/aee3160e397a4905b07437c5af565305d1ef6def-plotly_webio.bundle.js\"}],\"type\":\"async_block\"},\"id\":\"15996615123823877174\",\"handlers\":{\"_toImage\":[\"(function (options){return this.Plotly.toImage(this.plotElem,options).then((function (data){return WebIO.setval({\\\"name\\\":\\\"image\\\",\\\"scope\\\":\\\"15996615123823877174\\\",\\\"id\\\":\\\"12596045405307533113\\\",\\\"type\\\":\\\"observable\\\"},data)}))})\"],\"__get_gd_contents\":[\"(function (prop){prop==\\\"data\\\" ? (WebIO.setval({\\\"name\\\":\\\"__gd_contents\\\",\\\"scope\\\":\\\"15996615123823877174\\\",\\\"id\\\":\\\"12438949133772906353\\\",\\\"type\\\":\\\"observable\\\"},this.plotElem.data)) : undefined; return prop==\\\"layout\\\" ? (WebIO.setval({\\\"name\\\":\\\"__gd_contents\\\",\\\"scope\\\":\\\"15996615123823877174\\\",\\\"id\\\":\\\"12438949133772906353\\\",\\\"type\\\":\\\"observable\\\"},this.plotElem.layout)) : undefined})\"],\"_downloadImage\":[\"(function (options){return this.Plotly.downloadImage(this.plotElem,options)})\"],\"_commands\":[\"(function (args){var fn=args.shift(); var elem=this.plotElem; var Plotly=this.Plotly; args.unshift(elem); return Plotly[fn].apply(this,args)})\"]},\"systemjs_options\":null,\"mount_callbacks\":[\"function () {\\n    var handler = ((function (Plotly,PlotlyWebIO){PlotlyWebIO.init(WebIO); var gd=this.dom.querySelector(\\\"#plot-2bf92aeb-3eaf-4591-b988-991dcc79692c\\\"); this.plotElem=gd; this.Plotly=Plotly; (window.Blink!==undefined) ? (gd.style.width=\\\"100%\\\", gd.style.height=\\\"100vh\\\", gd.style.marginLeft=\\\"0%\\\", gd.style.marginTop=\\\"0vh\\\") : undefined; window.onresize=(function (){return Plotly.Plots.resize(gd)}); Plotly.newPlot(gd,[{\\\"y\\\":[0,1,0,0],\\\"type\\\":\\\"scatter\\\",\\\"x\\\":[0,1,1,0]},{\\\"y\\\":[0,-1,0,0],\\\"type\\\":\\\"scatter\\\",\\\"x\\\":[0,-1,-1,0]},{\\\"y\\\":[0.5,0.5,-0.5,-0.5,0.5],\\\"type\\\":\\\"scatter\\\",\\\"x\\\":[0.5,-0.5,-0.5,0.5,0.5]},{\\\"y\\\":[-1.0,-0.9950307753654014,-0.9801724878485439,-0.9555728057861408,-0.9214762118704077,-0.8782215733702285,-0.8262387743159951,-0.7660444431189781,-0.698236818086073,-0.6234898018587337,-0.5425462638657592,-0.4562106573531632,-0.3653410243663957,-0.2708404681430055,-0.17364817766693033,-0.07473009358642473,0.02493069173807279,0.1243437046474846,0.22252093395631423,0.3184866502516846,0.4112871031306113,0.49999999999999933,0.5837436722347895,0.6616858375968594,0.733051871829826,0.7971325072229218,0.8532908816321554,0.900968867902419,0.9396926207859084,0.9690772862290778,0.9888308262251284,0.9987569212189223,0.9987569212189223,0.9888308262251285,0.9690772862290782,0.9396926207859086,0.9009688679024193,0.8532908816321556,0.7971325072229227,0.7330518718298263,0.6616858375968597,0.58374367223479,0.5000000000000006,0.41128710313061173,0.3184866502516851,0.2225209339563147,0.12434370464748597,0.024930691738073277,-0.07473009358642335,-0.17364817766692986,-0.2708404681430033,-0.3653410243663936,-0.45621065735316196,-0.5425462638657588,-0.6234898018587333,-0.6982368180860729,-0.7660444431189783,-0.8262387743159954,-0.8782215733702283,-0.9214762118704076,-0.9555728057861402,-0.9801724878485436,-0.9950307753654013,-1.0,-1.0],\\\"type\\\":\\\"scatter\\\",\\\"x\\\":[1.2246467991473532e-16,-0.09956784659581648,-0.19814614319939736,-0.29475517441090393,-0.3884347962746944,-0.47825397862131824,-0.5633200580636216,-0.6427876096865393,-0.7158668492597183,-0.7818314824680297,-0.8400259231507715,-0.8898718088114684,-0.930873748644204,-0.9626242469500119,-0.984807753012208,-0.9972037971811801,-0.9996891820008162,-0.9922392066001722,-0.9749279121818236,-0.9479273461671317,-0.9115058523116732,-0.866025403784439,-0.8119380057158567,-0.7497812029677342,-0.6801727377709198,-0.6038044103254782,-0.5214352033794986,-0.43388373911755834,-0.3420201433256686,-0.24675739769029395,-0.14904226617617528,-0.0498458856606976,0.049845885660697115,0.14904226617617478,0.24675739769029262,0.3420201433256681,0.4338837391175579,0.5214352033794982,0.603804410325477,0.6801727377709194,0.7497812029677339,0.8119380057158564,0.8660254037844384,0.911505852311673,0.9479273461671315,0.9749279121818235,0.992239206600172,0.9996891820008162,0.9972037971811802,0.9848077530122081,0.9626242469500126,0.9308737486442048,0.8898718088114691,0.8400259231507718,0.78183148246803,0.7158668492597183,0.642787609686539,0.5633200580636213,0.4782539786213187,0.38843479627469485,0.2947551744109057,0.19814614319939872,0.09956784659581741,3.6739403974420594e-16,1.2246467991473532e-16]}],{\\\"xaxis\\\":{\\\"range\\\":[-2,2]},\\\"template\\\":{\\\"layout\\\":{\\\"coloraxis\\\":{\\\"colorbar\\\":{\\\"ticks\\\":\\\"\\\",\\\"outlinewidth\\\":0}},\\\"xaxis\\\":{\\\"gridcolor\\\":\\\"white\\\",\\\"zerolinewidth\\\":2,\\\"title\\\":{\\\"standoff\\\":15},\\\"ticks\\\":\\\"\\\",\\\"zerolinecolor\\\":\\\"white\\\",\\\"automargin\\\":true,\\\"linecolor\\\":\\\"white\\\"},\\\"hovermode\\\":\\\"closest\\\",\\\"paper_bgcolor\\\":\\\"white\\\",\\\"geo\\\":{\\\"showlakes\\\":true,\\\"showland\\\":true,\\\"landcolor\\\":\\\"#E5ECF6\\\",\\\"bgcolor\\\":\\\"white\\\",\\\"subunitcolor\\\":\\\"white\\\",\\\"lakecolor\\\":\\\"white\\\"},\\\"colorscale\\\":{\\\"sequential\\\":[[0.0,\\\"#0d0887\\\"],[0.1111111111111111,\\\"#46039f\\\"],[0.2222222222222222,\\\"#7201a8\\\"],[0.3333333333333333,\\\"#9c179e\\\"],[0.4444444444444444,\\\"#bd3786\\\"],[0.5555555555555556,\\\"#d8576b\\\"],[0.6666666666666666,\\\"#ed7953\\\"],[0.7777777777777778,\\\"#fb9f3a\\\"],[0.8888888888888888,\\\"#fdca26\\\"],[1.0,\\\"#f0f921\\\"]],\\\"diverging\\\":[[0,\\\"#8e0152\\\"],[0.1,\\\"#c51b7d\\\"],[0.2,\\\"#de77ae\\\"],[0.3,\\\"#f1b6da\\\"],[0.4,\\\"#fde0ef\\\"],[0.5,\\\"#f7f7f7\\\"],[0.6,\\\"#e6f5d0\\\"],[0.7,\\\"#b8e186\\\"],[0.8,\\\"#7fbc41\\\"],[0.9,\\\"#4d9221\\\"],[1,\\\"#276419\\\"]],\\\"sequentialminus\\\":[[0.0,\\\"#0d0887\\\"],[0.1111111111111111,\\\"#46039f\\\"],[0.2222222222222222,\\\"#7201a8\\\"],[0.3333333333333333,\\\"#9c179e\\\"],[0.4444444444444444,\\\"#bd3786\\\"],[0.5555555555555556,\\\"#d8576b\\\"],[0.6666666666666666,\\\"#ed7953\\\"],[0.7777777777777778,\\\"#fb9f3a\\\"],[0.8888888888888888,\\\"#fdca26\\\"],[1.0,\\\"#f0f921\\\"]]},\\\"yaxis\\\":{\\\"gridcolor\\\":\\\"white\\\",\\\"zerolinewidth\\\":2,\\\"title\\\":{\\\"standoff\\\":15},\\\"ticks\\\":\\\"\\\",\\\"zerolinecolor\\\":\\\"white\\\",\\\"automargin\\\":true,\\\"linecolor\\\":\\\"white\\\"},\\\"shapedefaults\\\":{\\\"line\\\":{\\\"color\\\":\\\"#2a3f5f\\\"}},\\\"hoverlabel\\\":{\\\"align\\\":\\\"left\\\"},\\\"mapbox\\\":{\\\"style\\\":\\\"light\\\"},\\\"polar\\\":{\\\"angularaxis\\\":{\\\"gridcolor\\\":\\\"white\\\",\\\"ticks\\\":\\\"\\\",\\\"linecolor\\\":\\\"white\\\"},\\\"bgcolor\\\":\\\"#E5ECF6\\\",\\\"radialaxis\\\":{\\\"gridcolor\\\":\\\"white\\\",\\\"ticks\\\":\\\"\\\",\\\"linecolor\\\":\\\"white\\\"}},\\\"autotypenumbers\\\":\\\"strict\\\",\\\"font\\\":{\\\"color\\\":\\\"#2a3f5f\\\"},\\\"ternary\\\":{\\\"baxis\\\":{\\\"gridcolor\\\":\\\"white\\\",\\\"ticks\\\":\\\"\\\",\\\"linecolor\\\":\\\"white\\\"},\\\"bgcolor\\\":\\\"#E5ECF6\\\",\\\"caxis\\\":{\\\"gridcolor\\\":\\\"white\\\",\\\"ticks\\\":\\\"\\\",\\\"linecolor\\\":\\\"white\\\"},\\\"aaxis\\\":{\\\"gridcolor\\\":\\\"white\\\",\\\"ticks\\\":\\\"\\\",\\\"linecolor\\\":\\\"white\\\"}},\\\"annotationdefaults\\\":{\\\"arrowhead\\\":0,\\\"arrowwidth\\\":1,\\\"arrowcolor\\\":\\\"#2a3f5f\\\"},\\\"plot_bgcolor\\\":\\\"#E5ECF6\\\",\\\"title\\\":{\\\"x\\\":0.05},\\\"scene\\\":{\\\"xaxis\\\":{\\\"gridcolor\\\":\\\"white\\\",\\\"gridwidth\\\":2,\\\"backgroundcolor\\\":\\\"#E5ECF6\\\",\\\"ticks\\\":\\\"\\\",\\\"showbackground\\\":true,\\\"zerolinecolor\\\":\\\"white\\\",\\\"linecolor\\\":\\\"white\\\"},\\\"zaxis\\\":{\\\"gridcolor\\\":\\\"white\\\",\\\"gridwidth\\\":2,\\\"backgroundcolor\\\":\\\"#E5ECF6\\\",\\\"ticks\\\":\\\"\\\",\\\"showbackground\\\":true,\\\"zerolinecolor\\\":\\\"white\\\",\\\"linecolor\\\":\\\"white\\\"},\\\"yaxis\\\":{\\\"gridcolor\\\":\\\"white\\\",\\\"gridwidth\\\":2,\\\"backgroundcolor\\\":\\\"#E5ECF6\\\",\\\"ticks\\\":\\\"\\\",\\\"showbackground\\\":true,\\\"zerolinecolor\\\":\\\"white\\\",\\\"linecolor\\\":\\\"white\\\"}},\\\"colorway\\\":[\\\"#636efa\\\",\\\"#EF553B\\\",\\\"#00cc96\\\",\\\"#ab63fa\\\",\\\"#FFA15A\\\",\\\"#19d3f3\\\",\\\"#FF6692\\\",\\\"#B6E880\\\",\\\"#FF97FF\\\",\\\"#FECB52\\\"]},\\\"data\\\":{\\\"barpolar\\\":[{\\\"type\\\":\\\"barpolar\\\",\\\"marker\\\":{\\\"line\\\":{\\\"color\\\":\\\"#E5ECF6\\\",\\\"width\\\":0.5}}}],\\\"carpet\\\":[{\\\"aaxis\\\":{\\\"gridcolor\\\":\\\"white\\\",\\\"endlinecolor\\\":\\\"#2a3f5f\\\",\\\"minorgridcolor\\\":\\\"white\\\",\\\"startlinecolor\\\":\\\"#2a3f5f\\\",\\\"linecolor\\\":\\\"white\\\"},\\\"type\\\":\\\"carpet\\\",\\\"baxis\\\":{\\\"gridcolor\\\":\\\"white\\\",\\\"endlinecolor\\\":\\\"#2a3f5f\\\",\\\"minorgridcolor\\\":\\\"white\\\",\\\"startlinecolor\\\":\\\"#2a3f5f\\\",\\\"linecolor\\\":\\\"white\\\"}}],\\\"scatterpolar\\\":[{\\\"type\\\":\\\"scatterpolar\\\",\\\"marker\\\":{\\\"colorbar\\\":{\\\"ticks\\\":\\\"\\\",\\\"outlinewidth\\\":0}}}],\\\"parcoords\\\":[{\\\"line\\\":{\\\"colorbar\\\":{\\\"ticks\\\":\\\"\\\",\\\"outlinewidth\\\":0}},\\\"type\\\":\\\"parcoords\\\"}],\\\"scatter\\\":[{\\\"type\\\":\\\"scatter\\\",\\\"marker\\\":{\\\"colorbar\\\":{\\\"ticks\\\":\\\"\\\",\\\"outlinewidth\\\":0}}}],\\\"histogram2dcontour\\\":[{\\\"colorbar\\\":{\\\"ticks\\\":\\\"\\\",\\\"outlinewidth\\\":0},\\\"type\\\":\\\"histogram2dcontour\\\",\\\"colorscale\\\":[[0.0,\\\"#0d0887\\\"],[0.1111111111111111,\\\"#46039f\\\"],[0.2222222222222222,\\\"#7201a8\\\"],[0.3333333333333333,\\\"#9c179e\\\"],[0.4444444444444444,\\\"#bd3786\\\"],[0.5555555555555556,\\\"#d8576b\\\"],[0.6666666666666666,\\\"#ed7953\\\"],[0.7777777777777778,\\\"#fb9f3a\\\"],[0.8888888888888888,\\\"#fdca26\\\"],[1.0,\\\"#f0f921\\\"]]}],\\\"contour\\\":[{\\\"colorbar\\\":{\\\"ticks\\\":\\\"\\\",\\\"outlinewidth\\\":0},\\\"type\\\":\\\"contour\\\",\\\"colorscale\\\":[[0.0,\\\"#0d0887\\\"],[0.1111111111111111,\\\"#46039f\\\"],[0.2222222222222222,\\\"#7201a8\\\"],[0.3333333333333333,\\\"#9c179e\\\"],[0.4444444444444444,\\\"#bd3786\\\"],[0.5555555555555556,\\\"#d8576b\\\"],[0.6666666666666666,\\\"#ed7953\\\"],[0.7777777777777778,\\\"#fb9f3a\\\"],[0.8888888888888888,\\\"#fdca26\\\"],[1.0,\\\"#f0f921\\\"]]}],\\\"scattercarpet\\\":[{\\\"type\\\":\\\"scattercarpet\\\",\\\"marker\\\":{\\\"colorbar\\\":{\\\"ticks\\\":\\\"\\\",\\\"outlinewidth\\\":0}}}],\\\"mesh3d\\\":[{\\\"colorbar\\\":{\\\"ticks\\\":\\\"\\\",\\\"outlinewidth\\\":0},\\\"type\\\":\\\"mesh3d\\\"}],\\\"surface\\\":[{\\\"colorbar\\\":{\\\"ticks\\\":\\\"\\\",\\\"outlinewidth\\\":0},\\\"type\\\":\\\"surface\\\",\\\"colorscale\\\":[[0.0,\\\"#0d0887\\\"],[0.1111111111111111,\\\"#46039f\\\"],[0.2222222222222222,\\\"#7201a8\\\"],[0.3333333333333333,\\\"#9c179e\\\"],[0.4444444444444444,\\\"#bd3786\\\"],[0.5555555555555556,\\\"#d8576b\\\"],[0.6666666666666666,\\\"#ed7953\\\"],[0.7777777777777778,\\\"#fb9f3a\\\"],[0.8888888888888888,\\\"#fdca26\\\"],[1.0,\\\"#f0f921\\\"]]}],\\\"scattermapbox\\\":[{\\\"type\\\":\\\"scattermapbox\\\",\\\"marker\\\":{\\\"colorbar\\\":{\\\"ticks\\\":\\\"\\\",\\\"outlinewidth\\\":0}}}],\\\"scattergeo\\\":[{\\\"type\\\":\\\"scattergeo\\\",\\\"marker\\\":{\\\"colorbar\\\":{\\\"ticks\\\":\\\"\\\",\\\"outlinewidth\\\":0}}}],\\\"histogram\\\":[{\\\"type\\\":\\\"histogram\\\",\\\"marker\\\":{\\\"colorbar\\\":{\\\"ticks\\\":\\\"\\\",\\\"outlinewidth\\\":0}}}],\\\"pie\\\":[{\\\"type\\\":\\\"pie\\\",\\\"automargin\\\":true}],\\\"choropleth\\\":[{\\\"colorbar\\\":{\\\"ticks\\\":\\\"\\\",\\\"outlinewidth\\\":0},\\\"type\\\":\\\"choropleth\\\"}],\\\"heatmapgl\\\":[{\\\"colorbar\\\":{\\\"ticks\\\":\\\"\\\",\\\"outlinewidth\\\":0},\\\"type\\\":\\\"heatmapgl\\\",\\\"colorscale\\\":[[0.0,\\\"#0d0887\\\"],[0.1111111111111111,\\\"#46039f\\\"],[0.2222222222222222,\\\"#7201a8\\\"],[0.3333333333333333,\\\"#9c179e\\\"],[0.4444444444444444,\\\"#bd3786\\\"],[0.5555555555555556,\\\"#d8576b\\\"],[0.6666666666666666,\\\"#ed7953\\\"],[0.7777777777777778,\\\"#fb9f3a\\\"],[0.8888888888888888,\\\"#fdca26\\\"],[1.0,\\\"#f0f921\\\"]]}],\\\"bar\\\":[{\\\"type\\\":\\\"bar\\\",\\\"error_y\\\":{\\\"color\\\":\\\"#2a3f5f\\\"},\\\"error_x\\\":{\\\"color\\\":\\\"#2a3f5f\\\"},\\\"marker\\\":{\\\"line\\\":{\\\"color\\\":\\\"#E5ECF6\\\",\\\"width\\\":0.5}}}],\\\"heatmap\\\":[{\\\"colorbar\\\":{\\\"ticks\\\":\\\"\\\",\\\"outlinewidth\\\":0},\\\"type\\\":\\\"heatmap\\\",\\\"colorscale\\\":[[0.0,\\\"#0d0887\\\"],[0.1111111111111111,\\\"#46039f\\\"],[0.2222222222222222,\\\"#7201a8\\\"],[0.3333333333333333,\\\"#9c179e\\\"],[0.4444444444444444,\\\"#bd3786\\\"],[0.5555555555555556,\\\"#d8576b\\\"],[0.6666666666666666,\\\"#ed7953\\\"],[0.7777777777777778,\\\"#fb9f3a\\\"],[0.8888888888888888,\\\"#fdca26\\\"],[1.0,\\\"#f0f921\\\"]]}],\\\"contourcarpet\\\":[{\\\"colorbar\\\":{\\\"ticks\\\":\\\"\\\",\\\"outlinewidth\\\":0},\\\"type\\\":\\\"contourcarpet\\\"}],\\\"table\\\":[{\\\"type\\\":\\\"table\\\",\\\"header\\\":{\\\"line\\\":{\\\"color\\\":\\\"white\\\"},\\\"fill\\\":{\\\"color\\\":\\\"#C8D4E3\\\"}},\\\"cells\\\":{\\\"line\\\":{\\\"color\\\":\\\"white\\\"},\\\"fill\\\":{\\\"color\\\":\\\"#EBF0F8\\\"}}}],\\\"scatter3d\\\":[{\\\"line\\\":{\\\"colorbar\\\":{\\\"ticks\\\":\\\"\\\",\\\"outlinewidth\\\":0}},\\\"type\\\":\\\"scatter3d\\\",\\\"marker\\\":{\\\"colorbar\\\":{\\\"ticks\\\":\\\"\\\",\\\"outlinewidth\\\":0}}}],\\\"scattergl\\\":[{\\\"type\\\":\\\"scattergl\\\",\\\"marker\\\":{\\\"colorbar\\\":{\\\"ticks\\\":\\\"\\\",\\\"outlinewidth\\\":0}}}],\\\"histogram2d\\\":[{\\\"colorbar\\\":{\\\"ticks\\\":\\\"\\\",\\\"outlinewidth\\\":0},\\\"type\\\":\\\"histogram2d\\\",\\\"colorscale\\\":[[0.0,\\\"#0d0887\\\"],[0.1111111111111111,\\\"#46039f\\\"],[0.2222222222222222,\\\"#7201a8\\\"],[0.3333333333333333,\\\"#9c179e\\\"],[0.4444444444444444,\\\"#bd3786\\\"],[0.5555555555555556,\\\"#d8576b\\\"],[0.6666666666666666,\\\"#ed7953\\\"],[0.7777777777777778,\\\"#fb9f3a\\\"],[0.8888888888888888,\\\"#fdca26\\\"],[1.0,\\\"#f0f921\\\"]]}],\\\"scatterternary\\\":[{\\\"type\\\":\\\"scatterternary\\\",\\\"marker\\\":{\\\"colorbar\\\":{\\\"ticks\\\":\\\"\\\",\\\"outlinewidth\\\":0}}}],\\\"scatterpolargl\\\":[{\\\"type\\\":\\\"scatterpolargl\\\",\\\"marker\\\":{\\\"colorbar\\\":{\\\"ticks\\\":\\\"\\\",\\\"outlinewidth\\\":0}}}]}},\\\"height\\\":600,\\\"margin\\\":{\\\"l\\\":50,\\\"b\\\":50,\\\"r\\\":50,\\\"t\\\":60},\\\"yaxis\\\":{\\\"range\\\":[-2,2]},\\\"width\\\":600},{\\\"showLink\\\":false,\\\"editable\\\":false,\\\"responsive\\\":true,\\\"staticPlot\\\":false,\\\"scrollZoom\\\":true}); gd.on(\\\"plotly_hover\\\",(function (data){var filtered_data=WebIO.PlotlyCommands.filterEventData(gd,data,\\\"hover\\\"); return !(filtered_data.isnil) ? (WebIO.setval({\\\"name\\\":\\\"hover\\\",\\\"scope\\\":\\\"15996615123823877174\\\",\\\"id\\\":\\\"13671360854281385909\\\",\\\"type\\\":\\\"observable\\\"},filtered_data.out)) : undefined})); gd.on(\\\"plotly_unhover\\\",(function (){return WebIO.setval({\\\"name\\\":\\\"hover\\\",\\\"scope\\\":\\\"15996615123823877174\\\",\\\"id\\\":\\\"13671360854281385909\\\",\\\"type\\\":\\\"observable\\\"},{})})); gd.on(\\\"plotly_selected\\\",(function (data){var filtered_data=WebIO.PlotlyCommands.filterEventData(gd,data,\\\"selected\\\"); return !(filtered_data.isnil) ? (WebIO.setval({\\\"name\\\":\\\"selected\\\",\\\"scope\\\":\\\"15996615123823877174\\\",\\\"id\\\":\\\"8067531235332368856\\\",\\\"type\\\":\\\"observable\\\"},filtered_data.out)) : undefined})); gd.on(\\\"plotly_deselect\\\",(function (){return WebIO.setval({\\\"name\\\":\\\"selected\\\",\\\"scope\\\":\\\"15996615123823877174\\\",\\\"id\\\":\\\"8067531235332368856\\\",\\\"type\\\":\\\"observable\\\"},{})})); gd.on(\\\"plotly_relayout\\\",(function (data){var filtered_data=WebIO.PlotlyCommands.filterEventData(gd,data,\\\"relayout\\\"); return !(filtered_data.isnil) ? (WebIO.setval({\\\"name\\\":\\\"relayout\\\",\\\"scope\\\":\\\"15996615123823877174\\\",\\\"id\\\":\\\"9181697944876193472\\\",\\\"type\\\":\\\"observable\\\"},filtered_data.out)) : undefined})); return gd.on(\\\"plotly_click\\\",(function (data){var filtered_data=WebIO.PlotlyCommands.filterEventData(gd,data,\\\"click\\\"); return !(filtered_data.isnil) ? (WebIO.setval({\\\"name\\\":\\\"click\\\",\\\"scope\\\":\\\"15996615123823877174\\\",\\\"id\\\":\\\"6132722244384133943\\\",\\\"type\\\":\\\"observable\\\"},filtered_data.out)) : undefined}))}));\\n    (WebIO.importBlock({\\\"data\\\":[{\\\"name\\\":\\\"Plotly\\\",\\\"type\\\":\\\"js\\\",\\\"url\\\":\\\"\\/assetserver\\/d66a736669047bda0b2d00471bd5207a90cf3193-plotly.min.js\\\"},{\\\"name\\\":null,\\\"type\\\":\\\"js\\\",\\\"url\\\":\\\"\\/assetserver\\/aee3160e397a4905b07437c5af565305d1ef6def-plotly_webio.bundle.js\\\"}],\\\"type\\\":\\\"async_block\\\"})).then((imports) => handler.apply(this, imports));\\n}\\n\"],\"observables\":{\"_toImage\":{\"sync\":false,\"id\":\"12512253945529316694\",\"value\":{}},\"hover\":{\"sync\":false,\"id\":\"13671360854281385909\",\"value\":{}},\"selected\":{\"sync\":false,\"id\":\"8067531235332368856\",\"value\":{}},\"__gd_contents\":{\"sync\":false,\"id\":\"12438949133772906353\",\"value\":{}},\"click\":{\"sync\":false,\"id\":\"6132722244384133943\",\"value\":{}},\"image\":{\"sync\":true,\"id\":\"12596045405307533113\",\"value\":\"\"},\"__get_gd_contents\":{\"sync\":false,\"id\":\"16420748725869106176\",\"value\":\"\"},\"_downloadImage\":{\"sync\":false,\"id\":\"8763800019061363674\",\"value\":{}},\"relayout\":{\"sync\":false,\"id\":\"9181697944876193472\",\"value\":{}},\"_commands\":{\"sync\":false,\"id\":\"4750177667768153740\",\"value\":[]}}},\"children\":[{\"props\":{\"id\":\"plot-2bf92aeb-3eaf-4591-b988-991dcc79692c\"},\"nodeType\":\"DOM\",\"type\":\"node\",\"instanceArgs\":{\"namespace\":\"html\",\"tag\":\"div\"},\"children\":[]}]},\n",
       "        window,\n",
       "    );\n",
       "    })()\n",
       "    </script>\n",
       "</div>\n"
      ],
      "text/plain": [
       "data: [\n",
       "  \"scatter with fields type, x, and y\",\n",
       "  \"scatter with fields type, x, and y\",\n",
       "  \"scatter with fields type, x, and y\",\n",
       "  \"scatter with fields type, x, and y\"\n",
       "]\n",
       "\n",
       "layout: \"layout with fields height, margin, template, width, xaxis, and yaxis\"\n",
       "\n"
      ]
     },
     "execution_count": 12,
     "metadata": {},
     "output_type": "execute_result"
    }
   ],
   "source": [
    "function plotgeometry(D::DiagramDual; kwargs...)\n",
    "    map(plotgeometry,D.p)\n",
    "end\n",
    "\n",
    " layout = Layout(\n",
    "    xaxis = attr(range = [-2, 2]),\n",
    "    yaxis = attr(range = [-2, 2]),\n",
    "    width = 600,\n",
    "    height = 600\n",
    ")\n",
    "\n",
    "\n",
    "plot(plotgeometry(D),layout)"
   ]
  },
  {
   "cell_type": "markdown",
   "id": "c95d1c7c-b732-4557-b792-2ec400bd5397",
   "metadata": {
    "tags": []
   },
   "source": [
    "## 3. Envelopes\n",
    "\n",
    "Our Diagram can compose primitives. But we want to be able to do more complicated drawings.\n",
    "For example, we might want to \"glue\" two primitives side by side.\n",
    "To be able to do this, we need to know how much one primitive should be translated until it\n",
    "touched only the \"border\" of the other.\n",
    "\n",
    "Thus, it would be necessary to be able to compute this distance for each primitive.\n",
    "This is what the author of the paper has called an *envelope*.\n",
    "\n",
    "The envelope is a functional defined for each primitive, with\n",
    "$env: V_2 \\to \\mathbb R$ where $V_2$ is a 2D vector.\n",
    "This means that, when we define a primitive, we must also define it's envelope funciton.\n",
    "\n",
    "**Def.(Envelope)** Given a diagram $D$ and a direction $v$,\n",
    "$$\n",
    "env_D(v) := \\sup_{u \\in D}\\frac{\\langle u,v\\rangle}{||v||^2}.\n",
    "$$\n",
    "\n",
    "We call $\\sup_{u \\in D}\\langle u,v\\rangle$ the *support* function.\n",
    "\n",
    "The nice thing about the envelope functional is that the envelope of a diagram $D = [p_1,p_2,...,p_n]$\n",
    "is just $\\max\\{env(p_1),...,env(p_n)\\}$, i.e. once we know how to compute the envelope of the primitives,\n",
    "the envelope for the diagram can easily be found.\n",
    "\n",
    "Let's use the `GeometricBasics.jl` package to define our primimtives. This package\n",
    "has some geometric objects implemented, and some useful functionalities."
   ]
  },
  {
   "cell_type": "markdown",
   "id": "6087c936-86be-4525-abcb-b677eb31614f",
   "metadata": {},
   "source": [
    "An envelope type is a function taking a vector $V_2$  to $\\mathbb R$.\n",
    "Again this works as a monoid. Note, the set of envelope functions is defined\n",
    "by one envelope function for each primitive. Thus, $envelopeP::\\text{Prim} \\to \\text{Envelope}$\n",
    "where $env::\\text{Envelope}$ is $env:V_2 \\to \\mathbb R$."
   ]
  },
  {
   "cell_type": "code",
   "execution_count": 13,
   "id": "e423c327-f588-4ada-abd5-b4cd763a4828",
   "metadata": {},
   "outputs": [
    {
     "data": {
      "text/plain": [
       "plotenvelope (generic function with 1 method)"
      ]
     },
     "execution_count": 13,
     "metadata": {},
     "output_type": "execute_result"
    }
   ],
   "source": [
    "# support(p::Primitive1,v::Vector) = support(p.g,v)\n",
    "# support(t::AbstractGeometry,v::Vector) = mapreduce(p->dot(p,v),max,coordinates(t))\n",
    "\n",
    "# envelope(p::Primitive1, v::Vector) = support(p,normalize(v))\n",
    "# envelope(t::AbstractGeometry, v::Vector) = support(t,normalize(v))\n",
    "function envelopeP(t::AbstractGeometry, v::Vector)\n",
    "    v = normalize(v)\n",
    "    mapreduce(p->dot(p,v),max,coordinates(t))\n",
    "end\n",
    "envelopeP(p::Primitive1, v::Vector) = envelopeP(p.g,v)\n",
    "\n",
    "# Lifting function for Diagram. Note that returns `nothing` for the empty Diagram\n",
    "# Hence, `envelope` returns `x::Option{Nothig, Real}`\n",
    "envelope(D::DiagramDual, v::Vector) = !isempty(D.p) ? mapreduce(x->envelopeP(x,v),max, D.p) : nothing\n",
    "\n",
    "transform(g::AbstractGeometry,T) = Polygon(map(T,coordinates(g)))\n",
    "\n",
    "\n",
    "function plotenvelopeP(g::Primitive1;name=\"envelope\", kwargs...)\n",
    "    θs = 0:0.05:2π\n",
    "    vs = [[cos(θ), sin(θ)] for θ in θs]\n",
    "    envs = hcat([envelopeP(g,i)i for i in vs]...);\n",
    "    scatter(x= envs[1,:],y = envs[2,:]; name = name, kwargs...)\n",
    "end\n",
    "function plotenvelope(g::DiagramDual;name=\"envelope\", kwargs...)\n",
    "    θs = 0:0.05:2π\n",
    "    vs = [[cos(θ), sin(θ)] for θ in θs]\n",
    "    envs = hcat([envelope(g,i)i for i in vs]...);\n",
    "    scatter(x= envs[1,:],y = envs[2,:]; name = name, kwargs...)\n",
    "end"
   ]
  },
  {
   "cell_type": "code",
   "execution_count": 14,
   "id": "86f88608-8c4a-44d3-be48-5b1e90af3b27",
   "metadata": {},
   "outputs": [
    {
     "data": {
      "application/vnd.plotly.v1+json": {
       "config": {
        "editable": false,
        "responsive": true,
        "scrollZoom": true,
        "showLink": false,
        "staticPlot": false
       },
       "data": [
        {
         "type": "scatter",
         "x": [
          -1.5,
          0.5,
          1,
          -1.5
         ],
         "y": [
          -0.5,
          1.5,
          -0.5,
          -0.5
         ]
        },
        {
         "name": "envelope",
         "type": "scatter",
         "x": [
          1,
          0.9725437284773059,
          0.9403659562218556,
          0.9037881928974681,
          0.8631759114242799,
          0.8289647944257456,
          0.8798157587736961,
          0.9243738122493904,
          0.9621937455114334,
          0.9928976742882786,
          1.0161788150729574,
          1.0318045504024709,
          1.0396187530945882,
          1.0395433462190418,
          1.0315790832164056,
          1.0158055403699666,
          0.9923803217058067,
          0.9615374842654705,
          0.9235851994853745,
          0.8789026740496849,
          0.8279363609824757,
          0.7711954988366909,
          0.7092470235508561,
          0.642709903812584,
          0.5722489565280515,
          0.49856820419123393,
          0.42240384052386126,
          0.344516874671107,
          0.2656855274497639,
          0.18669745562308887,
          0.10834188189478904,
          0.031401709256647994,
          -0.04335430151937334,
          -0.11517921308465269,
          -0.18335537466498894,
          -0.24720159258991395,
          -0.3060799365546761,
          -0.35940211360897206,
          -0.40663534618564356,
          -0.44730769543801546,
          -0.4810127766968491,
          -0.5074138199316254,
          -0.526247034645366,
          -0.5373242455820851,
          -0.5405347729117419,
          -0.5358465381065177,
          -0.523306384458862,
          -0.5030396090387984,
          -0.5665830853706254,
          -0.6442711239108485,
          -0.7230155704316353,
          -0.8020296364528029,
          -0.8805238395452446,
          -0.957713891578396,
          -1.032828535067979,
          -1.1051172493258472,
          -1.1738577494146074,
          -1.2383632029799605,
          -1.2979890928525506,
          -1.3521396568504682,
          -1.4002738404380433,
          -1.4419107027639149,
          -1.476634222063039,
          -1.5040974524086492,
          -1.5240259902812678,
          -1.5362207163179715,
          -1.5405597848472417,
          -1.5369998413306392,
          -1.5255764555470206,
          -1.5064037661910679,
          -1.4796733404371758,
          -1.4456522598635737,
          -1.4046804518614793,
          -1.3571672931929697,
          -1.3035875196336992,
          -1.2444764825699541,
          -1.180424799944563,
          -1.1120724549976486,
          -1.0401024017656377,
          -0.9652337412302903,
          -0.8882145362993853,
          -0.8098143374094283,
          -0.730816493432066,
          -0.6520103247111076,
          -0.5741832364345559,
          -0.4981128511422549,
          -0.424559238978519,
          -0.35425732332249565,
          -0.28790953767669847,
          -0.22617880718363698,
          -0.16968192489693143,
          -0.1189833889890041,
          -0.0745897624719385,
          -0.03694461178731281,
          -0.006424074836934582,
          0.02020170201726309,
          0.051237767408682015,
          0.08675771668708115,
          0.1264066462606055,
          0.1697883971311499,
          0.21646951318411628,
          0.2659835721386295,
          0.3178358458847864,
          0.371508243643399,
          0.4264644885577991,
          0.48215547599492126,
          0.5380247600172879,
          0.5935141132068752,
          0.6480691042889556,
          0.701144637826119,
          0.7522104006317013,
          0.8007561604838467,
          0.8462968641972054,
          0.8883774841140297,
          0.9265775645901143,
          0.9605154230486102,
          0.9898519636261646,
          1.0142940653066967,
          1.0335975106897,
          1.047569426129778,
          1.056070208866355,
          1.0590149218883116,
          1.0563741425965258,
          1.0481742567847552,
          1.0344971950015092,
          1.0154796139270903
         ],
         "y": [
          0,
          0.04866774964292052,
          0.09435130985784101,
          0.13659422561207132,
          0.1749744196550465,
          0.21166946323327127,
          0.27215890716650015,
          0.33742278134605647,
          0.40680899071450666,
          0.47962425120387253,
          0.5551410168008694,
          0.6326047489461759,
          0.7112414556343016,
          0.7902654248858578,
          0.8688870753219347,
          0.9463208454002364,
          1.0217930424863428,
          1.094549573334761,
          1.1638634787393642,
          1.2290421970694811,
          1.289434484116777,
          1.3444369201121118,
          1.3934999388964069,
          1.4361333190040484,
          1.471911081793722,
          1.5004757476861894,
          1.5215419079820764,
          1.5348990765712531,
          1.54041379304047,
          1.5380309561656886,
          1.5277743744653007,
          1.5097465283132823,
          1.48412754598917,
          1.4511734038958366,
          1.4112133689278876,
          1.3646467085456921,
          1.3119387014268968,
          1.2536159885556828,
          1.1902613112001326,
          1.1225076883541112,
          1.0510320918207268,
          0.9765486821338488,
          0.8998016729021275,
          0.821557894872618,
          0.7425991340114355,
          0.6637143201568105,
          0.5856916442929245,
          0.5093106832061428,
          0.5189982024867423,
          0.5334675518238932,
          0.5401087523631606,
          0.5388554474240445,
          0.5297201596152091,
          0.512794165712716,
          0.4882465846526489,
          0.45632268775060897,
          0.41734144803180323,
          0.3716923531580182,
          0.31983151379564734,
          0.262277106308686,
          0.19960419531178591,
          0.13243898781471744,
          0.061452576368926676,
          -0.01264576626740917,
          -0.08911567394832208,
          -0.16719308463385577,
          -0.24609787464540167,
          -0.3250416534036189,
          -0.4032356407665005,
          -0.47989854825981093,
          -0.5542643854532656,
          -0.6255901134837059,
          -0.6931630692538012,
          -0.7563080861261474,
          -0.8143942399651226,
          -0.8668411531222976,
          -0.9131247933780514,
          -0.9527827098982843,
          -0.9854186538902915,
          -1.0107065377897133,
          -1.0283936934196896,
          -1.0383033965677626,
          -1.0403366327557884,
          -1.0344730865598752,
          -1.0207713445953819,
          -0.9993683101388237,
          -0.9704778352355881,
          -0.9343885839609866,
          -0.8914611481842354,
          -0.8421244446536916,
          -0.7868714294024869,
          -0.726254172294792,
          -0.6608783409262254,
          -0.5913971489934472,
          -0.5185048295988199,
          -0.5368685992799993,
          -0.5833353545600224,
          -0.6264715331632995,
          -0.6658461326521525,
          -0.701065735044001,
          -0.7317784377137982,
          -0.7576773694887374,
          -0.7785037568035716,
          -0.7940495092805396,
          -0.8041592988996341,
          -0.8087321119848332,
          -0.8077222584993607,
          -0.8011398285654302,
          -0.7890505916470795,
          -0.7715753394034264,
          -0.7488886787783391,
          -0.7212172873855699,
          -0.6888376486209704,
          -0.6520732891317909,
          -0.6112915462453651,
          -0.5668998976559629,
          -0.5193418900423602,
          -0.4690927072960468,
          -0.4166544226408515,
          -0.3625509820832568,
          -0.3073229693170945,
          -0.25152220438996914,
          -0.19570623009975405,
          -0.14043274121124805,
          -0.08625401215443879,
          -0.03371137888095518
         ]
        }
       ],
       "frames": [],
       "layout": {
        "height": 600,
        "margin": {
         "b": 50,
         "l": 50,
         "r": 50,
         "t": 60
        },
        "template": {
         "data": {
          "bar": [
           {
            "error_x": {
             "color": "#2a3f5f"
            },
            "error_y": {
             "color": "#2a3f5f"
            },
            "marker": {
             "line": {
              "color": "#E5ECF6",
              "width": 0.5
             }
            },
            "type": "bar"
           }
          ],
          "barpolar": [
           {
            "marker": {
             "line": {
              "color": "#E5ECF6",
              "width": 0.5
             }
            },
            "type": "barpolar"
           }
          ],
          "carpet": [
           {
            "aaxis": {
             "endlinecolor": "#2a3f5f",
             "gridcolor": "white",
             "linecolor": "white",
             "minorgridcolor": "white",
             "startlinecolor": "#2a3f5f"
            },
            "baxis": {
             "endlinecolor": "#2a3f5f",
             "gridcolor": "white",
             "linecolor": "white",
             "minorgridcolor": "white",
             "startlinecolor": "#2a3f5f"
            },
            "type": "carpet"
           }
          ],
          "choropleth": [
           {
            "colorbar": {
             "outlinewidth": 0,
             "ticks": ""
            },
            "type": "choropleth"
           }
          ],
          "contour": [
           {
            "colorbar": {
             "outlinewidth": 0,
             "ticks": ""
            },
            "colorscale": [
             [
              0,
              "#0d0887"
             ],
             [
              0.1111111111111111,
              "#46039f"
             ],
             [
              0.2222222222222222,
              "#7201a8"
             ],
             [
              0.3333333333333333,
              "#9c179e"
             ],
             [
              0.4444444444444444,
              "#bd3786"
             ],
             [
              0.5555555555555556,
              "#d8576b"
             ],
             [
              0.6666666666666666,
              "#ed7953"
             ],
             [
              0.7777777777777778,
              "#fb9f3a"
             ],
             [
              0.8888888888888888,
              "#fdca26"
             ],
             [
              1,
              "#f0f921"
             ]
            ],
            "type": "contour"
           }
          ],
          "contourcarpet": [
           {
            "colorbar": {
             "outlinewidth": 0,
             "ticks": ""
            },
            "type": "contourcarpet"
           }
          ],
          "heatmap": [
           {
            "colorbar": {
             "outlinewidth": 0,
             "ticks": ""
            },
            "colorscale": [
             [
              0,
              "#0d0887"
             ],
             [
              0.1111111111111111,
              "#46039f"
             ],
             [
              0.2222222222222222,
              "#7201a8"
             ],
             [
              0.3333333333333333,
              "#9c179e"
             ],
             [
              0.4444444444444444,
              "#bd3786"
             ],
             [
              0.5555555555555556,
              "#d8576b"
             ],
             [
              0.6666666666666666,
              "#ed7953"
             ],
             [
              0.7777777777777778,
              "#fb9f3a"
             ],
             [
              0.8888888888888888,
              "#fdca26"
             ],
             [
              1,
              "#f0f921"
             ]
            ],
            "type": "heatmap"
           }
          ],
          "heatmapgl": [
           {
            "colorbar": {
             "outlinewidth": 0,
             "ticks": ""
            },
            "colorscale": [
             [
              0,
              "#0d0887"
             ],
             [
              0.1111111111111111,
              "#46039f"
             ],
             [
              0.2222222222222222,
              "#7201a8"
             ],
             [
              0.3333333333333333,
              "#9c179e"
             ],
             [
              0.4444444444444444,
              "#bd3786"
             ],
             [
              0.5555555555555556,
              "#d8576b"
             ],
             [
              0.6666666666666666,
              "#ed7953"
             ],
             [
              0.7777777777777778,
              "#fb9f3a"
             ],
             [
              0.8888888888888888,
              "#fdca26"
             ],
             [
              1,
              "#f0f921"
             ]
            ],
            "type": "heatmapgl"
           }
          ],
          "histogram": [
           {
            "marker": {
             "colorbar": {
              "outlinewidth": 0,
              "ticks": ""
             }
            },
            "type": "histogram"
           }
          ],
          "histogram2d": [
           {
            "colorbar": {
             "outlinewidth": 0,
             "ticks": ""
            },
            "colorscale": [
             [
              0,
              "#0d0887"
             ],
             [
              0.1111111111111111,
              "#46039f"
             ],
             [
              0.2222222222222222,
              "#7201a8"
             ],
             [
              0.3333333333333333,
              "#9c179e"
             ],
             [
              0.4444444444444444,
              "#bd3786"
             ],
             [
              0.5555555555555556,
              "#d8576b"
             ],
             [
              0.6666666666666666,
              "#ed7953"
             ],
             [
              0.7777777777777778,
              "#fb9f3a"
             ],
             [
              0.8888888888888888,
              "#fdca26"
             ],
             [
              1,
              "#f0f921"
             ]
            ],
            "type": "histogram2d"
           }
          ],
          "histogram2dcontour": [
           {
            "colorbar": {
             "outlinewidth": 0,
             "ticks": ""
            },
            "colorscale": [
             [
              0,
              "#0d0887"
             ],
             [
              0.1111111111111111,
              "#46039f"
             ],
             [
              0.2222222222222222,
              "#7201a8"
             ],
             [
              0.3333333333333333,
              "#9c179e"
             ],
             [
              0.4444444444444444,
              "#bd3786"
             ],
             [
              0.5555555555555556,
              "#d8576b"
             ],
             [
              0.6666666666666666,
              "#ed7953"
             ],
             [
              0.7777777777777778,
              "#fb9f3a"
             ],
             [
              0.8888888888888888,
              "#fdca26"
             ],
             [
              1,
              "#f0f921"
             ]
            ],
            "type": "histogram2dcontour"
           }
          ],
          "mesh3d": [
           {
            "colorbar": {
             "outlinewidth": 0,
             "ticks": ""
            },
            "type": "mesh3d"
           }
          ],
          "parcoords": [
           {
            "line": {
             "colorbar": {
              "outlinewidth": 0,
              "ticks": ""
             }
            },
            "type": "parcoords"
           }
          ],
          "pie": [
           {
            "automargin": true,
            "type": "pie"
           }
          ],
          "scatter": [
           {
            "marker": {
             "colorbar": {
              "outlinewidth": 0,
              "ticks": ""
             }
            },
            "type": "scatter"
           }
          ],
          "scatter3d": [
           {
            "line": {
             "colorbar": {
              "outlinewidth": 0,
              "ticks": ""
             }
            },
            "marker": {
             "colorbar": {
              "outlinewidth": 0,
              "ticks": ""
             }
            },
            "type": "scatter3d"
           }
          ],
          "scattercarpet": [
           {
            "marker": {
             "colorbar": {
              "outlinewidth": 0,
              "ticks": ""
             }
            },
            "type": "scattercarpet"
           }
          ],
          "scattergeo": [
           {
            "marker": {
             "colorbar": {
              "outlinewidth": 0,
              "ticks": ""
             }
            },
            "type": "scattergeo"
           }
          ],
          "scattergl": [
           {
            "marker": {
             "colorbar": {
              "outlinewidth": 0,
              "ticks": ""
             }
            },
            "type": "scattergl"
           }
          ],
          "scattermapbox": [
           {
            "marker": {
             "colorbar": {
              "outlinewidth": 0,
              "ticks": ""
             }
            },
            "type": "scattermapbox"
           }
          ],
          "scatterpolar": [
           {
            "marker": {
             "colorbar": {
              "outlinewidth": 0,
              "ticks": ""
             }
            },
            "type": "scatterpolar"
           }
          ],
          "scatterpolargl": [
           {
            "marker": {
             "colorbar": {
              "outlinewidth": 0,
              "ticks": ""
             }
            },
            "type": "scatterpolargl"
           }
          ],
          "scatterternary": [
           {
            "marker": {
             "colorbar": {
              "outlinewidth": 0,
              "ticks": ""
             }
            },
            "type": "scatterternary"
           }
          ],
          "surface": [
           {
            "colorbar": {
             "outlinewidth": 0,
             "ticks": ""
            },
            "colorscale": [
             [
              0,
              "#0d0887"
             ],
             [
              0.1111111111111111,
              "#46039f"
             ],
             [
              0.2222222222222222,
              "#7201a8"
             ],
             [
              0.3333333333333333,
              "#9c179e"
             ],
             [
              0.4444444444444444,
              "#bd3786"
             ],
             [
              0.5555555555555556,
              "#d8576b"
             ],
             [
              0.6666666666666666,
              "#ed7953"
             ],
             [
              0.7777777777777778,
              "#fb9f3a"
             ],
             [
              0.8888888888888888,
              "#fdca26"
             ],
             [
              1,
              "#f0f921"
             ]
            ],
            "type": "surface"
           }
          ],
          "table": [
           {
            "cells": {
             "fill": {
              "color": "#EBF0F8"
             },
             "line": {
              "color": "white"
             }
            },
            "header": {
             "fill": {
              "color": "#C8D4E3"
             },
             "line": {
              "color": "white"
             }
            },
            "type": "table"
           }
          ]
         },
         "layout": {
          "annotationdefaults": {
           "arrowcolor": "#2a3f5f",
           "arrowhead": 0,
           "arrowwidth": 1
          },
          "autotypenumbers": "strict",
          "coloraxis": {
           "colorbar": {
            "outlinewidth": 0,
            "ticks": ""
           }
          },
          "colorscale": {
           "diverging": [
            [
             0,
             "#8e0152"
            ],
            [
             0.1,
             "#c51b7d"
            ],
            [
             0.2,
             "#de77ae"
            ],
            [
             0.3,
             "#f1b6da"
            ],
            [
             0.4,
             "#fde0ef"
            ],
            [
             0.5,
             "#f7f7f7"
            ],
            [
             0.6,
             "#e6f5d0"
            ],
            [
             0.7,
             "#b8e186"
            ],
            [
             0.8,
             "#7fbc41"
            ],
            [
             0.9,
             "#4d9221"
            ],
            [
             1,
             "#276419"
            ]
           ],
           "sequential": [
            [
             0,
             "#0d0887"
            ],
            [
             0.1111111111111111,
             "#46039f"
            ],
            [
             0.2222222222222222,
             "#7201a8"
            ],
            [
             0.3333333333333333,
             "#9c179e"
            ],
            [
             0.4444444444444444,
             "#bd3786"
            ],
            [
             0.5555555555555556,
             "#d8576b"
            ],
            [
             0.6666666666666666,
             "#ed7953"
            ],
            [
             0.7777777777777778,
             "#fb9f3a"
            ],
            [
             0.8888888888888888,
             "#fdca26"
            ],
            [
             1,
             "#f0f921"
            ]
           ],
           "sequentialminus": [
            [
             0,
             "#0d0887"
            ],
            [
             0.1111111111111111,
             "#46039f"
            ],
            [
             0.2222222222222222,
             "#7201a8"
            ],
            [
             0.3333333333333333,
             "#9c179e"
            ],
            [
             0.4444444444444444,
             "#bd3786"
            ],
            [
             0.5555555555555556,
             "#d8576b"
            ],
            [
             0.6666666666666666,
             "#ed7953"
            ],
            [
             0.7777777777777778,
             "#fb9f3a"
            ],
            [
             0.8888888888888888,
             "#fdca26"
            ],
            [
             1,
             "#f0f921"
            ]
           ]
          },
          "colorway": [
           "#636efa",
           "#EF553B",
           "#00cc96",
           "#ab63fa",
           "#FFA15A",
           "#19d3f3",
           "#FF6692",
           "#B6E880",
           "#FF97FF",
           "#FECB52"
          ],
          "font": {
           "color": "#2a3f5f"
          },
          "geo": {
           "bgcolor": "white",
           "lakecolor": "white",
           "landcolor": "#E5ECF6",
           "showlakes": true,
           "showland": true,
           "subunitcolor": "white"
          },
          "hoverlabel": {
           "align": "left"
          },
          "hovermode": "closest",
          "mapbox": {
           "style": "light"
          },
          "paper_bgcolor": "white",
          "plot_bgcolor": "#E5ECF6",
          "polar": {
           "angularaxis": {
            "gridcolor": "white",
            "linecolor": "white",
            "ticks": ""
           },
           "bgcolor": "#E5ECF6",
           "radialaxis": {
            "gridcolor": "white",
            "linecolor": "white",
            "ticks": ""
           }
          },
          "scene": {
           "xaxis": {
            "backgroundcolor": "#E5ECF6",
            "gridcolor": "white",
            "gridwidth": 2,
            "linecolor": "white",
            "showbackground": true,
            "ticks": "",
            "zerolinecolor": "white"
           },
           "yaxis": {
            "backgroundcolor": "#E5ECF6",
            "gridcolor": "white",
            "gridwidth": 2,
            "linecolor": "white",
            "showbackground": true,
            "ticks": "",
            "zerolinecolor": "white"
           },
           "zaxis": {
            "backgroundcolor": "#E5ECF6",
            "gridcolor": "white",
            "gridwidth": 2,
            "linecolor": "white",
            "showbackground": true,
            "ticks": "",
            "zerolinecolor": "white"
           }
          },
          "shapedefaults": {
           "line": {
            "color": "#2a3f5f"
           }
          },
          "ternary": {
           "aaxis": {
            "gridcolor": "white",
            "linecolor": "white",
            "ticks": ""
           },
           "baxis": {
            "gridcolor": "white",
            "linecolor": "white",
            "ticks": ""
           },
           "bgcolor": "#E5ECF6",
           "caxis": {
            "gridcolor": "white",
            "linecolor": "white",
            "ticks": ""
           }
          },
          "title": {
           "x": 0.05
          },
          "xaxis": {
           "automargin": true,
           "gridcolor": "white",
           "linecolor": "white",
           "ticks": "",
           "title": {
            "standoff": 15
           },
           "zerolinecolor": "white",
           "zerolinewidth": 2
          },
          "yaxis": {
           "automargin": true,
           "gridcolor": "white",
           "linecolor": "white",
           "ticks": "",
           "title": {
            "standoff": 15
           },
           "zerolinecolor": "white",
           "zerolinewidth": 2
          }
         }
        },
        "width": 600,
        "xaxis": {
         "autorange": false,
         "range": [
          -3.3213027476305585,
          3.967172453931482
         ],
         "type": "linear"
        },
        "yaxis": {
         "autorange": false,
         "range": [
          1.5815920161076171,
          6.981027246411628
         ],
         "type": "linear"
        }
       }
      },
      "image/png": "[encoded data removed]",
      "text/html": [
       "<div\n",
       "    class=\"webio-mountpoint\"\n",
       "    data-webio-mountpoint=\"17442870096801158777\"\n",
       ">\n",
       "    <script>\n",
       "    (function(){\n",
       "    // Some integrations (namely, IJulia/Jupyter) use an alternate render pathway than\n",
       "    // just putting the html on the page. If WebIO isn't defined, then it's pretty likely\n",
       "    // that we're in one of those situations and the integration just isn't installed\n",
       "    // correctly.\n",
       "    if (typeof window.WebIO === \"undefined\") {\n",
       "        document\n",
       "            .querySelector('[data-webio-mountpoint=\"17442870096801158777\"]')\n",
       "            .innerHTML = (\n",
       "                '<div style=\"padding: 1em; background-color: #f8d6da; border: 1px solid #f5c6cb; font-weight: bold;\">' +\n",
       "                '<p><strong>WebIO not detected.</strong></p>' +\n",
       "                '<p>Please read ' +\n",
       "                '<a href=\"https://juliagizmos.github.io/WebIO.jl/latest/troubleshooting/not-detected/\" target=\"_blank\">the troubleshooting guide</a> ' +\n",
       "                'for more information on how to resolve this issue.</p>' +\n",
       "                '<p><a href=\"https://juliagizmos.github.io/WebIO.jl/latest/troubleshooting/not-detected/\" target=\"_blank\">https://juliagizmos.github.io/WebIO.jl/latest/troubleshooting/not-detected/</a></p>' +\n",
       "                '</div>'\n",
       "            );\n",
       "        return;\n",
       "    }\n",
       "    WebIO.mount(\n",
       "        document.querySelector('[data-webio-mountpoint=\"17442870096801158777\"]'),\n",
       "        {\"props\":{},\"nodeType\":\"Scope\",\"type\":\"node\",\"instanceArgs\":{\"imports\":{\"data\":[{\"name\":\"Plotly\",\"type\":\"js\",\"url\":\"\\/assetserver\\/d66a736669047bda0b2d00471bd5207a90cf3193-plotly.min.js\"},{\"name\":null,\"type\":\"js\",\"url\":\"\\/assetserver\\/aee3160e397a4905b07437c5af565305d1ef6def-plotly_webio.bundle.js\"}],\"type\":\"async_block\"},\"id\":\"7446569583535208075\",\"handlers\":{\"_toImage\":[\"(function (options){return this.Plotly.toImage(this.plotElem,options).then((function (data){return WebIO.setval({\\\"name\\\":\\\"image\\\",\\\"scope\\\":\\\"7446569583535208075\\\",\\\"id\\\":\\\"15758191958090733928\\\",\\\"type\\\":\\\"observable\\\"},data)}))})\"],\"__get_gd_contents\":[\"(function (prop){prop==\\\"data\\\" ? (WebIO.setval({\\\"name\\\":\\\"__gd_contents\\\",\\\"scope\\\":\\\"7446569583535208075\\\",\\\"id\\\":\\\"7002829410196245967\\\",\\\"type\\\":\\\"observable\\\"},this.plotElem.data)) : undefined; return prop==\\\"layout\\\" ? (WebIO.setval({\\\"name\\\":\\\"__gd_contents\\\",\\\"scope\\\":\\\"7446569583535208075\\\",\\\"id\\\":\\\"7002829410196245967\\\",\\\"type\\\":\\\"observable\\\"},this.plotElem.layout)) : undefined})\"],\"_downloadImage\":[\"(function (options){return this.Plotly.downloadImage(this.plotElem,options)})\"],\"_commands\":[\"(function (args){var fn=args.shift(); var elem=this.plotElem; var Plotly=this.Plotly; args.unshift(elem); return Plotly[fn].apply(this,args)})\"]},\"systemjs_options\":null,\"mount_callbacks\":[\"function () {\\n    var handler = ((function (Plotly,PlotlyWebIO){PlotlyWebIO.init(WebIO); var gd=this.dom.querySelector(\\\"#plot-fa84ac42-f7d8-4a45-a9a9-2d568aab1bda\\\"); this.plotElem=gd; this.Plotly=Plotly; (window.Blink!==undefined) ? (gd.style.width=\\\"100%\\\", gd.style.height=\\\"100vh\\\", gd.style.marginLeft=\\\"0%\\\", gd.style.marginTop=\\\"0vh\\\") : undefined; window.onresize=(function (){return Plotly.Plots.resize(gd)}); Plotly.newPlot(gd,[{\\\"y\\\":[-0.5,1.5,-0.5,-0.5],\\\"type\\\":\\\"scatter\\\",\\\"x\\\":[-1.5,0.5,1.0,-1.5]},{\\\"y\\\":[0.0,0.04866774964292052,0.09435130985784101,0.13659422561207132,0.1749744196550465,0.21166946323327127,0.27215890716650015,0.33742278134605647,0.40680899071450666,0.47962425120387253,0.5551410168008694,0.6326047489461759,0.7112414556343016,0.7902654248858578,0.8688870753219347,0.9463208454002364,1.0217930424863428,1.094549573334761,1.1638634787393642,1.2290421970694811,1.289434484116777,1.3444369201121118,1.3934999388964069,1.4361333190040484,1.471911081793722,1.5004757476861894,1.5215419079820764,1.5348990765712531,1.54041379304047,1.5380309561656886,1.5277743744653007,1.5097465283132823,1.48412754598917,1.4511734038958366,1.4112133689278876,1.3646467085456921,1.3119387014268968,1.2536159885556828,1.1902613112001326,1.1225076883541112,1.0510320918207268,0.9765486821338488,0.8998016729021275,0.821557894872618,0.7425991340114355,0.6637143201568105,0.5856916442929245,0.5093106832061428,0.5189982024867423,0.5334675518238932,0.5401087523631606,0.5388554474240445,0.5297201596152091,0.512794165712716,0.4882465846526489,0.45632268775060897,0.41734144803180323,0.3716923531580182,0.31983151379564734,0.262277106308686,0.19960419531178591,0.13243898781471744,0.061452576368926676,-0.01264576626740917,-0.08911567394832208,-0.16719308463385577,-0.24609787464540167,-0.3250416534036189,-0.4032356407665005,-0.47989854825981093,-0.5542643854532656,-0.6255901134837059,-0.6931630692538012,-0.7563080861261474,-0.8143942399651226,-0.8668411531222976,-0.9131247933780514,-0.9527827098982843,-0.9854186538902915,-1.0107065377897133,-1.0283936934196896,-1.0383033965677626,-1.0403366327557884,-1.0344730865598752,-1.0207713445953819,-0.9993683101388237,-0.9704778352355881,-0.9343885839609866,-0.8914611481842354,-0.8421244446536916,-0.7868714294024869,-0.726254172294792,-0.6608783409262254,-0.5913971489934472,-0.5185048295988199,-0.5368685992799993,-0.5833353545600224,-0.6264715331632995,-0.6658461326521525,-0.701065735044001,-0.7317784377137982,-0.7576773694887374,-0.7785037568035716,-0.7940495092805396,-0.8041592988996341,-0.8087321119848332,-0.8077222584993607,-0.8011398285654302,-0.7890505916470795,-0.7715753394034264,-0.7488886787783391,-0.7212172873855699,-0.6888376486209704,-0.6520732891317909,-0.6112915462453651,-0.5668998976559629,-0.5193418900423602,-0.4690927072960468,-0.4166544226408515,-0.3625509820832568,-0.3073229693170945,-0.25152220438996914,-0.19570623009975405,-0.14043274121124805,-0.08625401215443879,-0.03371137888095518],\\\"type\\\":\\\"scatter\\\",\\\"name\\\":\\\"envelope\\\",\\\"x\\\":[1.0,0.9725437284773059,0.9403659562218556,0.9037881928974681,0.8631759114242799,0.8289647944257456,0.8798157587736961,0.9243738122493904,0.9621937455114334,0.9928976742882786,1.0161788150729574,1.0318045504024709,1.0396187530945882,1.0395433462190418,1.0315790832164056,1.0158055403699666,0.9923803217058067,0.9615374842654705,0.9235851994853745,0.8789026740496849,0.8279363609824757,0.7711954988366909,0.7092470235508561,0.642709903812584,0.5722489565280515,0.49856820419123393,0.42240384052386126,0.344516874671107,0.2656855274497639,0.18669745562308887,0.10834188189478904,0.031401709256647994,-0.04335430151937334,-0.11517921308465269,-0.18335537466498894,-0.24720159258991395,-0.3060799365546761,-0.35940211360897206,-0.40663534618564356,-0.44730769543801546,-0.4810127766968491,-0.5074138199316254,-0.526247034645366,-0.5373242455820851,-0.5405347729117419,-0.5358465381065177,-0.523306384458862,-0.5030396090387984,-0.5665830853706254,-0.6442711239108485,-0.7230155704316353,-0.8020296364528029,-0.8805238395452446,-0.957713891578396,-1.032828535067979,-1.1051172493258472,-1.1738577494146074,-1.2383632029799605,-1.2979890928525506,-1.3521396568504682,-1.4002738404380433,-1.4419107027639149,-1.476634222063039,-1.5040974524086492,-1.5240259902812678,-1.5362207163179715,-1.5405597848472417,-1.5369998413306392,-1.5255764555470206,-1.5064037661910679,-1.4796733404371758,-1.4456522598635737,-1.4046804518614793,-1.3571672931929697,-1.3035875196336992,-1.2444764825699541,-1.180424799944563,-1.1120724549976486,-1.0401024017656377,-0.9652337412302903,-0.8882145362993853,-0.8098143374094283,-0.730816493432066,-0.6520103247111076,-0.5741832364345559,-0.4981128511422549,-0.424559238978519,-0.35425732332249565,-0.28790953767669847,-0.22617880718363698,-0.16968192489693143,-0.1189833889890041,-0.0745897624719385,-0.03694461178731281,-0.006424074836934582,0.02020170201726309,0.051237767408682015,0.08675771668708115,0.1264066462606055,0.1697883971311499,0.21646951318411628,0.2659835721386295,0.3178358458847864,0.371508243643399,0.4264644885577991,0.48215547599492126,0.5380247600172879,0.5935141132068752,0.6480691042889556,0.701144637826119,0.7522104006317013,0.8007561604838467,0.8462968641972054,0.8883774841140297,0.9265775645901143,0.9605154230486102,0.9898519636261646,1.0142940653066967,1.0335975106897,1.047569426129778,1.056070208866355,1.0590149218883116,1.0563741425965258,1.0481742567847552,1.0344971950015092,1.0154796139270903]}],{\\\"xaxis\\\":{\\\"range\\\":[-2,2]},\\\"template\\\":{\\\"layout\\\":{\\\"coloraxis\\\":{\\\"colorbar\\\":{\\\"ticks\\\":\\\"\\\",\\\"outlinewidth\\\":0}},\\\"xaxis\\\":{\\\"gridcolor\\\":\\\"white\\\",\\\"zerolinewidth\\\":2,\\\"title\\\":{\\\"standoff\\\":15},\\\"ticks\\\":\\\"\\\",\\\"zerolinecolor\\\":\\\"white\\\",\\\"automargin\\\":true,\\\"linecolor\\\":\\\"white\\\"},\\\"hovermode\\\":\\\"closest\\\",\\\"paper_bgcolor\\\":\\\"white\\\",\\\"geo\\\":{\\\"showlakes\\\":true,\\\"showland\\\":true,\\\"landcolor\\\":\\\"#E5ECF6\\\",\\\"bgcolor\\\":\\\"white\\\",\\\"subunitcolor\\\":\\\"white\\\",\\\"lakecolor\\\":\\\"white\\\"},\\\"colorscale\\\":{\\\"sequential\\\":[[0.0,\\\"#0d0887\\\"],[0.1111111111111111,\\\"#46039f\\\"],[0.2222222222222222,\\\"#7201a8\\\"],[0.3333333333333333,\\\"#9c179e\\\"],[0.4444444444444444,\\\"#bd3786\\\"],[0.5555555555555556,\\\"#d8576b\\\"],[0.6666666666666666,\\\"#ed7953\\\"],[0.7777777777777778,\\\"#fb9f3a\\\"],[0.8888888888888888,\\\"#fdca26\\\"],[1.0,\\\"#f0f921\\\"]],\\\"diverging\\\":[[0,\\\"#8e0152\\\"],[0.1,\\\"#c51b7d\\\"],[0.2,\\\"#de77ae\\\"],[0.3,\\\"#f1b6da\\\"],[0.4,\\\"#fde0ef\\\"],[0.5,\\\"#f7f7f7\\\"],[0.6,\\\"#e6f5d0\\\"],[0.7,\\\"#b8e186\\\"],[0.8,\\\"#7fbc41\\\"],[0.9,\\\"#4d9221\\\"],[1,\\\"#276419\\\"]],\\\"sequentialminus\\\":[[0.0,\\\"#0d0887\\\"],[0.1111111111111111,\\\"#46039f\\\"],[0.2222222222222222,\\\"#7201a8\\\"],[0.3333333333333333,\\\"#9c179e\\\"],[0.4444444444444444,\\\"#bd3786\\\"],[0.5555555555555556,\\\"#d8576b\\\"],[0.6666666666666666,\\\"#ed7953\\\"],[0.7777777777777778,\\\"#fb9f3a\\\"],[0.8888888888888888,\\\"#fdca26\\\"],[1.0,\\\"#f0f921\\\"]]},\\\"yaxis\\\":{\\\"gridcolor\\\":\\\"white\\\",\\\"zerolinewidth\\\":2,\\\"title\\\":{\\\"standoff\\\":15},\\\"ticks\\\":\\\"\\\",\\\"zerolinecolor\\\":\\\"white\\\",\\\"automargin\\\":true,\\\"linecolor\\\":\\\"white\\\"},\\\"shapedefaults\\\":{\\\"line\\\":{\\\"color\\\":\\\"#2a3f5f\\\"}},\\\"hoverlabel\\\":{\\\"align\\\":\\\"left\\\"},\\\"mapbox\\\":{\\\"style\\\":\\\"light\\\"},\\\"polar\\\":{\\\"angularaxis\\\":{\\\"gridcolor\\\":\\\"white\\\",\\\"ticks\\\":\\\"\\\",\\\"linecolor\\\":\\\"white\\\"},\\\"bgcolor\\\":\\\"#E5ECF6\\\",\\\"radialaxis\\\":{\\\"gridcolor\\\":\\\"white\\\",\\\"ticks\\\":\\\"\\\",\\\"linecolor\\\":\\\"white\\\"}},\\\"autotypenumbers\\\":\\\"strict\\\",\\\"font\\\":{\\\"color\\\":\\\"#2a3f5f\\\"},\\\"ternary\\\":{\\\"baxis\\\":{\\\"gridcolor\\\":\\\"white\\\",\\\"ticks\\\":\\\"\\\",\\\"linecolor\\\":\\\"white\\\"},\\\"bgcolor\\\":\\\"#E5ECF6\\\",\\\"caxis\\\":{\\\"gridcolor\\\":\\\"white\\\",\\\"ticks\\\":\\\"\\\",\\\"linecolor\\\":\\\"white\\\"},\\\"aaxis\\\":{\\\"gridcolor\\\":\\\"white\\\",\\\"ticks\\\":\\\"\\\",\\\"linecolor\\\":\\\"white\\\"}},\\\"annotationdefaults\\\":{\\\"arrowhead\\\":0,\\\"arrowwidth\\\":1,\\\"arrowcolor\\\":\\\"#2a3f5f\\\"},\\\"plot_bgcolor\\\":\\\"#E5ECF6\\\",\\\"title\\\":{\\\"x\\\":0.05},\\\"scene\\\":{\\\"xaxis\\\":{\\\"gridcolor\\\":\\\"white\\\",\\\"gridwidth\\\":2,\\\"backgroundcolor\\\":\\\"#E5ECF6\\\",\\\"ticks\\\":\\\"\\\",\\\"showbackground\\\":true,\\\"zerolinecolor\\\":\\\"white\\\",\\\"linecolor\\\":\\\"white\\\"},\\\"zaxis\\\":{\\\"gridcolor\\\":\\\"white\\\",\\\"gridwidth\\\":2,\\\"backgroundcolor\\\":\\\"#E5ECF6\\\",\\\"ticks\\\":\\\"\\\",\\\"showbackground\\\":true,\\\"zerolinecolor\\\":\\\"white\\\",\\\"linecolor\\\":\\\"white\\\"},\\\"yaxis\\\":{\\\"gridcolor\\\":\\\"white\\\",\\\"gridwidth\\\":2,\\\"backgroundcolor\\\":\\\"#E5ECF6\\\",\\\"ticks\\\":\\\"\\\",\\\"showbackground\\\":true,\\\"zerolinecolor\\\":\\\"white\\\",\\\"linecolor\\\":\\\"white\\\"}},\\\"colorway\\\":[\\\"#636efa\\\",\\\"#EF553B\\\",\\\"#00cc96\\\",\\\"#ab63fa\\\",\\\"#FFA15A\\\",\\\"#19d3f3\\\",\\\"#FF6692\\\",\\\"#B6E880\\\",\\\"#FF97FF\\\",\\\"#FECB52\\\"]},\\\"data\\\":{\\\"barpolar\\\":[{\\\"type\\\":\\\"barpolar\\\",\\\"marker\\\":{\\\"line\\\":{\\\"color\\\":\\\"#E5ECF6\\\",\\\"width\\\":0.5}}}],\\\"carpet\\\":[{\\\"aaxis\\\":{\\\"gridcolor\\\":\\\"white\\\",\\\"endlinecolor\\\":\\\"#2a3f5f\\\",\\\"minorgridcolor\\\":\\\"white\\\",\\\"startlinecolor\\\":\\\"#2a3f5f\\\",\\\"linecolor\\\":\\\"white\\\"},\\\"type\\\":\\\"carpet\\\",\\\"baxis\\\":{\\\"gridcolor\\\":\\\"white\\\",\\\"endlinecolor\\\":\\\"#2a3f5f\\\",\\\"minorgridcolor\\\":\\\"white\\\",\\\"startlinecolor\\\":\\\"#2a3f5f\\\",\\\"linecolor\\\":\\\"white\\\"}}],\\\"scatterpolar\\\":[{\\\"type\\\":\\\"scatterpolar\\\",\\\"marker\\\":{\\\"colorbar\\\":{\\\"ticks\\\":\\\"\\\",\\\"outlinewidth\\\":0}}}],\\\"parcoords\\\":[{\\\"line\\\":{\\\"colorbar\\\":{\\\"ticks\\\":\\\"\\\",\\\"outlinewidth\\\":0}},\\\"type\\\":\\\"parcoords\\\"}],\\\"scatter\\\":[{\\\"type\\\":\\\"scatter\\\",\\\"marker\\\":{\\\"colorbar\\\":{\\\"ticks\\\":\\\"\\\",\\\"outlinewidth\\\":0}}}],\\\"histogram2dcontour\\\":[{\\\"colorbar\\\":{\\\"ticks\\\":\\\"\\\",\\\"outlinewidth\\\":0},\\\"type\\\":\\\"histogram2dcontour\\\",\\\"colorscale\\\":[[0.0,\\\"#0d0887\\\"],[0.1111111111111111,\\\"#46039f\\\"],[0.2222222222222222,\\\"#7201a8\\\"],[0.3333333333333333,\\\"#9c179e\\\"],[0.4444444444444444,\\\"#bd3786\\\"],[0.5555555555555556,\\\"#d8576b\\\"],[0.6666666666666666,\\\"#ed7953\\\"],[0.7777777777777778,\\\"#fb9f3a\\\"],[0.8888888888888888,\\\"#fdca26\\\"],[1.0,\\\"#f0f921\\\"]]}],\\\"contour\\\":[{\\\"colorbar\\\":{\\\"ticks\\\":\\\"\\\",\\\"outlinewidth\\\":0},\\\"type\\\":\\\"contour\\\",\\\"colorscale\\\":[[0.0,\\\"#0d0887\\\"],[0.1111111111111111,\\\"#46039f\\\"],[0.2222222222222222,\\\"#7201a8\\\"],[0.3333333333333333,\\\"#9c179e\\\"],[0.4444444444444444,\\\"#bd3786\\\"],[0.5555555555555556,\\\"#d8576b\\\"],[0.6666666666666666,\\\"#ed7953\\\"],[0.7777777777777778,\\\"#fb9f3a\\\"],[0.8888888888888888,\\\"#fdca26\\\"],[1.0,\\\"#f0f921\\\"]]}],\\\"scattercarpet\\\":[{\\\"type\\\":\\\"scattercarpet\\\",\\\"marker\\\":{\\\"colorbar\\\":{\\\"ticks\\\":\\\"\\\",\\\"outlinewidth\\\":0}}}],\\\"mesh3d\\\":[{\\\"colorbar\\\":{\\\"ticks\\\":\\\"\\\",\\\"outlinewidth\\\":0},\\\"type\\\":\\\"mesh3d\\\"}],\\\"surface\\\":[{\\\"colorbar\\\":{\\\"ticks\\\":\\\"\\\",\\\"outlinewidth\\\":0},\\\"type\\\":\\\"surface\\\",\\\"colorscale\\\":[[0.0,\\\"#0d0887\\\"],[0.1111111111111111,\\\"#46039f\\\"],[0.2222222222222222,\\\"#7201a8\\\"],[0.3333333333333333,\\\"#9c179e\\\"],[0.4444444444444444,\\\"#bd3786\\\"],[0.5555555555555556,\\\"#d8576b\\\"],[0.6666666666666666,\\\"#ed7953\\\"],[0.7777777777777778,\\\"#fb9f3a\\\"],[0.8888888888888888,\\\"#fdca26\\\"],[1.0,\\\"#f0f921\\\"]]}],\\\"scattermapbox\\\":[{\\\"type\\\":\\\"scattermapbox\\\",\\\"marker\\\":{\\\"colorbar\\\":{\\\"ticks\\\":\\\"\\\",\\\"outlinewidth\\\":0}}}],\\\"scattergeo\\\":[{\\\"type\\\":\\\"scattergeo\\\",\\\"marker\\\":{\\\"colorbar\\\":{\\\"ticks\\\":\\\"\\\",\\\"outlinewidth\\\":0}}}],\\\"histogram\\\":[{\\\"type\\\":\\\"histogram\\\",\\\"marker\\\":{\\\"colorbar\\\":{\\\"ticks\\\":\\\"\\\",\\\"outlinewidth\\\":0}}}],\\\"pie\\\":[{\\\"type\\\":\\\"pie\\\",\\\"automargin\\\":true}],\\\"choropleth\\\":[{\\\"colorbar\\\":{\\\"ticks\\\":\\\"\\\",\\\"outlinewidth\\\":0},\\\"type\\\":\\\"choropleth\\\"}],\\\"heatmapgl\\\":[{\\\"colorbar\\\":{\\\"ticks\\\":\\\"\\\",\\\"outlinewidth\\\":0},\\\"type\\\":\\\"heatmapgl\\\",\\\"colorscale\\\":[[0.0,\\\"#0d0887\\\"],[0.1111111111111111,\\\"#46039f\\\"],[0.2222222222222222,\\\"#7201a8\\\"],[0.3333333333333333,\\\"#9c179e\\\"],[0.4444444444444444,\\\"#bd3786\\\"],[0.5555555555555556,\\\"#d8576b\\\"],[0.6666666666666666,\\\"#ed7953\\\"],[0.7777777777777778,\\\"#fb9f3a\\\"],[0.8888888888888888,\\\"#fdca26\\\"],[1.0,\\\"#f0f921\\\"]]}],\\\"bar\\\":[{\\\"type\\\":\\\"bar\\\",\\\"error_y\\\":{\\\"color\\\":\\\"#2a3f5f\\\"},\\\"error_x\\\":{\\\"color\\\":\\\"#2a3f5f\\\"},\\\"marker\\\":{\\\"line\\\":{\\\"color\\\":\\\"#E5ECF6\\\",\\\"width\\\":0.5}}}],\\\"heatmap\\\":[{\\\"colorbar\\\":{\\\"ticks\\\":\\\"\\\",\\\"outlinewidth\\\":0},\\\"type\\\":\\\"heatmap\\\",\\\"colorscale\\\":[[0.0,\\\"#0d0887\\\"],[0.1111111111111111,\\\"#46039f\\\"],[0.2222222222222222,\\\"#7201a8\\\"],[0.3333333333333333,\\\"#9c179e\\\"],[0.4444444444444444,\\\"#bd3786\\\"],[0.5555555555555556,\\\"#d8576b\\\"],[0.6666666666666666,\\\"#ed7953\\\"],[0.7777777777777778,\\\"#fb9f3a\\\"],[0.8888888888888888,\\\"#fdca26\\\"],[1.0,\\\"#f0f921\\\"]]}],\\\"contourcarpet\\\":[{\\\"colorbar\\\":{\\\"ticks\\\":\\\"\\\",\\\"outlinewidth\\\":0},\\\"type\\\":\\\"contourcarpet\\\"}],\\\"table\\\":[{\\\"type\\\":\\\"table\\\",\\\"header\\\":{\\\"line\\\":{\\\"color\\\":\\\"white\\\"},\\\"fill\\\":{\\\"color\\\":\\\"#C8D4E3\\\"}},\\\"cells\\\":{\\\"line\\\":{\\\"color\\\":\\\"white\\\"},\\\"fill\\\":{\\\"color\\\":\\\"#EBF0F8\\\"}}}],\\\"scatter3d\\\":[{\\\"line\\\":{\\\"colorbar\\\":{\\\"ticks\\\":\\\"\\\",\\\"outlinewidth\\\":0}},\\\"type\\\":\\\"scatter3d\\\",\\\"marker\\\":{\\\"colorbar\\\":{\\\"ticks\\\":\\\"\\\",\\\"outlinewidth\\\":0}}}],\\\"scattergl\\\":[{\\\"type\\\":\\\"scattergl\\\",\\\"marker\\\":{\\\"colorbar\\\":{\\\"ticks\\\":\\\"\\\",\\\"outlinewidth\\\":0}}}],\\\"histogram2d\\\":[{\\\"colorbar\\\":{\\\"ticks\\\":\\\"\\\",\\\"outlinewidth\\\":0},\\\"type\\\":\\\"histogram2d\\\",\\\"colorscale\\\":[[0.0,\\\"#0d0887\\\"],[0.1111111111111111,\\\"#46039f\\\"],[0.2222222222222222,\\\"#7201a8\\\"],[0.3333333333333333,\\\"#9c179e\\\"],[0.4444444444444444,\\\"#bd3786\\\"],[0.5555555555555556,\\\"#d8576b\\\"],[0.6666666666666666,\\\"#ed7953\\\"],[0.7777777777777778,\\\"#fb9f3a\\\"],[0.8888888888888888,\\\"#fdca26\\\"],[1.0,\\\"#f0f921\\\"]]}],\\\"scatterternary\\\":[{\\\"type\\\":\\\"scatterternary\\\",\\\"marker\\\":{\\\"colorbar\\\":{\\\"ticks\\\":\\\"\\\",\\\"outlinewidth\\\":0}}}],\\\"scatterpolargl\\\":[{\\\"type\\\":\\\"scatterpolargl\\\",\\\"marker\\\":{\\\"colorbar\\\":{\\\"ticks\\\":\\\"\\\",\\\"outlinewidth\\\":0}}}]}},\\\"height\\\":600,\\\"margin\\\":{\\\"l\\\":50,\\\"b\\\":50,\\\"r\\\":50,\\\"t\\\":60},\\\"yaxis\\\":{\\\"range\\\":[-2,2]},\\\"width\\\":600},{\\\"showLink\\\":false,\\\"editable\\\":false,\\\"responsive\\\":true,\\\"staticPlot\\\":false,\\\"scrollZoom\\\":true}); gd.on(\\\"plotly_hover\\\",(function (data){var filtered_data=WebIO.PlotlyCommands.filterEventData(gd,data,\\\"hover\\\"); return !(filtered_data.isnil) ? (WebIO.setval({\\\"name\\\":\\\"hover\\\",\\\"scope\\\":\\\"7446569583535208075\\\",\\\"id\\\":\\\"10260510858179432467\\\",\\\"type\\\":\\\"observable\\\"},filtered_data.out)) : undefined})); gd.on(\\\"plotly_unhover\\\",(function (){return WebIO.setval({\\\"name\\\":\\\"hover\\\",\\\"scope\\\":\\\"7446569583535208075\\\",\\\"id\\\":\\\"10260510858179432467\\\",\\\"type\\\":\\\"observable\\\"},{})})); gd.on(\\\"plotly_selected\\\",(function (data){var filtered_data=WebIO.PlotlyCommands.filterEventData(gd,data,\\\"selected\\\"); return !(filtered_data.isnil) ? (WebIO.setval({\\\"name\\\":\\\"selected\\\",\\\"scope\\\":\\\"7446569583535208075\\\",\\\"id\\\":\\\"6933911218176257469\\\",\\\"type\\\":\\\"observable\\\"},filtered_data.out)) : undefined})); gd.on(\\\"plotly_deselect\\\",(function (){return WebIO.setval({\\\"name\\\":\\\"selected\\\",\\\"scope\\\":\\\"7446569583535208075\\\",\\\"id\\\":\\\"6933911218176257469\\\",\\\"type\\\":\\\"observable\\\"},{})})); gd.on(\\\"plotly_relayout\\\",(function (data){var filtered_data=WebIO.PlotlyCommands.filterEventData(gd,data,\\\"relayout\\\"); return !(filtered_data.isnil) ? (WebIO.setval({\\\"name\\\":\\\"relayout\\\",\\\"scope\\\":\\\"7446569583535208075\\\",\\\"id\\\":\\\"7739601213030322717\\\",\\\"type\\\":\\\"observable\\\"},filtered_data.out)) : undefined})); return gd.on(\\\"plotly_click\\\",(function (data){var filtered_data=WebIO.PlotlyCommands.filterEventData(gd,data,\\\"click\\\"); return !(filtered_data.isnil) ? (WebIO.setval({\\\"name\\\":\\\"click\\\",\\\"scope\\\":\\\"7446569583535208075\\\",\\\"id\\\":\\\"16800876758094747466\\\",\\\"type\\\":\\\"observable\\\"},filtered_data.out)) : undefined}))}));\\n    (WebIO.importBlock({\\\"data\\\":[{\\\"name\\\":\\\"Plotly\\\",\\\"type\\\":\\\"js\\\",\\\"url\\\":\\\"\\/assetserver\\/d66a736669047bda0b2d00471bd5207a90cf3193-plotly.min.js\\\"},{\\\"name\\\":null,\\\"type\\\":\\\"js\\\",\\\"url\\\":\\\"\\/assetserver\\/aee3160e397a4905b07437c5af565305d1ef6def-plotly_webio.bundle.js\\\"}],\\\"type\\\":\\\"async_block\\\"})).then((imports) => handler.apply(this, imports));\\n}\\n\"],\"observables\":{\"_toImage\":{\"sync\":false,\"id\":\"17696211900950698249\",\"value\":{}},\"hover\":{\"sync\":false,\"id\":\"10260510858179432467\",\"value\":{}},\"selected\":{\"sync\":false,\"id\":\"6933911218176257469\",\"value\":{}},\"__gd_contents\":{\"sync\":false,\"id\":\"7002829410196245967\",\"value\":{}},\"click\":{\"sync\":false,\"id\":\"16800876758094747466\",\"value\":{}},\"image\":{\"sync\":true,\"id\":\"15758191958090733928\",\"value\":\"\"},\"__get_gd_contents\":{\"sync\":false,\"id\":\"11977306127965196110\",\"value\":\"\"},\"_downloadImage\":{\"sync\":false,\"id\":\"14474263655321365786\",\"value\":{}},\"relayout\":{\"sync\":false,\"id\":\"7739601213030322717\",\"value\":{}},\"_commands\":{\"sync\":false,\"id\":\"11217295657240976564\",\"value\":[]}}},\"children\":[{\"props\":{\"id\":\"plot-fa84ac42-f7d8-4a45-a9a9-2d568aab1bda\"},\"nodeType\":\"DOM\",\"type\":\"node\",\"instanceArgs\":{\"namespace\":\"html\",\"tag\":\"div\"},\"children\":[]}]},\n",
       "        window,\n",
       "    );\n",
       "    })()\n",
       "    </script>\n",
       "</div>\n"
      ],
      "text/plain": [
       "data: [\n",
       "  \"scatter with fields type, x, and y\",\n",
       "  \"scatter with fields name, type, x, and y\"\n",
       "]\n",
       "\n",
       "layout: \"layout with fields height, margin, template, width, xaxis, and yaxis\"\n",
       "\n"
      ]
     },
     "execution_count": 14,
     "metadata": {},
     "output_type": "execute_result"
    }
   ],
   "source": [
    "a = Point(-1.5,-0.5)#+Point(10,10)\n",
    "b = Point(0.5,1.5)\n",
    "c = Point(1.0,-0.5)\n",
    "t = Triangle(a,b,c)\n",
    "\n",
    "pt = plotgeometry(t)\n",
    "pe = plotenvelopeP(Prim(t))\n",
    "plot([pt,pe], layout)"
   ]
  },
  {
   "cell_type": "markdown",
   "id": "fa6b7714-7762-4e83-a416-05eca88ee60b",
   "metadata": {},
   "source": [
    "Our function for the envelope works on our primitives, but we need to extend it for the actual diagrams.\n",
    "\n",
    "As we've said, it's a simple max over all envelopes."
   ]
  },
  {
   "cell_type": "code",
   "execution_count": 15,
   "id": "c207f5c0-f390-41cb-9b29-dbd322293b21",
   "metadata": {},
   "outputs": [
    {
     "data": {
      "application/vnd.plotly.v1+json": {
       "config": {
        "editable": false,
        "responsive": true,
        "scrollZoom": true,
        "showLink": false,
        "staticPlot": false
       },
       "data": [
        {
         "type": "scatter",
         "x": [
          0,
          1,
          1,
          0
         ],
         "y": [
          0,
          1,
          0,
          0
         ]
        },
        {
         "type": "scatter",
         "x": [
          0,
          -1,
          -1,
          0
         ],
         "y": [
          0,
          -1,
          0,
          0
         ]
        },
        {
         "type": "scatter",
         "x": [
          0.5,
          -0.5,
          -0.5,
          0.5,
          0.5
         ],
         "y": [
          0.5,
          0.5,
          -0.5,
          -0.5,
          0.5
         ]
        },
        {
         "type": "scatter",
         "x": [
          1.2246467991473532e-16,
          -0.09956784659581648,
          -0.19814614319939736,
          -0.29475517441090393,
          -0.3884347962746944,
          -0.47825397862131824,
          -0.5633200580636216,
          -0.6427876096865393,
          -0.7158668492597183,
          -0.7818314824680297,
          -0.8400259231507715,
          -0.8898718088114684,
          -0.930873748644204,
          -0.9626242469500119,
          -0.984807753012208,
          -0.9972037971811801,
          -0.9996891820008162,
          -0.9922392066001722,
          -0.9749279121818236,
          -0.9479273461671317,
          -0.9115058523116732,
          -0.866025403784439,
          -0.8119380057158567,
          -0.7497812029677342,
          -0.6801727377709198,
          -0.6038044103254782,
          -0.5214352033794986,
          -0.43388373911755834,
          -0.3420201433256686,
          -0.24675739769029395,
          -0.14904226617617528,
          -0.0498458856606976,
          0.049845885660697115,
          0.14904226617617478,
          0.24675739769029262,
          0.3420201433256681,
          0.4338837391175579,
          0.5214352033794982,
          0.603804410325477,
          0.6801727377709194,
          0.7497812029677339,
          0.8119380057158564,
          0.8660254037844384,
          0.911505852311673,
          0.9479273461671315,
          0.9749279121818235,
          0.992239206600172,
          0.9996891820008162,
          0.9972037971811802,
          0.9848077530122081,
          0.9626242469500126,
          0.9308737486442048,
          0.8898718088114691,
          0.8400259231507718,
          0.78183148246803,
          0.7158668492597183,
          0.642787609686539,
          0.5633200580636213,
          0.4782539786213187,
          0.38843479627469485,
          0.2947551744109057,
          0.19814614319939872,
          0.09956784659581741,
          3.6739403974420594e-16,
          1.2246467991473532e-16
         ],
         "y": [
          -1,
          -0.9950307753654014,
          -0.9801724878485439,
          -0.9555728057861408,
          -0.9214762118704077,
          -0.8782215733702285,
          -0.8262387743159951,
          -0.7660444431189781,
          -0.698236818086073,
          -0.6234898018587337,
          -0.5425462638657592,
          -0.4562106573531632,
          -0.3653410243663957,
          -0.2708404681430055,
          -0.17364817766693033,
          -0.07473009358642473,
          0.02493069173807279,
          0.1243437046474846,
          0.22252093395631423,
          0.3184866502516846,
          0.4112871031306113,
          0.49999999999999933,
          0.5837436722347895,
          0.6616858375968594,
          0.733051871829826,
          0.7971325072229218,
          0.8532908816321554,
          0.900968867902419,
          0.9396926207859084,
          0.9690772862290778,
          0.9888308262251284,
          0.9987569212189223,
          0.9987569212189223,
          0.9888308262251285,
          0.9690772862290782,
          0.9396926207859086,
          0.9009688679024193,
          0.8532908816321556,
          0.7971325072229227,
          0.7330518718298263,
          0.6616858375968597,
          0.58374367223479,
          0.5000000000000006,
          0.41128710313061173,
          0.3184866502516851,
          0.2225209339563147,
          0.12434370464748597,
          0.024930691738073277,
          -0.07473009358642335,
          -0.17364817766692986,
          -0.2708404681430033,
          -0.3653410243663936,
          -0.45621065735316196,
          -0.5425462638657588,
          -0.6234898018587333,
          -0.6982368180860729,
          -0.7660444431189783,
          -0.8262387743159954,
          -0.8782215733702283,
          -0.9214762118704076,
          -0.9555728057861402,
          -0.9801724878485436,
          -0.9950307753654013,
          -1,
          -1
         ]
        },
        {
         "name": "envelope",
         "type": "scatter",
         "x": [
          1,
          1.047418790962427,
          1.0893679543181516,
          1.125428347893473,
          1.1552396681557677,
          1.178504050247288,
          1.1949890441523567,
          1.2045299372610896,
          1.2070314001233442,
          1.2024684389490738,
          1.1908866453380182,
          1.1724017407435063,
          1.1471984202219498,
          1.1155285070208905,
          1.0777084364443505,
          1.0341160941358787,
          0.9851870403701082,
          0.931410158078472,
          0.8733227680925539,
          0.8115052604119555,
          0.7465752951392698,
          0.6791816310245081,
          0.6099976432821221,
          0.5397145954484479,
          0.4690347325049524,
          0.39866426427851137,
          0.3293063092262584,
          0.2616538691083843,
          0.19638290474362324,
          0.1341455820321957,
          0.07556375572971089,
          0.02122275608000551,
          -0.02919328908964114,
          -0.07908684288781058,
          -0.12881769583538694,
          -0.1781679540943826,
          -0.22715606740393743,
          -0.275467305231034,
          -0.323225799109613,
          -0.37001272860492534,
          -0.41606694413511236,
          -0.4608595891237784,
          -0.5047518057733642,
          -0.5471002227309669,
          -0.5883942075163019,
          -0.6278730052656926,
          -0.6661583483557735,
          -0.7023709611347922,
          -0.737267154805654,
          -0.7698498257826549,
          -0.8010100461824063,
          -0.8296354814050457,
          -0.8567500355435828,
          -0.881130691616839,
          -0.9039300953215125,
          -0.9238210677901122,
          -0.942078724036366,
          -0.9572802074577227,
          -0.9708146584554848,
          -0.9811739534516384,
          -0.9898506841045842,
          -0.9952637312322443,
          -0.9989965060458391,
          -1.0083362684338828,
          -1.0548670618043434,
          -1.0958538069079196,
          -1.130886977735954,
          -1.159616534425959,
          -1.1817554207442167,
          -1.1970824322567786,
          -1.2054444265310469,
          -1.2067578532843413,
          -1.201009589190704,
          -1.1882570690048349,
          -1.1686277116930086,
          -1.1423176473048824,
          -1.109589757306871,
          -1.0707710479574326,
          -1.0262493829686268,
          -0.9764696081001175,
          -0.9219291064073842,
          -0.8631728285546476,
          -0.8007878478479682,
          -0.7353974943928362,
          -0.6676551269857974,
          -0.5982376049693333,
          -0.5278385252770504,
          -0.4571612922423911,
          -0.38691208941505284,
          -0.31779282360838623,
          -0.2504941116785398,
          -0.18568838010912012,
          -0.12402314634804099,
          -0.06611454902722912,
          -0.012541191709075644,
          0.03757556023090465,
          0.08749255475630065,
          0.1370787173415201,
          0.18649926285693913,
          0.23521022051070964,
          0.28364313942709934,
          0.3309895890513355,
          0.3779535195755907,
          0.4234598645981768,
          0.4684880448603721,
          0.5116971726176573,
          0.5543420796930981,
          0.5948199531409429,
          0.6346577508610107,
          0.6719977684905156,
          0.7086325198366986,
          0.7424595999991195,
          0.7755272022143523,
          0.8055015508280291,
          0.834673354135321,
          0.8604938779278937,
          0.885479951890775,
          0.9068872828905498,
          0.9274392979518541,
          0.9442183988472183,
          0.96013209440738,
          0.9721144186033448,
          0.9832316331086547,
          0.9902968177826893,
          0.9965070606470341,
          0.9988991395892903
         ],
         "y": [
          0,
          0.0524146256844012,
          0.1093013764769098,
          0.17009185876786684,
          0.23417867415288268,
          0.30092148835691523,
          0.3696534292426786,
          0.4396877499766013,
          0.5103246907761787,
          0.5808584706784096,
          0.6505843394698784,
          0.7188056193179291,
          0.7848406657452766,
          0.8480296783963029,
          0.9077412935441098,
          0.9633788924681757,
          1.014386562671397,
          1.0602546523739969,
          1.100524862785641,
          1.1347948272754589,
          1.162722131686412,
          1.1840277356243658,
          1.198498760537468,
          1.2059906167282726,
          1.206428448046198,
          1.199807879825445,
          1.1861950625952056,
          1.1657260111254457,
          1.1386052454122817,
          1.1051037471817864,
          1.0655562523301563,
          1.020357906353285,
          0.9993602244197284,
          0.996436074906401,
          0.9914585533668369,
          0.9835547966171938,
          0.9736503458727258,
          0.9608463753713216,
          0.946113433253485,
          0.9285378652857692,
          0.9091228587206239,
          0.8869522404183195,
          0.8630481301263941,
          0.8365051660460183,
          0.8083495287550984,
          0.7777008438037043,
          0.7455735110348595,
          0.7111269722144795,
          0.6753472491088369,
          0.6374488729827865,
          0.5983723648104264,
          0.5574028417560679,
          0.5154179196475497,
          0.4717887898095075,
          0.42731273083622107,
          0.3814622501927152,
          0.33493709015880346,
          0.28732582822659547,
          0.2392139683904832,
          0.19032018178963006,
          0.14109979317881746,
          0.09141462152991527,
          0.041574892524366816,
          -0.008477632050467736,
          -0.06168214304615052,
          -0.11926618117989601,
          -0.1806543857774247,
          -0.24523338619063953,
          -0.3123579303943921,
          -0.38135733213142164,
          -0.4515421721877422,
          -0.5222111868415352,
          -0.5926582746584493,
          -0.6621795516237301,
          -0.7300803841186183,
          -0.7956823294698565,
          -0.8583299147246161,
          -0.9173971859195681,
          -0.9722939624059781,
          -1.0224717337396545,
          -1.0674291402159977,
          -1.1067169822904388,
          -1.1399427088318044,
          -1.166774339363457,
          -1.186943781102483,
          -1.2002495076541568,
          -1.206558572597063,
          -1.205807937839791,
          -1.198005103476709,
          -1.1832280328494986,
          -1.1616243735632168,
          -1.133409982240232,
          -1.098866767752205,
          -1.058339874479833,
          -1.0122342337442822,
          -0.9985860780981893,
          -0.9960914191097391,
          -0.9898360341448245,
          -0.9823835738807246,
          -0.9711960824085637,
          -0.958859889252202,
          -0.9428526699756739,
          -0.9257553504313959,
          -0.9050891963704089,
          -0.8834006765060753,
          -0.8582831798266348,
          -0.8322190164195316,
          -0.8029024831639204,
          -0.7727217213351418,
          -0.7395006369998081,
          -0.7055032356295566,
          -0.6687113070490603,
          -0.6312351575610368,
          -0.5912419608124289,
          -0.5506595289568585,
          -0.5078667969563858,
          -0.46458142096816635,
          -0.4194190080515254,
          -0.37386088997516503,
          -0.3267824539972113,
          -0.2794043840197541,
          -0.23088282934711415,
          -0.1821556856338299,
          -0.13267841280570317,
          -0.08308648156451304,
          -0.03316094867560034
         ]
        }
       ],
       "frames": [],
       "layout": {
        "height": 600,
        "margin": {
         "b": 50,
         "l": 50,
         "r": 50,
         "t": 60
        },
        "template": {
         "data": {
          "bar": [
           {
            "error_x": {
             "color": "#2a3f5f"
            },
            "error_y": {
             "color": "#2a3f5f"
            },
            "marker": {
             "line": {
              "color": "#E5ECF6",
              "width": 0.5
             }
            },
            "type": "bar"
           }
          ],
          "barpolar": [
           {
            "marker": {
             "line": {
              "color": "#E5ECF6",
              "width": 0.5
             }
            },
            "type": "barpolar"
           }
          ],
          "carpet": [
           {
            "aaxis": {
             "endlinecolor": "#2a3f5f",
             "gridcolor": "white",
             "linecolor": "white",
             "minorgridcolor": "white",
             "startlinecolor": "#2a3f5f"
            },
            "baxis": {
             "endlinecolor": "#2a3f5f",
             "gridcolor": "white",
             "linecolor": "white",
             "minorgridcolor": "white",
             "startlinecolor": "#2a3f5f"
            },
            "type": "carpet"
           }
          ],
          "choropleth": [
           {
            "colorbar": {
             "outlinewidth": 0,
             "ticks": ""
            },
            "type": "choropleth"
           }
          ],
          "contour": [
           {
            "colorbar": {
             "outlinewidth": 0,
             "ticks": ""
            },
            "colorscale": [
             [
              0,
              "#0d0887"
             ],
             [
              0.1111111111111111,
              "#46039f"
             ],
             [
              0.2222222222222222,
              "#7201a8"
             ],
             [
              0.3333333333333333,
              "#9c179e"
             ],
             [
              0.4444444444444444,
              "#bd3786"
             ],
             [
              0.5555555555555556,
              "#d8576b"
             ],
             [
              0.6666666666666666,
              "#ed7953"
             ],
             [
              0.7777777777777778,
              "#fb9f3a"
             ],
             [
              0.8888888888888888,
              "#fdca26"
             ],
             [
              1,
              "#f0f921"
             ]
            ],
            "type": "contour"
           }
          ],
          "contourcarpet": [
           {
            "colorbar": {
             "outlinewidth": 0,
             "ticks": ""
            },
            "type": "contourcarpet"
           }
          ],
          "heatmap": [
           {
            "colorbar": {
             "outlinewidth": 0,
             "ticks": ""
            },
            "colorscale": [
             [
              0,
              "#0d0887"
             ],
             [
              0.1111111111111111,
              "#46039f"
             ],
             [
              0.2222222222222222,
              "#7201a8"
             ],
             [
              0.3333333333333333,
              "#9c179e"
             ],
             [
              0.4444444444444444,
              "#bd3786"
             ],
             [
              0.5555555555555556,
              "#d8576b"
             ],
             [
              0.6666666666666666,
              "#ed7953"
             ],
             [
              0.7777777777777778,
              "#fb9f3a"
             ],
             [
              0.8888888888888888,
              "#fdca26"
             ],
             [
              1,
              "#f0f921"
             ]
            ],
            "type": "heatmap"
           }
          ],
          "heatmapgl": [
           {
            "colorbar": {
             "outlinewidth": 0,
             "ticks": ""
            },
            "colorscale": [
             [
              0,
              "#0d0887"
             ],
             [
              0.1111111111111111,
              "#46039f"
             ],
             [
              0.2222222222222222,
              "#7201a8"
             ],
             [
              0.3333333333333333,
              "#9c179e"
             ],
             [
              0.4444444444444444,
              "#bd3786"
             ],
             [
              0.5555555555555556,
              "#d8576b"
             ],
             [
              0.6666666666666666,
              "#ed7953"
             ],
             [
              0.7777777777777778,
              "#fb9f3a"
             ],
             [
              0.8888888888888888,
              "#fdca26"
             ],
             [
              1,
              "#f0f921"
             ]
            ],
            "type": "heatmapgl"
           }
          ],
          "histogram": [
           {
            "marker": {
             "colorbar": {
              "outlinewidth": 0,
              "ticks": ""
             }
            },
            "type": "histogram"
           }
          ],
          "histogram2d": [
           {
            "colorbar": {
             "outlinewidth": 0,
             "ticks": ""
            },
            "colorscale": [
             [
              0,
              "#0d0887"
             ],
             [
              0.1111111111111111,
              "#46039f"
             ],
             [
              0.2222222222222222,
              "#7201a8"
             ],
             [
              0.3333333333333333,
              "#9c179e"
             ],
             [
              0.4444444444444444,
              "#bd3786"
             ],
             [
              0.5555555555555556,
              "#d8576b"
             ],
             [
              0.6666666666666666,
              "#ed7953"
             ],
             [
              0.7777777777777778,
              "#fb9f3a"
             ],
             [
              0.8888888888888888,
              "#fdca26"
             ],
             [
              1,
              "#f0f921"
             ]
            ],
            "type": "histogram2d"
           }
          ],
          "histogram2dcontour": [
           {
            "colorbar": {
             "outlinewidth": 0,
             "ticks": ""
            },
            "colorscale": [
             [
              0,
              "#0d0887"
             ],
             [
              0.1111111111111111,
              "#46039f"
             ],
             [
              0.2222222222222222,
              "#7201a8"
             ],
             [
              0.3333333333333333,
              "#9c179e"
             ],
             [
              0.4444444444444444,
              "#bd3786"
             ],
             [
              0.5555555555555556,
              "#d8576b"
             ],
             [
              0.6666666666666666,
              "#ed7953"
             ],
             [
              0.7777777777777778,
              "#fb9f3a"
             ],
             [
              0.8888888888888888,
              "#fdca26"
             ],
             [
              1,
              "#f0f921"
             ]
            ],
            "type": "histogram2dcontour"
           }
          ],
          "mesh3d": [
           {
            "colorbar": {
             "outlinewidth": 0,
             "ticks": ""
            },
            "type": "mesh3d"
           }
          ],
          "parcoords": [
           {
            "line": {
             "colorbar": {
              "outlinewidth": 0,
              "ticks": ""
             }
            },
            "type": "parcoords"
           }
          ],
          "pie": [
           {
            "automargin": true,
            "type": "pie"
           }
          ],
          "scatter": [
           {
            "marker": {
             "colorbar": {
              "outlinewidth": 0,
              "ticks": ""
             }
            },
            "type": "scatter"
           }
          ],
          "scatter3d": [
           {
            "line": {
             "colorbar": {
              "outlinewidth": 0,
              "ticks": ""
             }
            },
            "marker": {
             "colorbar": {
              "outlinewidth": 0,
              "ticks": ""
             }
            },
            "type": "scatter3d"
           }
          ],
          "scattercarpet": [
           {
            "marker": {
             "colorbar": {
              "outlinewidth": 0,
              "ticks": ""
             }
            },
            "type": "scattercarpet"
           }
          ],
          "scattergeo": [
           {
            "marker": {
             "colorbar": {
              "outlinewidth": 0,
              "ticks": ""
             }
            },
            "type": "scattergeo"
           }
          ],
          "scattergl": [
           {
            "marker": {
             "colorbar": {
              "outlinewidth": 0,
              "ticks": ""
             }
            },
            "type": "scattergl"
           }
          ],
          "scattermapbox": [
           {
            "marker": {
             "colorbar": {
              "outlinewidth": 0,
              "ticks": ""
             }
            },
            "type": "scattermapbox"
           }
          ],
          "scatterpolar": [
           {
            "marker": {
             "colorbar": {
              "outlinewidth": 0,
              "ticks": ""
             }
            },
            "type": "scatterpolar"
           }
          ],
          "scatterpolargl": [
           {
            "marker": {
             "colorbar": {
              "outlinewidth": 0,
              "ticks": ""
             }
            },
            "type": "scatterpolargl"
           }
          ],
          "scatterternary": [
           {
            "marker": {
             "colorbar": {
              "outlinewidth": 0,
              "ticks": ""
             }
            },
            "type": "scatterternary"
           }
          ],
          "surface": [
           {
            "colorbar": {
             "outlinewidth": 0,
             "ticks": ""
            },
            "colorscale": [
             [
              0,
              "#0d0887"
             ],
             [
              0.1111111111111111,
              "#46039f"
             ],
             [
              0.2222222222222222,
              "#7201a8"
             ],
             [
              0.3333333333333333,
              "#9c179e"
             ],
             [
              0.4444444444444444,
              "#bd3786"
             ],
             [
              0.5555555555555556,
              "#d8576b"
             ],
             [
              0.6666666666666666,
              "#ed7953"
             ],
             [
              0.7777777777777778,
              "#fb9f3a"
             ],
             [
              0.8888888888888888,
              "#fdca26"
             ],
             [
              1,
              "#f0f921"
             ]
            ],
            "type": "surface"
           }
          ],
          "table": [
           {
            "cells": {
             "fill": {
              "color": "#EBF0F8"
             },
             "line": {
              "color": "white"
             }
            },
            "header": {
             "fill": {
              "color": "#C8D4E3"
             },
             "line": {
              "color": "white"
             }
            },
            "type": "table"
           }
          ]
         },
         "layout": {
          "annotationdefaults": {
           "arrowcolor": "#2a3f5f",
           "arrowhead": 0,
           "arrowwidth": 1
          },
          "autotypenumbers": "strict",
          "coloraxis": {
           "colorbar": {
            "outlinewidth": 0,
            "ticks": ""
           }
          },
          "colorscale": {
           "diverging": [
            [
             0,
             "#8e0152"
            ],
            [
             0.1,
             "#c51b7d"
            ],
            [
             0.2,
             "#de77ae"
            ],
            [
             0.3,
             "#f1b6da"
            ],
            [
             0.4,
             "#fde0ef"
            ],
            [
             0.5,
             "#f7f7f7"
            ],
            [
             0.6,
             "#e6f5d0"
            ],
            [
             0.7,
             "#b8e186"
            ],
            [
             0.8,
             "#7fbc41"
            ],
            [
             0.9,
             "#4d9221"
            ],
            [
             1,
             "#276419"
            ]
           ],
           "sequential": [
            [
             0,
             "#0d0887"
            ],
            [
             0.1111111111111111,
             "#46039f"
            ],
            [
             0.2222222222222222,
             "#7201a8"
            ],
            [
             0.3333333333333333,
             "#9c179e"
            ],
            [
             0.4444444444444444,
             "#bd3786"
            ],
            [
             0.5555555555555556,
             "#d8576b"
            ],
            [
             0.6666666666666666,
             "#ed7953"
            ],
            [
             0.7777777777777778,
             "#fb9f3a"
            ],
            [
             0.8888888888888888,
             "#fdca26"
            ],
            [
             1,
             "#f0f921"
            ]
           ],
           "sequentialminus": [
            [
             0,
             "#0d0887"
            ],
            [
             0.1111111111111111,
             "#46039f"
            ],
            [
             0.2222222222222222,
             "#7201a8"
            ],
            [
             0.3333333333333333,
             "#9c179e"
            ],
            [
             0.4444444444444444,
             "#bd3786"
            ],
            [
             0.5555555555555556,
             "#d8576b"
            ],
            [
             0.6666666666666666,
             "#ed7953"
            ],
            [
             0.7777777777777778,
             "#fb9f3a"
            ],
            [
             0.8888888888888888,
             "#fdca26"
            ],
            [
             1,
             "#f0f921"
            ]
           ]
          },
          "colorway": [
           "#636efa",
           "#EF553B",
           "#00cc96",
           "#ab63fa",
           "#FFA15A",
           "#19d3f3",
           "#FF6692",
           "#B6E880",
           "#FF97FF",
           "#FECB52"
          ],
          "font": {
           "color": "#2a3f5f"
          },
          "geo": {
           "bgcolor": "white",
           "lakecolor": "white",
           "landcolor": "#E5ECF6",
           "showlakes": true,
           "showland": true,
           "subunitcolor": "white"
          },
          "hoverlabel": {
           "align": "left"
          },
          "hovermode": "closest",
          "mapbox": {
           "style": "light"
          },
          "paper_bgcolor": "white",
          "plot_bgcolor": "#E5ECF6",
          "polar": {
           "angularaxis": {
            "gridcolor": "white",
            "linecolor": "white",
            "ticks": ""
           },
           "bgcolor": "#E5ECF6",
           "radialaxis": {
            "gridcolor": "white",
            "linecolor": "white",
            "ticks": ""
           }
          },
          "scene": {
           "xaxis": {
            "backgroundcolor": "#E5ECF6",
            "gridcolor": "white",
            "gridwidth": 2,
            "linecolor": "white",
            "showbackground": true,
            "ticks": "",
            "zerolinecolor": "white"
           },
           "yaxis": {
            "backgroundcolor": "#E5ECF6",
            "gridcolor": "white",
            "gridwidth": 2,
            "linecolor": "white",
            "showbackground": true,
            "ticks": "",
            "zerolinecolor": "white"
           },
           "zaxis": {
            "backgroundcolor": "#E5ECF6",
            "gridcolor": "white",
            "gridwidth": 2,
            "linecolor": "white",
            "showbackground": true,
            "ticks": "",
            "zerolinecolor": "white"
           }
          },
          "shapedefaults": {
           "line": {
            "color": "#2a3f5f"
           }
          },
          "ternary": {
           "aaxis": {
            "gridcolor": "white",
            "linecolor": "white",
            "ticks": ""
           },
           "baxis": {
            "gridcolor": "white",
            "linecolor": "white",
            "ticks": ""
           },
           "bgcolor": "#E5ECF6",
           "caxis": {
            "gridcolor": "white",
            "linecolor": "white",
            "ticks": ""
           }
          },
          "title": {
           "x": 0.05
          },
          "xaxis": {
           "automargin": true,
           "gridcolor": "white",
           "linecolor": "white",
           "ticks": "",
           "title": {
            "standoff": 15
           },
           "zerolinecolor": "white",
           "zerolinewidth": 2
          },
          "yaxis": {
           "automargin": true,
           "gridcolor": "white",
           "linecolor": "white",
           "ticks": "",
           "title": {
            "standoff": 15
           },
           "zerolinecolor": "white",
           "zerolinewidth": 2
          }
         }
        },
        "width": 600,
        "xaxis": {
         "autorange": false,
         "range": [
          -1.3996760798337933,
          1.7449811229297287
         ],
         "type": "linear"
        },
        "yaxis": {
         "autorange": false,
         "range": [
          7.6963814306729805,
          10.841038633436503
         ],
         "type": "linear"
        }
       }
      },
      "image/png": "[encoded data removed]",
      "text/html": [
       "<div\n",
       "    class=\"webio-mountpoint\"\n",
       "    data-webio-mountpoint=\"11630201184526126694\"\n",
       ">\n",
       "    <script>\n",
       "    (function(){\n",
       "    // Some integrations (namely, IJulia/Jupyter) use an alternate render pathway than\n",
       "    // just putting the html on the page. If WebIO isn't defined, then it's pretty likely\n",
       "    // that we're in one of those situations and the integration just isn't installed\n",
       "    // correctly.\n",
       "    if (typeof window.WebIO === \"undefined\") {\n",
       "        document\n",
       "            .querySelector('[data-webio-mountpoint=\"11630201184526126694\"]')\n",
       "            .innerHTML = (\n",
       "                '<div style=\"padding: 1em; background-color: #f8d6da; border: 1px solid #f5c6cb; font-weight: bold;\">' +\n",
       "                '<p><strong>WebIO not detected.</strong></p>' +\n",
       "                '<p>Please read ' +\n",
       "                '<a href=\"https://juliagizmos.github.io/WebIO.jl/latest/troubleshooting/not-detected/\" target=\"_blank\">the troubleshooting guide</a> ' +\n",
       "                'for more information on how to resolve this issue.</p>' +\n",
       "                '<p><a href=\"https://juliagizmos.github.io/WebIO.jl/latest/troubleshooting/not-detected/\" target=\"_blank\">https://juliagizmos.github.io/WebIO.jl/latest/troubleshooting/not-detected/</a></p>' +\n",
       "                '</div>'\n",
       "            );\n",
       "        return;\n",
       "    }\n",
       "    WebIO.mount(\n",
       "        document.querySelector('[data-webio-mountpoint=\"11630201184526126694\"]'),\n",
       "        {\"props\":{},\"nodeType\":\"Scope\",\"type\":\"node\",\"instanceArgs\":{\"imports\":{\"data\":[{\"name\":\"Plotly\",\"type\":\"js\",\"url\":\"\\/assetserver\\/d66a736669047bda0b2d00471bd5207a90cf3193-plotly.min.js\"},{\"name\":null,\"type\":\"js\",\"url\":\"\\/assetserver\\/aee3160e397a4905b07437c5af565305d1ef6def-plotly_webio.bundle.js\"}],\"type\":\"async_block\"},\"id\":\"18215847066911970405\",\"handlers\":{\"_toImage\":[\"(function (options){return this.Plotly.toImage(this.plotElem,options).then((function (data){return WebIO.setval({\\\"name\\\":\\\"image\\\",\\\"scope\\\":\\\"18215847066911970405\\\",\\\"id\\\":\\\"893560942646983968\\\",\\\"type\\\":\\\"observable\\\"},data)}))})\"],\"__get_gd_contents\":[\"(function (prop){prop==\\\"data\\\" ? (WebIO.setval({\\\"name\\\":\\\"__gd_contents\\\",\\\"scope\\\":\\\"18215847066911970405\\\",\\\"id\\\":\\\"2353737063895543096\\\",\\\"type\\\":\\\"observable\\\"},this.plotElem.data)) : undefined; return prop==\\\"layout\\\" ? (WebIO.setval({\\\"name\\\":\\\"__gd_contents\\\",\\\"scope\\\":\\\"18215847066911970405\\\",\\\"id\\\":\\\"2353737063895543096\\\",\\\"type\\\":\\\"observable\\\"},this.plotElem.layout)) : undefined})\"],\"_downloadImage\":[\"(function (options){return this.Plotly.downloadImage(this.plotElem,options)})\"],\"_commands\":[\"(function (args){var fn=args.shift(); var elem=this.plotElem; var Plotly=this.Plotly; args.unshift(elem); return Plotly[fn].apply(this,args)})\"]},\"systemjs_options\":null,\"mount_callbacks\":[\"function () {\\n    var handler = ((function (Plotly,PlotlyWebIO){PlotlyWebIO.init(WebIO); var gd=this.dom.querySelector(\\\"#plot-c6f7287c-ebdc-4f69-9084-5abf7093f3c2\\\"); this.plotElem=gd; this.Plotly=Plotly; (window.Blink!==undefined) ? (gd.style.width=\\\"100%\\\", gd.style.height=\\\"100vh\\\", gd.style.marginLeft=\\\"0%\\\", gd.style.marginTop=\\\"0vh\\\") : undefined; window.onresize=(function (){return Plotly.Plots.resize(gd)}); Plotly.newPlot(gd,[{\\\"y\\\":[0,1,0,0],\\\"type\\\":\\\"scatter\\\",\\\"x\\\":[0,1,1,0]},{\\\"y\\\":[0,-1,0,0],\\\"type\\\":\\\"scatter\\\",\\\"x\\\":[0,-1,-1,0]},{\\\"y\\\":[0.5,0.5,-0.5,-0.5,0.5],\\\"type\\\":\\\"scatter\\\",\\\"x\\\":[0.5,-0.5,-0.5,0.5,0.5]},{\\\"y\\\":[-1.0,-0.9950307753654014,-0.9801724878485439,-0.9555728057861408,-0.9214762118704077,-0.8782215733702285,-0.8262387743159951,-0.7660444431189781,-0.698236818086073,-0.6234898018587337,-0.5425462638657592,-0.4562106573531632,-0.3653410243663957,-0.2708404681430055,-0.17364817766693033,-0.07473009358642473,0.02493069173807279,0.1243437046474846,0.22252093395631423,0.3184866502516846,0.4112871031306113,0.49999999999999933,0.5837436722347895,0.6616858375968594,0.733051871829826,0.7971325072229218,0.8532908816321554,0.900968867902419,0.9396926207859084,0.9690772862290778,0.9888308262251284,0.9987569212189223,0.9987569212189223,0.9888308262251285,0.9690772862290782,0.9396926207859086,0.9009688679024193,0.8532908816321556,0.7971325072229227,0.7330518718298263,0.6616858375968597,0.58374367223479,0.5000000000000006,0.41128710313061173,0.3184866502516851,0.2225209339563147,0.12434370464748597,0.024930691738073277,-0.07473009358642335,-0.17364817766692986,-0.2708404681430033,-0.3653410243663936,-0.45621065735316196,-0.5425462638657588,-0.6234898018587333,-0.6982368180860729,-0.7660444431189783,-0.8262387743159954,-0.8782215733702283,-0.9214762118704076,-0.9555728057861402,-0.9801724878485436,-0.9950307753654013,-1.0,-1.0],\\\"type\\\":\\\"scatter\\\",\\\"x\\\":[1.2246467991473532e-16,-0.09956784659581648,-0.19814614319939736,-0.29475517441090393,-0.3884347962746944,-0.47825397862131824,-0.5633200580636216,-0.6427876096865393,-0.7158668492597183,-0.7818314824680297,-0.8400259231507715,-0.8898718088114684,-0.930873748644204,-0.9626242469500119,-0.984807753012208,-0.9972037971811801,-0.9996891820008162,-0.9922392066001722,-0.9749279121818236,-0.9479273461671317,-0.9115058523116732,-0.866025403784439,-0.8119380057158567,-0.7497812029677342,-0.6801727377709198,-0.6038044103254782,-0.5214352033794986,-0.43388373911755834,-0.3420201433256686,-0.24675739769029395,-0.14904226617617528,-0.0498458856606976,0.049845885660697115,0.14904226617617478,0.24675739769029262,0.3420201433256681,0.4338837391175579,0.5214352033794982,0.603804410325477,0.6801727377709194,0.7497812029677339,0.8119380057158564,0.8660254037844384,0.911505852311673,0.9479273461671315,0.9749279121818235,0.992239206600172,0.9996891820008162,0.9972037971811802,0.9848077530122081,0.9626242469500126,0.9308737486442048,0.8898718088114691,0.8400259231507718,0.78183148246803,0.7158668492597183,0.642787609686539,0.5633200580636213,0.4782539786213187,0.38843479627469485,0.2947551744109057,0.19814614319939872,0.09956784659581741,3.6739403974420594e-16,1.2246467991473532e-16]},{\\\"y\\\":[0.0,0.0524146256844012,0.1093013764769098,0.17009185876786684,0.23417867415288268,0.30092148835691523,0.3696534292426786,0.4396877499766013,0.5103246907761787,0.5808584706784096,0.6505843394698784,0.7188056193179291,0.7848406657452766,0.8480296783963029,0.9077412935441098,0.9633788924681757,1.014386562671397,1.0602546523739969,1.100524862785641,1.1347948272754589,1.162722131686412,1.1840277356243658,1.198498760537468,1.2059906167282726,1.206428448046198,1.199807879825445,1.1861950625952056,1.1657260111254457,1.1386052454122817,1.1051037471817864,1.0655562523301563,1.020357906353285,0.9993602244197284,0.996436074906401,0.9914585533668369,0.9835547966171938,0.9736503458727258,0.9608463753713216,0.946113433253485,0.9285378652857692,0.9091228587206239,0.8869522404183195,0.8630481301263941,0.8365051660460183,0.8083495287550984,0.7777008438037043,0.7455735110348595,0.7111269722144795,0.6753472491088369,0.6374488729827865,0.5983723648104264,0.5574028417560679,0.5154179196475497,0.4717887898095075,0.42731273083622107,0.3814622501927152,0.33493709015880346,0.28732582822659547,0.2392139683904832,0.19032018178963006,0.14109979317881746,0.09141462152991527,0.041574892524366816,-0.008477632050467736,-0.06168214304615052,-0.11926618117989601,-0.1806543857774247,-0.24523338619063953,-0.3123579303943921,-0.38135733213142164,-0.4515421721877422,-0.5222111868415352,-0.5926582746584493,-0.6621795516237301,-0.7300803841186183,-0.7956823294698565,-0.8583299147246161,-0.9173971859195681,-0.9722939624059781,-1.0224717337396545,-1.0674291402159977,-1.1067169822904388,-1.1399427088318044,-1.166774339363457,-1.186943781102483,-1.2002495076541568,-1.206558572597063,-1.205807937839791,-1.198005103476709,-1.1832280328494986,-1.1616243735632168,-1.133409982240232,-1.098866767752205,-1.058339874479833,-1.0122342337442822,-0.9985860780981893,-0.9960914191097391,-0.9898360341448245,-0.9823835738807246,-0.9711960824085637,-0.958859889252202,-0.9428526699756739,-0.9257553504313959,-0.9050891963704089,-0.8834006765060753,-0.8582831798266348,-0.8322190164195316,-0.8029024831639204,-0.7727217213351418,-0.7395006369998081,-0.7055032356295566,-0.6687113070490603,-0.6312351575610368,-0.5912419608124289,-0.5506595289568585,-0.5078667969563858,-0.46458142096816635,-0.4194190080515254,-0.37386088997516503,-0.3267824539972113,-0.2794043840197541,-0.23088282934711415,-0.1821556856338299,-0.13267841280570317,-0.08308648156451304,-0.03316094867560034],\\\"type\\\":\\\"scatter\\\",\\\"name\\\":\\\"envelope\\\",\\\"x\\\":[1.0,1.047418790962427,1.0893679543181516,1.125428347893473,1.1552396681557677,1.178504050247288,1.1949890441523567,1.2045299372610896,1.2070314001233442,1.2024684389490738,1.1908866453380182,1.1724017407435063,1.1471984202219498,1.1155285070208905,1.0777084364443505,1.0341160941358787,0.9851870403701082,0.931410158078472,0.8733227680925539,0.8115052604119555,0.7465752951392698,0.6791816310245081,0.6099976432821221,0.5397145954484479,0.4690347325049524,0.39866426427851137,0.3293063092262584,0.2616538691083843,0.19638290474362324,0.1341455820321957,0.07556375572971089,0.02122275608000551,-0.02919328908964114,-0.07908684288781058,-0.12881769583538694,-0.1781679540943826,-0.22715606740393743,-0.275467305231034,-0.323225799109613,-0.37001272860492534,-0.41606694413511236,-0.4608595891237784,-0.5047518057733642,-0.5471002227309669,-0.5883942075163019,-0.6278730052656926,-0.6661583483557735,-0.7023709611347922,-0.737267154805654,-0.7698498257826549,-0.8010100461824063,-0.8296354814050457,-0.8567500355435828,-0.881130691616839,-0.9039300953215125,-0.9238210677901122,-0.942078724036366,-0.9572802074577227,-0.9708146584554848,-0.9811739534516384,-0.9898506841045842,-0.9952637312322443,-0.9989965060458391,-1.0083362684338828,-1.0548670618043434,-1.0958538069079196,-1.130886977735954,-1.159616534425959,-1.1817554207442167,-1.1970824322567786,-1.2054444265310469,-1.2067578532843413,-1.201009589190704,-1.1882570690048349,-1.1686277116930086,-1.1423176473048824,-1.109589757306871,-1.0707710479574326,-1.0262493829686268,-0.9764696081001175,-0.9219291064073842,-0.8631728285546476,-0.8007878478479682,-0.7353974943928362,-0.6676551269857974,-0.5982376049693333,-0.5278385252770504,-0.4571612922423911,-0.38691208941505284,-0.31779282360838623,-0.2504941116785398,-0.18568838010912012,-0.12402314634804099,-0.06611454902722912,-0.012541191709075644,0.03757556023090465,0.08749255475630065,0.1370787173415201,0.18649926285693913,0.23521022051070964,0.28364313942709934,0.3309895890513355,0.3779535195755907,0.4234598645981768,0.4684880448603721,0.5116971726176573,0.5543420796930981,0.5948199531409429,0.6346577508610107,0.6719977684905156,0.7086325198366986,0.7424595999991195,0.7755272022143523,0.8055015508280291,0.834673354135321,0.8604938779278937,0.885479951890775,0.9068872828905498,0.9274392979518541,0.9442183988472183,0.96013209440738,0.9721144186033448,0.9832316331086547,0.9902968177826893,0.9965070606470341,0.9988991395892903]}],{\\\"xaxis\\\":{\\\"range\\\":[-2,2]},\\\"template\\\":{\\\"layout\\\":{\\\"coloraxis\\\":{\\\"colorbar\\\":{\\\"ticks\\\":\\\"\\\",\\\"outlinewidth\\\":0}},\\\"xaxis\\\":{\\\"gridcolor\\\":\\\"white\\\",\\\"zerolinewidth\\\":2,\\\"title\\\":{\\\"standoff\\\":15},\\\"ticks\\\":\\\"\\\",\\\"zerolinecolor\\\":\\\"white\\\",\\\"automargin\\\":true,\\\"linecolor\\\":\\\"white\\\"},\\\"hovermode\\\":\\\"closest\\\",\\\"paper_bgcolor\\\":\\\"white\\\",\\\"geo\\\":{\\\"showlakes\\\":true,\\\"showland\\\":true,\\\"landcolor\\\":\\\"#E5ECF6\\\",\\\"bgcolor\\\":\\\"white\\\",\\\"subunitcolor\\\":\\\"white\\\",\\\"lakecolor\\\":\\\"white\\\"},\\\"colorscale\\\":{\\\"sequential\\\":[[0.0,\\\"#0d0887\\\"],[0.1111111111111111,\\\"#46039f\\\"],[0.2222222222222222,\\\"#7201a8\\\"],[0.3333333333333333,\\\"#9c179e\\\"],[0.4444444444444444,\\\"#bd3786\\\"],[0.5555555555555556,\\\"#d8576b\\\"],[0.6666666666666666,\\\"#ed7953\\\"],[0.7777777777777778,\\\"#fb9f3a\\\"],[0.8888888888888888,\\\"#fdca26\\\"],[1.0,\\\"#f0f921\\\"]],\\\"diverging\\\":[[0,\\\"#8e0152\\\"],[0.1,\\\"#c51b7d\\\"],[0.2,\\\"#de77ae\\\"],[0.3,\\\"#f1b6da\\\"],[0.4,\\\"#fde0ef\\\"],[0.5,\\\"#f7f7f7\\\"],[0.6,\\\"#e6f5d0\\\"],[0.7,\\\"#b8e186\\\"],[0.8,\\\"#7fbc41\\\"],[0.9,\\\"#4d9221\\\"],[1,\\\"#276419\\\"]],\\\"sequentialminus\\\":[[0.0,\\\"#0d0887\\\"],[0.1111111111111111,\\\"#46039f\\\"],[0.2222222222222222,\\\"#7201a8\\\"],[0.3333333333333333,\\\"#9c179e\\\"],[0.4444444444444444,\\\"#bd3786\\\"],[0.5555555555555556,\\\"#d8576b\\\"],[0.6666666666666666,\\\"#ed7953\\\"],[0.7777777777777778,\\\"#fb9f3a\\\"],[0.8888888888888888,\\\"#fdca26\\\"],[1.0,\\\"#f0f921\\\"]]},\\\"yaxis\\\":{\\\"gridcolor\\\":\\\"white\\\",\\\"zerolinewidth\\\":2,\\\"title\\\":{\\\"standoff\\\":15},\\\"ticks\\\":\\\"\\\",\\\"zerolinecolor\\\":\\\"white\\\",\\\"automargin\\\":true,\\\"linecolor\\\":\\\"white\\\"},\\\"shapedefaults\\\":{\\\"line\\\":{\\\"color\\\":\\\"#2a3f5f\\\"}},\\\"hoverlabel\\\":{\\\"align\\\":\\\"left\\\"},\\\"mapbox\\\":{\\\"style\\\":\\\"light\\\"},\\\"polar\\\":{\\\"angularaxis\\\":{\\\"gridcolor\\\":\\\"white\\\",\\\"ticks\\\":\\\"\\\",\\\"linecolor\\\":\\\"white\\\"},\\\"bgcolor\\\":\\\"#E5ECF6\\\",\\\"radialaxis\\\":{\\\"gridcolor\\\":\\\"white\\\",\\\"ticks\\\":\\\"\\\",\\\"linecolor\\\":\\\"white\\\"}},\\\"autotypenumbers\\\":\\\"strict\\\",\\\"font\\\":{\\\"color\\\":\\\"#2a3f5f\\\"},\\\"ternary\\\":{\\\"baxis\\\":{\\\"gridcolor\\\":\\\"white\\\",\\\"ticks\\\":\\\"\\\",\\\"linecolor\\\":\\\"white\\\"},\\\"bgcolor\\\":\\\"#E5ECF6\\\",\\\"caxis\\\":{\\\"gridcolor\\\":\\\"white\\\",\\\"ticks\\\":\\\"\\\",\\\"linecolor\\\":\\\"white\\\"},\\\"aaxis\\\":{\\\"gridcolor\\\":\\\"white\\\",\\\"ticks\\\":\\\"\\\",\\\"linecolor\\\":\\\"white\\\"}},\\\"annotationdefaults\\\":{\\\"arrowhead\\\":0,\\\"arrowwidth\\\":1,\\\"arrowcolor\\\":\\\"#2a3f5f\\\"},\\\"plot_bgcolor\\\":\\\"#E5ECF6\\\",\\\"title\\\":{\\\"x\\\":0.05},\\\"scene\\\":{\\\"xaxis\\\":{\\\"gridcolor\\\":\\\"white\\\",\\\"gridwidth\\\":2,\\\"backgroundcolor\\\":\\\"#E5ECF6\\\",\\\"ticks\\\":\\\"\\\",\\\"showbackground\\\":true,\\\"zerolinecolor\\\":\\\"white\\\",\\\"linecolor\\\":\\\"white\\\"},\\\"zaxis\\\":{\\\"gridcolor\\\":\\\"white\\\",\\\"gridwidth\\\":2,\\\"backgroundcolor\\\":\\\"#E5ECF6\\\",\\\"ticks\\\":\\\"\\\",\\\"showbackground\\\":true,\\\"zerolinecolor\\\":\\\"white\\\",\\\"linecolor\\\":\\\"white\\\"},\\\"yaxis\\\":{\\\"gridcolor\\\":\\\"white\\\",\\\"gridwidth\\\":2,\\\"backgroundcolor\\\":\\\"#E5ECF6\\\",\\\"ticks\\\":\\\"\\\",\\\"showbackground\\\":true,\\\"zerolinecolor\\\":\\\"white\\\",\\\"linecolor\\\":\\\"white\\\"}},\\\"colorway\\\":[\\\"#636efa\\\",\\\"#EF553B\\\",\\\"#00cc96\\\",\\\"#ab63fa\\\",\\\"#FFA15A\\\",\\\"#19d3f3\\\",\\\"#FF6692\\\",\\\"#B6E880\\\",\\\"#FF97FF\\\",\\\"#FECB52\\\"]},\\\"data\\\":{\\\"barpolar\\\":[{\\\"type\\\":\\\"barpolar\\\",\\\"marker\\\":{\\\"line\\\":{\\\"color\\\":\\\"#E5ECF6\\\",\\\"width\\\":0.5}}}],\\\"carpet\\\":[{\\\"aaxis\\\":{\\\"gridcolor\\\":\\\"white\\\",\\\"endlinecolor\\\":\\\"#2a3f5f\\\",\\\"minorgridcolor\\\":\\\"white\\\",\\\"startlinecolor\\\":\\\"#2a3f5f\\\",\\\"linecolor\\\":\\\"white\\\"},\\\"type\\\":\\\"carpet\\\",\\\"baxis\\\":{\\\"gridcolor\\\":\\\"white\\\",\\\"endlinecolor\\\":\\\"#2a3f5f\\\",\\\"minorgridcolor\\\":\\\"white\\\",\\\"startlinecolor\\\":\\\"#2a3f5f\\\",\\\"linecolor\\\":\\\"white\\\"}}],\\\"scatterpolar\\\":[{\\\"type\\\":\\\"scatterpolar\\\",\\\"marker\\\":{\\\"colorbar\\\":{\\\"ticks\\\":\\\"\\\",\\\"outlinewidth\\\":0}}}],\\\"parcoords\\\":[{\\\"line\\\":{\\\"colorbar\\\":{\\\"ticks\\\":\\\"\\\",\\\"outlinewidth\\\":0}},\\\"type\\\":\\\"parcoords\\\"}],\\\"scatter\\\":[{\\\"type\\\":\\\"scatter\\\",\\\"marker\\\":{\\\"colorbar\\\":{\\\"ticks\\\":\\\"\\\",\\\"outlinewidth\\\":0}}}],\\\"histogram2dcontour\\\":[{\\\"colorbar\\\":{\\\"ticks\\\":\\\"\\\",\\\"outlinewidth\\\":0},\\\"type\\\":\\\"histogram2dcontour\\\",\\\"colorscale\\\":[[0.0,\\\"#0d0887\\\"],[0.1111111111111111,\\\"#46039f\\\"],[0.2222222222222222,\\\"#7201a8\\\"],[0.3333333333333333,\\\"#9c179e\\\"],[0.4444444444444444,\\\"#bd3786\\\"],[0.5555555555555556,\\\"#d8576b\\\"],[0.6666666666666666,\\\"#ed7953\\\"],[0.7777777777777778,\\\"#fb9f3a\\\"],[0.8888888888888888,\\\"#fdca26\\\"],[1.0,\\\"#f0f921\\\"]]}],\\\"contour\\\":[{\\\"colorbar\\\":{\\\"ticks\\\":\\\"\\\",\\\"outlinewidth\\\":0},\\\"type\\\":\\\"contour\\\",\\\"colorscale\\\":[[0.0,\\\"#0d0887\\\"],[0.1111111111111111,\\\"#46039f\\\"],[0.2222222222222222,\\\"#7201a8\\\"],[0.3333333333333333,\\\"#9c179e\\\"],[0.4444444444444444,\\\"#bd3786\\\"],[0.5555555555555556,\\\"#d8576b\\\"],[0.6666666666666666,\\\"#ed7953\\\"],[0.7777777777777778,\\\"#fb9f3a\\\"],[0.8888888888888888,\\\"#fdca26\\\"],[1.0,\\\"#f0f921\\\"]]}],\\\"scattercarpet\\\":[{\\\"type\\\":\\\"scattercarpet\\\",\\\"marker\\\":{\\\"colorbar\\\":{\\\"ticks\\\":\\\"\\\",\\\"outlinewidth\\\":0}}}],\\\"mesh3d\\\":[{\\\"colorbar\\\":{\\\"ticks\\\":\\\"\\\",\\\"outlinewidth\\\":0},\\\"type\\\":\\\"mesh3d\\\"}],\\\"surface\\\":[{\\\"colorbar\\\":{\\\"ticks\\\":\\\"\\\",\\\"outlinewidth\\\":0},\\\"type\\\":\\\"surface\\\",\\\"colorscale\\\":[[0.0,\\\"#0d0887\\\"],[0.1111111111111111,\\\"#46039f\\\"],[0.2222222222222222,\\\"#7201a8\\\"],[0.3333333333333333,\\\"#9c179e\\\"],[0.4444444444444444,\\\"#bd3786\\\"],[0.5555555555555556,\\\"#d8576b\\\"],[0.6666666666666666,\\\"#ed7953\\\"],[0.7777777777777778,\\\"#fb9f3a\\\"],[0.8888888888888888,\\\"#fdca26\\\"],[1.0,\\\"#f0f921\\\"]]}],\\\"scattermapbox\\\":[{\\\"type\\\":\\\"scattermapbox\\\",\\\"marker\\\":{\\\"colorbar\\\":{\\\"ticks\\\":\\\"\\\",\\\"outlinewidth\\\":0}}}],\\\"scattergeo\\\":[{\\\"type\\\":\\\"scattergeo\\\",\\\"marker\\\":{\\\"colorbar\\\":{\\\"ticks\\\":\\\"\\\",\\\"outlinewidth\\\":0}}}],\\\"histogram\\\":[{\\\"type\\\":\\\"histogram\\\",\\\"marker\\\":{\\\"colorbar\\\":{\\\"ticks\\\":\\\"\\\",\\\"outlinewidth\\\":0}}}],\\\"pie\\\":[{\\\"type\\\":\\\"pie\\\",\\\"automargin\\\":true}],\\\"choropleth\\\":[{\\\"colorbar\\\":{\\\"ticks\\\":\\\"\\\",\\\"outlinewidth\\\":0},\\\"type\\\":\\\"choropleth\\\"}],\\\"heatmapgl\\\":[{\\\"colorbar\\\":{\\\"ticks\\\":\\\"\\\",\\\"outlinewidth\\\":0},\\\"type\\\":\\\"heatmapgl\\\",\\\"colorscale\\\":[[0.0,\\\"#0d0887\\\"],[0.1111111111111111,\\\"#46039f\\\"],[0.2222222222222222,\\\"#7201a8\\\"],[0.3333333333333333,\\\"#9c179e\\\"],[0.4444444444444444,\\\"#bd3786\\\"],[0.5555555555555556,\\\"#d8576b\\\"],[0.6666666666666666,\\\"#ed7953\\\"],[0.7777777777777778,\\\"#fb9f3a\\\"],[0.8888888888888888,\\\"#fdca26\\\"],[1.0,\\\"#f0f921\\\"]]}],\\\"bar\\\":[{\\\"type\\\":\\\"bar\\\",\\\"error_y\\\":{\\\"color\\\":\\\"#2a3f5f\\\"},\\\"error_x\\\":{\\\"color\\\":\\\"#2a3f5f\\\"},\\\"marker\\\":{\\\"line\\\":{\\\"color\\\":\\\"#E5ECF6\\\",\\\"width\\\":0.5}}}],\\\"heatmap\\\":[{\\\"colorbar\\\":{\\\"ticks\\\":\\\"\\\",\\\"outlinewidth\\\":0},\\\"type\\\":\\\"heatmap\\\",\\\"colorscale\\\":[[0.0,\\\"#0d0887\\\"],[0.1111111111111111,\\\"#46039f\\\"],[0.2222222222222222,\\\"#7201a8\\\"],[0.3333333333333333,\\\"#9c179e\\\"],[0.4444444444444444,\\\"#bd3786\\\"],[0.5555555555555556,\\\"#d8576b\\\"],[0.6666666666666666,\\\"#ed7953\\\"],[0.7777777777777778,\\\"#fb9f3a\\\"],[0.8888888888888888,\\\"#fdca26\\\"],[1.0,\\\"#f0f921\\\"]]}],\\\"contourcarpet\\\":[{\\\"colorbar\\\":{\\\"ticks\\\":\\\"\\\",\\\"outlinewidth\\\":0},\\\"type\\\":\\\"contourcarpet\\\"}],\\\"table\\\":[{\\\"type\\\":\\\"table\\\",\\\"header\\\":{\\\"line\\\":{\\\"color\\\":\\\"white\\\"},\\\"fill\\\":{\\\"color\\\":\\\"#C8D4E3\\\"}},\\\"cells\\\":{\\\"line\\\":{\\\"color\\\":\\\"white\\\"},\\\"fill\\\":{\\\"color\\\":\\\"#EBF0F8\\\"}}}],\\\"scatter3d\\\":[{\\\"line\\\":{\\\"colorbar\\\":{\\\"ticks\\\":\\\"\\\",\\\"outlinewidth\\\":0}},\\\"type\\\":\\\"scatter3d\\\",\\\"marker\\\":{\\\"colorbar\\\":{\\\"ticks\\\":\\\"\\\",\\\"outlinewidth\\\":0}}}],\\\"scattergl\\\":[{\\\"type\\\":\\\"scattergl\\\",\\\"marker\\\":{\\\"colorbar\\\":{\\\"ticks\\\":\\\"\\\",\\\"outlinewidth\\\":0}}}],\\\"histogram2d\\\":[{\\\"colorbar\\\":{\\\"ticks\\\":\\\"\\\",\\\"outlinewidth\\\":0},\\\"type\\\":\\\"histogram2d\\\",\\\"colorscale\\\":[[0.0,\\\"#0d0887\\\"],[0.1111111111111111,\\\"#46039f\\\"],[0.2222222222222222,\\\"#7201a8\\\"],[0.3333333333333333,\\\"#9c179e\\\"],[0.4444444444444444,\\\"#bd3786\\\"],[0.5555555555555556,\\\"#d8576b\\\"],[0.6666666666666666,\\\"#ed7953\\\"],[0.7777777777777778,\\\"#fb9f3a\\\"],[0.8888888888888888,\\\"#fdca26\\\"],[1.0,\\\"#f0f921\\\"]]}],\\\"scatterternary\\\":[{\\\"type\\\":\\\"scatterternary\\\",\\\"marker\\\":{\\\"colorbar\\\":{\\\"ticks\\\":\\\"\\\",\\\"outlinewidth\\\":0}}}],\\\"scatterpolargl\\\":[{\\\"type\\\":\\\"scatterpolargl\\\",\\\"marker\\\":{\\\"colorbar\\\":{\\\"ticks\\\":\\\"\\\",\\\"outlinewidth\\\":0}}}]}},\\\"height\\\":600,\\\"margin\\\":{\\\"l\\\":50,\\\"b\\\":50,\\\"r\\\":50,\\\"t\\\":60},\\\"yaxis\\\":{\\\"range\\\":[-2,2]},\\\"width\\\":600},{\\\"showLink\\\":false,\\\"editable\\\":false,\\\"responsive\\\":true,\\\"staticPlot\\\":false,\\\"scrollZoom\\\":true}); gd.on(\\\"plotly_hover\\\",(function (data){var filtered_data=WebIO.PlotlyCommands.filterEventData(gd,data,\\\"hover\\\"); return !(filtered_data.isnil) ? (WebIO.setval({\\\"name\\\":\\\"hover\\\",\\\"scope\\\":\\\"18215847066911970405\\\",\\\"id\\\":\\\"9510293491034534453\\\",\\\"type\\\":\\\"observable\\\"},filtered_data.out)) : undefined})); gd.on(\\\"plotly_unhover\\\",(function (){return WebIO.setval({\\\"name\\\":\\\"hover\\\",\\\"scope\\\":\\\"18215847066911970405\\\",\\\"id\\\":\\\"9510293491034534453\\\",\\\"type\\\":\\\"observable\\\"},{})})); gd.on(\\\"plotly_selected\\\",(function (data){var filtered_data=WebIO.PlotlyCommands.filterEventData(gd,data,\\\"selected\\\"); return !(filtered_data.isnil) ? (WebIO.setval({\\\"name\\\":\\\"selected\\\",\\\"scope\\\":\\\"18215847066911970405\\\",\\\"id\\\":\\\"13910589366606925774\\\",\\\"type\\\":\\\"observable\\\"},filtered_data.out)) : undefined})); gd.on(\\\"plotly_deselect\\\",(function (){return WebIO.setval({\\\"name\\\":\\\"selected\\\",\\\"scope\\\":\\\"18215847066911970405\\\",\\\"id\\\":\\\"13910589366606925774\\\",\\\"type\\\":\\\"observable\\\"},{})})); gd.on(\\\"plotly_relayout\\\",(function (data){var filtered_data=WebIO.PlotlyCommands.filterEventData(gd,data,\\\"relayout\\\"); return !(filtered_data.isnil) ? (WebIO.setval({\\\"name\\\":\\\"relayout\\\",\\\"scope\\\":\\\"18215847066911970405\\\",\\\"id\\\":\\\"4556735581141299301\\\",\\\"type\\\":\\\"observable\\\"},filtered_data.out)) : undefined})); return gd.on(\\\"plotly_click\\\",(function (data){var filtered_data=WebIO.PlotlyCommands.filterEventData(gd,data,\\\"click\\\"); return !(filtered_data.isnil) ? (WebIO.setval({\\\"name\\\":\\\"click\\\",\\\"scope\\\":\\\"18215847066911970405\\\",\\\"id\\\":\\\"5133212143487782687\\\",\\\"type\\\":\\\"observable\\\"},filtered_data.out)) : undefined}))}));\\n    (WebIO.importBlock({\\\"data\\\":[{\\\"name\\\":\\\"Plotly\\\",\\\"type\\\":\\\"js\\\",\\\"url\\\":\\\"\\/assetserver\\/d66a736669047bda0b2d00471bd5207a90cf3193-plotly.min.js\\\"},{\\\"name\\\":null,\\\"type\\\":\\\"js\\\",\\\"url\\\":\\\"\\/assetserver\\/aee3160e397a4905b07437c5af565305d1ef6def-plotly_webio.bundle.js\\\"}],\\\"type\\\":\\\"async_block\\\"})).then((imports) => handler.apply(this, imports));\\n}\\n\"],\"observables\":{\"_toImage\":{\"sync\":false,\"id\":\"13532641379778366808\",\"value\":{}},\"hover\":{\"sync\":false,\"id\":\"9510293491034534453\",\"value\":{}},\"selected\":{\"sync\":false,\"id\":\"13910589366606925774\",\"value\":{}},\"__gd_contents\":{\"sync\":false,\"id\":\"2353737063895543096\",\"value\":{}},\"click\":{\"sync\":false,\"id\":\"5133212143487782687\",\"value\":{}},\"image\":{\"sync\":true,\"id\":\"893560942646983968\",\"value\":\"\"},\"__get_gd_contents\":{\"sync\":false,\"id\":\"5875715436298255198\",\"value\":\"\"},\"_downloadImage\":{\"sync\":false,\"id\":\"16436036810061247209\",\"value\":{}},\"relayout\":{\"sync\":false,\"id\":\"4556735581141299301\",\"value\":{}},\"_commands\":{\"sync\":false,\"id\":\"6415862394985728834\",\"value\":[]}}},\"children\":[{\"props\":{\"id\":\"plot-c6f7287c-ebdc-4f69-9084-5abf7093f3c2\"},\"nodeType\":\"DOM\",\"type\":\"node\",\"instanceArgs\":{\"namespace\":\"html\",\"tag\":\"div\"},\"children\":[]}]},\n",
       "        window,\n",
       "    );\n",
       "    })()\n",
       "    </script>\n",
       "</div>\n"
      ],
      "text/plain": [
       "data: [\n",
       "  \"scatter with fields type, x, and y\",\n",
       "  \"scatter with fields type, x, and y\",\n",
       "  \"scatter with fields type, x, and y\",\n",
       "  \"scatter with fields type, x, and y\",\n",
       "  \"scatter with fields name, type, x, and y\"\n",
       "]\n",
       "\n",
       "layout: \"layout with fields height, margin, template, width, xaxis, and yaxis\"\n",
       "\n"
      ]
     },
     "execution_count": 15,
     "metadata": {},
     "output_type": "execute_result"
    }
   ],
   "source": [
    "D = D1 ⋄ D2 ⋄ D3\n",
    "\n",
    "pD = plotgeometry(D)\n",
    "pe = plotenvelope(D)\n",
    "\n",
    "plot(vcat(pD,pe), layout)"
   ]
  },
  {
   "cell_type": "markdown",
   "id": "56bf9190-9940-4e40-9ff6-8017226df988",
   "metadata": {},
   "source": [
    "## 3. Trace\n",
    "\n",
    "The trace is in a sense the dual of an evelope. The trace is the smallest distance from a point until the geometric object."
   ]
  },
  {
   "cell_type": "code",
   "execution_count": 16,
   "id": "70132b7e-b06a-4579-9974-d853d37ee03d",
   "metadata": {},
   "outputs": [
    {
     "data": {
      "text/plain": [
       "trace (generic function with 1 method)"
      ]
     },
     "execution_count": 16,
     "metadata": {},
     "output_type": "execute_result"
    }
   ],
   "source": [
    "function traceP(g::AbstractGeometry, v)\n",
    "    ρ = mapreduce(norm, max, coordinates(g))\n",
    "    v = normalize(v)\n",
    "    ray = ρ*v\n",
    "    ray = Line(Point(0.0,0.0),Point(ray...))\n",
    "    \n",
    "    # Collecting line segments of geometry\n",
    "    pts = collect(coordinates(g))\n",
    "    L = length(pts)\n",
    "    pts = push!(pts,pts[1])\n",
    "\n",
    "    lines = []\n",
    "    for i in 1:L\n",
    "        push!(lines,Line(pts[i], pts[i + 1]))\n",
    "    end\n",
    "    \n",
    "    inter = map(x->intersects(x,ray),lines)\n",
    "    if mapreduce(x->x[1], +, inter) == 0 return Inf end\n",
    "    \n",
    "    mapreduce(x-> !x[1] ? Inf : norm(x[2]), min, inter)\n",
    "end\n",
    "\n",
    "function trace(D::DiagramDual, v)\n",
    "    mapreduce(x->traceP(x.g,v),min,D.p)\n",
    "end"
   ]
  },
  {
   "cell_type": "code",
   "execution_count": 17,
   "id": "8d3234ae-d1cf-47fa-9e94-3f2db157f72a",
   "metadata": {},
   "outputs": [
    {
     "data": {
      "application/vnd.plotly.v1+json": {
       "config": {
        "editable": false,
        "responsive": true,
        "scrollZoom": true,
        "showLink": false,
        "staticPlot": false
       },
       "data": [
        {
         "type": "scatter",
         "x": [
          2,
          2.7071067811865475,
          2,
          2
         ],
         "y": [
          4,
          4.707106781186548,
          5.414213562373095,
          4
         ]
        },
        {
         "type": "scatter",
         "x": [
          2,
          1.2928932188134525,
          2,
          2.7071067811865475,
          2
         ],
         "y": [
          4.707106781186548,
          4,
          3.2928932188134525,
          4,
          4.707106781186548
         ]
        },
        {
         "type": "scatter",
         "x": [
          3,
          2.800864306808367,
          2.6037077136012052,
          2.4104896511781924,
          2.2231304074506113,
          2.0434920427573635,
          1.8733598838727568,
          1.7144247806269215,
          1.5682663014805633,
          1.4363370350639406,
          1.319948153698457,
          1.2202563823770631,
          1.138252502711592,
          1.0747515060999762,
          1.030384493975584,
          1.0055924056376397,
          1.0006216359983675,
          1.0155215867996557,
          1.0501441756363528,
          1.1041453076657366,
          1.1769882953766535,
          1.267949192431122,
          1.3761239885682865,
          1.5004375940645316,
          1.6396545244581604,
          1.7923911793490437,
          1.9571295932410029,
          2.1322325217648834,
          2.3159597133486627,
          2.506485204619412,
          2.7019154676476496,
          2.900308228678605,
          3.0996917713213943,
          3.2980845323523496,
          3.493514795380585,
          3.684040286651336,
          3.8677674782351157,
          4.042870406758997,
          4.207608820650954,
          4.3603454755418385,
          4.4995624059354675,
          4.623876011431713,
          4.732050807568877,
          4.823011704623346,
          4.895854692334263,
          4.949855824363647,
          4.984478413200344,
          4.9993783640016325,
          4.994407594362361,
          4.969615506024416,
          4.925248493900025,
          4.86174749728841,
          4.779743617622938,
          4.680051846301543,
          4.56366296493606,
          4.431733698519436,
          4.285575219373078,
          4.126640116127243,
          3.9565079572426374,
          3.7768695925493896,
          3.589510348821811,
          3.3962922863987974,
          3.199135693191635,
          3.000000000000001,
          3
         ],
         "y": [
          2,
          2.009938449269197,
          2.0396550243029123,
          2.0888543884277184,
          2.1570475762591848,
          2.243556853259543,
          2.3475224513680097,
          2.4679111137620438,
          2.603526363827854,
          2.7530203962825324,
          2.9149074722684816,
          3.0875786852936735,
          3.2693179512672086,
          3.458319063713989,
          3.6527036446661394,
          3.8505398128271504,
          4.049861383476146,
          4.248687409294969,
          4.445041867912629,
          4.636973300503369,
          4.822574206261223,
          4.999999999999998,
          5.1674873444695795,
          5.323371675193719,
          5.466103743659652,
          5.594265014445844,
          5.70658176326431,
          5.801937735804838,
          5.879385241571817,
          5.9381545724581555,
          5.977661652450257,
          5.9975138424378445,
          5.9975138424378445,
          5.977661652450257,
          5.938154572458156,
          5.879385241571818,
          5.801937735804838,
          5.706581763264311,
          5.5942650144458455,
          5.4661037436596525,
          5.3233716751937195,
          5.1674873444695795,
          5.000000000000001,
          4.822574206261224,
          4.63697330050337,
          4.44504186791263,
          4.248687409294972,
          4.049861383476147,
          3.8505398128271535,
          3.6527036446661403,
          3.4583190637139936,
          3.2693179512672126,
          3.087578685293676,
          2.9149074722684825,
          2.7530203962825333,
          2.6035263638278545,
          2.4679111137620433,
          2.3475224513680093,
          2.2435568532595433,
          2.1570475762591848,
          2.0888543884277198,
          2.039655024302913,
          2.0099384492691974,
          2,
          2
         ]
        },
        {
         "type": "scatter",
         "x": [
          0,
          1.401050493462196,
          0
         ],
         "y": [
          0,
          2.802100986924392,
          0
         ]
        }
       ],
       "frames": [],
       "layout": {
        "height": 600,
        "margin": {
         "b": 50,
         "l": 50,
         "r": 50,
         "t": 60
        },
        "template": {
         "data": {
          "bar": [
           {
            "error_x": {
             "color": "#2a3f5f"
            },
            "error_y": {
             "color": "#2a3f5f"
            },
            "marker": {
             "line": {
              "color": "#E5ECF6",
              "width": 0.5
             }
            },
            "type": "bar"
           }
          ],
          "barpolar": [
           {
            "marker": {
             "line": {
              "color": "#E5ECF6",
              "width": 0.5
             }
            },
            "type": "barpolar"
           }
          ],
          "carpet": [
           {
            "aaxis": {
             "endlinecolor": "#2a3f5f",
             "gridcolor": "white",
             "linecolor": "white",
             "minorgridcolor": "white",
             "startlinecolor": "#2a3f5f"
            },
            "baxis": {
             "endlinecolor": "#2a3f5f",
             "gridcolor": "white",
             "linecolor": "white",
             "minorgridcolor": "white",
             "startlinecolor": "#2a3f5f"
            },
            "type": "carpet"
           }
          ],
          "choropleth": [
           {
            "colorbar": {
             "outlinewidth": 0,
             "ticks": ""
            },
            "type": "choropleth"
           }
          ],
          "contour": [
           {
            "colorbar": {
             "outlinewidth": 0,
             "ticks": ""
            },
            "colorscale": [
             [
              0,
              "#0d0887"
             ],
             [
              0.1111111111111111,
              "#46039f"
             ],
             [
              0.2222222222222222,
              "#7201a8"
             ],
             [
              0.3333333333333333,
              "#9c179e"
             ],
             [
              0.4444444444444444,
              "#bd3786"
             ],
             [
              0.5555555555555556,
              "#d8576b"
             ],
             [
              0.6666666666666666,
              "#ed7953"
             ],
             [
              0.7777777777777778,
              "#fb9f3a"
             ],
             [
              0.8888888888888888,
              "#fdca26"
             ],
             [
              1,
              "#f0f921"
             ]
            ],
            "type": "contour"
           }
          ],
          "contourcarpet": [
           {
            "colorbar": {
             "outlinewidth": 0,
             "ticks": ""
            },
            "type": "contourcarpet"
           }
          ],
          "heatmap": [
           {
            "colorbar": {
             "outlinewidth": 0,
             "ticks": ""
            },
            "colorscale": [
             [
              0,
              "#0d0887"
             ],
             [
              0.1111111111111111,
              "#46039f"
             ],
             [
              0.2222222222222222,
              "#7201a8"
             ],
             [
              0.3333333333333333,
              "#9c179e"
             ],
             [
              0.4444444444444444,
              "#bd3786"
             ],
             [
              0.5555555555555556,
              "#d8576b"
             ],
             [
              0.6666666666666666,
              "#ed7953"
             ],
             [
              0.7777777777777778,
              "#fb9f3a"
             ],
             [
              0.8888888888888888,
              "#fdca26"
             ],
             [
              1,
              "#f0f921"
             ]
            ],
            "type": "heatmap"
           }
          ],
          "heatmapgl": [
           {
            "colorbar": {
             "outlinewidth": 0,
             "ticks": ""
            },
            "colorscale": [
             [
              0,
              "#0d0887"
             ],
             [
              0.1111111111111111,
              "#46039f"
             ],
             [
              0.2222222222222222,
              "#7201a8"
             ],
             [
              0.3333333333333333,
              "#9c179e"
             ],
             [
              0.4444444444444444,
              "#bd3786"
             ],
             [
              0.5555555555555556,
              "#d8576b"
             ],
             [
              0.6666666666666666,
              "#ed7953"
             ],
             [
              0.7777777777777778,
              "#fb9f3a"
             ],
             [
              0.8888888888888888,
              "#fdca26"
             ],
             [
              1,
              "#f0f921"
             ]
            ],
            "type": "heatmapgl"
           }
          ],
          "histogram": [
           {
            "marker": {
             "colorbar": {
              "outlinewidth": 0,
              "ticks": ""
             }
            },
            "type": "histogram"
           }
          ],
          "histogram2d": [
           {
            "colorbar": {
             "outlinewidth": 0,
             "ticks": ""
            },
            "colorscale": [
             [
              0,
              "#0d0887"
             ],
             [
              0.1111111111111111,
              "#46039f"
             ],
             [
              0.2222222222222222,
              "#7201a8"
             ],
             [
              0.3333333333333333,
              "#9c179e"
             ],
             [
              0.4444444444444444,
              "#bd3786"
             ],
             [
              0.5555555555555556,
              "#d8576b"
             ],
             [
              0.6666666666666666,
              "#ed7953"
             ],
             [
              0.7777777777777778,
              "#fb9f3a"
             ],
             [
              0.8888888888888888,
              "#fdca26"
             ],
             [
              1,
              "#f0f921"
             ]
            ],
            "type": "histogram2d"
           }
          ],
          "histogram2dcontour": [
           {
            "colorbar": {
             "outlinewidth": 0,
             "ticks": ""
            },
            "colorscale": [
             [
              0,
              "#0d0887"
             ],
             [
              0.1111111111111111,
              "#46039f"
             ],
             [
              0.2222222222222222,
              "#7201a8"
             ],
             [
              0.3333333333333333,
              "#9c179e"
             ],
             [
              0.4444444444444444,
              "#bd3786"
             ],
             [
              0.5555555555555556,
              "#d8576b"
             ],
             [
              0.6666666666666666,
              "#ed7953"
             ],
             [
              0.7777777777777778,
              "#fb9f3a"
             ],
             [
              0.8888888888888888,
              "#fdca26"
             ],
             [
              1,
              "#f0f921"
             ]
            ],
            "type": "histogram2dcontour"
           }
          ],
          "mesh3d": [
           {
            "colorbar": {
             "outlinewidth": 0,
             "ticks": ""
            },
            "type": "mesh3d"
           }
          ],
          "parcoords": [
           {
            "line": {
             "colorbar": {
              "outlinewidth": 0,
              "ticks": ""
             }
            },
            "type": "parcoords"
           }
          ],
          "pie": [
           {
            "automargin": true,
            "type": "pie"
           }
          ],
          "scatter": [
           {
            "marker": {
             "colorbar": {
              "outlinewidth": 0,
              "ticks": ""
             }
            },
            "type": "scatter"
           }
          ],
          "scatter3d": [
           {
            "line": {
             "colorbar": {
              "outlinewidth": 0,
              "ticks": ""
             }
            },
            "marker": {
             "colorbar": {
              "outlinewidth": 0,
              "ticks": ""
             }
            },
            "type": "scatter3d"
           }
          ],
          "scattercarpet": [
           {
            "marker": {
             "colorbar": {
              "outlinewidth": 0,
              "ticks": ""
             }
            },
            "type": "scattercarpet"
           }
          ],
          "scattergeo": [
           {
            "marker": {
             "colorbar": {
              "outlinewidth": 0,
              "ticks": ""
             }
            },
            "type": "scattergeo"
           }
          ],
          "scattergl": [
           {
            "marker": {
             "colorbar": {
              "outlinewidth": 0,
              "ticks": ""
             }
            },
            "type": "scattergl"
           }
          ],
          "scattermapbox": [
           {
            "marker": {
             "colorbar": {
              "outlinewidth": 0,
              "ticks": ""
             }
            },
            "type": "scattermapbox"
           }
          ],
          "scatterpolar": [
           {
            "marker": {
             "colorbar": {
              "outlinewidth": 0,
              "ticks": ""
             }
            },
            "type": "scatterpolar"
           }
          ],
          "scatterpolargl": [
           {
            "marker": {
             "colorbar": {
              "outlinewidth": 0,
              "ticks": ""
             }
            },
            "type": "scatterpolargl"
           }
          ],
          "scatterternary": [
           {
            "marker": {
             "colorbar": {
              "outlinewidth": 0,
              "ticks": ""
             }
            },
            "type": "scatterternary"
           }
          ],
          "surface": [
           {
            "colorbar": {
             "outlinewidth": 0,
             "ticks": ""
            },
            "colorscale": [
             [
              0,
              "#0d0887"
             ],
             [
              0.1111111111111111,
              "#46039f"
             ],
             [
              0.2222222222222222,
              "#7201a8"
             ],
             [
              0.3333333333333333,
              "#9c179e"
             ],
             [
              0.4444444444444444,
              "#bd3786"
             ],
             [
              0.5555555555555556,
              "#d8576b"
             ],
             [
              0.6666666666666666,
              "#ed7953"
             ],
             [
              0.7777777777777778,
              "#fb9f3a"
             ],
             [
              0.8888888888888888,
              "#fdca26"
             ],
             [
              1,
              "#f0f921"
             ]
            ],
            "type": "surface"
           }
          ],
          "table": [
           {
            "cells": {
             "fill": {
              "color": "#EBF0F8"
             },
             "line": {
              "color": "white"
             }
            },
            "header": {
             "fill": {
              "color": "#C8D4E3"
             },
             "line": {
              "color": "white"
             }
            },
            "type": "table"
           }
          ]
         },
         "layout": {
          "annotationdefaults": {
           "arrowcolor": "#2a3f5f",
           "arrowhead": 0,
           "arrowwidth": 1
          },
          "autotypenumbers": "strict",
          "coloraxis": {
           "colorbar": {
            "outlinewidth": 0,
            "ticks": ""
           }
          },
          "colorscale": {
           "diverging": [
            [
             0,
             "#8e0152"
            ],
            [
             0.1,
             "#c51b7d"
            ],
            [
             0.2,
             "#de77ae"
            ],
            [
             0.3,
             "#f1b6da"
            ],
            [
             0.4,
             "#fde0ef"
            ],
            [
             0.5,
             "#f7f7f7"
            ],
            [
             0.6,
             "#e6f5d0"
            ],
            [
             0.7,
             "#b8e186"
            ],
            [
             0.8,
             "#7fbc41"
            ],
            [
             0.9,
             "#4d9221"
            ],
            [
             1,
             "#276419"
            ]
           ],
           "sequential": [
            [
             0,
             "#0d0887"
            ],
            [
             0.1111111111111111,
             "#46039f"
            ],
            [
             0.2222222222222222,
             "#7201a8"
            ],
            [
             0.3333333333333333,
             "#9c179e"
            ],
            [
             0.4444444444444444,
             "#bd3786"
            ],
            [
             0.5555555555555556,
             "#d8576b"
            ],
            [
             0.6666666666666666,
             "#ed7953"
            ],
            [
             0.7777777777777778,
             "#fb9f3a"
            ],
            [
             0.8888888888888888,
             "#fdca26"
            ],
            [
             1,
             "#f0f921"
            ]
           ],
           "sequentialminus": [
            [
             0,
             "#0d0887"
            ],
            [
             0.1111111111111111,
             "#46039f"
            ],
            [
             0.2222222222222222,
             "#7201a8"
            ],
            [
             0.3333333333333333,
             "#9c179e"
            ],
            [
             0.4444444444444444,
             "#bd3786"
            ],
            [
             0.5555555555555556,
             "#d8576b"
            ],
            [
             0.6666666666666666,
             "#ed7953"
            ],
            [
             0.7777777777777778,
             "#fb9f3a"
            ],
            [
             0.8888888888888888,
             "#fdca26"
            ],
            [
             1,
             "#f0f921"
            ]
           ]
          },
          "colorway": [
           "#636efa",
           "#EF553B",
           "#00cc96",
           "#ab63fa",
           "#FFA15A",
           "#19d3f3",
           "#FF6692",
           "#B6E880",
           "#FF97FF",
           "#FECB52"
          ],
          "font": {
           "color": "#2a3f5f"
          },
          "geo": {
           "bgcolor": "white",
           "lakecolor": "white",
           "landcolor": "#E5ECF6",
           "showlakes": true,
           "showland": true,
           "subunitcolor": "white"
          },
          "hoverlabel": {
           "align": "left"
          },
          "hovermode": "closest",
          "mapbox": {
           "style": "light"
          },
          "paper_bgcolor": "white",
          "plot_bgcolor": "#E5ECF6",
          "polar": {
           "angularaxis": {
            "gridcolor": "white",
            "linecolor": "white",
            "ticks": ""
           },
           "bgcolor": "#E5ECF6",
           "radialaxis": {
            "gridcolor": "white",
            "linecolor": "white",
            "ticks": ""
           }
          },
          "scene": {
           "xaxis": {
            "backgroundcolor": "#E5ECF6",
            "gridcolor": "white",
            "gridwidth": 2,
            "linecolor": "white",
            "showbackground": true,
            "ticks": "",
            "zerolinecolor": "white"
           },
           "yaxis": {
            "backgroundcolor": "#E5ECF6",
            "gridcolor": "white",
            "gridwidth": 2,
            "linecolor": "white",
            "showbackground": true,
            "ticks": "",
            "zerolinecolor": "white"
           },
           "zaxis": {
            "backgroundcolor": "#E5ECF6",
            "gridcolor": "white",
            "gridwidth": 2,
            "linecolor": "white",
            "showbackground": true,
            "ticks": "",
            "zerolinecolor": "white"
           }
          },
          "shapedefaults": {
           "line": {
            "color": "#2a3f5f"
           }
          },
          "ternary": {
           "aaxis": {
            "gridcolor": "white",
            "linecolor": "white",
            "ticks": ""
           },
           "baxis": {
            "gridcolor": "white",
            "linecolor": "white",
            "ticks": ""
           },
           "bgcolor": "#E5ECF6",
           "caxis": {
            "gridcolor": "white",
            "linecolor": "white",
            "ticks": ""
           }
          },
          "title": {
           "x": 0.05
          },
          "xaxis": {
           "automargin": true,
           "gridcolor": "white",
           "linecolor": "white",
           "ticks": "",
           "title": {
            "standoff": 15
           },
           "zerolinecolor": "white",
           "zerolinewidth": 2
          },
          "yaxis": {
           "automargin": true,
           "gridcolor": "white",
           "linecolor": "white",
           "ticks": "",
           "title": {
            "standoff": 15
           },
           "zerolinecolor": "white",
           "zerolinewidth": 2
          }
         }
        },
        "width": 600,
        "xaxis": {
         "autorange": false,
         "range": [
          -2.944437419204849,
          3.092490577829439
         ],
         "type": "linear"
        },
        "yaxis": {
         "autorange": false,
         "range": [
          13.156781010310954,
          19.19370900734524
         ],
         "type": "linear"
        }
       }
      },
      "image/png": "[encoded data removed]",
      "text/html": [
       "<div\n",
       "    class=\"webio-mountpoint\"\n",
       "    data-webio-mountpoint=\"18097090837197144076\"\n",
       ">\n",
       "    <script>\n",
       "    (function(){\n",
       "    // Some integrations (namely, IJulia/Jupyter) use an alternate render pathway than\n",
       "    // just putting the html on the page. If WebIO isn't defined, then it's pretty likely\n",
       "    // that we're in one of those situations and the integration just isn't installed\n",
       "    // correctly.\n",
       "    if (typeof window.WebIO === \"undefined\") {\n",
       "        document\n",
       "            .querySelector('[data-webio-mountpoint=\"18097090837197144076\"]')\n",
       "            .innerHTML = (\n",
       "                '<div style=\"padding: 1em; background-color: #f8d6da; border: 1px solid #f5c6cb; font-weight: bold;\">' +\n",
       "                '<p><strong>WebIO not detected.</strong></p>' +\n",
       "                '<p>Please read ' +\n",
       "                '<a href=\"https://juliagizmos.github.io/WebIO.jl/latest/troubleshooting/not-detected/\" target=\"_blank\">the troubleshooting guide</a> ' +\n",
       "                'for more information on how to resolve this issue.</p>' +\n",
       "                '<p><a href=\"https://juliagizmos.github.io/WebIO.jl/latest/troubleshooting/not-detected/\" target=\"_blank\">https://juliagizmos.github.io/WebIO.jl/latest/troubleshooting/not-detected/</a></p>' +\n",
       "                '</div>'\n",
       "            );\n",
       "        return;\n",
       "    }\n",
       "    WebIO.mount(\n",
       "        document.querySelector('[data-webio-mountpoint=\"18097090837197144076\"]'),\n",
       "        {\"props\":{},\"nodeType\":\"Scope\",\"type\":\"node\",\"instanceArgs\":{\"imports\":{\"data\":[{\"name\":\"Plotly\",\"type\":\"js\",\"url\":\"\\/assetserver\\/d66a736669047bda0b2d00471bd5207a90cf3193-plotly.min.js\"},{\"name\":null,\"type\":\"js\",\"url\":\"\\/assetserver\\/aee3160e397a4905b07437c5af565305d1ef6def-plotly_webio.bundle.js\"}],\"type\":\"async_block\"},\"id\":\"9897872053063967245\",\"handlers\":{\"_toImage\":[\"(function (options){return this.Plotly.toImage(this.plotElem,options).then((function (data){return WebIO.setval({\\\"name\\\":\\\"image\\\",\\\"scope\\\":\\\"9897872053063967245\\\",\\\"id\\\":\\\"2794546136229580480\\\",\\\"type\\\":\\\"observable\\\"},data)}))})\"],\"__get_gd_contents\":[\"(function (prop){prop==\\\"data\\\" ? (WebIO.setval({\\\"name\\\":\\\"__gd_contents\\\",\\\"scope\\\":\\\"9897872053063967245\\\",\\\"id\\\":\\\"9920632648016947157\\\",\\\"type\\\":\\\"observable\\\"},this.plotElem.data)) : undefined; return prop==\\\"layout\\\" ? (WebIO.setval({\\\"name\\\":\\\"__gd_contents\\\",\\\"scope\\\":\\\"9897872053063967245\\\",\\\"id\\\":\\\"9920632648016947157\\\",\\\"type\\\":\\\"observable\\\"},this.plotElem.layout)) : undefined})\"],\"_downloadImage\":[\"(function (options){return this.Plotly.downloadImage(this.plotElem,options)})\"],\"_commands\":[\"(function (args){var fn=args.shift(); var elem=this.plotElem; var Plotly=this.Plotly; args.unshift(elem); return Plotly[fn].apply(this,args)})\"]},\"systemjs_options\":null,\"mount_callbacks\":[\"function () {\\n    var handler = ((function (Plotly,PlotlyWebIO){PlotlyWebIO.init(WebIO); var gd=this.dom.querySelector(\\\"#plot-e80b36d5-18bd-4faf-a2ad-57dd62b4cc42\\\"); this.plotElem=gd; this.Plotly=Plotly; (window.Blink!==undefined) ? (gd.style.width=\\\"100%\\\", gd.style.height=\\\"100vh\\\", gd.style.marginLeft=\\\"0%\\\", gd.style.marginTop=\\\"0vh\\\") : undefined; window.onresize=(function (){return Plotly.Plots.resize(gd)}); Plotly.newPlot(gd,[{\\\"y\\\":[4.0,4.707106781186548,5.414213562373095,4.0],\\\"type\\\":\\\"scatter\\\",\\\"x\\\":[2.0,2.7071067811865475,2.0,2.0]},{\\\"y\\\":[4.707106781186548,4.0,3.2928932188134525,4.0,4.707106781186548],\\\"type\\\":\\\"scatter\\\",\\\"x\\\":[2.0,1.2928932188134525,2.0,2.7071067811865475,2.0]},{\\\"y\\\":[2.0,2.009938449269197,2.0396550243029123,2.0888543884277184,2.1570475762591848,2.243556853259543,2.3475224513680097,2.4679111137620438,2.603526363827854,2.7530203962825324,2.9149074722684816,3.0875786852936735,3.2693179512672086,3.458319063713989,3.6527036446661394,3.8505398128271504,4.049861383476146,4.248687409294969,4.445041867912629,4.636973300503369,4.822574206261223,4.999999999999998,5.1674873444695795,5.323371675193719,5.466103743659652,5.594265014445844,5.70658176326431,5.801937735804838,5.879385241571817,5.9381545724581555,5.977661652450257,5.9975138424378445,5.9975138424378445,5.977661652450257,5.938154572458156,5.879385241571818,5.801937735804838,5.706581763264311,5.5942650144458455,5.4661037436596525,5.3233716751937195,5.1674873444695795,5.000000000000001,4.822574206261224,4.63697330050337,4.44504186791263,4.248687409294972,4.049861383476147,3.8505398128271535,3.6527036446661403,3.4583190637139936,3.2693179512672126,3.087578685293676,2.9149074722684825,2.7530203962825333,2.6035263638278545,2.4679111137620433,2.3475224513680093,2.2435568532595433,2.1570475762591848,2.0888543884277198,2.039655024302913,2.0099384492691974,2.0,2.0],\\\"type\\\":\\\"scatter\\\",\\\"x\\\":[3.0,2.800864306808367,2.6037077136012052,2.4104896511781924,2.2231304074506113,2.0434920427573635,1.8733598838727568,1.7144247806269215,1.5682663014805633,1.4363370350639406,1.319948153698457,1.2202563823770631,1.138252502711592,1.0747515060999762,1.030384493975584,1.0055924056376397,1.0006216359983675,1.0155215867996557,1.0501441756363528,1.1041453076657366,1.1769882953766535,1.267949192431122,1.3761239885682865,1.5004375940645316,1.6396545244581604,1.7923911793490437,1.9571295932410029,2.1322325217648834,2.3159597133486627,2.506485204619412,2.7019154676476496,2.900308228678605,3.0996917713213943,3.2980845323523496,3.493514795380585,3.684040286651336,3.8677674782351157,4.042870406758997,4.207608820650954,4.3603454755418385,4.4995624059354675,4.623876011431713,4.732050807568877,4.823011704623346,4.895854692334263,4.949855824363647,4.984478413200344,4.9993783640016325,4.994407594362361,4.969615506024416,4.925248493900025,4.86174749728841,4.779743617622938,4.680051846301543,4.56366296493606,4.431733698519436,4.285575219373078,4.126640116127243,3.9565079572426374,3.7768695925493896,3.589510348821811,3.3962922863987974,3.199135693191635,3.000000000000001,3.0]},{\\\"y\\\":[0.0,2.802100986924392,0.0],\\\"type\\\":\\\"scatter\\\",\\\"x\\\":[0.0,1.401050493462196,0.0]}],{\\\"xaxis\\\":{\\\"range\\\":[-5,6]},\\\"template\\\":{\\\"layout\\\":{\\\"coloraxis\\\":{\\\"colorbar\\\":{\\\"ticks\\\":\\\"\\\",\\\"outlinewidth\\\":0}},\\\"xaxis\\\":{\\\"gridcolor\\\":\\\"white\\\",\\\"zerolinewidth\\\":2,\\\"title\\\":{\\\"standoff\\\":15},\\\"ticks\\\":\\\"\\\",\\\"zerolinecolor\\\":\\\"white\\\",\\\"automargin\\\":true,\\\"linecolor\\\":\\\"white\\\"},\\\"hovermode\\\":\\\"closest\\\",\\\"paper_bgcolor\\\":\\\"white\\\",\\\"geo\\\":{\\\"showlakes\\\":true,\\\"showland\\\":true,\\\"landcolor\\\":\\\"#E5ECF6\\\",\\\"bgcolor\\\":\\\"white\\\",\\\"subunitcolor\\\":\\\"white\\\",\\\"lakecolor\\\":\\\"white\\\"},\\\"colorscale\\\":{\\\"sequential\\\":[[0.0,\\\"#0d0887\\\"],[0.1111111111111111,\\\"#46039f\\\"],[0.2222222222222222,\\\"#7201a8\\\"],[0.3333333333333333,\\\"#9c179e\\\"],[0.4444444444444444,\\\"#bd3786\\\"],[0.5555555555555556,\\\"#d8576b\\\"],[0.6666666666666666,\\\"#ed7953\\\"],[0.7777777777777778,\\\"#fb9f3a\\\"],[0.8888888888888888,\\\"#fdca26\\\"],[1.0,\\\"#f0f921\\\"]],\\\"diverging\\\":[[0,\\\"#8e0152\\\"],[0.1,\\\"#c51b7d\\\"],[0.2,\\\"#de77ae\\\"],[0.3,\\\"#f1b6da\\\"],[0.4,\\\"#fde0ef\\\"],[0.5,\\\"#f7f7f7\\\"],[0.6,\\\"#e6f5d0\\\"],[0.7,\\\"#b8e186\\\"],[0.8,\\\"#7fbc41\\\"],[0.9,\\\"#4d9221\\\"],[1,\\\"#276419\\\"]],\\\"sequentialminus\\\":[[0.0,\\\"#0d0887\\\"],[0.1111111111111111,\\\"#46039f\\\"],[0.2222222222222222,\\\"#7201a8\\\"],[0.3333333333333333,\\\"#9c179e\\\"],[0.4444444444444444,\\\"#bd3786\\\"],[0.5555555555555556,\\\"#d8576b\\\"],[0.6666666666666666,\\\"#ed7953\\\"],[0.7777777777777778,\\\"#fb9f3a\\\"],[0.8888888888888888,\\\"#fdca26\\\"],[1.0,\\\"#f0f921\\\"]]},\\\"yaxis\\\":{\\\"gridcolor\\\":\\\"white\\\",\\\"zerolinewidth\\\":2,\\\"title\\\":{\\\"standoff\\\":15},\\\"ticks\\\":\\\"\\\",\\\"zerolinecolor\\\":\\\"white\\\",\\\"automargin\\\":true,\\\"linecolor\\\":\\\"white\\\"},\\\"shapedefaults\\\":{\\\"line\\\":{\\\"color\\\":\\\"#2a3f5f\\\"}},\\\"hoverlabel\\\":{\\\"align\\\":\\\"left\\\"},\\\"mapbox\\\":{\\\"style\\\":\\\"light\\\"},\\\"polar\\\":{\\\"angularaxis\\\":{\\\"gridcolor\\\":\\\"white\\\",\\\"ticks\\\":\\\"\\\",\\\"linecolor\\\":\\\"white\\\"},\\\"bgcolor\\\":\\\"#E5ECF6\\\",\\\"radialaxis\\\":{\\\"gridcolor\\\":\\\"white\\\",\\\"ticks\\\":\\\"\\\",\\\"linecolor\\\":\\\"white\\\"}},\\\"autotypenumbers\\\":\\\"strict\\\",\\\"font\\\":{\\\"color\\\":\\\"#2a3f5f\\\"},\\\"ternary\\\":{\\\"baxis\\\":{\\\"gridcolor\\\":\\\"white\\\",\\\"ticks\\\":\\\"\\\",\\\"linecolor\\\":\\\"white\\\"},\\\"bgcolor\\\":\\\"#E5ECF6\\\",\\\"caxis\\\":{\\\"gridcolor\\\":\\\"white\\\",\\\"ticks\\\":\\\"\\\",\\\"linecolor\\\":\\\"white\\\"},\\\"aaxis\\\":{\\\"gridcolor\\\":\\\"white\\\",\\\"ticks\\\":\\\"\\\",\\\"linecolor\\\":\\\"white\\\"}},\\\"annotationdefaults\\\":{\\\"arrowhead\\\":0,\\\"arrowwidth\\\":1,\\\"arrowcolor\\\":\\\"#2a3f5f\\\"},\\\"plot_bgcolor\\\":\\\"#E5ECF6\\\",\\\"title\\\":{\\\"x\\\":0.05},\\\"scene\\\":{\\\"xaxis\\\":{\\\"gridcolor\\\":\\\"white\\\",\\\"gridwidth\\\":2,\\\"backgroundcolor\\\":\\\"#E5ECF6\\\",\\\"ticks\\\":\\\"\\\",\\\"showbackground\\\":true,\\\"zerolinecolor\\\":\\\"white\\\",\\\"linecolor\\\":\\\"white\\\"},\\\"zaxis\\\":{\\\"gridcolor\\\":\\\"white\\\",\\\"gridwidth\\\":2,\\\"backgroundcolor\\\":\\\"#E5ECF6\\\",\\\"ticks\\\":\\\"\\\",\\\"showbackground\\\":true,\\\"zerolinecolor\\\":\\\"white\\\",\\\"linecolor\\\":\\\"white\\\"},\\\"yaxis\\\":{\\\"gridcolor\\\":\\\"white\\\",\\\"gridwidth\\\":2,\\\"backgroundcolor\\\":\\\"#E5ECF6\\\",\\\"ticks\\\":\\\"\\\",\\\"showbackground\\\":true,\\\"zerolinecolor\\\":\\\"white\\\",\\\"linecolor\\\":\\\"white\\\"}},\\\"colorway\\\":[\\\"#636efa\\\",\\\"#EF553B\\\",\\\"#00cc96\\\",\\\"#ab63fa\\\",\\\"#FFA15A\\\",\\\"#19d3f3\\\",\\\"#FF6692\\\",\\\"#B6E880\\\",\\\"#FF97FF\\\",\\\"#FECB52\\\"]},\\\"data\\\":{\\\"barpolar\\\":[{\\\"type\\\":\\\"barpolar\\\",\\\"marker\\\":{\\\"line\\\":{\\\"color\\\":\\\"#E5ECF6\\\",\\\"width\\\":0.5}}}],\\\"carpet\\\":[{\\\"aaxis\\\":{\\\"gridcolor\\\":\\\"white\\\",\\\"endlinecolor\\\":\\\"#2a3f5f\\\",\\\"minorgridcolor\\\":\\\"white\\\",\\\"startlinecolor\\\":\\\"#2a3f5f\\\",\\\"linecolor\\\":\\\"white\\\"},\\\"type\\\":\\\"carpet\\\",\\\"baxis\\\":{\\\"gridcolor\\\":\\\"white\\\",\\\"endlinecolor\\\":\\\"#2a3f5f\\\",\\\"minorgridcolor\\\":\\\"white\\\",\\\"startlinecolor\\\":\\\"#2a3f5f\\\",\\\"linecolor\\\":\\\"white\\\"}}],\\\"scatterpolar\\\":[{\\\"type\\\":\\\"scatterpolar\\\",\\\"marker\\\":{\\\"colorbar\\\":{\\\"ticks\\\":\\\"\\\",\\\"outlinewidth\\\":0}}}],\\\"parcoords\\\":[{\\\"line\\\":{\\\"colorbar\\\":{\\\"ticks\\\":\\\"\\\",\\\"outlinewidth\\\":0}},\\\"type\\\":\\\"parcoords\\\"}],\\\"scatter\\\":[{\\\"type\\\":\\\"scatter\\\",\\\"marker\\\":{\\\"colorbar\\\":{\\\"ticks\\\":\\\"\\\",\\\"outlinewidth\\\":0}}}],\\\"histogram2dcontour\\\":[{\\\"colorbar\\\":{\\\"ticks\\\":\\\"\\\",\\\"outlinewidth\\\":0},\\\"type\\\":\\\"histogram2dcontour\\\",\\\"colorscale\\\":[[0.0,\\\"#0d0887\\\"],[0.1111111111111111,\\\"#46039f\\\"],[0.2222222222222222,\\\"#7201a8\\\"],[0.3333333333333333,\\\"#9c179e\\\"],[0.4444444444444444,\\\"#bd3786\\\"],[0.5555555555555556,\\\"#d8576b\\\"],[0.6666666666666666,\\\"#ed7953\\\"],[0.7777777777777778,\\\"#fb9f3a\\\"],[0.8888888888888888,\\\"#fdca26\\\"],[1.0,\\\"#f0f921\\\"]]}],\\\"contour\\\":[{\\\"colorbar\\\":{\\\"ticks\\\":\\\"\\\",\\\"outlinewidth\\\":0},\\\"type\\\":\\\"contour\\\",\\\"colorscale\\\":[[0.0,\\\"#0d0887\\\"],[0.1111111111111111,\\\"#46039f\\\"],[0.2222222222222222,\\\"#7201a8\\\"],[0.3333333333333333,\\\"#9c179e\\\"],[0.4444444444444444,\\\"#bd3786\\\"],[0.5555555555555556,\\\"#d8576b\\\"],[0.6666666666666666,\\\"#ed7953\\\"],[0.7777777777777778,\\\"#fb9f3a\\\"],[0.8888888888888888,\\\"#fdca26\\\"],[1.0,\\\"#f0f921\\\"]]}],\\\"scattercarpet\\\":[{\\\"type\\\":\\\"scattercarpet\\\",\\\"marker\\\":{\\\"colorbar\\\":{\\\"ticks\\\":\\\"\\\",\\\"outlinewidth\\\":0}}}],\\\"mesh3d\\\":[{\\\"colorbar\\\":{\\\"ticks\\\":\\\"\\\",\\\"outlinewidth\\\":0},\\\"type\\\":\\\"mesh3d\\\"}],\\\"surface\\\":[{\\\"colorbar\\\":{\\\"ticks\\\":\\\"\\\",\\\"outlinewidth\\\":0},\\\"type\\\":\\\"surface\\\",\\\"colorscale\\\":[[0.0,\\\"#0d0887\\\"],[0.1111111111111111,\\\"#46039f\\\"],[0.2222222222222222,\\\"#7201a8\\\"],[0.3333333333333333,\\\"#9c179e\\\"],[0.4444444444444444,\\\"#bd3786\\\"],[0.5555555555555556,\\\"#d8576b\\\"],[0.6666666666666666,\\\"#ed7953\\\"],[0.7777777777777778,\\\"#fb9f3a\\\"],[0.8888888888888888,\\\"#fdca26\\\"],[1.0,\\\"#f0f921\\\"]]}],\\\"scattermapbox\\\":[{\\\"type\\\":\\\"scattermapbox\\\",\\\"marker\\\":{\\\"colorbar\\\":{\\\"ticks\\\":\\\"\\\",\\\"outlinewidth\\\":0}}}],\\\"scattergeo\\\":[{\\\"type\\\":\\\"scattergeo\\\",\\\"marker\\\":{\\\"colorbar\\\":{\\\"ticks\\\":\\\"\\\",\\\"outlinewidth\\\":0}}}],\\\"histogram\\\":[{\\\"type\\\":\\\"histogram\\\",\\\"marker\\\":{\\\"colorbar\\\":{\\\"ticks\\\":\\\"\\\",\\\"outlinewidth\\\":0}}}],\\\"pie\\\":[{\\\"type\\\":\\\"pie\\\",\\\"automargin\\\":true}],\\\"choropleth\\\":[{\\\"colorbar\\\":{\\\"ticks\\\":\\\"\\\",\\\"outlinewidth\\\":0},\\\"type\\\":\\\"choropleth\\\"}],\\\"heatmapgl\\\":[{\\\"colorbar\\\":{\\\"ticks\\\":\\\"\\\",\\\"outlinewidth\\\":0},\\\"type\\\":\\\"heatmapgl\\\",\\\"colorscale\\\":[[0.0,\\\"#0d0887\\\"],[0.1111111111111111,\\\"#46039f\\\"],[0.2222222222222222,\\\"#7201a8\\\"],[0.3333333333333333,\\\"#9c179e\\\"],[0.4444444444444444,\\\"#bd3786\\\"],[0.5555555555555556,\\\"#d8576b\\\"],[0.6666666666666666,\\\"#ed7953\\\"],[0.7777777777777778,\\\"#fb9f3a\\\"],[0.8888888888888888,\\\"#fdca26\\\"],[1.0,\\\"#f0f921\\\"]]}],\\\"bar\\\":[{\\\"type\\\":\\\"bar\\\",\\\"error_y\\\":{\\\"color\\\":\\\"#2a3f5f\\\"},\\\"error_x\\\":{\\\"color\\\":\\\"#2a3f5f\\\"},\\\"marker\\\":{\\\"line\\\":{\\\"color\\\":\\\"#E5ECF6\\\",\\\"width\\\":0.5}}}],\\\"heatmap\\\":[{\\\"colorbar\\\":{\\\"ticks\\\":\\\"\\\",\\\"outlinewidth\\\":0},\\\"type\\\":\\\"heatmap\\\",\\\"colorscale\\\":[[0.0,\\\"#0d0887\\\"],[0.1111111111111111,\\\"#46039f\\\"],[0.2222222222222222,\\\"#7201a8\\\"],[0.3333333333333333,\\\"#9c179e\\\"],[0.4444444444444444,\\\"#bd3786\\\"],[0.5555555555555556,\\\"#d8576b\\\"],[0.6666666666666666,\\\"#ed7953\\\"],[0.7777777777777778,\\\"#fb9f3a\\\"],[0.8888888888888888,\\\"#fdca26\\\"],[1.0,\\\"#f0f921\\\"]]}],\\\"contourcarpet\\\":[{\\\"colorbar\\\":{\\\"ticks\\\":\\\"\\\",\\\"outlinewidth\\\":0},\\\"type\\\":\\\"contourcarpet\\\"}],\\\"table\\\":[{\\\"type\\\":\\\"table\\\",\\\"header\\\":{\\\"line\\\":{\\\"color\\\":\\\"white\\\"},\\\"fill\\\":{\\\"color\\\":\\\"#C8D4E3\\\"}},\\\"cells\\\":{\\\"line\\\":{\\\"color\\\":\\\"white\\\"},\\\"fill\\\":{\\\"color\\\":\\\"#EBF0F8\\\"}}}],\\\"scatter3d\\\":[{\\\"line\\\":{\\\"colorbar\\\":{\\\"ticks\\\":\\\"\\\",\\\"outlinewidth\\\":0}},\\\"type\\\":\\\"scatter3d\\\",\\\"marker\\\":{\\\"colorbar\\\":{\\\"ticks\\\":\\\"\\\",\\\"outlinewidth\\\":0}}}],\\\"scattergl\\\":[{\\\"type\\\":\\\"scattergl\\\",\\\"marker\\\":{\\\"colorbar\\\":{\\\"ticks\\\":\\\"\\\",\\\"outlinewidth\\\":0}}}],\\\"histogram2d\\\":[{\\\"colorbar\\\":{\\\"ticks\\\":\\\"\\\",\\\"outlinewidth\\\":0},\\\"type\\\":\\\"histogram2d\\\",\\\"colorscale\\\":[[0.0,\\\"#0d0887\\\"],[0.1111111111111111,\\\"#46039f\\\"],[0.2222222222222222,\\\"#7201a8\\\"],[0.3333333333333333,\\\"#9c179e\\\"],[0.4444444444444444,\\\"#bd3786\\\"],[0.5555555555555556,\\\"#d8576b\\\"],[0.6666666666666666,\\\"#ed7953\\\"],[0.7777777777777778,\\\"#fb9f3a\\\"],[0.8888888888888888,\\\"#fdca26\\\"],[1.0,\\\"#f0f921\\\"]]}],\\\"scatterternary\\\":[{\\\"type\\\":\\\"scatterternary\\\",\\\"marker\\\":{\\\"colorbar\\\":{\\\"ticks\\\":\\\"\\\",\\\"outlinewidth\\\":0}}}],\\\"scatterpolargl\\\":[{\\\"type\\\":\\\"scatterpolargl\\\",\\\"marker\\\":{\\\"colorbar\\\":{\\\"ticks\\\":\\\"\\\",\\\"outlinewidth\\\":0}}}]}},\\\"height\\\":600,\\\"margin\\\":{\\\"l\\\":50,\\\"b\\\":50,\\\"r\\\":50,\\\"t\\\":60},\\\"yaxis\\\":{\\\"range\\\":[-5,6]},\\\"width\\\":600},{\\\"showLink\\\":false,\\\"editable\\\":false,\\\"responsive\\\":true,\\\"staticPlot\\\":false,\\\"scrollZoom\\\":true}); gd.on(\\\"plotly_hover\\\",(function (data){var filtered_data=WebIO.PlotlyCommands.filterEventData(gd,data,\\\"hover\\\"); return !(filtered_data.isnil) ? (WebIO.setval({\\\"name\\\":\\\"hover\\\",\\\"scope\\\":\\\"9897872053063967245\\\",\\\"id\\\":\\\"8904512822046854399\\\",\\\"type\\\":\\\"observable\\\"},filtered_data.out)) : undefined})); gd.on(\\\"plotly_unhover\\\",(function (){return WebIO.setval({\\\"name\\\":\\\"hover\\\",\\\"scope\\\":\\\"9897872053063967245\\\",\\\"id\\\":\\\"8904512822046854399\\\",\\\"type\\\":\\\"observable\\\"},{})})); gd.on(\\\"plotly_selected\\\",(function (data){var filtered_data=WebIO.PlotlyCommands.filterEventData(gd,data,\\\"selected\\\"); return !(filtered_data.isnil) ? (WebIO.setval({\\\"name\\\":\\\"selected\\\",\\\"scope\\\":\\\"9897872053063967245\\\",\\\"id\\\":\\\"10729312416852184427\\\",\\\"type\\\":\\\"observable\\\"},filtered_data.out)) : undefined})); gd.on(\\\"plotly_deselect\\\",(function (){return WebIO.setval({\\\"name\\\":\\\"selected\\\",\\\"scope\\\":\\\"9897872053063967245\\\",\\\"id\\\":\\\"10729312416852184427\\\",\\\"type\\\":\\\"observable\\\"},{})})); gd.on(\\\"plotly_relayout\\\",(function (data){var filtered_data=WebIO.PlotlyCommands.filterEventData(gd,data,\\\"relayout\\\"); return !(filtered_data.isnil) ? (WebIO.setval({\\\"name\\\":\\\"relayout\\\",\\\"scope\\\":\\\"9897872053063967245\\\",\\\"id\\\":\\\"9864807554283663584\\\",\\\"type\\\":\\\"observable\\\"},filtered_data.out)) : undefined})); return gd.on(\\\"plotly_click\\\",(function (data){var filtered_data=WebIO.PlotlyCommands.filterEventData(gd,data,\\\"click\\\"); return !(filtered_data.isnil) ? (WebIO.setval({\\\"name\\\":\\\"click\\\",\\\"scope\\\":\\\"9897872053063967245\\\",\\\"id\\\":\\\"4258661156955152873\\\",\\\"type\\\":\\\"observable\\\"},filtered_data.out)) : undefined}))}));\\n    (WebIO.importBlock({\\\"data\\\":[{\\\"name\\\":\\\"Plotly\\\",\\\"type\\\":\\\"js\\\",\\\"url\\\":\\\"\\/assetserver\\/d66a736669047bda0b2d00471bd5207a90cf3193-plotly.min.js\\\"},{\\\"name\\\":null,\\\"type\\\":\\\"js\\\",\\\"url\\\":\\\"\\/assetserver\\/aee3160e397a4905b07437c5af565305d1ef6def-plotly_webio.bundle.js\\\"}],\\\"type\\\":\\\"async_block\\\"})).then((imports) => handler.apply(this, imports));\\n}\\n\"],\"observables\":{\"_toImage\":{\"sync\":false,\"id\":\"13451568526913624891\",\"value\":{}},\"hover\":{\"sync\":false,\"id\":\"8904512822046854399\",\"value\":{}},\"selected\":{\"sync\":false,\"id\":\"10729312416852184427\",\"value\":{}},\"__gd_contents\":{\"sync\":false,\"id\":\"9920632648016947157\",\"value\":{}},\"click\":{\"sync\":false,\"id\":\"4258661156955152873\",\"value\":{}},\"image\":{\"sync\":true,\"id\":\"2794546136229580480\",\"value\":\"\"},\"__get_gd_contents\":{\"sync\":false,\"id\":\"12175829779741290156\",\"value\":\"\"},\"_downloadImage\":{\"sync\":false,\"id\":\"187827990126546369\",\"value\":{}},\"relayout\":{\"sync\":false,\"id\":\"9864807554283663584\",\"value\":{}},\"_commands\":{\"sync\":false,\"id\":\"15927164559819346166\",\"value\":[]}}},\"children\":[{\"props\":{\"id\":\"plot-e80b36d5-18bd-4faf-a2ad-57dd62b4cc42\"},\"nodeType\":\"DOM\",\"type\":\"node\",\"instanceArgs\":{\"namespace\":\"html\",\"tag\":\"div\"},\"children\":[]}]},\n",
       "        window,\n",
       "    );\n",
       "    })()\n",
       "    </script>\n",
       "</div>\n"
      ],
      "text/plain": [
       "data: [\n",
       "  \"scatter with fields type, x, and y\",\n",
       "  \"scatter with fields type, x, and y\",\n",
       "  \"scatter with fields type, x, and y\",\n",
       "  \"scatter with fields type, x, and y\"\n",
       "]\n",
       "\n",
       "layout: \"layout with fields height, margin, template, width, xaxis, and yaxis\"\n",
       "\n"
      ]
     },
     "execution_count": 17,
     "metadata": {},
     "output_type": "execute_result"
    }
   ],
   "source": [
    "R = LinearMap(RotMatrix{2}(π/4))\n",
    "T = Translation(2.0, 4.0)\n",
    "s = MySquare(1).g\n",
    "t = Triangle(Point(0,0), Point(1,0), Point(1,1))\n",
    "c = Circle(Point(1,0),2)\n",
    "\n",
    "st = transform(t,T∘R)\n",
    "ss = transform(s,T∘R)\n",
    "sc = transform(c,T)\n",
    "D  = DiagramDual(Prim.([st,ss,sc]))\n",
    "\n",
    "\n",
    "v = [2.0,4.0]\n",
    "v = normalize(v) * trace(D,v)\n",
    "\n",
    "l = Line(Point(0.0,0.),Point(v...))\n",
    "\n",
    "layout = Layout(\n",
    "    xaxis = attr(range = [-5, 6]),\n",
    "    yaxis = attr(range = [-5, 6]),\n",
    "    width = 600,\n",
    "    height = 600\n",
    ")\n",
    "pt = plotgeometry(D)\n",
    "pl = plotgeometry(l)\n",
    "\n",
    "plot(vcat(pt,pl),layout)"
   ]
  },
  {
   "cell_type": "markdown",
   "id": "c058008f-e464-4808-8b56-7ff193bde8e2",
   "metadata": {},
   "source": [
    "## 5. Envelope and Trace as Semigroups / Monoids\n",
    "\n",
    "We explained how these two functions are defined, let us explain the categorical\n",
    "interpratation.\n",
    "\n",
    "First, a semigroup $(S, \\circ)$ is a set $S$ with an associative binary operation $\\circ$,\n",
    "i.e. a semigroup is just a monoid without a neutral element.\n",
    "The tuple $(\\mathbb R, max)$ is a semigroup. Just note that for $a,b \\in \\mathbb R$,\n",
    "$max(a,max(b,c)) = max(max(a,b),c)$.\n",
    "\n",
    "Consider a type `Envelope` containing functions that go from vectors\n",
    "to real numbers, i.e. a type that contains envelope functions.\n",
    "\n",
    "We can define a semigroup `(Envelope, ⋄)` where\n",
    "the composition of two envelope functions return another\n",
    "evelope fuction as  `max(env1, env2)` "
   ]
  },
  {
   "cell_type": "code",
   "execution_count": 18,
   "id": "9609a693-4790-4b54-947c-b59d6425fe4a",
   "metadata": {},
   "outputs": [
    {
     "data": {
      "text/plain": [
       "true"
      ]
     },
     "execution_count": 18,
     "metadata": {},
     "output_type": "execute_result"
    }
   ],
   "source": [
    "struct Envelope1\n",
    "    f::FunctionType(Vector{Real},Real)\n",
    "end\n",
    "\n",
    "function ⋄(env1::Envelope1, env2::Envelope1)::Envelope1\n",
    "    Envelope1(FunctionType(Vector{Real},Real)(x::Vector{Real} -> max(env1.f(x),env2.f(x))))\n",
    "end\n",
    "\n",
    "envP(p::Primitive1) = Envelope1(v -> envelopeP(p.g,v))\n",
    "envP(MyCircle()) isa Envelope1"
   ]
  },
  {
   "cell_type": "code",
   "execution_count": 19,
   "id": "e3915337-7b94-483f-be22-6dee7ae58fd9",
   "metadata": {},
   "outputs": [
    {
     "data": {
      "text/plain": [
       "true"
      ]
     },
     "execution_count": 19,
     "metadata": {},
     "output_type": "execute_result"
    }
   ],
   "source": [
    "envP(MyCircle()) ⋄ envP(MyCircle(2)) isa Envelope1"
   ]
  },
  {
   "cell_type": "code",
   "execution_count": 20,
   "id": "3dd2de97-9308-4a9b-ab2f-ca036ed1cadb",
   "metadata": {},
   "outputs": [
    {
     "data": {
      "text/plain": [
       "1.9986014095767968"
      ]
     },
     "execution_count": 20,
     "metadata": {},
     "output_type": "execute_result"
    }
   ],
   "source": [
    "(envP(MyCircle()) ⋄ envP(MyCircle(2))).f([1,1])"
   ]
  },
  {
   "cell_type": "markdown",
   "id": "d399c182-e040-4827-9f6e-aa64680d7660",
   "metadata": {},
   "source": [
    "We can turn the semigroup `(Envelope, ⋄)` into a monoid if we define an empty envelope\n",
    "function `env_empty(v::Vector) = nothing`."
   ]
  },
  {
   "cell_type": "code",
   "execution_count": 21,
   "id": "83574447-e8c8-495f-ba63-e3c10912511a",
   "metadata": {},
   "outputs": [
    {
     "data": {
      "text/plain": [
       "(true, true)"
      ]
     },
     "execution_count": 21,
     "metadata": {},
     "output_type": "execute_result"
    }
   ],
   "source": [
    "# Removing the function wrapper due to compilation erros\n",
    "struct Envelope\n",
    "    # f::FunctionType(Vector{Real},Union{Real,Nothing})\n",
    "    f::Function\n",
    "end\n",
    "\n",
    "# Let's create a function `fmax` that can compute the max when there are `nothing` values.\n",
    "fmax(x,y) = max(x,y)\n",
    "fmax(x,y::Nothing) = x\n",
    "fmax(x::Nothing,y) = y\n",
    "fmax(x::Nothing,y::Nothing) = nothing\n",
    "function ⋄(env1::Envelope, env2::Envelope)::Envelope\n",
    "    Envelope(x -> fmax(env1.f(x),env2.f(x)))\n",
    "end\n",
    "neutral(::Type{Envelope}) = Envelope(v::Vector -> nothing)\n",
    "\n",
    "\n",
    "envP(p::Primitive1) = Envelope(v -> envelopeP(p.g,v))\n",
    "envP() = Envelope(v::Vector -> nothing)\n",
    "\n",
    "(envP(MyCircle()) ⋄ envP()).f([1,1]) ≈ envP(MyCircle()).f([1,1]), (envP() ⋄ envP(MyCircle(2))).f([1,1]) ≈ envP(MyCircle(2)).f([1,1])"
   ]
  },
  {
   "cell_type": "markdown",
   "id": "9daa58aa-24b7-4464-9461-77ca9fcafceb",
   "metadata": {},
   "source": [
    "Finally, let's implement the `env` function, which is the same as\n",
    "the  `envelope`, but it is actually a high-order function. "
   ]
  },
  {
   "cell_type": "code",
   "execution_count": 22,
   "id": "e0e19a22-2ef4-4d8f-bee4-f780859ef494",
   "metadata": {},
   "outputs": [
    {
     "data": {
      "text/plain": [
       "true"
      ]
     },
     "execution_count": 22,
     "metadata": {},
     "output_type": "execute_result"
    }
   ],
   "source": [
    "envD(D::DiagramDual) = (mconcat ∘ map)(envP,unD(D))\n",
    "envD(D).f([1,2]) == envelope(D,[1,2])"
   ]
  },
  {
   "cell_type": "markdown",
   "id": "7a0c117b-4dfb-4c7f-b999-3d2d0868471a",
   "metadata": {},
   "source": [
    "### Defining `beside` \n",
    "\n",
    "With the envelope working, let us define the `beside` operation.\n",
    "This consists in translating a primitive by the "
   ]
  },
  {
   "cell_type": "code",
   "execution_count": 162,
   "id": "2757dc83-05a6-4fbf-9bcb-f131d9da5ccb",
   "metadata": {},
   "outputs": [
    {
     "data": {
      "text/plain": [
       "translate (generic function with 1 method)"
      ]
     },
     "execution_count": 162,
     "metadata": {},
     "output_type": "execute_result"
    }
   ],
   "source": [
    "translateP(C::MyCircle,v::Vector) = MyCircle(C.ρ, C.c + Point2(v))\n",
    "translateP(S::MySquare,v::Vector) = MySquare(S.l, S.c + Point2(v))\n",
    "translateP(p::Prim,v::Vector) = Prim(transform(p.g,Translation(v)))\n",
    "\n",
    "\n",
    "# Usage\n",
    "translateP(triangle1,[1,1]);\n",
    "translateP(MySquare(),[1,0])\n",
    "translateP(MyCircle(),[1,2])\n",
    "\n",
    "# Lift to Diagram\n",
    "translate(d::DiagramDual, v) = DiagramDual(map(x->translateP(x,v), d.p))"
   ]
  },
  {
   "cell_type": "code",
   "execution_count": 164,
   "id": "15bbe943-0714-448f-a7ab-f2881464fcb9",
   "metadata": {},
   "outputs": [],
   "source": [
    "D1 = DiagramDual([MyCircle(),MyCircle(2)])\n",
    "D2 = DiagramDual(MySquare(2));"
   ]
  },
  {
   "cell_type": "code",
   "execution_count": 165,
   "id": "50379f3c-543c-4776-9199-e6ddc770668c",
   "metadata": {},
   "outputs": [
    {
     "data": {
      "text/plain": [
       "beside (generic function with 1 method)"
      ]
     },
     "execution_count": 165,
     "metadata": {},
     "output_type": "execute_result"
    }
   ],
   "source": [
    "function beside(D1, D2, v)::DiagramDual\n",
    "    e1 = envD(D1).f(v)\n",
    "    e2 = envD(D2).f(-v)\n",
    "    if isnothing(e1) || isnothing(e2)\n",
    "        return D1 ⋄ D2\n",
    "    end\n",
    "    D1 ⋄ translate(D2, (e1+e2)*v)\n",
    "end"
   ]
  },
  {
   "cell_type": "code",
   "execution_count": 166,
   "id": "cbf5577a-50a5-4710-801b-5ca778377f10",
   "metadata": {},
   "outputs": [
    {
     "data": {
      "text/plain": [
       "DiagramDual(Primitive1[MyCircle(1, [0, 0], Circle{Int64}([0, 0], 1)), MyCircle(2, [0, 0], Circle{Int64}([0, 0], 2))])"
      ]
     },
     "execution_count": 166,
     "metadata": {},
     "output_type": "execute_result"
    }
   ],
   "source": [
    "# Does nothing\n",
    "beside(D1,DiagramDual(),[1,0])"
   ]
  },
  {
   "cell_type": "code",
   "execution_count": 176,
   "id": "25cde52e-ed5a-46ef-82bb-1c5c6ee00b72",
   "metadata": {},
   "outputs": [
    {
     "data": {
      "application/vnd.plotly.v1+json": {
       "config": {
        "editable": false,
        "responsive": true,
        "scrollZoom": true,
        "showLink": false,
        "staticPlot": false
       },
       "data": [
        {
         "type": "scatter",
         "x": [
          2.9996891820008162,
          0.9996891820008162,
          0.9996891820008162,
          2.9996891820008162,
          2.9996891820008162
         ],
         "y": [
          1,
          1,
          -1,
          -1,
          1
         ]
        },
        {
         "type": "scatter",
         "x": [
          1.2246467991473532e-16,
          -0.09956784659581648,
          -0.19814614319939736,
          -0.29475517441090393,
          -0.3884347962746944,
          -0.47825397862131824,
          -0.5633200580636216,
          -0.6427876096865393,
          -0.7158668492597183,
          -0.7818314824680297,
          -0.8400259231507715,
          -0.8898718088114684,
          -0.930873748644204,
          -0.9626242469500119,
          -0.984807753012208,
          -0.9972037971811801,
          -0.9996891820008162,
          -0.9922392066001722,
          -0.9749279121818236,
          -0.9479273461671317,
          -0.9115058523116732,
          -0.866025403784439,
          -0.8119380057158567,
          -0.7497812029677342,
          -0.6801727377709198,
          -0.6038044103254782,
          -0.5214352033794986,
          -0.43388373911755834,
          -0.3420201433256686,
          -0.24675739769029395,
          -0.14904226617617528,
          -0.0498458856606976,
          0.049845885660697115,
          0.14904226617617478,
          0.24675739769029262,
          0.3420201433256681,
          0.4338837391175579,
          0.5214352033794982,
          0.603804410325477,
          0.6801727377709194,
          0.7497812029677339,
          0.8119380057158564,
          0.8660254037844384,
          0.911505852311673,
          0.9479273461671315,
          0.9749279121818235,
          0.992239206600172,
          0.9996891820008162,
          0.9972037971811802,
          0.9848077530122081,
          0.9626242469500126,
          0.9308737486442048,
          0.8898718088114691,
          0.8400259231507718,
          0.78183148246803,
          0.7158668492597183,
          0.642787609686539,
          0.5633200580636213,
          0.4782539786213187,
          0.38843479627469485,
          0.2947551744109057,
          0.19814614319939872,
          0.09956784659581741,
          3.6739403974420594e-16,
          1.2246467991473532e-16
         ],
         "y": [
          -1,
          -0.9950307753654014,
          -0.9801724878485439,
          -0.9555728057861408,
          -0.9214762118704077,
          -0.8782215733702285,
          -0.8262387743159951,
          -0.7660444431189781,
          -0.698236818086073,
          -0.6234898018587337,
          -0.5425462638657592,
          -0.4562106573531632,
          -0.3653410243663957,
          -0.2708404681430055,
          -0.17364817766693033,
          -0.07473009358642473,
          0.02493069173807279,
          0.1243437046474846,
          0.22252093395631423,
          0.3184866502516846,
          0.4112871031306113,
          0.49999999999999933,
          0.5837436722347895,
          0.6616858375968594,
          0.733051871829826,
          0.7971325072229218,
          0.8532908816321554,
          0.900968867902419,
          0.9396926207859084,
          0.9690772862290778,
          0.9888308262251284,
          0.9987569212189223,
          0.9987569212189223,
          0.9888308262251285,
          0.9690772862290782,
          0.9396926207859086,
          0.9009688679024193,
          0.8532908816321556,
          0.7971325072229227,
          0.7330518718298263,
          0.6616858375968597,
          0.58374367223479,
          0.5000000000000006,
          0.41128710313061173,
          0.3184866502516851,
          0.2225209339563147,
          0.12434370464748597,
          0.024930691738073277,
          -0.07473009358642335,
          -0.17364817766692986,
          -0.2708404681430033,
          -0.3653410243663936,
          -0.45621065735316196,
          -0.5425462638657588,
          -0.6234898018587333,
          -0.6982368180860729,
          -0.7660444431189783,
          -0.8262387743159954,
          -0.8782215733702283,
          -0.9214762118704076,
          -0.9555728057861402,
          -0.9801724878485436,
          -0.9950307753654013,
          -1,
          -1
         ]
        }
       ],
       "frames": [],
       "layout": {
        "height": 600,
        "margin": {
         "b": 50,
         "l": 50,
         "r": 50,
         "t": 60
        },
        "template": {
         "data": {
          "bar": [
           {
            "error_x": {
             "color": "#2a3f5f"
            },
            "error_y": {
             "color": "#2a3f5f"
            },
            "marker": {
             "line": {
              "color": "#E5ECF6",
              "width": 0.5
             }
            },
            "type": "bar"
           }
          ],
          "barpolar": [
           {
            "marker": {
             "line": {
              "color": "#E5ECF6",
              "width": 0.5
             }
            },
            "type": "barpolar"
           }
          ],
          "carpet": [
           {
            "aaxis": {
             "endlinecolor": "#2a3f5f",
             "gridcolor": "white",
             "linecolor": "white",
             "minorgridcolor": "white",
             "startlinecolor": "#2a3f5f"
            },
            "baxis": {
             "endlinecolor": "#2a3f5f",
             "gridcolor": "white",
             "linecolor": "white",
             "minorgridcolor": "white",
             "startlinecolor": "#2a3f5f"
            },
            "type": "carpet"
           }
          ],
          "choropleth": [
           {
            "colorbar": {
             "outlinewidth": 0,
             "ticks": ""
            },
            "type": "choropleth"
           }
          ],
          "contour": [
           {
            "colorbar": {
             "outlinewidth": 0,
             "ticks": ""
            },
            "colorscale": [
             [
              0,
              "#0d0887"
             ],
             [
              0.1111111111111111,
              "#46039f"
             ],
             [
              0.2222222222222222,
              "#7201a8"
             ],
             [
              0.3333333333333333,
              "#9c179e"
             ],
             [
              0.4444444444444444,
              "#bd3786"
             ],
             [
              0.5555555555555556,
              "#d8576b"
             ],
             [
              0.6666666666666666,
              "#ed7953"
             ],
             [
              0.7777777777777778,
              "#fb9f3a"
             ],
             [
              0.8888888888888888,
              "#fdca26"
             ],
             [
              1,
              "#f0f921"
             ]
            ],
            "type": "contour"
           }
          ],
          "contourcarpet": [
           {
            "colorbar": {
             "outlinewidth": 0,
             "ticks": ""
            },
            "type": "contourcarpet"
           }
          ],
          "heatmap": [
           {
            "colorbar": {
             "outlinewidth": 0,
             "ticks": ""
            },
            "colorscale": [
             [
              0,
              "#0d0887"
             ],
             [
              0.1111111111111111,
              "#46039f"
             ],
             [
              0.2222222222222222,
              "#7201a8"
             ],
             [
              0.3333333333333333,
              "#9c179e"
             ],
             [
              0.4444444444444444,
              "#bd3786"
             ],
             [
              0.5555555555555556,
              "#d8576b"
             ],
             [
              0.6666666666666666,
              "#ed7953"
             ],
             [
              0.7777777777777778,
              "#fb9f3a"
             ],
             [
              0.8888888888888888,
              "#fdca26"
             ],
             [
              1,
              "#f0f921"
             ]
            ],
            "type": "heatmap"
           }
          ],
          "heatmapgl": [
           {
            "colorbar": {
             "outlinewidth": 0,
             "ticks": ""
            },
            "colorscale": [
             [
              0,
              "#0d0887"
             ],
             [
              0.1111111111111111,
              "#46039f"
             ],
             [
              0.2222222222222222,
              "#7201a8"
             ],
             [
              0.3333333333333333,
              "#9c179e"
             ],
             [
              0.4444444444444444,
              "#bd3786"
             ],
             [
              0.5555555555555556,
              "#d8576b"
             ],
             [
              0.6666666666666666,
              "#ed7953"
             ],
             [
              0.7777777777777778,
              "#fb9f3a"
             ],
             [
              0.8888888888888888,
              "#fdca26"
             ],
             [
              1,
              "#f0f921"
             ]
            ],
            "type": "heatmapgl"
           }
          ],
          "histogram": [
           {
            "marker": {
             "colorbar": {
              "outlinewidth": 0,
              "ticks": ""
             }
            },
            "type": "histogram"
           }
          ],
          "histogram2d": [
           {
            "colorbar": {
             "outlinewidth": 0,
             "ticks": ""
            },
            "colorscale": [
             [
              0,
              "#0d0887"
             ],
             [
              0.1111111111111111,
              "#46039f"
             ],
             [
              0.2222222222222222,
              "#7201a8"
             ],
             [
              0.3333333333333333,
              "#9c179e"
             ],
             [
              0.4444444444444444,
              "#bd3786"
             ],
             [
              0.5555555555555556,
              "#d8576b"
             ],
             [
              0.6666666666666666,
              "#ed7953"
             ],
             [
              0.7777777777777778,
              "#fb9f3a"
             ],
             [
              0.8888888888888888,
              "#fdca26"
             ],
             [
              1,
              "#f0f921"
             ]
            ],
            "type": "histogram2d"
           }
          ],
          "histogram2dcontour": [
           {
            "colorbar": {
             "outlinewidth": 0,
             "ticks": ""
            },
            "colorscale": [
             [
              0,
              "#0d0887"
             ],
             [
              0.1111111111111111,
              "#46039f"
             ],
             [
              0.2222222222222222,
              "#7201a8"
             ],
             [
              0.3333333333333333,
              "#9c179e"
             ],
             [
              0.4444444444444444,
              "#bd3786"
             ],
             [
              0.5555555555555556,
              "#d8576b"
             ],
             [
              0.6666666666666666,
              "#ed7953"
             ],
             [
              0.7777777777777778,
              "#fb9f3a"
             ],
             [
              0.8888888888888888,
              "#fdca26"
             ],
             [
              1,
              "#f0f921"
             ]
            ],
            "type": "histogram2dcontour"
           }
          ],
          "mesh3d": [
           {
            "colorbar": {
             "outlinewidth": 0,
             "ticks": ""
            },
            "type": "mesh3d"
           }
          ],
          "parcoords": [
           {
            "line": {
             "colorbar": {
              "outlinewidth": 0,
              "ticks": ""
             }
            },
            "type": "parcoords"
           }
          ],
          "pie": [
           {
            "automargin": true,
            "type": "pie"
           }
          ],
          "scatter": [
           {
            "marker": {
             "colorbar": {
              "outlinewidth": 0,
              "ticks": ""
             }
            },
            "type": "scatter"
           }
          ],
          "scatter3d": [
           {
            "line": {
             "colorbar": {
              "outlinewidth": 0,
              "ticks": ""
             }
            },
            "marker": {
             "colorbar": {
              "outlinewidth": 0,
              "ticks": ""
             }
            },
            "type": "scatter3d"
           }
          ],
          "scattercarpet": [
           {
            "marker": {
             "colorbar": {
              "outlinewidth": 0,
              "ticks": ""
             }
            },
            "type": "scattercarpet"
           }
          ],
          "scattergeo": [
           {
            "marker": {
             "colorbar": {
              "outlinewidth": 0,
              "ticks": ""
             }
            },
            "type": "scattergeo"
           }
          ],
          "scattergl": [
           {
            "marker": {
             "colorbar": {
              "outlinewidth": 0,
              "ticks": ""
             }
            },
            "type": "scattergl"
           }
          ],
          "scattermapbox": [
           {
            "marker": {
             "colorbar": {
              "outlinewidth": 0,
              "ticks": ""
             }
            },
            "type": "scattermapbox"
           }
          ],
          "scatterpolar": [
           {
            "marker": {
             "colorbar": {
              "outlinewidth": 0,
              "ticks": ""
             }
            },
            "type": "scatterpolar"
           }
          ],
          "scatterpolargl": [
           {
            "marker": {
             "colorbar": {
              "outlinewidth": 0,
              "ticks": ""
             }
            },
            "type": "scatterpolargl"
           }
          ],
          "scatterternary": [
           {
            "marker": {
             "colorbar": {
              "outlinewidth": 0,
              "ticks": ""
             }
            },
            "type": "scatterternary"
           }
          ],
          "surface": [
           {
            "colorbar": {
             "outlinewidth": 0,
             "ticks": ""
            },
            "colorscale": [
             [
              0,
              "#0d0887"
             ],
             [
              0.1111111111111111,
              "#46039f"
             ],
             [
              0.2222222222222222,
              "#7201a8"
             ],
             [
              0.3333333333333333,
              "#9c179e"
             ],
             [
              0.4444444444444444,
              "#bd3786"
             ],
             [
              0.5555555555555556,
              "#d8576b"
             ],
             [
              0.6666666666666666,
              "#ed7953"
             ],
             [
              0.7777777777777778,
              "#fb9f3a"
             ],
             [
              0.8888888888888888,
              "#fdca26"
             ],
             [
              1,
              "#f0f921"
             ]
            ],
            "type": "surface"
           }
          ],
          "table": [
           {
            "cells": {
             "fill": {
              "color": "#EBF0F8"
             },
             "line": {
              "color": "white"
             }
            },
            "header": {
             "fill": {
              "color": "#C8D4E3"
             },
             "line": {
              "color": "white"
             }
            },
            "type": "table"
           }
          ]
         },
         "layout": {
          "annotationdefaults": {
           "arrowcolor": "#2a3f5f",
           "arrowhead": 0,
           "arrowwidth": 1
          },
          "autotypenumbers": "strict",
          "coloraxis": {
           "colorbar": {
            "outlinewidth": 0,
            "ticks": ""
           }
          },
          "colorscale": {
           "diverging": [
            [
             0,
             "#8e0152"
            ],
            [
             0.1,
             "#c51b7d"
            ],
            [
             0.2,
             "#de77ae"
            ],
            [
             0.3,
             "#f1b6da"
            ],
            [
             0.4,
             "#fde0ef"
            ],
            [
             0.5,
             "#f7f7f7"
            ],
            [
             0.6,
             "#e6f5d0"
            ],
            [
             0.7,
             "#b8e186"
            ],
            [
             0.8,
             "#7fbc41"
            ],
            [
             0.9,
             "#4d9221"
            ],
            [
             1,
             "#276419"
            ]
           ],
           "sequential": [
            [
             0,
             "#0d0887"
            ],
            [
             0.1111111111111111,
             "#46039f"
            ],
            [
             0.2222222222222222,
             "#7201a8"
            ],
            [
             0.3333333333333333,
             "#9c179e"
            ],
            [
             0.4444444444444444,
             "#bd3786"
            ],
            [
             0.5555555555555556,
             "#d8576b"
            ],
            [
             0.6666666666666666,
             "#ed7953"
            ],
            [
             0.7777777777777778,
             "#fb9f3a"
            ],
            [
             0.8888888888888888,
             "#fdca26"
            ],
            [
             1,
             "#f0f921"
            ]
           ],
           "sequentialminus": [
            [
             0,
             "#0d0887"
            ],
            [
             0.1111111111111111,
             "#46039f"
            ],
            [
             0.2222222222222222,
             "#7201a8"
            ],
            [
             0.3333333333333333,
             "#9c179e"
            ],
            [
             0.4444444444444444,
             "#bd3786"
            ],
            [
             0.5555555555555556,
             "#d8576b"
            ],
            [
             0.6666666666666666,
             "#ed7953"
            ],
            [
             0.7777777777777778,
             "#fb9f3a"
            ],
            [
             0.8888888888888888,
             "#fdca26"
            ],
            [
             1,
             "#f0f921"
            ]
           ]
          },
          "colorway": [
           "#636efa",
           "#EF553B",
           "#00cc96",
           "#ab63fa",
           "#FFA15A",
           "#19d3f3",
           "#FF6692",
           "#B6E880",
           "#FF97FF",
           "#FECB52"
          ],
          "font": {
           "color": "#2a3f5f"
          },
          "geo": {
           "bgcolor": "white",
           "lakecolor": "white",
           "landcolor": "#E5ECF6",
           "showlakes": true,
           "showland": true,
           "subunitcolor": "white"
          },
          "hoverlabel": {
           "align": "left"
          },
          "hovermode": "closest",
          "mapbox": {
           "style": "light"
          },
          "paper_bgcolor": "white",
          "plot_bgcolor": "#E5ECF6",
          "polar": {
           "angularaxis": {
            "gridcolor": "white",
            "linecolor": "white",
            "ticks": ""
           },
           "bgcolor": "#E5ECF6",
           "radialaxis": {
            "gridcolor": "white",
            "linecolor": "white",
            "ticks": ""
           }
          },
          "scene": {
           "xaxis": {
            "backgroundcolor": "#E5ECF6",
            "gridcolor": "white",
            "gridwidth": 2,
            "linecolor": "white",
            "showbackground": true,
            "ticks": "",
            "zerolinecolor": "white"
           },
           "yaxis": {
            "backgroundcolor": "#E5ECF6",
            "gridcolor": "white",
            "gridwidth": 2,
            "linecolor": "white",
            "showbackground": true,
            "ticks": "",
            "zerolinecolor": "white"
           },
           "zaxis": {
            "backgroundcolor": "#E5ECF6",
            "gridcolor": "white",
            "gridwidth": 2,
            "linecolor": "white",
            "showbackground": true,
            "ticks": "",
            "zerolinecolor": "white"
           }
          },
          "shapedefaults": {
           "line": {
            "color": "#2a3f5f"
           }
          },
          "ternary": {
           "aaxis": {
            "gridcolor": "white",
            "linecolor": "white",
            "ticks": ""
           },
           "baxis": {
            "gridcolor": "white",
            "linecolor": "white",
            "ticks": ""
           },
           "bgcolor": "#E5ECF6",
           "caxis": {
            "gridcolor": "white",
            "linecolor": "white",
            "ticks": ""
           }
          },
          "title": {
           "x": 0.05
          },
          "xaxis": {
           "automargin": true,
           "gridcolor": "white",
           "linecolor": "white",
           "ticks": "",
           "title": {
            "standoff": 15
           },
           "zerolinecolor": "white",
           "zerolinewidth": 2
          },
          "yaxis": {
           "automargin": true,
           "gridcolor": "white",
           "linecolor": "white",
           "ticks": "",
           "title": {
            "standoff": 15
           },
           "zerolinecolor": "white",
           "zerolinewidth": 2
          }
         }
        },
        "width": 600,
        "xaxis": {
         "range": [
          -5,
          6
         ],
         "type": "linear"
        },
        "yaxis": {
         "range": [
          -5,
          6
         ],
         "type": "linear"
        }
       }
      },
      "image/png": "[encoded data removed]",
      "text/html": [
       "<div\n",
       "    class=\"webio-mountpoint\"\n",
       "    data-webio-mountpoint=\"13067691344363397016\"\n",
       ">\n",
       "    <script>\n",
       "    (function(){\n",
       "    // Some integrations (namely, IJulia/Jupyter) use an alternate render pathway than\n",
       "    // just putting the html on the page. If WebIO isn't defined, then it's pretty likely\n",
       "    // that we're in one of those situations and the integration just isn't installed\n",
       "    // correctly.\n",
       "    if (typeof window.WebIO === \"undefined\") {\n",
       "        document\n",
       "            .querySelector('[data-webio-mountpoint=\"13067691344363397016\"]')\n",
       "            .innerHTML = (\n",
       "                '<div style=\"padding: 1em; background-color: #f8d6da; border: 1px solid #f5c6cb; font-weight: bold;\">' +\n",
       "                '<p><strong>WebIO not detected.</strong></p>' +\n",
       "                '<p>Please read ' +\n",
       "                '<a href=\"https://juliagizmos.github.io/WebIO.jl/latest/troubleshooting/not-detected/\" target=\"_blank\">the troubleshooting guide</a> ' +\n",
       "                'for more information on how to resolve this issue.</p>' +\n",
       "                '<p><a href=\"https://juliagizmos.github.io/WebIO.jl/latest/troubleshooting/not-detected/\" target=\"_blank\">https://juliagizmos.github.io/WebIO.jl/latest/troubleshooting/not-detected/</a></p>' +\n",
       "                '</div>'\n",
       "            );\n",
       "        return;\n",
       "    }\n",
       "    WebIO.mount(\n",
       "        document.querySelector('[data-webio-mountpoint=\"13067691344363397016\"]'),\n",
       "        {\"props\":{},\"nodeType\":\"Scope\",\"type\":\"node\",\"instanceArgs\":{\"imports\":{\"data\":[{\"name\":\"Plotly\",\"type\":\"js\",\"url\":\"\\/assetserver\\/d66a736669047bda0b2d00471bd5207a90cf3193-plotly.min.js\"},{\"name\":null,\"type\":\"js\",\"url\":\"\\/assetserver\\/aee3160e397a4905b07437c5af565305d1ef6def-plotly_webio.bundle.js\"}],\"type\":\"async_block\"},\"id\":\"17247499515948884786\",\"handlers\":{\"_toImage\":[\"(function (options){return this.Plotly.toImage(this.plotElem,options).then((function (data){return WebIO.setval({\\\"name\\\":\\\"image\\\",\\\"scope\\\":\\\"17247499515948884786\\\",\\\"id\\\":\\\"165572309047405117\\\",\\\"type\\\":\\\"observable\\\"},data)}))})\"],\"__get_gd_contents\":[\"(function (prop){prop==\\\"data\\\" ? (WebIO.setval({\\\"name\\\":\\\"__gd_contents\\\",\\\"scope\\\":\\\"17247499515948884786\\\",\\\"id\\\":\\\"11666207597964180000\\\",\\\"type\\\":\\\"observable\\\"},this.plotElem.data)) : undefined; return prop==\\\"layout\\\" ? (WebIO.setval({\\\"name\\\":\\\"__gd_contents\\\",\\\"scope\\\":\\\"17247499515948884786\\\",\\\"id\\\":\\\"11666207597964180000\\\",\\\"type\\\":\\\"observable\\\"},this.plotElem.layout)) : undefined})\"],\"_downloadImage\":[\"(function (options){return this.Plotly.downloadImage(this.plotElem,options)})\"],\"_commands\":[\"(function (args){var fn=args.shift(); var elem=this.plotElem; var Plotly=this.Plotly; args.unshift(elem); return Plotly[fn].apply(this,args)})\"]},\"systemjs_options\":null,\"mount_callbacks\":[\"function () {\\n    var handler = ((function (Plotly,PlotlyWebIO){PlotlyWebIO.init(WebIO); var gd=this.dom.querySelector(\\\"#plot-7731d11d-fffa-49ae-9de3-33460294f9e6\\\"); this.plotElem=gd; this.Plotly=Plotly; (window.Blink!==undefined) ? (gd.style.width=\\\"100%\\\", gd.style.height=\\\"100vh\\\", gd.style.marginLeft=\\\"0%\\\", gd.style.marginTop=\\\"0vh\\\") : undefined; window.onresize=(function (){return Plotly.Plots.resize(gd)}); Plotly.newPlot(gd,[{\\\"y\\\":[1.0,1.0,-1.0,-1.0,1.0],\\\"type\\\":\\\"scatter\\\",\\\"x\\\":[2.9996891820008162,0.9996891820008162,0.9996891820008162,2.9996891820008162,2.9996891820008162]},{\\\"y\\\":[-1.0,-0.9950307753654014,-0.9801724878485439,-0.9555728057861408,-0.9214762118704077,-0.8782215733702285,-0.8262387743159951,-0.7660444431189781,-0.698236818086073,-0.6234898018587337,-0.5425462638657592,-0.4562106573531632,-0.3653410243663957,-0.2708404681430055,-0.17364817766693033,-0.07473009358642473,0.02493069173807279,0.1243437046474846,0.22252093395631423,0.3184866502516846,0.4112871031306113,0.49999999999999933,0.5837436722347895,0.6616858375968594,0.733051871829826,0.7971325072229218,0.8532908816321554,0.900968867902419,0.9396926207859084,0.9690772862290778,0.9888308262251284,0.9987569212189223,0.9987569212189223,0.9888308262251285,0.9690772862290782,0.9396926207859086,0.9009688679024193,0.8532908816321556,0.7971325072229227,0.7330518718298263,0.6616858375968597,0.58374367223479,0.5000000000000006,0.41128710313061173,0.3184866502516851,0.2225209339563147,0.12434370464748597,0.024930691738073277,-0.07473009358642335,-0.17364817766692986,-0.2708404681430033,-0.3653410243663936,-0.45621065735316196,-0.5425462638657588,-0.6234898018587333,-0.6982368180860729,-0.7660444431189783,-0.8262387743159954,-0.8782215733702283,-0.9214762118704076,-0.9555728057861402,-0.9801724878485436,-0.9950307753654013,-1.0,-1.0],\\\"type\\\":\\\"scatter\\\",\\\"x\\\":[1.2246467991473532e-16,-0.09956784659581648,-0.19814614319939736,-0.29475517441090393,-0.3884347962746944,-0.47825397862131824,-0.5633200580636216,-0.6427876096865393,-0.7158668492597183,-0.7818314824680297,-0.8400259231507715,-0.8898718088114684,-0.930873748644204,-0.9626242469500119,-0.984807753012208,-0.9972037971811801,-0.9996891820008162,-0.9922392066001722,-0.9749279121818236,-0.9479273461671317,-0.9115058523116732,-0.866025403784439,-0.8119380057158567,-0.7497812029677342,-0.6801727377709198,-0.6038044103254782,-0.5214352033794986,-0.43388373911755834,-0.3420201433256686,-0.24675739769029395,-0.14904226617617528,-0.0498458856606976,0.049845885660697115,0.14904226617617478,0.24675739769029262,0.3420201433256681,0.4338837391175579,0.5214352033794982,0.603804410325477,0.6801727377709194,0.7497812029677339,0.8119380057158564,0.8660254037844384,0.911505852311673,0.9479273461671315,0.9749279121818235,0.992239206600172,0.9996891820008162,0.9972037971811802,0.9848077530122081,0.9626242469500126,0.9308737486442048,0.8898718088114691,0.8400259231507718,0.78183148246803,0.7158668492597183,0.642787609686539,0.5633200580636213,0.4782539786213187,0.38843479627469485,0.2947551744109057,0.19814614319939872,0.09956784659581741,3.6739403974420594e-16,1.2246467991473532e-16]}],{\\\"xaxis\\\":{\\\"range\\\":[-5,6]},\\\"template\\\":{\\\"layout\\\":{\\\"coloraxis\\\":{\\\"colorbar\\\":{\\\"ticks\\\":\\\"\\\",\\\"outlinewidth\\\":0}},\\\"xaxis\\\":{\\\"gridcolor\\\":\\\"white\\\",\\\"zerolinewidth\\\":2,\\\"title\\\":{\\\"standoff\\\":15},\\\"ticks\\\":\\\"\\\",\\\"zerolinecolor\\\":\\\"white\\\",\\\"automargin\\\":true,\\\"linecolor\\\":\\\"white\\\"},\\\"hovermode\\\":\\\"closest\\\",\\\"paper_bgcolor\\\":\\\"white\\\",\\\"geo\\\":{\\\"showlakes\\\":true,\\\"showland\\\":true,\\\"landcolor\\\":\\\"#E5ECF6\\\",\\\"bgcolor\\\":\\\"white\\\",\\\"subunitcolor\\\":\\\"white\\\",\\\"lakecolor\\\":\\\"white\\\"},\\\"colorscale\\\":{\\\"sequential\\\":[[0.0,\\\"#0d0887\\\"],[0.1111111111111111,\\\"#46039f\\\"],[0.2222222222222222,\\\"#7201a8\\\"],[0.3333333333333333,\\\"#9c179e\\\"],[0.4444444444444444,\\\"#bd3786\\\"],[0.5555555555555556,\\\"#d8576b\\\"],[0.6666666666666666,\\\"#ed7953\\\"],[0.7777777777777778,\\\"#fb9f3a\\\"],[0.8888888888888888,\\\"#fdca26\\\"],[1.0,\\\"#f0f921\\\"]],\\\"diverging\\\":[[0,\\\"#8e0152\\\"],[0.1,\\\"#c51b7d\\\"],[0.2,\\\"#de77ae\\\"],[0.3,\\\"#f1b6da\\\"],[0.4,\\\"#fde0ef\\\"],[0.5,\\\"#f7f7f7\\\"],[0.6,\\\"#e6f5d0\\\"],[0.7,\\\"#b8e186\\\"],[0.8,\\\"#7fbc41\\\"],[0.9,\\\"#4d9221\\\"],[1,\\\"#276419\\\"]],\\\"sequentialminus\\\":[[0.0,\\\"#0d0887\\\"],[0.1111111111111111,\\\"#46039f\\\"],[0.2222222222222222,\\\"#7201a8\\\"],[0.3333333333333333,\\\"#9c179e\\\"],[0.4444444444444444,\\\"#bd3786\\\"],[0.5555555555555556,\\\"#d8576b\\\"],[0.6666666666666666,\\\"#ed7953\\\"],[0.7777777777777778,\\\"#fb9f3a\\\"],[0.8888888888888888,\\\"#fdca26\\\"],[1.0,\\\"#f0f921\\\"]]},\\\"yaxis\\\":{\\\"gridcolor\\\":\\\"white\\\",\\\"zerolinewidth\\\":2,\\\"title\\\":{\\\"standoff\\\":15},\\\"ticks\\\":\\\"\\\",\\\"zerolinecolor\\\":\\\"white\\\",\\\"automargin\\\":true,\\\"linecolor\\\":\\\"white\\\"},\\\"shapedefaults\\\":{\\\"line\\\":{\\\"color\\\":\\\"#2a3f5f\\\"}},\\\"hoverlabel\\\":{\\\"align\\\":\\\"left\\\"},\\\"mapbox\\\":{\\\"style\\\":\\\"light\\\"},\\\"polar\\\":{\\\"angularaxis\\\":{\\\"gridcolor\\\":\\\"white\\\",\\\"ticks\\\":\\\"\\\",\\\"linecolor\\\":\\\"white\\\"},\\\"bgcolor\\\":\\\"#E5ECF6\\\",\\\"radialaxis\\\":{\\\"gridcolor\\\":\\\"white\\\",\\\"ticks\\\":\\\"\\\",\\\"linecolor\\\":\\\"white\\\"}},\\\"autotypenumbers\\\":\\\"strict\\\",\\\"font\\\":{\\\"color\\\":\\\"#2a3f5f\\\"},\\\"ternary\\\":{\\\"baxis\\\":{\\\"gridcolor\\\":\\\"white\\\",\\\"ticks\\\":\\\"\\\",\\\"linecolor\\\":\\\"white\\\"},\\\"bgcolor\\\":\\\"#E5ECF6\\\",\\\"caxis\\\":{\\\"gridcolor\\\":\\\"white\\\",\\\"ticks\\\":\\\"\\\",\\\"linecolor\\\":\\\"white\\\"},\\\"aaxis\\\":{\\\"gridcolor\\\":\\\"white\\\",\\\"ticks\\\":\\\"\\\",\\\"linecolor\\\":\\\"white\\\"}},\\\"annotationdefaults\\\":{\\\"arrowhead\\\":0,\\\"arrowwidth\\\":1,\\\"arrowcolor\\\":\\\"#2a3f5f\\\"},\\\"plot_bgcolor\\\":\\\"#E5ECF6\\\",\\\"title\\\":{\\\"x\\\":0.05},\\\"scene\\\":{\\\"xaxis\\\":{\\\"gridcolor\\\":\\\"white\\\",\\\"gridwidth\\\":2,\\\"backgroundcolor\\\":\\\"#E5ECF6\\\",\\\"ticks\\\":\\\"\\\",\\\"showbackground\\\":true,\\\"zerolinecolor\\\":\\\"white\\\",\\\"linecolor\\\":\\\"white\\\"},\\\"zaxis\\\":{\\\"gridcolor\\\":\\\"white\\\",\\\"gridwidth\\\":2,\\\"backgroundcolor\\\":\\\"#E5ECF6\\\",\\\"ticks\\\":\\\"\\\",\\\"showbackground\\\":true,\\\"zerolinecolor\\\":\\\"white\\\",\\\"linecolor\\\":\\\"white\\\"},\\\"yaxis\\\":{\\\"gridcolor\\\":\\\"white\\\",\\\"gridwidth\\\":2,\\\"backgroundcolor\\\":\\\"#E5ECF6\\\",\\\"ticks\\\":\\\"\\\",\\\"showbackground\\\":true,\\\"zerolinecolor\\\":\\\"white\\\",\\\"linecolor\\\":\\\"white\\\"}},\\\"colorway\\\":[\\\"#636efa\\\",\\\"#EF553B\\\",\\\"#00cc96\\\",\\\"#ab63fa\\\",\\\"#FFA15A\\\",\\\"#19d3f3\\\",\\\"#FF6692\\\",\\\"#B6E880\\\",\\\"#FF97FF\\\",\\\"#FECB52\\\"]},\\\"data\\\":{\\\"barpolar\\\":[{\\\"type\\\":\\\"barpolar\\\",\\\"marker\\\":{\\\"line\\\":{\\\"color\\\":\\\"#E5ECF6\\\",\\\"width\\\":0.5}}}],\\\"carpet\\\":[{\\\"aaxis\\\":{\\\"gridcolor\\\":\\\"white\\\",\\\"endlinecolor\\\":\\\"#2a3f5f\\\",\\\"minorgridcolor\\\":\\\"white\\\",\\\"startlinecolor\\\":\\\"#2a3f5f\\\",\\\"linecolor\\\":\\\"white\\\"},\\\"type\\\":\\\"carpet\\\",\\\"baxis\\\":{\\\"gridcolor\\\":\\\"white\\\",\\\"endlinecolor\\\":\\\"#2a3f5f\\\",\\\"minorgridcolor\\\":\\\"white\\\",\\\"startlinecolor\\\":\\\"#2a3f5f\\\",\\\"linecolor\\\":\\\"white\\\"}}],\\\"scatterpolar\\\":[{\\\"type\\\":\\\"scatterpolar\\\",\\\"marker\\\":{\\\"colorbar\\\":{\\\"ticks\\\":\\\"\\\",\\\"outlinewidth\\\":0}}}],\\\"parcoords\\\":[{\\\"line\\\":{\\\"colorbar\\\":{\\\"ticks\\\":\\\"\\\",\\\"outlinewidth\\\":0}},\\\"type\\\":\\\"parcoords\\\"}],\\\"scatter\\\":[{\\\"type\\\":\\\"scatter\\\",\\\"marker\\\":{\\\"colorbar\\\":{\\\"ticks\\\":\\\"\\\",\\\"outlinewidth\\\":0}}}],\\\"histogram2dcontour\\\":[{\\\"colorbar\\\":{\\\"ticks\\\":\\\"\\\",\\\"outlinewidth\\\":0},\\\"type\\\":\\\"histogram2dcontour\\\",\\\"colorscale\\\":[[0.0,\\\"#0d0887\\\"],[0.1111111111111111,\\\"#46039f\\\"],[0.2222222222222222,\\\"#7201a8\\\"],[0.3333333333333333,\\\"#9c179e\\\"],[0.4444444444444444,\\\"#bd3786\\\"],[0.5555555555555556,\\\"#d8576b\\\"],[0.6666666666666666,\\\"#ed7953\\\"],[0.7777777777777778,\\\"#fb9f3a\\\"],[0.8888888888888888,\\\"#fdca26\\\"],[1.0,\\\"#f0f921\\\"]]}],\\\"contour\\\":[{\\\"colorbar\\\":{\\\"ticks\\\":\\\"\\\",\\\"outlinewidth\\\":0},\\\"type\\\":\\\"contour\\\",\\\"colorscale\\\":[[0.0,\\\"#0d0887\\\"],[0.1111111111111111,\\\"#46039f\\\"],[0.2222222222222222,\\\"#7201a8\\\"],[0.3333333333333333,\\\"#9c179e\\\"],[0.4444444444444444,\\\"#bd3786\\\"],[0.5555555555555556,\\\"#d8576b\\\"],[0.6666666666666666,\\\"#ed7953\\\"],[0.7777777777777778,\\\"#fb9f3a\\\"],[0.8888888888888888,\\\"#fdca26\\\"],[1.0,\\\"#f0f921\\\"]]}],\\\"scattercarpet\\\":[{\\\"type\\\":\\\"scattercarpet\\\",\\\"marker\\\":{\\\"colorbar\\\":{\\\"ticks\\\":\\\"\\\",\\\"outlinewidth\\\":0}}}],\\\"mesh3d\\\":[{\\\"colorbar\\\":{\\\"ticks\\\":\\\"\\\",\\\"outlinewidth\\\":0},\\\"type\\\":\\\"mesh3d\\\"}],\\\"surface\\\":[{\\\"colorbar\\\":{\\\"ticks\\\":\\\"\\\",\\\"outlinewidth\\\":0},\\\"type\\\":\\\"surface\\\",\\\"colorscale\\\":[[0.0,\\\"#0d0887\\\"],[0.1111111111111111,\\\"#46039f\\\"],[0.2222222222222222,\\\"#7201a8\\\"],[0.3333333333333333,\\\"#9c179e\\\"],[0.4444444444444444,\\\"#bd3786\\\"],[0.5555555555555556,\\\"#d8576b\\\"],[0.6666666666666666,\\\"#ed7953\\\"],[0.7777777777777778,\\\"#fb9f3a\\\"],[0.8888888888888888,\\\"#fdca26\\\"],[1.0,\\\"#f0f921\\\"]]}],\\\"scattermapbox\\\":[{\\\"type\\\":\\\"scattermapbox\\\",\\\"marker\\\":{\\\"colorbar\\\":{\\\"ticks\\\":\\\"\\\",\\\"outlinewidth\\\":0}}}],\\\"scattergeo\\\":[{\\\"type\\\":\\\"scattergeo\\\",\\\"marker\\\":{\\\"colorbar\\\":{\\\"ticks\\\":\\\"\\\",\\\"outlinewidth\\\":0}}}],\\\"histogram\\\":[{\\\"type\\\":\\\"histogram\\\",\\\"marker\\\":{\\\"colorbar\\\":{\\\"ticks\\\":\\\"\\\",\\\"outlinewidth\\\":0}}}],\\\"pie\\\":[{\\\"type\\\":\\\"pie\\\",\\\"automargin\\\":true}],\\\"choropleth\\\":[{\\\"colorbar\\\":{\\\"ticks\\\":\\\"\\\",\\\"outlinewidth\\\":0},\\\"type\\\":\\\"choropleth\\\"}],\\\"heatmapgl\\\":[{\\\"colorbar\\\":{\\\"ticks\\\":\\\"\\\",\\\"outlinewidth\\\":0},\\\"type\\\":\\\"heatmapgl\\\",\\\"colorscale\\\":[[0.0,\\\"#0d0887\\\"],[0.1111111111111111,\\\"#46039f\\\"],[0.2222222222222222,\\\"#7201a8\\\"],[0.3333333333333333,\\\"#9c179e\\\"],[0.4444444444444444,\\\"#bd3786\\\"],[0.5555555555555556,\\\"#d8576b\\\"],[0.6666666666666666,\\\"#ed7953\\\"],[0.7777777777777778,\\\"#fb9f3a\\\"],[0.8888888888888888,\\\"#fdca26\\\"],[1.0,\\\"#f0f921\\\"]]}],\\\"bar\\\":[{\\\"type\\\":\\\"bar\\\",\\\"error_y\\\":{\\\"color\\\":\\\"#2a3f5f\\\"},\\\"error_x\\\":{\\\"color\\\":\\\"#2a3f5f\\\"},\\\"marker\\\":{\\\"line\\\":{\\\"color\\\":\\\"#E5ECF6\\\",\\\"width\\\":0.5}}}],\\\"heatmap\\\":[{\\\"colorbar\\\":{\\\"ticks\\\":\\\"\\\",\\\"outlinewidth\\\":0},\\\"type\\\":\\\"heatmap\\\",\\\"colorscale\\\":[[0.0,\\\"#0d0887\\\"],[0.1111111111111111,\\\"#46039f\\\"],[0.2222222222222222,\\\"#7201a8\\\"],[0.3333333333333333,\\\"#9c179e\\\"],[0.4444444444444444,\\\"#bd3786\\\"],[0.5555555555555556,\\\"#d8576b\\\"],[0.6666666666666666,\\\"#ed7953\\\"],[0.7777777777777778,\\\"#fb9f3a\\\"],[0.8888888888888888,\\\"#fdca26\\\"],[1.0,\\\"#f0f921\\\"]]}],\\\"contourcarpet\\\":[{\\\"colorbar\\\":{\\\"ticks\\\":\\\"\\\",\\\"outlinewidth\\\":0},\\\"type\\\":\\\"contourcarpet\\\"}],\\\"table\\\":[{\\\"type\\\":\\\"table\\\",\\\"header\\\":{\\\"line\\\":{\\\"color\\\":\\\"white\\\"},\\\"fill\\\":{\\\"color\\\":\\\"#C8D4E3\\\"}},\\\"cells\\\":{\\\"line\\\":{\\\"color\\\":\\\"white\\\"},\\\"fill\\\":{\\\"color\\\":\\\"#EBF0F8\\\"}}}],\\\"scatter3d\\\":[{\\\"line\\\":{\\\"colorbar\\\":{\\\"ticks\\\":\\\"\\\",\\\"outlinewidth\\\":0}},\\\"type\\\":\\\"scatter3d\\\",\\\"marker\\\":{\\\"colorbar\\\":{\\\"ticks\\\":\\\"\\\",\\\"outlinewidth\\\":0}}}],\\\"scattergl\\\":[{\\\"type\\\":\\\"scattergl\\\",\\\"marker\\\":{\\\"colorbar\\\":{\\\"ticks\\\":\\\"\\\",\\\"outlinewidth\\\":0}}}],\\\"histogram2d\\\":[{\\\"colorbar\\\":{\\\"ticks\\\":\\\"\\\",\\\"outlinewidth\\\":0},\\\"type\\\":\\\"histogram2d\\\",\\\"colorscale\\\":[[0.0,\\\"#0d0887\\\"],[0.1111111111111111,\\\"#46039f\\\"],[0.2222222222222222,\\\"#7201a8\\\"],[0.3333333333333333,\\\"#9c179e\\\"],[0.4444444444444444,\\\"#bd3786\\\"],[0.5555555555555556,\\\"#d8576b\\\"],[0.6666666666666666,\\\"#ed7953\\\"],[0.7777777777777778,\\\"#fb9f3a\\\"],[0.8888888888888888,\\\"#fdca26\\\"],[1.0,\\\"#f0f921\\\"]]}],\\\"scatterternary\\\":[{\\\"type\\\":\\\"scatterternary\\\",\\\"marker\\\":{\\\"colorbar\\\":{\\\"ticks\\\":\\\"\\\",\\\"outlinewidth\\\":0}}}],\\\"scatterpolargl\\\":[{\\\"type\\\":\\\"scatterpolargl\\\",\\\"marker\\\":{\\\"colorbar\\\":{\\\"ticks\\\":\\\"\\\",\\\"outlinewidth\\\":0}}}]}},\\\"height\\\":600,\\\"margin\\\":{\\\"l\\\":50,\\\"b\\\":50,\\\"r\\\":50,\\\"t\\\":60},\\\"yaxis\\\":{\\\"range\\\":[-5,6]},\\\"width\\\":600},{\\\"showLink\\\":false,\\\"editable\\\":false,\\\"responsive\\\":true,\\\"staticPlot\\\":false,\\\"scrollZoom\\\":true}); gd.on(\\\"plotly_hover\\\",(function (data){var filtered_data=WebIO.PlotlyCommands.filterEventData(gd,data,\\\"hover\\\"); return !(filtered_data.isnil) ? (WebIO.setval({\\\"name\\\":\\\"hover\\\",\\\"scope\\\":\\\"17247499515948884786\\\",\\\"id\\\":\\\"16243636590003021848\\\",\\\"type\\\":\\\"observable\\\"},filtered_data.out)) : undefined})); gd.on(\\\"plotly_unhover\\\",(function (){return WebIO.setval({\\\"name\\\":\\\"hover\\\",\\\"scope\\\":\\\"17247499515948884786\\\",\\\"id\\\":\\\"16243636590003021848\\\",\\\"type\\\":\\\"observable\\\"},{})})); gd.on(\\\"plotly_selected\\\",(function (data){var filtered_data=WebIO.PlotlyCommands.filterEventData(gd,data,\\\"selected\\\"); return !(filtered_data.isnil) ? (WebIO.setval({\\\"name\\\":\\\"selected\\\",\\\"scope\\\":\\\"17247499515948884786\\\",\\\"id\\\":\\\"1358512470490462672\\\",\\\"type\\\":\\\"observable\\\"},filtered_data.out)) : undefined})); gd.on(\\\"plotly_deselect\\\",(function (){return WebIO.setval({\\\"name\\\":\\\"selected\\\",\\\"scope\\\":\\\"17247499515948884786\\\",\\\"id\\\":\\\"1358512470490462672\\\",\\\"type\\\":\\\"observable\\\"},{})})); gd.on(\\\"plotly_relayout\\\",(function (data){var filtered_data=WebIO.PlotlyCommands.filterEventData(gd,data,\\\"relayout\\\"); return !(filtered_data.isnil) ? (WebIO.setval({\\\"name\\\":\\\"relayout\\\",\\\"scope\\\":\\\"17247499515948884786\\\",\\\"id\\\":\\\"5784949563590804534\\\",\\\"type\\\":\\\"observable\\\"},filtered_data.out)) : undefined})); return gd.on(\\\"plotly_click\\\",(function (data){var filtered_data=WebIO.PlotlyCommands.filterEventData(gd,data,\\\"click\\\"); return !(filtered_data.isnil) ? (WebIO.setval({\\\"name\\\":\\\"click\\\",\\\"scope\\\":\\\"17247499515948884786\\\",\\\"id\\\":\\\"9659379182318843177\\\",\\\"type\\\":\\\"observable\\\"},filtered_data.out)) : undefined}))}));\\n    (WebIO.importBlock({\\\"data\\\":[{\\\"name\\\":\\\"Plotly\\\",\\\"type\\\":\\\"js\\\",\\\"url\\\":\\\"\\/assetserver\\/d66a736669047bda0b2d00471bd5207a90cf3193-plotly.min.js\\\"},{\\\"name\\\":null,\\\"type\\\":\\\"js\\\",\\\"url\\\":\\\"\\/assetserver\\/aee3160e397a4905b07437c5af565305d1ef6def-plotly_webio.bundle.js\\\"}],\\\"type\\\":\\\"async_block\\\"})).then((imports) => handler.apply(this, imports));\\n}\\n\"],\"observables\":{\"_toImage\":{\"sync\":false,\"id\":\"12433885820118439077\",\"value\":{}},\"hover\":{\"sync\":false,\"id\":\"16243636590003021848\",\"value\":{}},\"selected\":{\"sync\":false,\"id\":\"1358512470490462672\",\"value\":{}},\"__gd_contents\":{\"sync\":false,\"id\":\"11666207597964180000\",\"value\":{}},\"click\":{\"sync\":false,\"id\":\"9659379182318843177\",\"value\":{}},\"image\":{\"sync\":true,\"id\":\"165572309047405117\",\"value\":\"\"},\"__get_gd_contents\":{\"sync\":false,\"id\":\"12098363775810081034\",\"value\":\"\"},\"_downloadImage\":{\"sync\":false,\"id\":\"15972468207531603238\",\"value\":{}},\"relayout\":{\"sync\":false,\"id\":\"5784949563590804534\",\"value\":{}},\"_commands\":{\"sync\":false,\"id\":\"873391992876226510\",\"value\":[]}}},\"children\":[{\"props\":{\"id\":\"plot-7731d11d-fffa-49ae-9de3-33460294f9e6\"},\"nodeType\":\"DOM\",\"type\":\"node\",\"instanceArgs\":{\"namespace\":\"html\",\"tag\":\"div\"},\"children\":[]}]},\n",
       "        window,\n",
       "    );\n",
       "    })()\n",
       "    </script>\n",
       "</div>\n"
      ],
      "text/plain": [
       "data: [\n",
       "  \"scatter with fields type, x, and y\",\n",
       "  \"scatter with fields type, x, and y\"\n",
       "]\n",
       "\n",
       "layout: \"layout with fields height, margin, template, width, xaxis, and yaxis\"\n",
       "\n"
      ]
     },
     "execution_count": 176,
     "metadata": {},
     "output_type": "execute_result"
    }
   ],
   "source": [
    "D1 = DiagramDual(MyCircle())\n",
    "D2 = DiagramDual(MySquare(2));\n",
    "D3  = beside(D1,D2,[1,0])\n",
    "\n",
    "p = plotgeometry(D3)\n",
    "plot(p,layout)"
   ]
  },
  {
   "cell_type": "code",
   "execution_count": 175,
   "id": "f3cc2290-9420-4f12-a799-cf814eb49ff4",
   "metadata": {},
   "outputs": [
    {
     "data": {
      "application/vnd.plotly.v1+json": {
       "config": {
        "editable": false,
        "responsive": true,
        "scrollZoom": true,
        "showLink": false,
        "staticPlot": false
       },
       "data": [
        {
         "type": "scatter",
         "x": [
          4.9993783640016325,
          2.9993783640016325,
          2.9993783640016325,
          4.9993783640016325,
          4.9993783640016325
         ],
         "y": [
          1,
          1,
          -1,
          -1,
          1
         ]
        },
        {
         "type": "scatter",
         "x": [
          1.9996891820008165,
          1.9001213354049997,
          1.8015430388014189,
          1.7049340075899124,
          1.611254385726122,
          1.521435203379498,
          1.4363691239371947,
          1.356901572314277,
          1.283822332741098,
          1.2178576995327866,
          1.1596632588500446,
          1.109817373189348,
          1.0688154333566122,
          1.0370649350508043,
          1.0148814289886081,
          1.0024853848196362,
          1,
          1.007449975400644,
          1.0247612698189927,
          1.0517618358336844,
          1.088183329689143,
          1.1336637782163772,
          1.1877511762849595,
          1.249907979033082,
          1.3195164442298966,
          1.395884771675338,
          1.4782539786213178,
          1.565805442883258,
          1.6576690386751476,
          1.7529317843105223,
          1.850646915824641,
          1.9498432963401187,
          2.0495350676615134,
          2.1487314481769912,
          2.246446579691109,
          2.3417093253264842,
          2.4335729211183743,
          2.5211243853803147,
          2.603493592326293,
          2.6798619197717355,
          2.74947038496855,
          2.8116271877166725,
          2.8657145857852546,
          2.911195034312489,
          2.9476165281679476,
          2.9746170941826398,
          2.9919283886009884,
          2.9993783640016325,
          2.9968929791819967,
          2.9844969350130244,
          2.9623134289508286,
          2.930562930645021,
          2.8895609908122855,
          2.839715105151588,
          2.781520664468846,
          2.7155560312605345,
          2.642476791687355,
          2.5630092400644378,
          2.477943160622135,
          2.388123978275511,
          2.294444356411722,
          2.1978353252002147,
          2.0992570285966337,
          1.9996891820008167,
          1.9996891820008165
         ],
         "y": [
          -1,
          -0.9950307753654014,
          -0.9801724878485439,
          -0.9555728057861408,
          -0.9214762118704077,
          -0.8782215733702285,
          -0.8262387743159951,
          -0.7660444431189781,
          -0.698236818086073,
          -0.6234898018587337,
          -0.5425462638657592,
          -0.4562106573531632,
          -0.3653410243663957,
          -0.2708404681430055,
          -0.17364817766693033,
          -0.07473009358642473,
          0.02493069173807279,
          0.1243437046474846,
          0.22252093395631423,
          0.3184866502516846,
          0.4112871031306113,
          0.49999999999999933,
          0.5837436722347895,
          0.6616858375968594,
          0.733051871829826,
          0.7971325072229218,
          0.8532908816321554,
          0.900968867902419,
          0.9396926207859084,
          0.9690772862290778,
          0.9888308262251284,
          0.9987569212189223,
          0.9987569212189223,
          0.9888308262251285,
          0.9690772862290782,
          0.9396926207859086,
          0.9009688679024193,
          0.8532908816321556,
          0.7971325072229227,
          0.7330518718298263,
          0.6616858375968597,
          0.58374367223479,
          0.5000000000000006,
          0.41128710313061173,
          0.3184866502516851,
          0.2225209339563147,
          0.12434370464748597,
          0.024930691738073277,
          -0.07473009358642335,
          -0.17364817766692986,
          -0.2708404681430033,
          -0.3653410243663936,
          -0.45621065735316196,
          -0.5425462638657588,
          -0.6234898018587333,
          -0.6982368180860729,
          -0.7660444431189783,
          -0.8262387743159954,
          -0.8782215733702283,
          -0.9214762118704076,
          -0.9555728057861402,
          -0.9801724878485436,
          -0.9950307753654013,
          -1,
          -1
         ]
        },
        {
         "type": "scatter",
         "x": [
          0,
          1,
          1,
          0
         ],
         "y": [
          0,
          1,
          0,
          0
         ]
        }
       ],
       "frames": [],
       "layout": {
        "height": 600,
        "margin": {
         "b": 50,
         "l": 50,
         "r": 50,
         "t": 60
        },
        "template": {
         "data": {
          "bar": [
           {
            "error_x": {
             "color": "#2a3f5f"
            },
            "error_y": {
             "color": "#2a3f5f"
            },
            "marker": {
             "line": {
              "color": "#E5ECF6",
              "width": 0.5
             }
            },
            "type": "bar"
           }
          ],
          "barpolar": [
           {
            "marker": {
             "line": {
              "color": "#E5ECF6",
              "width": 0.5
             }
            },
            "type": "barpolar"
           }
          ],
          "carpet": [
           {
            "aaxis": {
             "endlinecolor": "#2a3f5f",
             "gridcolor": "white",
             "linecolor": "white",
             "minorgridcolor": "white",
             "startlinecolor": "#2a3f5f"
            },
            "baxis": {
             "endlinecolor": "#2a3f5f",
             "gridcolor": "white",
             "linecolor": "white",
             "minorgridcolor": "white",
             "startlinecolor": "#2a3f5f"
            },
            "type": "carpet"
           }
          ],
          "choropleth": [
           {
            "colorbar": {
             "outlinewidth": 0,
             "ticks": ""
            },
            "type": "choropleth"
           }
          ],
          "contour": [
           {
            "colorbar": {
             "outlinewidth": 0,
             "ticks": ""
            },
            "colorscale": [
             [
              0,
              "#0d0887"
             ],
             [
              0.1111111111111111,
              "#46039f"
             ],
             [
              0.2222222222222222,
              "#7201a8"
             ],
             [
              0.3333333333333333,
              "#9c179e"
             ],
             [
              0.4444444444444444,
              "#bd3786"
             ],
             [
              0.5555555555555556,
              "#d8576b"
             ],
             [
              0.6666666666666666,
              "#ed7953"
             ],
             [
              0.7777777777777778,
              "#fb9f3a"
             ],
             [
              0.8888888888888888,
              "#fdca26"
             ],
             [
              1,
              "#f0f921"
             ]
            ],
            "type": "contour"
           }
          ],
          "contourcarpet": [
           {
            "colorbar": {
             "outlinewidth": 0,
             "ticks": ""
            },
            "type": "contourcarpet"
           }
          ],
          "heatmap": [
           {
            "colorbar": {
             "outlinewidth": 0,
             "ticks": ""
            },
            "colorscale": [
             [
              0,
              "#0d0887"
             ],
             [
              0.1111111111111111,
              "#46039f"
             ],
             [
              0.2222222222222222,
              "#7201a8"
             ],
             [
              0.3333333333333333,
              "#9c179e"
             ],
             [
              0.4444444444444444,
              "#bd3786"
             ],
             [
              0.5555555555555556,
              "#d8576b"
             ],
             [
              0.6666666666666666,
              "#ed7953"
             ],
             [
              0.7777777777777778,
              "#fb9f3a"
             ],
             [
              0.8888888888888888,
              "#fdca26"
             ],
             [
              1,
              "#f0f921"
             ]
            ],
            "type": "heatmap"
           }
          ],
          "heatmapgl": [
           {
            "colorbar": {
             "outlinewidth": 0,
             "ticks": ""
            },
            "colorscale": [
             [
              0,
              "#0d0887"
             ],
             [
              0.1111111111111111,
              "#46039f"
             ],
             [
              0.2222222222222222,
              "#7201a8"
             ],
             [
              0.3333333333333333,
              "#9c179e"
             ],
             [
              0.4444444444444444,
              "#bd3786"
             ],
             [
              0.5555555555555556,
              "#d8576b"
             ],
             [
              0.6666666666666666,
              "#ed7953"
             ],
             [
              0.7777777777777778,
              "#fb9f3a"
             ],
             [
              0.8888888888888888,
              "#fdca26"
             ],
             [
              1,
              "#f0f921"
             ]
            ],
            "type": "heatmapgl"
           }
          ],
          "histogram": [
           {
            "marker": {
             "colorbar": {
              "outlinewidth": 0,
              "ticks": ""
             }
            },
            "type": "histogram"
           }
          ],
          "histogram2d": [
           {
            "colorbar": {
             "outlinewidth": 0,
             "ticks": ""
            },
            "colorscale": [
             [
              0,
              "#0d0887"
             ],
             [
              0.1111111111111111,
              "#46039f"
             ],
             [
              0.2222222222222222,
              "#7201a8"
             ],
             [
              0.3333333333333333,
              "#9c179e"
             ],
             [
              0.4444444444444444,
              "#bd3786"
             ],
             [
              0.5555555555555556,
              "#d8576b"
             ],
             [
              0.6666666666666666,
              "#ed7953"
             ],
             [
              0.7777777777777778,
              "#fb9f3a"
             ],
             [
              0.8888888888888888,
              "#fdca26"
             ],
             [
              1,
              "#f0f921"
             ]
            ],
            "type": "histogram2d"
           }
          ],
          "histogram2dcontour": [
           {
            "colorbar": {
             "outlinewidth": 0,
             "ticks": ""
            },
            "colorscale": [
             [
              0,
              "#0d0887"
             ],
             [
              0.1111111111111111,
              "#46039f"
             ],
             [
              0.2222222222222222,
              "#7201a8"
             ],
             [
              0.3333333333333333,
              "#9c179e"
             ],
             [
              0.4444444444444444,
              "#bd3786"
             ],
             [
              0.5555555555555556,
              "#d8576b"
             ],
             [
              0.6666666666666666,
              "#ed7953"
             ],
             [
              0.7777777777777778,
              "#fb9f3a"
             ],
             [
              0.8888888888888888,
              "#fdca26"
             ],
             [
              1,
              "#f0f921"
             ]
            ],
            "type": "histogram2dcontour"
           }
          ],
          "mesh3d": [
           {
            "colorbar": {
             "outlinewidth": 0,
             "ticks": ""
            },
            "type": "mesh3d"
           }
          ],
          "parcoords": [
           {
            "line": {
             "colorbar": {
              "outlinewidth": 0,
              "ticks": ""
             }
            },
            "type": "parcoords"
           }
          ],
          "pie": [
           {
            "automargin": true,
            "type": "pie"
           }
          ],
          "scatter": [
           {
            "marker": {
             "colorbar": {
              "outlinewidth": 0,
              "ticks": ""
             }
            },
            "type": "scatter"
           }
          ],
          "scatter3d": [
           {
            "line": {
             "colorbar": {
              "outlinewidth": 0,
              "ticks": ""
             }
            },
            "marker": {
             "colorbar": {
              "outlinewidth": 0,
              "ticks": ""
             }
            },
            "type": "scatter3d"
           }
          ],
          "scattercarpet": [
           {
            "marker": {
             "colorbar": {
              "outlinewidth": 0,
              "ticks": ""
             }
            },
            "type": "scattercarpet"
           }
          ],
          "scattergeo": [
           {
            "marker": {
             "colorbar": {
              "outlinewidth": 0,
              "ticks": ""
             }
            },
            "type": "scattergeo"
           }
          ],
          "scattergl": [
           {
            "marker": {
             "colorbar": {
              "outlinewidth": 0,
              "ticks": ""
             }
            },
            "type": "scattergl"
           }
          ],
          "scattermapbox": [
           {
            "marker": {
             "colorbar": {
              "outlinewidth": 0,
              "ticks": ""
             }
            },
            "type": "scattermapbox"
           }
          ],
          "scatterpolar": [
           {
            "marker": {
             "colorbar": {
              "outlinewidth": 0,
              "ticks": ""
             }
            },
            "type": "scatterpolar"
           }
          ],
          "scatterpolargl": [
           {
            "marker": {
             "colorbar": {
              "outlinewidth": 0,
              "ticks": ""
             }
            },
            "type": "scatterpolargl"
           }
          ],
          "scatterternary": [
           {
            "marker": {
             "colorbar": {
              "outlinewidth": 0,
              "ticks": ""
             }
            },
            "type": "scatterternary"
           }
          ],
          "surface": [
           {
            "colorbar": {
             "outlinewidth": 0,
             "ticks": ""
            },
            "colorscale": [
             [
              0,
              "#0d0887"
             ],
             [
              0.1111111111111111,
              "#46039f"
             ],
             [
              0.2222222222222222,
              "#7201a8"
             ],
             [
              0.3333333333333333,
              "#9c179e"
             ],
             [
              0.4444444444444444,
              "#bd3786"
             ],
             [
              0.5555555555555556,
              "#d8576b"
             ],
             [
              0.6666666666666666,
              "#ed7953"
             ],
             [
              0.7777777777777778,
              "#fb9f3a"
             ],
             [
              0.8888888888888888,
              "#fdca26"
             ],
             [
              1,
              "#f0f921"
             ]
            ],
            "type": "surface"
           }
          ],
          "table": [
           {
            "cells": {
             "fill": {
              "color": "#EBF0F8"
             },
             "line": {
              "color": "white"
             }
            },
            "header": {
             "fill": {
              "color": "#C8D4E3"
             },
             "line": {
              "color": "white"
             }
            },
            "type": "table"
           }
          ]
         },
         "layout": {
          "annotationdefaults": {
           "arrowcolor": "#2a3f5f",
           "arrowhead": 0,
           "arrowwidth": 1
          },
          "autotypenumbers": "strict",
          "coloraxis": {
           "colorbar": {
            "outlinewidth": 0,
            "ticks": ""
           }
          },
          "colorscale": {
           "diverging": [
            [
             0,
             "#8e0152"
            ],
            [
             0.1,
             "#c51b7d"
            ],
            [
             0.2,
             "#de77ae"
            ],
            [
             0.3,
             "#f1b6da"
            ],
            [
             0.4,
             "#fde0ef"
            ],
            [
             0.5,
             "#f7f7f7"
            ],
            [
             0.6,
             "#e6f5d0"
            ],
            [
             0.7,
             "#b8e186"
            ],
            [
             0.8,
             "#7fbc41"
            ],
            [
             0.9,
             "#4d9221"
            ],
            [
             1,
             "#276419"
            ]
           ],
           "sequential": [
            [
             0,
             "#0d0887"
            ],
            [
             0.1111111111111111,
             "#46039f"
            ],
            [
             0.2222222222222222,
             "#7201a8"
            ],
            [
             0.3333333333333333,
             "#9c179e"
            ],
            [
             0.4444444444444444,
             "#bd3786"
            ],
            [
             0.5555555555555556,
             "#d8576b"
            ],
            [
             0.6666666666666666,
             "#ed7953"
            ],
            [
             0.7777777777777778,
             "#fb9f3a"
            ],
            [
             0.8888888888888888,
             "#fdca26"
            ],
            [
             1,
             "#f0f921"
            ]
           ],
           "sequentialminus": [
            [
             0,
             "#0d0887"
            ],
            [
             0.1111111111111111,
             "#46039f"
            ],
            [
             0.2222222222222222,
             "#7201a8"
            ],
            [
             0.3333333333333333,
             "#9c179e"
            ],
            [
             0.4444444444444444,
             "#bd3786"
            ],
            [
             0.5555555555555556,
             "#d8576b"
            ],
            [
             0.6666666666666666,
             "#ed7953"
            ],
            [
             0.7777777777777778,
             "#fb9f3a"
            ],
            [
             0.8888888888888888,
             "#fdca26"
            ],
            [
             1,
             "#f0f921"
            ]
           ]
          },
          "colorway": [
           "#636efa",
           "#EF553B",
           "#00cc96",
           "#ab63fa",
           "#FFA15A",
           "#19d3f3",
           "#FF6692",
           "#B6E880",
           "#FF97FF",
           "#FECB52"
          ],
          "font": {
           "color": "#2a3f5f"
          },
          "geo": {
           "bgcolor": "white",
           "lakecolor": "white",
           "landcolor": "#E5ECF6",
           "showlakes": true,
           "showland": true,
           "subunitcolor": "white"
          },
          "hoverlabel": {
           "align": "left"
          },
          "hovermode": "closest",
          "mapbox": {
           "style": "light"
          },
          "paper_bgcolor": "white",
          "plot_bgcolor": "#E5ECF6",
          "polar": {
           "angularaxis": {
            "gridcolor": "white",
            "linecolor": "white",
            "ticks": ""
           },
           "bgcolor": "#E5ECF6",
           "radialaxis": {
            "gridcolor": "white",
            "linecolor": "white",
            "ticks": ""
           }
          },
          "scene": {
           "xaxis": {
            "backgroundcolor": "#E5ECF6",
            "gridcolor": "white",
            "gridwidth": 2,
            "linecolor": "white",
            "showbackground": true,
            "ticks": "",
            "zerolinecolor": "white"
           },
           "yaxis": {
            "backgroundcolor": "#E5ECF6",
            "gridcolor": "white",
            "gridwidth": 2,
            "linecolor": "white",
            "showbackground": true,
            "ticks": "",
            "zerolinecolor": "white"
           },
           "zaxis": {
            "backgroundcolor": "#E5ECF6",
            "gridcolor": "white",
            "gridwidth": 2,
            "linecolor": "white",
            "showbackground": true,
            "ticks": "",
            "zerolinecolor": "white"
           }
          },
          "shapedefaults": {
           "line": {
            "color": "#2a3f5f"
           }
          },
          "ternary": {
           "aaxis": {
            "gridcolor": "white",
            "linecolor": "white",
            "ticks": ""
           },
           "baxis": {
            "gridcolor": "white",
            "linecolor": "white",
            "ticks": ""
           },
           "bgcolor": "#E5ECF6",
           "caxis": {
            "gridcolor": "white",
            "linecolor": "white",
            "ticks": ""
           }
          },
          "title": {
           "x": 0.05
          },
          "xaxis": {
           "automargin": true,
           "gridcolor": "white",
           "linecolor": "white",
           "ticks": "",
           "title": {
            "standoff": 15
           },
           "zerolinecolor": "white",
           "zerolinewidth": 2
          },
          "yaxis": {
           "automargin": true,
           "gridcolor": "white",
           "linecolor": "white",
           "ticks": "",
           "title": {
            "standoff": 15
           },
           "zerolinecolor": "white",
           "zerolinewidth": 2
          }
         }
        },
        "width": 600,
        "xaxis": {
         "range": [
          -5,
          6
         ],
         "type": "linear"
        },
        "yaxis": {
         "range": [
          -5,
          6
         ],
         "type": "linear"
        }
       }
      },
      "image/png": "[encoded data removed]",
      "text/html": [
       "<div\n",
       "    class=\"webio-mountpoint\"\n",
       "    data-webio-mountpoint=\"1341323379491352393\"\n",
       ">\n",
       "    <script>\n",
       "    (function(){\n",
       "    // Some integrations (namely, IJulia/Jupyter) use an alternate render pathway than\n",
       "    // just putting the html on the page. If WebIO isn't defined, then it's pretty likely\n",
       "    // that we're in one of those situations and the integration just isn't installed\n",
       "    // correctly.\n",
       "    if (typeof window.WebIO === \"undefined\") {\n",
       "        document\n",
       "            .querySelector('[data-webio-mountpoint=\"1341323379491352393\"]')\n",
       "            .innerHTML = (\n",
       "                '<div style=\"padding: 1em; background-color: #f8d6da; border: 1px solid #f5c6cb; font-weight: bold;\">' +\n",
       "                '<p><strong>WebIO not detected.</strong></p>' +\n",
       "                '<p>Please read ' +\n",
       "                '<a href=\"https://juliagizmos.github.io/WebIO.jl/latest/troubleshooting/not-detected/\" target=\"_blank\">the troubleshooting guide</a> ' +\n",
       "                'for more information on how to resolve this issue.</p>' +\n",
       "                '<p><a href=\"https://juliagizmos.github.io/WebIO.jl/latest/troubleshooting/not-detected/\" target=\"_blank\">https://juliagizmos.github.io/WebIO.jl/latest/troubleshooting/not-detected/</a></p>' +\n",
       "                '</div>'\n",
       "            );\n",
       "        return;\n",
       "    }\n",
       "    WebIO.mount(\n",
       "        document.querySelector('[data-webio-mountpoint=\"1341323379491352393\"]'),\n",
       "        {\"props\":{},\"nodeType\":\"Scope\",\"type\":\"node\",\"instanceArgs\":{\"imports\":{\"data\":[{\"name\":\"Plotly\",\"type\":\"js\",\"url\":\"\\/assetserver\\/d66a736669047bda0b2d00471bd5207a90cf3193-plotly.min.js\"},{\"name\":null,\"type\":\"js\",\"url\":\"\\/assetserver\\/aee3160e397a4905b07437c5af565305d1ef6def-plotly_webio.bundle.js\"}],\"type\":\"async_block\"},\"id\":\"8223505457409991110\",\"handlers\":{\"_toImage\":[\"(function (options){return this.Plotly.toImage(this.plotElem,options).then((function (data){return WebIO.setval({\\\"name\\\":\\\"image\\\",\\\"scope\\\":\\\"8223505457409991110\\\",\\\"id\\\":\\\"13505269832146508475\\\",\\\"type\\\":\\\"observable\\\"},data)}))})\"],\"__get_gd_contents\":[\"(function (prop){prop==\\\"data\\\" ? (WebIO.setval({\\\"name\\\":\\\"__gd_contents\\\",\\\"scope\\\":\\\"8223505457409991110\\\",\\\"id\\\":\\\"8023266563316277009\\\",\\\"type\\\":\\\"observable\\\"},this.plotElem.data)) : undefined; return prop==\\\"layout\\\" ? (WebIO.setval({\\\"name\\\":\\\"__gd_contents\\\",\\\"scope\\\":\\\"8223505457409991110\\\",\\\"id\\\":\\\"8023266563316277009\\\",\\\"type\\\":\\\"observable\\\"},this.plotElem.layout)) : undefined})\"],\"_downloadImage\":[\"(function (options){return this.Plotly.downloadImage(this.plotElem,options)})\"],\"_commands\":[\"(function (args){var fn=args.shift(); var elem=this.plotElem; var Plotly=this.Plotly; args.unshift(elem); return Plotly[fn].apply(this,args)})\"]},\"systemjs_options\":null,\"mount_callbacks\":[\"function () {\\n    var handler = ((function (Plotly,PlotlyWebIO){PlotlyWebIO.init(WebIO); var gd=this.dom.querySelector(\\\"#plot-22316263-090a-4be9-88a4-3b1e0e90a0da\\\"); this.plotElem=gd; this.Plotly=Plotly; (window.Blink!==undefined) ? (gd.style.width=\\\"100%\\\", gd.style.height=\\\"100vh\\\", gd.style.marginLeft=\\\"0%\\\", gd.style.marginTop=\\\"0vh\\\") : undefined; window.onresize=(function (){return Plotly.Plots.resize(gd)}); Plotly.newPlot(gd,[{\\\"y\\\":[1.0,1.0,-1.0,-1.0,1.0],\\\"type\\\":\\\"scatter\\\",\\\"x\\\":[4.9993783640016325,2.9993783640016325,2.9993783640016325,4.9993783640016325,4.9993783640016325]},{\\\"y\\\":[-1.0,-0.9950307753654014,-0.9801724878485439,-0.9555728057861408,-0.9214762118704077,-0.8782215733702285,-0.8262387743159951,-0.7660444431189781,-0.698236818086073,-0.6234898018587337,-0.5425462638657592,-0.4562106573531632,-0.3653410243663957,-0.2708404681430055,-0.17364817766693033,-0.07473009358642473,0.02493069173807279,0.1243437046474846,0.22252093395631423,0.3184866502516846,0.4112871031306113,0.49999999999999933,0.5837436722347895,0.6616858375968594,0.733051871829826,0.7971325072229218,0.8532908816321554,0.900968867902419,0.9396926207859084,0.9690772862290778,0.9888308262251284,0.9987569212189223,0.9987569212189223,0.9888308262251285,0.9690772862290782,0.9396926207859086,0.9009688679024193,0.8532908816321556,0.7971325072229227,0.7330518718298263,0.6616858375968597,0.58374367223479,0.5000000000000006,0.41128710313061173,0.3184866502516851,0.2225209339563147,0.12434370464748597,0.024930691738073277,-0.07473009358642335,-0.17364817766692986,-0.2708404681430033,-0.3653410243663936,-0.45621065735316196,-0.5425462638657588,-0.6234898018587333,-0.6982368180860729,-0.7660444431189783,-0.8262387743159954,-0.8782215733702283,-0.9214762118704076,-0.9555728057861402,-0.9801724878485436,-0.9950307753654013,-1.0,-1.0],\\\"type\\\":\\\"scatter\\\",\\\"x\\\":[1.9996891820008165,1.9001213354049997,1.8015430388014189,1.7049340075899124,1.611254385726122,1.521435203379498,1.4363691239371947,1.356901572314277,1.283822332741098,1.2178576995327866,1.1596632588500446,1.109817373189348,1.0688154333566122,1.0370649350508043,1.0148814289886081,1.0024853848196362,1.0,1.007449975400644,1.0247612698189927,1.0517618358336844,1.088183329689143,1.1336637782163772,1.1877511762849595,1.249907979033082,1.3195164442298966,1.395884771675338,1.4782539786213178,1.565805442883258,1.6576690386751476,1.7529317843105223,1.850646915824641,1.9498432963401187,2.0495350676615134,2.1487314481769912,2.246446579691109,2.3417093253264842,2.4335729211183743,2.5211243853803147,2.603493592326293,2.6798619197717355,2.74947038496855,2.8116271877166725,2.8657145857852546,2.911195034312489,2.9476165281679476,2.9746170941826398,2.9919283886009884,2.9993783640016325,2.9968929791819967,2.9844969350130244,2.9623134289508286,2.930562930645021,2.8895609908122855,2.839715105151588,2.781520664468846,2.7155560312605345,2.642476791687355,2.5630092400644378,2.477943160622135,2.388123978275511,2.294444356411722,2.1978353252002147,2.0992570285966337,1.9996891820008167,1.9996891820008165]},{\\\"y\\\":[0,1,0,0],\\\"type\\\":\\\"scatter\\\",\\\"x\\\":[0,1,1,0]}],{\\\"xaxis\\\":{\\\"range\\\":[-5,6]},\\\"template\\\":{\\\"layout\\\":{\\\"coloraxis\\\":{\\\"colorbar\\\":{\\\"ticks\\\":\\\"\\\",\\\"outlinewidth\\\":0}},\\\"xaxis\\\":{\\\"gridcolor\\\":\\\"white\\\",\\\"zerolinewidth\\\":2,\\\"title\\\":{\\\"standoff\\\":15},\\\"ticks\\\":\\\"\\\",\\\"zerolinecolor\\\":\\\"white\\\",\\\"automargin\\\":true,\\\"linecolor\\\":\\\"white\\\"},\\\"hovermode\\\":\\\"closest\\\",\\\"paper_bgcolor\\\":\\\"white\\\",\\\"geo\\\":{\\\"showlakes\\\":true,\\\"showland\\\":true,\\\"landcolor\\\":\\\"#E5ECF6\\\",\\\"bgcolor\\\":\\\"white\\\",\\\"subunitcolor\\\":\\\"white\\\",\\\"lakecolor\\\":\\\"white\\\"},\\\"colorscale\\\":{\\\"sequential\\\":[[0.0,\\\"#0d0887\\\"],[0.1111111111111111,\\\"#46039f\\\"],[0.2222222222222222,\\\"#7201a8\\\"],[0.3333333333333333,\\\"#9c179e\\\"],[0.4444444444444444,\\\"#bd3786\\\"],[0.5555555555555556,\\\"#d8576b\\\"],[0.6666666666666666,\\\"#ed7953\\\"],[0.7777777777777778,\\\"#fb9f3a\\\"],[0.8888888888888888,\\\"#fdca26\\\"],[1.0,\\\"#f0f921\\\"]],\\\"diverging\\\":[[0,\\\"#8e0152\\\"],[0.1,\\\"#c51b7d\\\"],[0.2,\\\"#de77ae\\\"],[0.3,\\\"#f1b6da\\\"],[0.4,\\\"#fde0ef\\\"],[0.5,\\\"#f7f7f7\\\"],[0.6,\\\"#e6f5d0\\\"],[0.7,\\\"#b8e186\\\"],[0.8,\\\"#7fbc41\\\"],[0.9,\\\"#4d9221\\\"],[1,\\\"#276419\\\"]],\\\"sequentialminus\\\":[[0.0,\\\"#0d0887\\\"],[0.1111111111111111,\\\"#46039f\\\"],[0.2222222222222222,\\\"#7201a8\\\"],[0.3333333333333333,\\\"#9c179e\\\"],[0.4444444444444444,\\\"#bd3786\\\"],[0.5555555555555556,\\\"#d8576b\\\"],[0.6666666666666666,\\\"#ed7953\\\"],[0.7777777777777778,\\\"#fb9f3a\\\"],[0.8888888888888888,\\\"#fdca26\\\"],[1.0,\\\"#f0f921\\\"]]},\\\"yaxis\\\":{\\\"gridcolor\\\":\\\"white\\\",\\\"zerolinewidth\\\":2,\\\"title\\\":{\\\"standoff\\\":15},\\\"ticks\\\":\\\"\\\",\\\"zerolinecolor\\\":\\\"white\\\",\\\"automargin\\\":true,\\\"linecolor\\\":\\\"white\\\"},\\\"shapedefaults\\\":{\\\"line\\\":{\\\"color\\\":\\\"#2a3f5f\\\"}},\\\"hoverlabel\\\":{\\\"align\\\":\\\"left\\\"},\\\"mapbox\\\":{\\\"style\\\":\\\"light\\\"},\\\"polar\\\":{\\\"angularaxis\\\":{\\\"gridcolor\\\":\\\"white\\\",\\\"ticks\\\":\\\"\\\",\\\"linecolor\\\":\\\"white\\\"},\\\"bgcolor\\\":\\\"#E5ECF6\\\",\\\"radialaxis\\\":{\\\"gridcolor\\\":\\\"white\\\",\\\"ticks\\\":\\\"\\\",\\\"linecolor\\\":\\\"white\\\"}},\\\"autotypenumbers\\\":\\\"strict\\\",\\\"font\\\":{\\\"color\\\":\\\"#2a3f5f\\\"},\\\"ternary\\\":{\\\"baxis\\\":{\\\"gridcolor\\\":\\\"white\\\",\\\"ticks\\\":\\\"\\\",\\\"linecolor\\\":\\\"white\\\"},\\\"bgcolor\\\":\\\"#E5ECF6\\\",\\\"caxis\\\":{\\\"gridcolor\\\":\\\"white\\\",\\\"ticks\\\":\\\"\\\",\\\"linecolor\\\":\\\"white\\\"},\\\"aaxis\\\":{\\\"gridcolor\\\":\\\"white\\\",\\\"ticks\\\":\\\"\\\",\\\"linecolor\\\":\\\"white\\\"}},\\\"annotationdefaults\\\":{\\\"arrowhead\\\":0,\\\"arrowwidth\\\":1,\\\"arrowcolor\\\":\\\"#2a3f5f\\\"},\\\"plot_bgcolor\\\":\\\"#E5ECF6\\\",\\\"title\\\":{\\\"x\\\":0.05},\\\"scene\\\":{\\\"xaxis\\\":{\\\"gridcolor\\\":\\\"white\\\",\\\"gridwidth\\\":2,\\\"backgroundcolor\\\":\\\"#E5ECF6\\\",\\\"ticks\\\":\\\"\\\",\\\"showbackground\\\":true,\\\"zerolinecolor\\\":\\\"white\\\",\\\"linecolor\\\":\\\"white\\\"},\\\"zaxis\\\":{\\\"gridcolor\\\":\\\"white\\\",\\\"gridwidth\\\":2,\\\"backgroundcolor\\\":\\\"#E5ECF6\\\",\\\"ticks\\\":\\\"\\\",\\\"showbackground\\\":true,\\\"zerolinecolor\\\":\\\"white\\\",\\\"linecolor\\\":\\\"white\\\"},\\\"yaxis\\\":{\\\"gridcolor\\\":\\\"white\\\",\\\"gridwidth\\\":2,\\\"backgroundcolor\\\":\\\"#E5ECF6\\\",\\\"ticks\\\":\\\"\\\",\\\"showbackground\\\":true,\\\"zerolinecolor\\\":\\\"white\\\",\\\"linecolor\\\":\\\"white\\\"}},\\\"colorway\\\":[\\\"#636efa\\\",\\\"#EF553B\\\",\\\"#00cc96\\\",\\\"#ab63fa\\\",\\\"#FFA15A\\\",\\\"#19d3f3\\\",\\\"#FF6692\\\",\\\"#B6E880\\\",\\\"#FF97FF\\\",\\\"#FECB52\\\"]},\\\"data\\\":{\\\"barpolar\\\":[{\\\"type\\\":\\\"barpolar\\\",\\\"marker\\\":{\\\"line\\\":{\\\"color\\\":\\\"#E5ECF6\\\",\\\"width\\\":0.5}}}],\\\"carpet\\\":[{\\\"aaxis\\\":{\\\"gridcolor\\\":\\\"white\\\",\\\"endlinecolor\\\":\\\"#2a3f5f\\\",\\\"minorgridcolor\\\":\\\"white\\\",\\\"startlinecolor\\\":\\\"#2a3f5f\\\",\\\"linecolor\\\":\\\"white\\\"},\\\"type\\\":\\\"carpet\\\",\\\"baxis\\\":{\\\"gridcolor\\\":\\\"white\\\",\\\"endlinecolor\\\":\\\"#2a3f5f\\\",\\\"minorgridcolor\\\":\\\"white\\\",\\\"startlinecolor\\\":\\\"#2a3f5f\\\",\\\"linecolor\\\":\\\"white\\\"}}],\\\"scatterpolar\\\":[{\\\"type\\\":\\\"scatterpolar\\\",\\\"marker\\\":{\\\"colorbar\\\":{\\\"ticks\\\":\\\"\\\",\\\"outlinewidth\\\":0}}}],\\\"parcoords\\\":[{\\\"line\\\":{\\\"colorbar\\\":{\\\"ticks\\\":\\\"\\\",\\\"outlinewidth\\\":0}},\\\"type\\\":\\\"parcoords\\\"}],\\\"scatter\\\":[{\\\"type\\\":\\\"scatter\\\",\\\"marker\\\":{\\\"colorbar\\\":{\\\"ticks\\\":\\\"\\\",\\\"outlinewidth\\\":0}}}],\\\"histogram2dcontour\\\":[{\\\"colorbar\\\":{\\\"ticks\\\":\\\"\\\",\\\"outlinewidth\\\":0},\\\"type\\\":\\\"histogram2dcontour\\\",\\\"colorscale\\\":[[0.0,\\\"#0d0887\\\"],[0.1111111111111111,\\\"#46039f\\\"],[0.2222222222222222,\\\"#7201a8\\\"],[0.3333333333333333,\\\"#9c179e\\\"],[0.4444444444444444,\\\"#bd3786\\\"],[0.5555555555555556,\\\"#d8576b\\\"],[0.6666666666666666,\\\"#ed7953\\\"],[0.7777777777777778,\\\"#fb9f3a\\\"],[0.8888888888888888,\\\"#fdca26\\\"],[1.0,\\\"#f0f921\\\"]]}],\\\"contour\\\":[{\\\"colorbar\\\":{\\\"ticks\\\":\\\"\\\",\\\"outlinewidth\\\":0},\\\"type\\\":\\\"contour\\\",\\\"colorscale\\\":[[0.0,\\\"#0d0887\\\"],[0.1111111111111111,\\\"#46039f\\\"],[0.2222222222222222,\\\"#7201a8\\\"],[0.3333333333333333,\\\"#9c179e\\\"],[0.4444444444444444,\\\"#bd3786\\\"],[0.5555555555555556,\\\"#d8576b\\\"],[0.6666666666666666,\\\"#ed7953\\\"],[0.7777777777777778,\\\"#fb9f3a\\\"],[0.8888888888888888,\\\"#fdca26\\\"],[1.0,\\\"#f0f921\\\"]]}],\\\"scattercarpet\\\":[{\\\"type\\\":\\\"scattercarpet\\\",\\\"marker\\\":{\\\"colorbar\\\":{\\\"ticks\\\":\\\"\\\",\\\"outlinewidth\\\":0}}}],\\\"mesh3d\\\":[{\\\"colorbar\\\":{\\\"ticks\\\":\\\"\\\",\\\"outlinewidth\\\":0},\\\"type\\\":\\\"mesh3d\\\"}],\\\"surface\\\":[{\\\"colorbar\\\":{\\\"ticks\\\":\\\"\\\",\\\"outlinewidth\\\":0},\\\"type\\\":\\\"surface\\\",\\\"colorscale\\\":[[0.0,\\\"#0d0887\\\"],[0.1111111111111111,\\\"#46039f\\\"],[0.2222222222222222,\\\"#7201a8\\\"],[0.3333333333333333,\\\"#9c179e\\\"],[0.4444444444444444,\\\"#bd3786\\\"],[0.5555555555555556,\\\"#d8576b\\\"],[0.6666666666666666,\\\"#ed7953\\\"],[0.7777777777777778,\\\"#fb9f3a\\\"],[0.8888888888888888,\\\"#fdca26\\\"],[1.0,\\\"#f0f921\\\"]]}],\\\"scattermapbox\\\":[{\\\"type\\\":\\\"scattermapbox\\\",\\\"marker\\\":{\\\"colorbar\\\":{\\\"ticks\\\":\\\"\\\",\\\"outlinewidth\\\":0}}}],\\\"scattergeo\\\":[{\\\"type\\\":\\\"scattergeo\\\",\\\"marker\\\":{\\\"colorbar\\\":{\\\"ticks\\\":\\\"\\\",\\\"outlinewidth\\\":0}}}],\\\"histogram\\\":[{\\\"type\\\":\\\"histogram\\\",\\\"marker\\\":{\\\"colorbar\\\":{\\\"ticks\\\":\\\"\\\",\\\"outlinewidth\\\":0}}}],\\\"pie\\\":[{\\\"type\\\":\\\"pie\\\",\\\"automargin\\\":true}],\\\"choropleth\\\":[{\\\"colorbar\\\":{\\\"ticks\\\":\\\"\\\",\\\"outlinewidth\\\":0},\\\"type\\\":\\\"choropleth\\\"}],\\\"heatmapgl\\\":[{\\\"colorbar\\\":{\\\"ticks\\\":\\\"\\\",\\\"outlinewidth\\\":0},\\\"type\\\":\\\"heatmapgl\\\",\\\"colorscale\\\":[[0.0,\\\"#0d0887\\\"],[0.1111111111111111,\\\"#46039f\\\"],[0.2222222222222222,\\\"#7201a8\\\"],[0.3333333333333333,\\\"#9c179e\\\"],[0.4444444444444444,\\\"#bd3786\\\"],[0.5555555555555556,\\\"#d8576b\\\"],[0.6666666666666666,\\\"#ed7953\\\"],[0.7777777777777778,\\\"#fb9f3a\\\"],[0.8888888888888888,\\\"#fdca26\\\"],[1.0,\\\"#f0f921\\\"]]}],\\\"bar\\\":[{\\\"type\\\":\\\"bar\\\",\\\"error_y\\\":{\\\"color\\\":\\\"#2a3f5f\\\"},\\\"error_x\\\":{\\\"color\\\":\\\"#2a3f5f\\\"},\\\"marker\\\":{\\\"line\\\":{\\\"color\\\":\\\"#E5ECF6\\\",\\\"width\\\":0.5}}}],\\\"heatmap\\\":[{\\\"colorbar\\\":{\\\"ticks\\\":\\\"\\\",\\\"outlinewidth\\\":0},\\\"type\\\":\\\"heatmap\\\",\\\"colorscale\\\":[[0.0,\\\"#0d0887\\\"],[0.1111111111111111,\\\"#46039f\\\"],[0.2222222222222222,\\\"#7201a8\\\"],[0.3333333333333333,\\\"#9c179e\\\"],[0.4444444444444444,\\\"#bd3786\\\"],[0.5555555555555556,\\\"#d8576b\\\"],[0.6666666666666666,\\\"#ed7953\\\"],[0.7777777777777778,\\\"#fb9f3a\\\"],[0.8888888888888888,\\\"#fdca26\\\"],[1.0,\\\"#f0f921\\\"]]}],\\\"contourcarpet\\\":[{\\\"colorbar\\\":{\\\"ticks\\\":\\\"\\\",\\\"outlinewidth\\\":0},\\\"type\\\":\\\"contourcarpet\\\"}],\\\"table\\\":[{\\\"type\\\":\\\"table\\\",\\\"header\\\":{\\\"line\\\":{\\\"color\\\":\\\"white\\\"},\\\"fill\\\":{\\\"color\\\":\\\"#C8D4E3\\\"}},\\\"cells\\\":{\\\"line\\\":{\\\"color\\\":\\\"white\\\"},\\\"fill\\\":{\\\"color\\\":\\\"#EBF0F8\\\"}}}],\\\"scatter3d\\\":[{\\\"line\\\":{\\\"colorbar\\\":{\\\"ticks\\\":\\\"\\\",\\\"outlinewidth\\\":0}},\\\"type\\\":\\\"scatter3d\\\",\\\"marker\\\":{\\\"colorbar\\\":{\\\"ticks\\\":\\\"\\\",\\\"outlinewidth\\\":0}}}],\\\"scattergl\\\":[{\\\"type\\\":\\\"scattergl\\\",\\\"marker\\\":{\\\"colorbar\\\":{\\\"ticks\\\":\\\"\\\",\\\"outlinewidth\\\":0}}}],\\\"histogram2d\\\":[{\\\"colorbar\\\":{\\\"ticks\\\":\\\"\\\",\\\"outlinewidth\\\":0},\\\"type\\\":\\\"histogram2d\\\",\\\"colorscale\\\":[[0.0,\\\"#0d0887\\\"],[0.1111111111111111,\\\"#46039f\\\"],[0.2222222222222222,\\\"#7201a8\\\"],[0.3333333333333333,\\\"#9c179e\\\"],[0.4444444444444444,\\\"#bd3786\\\"],[0.5555555555555556,\\\"#d8576b\\\"],[0.6666666666666666,\\\"#ed7953\\\"],[0.7777777777777778,\\\"#fb9f3a\\\"],[0.8888888888888888,\\\"#fdca26\\\"],[1.0,\\\"#f0f921\\\"]]}],\\\"scatterternary\\\":[{\\\"type\\\":\\\"scatterternary\\\",\\\"marker\\\":{\\\"colorbar\\\":{\\\"ticks\\\":\\\"\\\",\\\"outlinewidth\\\":0}}}],\\\"scatterpolargl\\\":[{\\\"type\\\":\\\"scatterpolargl\\\",\\\"marker\\\":{\\\"colorbar\\\":{\\\"ticks\\\":\\\"\\\",\\\"outlinewidth\\\":0}}}]}},\\\"height\\\":600,\\\"margin\\\":{\\\"l\\\":50,\\\"b\\\":50,\\\"r\\\":50,\\\"t\\\":60},\\\"yaxis\\\":{\\\"range\\\":[-5,6]},\\\"width\\\":600},{\\\"showLink\\\":false,\\\"editable\\\":false,\\\"responsive\\\":true,\\\"staticPlot\\\":false,\\\"scrollZoom\\\":true}); gd.on(\\\"plotly_hover\\\",(function (data){var filtered_data=WebIO.PlotlyCommands.filterEventData(gd,data,\\\"hover\\\"); return !(filtered_data.isnil) ? (WebIO.setval({\\\"name\\\":\\\"hover\\\",\\\"scope\\\":\\\"8223505457409991110\\\",\\\"id\\\":\\\"1263186742926307567\\\",\\\"type\\\":\\\"observable\\\"},filtered_data.out)) : undefined})); gd.on(\\\"plotly_unhover\\\",(function (){return WebIO.setval({\\\"name\\\":\\\"hover\\\",\\\"scope\\\":\\\"8223505457409991110\\\",\\\"id\\\":\\\"1263186742926307567\\\",\\\"type\\\":\\\"observable\\\"},{})})); gd.on(\\\"plotly_selected\\\",(function (data){var filtered_data=WebIO.PlotlyCommands.filterEventData(gd,data,\\\"selected\\\"); return !(filtered_data.isnil) ? (WebIO.setval({\\\"name\\\":\\\"selected\\\",\\\"scope\\\":\\\"8223505457409991110\\\",\\\"id\\\":\\\"16664815913787607618\\\",\\\"type\\\":\\\"observable\\\"},filtered_data.out)) : undefined})); gd.on(\\\"plotly_deselect\\\",(function (){return WebIO.setval({\\\"name\\\":\\\"selected\\\",\\\"scope\\\":\\\"8223505457409991110\\\",\\\"id\\\":\\\"16664815913787607618\\\",\\\"type\\\":\\\"observable\\\"},{})})); gd.on(\\\"plotly_relayout\\\",(function (data){var filtered_data=WebIO.PlotlyCommands.filterEventData(gd,data,\\\"relayout\\\"); return !(filtered_data.isnil) ? (WebIO.setval({\\\"name\\\":\\\"relayout\\\",\\\"scope\\\":\\\"8223505457409991110\\\",\\\"id\\\":\\\"5351320055216008131\\\",\\\"type\\\":\\\"observable\\\"},filtered_data.out)) : undefined})); return gd.on(\\\"plotly_click\\\",(function (data){var filtered_data=WebIO.PlotlyCommands.filterEventData(gd,data,\\\"click\\\"); return !(filtered_data.isnil) ? (WebIO.setval({\\\"name\\\":\\\"click\\\",\\\"scope\\\":\\\"8223505457409991110\\\",\\\"id\\\":\\\"10611420340344213952\\\",\\\"type\\\":\\\"observable\\\"},filtered_data.out)) : undefined}))}));\\n    (WebIO.importBlock({\\\"data\\\":[{\\\"name\\\":\\\"Plotly\\\",\\\"type\\\":\\\"js\\\",\\\"url\\\":\\\"\\/assetserver\\/d66a736669047bda0b2d00471bd5207a90cf3193-plotly.min.js\\\"},{\\\"name\\\":null,\\\"type\\\":\\\"js\\\",\\\"url\\\":\\\"\\/assetserver\\/aee3160e397a4905b07437c5af565305d1ef6def-plotly_webio.bundle.js\\\"}],\\\"type\\\":\\\"async_block\\\"})).then((imports) => handler.apply(this, imports));\\n}\\n\"],\"observables\":{\"_toImage\":{\"sync\":false,\"id\":\"4453727342256791989\",\"value\":{}},\"hover\":{\"sync\":false,\"id\":\"1263186742926307567\",\"value\":{}},\"selected\":{\"sync\":false,\"id\":\"16664815913787607618\",\"value\":{}},\"__gd_contents\":{\"sync\":false,\"id\":\"8023266563316277009\",\"value\":{}},\"click\":{\"sync\":false,\"id\":\"10611420340344213952\",\"value\":{}},\"image\":{\"sync\":true,\"id\":\"13505269832146508475\",\"value\":\"\"},\"__get_gd_contents\":{\"sync\":false,\"id\":\"12944815228693380159\",\"value\":\"\"},\"_downloadImage\":{\"sync\":false,\"id\":\"11810990756621822644\",\"value\":{}},\"relayout\":{\"sync\":false,\"id\":\"5351320055216008131\",\"value\":{}},\"_commands\":{\"sync\":false,\"id\":\"7934017129978927943\",\"value\":[]}}},\"children\":[{\"props\":{\"id\":\"plot-22316263-090a-4be9-88a4-3b1e0e90a0da\"},\"nodeType\":\"DOM\",\"type\":\"node\",\"instanceArgs\":{\"namespace\":\"html\",\"tag\":\"div\"},\"children\":[]}]},\n",
       "        window,\n",
       "    );\n",
       "    })()\n",
       "    </script>\n",
       "</div>\n"
      ],
      "text/plain": [
       "data: [\n",
       "  \"scatter with fields type, x, and y\",\n",
       "  \"scatter with fields type, x, and y\",\n",
       "  \"scatter with fields type, x, and y\"\n",
       "]\n",
       "\n",
       "layout: \"layout with fields height, margin, template, width, xaxis, and yaxis\"\n",
       "\n"
      ]
     },
     "execution_count": 175,
     "metadata": {},
     "output_type": "execute_result"
    }
   ],
   "source": [
    "D1 = DiagramDual(MyCircle())\n",
    "D2 = DiagramDual(MySquare(2));\n",
    "D3 = DiagramDual(Prim(Triangle(Point(0,0),Point(1,1), Point(1,0))))\n",
    "\n",
    "D  = beside(D3,beside(D1,D2,[1,0]),[1,0])\n",
    "p = plotgeometry(D)\n",
    "plot(p,layout)"
   ]
  }
 ],
 "metadata": {
  "kernelspec": {
   "display_name": "Julia 1.8.2",
   "language": "julia",
   "name": "julia-1.8"
  },
  "language_info": {
   "file_extension": ".jl",
   "mimetype": "application/julia",
   "name": "julia",
   "version": "1.8.2"
  }
 },
 "nbformat": 4,
 "nbformat_minor": 5
}
