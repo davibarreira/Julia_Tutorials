{
 "cells": [
  {
   "cell_type": "markdown",
   "id": "c7248405-aa52-4749-9508-f5b77843f232",
   "metadata": {},
   "source": [
    "# Monads Revisited - 2\n",
    "\n",
    "Remember, the Category of Endofunctors over $\\mathbf{C}$ is a monoidal category. Thus, we can\n",
    "define monoids over such category by using the "
   ]
  },
  {
   "cell_type": "code",
   "execution_count": 41,
   "id": "2bce338e-5cd7-46b2-9bb3-1afa9ecc5589",
   "metadata": {},
   "outputs": [
    {
     "data": {
      "text/plain": [
       "converttovec (generic function with 1 method)"
      ]
     },
     "execution_count": 41,
     "metadata": {},
     "output_type": "execute_result"
    }
   ],
   "source": [
    "struct Nil end\n",
    "struct Cons{T}\n",
    "  val::T\n",
    "  next::Union{Cons{T},Nil} # n.b. abstract type!\n",
    "end\n",
    "List{T} = Union{Cons{T}, Nil}\n",
    "fmap(f::Function, x::Nil) = Nil()\n",
    "fmap(f::Function, x::Cons) = Cons(f(x.val),fmap(f, x.next))\n",
    "\n",
    "foldrList(f::Function, e, ::Nil) = e\n",
    "foldrList(f::Function, e, x::Cons{T}) where T = f(x.val,foldrList(f, e, x.next))\n",
    "\n",
    "concatenate(x::Nil ,y::List) = y\n",
    "concatenate(x::Cons,y::List) = Cons(x.val, concatenate(x.next, y))\n",
    "\n",
    "μ(x::Nil) = Nil()\n",
    "μ(x::Cons{<:List})  = concatenate(x.val, μ(x.next))\n",
    "η(x,::Type{List}) = Cons(x,Nil())\n",
    "bind(x::List, f::Function) = μ(fmap(f, x))\n",
    "\n",
    "converttovec(l::List) = foldrList(vcat,[],l)"
   ]
  },
  {
   "cell_type": "code",
   "execution_count": 47,
   "id": "396d7255-7f64-4a13-8f8c-5aff1a26c86c",
   "metadata": {
    "tags": []
   },
   "outputs": [
    {
     "data": {
      "text/plain": [
       "Cons{Int64}(1, Cons{Int64}(2, Cons{Int64}(3, Nil())))"
      ]
     },
     "execution_count": 47,
     "metadata": {},
     "output_type": "execute_result"
    }
   ],
   "source": [
    "l1 = Cons(1, Cons(2, Nil()))\n",
    "l2 = Cons(3, Nil())\n",
    "l3 = Cons(l1, Cons(l2, Nil()))\n",
    "\n",
    "μ(l3)"
   ]
  },
  {
   "cell_type": "code",
   "execution_count": 23,
   "id": "e4199368-da11-4a46-a784-cc6db37599c4",
   "metadata": {
    "tags": []
   },
   "outputs": [
    {
     "data": {
      "text/plain": [
       "Cons{Cons{Int64}}(Cons{Int64}(3, Cons{Int64}(2, Nil())), Nil())"
      ]
     },
     "execution_count": 23,
     "metadata": {},
     "output_type": "execute_result"
    }
   ],
   "source": [
    "Cons(Cons(3,Cons(2,Nil())),Nil())\n",
    "Cons(Cons(3,Cons(2,Nil())),Nil())"
   ]
  },
  {
   "cell_type": "code",
   "execution_count": 40,
   "id": "b46e4d56-878e-49b8-af09-7b7cf468e1e9",
   "metadata": {
    "tags": []
   },
   "outputs": [],
   "source": [
    "# foldr((x,y)->Cons(x,y),[1,2]; init=Nil())\n",
    "# Cons(1,Cons(Cons(2,Nil())))"
   ]
  }
 ],
 "metadata": {
  "kernelspec": {
   "display_name": "Julia 1.9.2",
   "language": "julia",
   "name": "julia-1.9"
  },
  "language_info": {
   "file_extension": ".jl",
   "mimetype": "application/julia",
   "name": "julia",
   "version": "1.9.2"
  }
 },
 "nbformat": 4,
 "nbformat_minor": 5
}
