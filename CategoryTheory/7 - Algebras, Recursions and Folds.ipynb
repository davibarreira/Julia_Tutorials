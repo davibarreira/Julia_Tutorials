{
 "cells": [
  {
   "cell_type": "markdown",
   "id": "414550f5-4f13-4e3a-a779-bddd5c96a280",
   "metadata": {},
   "source": [
    "# Algebras and Recursion\n",
    "\n",
    "First, let's present an example of how to codify algebraic expressions (+, -, *)\n",
    "for our own datatypes."
   ]
  },
  {
   "cell_type": "code",
   "execution_count": null,
   "id": "5bad0cc7-4a2d-4db0-8273-da98deb627a3",
   "metadata": {},
   "outputs": [],
   "source": [
    "using Pkg\n",
    "Pkg.activate(\".\")"
   ]
  },
  {
   "cell_type": "markdown",
   "id": "a993362a-fc89-4b8d-8031-e9a02e91eefa",
   "metadata": {
    "jp-MarkdownHeadingCollapsed": true,
    "tags": []
   },
   "source": [
    "## 1. F-Algebras\n",
    "\n",
    "Remember our definition of a monoid, which was $(M, \\eta, \\mu)$, where:\n",
    "\n",
    "$$\n",
    "\\eta: 1 \\to M\n",
    "$$\n",
    "\n",
    "$$\n",
    "\\mu: M \\times M \\to M\n",
    "$$\n",
    "\n",
    "We can actually turn this definition into something more abstract.\n",
    "Note, a monoid consists of picking an object $M$ and two\n",
    "function $\\eta \\in M^{1}$ and $\\mu \\in M^{M \\times M}$. To select\n",
    "two functions one in $M^1$ and another in $M^{M \\times M}$ is the same\n",
    "as picking one function in $M^1 \\times M^{M \\times M}$, which is equal\n",
    "to picking one function in $M^{1 + M \\times M}$.\n",
    "\n",
    "Hence, a monoid is a function of $M^{1 + M \\times M}$ where the function\n",
    "satisfies the associativity and neutrality conditions. In other words,\n",
    "every function of $M^{1 + M \\times M}$ is a *potential* monoid.\n",
    "\n",
    "The nice thing about this abstraction is that we can now conceptualize other\n",
    "structures. Consider for example a group in abstract algebra. A group is a monoid\n",
    "plus an inverse to every element. This inverse is then a function that for every\n",
    "element $M$ returns another element $M$. Therefore, if a potential monoid\n",
    "is a function of $M^{1 + M \\times M}$, a potential group is a function\n",
    "of $M^{1 + M\\times M + M}$... Where did this comes from? Just follow the same\n",
    "logic as in the case of the monoid. We have a set $M$ together with three\n",
    "functions, one in $M^1$, another in $M^{M \\times M}$ and a new one in\n",
    "$M^M$. Taking the cartesian product we have:\n",
    "\n",
    "$$\n",
    "M^1 \\times M^{M \\times M} \\times M^M = M^{1 + M\\times M + M}.\n",
    "$$\n",
    "\n",
    "\n",
    "We can take this idea even further. Remeber,\n",
    "the sum and product of objects are actually functors. Hence,\n",
    "the algebraic expression $1 + M\\times M + M$ is also a functor.\n",
    "Thus, every algebraic expression can be generalized as a functor\n",
    "\n",
    "We can now say, for example, that a monoid over set (or type) $T$\n",
    "is a function from functor $((\\cdot \\times \\cdot) + 1)(T)$ to $T$.\n",
    "\n",
    "All these things in abstract algebra (e.g. monoids, groups, rings)\n",
    "can now be seeing as functions from $Fa$ to $a$, where $a$ is a set,\n",
    "and $F$ is a functor.\n",
    "\n",
    "This gives rise to our definition of an F-algebra.\n",
    "\n",
    "**Definition (F-Algebra)**: Let $F:\\mathcal C \\to \\mathcal C$ be an endofunctor. An $F$-algebra $(\\phi,a)$ is\n",
    "\n",
    "1) An object $a \\in \\mathcal C$, called *carrier*;\n",
    "2) A morphism $\\phi : Fa \\to a$, called *structure map*.\n",
    "\n",
    "\n",
    "\n"
   ]
  },
  {
   "cell_type": "markdown",
   "id": "0e2fc40d-f869-40ac-9932-1d9a9b02c14d",
   "metadata": {},
   "source": [
    "## 2. Example 1 - Ring\n",
    "\n",
    "Let's implement an example."
   ]
  },
  {
   "cell_type": "code",
   "execution_count": null,
   "id": "536e7920-2293-42aa-85a8-ec9d8d59259c",
   "metadata": {
    "tags": []
   },
   "outputs": [],
   "source": [
    "abstract type RingF{T} end\n",
    "\n",
    "RingF(::Type{T}) where T = RingF{T}\n",
    "\n",
    "struct ZeroF{T} <: RingF{T} end\n",
    "struct OneF{T} <: RingF{T} end\n",
    "struct AddF{T} <: RingF{T}\n",
    "    _1::T\n",
    "    _2::T\n",
    "end\n",
    "struct MulF{T} <: RingF{T}\n",
    "    _1::T\n",
    "    _2::T\n",
    "end"
   ]
  },
  {
   "cell_type": "markdown",
   "id": "2cbefcbb-d044-44de-bf20-0dedce1a9aa1",
   "metadata": {},
   "source": [
    "Note that `RingF{T}` is a parametric type in julia, and we define a function `RingF(::Type{T})`, where this function\n",
    "takes a type `T` and returns a `RingF{T}` type, i.e. this is similar to a functor, where it takes a type (object in our\n",
    "category) and returns another type.\n",
    "\n",
    "For `RingF` to be indeed a functor, we need to define `RingF(f::Function)`, i.e. a way where a function\n",
    "`f(x::T)` becomes `RingF(f)(RingF(x))`.\n",
    "\n",
    "Remember the previous section. This implementation is done via a `fmap` function."
   ]
  },
  {
   "cell_type": "markdown",
   "id": "e966e2ce-ea29-407f-b40d-36e7e18f4186",
   "metadata": {},
   "source": [
    "First, let's try using the `Functors` package."
   ]
  },
  {
   "cell_type": "code",
   "execution_count": null,
   "id": "dcc1e0d8-976d-4d4b-bdf9-8ec865d6affe",
   "metadata": {},
   "outputs": [],
   "source": [
    "RingF(f::Function, x::ZeroF{T}) where T =  ZeroF\n",
    "using Functors\n",
    "\n",
    "@functor ZeroF{T} where T\n",
    "@functor OneF{T} where T\n",
    "@functor AddF{T} where T"
   ]
  },
  {
   "cell_type": "code",
   "execution_count": null,
   "id": "66b85fcf-4d57-4a9e-a797-8e5eaa45c032",
   "metadata": {},
   "outputs": [],
   "source": [
    "x = AddF{Int}(1,2)\n",
    "fmap(string, x)"
   ]
  },
  {
   "cell_type": "code",
   "execution_count": null,
   "id": "2898fece-de9a-4752-9c70-41dab21f7966",
   "metadata": {},
   "outputs": [],
   "source": [
    "fmap(string, ZeroF{Int}())"
   ]
  },
  {
   "cell_type": "markdown",
   "id": "46b4ac19-ab59-4534-b326-cee345605531",
   "metadata": {},
   "source": [
    "Note that the first case with `Add{Int}` the `fmap` worked as expected. But not in the `ZeroF{Int}`.\n",
    "For the second case, we expected `ZeroF{String}`. But why didn't it work?\n",
    "\n",
    "It didn't work because Julia does not consider the domain and codmain of a function as type parameters. This means\n",
    "that we don't know exaclty what type a function `f` will return. And since `ZeroF` has not values inside,\n",
    "we cannot apply our function to it and get a type back. So how do we solve this?\n",
    "\n",
    "We actually already did this when we talked about morphisms. Hence, let's use the `FunctionWrappers.jl`\n",
    "package that behaves like our Morphism construction."
   ]
  },
  {
   "cell_type": "code",
   "execution_count": null,
   "id": "e568dd53-d688-482b-929b-216d21bfebe0",
   "metadata": {},
   "outputs": [],
   "source": [
    "import FunctionWrappers: FunctionWrapper"
   ]
  },
  {
   "cell_type": "code",
   "execution_count": null,
   "id": "e5191943-7962-48f7-8c94-25cbf294405b",
   "metadata": {},
   "outputs": [],
   "source": [
    "wstring = FunctionWrapper{Real,Tuple{String}}(x->string(x))\n",
    "\n",
    "f_map(f::FunctionWrapper, x::ZeroF{Int}) = ZeroF{typeof(f).parameters[2].parameters[1]}()"
   ]
  },
  {
   "cell_type": "code",
   "execution_count": null,
   "id": "1b06717a-5df0-42c5-a3bd-7b235f3e5861",
   "metadata": {},
   "outputs": [],
   "source": [
    "f_map(wstring, ZeroF{Int}())"
   ]
  },
  {
   "cell_type": "markdown",
   "id": "40897c47-b3de-4553-9959-8bf545e53bb4",
   "metadata": {},
   "source": [
    "Hence we are able to construct a functor `RingF`.\n",
    "**Note that we are assuming that** `ZeroF`, `OneF` and `AddF` are all the possible subtypes of `RingF`. This is actually\n",
    "not the case in Julia. Since our `RingF` is an abstract type, it can have more subtypes under it. Hence, our functor is\n",
    "properly defined only as long as we are tackling all existing subtypes of our `RingF`.\n",
    "\n",
    "But what about the F-Algebra? Consider the code below:"
   ]
  },
  {
   "cell_type": "code",
   "execution_count": null,
   "id": "f6cdf9bb-4611-4fd8-b121-328e7a93052a",
   "metadata": {},
   "outputs": [],
   "source": [
    "evalZ(e::ZeroF)::Int = 0\n",
    "evalZ(e::OneF)::Int  = 1\n",
    "evalZ(e::AddF)  = evalZ(e._1) + evalZ(e._2)\n",
    "evalZ(e::MulF) = evalZ(e._1) * evalZ(e._2)"
   ]
  },
  {
   "cell_type": "markdown",
   "id": "5bbe0374-4edc-4073-a3ba-1cd55da89739",
   "metadata": {
    "tags": []
   },
   "source": [
    "So, we've defined a type called `RingF` which is a functor, and we've defined\n",
    "some operations on it. These operations were instantiated via a function called `evalZ`.\n",
    "\n",
    "In our example, `Int` is the carrier, `evalZ` is the structure map, and `RingF` is the functor.\n",
    "In other words, (`evalZ`, `Int`) is a `RingF`-algebra."
   ]
  },
  {
   "cell_type": "markdown",
   "id": "c8781976-2aef-4546-bce8-e3afe7df1f70",
   "metadata": {},
   "source": [
    "## 3. Recursive Data Type\n"
   ]
  },
  {
   "cell_type": "markdown",
   "id": "e4bfdacd-b729-43b2-a9c7-50edb9481334",
   "metadata": {},
   "source": [
    "The example above was limited. The `RingF` had only one level of depth. Suppose now we wanted to create a recursive\n",
    "structure, where we could operate on our subtypes... Check the example below."
   ]
  },
  {
   "cell_type": "markdown",
   "id": "6e05575b-4761-47f0-8122-daea1ed8c6eb",
   "metadata": {},
   "source": [
    "Let's define a type \"Expression\" that has as subtypes the possible\n",
    "algebraic operations, and the neutral element for both the sum and the multiplication\n",
    "operations."
   ]
  },
  {
   "cell_type": "code",
   "execution_count": null,
   "id": "b5cb82b2-3bf6-4989-87b9-10abfd30f5b5",
   "metadata": {},
   "outputs": [],
   "source": [
    "abstract type Expression end\n",
    "\n",
    "struct RZero <: Expression end\n",
    "struct ROne <: Expression end\n",
    "struct RAdd <: Expression\n",
    "    _1::Expression\n",
    "    _2::Expression\n",
    "end\n",
    "struct RMult <: Expression\n",
    "    _1::Expression\n",
    "    _2::Expression\n",
    "end\n",
    "struct RNeg <: Expression\n",
    "    _1::Expression\n",
    "end\n",
    "\n"
   ]
  },
  {
   "cell_type": "markdown",
   "id": "e9ba5301-3b76-4c9f-b788-614a6deb9544",
   "metadata": {},
   "source": [
    "Note that we've used structs to encode sums, and multiplications, instead of defining\n",
    "a functions.\n",
    "\n",
    "Yet, our struct does not receive the actual values, but other subtypes.\n",
    "Hence, we have redefined the whole algebra of summation and multiplication\n",
    "in an abstract manner, i.e. without passing the actual numbers, but just\n",
    "structs."
   ]
  },
  {
   "cell_type": "code",
   "execution_count": null,
   "id": "67bafee6-d548-4c68-83b5-d1919609f00b",
   "metadata": {},
   "outputs": [],
   "source": [
    "RAdd(ROne(),RZero())"
   ]
  },
  {
   "cell_type": "markdown",
   "id": "16bf6268-582e-4a6a-bf20-2443fc0baa74",
   "metadata": {},
   "source": [
    "The expression above is purely abstract. \n",
    "\n",
    "Let's now do an actual example, by instantiating our types. This means that\n",
    "we are going to specify how our sum and multiplication work.\n",
    "\n",
    "We'll do the most basic example first, by defining RZero to be 0, and ROne to be 1."
   ]
  },
  {
   "cell_type": "code",
   "execution_count": null,
   "id": "5c4654ab-9f30-4af1-9d9c-4a0e7e628581",
   "metadata": {},
   "outputs": [],
   "source": [
    "evalZ(e::RZero) = 0\n",
    "evalZ(e::ROne)  = 1\n",
    "evalZ(e::RAdd)  = evalZ(e._1) + evalZ(e._2)\n",
    "evalZ(e::RMult) = evalZ(e._1) * evalZ(e._2)\n",
    "evalZ(e::RNeg)  = -evalZ(e._1)"
   ]
  },
  {
   "cell_type": "code",
   "execution_count": null,
   "id": "48a010bf-f8b8-4ac9-9f13-2152d6fd0bc6",
   "metadata": {},
   "outputs": [],
   "source": [
    "evalZ(RAdd(RZero(),\n",
    "        RMult(ROne(),\n",
    "            RAdd(ROne(),\n",
    "                RAdd(RZero(),\n",
    "                    ROne())))))"
   ]
  },
  {
   "cell_type": "markdown",
   "id": "39e21302-9677-4e64-8f1d-e0852a22eb9f",
   "metadata": {},
   "source": [
    "Let's create two more possibilities. A constant and a variable:"
   ]
  },
  {
   "cell_type": "code",
   "execution_count": null,
   "id": "1f4524db-3daa-4687-ba56-0e69df188bfe",
   "metadata": {},
   "outputs": [],
   "source": [
    "struct RVar <: Expression\n",
    "    _1::String\n",
    "end\n",
    "\n",
    "struct RConst <: Expression\n",
    "    _1::Real\n",
    "end"
   ]
  },
  {
   "cell_type": "code",
   "execution_count": null,
   "id": "8293d47b-b9d2-4ba2-a0c1-a6a478fdb934",
   "metadata": {},
   "outputs": [],
   "source": [
    "# 2 x^2 + 3 x + 4\n",
    "ex = RAdd(  RMult(\n",
    "                RConst(2),\n",
    "                (RMult( RVar(\"x\"),\n",
    "                        RVar(\"x\")))),\n",
    "            RAdd(RMult(RConst(3),RVar(\"x\")),RConst(4)))\n",
    "\n",
    "# Defina que a variavel \"x\" é 2, e 0 caso RVar seja outra variável.\n",
    "evalZ(e::RVar) = e._1 == \"x\" ? 2 : 0\n",
    "evalZ(e::RConst) = e._1\n",
    "evalZ(ex)"
   ]
  },
  {
   "cell_type": "code",
   "execution_count": null,
   "id": "d953e71b-78af-47b1-982b-a4db88fa5b28",
   "metadata": {},
   "outputs": [],
   "source": [
    "2 * 2^2 + 3*2 + 4"
   ]
  },
  {
   "cell_type": "markdown",
   "id": "d40e1935-5665-425c-ab1e-18b52e3913be",
   "metadata": {},
   "source": [
    "### Some technicallities...\n",
    "\n",
    "So we've shown how a infinite recursive type can be created and worked on. Yet, what kind of mathematical structure is this?\n",
    "It can actually be shown that such recursive structure is nothing more than an F-Algebra.\n",
    "\n",
    "The infinite recursion can be shown to give origin to a fixed point, which is equivalent\n",
    "to applying the functor an infinite amount of times. This fixed point represents the initial case.\n",
    "\n",
    "Lastly, we show another example of such infinite recursion... The natural numbers.\n",
    "\n",
    "The algebra for natural numbers is given by (`Int`, `f`), where `f` is a function\n",
    "from $N + 1 \\to N$. Why? Because we have to define a pair of functions,\n",
    "\n",
    "$$\n",
    "zero: 1 \\to \\mathbb N\n",
    "$$\n",
    "\n",
    "$$\n",
    "succ: \\mathbb N \\to \\mathbb N.\n",
    "$$"
   ]
  },
  {
   "cell_type": "code",
   "execution_count": null,
   "id": "058643e2-bd48-43c5-b932-e437180ded56",
   "metadata": {},
   "outputs": [],
   "source": [
    "abstract type ℕ end\n",
    "\n",
    "struct Zero <: ℕ end\n",
    "struct Succ <: ℕ\n",
    "    _1::ℕ\n",
    "end"
   ]
  },
  {
   "cell_type": "code",
   "execution_count": null,
   "id": "afd56665-4ef5-42a2-b0b5-1482bc9ad006",
   "metadata": {},
   "outputs": [],
   "source": [
    "evalZ(x::Zero) = 0\n",
    "evalZ(x::Succ) = evalZ(x._1) + 1"
   ]
  },
  {
   "cell_type": "code",
   "execution_count": null,
   "id": "e6073ad6-0b34-4515-95bb-1988ad0f354b",
   "metadata": {},
   "outputs": [],
   "source": [
    "evalZ((Succ ∘ Succ ∘ Zero)())"
   ]
  },
  {
   "cell_type": "markdown",
   "id": "e885d4c3-25d0-4070-8958-76d3e9140bf2",
   "metadata": {},
   "source": [
    "## 4. Category of F-Algebras\n",
    "\n",
    "We have defined an F-algebra as $(a,f)$ where $a$ is the carrier object (e.g. a type  `Int` in the case of programming)\n",
    "and a strucutral map $f:Fa\\to a$ which would follow a set of conditions.\n",
    "\n",
    "It can be shown that the F-Algebras form a category, where an algebra $(a,f)$ is an object, and homomorphisms between the algebras are morphisms.\n",
    "Hence, a morphism would be a map from $(a,f )$ to $(b, g)$.\n",
    "\n",
    "A result known as Lambek's Theorem states that if an F-algebra has an initial object $(i,\\phi)$,\n",
    "then $\\phi: F i \\to i$ is an isomorphism, i.e. $F i \\cong i$.\n",
    "This means that $i$ is a fixed point of $F$, since $F Fi \\cong F i \\cong i$.\n"
   ]
  },
  {
   "cell_type": "markdown",
   "id": "53db7e2d-0fc8-4b17-a0fc-ac9b0d432d39",
   "metadata": {},
   "source": [
    "## 5 Catamorphism"
   ]
  },
  {
   "cell_type": "code",
   "execution_count": 1,
   "id": "e5f631aa-b6f2-4dce-911f-db5cb641cd0f",
   "metadata": {},
   "outputs": [
    {
     "data": {
      "text/plain": [
       "fib (generic function with 3 methods)"
      ]
     },
     "execution_count": 1,
     "metadata": {},
     "output_type": "execute_result"
    }
   ],
   "source": [
    "# abstract type NatF end\n",
    "struct NatZeroF end\n",
    "struct NatSuccF{T}\n",
    "    n::T\n",
    "end\n",
    "NatF{T} = Union{NatZeroF, NatSuccF{T}}\n",
    "\n",
    "fmap(f::Function, a::NatZeroF) = f(a)\n",
    "fmap(f::Function, a::NatSuccF) = NatSuccF(f(a.n))\n",
    "\n",
    "fib(::NatZeroF) = (1,1)\n",
    "fib(x::NatSuccF{Tuple{Int,Int}}) = (x.n[2], x.n[1] + x.n[1])\n",
    "fib(x::NatF) = fib(fmap(fib, x))"
   ]
  },
  {
   "cell_type": "code",
   "execution_count": 2,
   "id": "f44d715b-92b6-4010-8e36-d0f44bb0504c",
   "metadata": {},
   "outputs": [
    {
     "data": {
      "text/plain": [
       "(4, 4)"
      ]
     },
     "execution_count": 2,
     "metadata": {},
     "output_type": "execute_result"
    }
   ],
   "source": [
    "x = NatSuccF(\n",
    "    NatSuccF(\n",
    "        NatSuccF(\n",
    "            NatSuccF(\n",
    "                NatZeroF()))))\n",
    "fib(x)"
   ]
  },
  {
   "cell_type": "markdown",
   "id": "8192dded-4dc4-428e-9cce-ddeaa1496850",
   "metadata": {},
   "source": [
    "## 6 Folds\n",
    "\n",
    "Another important recursive abstraction is what's called a fold.\n",
    "\n",
    "Note that some recursive functions are similar:"
   ]
  },
  {
   "cell_type": "code",
   "execution_count": null,
   "id": "8d1c472a-07da-44a0-8224-29c17c1bc49e",
   "metadata": {},
   "outputs": [],
   "source": [
    "sum_recursive(x::Vector{<:Real}) = length(x) == 0 ? 0 : +(x[begin], sum_recursive(x[begin+1:end]))\n",
    "sum_recursive([1,3,4])"
   ]
  },
  {
   "cell_type": "code",
   "execution_count": null,
   "id": "6fafb4aa-684c-40d1-8aeb-da6feafff8a8",
   "metadata": {},
   "outputs": [],
   "source": [
    "concat_recursive(x::Vector{<:String}) = length(x) == 0 ? \"\" : *(x[begin], concat_recursive(x[begin+1:end]))\n",
    "concat_recursive([\"t\",\"e\",\"s\",\"t\"])"
   ]
  },
  {
   "cell_type": "code",
   "execution_count": null,
   "id": "26729c39-6251-48e7-951e-18f8fbe0d53f",
   "metadata": {},
   "outputs": [],
   "source": [
    "map_recursive(f::Function, x::Vector) = length(x) == 0 ? [] : vcat(f(x[begin]), map_recursive(f, x[begin+1:end]))\n",
    "map_recursive(x->x^2, [1,2,3,4,5])"
   ]
  },
  {
   "cell_type": "markdown",
   "id": "332d3201-1ec6-4de1-a834-989a8f200c68",
   "metadata": {},
   "source": [
    "All of them have a base case (e.g. length(x) == 0), and all of them have some operation that \"merges\" the results. \n",
    "\n",
    "This is begging us to define an abstraction, i.e. how can we define all these functions by providing only\n",
    "the part of them is is changing.\n",
    "This abstraction is a **Foldr**. The letter \"r\" in the end means that we are \"folding\" from the right.\n",
    "We can also fold from the left, which will give us the foldl. Yet, we'll start with foldr.\n",
    "\n",
    "\n",
    "Note that, in each case, we have a monoids. Remember, a moinoid is a triple $(M,e,*)$, where $M$ is a set, $e \\in M$ is the\n",
    "unit element and $*:M\\times M \\to M$. For $m,n,p \\in M$,\n",
    "* $e * m = m$,\n",
    "* $m * e = m$,\n",
    "* $(m * n) * p = m * (n * p)$\n",
    "\n",
    "In our examples, we have (`Vector{<:Real}`, `0`, `+`), (`Vector{<:String}`, `\"\"`, `*`).\n",
    "The `map_recursive` is a bit more complicated. Our function is not `vcat(x,y)`, but `vcat(f(x),y)`.\n",
    "We can circumvent this by defining a function `vcat_map(f::Function) = (x,y) -> vcat(f(x),y)`. Thus,\n",
    "we get the monoid (`Vector`, `[]`, `vcat_map(f)`).\n",
    "\n",
    "Below we implement our fold."
   ]
  },
  {
   "cell_type": "code",
   "execution_count": null,
   "id": "a52ceb65-24cd-4bd3-a62b-d4f180bcc972",
   "metadata": {},
   "outputs": [],
   "source": [
    "foldr(x::M, e, f) where M = length(x) == 0 ? e : f(x[begin], foldr(x[begin+1:end], e, f))"
   ]
  },
  {
   "cell_type": "markdown",
   "id": "8f59f08c-e02f-460f-8193-3281200848b8",
   "metadata": {},
   "source": [
    "Finally, let's show how this indeed generalizes our implementations. "
   ]
  },
  {
   "cell_type": "code",
   "execution_count": null,
   "id": "d78f484d-190c-4fc3-a641-de60d161445e",
   "metadata": {},
   "outputs": [],
   "source": [
    "foldr([1,2,3], 0, +)"
   ]
  },
  {
   "cell_type": "code",
   "execution_count": null,
   "id": "838efdd0-1b7b-4340-a4f3-cc6e6c38ef0c",
   "metadata": {},
   "outputs": [],
   "source": [
    "foldr([\"a\",\"b\", \"c\"], \"\", *)"
   ]
  },
  {
   "cell_type": "code",
   "execution_count": null,
   "id": "e29293f1-a07c-4c08-8c03-bcffcff4e29a",
   "metadata": {},
   "outputs": [],
   "source": [
    "vcat_map(f::Function) = (x,y) -> vcat(f(x),y)\n",
    "foldr([1,2,3], [], vcat_map(x->x^2))"
   ]
  },
  {
   "cell_type": "markdown",
   "id": "9313ea89-cd2d-4a8e-b0fd-d46ab7641fa0",
   "metadata": {},
   "source": [
    "**Beautiful!**"
   ]
  },
  {
   "cell_type": "markdown",
   "id": "7b0a0c36-7e65-4537-b924-cd427eb38591",
   "metadata": {},
   "source": [
    "Now, what exactly is foldr doing? It's simple, consider the following pattern:\n",
    "\n",
    "foldr (@) e [w,x,y,z] = w @ (x @ (y @ (z @ e)))\n",
    "\n",
    "\n",
    "Hence, the foldr is applying the `@` operation from right to left. We can now understand why\n",
    "a foldl is possible:\n",
    "\n",
    "foldl (@) e [w,x,y,z] = (((e @ w) @ x) @ y) @ z"
   ]
  },
  {
   "cell_type": "code",
   "execution_count": null,
   "id": "e343b457-b72c-42c7-b865-c86b228159b3",
   "metadata": {},
   "outputs": [],
   "source": [
    "foldl(x::M, e, f) where M = length(x) == 0 ? e : f(x[end], foldr(x[begin:end-1], e, f))\n",
    "foldl([\"a\",\"b\", \"c\"], \"\", *)"
   ]
  },
  {
   "cell_type": "code",
   "execution_count": null,
   "id": "5d10b0df-d606-4ce2-8d7e-0b89143307dd",
   "metadata": {},
   "outputs": [],
   "source": [
    "[(1,2),(3,4)]"
   ]
  },
  {
   "cell_type": "markdown",
   "id": "3008b17e-3855-4790-a8aa-505b6acc304b",
   "metadata": {},
   "source": [
    "Hence, our left fold can easily be used to define things like reversing concatenation. "
   ]
  }
 ],
 "metadata": {
  "kernelspec": {
   "display_name": "Julia 1.8.2",
   "language": "julia",
   "name": "julia-1.8"
  },
  "language_info": {
   "file_extension": ".jl",
   "mimetype": "application/julia",
   "name": "julia",
   "version": "1.8.2"
  }
 },
 "nbformat": 4,
 "nbformat_minor": 5
}
