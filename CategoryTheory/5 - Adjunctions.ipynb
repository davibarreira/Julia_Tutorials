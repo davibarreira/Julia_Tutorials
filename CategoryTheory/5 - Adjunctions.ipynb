{
 "cells": [
  {
   "cell_type": "markdown",
   "id": "a4b27999-fd5f-4133-85a6-8dbd46b51b20",
   "metadata": {},
   "source": [
    "# Adjunctions\n",
    "\n",
    "\n",
    "## 1. Defining Adjunctions\n",
    "In a category, we usually say that two objects are \"the same\" if they are isomorphic in a categorical sense.\n",
    "This means that $A \\cong B$ if there exists a morphism $f:A \\to B$ that is invertible, i.e.\n",
    "there exists $g:B \\to A$  such that $g \\circ f = id_A$ and $f \\circ g = id_B$.\n",
    "\n",
    "Remember now the category $\\mathbf{Cat}$ of small categories. Here, the objects\n",
    "are small categories, and the morphisms are functors.\n",
    "This category is said to be a 2-category, because we can define natural transformations\n",
    "between functors. Hence, functors are morphisms and natural transformations are 2-morphisms (since they\n",
    "act as morphisms between morphisms).\n",
    "\n",
    "Therefore, we say that two small categories $\\mathcal C$ and $\\mathcal D$ are ismorphic in $\\mathbf{Cat}$\n",
    "if there exists an invertible functor $F:\\mathcal C \\to \\mathcal D$, i.e.\n",
    "there exists a functor $G: \\mathcal D \\to \\mathcal C$ such that $G \\circ F = I_\\mathcal C$ and $F \\circ G = I_\\mathcal D$\n",
    "where $I_\\mathcal C$ and $I_\\mathcal D$ are the identity endofunctors.\n",
    "\n",
    "Following the same logic, we can say\n",
    "that two functors $F$ and $G$ are (naturally) isomorphic if there exists an invertible natural transformation\n",
    "$\\alpha: F \\Rightarrow G$. And we now can say that $\\mathcal C$ and $\\mathcal D$ are **equivalent**\n",
    "if there exists a functor that is *almost* invertible, meaning, there exists a functor\n",
    "$F: \\mathcal C \\to \\mathcal D$ such that there exists $G$ for which\n",
    "$G \\circ F \\cong I_\\mathcal C$ and $F \\circ G \\cong I_\\mathcal D$, i.e.\n",
    "they are naturally isomorphic to the identity functors.\n",
    "Note that **equivalence** is weaker than **isomorphism**.\n",
    "\n",
    "Going further with this same logic, we can define an even weaker notion of \"equallity\" than equivalence.\n",
    "This notion is called **adjuction**. The idea now is that a category $\\mathcal C$ is adjoint to\n",
    "a category $\\mathcal D$ is there exists a functor that is *almost almost* (twice almost) invertible.\n",
    "This is, there exists a functor $F:\\mathcal C \\to \\mathcal D$ and\n",
    "there exists a functor $G:\\mathcal D \\to \\mathcal C$, such that\n",
    "$G \\circ F \\approx I_\\mathcal C$ and $F\\circ G \\approx I_\\mathcal D$, meaning,\n",
    "$G \\circ F$ is *almost* naturally isomorphic to the identity functors... But what does\n",
    "\"almost naturally isomorphic\" means? It means that there exists a natural transformation\n",
    "$\\varepsilon: G \\circ F \\Rightarrow I_\\mathcal C$ and a natural transformation $\\eta :I_\\mathcal D \\Rightarrow F \\circ G$,\n",
    "and they are *almost* inverses of each other.\n",
    "\n",
    "What does it mean for $\\eta$ and $\\varepsilon$ to be almost inverses? Specially since they have different\n",
    "domain and codomains? This \"almost inverses\" means:\n",
    "\n",
    "$$\n",
    "\\varepsilon_{Gd}\\circ G\\eta_d = \\text{id}_{Gd}\n",
    "$$\n",
    "\n",
    "$$\n",
    "F\\varepsilon_{c}\\circ \\eta{Fc} = \\text{id}_{Fc},\n",
    "$$\n",
    "\n",
    "where the $F \\varepsilon$ and $G \\eta$ are the horizontal compositions for\n",
    "$I_{\\mathcal D}$ with $\\varepsilon$ and $I_\\mathcal{C}$ with $\\eta$, respectively.\n",
    "\n",
    "Note that the definition creates an assymetry. The existence of\n",
    "$\\eta: G \\circ F \\Rightarrow I_\\mathcal C$\n",
    "and\n",
    "$\\varepsilon: I_\\mathcal D \\Rightarrow F \\circ G$\n",
    "does not imply the existence of natural transformations in the other directions, e.g. $I_\\mathcal C \\Rightarrow G \\circ F$.\n",
    "Hence, in the case described above, we say that $F$ is a **left adjoint** of $\\mathcal C$ to $\\mathcal D$\n",
    "and that $G$ is the **right adjoint**.\n",
    "\n",
    "The natural transformation $\\eta$ is called *unit*, and the $\\varepsilon$ is called *counit*.\n"
   ]
  },
  {
   "cell_type": "markdown",
   "id": "c63ed5c4-f2b8-4b5a-b371-2d8b4603106d",
   "metadata": {},
   "source": [
    "## 2. Adjunctions in Programming\n",
    "\n",
    "After this very long definition, how does this translates to programming?\n",
    "\n",
    "Consider a simples functor `F`. Remember, a functor, in Julia, is like a parametric struct.\n",
    "In other words, it behaves like a \"container\" for an specific value."
   ]
  },
  {
   "cell_type": "markdown",
   "id": "87139884-f862-4537-9633-57e3518c1d65",
   "metadata": {},
   "source": [
    "In programming, our functor is an endofunctor on the category of types. What\n",
    "would the unit natural transformation be for this case? \n",
    "\n",
    "From the definition, a unit acts on the identity functor. Let's implement\n",
    "the identity functor."
   ]
  },
  {
   "cell_type": "code",
   "execution_count": 1,
   "id": "9a553e83-15a4-4db1-8552-4781d555f8ac",
   "metadata": {},
   "outputs": [
    {
     "ename": "LoadError",
     "evalue": "UndefVarError: F not defined",
     "output_type": "error",
     "traceback": [
      "UndefVarError: F not defined",
      "",
      "Stacktrace:",
      " [1] top-level scope",
      "   @ In[1]:6",
      " [2] eval",
      "   @ ./boot.jl:368 [inlined]",
      " [3] include_string(mapexpr::typeof(REPL.softscope), mod::Module, code::String, filename::String)",
      "   @ Base ./loading.jl:1428"
     ]
    }
   ],
   "source": [
    "struct Identity{T}\n",
    "    val::T\n",
    "end\n",
    "\n",
    "Identity(T::Type) = Identity{T}\n",
    "fmap(f::Function, x::F) = Identity(f(val))"
   ]
  },
  {
   "cell_type": "markdown",
   "id": "55b588b3-b800-4d55-990c-d8cc9e9f2c6b",
   "metadata": {},
   "source": [
    "Very simple. This functor only stores a single value of any type. It does nothing to it. \n",
    "\n",
    "Note that, the value constructor for this struct, i.e. `Identity(x::T)` is **not** part of\n",
    "the functor definition. The functor is comprised of the function `Identity(T::Type)`, which\n",
    "takes a type and returns a `Identity{T}` type, and the `fmap` which\n",
    "is responsible for representing the application of the functor to a function.\n",
    "\n",
    "The value constructor is actually the unit natural transformation.\n",
    "Note, for every `x::T`, the function `Identity(x::T)` returns\n",
    "a `y::Identity{T}`,"
   ]
  },
  {
   "cell_type": "code",
   "execution_count": null,
   "id": "b3090e69-fa2d-4944-85f8-84ebd4e691ac",
   "metadata": {},
   "outputs": [],
   "source": [
    "×"
   ]
  }
 ],
 "metadata": {
  "kernelspec": {
   "display_name": "Julia 1.8.2",
   "language": "julia",
   "name": "julia-1.8"
  },
  "language_info": {
   "file_extension": ".jl",
   "mimetype": "application/julia",
   "name": "julia",
   "version": "1.8.2"
  }
 },
 "nbformat": 4,
 "nbformat_minor": 5
}
