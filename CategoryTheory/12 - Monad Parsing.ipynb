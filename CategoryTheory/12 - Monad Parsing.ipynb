{
 "cells": [
  {
   "cell_type": "markdown",
   "id": "d09b1d1a-f050-4125-9cc6-2e2718414ac6",
   "metadata": {},
   "source": [
    "# Monadic Parsing\n",
    "\n",
    "Based on Graham Huttons's \"Programming in Haskell\". This notebook showcases how monads\n",
    "can be used to implement parsers.\n",
    "\n",
    "\"A parser is a program that takes a string of characters as input, and produces\n",
    "some form of tree that makes the syntactic structure of the string explicit.\" (Graham Hutton)"
   ]
  },
  {
   "cell_type": "code",
   "execution_count": 1,
   "id": "31a67e5b-564d-4d49-ba50-4f365bf4b463",
   "metadata": {},
   "outputs": [
    {
     "name": "stderr",
     "output_type": "stream",
     "text": [
      "\u001b[32m\u001b[1m  Activating\u001b[22m\u001b[39m project at `~/MEGA/EMAP/Julia_Tutorials/CategoryTheory`\n",
      "\u001b[36m\u001b[1m[ \u001b[22m\u001b[39m\u001b[36m\u001b[1mInfo: \u001b[22m\u001b[39mPrecompiling FunctionWrappers [069b7b12-0de2-55c6-9aab-29f3d0a68a2e]\n"
     ]
    }
   ],
   "source": [
    "using Pkg\n",
    "Pkg.activate(\".\")\n",
    "import FunctionWrappers: FunctionWrapper"
   ]
  },
  {
   "cell_type": "code",
   "execution_count": 2,
   "id": "335c8f72-8176-468d-ac4a-30ae602a417e",
   "metadata": {},
   "outputs": [
    {
     "data": {
      "text/plain": [
       "Parser{Int64}(FunctionWrapper{Vector{Tuple{Int64, String}}, Tuple{String}}(Ptr{Nothing} @0x00007fee7e736190, Ptr{Nothing} @0x00007fee8b6f8010, Base.RefValue{var\"#5#6\"}(var\"#5#6\"()), var\"#5#6\"))"
      ]
     },
     "execution_count": 2,
     "metadata": {},
     "output_type": "execute_result"
    }
   ],
   "source": [
    "struct Parser{a}\n",
    "    p::FunctionWrapper{Vector{Tuple{a, String}},Tuple{String}}\n",
    "end\n",
    "\n",
    "\n",
    "f = FunctionWrapper{Vector{Tuple{Int, String}},Tuple{String}}(x::String -> [(1,x)]);\n",
    "P{T} = FunctionWrapper{Vector{Tuple{T, String}},Tuple{String}}\n",
    "typeof(f)\n",
    "\n",
    "Parser(f)"
   ]
  },
  {
   "cell_type": "code",
   "execution_count": 3,
   "id": "b589296e-e80c-4d18-bbe2-6d9b038d0712",
   "metadata": {},
   "outputs": [
    {
     "data": {
      "text/plain": [
       "1-element Vector{Tuple{Int64, String}}:\n",
       " (1, \"ok\")"
      ]
     },
     "execution_count": 3,
     "metadata": {},
     "output_type": "execute_result"
    }
   ],
   "source": [
    "parse(p::Parser{T}, s::String) where T = p.p(s)\n",
    "p = Parser(f)\n",
    "parse(p,\"ok\")"
   ]
  },
  {
   "cell_type": "code",
   "execution_count": 4,
   "id": "8da85d1d-b29b-452f-81f1-cf3abebb2559",
   "metadata": {},
   "outputs": [
    {
     "data": {
      "text/plain": [
       "1-element Vector{Tuple{Char, String}}:\n",
       " ('a', \"bc\")"
      ]
     },
     "execution_count": 4,
     "metadata": {},
     "output_type": "execute_result"
    }
   ],
   "source": [
    "# item::Parser{Char}\n",
    "item = Parser(P{Char}(\n",
    "        (inp -> inp == \"\" ? [] : [(inp[1], string(inp[2:end]))])\n",
    "        ))\n",
    "\n",
    "parse(item, \"\")\n",
    "parse(item, \"abc\")"
   ]
  },
  {
   "cell_type": "code",
   "execution_count": 5,
   "id": "49f5dc48-d730-43ef-88c5-c5c9ced7d8ab",
   "metadata": {},
   "outputs": [
    {
     "data": {
      "text/plain": [
       "fmap (generic function with 1 method)"
      ]
     },
     "execution_count": 5,
     "metadata": {},
     "output_type": "execute_result"
    }
   ],
   "source": [
    "fmap(f::Function, p::Parser{T}) where T = Parser(P{T}(\n",
    "        inp -> begin\n",
    "            res = parse(p, inp)\n",
    "            res == [] ? [] : [(f(res[1][1]),res[1][2])]\n",
    "        end\n",
    "    ))\n"
   ]
  },
  {
   "cell_type": "code",
   "execution_count": 6,
   "id": "c23d749b-c745-4b36-8d73-df5b2d8f7e80",
   "metadata": {},
   "outputs": [
    {
     "data": {
      "text/plain": [
       "1-element Vector{Tuple{Char, String}}:\n",
       " ('A', \"bc\")"
      ]
     },
     "execution_count": 6,
     "metadata": {},
     "output_type": "execute_result"
    }
   ],
   "source": [
    "parse(fmap(uppercase, item),\"\")\n",
    "parse(fmap(uppercase, item),\"abc\")"
   ]
  },
  {
   "cell_type": "code",
   "execution_count": 161,
   "id": "5471f929-41fe-4d1c-9439-7cd564b75670",
   "metadata": {},
   "outputs": [
    {
     "data": {
      "text/plain": [
       "1-element Vector{Tuple{Int64, String}}:\n",
       " (1, \"ok\")"
      ]
     },
     "execution_count": 161,
     "metadata": {},
     "output_type": "execute_result"
    }
   ],
   "source": [
    "η(v::T) where T = Parser(P{T}(inp -> [(v,inp)]))\n",
    "bind(p::Parser{a},f::FunctionWrapper{Parser{b}, Tuple{a}}) where {a,b} = Parser(P{b}(\n",
    "        inp -> begin\n",
    "            res = parse(p, inp)\n",
    "            @show res\n",
    "            res == [] ? [] : parse(f(res[1][1]), res[1][2])\n",
    "        end\n",
    "    ))\n",
    "\n",
    "η(1).p(\"ok\")"
   ]
  },
  {
   "cell_type": "code",
   "execution_count": 165,
   "id": "21f5741c-aac8-4686-a243-6309ed45ab56",
   "metadata": {},
   "outputs": [
    {
     "data": {
      "text/plain": [
       "FunctionWrapper{Parser{Int64}, Tuple{String}}(Ptr{Nothing} @0x00007eff985d90a0, Ptr{Nothing} @0x00007effa547c170, Base.RefValue{var\"#335#336\"}(var\"#335#336\"()), var\"#335#336\")"
      ]
     },
     "execution_count": 165,
     "metadata": {},
     "output_type": "execute_result"
    }
   ],
   "source": [
    "# pure(1)\n",
    "g = FunctionWrapper{Parser{Int},Tuple{String}}(x->pure(length(x)))\n",
    "# bind(pure(\"\"),g).p(\"\")"
   ]
  },
  {
   "cell_type": "code",
   "execution_count": null,
   "id": "e52ca03b-63d3-4592-8909-d5854ef70cbf",
   "metadata": {},
   "outputs": [],
   "source": []
  }
 ],
 "metadata": {
  "kernelspec": {
   "display_name": "Julia 1.9.2",
   "language": "julia",
   "name": "julia-1.9"
  },
  "language_info": {
   "file_extension": ".jl",
   "mimetype": "application/julia",
   "name": "julia",
   "version": "1.9.2"
  }
 },
 "nbformat": 4,
 "nbformat_minor": 5
}
