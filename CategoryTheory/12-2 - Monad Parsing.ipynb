{
 "cells": [
  {
   "cell_type": "markdown",
   "id": "d09b1d1a-f050-4125-9cc6-2e2718414ac6",
   "metadata": {},
   "source": [
    "# Monadic Parsing\n",
    "\n",
    "Based on Graham Huttons's \"Programming in Haskell\". This notebook showcases how monads\n",
    "can be used to implement parsers.\n",
    "\n",
    "\"A parser is a program that takes a string of characters as input, and produces\n",
    "some form of tree that makes the syntactic structure of the string explicit.\" (Graham Hutton)"
   ]
  },
  {
   "cell_type": "code",
   "execution_count": 1,
   "id": "31a67e5b-564d-4d49-ba50-4f365bf4b463",
   "metadata": {},
   "outputs": [
    {
     "name": "stderr",
     "output_type": "stream",
     "text": [
      "\u001b[32m\u001b[1m  Activating\u001b[22m\u001b[39m project at `~/MEGA/EMAP/Julia_Tutorials/CategoryTheory`\n"
     ]
    }
   ],
   "source": [
    "using Pkg\n",
    "Pkg.activate(\".\")\n",
    "using PartialFunctions"
   ]
  },
  {
   "cell_type": "code",
   "execution_count": 2,
   "id": "335c8f72-8176-468d-ac4a-30ae602a417e",
   "metadata": {},
   "outputs": [],
   "source": [
    "struct Parser{a}\n",
    "    #string -> [(a,string)]\n",
    "    p::Function\n",
    "end"
   ]
  },
  {
   "cell_type": "code",
   "execution_count": 3,
   "id": "b589296e-e80c-4d18-bbe2-6d9b038d0712",
   "metadata": {},
   "outputs": [
    {
     "data": {
      "text/plain": [
       "1-element Vector{Tuple{Int64, String}}:\n",
       " (1, \"ok\")"
      ]
     },
     "execution_count": 3,
     "metadata": {},
     "output_type": "execute_result"
    }
   ],
   "source": [
    "parse(p::Parser, s::String) = p.p(s)\n",
    "f(x::String) = [(1,x)]\n",
    "p = Parser{Int}(f)\n",
    "parse(p,\"ok\")"
   ]
  },
  {
   "cell_type": "code",
   "execution_count": 4,
   "id": "8da85d1d-b29b-452f-81f1-cf3abebb2559",
   "metadata": {},
   "outputs": [
    {
     "data": {
      "text/plain": [
       "1-element Vector{Tuple{Char, String}}:\n",
       " ('a', \"bc\")"
      ]
     },
     "execution_count": 4,
     "metadata": {},
     "output_type": "execute_result"
    }
   ],
   "source": [
    "# item::Parser{Char}\n",
    "item = Parser{Char}(\n",
    "        (inp -> inp == \"\" ? [] : [(inp[1], string(inp[2:end]))])\n",
    "        )\n",
    "\n",
    "parse(item, \"\")\n",
    "parse(item, \"abc\")"
   ]
  },
  {
   "cell_type": "code",
   "execution_count": 5,
   "id": "49f5dc48-d730-43ef-88c5-c5c9ced7d8ab",
   "metadata": {},
   "outputs": [
    {
     "data": {
      "text/plain": [
       "fmap (generic function with 2 methods)"
      ]
     },
     "execution_count": 5,
     "metadata": {},
     "output_type": "execute_result"
    }
   ],
   "source": [
    "fmap(f::Function, p::Parser{T}) where T = Parser{T}(\n",
    "        inp -> begin\n",
    "            res = parse(p, inp)\n",
    "            res == [] ? [] : [(f $ res[1][1]\n",
    "                ,res[1][2])]\n",
    "        end\n",
    "    )\n",
    "\n",
    "fmap(::Tuple{}, p::Parser{T}) where T = Parser{T}(\n",
    "        inp -> begin\n",
    "            res = parse(p, inp)\n",
    "            res == [] ? [] : [(res[1][1] <| ()\n",
    "                ,res[1][2])]\n",
    "        end\n",
    "    )"
   ]
  },
  {
   "cell_type": "code",
   "execution_count": 6,
   "id": "c23d749b-c745-4b36-8d73-df5b2d8f7e80",
   "metadata": {},
   "outputs": [
    {
     "data": {
      "text/plain": [
       "1-element Vector{Tuple{Char, String}}:\n",
       " ('A', \"bc\")"
      ]
     },
     "execution_count": 6,
     "metadata": {},
     "output_type": "execute_result"
    }
   ],
   "source": [
    "parse(fmap(uppercase, item),\"\")\n",
    "parse(fmap(uppercase, item),\"abc\")\n",
    "fmap((),fmap(uppercase, item)).p(\"abc\")"
   ]
  },
  {
   "cell_type": "code",
   "execution_count": 27,
   "id": "5471f929-41fe-4d1c-9439-7cd564b75670",
   "metadata": {},
   "outputs": [
    {
     "data": {
      "text/plain": [
       "⊗ (generic function with 2 methods)"
      ]
     },
     "execution_count": 27,
     "metadata": {},
     "output_type": "execute_result"
    }
   ],
   "source": [
    "pure(v::T) where T = Parser{T}(inp -> [(v,inp)])\n",
    "⊗(pg::Parser{<: Function}, px::Parser) = Parser{Function}(\n",
    "        inp -> begin\n",
    "            res = parse(pg, inp)\n",
    "            println(res)\n",
    "            if res == []\n",
    "                return []\n",
    "            end\n",
    "            g,out = res[1]\n",
    "            parse(fmap(g,px),out)\n",
    "        end\n",
    "    )"
   ]
  },
  {
   "cell_type": "code",
   "execution_count": 32,
   "id": "eeee07b4-c208-4f0d-8c91-efac0aad06eb",
   "metadata": {},
   "outputs": [
    {
     "name": "stdout",
     "output_type": "stream",
     "text": [
      "[(var\"#69#70\"(), \"ok\")]\n",
      "Tuple{PartialFunctions.PartialFunction{var\"#69#70\", Tuple{Char}, NamedTuple{(), Tuple{}}}, String}[(#69('o', ...), \"k\")]\n",
      "Tuple{PartialFunctions.PartialFunction{var\"#69#70\", Tuple{Char, Char}, NamedTuple{(), Tuple{}}}, String}[(#69('o', 'k', ...), \"\")]\n"
     ]
    },
    {
     "data": {
      "text/plain": [
       "Any[]"
      ]
     },
     "execution_count": 32,
     "metadata": {},
     "output_type": "execute_result"
    }
   ],
   "source": [
    "p = pure((x,y,z)->(x,z)) ⊗ item ⊗ item ⊗ item\n",
    "\n",
    "p.p(\"ok\")"
   ]
  },
  {
   "cell_type": "code",
   "execution_count": null,
   "id": "e3abdd1c-5e37-4a08-a646-d4859855c115",
   "metadata": {},
   "outputs": [],
   "source": [
    "η = pure\n",
    "bind(p::Parser{a},f::FunctionWrapper{Parser{b}, Tuple{a}}) where {a,b} = Parser(P{b}(\n",
    "        inp -> begin\n",
    "            res = parse(p, inp)\n",
    "            @show res\n",
    "            res == [] ? [] : parse(f(res[1][1]), res[1][2])\n",
    "        end\n",
    "    ))\n",
    "\n",
    "η(1).p(\"ok\")"
   ]
  },
  {
   "cell_type": "code",
   "execution_count": 140,
   "id": "21f5741c-aac8-4686-a243-6309ed45ab56",
   "metadata": {},
   "outputs": [],
   "source": [
    "# pure(1)\n",
    "# g = FunctionWrapper{Parser{Int},Tuple{String}}(x->pure(length(x)))\n",
    "# bind(pure(\"\"),g).p(\"\")"
   ]
  },
  {
   "cell_type": "code",
   "execution_count": 155,
   "id": "1cbf4cd4-af0d-4187-9828-58a0bf310a32",
   "metadata": {},
   "outputs": [
    {
     "data": {
      "text/plain": [
       "pg (generic function with 1 method)"
      ]
     },
     "execution_count": 155,
     "metadata": {},
     "output_type": "execute_result"
    }
   ],
   "source": [
    "# g = FunctionWrapper{Tuple{Char,Char},Tuple{String}}(x->\n",
    "pg(x,y,z) = (x,z)\n",
    "\n",
    "# parse(pure(pg),\"akg\")\n",
    "pure(pg).p(\"ok\")[1][1]"
   ]
  },
  {
   "cell_type": "code",
   "execution_count": 127,
   "id": "e360c1c2-cc7a-4fd0-a8aa-a2fdcf2bcac0",
   "metadata": {},
   "outputs": [
    {
     "data": {
      "text/plain": [
       "1-element Vector{Tuple{Int64, String}}:\n",
       " (1, \"abc\")"
      ]
     },
     "execution_count": 127,
     "metadata": {},
     "output_type": "execute_result"
    }
   ],
   "source": []
  },
  {
   "cell_type": "code",
   "execution_count": 136,
   "id": "0675a87f-66f7-4b7c-90d0-20f9a5b0eb98",
   "metadata": {},
   "outputs": [
    {
     "data": {
      "text/plain": [
       "Parser{Char}(FunctionWrapper{Vector{Tuple{Char, String}}, Tuple{String}}(Ptr{Nothing} @0x00007eff985c7a80, Ptr{Nothing} @0x00007eff6257b370, Base.RefValue{var\"#295#296\"{Parser{FunctionWrapper{Char, Tuple{Char}}}, Parser{Char}}}(var\"#295#296\"{Parser{FunctionWrapper{Char, Tuple{Char}}}, Parser{Char}}(Parser{FunctionWrapper{Char, Tuple{Char}}}(FunctionWrapper{Vector{Tuple{FunctionWrapper{Char, Tuple{Char}}, String}}, Tuple{String}}(Ptr{Nothing} @0x00007eff985c4bb0, Ptr{Nothing} @0x00007effa4706bb0, Base.RefValue{var\"#293#294\"{FunctionWrapper{Char, Tuple{Char}}}}(var\"#293#294\"{FunctionWrapper{Char, Tuple{Char}}}(FunctionWrapper{Char, Tuple{Char}}(Ptr{Nothing} @0x00007eff985c8300, Ptr{Nothing} @0x00007effa547c0a8, Base.RefValue{var\"#319#320\"}(var\"#319#320\"()), var\"#319#320\"))), var\"#293#294\"{FunctionWrapper{Char, Tuple{Char}}})), Parser{Char}(FunctionWrapper{Vector{Tuple{Char, String}}, Tuple{String}}(Ptr{Nothing} @0x00007eff98551c00, Ptr{Nothing} @0x00007effa547c010, Base.RefValue{var\"#7#8\"}(var\"#7#8\"()), var\"#7#8\")))), var\"#295#296\"{Parser{FunctionWrapper{Char, Tuple{Char}}}, Parser{Char}}))"
      ]
     },
     "execution_count": 136,
     "metadata": {},
     "output_type": "execute_result"
    }
   ],
   "source": [
    "g = FunctionWrapper{Char, Tuple{Char}}(x->uppercase(x))\n",
    "\n",
    "pure(g) ⊗ item"
   ]
  }
 ],
 "metadata": {
  "kernelspec": {
   "display_name": "Julia 1.9.1",
   "language": "julia",
   "name": "julia-1.9"
  },
  "language_info": {
   "file_extension": ".jl",
   "mimetype": "application/julia",
   "name": "julia",
   "version": "1.9.1"
  }
 },
 "nbformat": 4,
 "nbformat_minor": 5
}
