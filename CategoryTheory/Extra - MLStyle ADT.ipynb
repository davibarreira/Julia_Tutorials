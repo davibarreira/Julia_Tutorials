{
 "cells": [
  {
   "cell_type": "markdown",
   "id": "3601013b-0ff6-48cc-b4b5-e45bc984630d",
   "metadata": {},
   "source": [
    "# 5. MLStyle for ADT\n",
    "\n",
    "MLStyle.jl is a Julia package that provides functionality for Functional Programming.\n",
    "One of the things it provides are Algebraic Data Types (ADT). I'll show how to do it in Julia,\n",
    "but then I'll use MLStyle to show how easier it can be."
   ]
  },
  {
   "cell_type": "code",
   "execution_count": 1,
   "id": "5bad0cc7-4a2d-4db0-8273-da98deb627a3",
   "metadata": {},
   "outputs": [
    {
     "name": "stderr",
     "output_type": "stream",
     "text": [
      "\u001b[32m\u001b[1m  Activating\u001b[22m\u001b[39m project at `~/MEGA/EMAP/PhDThesis/notes/FunctionalProgrammingCategoryTheory/julia`\n"
     ]
    }
   ],
   "source": [
    "using Pkg\n",
    "Pkg.activate(\".\")"
   ]
  },
  {
   "cell_type": "code",
   "execution_count": 2,
   "id": "ce355190-d6b6-47b0-ad8f-53af85ac8379",
   "metadata": {},
   "outputs": [
    {
     "name": "stderr",
     "output_type": "stream",
     "text": [
      "\u001b[32m\u001b[1m    Updating\u001b[22m\u001b[39m registry at `~/.julia/registries/General.toml`\n",
      "\u001b[32m\u001b[1m   Resolving\u001b[22m\u001b[39m package versions...\n",
      "\u001b[32m\u001b[1m  No Changes\u001b[22m\u001b[39m to `~/MEGA/EMAP/PhDThesis/notes/FunctionalProgrammingCategoryTheory/julia/Project.toml`\n",
      "\u001b[32m\u001b[1m  No Changes\u001b[22m\u001b[39m to `~/MEGA/EMAP/PhDThesis/notes/FunctionalProgrammingCategoryTheory/julia/Manifest.toml`\n"
     ]
    }
   ],
   "source": [
    "Pkg.add(\"MLStyle\")"
   ]
  },
  {
   "cell_type": "code",
   "execution_count": 3,
   "id": "209053e9-ee2a-4cc8-9413-a379b6e3f9fc",
   "metadata": {},
   "outputs": [],
   "source": [
    "using MLStyle"
   ]
  },
  {
   "cell_type": "code",
   "execution_count": 4,
   "id": "91e7ec63-be43-4a4e-ad73-6e27c513e2f1",
   "metadata": {},
   "outputs": [],
   "source": [
    "@data Arith begin\n",
    "    Number(Int)\n",
    "    Add(Arith, Arith)\n",
    "    Minus(Arith, Arith)\n",
    "    Mult(Arith, Arith)\n",
    "    Divide(Arith, Arith)\n",
    "end"
   ]
  },
  {
   "cell_type": "markdown",
   "id": "ef00a6d5-bf55-407d-9854-db36ab113ea1",
   "metadata": {},
   "source": [
    "The code above created an abstract type Arith, and several subtypes of it. \n",
    "\n",
    "Here is how to do in basic Julia code."
   ]
  },
  {
   "cell_type": "code",
   "execution_count": 5,
   "id": "193c677b-e7c1-4e6c-bf66-a8dc0336f736",
   "metadata": {},
   "outputs": [],
   "source": [
    "abstract type Arith2 end\n",
    "struct Number2 <: Arith2\n",
    "    _1::Int\n",
    "end\n",
    "\n",
    "struct Add2 <: Arith2\n",
    "    _1::Arith2\n",
    "    _2::Arith2\n",
    "end"
   ]
  },
  {
   "cell_type": "markdown",
   "id": "556ec630-60a6-4e36-a82a-52ff608d8b54",
   "metadata": {},
   "source": [
    "Next, we want to define functions over these types. \n",
    "In Functional Programming language this is done via pattern matching."
   ]
  },
  {
   "cell_type": "code",
   "execution_count": 6,
   "id": "c4453222-3c71-4bc9-8981-14ea439f1e41",
   "metadata": {},
   "outputs": [
    {
     "data": {
      "text/plain": [
       "eval_arith (generic function with 1 method)"
      ]
     },
     "execution_count": 6,
     "metadata": {},
     "output_type": "execute_result"
    }
   ],
   "source": [
    "eval_arith(arith :: Arith) =\n",
    "          # locally and hygienically change the meaning of '!'\n",
    "           let ! = eval_arith\n",
    "               @match arith begin\n",
    "                   Number(v)        => v\n",
    "                   Add(fst, snd)    => !fst + !snd\n",
    "                   Minus(fst, snd)  => !fst - !snd\n",
    "                   Mult(fst, snd)   => !fst * !snd\n",
    "                   Divide(fst, snd) => !fst / !snd\n",
    "               end\n",
    "           end"
   ]
  },
  {
   "cell_type": "markdown",
   "id": "7ced8f34-477c-494e-844b-6f19918ecaea",
   "metadata": {},
   "source": [
    "The awesome thing about the code above is that it already works recursively.\n",
    "For this to work, the code above is overloading the `!`, in order to more beautifully\n",
    "apply the funciton recursively.\n",
    "Check the example below: "
   ]
  },
  {
   "cell_type": "code",
   "execution_count": 7,
   "id": "e4dd7747-d317-440d-9661-620c51426c35",
   "metadata": {},
   "outputs": [
    {
     "data": {
      "text/plain": [
       "-1.5"
      ]
     },
     "execution_count": 7,
     "metadata": {},
     "output_type": "execute_result"
    }
   ],
   "source": [
    "# This is what we have below (2 - (2 + (3 * (2/4)))) \n",
    "eval_arith(\n",
    "    Minus(\n",
    "        Number(2),\n",
    "        Add(Number(2),\n",
    "            Mult(Number(3),\n",
    "                Divide(Number(2),Number(4)))\n",
    "            )))"
   ]
  }
 ],
 "metadata": {
  "kernelspec": {
   "display_name": "Julia 1.8.1",
   "language": "julia",
   "name": "julia-1.8"
  },
  "language_info": {
   "file_extension": ".jl",
   "mimetype": "application/julia",
   "name": "julia",
   "version": "1.8.1"
  }
 },
 "nbformat": 4,
 "nbformat_minor": 5
}
