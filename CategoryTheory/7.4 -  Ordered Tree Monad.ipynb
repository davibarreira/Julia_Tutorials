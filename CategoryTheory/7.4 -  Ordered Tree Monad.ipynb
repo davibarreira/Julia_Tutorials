{
 "cells": [
  {
   "cell_type": "code",
   "execution_count": 1,
   "id": "dc07fd82-f21f-4e48-85dc-24f562d5b2ee",
   "metadata": {
    "tags": []
   },
   "outputs": [],
   "source": [
    "using MLStyle"
   ]
  },
  {
   "cell_type": "code",
   "execution_count": 2,
   "id": "2ab033c8-798f-4379-b90e-8547c76aa3a5",
   "metadata": {
    "tags": []
   },
   "outputs": [],
   "source": [
    "abstract type List{T} end\n",
    "struct Nil{T} <: List{T} end\n",
    "struct Cons{T} <: List{T}\n",
    "    _1::T\n",
    "    _2::List{T}\n",
    "end\n",
    "fmap(f::Function, x::Nil) = x\n",
    "fmap(f::Function, x::Cons{T}) where T = Cons(f(x._1),fmap(f, x._2))\n",
    "\n",
    "@data FreeList{a} begin\n",
    "    Pure(::a)\n",
    "    FreeNil()\n",
    "    FreeCons(::Union{Pure{a},Pure{<:FreeList}},::Union{FreeNil{a},FreeCons{a}})\n",
    "end"
   ]
  },
  {
   "cell_type": "markdown",
   "id": "2fe2916c-4c9b-4418-96c5-c79d6ac31659",
   "metadata": {},
   "source": [
    "F(Fa,FF(Fa,F),a)"
   ]
  },
  {
   "cell_type": "code",
   "execution_count": null,
   "id": "a8ac8ca0-c0c3-4d7f-9edd-6ecf4ff0b2cf",
   "metadata": {},
   "outputs": [],
   "source": []
  },
  {
   "cell_type": "code",
   "execution_count": 3,
   "id": "4c576655-bbd9-49e3-9fa6-0499a9523c53",
   "metadata": {
    "tags": []
   },
   "outputs": [
    {
     "data": {
      "text/plain": [
       "fmap (generic function with 4 methods)"
      ]
     },
     "execution_count": 3,
     "metadata": {},
     "output_type": "execute_result"
    }
   ],
   "source": [
    "free(x::Nil{T}) where {T}  = FreeNil{T}()\n",
    "free(x::Cons) = FreeCons(Pure(x._1),free(x._2))\n",
    "\n",
    "unfree(x::Pure) = x\n",
    "unfree(x::Pure{T}) where {T <: FreeList} = x._1\n",
    "unfree(x::FreeNil{T}) where {T} = Nil{FreeList}()\n",
    "unfree(x::FreeCons) = Cons(unfree(x._1),unfree(x._2))\n",
    "\n",
    "\n",
    "fmap(f::Function, x::Pure)  = Pure(f(x._1))\n",
    "fmap(f::Function, x::FreeList) = free(fmap(y->fmap(f,y), unfree(x)))"
   ]
  },
  {
   "cell_type": "code",
   "execution_count": null,
   "id": "d6c8c4ed-aea3-490a-a49f-d9b314cfd600",
   "metadata": {},
   "outputs": [],
   "source": [
    "FreeCons()"
   ]
  },
  {
   "cell_type": "code",
   "execution_count": 4,
   "id": "4a4429fb-868e-4161-b701-ee8fd6738c47",
   "metadata": {
    "tags": []
   },
   "outputs": [],
   "source": [
    "# μ(x::Pure) = x._1\n",
    "# μ(x::FreeNil) = x\n",
    "# μ(x::FreeCons)= FreeCons(fmap(μ, x._1), fmap(μ, x._2))\n",
    "# μ(x::T) where T <: FreeList = T(fmap(μ, x))"
   ]
  },
  {
   "cell_type": "code",
   "execution_count": null,
   "id": "cb4aaac0-a819-4e58-b268-7e3c8dd076e9",
   "metadata": {
    "tags": []
   },
   "outputs": [],
   "source": [
    "x = free(unfree(free(Cons(10, Nil{Int}()))))\n",
    "# fmap(μ,x)\n",
    "# fmap(x-> x + 2 ,x)\n",
    "# μ(x)\n",
    "x"
   ]
  },
  {
   "cell_type": "code",
   "execution_count": null,
   "id": "99d64d8d-5473-4552-9518-182181348625",
   "metadata": {
    "tags": []
   },
   "outputs": [],
   "source": []
  },
  {
   "cell_type": "code",
   "execution_count": null,
   "id": "4e44b60f-ca15-414f-b2af-2f7881dbb36f",
   "metadata": {},
   "outputs": [],
   "source": [
    "fmap(concatfree,)"
   ]
  },
  {
   "cell_type": "code",
   "execution_count": null,
   "id": "b6c6d064-fdc2-47a5-aab2-2fd1b8598cee",
   "metadata": {
    "tags": []
   },
   "outputs": [],
   "source": []
  },
  {
   "cell_type": "code",
   "execution_count": null,
   "id": "2d911a09-3e07-4d1d-a7c7-611b44e48e1c",
   "metadata": {
    "tags": []
   },
   "outputs": [],
   "source": [
    "free(unfree(free(Cons(10, Nil{Int}()))))\n",
    "unfree(free(unfree(free(unfree(free(unfree(free(Cons(10, Nil{Int}())))))))))"
   ]
  },
  {
   "cell_type": "code",
   "execution_count": null,
   "id": "34706b87-9b16-41ae-994e-43cf7cf92b3c",
   "metadata": {
    "tags": []
   },
   "outputs": [],
   "source": [
    "l = Cons(10, Nil{Int}())\n",
    "fmap(x->x+1, l)\n",
    "unfree(fmap(x->x+1, free(l)))"
   ]
  },
  {
   "cell_type": "code",
   "execution_count": null,
   "id": "d674636a-1db8-4ced-934f-7dd0295b8533",
   "metadata": {
    "tags": []
   },
   "outputs": [],
   "source": [
    "\n",
    "\n",
    "# fmap(x->x+1, free(Cons(10, Nil{Int}())))\n",
    "\n",
    "\n",
    "# unfree(free(Cons(Pure(10),Nil{FreeList}())))\n",
    "# Pure(10) isa FreeList\n",
    "# FreeNil{Int}() isa FreeList"
   ]
  },
  {
   "cell_type": "code",
   "execution_count": null,
   "id": "71b18352-508f-464c-86d7-2c42c8c33a70",
   "metadata": {
    "tags": []
   },
   "outputs": [],
   "source": [
    "unfree(free(Nil{Int}()))\n",
    "\n",
    "# fmap(x->x+1,unfree(free(Cons(10, Nil{Int}()))))\n",
    "# fmap(x->x+1,free(Cons(10, Nil{Int}())))\n",
    "# myfunc = x->x+1\n",
    "\n",
    "# free(fmap(myfunc, unfree(free(Cons(10, Nil{Int}())))))"
   ]
  },
  {
   "cell_type": "code",
   "execution_count": null,
   "id": "8727a50c-37c6-44c3-b52a-2181bbd016ab",
   "metadata": {
    "tags": []
   },
   "outputs": [],
   "source": [
    "# fmap(f::Function, x::Pure)  = Pure(f(x._1))\n",
    "# fmap(f::Function, x::FreeList) = free(fmap(y->fmap(f,y), unfree(x)))"
   ]
  },
  {
   "cell_type": "code",
   "execution_count": null,
   "id": "da2aec9a-a5e7-4f2c-9d5c-db8ff3e264e4",
   "metadata": {},
   "outputs": [],
   "source": []
  },
  {
   "cell_type": "code",
   "execution_count": null,
   "id": "d86b93e8-fa1d-409b-a020-fb6f5ceb5675",
   "metadata": {
    "tags": []
   },
   "outputs": [],
   "source": [
    "FreeCons(Pure(10), FreeNil{Int}())\n",
    "# FreeCons(Pure(1),FreeCons(Pure(2),Pure(3)))"
   ]
  },
  {
   "cell_type": "code",
   "execution_count": null,
   "id": "4f68a435-e661-49ce-b2f7-fc53dd483b6e",
   "metadata": {
    "tags": []
   },
   "outputs": [],
   "source": [
    "e23 = FreeCons(\n",
    "        Pure(2),\n",
    "        FreeCons(\n",
    "            Pure(3),\n",
    "            FreeNil{Int}()\n",
    "            )\n",
    "        )\n",
    "ee4 = FreeCons(Pure(FreeCons(Pure(4),FreeNil{Int}())),FreeNil{Int}())"
   ]
  },
  {
   "cell_type": "code",
   "execution_count": null,
   "id": "7e0304ae-2a7c-4b04-8942-3cc29e45d7a7",
   "metadata": {
    "tags": []
   },
   "outputs": [],
   "source": [
    "example1 = FreeCons(Pure(1),FreeCons(Pure(e23),FreeNil{Int}())) #[1,[2,3]]\n",
    "\n",
    "# [1,[2,3],[[4]]]\n",
    "exaxmple2 = FreeCons(\n",
    "    Pure(1),\n",
    "    FreeCons(\n",
    "        Pure(e23),\n",
    "        FreeCons(Pure(ee4),FreeNil{Int}())\n",
    "        )\n",
    ")"
   ]
  },
  {
   "cell_type": "code",
   "execution_count": null,
   "id": "1e12e62d-bc58-4a17-beb3-7a253db74458",
   "metadata": {
    "tags": []
   },
   "outputs": [],
   "source": [
    "example1"
   ]
  },
  {
   "cell_type": "code",
   "execution_count": null,
   "id": "3b2342a6-0e8e-4db5-956e-c5972e6fb227",
   "metadata": {},
   "outputs": [],
   "source": []
  }
 ],
 "metadata": {
  "kernelspec": {
   "display_name": "Julia 1.9.3",
   "language": "julia",
   "name": "julia-1.9"
  },
  "language_info": {
   "file_extension": ".jl",
   "mimetype": "application/julia",
   "name": "julia",
   "version": "1.9.3"
  }
 },
 "nbformat": 4,
 "nbformat_minor": 5
}
