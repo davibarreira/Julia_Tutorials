{
 "cells": [
  {
   "cell_type": "markdown",
   "id": "c8257f90-4a7e-4a4b-b6d9-091a81014e53",
   "metadata": {},
   "source": [
    "# Monads Revisited\n",
    "\n",
    "Let's go back to monads. In Haskell, a monad is a type class defined as\n",
    "```haskell\n",
    "class Functor m => Monad m where\n",
    "    (<=<) :: (b -> m c) -> (a -> m b) -> (a -> m c)\n",
    "    return :: a -> m a\n",
    "```"
   ]
  },
  {
   "cell_type": "code",
   "execution_count": 1,
   "id": "b598e109-e54a-4683-9920-5fea695ad46f",
   "metadata": {},
   "outputs": [
    {
     "name": "stderr",
     "output_type": "stream",
     "text": [
      "\u001b[32m\u001b[1m  Activating\u001b[22m\u001b[39m project at `~/MEGA/EMAP/Julia_Tutorials/CategoryTheory`\n"
     ]
    }
   ],
   "source": [
    "using Pkg\n",
    "Pkg.activate(\".\")\n",
    "using MLStyle\n",
    "\n",
    "include(\"aux_functors.jl\");"
   ]
  },
  {
   "cell_type": "markdown",
   "id": "c185fd60-9f03-40ac-936f-5a094f0d03e0",
   "metadata": {},
   "source": [
    "## Example - List Monad"
   ]
  },
  {
   "cell_type": "code",
   "execution_count": 2,
   "id": "5f3129da-5dff-4fef-be76-90e3b41b375e",
   "metadata": {},
   "outputs": [
    {
     "data": {
      "text/plain": [
       "fmap (generic function with 4 methods)"
      ]
     },
     "execution_count": 2,
     "metadata": {},
     "output_type": "execute_result"
    }
   ],
   "source": [
    "struct Nil end\n",
    "struct Cons{T}\n",
    "  val::T\n",
    "  next::Union{Cons{T},Nil} # n.b. abstract type!\n",
    "end\n",
    "List{T} = Union{Cons{T}, Nil}\n",
    "fmap(f::Function, x::Nil) = Nil()\n",
    "fmap(f::Function, x::Cons) = Cons(f(x.val),fmap(f, x.next))"
   ]
  },
  {
   "cell_type": "code",
   "execution_count": 44,
   "id": "98b0b4f0-afd2-469a-af6e-edd9e2cf096d",
   "metadata": {},
   "outputs": [
    {
     "data": {
      "text/plain": [
       "bind (generic function with 1 method)"
      ]
     },
     "execution_count": 44,
     "metadata": {},
     "output_type": "execute_result"
    }
   ],
   "source": [
    "concatenate(x::Nil ,y::List) = y\n",
    "concatenate(x::Cons,y::List) = Cons(x.val, concatenate(x.next, y))\n",
    "\n",
    "μ(x::Nil) = Nil()\n",
    "μ(x::Cons{<:List})  = concatenate(x.val, μ(x.next))\n",
    "η(x,::Type{List}) = Cons(x,Nil())\n",
    "bind(x::List, f::Function) = μ(fmap(f, x))\n"
   ]
  },
  {
   "cell_type": "code",
   "execution_count": 45,
   "id": "87110bbc-30c8-48f6-b50b-5b68f2090f4d",
   "metadata": {},
   "outputs": [
    {
     "data": {
      "text/plain": [
       "Cons{Int64}(3, Cons{Int64}(2, Cons{Int64}(2, Cons{Int64}(1, Nil()))))"
      ]
     },
     "execution_count": 45,
     "metadata": {},
     "output_type": "execute_result"
    }
   ],
   "source": [
    "concatplus1(x::Int)::List  = Cons(x+1,Cons(x, Nil()))\n",
    "x = Cons(1,Nil())\n",
    "\n",
    "μ(fmap(concatplus1,bind(x, concatplus1)))"
   ]
  },
  {
   "cell_type": "markdown",
   "id": "b4940a33-ad44-4b33-ac09-169eb73fe6c6",
   "metadata": {},
   "source": [
    "## Example - Maybe Monad \n",
    "\n",
    "Remeber that `Maybe` is an endofunctor. If we have a natural transformation \n",
    "$\\eta$ and $\\mu$ such that $(\\text{Maybe}, \\eta, \\mu)$ is a monoid, then we have our monad."
   ]
  },
  {
   "cell_type": "code",
   "execution_count": 63,
   "id": "f22a159b-f4ad-48a7-bfa0-24bc876e6df2",
   "metadata": {},
   "outputs": [
    {
     "name": "stdout",
     "output_type": "stream",
     "text": [
      "(safesolve ⊙ safesqrt)(14) = Just{Float64}(2.6726124191242437)\n",
      "(safesolve ⊙ safesqrt)(-10) = Nothing()\n",
      "(safesolve ⊙ safesqrt)(0) = Nothing()\n"
     ]
    }
   ],
   "source": [
    "η(x,::Type{Maybe})   = Just(x)\n",
    "μ(x::Just{<:Just})   = Just(x._1._1)\n",
    "μ(x::Just{<:Nothing})= Nothing()\n",
    "μ(x::Nothing)        = Nothing()\n",
    "\n",
    "μ(Just(η(10, Maybe)))\n",
    "bind(mx::Maybe, f::Function) = μ(fmap(f, mx))\n",
    "⊙(f::Function,g::Function) = x -> bind(g(x),f)\n",
    "\n",
    "safesqrt(x::Real) = x < 0 ? Nothing() : Just(√x)\n",
    "safesolve(x::Real) = x == 0 ? Nothing() : Just(10 / x)\n",
    "@show (safesolve ⊙ safesqrt)(14)\n",
    "@show (safesolve ⊙ safesqrt)(-10)\n",
    "@show (safesolve ⊙ safesqrt)(0);"
   ]
  },
  {
   "cell_type": "markdown",
   "id": "79029fe2-17cb-49a9-b3c0-2e5cc1166768",
   "metadata": {},
   "source": [
    "## Example - State Monad"
   ]
  },
  {
   "cell_type": "code",
   "execution_count": 110,
   "id": "aaea8448-0dbe-4d79-af0d-ed037126cb7d",
   "metadata": {},
   "outputs": [],
   "source": [
    "# mapm(f::Function, x::Vector) = x == [] ? η([], Maybe) : [f(x[1]), mapm(f,x[2:end])]\n",
    "# conv(x::String) = occursin(x,\"0123456789\") ? Just(parse(Int,x)) : Nothing()"
   ]
  },
  {
   "cell_type": "code",
   "execution_count": null,
   "id": "6cd83deb-ba7c-463a-8601-16800111fd56",
   "metadata": {},
   "outputs": [],
   "source": []
  },
  {
   "cell_type": "code",
   "execution_count": 109,
   "id": "1f3bd01a-c405-4e5b-b4a0-1ba91669bc1a",
   "metadata": {},
   "outputs": [
    {
     "data": {
      "text/plain": [
       "3-element Vector{Any}:\n",
       " Just{Int64}(1)\n",
       " Any[Just{Int64}(2), Just{Vector{Any}}(Any[]), Maybe]\n",
       " Maybe\u001b[90m (alias for \u001b[39m\u001b[90mUnion{Nothing, Just{T}} where T\u001b[39m\u001b[90m)\u001b[39m"
      ]
     },
     "execution_count": 109,
     "metadata": {},
     "output_type": "execute_result"
    }
   ],
   "source": [
    "mapm(conv, [\"1\",\"2\"])"
   ]
  }
 ],
 "metadata": {
  "kernelspec": {
   "display_name": "Julia 1.9.1",
   "language": "julia",
   "name": "julia-1.9"
  },
  "language_info": {
   "file_extension": ".jl",
   "mimetype": "application/julia",
   "name": "julia",
   "version": "1.9.1"
  }
 },
 "nbformat": 4,
 "nbformat_minor": 5
}
