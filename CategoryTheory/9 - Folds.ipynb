{
 "cells": [
  {
   "cell_type": "markdown",
   "id": "6914e819-1e2e-445f-ab19-e346072edecf",
   "metadata": {},
   "source": [
    "## Folds\n",
    "\n",
    "*Folds are catamorphisms of the catgory of List-algebras*.\n",
    "\n",
    "Remember that for an endofunctor $F$, an $F$-algebra is a tuple $(\\phi, a)$ where\n",
    "$a$ is a type and $\\phi:Fa \\to a$ is an evaluator. For a fixed functor, the collection of\n",
    "$F$-algebras form a category. If the functor $F$ is polynomial, then this algebra has an initial\n",
    "object. Remember that for an initial object, there is a unique morphism that goes from it\n",
    "to every other object in the category. In the category of $F$-alebras, this unique morphism\n",
    "leaving the initial object is called a catamorphism."
   ]
  },
  {
   "cell_type": "code",
   "execution_count": 7,
   "id": "2f791cce-24bd-4ac6-8b76-168ed4852a61",
   "metadata": {},
   "outputs": [
    {
     "data": {
      "text/plain": [
       "nil (generic function with 2 methods)"
      ]
     },
     "execution_count": 7,
     "metadata": {},
     "output_type": "execute_result"
    }
   ],
   "source": [
    "abstract type List{T} end\n",
    "struct Nil{T} <: List{T} end\n",
    "struct Cons{T} <: List{T}\n",
    "    v::T\n",
    "    next::List{T}\n",
    "end\n",
    "\n",
    "wrap(x::T) where T = Cons{T}(x, Nil{T}())\n",
    "nil(x::Nil{T}) where T = true\n",
    "nil(x::Cons{T}) where T = false"
   ]
  },
  {
   "cell_type": "code",
   "execution_count": 5,
   "id": "54a204e1-236e-43bf-8a4e-7e0c35e8f6a6",
   "metadata": {},
   "outputs": [
    {
     "data": {
      "text/plain": [
       "foldrList (generic function with 2 methods)"
      ]
     },
     "execution_count": 5,
     "metadata": {},
     "output_type": "execute_result"
    }
   ],
   "source": [
    "foldrList(f::Function, e::T, ::Nil{T}) where T = e\n",
    "foldrList(f::Function, e::T, x::Cons{T}) where T = f(x.v,foldrList(f, e, x.next))"
   ]
  },
  {
   "cell_type": "code",
   "execution_count": 6,
   "id": "3c51a1f6-bf28-43fb-9c3a-5a9b0d342a14",
   "metadata": {},
   "outputs": [
    {
     "name": "stdout",
     "output_type": "stream",
     "text": [
      "foldrList(+, 10, Nil{Int}()) = 10\n",
      "foldrList(+, 10, Cons(2, wrap(10))) = 22\n"
     ]
    }
   ],
   "source": [
    "@show foldrList(+, 10, Nil{Int}())\n",
    "@show foldrList(+, 10, Cons(2,wrap(10)));"
   ]
  },
  {
   "cell_type": "code",
   "execution_count": null,
   "id": "9f29a919-fa28-4adf-bbd4-30218b27e018",
   "metadata": {},
   "outputs": [],
   "source": []
  },
  {
   "cell_type": "code",
   "execution_count": null,
   "id": "2e5e02f3-857d-4041-8520-01165b5a2347",
   "metadata": {},
   "outputs": [],
   "source": []
  },
  {
   "cell_type": "code",
   "execution_count": null,
   "id": "f4b3a32e-d201-4aa6-b24d-6be0737ce83b",
   "metadata": {},
   "outputs": [],
   "source": []
  }
 ],
 "metadata": {
  "kernelspec": {
   "display_name": "Julia 1.9.2",
   "language": "julia",
   "name": "julia-1.9"
  },
  "language_info": {
   "file_extension": ".jl",
   "mimetype": "application/julia",
   "name": "julia",
   "version": "1.9.2"
  }
 },
 "nbformat": 4,
 "nbformat_minor": 5
}
