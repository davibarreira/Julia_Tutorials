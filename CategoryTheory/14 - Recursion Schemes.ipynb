{
 "cells": [
  {
   "cell_type": "markdown",
   "id": "0aea2696-6221-440c-bf5b-3d0251fe07b2",
   "metadata": {},
   "source": [
    "# Recursion Schemes\n",
    "Based on ***Fantastic Morphisms and Where to Find Them***.\n",
    "\n",
    "Recursion is a way of defining a function on any mathematical object which is “defined inductively”. Yet,\n",
    "left on its own, an inductive definition might lead to problems, such as infinite looping (non termination).\n",
    "Thereforem, a recursion scheme is a structure recursion that by its construction guarantees termination.\n",
    "For example, where one writes a for-loop in Julia, there is no guarantee that the loop is ever going to end.\n",
    "Yet, in functional programming, a `foldl` is guaranteed to finish.\n",
    "Hence, recursion schemes are a collection of implementations that try to formalize the different recursion operations.\n",
    "\n",
    "There are several examples of such recursions, each one with its name and structure. The paper\n",
    "**Fantastic Morphisms and Where to Find Them** has a collection of such schemes and a table\n",
    "describing their usage. For example, catamorphisms are usade to consume inductive data. Anamorphisms\n",
    "are used to generate coinductive data. Accumulation is used in recursions with an accumulative parameter.\n",
    "And so on.\n",
    "\n",
    "Each of these recursion schemes have a different category theoretic formalism attached to them.\n",
    "For example, a catamorphism is the recursion scheme derived using initial $F$-algebras. The anamorphism\n",
    "is obtained from terminal co-algebras, and so on."
   ]
  },
  {
   "cell_type": "code",
   "execution_count": 1,
   "id": "6a556007-e271-4ef0-9056-5430215a8029",
   "metadata": {
    "tags": []
   },
   "outputs": [
    {
     "name": "stderr",
     "output_type": "stream",
     "text": [
      "\u001b[32m\u001b[1m  Activating\u001b[22m\u001b[39m project at `~/Documents/Julia_Tutorials/CategoryTheory`\n"
     ]
    }
   ],
   "source": [
    "using Pkg\n",
    "Pkg.activate(\".\")\n",
    "using MLStyle"
   ]
  },
  {
   "cell_type": "markdown",
   "id": "bbbbd0b8-1d57-4e24-8a0d-230b5da86513",
   "metadata": {
    "tags": []
   },
   "source": [
    "## 1. Catamorphism\n",
    "\n",
    "Let us start with an implementation of catamorphisms.\n",
    "First, consider a functor `data NatF x = ZeroF | SuccF x`. \n",
    "\n",
    "An example of a NatF-algebra is `(fib,(Int,Int))` where `fib : NatF(Int,Int)-> (Int,Int)`."
   ]
  },
  {
   "cell_type": "code",
   "execution_count": 2,
   "id": "c278ef8d-604e-4edb-afb3-b6a214a1a044",
   "metadata": {},
   "outputs": [
    {
     "name": "stdout",
     "output_type": "stream",
     "text": [
      "fib(z) = (1, 1)\n",
      "fib(SuccF((1, 2))) = (2, 3)\n"
     ]
    }
   ],
   "source": [
    "@data NatF{a} begin\n",
    "    ZeroF()\n",
    "    SuccF(s::a)\n",
    "end\n",
    "ZeroF() = ZeroF{Union{}}()\n",
    "\n",
    "fmap(f::Function, a::ZeroF) = a\n",
    "fmap(f::Function, a::SuccF) = SuccF(f(a.s))\n",
    "\n",
    "fib(x::ZeroF) = (1,1)\n",
    "fib(x::SuccF{Tuple{Int,Int}}) = (x.s[2],x.s[1] + x.s[2])\n",
    "\n",
    "z = ZeroF{Tuple{Int,Int}}()\n",
    "@show fib(z)\n",
    "@show fib(SuccF((1,2)));"
   ]
  },
  {
   "cell_type": "markdown",
   "id": "026951d3-dc6e-43f5-8156-0a39fb285a85",
   "metadata": {},
   "source": [
    "Now, consider the category of `NatF` algebras. The initial object for this category\n",
    "is an algebra `(fix, Nat)` such that `fix: NatF Nat -> Nat`.\n",
    "Note that Lambek's theorem states that there exists `unfix:Nat -> NatF Nat` which is the inverse\n",
    "function of `fix`."
   ]
  },
  {
   "cell_type": "markdown",
   "id": "85954473-cbb5-4687-be5d-4a51a2a2dbbd",
   "metadata": {},
   "source": [
    "The idea here is that `NatF Nat` and `Nat` are isomorphic. Hence,\n",
    "`fix` takes `NatF Nat` to `Nat`, and `unfix` does the opposite."
   ]
  },
  {
   "cell_type": "code",
   "execution_count": 21,
   "id": "38c88870-1834-4da0-837c-20659f9faeb9",
   "metadata": {},
   "outputs": [],
   "source": [
    "# struct Fix{F}\n",
    "#     _1::F\n",
    "# end\n",
    "# fmap(f::Function, x::Fix) = Fix(fmap(f, x._1))\n",
    "\n",
    "# Fix(ZeroF())\n",
    "# Fix(SuccF(10))\n",
    "\n",
    "# unfix(x::Fix{<:ZeroF}) = ZeroF{Fix{NatF}}()\n",
    "# unfix(x::Fix{<:SuccF}) = SuccF(x._1.s)\n",
    "\n",
    "# fix(n::ZeroF{<:Fix}) = Fix(ZeroF())\n",
    "# fix(n::SuccF{<:Fix}) = Fix(SuccF(n.s))\n",
    "\n",
    "\n",
    "# unfix(Fix(ZeroF()))\n",
    "# x = Fix(SuccF(Fix(ZeroF())))\n",
    "# @show fix(unfix(x)) == x\n",
    "\n",
    "# z = Fix(ZeroF())\n",
    "# @show fix(unfix(z)) == z;\n",
    "\n",
    "# cata(alg::Function, x::Fix) = alg(fmap(y -> cata(alg, y), unfix(x)))\n",
    "\n",
    "# x = Fix(SuccF(\n",
    "#         Fix(SuccF(\n",
    "#                 Fix(SuccF(\n",
    "#                         Fix(ZeroF())\n",
    "#                     ))\n",
    "#                 ))\n",
    "#         ))\n",
    "# cata(fib,x)"
   ]
  },
  {
   "cell_type": "code",
   "execution_count": 22,
   "id": "45f76afd-a01c-470a-a036-173d5bd99867",
   "metadata": {},
   "outputs": [
    {
     "name": "stdout",
     "output_type": "stream",
     "text": [
      "unfix(Succ(Zero())) isa NatF{<:Nat} = true\n",
      "unfix(Zero()) isa NatF{<:Nat} = true\n",
      "unfix(fix(ZeroF{Nat}())) == ZeroF{Nat}() = true\n",
      "fix(unfix(Zero())) == Zero() = true\n"
     ]
    },
    {
     "data": {
      "text/plain": [
       "true"
      ]
     },
     "execution_count": 22,
     "metadata": {},
     "output_type": "execute_result"
    }
   ],
   "source": [
    "@data Nat begin\n",
    "    Zero()\n",
    "    Succ(s::Nat)\n",
    "end\n",
    "fmap(f::Function, a::Zero) = a\n",
    "fmap(f::Function, a::Succ) = Succ(f(a.s))\n",
    "\n",
    "unfix(n::Zero) = ZeroF{Nat}()\n",
    "unfix(n::Succ) = SuccF(n.s)\n",
    "fix(n::ZeroF{<:Nat}) = Zero()\n",
    "fix(n::SuccF{<:Nat}) = Succ(n.s)\n",
    "\n",
    "@show unfix(Succ(Zero())) isa NatF{<:Nat}\n",
    "@show unfix(Zero()) isa NatF{<:Nat};\n",
    "\n",
    "@show unfix(fix(ZeroF{Nat}())) == ZeroF{Nat}()\n",
    "@show fix(unfix(Zero())) == Zero();\n",
    "\n",
    "v = Succ(Succ(Succ(Zero())))\n",
    "fix(unfix(v)) == v"
   ]
  },
  {
   "cell_type": "code",
   "execution_count": 23,
   "id": "29521cc5-2a32-4cc0-a21f-964709098558",
   "metadata": {},
   "outputs": [
    {
     "data": {
      "text/plain": [
       "(3, 5)"
      ]
     },
     "execution_count": 23,
     "metadata": {},
     "output_type": "execute_result"
    }
   ],
   "source": [
    "cata(alg::Function, x) = alg(fmap(y -> cata(alg, y), unfix(x)))\n",
    "\n",
    "x = Succ((\n",
    "        Succ(\n",
    "            Succ(Zero())\n",
    "            ))\n",
    "    )\n",
    "cata(fib,x)"
   ]
  },
  {
   "cell_type": "markdown",
   "id": "17250d5d-5d7a-459e-ab90-368be44e1cf6",
   "metadata": {},
   "source": [
    "## 2. Anamorphism"
   ]
  },
  {
   "cell_type": "code",
   "execution_count": 24,
   "id": "a3054e02-03b6-437b-94e2-1d2aa0a1ce6c",
   "metadata": {},
   "outputs": [
    {
     "data": {
      "text/plain": [
       "ana (generic function with 1 method)"
      ]
     },
     "execution_count": 24,
     "metadata": {},
     "output_type": "execute_result"
    }
   ],
   "source": [
    "getfirst(l::Vector) = length(l) > 0 ? l[begin] : l\n",
    "getrest(l::Vector{T}, n=2) where T= length(l) > 1 ? l[2:end] : T[]\n",
    "\n",
    "@data TreeF{x} begin\n",
    "    LeafF()\n",
    "    NodeF(::Int, ::x, ::x)\n",
    "end\n",
    "LeafF() = LeafF{Union{}}()\n",
    "fmap(f::Function, x::LeafF) = x\n",
    "fmap(f::Function, x::NodeF) = NodeF(x._1, f(x._2), f(x._3))\n",
    "\n",
    "@data Tree begin\n",
    "    Leaf()\n",
    "    Node(::Int, ::Tree, ::Tree)\n",
    "end\n",
    "# LeafF() = LeafF{Union{}}()\n",
    "fmap(f::Function, x::Leaf) = x\n",
    "fmap(f::Function, x::Node) = Node(x._1, f(x._2), f(x._3))\n",
    "\n",
    "unfix(x::Leaf) = LeafF{Tree}()\n",
    "unfix(x::Node) = NodeF(x._1,x._2,x._3)\n",
    "fix(x::LeafF{<:Tree}) = Leaf()\n",
    "fix(x::NodeF{<:Tree}) = Node(x._1,x._2,x._3)\n",
    "NodeF(i::Int,x::Tree,y::Tree) = NodeF{Tree}(i,x,y)\n",
    "\n",
    "splitting(x::Vector) = begin \n",
    "    if length(x) == 0\n",
    "       return LeafF()\n",
    "    end\n",
    "    n = getfirst(x)\n",
    "    ns= getrest(x)\n",
    "    NodeF(n, filter(x-> x ≤ n, ns), filter(x->x>n, ns))\n",
    "end\n",
    "\n",
    "splitting([])\n",
    "splitting([4,2,3,5,6,0,1])\n",
    "\n",
    "\n",
    "ana(coa::Function, x) = fix(fmap(y -> ana(coa, y), coa(x)))"
   ]
  },
  {
   "cell_type": "code",
   "execution_count": 25,
   "id": "1be7f607-0caf-4965-abe2-38f16bc3b776",
   "metadata": {},
   "outputs": [
    {
     "data": {
      "text/plain": [
       "Node(4, Node(2, Node(1, Leaf(), Node(2, Leaf(), Leaf())), Node(4, Node(4, Leaf(), Leaf()), Leaf())), Node(6, Leaf(), Node(7, Leaf(), Leaf())))"
      ]
     },
     "execution_count": 25,
     "metadata": {},
     "output_type": "execute_result"
    }
   ],
   "source": [
    "l = [4,2,4,1,2,4,6,7]\n",
    "\n",
    "ana(splitting, l)"
   ]
  },
  {
   "cell_type": "code",
   "execution_count": 26,
   "id": "9943d8cf-53db-41bb-887e-d638ce038bc5",
   "metadata": {},
   "outputs": [
    {
     "data": {
      "text/plain": [
       "2-element Vector{Int64}:\n",
       " 1\n",
       " 2"
      ]
     },
     "execution_count": 26,
     "metadata": {},
     "output_type": "execute_result"
    }
   ],
   "source": [
    "tolist(x::LeafF) = Int[]\n",
    "tolist(x::NodeF) = vcat(x._2,[x._1],x._3)\n",
    "\n",
    "qsort(x::Vector{Int}) = cata(tolist, ana(splitting,x))\n",
    "\n",
    "qsort([2,5,3,1,0,4])\n",
    "qsort([1,2])"
   ]
  },
  {
   "cell_type": "code",
   "execution_count": 27,
   "id": "4b29eb1e-f919-4086-a630-20e6ff916c0e",
   "metadata": {},
   "outputs": [],
   "source": [
    "# unfix(x::Fix{<:LeafF}) = LeafF{Fix{TreeF}}()\n",
    "# unfix(x::Fix{<:NodeF}) = NodeF{Fix{TreeF}}(x._1,x._2,x._3)\n",
    "\n",
    "# fix_(n::LeafF{<:Fix{<:TreeF}}) = Fix(LeafF())\n",
    "# fix_(n::NodeF{<:Fix{<:TreeF}}) = Fix(NodeF(n._1,n._2,n._3))\n",
    "# fix_(n::LeafF{Fix}) = Fix(LeafF())\n",
    "# fix_(n::NodeF{Fix}) = Fix(NodeF(n._1,n._2,n._3))\n",
    "\n",
    "# NodeF(i::Int,x::Fix,y::Fix) = NodeF{Fix}(i,x,y)\n",
    "# ana_(coa::Function, x) = fix_(fmap(y -> ana_(coa, y), coa(x)))\n",
    "# cata(tolist,ana_(splitting, [1,2]))"
   ]
  }
 ],
 "metadata": {
  "kernelspec": {
   "display_name": "Julia 1.9.4",
   "language": "julia",
   "name": "julia-1.9"
  },
  "language_info": {
   "file_extension": ".jl",
   "mimetype": "application/julia",
   "name": "julia",
   "version": "1.9.4"
  }
 },
 "nbformat": 4,
 "nbformat_minor": 5
}
