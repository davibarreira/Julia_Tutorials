{
 "cells": [
  {
   "cell_type": "markdown",
   "id": "a5d4bba4-f7a8-4c91-99b1-84869e47da2b",
   "metadata": {},
   "source": [
    "# Recursion Schemes\n",
    "*Function Programming with Bananas, Lenses, Envelopes and Barbed Wire*\n",
    "\n",
    "This notebook explores [this blog post.](https://blog.sumtypeofway.com/posts/introduction-to-recursion-schemes.html)"
   ]
  },
  {
   "cell_type": "code",
   "execution_count": 1,
   "id": "6a556007-e271-4ef0-9056-5430215a8029",
   "metadata": {
    "tags": []
   },
   "outputs": [
    {
     "name": "stderr",
     "output_type": "stream",
     "text": [
      "\u001b[32m\u001b[1m  Activating\u001b[22m\u001b[39m project at `~/MEGA/EMAP/Julia_Tutorials/CategoryTheory`\n"
     ]
    }
   ],
   "source": [
    "using Pkg\n",
    "Pkg.activate(\".\")"
   ]
  },
  {
   "cell_type": "code",
   "execution_count": 2,
   "id": "21fa25b6-1f8c-4ff5-9fe6-187dfb3cff19",
   "metadata": {
    "tags": []
   },
   "outputs": [],
   "source": [
    "using MLStyle"
   ]
  },
  {
   "cell_type": "code",
   "execution_count": null,
   "id": "c278ef8d-604e-4edb-afb3-b6a214a1a044",
   "metadata": {},
   "outputs": [],
   "source": []
  },
  {
   "cell_type": "code",
   "execution_count": 9,
   "id": "7dcee156-9865-4a4f-a66e-f361ff4f1394",
   "metadata": {
    "tags": []
   },
   "outputs": [],
   "source": [
    "# @data Lit begin\n",
    "#     StrLit(::String)\n",
    "#     IntLit(::Int)\n",
    "#     Ident(::String)\n",
    "# end\n",
    "\n",
    "# @data Expr begin\n",
    "#     Index(Expr, Expr)\n",
    "#     Call(Expr, Vector{Expr})\n",
    "#     Unary(::String,Expr)\n",
    "#     Binary(Expr,::String,Expr)\n",
    "#     Paren(Expr)\n",
    "#     Literal(Lit)\n",
    "# end"
   ]
  },
  {
   "cell_type": "code",
   "execution_count": null,
   "id": "1c5eb5e0-fac0-41f3-9b24-5811c45265f0",
   "metadata": {},
   "outputs": [],
   "source": []
  }
 ],
 "metadata": {
  "kernelspec": {
   "display_name": "Julia 1.9.2",
   "language": "julia",
   "name": "julia-1.9"
  },
  "language_info": {
   "file_extension": ".jl",
   "mimetype": "application/julia",
   "name": "julia",
   "version": "1.9.2"
  }
 },
 "nbformat": 4,
 "nbformat_minor": 5
}
