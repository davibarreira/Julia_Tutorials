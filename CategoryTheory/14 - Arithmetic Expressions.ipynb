{
 "cells": [
  {
   "cell_type": "code",
   "execution_count": 1,
   "id": "4084363b-6fad-45df-af1c-22fc20efa3e4",
   "metadata": {},
   "outputs": [
    {
     "name": "stderr",
     "output_type": "stream",
     "text": [
      "\u001b[32m\u001b[1m  Activating\u001b[22m\u001b[39m project at `~/MEGA/EMAP/Julia_Tutorials/CategoryTheory`\n"
     ]
    }
   ],
   "source": [
    "using Pkg\n",
    "Pkg.activate(\".\")\n",
    "using MLStyle"
   ]
  },
  {
   "cell_type": "code",
   "execution_count": 2,
   "id": "984241b9-d8c8-4813-9eb5-ebcbfde8f9a6",
   "metadata": {},
   "outputs": [],
   "source": [
    "# # @data D{a} begin\n",
    "# #     Add(D{a},D{a})\n",
    "# #     Mult(D{a},D{a})\n",
    "# #     Zero()\n",
    "# #     Leaf(::Vector{a})\n",
    "# # end\n",
    "# struct Empty end\n",
    "# struct Add\n",
    "#     _1\n",
    "#     _2\n",
    "# end\n",
    "# struct Mult\n",
    "#     _1\n",
    "#     _2\n",
    "# end\n",
    "# struct Leaf{T}\n",
    "#     _1::T\n",
    "# end\n",
    "\n",
    "# struct D{a}\n",
    "    \n",
    "# end"
   ]
  },
  {
   "cell_type": "code",
   "execution_count": 3,
   "id": "6f1e3507-f054-44e7-b146-042685e1e66b",
   "metadata": {},
   "outputs": [],
   "source": [
    "struct Leaf{T}\n",
    "    _1::T\n",
    "end\n",
    "\n",
    "@data D{a} begin\n",
    "    Empty()\n",
    "    Factor(::Leaf{<:D}, ::Vector{a})\n",
    "    Mult(::Factor,::Union{D{a},Empty})\n",
    "    Add(::Mult,::Union{D{a},Empty})\n",
    "end"
   ]
  },
  {
   "cell_type": "code",
   "execution_count": 16,
   "id": "ae340799-7913-4762-b9fa-1922fdaef568",
   "metadata": {},
   "outputs": [
    {
     "data": {
      "text/plain": [
       "Factor{Int64}(Leaf{Empty{String}}(Empty{String}()), [10])"
      ]
     },
     "execution_count": 16,
     "metadata": {},
     "output_type": "execute_result"
    }
   ],
   "source": []
  },
  {
   "cell_type": "code",
   "execution_count": 12,
   "id": "0f99fc9b-4238-474b-bbc9-d5af2470adbd",
   "metadata": {},
   "outputs": [
    {
     "data": {
      "text/plain": [
       "Factor{Int64}(Leaf{Add{Int64}}(Add{Int64}(Mult{Int64}(Factor{Int64}(Leaf{Empty{Int64}}(Empty{Int64}()), [0]), Factor{Int64}(Leaf{Empty{Int64}}(Empty{Int64}()), [0])), Mult{Int64}(Factor{Int64}(Leaf{Empty{Int64}}(Empty{Int64}()), [0]), Empty{Int64}()))), [0])"
      ]
     },
     "execution_count": 12,
     "metadata": {},
     "output_type": "execute_result"
    }
   ],
   "source": [
    "ϵ = Empty{Int}()\n",
    "factor = Factor(Leaf(Empty{Int}()), [0])\n",
    "m1 = Mult(factor,factor)\n",
    "m2 = Mult(factor,ϵ)\n",
    "\n",
    "Add(m1,ϵ)\n",
    "a = Add(m1,m2)\n",
    "factor = Factor(Leaf(a) , [0])"
   ]
  }
 ],
 "metadata": {
  "kernelspec": {
   "display_name": "Julia 1.9.1",
   "language": "julia",
   "name": "julia-1.9"
  },
  "language_info": {
   "file_extension": ".jl",
   "mimetype": "application/julia",
   "name": "julia",
   "version": "1.9.1"
  }
 },
 "nbformat": 4,
 "nbformat_minor": 5
}
