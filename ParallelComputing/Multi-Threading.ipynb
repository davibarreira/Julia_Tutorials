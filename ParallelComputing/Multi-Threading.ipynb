{
 "cells": [
  {
   "cell_type": "markdown",
   "id": "b98ef915-6008-4559-931f-d86732b3c266",
   "metadata": {},
   "source": [
    "# Multi-Threading em Julia\n",
    "\n",
    "Para computação em paralelo, podemos dizer de forma simplificada que existem duas maneiras de fazer. Um é\n",
    "utilizando threads, onde rodamos o código em \"cores\" separados. A outra forma, que está ficando mais popular\n",
    "hoje em dia, é utilizando GPUs.\n",
    "\n",
    "Nesse notebook o foco é em threads.\n",
    "\n",
    "A primeira coisa a fazer é iniciar um REPL com `julia -t auto`. Isso irá fazer com que se detecte quantos\n",
    "cores tem na sua máquina, e inicia o REPL utilizando todas as cores possíveis.\n",
    "Caso queira rodar em um notebook jupyter, deve-se instalar um kernel com os threads habilitados.\n",
    "\n",
    "Para isso, entre num REPL de Julia e rode:\n",
    "```\n",
    "using IJulia\n",
    "installkernel(\"Julia (4 threads)\", env=Dict(\"JULIA_NUM_THREADS\"=>\"4\"))\n",
    "```\n",
    "\n",
    "Agora basta abrir o notebook com esse kernel.\n",
    "Uma vez que tiver seu notebook rodando, use\n",
    "o comando `Threads.nthreads()` para ver quantos threads estão sendo utilizados."
   ]
  },
  {
   "cell_type": "code",
   "execution_count": 6,
   "id": "4094e47b-0b86-4a5e-be45-929fb1fbd178",
   "metadata": {},
   "outputs": [],
   "source": [
    "using Base.Threads"
   ]
  },
  {
   "cell_type": "code",
   "execution_count": 7,
   "id": "98238dca-50e9-436c-9b58-de37e0433de6",
   "metadata": {},
   "outputs": [
    {
     "data": {
      "text/plain": [
       "4"
      ]
     },
     "execution_count": 7,
     "metadata": {},
     "output_type": "execute_result"
    }
   ],
   "source": [
    "nthreads()"
   ]
  },
  {
   "cell_type": "markdown",
   "id": "4b16066d-9995-4311-8439-6cd8d4392fc4",
   "metadata": {},
   "source": [
    "No meu notebook tenho 4 threads habilitados. Assim, posso rodar até 4 operações em paralelo. \n",
    "\n",
    "Abaixo temos a forma mais simples de rodar em paralelo."
   ]
  },
  {
   "cell_type": "code",
   "execution_count": 14,
   "id": "9a246d7d-5d79-4f09-bdee-7a001292b909",
   "metadata": {},
   "outputs": [
    {
     "name": "stdout",
     "output_type": "stream",
     "text": [
      "1 -> 1\n",
      "9 -> 4\n",
      "10 -> 4\n",
      "2 -> 1\n",
      "4 -> 2\n",
      "5 -> 2\n",
      "6 -> 2\n",
      "3 -> 1\n",
      "7 -> 3\n",
      "8 -> 3\n"
     ]
    }
   ],
   "source": [
    "@threads for i in 1:10\n",
    "    println(\"$i -> $(threadid())\")\n",
    "end"
   ]
  },
  {
   "cell_type": "markdown",
   "id": "74e40b64-94c7-4f24-aab1-41081c24cb0b",
   "metadata": {},
   "source": [
    "O exemplo acima pode ser muito útil. Mas note que não temos controle \n",
    "sobre a ordem do processo! Como assim? Olhe o exemplo abaixo:"
   ]
  },
  {
   "cell_type": "code",
   "execution_count": 18,
   "id": "3ce7b718-8434-4798-953a-7f419c1b069e",
   "metadata": {},
   "outputs": [
    {
     "name": "stdout",
     "output_type": "stream",
     "text": [
      "l = Any[1, 2, 3, 9, 10, 4, 5, 6, 7, 8]\n"
     ]
    },
    {
     "data": {
      "text/plain": [
       "10-element Vector{Any}:\n",
       "  1\n",
       "  2\n",
       "  3\n",
       "  9\n",
       " 10\n",
       "  4\n",
       "  5\n",
       "  6\n",
       "  7\n",
       "  8"
      ]
     },
     "execution_count": 18,
     "metadata": {},
     "output_type": "execute_result"
    }
   ],
   "source": [
    "l = []\n",
    "@threads for i in 1:10\n",
    "    push!(l,i)\n",
    "end\n",
    "@show l"
   ]
  },
  {
   "cell_type": "markdown",
   "id": "da1b1dd3-8cb7-49bd-98ec-fff130fa4d96",
   "metadata": {},
   "source": [
    "Os elementos são inseridos na lista sem uma ordem específica."
   ]
  },
  {
   "cell_type": "code",
   "execution_count": null,
   "id": "fe6a62c1-ec1a-4cf3-b606-59009335fb51",
   "metadata": {},
   "outputs": [],
   "source": []
  }
 ],
 "metadata": {
  "kernelspec": {
   "display_name": "Julia (4 threads) 1.7.1",
   "language": "julia",
   "name": "julia-(4-threads)-1.7"
  },
  "language_info": {
   "file_extension": ".jl",
   "mimetype": "application/julia",
   "name": "julia",
   "version": "1.7.1"
  }
 },
 "nbformat": 4,
 "nbformat_minor": 5
}
