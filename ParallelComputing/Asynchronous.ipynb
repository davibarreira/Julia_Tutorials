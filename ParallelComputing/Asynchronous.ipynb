{
 "cells": [
  {
   "cell_type": "markdown",
   "id": "a23fae0d-b2e9-471a-8801-eb2415d4075e",
   "metadata": {},
   "source": [
    "# Asyncrhonous Programming with Julia\n",
    "\n",
    "Usually, one thinks of running a code as\n",
    "running each line and code in succetion. Although this is the most common scenario,\n",
    "there are many situations where one wishes to write code and run commands depending\n",
    "on what task finishes first. This is what asynchronous programming is about.\n",
    "\n",
    "Consider for example, the case where you have to download large data files and do some\n",
    "calculations. Now, it might be the case that the calculation performed in each\n",
    "file is indepedent of the others. Thus, one might wish to start to run the calculations\n",
    "once a file is downloaded, instead of waiting for all of them to finish downloading.\n",
    "\n",
    "This can be thought as a type of parallel programming. Yet, it's a different idea\n",
    "compared to Multi-Threading. In this case, you are not actually running code in parallel,\n",
    "but, instead, you are better cordinating which line of code to run depending on\n",
    "some information outside of the program (e.g. the download of a file, the input of a user,\n",
    "the response of a webpage, and so on)."
   ]
  },
  {
   "cell_type": "markdown",
   "id": "924a676e-50b0-4dc6-803f-7f9d361a3a0f",
   "metadata": {},
   "source": [
    "### 1. Tasks\n",
    "\n",
    "The first thing we'll talk about are tasks. You can think of a task as a line of code\n",
    "to be ran, similar to a function. In Julia, the macro `@task` is a way of creating a task.\n",
    "The difference between running a task and running a function is that the function needs to finish\n",
    "all of it's commands before the code can move on. While the taks allow one to \"stop what you are doing\", and\n",
    "move to another taks.\n",
    "Look the example below:"
   ]
  },
  {
   "cell_type": "code",
   "execution_count": 73,
   "id": "61211ec4-6e41-4675-93d4-03e1927491ec",
   "metadata": {},
   "outputs": [
    {
     "data": {
      "text/plain": [
       "f (generic function with 1 method)"
      ]
     },
     "execution_count": 73,
     "metadata": {},
     "output_type": "execute_result"
    }
   ],
   "source": [
    "t = @task begin \n",
    "    println(\"starttask\")\n",
    "    sleep(5);\n",
    "    println(\"endtask\");\n",
    "end\n",
    "\n",
    "function f()\n",
    "    println(\"startfunction\")\n",
    "    sleep(5);\n",
    "    println(\"endfunction\")\n",
    "end"
   ]
  },
  {
   "cell_type": "markdown",
   "id": "9a7abf4c-180a-4106-86a7-8ffd565e7ae0",
   "metadata": {},
   "source": [
    "So how do we tell the computer to run the task? This can be done with the\n",
    "`schedule()` function. This function schedules the task to be ran in the queu\n",
    "of tasks. If there is nothing in the queue, the command runs immeadiatly."
   ]
  },
  {
   "cell_type": "code",
   "execution_count": 74,
   "id": "18cb5e4e-b7f2-485b-8e47-e5735b1a0829",
   "metadata": {},
   "outputs": [
    {
     "name": "stdout",
     "output_type": "stream",
     "text": [
      "starttask\n",
      "startfunction\n",
      "endtask\n",
      "endfunction\n"
     ]
    }
   ],
   "source": [
    "schedule(t)\n",
    "sleep(1)\n",
    "f()"
   ]
  },
  {
   "cell_type": "markdown",
   "id": "77faa786-0cb5-46d1-8700-c043bccc7b04",
   "metadata": {},
   "source": [
    "Here, we scheduled our task, which starts to run. Before it finishes, we run the function.\n",
    "We can see this by the intertwined outputs (e.g. `starttask` followed by `startfunction`).\n",
    "\n",
    "This next example shows the opposite behavior."
   ]
  },
  {
   "cell_type": "code",
   "execution_count": 75,
   "id": "eac49c97-0cea-4d6f-8fb7-8b54333ab391",
   "metadata": {},
   "outputs": [
    {
     "name": "stdout",
     "output_type": "stream",
     "text": [
      "startfunction\n",
      "endfunction\n",
      "runtask\n"
     ]
    },
    {
     "data": {
      "text/plain": [
       "Task (done) @0x00007f2d6f716120"
      ]
     },
     "execution_count": 75,
     "metadata": {},
     "output_type": "execute_result"
    }
   ],
   "source": [
    "t = @task begin \n",
    "    println(\"runtask\")\n",
    "end\n",
    "f()\n",
    "sleep(1)\n",
    "schedule(t)"
   ]
  }
 ],
 "metadata": {
  "kernelspec": {
   "display_name": "Julia (4 threads) 1.7.2",
   "language": "julia",
   "name": "julia-(4-threads)-1.7"
  },
  "language_info": {
   "file_extension": ".jl",
   "mimetype": "application/julia",
   "name": "julia",
   "version": "1.7.2"
  }
 },
 "nbformat": 4,
 "nbformat_minor": 5
}
