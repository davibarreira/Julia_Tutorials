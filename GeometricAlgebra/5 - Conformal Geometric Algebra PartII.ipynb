{
 "cells": [
  {
   "cell_type": "markdown",
   "id": "3911039a-c72f-43a7-aa52-8fbc642a9f04",
   "metadata": {},
   "source": [
    "# **Conformal Geoemtric Algebra - Part II**"
   ]
  },
  {
   "cell_type": "markdown",
   "id": "ca55eb6d-0d59-43fb-9cb8-5fa56cb78778",
   "metadata": {},
   "source": [
    "## 1. Rounds\n",
    "\n",
    "We have introduced points, flats and some transformations (e.g. translations, rotations). Let's\n",
    "now introduced some more geometric objects that can be easily represented in our Conformal Model.\n",
    "\n",
    "There are two ways to construct our geometric objects. We can do a direct construction\n",
    "or construct via the dual. The choice depends usually on the use case. For example,\n",
    "if you have three points that live in a circle, it's better to do a direct construction,\n",
    "which is just the outer product of these points. If otherwise you know the radius and the\n",
    "center, you can just use the dual construction.\n",
    "\n",
    "### 1.1 Dual Planes\n",
    "\n",
    "In the previous section, we have defined a general point as a null vector\n",
    "$p = \\alpha(n_o + \\mathbf p + \\frac{1}{2} \\mathbf p^2 n_\\infty)$.\n",
    "A vector without the $n_o$ component defines the dual plane, i.e.\n",
    "\n",
    "$$\n",
    "\\pi = \\mathbf n + \\delta n_\\infty.\n",
    "$$\n",
    "It can be shown that $\\pi$ is the dual of a plane normal to vector $\\mathbf n$\n",
    "and at a distance $\\delta$ from the origin $n_o$. To show this, note that\n",
    "\n",
    "$$\n",
    "x \\cdot \\pi = (n_o + \\mathbf x + \\frac{1}{2}\\mathbf x^2 n_\\infty) \\cdot\n",
    "(\\mathbf n + \\delta n_\\infty) = \\mathbf x \\cdot \\mathbf n - \\delta.\n",
    "$$\n",
    "This equation is zero exactly when $x$ lies in a plane with\n",
    "normal vector $\\mathbf n$ and at a distance $\\frac{\\delta}{||\\mathbf n||}$ from the origin."
   ]
  },
  {
   "cell_type": "markdown",
   "id": "8244b383-1a1f-4ea1-bd7c-327766168ae9",
   "metadata": {},
   "source": [
    "### 1.2 Spheres and Circles and Rounds\n",
    "\n",
    "For a radius $\\rho$ the dual sphere located at the origin is constructed by\n",
    "\n",
    "$$\n",
    "\\sigma = n_o - \\frac{1}{2}\\rho^2 n_\\infty.\n",
    "$$\n",
    "\n",
    "We also know that the dual of a plane is just a vector $\\pi = \\mathbf n$ where $\\mathbf n$ is normal to the plane\n",
    "it represents. The dual of a circle with radius $\\rho$ at the origin is given by the intersection\n",
    "of $\\sigma$ with $\\pi$. Note that the intersection of dual blades is given by the outer product,\n",
    "thus the dual circle at the origin is\n",
    "\n",
    "$$\n",
    "\\kappa = \\sigma \\wedge \\pi = (n_o - \\frac{1}{2}\\rho^2 n_\\infty) \\wedge \\mathbf n.\n",
    "$$\n",
    "\n",
    "A round is the collection of all objects constructed in this manner, by using\n",
    "\n",
    "$$\n",
    "(n_o - \\frac{1}{2}\\rho^2 n_\\infty) \\mathbf E_k,\n",
    "$$\n",
    "where $\\mathbf E_k$ is a $k$-blade.\n",
    "\n",
    "Note that, the translation of an euclidean $k$-blade is\n",
    "\n",
    "$$\n",
    "\\text{T}_\\mathbf p  [\\mathbf E_k] = (1 - \\mathbf p n_\\infty /2)\n",
    "\\mathbf E_k\n",
    "(1 - \\mathbf p n_\\infty /2) = - p \\rfloor (n_\\infty \\mathbf E_k).\n",
    "$$\n",
    "\n",
    "Hence, if we translate our round we have:\n",
    "\n",
    "$$\n",
    "\\text{T}_\\mathbf p [(n_o - \\frac{1}{2}\\rho^2 n_\\infty) \\mathbf E_k] = \n",
    "(c - \\frac{1}{2}\\rho^2 n_\\infty)(-c \\rfloor (n_\\infty \\mathbf E_k)).\n",
    "$$"
   ]
  },
  {
   "cell_type": "markdown",
   "id": "73ac6f6a-15f5-404f-a690-02087f6ce366",
   "metadata": {},
   "source": [
    "These were the dual constructions. The direct construction is as simple. For fours points $p, q, r, s$ we have:\n",
    "\n",
    "$$\n",
    "\\text{Sphere : } p \\wedge q \\wedge r \\wedge s \\\\\n",
    "\\text{Circle : } p \\wedge q \\wedge r.\n",
    "$$\n",
    "\n",
    "It's important to note that for a direct round e.g. $X = p \\wedge q \\wedge r \\wedge s$, the dual\n",
    "$X^*$ is not $(c - \\frac{1}{2} \\rho^2 n_\\infty)$, but\n",
    "$\\alpha(c - \\frac{1}{2} \\rho^2 n_\\infty)$, where $\\alpha$ is a scaling factor.\n",
    "We can compute this $\\alpha$ by\n",
    "\n",
    "$$\n",
    "\\alpha =  - n_\\infty \\rfloor (p \\wedge q \\wedge r \\wedge s).\n",
    "$$"
   ]
  },
  {
   "cell_type": "markdown",
   "id": "f0d14442-89bc-4ce9-97a1-3be9dd5df1cf",
   "metadata": {},
   "source": [
    "## 1.3 Tangents\n",
    "\n",
    "Consider a circle with intersection zero. This can be obtained by intersecting to spheres such that they only slightly \n",
    "touch each other. This cretes a tangent object:\n",
    "\n",
    "$$\n",
    "\\text{direct tangent at the origin: } n_o \\wedge \\mathbf A_k,\n",
    "$$\n",
    "where $\\mathbf A_k$ is the Euclidean $k$-blade.\n",
    "\n",
    "The general form of the direct tangent is *not* $p \\wedge \\mathbf A_k$. The correct form\n",
    "is obtained by applying the translation rotor to the tangent at the origin, and it gives:\n",
    "\n",
    "$$\n",
    "p \\wedge (-p \\rfloor \\widehat{\\mathbf A_k} n_\\infty).\n",
    "$$"
   ]
  },
  {
   "cell_type": "markdown",
   "id": "b0943eac-0ec0-4fc0-9222-a770184eef5a",
   "metadata": {},
   "source": [
    "## 1.4 Parameters from Objects\n",
    "\n",
    "As we have done for the other objects, we want to extract information from the blades already constructed, e.g.\n",
    "given a sphere $\\sigma$, what is the radius and postion?\n",
    "\n",
    "For a round $X$:\n",
    "$$\n",
    "\\begin{align}\n",
    "&\\text{location: } \\frac{X}{- n_\\infty \\rfloor X} \\quad \\text{or } -\\frac{1}{2} \\frac{X n_\\infty X}{(n_\\infty \\rfloor X)^2} \\\\\n",
    "&\\text{direction: } -(n_\\infty \\rfloor X) \\wedge n_\\infty \\\\\n",
    "&\\rho^2 : \\frac{X \\hat{X}}{(n_\\infty \\rfloor X)^2}.\n",
    "\\end{align}\n",
    "$$\n",
    "\n",
    "\n",
    "For a tangent $X$:\n",
    "    $$\n",
    "\\begin{align}\n",
    "&\\text{location: } \\frac{X}{- n_\\infty \\rfloor X} \\\\\n",
    "&\\text{direction: } -(n_\\infty \\rfloor X) \\wedge n_\\infty.\n",
    "\\end{align}\n",
    "$$"
   ]
  },
  {
   "cell_type": "code",
   "execution_count": 128,
   "id": "6ebf8c8f-536c-4d0a-aef2-be423e7a02b4",
   "metadata": {},
   "outputs": [
    {
     "name": "stderr",
     "output_type": "stream",
     "text": [
      "\u001b[32m\u001b[1m  Activating\u001b[22m\u001b[39m project at `~/MEGA/EMAP/Julia_Tutorials/GeometricAlgebra`\n"
     ]
    }
   ],
   "source": [
    "using Pkg\n",
    "Pkg.activate(\".\")\n",
    "using CliffordAlgebras\n",
    "import CliffordAlgebras: basegrade\n",
    "using LinearAlgebra: norm, normalize, dot\n",
    "using LaTeXStrings\n",
    "\n",
    "using Plots\n",
    "include(\"./auxiliary.jl\")\n",
    "plotly();"
   ]
  },
  {
   "cell_type": "code",
   "execution_count": 129,
   "id": "2f9d7340-5725-4d8b-a36e-cf92c4c30bff",
   "metadata": {},
   "outputs": [
    {
     "data": {
      "text/plain": [
       "point (generic function with 4 methods)"
      ]
     },
     "execution_count": 129,
     "metadata": {},
     "output_type": "execute_result"
    }
   ],
   "source": [
    "cl = CliffordAlgebra(:CGA3D)\n",
    "no  = (cl.e₊ + cl.e₋)/2\n",
    "n∞  = cl.e₋ - cl.e₊\n",
    "I = no ∧ cl.e1 ∧ cl.e2 ∧ cl.e3 ∧ n∞; # This is the \"correct\" pseudoscalar for the conformal model\n",
    "cdual(X::MultiVector) = X ⨼ inv(I)\n",
    "\n",
    "# Formula from Dorst\n",
    "F(x) = no + x + (x ⋅ x) * n∞ /2\n",
    "point(x=0,y=0,z=0)  = no + x*cl.e1 + y*cl.e2 + z*cl.e3 + (x^2 + y^2 + z^2) * n∞/2"
   ]
  },
  {
   "cell_type": "markdown",
   "id": "96f80c99-83a2-412e-9908-f3f692b920ad",
   "metadata": {},
   "source": [
    "### Defining Spheres\n",
    "\n",
    "Let's define the dual sphere and check if the points lay in it."
   ]
  },
  {
   "cell_type": "code",
   "execution_count": 136,
   "id": "10c606ea-94e3-488a-b42f-91326aa7922f",
   "metadata": {},
   "outputs": [
    {
     "name": "stdout",
     "output_type": "stream",
     "text": [
      "0.0\n",
      "r = √(scalar(-(σ⁺ * grin(σ⁺)) / (n∞ ⨼ σ⁺) ^ 2)) = 2.0\n",
      "0.0\n",
      "r = √(scalar((σ * grin(σ)) / (n∞ ⨼ σ) ^ 2)) = 2.0\n"
     ]
    }
   ],
   "source": [
    "ρ = 2\n",
    "σ⁺ = (no - ρ^2 * n∞ /2)\n",
    "\n",
    "θ = 0:0.5:2π\n",
    "xs = point.(ρ .* cos.(θ),ρ .* sin.(θ))\n",
    "println(round(mapreduce(x-> abs(scalar(x ⋅ σ⁺)), + , xs)))\n",
    "@show r = √scalar(-(σ⁺ * grin(σ⁺))/((n∞ ⨼ σ⁺)^2));\n",
    "\n",
    "\n",
    "a = point(2,0,0)\n",
    "b = point(0,2,0)\n",
    "c = point(0,0,2)\n",
    "d = point(-2,0,0)\n",
    "\n",
    "σ = a ∧ b ∧ c ∧ d\n",
    "\n",
    "println(round(mapreduce(x-> abs(scalar(x ∧ σ)), + , xs)))\n",
    "@show r = √scalar((σ * grin(σ))/((n∞ ⨼ σ)^2));"
   ]
  },
  {
   "cell_type": "markdown",
   "id": "959f8939-eb06-4ae3-9d3a-56c200014e98",
   "metadata": {},
   "source": [
    "Note that the dual and the dual of the direct constructions are not the same multivector."
   ]
  },
  {
   "cell_type": "code",
   "execution_count": 137,
   "id": "2e5eb061-51cc-4a24-b99e-558f5e17fbef",
   "metadata": {},
   "outputs": [
    {
     "name": "stdout",
     "output_type": "stream",
     "text": [
      "σ⁺ = +2.5×e₊-1.5×e₋ ∈ Cl(4, 1, 0)\n",
      "σ = -24.0×e1e2e3e₊-40.0×e1e2e₋e3 ∈ Cl(4, 1, 0)\n"
     ]
    }
   ],
   "source": [
    "@show σ⁺\n",
    "@show σ;"
   ]
  },
  {
   "cell_type": "markdown",
   "id": "5604cb37-a22a-4cf7-8dc8-36b33900d4bf",
   "metadata": {},
   "source": [
    "Let's compute $\\alpha$ and show how to make them equal."
   ]
  },
  {
   "cell_type": "code",
   "execution_count": 138,
   "id": "df6387a8-df2a-469f-b3d8-6544776a4476",
   "metadata": {},
   "outputs": [
    {
     "data": {
      "text/plain": [
       "true"
      ]
     },
     "execution_count": 138,
     "metadata": {},
     "output_type": "execute_result"
    }
   ],
   "source": [
    "α = -n∞ ⨼ cdual(a ∧ b ∧ c ∧ d)\n",
    "α*σ⁺ == cdual(σ)"
   ]
  },
  {
   "cell_type": "markdown",
   "id": "8f75f6fb-140e-4df6-b269-13de75d5771d",
   "metadata": {},
   "source": [
    "We've worked with centered spheres. Let's move the center."
   ]
  },
  {
   "cell_type": "code",
   "execution_count": 192,
   "id": "f8a8ec52-5762-41b9-bf35-55960ea7c0bc",
   "metadata": {},
   "outputs": [
    {
     "name": "stdout",
     "output_type": "stream",
     "text": [
      "r = √(scalar((σ * grin(σ)) / (n∞ ⨼ σ) ^ 2)) = 2.0\n",
      "r = √(scalar((σ * grin(σ)) / (n∞ ⨼ σ) ^ 2)) = 2.0\n",
      "0.0\n",
      "0.0\n",
      "α * σ⁺ == cdual(σ) = true\n",
      "(-(1 / 2) * (σ * n∞ * σ)) / (n∞ ⨼ σ) ^ 2 ≈ center = true\n"
     ]
    },
    {
     "data": {
      "text/plain": [
       "true"
      ]
     },
     "execution_count": 192,
     "metadata": {},
     "output_type": "execute_result"
    }
   ],
   "source": [
    "a = point(2,1,1)\n",
    "b = point(0,3,1)\n",
    "c = point(0,1,3)\n",
    "d = point(-2,1,1)\n",
    "\n",
    "σ = a ∧ b ∧ c ∧ d\n",
    "@show r = √scalar((σ * grin(σ))/((n∞ ⨼ σ)^2));\n",
    "\n",
    "center  = point(0,1,1)\n",
    "\n",
    "σ⁺ = (center - ρ^2 * n∞/2)\n",
    "@show r = √scalar((σ * grin(σ))/((n∞ ⨼ σ)^2));\n",
    "θ = 0:0.5:2π\n",
    "\n",
    "xs = point.(ρ .* cos.(θ),ρ .* sin.(θ) .+ 1, 1)\n",
    "\n",
    "println(round(mapreduce(x-> abs(scalar(x ∧ σ)), + , xs)))\n",
    "println(round(mapreduce(x-> abs(scalar(x ⋅ σ⁺)), + , xs)))\n",
    "\n",
    "α = -n∞ ⨼ cdual(σ)\n",
    "@show α*σ⁺ == cdual(σ)\n",
    "\n",
    "@show -(1/2)*(σ * n∞ * σ)/((n∞ ⨼ σ)^2) ≈ center\n",
    "getblades(σ / (-n∞ ⨼ σ)) ≈ 1cl.e2 + 1cl.e3"
   ]
  },
  {
   "cell_type": "markdown",
   "id": "9d2f1e23-3cfa-4fbf-a130-c35ffe4aa161",
   "metadata": {},
   "source": [
    "Note that the first (and longer) formula to get the center returns an actual point in the conformal model. The second\n",
    "formula requires that we extract the 1-grades."
   ]
  },
  {
   "cell_type": "markdown",
   "id": "dcf2658d-6e4f-4694-831a-eb5c13698bb3",
   "metadata": {},
   "source": [
    "## Tangents"
   ]
  },
  {
   "cell_type": "code",
   "execution_count": 193,
   "id": "7f420d72-1a40-4edf-8f7b-0a3cdc5da60a",
   "metadata": {},
   "outputs": [
    {
     "data": {
      "text/plain": [
       "true"
      ]
     },
     "execution_count": 193,
     "metadata": {},
     "output_type": "execute_result"
    }
   ],
   "source": [
    "n = cl.e1 - cl.e2\n",
    "t = no ∧ n\n",
    "\n",
    "t /(-n∞ ⨼ t) ≈ no"
   ]
  }
 ],
 "metadata": {
  "kernelspec": {
   "display_name": "Julia 1.8.2",
   "language": "julia",
   "name": "julia-1.8"
  },
  "language_info": {
   "file_extension": ".jl",
   "mimetype": "application/julia",
   "name": "julia",
   "version": "1.8.2"
  }
 },
 "nbformat": 4,
 "nbformat_minor": 5
}
