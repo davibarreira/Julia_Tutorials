{
 "cells": [
  {
   "cell_type": "markdown",
   "id": "3911039a-c72f-43a7-aa52-8fbc642a9f04",
   "metadata": {},
   "source": [
    "# **Conformal Geoemtric Algebra - Part II**"
   ]
  },
  {
   "cell_type": "markdown",
   "id": "ca55eb6d-0d59-43fb-9cb8-5fa56cb78778",
   "metadata": {},
   "source": [
    "## 1. Rounds\n",
    "\n",
    "We have introduced points, flats and some transformations (e.g. translations, rotations). Let's\n",
    "now introduced some more geometric objects that can be easily represented in our Conformal Model.\n",
    "\n",
    "There are two ways to construct our geometric objects. We can do a direct construction\n",
    "or construct via the dual. The choice depends usually on the use case. For example,\n",
    "if you have three points that live in a circle, it's better to do a direct construction,\n",
    "which is just the outer product of these points. If otherwise you know the radius and the\n",
    "center, you can just use the dual construction.\n",
    "\n",
    "### 1.1 Dual Planes\n",
    "\n",
    "In the previous section, we have defined a general point as a null vector\n",
    "$p = \\alpha(n_o + \\mathbf p + \\frac{1}{2} \\mathbf p^2 n_\\infty)$.\n",
    "A vector without the $n_o$ component defines the dual plane, i.e.\n",
    "\n",
    "$$\n",
    "\\pi = \\mathbf n + \\delta n_\\infty.\n",
    "$$\n",
    "It can be shown that $\\pi$ is the dual of a plane normal to vector $\\mathbf n$\n",
    "and at a distance $\\delta$ from the origin $n_o$. To show this, note that\n",
    "\n",
    "$$\n",
    "x \\cdot \\pi = (n_o + \\mathbf x + \\frac{1}{2}\\mathbf x^2 n_\\infty) \\cdot\n",
    "(\\mathbf n + \\delta n_\\infty) = \\mathbf x \\cdot \\mathbf n - \\delta.\n",
    "$$\n",
    "This equation is zero exactly when $x$ lies in a plane with\n",
    "normal vector $\\mathbf n$ and at a distance $\\frac{\\delta}{||\\mathbf n||}$ from the origin."
   ]
  },
  {
   "cell_type": "markdown",
   "id": "8244b383-1a1f-4ea1-bd7c-327766168ae9",
   "metadata": {},
   "source": [
    "### 1.2 Spheres and Circles and Rounds\n",
    "\n",
    "For a radius $\\rho$ the dual sphere located at the origin is constructed by\n",
    "\n",
    "$$\n",
    "\\sigma = n_o - \\frac{1}{2}\\rho^2 n_\\infty.\n",
    "$$\n",
    "\n",
    "We also know that the dual of a plane is just a vector $\\pi = \\mathbf n$ where $\\mathbf n$ is normal to the plane\n",
    "it represents. The dual of a circle with radius $\\rho$ at the origin is given by the intersection\n",
    "of $\\sigma$ with $\\pi$. Note that the intersection of dual blades is given by the outer product,\n",
    "thus the dual circle at the origin is\n",
    "\n",
    "$$\n",
    "\\kappa = \\sigma \\wedge \\pi = (n_o - \\frac{1}{2}\\rho^2 n_\\infty) \\wedge \\mathbf n.\n",
    "$$\n",
    "\n",
    "A round is the collection of all objects constructed in this manner, by using\n",
    "\n",
    "$$\n",
    "(n_o - \\frac{1}{2}\\rho^2 n_\\infty) \\mathbf E_k,\n",
    "$$\n",
    "where $\\mathbf E_k$ is a $k$-blade.\n",
    "\n",
    "Note that, the translation of an euclidean $k$-blade is\n",
    "\n",
    "$$\n",
    "\\text{T}_\\mathbf p  [\\mathbf E_k] = (1 - \\mathbf p n_\\infty /2)\n",
    "\\mathbf E_k\n",
    "(1 - \\mathbf p n_\\infty /2) = - p \\rfloor (n_\\infty \\mathbf E_k).\n",
    "$$\n",
    "\n",
    "Hence, if we translate our round we have:\n",
    "\n",
    "$$\n",
    "\\text{T}_\\mathbf p [(n_o - \\frac{1}{2}\\rho^2 n_\\infty) \\mathbf E_k] = \n",
    "(c - \\frac{1}{2}\\rho^2 n_\\infty)(-c \\rfloor (n_\\infty \\mathbf E_k)).\n",
    "$$"
   ]
  },
  {
   "cell_type": "code",
   "execution_count": 6,
   "id": "6ebf8c8f-536c-4d0a-aef2-be423e7a02b4",
   "metadata": {},
   "outputs": [
    {
     "name": "stderr",
     "output_type": "stream",
     "text": [
      "\u001b[32m\u001b[1m  Activating\u001b[22m\u001b[39m project at `~/MEGA/EMAP/Julia_Tutorials/GeometricAlgebra`\n"
     ]
    }
   ],
   "source": [
    "using Pkg\n",
    "Pkg.activate(\".\")\n",
    "using CliffordAlgebras\n",
    "import CliffordAlgebras: basegrade\n",
    "using LinearAlgebra: norm, normalize, dot\n",
    "using LaTeXStrings\n",
    "\n",
    "using Plots\n",
    "include(\"./auxiliary.jl\")\n",
    "plotly();"
   ]
  },
  {
   "cell_type": "code",
   "execution_count": 7,
   "id": "2f9d7340-5725-4d8b-a36e-cf92c4c30bff",
   "metadata": {},
   "outputs": [
    {
     "data": {
      "text/plain": [
       "point (generic function with 4 methods)"
      ]
     },
     "execution_count": 7,
     "metadata": {},
     "output_type": "execute_result"
    }
   ],
   "source": [
    "cl = CliffordAlgebra(:CGA3D)\n",
    "no  = (cl.e₊ + cl.e₋)/2\n",
    "n∞  = cl.e₋ - cl.e₊\n",
    "\n",
    "# Formula from Dorst\n",
    "F(x) = no + x + (x ⋅ x) * n∞ /2\n",
    "point(x=0,y=0,z=0)  = no + x*cl.e1 + y*cl.e2 + z*cl.e3 + (x^2 + y^2 + z^2) * n∞/2"
   ]
  },
  {
   "cell_type": "code",
   "execution_count": 8,
   "id": "acf019c7-57aa-48c4-b960-46505681efff",
   "metadata": {},
   "outputs": [
    {
     "data": {
      "text/plain": [
       "+0.5×e₊+0.5×e₋ ∈ Cl(4, 1, 0)"
      ]
     },
     "execution_count": 8,
     "metadata": {},
     "output_type": "execute_result"
    }
   ],
   "source": [
    "a = point(1,1,0)\n",
    "b = point(-1,-1,0)\n",
    "c = point(0,0,0)"
   ]
  },
  {
   "cell_type": "code",
   "execution_count": 9,
   "id": "87982f79-5831-4593-8a43-7514d1bb01ab",
   "metadata": {},
   "outputs": [
    {
     "data": {
      "text/plain": [
       "-2.0×e1e₊e₋+2.0×e2e₋e₊ ∈ Cl(4, 1, 0)"
      ]
     },
     "execution_count": 9,
     "metadata": {},
     "output_type": "execute_result"
    }
   ],
   "source": [
    "C = a ∧ b ∧ c"
   ]
  },
  {
   "cell_type": "code",
   "execution_count": 10,
   "id": "64545743-593a-4160-8d63-616dedc1e3b3",
   "metadata": {},
   "outputs": [
    {
     "data": {
      "text/plain": [
       "+2.0×e1e₊e₋-2.0×e2e₋e₊ ∈ Cl(4, 1, 0)"
      ]
     },
     "execution_count": 10,
     "metadata": {},
     "output_type": "execute_result"
    }
   ],
   "source": [
    "a ∧ b ∧ n∞"
   ]
  },
  {
   "cell_type": "code",
   "execution_count": 11,
   "id": "a8671e51-715a-4728-a75c-b1936595d1aa",
   "metadata": {},
   "outputs": [
    {
     "data": {
      "text/plain": [
       "0"
      ]
     },
     "execution_count": 11,
     "metadata": {},
     "output_type": "execute_result"
    }
   ],
   "source": [
    "point(2,2,0) ∧ C"
   ]
  },
  {
   "cell_type": "code",
   "execution_count": 14,
   "id": "d010379d-6981-4d50-b450-cea6b29f0209",
   "metadata": {},
   "outputs": [
    {
     "data": {
      "text/plain": [
       "-1.0 ∈ Cl(4, 1, 0)"
      ]
     },
     "execution_count": 14,
     "metadata": {},
     "output_type": "execute_result"
    }
   ],
   "source": [
    "c = point(1,1,0)\n",
    "\n",
    "c ⨼ n∞"
   ]
  }
 ],
 "metadata": {
  "kernelspec": {
   "display_name": "Julia 1.8.2",
   "language": "julia",
   "name": "julia-1.8"
  },
  "language_info": {
   "file_extension": ".jl",
   "mimetype": "application/julia",
   "name": "julia",
   "version": "1.8.2"
  }
 },
 "nbformat": 4,
 "nbformat_minor": 5
}
