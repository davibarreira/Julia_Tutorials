{
 "cells": [
  {
   "cell_type": "markdown",
   "id": "015d838d-b093-4a39-90cb-8b5de97d3d71",
   "metadata": {},
   "source": [
    "# **Conformal Geoemtric Algebra - Part II**"
   ]
  },
  {
   "cell_type": "markdown",
   "id": "fcf9b761-064c-4095-a92b-cd666d237148",
   "metadata": {},
   "source": [
    "## 1. Rounds\n",
    "\n",
    "We have introduced points, flats and some transformations (e.g. translations, rotations). Let's\n",
    "now introduced some more geometric objects that can be easily represented in our Conformal Model.\n",
    "\n",
    "There are two ways to construct our geometric objects. We can do a direct construction\n",
    "or construct via the dual. The choice depends usually on the use case. For example,\n",
    "if you have three points that live in a circle, it's better to do a direct construction,\n",
    "which is just the outer product of these points. If otherwise you know the radius and the\n",
    "center, you can just use the dual construction.\n",
    "\n",
    "### 1.1 Dual Planes\n",
    "\n",
    "In the previous section, we have defined a general point as a null vector\n",
    "$p = \\alpha(n_o + \\mathbf p + \\frac{1}{2} \\mathbf p^2 n_\\infty)$.\n",
    "A vector without the $n_o$ component defines the dual plane, i.e.\n",
    "\n",
    "$$\n",
    "\\pi = \\mathbf n + \\delta n_\\infty.\n",
    "$$\n",
    "It can be shown that $\\pi$ is the dual of a plane normal to vector $\\mathbf n$\n",
    "and at a distance $\\delta$ from the origin $n_o$. To show this, note that\n",
    "\n",
    "$$\n",
    "x \\cdot \\pi = (n_o + \\mathbf x + \\frac{1}{2}\\mathbf x^2 n_\\infty) \\cdot\n",
    "(\\mathbf n + \\delta n_\\infty) = \\mathbf x \\cdot \\mathbf n - \\delta.\n",
    "$$\n",
    "This equation is zero exactly when $x$ lies in a plane with\n",
    "normal vector $\\mathbf n$ and at a distance $\\frac{\\delta}{||\\mathbf n||}$ from the origin."
   ]
  },
  {
   "cell_type": "code",
   "execution_count": 48,
   "id": "6ebf8c8f-536c-4d0a-aef2-be423e7a02b4",
   "metadata": {
    "tags": []
   },
   "outputs": [
    {
     "name": "stderr",
     "output_type": "stream",
     "text": [
      "\u001b[32m\u001b[1m  Activating\u001b[22m\u001b[39m project at `~/MEGA/EMAP/Julia_Tutorials/GeometricAlgebra`\n"
     ]
    },
    {
     "data": {
      "text/plain": [
       "translate (generic function with 3 methods)"
      ]
     },
     "execution_count": 48,
     "metadata": {},
     "output_type": "execute_result"
    }
   ],
   "source": [
    "using Pkg\n",
    "Pkg.activate(\".\")\n",
    "using CliffordAlgebras\n",
    "import CliffordAlgebras: basegrade\n",
    "using LinearAlgebra: norm, normalize, dot\n",
    "using LaTeXStrings\n",
    "\n",
    "include(\"./auxiliary.jl\")"
   ]
  },
  {
   "cell_type": "code",
   "execution_count": 49,
   "id": "9d3c6a63-a59d-4b44-b46c-025c0f8af783",
   "metadata": {
    "tags": []
   },
   "outputs": [
    {
     "data": {
      "text/plain": [
       "-0.7071067811865475×e1+0.7071067811865475×e2-0.7071067811865478×e₊+0.7071067811865478×e₋ ∈ Cl(4, 1, 0)"
      ]
     },
     "execution_count": 49,
     "metadata": {},
     "output_type": "execute_result"
    }
   ],
   "source": [
    "p = point(0,1,0)\n",
    "q = point(2,3,0)\n",
    "r = point(0,1,1)\n",
    "\n",
    "Π = p ∧ q ∧ r ∧ n∞\n",
    "\n",
    "weight = norm(n∞ ⨼ (no ⨼ Π))\n",
    "A = n∞ ⨼ (no ⨼ Π)/weight\n",
    "n = edual(A)\n",
    "\n",
    "d_vec = getblades((no ⨼ Π) / Π)\n",
    "d = F(d_vec)\n",
    "\n",
    "δ = norm(d_vec)\n",
    "\n",
    "Π⁺ = n + δ * n∞"
   ]
  },
  {
   "cell_type": "code",
   "execution_count": 50,
   "id": "e9890276-6cb2-4503-a248-e4f44976bdbe",
   "metadata": {},
   "outputs": [
    {
     "name": "stdout",
     "output_type": "stream",
     "text": [
      "F(d) ∧ cdual(Π⁺) = -0.7071067811865478×e1e2e3e₊e₋ ∈ Cl(4, 1, 0)\n",
      "round(p ∧ cdual(Π⁺); digits = 4) = 0\n",
      "round(q ∧ cdual(Π⁺); digits = 4) = 0\n",
      "round(r ∧ cdual(Π⁺); digits = 4) = 0\n",
      "(d ∧ A) ∧ n∞ == cdual(Π⁺) = true\n"
     ]
    }
   ],
   "source": [
    "@show F(d) ∧ cdual(Π⁺)\n",
    "@show round(p ∧ cdual(Π⁺);digits=4);\n",
    "@show round(q ∧ cdual(Π⁺);digits=4);\n",
    "@show round(r ∧ cdual(Π⁺);digits=4);\n",
    "@show d ∧ A ∧ n∞ == cdual(Π⁺);"
   ]
  },
  {
   "cell_type": "markdown",
   "id": "77ad9304-210b-4450-9161-b83ac8614b92",
   "metadata": {},
   "source": [
    "### 1.2 Spheres and Circles and Rounds\n",
    "\n",
    "For a radius $\\rho$ the dual sphere located at the origin is constructed by\n",
    "\n",
    "$$\n",
    "\\sigma = n_o - \\frac{1}{2}\\rho^2 n_\\infty.\n",
    "$$\n",
    "\n",
    "We also know that the dual of a plane is just a vector $\\pi = \\mathbf n$ where $\\mathbf n$ is normal to the plane\n",
    "it represents. The dual of a circle with radius $\\rho$ at the origin is given by the intersection\n",
    "of $\\sigma$ with $\\pi$. Note that the intersection of dual blades is given by the outer product,\n",
    "thus the dual circle at the origin is\n",
    "\n",
    "$$\n",
    "\\text{Dual Circle at the origin: }\\kappa = \\sigma \\wedge \\pi = (n_o - \\frac{1}{2}\\rho^2 n_\\infty) \\wedge \\mathbf n.\n",
    "$$\n",
    "\n",
    "A round is the collection of all objects constructed in this manner, by using\n",
    "\n",
    "$$\n",
    "\\text{Dual Round at the origin: }(n_o - \\frac{1}{2}\\rho^2 n_\\infty) \\mathbf E_k^\\star (-1)^n,\n",
    "$$\n",
    "where $\\mathbf E_k$ is a $k$-blade.\n",
    "\n",
    "Note that, the translation of an euclidean $k$-blade is\n",
    "\n",
    "$$\n",
    "\\text{T}_\\mathbf p  [\\mathbf E_k] = (1 - \\mathbf p n_\\infty /2)\n",
    "\\mathbf E_k\n",
    "(1 - \\mathbf p n_\\infty /2) = - p \\rfloor (n_\\infty \\mathbf E_k).\n",
    "$$\n",
    "\n",
    "Hence, if we translate our round we have:\n",
    "\n",
    "$$\n",
    "\\text{T}_\\mathbf p [(n_o - \\frac{1}{2}\\rho^2 n_\\infty) \\mathbf E_k] = \n",
    "(c - \\frac{1}{2}\\rho^2 n_\\infty)(-c \\rfloor (n_\\infty \\mathbf E_k)).\n",
    "$$"
   ]
  },
  {
   "cell_type": "markdown",
   "id": "73ac6f6a-15f5-404f-a690-02087f6ce366",
   "metadata": {},
   "source": [
    "These were the dual constructions. The direct construction is as simple. For fours points $p, q, r, s$ we have:\n",
    "\n",
    "$$\n",
    "\\text{Sphere : } p \\wedge q \\wedge r \\wedge s \\\\\n",
    "\\text{Circle : } p \\wedge q \\wedge r.\n",
    "$$\n",
    "\n",
    "Another possible construction of the direct round is\n",
    "$$\n",
    "\\mathbb T_\\mathbf p \\left[\\right(n_o + \\frac{1}{2}\\rho n_\\infty \\left)\\mathbf E\\right] =\n",
    "\\left(c + \\frac{1}{2} \\rho^2 n_\\infty \\right)\n",
    "\\wedge\n",
    "\\left(\n",
    "- c \\rfloor (\\hat{\\mathbf E} n_\\infty).\n",
    "\\right)\n",
    "$$\n",
    "\n",
    "Therefore, we can compute the translated round by either applying the translation rotor or using the formula.\n",
    "\n",
    "It's important to note that for a direct **sphere** e.g. $\\Sigma = p \\wedge q \\wedge r \\wedge s$, the dual\n",
    "$\\Sigma^*$ is not $(c - \\frac{1}{2} \\rho^2 n_\\infty)$, but\n",
    "$\\alpha(c - \\frac{1}{2} \\rho^2 n_\\infty)$, where $\\alpha$ is a scaling factor.\n",
    "We can compute this $\\alpha$ by\n",
    "\n",
    "$$\n",
    "\\alpha =  - n_\\infty \\rfloor (p \\wedge q \\wedge r \\wedge s)^*.\n",
    "$$"
   ]
  },
  {
   "cell_type": "markdown",
   "id": "5f3779fa-bd8d-458d-baf8-50755cf75044",
   "metadata": {},
   "source": [
    "The direction of a round, i.e. $\\mathbf E$  can be computed by\n",
    "$$\n",
    "-(n_\\infty \\rfloor X) \\wedge n_\\infty.\n",
    "$$\n",
    "\n",
    "The location (center) is\n",
    "\n",
    "$$\n",
    "\\frac{X}{-n_\\infty  \\rfloor X} \\quad \\text{or} \\quad\n",
    "\\frac{-X n_\\infty X}{2(-n_\\infty  \\rfloor X)^2}.\n",
    "$$\n",
    "\n",
    "The radius is\n",
    "\n",
    "$$\n",
    "\\rho^2 = \\frac{X \\hat{X}}{(n_\\infty \\rfloor X)^2}.\n",
    "$$"
   ]
  },
  {
   "cell_type": "markdown",
   "id": "ee246eec-0055-4a45-9833-b0caa9c6db8a",
   "metadata": {
    "tags": []
   },
   "source": [
    "### Defining Spheres\n",
    "\n",
    "Let's define the dual sphere and check if the points lay in it."
   ]
  },
  {
   "cell_type": "code",
   "execution_count": 73,
   "id": "10c606ea-94e3-488a-b42f-91326aa7922f",
   "metadata": {},
   "outputs": [
    {
     "name": "stdout",
     "output_type": "stream",
     "text": [
      "0.0\n",
      "r = √(scalar(-(σ⁺ * grin(σ⁺)) / (n∞ ⨼ σ⁺) ^ 2)) = 2.0\n",
      "0.0\n",
      "r = √(scalar((σ * grin(σ)) / (n∞ ⨼ σ) ^ 2)) = 2.0\n"
     ]
    }
   ],
   "source": [
    "ρ = 2\n",
    "σ⁺ = (no - ρ^2 * n∞ /2)\n",
    "\n",
    "θ = 0:0.5:2π\n",
    "xs = point.(ρ .* cos.(θ),ρ .* sin.(θ))\n",
    "println(round(mapreduce(x-> abs(scalar(x ⋅ σ⁺)), + , xs)))\n",
    "@show r = √scalar(-(σ⁺ * grin(σ⁺))/((n∞ ⨼ σ⁺)^2));\n",
    "\n",
    "\n",
    "a = point(2,0,0)\n",
    "b = point(0,2,0)\n",
    "c = point(0,0,2)\n",
    "d = point(-2,0,0)\n",
    "\n",
    "σ = a ∧ b ∧ c ∧ d\n",
    "\n",
    "println(round(mapreduce(x-> abs(scalar(x ∧ σ)), + , xs)))\n",
    "@show r = √scalar((σ * grin(σ))/((n∞ ⨼ σ)^2));"
   ]
  },
  {
   "cell_type": "markdown",
   "id": "b8505f70-7438-4a38-a1be-450358cea226",
   "metadata": {},
   "source": [
    "Note that the dual and the dual of the direct constructions are not the same multivector."
   ]
  },
  {
   "cell_type": "code",
   "execution_count": 74,
   "id": "2e5eb061-51cc-4a24-b99e-558f5e17fbef",
   "metadata": {},
   "outputs": [
    {
     "name": "stdout",
     "output_type": "stream",
     "text": [
      "σ⁺ = +2.5×e₊-1.5×e₋ ∈ Cl(4, 1, 0)\n",
      "σ = -24.0×e1e2e3e₊-40.0×e1e2e₋e3 ∈ Cl(4, 1, 0)\n"
     ]
    }
   ],
   "source": [
    "@show σ⁺\n",
    "@show σ;"
   ]
  },
  {
   "cell_type": "markdown",
   "id": "c10ae45c-311e-46eb-bfff-6bf23434e185",
   "metadata": {},
   "source": [
    "Let's compute $\\alpha$ and show how to make them equal."
   ]
  },
  {
   "cell_type": "code",
   "execution_count": 75,
   "id": "df6387a8-df2a-469f-b3d8-6544776a4476",
   "metadata": {},
   "outputs": [
    {
     "name": "stdout",
     "output_type": "stream",
     "text": [
      "α * σ⁺ == cdual(σ) = true\n",
      "-α * cdual(σ⁺) ≈ σ = true\n"
     ]
    }
   ],
   "source": [
    "α = -n∞ ⨼ cdual(a ∧ b ∧ c ∧ d)\n",
    "@show α*σ⁺ == cdual(σ)\n",
    "@show -α*cdual(σ⁺) ≈ σ;"
   ]
  },
  {
   "cell_type": "markdown",
   "id": "ab27aad2-efd6-4c5f-af87-858701a57c99",
   "metadata": {},
   "source": [
    "We've worked with centered spheres. Let's move the center."
   ]
  },
  {
   "cell_type": "code",
   "execution_count": 76,
   "id": "ae39713c-1ab1-4f06-a35d-86b0f21e3762",
   "metadata": {},
   "outputs": [
    {
     "name": "stdout",
     "output_type": "stream",
     "text": [
      "r = √(scalar((σ * grin(σ)) / (n∞ ⨼ σ) ^ 2)) = 2.0\n",
      "r = √(scalar((σ * grin(σ)) / (n∞ ⨼ σ) ^ 2)) = 2.0\n",
      "0.0\n",
      "0.0\n",
      "α * σ⁺ == cdual(σ) = true\n",
      "(-(1 / 2) * (σ * n∞ * σ)) / (n∞ ⨼ σ) ^ 2 ≈ center = true\n"
     ]
    },
    {
     "data": {
      "text/plain": [
       "true"
      ]
     },
     "execution_count": 76,
     "metadata": {},
     "output_type": "execute_result"
    }
   ],
   "source": [
    "a = point(2,1,1)\n",
    "b = point(0,3,1)\n",
    "c = point(0,1,3)\n",
    "d = point(-2,1,1)\n",
    "\n",
    "σ = a ∧ b ∧ c ∧ d\n",
    "@show r = √scalar((σ * grin(σ))/((n∞ ⨼ σ)^2));\n",
    "\n",
    "center  = point(0,1,1)\n",
    "\n",
    "σ⁺ = (center - ρ^2 * n∞/2)\n",
    "@show r = √scalar((σ * grin(σ))/((n∞ ⨼ σ)^2));\n",
    "θ = 0:0.5:2π\n",
    "\n",
    "xs = point.(ρ .* cos.(θ),ρ .* sin.(θ) .+ 1, 1)\n",
    "\n",
    "println(round(mapreduce(x-> abs(scalar(x ∧ σ)), + , xs)))\n",
    "println(round(mapreduce(x-> abs(scalar(x ⋅ σ⁺)), + , xs)))\n",
    "\n",
    "α = -n∞ ⨼ cdual(σ)\n",
    "@show α*σ⁺ == cdual(σ)\n",
    "\n",
    "@show -(1/2)*(σ * n∞ * σ)/((n∞ ⨼ σ)^2) ≈ center\n",
    "getblades(σ / (-n∞ ⨼ σ)) ≈ 1cl.e2 + 1cl.e3"
   ]
  },
  {
   "cell_type": "markdown",
   "id": "ce4c6f53-a32c-4c06-bea9-4fbc3a551ab6",
   "metadata": {},
   "source": [
    "Note that the first (and longer) formula to get the center returns an actual point in the conformal model. The second\n",
    "formula requires that we extract the 1-grades."
   ]
  },
  {
   "cell_type": "markdown",
   "id": "94b11e13-02f6-4fa4-9031-d4cb290d245f",
   "metadata": {},
   "source": [
    "### Defining Circles\n",
    "\n",
    "Let's do a direct construction using 3 points."
   ]
  },
  {
   "cell_type": "code",
   "execution_count": 77,
   "id": "e9fe6c80-8b97-440d-9de5-67e34f2d37a3",
   "metadata": {},
   "outputs": [
    {
     "name": "stdout",
     "output_type": "stream",
     "text": [
      "0.0\n"
     ]
    }
   ],
   "source": [
    "p = point(1,0,0)\n",
    "q = point(0,1,0)\n",
    "r = point(-1,0,0)\n",
    "\n",
    "C = p ∧ q ∧ r\n",
    "\n",
    "θ = 0:0.5:2π\n",
    "xs = point.(1 .* cos.(θ),1 .* sin.(θ) .+ 1, 1)\n",
    "\n",
    "\n",
    "# Checking whether every point lies in the circle. For this, the sum has to be 0.0\n",
    "println(round(mapreduce(x-> abs(scalar(x ∧ C)), + , xs)))"
   ]
  },
  {
   "cell_type": "markdown",
   "id": "935e49d7-3c09-4505-8de9-b0c2ea94fe00",
   "metadata": {},
   "source": [
    "The direct construction worked. Let's now construct via the dual by providing a radius and a center point."
   ]
  },
  {
   "cell_type": "code",
   "execution_count": 78,
   "id": "60610081-67e2-4eb4-ab51-37e2a91c1272",
   "metadata": {},
   "outputs": [
    {
     "name": "stdout",
     "output_type": "stream",
     "text": [
      "0.0\n"
     ]
    }
   ],
   "source": [
    "c = point(0,0,0)\n",
    "ρ = 1\n",
    "n = cl.e3 # This is the normal to the 2D Eucldiean space\n",
    "\n",
    "C⁺ = (c - n∞/2) ∧ n\n",
    "C  = cdual(C⁺)\n",
    "\n",
    "# Checking whether every point lies in the circle. For this, the sum has to be 0.0\n",
    "println(round(mapreduce(x-> abs(scalar(x ∧ C)), + , xs)))"
   ]
  },
  {
   "cell_type": "markdown",
   "id": "4824bfdb-b2e5-4763-ba46-a62a7f97f76a",
   "metadata": {},
   "source": [
    "The dual worked, but we can check that the original circle\n",
    "$p \\wedge q \\wedge r \\neq ((c - \\rho^2 n_\\infty/2) \\wedge \\mathbf n)^*$.\n",
    "The reason for this is the weight of the blade.\n",
    "\n",
    "We have a formula to compute the weight of spheres, but not of circle.\n",
    "This can be done by first obtaining the direction of the round, which is\n",
    "$\\mathbf E n_\\infty$, where $\\mathbf E$ is the Euclidean plane.\n",
    "\n",
    "We have the formula\n",
    "to get this direction, but the weight is actually the norm of $\\mathbf E$ and\n",
    "not of $\\mathbf E n_\\infty$. This can be obtained using:\n",
    "\n",
    "$$\n",
    "\\sqrt{|q \\rfloor(\\mathbf E n_\\infty)|^2},\n",
    "$$\n",
    "where $q$ is a point of reference. We can change $q$ to $n_o$."
   ]
  },
  {
   "cell_type": "code",
   "execution_count": 79,
   "id": "45d10954-cca6-4614-bf2b-daccf3b12010",
   "metadata": {},
   "outputs": [
    {
     "data": {
      "text/plain": [
       "2.0"
      ]
     },
     "execution_count": 79,
     "metadata": {},
     "output_type": "execute_result"
    }
   ],
   "source": [
    "C₂ = p ∧ q ∧ r\n",
    "direction = (- (n∞ ⨼ C₂) ∧ n∞) # E n∞\n",
    "α = √norm_sqr(no ⨼ direction)"
   ]
  },
  {
   "cell_type": "code",
   "execution_count": 80,
   "id": "a41b3e9c-1a22-45d1-9d76-34ad7f8bf762",
   "metadata": {},
   "outputs": [
    {
     "data": {
      "text/plain": [
       "true"
      ]
     },
     "execution_count": 80,
     "metadata": {},
     "output_type": "execute_result"
    }
   ],
   "source": [
    "α * C == C₂"
   ]
  },
  {
   "cell_type": "markdown",
   "id": "51f4b2c7-8854-4dc7-9628-2929f57b3eaf",
   "metadata": {},
   "source": [
    "Our circle was centered. Let's now do an example with a circle not centered, and let's compute the direction, location and radius of the circle."
   ]
  },
  {
   "cell_type": "code",
   "execution_count": 83,
   "id": "78ad04fb-707f-4f43-afd6-40e50c26827b",
   "metadata": {},
   "outputs": [
    {
     "name": "stdout",
     "output_type": "stream",
     "text": [
      "ρ_sqr = scalar((C * grin(C)) / (n∞ ⨼ C) ^ 2) = 4.0\n",
      "(-(1 / 2) * (C * n∞ * C)) / (n∞ ⨼ C) ^ 2 ≈ no = true\n"
     ]
    }
   ],
   "source": [
    "c = point(1,1,0)\n",
    "ρ = 2\n",
    "n = cl.e3 # This is the normal to the 2D Eucldiean space\n",
    "E = edual(n / norm(n))\n",
    "\n",
    "C = (no + ρ^2 * n∞/2) * E\n",
    "\n",
    "\n",
    "@show ρ_sqr = scalar(C*grin(C)/(n∞ ⨼ C)^2);\n",
    "@show -(1/2)*(C * n∞ * C)/((n∞ ⨼ C)^2) ≈ no;"
   ]
  },
  {
   "cell_type": "markdown",
   "id": "7f874027-5994-4990-afa0-413f5cf2c889",
   "metadata": {},
   "source": [
    "Let's translate the original circle using both the formula and the translation rotor. "
   ]
  },
  {
   "cell_type": "code",
   "execution_count": 86,
   "id": "7a1e4d2d-e426-4f46-aea6-66d7abd72aab",
   "metadata": {},
   "outputs": [
    {
     "name": "stdout",
     "output_type": "stream",
     "text": [
      "ρ_sqr = scalar((Ct * grin(Ct)) / (n∞ ⨼ Ct) ^ 2) = 4.0\n",
      "(-(1 / 2) * (Ct * n∞ * Ct)) / (n∞ ⨼ Ct) ^ 2 == c = true\n"
     ]
    }
   ],
   "source": [
    "Ct = (c + ρ^2 * n∞/2) ∧ (-c ⨼ (grin(E)*n∞))\n",
    "\n",
    "@show ρ_sqr = scalar(Ct*grin(Ct)/(n∞ ⨼ Ct)^2);\n",
    "@show -(1/2)*(Ct * n∞ * Ct)/((n∞ ⨼ Ct)^2) == c;"
   ]
  },
  {
   "cell_type": "code",
   "execution_count": 88,
   "id": "e64623ef-5f92-4250-a17b-4976698919a7",
   "metadata": {},
   "outputs": [
    {
     "name": "stdout",
     "output_type": "stream",
     "text": [
      "ρ_sqr = scalar((Ct * grin(Ct)) / (n∞ ⨼ Ct) ^ 2) = 4.0\n",
      "(-(1 / 2) * (Ct * n∞ * Ct)) / (n∞ ⨼ Ct) ^ 2 == c = true\n"
     ]
    }
   ],
   "source": [
    "Ct = translate(C, point(1,1,0))\n",
    "\n",
    "@show ρ_sqr = scalar(Ct*grin(Ct)/(n∞ ⨼ Ct)^2);\n",
    "@show -(1/2)*(Ct * n∞ * Ct)/((n∞ ⨼ Ct)^2) == c;"
   ]
  },
  {
   "cell_type": "markdown",
   "id": "f0d14442-89bc-4ce9-97a1-3be9dd5df1cf",
   "metadata": {},
   "source": [
    "## 1.3 Tangents\n",
    "\n",
    "Consider a circle with intersection zero. This can be obtained by intersecting to spheres such that they only slightly \n",
    "touch each other. This cretes a tangent object:\n",
    "\n",
    "$$\n",
    "\\text{direct tangent at the origin: } n_o \\wedge \\mathbf A_k,\n",
    "$$\n",
    "where $\\mathbf A_k$ is the Euclidean $k$-blade.\n",
    "\n",
    "The general form of the direct tangent is *not* $p \\wedge \\mathbf A_k$. The correct form\n",
    "is obtained by applying the translation rotor to the tangent at the origin, and it gives:\n",
    "\n",
    "$$\n",
    "p \\wedge (-p \\rfloor \\widehat{\\mathbf A_k} n_\\infty).\n",
    "$$\n",
    "\n",
    "The Conformal Model also gives tangents at points of a flat without having to take a derivative.\n",
    "\n",
    "$$\n",
    "\\text{Tangent to }X \\text{ at point }p: \\ p\\rfloor \\hat{X}.\n",
    "$$"
   ]
  },
  {
   "cell_type": "code",
   "execution_count": null,
   "id": "7f420d72-1a40-4edf-8f7b-0a3cdc5da60a",
   "metadata": {},
   "outputs": [],
   "source": [
    "n = cl.e1 - cl.e2\n",
    "t = no ∧ n\n",
    "\n",
    "t /(-n∞ ⨼ t) ≈ no"
   ]
  },
  {
   "cell_type": "markdown",
   "id": "d21cd417-5338-45f1-94b4-ad93d5770463",
   "metadata": {},
   "source": [
    "Let's define a circle and take the tangent on some points."
   ]
  },
  {
   "cell_type": "code",
   "execution_count": null,
   "id": "3463a385-de75-4c63-9b88-04521753d76a",
   "metadata": {},
   "outputs": [],
   "source": [
    "c = cdual((point(0,0,0) - n∞/2) ∧ (cl.e1 ∧ cl.e2))\n",
    "\n",
    "p = point(0,1,0)\n",
    "\n",
    "p ∧ c"
   ]
  },
  {
   "cell_type": "code",
   "execution_count": null,
   "id": "18d90f32-4859-4cc1-97b9-c6958aa18454",
   "metadata": {},
   "outputs": [],
   "source": [
    "c = point(1,0,0) ∧ "
   ]
  },
  {
   "cell_type": "markdown",
   "id": "b0943eac-0ec0-4fc0-9222-a770184eef5a",
   "metadata": {},
   "source": [
    "## 1.4 Parameters from Objects\n",
    "\n",
    "As we have done for the other objects, we want to extract information from the blades already constructed, e.g.\n",
    "given a sphere $\\sigma$, what is the radius and postion?\n",
    "\n",
    "For a round $X$:\n",
    "$$\n",
    "\\begin{align}\n",
    "&\\text{location: } \\frac{X}{- n_\\infty \\rfloor X} \\quad \\text{or } -\\frac{1}{2} \\frac{X n_\\infty X}{(n_\\infty \\rfloor X)^2} \\\\\n",
    "&\\text{direction: } -(n_\\infty \\rfloor X) \\wedge n_\\infty \\\\\n",
    "&\\rho^2 : \\frac{X \\hat{X}}{(n_\\infty \\rfloor X)^2}.\n",
    "\\end{align}\n",
    "$$\n",
    "\n",
    "\n",
    "For a tangent $X$:\n",
    "    $$\n",
    "\\begin{align}\n",
    "&\\text{location: } \\frac{X}{- n_\\infty \\rfloor X} \\\\\n",
    "&\\text{direction: } -(n_\\infty \\rfloor X) \\wedge n_\\infty.\n",
    "\\end{align}\n",
    "$$"
   ]
  },
  {
   "cell_type": "markdown",
   "id": "d85d31a8-1dd4-4bf9-8bcc-d49c1cfa1abd",
   "metadata": {},
   "source": [
    "### 1.5 Carriers and Surround\n",
    "\n",
    "A *carrier* of an element is the smallest grade flat that contains it.\n",
    "Thus, the carrier of a flat is itself. For a round $\\Sigma$, the carrier is\n",
    "$\\Sigma \\wedge n_\\infty$, which, in 3D, would be the whole space.\n",
    "\n",
    "For a round $\\Sigma$, the surround of $\\Sigma$ is the smallest sphere containing it, and it's given by:\n",
    "$$\n",
    "\\frac{\\Sigma}{\\Sigma \\wedge n_\\infty}.\n",
    "$$\n",
    "\n",
    "The surround for the dual round $\\sigma$ is\n",
    "\n",
    "$$\n",
    "(-1)^k \\frac{\\hat{\\sigma}}{n_\\infty \\rfloor \\sigma},\n",
    "$$\n",
    "where $k$ is the grade of the carrier.\n",
    "\n",
    "Note that a round can be factorized by the surround and the carrier:\n",
    "\n",
    "$$\n",
    "\\frac{\\Sigma}{\\Sigma \\wedge n_\\infty}, \\quad \n",
    "\\frac{\\hat{\\sigma}}{n_\\infty \\rfloor \\sigma} (n_\\infty \\rfloor \\sigma).\n",
    "$$\n",
    "\n",
    "For a point pair $p \\wedge q$, the surround is\n",
    "$$\n",
    "\\frac{p \\wedge q}{p \\wedge q \\wedge n_\\infty} = -\\frac{1}{2}(p+q+(p \\cdot q) n_\\infty).\n",
    "$$"
   ]
  },
  {
   "attachments": {
    "f7a599ac-5db0-4633-9a2d-bdb29c744619.png": {
     "image/png": "[encoded data removed]"
    }
   },
   "cell_type": "markdown",
   "id": "cb84fd72-14c6-4c8f-bce0-ef4fd0be649e",
   "metadata": {},
   "source": [
    "### 1.6 Euclidean Projections\n",
    "\n",
    "The projection of a blade $X$ onto a blade $P$ is \n",
    "$$\n",
    "X \\mapsto (X \\rfloor P) / P.\n",
    "$$\n",
    "\n",
    "Note that this projection always returns a blade in our model. Hence, it does not always work as\n",
    "the \"usual projection. For example, the projection of a circle in a plane will result\n",
    "in another circle, and not in an ellipse. Check the image below from Dorst (Figure 15.10 from the book):\n",
    "\n",
    "![image.png](attachment:f7a599ac-5db0-4633-9a2d-bdb29c744619.png)\n",
    "\n",
    "In this image, the circle $C$ is projected onto plane $\\Pi$.\n",
    "\n",
    "Note that this projection can be done with elements such as tangents, lines, circles, spheres, and so on."
   ]
  }
 ],
 "metadata": {
  "kernelspec": {
   "display_name": "Julia 1.8.2",
   "language": "julia",
   "name": "julia-1.8"
  },
  "language_info": {
   "file_extension": ".jl",
   "mimetype": "application/julia",
   "name": "julia",
   "version": "1.8.2"
  }
 },
 "nbformat": 4,
 "nbformat_minor": 5
}
