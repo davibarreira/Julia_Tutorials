{
 "cells": [
  {
   "cell_type": "markdown",
   "id": "48784ddd-8bb6-4827-99e8-eb91ed6ddbd3",
   "metadata": {},
   "source": [
    "# **Conformal Geometric Algebra - Part I**\n",
    "\n",
    "Conformal geometry studies *conformal structures*, or, *conformal trasnformations*.\n",
    "Topology is concerned with preserving connectivity (e.g. number of holes), while\n",
    "conformal geometry is concerned with preserving angles.\n",
    "Note that \"conformity\" is a stronger notion than topology, in the sense\n",
    "that a conformal equivalence implies topological equivalence.\n",
    "\n",
    "When modelling geometric objects, we can deal with different levels of abstraction. For example,\n",
    "if we want to create a type \"Triangle\" that encapsulates all triangles, what is the \"correct\" equivalence\n",
    "class to use for such modelling? We know that, from the start, a triangle has three vertices with v1\n",
    "connected to v2, v2 connected to v3 and v1. From an topological perspective, this view is yet lacking. We don't\n",
    "know if the triangle is filled or not, hence, it could either have one hole or zero holes. For our case,\n",
    "let's suppose that a triangle is filled, i.e. it's a simpicial complex of $[v1,v2,v3,[v1,v2], [v2,v3],[v3,v1],[v1,v2,v3]]$.\n",
    "Once this is defined, then we've characterized triangles topologically. Yet, note that, topologically, a triangle is the same\n",
    "as a filled circle. Hence, the topology does not actually capture the \"shape\" of the triangle. This is done with\n",
    "conformal equivalence.\n",
    "\n",
    "Hence, besides the simplicial complex description (which is the algebraic topology), we need an algebraic conformal description.\n",
    "This will be done using Geometric Algebra with the Conformal Model.\n",
    "\n",
    "\n",
    "## 1. CGA Model\n",
    "\n",
    "Our goal is to model 3D space in a way that conformal transformations can be algebraically represented. Besides the algebraic\n",
    "representation, we want our transformations to be covariant, in the sense that applying one conformal transformation preserves\n",
    "the algebraic structure of our object. This can be achieved by using the Conformal Geometric Algebra Model (CGA).\n",
    "\n",
    "In this model, we actually represent the existing objects as living in a 5D space,\n",
    "i.e. we use two extra dimensions in order to better distinguish objects.\n",
    "For example, a vector in 3D space could be modeled as an array with three entries.\n",
    "In a similar manner, a point in space could also be modeled in the same way.\n",
    "The problem becomes that we cannot distinguish between a point and a vector.\n",
    "\n",
    "Therefore, the Conformal Model in an $\\mathbb R^{3+1,1}$ multivector space.\n",
    "In this model, we thus have the following base vectors $\\{e_1,e_2,e_3,e_-, e_+\\}$.\n",
    "The first three are the base vectors of the actual space, while the last two\n",
    "are special base vectors, where $e_-^2= -1$. Note that, in the Conformal Model, we actually use\n",
    "a slightly different base. Instead of $e_-$ and $e_+$ we use\n",
    "\n",
    "$$\n",
    "    n_o := \\frac{e_+ + e_-}{2} , \\quad n_\\infty = e_- - e_+,\n",
    "$$\n",
    "which is the standard used by Dorst and by Fernandes et.al.\n",
    "\n",
    "Lasenby uses:\n",
    "$$\n",
    "    n_\\infty := e_+ + e_- , \\quad n_o = e_+ - e_-.\n",
    "$$"
   ]
  },
  {
   "cell_type": "markdown",
   "id": "29798128-951e-4ac1-a80a-1d489ad12713",
   "metadata": {},
   "source": [
    "\n",
    "> **Warning**\n",
    ">\n",
    "> The notation for $n_o$ and $n_\\infty$ varies a lot. For example, Leo Dorst calls them\n",
    "> $o$ and $\\infty$, with $o = (e_+ + e_-)/2$ and $\\infty = e_- - e_+$. Lasenby uses \n",
    "> $n$ and $\\bar n$, with $n = e_+ + e_-$ and $\\bar n = e_+ - e_-$.\n",
    ">\n",
    "> Note that depending on the standard used, the formulas will be different."
   ]
  },
  {
   "cell_type": "code",
   "execution_count": 1,
   "id": "13fa70b8-c254-4acb-8320-5e4358231fed",
   "metadata": {},
   "outputs": [
    {
     "name": "stderr",
     "output_type": "stream",
     "text": [
      "\u001b[32m\u001b[1m  Activating\u001b[22m\u001b[39m project at `~/MEGA/EMAP/Julia_Tutorials/GeometricAlgebra`\n",
      "┌ Warning: For saving to png with the `Plotly` backend `PlotlyBase` and `PlotlyKaleido` need to be installed.\n",
      "│   err = ArgumentError(\"Package PlotlyBase not found in current path.\\n- Run `import Pkg; Pkg.add(\\\"PlotlyBase\\\")` to install the PlotlyBase package.\")\n",
      "└ @ Plots /home/davibarreira/.julia/packages/Plots/M4dfL/src/backends.jl:545\n"
     ]
    }
   ],
   "source": [
    "using Pkg\n",
    "Pkg.activate(\".\")\n",
    "using CliffordAlgebras\n",
    "import CliffordAlgebras: basegrade\n",
    "using LinearAlgebra: norm, normalize, dot\n",
    "using LaTeXStrings\n",
    "\n",
    "using Plots\n",
    "include(\"./auxiliary.jl\")\n",
    "plotly();"
   ]
  },
  {
   "cell_type": "code",
   "execution_count": 2,
   "id": "0c22b343-e217-47b5-acf4-0ee9f2d53462",
   "metadata": {},
   "outputs": [
    {
     "data": {
      "text/plain": [
       "(:𝟏, :e1, :e2, :e3, :e₊, :e₋, :e1e2, :e1e3, :e2e3, :e1e₊, :e2e₊, :e3e₊, :e1e₋, :e2e₋, :e3e₋, :e₊e₋, :e1e2e3, :e1e₊e2, :e1e3e₊, :e2e₊e3, :e1e2e₋, :e1e₋e3, :e2e3e₋, :e1e₊e₋, :e2e₋e₊, :e3e₊e₋, :e1e2e3e₊, :e1e2e₋e3, :e1e2e₊e₋, :e1e3e₋e₊, :e2e3e₊e₋, :e1e2e3e₊e₋)"
      ]
     },
     "execution_count": 2,
     "metadata": {},
     "output_type": "execute_result"
    }
   ],
   "source": [
    "cl = CliffordAlgebra(:CGA3D)\n",
    "\n",
    "e1 = cl.e1\n",
    "e2 = cl.e2\n",
    "e3 = cl.e3\n",
    "e₊ = cl.e₊\n",
    "e₋ = cl.e₋\n",
    "I  = pseudoscalar(cl)\n",
    "\n",
    "no  = (cl.e₊ + cl.e₋)/2\n",
    "n∞  = cl.e₋ - cl.e₊\n",
    "propertynames(cl)"
   ]
  },
  {
   "cell_type": "markdown",
   "id": "f3c94e21-fd1d-41bb-bf93-2c77d51bcdac",
   "metadata": {},
   "source": [
    "Note that `cl` is our algebra, and above we have the list of blade bases, which consists in a total\n",
    "of $2^5 = 32$ blades."
   ]
  },
  {
   "cell_type": "code",
   "execution_count": 3,
   "id": "56a8ae8b-882e-42d6-8b15-0ced10703842",
   "metadata": {},
   "outputs": [
    {
     "name": "stdout",
     "output_type": "stream",
     "text": [
      "cl.e₊ ⋅ cl.e₊ = +1 ∈ Cl(4, 1, 0)\n",
      "cl.e₋ ⋅ cl.e₋ = -1 ∈ Cl(4, 1, 0)\n"
     ]
    }
   ],
   "source": [
    "@show cl.e₊ ⋅ cl.e₊\n",
    "@show cl.e₋ ⋅ cl.e₋;"
   ]
  },
  {
   "cell_type": "markdown",
   "id": "b7d37cbb-ac61-4510-9cd3-7fb8e083ad20",
   "metadata": {},
   "source": [
    "## 2. Representing Some Basic Geometric Objects\n",
    "\n",
    "### 2.1 Points\n",
    "\n",
    "Now, one of the goals of using our CGA model is to be able to differentiate objects such as points and vectors.\n",
    "In this model, a point is the same as a *null vector*. Remember, the norm square of a vector\n",
    "is $\\langle v, v \\rangle$. Hence, a point is just a vector $v_p$ where $\\langle v_p, v_p \\rangle = 0$ in our CGA model.\n",
    "\n",
    "You might wonder if the fact that the norm is zero, if this does not imply that the vector is just the zero vector.\n",
    "Yet, since $\\langle e_-, e_-\\rangle = -1$, it turns out we can actually construct non-null vectors.\n",
    "\n",
    "Consider a vector $\\mathbf v \\in \\mathbb R^3$. We want to apply a function $F: \\mathbb R^3 \\to \\mathbb R^{4,1}$,\n",
    "such that $F(\\mathbf v) \\cdot F(\\mathbf v) = 0$, i.e. it's a null vector in the CGA model.\n",
    "\n",
    "Let $\\mathbf v = \\alpha_1 e_1 + \\alpha_2 e_2 + \\alpha_3 e_3$, therefore, our function to find null vectors in CGA is:\n",
    "$$\n",
    "F(\\mathbf v) = n_o + \\mathbf v  + \\frac{1}{2}(\\mathbf v \\cdot \\mathbf v) n_\\infty;\n",
    "$$\n",
    "\n",
    "A point $v = F(\\mathbf v) $in CGA will have the property that $v \\cdot v  = 0$ and\n",
    "$v \\cdot n_\\infty = -1.$\n",
    "\n",
    "Another interesting thing to note is that the inner product between two points will give the square of \n",
    "their Euclidean distance over 2, i.e.\n",
    "$$\n",
    "F(\\mathbf v) \\cdot F(\\mathbf u) = -\\frac{1}{2} (\\mathbf u - \\mathbf v)^2.\n",
    "$$\n",
    "\n",
    "Note,\n",
    "$$\n",
    "(\\mathbf u - \\mathbf v)^2 = (\\mathbf u - \\mathbf v) \\cdot (\\mathbf u - \\mathbf v) =||\\mathbf u - \\mathbf v||^2\n",
    "= d_E^2(\\mathbf u, \\mathbf v).\n",
    "$$"
   ]
  },
  {
   "cell_type": "markdown",
   "id": "74831219-968a-4c72-840b-cca0ddb494bb",
   "metadata": {},
   "source": [
    "We can also define points with a generalized weights, by simply writing:\n",
    "$$\n",
    "\\alpha p = \n",
    "\\alpha (no + \\mathbf p + \\frac{1}{2}(\\mathbf p \\cdot \\mathbf p) n_\\infty),\n",
    "$$\n",
    "where $\\alpha$ is the weight.\n",
    "\n",
    "In this case, for two points with weights $\\alpha$ and $\\beta$ we have\n",
    "$$\n",
    "p \\cdot q = \\alpha(no + \\mathbf p + \\frac{1}{2}(\\mathbf p \\cdot \\mathbf p) n_\\infty) \\cdot\n",
    "\\beta(no + \\mathbf q + \\frac{1}{2}(\\mathbf q \\cdot \\mathbf q) n_\\infty) = \n",
    "-\\frac{1}{2}\\alpha\\beta (\\mathbf q - \\mathbf p)^2.\n",
    "$$"
   ]
  },
  {
   "cell_type": "code",
   "execution_count": 4,
   "id": "e86ae63a-2908-4f11-88e0-7ebd5380e9d3",
   "metadata": {},
   "outputs": [
    {
     "data": {
      "text/plain": [
       "point (generic function with 4 methods)"
      ]
     },
     "execution_count": 4,
     "metadata": {},
     "output_type": "execute_result"
    }
   ],
   "source": [
    "# Formula from Dorst\n",
    "F(x) = no + x + (x ⋅ x) * n∞ /2\n",
    "point(x=0,y=0,z=0)  = no + x*cl.e1 + y*cl.e2 + z*cl.e3 + (x^2 + y^2 + z^2) * n∞/2\n",
    "\n",
    "# Point from vector, formula from Lasenby\n",
    "# F(x) = -no/2 + x + (x ⋅ x)*n∞/2"
   ]
  },
  {
   "cell_type": "code",
   "execution_count": 5,
   "id": "70b8b53f-5437-4e89-a26e-8c2418c7f432",
   "metadata": {},
   "outputs": [
    {
     "name": "stdout",
     "output_type": "stream",
     "text": [
      "p ⋅ n∞ = -1.0 ∈ Cl(4, 1, 0)\n",
      "norm(p) == 0 = true\n",
      "p == F(cl.e1 + 2 * cl.e2 + 3 * cl.e3) = true\n"
     ]
    }
   ],
   "source": [
    "p = point(1,2,3)\n",
    "@show p ⋅ n∞\n",
    "@show norm(p) == 0\n",
    "@show p == F(cl.e1 + 2cl.e2 + 3cl.e3);"
   ]
  },
  {
   "cell_type": "markdown",
   "id": "3eb25897-0bb5-4bdf-971a-9d6afe1c2ac3",
   "metadata": {},
   "source": [
    "Checking the point distance: "
   ]
  },
  {
   "cell_type": "code",
   "execution_count": 6,
   "id": "f50d13ec-9d53-429a-9795-256ae59352c3",
   "metadata": {},
   "outputs": [
    {
     "data": {
      "text/plain": [
       "true"
      ]
     },
     "execution_count": 6,
     "metadata": {},
     "output_type": "execute_result"
    }
   ],
   "source": [
    "u = [1,1]\n",
    "v = [3,2]\n",
    "pu = point(u...)\n",
    "pv = point(v...)\n",
    "\n",
    "-norm_sqr(u - v)/2  ≈ scalar(pu ⋅ pv)"
   ]
  },
  {
   "cell_type": "markdown",
   "id": "fb932342-2e92-4fc6-a316-73b480bb438e",
   "metadata": {},
   "source": [
    "## 2.2 Point Pair\n",
    "\n",
    "In the Conformal Model, a pair of points can be delt with by simply using the outer product, i.e. $p \\wedge q$.\n",
    "How do we know that this encodes the pair of points? Note that\n",
    "$X \\wedge (p \\wedge q)$ is zero only when $X = p$ or $X = q$.\n",
    "\n",
    "First, consider $p$ and $q$ to be **normalized**.\n",
    "\n",
    "Given a pair of points $T = p \\wedge q$, we might wish to get $p$ and $q$ back.\n",
    "This can be done by constructing a projection operator.\n",
    "\n",
    "First, define $G = \\frac{T}{||T||}$ where $||T|| = \\sqrt{T^2}$. Then\n",
    "$$\n",
    "P = \\frac{1+G}{2}.\n",
    "$$\n",
    "Note that $P^2 = P$.\n",
    "\n",
    "We can then compute $p$ and $q$ using (from Lasenby \"A Covariant Approach to Geometry using Geometric Algebra\")\n",
    "\n",
    "$$\n",
    "p = - \\tilde{P} (T \\cdot n_\\infty) P\\\\\n",
    "q = P (T \\cdot n_\\infty) \\tilde{P}.\n",
    "$$"
   ]
  },
  {
   "cell_type": "code",
   "execution_count": 7,
   "id": "9705455b-057f-4861-bdb7-d45e2bb45ab5",
   "metadata": {},
   "outputs": [
    {
     "name": "stdout",
     "output_type": "stream",
     "text": [
      "Prj * (T ⋅ n∞) * reverse(Prj) ≈ q = true\n",
      "-(reverse(Prj)) * (T ⋅ n∞) * Prj ≈ p = true\n"
     ]
    }
   ],
   "source": [
    "p = point(rand(),1,0)\n",
    "q = point(0,0,0)\n",
    "\n",
    "T = p ∧ q\n",
    "G = T/√scalar(T^2)\n",
    "Prj = (1+G)/2\n",
    "\n",
    "@show Prj * ((T) ⋅ n∞) * reverse(Prj) ≈ q\n",
    "@show -reverse(Prj) * ((T) ⋅ n∞) * Prj ≈ p;"
   ]
  },
  {
   "cell_type": "markdown",
   "id": "ed1fd187-9a64-4320-8bee-e995ac0f5a9b",
   "metadata": {},
   "source": [
    "### 2.4 Flats\n",
    "\n",
    "A $k$-flat in our Conformal Model is simply an element of the form:\n",
    "\n",
    "$$\n",
    "X = \\alpha(n_o \\wedge p_1 \\wedge ... \\wedge p_k \\wedge n_\\infty),\n",
    "$$\n",
    "where $p_i$ are points in our model. It can be shown that we can reformulate this flat such that\n",
    "$\\mathbf{A_k} = \\alpha \\mathbf{p_1}\\wedge...\\wedge \\mathbf{p_k}$\n",
    "\n",
    "$$\n",
    "X = n_o \\wedge \\mathbf{A_k} \\wedge n_\\infty.\n",
    "$$\n",
    "\n",
    "This flat $X$ is a general way of representing the subspace generated by the vectors\n",
    "$\\mathbf{p_1},...,\\mathbf{p_k}$ passing through the origin."
   ]
  },
  {
   "cell_type": "markdown",
   "id": "3893de60-35fc-4f5e-81d1-73cc58d04251",
   "metadata": {},
   "source": [
    "The origin of our model is $\\mathbf{n}_o$. If we want our subspace to pass through a point $\\mathbf p$, we can\n",
    "translate it using the transformation we are going to show below. After applying this transformation,\n",
    "it can be shown that a subspace passing thorugh $\\mathbf p$ is given simply by\n",
    "\n",
    "$$\n",
    "p \\wedge \\mathbf{A}_k \\wedge \\mathbf{n}_\\infty.\n",
    "$$"
   ]
  },
  {
   "cell_type": "code",
   "execution_count": 8,
   "id": "05236d5a-879f-4d6e-a6bc-2fb8d6ccf8b8",
   "metadata": {},
   "outputs": [
    {
     "name": "stdout",
     "output_type": "stream",
     "text": [
      "(no ∧ (pv ∧ qv)) ∧ n∞ == ((no ∧ p) ∧ q) ∧ n∞ = true\n"
     ]
    }
   ],
   "source": [
    "p = point(1,1,0)\n",
    "q = point(1,0,1)\n",
    "\n",
    "pv = getblades(p)\n",
    "qv = getblades(q)\n",
    "\n",
    "@show no ∧ (pv ∧ qv) ∧ n∞ == no ∧ p ∧ q ∧ n∞;"
   ]
  },
  {
   "cell_type": "markdown",
   "id": "1a6cc73b-ae4d-4ca9-92b4-5ed8d29ab8f7",
   "metadata": {},
   "source": [
    "Given a flat $X$, we might wish to compute some properties, such as the direction, the weight and\n",
    "the support point, i.e. the point in the flat closest to the origin. Let's do all this using a line as an example."
   ]
  },
  {
   "cell_type": "markdown",
   "id": "3d0f05ae-25a9-448a-a6e1-2226cb71b902",
   "metadata": {},
   "source": [
    "Using the idea of a flat, we can define a line. Just consider a vector $\\mathbf v$ and translate it to a point $p$. \n",
    "\n",
    "Another way to construct a line is by considering two points $p$ and $q$ and doing:\n",
    "$$\n",
    "l = p \\wedge q \\wedge n_\\infty = p \\wedge \\mathbf q \\wedge n_\\infty.\n",
    "$$"
   ]
  },
  {
   "cell_type": "code",
   "execution_count": 9,
   "id": "130a64df-ca0b-4700-9b0e-3819b3781531",
   "metadata": {},
   "outputs": [
    {
     "name": "stdout",
     "output_type": "stream",
     "text": [
      "l == (p ∧ q) ∧ n∞ = true\n"
     ]
    }
   ],
   "source": [
    "u = cl.e1 + 4cl.e2\n",
    "p = F(u)\n",
    "\n",
    "v = -3cl.e1 + cl.e2\n",
    "q = F(v + u)\n",
    "\n",
    "l = p ∧ v ∧ n∞\n",
    "\n",
    "@show l == p ∧ q ∧ n∞;"
   ]
  },
  {
   "cell_type": "markdown",
   "id": "8c34085f-3767-4539-a985-db7931de3794",
   "metadata": {},
   "source": [
    "Given a line $l = p \\wedge \\mathbf q \\wedge n_\\infty = p \\wedge q \\wedge n_\\infty$,\n",
    "how do we extract information such as the direction of the line? Note that the direction\n",
    "of the line is the vector $\\mathbf q$. We can get it by applying left contraction\n",
    "on $n_o$ followed by $n_\\infty$.\n",
    "\n",
    "$$\n",
    "\\mathbf q  = n_\\infty \\rfloor (n_o \\rfloor l).\n",
    "$$\n"
   ]
  },
  {
   "cell_type": "code",
   "execution_count": 10,
   "id": "dcbcaa35-a708-45db-bec0-cb30dd95fe0a",
   "metadata": {},
   "outputs": [
    {
     "data": {
      "text/plain": [
       "true"
      ]
     },
     "execution_count": 10,
     "metadata": {},
     "output_type": "execute_result"
    }
   ],
   "source": [
    "v == n∞ ⨼ (no ⨼ l)"
   ]
  },
  {
   "cell_type": "markdown",
   "id": "4b21476d-baed-40e7-8d77-5ad254821c72",
   "metadata": {},
   "source": [
    "Note that the weight of the line is already inside $\\mathbf q$. Hence, if we want to know\n",
    "the weight, we can get the norm of the direction vector."
   ]
  },
  {
   "cell_type": "code",
   "execution_count": 11,
   "id": "4b8806d4-621b-4a44-9635-6bdd3a8d84f9",
   "metadata": {},
   "outputs": [
    {
     "data": {
      "text/plain": [
       "+2.0×e1e₊e2+2.0×e1e2e₋+2.0×e1e₊e₋ ∈ Cl(4, 1, 0)"
      ]
     },
     "execution_count": 11,
     "metadata": {},
     "output_type": "execute_result"
    }
   ],
   "source": [
    "p = point(1,1,0)\n",
    "v = -1cl.e1\n",
    "α = 2\n",
    "l = α * p ∧ v ∧ n∞"
   ]
  },
  {
   "cell_type": "code",
   "execution_count": 12,
   "id": "e1c46288-eff6-4773-a435-54d2e86e8de2",
   "metadata": {},
   "outputs": [
    {
     "data": {
      "text/plain": [
       "-2.0×e1 ∈ Cl(4, 1, 0)"
      ]
     },
     "execution_count": 12,
     "metadata": {},
     "output_type": "execute_result"
    }
   ],
   "source": [
    "weight = norm(n∞ ⨼ (no ⨼ l))\n",
    "v = n∞ ⨼ (no ⨼ l)"
   ]
  },
  {
   "cell_type": "markdown",
   "id": "54f3715f-b529-483e-ab28-f1a7c076c3b5",
   "metadata": {
    "tags": []
   },
   "source": [
    "### 2.5 Flat Dual and Support Point\n",
    "\n",
    "To define the dual of a flat we need an operator star \"$\\star$\" which\n",
    "consists in the dual of the Euclidean part of a blade in the Conformal Model. For example,\n",
    "let $\\mathbb R^{3+1,1}$ be the Conformal Model over $\\mathbb R^3$. Thus,\n",
    "the dual of a multivector $X$ is simply $X I$ where $I = e_1 e_2 e_3 n_o n_\\infty$ is the pseudoscalar.\n",
    "Now, let $\\mathbf X$ be a blade. The dual Euclidean is:\n",
    "\n",
    "$$\n",
    "\\mathbf X^\\star = \\mathbf X \\rfloor \\mathbf I_3^{-1},\n",
    "$$\n",
    "where $\\mathbf I_3 = e_1 e_2 e_3$.\n",
    "\n",
    "Consider now a flat $l = n_o \\wedge \\mathbf A \\wedge n_\\infty$. The dual is\n",
    "\n",
    "$$\n",
    "l^* = (n_o \\wedge \\mathbf A \\wedge n_\\infty)^* = \n",
    "\\widehat{\\mathbf A ^ \\star}\n",
    "$$\n",
    "\n",
    "> **Warning**. Note that the pseudoscalar of the Conformal Model is $I = n_o \\wedge \\mathbf I \\wedge n_\\infty$. This formula\n",
    "is a bit different from what you get as default in the CliffordAlgebras.jl package. Check below.\n",
    "> This makes the formula `dual` implemented in the package problematic.\n",
    "> Hence, we favor the explicit formula $X \\rfloor I^{-1}$ instead."
   ]
  },
  {
   "cell_type": "code",
   "execution_count": 13,
   "id": "ccb4bea2-f4fa-4868-a7ac-ffca5e410ae5",
   "metadata": {},
   "outputs": [
    {
     "name": "stdout",
     "output_type": "stream",
     "text": [
      "(((no ∧ cl.e1) ∧ cl.e2) ∧ cl.e3) ∧ n∞ == pseudoscalar(cl) = false\n"
     ]
    }
   ],
   "source": [
    "@show no ∧ cl.e1 ∧ cl.e2 ∧ cl.e3 ∧ n∞ == pseudoscalar(cl);\n",
    "\n",
    "# Let's define Ic as the conformal pseudoscalar.\n",
    "Ic = no ∧ cl.e1 ∧ cl.e2 ∧ cl.e3 ∧ n∞;\n",
    "\n",
    "cdual(A) = A ⨼ inv(Ic);"
   ]
  },
  {
   "cell_type": "code",
   "execution_count": 14,
   "id": "55a4d154-6bb8-4962-9d0a-34dab7a52fd3",
   "metadata": {},
   "outputs": [
    {
     "name": "stdout",
     "output_type": "stream",
     "text": [
      "grin(A ⨼ inv(cl.e1e2e3)) == cdual(l) = true\n"
     ]
    }
   ],
   "source": [
    "p = point(1,1,0)\n",
    "q = point(1,0,1)\n",
    "A = getblades(q) - getblades(p)\n",
    "\n",
    "l = no ∧ A ∧ n∞\n",
    "\n",
    "@show grin(A ⨼ inv(cl.e1e2e3)) == cdual(l);"
   ]
  },
  {
   "cell_type": "markdown",
   "id": "d41cb933-0a93-460c-a992-965068c0deb0",
   "metadata": {},
   "source": [
    "The formula worked for a flat in the origin. For a flat in a point $p$ we use the fact that dualization is covariant\n",
    "under versor transformation. Since translation is a versos, then the translation of the dual is equal to the dual\n",
    "of the translation, hence:\n",
    "\n",
    "$$\n",
    "(T_\\mathbf p l \\tilde{T_\\mathbf p})^* = \n",
    "T_\\mathbf p l^* \\tilde{T_\\mathbf p} = \n",
    "T_\\mathbf p \\widehat{\\mathbf A^\\star}  \\tilde{T_\\mathbf p} = \n",
    "- p \\rfloor (\\mathbf A^\\star n_\\infty).\n",
    "$$"
   ]
  },
  {
   "cell_type": "code",
   "execution_count": 15,
   "id": "2e79f821-638f-4cd6-ab1e-07469a07fc71",
   "metadata": {},
   "outputs": [],
   "source": [
    "edual(A) = A ⨼ inv(cl.e1e2e3);"
   ]
  },
  {
   "cell_type": "code",
   "execution_count": 16,
   "id": "0b8081ea-ff4a-497e-82bd-50b5677a42e2",
   "metadata": {},
   "outputs": [
    {
     "name": "stdout",
     "output_type": "stream",
     "text": [
      "Tp * l * reverse(Tp) == lp = true\n",
      "Tp * cdual(l) * reverse(Tp) == cdual(lp) = true\n",
      "cdual(lp) == -p ⨼ (edual(A) * n∞) = true\n",
      "Tp * dual(l) * reverse(Tp) == dual(lp) = false\n"
     ]
    }
   ],
   "source": [
    "p = point(1,1,0)\n",
    "q = point(1,0,1)\n",
    "A = getblades(q) - getblades(p)\n",
    "\n",
    "l = no ∧ A ∧ n∞\n",
    "lp = p ∧ A ∧ n∞\n",
    "\n",
    "Tp = exp(-getblades(p)*n∞/2)\n",
    "\n",
    "@show Tp*l*reverse(Tp) == lp\n",
    "@show Tp*cdual(l)*reverse(Tp) == cdual(lp)\n",
    "\n",
    "# The formula\n",
    "@show cdual(lp) == -p ⨼ (edual(A)*n∞)\n",
    "\n",
    "# Note that the formula from the package does not satisfy\n",
    "# the covariance\n",
    "@show Tp * dual(l) * reverse(Tp) == dual(lp);"
   ]
  },
  {
   "cell_type": "markdown",
   "id": "03e1a56a-3f24-44fe-9217-f35191dd2702",
   "metadata": {},
   "source": [
    "Lastly, given a line, we might wish to get the support point, i.e. the point in the line that is closest\n",
    "to the origin. Let $X$ be our flat (e.g. $X=p \\wedge q \\wedge n_infty$):\n",
    "$$\n",
    "\\text{support point: } \\quad \\frac{n_o \\rfloor X}{X}\n",
    "$$\n",
    "\n",
    "This returns the closest point $d$ to $n_o$ that is in the flat $X$. We can alter the reference point\n",
    "from $n_o$ to any other reference point."
   ]
  },
  {
   "cell_type": "code",
   "execution_count": 17,
   "id": "7c0a4185-2b51-4515-9685-5f48739a2902",
   "metadata": {},
   "outputs": [
    {
     "name": "stdout",
     "output_type": "stream",
     "text": [
      "(no ⨼ l) / l ≈ no = true\n",
      "-n∞ ⨼ l == v ∧ n∞ = true\n"
     ]
    },
    {
     "data": {
      "text/plain": [
       "+2.0×e1e₊e2+2.0×e1e2e₋+0.5×e1e₊e₋+1.0×e2e₋e₊ ∈ Cl(4, 1, 0)"
      ]
     },
     "execution_count": 17,
     "metadata": {},
     "output_type": "execute_result"
    }
   ],
   "source": [
    "p = point(1,2,0)\n",
    "v = -0.5cl.e1 + cl.e2\n",
    "\n",
    "l = no ∧ v ∧ n∞\n",
    "@show (no ⨼ l) / l ≈ no\n",
    "\n",
    "@show -n∞ ⨼ l == v ∧ n∞\n",
    "\n",
    "l = p ∧ v ∧ n∞"
   ]
  },
  {
   "cell_type": "code",
   "execution_count": 18,
   "id": "a3dbe9f0-f809-4a23-948f-0433256ddab5",
   "metadata": {},
   "outputs": [
    {
     "data": {
      "application/vnd.plotly.v1+json": {
       "data": [
        {
         "colorbar": {
          "len": 0.9525371828521435,
          "title": {
           "text": ""
          },
          "x": 0.8471420239136773,
          "y": 0.513888888888889
         },
         "legendgroup": "y1",
         "line": {
          "color": "rgba(0, 154, 250, 1.000)",
          "dash": "solid",
          "shape": "linear",
          "width": 1
         },
         "mode": "lines",
         "name": "y1",
         "showlegend": true,
         "type": "scatter",
         "x": [
          -5,
          -4.934894539868079,
          -4.332900552210847,
          -3.9711272579625074,
          -3.665252541894895,
          -3.332986866446324,
          -3.026667303102479,
          -2.6982603572900676,
          -2.3177687044097848,
          -1.9796326259265238,
          -1.6831177563985333,
          -1.3598369556312035,
          -1.034634808314586,
          -0.6750822491706382,
          -0.3329770617010436,
          0.022732956742336892,
          0.3221650244456341,
          0.687737639909094,
          1.022625282972686,
          1.3319198649258508,
          1.6452256917667403,
          1.9963536900677594,
          2.314532343698557,
          2.6788249572945966,
          3.0161275214587797,
          3.3486683248718445,
          3.671537922786411,
          4.0025205458149795,
          4.365150434607734,
          4.89192982065465,
          5
         ],
         "xaxis": "x",
         "y": [
          14,
          13.869789079736158,
          12.665801104421694,
          11.942254515925015,
          11.33050508378979,
          10.665973732892649,
          10.053334606204958,
          9.396520714580134,
          8.63553740881957,
          7.959265251853047,
          7.366235512797067,
          6.719673911262407,
          6.069269616629172,
          5.350164498341276,
          4.665954123402087,
          3.9545340865153262,
          3.355669951108732,
          2.624524720181812,
          1.9547494340546279,
          1.3361602701482984,
          0.7095486164665195,
          0.0072926198644811535,
          -0.629064687397114,
          -1.3576499145891932,
          -2.0322550429175594,
          -2.697336649743689,
          -3.3430758455728222,
          -4.005041091629959,
          -4.730300869215467,
          -5.7838596413093,
          -6
         ],
         "yaxis": "y",
         "zmax": null,
         "zmin": null
        },
        {
         "colorbar": {
          "len": 0.9525371828521435,
          "title": {
           "text": ""
          },
          "x": 0.8471420239136773,
          "y": 0.513888888888889
         },
         "legendgroup": "",
         "line": {
          "color": "rgba(227, 111, 71, 1.000)",
          "dash": "solid",
          "shape": "linear",
          "width": 1
         },
         "mode": "lines",
         "name": "",
         "showlegend": false,
         "type": "scatter",
         "x": [
          1,
          0.5
         ],
         "xaxis": "x",
         "y": [
          2,
          3
         ],
         "yaxis": "y",
         "zmax": null,
         "zmin": null
        },
        {
         "colorbar": {
          "len": 0.9525371828521435,
          "title": {
           "text": ""
          },
          "x": 0.8471420239136773,
          "y": 0.513888888888889
         },
         "legendgroup": "y3",
         "marker": {
          "color": "rgba(62, 164, 78, 1.000)",
          "line": {
           "color": "rgba(0, 0, 0, 1)",
           "width": 1
          },
          "size": 8,
          "symbol": "circle"
         },
         "mode": "markers",
         "name": "y3",
         "showlegend": true,
         "type": "scatter",
         "x": [
          1
         ],
         "xaxis": "x",
         "y": [
          2
         ],
         "yaxis": "y",
         "zmax": null,
         "zmin": null
        },
        {
         "colorbar": {
          "len": 0.9525371828521435,
          "title": {
           "text": ""
          },
          "x": 0.8471420239136773,
          "y": 0.513888888888889
         },
         "legendgroup": "y4",
         "line": {
          "color": "rgba(195, 113, 210, 1.000)",
          "dash": "solid",
          "shape": "linear",
          "width": 1
         },
         "mode": "lines",
         "name": "y4",
         "showlegend": true,
         "type": "scatter",
         "x": [
          0,
          1.6
         ],
         "xaxis": "x",
         "y": [
          0,
          0.8
         ],
         "yaxis": "y",
         "zmax": null,
         "zmin": null
        }
       ],
       "layout": {
        "annotations": [],
        "height": 400,
        "legend": {
         "bgcolor": "rgba(255, 255, 255, 1.000)",
         "bordercolor": "rgba(0, 0, 0, 1)",
         "borderwidth": 1,
         "font": {
          "color": "rgba(0, 0, 0, 1)",
          "family": "sans-serif",
          "size": 11
         },
         "title": {
          "font": {
           "color": "rgba(0, 0, 0, 1)",
           "family": "sans-serif",
           "size": 15
          },
          "text": ""
         },
         "tracegroupgap": 0,
         "traceorder": "normal",
         "x": 1,
         "xanchor": "auto",
         "y": 1,
         "yanchor": "auto"
        },
        "margin": {
         "b": 20,
         "l": 0,
         "r": 0,
         "t": 20
        },
        "paper_bgcolor": "rgba(255, 255, 255, 1.000)",
        "plot_bgcolor": "rgba(255, 255, 255, 1.000)",
        "showlegend": true,
        "width": 600,
        "xaxis": {
         "anchor": "y",
         "domain": [
          0.21211723534558186,
          0.8471420239136773
         ],
         "gridcolor": "rgba(0, 0, 0, 0.1)",
         "gridwidth": 0.5,
         "linecolor": "rgba(0, 0, 0, 1)",
         "mirror": false,
         "range": [
          -5,
          5
         ],
         "showgrid": true,
         "showline": false,
         "showticklabels": true,
         "tickangle": 0,
         "tickcolor": "rgba(0, 0, 0, 0)",
         "tickfont": {
          "color": "rgba(0, 0, 0, 1)",
          "family": "sans-serif",
          "size": 11
         },
         "tickmode": "array",
         "ticks": "inside",
         "ticktext": [
          "−5.0",
          "−2.5",
          "0.0",
          "2.5",
          "5.0"
         ],
         "tickvals": [
          -5,
          -2.5,
          0,
          2.5,
          5
         ],
         "title": {
          "font": {
           "color": "rgba(0, 0, 0, 1)",
           "family": "sans-serif",
           "size": 15
          },
          "text": ""
         },
         "type": "linear",
         "visible": true,
         "zeroline": true,
         "zerolinecolor": "rgba(0, 0, 0, 1)"
        },
        "yaxis": {
         "anchor": "x",
         "domain": [
          0.03762029746281716,
          0.9901574803149606
         ],
         "gridcolor": "rgba(0, 0, 0, 0.1)",
         "gridwidth": 0.5,
         "linecolor": "rgba(0, 0, 0, 1)",
         "mirror": false,
         "range": [
          -5,
          5
         ],
         "showgrid": true,
         "showline": false,
         "showticklabels": true,
         "tickangle": 0,
         "tickcolor": "rgba(0, 0, 0, 0)",
         "tickfont": {
          "color": "rgba(0, 0, 0, 1)",
          "family": "sans-serif",
          "size": 11
         },
         "tickmode": "array",
         "ticks": "inside",
         "ticktext": [
          "−5.0",
          "−2.5",
          "0.0",
          "2.5",
          "5.0"
         ],
         "tickvals": [
          -5,
          -2.5,
          0,
          2.5,
          5
         ],
         "title": {
          "font": {
           "color": "rgba(0, 0, 0, 1)",
           "family": "sans-serif",
           "size": 15
          },
          "text": ""
         },
         "type": "linear",
         "visible": true,
         "zeroline": true,
         "zerolinecolor": "rgba(0, 0, 0, 1)"
        }
       }
      },
      "image/png": "[encoded data removed]",
      "text/html": [
       "    <div id=\"39cd67f2-a69f-45f5-a0dc-a70a4944d28d\" style=\"width:600px;height:400px;\"></div>\n",
       "    <script>\n",
       "        requirejs.config({\n",
       "        paths: {\n",
       "            Plotly: 'https://cdn.plot.ly/plotly-2.6.3.min'\n",
       "        }\n",
       "    });\n",
       "    require(['Plotly'], function (Plotly) {\n",
       "\n",
       "    Plotly.newPlot('39cd67f2-a69f-45f5-a0dc-a70a4944d28d', [\n",
       "    {\n",
       "        \"xaxis\": \"x\",\n",
       "        \"colorbar\": {\n",
       "            \"y\": 0.513888888888889,\n",
       "            \"title\": \"\",\n",
       "            \"len\": 0.9525371828521435,\n",
       "            \"x\": 0.8471420239136773\n",
       "        },\n",
       "        \"yaxis\": \"y\",\n",
       "        \"x\": [\n",
       "            -5.0,\n",
       "            -4.934894539868079,\n",
       "            -4.332900552210847,\n",
       "            -3.9711272579625074,\n",
       "            -3.665252541894895,\n",
       "            -3.332986866446324,\n",
       "            -3.026667303102479,\n",
       "            -2.6982603572900676,\n",
       "            -2.3177687044097848,\n",
       "            -1.9796326259265238,\n",
       "            -1.6831177563985333,\n",
       "            -1.3598369556312035,\n",
       "            -1.034634808314586,\n",
       "            -0.6750822491706382,\n",
       "            -0.3329770617010436,\n",
       "            0.022732956742336892,\n",
       "            0.3221650244456341,\n",
       "            0.687737639909094,\n",
       "            1.022625282972686,\n",
       "            1.3319198649258508,\n",
       "            1.6452256917667403,\n",
       "            1.9963536900677594,\n",
       "            2.314532343698557,\n",
       "            2.6788249572945966,\n",
       "            3.0161275214587797,\n",
       "            3.3486683248718445,\n",
       "            3.671537922786411,\n",
       "            4.0025205458149795,\n",
       "            4.365150434607734,\n",
       "            4.89192982065465,\n",
       "            5.0\n",
       "        ],\n",
       "        \"showlegend\": true,\n",
       "        \"mode\": \"lines\",\n",
       "        \"name\": \"y1\",\n",
       "        \"zmin\": null,\n",
       "        \"legendgroup\": \"y1\",\n",
       "        \"zmax\": null,\n",
       "        \"line\": {\n",
       "            \"color\": \"rgba(0, 154, 250, 1.000)\",\n",
       "            \"shape\": \"linear\",\n",
       "            \"dash\": \"solid\",\n",
       "            \"width\": 1\n",
       "        },\n",
       "        \"y\": [\n",
       "            14.0,\n",
       "            13.869789079736158,\n",
       "            12.665801104421694,\n",
       "            11.942254515925015,\n",
       "            11.33050508378979,\n",
       "            10.665973732892649,\n",
       "            10.053334606204958,\n",
       "            9.396520714580134,\n",
       "            8.63553740881957,\n",
       "            7.959265251853047,\n",
       "            7.366235512797067,\n",
       "            6.719673911262407,\n",
       "            6.069269616629172,\n",
       "            5.350164498341276,\n",
       "            4.665954123402087,\n",
       "            3.9545340865153262,\n",
       "            3.355669951108732,\n",
       "            2.624524720181812,\n",
       "            1.9547494340546279,\n",
       "            1.3361602701482984,\n",
       "            0.7095486164665195,\n",
       "            0.0072926198644811535,\n",
       "            -0.629064687397114,\n",
       "            -1.3576499145891932,\n",
       "            -2.0322550429175594,\n",
       "            -2.697336649743689,\n",
       "            -3.3430758455728222,\n",
       "            -4.005041091629959,\n",
       "            -4.730300869215467,\n",
       "            -5.7838596413093,\n",
       "            -6.0\n",
       "        ],\n",
       "        \"type\": \"scatter\"\n",
       "    },\n",
       "    {\n",
       "        \"xaxis\": \"x\",\n",
       "        \"colorbar\": {\n",
       "            \"y\": 0.513888888888889,\n",
       "            \"title\": \"\",\n",
       "            \"len\": 0.9525371828521435,\n",
       "            \"x\": 0.8471420239136773\n",
       "        },\n",
       "        \"yaxis\": \"y\",\n",
       "        \"x\": [\n",
       "            1.0,\n",
       "            0.5\n",
       "        ],\n",
       "        \"showlegend\": false,\n",
       "        \"mode\": \"lines\",\n",
       "        \"name\": \"\",\n",
       "        \"zmin\": null,\n",
       "        \"legendgroup\": \"\",\n",
       "        \"zmax\": null,\n",
       "        \"line\": {\n",
       "            \"color\": \"rgba(227, 111, 71, 1.000)\",\n",
       "            \"shape\": \"linear\",\n",
       "            \"dash\": \"solid\",\n",
       "            \"width\": 1\n",
       "        },\n",
       "        \"y\": [\n",
       "            2.0,\n",
       "            3.0\n",
       "        ],\n",
       "        \"type\": \"scatter\"\n",
       "    },\n",
       "    {\n",
       "        \"xaxis\": \"x\",\n",
       "        \"colorbar\": {\n",
       "            \"y\": 0.513888888888889,\n",
       "            \"title\": \"\",\n",
       "            \"len\": 0.9525371828521435,\n",
       "            \"x\": 0.8471420239136773\n",
       "        },\n",
       "        \"yaxis\": \"y\",\n",
       "        \"x\": [\n",
       "            1.0\n",
       "        ],\n",
       "        \"showlegend\": true,\n",
       "        \"mode\": \"markers\",\n",
       "        \"name\": \"y3\",\n",
       "        \"zmin\": null,\n",
       "        \"legendgroup\": \"y3\",\n",
       "        \"marker\": {\n",
       "            \"symbol\": \"circle\",\n",
       "            \"color\": \"rgba(62, 164, 78, 1.000)\",\n",
       "            \"line\": {\n",
       "                \"color\": \"rgba(0, 0, 0, 1.000)\",\n",
       "                \"width\": 1\n",
       "            },\n",
       "            \"size\": 8\n",
       "        },\n",
       "        \"zmax\": null,\n",
       "        \"y\": [\n",
       "            2.0\n",
       "        ],\n",
       "        \"type\": \"scatter\"\n",
       "    },\n",
       "    {\n",
       "        \"xaxis\": \"x\",\n",
       "        \"colorbar\": {\n",
       "            \"y\": 0.513888888888889,\n",
       "            \"title\": \"\",\n",
       "            \"len\": 0.9525371828521435,\n",
       "            \"x\": 0.8471420239136773\n",
       "        },\n",
       "        \"yaxis\": \"y\",\n",
       "        \"x\": [\n",
       "            0.0,\n",
       "            1.6\n",
       "        ],\n",
       "        \"showlegend\": true,\n",
       "        \"mode\": \"lines\",\n",
       "        \"name\": \"y4\",\n",
       "        \"zmin\": null,\n",
       "        \"legendgroup\": \"y4\",\n",
       "        \"zmax\": null,\n",
       "        \"line\": {\n",
       "            \"color\": \"rgba(195, 113, 210, 1.000)\",\n",
       "            \"shape\": \"linear\",\n",
       "            \"dash\": \"solid\",\n",
       "            \"width\": 1\n",
       "        },\n",
       "        \"y\": [\n",
       "            0.0,\n",
       "            0.8\n",
       "        ],\n",
       "        \"type\": \"scatter\"\n",
       "    }\n",
       "]\n",
       ", {\n",
       "    \"showlegend\": true,\n",
       "    \"xaxis\": {\n",
       "        \"showticklabels\": true,\n",
       "        \"gridwidth\": 0.5,\n",
       "        \"tickvals\": [\n",
       "            -5.0,\n",
       "            -2.5,\n",
       "            0.0,\n",
       "            2.5,\n",
       "            5.0\n",
       "        ],\n",
       "        \"range\": [\n",
       "            -5.0,\n",
       "            5.0\n",
       "        ],\n",
       "        \"domain\": [\n",
       "            0.21211723534558186,\n",
       "            0.8471420239136773\n",
       "        ],\n",
       "        \"mirror\": false,\n",
       "        \"tickangle\": 0,\n",
       "        \"showline\": false,\n",
       "        \"ticktext\": [\n",
       "            \"−5.0\",\n",
       "            \"−2.5\",\n",
       "            \"0.0\",\n",
       "            \"2.5\",\n",
       "            \"5.0\"\n",
       "        ],\n",
       "        \"zeroline\": true,\n",
       "        \"tickfont\": {\n",
       "            \"color\": \"rgba(0, 0, 0, 1.000)\",\n",
       "            \"family\": \"sans-serif\",\n",
       "            \"size\": 11\n",
       "        },\n",
       "        \"zerolinecolor\": \"rgba(0, 0, 0, 1.000)\",\n",
       "        \"anchor\": \"y\",\n",
       "        \"visible\": true,\n",
       "        \"ticks\": \"inside\",\n",
       "        \"tickmode\": \"array\",\n",
       "        \"linecolor\": \"rgba(0, 0, 0, 1.000)\",\n",
       "        \"showgrid\": true,\n",
       "        \"title\": \"\",\n",
       "        \"gridcolor\": \"rgba(0, 0, 0, 0.100)\",\n",
       "        \"titlefont\": {\n",
       "            \"color\": \"rgba(0, 0, 0, 1.000)\",\n",
       "            \"family\": \"sans-serif\",\n",
       "            \"size\": 15\n",
       "        },\n",
       "        \"tickcolor\": \"rgba(0, 0, 0, 0.000)\",\n",
       "        \"type\": \"-\"\n",
       "    },\n",
       "    \"paper_bgcolor\": \"rgba(255, 255, 255, 1.000)\",\n",
       "    \"annotations\": [],\n",
       "    \"height\": 400,\n",
       "    \"margin\": {\n",
       "        \"l\": 0,\n",
       "        \"b\": 20,\n",
       "        \"r\": 0,\n",
       "        \"t\": 20\n",
       "    },\n",
       "    \"plot_bgcolor\": \"rgba(255, 255, 255, 1.000)\",\n",
       "    \"yaxis\": {\n",
       "        \"showticklabels\": true,\n",
       "        \"gridwidth\": 0.5,\n",
       "        \"tickvals\": [\n",
       "            -5.0,\n",
       "            -2.5,\n",
       "            0.0,\n",
       "            2.5,\n",
       "            5.0\n",
       "        ],\n",
       "        \"range\": [\n",
       "            -5.0,\n",
       "            5.0\n",
       "        ],\n",
       "        \"domain\": [\n",
       "            0.03762029746281716,\n",
       "            0.9901574803149606\n",
       "        ],\n",
       "        \"mirror\": false,\n",
       "        \"tickangle\": 0,\n",
       "        \"showline\": false,\n",
       "        \"ticktext\": [\n",
       "            \"−5.0\",\n",
       "            \"−2.5\",\n",
       "            \"0.0\",\n",
       "            \"2.5\",\n",
       "            \"5.0\"\n",
       "        ],\n",
       "        \"zeroline\": true,\n",
       "        \"tickfont\": {\n",
       "            \"color\": \"rgba(0, 0, 0, 1.000)\",\n",
       "            \"family\": \"sans-serif\",\n",
       "            \"size\": 11\n",
       "        },\n",
       "        \"zerolinecolor\": \"rgba(0, 0, 0, 1.000)\",\n",
       "        \"anchor\": \"x\",\n",
       "        \"visible\": true,\n",
       "        \"ticks\": \"inside\",\n",
       "        \"tickmode\": \"array\",\n",
       "        \"linecolor\": \"rgba(0, 0, 0, 1.000)\",\n",
       "        \"showgrid\": true,\n",
       "        \"title\": \"\",\n",
       "        \"gridcolor\": \"rgba(0, 0, 0, 0.100)\",\n",
       "        \"titlefont\": {\n",
       "            \"color\": \"rgba(0, 0, 0, 1.000)\",\n",
       "            \"family\": \"sans-serif\",\n",
       "            \"size\": 15\n",
       "        },\n",
       "        \"tickcolor\": \"rgba(0, 0, 0, 0.000)\",\n",
       "        \"type\": \"-\"\n",
       "    },\n",
       "    \"legend\": {\n",
       "        \"yanchor\": \"auto\",\n",
       "        \"xanchor\": \"auto\",\n",
       "        \"bordercolor\": \"rgba(0, 0, 0, 1.000)\",\n",
       "        \"bgcolor\": \"rgba(255, 255, 255, 1.000)\",\n",
       "        \"borderwidth\": 1,\n",
       "        \"tracegroupgap\": 0,\n",
       "        \"y\": 1.0,\n",
       "        \"font\": {\n",
       "            \"color\": \"rgba(0, 0, 0, 1.000)\",\n",
       "            \"family\": \"sans-serif\",\n",
       "            \"size\": 11\n",
       "        },\n",
       "        \"title\": {\n",
       "            \"font\": {\n",
       "                \"color\": \"rgba(0, 0, 0, 1.000)\",\n",
       "                \"family\": \"sans-serif\",\n",
       "                \"size\": 15\n",
       "            },\n",
       "            \"text\": \"\"\n",
       "        },\n",
       "        \"traceorder\": \"normal\",\n",
       "        \"x\": 1.0\n",
       "    },\n",
       "    \"width\": 600\n",
       "}\n",
       ");\n",
       "    });\n",
       "    </script>\n"
      ]
     },
     "execution_count": 18,
     "metadata": {},
     "output_type": "execute_result"
    }
   ],
   "source": [
    "d = getblades((no ⨼ l) / l)\n",
    "\n",
    "α = 1/v.e1\n",
    "β = -(α * p.e1 - p.e2)\n",
    "f(x) = x*α + β\n",
    "plot(f, framestyle=:zerolines,)\n",
    "quiver!([p.e1],[p.e2], quiver=([v.e1],[v.e2]), aspect_ratio=1, xlims=(-5,5),ylims=(-5,5))\n",
    "scatter!([p.e1],[p.e2])\n",
    "plot!([0,d.e1],[0,d.e2])"
   ]
  },
  {
   "cell_type": "markdown",
   "id": "9bb3db72-4dc6-4f63-9397-c54a2ee3f64c",
   "metadata": {},
   "source": [
    "While a flat has a supporting point, e.g. $p$, the object $\\mathbf A \\wedge n_\\infty$\n",
    "is simply a direction."
   ]
  },
  {
   "cell_type": "markdown",
   "id": "711717a3-5bb3-4a42-8424-d0d70ef75221",
   "metadata": {},
   "source": [
    "## 3. Transformations in the Conformal Model\n",
    "\n",
    "### 3.1 Rotations\n",
    "\n",
    "The first transformation we deal with are rotations. In the conformal model, a rotation is a rotor.\n",
    "Remember, a rotor is a transformation\n",
    "with unit norm constructed via the product of an even number of invertible vectors. The application\n",
    "of a rotor in the Euclidean Geometry is done via a sandwiching, e.g.\n",
    "$R x \\tilde{R}$.\n",
    "\n",
    "One can show that $R x n_\\infty \\tilde{R} = R x \\tilde{R} n_\\infty$\n",
    "and $R x n_0 \\tilde{R} = R x \\tilde{R} n_0$.\n",
    "\n",
    "Using this fact, we can show that:\n",
    "\n",
    "$$\n",
    "R F(\\mathbf x) \\tilde{R} = F(R \\mathbf x \\tilde{R}),\n",
    "$$\n",
    "\n",
    "which means that a rotor that acts as a rotation in the Euclidean space also does the same in our Conformal Model.\n",
    "\n",
    "The rotation rotor is simply the geometric product of two unit vector. The angle between them\n",
    "is $\\phi/2$, and by sandwiching the point in the Conformal Model, we get a rotation\n",
    "of $\\phi$ the direction normal to the subspace formed by the wedge product of the two vectors.\n",
    "\n",
    "For example, consider $\\mathbb R^{3+1,1}$. For a rotor $R = \\mathbf e_1 \\mathbf e_2$, since the angle\n",
    "between the base vectors is $\\pi/2$, if we do $R F(\\mathbf x) \\tilde{R}$, we'll get\n",
    "a rotation of $\\pi$ around the $z$-axis."
   ]
  },
  {
   "cell_type": "code",
   "execution_count": 19,
   "id": "2d363c41-34fe-4f72-a1d7-fddf9cf76c68",
   "metadata": {},
   "outputs": [
    {
     "data": {
      "application/vnd.plotly.v1+json": {
       "data": [
        {
         "colorbar": {
          "len": 0.6858705161854769,
          "title": {
           "text": ""
          },
          "x": 0.4934383202099738,
          "y": 0.5138888888888888
         },
         "legendgroup": "y1",
         "marker": {
          "color": "rgba(0, 154, 250, 1.000)",
          "line": {
           "color": "rgba(0, 0, 0, 1)",
           "width": 1
          },
          "size": 8,
          "symbol": "circle"
         },
         "mode": "markers",
         "name": "y1",
         "showlegend": true,
         "type": "scatter",
         "x": [
          1
         ],
         "xaxis": "x",
         "y": [
          2
         ],
         "yaxis": "y",
         "zmax": null,
         "zmin": null
        },
        {
         "colorbar": {
          "len": 0.6858705161854769,
          "title": {
           "text": ""
          },
          "x": 0.4934383202099738,
          "y": 0.5138888888888888
         },
         "legendgroup": "y2",
         "marker": {
          "color": "rgba(227, 111, 71, 1.000)",
          "line": {
           "color": "rgba(0, 0, 0, 1)",
           "width": 1
          },
          "size": 8,
          "symbol": "circle"
         },
         "mode": "markers",
         "name": "y2",
         "showlegend": true,
         "type": "scatter",
         "x": [
          -1
         ],
         "xaxis": "x",
         "y": [
          -2
         ],
         "yaxis": "y",
         "zmax": null,
         "zmin": null
        },
        {
         "colorbar": {
          "len": 0.6858705161854769,
          "title": {
           "text": ""
          },
          "x": 0.9934383202099738,
          "y": 0.5138888888888888
         },
         "legendgroup": "y1",
         "marker": {
          "color": "rgba(0, 154, 250, 1.000)",
          "line": {
           "color": "rgba(0, 0, 0, 1)",
           "width": 1
          },
          "size": 8,
          "symbol": "circle"
         },
         "mode": "markers",
         "name": "y1",
         "showlegend": true,
         "type": "scatter",
         "x": [
          1
         ],
         "xaxis": "x2",
         "y": [
          2
         ],
         "yaxis": "y2",
         "zmax": null,
         "zmin": null
        },
        {
         "colorbar": {
          "len": 0.6858705161854769,
          "title": {
           "text": ""
          },
          "x": 0.9934383202099738,
          "y": 0.5138888888888888
         },
         "legendgroup": "y2",
         "marker": {
          "color": "rgba(227, 111, 71, 1.000)",
          "line": {
           "color": "rgba(0, 0, 0, 1)",
           "width": 1
          },
          "size": 8,
          "symbol": "circle"
         },
         "mode": "markers",
         "name": "y2",
         "showlegend": true,
         "type": "scatter",
         "x": [
          -1
         ],
         "xaxis": "x2",
         "y": [
          -2
         ],
         "yaxis": "y2",
         "zmax": null,
         "zmin": null
        }
       ],
       "layout": {
        "annotations": [],
        "height": 400,
        "margin": {
         "b": 20,
         "l": 0,
         "r": 0,
         "t": 20
        },
        "paper_bgcolor": "rgba(255, 255, 255, 1.000)",
        "plot_bgcolor": "rgba(255, 255, 255, 1.000)",
        "showlegend": false,
        "width": 600,
        "xaxis": {
         "anchor": "y",
         "domain": [
          0.03619130941965587,
          0.4934383202099738
         ],
         "gridcolor": "rgba(0, 0, 0, 0.1)",
         "gridwidth": 0.5,
         "linecolor": "rgba(0, 0, 0, 1)",
         "mirror": false,
         "range": [
          -3,
          3
         ],
         "showgrid": true,
         "showline": false,
         "showticklabels": true,
         "tickangle": 0,
         "tickcolor": "rgba(0, 0, 0, 0)",
         "tickfont": {
          "color": "rgba(0, 0, 0, 1)",
          "family": "sans-serif",
          "size": 11
         },
         "tickmode": "array",
         "ticks": "inside",
         "ticktext": [
          "−3",
          "−2",
          "−1",
          "0",
          "1",
          "2",
          "3"
         ],
         "tickvals": [
          -3,
          -2,
          -1,
          0,
          1,
          2,
          3
         ],
         "title": {
          "font": {
           "color": "rgba(0, 0, 0, 1)",
           "family": "sans-serif",
           "size": 15
          },
          "text": ""
         },
         "type": "linear",
         "visible": true,
         "zeroline": true,
         "zerolinecolor": "rgba(0, 0, 0, 1)"
        },
        "xaxis2": {
         "anchor": "y2",
         "domain": [
          0.5361913094196559,
          0.9934383202099738
         ],
         "gridcolor": "rgba(0, 0, 0, 0.1)",
         "gridwidth": 0.5,
         "linecolor": "rgba(0, 0, 0, 1)",
         "mirror": false,
         "range": [
          -3,
          3
         ],
         "showgrid": true,
         "showline": false,
         "showticklabels": true,
         "tickangle": 0,
         "tickcolor": "rgba(0, 0, 0, 0)",
         "tickfont": {
          "color": "rgba(0, 0, 0, 1)",
          "family": "sans-serif",
          "size": 11
         },
         "tickmode": "array",
         "ticks": "inside",
         "ticktext": [
          "−3",
          "−2",
          "−1",
          "0",
          "1",
          "2",
          "3"
         ],
         "tickvals": [
          -3,
          -2,
          -1,
          0,
          1,
          2,
          3
         ],
         "title": {
          "font": {
           "color": "rgba(0, 0, 0, 1)",
           "family": "sans-serif",
           "size": 15
          },
          "text": ""
         },
         "type": "linear",
         "visible": true,
         "zeroline": true,
         "zerolinecolor": "rgba(0, 0, 0, 1)"
        },
        "yaxis": {
         "anchor": "x",
         "domain": [
          0.17095363079615045,
          0.8568241469816273
         ],
         "gridcolor": "rgba(0, 0, 0, 0.1)",
         "gridwidth": 0.5,
         "linecolor": "rgba(0, 0, 0, 1)",
         "mirror": false,
         "range": [
          -3,
          3
         ],
         "showgrid": true,
         "showline": false,
         "showticklabels": true,
         "tickangle": 0,
         "tickcolor": "rgba(0, 0, 0, 0)",
         "tickfont": {
          "color": "rgba(0, 0, 0, 1)",
          "family": "sans-serif",
          "size": 11
         },
         "tickmode": "array",
         "ticks": "inside",
         "ticktext": [
          "−3",
          "−2",
          "−1",
          "0",
          "1",
          "2",
          "3"
         ],
         "tickvals": [
          -3,
          -2,
          -1,
          0,
          1,
          2,
          3
         ],
         "title": {
          "font": {
           "color": "rgba(0, 0, 0, 1)",
           "family": "sans-serif",
           "size": 15
          },
          "text": ""
         },
         "type": "linear",
         "visible": true,
         "zeroline": true,
         "zerolinecolor": "rgba(0, 0, 0, 1)"
        },
        "yaxis2": {
         "anchor": "x2",
         "domain": [
          0.17095363079615045,
          0.8568241469816273
         ],
         "gridcolor": "rgba(0, 0, 0, 0.1)",
         "gridwidth": 0.5,
         "linecolor": "rgba(0, 0, 0, 1)",
         "mirror": false,
         "range": [
          -3,
          3
         ],
         "showgrid": true,
         "showline": false,
         "showticklabels": true,
         "tickangle": 0,
         "tickcolor": "rgba(0, 0, 0, 0)",
         "tickfont": {
          "color": "rgba(0, 0, 0, 1)",
          "family": "sans-serif",
          "size": 11
         },
         "tickmode": "array",
         "ticks": "inside",
         "ticktext": [
          "−3",
          "−2",
          "−1",
          "0",
          "1",
          "2",
          "3"
         ],
         "tickvals": [
          -3,
          -2,
          -1,
          0,
          1,
          2,
          3
         ],
         "title": {
          "font": {
           "color": "rgba(0, 0, 0, 1)",
           "family": "sans-serif",
           "size": 15
          },
          "text": ""
         },
         "type": "linear",
         "visible": true,
         "zeroline": true,
         "zerolinecolor": "rgba(0, 0, 0, 1)"
        }
       }
      },
      "image/png": "[encoded data removed]",
      "text/html": [
       "    <div id=\"5bc5a153-eecd-47df-9e9f-5871d97009bd\" style=\"width:600px;height:400px;\"></div>\n",
       "    <script>\n",
       "        requirejs.config({\n",
       "        paths: {\n",
       "            Plotly: 'https://cdn.plot.ly/plotly-2.6.3.min'\n",
       "        }\n",
       "    });\n",
       "    require(['Plotly'], function (Plotly) {\n",
       "\n",
       "    Plotly.newPlot('5bc5a153-eecd-47df-9e9f-5871d97009bd', [\n",
       "    {\n",
       "        \"xaxis\": \"x1\",\n",
       "        \"colorbar\": {\n",
       "            \"y\": 0.5138888888888888,\n",
       "            \"title\": \"\",\n",
       "            \"len\": 0.6858705161854769,\n",
       "            \"x\": 0.4934383202099738\n",
       "        },\n",
       "        \"yaxis\": \"y1\",\n",
       "        \"x\": [\n",
       "            1.0\n",
       "        ],\n",
       "        \"showlegend\": true,\n",
       "        \"mode\": \"markers\",\n",
       "        \"name\": \"y1\",\n",
       "        \"zmin\": null,\n",
       "        \"legendgroup\": \"y1\",\n",
       "        \"marker\": {\n",
       "            \"symbol\": \"circle\",\n",
       "            \"color\": \"rgba(0, 154, 250, 1.000)\",\n",
       "            \"line\": {\n",
       "                \"color\": \"rgba(0, 0, 0, 1.000)\",\n",
       "                \"width\": 1\n",
       "            },\n",
       "            \"size\": 8\n",
       "        },\n",
       "        \"zmax\": null,\n",
       "        \"y\": [\n",
       "            2.0\n",
       "        ],\n",
       "        \"type\": \"scatter\"\n",
       "    },\n",
       "    {\n",
       "        \"xaxis\": \"x1\",\n",
       "        \"colorbar\": {\n",
       "            \"y\": 0.5138888888888888,\n",
       "            \"title\": \"\",\n",
       "            \"len\": 0.6858705161854769,\n",
       "            \"x\": 0.4934383202099738\n",
       "        },\n",
       "        \"yaxis\": \"y1\",\n",
       "        \"x\": [\n",
       "            -1.0\n",
       "        ],\n",
       "        \"showlegend\": true,\n",
       "        \"mode\": \"markers\",\n",
       "        \"name\": \"y2\",\n",
       "        \"zmin\": null,\n",
       "        \"legendgroup\": \"y2\",\n",
       "        \"marker\": {\n",
       "            \"symbol\": \"circle\",\n",
       "            \"color\": \"rgba(227, 111, 71, 1.000)\",\n",
       "            \"line\": {\n",
       "                \"color\": \"rgba(0, 0, 0, 1.000)\",\n",
       "                \"width\": 1\n",
       "            },\n",
       "            \"size\": 8\n",
       "        },\n",
       "        \"zmax\": null,\n",
       "        \"y\": [\n",
       "            -2.0\n",
       "        ],\n",
       "        \"type\": \"scatter\"\n",
       "    },\n",
       "    {\n",
       "        \"xaxis\": \"x2\",\n",
       "        \"colorbar\": {\n",
       "            \"y\": 0.5138888888888888,\n",
       "            \"title\": \"\",\n",
       "            \"len\": 0.6858705161854769,\n",
       "            \"x\": 0.9934383202099738\n",
       "        },\n",
       "        \"yaxis\": \"y2\",\n",
       "        \"x\": [\n",
       "            1.0\n",
       "        ],\n",
       "        \"showlegend\": true,\n",
       "        \"mode\": \"markers\",\n",
       "        \"name\": \"y1\",\n",
       "        \"zmin\": null,\n",
       "        \"legendgroup\": \"y1\",\n",
       "        \"marker\": {\n",
       "            \"symbol\": \"circle\",\n",
       "            \"color\": \"rgba(0, 154, 250, 1.000)\",\n",
       "            \"line\": {\n",
       "                \"color\": \"rgba(0, 0, 0, 1.000)\",\n",
       "                \"width\": 1\n",
       "            },\n",
       "            \"size\": 8\n",
       "        },\n",
       "        \"zmax\": null,\n",
       "        \"y\": [\n",
       "            2.0\n",
       "        ],\n",
       "        \"type\": \"scatter\"\n",
       "    },\n",
       "    {\n",
       "        \"xaxis\": \"x2\",\n",
       "        \"colorbar\": {\n",
       "            \"y\": 0.5138888888888888,\n",
       "            \"title\": \"\",\n",
       "            \"len\": 0.6858705161854769,\n",
       "            \"x\": 0.9934383202099738\n",
       "        },\n",
       "        \"yaxis\": \"y2\",\n",
       "        \"x\": [\n",
       "            -1.0\n",
       "        ],\n",
       "        \"showlegend\": true,\n",
       "        \"mode\": \"markers\",\n",
       "        \"name\": \"y2\",\n",
       "        \"zmin\": null,\n",
       "        \"legendgroup\": \"y2\",\n",
       "        \"marker\": {\n",
       "            \"symbol\": \"circle\",\n",
       "            \"color\": \"rgba(227, 111, 71, 1.000)\",\n",
       "            \"line\": {\n",
       "                \"color\": \"rgba(0, 0, 0, 1.000)\",\n",
       "                \"width\": 1\n",
       "            },\n",
       "            \"size\": 8\n",
       "        },\n",
       "        \"zmax\": null,\n",
       "        \"y\": [\n",
       "            -2.0\n",
       "        ],\n",
       "        \"type\": \"scatter\"\n",
       "    }\n",
       "]\n",
       ", {\n",
       "    \"showlegend\": false,\n",
       "    \"paper_bgcolor\": \"rgba(255, 255, 255, 1.000)\",\n",
       "    \"xaxis1\": {\n",
       "        \"showticklabels\": true,\n",
       "        \"gridwidth\": 0.5,\n",
       "        \"tickvals\": [\n",
       "            -3.0,\n",
       "            -2.0,\n",
       "            -1.0,\n",
       "            0.0,\n",
       "            1.0,\n",
       "            2.0,\n",
       "            3.0\n",
       "        ],\n",
       "        \"range\": [\n",
       "            -3.0,\n",
       "            3.0\n",
       "        ],\n",
       "        \"domain\": [\n",
       "            0.03619130941965587,\n",
       "            0.4934383202099738\n",
       "        ],\n",
       "        \"mirror\": false,\n",
       "        \"tickangle\": 0,\n",
       "        \"showline\": false,\n",
       "        \"ticktext\": [\n",
       "            \"−3\",\n",
       "            \"−2\",\n",
       "            \"−1\",\n",
       "            \"0\",\n",
       "            \"1\",\n",
       "            \"2\",\n",
       "            \"3\"\n",
       "        ],\n",
       "        \"zeroline\": true,\n",
       "        \"tickfont\": {\n",
       "            \"color\": \"rgba(0, 0, 0, 1.000)\",\n",
       "            \"family\": \"sans-serif\",\n",
       "            \"size\": 11\n",
       "        },\n",
       "        \"zerolinecolor\": \"rgba(0, 0, 0, 1.000)\",\n",
       "        \"anchor\": \"y1\",\n",
       "        \"visible\": true,\n",
       "        \"ticks\": \"inside\",\n",
       "        \"tickmode\": \"array\",\n",
       "        \"linecolor\": \"rgba(0, 0, 0, 1.000)\",\n",
       "        \"showgrid\": true,\n",
       "        \"title\": \"\",\n",
       "        \"gridcolor\": \"rgba(0, 0, 0, 0.100)\",\n",
       "        \"titlefont\": {\n",
       "            \"color\": \"rgba(0, 0, 0, 1.000)\",\n",
       "            \"family\": \"sans-serif\",\n",
       "            \"size\": 15\n",
       "        },\n",
       "        \"tickcolor\": \"rgba(0, 0, 0, 0.000)\",\n",
       "        \"type\": \"-\"\n",
       "    },\n",
       "    \"height\": 400,\n",
       "    \"yaxis2\": {\n",
       "        \"showticklabels\": true,\n",
       "        \"gridwidth\": 0.5,\n",
       "        \"tickvals\": [\n",
       "            -3.0,\n",
       "            -2.0,\n",
       "            -1.0,\n",
       "            0.0,\n",
       "            1.0,\n",
       "            2.0,\n",
       "            3.0\n",
       "        ],\n",
       "        \"range\": [\n",
       "            -3.0,\n",
       "            3.0\n",
       "        ],\n",
       "        \"domain\": [\n",
       "            0.17095363079615045,\n",
       "            0.8568241469816273\n",
       "        ],\n",
       "        \"mirror\": false,\n",
       "        \"tickangle\": 0,\n",
       "        \"showline\": false,\n",
       "        \"ticktext\": [\n",
       "            \"−3\",\n",
       "            \"−2\",\n",
       "            \"−1\",\n",
       "            \"0\",\n",
       "            \"1\",\n",
       "            \"2\",\n",
       "            \"3\"\n",
       "        ],\n",
       "        \"zeroline\": true,\n",
       "        \"tickfont\": {\n",
       "            \"color\": \"rgba(0, 0, 0, 1.000)\",\n",
       "            \"family\": \"sans-serif\",\n",
       "            \"size\": 11\n",
       "        },\n",
       "        \"zerolinecolor\": \"rgba(0, 0, 0, 1.000)\",\n",
       "        \"anchor\": \"x2\",\n",
       "        \"visible\": true,\n",
       "        \"ticks\": \"inside\",\n",
       "        \"tickmode\": \"array\",\n",
       "        \"linecolor\": \"rgba(0, 0, 0, 1.000)\",\n",
       "        \"showgrid\": true,\n",
       "        \"title\": \"\",\n",
       "        \"gridcolor\": \"rgba(0, 0, 0, 0.100)\",\n",
       "        \"titlefont\": {\n",
       "            \"color\": \"rgba(0, 0, 0, 1.000)\",\n",
       "            \"family\": \"sans-serif\",\n",
       "            \"size\": 15\n",
       "        },\n",
       "        \"tickcolor\": \"rgba(0, 0, 0, 0.000)\",\n",
       "        \"type\": \"-\"\n",
       "    },\n",
       "    \"xaxis2\": {\n",
       "        \"showticklabels\": true,\n",
       "        \"gridwidth\": 0.5,\n",
       "        \"tickvals\": [\n",
       "            -3.0,\n",
       "            -2.0,\n",
       "            -1.0,\n",
       "            0.0,\n",
       "            1.0,\n",
       "            2.0,\n",
       "            3.0\n",
       "        ],\n",
       "        \"range\": [\n",
       "            -3.0,\n",
       "            3.0\n",
       "        ],\n",
       "        \"domain\": [\n",
       "            0.5361913094196559,\n",
       "            0.9934383202099738\n",
       "        ],\n",
       "        \"mirror\": false,\n",
       "        \"tickangle\": 0,\n",
       "        \"showline\": false,\n",
       "        \"ticktext\": [\n",
       "            \"−3\",\n",
       "            \"−2\",\n",
       "            \"−1\",\n",
       "            \"0\",\n",
       "            \"1\",\n",
       "            \"2\",\n",
       "            \"3\"\n",
       "        ],\n",
       "        \"zeroline\": true,\n",
       "        \"tickfont\": {\n",
       "            \"color\": \"rgba(0, 0, 0, 1.000)\",\n",
       "            \"family\": \"sans-serif\",\n",
       "            \"size\": 11\n",
       "        },\n",
       "        \"zerolinecolor\": \"rgba(0, 0, 0, 1.000)\",\n",
       "        \"anchor\": \"y2\",\n",
       "        \"visible\": true,\n",
       "        \"ticks\": \"inside\",\n",
       "        \"tickmode\": \"array\",\n",
       "        \"linecolor\": \"rgba(0, 0, 0, 1.000)\",\n",
       "        \"showgrid\": true,\n",
       "        \"title\": \"\",\n",
       "        \"gridcolor\": \"rgba(0, 0, 0, 0.100)\",\n",
       "        \"titlefont\": {\n",
       "            \"color\": \"rgba(0, 0, 0, 1.000)\",\n",
       "            \"family\": \"sans-serif\",\n",
       "            \"size\": 15\n",
       "        },\n",
       "        \"tickcolor\": \"rgba(0, 0, 0, 0.000)\",\n",
       "        \"type\": \"-\"\n",
       "    },\n",
       "    \"yaxis1\": {\n",
       "        \"showticklabels\": true,\n",
       "        \"gridwidth\": 0.5,\n",
       "        \"tickvals\": [\n",
       "            -3.0,\n",
       "            -2.0,\n",
       "            -1.0,\n",
       "            0.0,\n",
       "            1.0,\n",
       "            2.0,\n",
       "            3.0\n",
       "        ],\n",
       "        \"range\": [\n",
       "            -3.0,\n",
       "            3.0\n",
       "        ],\n",
       "        \"domain\": [\n",
       "            0.17095363079615045,\n",
       "            0.8568241469816273\n",
       "        ],\n",
       "        \"mirror\": false,\n",
       "        \"tickangle\": 0,\n",
       "        \"showline\": false,\n",
       "        \"ticktext\": [\n",
       "            \"−3\",\n",
       "            \"−2\",\n",
       "            \"−1\",\n",
       "            \"0\",\n",
       "            \"1\",\n",
       "            \"2\",\n",
       "            \"3\"\n",
       "        ],\n",
       "        \"zeroline\": true,\n",
       "        \"tickfont\": {\n",
       "            \"color\": \"rgba(0, 0, 0, 1.000)\",\n",
       "            \"family\": \"sans-serif\",\n",
       "            \"size\": 11\n",
       "        },\n",
       "        \"zerolinecolor\": \"rgba(0, 0, 0, 1.000)\",\n",
       "        \"anchor\": \"x1\",\n",
       "        \"visible\": true,\n",
       "        \"ticks\": \"inside\",\n",
       "        \"tickmode\": \"array\",\n",
       "        \"linecolor\": \"rgba(0, 0, 0, 1.000)\",\n",
       "        \"showgrid\": true,\n",
       "        \"title\": \"\",\n",
       "        \"gridcolor\": \"rgba(0, 0, 0, 0.100)\",\n",
       "        \"titlefont\": {\n",
       "            \"color\": \"rgba(0, 0, 0, 1.000)\",\n",
       "            \"family\": \"sans-serif\",\n",
       "            \"size\": 15\n",
       "        },\n",
       "        \"tickcolor\": \"rgba(0, 0, 0, 0.000)\",\n",
       "        \"type\": \"-\"\n",
       "    },\n",
       "    \"annotations\": [],\n",
       "    \"plot_bgcolor\": \"rgba(255, 255, 255, 1.000)\",\n",
       "    \"margin\": {\n",
       "        \"l\": 0,\n",
       "        \"b\": 20,\n",
       "        \"r\": 0,\n",
       "        \"t\": 20\n",
       "    },\n",
       "    \"width\": 600\n",
       "}\n",
       ");\n",
       "    });\n",
       "    </script>\n"
      ]
     },
     "execution_count": 19,
     "metadata": {},
     "output_type": "execute_result"
    }
   ],
   "source": [
    "x = cl.e1 + 2cl.e2 + 0cl.e3\n",
    "\n",
    "R = cl.e1 * cl.e2\n",
    "# R = (cl.e1/√2 + cl.e2/√2) * cl.e1\n",
    "\n",
    "Rx = R*x*reverse(R)\n",
    "\n",
    "Fx  = F(x)\n",
    "RFx = R*x*reverse(R)\n",
    "\n",
    "p1 = scatter([x.e1],[x.e2])\n",
    "p1 = scatter!([Rx.e1],[Rx.e2],\n",
    "    framestyle=:zerolines,\n",
    "    legend=false,\n",
    "    aspect_ratio=1);\n",
    "\n",
    "p2 = scatter([Fx.e1],[Fx.e2])\n",
    "p2 = scatter!([RFx.e1],[RFx.e2],\n",
    "    framestyle=:zerolines,\n",
    "    legend=false,\n",
    "    aspect_ratio=1);\n",
    "\n",
    "plot(p1,p2,xlims=(-3,3),ylims=(-3,3))"
   ]
  },
  {
   "cell_type": "markdown",
   "id": "dc2321e4-9edf-4566-af7a-9f7efa51b017",
   "metadata": {},
   "source": [
    "In $\\mathbb R^{n+1,1}$, all rotors have an exponential representation. We can express the rotation rotor as\n",
    "\n",
    "$$\n",
    "R = \\exp\\left(\n",
    "-\\mathbf I \\phi/2\n",
    "\\right),\n",
    "$$\n",
    "where $\\mathbf I$ is the rotation plane, and $\\phi$ is the rotation angle."
   ]
  },
  {
   "cell_type": "code",
   "execution_count": 20,
   "id": "06219059-194f-402b-8d4a-cd0dffc9c84a",
   "metadata": {},
   "outputs": [
    {
     "data": {
      "application/vnd.plotly.v1+json": {
       "data": [
        {
         "colorbar": {
          "len": 0.9525371828521435,
          "title": {
           "text": ""
          },
          "x": 0.8323272090988626,
          "y": 0.513888888888889
         },
         "legendgroup": "Rx",
         "marker": {
          "color": "rgba(0, 154, 250, 1.000)",
          "line": {
           "color": "rgba(0, 0, 0, 1)",
           "width": 1
          },
          "size": 8,
          "symbol": "circle"
         },
         "mode": "markers",
         "name": "Rx",
         "showlegend": true,
         "type": "scatter",
         "x": [
          1,
          0.7953373319843695,
          0.5827279162511193,
          0.3642960758029268,
          0.14222430938558406,
          -0.08126851531803336,
          -0.3039493318803929,
          -0.5235931871908936,
          -0.7380054724518805,
          -0.9450438509843024,
          -1.1426396637476532,
          -1.3288185986972936,
          -1.5017204174577803,
          -1.6596175422097983,
          -1.8009323170766796,
          -1.9242527715404059,
          -2.0283467283842995,
          -2.112174115200461,
          -2.1748973564494776,
          -2.215889742238332,
          -2.234741690198506,
          -2.231264837897605,
          -2.205493924894527,
          -2.1576864456332636,
          -2.0883200766435475,
          -1.9980879037548471,
          -1.887891497011875,
          -1.758831902484721,
          -1.6121986409804676,
          -1.4494568235775545,
          -1.2722325127201797,
          -1.0822964751398603,
          -0.8815464889395931,
          -0.6719883816223676,
          -0.4557159885257974,
          -0.2348902319115566,
          -0.011717529744441901,
          0.21157225010657865,
          0.43274806997102183,
          0.6496000141678082,
          0.8599613697522447,
          1.061730275595553,
          1.2528907234864772,
          1.4315327014189343,
          1.5958712778006126,
          1.7442644358994144,
          1.8752294803318752,
          1.9874578516653107
         ],
         "xaxis": "x",
         "y": [
          2,
          2.08984174720288,
          2.1588024864775446,
          2.206193184912552,
          2.231540330314421,
          2.2345906623849485,
          2.2153137032143917,
          2.173902061806668,
          2.110769509593854,
          2.026546846168812,
          1.922075596544176,
          1.79839960291259,
          1.656754594920573,
          1.4985558426663674,
          1.3253840157889418,
          1.1389693899394606,
          0.9411745584389274,
          0.7339758218614193,
          0.5194434414920205,
          0.29972095396040754,
          0.07700375373139712,
          -0.14648284255084132,
          -0.368505830691102,
          -0.5868468303829283,
          -0.799324250531341,
          -1.003815086989911,
          -1.19827613491643,
          -1.3807644038002929,
          -1.5494565311814117,
          -1.7026670010851992,
          -1.8388649851410235,
          -1.9566896381132683,
          -2.0549636950170864,
          -2.1327052339609787,
          -2.1891374871857527,
          -2.2236966022712124,
          -2.236037275963146,
          -2.2260362043293096,
          -2.1937933147715523,
          -2.1396307675842534,
          -2.0640897370351525,
          -1.9679250041309475,
          -1.852097415094987,
          -1.7177642809094058,
          -1.5662678138463548,
          -1.3991217165266558,
          -1.2179960575035726,
          -1.0247005844898824
         ],
         "yaxis": "y",
         "zmax": null,
         "zmin": null
        },
        {
         "colorbar": {
          "len": 0.9525371828521435,
          "title": {
           "text": ""
          },
          "x": 0.8323272090988626,
          "y": 0.513888888888889
         },
         "legendgroup": "x",
         "marker": {
          "color": "rgba(227, 111, 71, 1.000)",
          "line": {
           "color": "rgba(0, 0, 0, 1)",
           "width": 1
          },
          "size": 8,
          "symbol": "circle"
         },
         "mode": "markers",
         "name": "x",
         "showlegend": true,
         "type": "scatter",
         "x": [
          1
         ],
         "xaxis": "x",
         "y": [
          2
         ],
         "yaxis": "y",
         "zmax": null,
         "zmin": null
        }
       ],
       "layout": {
        "annotations": [],
        "height": 400,
        "margin": {
         "b": 20,
         "l": 0,
         "r": 0,
         "t": 20
        },
        "paper_bgcolor": "rgba(255, 255, 255, 1.000)",
        "plot_bgcolor": "rgba(255, 255, 255, 1.000)",
        "showlegend": false,
        "width": 600,
        "xaxis": {
         "anchor": "y",
         "domain": [
          0.19730242053076705,
          0.8323272090988626
         ],
         "gridcolor": "rgba(0, 0, 0, 0.1)",
         "gridwidth": 0.5,
         "linecolor": "rgba(0, 0, 0, 1)",
         "mirror": false,
         "range": [
          -3,
          3
         ],
         "showgrid": true,
         "showline": true,
         "showticklabels": true,
         "tickangle": 0,
         "tickcolor": "rgb(0, 0, 0)",
         "tickfont": {
          "color": "rgba(0, 0, 0, 1)",
          "family": "sans-serif",
          "size": 11
         },
         "tickmode": "array",
         "ticks": "inside",
         "ticktext": [
          "−3",
          "−2",
          "−1",
          "0",
          "1",
          "2",
          "3"
         ],
         "tickvals": [
          -3,
          -2,
          -1,
          0,
          1,
          2,
          3
         ],
         "title": {
          "font": {
           "color": "rgba(0, 0, 0, 1)",
           "family": "sans-serif",
           "size": 15
          },
          "text": ""
         },
         "type": "linear",
         "visible": true,
         "zeroline": false,
         "zerolinecolor": "rgba(0, 0, 0, 1)"
        },
        "yaxis": {
         "anchor": "x",
         "domain": [
          0.03762029746281716,
          0.9901574803149606
         ],
         "gridcolor": "rgba(0, 0, 0, 0.1)",
         "gridwidth": 0.5,
         "linecolor": "rgba(0, 0, 0, 1)",
         "mirror": false,
         "range": [
          -3,
          3
         ],
         "showgrid": true,
         "showline": true,
         "showticklabels": true,
         "tickangle": 0,
         "tickcolor": "rgb(0, 0, 0)",
         "tickfont": {
          "color": "rgba(0, 0, 0, 1)",
          "family": "sans-serif",
          "size": 11
         },
         "tickmode": "array",
         "ticks": "inside",
         "ticktext": [
          "−3",
          "−2",
          "−1",
          "0",
          "1",
          "2",
          "3"
         ],
         "tickvals": [
          -3,
          -2,
          -1,
          0,
          1,
          2,
          3
         ],
         "title": {
          "font": {
           "color": "rgba(0, 0, 0, 1)",
           "family": "sans-serif",
           "size": 15
          },
          "text": ""
         },
         "type": "linear",
         "visible": true,
         "zeroline": false,
         "zerolinecolor": "rgba(0, 0, 0, 1)"
        }
       }
      },
      "image/png": "[encoded data removed]",
      "text/html": [
       "    <div id=\"2bbdfa0b-1284-4caf-983f-d6b2333d828a\" style=\"width:600px;height:400px;\"></div>\n",
       "    <script>\n",
       "        requirejs.config({\n",
       "        paths: {\n",
       "            Plotly: 'https://cdn.plot.ly/plotly-2.6.3.min'\n",
       "        }\n",
       "    });\n",
       "    require(['Plotly'], function (Plotly) {\n",
       "\n",
       "    Plotly.newPlot('2bbdfa0b-1284-4caf-983f-d6b2333d828a', [\n",
       "    {\n",
       "        \"xaxis\": \"x\",\n",
       "        \"colorbar\": {\n",
       "            \"y\": 0.513888888888889,\n",
       "            \"title\": \"\",\n",
       "            \"len\": 0.9525371828521435,\n",
       "            \"x\": 0.8323272090988626\n",
       "        },\n",
       "        \"yaxis\": \"y\",\n",
       "        \"x\": [\n",
       "            1.0,\n",
       "            0.7953373319843695,\n",
       "            0.5827279162511193,\n",
       "            0.3642960758029268,\n",
       "            0.14222430938558406,\n",
       "            -0.08126851531803336,\n",
       "            -0.3039493318803929,\n",
       "            -0.5235931871908936,\n",
       "            -0.7380054724518805,\n",
       "            -0.9450438509843024,\n",
       "            -1.1426396637476532,\n",
       "            -1.3288185986972936,\n",
       "            -1.5017204174577803,\n",
       "            -1.6596175422097983,\n",
       "            -1.8009323170766796,\n",
       "            -1.9242527715404059,\n",
       "            -2.0283467283842995,\n",
       "            -2.112174115200461,\n",
       "            -2.1748973564494776,\n",
       "            -2.215889742238332,\n",
       "            -2.234741690198506,\n",
       "            -2.231264837897605,\n",
       "            -2.205493924894527,\n",
       "            -2.1576864456332636,\n",
       "            -2.0883200766435475,\n",
       "            -1.9980879037548471,\n",
       "            -1.887891497011875,\n",
       "            -1.758831902484721,\n",
       "            -1.6121986409804676,\n",
       "            -1.4494568235775545,\n",
       "            -1.2722325127201797,\n",
       "            -1.0822964751398603,\n",
       "            -0.8815464889395931,\n",
       "            -0.6719883816223676,\n",
       "            -0.4557159885257974,\n",
       "            -0.2348902319115566,\n",
       "            -0.011717529744441901,\n",
       "            0.21157225010657865,\n",
       "            0.43274806997102183,\n",
       "            0.6496000141678082,\n",
       "            0.8599613697522447,\n",
       "            1.061730275595553,\n",
       "            1.2528907234864772,\n",
       "            1.4315327014189343,\n",
       "            1.5958712778006126,\n",
       "            1.7442644358994144,\n",
       "            1.8752294803318752,\n",
       "            1.9874578516653107\n",
       "        ],\n",
       "        \"showlegend\": true,\n",
       "        \"mode\": \"markers\",\n",
       "        \"name\": \"Rx\",\n",
       "        \"zmin\": null,\n",
       "        \"legendgroup\": \"Rx\",\n",
       "        \"marker\": {\n",
       "            \"symbol\": \"circle\",\n",
       "            \"color\": \"rgba(0, 154, 250, 1.000)\",\n",
       "            \"line\": {\n",
       "                \"color\": \"rgba(0, 0, 0, 1.000)\",\n",
       "                \"width\": 1\n",
       "            },\n",
       "            \"size\": 8\n",
       "        },\n",
       "        \"zmax\": null,\n",
       "        \"y\": [\n",
       "            2.0,\n",
       "            2.08984174720288,\n",
       "            2.1588024864775446,\n",
       "            2.206193184912552,\n",
       "            2.231540330314421,\n",
       "            2.2345906623849485,\n",
       "            2.2153137032143917,\n",
       "            2.173902061806668,\n",
       "            2.110769509593854,\n",
       "            2.026546846168812,\n",
       "            1.922075596544176,\n",
       "            1.79839960291259,\n",
       "            1.656754594920573,\n",
       "            1.4985558426663674,\n",
       "            1.3253840157889418,\n",
       "            1.1389693899394606,\n",
       "            0.9411745584389274,\n",
       "            0.7339758218614193,\n",
       "            0.5194434414920205,\n",
       "            0.29972095396040754,\n",
       "            0.07700375373139712,\n",
       "            -0.14648284255084132,\n",
       "            -0.368505830691102,\n",
       "            -0.5868468303829283,\n",
       "            -0.799324250531341,\n",
       "            -1.003815086989911,\n",
       "            -1.19827613491643,\n",
       "            -1.3807644038002929,\n",
       "            -1.5494565311814117,\n",
       "            -1.7026670010851992,\n",
       "            -1.8388649851410235,\n",
       "            -1.9566896381132683,\n",
       "            -2.0549636950170864,\n",
       "            -2.1327052339609787,\n",
       "            -2.1891374871857527,\n",
       "            -2.2236966022712124,\n",
       "            -2.236037275963146,\n",
       "            -2.2260362043293096,\n",
       "            -2.1937933147715523,\n",
       "            -2.1396307675842534,\n",
       "            -2.0640897370351525,\n",
       "            -1.9679250041309475,\n",
       "            -1.852097415094987,\n",
       "            -1.7177642809094058,\n",
       "            -1.5662678138463548,\n",
       "            -1.3991217165266558,\n",
       "            -1.2179960575035726,\n",
       "            -1.0247005844898824\n",
       "        ],\n",
       "        \"type\": \"scatter\"\n",
       "    },\n",
       "    {\n",
       "        \"xaxis\": \"x\",\n",
       "        \"colorbar\": {\n",
       "            \"y\": 0.513888888888889,\n",
       "            \"title\": \"\",\n",
       "            \"len\": 0.9525371828521435,\n",
       "            \"x\": 0.8323272090988626\n",
       "        },\n",
       "        \"yaxis\": \"y\",\n",
       "        \"x\": [\n",
       "            1.0\n",
       "        ],\n",
       "        \"showlegend\": true,\n",
       "        \"mode\": \"markers\",\n",
       "        \"name\": \"x\",\n",
       "        \"zmin\": null,\n",
       "        \"legendgroup\": \"x\",\n",
       "        \"marker\": {\n",
       "            \"symbol\": \"circle\",\n",
       "            \"color\": \"rgba(227, 111, 71, 1.000)\",\n",
       "            \"line\": {\n",
       "                \"color\": \"rgba(0, 0, 0, 1.000)\",\n",
       "                \"width\": 1\n",
       "            },\n",
       "            \"size\": 8\n",
       "        },\n",
       "        \"zmax\": null,\n",
       "        \"y\": [\n",
       "            2.0\n",
       "        ],\n",
       "        \"type\": \"scatter\"\n",
       "    }\n",
       "]\n",
       ", {\n",
       "    \"showlegend\": false,\n",
       "    \"xaxis\": {\n",
       "        \"showticklabels\": true,\n",
       "        \"gridwidth\": 0.5,\n",
       "        \"tickvals\": [\n",
       "            -3.0,\n",
       "            -2.0,\n",
       "            -1.0,\n",
       "            0.0,\n",
       "            1.0,\n",
       "            2.0,\n",
       "            3.0\n",
       "        ],\n",
       "        \"range\": [\n",
       "            -3.0,\n",
       "            3.0\n",
       "        ],\n",
       "        \"domain\": [\n",
       "            0.19730242053076705,\n",
       "            0.8323272090988626\n",
       "        ],\n",
       "        \"mirror\": false,\n",
       "        \"tickangle\": 0,\n",
       "        \"showline\": true,\n",
       "        \"ticktext\": [\n",
       "            \"−3\",\n",
       "            \"−2\",\n",
       "            \"−1\",\n",
       "            \"0\",\n",
       "            \"1\",\n",
       "            \"2\",\n",
       "            \"3\"\n",
       "        ],\n",
       "        \"zeroline\": false,\n",
       "        \"tickfont\": {\n",
       "            \"color\": \"rgba(0, 0, 0, 1.000)\",\n",
       "            \"family\": \"sans-serif\",\n",
       "            \"size\": 11\n",
       "        },\n",
       "        \"zerolinecolor\": \"rgba(0, 0, 0, 1.000)\",\n",
       "        \"anchor\": \"y\",\n",
       "        \"visible\": true,\n",
       "        \"ticks\": \"inside\",\n",
       "        \"tickmode\": \"array\",\n",
       "        \"linecolor\": \"rgba(0, 0, 0, 1.000)\",\n",
       "        \"showgrid\": true,\n",
       "        \"title\": \"\",\n",
       "        \"gridcolor\": \"rgba(0, 0, 0, 0.100)\",\n",
       "        \"titlefont\": {\n",
       "            \"color\": \"rgba(0, 0, 0, 1.000)\",\n",
       "            \"family\": \"sans-serif\",\n",
       "            \"size\": 15\n",
       "        },\n",
       "        \"tickcolor\": \"rgb(0, 0, 0)\",\n",
       "        \"type\": \"-\"\n",
       "    },\n",
       "    \"paper_bgcolor\": \"rgba(255, 255, 255, 1.000)\",\n",
       "    \"annotations\": [],\n",
       "    \"height\": 400,\n",
       "    \"margin\": {\n",
       "        \"l\": 0,\n",
       "        \"b\": 20,\n",
       "        \"r\": 0,\n",
       "        \"t\": 20\n",
       "    },\n",
       "    \"plot_bgcolor\": \"rgba(255, 255, 255, 1.000)\",\n",
       "    \"yaxis\": {\n",
       "        \"showticklabels\": true,\n",
       "        \"gridwidth\": 0.5,\n",
       "        \"tickvals\": [\n",
       "            -3.0,\n",
       "            -2.0,\n",
       "            -1.0,\n",
       "            0.0,\n",
       "            1.0,\n",
       "            2.0,\n",
       "            3.0\n",
       "        ],\n",
       "        \"range\": [\n",
       "            -3.0,\n",
       "            3.0\n",
       "        ],\n",
       "        \"domain\": [\n",
       "            0.03762029746281716,\n",
       "            0.9901574803149606\n",
       "        ],\n",
       "        \"mirror\": false,\n",
       "        \"tickangle\": 0,\n",
       "        \"showline\": true,\n",
       "        \"ticktext\": [\n",
       "            \"−3\",\n",
       "            \"−2\",\n",
       "            \"−1\",\n",
       "            \"0\",\n",
       "            \"1\",\n",
       "            \"2\",\n",
       "            \"3\"\n",
       "        ],\n",
       "        \"zeroline\": false,\n",
       "        \"tickfont\": {\n",
       "            \"color\": \"rgba(0, 0, 0, 1.000)\",\n",
       "            \"family\": \"sans-serif\",\n",
       "            \"size\": 11\n",
       "        },\n",
       "        \"zerolinecolor\": \"rgba(0, 0, 0, 1.000)\",\n",
       "        \"anchor\": \"x\",\n",
       "        \"visible\": true,\n",
       "        \"ticks\": \"inside\",\n",
       "        \"tickmode\": \"array\",\n",
       "        \"linecolor\": \"rgba(0, 0, 0, 1.000)\",\n",
       "        \"showgrid\": true,\n",
       "        \"title\": \"\",\n",
       "        \"gridcolor\": \"rgba(0, 0, 0, 0.100)\",\n",
       "        \"titlefont\": {\n",
       "            \"color\": \"rgba(0, 0, 0, 1.000)\",\n",
       "            \"family\": \"sans-serif\",\n",
       "            \"size\": 15\n",
       "        },\n",
       "        \"tickcolor\": \"rgb(0, 0, 0)\",\n",
       "        \"type\": \"-\"\n",
       "    },\n",
       "    \"width\": 600\n",
       "}\n",
       ");\n",
       "    });\n",
       "    </script>\n"
      ]
     },
     "execution_count": 20,
     "metadata": {},
     "output_type": "execute_result"
    }
   ],
   "source": [
    "x = cl.e1 + 2cl.e2 + 0cl.e3\n",
    "Fx  = F(x)\n",
    "\n",
    "Iblade = cl.e1 ∧ cl.e2\n",
    "Rx = []\n",
    "for ϕ in 0:0.1:3π/2\n",
    "    R = exp(-Iblade * ϕ/2)\n",
    "    v = R*x*reverse(R)\n",
    "    push!(Rx,[v.e1, v.e2])\n",
    "end\n",
    "Rx = vcat(Rx'...)\n",
    "scatter(Rx[:,1],Rx[:,2],label=\"Rx\")\n",
    "scatter!([Fx.e1],[Fx.e2],label=\"x\",\n",
    "    legend=false,\n",
    "    xlims=(-3,3),\n",
    "    ylims=(-3,3),\n",
    "    aspect_ratio=1\n",
    ")"
   ]
  },
  {
   "cell_type": "markdown",
   "id": "afd4957a-308b-456f-8477-a75abe07e04b",
   "metadata": {},
   "source": [
    "Given a rotation $R_{\\mathbf I \\phi}$ , one might wish\n",
    "to recover the plane and angle of rotation. This can be accomplished\n",
    "via the following formulas:\n",
    "\n",
    "$$\n",
    "\\mathbf I = \\frac{\\langle R \\rangle_2 }{\\sqrt{-(\\langle R \\rangle_2)^2}}\n",
    "$$\n",
    "\n",
    "$$\n",
    "\\phi = - 2 \\text{atan}\\left(\n",
    "    \\frac{\\langle R \\rangle_2}{\\mathbf I}, \\langle R \\rangle_0\n",
    "\\right).\n",
    "$$\n",
    "\n",
    "Just note that the sign for the rotation plane and angle of rotation\n",
    "might be shifted, since $-\\mathbf I, - \\phi$ produce the same\n",
    "motion as $\\mathbf I, \\phi$."
   ]
  },
  {
   "cell_type": "code",
   "execution_count": 21,
   "id": "456dc31e-838d-4a6c-a7d6-4b045208e151",
   "metadata": {},
   "outputs": [
    {
     "name": "stdout",
     "output_type": "stream",
     "text": [
      "R ≈ cl.e2 / cl.e1 = true\n",
      "Ir ≈ -I = true\n",
      "-2 * atan(scalar(grade(R, 2) / Ir), scalar(R)) ≈ -ϕ = true\n"
     ]
    }
   ],
   "source": [
    "ϕ = π\n",
    "I = cl.e1 ∧ cl.e2\n",
    "R  = exp(-I*ϕ/2)\n",
    "@show R ≈ cl.e2 / cl.e1\n",
    "\n",
    "Ir = grade(R,2)/√scalar(-(grade(R,2)*grade(R,2)))\n",
    "\n",
    "@show Ir ≈ -I\n",
    "@show -2atan(scalar(grade(R,2)/Ir), scalar(R)) ≈ -ϕ;"
   ]
  },
  {
   "cell_type": "markdown",
   "id": "2ceed382-ec5e-4097-8e4e-6680f3b7d237",
   "metadata": {},
   "source": [
    "## 3.2 Inversion\n",
    "\n",
    "Next, suppose that we have a point $F(\\mathbf x)$. We know that we can invert $\\mathbf x$\n",
    "by \n",
    "\n",
    "$$\n",
    "\\mathbf x^{-1} = \\frac{\\mathbf x}{\\mathbf x \\mathbf x}.\n",
    "$$\n",
    "\n",
    "The way of doing this in our conformal model is by reflecting on the base vector $e$ and normalizing.\n",
    "$$\n",
    "F(\\mathbf x^{-1}) = \\frac{-\\mathbf e F(\\mathbf x) \\mathbf e}{\\mathbf x\\mathbf x}.\n",
    "$$"
   ]
  },
  {
   "cell_type": "code",
   "execution_count": 22,
   "id": "f6a6ed5e-16af-45c5-b904-15d2c4444c4a",
   "metadata": {},
   "outputs": [
    {
     "data": {
      "text/plain": [
       "true"
      ]
     },
     "execution_count": 22,
     "metadata": {},
     "output_type": "execute_result"
    }
   ],
   "source": [
    "x = cl.e1 + 2cl.e2 + 0cl.e3\n",
    "F(inv(x)) ≈ -(cl.e₊ * F(x) * cl.e₊)/(x*x)"
   ]
  },
  {
   "attachments": {
    "750d8db9-1c08-45b2-95ac-9af0566aa70c.png": {
     "image/png": "[encoded data removed]"
    }
   },
   "cell_type": "markdown",
   "id": "b66ae41d-6720-4d55-9250-47ec53ae9620",
   "metadata": {},
   "source": [
    "## 3.3 Translations\n",
    "\n",
    "Given a vector $\\mathbf x$ the translation can be computed as $\\mathbf x + \\mathbf a$. To represent this in our model,\n",
    "we want to apply it as a versor that guarantees that our objects preserve their properties. For example,\n",
    "if we want to translate a circle, we want it to preserve the radius.\n",
    "\n",
    "In the conformal model, every conformal transformation (which includes translations) can be represented as versors.\n",
    "The translation can be represented as reflecting over a plane. The problem with a single reflection is that\n",
    "it will mirror the original object. Yet, if we reflect on two planes, we get the translation without the mirroring, as shown below.\n",
    "\n",
    "![reflection.png](attachment:750d8db9-1c08-45b2-95ac-9af0566aa70c.png)"
   ]
  },
  {
   "cell_type": "markdown",
   "id": "a5ed701e-4495-46f6-a4e3-acffee397188",
   "metadata": {},
   "source": [
    "Thus, a translation will be written as a double reflection.\n",
    "\n",
    "Let $\\mathbf a$ be the translation vector, the translation rotor can be written as\n",
    "\n",
    "$$\n",
    "T_{\\mathbf a} =\n",
    "\\left(\n",
    "1 + \\frac{n_\\infty \\mathbf a}{2}\n",
    "\\right) =\n",
    "\\left(\n",
    "1 - \\frac{\\mathbf a n_\\infty}{2}\n",
    "\\right)\n",
    "=\\exp\\left(\n",
    "\\frac{ - \\mathbf a n_\\infty}{2}\n",
    "\\right).\n",
    "$$\n",
    "\n",
    "We then have:\n",
    "$$\n",
    "T_{\\mathbf a} F(\\mathbf x) \\tilde{T_{\\mathbf a}} = F(\\mathbf x +\\mathbf a).\n",
    "$$"
   ]
  },
  {
   "cell_type": "code",
   "execution_count": 23,
   "id": "e0fb8059-f275-43c5-9c73-8aac223206c5",
   "metadata": {},
   "outputs": [
    {
     "data": {
      "application/vnd.plotly.v1+json": {
       "data": [
        {
         "colorbar": {
          "len": 0.9525371828521435,
          "title": {
           "text": ""
          },
          "x": 0.9934383202099737,
          "y": 0.513888888888889
         },
         "legendgroup": "y1",
         "marker": {
          "color": "rgba(0, 154, 250, 1.000)",
          "line": {
           "color": "rgba(0, 0, 0, 1)",
           "width": 1
          },
          "size": 8,
          "symbol": "circle"
         },
         "mode": "markers",
         "name": "y1",
         "showlegend": true,
         "type": "scatter",
         "x": [
          1
         ],
         "xaxis": "x",
         "y": [
          2
         ],
         "yaxis": "y",
         "zmax": null,
         "zmin": null
        },
        {
         "colorbar": {
          "len": 0.9525371828521435,
          "title": {
           "text": ""
          },
          "x": 0.9934383202099737,
          "y": 0.513888888888889
         },
         "legendgroup": "y2",
         "marker": {
          "color": "rgba(227, 111, 71, 1.000)",
          "line": {
           "color": "rgba(0, 0, 0, 1)",
           "width": 1
          },
          "size": 8,
          "symbol": "circle"
         },
         "mode": "markers",
         "name": "y2",
         "showlegend": true,
         "type": "scatter",
         "x": [
          2
         ],
         "xaxis": "x",
         "y": [
          3
         ],
         "yaxis": "y",
         "zmax": null,
         "zmin": null
        },
        {
         "colorbar": {
          "len": 0.9525371828521435,
          "title": {
           "text": ""
          },
          "x": 0.9934383202099737,
          "y": 0.513888888888889
         },
         "legendgroup": "",
         "line": {
          "color": "rgba(62, 164, 78, 1.000)",
          "dash": "solid",
          "shape": "linear",
          "width": 1
         },
         "mode": "lines",
         "name": "",
         "showlegend": false,
         "type": "scatter",
         "x": [
          1,
          2
         ],
         "xaxis": "x",
         "y": [
          2,
          3
         ],
         "yaxis": "y",
         "zmax": null,
         "zmin": null
        }
       ],
       "layout": {
        "annotations": [],
        "height": 400,
        "margin": {
         "b": 20,
         "l": 0,
         "r": 0,
         "t": 20
        },
        "paper_bgcolor": "rgba(255, 255, 255, 1.000)",
        "plot_bgcolor": "rgba(255, 255, 255, 1.000)",
        "showlegend": false,
        "width": 600,
        "xaxis": {
         "anchor": "y",
         "domain": [
          0.02137649460484106,
          0.9934383202099737
         ],
         "gridcolor": "rgba(0, 0, 0, 0.1)",
         "gridwidth": 0.5,
         "linecolor": "rgba(0, 0, 0, 1)",
         "mirror": false,
         "range": [
          -1.433886567164179,
          3.433886567164179
         ],
         "showgrid": true,
         "showline": false,
         "showticklabels": true,
         "tickangle": 0,
         "tickcolor": "rgba(0, 0, 0, 0)",
         "tickfont": {
          "color": "rgba(0, 0, 0, 1)",
          "family": "sans-serif",
          "size": 11
         },
         "tickmode": "array",
         "ticks": "inside",
         "ticktext": [
          "−1",
          "0",
          "1",
          "2",
          "3"
         ],
         "tickvals": [
          -1,
          0,
          1,
          2,
          3
         ],
         "title": {
          "font": {
           "color": "rgba(0, 0, 0, 1)",
           "family": "sans-serif",
           "size": 15
          },
          "text": ""
         },
         "type": "linear",
         "visible": true,
         "zeroline": true,
         "zerolinecolor": "rgba(0, 0, 0, 1)"
        },
        "yaxis": {
         "anchor": "x",
         "domain": [
          0.03762029746281716,
          0.9901574803149606
         ],
         "gridcolor": "rgba(0, 0, 0, 0.1)",
         "gridwidth": 0.5,
         "linecolor": "rgba(0, 0, 0, 1)",
         "mirror": false,
         "range": [
          -0.09000000000000008,
          3.09
         ],
         "showgrid": true,
         "showline": false,
         "showticklabels": true,
         "tickangle": 0,
         "tickcolor": "rgba(0, 0, 0, 0)",
         "tickfont": {
          "color": "rgba(0, 0, 0, 1)",
          "family": "sans-serif",
          "size": 11
         },
         "tickmode": "array",
         "ticks": "inside",
         "ticktext": [
          "0",
          "1",
          "2",
          "3"
         ],
         "tickvals": [
          0,
          1,
          2,
          3
         ],
         "title": {
          "font": {
           "color": "rgba(0, 0, 0, 1)",
           "family": "sans-serif",
           "size": 15
          },
          "text": ""
         },
         "type": "linear",
         "visible": true,
         "zeroline": true,
         "zerolinecolor": "rgba(0, 0, 0, 1)"
        }
       }
      },
      "image/png": "[encoded data removed]",
      "text/html": [
       "    <div id=\"12449156-6fce-42cd-aec9-da8d3916e506\" style=\"width:600px;height:400px;\"></div>\n",
       "    <script>\n",
       "        requirejs.config({\n",
       "        paths: {\n",
       "            Plotly: 'https://cdn.plot.ly/plotly-2.6.3.min'\n",
       "        }\n",
       "    });\n",
       "    require(['Plotly'], function (Plotly) {\n",
       "\n",
       "    Plotly.newPlot('12449156-6fce-42cd-aec9-da8d3916e506', [\n",
       "    {\n",
       "        \"xaxis\": \"x\",\n",
       "        \"colorbar\": {\n",
       "            \"y\": 0.513888888888889,\n",
       "            \"title\": \"\",\n",
       "            \"len\": 0.9525371828521435,\n",
       "            \"x\": 0.9934383202099737\n",
       "        },\n",
       "        \"yaxis\": \"y\",\n",
       "        \"x\": [\n",
       "            1.0\n",
       "        ],\n",
       "        \"showlegend\": true,\n",
       "        \"mode\": \"markers\",\n",
       "        \"name\": \"y1\",\n",
       "        \"zmin\": null,\n",
       "        \"legendgroup\": \"y1\",\n",
       "        \"marker\": {\n",
       "            \"symbol\": \"circle\",\n",
       "            \"color\": \"rgba(0, 154, 250, 1.000)\",\n",
       "            \"line\": {\n",
       "                \"color\": \"rgba(0, 0, 0, 1.000)\",\n",
       "                \"width\": 1\n",
       "            },\n",
       "            \"size\": 8\n",
       "        },\n",
       "        \"zmax\": null,\n",
       "        \"y\": [\n",
       "            2.0\n",
       "        ],\n",
       "        \"type\": \"scatter\"\n",
       "    },\n",
       "    {\n",
       "        \"xaxis\": \"x\",\n",
       "        \"colorbar\": {\n",
       "            \"y\": 0.513888888888889,\n",
       "            \"title\": \"\",\n",
       "            \"len\": 0.9525371828521435,\n",
       "            \"x\": 0.9934383202099737\n",
       "        },\n",
       "        \"yaxis\": \"y\",\n",
       "        \"x\": [\n",
       "            2.0\n",
       "        ],\n",
       "        \"showlegend\": true,\n",
       "        \"mode\": \"markers\",\n",
       "        \"name\": \"y2\",\n",
       "        \"zmin\": null,\n",
       "        \"legendgroup\": \"y2\",\n",
       "        \"marker\": {\n",
       "            \"symbol\": \"circle\",\n",
       "            \"color\": \"rgba(227, 111, 71, 1.000)\",\n",
       "            \"line\": {\n",
       "                \"color\": \"rgba(0, 0, 0, 1.000)\",\n",
       "                \"width\": 1\n",
       "            },\n",
       "            \"size\": 8\n",
       "        },\n",
       "        \"zmax\": null,\n",
       "        \"y\": [\n",
       "            3.0\n",
       "        ],\n",
       "        \"type\": \"scatter\"\n",
       "    },\n",
       "    {\n",
       "        \"xaxis\": \"x\",\n",
       "        \"colorbar\": {\n",
       "            \"y\": 0.513888888888889,\n",
       "            \"title\": \"\",\n",
       "            \"len\": 0.9525371828521435,\n",
       "            \"x\": 0.9934383202099737\n",
       "        },\n",
       "        \"yaxis\": \"y\",\n",
       "        \"x\": [\n",
       "            1.0,\n",
       "            2.0\n",
       "        ],\n",
       "        \"showlegend\": false,\n",
       "        \"mode\": \"lines\",\n",
       "        \"name\": \"\",\n",
       "        \"zmin\": null,\n",
       "        \"legendgroup\": \"\",\n",
       "        \"zmax\": null,\n",
       "        \"line\": {\n",
       "            \"color\": \"rgba(62, 164, 78, 1.000)\",\n",
       "            \"shape\": \"linear\",\n",
       "            \"dash\": \"solid\",\n",
       "            \"width\": 1\n",
       "        },\n",
       "        \"y\": [\n",
       "            2.0,\n",
       "            3.0\n",
       "        ],\n",
       "        \"type\": \"scatter\"\n",
       "    }\n",
       "]\n",
       ", {\n",
       "    \"showlegend\": false,\n",
       "    \"xaxis\": {\n",
       "        \"showticklabels\": true,\n",
       "        \"gridwidth\": 0.5,\n",
       "        \"tickvals\": [\n",
       "            -1.0,\n",
       "            0.0,\n",
       "            1.0,\n",
       "            2.0,\n",
       "            3.0\n",
       "        ],\n",
       "        \"range\": [\n",
       "            -1.433886567164179,\n",
       "            3.433886567164179\n",
       "        ],\n",
       "        \"domain\": [\n",
       "            0.02137649460484106,\n",
       "            0.9934383202099737\n",
       "        ],\n",
       "        \"mirror\": false,\n",
       "        \"tickangle\": 0,\n",
       "        \"showline\": false,\n",
       "        \"ticktext\": [\n",
       "            \"−1\",\n",
       "            \"0\",\n",
       "            \"1\",\n",
       "            \"2\",\n",
       "            \"3\"\n",
       "        ],\n",
       "        \"zeroline\": true,\n",
       "        \"tickfont\": {\n",
       "            \"color\": \"rgba(0, 0, 0, 1.000)\",\n",
       "            \"family\": \"sans-serif\",\n",
       "            \"size\": 11\n",
       "        },\n",
       "        \"zerolinecolor\": \"rgba(0, 0, 0, 1.000)\",\n",
       "        \"anchor\": \"y\",\n",
       "        \"visible\": true,\n",
       "        \"ticks\": \"inside\",\n",
       "        \"tickmode\": \"array\",\n",
       "        \"linecolor\": \"rgba(0, 0, 0, 1.000)\",\n",
       "        \"showgrid\": true,\n",
       "        \"title\": \"\",\n",
       "        \"gridcolor\": \"rgba(0, 0, 0, 0.100)\",\n",
       "        \"titlefont\": {\n",
       "            \"color\": \"rgba(0, 0, 0, 1.000)\",\n",
       "            \"family\": \"sans-serif\",\n",
       "            \"size\": 15\n",
       "        },\n",
       "        \"tickcolor\": \"rgba(0, 0, 0, 0.000)\",\n",
       "        \"type\": \"-\"\n",
       "    },\n",
       "    \"paper_bgcolor\": \"rgba(255, 255, 255, 1.000)\",\n",
       "    \"annotations\": [],\n",
       "    \"height\": 400,\n",
       "    \"margin\": {\n",
       "        \"l\": 0,\n",
       "        \"b\": 20,\n",
       "        \"r\": 0,\n",
       "        \"t\": 20\n",
       "    },\n",
       "    \"plot_bgcolor\": \"rgba(255, 255, 255, 1.000)\",\n",
       "    \"yaxis\": {\n",
       "        \"showticklabels\": true,\n",
       "        \"gridwidth\": 0.5,\n",
       "        \"tickvals\": [\n",
       "            0.0,\n",
       "            1.0,\n",
       "            2.0,\n",
       "            3.0\n",
       "        ],\n",
       "        \"range\": [\n",
       "            -0.09000000000000008,\n",
       "            3.09\n",
       "        ],\n",
       "        \"domain\": [\n",
       "            0.03762029746281716,\n",
       "            0.9901574803149606\n",
       "        ],\n",
       "        \"mirror\": false,\n",
       "        \"tickangle\": 0,\n",
       "        \"showline\": false,\n",
       "        \"ticktext\": [\n",
       "            \"0\",\n",
       "            \"1\",\n",
       "            \"2\",\n",
       "            \"3\"\n",
       "        ],\n",
       "        \"zeroline\": true,\n",
       "        \"tickfont\": {\n",
       "            \"color\": \"rgba(0, 0, 0, 1.000)\",\n",
       "            \"family\": \"sans-serif\",\n",
       "            \"size\": 11\n",
       "        },\n",
       "        \"zerolinecolor\": \"rgba(0, 0, 0, 1.000)\",\n",
       "        \"anchor\": \"x\",\n",
       "        \"visible\": true,\n",
       "        \"ticks\": \"inside\",\n",
       "        \"tickmode\": \"array\",\n",
       "        \"linecolor\": \"rgba(0, 0, 0, 1.000)\",\n",
       "        \"showgrid\": true,\n",
       "        \"title\": \"\",\n",
       "        \"gridcolor\": \"rgba(0, 0, 0, 0.100)\",\n",
       "        \"titlefont\": {\n",
       "            \"color\": \"rgba(0, 0, 0, 1.000)\",\n",
       "            \"family\": \"sans-serif\",\n",
       "            \"size\": 15\n",
       "        },\n",
       "        \"tickcolor\": \"rgba(0, 0, 0, 0.000)\",\n",
       "        \"type\": \"-\"\n",
       "    },\n",
       "    \"width\": 600\n",
       "}\n",
       ");\n",
       "    });\n",
       "    </script>\n"
      ]
     },
     "execution_count": 23,
     "metadata": {},
     "output_type": "execute_result"
    }
   ],
   "source": [
    "x = cl.e1 + 2cl.e2 + 0cl.e3\n",
    "a = cl.e1 + cl.e2\n",
    "Ta = exp(-a*n∞/2)\n",
    "\n",
    "x_t = Ta * F(x) * reverse(Ta)\n",
    "\n",
    "p1 = scatter([x.e1],[x.e2])\n",
    "p1 = scatter!([x_t.e1],[x_t.e2],\n",
    "    framestyle=:zerolines,\n",
    "    legend=false,\n",
    "    aspect_ratio=1);\n",
    "p1 = quiver!([x.e1],[x.e2],quiver=([a.e1],[a.e2]))"
   ]
  },
  {
   "cell_type": "markdown",
   "id": "5b851d4f-a57c-4ad9-8c91-7ea7a88c5912",
   "metadata": {
    "tags": []
   },
   "source": [
    "## 3.4 Rigid Body Motions and Interpolations\n",
    "\n",
    "In the Conformal Model, rotors define rigid body motions. Any rotor $V$\n",
    "can be represented as a rotation followed by translation:\n",
    "$$\n",
    "V =  T_\\mathbf t R_{\\mathbf I \\phi} = (1 - \\mathbf t \\infty / 2)R_{\\mathbf I \\phi}\n",
    "= R_{\\mathbf I \\phi} - \\mathbf t R_{\\mathbf I \\phi} \\infty /2.\n",
    "$$\n",
    "\n",
    "Thus, given $V$, we can obtain these factors. First, note that\n",
    "$$\n",
    "V n_\\infty = R_{\\mathbf I \\phi} n_\\infty - \\mathbf t R_{\\mathbf I \\phi} n_\\infty \\frac{1}{2} n_\\infty =\n",
    "R_{\\mathbf I \\phi} \\infty\n",
    "$$\n",
    "Hence,\n",
    "$$\n",
    "R_{\\mathbf I \\phi} = n_o \\rfloor (V n_\\infty)/2 = -o \\rfloor (V \\infty)\\\\\n",
    "$$\n",
    "\n",
    "Note, $o \\rfloor R = 0$ since $R$ is a rotation rotor, which is defined by the even product of vectors, which\n",
    "means that $o = 0$ for $R$, and so will be the contraction of $o$ over $R$.\n",
    "$$\n",
    "\\mathbf t = no \\rfloor V / R_{\\mathbf I \\phi} =-2 (o \\rfloor V) / R_{\\mathbf I \\phi}.\n",
    "$$\n"
   ]
  },
  {
   "cell_type": "code",
   "execution_count": 24,
   "id": "8cbd0bd3-2528-4862-af98-8d215e7985b3",
   "metadata": {},
   "outputs": [
    {
     "name": "stdout",
     "output_type": "stream",
     "text": [
      "inv(V) ≈ reverse(V) = true\n",
      "R - (t * R * n∞) / 2 ≈ V = true\n",
      "(R - (t * R * n∞) / 2) * n∞ ≈ R * n∞ = true\n",
      "-no ⨼ (R ∧ n∞) ≈ R = true\n"
     ]
    },
    {
     "ename": "LoadError",
     "evalue": "UndefVarError: o not defined",
     "output_type": "error",
     "traceback": [
      "UndefVarError: o not defined",
      "",
      "Stacktrace:",
      " [1] top-level scope",
      "   @ show.jl:1047",
      " [2] eval",
      "   @ ./boot.jl:368 [inlined]",
      " [3] include_string(mapexpr::typeof(REPL.softscope), mod::Module, code::String, filename::String)",
      "   @ Base ./loading.jl:1428"
     ]
    }
   ],
   "source": [
    "t = 1cl.e1 - 2*cl.e2\n",
    "ϕ = π/4\n",
    "I = cl.e1 ∧ cl.e2\n",
    "R  = exp(-I*ϕ/2)\n",
    "Tt = exp(-t * n∞/2)\n",
    "\n",
    "V = Tt * R\n",
    "@show inv(V) ≈ reverse(V)\n",
    "@show R - t*R*n∞/2 ≈ V\n",
    "\n",
    "@show (R - t*R*n∞/2)*n∞ ≈ R*n∞\n",
    "@show -no ⨼ (R ∧ n∞) ≈ R;\n",
    "\n",
    "@show -2(o ⨼ V)/R == t;"
   ]
  },
  {
   "cell_type": "code",
   "execution_count": 25,
   "id": "33a25688-e454-4ac1-9747-fe3915a02554",
   "metadata": {},
   "outputs": [
    {
     "data": {
      "application/vnd.plotly.v1+json": {
       "data": [
        {
         "colorbar": {
          "len": 0.9525371828521435,
          "title": {
           "text": ""
          },
          "x": 0.8323272090988626,
          "y": 0.513888888888889
         },
         "legendgroup": "x",
         "marker": {
          "color": "rgba(0, 154, 250, 1.000)",
          "line": {
           "color": "rgba(0, 0, 0, 1)",
           "width": 1
          },
          "size": 8,
          "symbol": "circle"
         },
         "mode": "markers",
         "name": "x",
         "showlegend": true,
         "type": "scatter",
         "x": [
          1
         ],
         "xaxis": "x",
         "y": [
          1
         ],
         "yaxis": "y",
         "zmax": null,
         "zmin": null
        },
        {
         "colorbar": {
          "len": 0.9525371828521435,
          "title": {
           "text": ""
          },
          "x": 0.8323272090988626,
          "y": 0.513888888888889
         },
         "legendgroup": "R(x)",
         "marker": {
          "color": "rgba(227, 111, 71, 1.000)",
          "line": {
           "color": "rgba(0, 0, 0, 1)",
           "width": 1
          },
          "size": 8,
          "symbol": "circle"
         },
         "mode": "markers",
         "name": "R(x)",
         "showlegend": true,
         "type": "scatter",
         "x": [
          -2.220446049250313e-16
         ],
         "xaxis": "x",
         "y": [
          1.414213562373095
         ],
         "yaxis": "y",
         "zmax": null,
         "zmin": null
        },
        {
         "colorbar": {
          "len": 0.9525371828521435,
          "title": {
           "text": ""
          },
          "x": 0.8323272090988626,
          "y": 0.513888888888889
         },
         "legendgroup": "T(R(x))",
         "marker": {
          "color": "rgba(62, 164, 78, 1.000)",
          "line": {
           "color": "rgba(0, 0, 0, 1)",
           "width": 1
          },
          "size": 8,
          "symbol": "circle"
         },
         "mode": "markers",
         "name": "T(R(x))",
         "showlegend": true,
         "type": "scatter",
         "x": [
          0.9999999999999998
         ],
         "xaxis": "x",
         "y": [
          -0.5857864376269052
         ],
         "yaxis": "y",
         "zmax": null,
         "zmin": null
        },
        {
         "colorbar": {
          "len": 0.9525371828521435,
          "title": {
           "text": ""
          },
          "x": 0.8323272090988626,
          "y": 0.513888888888889
         },
         "legendgroup": "V(x)",
         "marker": {
          "color": "rgba(195, 113, 210, 1.000)",
          "line": {
           "color": "rgba(0, 0, 0, 1)",
           "width": 1
          },
          "size": 4,
          "symbol": "circle"
         },
         "mode": "markers",
         "name": "V(x)",
         "showlegend": true,
         "type": "scatter",
         "x": [
          1
         ],
         "xaxis": "x",
         "y": [
          -0.5857864376269047
         ],
         "yaxis": "y",
         "zmax": null,
         "zmin": null
        }
       ],
       "layout": {
        "annotations": [],
        "height": 400,
        "legend": {
         "bgcolor": "rgba(255, 255, 255, 1.000)",
         "bordercolor": "rgba(0, 0, 0, 1)",
         "borderwidth": 1,
         "font": {
          "color": "rgba(0, 0, 0, 1)",
          "family": "sans-serif",
          "size": 11
         },
         "title": {
          "font": {
           "color": "rgba(0, 0, 0, 1)",
           "family": "sans-serif",
           "size": 15
          },
          "text": ""
         },
         "tracegroupgap": 0,
         "traceorder": "normal",
         "x": 1,
         "xanchor": "auto",
         "y": 1,
         "yanchor": "auto"
        },
        "margin": {
         "b": 20,
         "l": 0,
         "r": 0,
         "t": 20
        },
        "paper_bgcolor": "rgba(255, 255, 255, 1.000)",
        "plot_bgcolor": "rgba(255, 255, 255, 1.000)",
        "showlegend": true,
        "width": 600,
        "xaxis": {
         "anchor": "y",
         "domain": [
          0.19730242053076705,
          0.8323272090988626
         ],
         "gridcolor": "rgba(0, 0, 0, 0.1)",
         "gridwidth": 0.5,
         "linecolor": "rgba(0, 0, 0, 1)",
         "mirror": false,
         "range": [
          -3,
          3
         ],
         "showgrid": true,
         "showline": false,
         "showticklabels": true,
         "tickangle": 0,
         "tickcolor": "rgba(0, 0, 0, 0)",
         "tickfont": {
          "color": "rgba(0, 0, 0, 1)",
          "family": "sans-serif",
          "size": 11
         },
         "tickmode": "array",
         "ticks": "inside",
         "ticktext": [
          "−3",
          "−2",
          "−1",
          "0",
          "1",
          "2",
          "3"
         ],
         "tickvals": [
          -3,
          -2,
          -1,
          0,
          1,
          2,
          3
         ],
         "title": {
          "font": {
           "color": "rgba(0, 0, 0, 1)",
           "family": "sans-serif",
           "size": 15
          },
          "text": ""
         },
         "type": "linear",
         "visible": true,
         "zeroline": true,
         "zerolinecolor": "rgba(0, 0, 0, 1)"
        },
        "yaxis": {
         "anchor": "x",
         "domain": [
          0.03762029746281716,
          0.9901574803149606
         ],
         "gridcolor": "rgba(0, 0, 0, 0.1)",
         "gridwidth": 0.5,
         "linecolor": "rgba(0, 0, 0, 1)",
         "mirror": false,
         "range": [
          -3,
          3
         ],
         "showgrid": true,
         "showline": false,
         "showticklabels": true,
         "tickangle": 0,
         "tickcolor": "rgba(0, 0, 0, 0)",
         "tickfont": {
          "color": "rgba(0, 0, 0, 1)",
          "family": "sans-serif",
          "size": 11
         },
         "tickmode": "array",
         "ticks": "inside",
         "ticktext": [
          "−3",
          "−2",
          "−1",
          "0",
          "1",
          "2",
          "3"
         ],
         "tickvals": [
          -3,
          -2,
          -1,
          0,
          1,
          2,
          3
         ],
         "title": {
          "font": {
           "color": "rgba(0, 0, 0, 1)",
           "family": "sans-serif",
           "size": 15
          },
          "text": ""
         },
         "type": "linear",
         "visible": true,
         "zeroline": true,
         "zerolinecolor": "rgba(0, 0, 0, 1)"
        }
       }
      },
      "image/png": "[encoded data removed]",
      "text/html": [
       "    <div id=\"3f54aa39-500f-43e4-9a32-29b73187dcf6\" style=\"width:600px;height:400px;\"></div>\n",
       "    <script>\n",
       "        requirejs.config({\n",
       "        paths: {\n",
       "            Plotly: 'https://cdn.plot.ly/plotly-2.6.3.min'\n",
       "        }\n",
       "    });\n",
       "    require(['Plotly'], function (Plotly) {\n",
       "\n",
       "    Plotly.newPlot('3f54aa39-500f-43e4-9a32-29b73187dcf6', [\n",
       "    {\n",
       "        \"xaxis\": \"x\",\n",
       "        \"colorbar\": {\n",
       "            \"y\": 0.513888888888889,\n",
       "            \"title\": \"\",\n",
       "            \"len\": 0.9525371828521435,\n",
       "            \"x\": 0.8323272090988626\n",
       "        },\n",
       "        \"yaxis\": \"y\",\n",
       "        \"x\": [\n",
       "            1.0\n",
       "        ],\n",
       "        \"showlegend\": true,\n",
       "        \"mode\": \"markers\",\n",
       "        \"name\": \"x\",\n",
       "        \"zmin\": null,\n",
       "        \"legendgroup\": \"x\",\n",
       "        \"marker\": {\n",
       "            \"symbol\": \"circle\",\n",
       "            \"color\": \"rgba(0, 154, 250, 1.000)\",\n",
       "            \"line\": {\n",
       "                \"color\": \"rgba(0, 0, 0, 1.000)\",\n",
       "                \"width\": 1\n",
       "            },\n",
       "            \"size\": 8\n",
       "        },\n",
       "        \"zmax\": null,\n",
       "        \"y\": [\n",
       "            1.0\n",
       "        ],\n",
       "        \"type\": \"scatter\"\n",
       "    },\n",
       "    {\n",
       "        \"xaxis\": \"x\",\n",
       "        \"colorbar\": {\n",
       "            \"y\": 0.513888888888889,\n",
       "            \"title\": \"\",\n",
       "            \"len\": 0.9525371828521435,\n",
       "            \"x\": 0.8323272090988626\n",
       "        },\n",
       "        \"yaxis\": \"y\",\n",
       "        \"x\": [\n",
       "            -2.220446049250313e-16\n",
       "        ],\n",
       "        \"showlegend\": true,\n",
       "        \"mode\": \"markers\",\n",
       "        \"name\": \"R(x)\",\n",
       "        \"zmin\": null,\n",
       "        \"legendgroup\": \"R(x)\",\n",
       "        \"marker\": {\n",
       "            \"symbol\": \"circle\",\n",
       "            \"color\": \"rgba(227, 111, 71, 1.000)\",\n",
       "            \"line\": {\n",
       "                \"color\": \"rgba(0, 0, 0, 1.000)\",\n",
       "                \"width\": 1\n",
       "            },\n",
       "            \"size\": 8\n",
       "        },\n",
       "        \"zmax\": null,\n",
       "        \"y\": [\n",
       "            1.414213562373095\n",
       "        ],\n",
       "        \"type\": \"scatter\"\n",
       "    },\n",
       "    {\n",
       "        \"xaxis\": \"x\",\n",
       "        \"colorbar\": {\n",
       "            \"y\": 0.513888888888889,\n",
       "            \"title\": \"\",\n",
       "            \"len\": 0.9525371828521435,\n",
       "            \"x\": 0.8323272090988626\n",
       "        },\n",
       "        \"yaxis\": \"y\",\n",
       "        \"x\": [\n",
       "            0.9999999999999998\n",
       "        ],\n",
       "        \"showlegend\": true,\n",
       "        \"mode\": \"markers\",\n",
       "        \"name\": \"T(R(x))\",\n",
       "        \"zmin\": null,\n",
       "        \"legendgroup\": \"T(R(x))\",\n",
       "        \"marker\": {\n",
       "            \"symbol\": \"circle\",\n",
       "            \"color\": \"rgba(62, 164, 78, 1.000)\",\n",
       "            \"line\": {\n",
       "                \"color\": \"rgba(0, 0, 0, 1.000)\",\n",
       "                \"width\": 1\n",
       "            },\n",
       "            \"size\": 8\n",
       "        },\n",
       "        \"zmax\": null,\n",
       "        \"y\": [\n",
       "            -0.5857864376269052\n",
       "        ],\n",
       "        \"type\": \"scatter\"\n",
       "    },\n",
       "    {\n",
       "        \"xaxis\": \"x\",\n",
       "        \"colorbar\": {\n",
       "            \"y\": 0.513888888888889,\n",
       "            \"title\": \"\",\n",
       "            \"len\": 0.9525371828521435,\n",
       "            \"x\": 0.8323272090988626\n",
       "        },\n",
       "        \"yaxis\": \"y\",\n",
       "        \"x\": [\n",
       "            1.0\n",
       "        ],\n",
       "        \"showlegend\": true,\n",
       "        \"mode\": \"markers\",\n",
       "        \"name\": \"V(x)\",\n",
       "        \"zmin\": null,\n",
       "        \"legendgroup\": \"V(x)\",\n",
       "        \"marker\": {\n",
       "            \"symbol\": \"circle\",\n",
       "            \"color\": \"rgba(195, 113, 210, 1.000)\",\n",
       "            \"line\": {\n",
       "                \"color\": \"rgba(0, 0, 0, 1.000)\",\n",
       "                \"width\": 1\n",
       "            },\n",
       "            \"size\": 4\n",
       "        },\n",
       "        \"zmax\": null,\n",
       "        \"y\": [\n",
       "            -0.5857864376269047\n",
       "        ],\n",
       "        \"type\": \"scatter\"\n",
       "    }\n",
       "]\n",
       ", {\n",
       "    \"showlegend\": true,\n",
       "    \"xaxis\": {\n",
       "        \"showticklabels\": true,\n",
       "        \"gridwidth\": 0.5,\n",
       "        \"tickvals\": [\n",
       "            -3.0,\n",
       "            -2.0,\n",
       "            -1.0,\n",
       "            0.0,\n",
       "            1.0,\n",
       "            2.0,\n",
       "            3.0\n",
       "        ],\n",
       "        \"range\": [\n",
       "            -3.0,\n",
       "            3.0\n",
       "        ],\n",
       "        \"domain\": [\n",
       "            0.19730242053076705,\n",
       "            0.8323272090988626\n",
       "        ],\n",
       "        \"mirror\": false,\n",
       "        \"tickangle\": 0,\n",
       "        \"showline\": false,\n",
       "        \"ticktext\": [\n",
       "            \"−3\",\n",
       "            \"−2\",\n",
       "            \"−1\",\n",
       "            \"0\",\n",
       "            \"1\",\n",
       "            \"2\",\n",
       "            \"3\"\n",
       "        ],\n",
       "        \"zeroline\": true,\n",
       "        \"tickfont\": {\n",
       "            \"color\": \"rgba(0, 0, 0, 1.000)\",\n",
       "            \"family\": \"sans-serif\",\n",
       "            \"size\": 11\n",
       "        },\n",
       "        \"zerolinecolor\": \"rgba(0, 0, 0, 1.000)\",\n",
       "        \"anchor\": \"y\",\n",
       "        \"visible\": true,\n",
       "        \"ticks\": \"inside\",\n",
       "        \"tickmode\": \"array\",\n",
       "        \"linecolor\": \"rgba(0, 0, 0, 1.000)\",\n",
       "        \"showgrid\": true,\n",
       "        \"title\": \"\",\n",
       "        \"gridcolor\": \"rgba(0, 0, 0, 0.100)\",\n",
       "        \"titlefont\": {\n",
       "            \"color\": \"rgba(0, 0, 0, 1.000)\",\n",
       "            \"family\": \"sans-serif\",\n",
       "            \"size\": 15\n",
       "        },\n",
       "        \"tickcolor\": \"rgba(0, 0, 0, 0.000)\",\n",
       "        \"type\": \"-\"\n",
       "    },\n",
       "    \"paper_bgcolor\": \"rgba(255, 255, 255, 1.000)\",\n",
       "    \"annotations\": [],\n",
       "    \"height\": 400,\n",
       "    \"margin\": {\n",
       "        \"l\": 0,\n",
       "        \"b\": 20,\n",
       "        \"r\": 0,\n",
       "        \"t\": 20\n",
       "    },\n",
       "    \"plot_bgcolor\": \"rgba(255, 255, 255, 1.000)\",\n",
       "    \"yaxis\": {\n",
       "        \"showticklabels\": true,\n",
       "        \"gridwidth\": 0.5,\n",
       "        \"tickvals\": [\n",
       "            -3.0,\n",
       "            -2.0,\n",
       "            -1.0,\n",
       "            0.0,\n",
       "            1.0,\n",
       "            2.0,\n",
       "            3.0\n",
       "        ],\n",
       "        \"range\": [\n",
       "            -3.0,\n",
       "            3.0\n",
       "        ],\n",
       "        \"domain\": [\n",
       "            0.03762029746281716,\n",
       "            0.9901574803149606\n",
       "        ],\n",
       "        \"mirror\": false,\n",
       "        \"tickangle\": 0,\n",
       "        \"showline\": false,\n",
       "        \"ticktext\": [\n",
       "            \"−3\",\n",
       "            \"−2\",\n",
       "            \"−1\",\n",
       "            \"0\",\n",
       "            \"1\",\n",
       "            \"2\",\n",
       "            \"3\"\n",
       "        ],\n",
       "        \"zeroline\": true,\n",
       "        \"tickfont\": {\n",
       "            \"color\": \"rgba(0, 0, 0, 1.000)\",\n",
       "            \"family\": \"sans-serif\",\n",
       "            \"size\": 11\n",
       "        },\n",
       "        \"zerolinecolor\": \"rgba(0, 0, 0, 1.000)\",\n",
       "        \"anchor\": \"x\",\n",
       "        \"visible\": true,\n",
       "        \"ticks\": \"inside\",\n",
       "        \"tickmode\": \"array\",\n",
       "        \"linecolor\": \"rgba(0, 0, 0, 1.000)\",\n",
       "        \"showgrid\": true,\n",
       "        \"title\": \"\",\n",
       "        \"gridcolor\": \"rgba(0, 0, 0, 0.100)\",\n",
       "        \"titlefont\": {\n",
       "            \"color\": \"rgba(0, 0, 0, 1.000)\",\n",
       "            \"family\": \"sans-serif\",\n",
       "            \"size\": 15\n",
       "        },\n",
       "        \"tickcolor\": \"rgba(0, 0, 0, 0.000)\",\n",
       "        \"type\": \"-\"\n",
       "    },\n",
       "    \"legend\": {\n",
       "        \"yanchor\": \"auto\",\n",
       "        \"xanchor\": \"auto\",\n",
       "        \"bordercolor\": \"rgba(0, 0, 0, 1.000)\",\n",
       "        \"bgcolor\": \"rgba(255, 255, 255, 1.000)\",\n",
       "        \"borderwidth\": 1,\n",
       "        \"tracegroupgap\": 0,\n",
       "        \"y\": 1.0,\n",
       "        \"font\": {\n",
       "            \"color\": \"rgba(0, 0, 0, 1.000)\",\n",
       "            \"family\": \"sans-serif\",\n",
       "            \"size\": 11\n",
       "        },\n",
       "        \"title\": {\n",
       "            \"font\": {\n",
       "                \"color\": \"rgba(0, 0, 0, 1.000)\",\n",
       "                \"family\": \"sans-serif\",\n",
       "                \"size\": 15\n",
       "            },\n",
       "            \"text\": \"\"\n",
       "        },\n",
       "        \"traceorder\": \"normal\",\n",
       "        \"x\": 1.0\n",
       "    },\n",
       "    \"width\": 600\n",
       "}\n",
       ");\n",
       "    });\n",
       "    </script>\n"
      ]
     },
     "execution_count": 25,
     "metadata": {},
     "output_type": "execute_result"
    }
   ],
   "source": [
    "x = F(cl.e1 + cl.e2)\n",
    "Rx= R*x*reverse(R)\n",
    "Tx= Tt*Rx*reverse(Tt)\n",
    "Vx= V*x*reverse(V)\n",
    "\n",
    "scatter([x.e1],[x.e2],xlims=(-3,3),ylims=(-3,3), aspect_ratio=1,label=\"x\")\n",
    "\n",
    "scatter!([Rx.e1],[Rx.e2],xlims=(-3,3),ylims=(-3,3), aspect_ratio=1,label=\"R(x)\")\n",
    "scatter!([Tx.e1],[Tx.e2],xlims=(-3,3),ylims=(-3,3), aspect_ratio=1,label=\"T(R(x))\",\n",
    "    framestyle=:zerolines)\n",
    "scatter!([Vx.e1],[Vx.e2],xlims=(-3,3),ylims=(-3,3), aspect_ratio=1,label=\"V(x)\",markersize=2)"
   ]
  },
  {
   "cell_type": "markdown",
   "id": "98a3b6d7-9f6e-4066-bdca-3c88aaa3da54",
   "metadata": {},
   "source": [
    "## 3.5 Logarithm\n",
    "\n",
    "Let $V$ be an even versor. We know that $V^n = V V...V$ defines an even\n",
    "versor that can be used to apply $V$ $n$ times, i.e.\n",
    "$V^n X \\tilde{V^n} = V...V X \\tilde{V} ... \\tilde{V}$.\n",
    "\n",
    "Hence, we have:\n",
    "$$\n",
    "V^{1/n} = e^{\\frac{\\log(V)}{n}}\n",
    "$$\n",
    "\n",
    "The formula for the logarithm of an even versor is:\n",
    "\n",
    "$$\n",
    "\\log(T_\\mathbf t R_{\\mathbf I \\phi}) =\n",
    "-((\\mathbf t \\wedge \\mathbf I) / \\mathbf I) \\frac{n_\\infty}{2}\n",
    "+ (1 - R^2)^{-1} (\\mathbf t \\rfloor \\mathbf I \\phi) \\frac{n_\\infty}{2} - \\mathbf I \\phi /2.\n",
    "$$"
   ]
  },
  {
   "cell_type": "code",
   "execution_count": 26,
   "id": "7b01f158-29f5-43f7-baa5-a51f76c95b04",
   "metadata": {},
   "outputs": [],
   "source": [
    "function Base.log(V::MultiVector)\n",
    "    R = - no ⨼ (V * n∞)\n",
    "    t = -2 *(no ⨼ V)/R\n",
    "    if R ≈ -cl.𝟏\n",
    "        throw(\"no unique logarithm\")\n",
    "    end\n",
    "    I = grade(R,2)/√scalar(-(grade(R,2)*grade(R,2)))\n",
    "    ϕ = -2atan(scalar(grade(R,2)/I), scalar(R))\n",
    "    \n",
    "    return (-(t ∧ I)/I + 1/(1-R*R) * t ⨼ I * ϕ)*n∞/2 - I*ϕ/2\n",
    "end"
   ]
  },
  {
   "cell_type": "code",
   "execution_count": 27,
   "id": "d27a6323-e4e7-44f3-9f93-748c748c6256",
   "metadata": {},
   "outputs": [
    {
     "name": "stdout",
     "output_type": "stream",
     "text": [
      "R ≈ cl.e2 / cl.e1 = true\n",
      "Ir ≈ -I = true\n",
      "-2 * atan(scalar(grade(R, 2) / Ir), scalar(R)) ≈ -ϕ = true\n"
     ]
    }
   ],
   "source": [
    "ϕ = π\n",
    "I = cl.e1 ∧ cl.e2\n",
    "R  = exp(-I*ϕ/2)\n",
    "@show R ≈ cl.e2 / cl.e1\n",
    "\n",
    "Ir = grade(R,2)/√scalar(-(grade(R,2)*grade(R,2)))\n",
    "\n",
    "@show Ir ≈ -I\n",
    "@show -2atan(scalar(grade(R,2)/Ir), scalar(R)) ≈ -ϕ;"
   ]
  },
  {
   "cell_type": "code",
   "execution_count": 29,
   "id": "1bb49203-a2ad-4f30-b136-29c60a7885c0",
   "metadata": {},
   "outputs": [
    {
     "data": {
      "text/plain": [
       "true"
      ]
     },
     "execution_count": 29,
     "metadata": {},
     "output_type": "execute_result"
    }
   ],
   "source": [
    "Rrootn = exp(log(R)/4)\n",
    "\n",
    "Rrootn * Rrootn * Rrootn * Rrootn ≈ R"
   ]
  },
  {
   "cell_type": "markdown",
   "id": "cb5f8da0-dff2-4102-88e4-518a96ccdb48",
   "metadata": {},
   "source": [
    "## 3.6 Dilations"
   ]
  },
  {
   "cell_type": "code",
   "execution_count": 477,
   "id": "a133f399-9dbb-4f22-a346-9b784b85a0ca",
   "metadata": {},
   "outputs": [],
   "source": [
    "# exp(α)*F(exp(-α)*x)\n",
    "\n",
    "# exp(cl.e₊*cl.e₋/2)"
   ]
  },
  {
   "cell_type": "code",
   "execution_count": 478,
   "id": "6d4dc96d-e1ae-436b-9b25-d53e623e6b3f",
   "metadata": {
    "tags": []
   },
   "outputs": [
    {
     "data": {
      "application/vnd.plotly.v1+json": {
       "data": [
        {
         "colorbar": {
          "len": 0.9525371828521435,
          "title": {
           "text": ""
          },
          "x": 0.9934383202099738,
          "y": 0.513888888888889
         },
         "legendgroup": "y1",
         "marker": {
          "color": "rgba(0, 154, 250, 1.000)",
          "line": {
           "color": "rgba(0, 0, 0, 1)",
           "width": 1
          },
          "size": 8,
          "symbol": "circle"
         },
         "mode": "markers",
         "name": "y1",
         "showlegend": true,
         "type": "scatter",
         "x": [
          1
         ],
         "xaxis": "x",
         "y": [
          1
         ],
         "yaxis": "y",
         "zmax": null,
         "zmin": null
        },
        {
         "colorbar": {
          "len": 0.9525371828521435,
          "title": {
           "text": ""
          },
          "x": 0.9934383202099738,
          "y": 0.513888888888889
         },
         "legendgroup": "y2",
         "marker": {
          "color": "rgba(227, 111, 71, 1.000)",
          "line": {
           "color": "rgba(0, 0, 0, 1)",
           "width": 1
          },
          "size": 8,
          "symbol": "circle"
         },
         "mode": "markers",
         "name": "y2",
         "showlegend": true,
         "type": "scatter",
         "x": [
          -1
         ],
         "xaxis": "x",
         "y": [
          -1
         ],
         "yaxis": "y",
         "zmax": null,
         "zmin": null
        },
        {
         "colorbar": {
          "len": 0.9525371828521435,
          "title": {
           "text": ""
          },
          "x": 0.9934383202099738,
          "y": 0.513888888888889
         },
         "legendgroup": "y3",
         "marker": {
          "color": "rgba(62, 164, 78, 1.000)",
          "line": {
           "color": "rgba(0, 0, 0, 1)",
           "width": 1
          },
          "size": 8,
          "symbol": "circle"
         },
         "mode": "markers",
         "name": "y3",
         "showlegend": true,
         "type": "scatter",
         "x": [
          1.0000000000000002
         ],
         "xaxis": "x",
         "y": [
          1.0000000000000002
         ],
         "yaxis": "y",
         "zmax": null,
         "zmin": null
        },
        {
         "colorbar": {
          "len": 0.9525371828521435,
          "title": {
           "text": ""
          },
          "x": 0.9934383202099738,
          "y": 0.513888888888889
         },
         "legendgroup": "y4",
         "marker": {
          "color": "rgba(195, 113, 210, 1.000)",
          "line": {
           "color": "rgba(0, 0, 0, 1)",
           "width": 1
          },
          "size": 8,
          "symbol": "circle"
         },
         "mode": "markers",
         "name": "y4",
         "showlegend": true,
         "type": "scatter",
         "x": [
          -1.0000000000000002
         ],
         "xaxis": "x",
         "y": [
          -1.0000000000000002
         ],
         "yaxis": "y",
         "zmax": null,
         "zmin": null
        }
       ],
       "layout": {
        "annotations": [],
        "height": 400,
        "margin": {
         "b": 20,
         "l": 0,
         "r": 0,
         "t": 20
        },
        "paper_bgcolor": "rgba(255, 255, 255, 1.000)",
        "plot_bgcolor": "rgba(255, 255, 255, 1.000)",
        "showlegend": false,
        "width": 600,
        "xaxis": {
         "anchor": "y",
         "domain": [
          0.0658209390492855,
          0.9934383202099738
         ],
         "gridcolor": "rgba(0, 0, 0, 0.1)",
         "gridwidth": 0.5,
         "linecolor": "rgba(0, 0, 0, 1)",
         "mirror": false,
         "range": [
          -1.5484032146957527,
          1.5484032146957527
         ],
         "showgrid": true,
         "showline": true,
         "showticklabels": true,
         "tickangle": 0,
         "tickcolor": "rgb(0, 0, 0)",
         "tickfont": {
          "color": "rgba(0, 0, 0, 1)",
          "family": "sans-serif",
          "size": 11
         },
         "tickmode": "array",
         "ticks": "inside",
         "ticktext": [
          "−1.5",
          "−1.0",
          "−0.5",
          "0.0",
          "0.5",
          "1.0",
          "1.5"
         ],
         "tickvals": [
          -1.5,
          -1,
          -0.5,
          0,
          0.5,
          1,
          1.5
         ],
         "title": {
          "font": {
           "color": "rgba(0, 0, 0, 1)",
           "family": "sans-serif",
           "size": 15
          },
          "text": ""
         },
         "type": "linear",
         "visible": true,
         "zeroline": false,
         "zerolinecolor": "rgba(0, 0, 0, 1)"
        },
        "yaxis": {
         "anchor": "x",
         "domain": [
          0.03762029746281716,
          0.9901574803149606
         ],
         "gridcolor": "rgba(0, 0, 0, 0.1)",
         "gridwidth": 0.5,
         "linecolor": "rgba(0, 0, 0, 1)",
         "mirror": false,
         "range": [
          -1.0600000000000003,
          1.0600000000000003
         ],
         "showgrid": true,
         "showline": true,
         "showticklabels": true,
         "tickangle": 0,
         "tickcolor": "rgb(0, 0, 0)",
         "tickfont": {
          "color": "rgba(0, 0, 0, 1)",
          "family": "sans-serif",
          "size": 11
         },
         "tickmode": "array",
         "ticks": "inside",
         "ticktext": [
          "−1.0",
          "−0.5",
          "0.0",
          "0.5",
          "1.0"
         ],
         "tickvals": [
          -1,
          -0.5,
          0,
          0.5,
          1
         ],
         "title": {
          "font": {
           "color": "rgba(0, 0, 0, 1)",
           "family": "sans-serif",
           "size": 15
          },
          "text": ""
         },
         "type": "linear",
         "visible": true,
         "zeroline": false,
         "zerolinecolor": "rgba(0, 0, 0, 1)"
        }
       }
      },
      "image/png": "[encoded data removed]",
      "text/html": [
       "    <div id=\"36722ec0-d874-4efc-b196-b47e1c7d4767\" style=\"width:600px;height:400px;\"></div>\n",
       "    <script>\n",
       "        requirejs.config({\n",
       "        paths: {\n",
       "            Plotly: 'https://cdn.plot.ly/plotly-2.6.3.min'\n",
       "        }\n",
       "    });\n",
       "    require(['Plotly'], function (Plotly) {\n",
       "\n",
       "    Plotly.newPlot('36722ec0-d874-4efc-b196-b47e1c7d4767', [\n",
       "    {\n",
       "        \"xaxis\": \"x\",\n",
       "        \"colorbar\": {\n",
       "            \"y\": 0.513888888888889,\n",
       "            \"title\": \"\",\n",
       "            \"len\": 0.9525371828521435,\n",
       "            \"x\": 0.9934383202099738\n",
       "        },\n",
       "        \"yaxis\": \"y\",\n",
       "        \"x\": [\n",
       "            1.0\n",
       "        ],\n",
       "        \"showlegend\": true,\n",
       "        \"mode\": \"markers\",\n",
       "        \"name\": \"y1\",\n",
       "        \"zmin\": null,\n",
       "        \"legendgroup\": \"y1\",\n",
       "        \"marker\": {\n",
       "            \"symbol\": \"circle\",\n",
       "            \"color\": \"rgba(0, 154, 250, 1.000)\",\n",
       "            \"line\": {\n",
       "                \"color\": \"rgba(0, 0, 0, 1.000)\",\n",
       "                \"width\": 1\n",
       "            },\n",
       "            \"size\": 8\n",
       "        },\n",
       "        \"zmax\": null,\n",
       "        \"y\": [\n",
       "            1.0\n",
       "        ],\n",
       "        \"type\": \"scatter\"\n",
       "    },\n",
       "    {\n",
       "        \"xaxis\": \"x\",\n",
       "        \"colorbar\": {\n",
       "            \"y\": 0.513888888888889,\n",
       "            \"title\": \"\",\n",
       "            \"len\": 0.9525371828521435,\n",
       "            \"x\": 0.9934383202099738\n",
       "        },\n",
       "        \"yaxis\": \"y\",\n",
       "        \"x\": [\n",
       "            -1.0\n",
       "        ],\n",
       "        \"showlegend\": true,\n",
       "        \"mode\": \"markers\",\n",
       "        \"name\": \"y2\",\n",
       "        \"zmin\": null,\n",
       "        \"legendgroup\": \"y2\",\n",
       "        \"marker\": {\n",
       "            \"symbol\": \"circle\",\n",
       "            \"color\": \"rgba(227, 111, 71, 1.000)\",\n",
       "            \"line\": {\n",
       "                \"color\": \"rgba(0, 0, 0, 1.000)\",\n",
       "                \"width\": 1\n",
       "            },\n",
       "            \"size\": 8\n",
       "        },\n",
       "        \"zmax\": null,\n",
       "        \"y\": [\n",
       "            -1.0\n",
       "        ],\n",
       "        \"type\": \"scatter\"\n",
       "    },\n",
       "    {\n",
       "        \"xaxis\": \"x\",\n",
       "        \"colorbar\": {\n",
       "            \"y\": 0.513888888888889,\n",
       "            \"title\": \"\",\n",
       "            \"len\": 0.9525371828521435,\n",
       "            \"x\": 0.9934383202099738\n",
       "        },\n",
       "        \"yaxis\": \"y\",\n",
       "        \"x\": [\n",
       "            1.0000000000000002\n",
       "        ],\n",
       "        \"showlegend\": true,\n",
       "        \"mode\": \"markers\",\n",
       "        \"name\": \"y3\",\n",
       "        \"zmin\": null,\n",
       "        \"legendgroup\": \"y3\",\n",
       "        \"marker\": {\n",
       "            \"symbol\": \"circle\",\n",
       "            \"color\": \"rgba(62, 164, 78, 1.000)\",\n",
       "            \"line\": {\n",
       "                \"color\": \"rgba(0, 0, 0, 1.000)\",\n",
       "                \"width\": 1\n",
       "            },\n",
       "            \"size\": 8\n",
       "        },\n",
       "        \"zmax\": null,\n",
       "        \"y\": [\n",
       "            1.0000000000000002\n",
       "        ],\n",
       "        \"type\": \"scatter\"\n",
       "    },\n",
       "    {\n",
       "        \"xaxis\": \"x\",\n",
       "        \"colorbar\": {\n",
       "            \"y\": 0.513888888888889,\n",
       "            \"title\": \"\",\n",
       "            \"len\": 0.9525371828521435,\n",
       "            \"x\": 0.9934383202099738\n",
       "        },\n",
       "        \"yaxis\": \"y\",\n",
       "        \"x\": [\n",
       "            -1.0000000000000002\n",
       "        ],\n",
       "        \"showlegend\": true,\n",
       "        \"mode\": \"markers\",\n",
       "        \"name\": \"y4\",\n",
       "        \"zmin\": null,\n",
       "        \"legendgroup\": \"y4\",\n",
       "        \"marker\": {\n",
       "            \"symbol\": \"circle\",\n",
       "            \"color\": \"rgba(195, 113, 210, 1.000)\",\n",
       "            \"line\": {\n",
       "                \"color\": \"rgba(0, 0, 0, 1.000)\",\n",
       "                \"width\": 1\n",
       "            },\n",
       "            \"size\": 8\n",
       "        },\n",
       "        \"zmax\": null,\n",
       "        \"y\": [\n",
       "            -1.0000000000000002\n",
       "        ],\n",
       "        \"type\": \"scatter\"\n",
       "    }\n",
       "]\n",
       ", {\n",
       "    \"showlegend\": false,\n",
       "    \"xaxis\": {\n",
       "        \"showticklabels\": true,\n",
       "        \"gridwidth\": 0.5,\n",
       "        \"tickvals\": [\n",
       "            -1.5,\n",
       "            -1.0,\n",
       "            -0.5,\n",
       "            0.0,\n",
       "            0.5,\n",
       "            1.0,\n",
       "            1.5\n",
       "        ],\n",
       "        \"range\": [\n",
       "            -1.5484032146957527,\n",
       "            1.5484032146957527\n",
       "        ],\n",
       "        \"domain\": [\n",
       "            0.0658209390492855,\n",
       "            0.9934383202099738\n",
       "        ],\n",
       "        \"mirror\": false,\n",
       "        \"tickangle\": 0,\n",
       "        \"showline\": true,\n",
       "        \"ticktext\": [\n",
       "            \"−1.5\",\n",
       "            \"−1.0\",\n",
       "            \"−0.5\",\n",
       "            \"0.0\",\n",
       "            \"0.5\",\n",
       "            \"1.0\",\n",
       "            \"1.5\"\n",
       "        ],\n",
       "        \"zeroline\": false,\n",
       "        \"tickfont\": {\n",
       "            \"color\": \"rgba(0, 0, 0, 1.000)\",\n",
       "            \"family\": \"sans-serif\",\n",
       "            \"size\": 11\n",
       "        },\n",
       "        \"zerolinecolor\": \"rgba(0, 0, 0, 1.000)\",\n",
       "        \"anchor\": \"y\",\n",
       "        \"visible\": true,\n",
       "        \"ticks\": \"inside\",\n",
       "        \"tickmode\": \"array\",\n",
       "        \"linecolor\": \"rgba(0, 0, 0, 1.000)\",\n",
       "        \"showgrid\": true,\n",
       "        \"title\": \"\",\n",
       "        \"gridcolor\": \"rgba(0, 0, 0, 0.100)\",\n",
       "        \"titlefont\": {\n",
       "            \"color\": \"rgba(0, 0, 0, 1.000)\",\n",
       "            \"family\": \"sans-serif\",\n",
       "            \"size\": 15\n",
       "        },\n",
       "        \"tickcolor\": \"rgb(0, 0, 0)\",\n",
       "        \"type\": \"-\"\n",
       "    },\n",
       "    \"paper_bgcolor\": \"rgba(255, 255, 255, 1.000)\",\n",
       "    \"annotations\": [],\n",
       "    \"height\": 400,\n",
       "    \"margin\": {\n",
       "        \"l\": 0,\n",
       "        \"b\": 20,\n",
       "        \"r\": 0,\n",
       "        \"t\": 20\n",
       "    },\n",
       "    \"plot_bgcolor\": \"rgba(255, 255, 255, 1.000)\",\n",
       "    \"yaxis\": {\n",
       "        \"showticklabels\": true,\n",
       "        \"gridwidth\": 0.5,\n",
       "        \"tickvals\": [\n",
       "            -1.0,\n",
       "            -0.5,\n",
       "            0.0,\n",
       "            0.5,\n",
       "            1.0\n",
       "        ],\n",
       "        \"range\": [\n",
       "            -1.0600000000000003,\n",
       "            1.0600000000000003\n",
       "        ],\n",
       "        \"domain\": [\n",
       "            0.03762029746281716,\n",
       "            0.9901574803149606\n",
       "        ],\n",
       "        \"mirror\": false,\n",
       "        \"tickangle\": 0,\n",
       "        \"showline\": true,\n",
       "        \"ticktext\": [\n",
       "            \"−1.0\",\n",
       "            \"−0.5\",\n",
       "            \"0.0\",\n",
       "            \"0.5\",\n",
       "            \"1.0\"\n",
       "        ],\n",
       "        \"zeroline\": false,\n",
       "        \"tickfont\": {\n",
       "            \"color\": \"rgba(0, 0, 0, 1.000)\",\n",
       "            \"family\": \"sans-serif\",\n",
       "            \"size\": 11\n",
       "        },\n",
       "        \"zerolinecolor\": \"rgba(0, 0, 0, 1.000)\",\n",
       "        \"anchor\": \"x\",\n",
       "        \"visible\": true,\n",
       "        \"ticks\": \"inside\",\n",
       "        \"tickmode\": \"array\",\n",
       "        \"linecolor\": \"rgba(0, 0, 0, 1.000)\",\n",
       "        \"showgrid\": true,\n",
       "        \"title\": \"\",\n",
       "        \"gridcolor\": \"rgba(0, 0, 0, 0.100)\",\n",
       "        \"titlefont\": {\n",
       "            \"color\": \"rgba(0, 0, 0, 1.000)\",\n",
       "            \"family\": \"sans-serif\",\n",
       "            \"size\": 15\n",
       "        },\n",
       "        \"tickcolor\": \"rgb(0, 0, 0)\",\n",
       "        \"type\": \"-\"\n",
       "    },\n",
       "    \"width\": 600\n",
       "}\n",
       ");\n",
       "    });\n",
       "    </script>\n"
      ]
     },
     "execution_count": 478,
     "metadata": {},
     "output_type": "execute_result"
    }
   ],
   "source": [
    "D(α) = exp(α*cl.e₊*cl.e₋/2)\n",
    "x = cl.e1 + cl.e2\n",
    "y = -cl.e1 - cl.e2\n",
    "α = 2\n",
    "dx = D(α)*F(x)*reverse(D(α))\n",
    "dy = D(α)*F(y)*reverse(D(α))\n",
    "\n",
    "p1 = scatter([x.e1],[x.e2])\n",
    "p1 = scatter!([y.e1],[y.e2],legend=false, aspect_ratio=1)\n",
    "p1 = scatter!([dx.e1],[dx.e2])\n",
    "p1 = scatter!([dy.e1],[dy.e2])"
   ]
  },
  {
   "cell_type": "code",
   "execution_count": 405,
   "id": "5d6b3d4d-7a33-410f-9d00-58c854c65122",
   "metadata": {},
   "outputs": [
    {
     "data": {
      "text/plain": [
       "true"
      ]
     },
     "execution_count": 405,
     "metadata": {},
     "output_type": "execute_result"
    }
   ],
   "source": [
    "exp(-t * ∞ /2) == exp(-n∞ * t/2)"
   ]
  },
  {
   "cell_type": "code",
   "execution_count": 391,
   "id": "e8e9de26-2fb2-43e9-942e-6cdc582d201c",
   "metadata": {},
   "outputs": [
    {
     "data": {
      "text/plain": [
       "true"
      ]
     },
     "execution_count": 391,
     "metadata": {},
     "output_type": "execute_result"
    }
   ],
   "source": [
    "1 - t*∞/2  ≈ Tt"
   ]
  },
  {
   "cell_type": "code",
   "execution_count": 381,
   "id": "d343c37a-6daa-4e08-8ae3-afa8d99dce2f",
   "metadata": {},
   "outputs": [
    {
     "data": {
      "text/plain": [
       "+0.9238795325112867-0.38268343236508984×e1e2-0.07925633389055353×e1e₊+1.1152212486938318×e2e₊+0.07925633389055353×e1e₋-1.1152212486938318×e2e₋ ∈ Cl(4, 1, 0)"
      ]
     },
     "execution_count": 381,
     "metadata": {},
     "output_type": "execute_result"
    }
   ],
   "source": [
    "V \\"
   ]
  },
  {
   "cell_type": "code",
   "execution_count": 329,
   "id": "b507307a-2f08-468e-b7b3-ac60d701530d",
   "metadata": {},
   "outputs": [
    {
     "data": {
      "text/plain": [
       "-0.9238795325112867+0.38268343236508984×e1e2 ∈ Cl(4, 1, 0)"
      ]
     },
     "execution_count": 329,
     "metadata": {},
     "output_type": "execute_result"
    }
   ],
   "source": [
    "# V / R ≈ Tt\n",
    "# V / R\n",
    "o ⨼ (R*∞)"
   ]
  },
  {
   "cell_type": "code",
   "execution_count": 330,
   "id": "a4045079-21c8-4363-9469-dd2f6f8985d3",
   "metadata": {},
   "outputs": [
    {
     "data": {
      "text/plain": [
       "+0.9238795325112867-0.38268343236508984×e1e2 ∈ Cl(4, 1, 0)"
      ]
     },
     "execution_count": 330,
     "metadata": {},
     "output_type": "execute_result"
    }
   ],
   "source": [
    "R"
   ]
  },
  {
   "cell_type": "code",
   "execution_count": 355,
   "id": "0bd9802c-c0e6-4cd2-a2bf-820289bf35c5",
   "metadata": {},
   "outputs": [
    {
     "data": {
      "text/plain": [
       "+1.0×e1 ∈ Cl(4, 1, 0)"
      ]
     },
     "execution_count": 355,
     "metadata": {},
     "output_type": "execute_result"
    }
   ],
   "source": [
    "-2(o ⨼ V) / R"
   ]
  },
  {
   "cell_type": "code",
   "execution_count": 304,
   "id": "8ef59a01-9419-4d6b-a909-0af01ab6d7e2",
   "metadata": {},
   "outputs": [
    {
     "data": {
      "text/plain": [
       "-1.0×e1 ∈ Cl(4, 1, 0)"
      ]
     },
     "execution_count": 304,
     "metadata": {},
     "output_type": "execute_result"
    }
   ],
   "source": [
    "(no ⨼ V) / R"
   ]
  },
  {
   "cell_type": "code",
   "execution_count": 289,
   "id": "dd2554f6-b035-4fe1-815f-56b433ebfa83",
   "metadata": {},
   "outputs": [
    {
     "data": {
      "text/plain": [
       "true"
      ]
     },
     "execution_count": 289,
     "metadata": {},
     "output_type": "execute_result"
    }
   ],
   "source": [
    "R*n∞ == R∧n∞\n"
   ]
  },
  {
   "cell_type": "code",
   "execution_count": null,
   "id": "2ac99c10-82a7-4156-86b1-7fedc7fce2fb",
   "metadata": {},
   "outputs": [],
   "source": []
  },
  {
   "cell_type": "code",
   "execution_count": 233,
   "id": "a4e5a9c8-cb10-4b48-8568-f0ae35ce3bc1",
   "metadata": {},
   "outputs": [
    {
     "data": {
      "text/plain": [
       "-1.8477590650225735+0.7653668647301797×e1e2 ∈ Cl(4, 1, 0)"
      ]
     },
     "execution_count": 233,
     "metadata": {},
     "output_type": "execute_result"
    }
   ],
   "source": [
    "-no ⨼ (V*n∞)"
   ]
  },
  {
   "cell_type": "code",
   "execution_count": null,
   "id": "d9d6a938-bdb0-4f3c-ad2a-c95902f9d67c",
   "metadata": {},
   "outputs": [],
   "source": []
  }
 ],
 "metadata": {
  "kernelspec": {
   "display_name": "Julia 1.8.2",
   "language": "julia",
   "name": "julia-1.8"
  },
  "language_info": {
   "file_extension": ".jl",
   "mimetype": "application/julia",
   "name": "julia",
   "version": "1.8.2"
  }
 },
 "nbformat": 4,
 "nbformat_minor": 5
}
