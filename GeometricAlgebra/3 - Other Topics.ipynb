{
 "cells": [
  {
   "cell_type": "markdown",
   "id": "f3f94e24-6c26-4207-a889-468e3759e8d8",
   "metadata": {},
   "source": [
    "# **3 - Other Topics**\n",
    "\n",
    "In this notebook we explore some other topics related to Geometric Algebra, namely intersections, joins and geometric differentiation."
   ]
  },
  {
   "cell_type": "code",
   "execution_count": 8,
   "id": "63426d7e-f200-40bd-830f-5993bb0cfdf2",
   "metadata": {},
   "outputs": [
    {
     "name": "stderr",
     "output_type": "stream",
     "text": [
      "\u001b[32m\u001b[1m  Activating\u001b[22m\u001b[39m project at `~/MEGA/EMAP/Julia_Tutorials/GeometricAlgebra`\n"
     ]
    }
   ],
   "source": [
    "using Pkg\n",
    "Pkg.activate(\".\")\n",
    "\n",
    "using CliffordAlgebras\n",
    "using Plots\n",
    "include(\"./auxiliary.jl\")\n",
    "plotly();"
   ]
  },
  {
   "cell_type": "code",
   "execution_count": 9,
   "id": "c7d094aa-feda-4313-bc63-58f90d21a7ad",
   "metadata": {},
   "outputs": [
    {
     "data": {
      "text/plain": [
       "Cl(3,0,0)"
      ]
     },
     "execution_count": 9,
     "metadata": {},
     "output_type": "execute_result"
    }
   ],
   "source": [
    "cl = CliffordAlgebra(3)"
   ]
  },
  {
   "cell_type": "markdown",
   "id": "d3cd835e-3d43-441c-9a47-a4d8805b0669",
   "metadata": {},
   "source": [
    "## 3.1 Meet and Join\n",
    "\n",
    "Two very fundamental operations one might want to do is intersection and union of geometric\n",
    "objects. These can be done via the meet and join operations, yet, it's only meaningful\n",
    "for blades, since these are the type of objects in Geometric Algebra that actually\n",
    "represent geometric objects. Consider two blades $\\mathbf A$ and $\\mathbf B$.\n",
    "Suppose that we could factor them by a blade $\\mathbf M$, thus\n",
    "\n",
    "$$\n",
    "\\mathbf A = \\mathbf A' \\wedge \\mathbf M, \\quad\n",
    "\\mathbf B = \\mathbf M \\wedge \\mathbf B'.\n",
    "$$\n",
    "\n",
    "Therefore, the meet $\\mathbf A \\cap \\mathbf B = \\mathbf M$, while the union is\n",
    "$\\mathbf A' \\wedge \\mathbf M \\wedge \\mathbf B'$.\n",
    "\n",
    "If $\\mathbf A$ and $\\mathbf B$ are disjoint, then $\\mathbf M$ is a scalar (0-blade)."
   ]
  },
  {
   "cell_type": "code",
   "execution_count": null,
   "id": "cf4d5391-05d2-401d-a43a-9e19795807e6",
   "metadata": {},
   "outputs": [],
   "source": []
  },
  {
   "cell_type": "markdown",
   "id": "d9714b5d-ef08-4ebb-9e8b-72ab300eb20c",
   "metadata": {},
   "source": [
    "## 3.X Geometric Differentiation\n",
    "\n",
    "In Geometric Differentation, a useful operator is the so called commutator product $\\times$. This\n",
    "product is *not* the vector product.\n",
    "\n",
    "**Def.(Commutator Product)** The commutator product of two multivectors is\n",
    "$\\times : \\bigwedge \\mathbb R^n \\times \\mathbb R^n \\to \\bigwedge \\mathbb R^n$ where \n",
    "\n",
    "$$\n",
    "X \\times B :=  \\frac{1}{2}(XB - BX).\n",
    "$$\n",
    "\n",
    "This operator is not associative (i.e $(X\\times B) \\times C$ is not always equal to $X \\times (B \\times C)$).\n",
    "It satisfies the Jacobi identity:\n",
    "\n",
    "$$\n",
    "(A \\times B) \\times C + (C \\times A)\\times B  + (B \\times C) \\times A = 0.\n",
    "$$\n",
    "\n",
    "If one of the multivectors, say $B$, is a bivector (i.e. blade with grade 2), then the commutator product\n",
    "preserves the grade of $X$, i.e.\n",
    "\n",
    "$$\n",
    "\\text{grade}(X \\times B) = \\text{grade}(X).\n",
    "$$"
   ]
  },
  {
   "cell_type": "code",
   "execution_count": 3,
   "id": "2f4bab9f-9a74-4d37-84cd-1874c0939852",
   "metadata": {},
   "outputs": [
    {
     "data": {
      "text/plain": [
       "× (generic function with 1 method)"
      ]
     },
     "execution_count": 3,
     "metadata": {},
     "output_type": "execute_result"
    }
   ],
   "source": [
    "function ×(X::MultiVector, B::MultiVector)\n",
    "    return (X*B - B*X)/2\n",
    "end"
   ]
  },
  {
   "cell_type": "code",
   "execution_count": 4,
   "id": "9d4bce40-13e7-4aca-96be-8769f56fc5fa",
   "metadata": {},
   "outputs": [
    {
     "data": {
      "text/plain": [
       "+1.0×e1e2 ∈ Cl(3, 0, 0)"
      ]
     },
     "execution_count": 4,
     "metadata": {},
     "output_type": "execute_result"
    }
   ],
   "source": [
    "cl.e1 × cl.e2"
   ]
  },
  {
   "cell_type": "code",
   "execution_count": 5,
   "id": "be018e06-1cf8-4316-ac89-ae5c73682063",
   "metadata": {},
   "outputs": [],
   "source": [
    "\n",
    "# function xk(x,c = cl.e1 + cl.e2,k = 3)\n",
    "#     xₖ = x\n",
    "#     for i in 1:k\n",
    "#        xₖ = xₖ * cl.e1 * xₖ +  c\n",
    "#     end\n",
    "#     return xₖ\n",
    "# end"
   ]
  },
  {
   "cell_type": "code",
   "execution_count": 6,
   "id": "c562d554-6b73-4d14-84db-151b2ac3fd86",
   "metadata": {},
   "outputs": [],
   "source": [
    "c = 0\n",
    "x₀ = 0.5(cl.e1 + cl.e2)/cl.e1\n",
    "\n",
    "xₖ = x₀\n",
    "# x = [x₀.e1, x₀.e2]\n",
    "for k in 1:5\n",
    "    xₖ = xₖ * cl.e1 * xₖ +  c\n",
    "    # push!(x, [xₖ.e1,xₖ.e2])\n",
    "end\n",
    "# x = vcat(x'...);"
   ]
  },
  {
   "cell_type": "code",
   "execution_count": 7,
   "id": "a9ad8bf2-d386-4dc8-9ee8-10b67a49bcf3",
   "metadata": {},
   "outputs": [
    {
     "data": {
      "text/plain": [
       "+0.5×e2 ∈ Cl(3, 0, 0)"
      ]
     },
     "execution_count": 7,
     "metadata": {},
     "output_type": "execute_result"
    }
   ],
   "source": [
    "# scatter(x[:,1],x[:,2])\n",
    "x₀*cl.e2*x₀ + 0"
   ]
  },
  {
   "cell_type": "code",
   "execution_count": null,
   "id": "dbd53760-4dee-4552-aae1-70015e448f43",
   "metadata": {},
   "outputs": [],
   "source": []
  }
 ],
 "metadata": {
  "kernelspec": {
   "display_name": "Julia 1.8.2",
   "language": "julia",
   "name": "julia-1.8"
  },
  "language_info": {
   "file_extension": ".jl",
   "mimetype": "application/julia",
   "name": "julia",
   "version": "1.8.2"
  }
 },
 "nbformat": 4,
 "nbformat_minor": 5
}
