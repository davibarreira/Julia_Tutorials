{
 "cells": [
  {
   "cell_type": "markdown",
   "id": "c8632c2e-6e6c-44e6-a227-a8817c244a0b",
   "metadata": {
    "tags": []
   },
   "source": [
    "# **1 - Introduction to Geometric Algebra**\n",
    "\n",
    "Geometric Algebra is about working with \"vector spaces\" together with a special\n",
    "product operator, called geometric product.\n",
    "If you have a physics or engineering background, you've probably know\n",
    "inner products and vector products. Yet, when studying a mathematics book \n",
    "on Linear Algebra, it's common for authors to avoid the vector product all together.\n",
    "One possible reason for this is that the vector product does no seem as natural as the inner product.\n",
    "For example, one does not have a vector product in 2D spaces. This begs the question, what \"exactly\" is\n",
    "this vector product?\n",
    "\n",
    "The answer is a bit more convoluted that one might wish, yet, also much more fruitful. The answer to this\n",
    "lies in what is called Geometric Algebra. In Geometric Algebra, as we've said, we introduce\n",
    "a new product, called geometric product. This product exists for all dimensions, and it\n",
    "generalizes both inner product AND vector product.\n",
    "Yet, for this to work, we have to introduce some new constructions.\n",
    "\n",
    "While Linear Algebra deals with vectors, Geometric Algebra deals with multivectors.\n",
    "A multivector is a generalization of a vector. While vectors are only \"arrows\", a multivector\n",
    "can be an arrow, but it can also be a plane or a volume.\n",
    "Let's do an example. Consider we have a vector space in $\\mathbb R^3$, with\n",
    "bases $\\mathbf e_1, \\mathbf e_2, \\mathbf e_3$.\n",
    "While a vector is a linear combination of our vector bases, e.g.\n",
    "$\\alpha \\mathbf e_1 + \\beta \\mathbf e_2 +  \\gamma \\mathbf e_3$,\n",
    "a multivector \n",
    "\n",
    "\n",
    "The first one is what is called a blade.\n",
    "\n",
    "## 1.1 Outer (Exterior) Product\n",
    "\n",
    "Let $V$ be a vector space. Then, a blade $B$ is just a vector subspace of $V$, i.e. \n",
    "if $v_1, v_2 \\in B$, then for any scalars $\\alpha, \\beta$, we have $\\alpha v_1 + \\beta v_2 \\in B$, which implies that\n",
    "$B$ is also a vector space.\n",
    "\n",
    "We want to somehow manipulate these blades (subspaces), and do algebra with them, similar to how we do algebra with vectors (e.g. we can sum vectors\n",
    "and so on). One way to do this is to describe how these subspaces are generated. Hence, we introduce the **outer (exterior) product**.\n",
    "This product is denoted by the wedge operator $\\wedge$.\n",
    "\n",
    "The idea behind the outer product is that for two vectors $v,u \\in V$, $v \\wedge u$ represents the weighted subspace generated\n",
    "by these two vectors. These subspaces are \"weighted\" because $\\alpha v \\wedge u$ generates the same subspace, where\n",
    "$\\alpha$ is a scalar.\n",
    "\n",
    "Since the outer product defines vector subspaces, it must be:\n",
    "\n",
    "* Associative: $v \\wedge (u \\wedge w) = (v \\wedge u) \\wedge w)$,\n",
    "* Commutative with the scalars: $v \\wedge \\alpha u = \\alpha (v \\wedge u)$,\n",
    "* Distributive: $v \\wedge (u + w) = v \\wedge u  + v \\wedge w$.\n",
    "\n",
    "Lastly, if we want to somehow encode the orientation of the subspace (e.g. the orientation of a plane),\n",
    "we have to add one last property:\n",
    "* Antisymmetry: $v \\wedge u = - u \\wedge v$, which implies $v \\wedge v = 0$.\n",
    "\n",
    "\n",
    "Hence, if these vectors are colinear (i.e. $u = \\alpha v$ for some scalar $\\alpha$), we want\n",
    "the outer product to be zero.\n",
    "\n",
    "We can use this outer product to generalize the idea of a vector, and define $k$-vectors.\n",
    "The $k$ represents the \"grade\"of the multivector, which is the same as the dimension of the spanned subspace.\n",
    "A $k$-vector is the linear combination of *simple* $k$-vectors, also known as $k$-blades.\n",
    "A $k$-blade is a $k$-vector that can be written as the outer product of $1$-vectors.\n",
    "\n",
    "For example, consider a 4 dimensional vector space $V$. In this vector space, we define the base vectors\n",
    "to be $e_1,...,e_4$. Thus, an example of a $2$-blade would be $2 e_1 \\wedge e_2$, and an example\n",
    "of a $2$-vector (bivector) would be $1 e_3 \\wedge e_4 + 2 e_1 \\wedge e_2$.\n",
    "Note that our bivector cannot be factored in terms of a wedge product. To see that,\n",
    "consider instead the following bivcecto $e_1 \\wedge e_2 + e_2 \\wedge e_3$. This one\n",
    "can be written as $(e_1 - e_3) \\wedge e_2$, thus, it's a $2$-blade.\n",
    "\n"
   ]
  },
  {
   "cell_type": "markdown",
   "id": "7a429880-13f7-4ed8-8961-d258f1cd6ada",
   "metadata": {},
   "source": [
    "Once we've defined what a blade and a multivector is, we can define the multivector space.\n",
    "Let $V$ be a finite dimensional vector space with base $\\{e_1,e_2,...,e_n\\}$. The multivector space\n",
    "of this vector space is denoted by $\\bigwedge V$, and connsists of the linear combination\n",
    "of all multivectors. The **base blades** of this space are\n",
    "$$\n",
    "\\bigcup_{k=0}^n \\{e_{i_1}\\wedge ...\\wedge e_{i_k} \\ : \\ 1 \\leq i_1 \\leq... \\leq i_k\\}\n",
    "$$\n",
    "\n",
    "Consider the case of the vector space of 3 dimensions. We have:\n",
    "$$\n",
    "\\begin{align}\n",
    "\\bigwedge^0 V &= 1 \\\\\n",
    "\\bigwedge^1 V &= e_1, e_2, e_3\\\\\n",
    "\\bigwedge^2 V &= e_1\\wedge e_2, e_1 \\wedge e_3, e_2 \\wedge e_3 \\\\\n",
    "\\bigwedge^3 V &= e_1\\wedge e_2 \\wedge e_3,\n",
    "\\end{align}\n",
    "$$\n",
    "\n",
    "where $\\bigwedge^k V$ is the $k$-blade space. Note that a multivector is any linear combination of such elements multiplied by a scalar, e.g.\n",
    "$\\alpha + \\beta e_1 + \\gamma e_2 \\wedge e_3$.\n",
    "\n",
    "The $0$-blade is called scalar, and the k-th blade is called pseudo-scalar."
   ]
  },
  {
   "cell_type": "markdown",
   "id": "8ca7ac20-b179-42c4-a82f-30f1a18d264a",
   "metadata": {},
   "source": [
    "Finally, we can define the outer product as:\n",
    "$$\n",
    "\\wedge : \\bigwedge^r V \\times \\bigwedge^s V \\to \\bigwedge^{r + s} V,\n",
    "$$\n",
    "such that the properties we've listed before hold (associativity, commutativity, distributivity).\n",
    "\n",
    "**Def.** (Grade) Given a blade $B \\in \\bigwedge^k V$, the grade of $B$ is equal to $k$.\n",
    "\n",
    "Note that every blade has a grade, yet, an arbitrary multivector might have many grades, e.g. $1 + e_1 + e_1\\wedge e_3$."
   ]
  },
  {
   "cell_type": "markdown",
   "id": "d163a233-65b7-4eb2-b7a0-1ead226e4249",
   "metadata": {},
   "source": [
    "## 1.2 Geometric Product\n",
    "\n",
    "We've introduced the outer product, but we still haven't talked about the Geometric Product, which is the real star of the show.\n",
    "Consider a vector space $V$ with an inner product.\n",
    "Let $\\mathbf a$ be a known vector and $\\alpha$ a known scalar such that $\\mathbf v \\cdot \\mathbf a = \\alpha$. Can we obtain\n",
    "$\\mathbf v$ from this equation? The answer is no, as there are many possible $\\mathbf v$ that satisfy this condition. This\n",
    "means that the inner product is not invertible, and a similar exercise can be done to show that the outer product\n",
    "is also not invertible.\n",
    "\n",
    "Thus comes the geometric product. Let's denote the geometric product by just justaposing\n",
    "symbols, e.g $\\mathbf a \\mathbf b$ is the geometric product of $\\mathbf a$ with $\\mathbf b$.\n",
    "The idea here is to define a product that is invertible, i.e.\n",
    "$\\mathbf a  \\mathbf v = \\alpha \\implies \\mathbf v = \\alpha  \\mathbf a^{-1}$, where $\\exists! \\mathbf a^{-1} \\ : \\ \\mathbf a  \\mathbf a^{-1} = \\mathbf 1$.\n",
    "\n",
    "So what is this product like? For vectors it's actually quite simple,\n",
    "$$\n",
    "\\mathbf a  \\mathbf v = \\mathbf a \\cdot \\mathbf v + \\mathbf a \\wedge \\mathbf v\n",
    "$$\n",
    "Note that the result of the geometric product is a multivector with a scalar $\\mathbf a \\cdot \\mathbf v$\n",
    "and a bivector $\\mathbf a \\wedge \\mathbf v$.\n",
    "\n",
    "It can then be shown that this product is associative, distributive, linear, invertible, but  **not commutative**.\n",
    "\n",
    "Consider the two dimensional Euclidean space. Note that $\\mathbf e_1 \\mathbf e_2 = \\mathbf e_1 \\wedge \\mathbf e_2$,\n",
    "and that\n",
    "$$\n",
    "(\\mathbf e_1 \\mathbf e_2) (\\mathbf e_1 \\mathbf e_2) =\n",
    "- \\mathbf e_1 \\mathbf e_1 \\mathbf e_2 \\mathbf e_2 = - 1.\n",
    "$$\n",
    "This fact shows how the imaginary number appears in geometry. The square of our blade base $\\mathbf e_1 \\mathbf e_2$\n",
    "is negative under the geometric product.\n",
    "\n",
    "What about the inverse? It's clear from the defintion that the inverse of a vector $\\mathbf v$\n",
    "is just $\\frac{\\mathbf v}{\\mathbf v \\cdot \\mathbf v}$, hence\n",
    "$$\n",
    "\\mathbf v \\mathbf v^{-1} = \\mathbf v \\left(\\frac{\\mathbf v}{\\mathbf v \\cdot \\mathbf v}\\right) = \n",
    "\\frac{\\mathbf v \\mathbf v}{\\mathbf v \\cdot \\mathbf v} =\n",
    "\\frac{\\mathbf v \\cdot \\mathbf v + \\mathbf v \\wedge \\mathbf v}{\\mathbf v \\cdot \\mathbf v} = \n",
    "\\frac{\\mathbf v \\cdot \\mathbf v}{\\mathbf v \\cdot \\mathbf v} =  1.\n",
    "$$\n",
    "\n",
    "Note that the inverse of a vector only exists if it's norm is non-null.\n",
    "\n",
    "Our definition of the Geomtric Product was done only for vectors. We want to extend\n",
    "it to multivectors. Thus, our product must be defined on\n",
    "$\\bigwedge V \\times \\bigwedge V \\to \\bigwedge V$.\n",
    "\n",
    "Although our original construction gave an explicit formula for the geomtric product, the strategy\n",
    "to define it in multivector space is different. Instead of a formula, we postulate the desired properties, which are:\n",
    "* **Scalars** are commutative, and their geometric product is equal to their prdocut;\n",
    "* **Vector Square** is just $\\mathbf v^2 = \\mathbf v \\mathbf v = \\mathbf v \\cdot \\mathbf v$;\n",
    "* **Distributive and Linear** for multivectors, i.e. $A(B + C) = AB + C$ and $(B+C)A = BA + CA$;\n",
    "* **Associative** for multivectors, i.e. $A(BC) = (AB)C$.\n",
    "\n",
    "Note that we do note enforce commutativeness.\n",
    "\n",
    "From these properties, we can prove, for example, that for base vectors $\\mathbf e_1$ and $\\mathbf e_2$ we have\n",
    "$\\mathbf e_i \\mathbf e_j = - \\mathbf e_j \\mathbf e_i$.\n"
   ]
  },
  {
   "cell_type": "markdown",
   "id": "f3a792a9-5aaf-44b1-8632-3e23f617eabd",
   "metadata": {},
   "source": [
    "## 1.3 More Operators on Multivectors\n",
    "\n",
    "We've introduced the geometric product, which is the king of Geometric Algebra.\n",
    "From this product we can construct other operators which can be very useful. For example,\n",
    "we can define the left contraction, which can be seen as a generalization of the inner product\n",
    "for multivectors.\n",
    "\n",
    "**Def.** (Left Contraction - according to Dorst) The left contraction is a bilinear operator\n",
    "$$\n",
    "\\rfloor : \\bigwedge^k V \\times \\bigwedge^l V \\to \\bigwedge^{k-l} V,\n",
    "$$\n",
    "with the following properties:\n",
    "* $\\alpha \\rfloor \\mathbf B  = \\alpha \\mathbf B$;\n",
    "* $\\mathbf B \\rfloor \\alpha = 0$ if $\\text{grade}(\\mathbf B) > 0 > 0 > 0 > 0$;\n",
    "* $\\mathbf a \\rfloor \\mathbf b = \\mathbf a \\cdot \\mathbf b$;\n",
    "* $\\mathbf a \\rfloor (\\mathbf B \\wedge \\mathbf C) = \\mathbf (a \\rfloor \\mathbf B)\\wedge \\mathbf C + (-1)^{\\text{grade(\\mathbf B)}} \\mathbf B \\wedge (\\mathbf a \\rfloor \\mathbf C)$;\n",
    "* $(\\mathbf A \\wedge \\mathbf B) \\rfloor \\mathbf C = \\mathbf A \\rfloor (\\mathbf B \\rfloor \\mathbf C)$.\n",
    "\n",
    "Where $\\alpha$ is a scalar, $\\mathbf a, \\mathbf b$ are vectors, and $\\mathbf A, \\mathbf B, \\mathbf C$ are blades.\n",
    "\n",
    "In an analogous way, we have the right contraction.\n",
    "\n",
    "\n",
    "**Def.** (Grade Involution - Dorst)\n",
    "$$\n",
    "\\hat{\\mathbf B} = (-1) ^{\\text{grade}(\\mathbf B)} \\mathbf B.\n",
    "$$\n",
    "\n",
    "\n",
    "One can show that:\n",
    "$$\n",
    "\\mathbf{a B} = \\mathbf a \\rfloor \\mathbf B + \\mathbf a \\wedge \\mathbf B,\n",
    "$$\n",
    "where $\\mathbf a$ is a vector and $\\mathbf B$ is a blade.\n",
    "\n",
    "\n",
    "**Def.** (Reversion - Dorst)\n",
    "$$\n",
    "\\tilde{\\mathbf B} = (-1) ^{\\text{grade}(\\mathbf B)(\\text{grade}(\\mathbf B)-1)/2} \\mathbf B.\n",
    "$$\n",
    "Here is an example, let $\\mathbf B = \\mathbf e_1 \\wedge \\mathbf e_2 \\wedge \\mathbf e_3$. Then,\n",
    "$\\tilde{\\mathbf B} = \\mathbf e_3 \\wedge \\mathbf e_2 \\wedge \\mathbf e_1 = -\\mathbf B$.\n",
    "\n",
    "\n",
    "Both the **reverse** and **involution** can be extended to any multivector by applying them to each grade. For example:\n",
    "\n",
    "$$\n",
    "\\begin{align}\n",
    "X = \\mathbf e_1 + \\mathbf e_1 \\wedge \\mathbf e_2 & \\implies\n",
    "\\hat{X} = (-1)^1 \\mathbf e_1 + (-1)^{2} \\mathbf e_1 \\wedge \\mathbf e_2 = -1 \\mathbf e_1 +  \\mathbf e_1 \\wedge \\mathbf e_2\n",
    "\\\\\n",
    "& \\implies\n",
    "\\tilde{X} = \\mathbf e_1 + \\mathbf e_2 \\wedge \\mathbf e_1 = \\mathbf e_1 - \\mathbf e_2 \\wedge \\mathbf e_1.\n",
    "\\end{align}\n",
    "$$"
   ]
  },
  {
   "cell_type": "markdown",
   "id": "8f0d396a-6f69-449a-bca3-e025bf2d2c41",
   "metadata": {},
   "source": [
    "Another clever way of obtaining these operators is by simply using the grade selection $\\langle \\rangle_k$. This\n",
    "operation consists of spitting out the corresponding value of the $k$-th grade of a multivector. For example,\n",
    "let $x = 1 + 2 \\mathbf e_1 + 3 \\mathbf e_2 + 4 \\mathbf e_1 \\wedge \\mathbf e_2$, then\n",
    "$$\n",
    "\\langle x \\rangle_0 = 1 \\\\\n",
    "\\langle x \\rangle_1 = 2 \\mathbf e_1 + 3 \\mathbf e_2 \\\\\n",
    "\\langle x \\rangle_2 = 3 \\mathbf e_1 \\wedge \\mathbf e_2.\n",
    "$$\n",
    "\n",
    "Using this operation, we have:\n",
    "$$\n",
    "\\begin{align}\n",
    "\\mathbf A_k \\wedge \\mathbf B_l  &\\equiv \\langle \\mathbf A_k \\mathbf B_l \\rangle_{k+l}\\\\\n",
    "\\mathbf A_k \\rfloor \\mathbf B_l &\\equiv \\langle \\mathbf A_k \\mathbf B_l \\rangle_{l-k}\\\\\n",
    "\\mathbf A_k \\lfloor \\mathbf B_l &\\equiv \\langle \\mathbf A_k \\mathbf B_l \\rangle_{k-l}\\\\\n",
    "\\mathbf A_k * \\mathbf B_l       &\\equiv \\langle \\mathbf A_k \\mathbf B_l \\rangle_{0}\n",
    "\\end{align}\n",
    "$$\n",
    "\n",
    "The last operation is called **scalar product**.\n",
    "\n",
    "Another operation that comes often is dualization, which is defined\n",
    "as an mapping  $^*: \\bigwedge^k V \\to \\bigwedge^{\\text{dim}(V) - k}V$.\n",
    "We can compute dualization with the following formula:\n",
    "\n",
    "$$\n",
    "\\mathbf A^* = \\mathbf A \\rfloor \\mathbf I^{-1},\n",
    "$$\n",
    "\n",
    "where $\\mathbf A$ is a blade, and $\\mathbf I$ is the pseudo-vector of the multivector space."
   ]
  },
  {
   "cell_type": "markdown",
   "id": "6aff9e20-09c9-4609-b812-ffca5189ade4",
   "metadata": {},
   "source": [
    "## 1.4 Multivector Norm\n",
    "\n",
    "The norm squared of a vector is simply $\\mathbf a \\cdot \\mathbf a$, where the inner product is a property of the underlying vector space.\n",
    "For a blade, this norm can be computed as:\n",
    "$$\n",
    "\\mathbf ||\\mathbf B||^2 = \\mathbf B * \\tilde{\\mathbf B}.\n",
    "$$\n",
    "One can check that this satisfies the properties of a norm."
   ]
  },
  {
   "cell_type": "markdown",
   "id": "7293f5a6-7ab1-4804-9853-200741a9579c",
   "metadata": {},
   "source": [
    "## 1.5 Inverting Multivectors\n",
    "\n",
    "We've shown how to invert a vector. This operation can be useful in different situation. For example, if\n",
    "a vector $\\mathbf a$ is proportional to $\\mathbf b$, what is the vector $\\mathbf x$ that is proportional\n",
    "in the same way to a vector $\\mathbf c$? This is just:\n",
    "$$\n",
    "\\frac{\\mathbf a}{\\mathbf b} =\n",
    "\\frac{\\mathbf x}{\\mathbf c} \\implies\n",
    "\\mathbf x = \\frac{\\mathbf a}{\\mathbf b} \\mathbf c =  \\mathbf a \\mathbf b^{-1} \\mathbf c \n",
    "$$\n",
    "\n",
    "We know how to find $\\mathbf b^{-1}$, but what about a more generic multivector? Again, the inverse\n",
    "only exists for multivector with $x^2 \\neq 0$.\n",
    "\n",
    "For blades, the formula for the inverse is almost the same as for vectors:\n",
    "$$\n",
    "\\mathbf B^{-1} = \\frac{\\mathbf B}{\\mathbf B * \\mathbf B} = \n",
    "\\frac{\\tilde{\\mathbf B}}{\\mathbf B * \\tilde{\\mathbf B}} = \n",
    "\\frac{\\tilde{\\mathbf B}}{||\\mathbf B ||^2}.\n",
    "$$\n",
    "\n",
    "The last point we make is that division is not commutative. Consider for example:\n",
    "$$\n",
    "\\mathbf x \\mathbf a \\mathbf a^{-1}\n",
    "= (\\mathbf x \\cdot \\mathbf a + \\mathbf x \\wedge \\mathbf a) \\mathbf a^{-1}\n",
    "= (\\mathbf x \\cdot \\mathbf a) \\mathbf a^{-1} + (\\mathbf x \\wedge \\mathbf a) \\mathbf a^{-1}.\n",
    "$$\n",
    "\n",
    "If we change the order we have:\n",
    "$$\n",
    "\\mathbf a^{-1} \\mathbf x \\mathbf a = \n",
    "\\frac{1}{\\mathbf a \\mathbf a}\\mathbf a \\mathbf x \\mathbf a = \n",
    "\\mathbf a\\mathbf x \\mathbf a \\frac{1}{\\mathbf a \\mathbf a}\n",
    "= (\\mathbf a \\cdot \\mathbf x) \\mathbf a^{-1} + (\\mathbf a \\wedge \\mathbf x) \\mathbf a^{-1}\n",
    "= (\\mathbf x \\cdot \\mathbf a) \\mathbf a^{-1} - (\\mathbf x \\wedge \\mathbf a) \\mathbf a^{-1}.\n",
    "$$\n",
    "\n",
    "Note that this sandwishing of $\\mathbf a$ and $\\mathbf a^{-1}$ results in a reflection of \n",
    "$\\mathbf x $ around the vector $\\mathbf a$. In the next section we explore more how these\n",
    "transformations are done in Geometric Algebra.\n"
   ]
  },
  {
   "cell_type": "markdown",
   "id": "7d38a95b-b631-4ad4-9c5c-1cc1c6672a17",
   "metadata": {},
   "source": [
    "## 1.6 Clifford Algebra versus Geometric Algebra\n",
    "\n",
    "The distinction between Clifford Algebra and Geometric Algebra is not generally accepted, yet, it's posed by\n",
    "Leo Dorst. The ideas is that, while Clifford Algebra considers all possible multivectors of a multivector space $\\bigwedge V$,\n",
    "the Geometric Algebra only allows objects that are constructed via either geometric product of scalars, vectors, dual scalars and dual vectors.\n",
    "Hence, there might exist multivectors in a Clifford Algebra that cannot be constructed in Geometric Algebra."
   ]
  },
  {
   "cell_type": "code",
   "execution_count": 28,
   "id": "f3bbcf72-c041-48ce-8e11-6a8a88148522",
   "metadata": {},
   "outputs": [
    {
     "name": "stderr",
     "output_type": "stream",
     "text": [
      "\u001b[32m\u001b[1m  Activating\u001b[22m\u001b[39m project at `~/MEGA/EMAP/Julia_Tutorials/GeometricAlgebra`\n"
     ]
    }
   ],
   "source": [
    "using Pkg\n",
    "Pkg.activate(\".\")\n",
    "\n",
    "using CliffordAlgebras\n",
    "using Plots"
   ]
  },
  {
   "cell_type": "code",
   "execution_count": 29,
   "id": "5b9571b4-e701-4cfc-b8d4-8111b828fa43",
   "metadata": {},
   "outputs": [
    {
     "data": {
      "text/plain": [
       "inversion"
      ]
     },
     "execution_count": 29,
     "metadata": {},
     "output_type": "execute_result"
    }
   ],
   "source": [
    "include(\"auxiliary.jl\")"
   ]
  },
  {
   "cell_type": "code",
   "execution_count": 30,
   "id": "6bcaceed-3e28-410d-b128-aaf13fadc36e",
   "metadata": {},
   "outputs": [
    {
     "data": {
      "text/plain": [
       "(:𝟏, :e1, :e2, :e3, :e₊, :e₋, :e1e2, :e1e3, :e2e3, :e1e₊, :e2e₊, :e3e₊, :e1e₋, :e2e₋, :e3e₋, :e₊e₋, :e1e2e3, :e1e₊e2, :e1e3e₊, :e2e₊e3, :e1e2e₋, :e1e₋e3, :e2e3e₋, :e1e₊e₋, :e2e₋e₊, :e3e₊e₋, :e1e2e3e₊, :e1e2e₋e3, :e1e2e₊e₋, :e1e3e₋e₊, :e2e3e₊e₋, :e1e2e3e₊e₋)"
      ]
     },
     "execution_count": 30,
     "metadata": {},
     "output_type": "execute_result"
    }
   ],
   "source": [
    "cl = CliffordAlgebra(:CGA3D)\n",
    "propertynames(cl)"
   ]
  },
  {
   "cell_type": "code",
   "execution_count": 32,
   "id": "e42e13e7-1513-4601-b77c-48c79663deab",
   "metadata": {},
   "outputs": [
    {
     "data": {
      "text/plain": [
       "+1 ∈ Cl(3, 0, 0)"
      ]
     },
     "execution_count": 32,
     "metadata": {},
     "output_type": "execute_result"
    }
   ],
   "source": [
    "cl.𝟏"
   ]
  },
  {
   "cell_type": "code",
   "execution_count": 34,
   "id": "7d228fe7-0b78-45f3-9efb-7923a18495e5",
   "metadata": {},
   "outputs": [
    {
     "name": "stdout",
     "output_type": "stream",
     "text": [
      "reverse(B) = -1×e1e2e3 ∈ Cl(3, 0, 0)\n",
      "grin(B) = -1×e1e2e3 ∈ Cl(3, 0, 0)\n",
      "inv(B) == reverse(B) / norm_sqr(B) = true\n",
      "dual(B) == B ⨼ inv(I) = true\n"
     ]
    }
   ],
   "source": [
    "cl = CliffordAlgebra(3)\n",
    "\n",
    "B = cl.e1 ∧ cl.e2 ∧ cl.e3 \n",
    "I = cl.e1 ∧ cl.e2 ∧ cl.e3 \n",
    "\n",
    "@show reverse(B)\n",
    "@show grin(B); # This is the function for involution\n",
    "@show inv(B) == reverse(B) / norm_sqr(B); #Show that inv is equivalent to our formula\n",
    "@show dual(B) == B ⨼ inv(I); # Show that dualization is given by the formula above.\n",
    "# \\wedge   = ∧\n",
    "# \\intprod = ⨼"
   ]
  },
  {
   "cell_type": "code",
   "execution_count": 35,
   "id": "478265d1-accd-45cb-b6b4-e626aa222dfb",
   "metadata": {},
   "outputs": [
    {
     "name": "stdout",
     "output_type": "stream",
     "text": [
      "grin(X) = -1×e1+1×e1e2 ∈ Cl(3, 0, 0)\n",
      "reverse(X) = +1×e1-1×e1e2 ∈ Cl(3, 0, 0)\n"
     ]
    }
   ],
   "source": [
    "X = cl.e1 + cl.e1 ∧ cl.e2\n",
    "@show grin(X)\n",
    "@show reverse(X);"
   ]
  },
  {
   "cell_type": "markdown",
   "id": "781f173a-97f9-4423-946d-581a191663cf",
   "metadata": {},
   "source": [
    "Lastly, let's show that the reflection transformation works. "
   ]
  },
  {
   "cell_type": "code",
   "execution_count": 36,
   "id": "f82db7e8-3f45-49ad-8f37-8b7d76ac4ce8",
   "metadata": {},
   "outputs": [
    {
     "data": {
      "image/svg+xml": [
       "<?xml version=\"1.0\" encoding=\"utf-8\"?>\n",
       "<svg xmlns=\"http://www.w3.org/2000/svg\" xmlns:xlink=\"http://www.w3.org/1999/xlink\" width=\"600\" height=\"400\" viewBox=\"0 0 2400 1600\">\n",
       "<defs>\n",
       "  <clipPath id=\"clip720\">\n",
       "    <rect x=\"0\" y=\"0\" width=\"2400\" height=\"1600\"/>\n",
       "  </clipPath>\n",
       "</defs>\n",
       "<path clip-path=\"url(#clip720)\" d=\"\n",
       "M0 1600 L2400 1600 L2400 0 L0 0  Z\n",
       "  \" fill=\"#ffffff\" fill-rule=\"evenodd\" fill-opacity=\"1\"/>\n",
       "<defs>\n",
       "  <clipPath id=\"clip721\">\n",
       "    <rect x=\"480\" y=\"0\" width=\"1681\" height=\"1600\"/>\n",
       "  </clipPath>\n",
       "</defs>\n",
       "<path clip-path=\"url(#clip720)\" d=\"\n",
       "M186.274 1486.45 L2352.76 1486.45 L2352.76 47.2441 L186.274 47.2441  Z\n",
       "  \" fill=\"#ffffff\" fill-rule=\"evenodd\" fill-opacity=\"1\"/>\n",
       "<defs>\n",
       "  <clipPath id=\"clip722\">\n",
       "    <rect x=\"186\" y=\"47\" width=\"2167\" height=\"1440\"/>\n",
       "  </clipPath>\n",
       "</defs>\n",
       "<polyline clip-path=\"url(#clip722)\" style=\"stroke:#000000; stroke-linecap:round; stroke-linejoin:round; stroke-width:2; stroke-opacity:0.1; fill:none\" points=\"\n",
       "  247.59,1486.45 247.59,47.2441 \n",
       "  \"/>\n",
       "<polyline clip-path=\"url(#clip722)\" style=\"stroke:#000000; stroke-linecap:round; stroke-linejoin:round; stroke-width:2; stroke-opacity:0.1; fill:none\" points=\"\n",
       "  612.563,1486.45 612.563,47.2441 \n",
       "  \"/>\n",
       "<polyline clip-path=\"url(#clip722)\" style=\"stroke:#000000; stroke-linecap:round; stroke-linejoin:round; stroke-width:2; stroke-opacity:0.1; fill:none\" points=\"\n",
       "  977.536,1486.45 977.536,47.2441 \n",
       "  \"/>\n",
       "<polyline clip-path=\"url(#clip722)\" style=\"stroke:#000000; stroke-linecap:round; stroke-linejoin:round; stroke-width:2; stroke-opacity:0.1; fill:none\" points=\"\n",
       "  1342.51,1486.45 1342.51,47.2441 \n",
       "  \"/>\n",
       "<polyline clip-path=\"url(#clip722)\" style=\"stroke:#000000; stroke-linecap:round; stroke-linejoin:round; stroke-width:2; stroke-opacity:0.1; fill:none\" points=\"\n",
       "  1707.48,1486.45 1707.48,47.2441 \n",
       "  \"/>\n",
       "<polyline clip-path=\"url(#clip722)\" style=\"stroke:#000000; stroke-linecap:round; stroke-linejoin:round; stroke-width:2; stroke-opacity:0.1; fill:none\" points=\"\n",
       "  2072.46,1486.45 2072.46,47.2441 \n",
       "  \"/>\n",
       "<polyline clip-path=\"url(#clip720)\" style=\"stroke:#000000; stroke-linecap:round; stroke-linejoin:round; stroke-width:4; stroke-opacity:1; fill:none\" points=\"\n",
       "  186.274,1486.45 2352.76,1486.45 \n",
       "  \"/>\n",
       "<polyline clip-path=\"url(#clip720)\" style=\"stroke:#000000; stroke-linecap:round; stroke-linejoin:round; stroke-width:4; stroke-opacity:1; fill:none\" points=\"\n",
       "  247.59,1486.45 247.59,1467.55 \n",
       "  \"/>\n",
       "<polyline clip-path=\"url(#clip720)\" style=\"stroke:#000000; stroke-linecap:round; stroke-linejoin:round; stroke-width:4; stroke-opacity:1; fill:none\" points=\"\n",
       "  612.563,1486.45 612.563,1467.55 \n",
       "  \"/>\n",
       "<polyline clip-path=\"url(#clip720)\" style=\"stroke:#000000; stroke-linecap:round; stroke-linejoin:round; stroke-width:4; stroke-opacity:1; fill:none\" points=\"\n",
       "  977.536,1486.45 977.536,1467.55 \n",
       "  \"/>\n",
       "<polyline clip-path=\"url(#clip720)\" style=\"stroke:#000000; stroke-linecap:round; stroke-linejoin:round; stroke-width:4; stroke-opacity:1; fill:none\" points=\"\n",
       "  1342.51,1486.45 1342.51,1467.55 \n",
       "  \"/>\n",
       "<polyline clip-path=\"url(#clip720)\" style=\"stroke:#000000; stroke-linecap:round; stroke-linejoin:round; stroke-width:4; stroke-opacity:1; fill:none\" points=\"\n",
       "  1707.48,1486.45 1707.48,1467.55 \n",
       "  \"/>\n",
       "<polyline clip-path=\"url(#clip720)\" style=\"stroke:#000000; stroke-linecap:round; stroke-linejoin:round; stroke-width:4; stroke-opacity:1; fill:none\" points=\"\n",
       "  2072.46,1486.45 2072.46,1467.55 \n",
       "  \"/>\n",
       "<path clip-path=\"url(#clip720)\" d=\"M209.893 1517.37 Q206.282 1517.37 204.453 1520.93 Q202.648 1524.47 202.648 1531.6 Q202.648 1538.71 204.453 1542.27 Q206.282 1545.82 209.893 1545.82 Q213.527 1545.82 215.333 1542.27 Q217.161 1538.71 217.161 1531.6 Q217.161 1524.47 215.333 1520.93 Q213.527 1517.37 209.893 1517.37 M209.893 1513.66 Q215.703 1513.66 218.759 1518.27 Q221.837 1522.85 221.837 1531.6 Q221.837 1540.33 218.759 1544.94 Q215.703 1549.52 209.893 1549.52 Q204.083 1549.52 201.004 1544.94 Q197.949 1540.33 197.949 1531.6 Q197.949 1522.85 201.004 1518.27 Q204.083 1513.66 209.893 1513.66 Z\" fill=\"#000000\" fill-rule=\"evenodd\" fill-opacity=\"1\" /><path clip-path=\"url(#clip720)\" d=\"M230.055 1542.97 L234.939 1542.97 L234.939 1548.85 L230.055 1548.85 L230.055 1542.97 Z\" fill=\"#000000\" fill-rule=\"evenodd\" fill-opacity=\"1\" /><path clip-path=\"url(#clip720)\" d=\"M255.124 1517.37 Q251.513 1517.37 249.684 1520.93 Q247.879 1524.47 247.879 1531.6 Q247.879 1538.71 249.684 1542.27 Q251.513 1545.82 255.124 1545.82 Q258.758 1545.82 260.564 1542.27 Q262.393 1538.71 262.393 1531.6 Q262.393 1524.47 260.564 1520.93 Q258.758 1517.37 255.124 1517.37 M255.124 1513.66 Q260.934 1513.66 263.99 1518.27 Q267.069 1522.85 267.069 1531.6 Q267.069 1540.33 263.99 1544.94 Q260.934 1549.52 255.124 1549.52 Q249.314 1549.52 246.235 1544.94 Q243.18 1540.33 243.18 1531.6 Q243.18 1522.85 246.235 1518.27 Q249.314 1513.66 255.124 1513.66 Z\" fill=\"#000000\" fill-rule=\"evenodd\" fill-opacity=\"1\" /><path clip-path=\"url(#clip720)\" d=\"M285.286 1517.37 Q281.675 1517.37 279.846 1520.93 Q278.041 1524.47 278.041 1531.6 Q278.041 1538.71 279.846 1542.27 Q281.675 1545.82 285.286 1545.82 Q288.92 1545.82 290.726 1542.27 Q292.555 1538.71 292.555 1531.6 Q292.555 1524.47 290.726 1520.93 Q288.92 1517.37 285.286 1517.37 M285.286 1513.66 Q291.096 1513.66 294.152 1518.27 Q297.23 1522.85 297.23 1531.6 Q297.23 1540.33 294.152 1544.94 Q291.096 1549.52 285.286 1549.52 Q279.476 1549.52 276.397 1544.94 Q273.342 1540.33 273.342 1531.6 Q273.342 1522.85 276.397 1518.27 Q279.476 1513.66 285.286 1513.66 Z\" fill=\"#000000\" fill-rule=\"evenodd\" fill-opacity=\"1\" /><path clip-path=\"url(#clip720)\" d=\"M575.364 1517.37 Q571.753 1517.37 569.924 1520.93 Q568.119 1524.47 568.119 1531.6 Q568.119 1538.71 569.924 1542.27 Q571.753 1545.82 575.364 1545.82 Q578.998 1545.82 580.804 1542.27 Q582.632 1538.71 582.632 1531.6 Q582.632 1524.47 580.804 1520.93 Q578.998 1517.37 575.364 1517.37 M575.364 1513.66 Q581.174 1513.66 584.23 1518.27 Q587.308 1522.85 587.308 1531.6 Q587.308 1540.33 584.23 1544.94 Q581.174 1549.52 575.364 1549.52 Q569.554 1549.52 566.475 1544.94 Q563.42 1540.33 563.42 1531.6 Q563.42 1522.85 566.475 1518.27 Q569.554 1513.66 575.364 1513.66 Z\" fill=\"#000000\" fill-rule=\"evenodd\" fill-opacity=\"1\" /><path clip-path=\"url(#clip720)\" d=\"M595.526 1542.97 L600.41 1542.97 L600.41 1548.85 L595.526 1548.85 L595.526 1542.97 Z\" fill=\"#000000\" fill-rule=\"evenodd\" fill-opacity=\"1\" /><path clip-path=\"url(#clip720)\" d=\"M614.623 1544.91 L630.942 1544.91 L630.942 1548.85 L608.998 1548.85 L608.998 1544.91 Q611.66 1542.16 616.243 1537.53 Q620.85 1532.88 622.03 1531.53 Q624.276 1529.01 625.155 1527.27 Q626.058 1525.51 626.058 1523.82 Q626.058 1521.07 624.114 1519.33 Q622.192 1517.6 619.091 1517.6 Q616.892 1517.6 614.438 1518.36 Q612.007 1519.13 609.23 1520.68 L609.23 1515.95 Q612.054 1514.82 614.507 1514.24 Q616.961 1513.66 618.998 1513.66 Q624.368 1513.66 627.563 1516.35 Q630.757 1519.03 630.757 1523.52 Q630.757 1525.65 629.947 1527.57 Q629.16 1529.47 627.054 1532.07 Q626.475 1532.74 623.373 1535.95 Q620.271 1539.15 614.623 1544.91 Z\" fill=\"#000000\" fill-rule=\"evenodd\" fill-opacity=\"1\" /><path clip-path=\"url(#clip720)\" d=\"M640.803 1514.29 L659.16 1514.29 L659.16 1518.22 L645.086 1518.22 L645.086 1526.7 Q646.104 1526.35 647.123 1526.19 Q648.141 1526 649.16 1526 Q654.947 1526 658.327 1529.17 Q661.706 1532.34 661.706 1537.76 Q661.706 1543.34 658.234 1546.44 Q654.762 1549.52 648.442 1549.52 Q646.266 1549.52 643.998 1549.15 Q641.753 1548.78 639.345 1548.04 L639.345 1543.34 Q641.428 1544.47 643.651 1545.03 Q645.873 1545.58 648.35 1545.58 Q652.354 1545.58 654.692 1543.48 Q657.03 1541.37 657.03 1537.76 Q657.03 1534.15 654.692 1532.04 Q652.354 1529.94 648.35 1529.94 Q646.475 1529.94 644.6 1530.35 Q642.748 1530.77 640.803 1531.65 L640.803 1514.29 Z\" fill=\"#000000\" fill-rule=\"evenodd\" fill-opacity=\"1\" /><path clip-path=\"url(#clip720)\" d=\"M939.84 1517.37 Q936.229 1517.37 934.4 1520.93 Q932.594 1524.47 932.594 1531.6 Q932.594 1538.71 934.4 1542.27 Q936.229 1545.82 939.84 1545.82 Q943.474 1545.82 945.279 1542.27 Q947.108 1538.71 947.108 1531.6 Q947.108 1524.47 945.279 1520.93 Q943.474 1517.37 939.84 1517.37 M939.84 1513.66 Q945.65 1513.66 948.705 1518.27 Q951.784 1522.85 951.784 1531.6 Q951.784 1540.33 948.705 1544.94 Q945.65 1549.52 939.84 1549.52 Q934.03 1549.52 930.951 1544.94 Q927.895 1540.33 927.895 1531.6 Q927.895 1522.85 930.951 1518.27 Q934.03 1513.66 939.84 1513.66 Z\" fill=\"#000000\" fill-rule=\"evenodd\" fill-opacity=\"1\" /><path clip-path=\"url(#clip720)\" d=\"M960.002 1542.97 L964.886 1542.97 L964.886 1548.85 L960.002 1548.85 L960.002 1542.97 Z\" fill=\"#000000\" fill-rule=\"evenodd\" fill-opacity=\"1\" /><path clip-path=\"url(#clip720)\" d=\"M975.117 1514.29 L993.474 1514.29 L993.474 1518.22 L979.4 1518.22 L979.4 1526.7 Q980.418 1526.35 981.437 1526.19 Q982.455 1526 983.474 1526 Q989.261 1526 992.64 1529.17 Q996.02 1532.34 996.02 1537.76 Q996.02 1543.34 992.548 1546.44 Q989.076 1549.52 982.756 1549.52 Q980.58 1549.52 978.312 1549.15 Q976.066 1548.78 973.659 1548.04 L973.659 1543.34 Q975.742 1544.47 977.964 1545.03 Q980.187 1545.58 982.664 1545.58 Q986.668 1545.58 989.006 1543.48 Q991.344 1541.37 991.344 1537.76 Q991.344 1534.15 989.006 1532.04 Q986.668 1529.94 982.664 1529.94 Q980.789 1529.94 978.914 1530.35 Q977.062 1530.77 975.117 1531.65 L975.117 1514.29 Z\" fill=\"#000000\" fill-rule=\"evenodd\" fill-opacity=\"1\" /><path clip-path=\"url(#clip720)\" d=\"M1015.23 1517.37 Q1011.62 1517.37 1009.79 1520.93 Q1007.99 1524.47 1007.99 1531.6 Q1007.99 1538.71 1009.79 1542.27 Q1011.62 1545.82 1015.23 1545.82 Q1018.87 1545.82 1020.67 1542.27 Q1022.5 1538.71 1022.5 1531.6 Q1022.5 1524.47 1020.67 1520.93 Q1018.87 1517.37 1015.23 1517.37 M1015.23 1513.66 Q1021.04 1513.66 1024.1 1518.27 Q1027.18 1522.85 1027.18 1531.6 Q1027.18 1540.33 1024.1 1544.94 Q1021.04 1549.52 1015.23 1549.52 Q1009.42 1549.52 1006.34 1544.94 Q1003.29 1540.33 1003.29 1531.6 Q1003.29 1522.85 1006.34 1518.27 Q1009.42 1513.66 1015.23 1513.66 Z\" fill=\"#000000\" fill-rule=\"evenodd\" fill-opacity=\"1\" /><path clip-path=\"url(#clip720)\" d=\"M1305.31 1517.37 Q1301.7 1517.37 1299.87 1520.93 Q1298.07 1524.47 1298.07 1531.6 Q1298.07 1538.71 1299.87 1542.27 Q1301.7 1545.82 1305.31 1545.82 Q1308.94 1545.82 1310.75 1542.27 Q1312.58 1538.71 1312.58 1531.6 Q1312.58 1524.47 1310.75 1520.93 Q1308.94 1517.37 1305.31 1517.37 M1305.31 1513.66 Q1311.12 1513.66 1314.18 1518.27 Q1317.26 1522.85 1317.26 1531.6 Q1317.26 1540.33 1314.18 1544.94 Q1311.12 1549.52 1305.31 1549.52 Q1299.5 1549.52 1296.42 1544.94 Q1293.37 1540.33 1293.37 1531.6 Q1293.37 1522.85 1296.42 1518.27 Q1299.5 1513.66 1305.31 1513.66 Z\" fill=\"#000000\" fill-rule=\"evenodd\" fill-opacity=\"1\" /><path clip-path=\"url(#clip720)\" d=\"M1325.47 1542.97 L1330.36 1542.97 L1330.36 1548.85 L1325.47 1548.85 L1325.47 1542.97 Z\" fill=\"#000000\" fill-rule=\"evenodd\" fill-opacity=\"1\" /><path clip-path=\"url(#clip720)\" d=\"M1339.36 1514.29 L1361.58 1514.29 L1361.58 1516.28 L1349.04 1548.85 L1344.15 1548.85 L1355.96 1518.22 L1339.36 1518.22 L1339.36 1514.29 Z\" fill=\"#000000\" fill-rule=\"evenodd\" fill-opacity=\"1\" /><path clip-path=\"url(#clip720)\" d=\"M1370.75 1514.29 L1389.11 1514.29 L1389.11 1518.22 L1375.03 1518.22 L1375.03 1526.7 Q1376.05 1526.35 1377.07 1526.19 Q1378.09 1526 1379.11 1526 Q1384.89 1526 1388.27 1529.17 Q1391.65 1532.34 1391.65 1537.76 Q1391.65 1543.34 1388.18 1546.44 Q1384.71 1549.52 1378.39 1549.52 Q1376.21 1549.52 1373.94 1549.15 Q1371.7 1548.78 1369.29 1548.04 L1369.29 1543.34 Q1371.38 1544.47 1373.6 1545.03 Q1375.82 1545.58 1378.3 1545.58 Q1382.3 1545.58 1384.64 1543.48 Q1386.98 1541.37 1386.98 1537.76 Q1386.98 1534.15 1384.64 1532.04 Q1382.3 1529.94 1378.3 1529.94 Q1376.42 1529.94 1374.55 1530.35 Q1372.69 1530.77 1370.75 1531.65 L1370.75 1514.29 Z\" fill=\"#000000\" fill-rule=\"evenodd\" fill-opacity=\"1\" /><path clip-path=\"url(#clip720)\" d=\"M1659.56 1544.91 L1667.19 1544.91 L1667.19 1518.55 L1658.88 1520.21 L1658.88 1515.95 L1667.15 1514.29 L1671.82 1514.29 L1671.82 1544.91 L1679.46 1544.91 L1679.46 1548.85 L1659.56 1548.85 L1659.56 1544.91 Z\" fill=\"#000000\" fill-rule=\"evenodd\" fill-opacity=\"1\" /><path clip-path=\"url(#clip720)\" d=\"M1688.91 1542.97 L1693.79 1542.97 L1693.79 1548.85 L1688.91 1548.85 L1688.91 1542.97 Z\" fill=\"#000000\" fill-rule=\"evenodd\" fill-opacity=\"1\" /><path clip-path=\"url(#clip720)\" d=\"M1713.98 1517.37 Q1710.36 1517.37 1708.54 1520.93 Q1706.73 1524.47 1706.73 1531.6 Q1706.73 1538.71 1708.54 1542.27 Q1710.36 1545.82 1713.98 1545.82 Q1717.61 1545.82 1719.42 1542.27 Q1721.24 1538.71 1721.24 1531.6 Q1721.24 1524.47 1719.42 1520.93 Q1717.61 1517.37 1713.98 1517.37 M1713.98 1513.66 Q1719.79 1513.66 1722.84 1518.27 Q1725.92 1522.85 1725.92 1531.6 Q1725.92 1540.33 1722.84 1544.94 Q1719.79 1549.52 1713.98 1549.52 Q1708.17 1549.52 1705.09 1544.94 Q1702.03 1540.33 1702.03 1531.6 Q1702.03 1522.85 1705.09 1518.27 Q1708.17 1513.66 1713.98 1513.66 Z\" fill=\"#000000\" fill-rule=\"evenodd\" fill-opacity=\"1\" /><path clip-path=\"url(#clip720)\" d=\"M1744.14 1517.37 Q1740.53 1517.37 1738.7 1520.93 Q1736.89 1524.47 1736.89 1531.6 Q1736.89 1538.71 1738.7 1542.27 Q1740.53 1545.82 1744.14 1545.82 Q1747.77 1545.82 1749.58 1542.27 Q1751.41 1538.71 1751.41 1531.6 Q1751.41 1524.47 1749.58 1520.93 Q1747.77 1517.37 1744.14 1517.37 M1744.14 1513.66 Q1749.95 1513.66 1753 1518.27 Q1756.08 1522.85 1756.08 1531.6 Q1756.08 1540.33 1753 1544.94 Q1749.95 1549.52 1744.14 1549.52 Q1738.33 1549.52 1735.25 1544.94 Q1732.19 1540.33 1732.19 1531.6 Q1732.19 1522.85 1735.25 1518.27 Q1738.33 1513.66 1744.14 1513.66 Z\" fill=\"#000000\" fill-rule=\"evenodd\" fill-opacity=\"1\" /><path clip-path=\"url(#clip720)\" d=\"M2025.03 1544.91 L2032.66 1544.91 L2032.66 1518.55 L2024.35 1520.21 L2024.35 1515.95 L2032.62 1514.29 L2037.29 1514.29 L2037.29 1544.91 L2044.93 1544.91 L2044.93 1548.85 L2025.03 1548.85 L2025.03 1544.91 Z\" fill=\"#000000\" fill-rule=\"evenodd\" fill-opacity=\"1\" /><path clip-path=\"url(#clip720)\" d=\"M2054.38 1542.97 L2059.26 1542.97 L2059.26 1548.85 L2054.38 1548.85 L2054.38 1542.97 Z\" fill=\"#000000\" fill-rule=\"evenodd\" fill-opacity=\"1\" /><path clip-path=\"url(#clip720)\" d=\"M2073.47 1544.91 L2089.79 1544.91 L2089.79 1548.85 L2067.85 1548.85 L2067.85 1544.91 Q2070.51 1542.16 2075.1 1537.53 Q2079.7 1532.88 2080.88 1531.53 Q2083.13 1529.01 2084.01 1527.27 Q2084.91 1525.51 2084.91 1523.82 Q2084.91 1521.07 2082.97 1519.33 Q2081.04 1517.6 2077.94 1517.6 Q2075.74 1517.6 2073.29 1518.36 Q2070.86 1519.13 2068.08 1520.68 L2068.08 1515.95 Q2070.91 1514.82 2073.36 1514.24 Q2075.81 1513.66 2077.85 1513.66 Q2083.22 1513.66 2086.41 1516.35 Q2089.61 1519.03 2089.61 1523.52 Q2089.61 1525.65 2088.8 1527.57 Q2088.01 1529.47 2085.91 1532.07 Q2085.33 1532.74 2082.22 1535.95 Q2079.12 1539.15 2073.47 1544.91 Z\" fill=\"#000000\" fill-rule=\"evenodd\" fill-opacity=\"1\" /><path clip-path=\"url(#clip720)\" d=\"M2099.66 1514.29 L2118.01 1514.29 L2118.01 1518.22 L2103.94 1518.22 L2103.94 1526.7 Q2104.96 1526.35 2105.97 1526.19 Q2106.99 1526 2108.01 1526 Q2113.8 1526 2117.18 1529.17 Q2120.56 1532.34 2120.56 1537.76 Q2120.56 1543.34 2117.09 1546.44 Q2113.61 1549.52 2107.29 1549.52 Q2105.12 1549.52 2102.85 1549.15 Q2100.6 1548.78 2098.2 1548.04 L2098.2 1543.34 Q2100.28 1544.47 2102.5 1545.03 Q2104.72 1545.58 2107.2 1545.58 Q2111.21 1545.58 2113.54 1543.48 Q2115.88 1541.37 2115.88 1537.76 Q2115.88 1534.15 2113.54 1532.04 Q2111.21 1529.94 2107.2 1529.94 Q2105.33 1529.94 2103.45 1530.35 Q2101.6 1530.77 2099.66 1531.65 L2099.66 1514.29 Z\" fill=\"#000000\" fill-rule=\"evenodd\" fill-opacity=\"1\" /><polyline clip-path=\"url(#clip722)\" style=\"stroke:#000000; stroke-linecap:round; stroke-linejoin:round; stroke-width:2; stroke-opacity:0.1; fill:none\" points=\"\n",
       "  186.274,1445.72 2352.76,1445.72 \n",
       "  \"/>\n",
       "<polyline clip-path=\"url(#clip722)\" style=\"stroke:#000000; stroke-linecap:round; stroke-linejoin:round; stroke-width:2; stroke-opacity:0.1; fill:none\" points=\"\n",
       "  186.274,1106.28 2352.76,1106.28 \n",
       "  \"/>\n",
       "<polyline clip-path=\"url(#clip722)\" style=\"stroke:#000000; stroke-linecap:round; stroke-linejoin:round; stroke-width:2; stroke-opacity:0.1; fill:none\" points=\"\n",
       "  186.274,766.846 2352.76,766.846 \n",
       "  \"/>\n",
       "<polyline clip-path=\"url(#clip722)\" style=\"stroke:#000000; stroke-linecap:round; stroke-linejoin:round; stroke-width:2; stroke-opacity:0.1; fill:none\" points=\"\n",
       "  186.274,427.411 2352.76,427.411 \n",
       "  \"/>\n",
       "<polyline clip-path=\"url(#clip722)\" style=\"stroke:#000000; stroke-linecap:round; stroke-linejoin:round; stroke-width:2; stroke-opacity:0.1; fill:none\" points=\"\n",
       "  186.274,87.9763 2352.76,87.9763 \n",
       "  \"/>\n",
       "<polyline clip-path=\"url(#clip720)\" style=\"stroke:#000000; stroke-linecap:round; stroke-linejoin:round; stroke-width:4; stroke-opacity:1; fill:none\" points=\"\n",
       "  186.274,1486.45 186.274,47.2441 \n",
       "  \"/>\n",
       "<polyline clip-path=\"url(#clip720)\" style=\"stroke:#000000; stroke-linecap:round; stroke-linejoin:round; stroke-width:4; stroke-opacity:1; fill:none\" points=\"\n",
       "  186.274,1445.72 205.172,1445.72 \n",
       "  \"/>\n",
       "<polyline clip-path=\"url(#clip720)\" style=\"stroke:#000000; stroke-linecap:round; stroke-linejoin:round; stroke-width:4; stroke-opacity:1; fill:none\" points=\"\n",
       "  186.274,1106.28 205.172,1106.28 \n",
       "  \"/>\n",
       "<polyline clip-path=\"url(#clip720)\" style=\"stroke:#000000; stroke-linecap:round; stroke-linejoin:round; stroke-width:4; stroke-opacity:1; fill:none\" points=\"\n",
       "  186.274,766.846 205.172,766.846 \n",
       "  \"/>\n",
       "<polyline clip-path=\"url(#clip720)\" style=\"stroke:#000000; stroke-linecap:round; stroke-linejoin:round; stroke-width:4; stroke-opacity:1; fill:none\" points=\"\n",
       "  186.274,427.411 205.172,427.411 \n",
       "  \"/>\n",
       "<polyline clip-path=\"url(#clip720)\" style=\"stroke:#000000; stroke-linecap:round; stroke-linejoin:round; stroke-width:4; stroke-opacity:1; fill:none\" points=\"\n",
       "  186.274,87.9763 205.172,87.9763 \n",
       "  \"/>\n",
       "<path clip-path=\"url(#clip720)\" d=\"M62.9365 1431.51 Q59.3254 1431.51 57.4967 1435.08 Q55.6912 1438.62 55.6912 1445.75 Q55.6912 1452.86 57.4967 1456.42 Q59.3254 1459.96 62.9365 1459.96 Q66.5707 1459.96 68.3763 1456.42 Q70.205 1452.86 70.205 1445.75 Q70.205 1438.62 68.3763 1435.08 Q66.5707 1431.51 62.9365 1431.51 M62.9365 1427.81 Q68.7467 1427.81 71.8022 1432.42 Q74.8809 1437 74.8809 1445.75 Q74.8809 1454.48 71.8022 1459.08 Q68.7467 1463.67 62.9365 1463.67 Q57.1264 1463.67 54.0477 1459.08 Q50.9921 1454.48 50.9921 1445.75 Q50.9921 1437 54.0477 1432.42 Q57.1264 1427.81 62.9365 1427.81 Z\" fill=\"#000000\" fill-rule=\"evenodd\" fill-opacity=\"1\" /><path clip-path=\"url(#clip720)\" d=\"M83.0984 1457.12 L87.9827 1457.12 L87.9827 1463 L83.0984 1463 L83.0984 1457.12 Z\" fill=\"#000000\" fill-rule=\"evenodd\" fill-opacity=\"1\" /><path clip-path=\"url(#clip720)\" d=\"M108.168 1431.51 Q104.557 1431.51 102.728 1435.08 Q100.922 1438.62 100.922 1445.75 Q100.922 1452.86 102.728 1456.42 Q104.557 1459.96 108.168 1459.96 Q111.802 1459.96 113.608 1456.42 Q115.436 1452.86 115.436 1445.75 Q115.436 1438.62 113.608 1435.08 Q111.802 1431.51 108.168 1431.51 M108.168 1427.81 Q113.978 1427.81 117.033 1432.42 Q120.112 1437 120.112 1445.75 Q120.112 1454.48 117.033 1459.08 Q113.978 1463.67 108.168 1463.67 Q102.358 1463.67 99.2789 1459.08 Q96.2234 1454.48 96.2234 1445.75 Q96.2234 1437 99.2789 1432.42 Q102.358 1427.81 108.168 1427.81 Z\" fill=\"#000000\" fill-rule=\"evenodd\" fill-opacity=\"1\" /><path clip-path=\"url(#clip720)\" d=\"M138.33 1431.51 Q134.719 1431.51 132.89 1435.08 Q131.084 1438.62 131.084 1445.75 Q131.084 1452.86 132.89 1456.42 Q134.719 1459.96 138.33 1459.96 Q141.964 1459.96 143.769 1456.42 Q145.598 1452.86 145.598 1445.75 Q145.598 1438.62 143.769 1435.08 Q141.964 1431.51 138.33 1431.51 M138.33 1427.81 Q144.14 1427.81 147.195 1432.42 Q150.274 1437 150.274 1445.75 Q150.274 1454.48 147.195 1459.08 Q144.14 1463.67 138.33 1463.67 Q132.519 1463.67 129.441 1459.08 Q126.385 1454.48 126.385 1445.75 Q126.385 1437 129.441 1432.42 Q132.519 1427.81 138.33 1427.81 Z\" fill=\"#000000\" fill-rule=\"evenodd\" fill-opacity=\"1\" /><path clip-path=\"url(#clip720)\" d=\"M63.9319 1092.08 Q60.3208 1092.08 58.4921 1095.64 Q56.6865 1099.19 56.6865 1106.32 Q56.6865 1113.42 58.4921 1116.99 Q60.3208 1120.53 63.9319 1120.53 Q67.5661 1120.53 69.3717 1116.99 Q71.2004 1113.42 71.2004 1106.32 Q71.2004 1099.19 69.3717 1095.64 Q67.5661 1092.08 63.9319 1092.08 M63.9319 1088.38 Q69.742 1088.38 72.7976 1092.98 Q75.8763 1097.57 75.8763 1106.32 Q75.8763 1115.04 72.7976 1119.65 Q69.742 1124.23 63.9319 1124.23 Q58.1217 1124.23 55.043 1119.65 Q51.9875 1115.04 51.9875 1106.32 Q51.9875 1097.57 55.043 1092.98 Q58.1217 1088.38 63.9319 1088.38 Z\" fill=\"#000000\" fill-rule=\"evenodd\" fill-opacity=\"1\" /><path clip-path=\"url(#clip720)\" d=\"M84.0938 1117.68 L88.978 1117.68 L88.978 1123.56 L84.0938 1123.56 L84.0938 1117.68 Z\" fill=\"#000000\" fill-rule=\"evenodd\" fill-opacity=\"1\" /><path clip-path=\"url(#clip720)\" d=\"M103.191 1119.63 L119.51 1119.63 L119.51 1123.56 L97.566 1123.56 L97.566 1119.63 Q100.228 1116.87 104.811 1112.24 Q109.418 1107.59 110.598 1106.25 Q112.844 1103.72 113.723 1101.99 Q114.626 1100.23 114.626 1098.54 Q114.626 1095.78 112.682 1094.05 Q110.76 1092.31 107.658 1092.31 Q105.459 1092.31 103.006 1093.07 Q100.575 1093.84 97.7974 1095.39 L97.7974 1090.67 Q100.621 1089.53 103.075 1088.95 Q105.529 1088.38 107.566 1088.38 Q112.936 1088.38 116.131 1091.06 Q119.325 1093.75 119.325 1098.24 Q119.325 1100.37 118.515 1102.29 Q117.728 1104.19 115.621 1106.78 Q115.043 1107.45 111.941 1110.67 Q108.839 1113.86 103.191 1119.63 Z\" fill=\"#000000\" fill-rule=\"evenodd\" fill-opacity=\"1\" /><path clip-path=\"url(#clip720)\" d=\"M129.371 1089 L147.728 1089 L147.728 1092.94 L133.654 1092.94 L133.654 1101.41 Q134.672 1101.06 135.691 1100.9 Q136.709 1100.71 137.728 1100.71 Q143.515 1100.71 146.894 1103.89 Q150.274 1107.06 150.274 1112.47 Q150.274 1118.05 146.802 1121.15 Q143.33 1124.23 137.01 1124.23 Q134.834 1124.23 132.566 1123.86 Q130.32 1123.49 127.913 1122.75 L127.913 1118.05 Q129.996 1119.19 132.219 1119.74 Q134.441 1120.3 136.918 1120.3 Q140.922 1120.3 143.26 1118.19 Q145.598 1116.08 145.598 1112.47 Q145.598 1108.86 143.26 1106.76 Q140.922 1104.65 136.918 1104.65 Q135.043 1104.65 133.168 1105.07 Q131.316 1105.48 129.371 1106.36 L129.371 1089 Z\" fill=\"#000000\" fill-rule=\"evenodd\" fill-opacity=\"1\" /><path clip-path=\"url(#clip720)\" d=\"M62.9365 752.645 Q59.3254 752.645 57.4967 756.209 Q55.6912 759.751 55.6912 766.881 Q55.6912 773.987 57.4967 777.552 Q59.3254 781.094 62.9365 781.094 Q66.5707 781.094 68.3763 777.552 Q70.205 773.987 70.205 766.881 Q70.205 759.751 68.3763 756.209 Q66.5707 752.645 62.9365 752.645 M62.9365 748.941 Q68.7467 748.941 71.8022 753.547 Q74.8809 758.131 74.8809 766.881 Q74.8809 775.608 71.8022 780.214 Q68.7467 784.797 62.9365 784.797 Q57.1264 784.797 54.0477 780.214 Q50.9921 775.608 50.9921 766.881 Q50.9921 758.131 54.0477 753.547 Q57.1264 748.941 62.9365 748.941 Z\" fill=\"#000000\" fill-rule=\"evenodd\" fill-opacity=\"1\" /><path clip-path=\"url(#clip720)\" d=\"M83.0984 778.246 L87.9827 778.246 L87.9827 784.126 L83.0984 784.126 L83.0984 778.246 Z\" fill=\"#000000\" fill-rule=\"evenodd\" fill-opacity=\"1\" /><path clip-path=\"url(#clip720)\" d=\"M98.2141 749.566 L116.57 749.566 L116.57 753.501 L102.496 753.501 L102.496 761.973 Q103.515 761.626 104.534 761.464 Q105.552 761.279 106.571 761.279 Q112.358 761.279 115.737 764.45 Q119.117 767.621 119.117 773.038 Q119.117 778.617 115.645 781.719 Q112.172 784.797 105.853 784.797 Q103.677 784.797 101.409 784.427 Q99.1632 784.057 96.7558 783.316 L96.7558 778.617 Q98.8391 779.751 101.061 780.307 Q103.284 780.862 105.76 780.862 Q109.765 780.862 112.103 778.756 Q114.441 776.649 114.441 773.038 Q114.441 769.427 112.103 767.321 Q109.765 765.214 105.76 765.214 Q103.885 765.214 102.01 765.631 Q100.159 766.047 98.2141 766.927 L98.2141 749.566 Z\" fill=\"#000000\" fill-rule=\"evenodd\" fill-opacity=\"1\" /><path clip-path=\"url(#clip720)\" d=\"M138.33 752.645 Q134.719 752.645 132.89 756.209 Q131.084 759.751 131.084 766.881 Q131.084 773.987 132.89 777.552 Q134.719 781.094 138.33 781.094 Q141.964 781.094 143.769 777.552 Q145.598 773.987 145.598 766.881 Q145.598 759.751 143.769 756.209 Q141.964 752.645 138.33 752.645 M138.33 748.941 Q144.14 748.941 147.195 753.547 Q150.274 758.131 150.274 766.881 Q150.274 775.608 147.195 780.214 Q144.14 784.797 138.33 784.797 Q132.519 784.797 129.441 780.214 Q126.385 775.608 126.385 766.881 Q126.385 758.131 129.441 753.547 Q132.519 748.941 138.33 748.941 Z\" fill=\"#000000\" fill-rule=\"evenodd\" fill-opacity=\"1\" /><path clip-path=\"url(#clip720)\" d=\"M63.9319 413.21 Q60.3208 413.21 58.4921 416.775 Q56.6865 420.316 56.6865 427.446 Q56.6865 434.552 58.4921 438.117 Q60.3208 441.659 63.9319 441.659 Q67.5661 441.659 69.3717 438.117 Q71.2004 434.552 71.2004 427.446 Q71.2004 420.316 69.3717 416.775 Q67.5661 413.21 63.9319 413.21 M63.9319 409.506 Q69.742 409.506 72.7976 414.113 Q75.8763 418.696 75.8763 427.446 Q75.8763 436.173 72.7976 440.779 Q69.742 445.362 63.9319 445.362 Q58.1217 445.362 55.043 440.779 Q51.9875 436.173 51.9875 427.446 Q51.9875 418.696 55.043 414.113 Q58.1217 409.506 63.9319 409.506 Z\" fill=\"#000000\" fill-rule=\"evenodd\" fill-opacity=\"1\" /><path clip-path=\"url(#clip720)\" d=\"M84.0938 438.812 L88.978 438.812 L88.978 444.691 L84.0938 444.691 L84.0938 438.812 Z\" fill=\"#000000\" fill-rule=\"evenodd\" fill-opacity=\"1\" /><path clip-path=\"url(#clip720)\" d=\"M97.9826 410.131 L120.205 410.131 L120.205 412.122 L107.658 444.691 L102.774 444.691 L114.58 414.066 L97.9826 414.066 L97.9826 410.131 Z\" fill=\"#000000\" fill-rule=\"evenodd\" fill-opacity=\"1\" /><path clip-path=\"url(#clip720)\" d=\"M129.371 410.131 L147.728 410.131 L147.728 414.066 L133.654 414.066 L133.654 422.538 Q134.672 422.191 135.691 422.029 Q136.709 421.844 137.728 421.844 Q143.515 421.844 146.894 425.015 Q150.274 428.187 150.274 433.603 Q150.274 439.182 146.802 442.284 Q143.33 445.362 137.01 445.362 Q134.834 445.362 132.566 444.992 Q130.32 444.622 127.913 443.881 L127.913 439.182 Q129.996 440.316 132.219 440.872 Q134.441 441.427 136.918 441.427 Q140.922 441.427 143.26 439.321 Q145.598 437.214 145.598 433.603 Q145.598 429.992 143.26 427.886 Q140.922 425.779 136.918 425.779 Q135.043 425.779 133.168 426.196 Q131.316 426.613 129.371 427.492 L129.371 410.131 Z\" fill=\"#000000\" fill-rule=\"evenodd\" fill-opacity=\"1\" /><path clip-path=\"url(#clip720)\" d=\"M53.7467 101.321 L61.3856 101.321 L61.3856 74.9555 L53.0754 76.6222 L53.0754 72.3629 L61.3393 70.6963 L66.0152 70.6963 L66.0152 101.321 L73.654 101.321 L73.654 105.256 L53.7467 105.256 L53.7467 101.321 Z\" fill=\"#000000\" fill-rule=\"evenodd\" fill-opacity=\"1\" /><path clip-path=\"url(#clip720)\" d=\"M83.0984 99.3767 L87.9827 99.3767 L87.9827 105.256 L83.0984 105.256 L83.0984 99.3767 Z\" fill=\"#000000\" fill-rule=\"evenodd\" fill-opacity=\"1\" /><path clip-path=\"url(#clip720)\" d=\"M108.168 73.775 Q104.557 73.775 102.728 77.3398 Q100.922 80.8814 100.922 88.011 Q100.922 95.1174 102.728 98.6822 Q104.557 102.224 108.168 102.224 Q111.802 102.224 113.608 98.6822 Q115.436 95.1174 115.436 88.011 Q115.436 80.8814 113.608 77.3398 Q111.802 73.775 108.168 73.775 M108.168 70.0713 Q113.978 70.0713 117.033 74.6777 Q120.112 79.261 120.112 88.011 Q120.112 96.7378 117.033 101.344 Q113.978 105.928 108.168 105.928 Q102.358 105.928 99.2789 101.344 Q96.2234 96.7378 96.2234 88.011 Q96.2234 79.261 99.2789 74.6777 Q102.358 70.0713 108.168 70.0713 Z\" fill=\"#000000\" fill-rule=\"evenodd\" fill-opacity=\"1\" /><path clip-path=\"url(#clip720)\" d=\"M138.33 73.775 Q134.719 73.775 132.89 77.3398 Q131.084 80.8814 131.084 88.011 Q131.084 95.1174 132.89 98.6822 Q134.719 102.224 138.33 102.224 Q141.964 102.224 143.769 98.6822 Q145.598 95.1174 145.598 88.011 Q145.598 80.8814 143.769 77.3398 Q141.964 73.775 138.33 73.775 M138.33 70.0713 Q144.14 70.0713 147.195 74.6777 Q150.274 79.261 150.274 88.011 Q150.274 96.7378 147.195 101.344 Q144.14 105.928 138.33 105.928 Q132.519 105.928 129.441 101.344 Q126.385 96.7378 126.385 88.011 Q126.385 79.261 129.441 74.6777 Q132.519 70.0713 138.33 70.0713 Z\" fill=\"#000000\" fill-rule=\"evenodd\" fill-opacity=\"1\" /><polyline clip-path=\"url(#clip722)\" style=\"stroke:#009af9; stroke-linecap:round; stroke-linejoin:round; stroke-width:4; stroke-opacity:1; fill:none\" points=\"\n",
       "  247.59,1445.72 1707.48,87.9763 \n",
       "  \"/>\n",
       "<polyline clip-path=\"url(#clip722)\" style=\"stroke:#009af9; stroke-linecap:round; stroke-linejoin:round; stroke-width:4; stroke-opacity:1; fill:none\" points=\"\n",
       "  1668.86,99.3124 1707.48,87.9763 1693.38,125.674 \n",
       "  \"/>\n",
       "<polyline clip-path=\"url(#clip722)\" style=\"stroke:#009af9; stroke-linecap:round; stroke-linejoin:round; stroke-width:4; stroke-opacity:1; fill:none\" points=\"\n",
       "  1707.48,87.9763 247.59,1445.72 \n",
       "  \"/>\n",
       "<polyline clip-path=\"url(#clip722)\" style=\"stroke:#e26f46; stroke-linecap:round; stroke-linejoin:round; stroke-width:4; stroke-opacity:1; fill:none\" points=\"\n",
       "  247.59,1445.72 1707.48,766.846 \n",
       "  \"/>\n",
       "<polyline clip-path=\"url(#clip722)\" style=\"stroke:#e26f46; stroke-linecap:round; stroke-linejoin:round; stroke-width:4; stroke-opacity:1; fill:none\" points=\"\n",
       "  1667.25,765.704 1707.48,766.846 1682.43,798.347 \n",
       "  \"/>\n",
       "<polyline clip-path=\"url(#clip722)\" style=\"stroke:#e26f46; stroke-linecap:round; stroke-linejoin:round; stroke-width:4; stroke-opacity:1; fill:none\" points=\"\n",
       "  1707.48,766.846 247.59,1445.72 \n",
       "  \"/>\n",
       "<polyline clip-path=\"url(#clip722)\" style=\"stroke:#3da44d; stroke-linecap:round; stroke-linejoin:round; stroke-width:4; stroke-opacity:1; fill:none\" points=\"\n",
       "  247.59,1445.72 2291.44,1174.17 \n",
       "  \"/>\n",
       "<polyline clip-path=\"url(#clip722)\" style=\"stroke:#3da44d; stroke-linecap:round; stroke-linejoin:round; stroke-width:4; stroke-opacity:1; fill:none\" points=\"\n",
       "  2253.38,1161.07 2291.44,1174.17 2258.12,1196.75 \n",
       "  \"/>\n",
       "<polyline clip-path=\"url(#clip722)\" style=\"stroke:#3da44d; stroke-linecap:round; stroke-linejoin:round; stroke-width:4; stroke-opacity:1; fill:none\" points=\"\n",
       "  2291.44,1174.17 247.59,1445.72 \n",
       "  \"/>\n",
       "</svg>\n"
      ]
     },
     "execution_count": 36,
     "metadata": {},
     "output_type": "execute_result"
    }
   ],
   "source": [
    "x = cl.e1 + cl.e2\n",
    "a = cl.e1 + 0.5cl.e2\n",
    "\n",
    "rx = inv(a) * x * a\n",
    "quiver([0],[0],quiver=([x.e1],[x.e2]))\n",
    "quiver!([0],[0],quiver=([a.e1],[a.e2]))\n",
    "quiver!([0],[0],quiver=([rx.e1],[rx.e2]))"
   ]
  },
  {
   "cell_type": "code",
   "execution_count": 37,
   "id": "b748c9e7-ad43-4f70-b568-37909432dc28",
   "metadata": {},
   "outputs": [
    {
     "data": {
      "text/plain": [
       "-5.551115123125783e-17-0.49999999999999983×e1e2 ∈ Cl(3, 0, 0)"
      ]
     },
     "execution_count": 37,
     "metadata": {},
     "output_type": "execute_result"
    }
   ],
   "source": [
    "y = cl.e1 + 1.5cl.e2\n",
    "x = cl.e1 + cl.e2\n",
    "p = x ∧ y\n",
    "a = cl.e1 + 0.5cl.e2\n",
    "\n",
    "\n",
    "rp = inv(a) * p * a\n",
    "# rx = inv(a) * x * a\n",
    "# ry = inv(a) * y * a\n",
    "# quiver([0],[0],quiver=([x.e1],[x.e2]),aspect_ratio=1)\n",
    "# quiver!([0],[0],quiver=([y.e1],[y.e2]))\n",
    "# quiver!([0],[0],quiver=([a.e1],[a.e2]))\n",
    "# quiver!([0],[0],quiver=([rx.e1],[rx.e2]))\n",
    "# quiver!([0],[0],quiver=([ry.e1],[ry.e2]))"
   ]
  },
  {
   "cell_type": "code",
   "execution_count": 38,
   "id": "f7489671-0b2a-4d2e-9d47-42b6c5206271",
   "metadata": {},
   "outputs": [
    {
     "data": {
      "text/plain": [
       "+0.5×e1e2 ∈ Cl(3, 0, 0)"
      ]
     },
     "execution_count": 38,
     "metadata": {},
     "output_type": "execute_result"
    }
   ],
   "source": [
    "p"
   ]
  }
 ],
 "metadata": {
  "kernelspec": {
   "display_name": "Julia 1.8.2",
   "language": "julia",
   "name": "julia-1.8"
  },
  "language_info": {
   "file_extension": ".jl",
   "mimetype": "application/julia",
   "name": "julia",
   "version": "1.8.2"
  }
 },
 "nbformat": 4,
 "nbformat_minor": 5
}
