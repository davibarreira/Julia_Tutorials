{
 "cells": [
  {
   "cell_type": "code",
   "execution_count": 23,
   "id": "b47816f9-aa24-4a25-9caf-77b361e731e5",
   "metadata": {},
   "outputs": [],
   "source": [
    "from numpy import pi,e\n",
    "from clifford import Cl, conformalize\n",
    "\n",
    "G, blades = Cl(3)\n",
    "Gc, blades, stuff = conformalize(G)"
   ]
  },
  {
   "cell_type": "code",
   "execution_count": 5,
   "id": "4d7ba8fd-099a-4e58-9745-128c1cbd9f2b",
   "metadata": {},
   "outputs": [],
   "source": [
    "locals().update(blades)\n",
    "locals().update(stuff)"
   ]
  },
  {
   "cell_type": "code",
   "execution_count": 36,
   "id": "da5dd8e9-a171-4a25-bbab-777a5b102ffb",
   "metadata": {},
   "outputs": [],
   "source": [
    "no  = (e4 + e5)/2\n",
    "ninf = (e5 - e4)"
   ]
  },
  {
   "cell_type": "code",
   "execution_count": 38,
   "id": "58d0cd78-5419-47f6-b200-285893aa43a0",
   "metadata": {},
   "outputs": [
    {
     "data": {
      "text/plain": [
       "(1.0^e245) - (1.0^e345)"
      ]
     },
     "execution_count": 38,
     "metadata": {},
     "output_type": "execute_result"
    }
   ],
   "source": [
    "pv = e1 + e2\n",
    "p = up(pv)\n",
    "\n",
    "qv = e1 + e3\n",
    "q = up(qv)\n",
    "\n",
    "A = qv - pv\n",
    "\n",
    "l = no^A^ninf\n",
    "\n",
    "l"
   ]
  },
  {
   "cell_type": "code",
   "execution_count": 41,
   "id": "e3f5402a-056d-48d3-8181-a8b2fa764235",
   "metadata": {},
   "outputs": [],
   "source": [
    "T = lambda x: e**(1/2.*(ninf*x))"
   ]
  },
  {
   "cell_type": "code",
   "execution_count": 46,
   "id": "bba7fff8-7717-4b8a-aa20-a8b013e1f1f8",
   "metadata": {},
   "outputs": [],
   "source": [
    "lp = T(pv) * l *~T(pv)"
   ]
  },
  {
   "cell_type": "code",
   "execution_count": 52,
   "id": "f78e3eee-1671-4e47-b5de-bbcc96e1f383",
   "metadata": {},
   "outputs": [
    {
     "data": {
      "text/plain": [
       "(1.0^e124) - (1.0^e125) - (1.0^e134) + (1.0^e135) - (1.0^e234) + (1.0^e235) + (1.0^e245) - (1.0^e345)"
      ]
     },
     "execution_count": 52,
     "metadata": {},
     "output_type": "execute_result"
    }
   ],
   "source": [
    "Ic = no ^ e1 ^e2 ^e3 ^ninf\n",
    "\n",
    "lp"
   ]
  }
 ],
 "metadata": {
  "kernelspec": {
   "display_name": "clifford",
   "language": "python",
   "name": "clifford"
  },
  "language_info": {
   "codemirror_mode": {
    "name": "ipython",
    "version": 3
   },
   "file_extension": ".py",
   "mimetype": "text/x-python",
   "name": "python",
   "nbconvert_exporter": "python",
   "pygments_lexer": "ipython3",
   "version": "3.9.15"
  }
 },
 "nbformat": 4,
 "nbformat_minor": 5
}
