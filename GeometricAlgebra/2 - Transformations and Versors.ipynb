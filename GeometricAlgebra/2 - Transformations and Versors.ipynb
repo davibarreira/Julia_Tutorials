{
 "cells": [
  {
   "cell_type": "markdown",
   "id": "c8632c2e-6e6c-44e6-a227-a8817c244a0b",
   "metadata": {
    "tags": []
   },
   "source": [
    "# **2 - Transformations and Versors**\n",
    "\n",
    "<!-- In linear algebra, an orthogonal transformation is a transformation $T:V \\to V$ that preserves\n",
    "the inner product, i.e. $\\mathbf v \\cdot \\mathbf u = T\\mathbf v \\cdot T \\mathbf u$.\n",
    "In our case, we want our transformations to preserve the geometric product.\n",
    "The previous section showcased this with the reflection of a vector $\\mathbf u$\n",
    "around a vector $\\mathbf a$, which was given by $\\mathbf a^{-1} \\mathbf u \\mathbf a$.\n",
    "Note that this preserves the geometric product. Let $R$ be the operator representing\n",
    "this transformation, i.e. $R(\\mathbf u) =\\mathbf a^{-1} \\mathbf u \\mathbf a $. Therefore:\n",
    "$$\n",
    "R(\\mathbf u \\mathbf v) =\n",
    "\\mathbf a^{-1} \\mathbf u \\mathbf v \\mathbf a = \n",
    "\\mathbf a^{-1} \\mathbf u (\\mathbf a \\mathbf a^{-1}) \\mathbf v \\mathbf a\n",
    "= \n",
    "R(\\mathbf u) R(\\mathbf v).\n",
    "$$ -->\n",
    "\n",
    "When applying transformations to our geometric primitives, we want to ensure that\n",
    "the algebraic structure is preserved. What does this means? Simply that for two\n",
    "multivectors $A,B$ and a transformation $\\mathcal T$ we have that:\n",
    "\n",
    "$$\n",
    "\\mathcal T(A \\circ B) = \\mathcal T(A) \\circ \\mathcal T(B).\n",
    "$$\n",
    "In the equation above, $\\circ$ is any product that can be constructed via the geometric product, for example:\n",
    "\n",
    "$$\n",
    "\\mathcal T(A \\wedge B) = \\mathcal T(A) \\wedge \\mathcal T(B),\n",
    "$$\n",
    "\n",
    "$$\n",
    "\\mathcal T(A \\cdot B) = \\mathcal T(A) \\cdot \\mathcal T(B),\n",
    "$$\n",
    "\n",
    "$$\n",
    "\\mathcal T(A B) = \\mathcal T(A) \\mathcal T(B),\n",
    "$$\n",
    "\n",
    "Now, a $k$-versor $\\mathcal V$ is defined by the geometric product of $k$ invertible vectors. This means that\n",
    "$\\mathcal V := v_k ... v_2 v_1$.\n",
    "\n"
   ]
  },
  {
   "cell_type": "markdown",
   "id": "12ec28ba-e236-44f4-b0db-cbf561df775c",
   "metadata": {},
   "source": [
    "## 2.1 Reflections\n",
    "\n",
    "The reflection around a $\\mathbf a$ line can be performed via\n",
    "$$\n",
    "\\mathbf a X \\mathbf a^{-1},\n",
    "$$\n",
    "where $X$ is a multivector (i.e. it can be a scalar, a vector,a  blade, or a multivector with multiple grades).\n",
    "We've actually shown this transformation for vectors, but one can apply induction in order to prove\n",
    "it's validity to any blade, and then, through linearity, show it's validity to any multivector.\n",
    "\n",
    "<!-- There is a catch to this formula though. This is **not** actually a reflection, but it's a rotation.\n",
    "The actual reflection transf -->\n",
    "\n",
    "We know that a vector $\\mathbf a$ is the dual representation of a hyperplane, i.e. if\n",
    "we consider $\\mathbf a$ to be the vector normal to a plane, then any point $\\mathbf x$\n",
    "that falls into this plane satisfies the condition that $\\mathbf a \\cdot \\mathbf x = 0$.\n",
    "This condition of null inner product is the dual expression. It provides a way of checking\n",
    "whether a point belongs to the plane, but it does not provide an expression for the actual\n",
    "points in the plane.\n",
    "\n",
    "The reflection formula for the hyperplane represented as the dual to $\\mathbf a$ is\n",
    "\n",
    "$$\n",
    "\\mathbf a \\mathbf{\\hat X} \\mathbf a^{-1}.\n",
    "$$\n",
    "\n",
    "Note that this formula only applies to blade, i.e. $\\mathbf X$ is a blade. The reason is clear, the\n",
    "involution formula is $\\mathbf{\\hat X} = (-1)^{\\text{grade}(\\mathbf X)} \\mathbf X$, and the grade\n",
    "operator is only well defined for blades."
   ]
  },
  {
   "cell_type": "markdown",
   "id": "6c3da9ee-a709-4ef9-9b00-55dff52ccf3a",
   "metadata": {},
   "source": [
    "## 2.2 Rotations\n",
    "\n",
    "A rotation cane be constructed from an even number of reflections. Let\n",
    "$\\mathbf a$ and $\\mathbf b$ be two vectors with an angle $\\phi/2$ from $\\mathbf a$ to $\\mathbf b$.\n",
    "Both vectors forma subspace given by $\\mathbf a \\wedge \\mathbf b$. We can then rotate our\n",
    "vector $\\mathbf x$ by an angle $\\phi$ by applying the reflection on $\\mathbf a$ followed by $\\mathbf b$.\n",
    "\n",
    "$$\n",
    "\\mathbf b \\mathbf a \\mathbf x \\mathbf a^{-1} \\mathbf b^{-1} =\n",
    "\\mathbf b \\mathbf a^{-1} \\mathbf x \\mathbf a \\mathbf b^{-1} =\n",
    "(\\mathbf b / \\mathbf a) \\mathbf x (\\mathbf b / \\mathbf a)^{-1}.\n",
    "$$\n",
    "\n",
    "Hence, denoting $R = \\mathbf b \\mathbf a^{-1}$ we can write the rotation by $R \\mathbf x R^{-1}$,\n",
    "which is again a sandwiching of multivectors."
   ]
  },
  {
   "attachments": {
    "3612a2d0-86c9-4968-a015-fa0e9fa9dbf7.png": {
     "image/png": "[encoded data removed]"
    }
   },
   "cell_type": "markdown",
   "id": "96b1334d-d5e6-488e-a40a-7bc0397d77d5",
   "metadata": {},
   "source": [
    "## 2.3 Projection\n",
    "\n",
    "Another important transformation is a projection. Consider two vectors $\\mathbf b_1$ and\n",
    "$\\mathbf b_2$. We obtain the subspace defined by them using $\\mathbf b_1 \\wedge \\mathbf b_2 = \\mathbf b_{\\langle 2\\rangle}$.\n",
    "\n",
    "Now, suppose we want to project a third vector $\\mathbf a$ on this subspace. How can we do this?\n",
    "We could start by applying the left contraction $\\rfloor$. Yet, the left contraction\n",
    "does more than simply project, it also rotates the projected vector. Look the image below (taken from the\n",
    "book \"Álgebra Geométrica e Aplicações\" by Fernandes, Lavor and Neto). When we do\n",
    "$\\mathbf a \\rfloor \\mathbf b_2 = \\mathbf b_{\\langle 2\\rangle}$, we get the vector $\\mathbf c$\n",
    "in the drawing.\n",
    "\n",
    "![image.png](attachment:3612a2d0-86c9-4968-a015-fa0e9fa9dbf7.png)"
   ]
  },
  {
   "cell_type": "markdown",
   "id": "6f7bf248-be1b-455c-bf5e-964a73d80c1a",
   "metadata": {},
   "source": [
    "But we want to get $\\mathbf p$. How do we do this? We need to apply the left contraction again, but\n",
    "using it on $c$ with the same subspace but with the inverse rotation. We can do this by using the actual\n",
    "inverse blade, i.e.\n",
    "\n",
    "$$\n",
    "\\mathbf p = c \\rfloor \\left(\\mathbf B_{\\langle 2 \\rangle}\\right)^{-1}.\n",
    "$$\n",
    "\n",
    "Thus, the projection formula becomes:\n",
    "\n",
    "$$\n",
    "\\text{Proj}_{\\mathbf B} (\\mathbf x) = \\left(\\mathbf x \\rfloor \\mathbf B_{\\langle 2 \\rangle}\\right) \\rfloor \\left(\\mathbf B_{\\langle 2 \\rangle}\\right)^{-1}\n",
    "$$"
   ]
  },
  {
   "cell_type": "markdown",
   "id": "3a1a8c06-b02c-413b-9496-c01ebba35261",
   "metadata": {},
   "source": [
    "This formula works fine even for arbitrary blades, **but only in Euclidean spaces**, i.e. spaces with the Euclidean metric.\n",
    "And we are actually going to work on spaces that are not Euclidean (e.g. Conformal space). So, instead of\n",
    "this formula for projection, we do:\n",
    "\n",
    "$$\n",
    "\\text{Proj}_{\\mathbf B} (\\mathbf A) = \\left(\\mathbf A \\rfloor \\left(\\mathbf B_{\\langle 2 \\rangle}\\right)^{-1}\\right) \\rfloor \\mathbf B_{\\langle 2 \\rangle},\n",
    "$$\n",
    "where $\\mathbf A$ is a blade.\n",
    "First, note that exchanging the order of the inverse does not alter our previous argument of how to obtain the projection. The only\n",
    "difference is that we start rotating in the other direction. Yet, this other formulation will come in hand when we are in\n",
    "spaces other than Euclidean, where we'll have multivectors with null norms, which means that they are not invertible. Yet,\n",
    "we can still do an operation akin to the inverse, and by finishing with the left contraction on $\\mathbf B$,\n",
    "we guarantee that our projected blade will be on the correct subspace.\n"
   ]
  },
  {
   "cell_type": "markdown",
   "id": "da71a4af-16ca-4542-98af-f3addafcd23c",
   "metadata": {},
   "source": [
    "### Writing Code!\n",
    "Let's write some Julia to visualize some of this."
   ]
  },
  {
   "cell_type": "code",
   "execution_count": 1,
   "id": "f3bbcf72-c041-48ce-8e11-6a8a88148522",
   "metadata": {
    "jupyter": {
     "source_hidden": true
    },
    "tags": []
   },
   "outputs": [
    {
     "name": "stderr",
     "output_type": "stream",
     "text": [
      "\u001b[32m\u001b[1m  Activating\u001b[22m\u001b[39m project at `~/MEGA/EMAP/Julia_Tutorials/GeometricAlgebra`\n",
      "┌ Warning: For saving to png with the `Plotly` backend `PlotlyBase` and `PlotlyKaleido` need to be installed.\n",
      "│   err = ArgumentError(\"Package PlotlyBase not found in current path.\\n- Run `import Pkg; Pkg.add(\\\"PlotlyBase\\\")` to install the PlotlyBase package.\")\n",
      "└ @ Plots /home/davibarreira/.julia/packages/Plots/M4dfL/src/backends.jl:545\n"
     ]
    }
   ],
   "source": [
    "using Pkg\n",
    "Pkg.activate(\".\")\n",
    "\n",
    "using CliffordAlgebras\n",
    "using Plots\n",
    "include(\"./auxiliary.jl\")\n",
    "plotly();"
   ]
  },
  {
   "cell_type": "code",
   "execution_count": 2,
   "id": "7d228fe7-0b78-45f3-9efb-7923a18495e5",
   "metadata": {},
   "outputs": [
    {
     "data": {
      "text/plain": [
       "Cl(3,0,0)"
      ]
     },
     "execution_count": 2,
     "metadata": {},
     "output_type": "execute_result"
    }
   ],
   "source": [
    "cl = CliffordAlgebra(3)"
   ]
  },
  {
   "cell_type": "markdown",
   "id": "b04a557d-05ca-47ac-9a00-56a8f3ce22c8",
   "metadata": {},
   "source": [
    "### Plotting a Subspace \n",
    "\n",
    "First, consider two vectors and create the subspace (blade) using the outer product.\n",
    "We can dualize this construction to get the normal vector $\\mathbf n$.\n",
    "\n",
    "For $\\mathbf n = [A,B,C]$, since the plane touches the origin,\n",
    "the equation that describes is $Ax + By + Cz = 0$. Therefore, we have:\n",
    "\n",
    "$$\n",
    "z = -\\frac{Ax + By}{C}\n",
    "$$"
   ]
  },
  {
   "cell_type": "code",
   "execution_count": 8,
   "id": "cef160c0-d591-4a5d-9a67-60e6ac662a09",
   "metadata": {},
   "outputs": [],
   "source": [
    "a = cl.e1 + 0.5cl.e2 + 0.5cl.e3\n",
    "b = 0.5cl.e1 + 1.0cl.e2 + 0.5cl.e3\n",
    "\n",
    "B = a ∧ b\n",
    "\n",
    "n = dual(B)\n",
    "\n",
    "z(x,y) = -(n.e1 * x + n.e2 * y)/n.e3;"
   ]
  },
  {
   "cell_type": "markdown",
   "id": "97b5b840-41d9-46d4-adb5-4e09f3de4ff7",
   "metadata": {},
   "source": [
    "Let's plot our plane and check if our vectors `a` and `b` lay inside it. "
   ]
  },
  {
   "cell_type": "code",
   "execution_count": 39,
   "id": "57fff976-795f-4b44-93a9-6f0261a3b772",
   "metadata": {},
   "outputs": [
    {
     "data": {
      "application/vnd.plotly.v1+json": {
       "data": [
        {
         "cmax": 0.6666666666666666,
         "cmin": 0,
         "colorbar": {
          "len": 0.9525371828521435,
          "title": {
           "text": ""
          },
          "x": 0.9934383202099738,
          "y": 0.513888888888889
         },
         "colorscale": [
          [
           0,
           "rgba(0, 0, 255, 0.500)"
          ],
          [
           1,
           "rgba(0, 0, 255, 0.500)"
          ]
         ],
         "name": "y1",
         "opacity": 0.5,
         "scene": "scene",
         "showlegend": false,
         "showscale": false,
         "type": "surface",
         "x": [
          0,
          1
         ],
         "xaxis": "x",
         "y": [
          0,
          1
         ],
         "yaxis": "y",
         "z": [
          [
           0,
           0.3333333333333333
          ],
          [
           0.3333333333333333,
           0.6666666666666666
          ]
         ],
         "zaxis": "z",
         "zmax": 0.6666666666666666,
         "zmin": 0
        },
        {
         "colorbar": {
          "len": 0.9525371828521435,
          "title": {
           "text": ""
          },
          "x": 0.9934383202099738,
          "y": 0.513888888888889
         },
         "legendgroup": "",
         "line": {
          "color": "rgba(227, 111, 71, 1.000)",
          "dash": "solid",
          "shape": "linear",
          "width": 1
         },
         "mode": "lines",
         "name": "",
         "scene": "scene",
         "showlegend": false,
         "type": "scatter3d",
         "x": [
          0,
          1
         ],
         "xaxis": "x",
         "y": [
          0,
          0.5
         ],
         "yaxis": "y",
         "z": [
          0,
          0.5
         ],
         "zaxis": "z",
         "zmax": 0.6666666666666666,
         "zmin": 0
        },
        {
         "colorbar": {
          "len": 0.9525371828521435,
          "title": {
           "text": ""
          },
          "x": 0.9934383202099738,
          "y": 0.513888888888889
         },
         "legendgroup": "",
         "line": {
          "color": "rgba(62, 164, 78, 1.000)",
          "dash": "solid",
          "shape": "linear",
          "width": 1
         },
         "mode": "lines",
         "name": "",
         "scene": "scene",
         "showlegend": false,
         "type": "scatter3d",
         "x": [
          0,
          0.5
         ],
         "xaxis": "x",
         "y": [
          0,
          1
         ],
         "yaxis": "y",
         "z": [
          0,
          0.5
         ],
         "zaxis": "z",
         "zmax": 0.6666666666666666,
         "zmin": 0
        }
       ],
       "layout": {
        "annotations": [],
        "height": 400,
        "margin": {
         "b": 20,
         "l": 0,
         "r": 0,
         "t": 20
        },
        "paper_bgcolor": "rgba(255, 255, 255, 1.000)",
        "plot_bgcolor": "rgba(255, 255, 255, 1.000)",
        "scene": {
         "aspectmode": "auto",
         "aspectratio": {
          "x": 1.1447142425533319,
          "y": 1.1447142425533319,
          "z": 0.7631428283688879
         },
         "camera": {
          "eye": {
           "x": 1.12583302491977,
           "y": -1.9499999999999997,
           "z": 1.3
          },
          "projection": "orthographic"
         },
         "domain": {
          "x": [
           0.0658209390492855,
           0.9934383202099738
          ],
          "y": [
           0.03762029746281716,
           0.9901574803149606
          ]
         },
         "xaxis": {
          "gridcolor": "rgba(0, 0, 0, 0.1)",
          "gridwidth": 0.5,
          "linecolor": "rgba(0, 0, 0, 1)",
          "mirror": false,
          "range": [
           -0.27420160734787613,
           1.2742016073478761
          ],
          "showgrid": true,
          "showline": true,
          "showticklabels": true,
          "tickangle": 0,
          "tickcolor": "rgb(0, 0, 0)",
          "tickfont": {
           "color": "rgba(0, 0, 0, 1)",
           "family": "sans-serif",
           "size": 11
          },
          "tickmode": "array",
          "ticks": "inside",
          "ticktext": [
           "0.0",
           "0.3",
           "0.6",
           "0.9",
           "1.2"
          ],
          "tickvals": [
           0,
           0.30000000000000004,
           0.6000000000000001,
           0.9000000000000001,
           1.2000000000000002
          ],
          "title": {
           "font": {
            "color": "rgba(0, 0, 0, 1)",
            "family": "sans-serif",
            "size": 15
           },
           "text": ""
          },
          "type": "linear",
          "visible": true,
          "zeroline": false,
          "zerolinecolor": "rgba(0, 0, 0, 1)"
         },
         "yaxis": {
          "gridcolor": "rgba(0, 0, 0, 0.1)",
          "gridwidth": 0.5,
          "linecolor": "rgba(0, 0, 0, 1)",
          "mirror": false,
          "range": [
           -0.030000000000000027,
           1.03
          ],
          "showgrid": true,
          "showline": true,
          "showticklabels": true,
          "tickangle": 0,
          "tickcolor": "rgb(0, 0, 0)",
          "tickfont": {
           "color": "rgba(0, 0, 0, 1)",
           "family": "sans-serif",
           "size": 11
          },
          "tickmode": "array",
          "ticks": "inside",
          "ticktext": [
           "0.00",
           "0.25",
           "0.50",
           "0.75",
           "1.00"
          ],
          "tickvals": [
           0,
           0.25,
           0.5,
           0.75,
           1
          ],
          "title": {
           "font": {
            "color": "rgba(0, 0, 0, 1)",
            "family": "sans-serif",
            "size": 15
           },
           "text": ""
          },
          "type": "linear",
          "visible": true,
          "zeroline": false,
          "zerolinecolor": "rgba(0, 0, 0, 1)"
         },
         "zaxis": {
          "gridcolor": "rgba(0, 0, 0, 0.1)",
          "gridwidth": 0.5,
          "linecolor": "rgba(0, 0, 0, 1)",
          "mirror": false,
          "range": [
           -0.020000000000000018,
           0.6866666666666666
          ],
          "showgrid": true,
          "showline": true,
          "showticklabels": true,
          "tickangle": 0,
          "tickcolor": "rgb(0, 0, 0)",
          "tickfont": {
           "color": "rgba(0, 0, 0, 1)",
           "family": "sans-serif",
           "size": 11
          },
          "tickmode": "array",
          "ticks": "inside",
          "ticktext": [
           "0.0",
           "0.1",
           "0.2",
           "0.3",
           "0.4",
           "0.5",
           "0.6"
          ],
          "tickvals": [
           0,
           0.1,
           0.2,
           0.30000000000000004,
           0.4,
           0.5,
           0.6000000000000001
          ],
          "title": {
           "font": {
            "color": "rgba(0, 0, 0, 1)",
            "family": "sans-serif",
            "size": 15
           },
           "text": ""
          },
          "type": "linear",
          "visible": true,
          "zeroline": false,
          "zerolinecolor": "rgba(0, 0, 0, 1)"
         }
        },
        "showlegend": false,
        "width": 600
       }
      },
      "text/html": [
       "    <div id=\"40393fd0-d26d-499e-b7f4-52a3013b0631\" style=\"width:600px;height:400px;\"></div>\n",
       "    <script>\n",
       "        requirejs.config({\n",
       "        paths: {\n",
       "            Plotly: 'https://cdn.plot.ly/plotly-2.6.3.min'\n",
       "        }\n",
       "    });\n",
       "    require(['Plotly'], function (Plotly) {\n",
       "\n",
       "    Plotly.newPlot('40393fd0-d26d-499e-b7f4-52a3013b0631', [\n",
       "    {\n",
       "        \"xaxis\": \"x\",\n",
       "        \"colorbar\": {\n",
       "            \"y\": 0.513888888888889,\n",
       "            \"title\": \"\",\n",
       "            \"len\": 0.9525371828521435,\n",
       "            \"x\": 0.9934383202099738\n",
       "        },\n",
       "        \"colorscale\": [\n",
       "            [\n",
       "                0.0,\n",
       "                \"rgba(0, 0, 255, 0.500)\"\n",
       "            ],\n",
       "            [\n",
       "                1.0,\n",
       "                \"rgba(0, 0, 255, 0.500)\"\n",
       "            ]\n",
       "        ],\n",
       "        \"yaxis\": \"y\",\n",
       "        \"zaxis\": \"z\",\n",
       "        \"showscale\": false,\n",
       "        \"x\": [\n",
       "            0.0,\n",
       "            1.0\n",
       "        ],\n",
       "        \"showlegend\": false,\n",
       "        \"name\": \"y1\",\n",
       "        \"opacity\": 0.5,\n",
       "        \"zmin\": 0.0,\n",
       "        \"z\": [\n",
       "            [\n",
       "                0.0,\n",
       "                0.3333333333333333\n",
       "            ],\n",
       "            [\n",
       "                0.3333333333333333,\n",
       "                0.6666666666666666\n",
       "            ]\n",
       "        ],\n",
       "        \"zmax\": 0.6666666666666666,\n",
       "        \"y\": [\n",
       "            0.0,\n",
       "            1.0\n",
       "        ],\n",
       "        \"type\": \"surface\",\n",
       "        \"scene\": \"scene\"\n",
       "    },\n",
       "    {\n",
       "        \"xaxis\": \"x\",\n",
       "        \"colorbar\": {\n",
       "            \"y\": 0.513888888888889,\n",
       "            \"title\": \"\",\n",
       "            \"len\": 0.9525371828521435,\n",
       "            \"x\": 0.9934383202099738\n",
       "        },\n",
       "        \"yaxis\": \"y\",\n",
       "        \"zaxis\": \"z\",\n",
       "        \"x\": [\n",
       "            0.0,\n",
       "            1.0\n",
       "        ],\n",
       "        \"showlegend\": false,\n",
       "        \"mode\": \"lines\",\n",
       "        \"name\": \"\",\n",
       "        \"zmin\": 0.0,\n",
       "        \"legendgroup\": \"\",\n",
       "        \"z\": [\n",
       "            0.0,\n",
       "            0.5\n",
       "        ],\n",
       "        \"zmax\": 0.6666666666666666,\n",
       "        \"line\": {\n",
       "            \"color\": \"rgba(227, 111, 71, 1.000)\",\n",
       "            \"shape\": \"linear\",\n",
       "            \"dash\": \"solid\",\n",
       "            \"width\": 1\n",
       "        },\n",
       "        \"y\": [\n",
       "            0.0,\n",
       "            0.5\n",
       "        ],\n",
       "        \"type\": \"scatter3d\",\n",
       "        \"scene\": \"scene\"\n",
       "    },\n",
       "    {\n",
       "        \"xaxis\": \"x\",\n",
       "        \"colorbar\": {\n",
       "            \"y\": 0.513888888888889,\n",
       "            \"title\": \"\",\n",
       "            \"len\": 0.9525371828521435,\n",
       "            \"x\": 0.9934383202099738\n",
       "        },\n",
       "        \"yaxis\": \"y\",\n",
       "        \"zaxis\": \"z\",\n",
       "        \"x\": [\n",
       "            0.0,\n",
       "            0.5\n",
       "        ],\n",
       "        \"showlegend\": false,\n",
       "        \"mode\": \"lines\",\n",
       "        \"name\": \"\",\n",
       "        \"zmin\": 0.0,\n",
       "        \"legendgroup\": \"\",\n",
       "        \"z\": [\n",
       "            0.0,\n",
       "            0.5\n",
       "        ],\n",
       "        \"zmax\": 0.6666666666666666,\n",
       "        \"line\": {\n",
       "            \"color\": \"rgba(62, 164, 78, 1.000)\",\n",
       "            \"shape\": \"linear\",\n",
       "            \"dash\": \"solid\",\n",
       "            \"width\": 1\n",
       "        },\n",
       "        \"y\": [\n",
       "            0.0,\n",
       "            1.0\n",
       "        ],\n",
       "        \"type\": \"scatter3d\",\n",
       "        \"scene\": \"scene\"\n",
       "    }\n",
       "]\n",
       ", {\n",
       "    \"showlegend\": false,\n",
       "    \"paper_bgcolor\": \"rgba(255, 255, 255, 1.000)\",\n",
       "    \"annotations\": [],\n",
       "    \"height\": 400,\n",
       "    \"margin\": {\n",
       "        \"l\": 0,\n",
       "        \"b\": 20,\n",
       "        \"r\": 0,\n",
       "        \"t\": 20\n",
       "    },\n",
       "    \"plot_bgcolor\": \"rgba(255, 255, 255, 1.000)\",\n",
       "    \"scene\": {\n",
       "        \"camera\": {\n",
       "            \"eye\": {\n",
       "                \"y\": -1.9499999999999997,\n",
       "                \"z\": 1.3,\n",
       "                \"x\": 1.12583302491977\n",
       "            },\n",
       "            \"projection\": \"orthographic\"\n",
       "        },\n",
       "        \"xaxis\": {\n",
       "            \"tickangle\": 0,\n",
       "            \"showline\": true,\n",
       "            \"gridcolor\": \"rgba(0, 0, 0, 0.100)\",\n",
       "            \"showticklabels\": true,\n",
       "            \"gridwidth\": 0.5,\n",
       "            \"titlefont\": {\n",
       "                \"color\": \"rgba(0, 0, 0, 1.000)\",\n",
       "                \"family\": \"sans-serif\",\n",
       "                \"size\": 15\n",
       "            },\n",
       "            \"visible\": true,\n",
       "            \"ticks\": \"inside\",\n",
       "            \"range\": [\n",
       "                -0.27420160734787613,\n",
       "                1.2742016073478761\n",
       "            ],\n",
       "            \"tickmode\": \"array\",\n",
       "            \"tickvals\": [\n",
       "                0.0,\n",
       "                0.30000000000000004,\n",
       "                0.6000000000000001,\n",
       "                0.9000000000000001,\n",
       "                1.2000000000000002\n",
       "            ],\n",
       "            \"tickcolor\": \"rgb(0, 0, 0)\",\n",
       "            \"ticktext\": [\n",
       "                \"0.0\",\n",
       "                \"0.3\",\n",
       "                \"0.6\",\n",
       "                \"0.9\",\n",
       "                \"1.2\"\n",
       "            ],\n",
       "            \"linecolor\": \"rgba(0, 0, 0, 1.000)\",\n",
       "            \"showgrid\": true,\n",
       "            \"zeroline\": false,\n",
       "            \"type\": \"-\",\n",
       "            \"tickfont\": {\n",
       "                \"color\": \"rgba(0, 0, 0, 1.000)\",\n",
       "                \"family\": \"sans-serif\",\n",
       "                \"size\": 11\n",
       "            },\n",
       "            \"title\": \"\",\n",
       "            \"zerolinecolor\": \"rgba(0, 0, 0, 1.000)\",\n",
       "            \"mirror\": false\n",
       "        },\n",
       "        \"domain\": {\n",
       "            \"y\": [\n",
       "                0.03762029746281716,\n",
       "                0.9901574803149606\n",
       "            ],\n",
       "            \"x\": [\n",
       "                0.0658209390492855,\n",
       "                0.9934383202099738\n",
       "            ]\n",
       "        },\n",
       "        \"yaxis\": {\n",
       "            \"tickangle\": 0,\n",
       "            \"showline\": true,\n",
       "            \"gridcolor\": \"rgba(0, 0, 0, 0.100)\",\n",
       "            \"showticklabels\": true,\n",
       "            \"gridwidth\": 0.5,\n",
       "            \"titlefont\": {\n",
       "                \"color\": \"rgba(0, 0, 0, 1.000)\",\n",
       "                \"family\": \"sans-serif\",\n",
       "                \"size\": 15\n",
       "            },\n",
       "            \"visible\": true,\n",
       "            \"ticks\": \"inside\",\n",
       "            \"range\": [\n",
       "                -0.030000000000000027,\n",
       "                1.03\n",
       "            ],\n",
       "            \"tickmode\": \"array\",\n",
       "            \"tickvals\": [\n",
       "                0.0,\n",
       "                0.25,\n",
       "                0.5,\n",
       "                0.75,\n",
       "                1.0\n",
       "            ],\n",
       "            \"tickcolor\": \"rgb(0, 0, 0)\",\n",
       "            \"ticktext\": [\n",
       "                \"0.00\",\n",
       "                \"0.25\",\n",
       "                \"0.50\",\n",
       "                \"0.75\",\n",
       "                \"1.00\"\n",
       "            ],\n",
       "            \"linecolor\": \"rgba(0, 0, 0, 1.000)\",\n",
       "            \"showgrid\": true,\n",
       "            \"zeroline\": false,\n",
       "            \"type\": \"-\",\n",
       "            \"tickfont\": {\n",
       "                \"color\": \"rgba(0, 0, 0, 1.000)\",\n",
       "                \"family\": \"sans-serif\",\n",
       "                \"size\": 11\n",
       "            },\n",
       "            \"title\": \"\",\n",
       "            \"zerolinecolor\": \"rgba(0, 0, 0, 1.000)\",\n",
       "            \"mirror\": false\n",
       "        },\n",
       "        \"zaxis\": {\n",
       "            \"tickangle\": 0,\n",
       "            \"showline\": true,\n",
       "            \"gridcolor\": \"rgba(0, 0, 0, 0.100)\",\n",
       "            \"showticklabels\": true,\n",
       "            \"gridwidth\": 0.5,\n",
       "            \"titlefont\": {\n",
       "                \"color\": \"rgba(0, 0, 0, 1.000)\",\n",
       "                \"family\": \"sans-serif\",\n",
       "                \"size\": 15\n",
       "            },\n",
       "            \"visible\": true,\n",
       "            \"ticks\": \"inside\",\n",
       "            \"range\": [\n",
       "                -0.020000000000000018,\n",
       "                0.6866666666666666\n",
       "            ],\n",
       "            \"tickmode\": \"array\",\n",
       "            \"tickvals\": [\n",
       "                0.0,\n",
       "                0.1,\n",
       "                0.2,\n",
       "                0.30000000000000004,\n",
       "                0.4,\n",
       "                0.5,\n",
       "                0.6000000000000001\n",
       "            ],\n",
       "            \"tickcolor\": \"rgb(0, 0, 0)\",\n",
       "            \"ticktext\": [\n",
       "                \"0.0\",\n",
       "                \"0.1\",\n",
       "                \"0.2\",\n",
       "                \"0.3\",\n",
       "                \"0.4\",\n",
       "                \"0.5\",\n",
       "                \"0.6\"\n",
       "            ],\n",
       "            \"linecolor\": \"rgba(0, 0, 0, 1.000)\",\n",
       "            \"showgrid\": true,\n",
       "            \"zeroline\": false,\n",
       "            \"type\": \"-\",\n",
       "            \"tickfont\": {\n",
       "                \"color\": \"rgba(0, 0, 0, 1.000)\",\n",
       "                \"family\": \"sans-serif\",\n",
       "                \"size\": 11\n",
       "            },\n",
       "            \"title\": \"\",\n",
       "            \"zerolinecolor\": \"rgba(0, 0, 0, 1.000)\",\n",
       "            \"mirror\": false\n",
       "        }\n",
       "    },\n",
       "    \"width\": 600\n",
       "}\n",
       ");\n",
       "    });\n",
       "    </script>\n"
      ]
     },
     "execution_count": 39,
     "metadata": {},
     "output_type": "execute_result"
    }
   ],
   "source": [
    "x = [0,1]\n",
    "y = [0,1]\n",
    "surface(x,y,z, cmap=:blue, alpha=0.5, legend=false,aspect_ratio=1)\n",
    "quiver!([0],[0],[0],quiver=([a.e1],[a.e2],[a.e3]))\n",
    "quiver!([0],[0],[0],quiver=([b.e1],[b.e2],[b.e3]))"
   ]
  },
  {
   "cell_type": "markdown",
   "id": "94f99a0f-0c02-43f0-bd69-17adaf22e2b7",
   "metadata": {},
   "source": [
    "## Plotting Projection, Rotation and Reflection\n",
    "\n",
    "Next, let's create another vector and project it in the plane. "
   ]
  },
  {
   "cell_type": "code",
   "execution_count": 40,
   "id": "d62edba8-d551-489a-875f-25690a9d99a9",
   "metadata": {},
   "outputs": [
    {
     "data": {
      "application/vnd.plotly.v1+json": {
       "data": [
        {
         "cmax": 0.6666666666666666,
         "cmin": 0,
         "colorbar": {
          "len": 0.9525371828521435,
          "title": {
           "text": ""
          },
          "x": 0.9934383202099738,
          "y": 0.513888888888889
         },
         "colorscale": [
          [
           0,
           "rgba(0, 0, 255, 0.500)"
          ],
          [
           1,
           "rgba(0, 0, 255, 0.500)"
          ]
         ],
         "name": "y1",
         "opacity": 0.5,
         "scene": "scene",
         "showlegend": false,
         "showscale": false,
         "type": "surface",
         "x": [
          0,
          1
         ],
         "xaxis": "x",
         "y": [
          0,
          1
         ],
         "yaxis": "y",
         "z": [
          [
           0,
           0.3333333333333333
          ],
          [
           0.3333333333333333,
           0.6666666666666666
          ]
         ],
         "zaxis": "z",
         "zmax": 0.6666666666666666,
         "zmin": 0
        },
        {
         "colorbar": {
          "len": 0.9525371828521435,
          "title": {
           "text": ""
          },
          "x": 0.9934383202099738,
          "y": 0.513888888888889
         },
         "legendgroup": "",
         "line": {
          "color": "rgba(227, 111, 71, 1.000)",
          "dash": "solid",
          "shape": "linear",
          "width": 1
         },
         "mode": "lines",
         "name": "",
         "scene": "scene",
         "showlegend": false,
         "type": "scatter3d",
         "x": [
          0,
          0.7
         ],
         "xaxis": "x",
         "y": [
          0,
          0.7
         ],
         "yaxis": "y",
         "z": [
          0,
          0.7
         ],
         "zaxis": "z",
         "zmax": 0.6666666666666666,
         "zmin": 0
        },
        {
         "colorbar": {
          "len": 0.9525371828521435,
          "title": {
           "text": ""
          },
          "x": 0.9934383202099738,
          "y": 0.513888888888889
         },
         "legendgroup": "",
         "line": {
          "color": "rgba(62, 164, 78, 1.000)",
          "dash": "solid",
          "shape": "linear",
          "width": 1
         },
         "mode": "lines",
         "name": "",
         "scene": "scene",
         "showlegend": false,
         "type": "scatter3d",
         "x": [
          0,
          0.7636363636363632
         ],
         "xaxis": "x",
         "y": [
          0,
          0.7636363636363632
         ],
         "yaxis": "y",
         "z": [
          0,
          0.5090909090909088
         ],
         "zaxis": "z",
         "zmax": 0.6666666666666666,
         "zmin": 0
        },
        {
         "colorbar": {
          "len": 0.9525371828521435,
          "title": {
           "text": ""
          },
          "x": 0.9934383202099738,
          "y": 0.513888888888889
         },
         "legendgroup": "",
         "line": {
          "color": "rgba(195, 113, 210, 1.000)",
          "dash": "solid",
          "shape": "linear",
          "width": 1
         },
         "mode": "lines",
         "name": "",
         "scene": "scene",
         "showlegend": false,
         "type": "scatter3d",
         "x": [
          0.7,
          0.7636363636363632
         ],
         "xaxis": "x",
         "y": [
          0.7,
          0.7636363636363632
         ],
         "yaxis": "y",
         "z": [
          0.7,
          0.5090909090909088
         ],
         "zaxis": "z",
         "zmax": 0.6666666666666666,
         "zmin": 0
        }
       ],
       "layout": {
        "annotations": [],
        "height": 400,
        "margin": {
         "b": 20,
         "l": 0,
         "r": 0,
         "t": 20
        },
        "paper_bgcolor": "rgba(255, 255, 255, 1.000)",
        "plot_bgcolor": "rgba(255, 255, 255, 1.000)",
        "scene": {
         "aspectmode": "auto",
         "aspectratio": {
          "x": 1.1262478804436062,
          "y": 1.1262478804436062,
          "z": 0.7883735163105243
         },
         "camera": {
          "center": {
           "x": 0,
           "y": 0,
           "z": 0
          },
          "eye": {
           "x": 1.0029475842146955,
           "y": -1.7371561731883185,
           "z": 1.1581041154588791
          },
          "projection": {
           "type": "perspective"
          },
          "up": {
           "x": 0,
           "y": 0,
           "z": 1
          }
         },
         "domain": {
          "x": [
           0.0658209390492855,
           0.9934383202099738
          ],
          "y": [
           0.03762029746281716,
           0.9901574803149606
          ]
         },
         "xaxis": {
          "gridcolor": "rgba(0, 0, 0, 0.1)",
          "gridwidth": 0.5,
          "linecolor": "rgba(0, 0, 0, 1)",
          "mirror": false,
          "range": [
           -0.27420160734787613,
           1.2742016073478761
          ],
          "showgrid": true,
          "showline": true,
          "showticklabels": true,
          "tickangle": 0,
          "tickcolor": "rgb(0, 0, 0)",
          "tickfont": {
           "color": "rgba(0, 0, 0, 1)",
           "family": "sans-serif",
           "size": 11
          },
          "tickmode": "array",
          "ticks": "inside",
          "ticktext": [
           "0.0",
           "0.3",
           "0.6",
           "0.9",
           "1.2"
          ],
          "tickvals": [
           0,
           0.30000000000000004,
           0.6000000000000001,
           0.9000000000000001,
           1.2000000000000002
          ],
          "title": {
           "font": {
            "color": "rgba(0, 0, 0, 1)",
            "family": "sans-serif",
            "size": 15
           },
           "text": ""
          },
          "type": "linear",
          "visible": true,
          "zeroline": false,
          "zerolinecolor": "rgba(0, 0, 0, 1)"
         },
         "yaxis": {
          "gridcolor": "rgba(0, 0, 0, 0.1)",
          "gridwidth": 0.5,
          "linecolor": "rgba(0, 0, 0, 1)",
          "mirror": false,
          "range": [
           -0.030000000000000027,
           1.03
          ],
          "showgrid": true,
          "showline": true,
          "showticklabels": true,
          "tickangle": 0,
          "tickcolor": "rgb(0, 0, 0)",
          "tickfont": {
           "color": "rgba(0, 0, 0, 1)",
           "family": "sans-serif",
           "size": 11
          },
          "tickmode": "array",
          "ticks": "inside",
          "ticktext": [
           "0.00",
           "0.25",
           "0.50",
           "0.75",
           "1.00"
          ],
          "tickvals": [
           0,
           0.25,
           0.5,
           0.75,
           1
          ],
          "title": {
           "font": {
            "color": "rgba(0, 0, 0, 1)",
            "family": "sans-serif",
            "size": 15
           },
           "text": ""
          },
          "type": "linear",
          "visible": true,
          "zeroline": false,
          "zerolinecolor": "rgba(0, 0, 0, 1)"
         },
         "zaxis": {
          "gridcolor": "rgba(0, 0, 0, 0.1)",
          "gridwidth": 0.5,
          "linecolor": "rgba(0, 0, 0, 1)",
          "mirror": false,
          "range": [
           -0.02100000000000002,
           0.721
          ],
          "showgrid": true,
          "showline": true,
          "showticklabels": true,
          "tickangle": 0,
          "tickcolor": "rgb(0, 0, 0)",
          "tickfont": {
           "color": "rgba(0, 0, 0, 1)",
           "family": "sans-serif",
           "size": 11
          },
          "tickmode": "array",
          "ticks": "inside",
          "ticktext": [
           "0.0",
           "0.2",
           "0.4",
           "0.6"
          ],
          "tickvals": [
           0,
           0.2,
           0.4,
           0.6000000000000001
          ],
          "title": {
           "font": {
            "color": "rgba(0, 0, 0, 1)",
            "family": "sans-serif",
            "size": 15
           },
           "text": ""
          },
          "type": "linear",
          "visible": true,
          "zeroline": false,
          "zerolinecolor": "rgba(0, 0, 0, 1)"
         }
        },
        "showlegend": false,
        "width": 600
       }
      },
      "text/html": [
       "    <div id=\"0afd63a1-e59d-4e1b-8100-b5e51a2b533c\" style=\"width:600px;height:400px;\"></div>\n",
       "    <script>\n",
       "        requirejs.config({\n",
       "        paths: {\n",
       "            Plotly: 'https://cdn.plot.ly/plotly-2.6.3.min'\n",
       "        }\n",
       "    });\n",
       "    require(['Plotly'], function (Plotly) {\n",
       "\n",
       "    Plotly.newPlot('0afd63a1-e59d-4e1b-8100-b5e51a2b533c', [\n",
       "    {\n",
       "        \"xaxis\": \"x\",\n",
       "        \"colorbar\": {\n",
       "            \"y\": 0.513888888888889,\n",
       "            \"title\": \"\",\n",
       "            \"len\": 0.9525371828521435,\n",
       "            \"x\": 0.9934383202099738\n",
       "        },\n",
       "        \"colorscale\": [\n",
       "            [\n",
       "                0.0,\n",
       "                \"rgba(0, 0, 255, 0.500)\"\n",
       "            ],\n",
       "            [\n",
       "                1.0,\n",
       "                \"rgba(0, 0, 255, 0.500)\"\n",
       "            ]\n",
       "        ],\n",
       "        \"yaxis\": \"y\",\n",
       "        \"zaxis\": \"z\",\n",
       "        \"showscale\": false,\n",
       "        \"x\": [\n",
       "            0.0,\n",
       "            1.0\n",
       "        ],\n",
       "        \"showlegend\": false,\n",
       "        \"name\": \"y1\",\n",
       "        \"opacity\": 0.5,\n",
       "        \"zmin\": 0.0,\n",
       "        \"z\": [\n",
       "            [\n",
       "                0.0,\n",
       "                0.3333333333333333\n",
       "            ],\n",
       "            [\n",
       "                0.3333333333333333,\n",
       "                0.6666666666666666\n",
       "            ]\n",
       "        ],\n",
       "        \"zmax\": 0.6666666666666666,\n",
       "        \"y\": [\n",
       "            0.0,\n",
       "            1.0\n",
       "        ],\n",
       "        \"type\": \"surface\",\n",
       "        \"scene\": \"scene\"\n",
       "    },\n",
       "    {\n",
       "        \"xaxis\": \"x\",\n",
       "        \"colorbar\": {\n",
       "            \"y\": 0.513888888888889,\n",
       "            \"title\": \"\",\n",
       "            \"len\": 0.9525371828521435,\n",
       "            \"x\": 0.9934383202099738\n",
       "        },\n",
       "        \"yaxis\": \"y\",\n",
       "        \"zaxis\": \"z\",\n",
       "        \"x\": [\n",
       "            0.0,\n",
       "            0.7\n",
       "        ],\n",
       "        \"showlegend\": false,\n",
       "        \"mode\": \"lines\",\n",
       "        \"name\": \"\",\n",
       "        \"zmin\": 0.0,\n",
       "        \"legendgroup\": \"\",\n",
       "        \"z\": [\n",
       "            0.0,\n",
       "            0.7\n",
       "        ],\n",
       "        \"zmax\": 0.6666666666666666,\n",
       "        \"line\": {\n",
       "            \"color\": \"rgba(227, 111, 71, 1.000)\",\n",
       "            \"shape\": \"linear\",\n",
       "            \"dash\": \"solid\",\n",
       "            \"width\": 1\n",
       "        },\n",
       "        \"y\": [\n",
       "            0.0,\n",
       "            0.7\n",
       "        ],\n",
       "        \"type\": \"scatter3d\",\n",
       "        \"scene\": \"scene\"\n",
       "    },\n",
       "    {\n",
       "        \"xaxis\": \"x\",\n",
       "        \"colorbar\": {\n",
       "            \"y\": 0.513888888888889,\n",
       "            \"title\": \"\",\n",
       "            \"len\": 0.9525371828521435,\n",
       "            \"x\": 0.9934383202099738\n",
       "        },\n",
       "        \"yaxis\": \"y\",\n",
       "        \"zaxis\": \"z\",\n",
       "        \"x\": [\n",
       "            0.0,\n",
       "            0.7636363636363632\n",
       "        ],\n",
       "        \"showlegend\": false,\n",
       "        \"mode\": \"lines\",\n",
       "        \"name\": \"\",\n",
       "        \"zmin\": 0.0,\n",
       "        \"legendgroup\": \"\",\n",
       "        \"z\": [\n",
       "            0.0,\n",
       "            0.5090909090909088\n",
       "        ],\n",
       "        \"zmax\": 0.6666666666666666,\n",
       "        \"line\": {\n",
       "            \"color\": \"rgba(62, 164, 78, 1.000)\",\n",
       "            \"shape\": \"linear\",\n",
       "            \"dash\": \"solid\",\n",
       "            \"width\": 1\n",
       "        },\n",
       "        \"y\": [\n",
       "            0.0,\n",
       "            0.7636363636363632\n",
       "        ],\n",
       "        \"type\": \"scatter3d\",\n",
       "        \"scene\": \"scene\"\n",
       "    },\n",
       "    {\n",
       "        \"xaxis\": \"x\",\n",
       "        \"colorbar\": {\n",
       "            \"y\": 0.513888888888889,\n",
       "            \"title\": \"\",\n",
       "            \"len\": 0.9525371828521435,\n",
       "            \"x\": 0.9934383202099738\n",
       "        },\n",
       "        \"yaxis\": \"y\",\n",
       "        \"zaxis\": \"z\",\n",
       "        \"x\": [\n",
       "            0.7,\n",
       "            0.7636363636363632\n",
       "        ],\n",
       "        \"showlegend\": false,\n",
       "        \"mode\": \"lines\",\n",
       "        \"name\": \"\",\n",
       "        \"zmin\": 0.0,\n",
       "        \"legendgroup\": \"\",\n",
       "        \"z\": [\n",
       "            0.7,\n",
       "            0.5090909090909088\n",
       "        ],\n",
       "        \"zmax\": 0.6666666666666666,\n",
       "        \"line\": {\n",
       "            \"color\": \"rgba(195, 113, 210, 1.000)\",\n",
       "            \"shape\": \"linear\",\n",
       "            \"dash\": \"solid\",\n",
       "            \"width\": 1\n",
       "        },\n",
       "        \"y\": [\n",
       "            0.7,\n",
       "            0.7636363636363632\n",
       "        ],\n",
       "        \"type\": \"scatter3d\",\n",
       "        \"scene\": \"scene\"\n",
       "    }\n",
       "]\n",
       ", {\n",
       "    \"showlegend\": false,\n",
       "    \"paper_bgcolor\": \"rgba(255, 255, 255, 1.000)\",\n",
       "    \"annotations\": [],\n",
       "    \"height\": 400,\n",
       "    \"margin\": {\n",
       "        \"l\": 0,\n",
       "        \"b\": 20,\n",
       "        \"r\": 0,\n",
       "        \"t\": 20\n",
       "    },\n",
       "    \"plot_bgcolor\": \"rgba(255, 255, 255, 1.000)\",\n",
       "    \"scene\": {\n",
       "        \"camera\": {\n",
       "            \"eye\": {\n",
       "                \"y\": -1.9499999999999997,\n",
       "                \"z\": 1.3,\n",
       "                \"x\": 1.12583302491977\n",
       "            },\n",
       "            \"projection\": \"orthographic\"\n",
       "        },\n",
       "        \"xaxis\": {\n",
       "            \"tickangle\": 0,\n",
       "            \"showline\": true,\n",
       "            \"gridcolor\": \"rgba(0, 0, 0, 0.100)\",\n",
       "            \"showticklabels\": true,\n",
       "            \"gridwidth\": 0.5,\n",
       "            \"titlefont\": {\n",
       "                \"color\": \"rgba(0, 0, 0, 1.000)\",\n",
       "                \"family\": \"sans-serif\",\n",
       "                \"size\": 15\n",
       "            },\n",
       "            \"visible\": true,\n",
       "            \"ticks\": \"inside\",\n",
       "            \"range\": [\n",
       "                -0.27420160734787613,\n",
       "                1.2742016073478761\n",
       "            ],\n",
       "            \"tickmode\": \"array\",\n",
       "            \"tickvals\": [\n",
       "                0.0,\n",
       "                0.30000000000000004,\n",
       "                0.6000000000000001,\n",
       "                0.9000000000000001,\n",
       "                1.2000000000000002\n",
       "            ],\n",
       "            \"tickcolor\": \"rgb(0, 0, 0)\",\n",
       "            \"ticktext\": [\n",
       "                \"0.0\",\n",
       "                \"0.3\",\n",
       "                \"0.6\",\n",
       "                \"0.9\",\n",
       "                \"1.2\"\n",
       "            ],\n",
       "            \"linecolor\": \"rgba(0, 0, 0, 1.000)\",\n",
       "            \"showgrid\": true,\n",
       "            \"zeroline\": false,\n",
       "            \"type\": \"-\",\n",
       "            \"tickfont\": {\n",
       "                \"color\": \"rgba(0, 0, 0, 1.000)\",\n",
       "                \"family\": \"sans-serif\",\n",
       "                \"size\": 11\n",
       "            },\n",
       "            \"title\": \"\",\n",
       "            \"zerolinecolor\": \"rgba(0, 0, 0, 1.000)\",\n",
       "            \"mirror\": false\n",
       "        },\n",
       "        \"domain\": {\n",
       "            \"y\": [\n",
       "                0.03762029746281716,\n",
       "                0.9901574803149606\n",
       "            ],\n",
       "            \"x\": [\n",
       "                0.0658209390492855,\n",
       "                0.9934383202099738\n",
       "            ]\n",
       "        },\n",
       "        \"yaxis\": {\n",
       "            \"tickangle\": 0,\n",
       "            \"showline\": true,\n",
       "            \"gridcolor\": \"rgba(0, 0, 0, 0.100)\",\n",
       "            \"showticklabels\": true,\n",
       "            \"gridwidth\": 0.5,\n",
       "            \"titlefont\": {\n",
       "                \"color\": \"rgba(0, 0, 0, 1.000)\",\n",
       "                \"family\": \"sans-serif\",\n",
       "                \"size\": 15\n",
       "            },\n",
       "            \"visible\": true,\n",
       "            \"ticks\": \"inside\",\n",
       "            \"range\": [\n",
       "                -0.030000000000000027,\n",
       "                1.03\n",
       "            ],\n",
       "            \"tickmode\": \"array\",\n",
       "            \"tickvals\": [\n",
       "                0.0,\n",
       "                0.25,\n",
       "                0.5,\n",
       "                0.75,\n",
       "                1.0\n",
       "            ],\n",
       "            \"tickcolor\": \"rgb(0, 0, 0)\",\n",
       "            \"ticktext\": [\n",
       "                \"0.00\",\n",
       "                \"0.25\",\n",
       "                \"0.50\",\n",
       "                \"0.75\",\n",
       "                \"1.00\"\n",
       "            ],\n",
       "            \"linecolor\": \"rgba(0, 0, 0, 1.000)\",\n",
       "            \"showgrid\": true,\n",
       "            \"zeroline\": false,\n",
       "            \"type\": \"-\",\n",
       "            \"tickfont\": {\n",
       "                \"color\": \"rgba(0, 0, 0, 1.000)\",\n",
       "                \"family\": \"sans-serif\",\n",
       "                \"size\": 11\n",
       "            },\n",
       "            \"title\": \"\",\n",
       "            \"zerolinecolor\": \"rgba(0, 0, 0, 1.000)\",\n",
       "            \"mirror\": false\n",
       "        },\n",
       "        \"zaxis\": {\n",
       "            \"tickangle\": 0,\n",
       "            \"showline\": true,\n",
       "            \"gridcolor\": \"rgba(0, 0, 0, 0.100)\",\n",
       "            \"showticklabels\": true,\n",
       "            \"gridwidth\": 0.5,\n",
       "            \"titlefont\": {\n",
       "                \"color\": \"rgba(0, 0, 0, 1.000)\",\n",
       "                \"family\": \"sans-serif\",\n",
       "                \"size\": 15\n",
       "            },\n",
       "            \"visible\": true,\n",
       "            \"ticks\": \"inside\",\n",
       "            \"range\": [\n",
       "                -0.02100000000000002,\n",
       "                0.721\n",
       "            ],\n",
       "            \"tickmode\": \"array\",\n",
       "            \"tickvals\": [\n",
       "                0.0,\n",
       "                0.2,\n",
       "                0.4,\n",
       "                0.6000000000000001\n",
       "            ],\n",
       "            \"tickcolor\": \"rgb(0, 0, 0)\",\n",
       "            \"ticktext\": [\n",
       "                \"0.0\",\n",
       "                \"0.2\",\n",
       "                \"0.4\",\n",
       "                \"0.6\"\n",
       "            ],\n",
       "            \"linecolor\": \"rgba(0, 0, 0, 1.000)\",\n",
       "            \"showgrid\": true,\n",
       "            \"zeroline\": false,\n",
       "            \"type\": \"-\",\n",
       "            \"tickfont\": {\n",
       "                \"color\": \"rgba(0, 0, 0, 1.000)\",\n",
       "                \"family\": \"sans-serif\",\n",
       "                \"size\": 11\n",
       "            },\n",
       "            \"title\": \"\",\n",
       "            \"zerolinecolor\": \"rgba(0, 0, 0, 1.000)\",\n",
       "            \"mirror\": false\n",
       "        }\n",
       "    },\n",
       "    \"width\": 600\n",
       "}\n",
       ");\n",
       "    });\n",
       "    </script>\n"
      ]
     },
     "execution_count": 40,
     "metadata": {},
     "output_type": "execute_result"
    }
   ],
   "source": [
    "p = 0.7(cl.e1 + cl.e2 + cl.e3)\n",
    "prj = (p ⨼ inv(B)) ⨼ B\n",
    "\n",
    "p_to_prj = prj - p\n",
    "\n",
    "surface(x,y,z, cmap=:blue, alpha=0.5, legend=false,aspect_ratio=1)\n",
    "quiver!([0],[0],[0],quiver=([p.e1],[p.e2],[p.e3]))\n",
    "quiver!([0],[0],[0],quiver=([prj.e1],[prj.e2],[prj.e3]))\n",
    "quiver!([p.e1],[p.e2],[p.e3],quiver=([p_to_prj.e1],[p_to_prj.e2],[p_to_prj.e3]))"
   ]
  },
  {
   "cell_type": "markdown",
   "id": "836f0075-0205-43a8-9c1b-cc9c85fc5f8d",
   "metadata": {},
   "source": [
    "Nice, so our projection worked as planned.\n",
    "Next, let's do the reflection. We are going to use the second formula, which is valid for any blade.\n",
    "Also, note that we are going to reflect over the subspace, which means that the sandwiching vector\n",
    "is going to be the vector normal to the subspace, i.e. $\\mathbf n$."
   ]
  },
  {
   "cell_type": "code",
   "execution_count": 42,
   "id": "66b33aac-7ed2-49ee-ad7e-84b4e5daeef8",
   "metadata": {},
   "outputs": [
    {
     "data": {
      "application/vnd.plotly.v1+json": {
       "data": [
        {
         "cmax": 0.6666666666666666,
         "cmin": 0,
         "colorbar": {
          "len": 0.9525371828521435,
          "title": {
           "text": ""
          },
          "x": 0.9934383202099738,
          "y": 0.513888888888889
         },
         "colorscale": [
          [
           0,
           "rgba(0, 0, 255, 0.500)"
          ],
          [
           1,
           "rgba(0, 0, 255, 0.500)"
          ]
         ],
         "name": "y1",
         "opacity": 0.5,
         "scene": "scene",
         "showlegend": false,
         "showscale": false,
         "type": "surface",
         "x": [
          0,
          1
         ],
         "xaxis": "x",
         "y": [
          0,
          1
         ],
         "yaxis": "y",
         "z": [
          [
           0,
           0.3333333333333333
          ],
          [
           0.3333333333333333,
           0.6666666666666666
          ]
         ],
         "zaxis": "z",
         "zmax": 0.6666666666666666,
         "zmin": 0
        },
        {
         "colorbar": {
          "len": 0.9525371828521435,
          "title": {
           "text": ""
          },
          "x": 0.9934383202099738,
          "y": 0.513888888888889
         },
         "legendgroup": "",
         "line": {
          "color": "rgba(227, 111, 71, 1.000)",
          "dash": "solid",
          "shape": "linear",
          "width": 1
         },
         "mode": "lines",
         "name": "",
         "scene": "scene",
         "showlegend": false,
         "type": "scatter3d",
         "x": [
          0,
          0.7
         ],
         "xaxis": "x",
         "y": [
          0,
          0.7
         ],
         "yaxis": "y",
         "z": [
          0,
          0.7
         ],
         "zaxis": "z",
         "zmax": 0.6666666666666666,
         "zmin": 0
        },
        {
         "colorbar": {
          "len": 0.9525371828521435,
          "title": {
           "text": ""
          },
          "x": 0.9934383202099738,
          "y": 0.513888888888889
         },
         "legendgroup": "",
         "line": {
          "color": "rgba(62, 164, 78, 1.000)",
          "dash": "solid",
          "shape": "linear",
          "width": 1
         },
         "mode": "lines",
         "name": "",
         "scene": "scene",
         "showlegend": false,
         "type": "scatter3d",
         "x": [
          0,
          0.8272727272727272
         ],
         "xaxis": "x",
         "y": [
          0,
          0.8272727272727272
         ],
         "yaxis": "y",
         "z": [
          0,
          0.3181818181818181
         ],
         "zaxis": "z",
         "zmax": 0.6666666666666666,
         "zmin": 0
        }
       ],
       "layout": {
        "annotations": [],
        "height": 400,
        "margin": {
         "b": 20,
         "l": 0,
         "r": 0,
         "t": 20
        },
        "paper_bgcolor": "rgba(255, 255, 255, 1.000)",
        "plot_bgcolor": "rgba(255, 255, 255, 1.000)",
        "scene": {
         "aspectmode": "auto",
         "aspectratio": {
          "x": 1.1262478804436062,
          "y": 1.1262478804436062,
          "z": 0.7883735163105243
         },
         "camera": {
          "center": {
           "x": 0,
           "y": 0,
           "z": 0
          },
          "eye": {
           "x": 1.418471843866197,
           "y": -2.4568653026821616,
           "z": 1.6379102017881082
          },
          "projection": {
           "type": "perspective"
          },
          "up": {
           "x": 0,
           "y": 0,
           "z": 1
          }
         },
         "domain": {
          "x": [
           0.0658209390492855,
           0.9934383202099738
          ],
          "y": [
           0.03762029746281716,
           0.9901574803149606
          ]
         },
         "xaxis": {
          "gridcolor": "rgba(0, 0, 0, 0.1)",
          "gridwidth": 0.5,
          "linecolor": "rgba(0, 0, 0, 1)",
          "mirror": false,
          "range": [
           -0.27420160734787613,
           1.2742016073478761
          ],
          "showgrid": true,
          "showline": true,
          "showticklabels": true,
          "tickangle": 0,
          "tickcolor": "rgb(0, 0, 0)",
          "tickfont": {
           "color": "rgba(0, 0, 0, 1)",
           "family": "sans-serif",
           "size": 11
          },
          "tickmode": "array",
          "ticks": "inside",
          "ticktext": [
           "0.0",
           "0.3",
           "0.6",
           "0.9",
           "1.2"
          ],
          "tickvals": [
           0,
           0.30000000000000004,
           0.6000000000000001,
           0.9000000000000001,
           1.2000000000000002
          ],
          "title": {
           "font": {
            "color": "rgba(0, 0, 0, 1)",
            "family": "sans-serif",
            "size": 15
           },
           "text": ""
          },
          "type": "linear",
          "visible": true,
          "zeroline": false,
          "zerolinecolor": "rgba(0, 0, 0, 1)"
         },
         "yaxis": {
          "gridcolor": "rgba(0, 0, 0, 0.1)",
          "gridwidth": 0.5,
          "linecolor": "rgba(0, 0, 0, 1)",
          "mirror": false,
          "range": [
           -0.030000000000000027,
           1.03
          ],
          "showgrid": true,
          "showline": true,
          "showticklabels": true,
          "tickangle": 0,
          "tickcolor": "rgb(0, 0, 0)",
          "tickfont": {
           "color": "rgba(0, 0, 0, 1)",
           "family": "sans-serif",
           "size": 11
          },
          "tickmode": "array",
          "ticks": "inside",
          "ticktext": [
           "0.00",
           "0.25",
           "0.50",
           "0.75",
           "1.00"
          ],
          "tickvals": [
           0,
           0.25,
           0.5,
           0.75,
           1
          ],
          "title": {
           "font": {
            "color": "rgba(0, 0, 0, 1)",
            "family": "sans-serif",
            "size": 15
           },
           "text": ""
          },
          "type": "linear",
          "visible": true,
          "zeroline": false,
          "zerolinecolor": "rgba(0, 0, 0, 1)"
         },
         "zaxis": {
          "gridcolor": "rgba(0, 0, 0, 0.1)",
          "gridwidth": 0.5,
          "linecolor": "rgba(0, 0, 0, 1)",
          "mirror": false,
          "range": [
           -0.02100000000000002,
           0.721
          ],
          "showgrid": true,
          "showline": true,
          "showticklabels": true,
          "tickangle": 0,
          "tickcolor": "rgb(0, 0, 0)",
          "tickfont": {
           "color": "rgba(0, 0, 0, 1)",
           "family": "sans-serif",
           "size": 11
          },
          "tickmode": "array",
          "ticks": "inside",
          "ticktext": [
           "0.0",
           "0.2",
           "0.4",
           "0.6"
          ],
          "tickvals": [
           0,
           0.2,
           0.4,
           0.6000000000000001
          ],
          "title": {
           "font": {
            "color": "rgba(0, 0, 0, 1)",
            "family": "sans-serif",
            "size": 15
           },
           "text": ""
          },
          "type": "linear",
          "visible": true,
          "zeroline": false,
          "zerolinecolor": "rgba(0, 0, 0, 1)"
         }
        },
        "showlegend": false,
        "width": 600
       }
      },
      "text/html": [
       "    <div id=\"7f950167-2ebb-46b9-aefd-4cb20399d58b\" style=\"width:600px;height:400px;\"></div>\n",
       "    <script>\n",
       "        requirejs.config({\n",
       "        paths: {\n",
       "            Plotly: 'https://cdn.plot.ly/plotly-2.6.3.min'\n",
       "        }\n",
       "    });\n",
       "    require(['Plotly'], function (Plotly) {\n",
       "\n",
       "    Plotly.newPlot('7f950167-2ebb-46b9-aefd-4cb20399d58b', [\n",
       "    {\n",
       "        \"xaxis\": \"x\",\n",
       "        \"colorbar\": {\n",
       "            \"y\": 0.513888888888889,\n",
       "            \"title\": \"\",\n",
       "            \"len\": 0.9525371828521435,\n",
       "            \"x\": 0.9934383202099738\n",
       "        },\n",
       "        \"colorscale\": [\n",
       "            [\n",
       "                0.0,\n",
       "                \"rgba(0, 0, 255, 0.500)\"\n",
       "            ],\n",
       "            [\n",
       "                1.0,\n",
       "                \"rgba(0, 0, 255, 0.500)\"\n",
       "            ]\n",
       "        ],\n",
       "        \"yaxis\": \"y\",\n",
       "        \"zaxis\": \"z\",\n",
       "        \"showscale\": false,\n",
       "        \"x\": [\n",
       "            0.0,\n",
       "            1.0\n",
       "        ],\n",
       "        \"showlegend\": false,\n",
       "        \"name\": \"y1\",\n",
       "        \"opacity\": 0.5,\n",
       "        \"zmin\": 0.0,\n",
       "        \"z\": [\n",
       "            [\n",
       "                0.0,\n",
       "                0.3333333333333333\n",
       "            ],\n",
       "            [\n",
       "                0.3333333333333333,\n",
       "                0.6666666666666666\n",
       "            ]\n",
       "        ],\n",
       "        \"zmax\": 0.6666666666666666,\n",
       "        \"y\": [\n",
       "            0.0,\n",
       "            1.0\n",
       "        ],\n",
       "        \"type\": \"surface\",\n",
       "        \"scene\": \"scene\"\n",
       "    },\n",
       "    {\n",
       "        \"xaxis\": \"x\",\n",
       "        \"colorbar\": {\n",
       "            \"y\": 0.513888888888889,\n",
       "            \"title\": \"\",\n",
       "            \"len\": 0.9525371828521435,\n",
       "            \"x\": 0.9934383202099738\n",
       "        },\n",
       "        \"yaxis\": \"y\",\n",
       "        \"zaxis\": \"z\",\n",
       "        \"x\": [\n",
       "            0.0,\n",
       "            0.7\n",
       "        ],\n",
       "        \"showlegend\": false,\n",
       "        \"mode\": \"lines\",\n",
       "        \"name\": \"\",\n",
       "        \"zmin\": 0.0,\n",
       "        \"legendgroup\": \"\",\n",
       "        \"z\": [\n",
       "            0.0,\n",
       "            0.7\n",
       "        ],\n",
       "        \"zmax\": 0.6666666666666666,\n",
       "        \"line\": {\n",
       "            \"color\": \"rgba(227, 111, 71, 1.000)\",\n",
       "            \"shape\": \"linear\",\n",
       "            \"dash\": \"solid\",\n",
       "            \"width\": 1\n",
       "        },\n",
       "        \"y\": [\n",
       "            0.0,\n",
       "            0.7\n",
       "        ],\n",
       "        \"type\": \"scatter3d\",\n",
       "        \"scene\": \"scene\"\n",
       "    },\n",
       "    {\n",
       "        \"xaxis\": \"x\",\n",
       "        \"colorbar\": {\n",
       "            \"y\": 0.513888888888889,\n",
       "            \"title\": \"\",\n",
       "            \"len\": 0.9525371828521435,\n",
       "            \"x\": 0.9934383202099738\n",
       "        },\n",
       "        \"yaxis\": \"y\",\n",
       "        \"zaxis\": \"z\",\n",
       "        \"x\": [\n",
       "            0.0,\n",
       "            0.8272727272727272\n",
       "        ],\n",
       "        \"showlegend\": false,\n",
       "        \"mode\": \"lines\",\n",
       "        \"name\": \"\",\n",
       "        \"zmin\": 0.0,\n",
       "        \"legendgroup\": \"\",\n",
       "        \"z\": [\n",
       "            0.0,\n",
       "            0.3181818181818181\n",
       "        ],\n",
       "        \"zmax\": 0.6666666666666666,\n",
       "        \"line\": {\n",
       "            \"color\": \"rgba(62, 164, 78, 1.000)\",\n",
       "            \"shape\": \"linear\",\n",
       "            \"dash\": \"solid\",\n",
       "            \"width\": 1\n",
       "        },\n",
       "        \"y\": [\n",
       "            0.0,\n",
       "            0.8272727272727272\n",
       "        ],\n",
       "        \"type\": \"scatter3d\",\n",
       "        \"scene\": \"scene\"\n",
       "    }\n",
       "]\n",
       ", {\n",
       "    \"showlegend\": false,\n",
       "    \"paper_bgcolor\": \"rgba(255, 255, 255, 1.000)\",\n",
       "    \"annotations\": [],\n",
       "    \"height\": 400,\n",
       "    \"margin\": {\n",
       "        \"l\": 0,\n",
       "        \"b\": 20,\n",
       "        \"r\": 0,\n",
       "        \"t\": 20\n",
       "    },\n",
       "    \"plot_bgcolor\": \"rgba(255, 255, 255, 1.000)\",\n",
       "    \"scene\": {\n",
       "        \"camera\": {\n",
       "            \"eye\": {\n",
       "                \"y\": -1.9499999999999997,\n",
       "                \"z\": 1.3,\n",
       "                \"x\": 1.12583302491977\n",
       "            },\n",
       "            \"projection\": \"orthographic\"\n",
       "        },\n",
       "        \"xaxis\": {\n",
       "            \"tickangle\": 0,\n",
       "            \"showline\": true,\n",
       "            \"gridcolor\": \"rgba(0, 0, 0, 0.100)\",\n",
       "            \"showticklabels\": true,\n",
       "            \"gridwidth\": 0.5,\n",
       "            \"titlefont\": {\n",
       "                \"color\": \"rgba(0, 0, 0, 1.000)\",\n",
       "                \"family\": \"sans-serif\",\n",
       "                \"size\": 15\n",
       "            },\n",
       "            \"visible\": true,\n",
       "            \"ticks\": \"inside\",\n",
       "            \"range\": [\n",
       "                -0.27420160734787613,\n",
       "                1.2742016073478761\n",
       "            ],\n",
       "            \"tickmode\": \"array\",\n",
       "            \"tickvals\": [\n",
       "                0.0,\n",
       "                0.30000000000000004,\n",
       "                0.6000000000000001,\n",
       "                0.9000000000000001,\n",
       "                1.2000000000000002\n",
       "            ],\n",
       "            \"tickcolor\": \"rgb(0, 0, 0)\",\n",
       "            \"ticktext\": [\n",
       "                \"0.0\",\n",
       "                \"0.3\",\n",
       "                \"0.6\",\n",
       "                \"0.9\",\n",
       "                \"1.2\"\n",
       "            ],\n",
       "            \"linecolor\": \"rgba(0, 0, 0, 1.000)\",\n",
       "            \"showgrid\": true,\n",
       "            \"zeroline\": false,\n",
       "            \"type\": \"-\",\n",
       "            \"tickfont\": {\n",
       "                \"color\": \"rgba(0, 0, 0, 1.000)\",\n",
       "                \"family\": \"sans-serif\",\n",
       "                \"size\": 11\n",
       "            },\n",
       "            \"title\": \"\",\n",
       "            \"zerolinecolor\": \"rgba(0, 0, 0, 1.000)\",\n",
       "            \"mirror\": false\n",
       "        },\n",
       "        \"domain\": {\n",
       "            \"y\": [\n",
       "                0.03762029746281716,\n",
       "                0.9901574803149606\n",
       "            ],\n",
       "            \"x\": [\n",
       "                0.0658209390492855,\n",
       "                0.9934383202099738\n",
       "            ]\n",
       "        },\n",
       "        \"yaxis\": {\n",
       "            \"tickangle\": 0,\n",
       "            \"showline\": true,\n",
       "            \"gridcolor\": \"rgba(0, 0, 0, 0.100)\",\n",
       "            \"showticklabels\": true,\n",
       "            \"gridwidth\": 0.5,\n",
       "            \"titlefont\": {\n",
       "                \"color\": \"rgba(0, 0, 0, 1.000)\",\n",
       "                \"family\": \"sans-serif\",\n",
       "                \"size\": 15\n",
       "            },\n",
       "            \"visible\": true,\n",
       "            \"ticks\": \"inside\",\n",
       "            \"range\": [\n",
       "                -0.030000000000000027,\n",
       "                1.03\n",
       "            ],\n",
       "            \"tickmode\": \"array\",\n",
       "            \"tickvals\": [\n",
       "                0.0,\n",
       "                0.25,\n",
       "                0.5,\n",
       "                0.75,\n",
       "                1.0\n",
       "            ],\n",
       "            \"tickcolor\": \"rgb(0, 0, 0)\",\n",
       "            \"ticktext\": [\n",
       "                \"0.00\",\n",
       "                \"0.25\",\n",
       "                \"0.50\",\n",
       "                \"0.75\",\n",
       "                \"1.00\"\n",
       "            ],\n",
       "            \"linecolor\": \"rgba(0, 0, 0, 1.000)\",\n",
       "            \"showgrid\": true,\n",
       "            \"zeroline\": false,\n",
       "            \"type\": \"-\",\n",
       "            \"tickfont\": {\n",
       "                \"color\": \"rgba(0, 0, 0, 1.000)\",\n",
       "                \"family\": \"sans-serif\",\n",
       "                \"size\": 11\n",
       "            },\n",
       "            \"title\": \"\",\n",
       "            \"zerolinecolor\": \"rgba(0, 0, 0, 1.000)\",\n",
       "            \"mirror\": false\n",
       "        },\n",
       "        \"zaxis\": {\n",
       "            \"tickangle\": 0,\n",
       "            \"showline\": true,\n",
       "            \"gridcolor\": \"rgba(0, 0, 0, 0.100)\",\n",
       "            \"showticklabels\": true,\n",
       "            \"gridwidth\": 0.5,\n",
       "            \"titlefont\": {\n",
       "                \"color\": \"rgba(0, 0, 0, 1.000)\",\n",
       "                \"family\": \"sans-serif\",\n",
       "                \"size\": 15\n",
       "            },\n",
       "            \"visible\": true,\n",
       "            \"ticks\": \"inside\",\n",
       "            \"range\": [\n",
       "                -0.02100000000000002,\n",
       "                0.721\n",
       "            ],\n",
       "            \"tickmode\": \"array\",\n",
       "            \"tickvals\": [\n",
       "                0.0,\n",
       "                0.2,\n",
       "                0.4,\n",
       "                0.6000000000000001\n",
       "            ],\n",
       "            \"tickcolor\": \"rgb(0, 0, 0)\",\n",
       "            \"ticktext\": [\n",
       "                \"0.0\",\n",
       "                \"0.2\",\n",
       "                \"0.4\",\n",
       "                \"0.6\"\n",
       "            ],\n",
       "            \"linecolor\": \"rgba(0, 0, 0, 1.000)\",\n",
       "            \"showgrid\": true,\n",
       "            \"zeroline\": false,\n",
       "            \"type\": \"-\",\n",
       "            \"tickfont\": {\n",
       "                \"color\": \"rgba(0, 0, 0, 1.000)\",\n",
       "                \"family\": \"sans-serif\",\n",
       "                \"size\": 11\n",
       "            },\n",
       "            \"title\": \"\",\n",
       "            \"zerolinecolor\": \"rgba(0, 0, 0, 1.000)\",\n",
       "            \"mirror\": false\n",
       "        }\n",
       "    },\n",
       "    \"width\": 600\n",
       "}\n",
       ");\n",
       "    });\n",
       "    </script>\n"
      ]
     },
     "execution_count": 42,
     "metadata": {},
     "output_type": "execute_result"
    }
   ],
   "source": [
    "rp = inv(n) * grin(p) * n #Remember, `grin` is the involution operation \n",
    "\n",
    "surface(x,y,z, cmap=:blue, alpha=0.5, legend=false,aspect_ratio=1)\n",
    "quiver!([0],[0],[0],quiver=([p.e1],[p.e2],[p.e3]))\n",
    "quiver!([0],[0],[0],quiver=([rp.e1],[rp.e2],[rp.e3]))"
   ]
  },
  {
   "cell_type": "markdown",
   "id": "e2df1a8b-6e62-4e97-829b-00562baa2e66",
   "metadata": {},
   "source": [
    "Lastly, let's do the rotation of `p` according to the angle $\\phi/2$ between the vectors `a` and  `b`. "
   ]
  },
  {
   "cell_type": "code",
   "execution_count": 50,
   "id": "e93350d3-1374-4db2-9ed4-750fe78b328d",
   "metadata": {},
   "outputs": [
    {
     "data": {
      "application/vnd.plotly.v1+json": {
       "data": [
        {
         "cmax": 0.6666666666666666,
         "cmin": 0,
         "colorbar": {
          "len": 0.9525371828521435,
          "title": {
           "text": ""
          },
          "x": 0.9934383202099738,
          "y": 0.513888888888889
         },
         "colorscale": [
          [
           0,
           "rgba(0, 0, 255, 0.500)"
          ],
          [
           1,
           "rgba(0, 0, 255, 0.500)"
          ]
         ],
         "name": "y1",
         "opacity": 0.5,
         "scene": "scene",
         "showlegend": false,
         "showscale": false,
         "type": "surface",
         "x": [
          0,
          1
         ],
         "xaxis": "x",
         "y": [
          0,
          1
         ],
         "yaxis": "y",
         "z": [
          [
           0,
           0.3333333333333333
          ],
          [
           0.3333333333333333,
           0.6666666666666666
          ]
         ],
         "zaxis": "z",
         "zmax": 0.6666666666666666,
         "zmin": 0
        },
        {
         "colorbar": {
          "len": 0.9525371828521435,
          "title": {
           "text": ""
          },
          "x": 0.9934383202099738,
          "y": 0.513888888888889
         },
         "legendgroup": "",
         "line": {
          "color": "rgba(227, 111, 71, 1.000)",
          "dash": "solid",
          "shape": "linear",
          "width": 1
         },
         "mode": "lines",
         "name": "",
         "scene": "scene",
         "showlegend": false,
         "type": "scatter3d",
         "x": [
          0,
          1
         ],
         "xaxis": "x",
         "y": [
          0,
          0.5
         ],
         "yaxis": "y",
         "z": [
          0,
          0.5
         ],
         "zaxis": "z",
         "zmax": 0.6666666666666666,
         "zmin": 0
        },
        {
         "colorbar": {
          "len": 0.9525371828521435,
          "title": {
           "text": ""
          },
          "x": 0.9934383202099738,
          "y": 0.513888888888889
         },
         "legendgroup": "",
         "line": {
          "color": "rgba(62, 164, 78, 1.000)",
          "dash": "solid",
          "shape": "linear",
          "width": 1
         },
         "mode": "lines",
         "name": "",
         "scene": "scene",
         "showlegend": false,
         "type": "scatter3d",
         "x": [
          0,
          0.5
         ],
         "xaxis": "x",
         "y": [
          0,
          1
         ],
         "yaxis": "y",
         "z": [
          0,
          0.5
         ],
         "zaxis": "z",
         "zmax": 0.6666666666666666,
         "zmin": 0
        },
        {
         "colorbar": {
          "len": 0.9525371828521435,
          "title": {
           "text": ""
          },
          "x": 0.9934383202099738,
          "y": 0.513888888888889
         },
         "legendgroup": "",
         "line": {
          "color": "rgba(195, 113, 210, 1.000)",
          "dash": "solid",
          "shape": "linear",
          "width": 1
         },
         "mode": "lines",
         "name": "",
         "scene": "scene",
         "showlegend": false,
         "type": "scatter3d",
         "x": [
          0,
          0.7
         ],
         "xaxis": "x",
         "y": [
          0,
          0.7
         ],
         "yaxis": "y",
         "z": [
          0,
          0.7
         ],
         "zaxis": "z",
         "zmax": 0.6666666666666666,
         "zmin": 0
        },
        {
         "colorbar": {
          "len": 0.9525371828521435,
          "title": {
           "text": ""
          },
          "x": 0.9934383202099738,
          "y": 0.513888888888889
         },
         "legendgroup": "",
         "line": {
          "color": "rgba(172, 142, 24, 1.000)",
          "dash": "solid",
          "shape": "linear",
          "width": 1
         },
         "mode": "lines",
         "name": "",
         "scene": "scene",
         "showlegend": false,
         "type": "scatter3d",
         "x": [
          0,
          -0.5444444444444446
         ],
         "xaxis": "x",
         "y": [
          0,
          1.0111111111111108
         ],
         "yaxis": "y",
         "z": [
          0,
          0.3888888888888893
         ],
         "zaxis": "z",
         "zmax": 0.6666666666666666,
         "zmin": 0
        }
       ],
       "layout": {
        "annotations": [],
        "height": 400,
        "margin": {
         "b": 20,
         "l": 0,
         "r": 0,
         "t": 20
        },
        "paper_bgcolor": "rgba(255, 255, 255, 1.000)",
        "plot_bgcolor": "rgba(255, 255, 255, 1.000)",
        "scene": {
         "aspectmode": "auto",
         "aspectratio": {
          "x": 1.4992793276925835,
          "y": 0.9815425814390291,
          "z": 0.6795294794577895
         },
         "camera": {
          "center": {
           "x": 0,
           "y": 0,
           "z": 0
          },
          "eye": {
           "x": 4.8041945947682796e-17,
           "y": 1.5178244877635003e-16,
           "z": 2.5999999999999996
          },
          "projection": {
           "type": "perspective"
          },
          "up": {
           "x": 0,
           "y": 0,
           "z": 1
          }
         },
         "domain": {
          "x": [
           0.0658209390492855,
           0.9934383202099738
          ],
          "y": [
           0.03762029746281716,
           0.9901574803149606
          ]
         },
         "xaxis": {
          "gridcolor": "rgba(0, 0, 0, 0.1)",
          "gridwidth": 0.5,
          "linecolor": "rgba(0, 0, 0, 1)",
          "mirror": false,
          "range": [
           -0.5907777777777781,
           1.0463333333333333
          ],
          "showgrid": true,
          "showline": true,
          "showticklabels": true,
          "tickangle": 0,
          "tickcolor": "rgb(0, 0, 0)",
          "tickfont": {
           "color": "rgba(0, 0, 0, 1)",
           "family": "sans-serif",
           "size": 11
          },
          "tickmode": "array",
          "ticks": "inside",
          "ticktext": [
           "−0.3",
           "0.0",
           "0.3",
           "0.6",
           "0.9"
          ],
          "tickvals": [
           -0.30000000000000004,
           0,
           0.30000000000000004,
           0.6000000000000001,
           0.9000000000000001
          ],
          "title": {
           "font": {
            "color": "rgba(0, 0, 0, 1)",
            "family": "sans-serif",
            "size": 15
           },
           "text": ""
          },
          "type": "linear",
          "visible": true,
          "zeroline": false,
          "zerolinecolor": "rgba(0, 0, 0, 1)"
         },
         "yaxis": {
          "gridcolor": "rgba(0, 0, 0, 0.1)",
          "gridwidth": 0.5,
          "linecolor": "rgba(0, 0, 0, 1)",
          "mirror": false,
          "range": [
           -0.05480810208473075,
           1.0659192131958415
          ],
          "showgrid": true,
          "showline": true,
          "showticklabels": true,
          "tickangle": 0,
          "tickcolor": "rgb(0, 0, 0)",
          "tickfont": {
           "color": "rgba(0, 0, 0, 1)",
           "family": "sans-serif",
           "size": 11
          },
          "tickmode": "array",
          "ticks": "inside",
          "ticktext": [
           "0.00",
           "0.25",
           "0.50",
           "0.75",
           "1.00"
          ],
          "tickvals": [
           0,
           0.25,
           0.5,
           0.75,
           1
          ],
          "title": {
           "font": {
            "color": "rgba(0, 0, 0, 1)",
            "family": "sans-serif",
            "size": 15
           },
           "text": ""
          },
          "type": "linear",
          "visible": true,
          "zeroline": false,
          "zerolinecolor": "rgba(0, 0, 0, 1)"
         },
         "zaxis": {
          "gridcolor": "rgba(0, 0, 0, 0.1)",
          "gridwidth": 0.5,
          "linecolor": "rgba(0, 0, 0, 1)",
          "mirror": false,
          "range": [
           -0.02100000000000002,
           0.721
          ],
          "showgrid": true,
          "showline": true,
          "showticklabels": true,
          "tickangle": 0,
          "tickcolor": "rgb(0, 0, 0)",
          "tickfont": {
           "color": "rgba(0, 0, 0, 1)",
           "family": "sans-serif",
           "size": 11
          },
          "tickmode": "array",
          "ticks": "inside",
          "ticktext": [
           "0.0",
           "0.2",
           "0.4",
           "0.6"
          ],
          "tickvals": [
           0,
           0.2,
           0.4,
           0.6000000000000001
          ],
          "title": {
           "font": {
            "color": "rgba(0, 0, 0, 1)",
            "family": "sans-serif",
            "size": 15
           },
           "text": ""
          },
          "type": "linear",
          "visible": true,
          "zeroline": false,
          "zerolinecolor": "rgba(0, 0, 0, 1)"
         }
        },
        "showlegend": false,
        "width": 600
       }
      },
      "text/html": [
       "    <div id=\"629a2ee6-61df-4a75-bd4c-d14c0c66537a\" style=\"width:600px;height:400px;\"></div>\n",
       "    <script>\n",
       "        requirejs.config({\n",
       "        paths: {\n",
       "            Plotly: 'https://cdn.plot.ly/plotly-2.6.3.min'\n",
       "        }\n",
       "    });\n",
       "    require(['Plotly'], function (Plotly) {\n",
       "\n",
       "    Plotly.newPlot('629a2ee6-61df-4a75-bd4c-d14c0c66537a', [\n",
       "    {\n",
       "        \"xaxis\": \"x\",\n",
       "        \"colorbar\": {\n",
       "            \"y\": 0.513888888888889,\n",
       "            \"title\": \"\",\n",
       "            \"len\": 0.9525371828521435,\n",
       "            \"x\": 0.9934383202099738\n",
       "        },\n",
       "        \"colorscale\": [\n",
       "            [\n",
       "                0.0,\n",
       "                \"rgba(0, 0, 255, 0.500)\"\n",
       "            ],\n",
       "            [\n",
       "                1.0,\n",
       "                \"rgba(0, 0, 255, 0.500)\"\n",
       "            ]\n",
       "        ],\n",
       "        \"yaxis\": \"y\",\n",
       "        \"zaxis\": \"z\",\n",
       "        \"showscale\": false,\n",
       "        \"x\": [\n",
       "            0.0,\n",
       "            1.0\n",
       "        ],\n",
       "        \"showlegend\": false,\n",
       "        \"name\": \"y1\",\n",
       "        \"opacity\": 0.5,\n",
       "        \"zmin\": 0.0,\n",
       "        \"z\": [\n",
       "            [\n",
       "                0.0,\n",
       "                0.3333333333333333\n",
       "            ],\n",
       "            [\n",
       "                0.3333333333333333,\n",
       "                0.6666666666666666\n",
       "            ]\n",
       "        ],\n",
       "        \"zmax\": 0.6666666666666666,\n",
       "        \"y\": [\n",
       "            0.0,\n",
       "            1.0\n",
       "        ],\n",
       "        \"type\": \"surface\",\n",
       "        \"scene\": \"scene\"\n",
       "    },\n",
       "    {\n",
       "        \"xaxis\": \"x\",\n",
       "        \"colorbar\": {\n",
       "            \"y\": 0.513888888888889,\n",
       "            \"title\": \"\",\n",
       "            \"len\": 0.9525371828521435,\n",
       "            \"x\": 0.9934383202099738\n",
       "        },\n",
       "        \"yaxis\": \"y\",\n",
       "        \"zaxis\": \"z\",\n",
       "        \"x\": [\n",
       "            0.0,\n",
       "            1.0\n",
       "        ],\n",
       "        \"showlegend\": false,\n",
       "        \"mode\": \"lines\",\n",
       "        \"name\": \"\",\n",
       "        \"zmin\": 0.0,\n",
       "        \"legendgroup\": \"\",\n",
       "        \"z\": [\n",
       "            0.0,\n",
       "            0.5\n",
       "        ],\n",
       "        \"zmax\": 0.6666666666666666,\n",
       "        \"line\": {\n",
       "            \"color\": \"rgba(227, 111, 71, 1.000)\",\n",
       "            \"shape\": \"linear\",\n",
       "            \"dash\": \"solid\",\n",
       "            \"width\": 1\n",
       "        },\n",
       "        \"y\": [\n",
       "            0.0,\n",
       "            0.5\n",
       "        ],\n",
       "        \"type\": \"scatter3d\",\n",
       "        \"scene\": \"scene\"\n",
       "    },\n",
       "    {\n",
       "        \"xaxis\": \"x\",\n",
       "        \"colorbar\": {\n",
       "            \"y\": 0.513888888888889,\n",
       "            \"title\": \"\",\n",
       "            \"len\": 0.9525371828521435,\n",
       "            \"x\": 0.9934383202099738\n",
       "        },\n",
       "        \"yaxis\": \"y\",\n",
       "        \"zaxis\": \"z\",\n",
       "        \"x\": [\n",
       "            0.0,\n",
       "            0.5\n",
       "        ],\n",
       "        \"showlegend\": false,\n",
       "        \"mode\": \"lines\",\n",
       "        \"name\": \"\",\n",
       "        \"zmin\": 0.0,\n",
       "        \"legendgroup\": \"\",\n",
       "        \"z\": [\n",
       "            0.0,\n",
       "            0.5\n",
       "        ],\n",
       "        \"zmax\": 0.6666666666666666,\n",
       "        \"line\": {\n",
       "            \"color\": \"rgba(62, 164, 78, 1.000)\",\n",
       "            \"shape\": \"linear\",\n",
       "            \"dash\": \"solid\",\n",
       "            \"width\": 1\n",
       "        },\n",
       "        \"y\": [\n",
       "            0.0,\n",
       "            1.0\n",
       "        ],\n",
       "        \"type\": \"scatter3d\",\n",
       "        \"scene\": \"scene\"\n",
       "    },\n",
       "    {\n",
       "        \"xaxis\": \"x\",\n",
       "        \"colorbar\": {\n",
       "            \"y\": 0.513888888888889,\n",
       "            \"title\": \"\",\n",
       "            \"len\": 0.9525371828521435,\n",
       "            \"x\": 0.9934383202099738\n",
       "        },\n",
       "        \"yaxis\": \"y\",\n",
       "        \"zaxis\": \"z\",\n",
       "        \"x\": [\n",
       "            0.0,\n",
       "            0.7\n",
       "        ],\n",
       "        \"showlegend\": false,\n",
       "        \"mode\": \"lines\",\n",
       "        \"name\": \"\",\n",
       "        \"zmin\": 0.0,\n",
       "        \"legendgroup\": \"\",\n",
       "        \"z\": [\n",
       "            0.0,\n",
       "            0.7\n",
       "        ],\n",
       "        \"zmax\": 0.6666666666666666,\n",
       "        \"line\": {\n",
       "            \"color\": \"rgba(195, 113, 210, 1.000)\",\n",
       "            \"shape\": \"linear\",\n",
       "            \"dash\": \"solid\",\n",
       "            \"width\": 1\n",
       "        },\n",
       "        \"y\": [\n",
       "            0.0,\n",
       "            0.7\n",
       "        ],\n",
       "        \"type\": \"scatter3d\",\n",
       "        \"scene\": \"scene\"\n",
       "    },\n",
       "    {\n",
       "        \"xaxis\": \"x\",\n",
       "        \"colorbar\": {\n",
       "            \"y\": 0.513888888888889,\n",
       "            \"title\": \"\",\n",
       "            \"len\": 0.9525371828521435,\n",
       "            \"x\": 0.9934383202099738\n",
       "        },\n",
       "        \"yaxis\": \"y\",\n",
       "        \"zaxis\": \"z\",\n",
       "        \"x\": [\n",
       "            0.0,\n",
       "            -0.5444444444444446\n",
       "        ],\n",
       "        \"showlegend\": false,\n",
       "        \"mode\": \"lines\",\n",
       "        \"name\": \"\",\n",
       "        \"zmin\": 0.0,\n",
       "        \"legendgroup\": \"\",\n",
       "        \"z\": [\n",
       "            0.0,\n",
       "            0.3888888888888893\n",
       "        ],\n",
       "        \"zmax\": 0.6666666666666666,\n",
       "        \"line\": {\n",
       "            \"color\": \"rgba(172, 142, 24, 1.000)\",\n",
       "            \"shape\": \"linear\",\n",
       "            \"dash\": \"solid\",\n",
       "            \"width\": 1\n",
       "        },\n",
       "        \"y\": [\n",
       "            0.0,\n",
       "            1.0111111111111108\n",
       "        ],\n",
       "        \"type\": \"scatter3d\",\n",
       "        \"scene\": \"scene\"\n",
       "    }\n",
       "]\n",
       ", {\n",
       "    \"showlegend\": false,\n",
       "    \"paper_bgcolor\": \"rgba(255, 255, 255, 1.000)\",\n",
       "    \"annotations\": [],\n",
       "    \"height\": 400,\n",
       "    \"margin\": {\n",
       "        \"l\": 0,\n",
       "        \"b\": 20,\n",
       "        \"r\": 0,\n",
       "        \"t\": 20\n",
       "    },\n",
       "    \"plot_bgcolor\": \"rgba(255, 255, 255, 1.000)\",\n",
       "    \"scene\": {\n",
       "        \"camera\": {\n",
       "            \"eye\": {\n",
       "                \"y\": -1.9499999999999997,\n",
       "                \"z\": 1.3,\n",
       "                \"x\": 1.12583302491977\n",
       "            },\n",
       "            \"projection\": \"orthographic\"\n",
       "        },\n",
       "        \"xaxis\": {\n",
       "            \"tickangle\": 0,\n",
       "            \"showline\": true,\n",
       "            \"gridcolor\": \"rgba(0, 0, 0, 0.100)\",\n",
       "            \"showticklabels\": true,\n",
       "            \"gridwidth\": 0.5,\n",
       "            \"titlefont\": {\n",
       "                \"color\": \"rgba(0, 0, 0, 1.000)\",\n",
       "                \"family\": \"sans-serif\",\n",
       "                \"size\": 15\n",
       "            },\n",
       "            \"visible\": true,\n",
       "            \"ticks\": \"inside\",\n",
       "            \"range\": [\n",
       "                -0.5907777777777781,\n",
       "                1.0463333333333333\n",
       "            ],\n",
       "            \"tickmode\": \"array\",\n",
       "            \"tickvals\": [\n",
       "                -0.30000000000000004,\n",
       "                0.0,\n",
       "                0.30000000000000004,\n",
       "                0.6000000000000001,\n",
       "                0.9000000000000001\n",
       "            ],\n",
       "            \"tickcolor\": \"rgb(0, 0, 0)\",\n",
       "            \"ticktext\": [\n",
       "                \"−0.3\",\n",
       "                \"0.0\",\n",
       "                \"0.3\",\n",
       "                \"0.6\",\n",
       "                \"0.9\"\n",
       "            ],\n",
       "            \"linecolor\": \"rgba(0, 0, 0, 1.000)\",\n",
       "            \"showgrid\": true,\n",
       "            \"zeroline\": false,\n",
       "            \"type\": \"-\",\n",
       "            \"tickfont\": {\n",
       "                \"color\": \"rgba(0, 0, 0, 1.000)\",\n",
       "                \"family\": \"sans-serif\",\n",
       "                \"size\": 11\n",
       "            },\n",
       "            \"title\": \"\",\n",
       "            \"zerolinecolor\": \"rgba(0, 0, 0, 1.000)\",\n",
       "            \"mirror\": false\n",
       "        },\n",
       "        \"domain\": {\n",
       "            \"y\": [\n",
       "                0.03762029746281716,\n",
       "                0.9901574803149606\n",
       "            ],\n",
       "            \"x\": [\n",
       "                0.0658209390492855,\n",
       "                0.9934383202099738\n",
       "            ]\n",
       "        },\n",
       "        \"yaxis\": {\n",
       "            \"tickangle\": 0,\n",
       "            \"showline\": true,\n",
       "            \"gridcolor\": \"rgba(0, 0, 0, 0.100)\",\n",
       "            \"showticklabels\": true,\n",
       "            \"gridwidth\": 0.5,\n",
       "            \"titlefont\": {\n",
       "                \"color\": \"rgba(0, 0, 0, 1.000)\",\n",
       "                \"family\": \"sans-serif\",\n",
       "                \"size\": 15\n",
       "            },\n",
       "            \"visible\": true,\n",
       "            \"ticks\": \"inside\",\n",
       "            \"range\": [\n",
       "                -0.05480810208473075,\n",
       "                1.0659192131958415\n",
       "            ],\n",
       "            \"tickmode\": \"array\",\n",
       "            \"tickvals\": [\n",
       "                0.0,\n",
       "                0.25,\n",
       "                0.5,\n",
       "                0.75,\n",
       "                1.0\n",
       "            ],\n",
       "            \"tickcolor\": \"rgb(0, 0, 0)\",\n",
       "            \"ticktext\": [\n",
       "                \"0.00\",\n",
       "                \"0.25\",\n",
       "                \"0.50\",\n",
       "                \"0.75\",\n",
       "                \"1.00\"\n",
       "            ],\n",
       "            \"linecolor\": \"rgba(0, 0, 0, 1.000)\",\n",
       "            \"showgrid\": true,\n",
       "            \"zeroline\": false,\n",
       "            \"type\": \"-\",\n",
       "            \"tickfont\": {\n",
       "                \"color\": \"rgba(0, 0, 0, 1.000)\",\n",
       "                \"family\": \"sans-serif\",\n",
       "                \"size\": 11\n",
       "            },\n",
       "            \"title\": \"\",\n",
       "            \"zerolinecolor\": \"rgba(0, 0, 0, 1.000)\",\n",
       "            \"mirror\": false\n",
       "        },\n",
       "        \"zaxis\": {\n",
       "            \"tickangle\": 0,\n",
       "            \"showline\": true,\n",
       "            \"gridcolor\": \"rgba(0, 0, 0, 0.100)\",\n",
       "            \"showticklabels\": true,\n",
       "            \"gridwidth\": 0.5,\n",
       "            \"titlefont\": {\n",
       "                \"color\": \"rgba(0, 0, 0, 1.000)\",\n",
       "                \"family\": \"sans-serif\",\n",
       "                \"size\": 15\n",
       "            },\n",
       "            \"visible\": true,\n",
       "            \"ticks\": \"inside\",\n",
       "            \"range\": [\n",
       "                -0.02100000000000002,\n",
       "                0.721\n",
       "            ],\n",
       "            \"tickmode\": \"array\",\n",
       "            \"tickvals\": [\n",
       "                0.0,\n",
       "                0.2,\n",
       "                0.4,\n",
       "                0.6000000000000001\n",
       "            ],\n",
       "            \"tickcolor\": \"rgb(0, 0, 0)\",\n",
       "            \"ticktext\": [\n",
       "                \"0.0\",\n",
       "                \"0.2\",\n",
       "                \"0.4\",\n",
       "                \"0.6\"\n",
       "            ],\n",
       "            \"linecolor\": \"rgba(0, 0, 0, 1.000)\",\n",
       "            \"showgrid\": true,\n",
       "            \"zeroline\": false,\n",
       "            \"type\": \"-\",\n",
       "            \"tickfont\": {\n",
       "                \"color\": \"rgba(0, 0, 0, 1.000)\",\n",
       "                \"family\": \"sans-serif\",\n",
       "                \"size\": 11\n",
       "            },\n",
       "            \"title\": \"\",\n",
       "            \"zerolinecolor\": \"rgba(0, 0, 0, 1.000)\",\n",
       "            \"mirror\": false\n",
       "        }\n",
       "    },\n",
       "    \"width\": 600\n",
       "}\n",
       ");\n",
       "    });\n",
       "    </script>\n"
      ]
     },
     "execution_count": 50,
     "metadata": {},
     "output_type": "execute_result"
    }
   ],
   "source": [
    "rotp = (b/a) * p * inv(b/a)\n",
    "\n",
    "\n",
    "surface(x,y,z, cmap=:blue, alpha=0.5, legend=false,aspect_ratio=1)\n",
    "quiver!([0],[0],[0],quiver=([a.e1],[a.e2],[a.e3]))\n",
    "quiver!([0],[0],[0],quiver=([b.e1],[b.e2],[b.e3]))\n",
    "quiver!([0],[0],[0],quiver=([p.e1],[p.e2],[p.e3]))\n",
    "quiver!([0],[0],[0],quiver=([rotp.e1],[rotp.e2],[rotp.e3]))"
   ]
  },
  {
   "cell_type": "markdown",
   "id": "ea53f592-27dc-4db0-84d7-4c5560ade7cc",
   "metadata": {},
   "source": [
    "The result is not clear as the others, specially because the angle of rotation is the double of the angle\n",
    "between `a` annd `b`. Yet, upon a visual inspection, we can conclude that it's indeed correct."
   ]
  }
 ],
 "metadata": {
  "kernelspec": {
   "display_name": "Julia 1.8.2",
   "language": "julia",
   "name": "julia-1.8"
  },
  "language_info": {
   "file_extension": ".jl",
   "mimetype": "application/julia",
   "name": "julia",
   "version": "1.8.2"
  }
 },
 "nbformat": 4,
 "nbformat_minor": 5
}
