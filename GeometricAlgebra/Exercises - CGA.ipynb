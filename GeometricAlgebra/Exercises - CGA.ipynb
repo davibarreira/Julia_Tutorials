{
 "cells": [
  {
   "cell_type": "markdown",
   "id": "5053c721-8db2-4ebc-876c-df601bc8a550",
   "metadata": {},
   "source": [
    "# Exercises - Conformal Geometry\n",
    "\n",
    "These exercises are from \"Geometric Algebra for Computer Scientists\" by Dorst, section 13.9.1."
   ]
  },
  {
   "cell_type": "markdown",
   "id": "4ed3969b-1e5c-4ec1-a7a3-93a082593e04",
   "metadata": {},
   "source": [
    "5. Compute the support point on the line L.\n",
    "6. Give the direct representation of the plane Π through L and the unit point at the\n",
    "origin.\n",
    "7. Compute the direction and support of the plane Π.\n",
    "8. Give the representation of the translation over −e1 of the plane Π."
   ]
  },
  {
   "cell_type": "code",
   "execution_count": 1,
   "id": "c9974c31-de35-4c7a-bff6-ca669befa9d9",
   "metadata": {},
   "outputs": [
    {
     "name": "stderr",
     "output_type": "stream",
     "text": [
      "\u001b[32m\u001b[1m  Activating\u001b[22m\u001b[39m project at `~/MEGA/EMAP/Julia_Tutorials/GeometricAlgebra`\n",
      "┌ Warning: For saving to png with the `Plotly` backend `PlotlyBase` and `PlotlyKaleido` need to be installed.\n",
      "│   err = ArgumentError(\"Package PlotlyBase not found in current path.\\n- Run `import Pkg; Pkg.add(\\\"PlotlyBase\\\")` to install the PlotlyBase package.\")\n",
      "└ @ Plots /home/davibarreira/.julia/packages/Plots/M4dfL/src/backends.jl:545\n"
     ]
    }
   ],
   "source": [
    "using Pkg\n",
    "Pkg.activate(\".\")\n",
    "using CliffordAlgebras\n",
    "import CliffordAlgebras: basegrade\n",
    "using LinearAlgebra: norm, normalize, dot\n",
    "\n",
    "using Plots\n",
    "include(\"./auxiliary.jl\")\n",
    "plotly();"
   ]
  },
  {
   "cell_type": "markdown",
   "id": "0ae85141-a390-4bba-ad1d-16bf43ca7144",
   "metadata": {},
   "source": [
    "#### 1. Give the representation of a point p1 with weight 2 at location e1 + e2 ."
   ]
  },
  {
   "cell_type": "code",
   "execution_count": 5,
   "id": "6280bb85-4fbf-4899-86e4-9438ea0224ce",
   "metadata": {},
   "outputs": [
    {
     "data": {
      "text/plain": [
       "+2.0×e1+2.0×e2-1.0×e₊+3.0×e₋ ∈ Cl(4, 1, 0)"
      ]
     },
     "execution_count": 5,
     "metadata": {},
     "output_type": "execute_result"
    }
   ],
   "source": [
    "cl = CliffordAlgebra(:CGA3D)\n",
    "no  = (cl.e₊ + cl.e₋)/2\n",
    "n∞  = cl.e₋ - cl.e₊\n",
    "\n",
    "# Formula for points\n",
    "F(x) = no + x + (x ⋅ x) * n∞ /2\n",
    "p₁ = 2F(cl.e1 + cl.e2)"
   ]
  },
  {
   "cell_type": "markdown",
   "id": "a4e76768-86b0-4c10-8220-87e65b4e824f",
   "metadata": {},
   "source": [
    "\n",
    "\n",
    "\n",
    "---- "
   ]
  },
  {
   "cell_type": "markdown",
   "id": "48952844-30e8-4b19-9b34-4d66a48e4d9d",
   "metadata": {},
   "source": [
    "#### 2. Give the representation of a point p2 with weight −1 at location e1 +e3 , and compute its distance to p1 ."
   ]
  },
  {
   "cell_type": "code",
   "execution_count": 53,
   "id": "66978695-21d9-473d-a93d-1e7ae1dd5fed",
   "metadata": {},
   "outputs": [
    {
     "data": {
      "text/plain": [
       "-1.0×e1-1.0×e3+0.5×e₊-1.5×e₋ ∈ Cl(4, 1, 0)"
      ]
     },
     "execution_count": 53,
     "metadata": {},
     "output_type": "execute_result"
    }
   ],
   "source": [
    "p₂ = -1F(cl.e1 + cl.e3)"
   ]
  },
  {
   "cell_type": "code",
   "execution_count": 52,
   "id": "2ac05be0-cb94-45b9-a927-f5e46d829349",
   "metadata": {},
   "outputs": [
    {
     "name": "stdout",
     "output_type": "stream",
     "text": [
      "dist(p₁, p₂) = 1.4142135623730951\n"
     ]
    },
    {
     "data": {
      "text/plain": [
       "true"
      ]
     },
     "execution_count": 52,
     "metadata": {},
     "output_type": "execute_result"
    }
   ],
   "source": [
    "pointweight(p::MultiVector) = scalar(-n∞ ⋅ p)\n",
    "\n",
    "α = pointweight(p₁)\n",
    "β = pointweight(p₂)\n",
    "\n",
    "dist(p::MultiVector, q::MultiVector) = √(-2 * scalar(p ⋅ q) /(pointweight(p)*pointweight(q)))\n",
    "\n",
    "@show dist(p₁,p₂)\n",
    "dist(p₁,p₂) ≈ norm([1,1,0] - [1,0,1])"
   ]
  },
  {
   "cell_type": "markdown",
   "id": "ba1f65a3-3c54-4468-8e58-466305e91024",
   "metadata": {},
   "source": [
    "#### 3. Give the representation of the line L through p1 and p2 ."
   ]
  },
  {
   "cell_type": "code",
   "execution_count": 96,
   "id": "23697814-2417-4725-aa64-5aa070a67ab9",
   "metadata": {},
   "outputs": [
    {
     "data": {
      "text/plain": [
       "+2.0×e1e₊e2+2.0×e1e3e₊-2.0×e2e₊e3+2.0×e1e2e₋+2.0×e1e₋e3-2.0×e2e3e₋+2.0×e2e₋e₊+2.0×e3e₊e₋ ∈ Cl(4, 1, 0)"
      ]
     },
     "execution_count": 96,
     "metadata": {},
     "output_type": "execute_result"
    }
   ],
   "source": [
    "l = p₁ ∧ p₂ ∧ n∞"
   ]
  },
  {
   "cell_type": "markdown",
   "id": "5722266a-51ec-40b1-97cf-8391a0f84d36",
   "metadata": {},
   "source": [
    "#### 4. Compute weight and direction of the line L."
   ]
  },
  {
   "cell_type": "code",
   "execution_count": 110,
   "id": "b2d40dde-53a6-4545-b91e-484e3f4defb9",
   "metadata": {},
   "outputs": [
    {
     "data": {
      "text/plain": [
       "+2.0×e1e₊e2+2.0×e1e3e₊-2.0×e2e₊e3+2.0×e1e2e₋+2.0×e1e₋e3-2.0×e2e3e₋+2.0×e2e₋e₊+2.0×e3e₊e₋ ∈ Cl(4, 1, 0)"
      ]
     },
     "execution_count": 110,
     "metadata": {},
     "output_type": "execute_result"
    }
   ],
   "source": [
    "no ∧ (cl.e1 + cl.e2) ∧ (cl.e1 + cl.e3) ∧ n∞"
   ]
  },
  {
   "cell_type": "code",
   "execution_count": 107,
   "id": "4d24a3eb-752b-4057-8a0c-0e4dd4ed88c0",
   "metadata": {},
   "outputs": [
    {
     "data": {
      "text/plain": [
       "+2.0×e1e₊e2+2.0×e1e3e₊-2.0×e2e₊e3+2.0×e1e2e₋+2.0×e1e₋e3-2.0×e2e3e₋+2.0×e2e₋e₊+2.0×e3e₊e₋ ∈ Cl(4, 1, 0)"
      ]
     },
     "execution_count": 107,
     "metadata": {},
     "output_type": "execute_result"
    }
   ],
   "source": []
  }
 ],
 "metadata": {
  "kernelspec": {
   "display_name": "Julia 1.8.2",
   "language": "julia",
   "name": "julia-1.8"
  },
  "language_info": {
   "file_extension": ".jl",
   "mimetype": "application/julia",
   "name": "julia",
   "version": "1.8.2"
  }
 },
 "nbformat": 4,
 "nbformat_minor": 5
}
