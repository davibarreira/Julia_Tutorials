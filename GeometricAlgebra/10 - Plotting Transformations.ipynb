{
 "cells": [
  {
   "cell_type": "markdown",
   "id": "7e759a60-af5e-4abd-88ee-e6bf998761d9",
   "metadata": {},
   "source": [
    "# **Conformal Geoemtric Algebra - Visualizing Transformations**\n",
    "\n",
    "We've shown how to plot the elements (e.g. points, planes, circles, spheres, vectors).\n",
    "Now let's visualize how some transformations work"
   ]
  },
  {
   "cell_type": "code",
   "execution_count": 3,
   "id": "075947a4-260f-4b70-bdac-34f4bef44cad",
   "metadata": {},
   "outputs": [
    {
     "name": "stderr",
     "output_type": "stream",
     "text": [
      "\u001b[32m\u001b[1m  Activating\u001b[22m\u001b[39m project at `~/MEGA/EMAP/Julia_Tutorials/GeometricAlgebra`\n"
     ]
    },
    {
     "data": {
      "application/vnd.webio.node+json": {
       "children": [],
       "instanceArgs": {
        "namespace": "html",
        "tag": "div"
       },
       "nodeType": "DOM",
       "props": {},
       "type": "node"
      },
      "text/html": [
       "<div style=\"padding: 1em; background-color: #f8d6da; border: 1px solid #f5c6cb; font-weight: bold;\">\n",
       "<p>The WebIO Jupyter extension was not detected. See the\n",
       "<a href=\"https://juliagizmos.github.io/WebIO.jl/latest/providers/ijulia/\" target=\"_blank\">\n",
       "    WebIO Jupyter integration documentation\n",
       "</a>\n",
       "for more information.\n",
       "</div>\n"
      ],
      "text/plain": [
       "WebIO._IJuliaInit()"
      ]
     },
     "metadata": {},
     "output_type": "display_data"
    },
    {
     "data": {
      "text/plain": [
       "plotcircle"
      ]
     },
     "execution_count": 3,
     "metadata": {},
     "output_type": "execute_result"
    }
   ],
   "source": [
    "using Pkg\n",
    "Pkg.activate(\".\")\n",
    "\n",
    "include(\"auxiliary.jl\")\n",
    "include(\"constructions.jl\")\n",
    "include(\"plottingfunctions.jl\")"
   ]
  },
  {
   "cell_type": "code",
   "execution_count": null,
   "id": "84312648-8f90-44e6-a2ef-53b43fd82289",
   "metadata": {},
   "outputs": [],
   "source": []
  }
 ],
 "metadata": {
  "kernelspec": {
   "display_name": "Julia 1.8.2",
   "language": "julia",
   "name": "julia-1.8"
  },
  "language_info": {
   "file_extension": ".jl",
   "mimetype": "application/julia",
   "name": "julia",
   "version": "1.8.2"
  }
 },
 "nbformat": 4,
 "nbformat_minor": 5
}
