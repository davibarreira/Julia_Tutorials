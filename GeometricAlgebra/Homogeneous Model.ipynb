{
 "cells": [
  {
   "cell_type": "markdown",
   "id": "c83439b5-ac3b-4e18-9b11-290e753313cc",
   "metadata": {},
   "source": [
    "# Homogeneous Model\n",
    "\n",
    "Our goal is to get to the Conformal Model, which deals with conformal transformations. A middle step is\n",
    "to deal with the Homogeneous Model. This model increments the original Euclidean space in 1 dimension,\n",
    "i.e. $\\mathbb R^n$ becomes $\\mathbb R^{n+1}$. The extra dimension is denoted $\\mathbf{e}_0$, while\n",
    "the other base vectors define the actual location in space.\n",
    "\n",
    "One motivation for the extra dimension is to be able to distinguish between points and vectors.\n",
    "\n",
    "## 1. Points\n",
    "\n",
    "In the Homogeneous Model, a point in $\\mathbb R^3$ is given by\n",
    "$$\n",
    "p = \\mathbf{e}_0 + \\alpha_1 \\mathbf{e}_1 +\\alpha_2 \\mathbf{e}_2 +\\alpha_3 \\mathbf{e}_3.\n",
    "$$\n",
    "Note that this point is \"unitary\" since the coefficient of $\\mathbf e_0$ is 1. Thus\n",
    "a generalization of this definition is simply\n",
    "\n",
    "$$\n",
    " m \\left(\\mathbf{e}_0 + \\alpha_1 \\mathbf{e}_1 +\\alpha_2 \\mathbf{e}_2 +\\alpha_3 \\mathbf{e}_3\\right),\n",
    "$$\n",
    "where $m \\in \\mathbb R$ is the weight.\n",
    "\n",
    "We can obtain the geometric location of a point $p$ by\n",
    "$$\n",
    "\\text{location:} \\frac{p}{\\mathbf{e}_0^{-1} \\cdot p}.\n",
    "$$\n",
    "\n",
    "Note that a vector $\\mathbf{p}$, i.e. a point with $0\\mathbf e_0$, can be seen as an infinite point or simply as a direction.\n",
    "\n",
    "Given two points, $p$ and $q$ we have:\n",
    "$$\n",
    "p + q = m_p (\\mathbf e_0 + \\mathbf p) + m_q (\\mathbf e_0 + \\mathbf q) = \n",
    "(m_p + m_q)\\mathbf e_0 + m_p\\mathbf p + m_q\\mathbf q= \n",
    "(m_p + m_q)\\left(\\mathbf e_0 + \\frac{m_p\\mathbf p + m_q\\mathbf q}{(m_p + m_q)}\\right).\n",
    "$$\n",
    "\n"
   ]
  },
  {
   "cell_type": "markdown",
   "id": "607a0494-4210-48f3-adaa-dab519709226",
   "metadata": {},
   "source": [
    "Hence, this sum of points gives a point of weight $m_p + m_q$ at the \"center of mass\" of the\n",
    "two points.\n",
    "\n",
    "Note that, for a unit point $p = e_0 + \\mathbf p$, by summing a direction $\\mathbf t$ we simply get\n",
    "a unit point $e_0 + \\mathbf p + \\mathbf t$, which is the same as translating the point by $\\mathbf t$.\n",
    "\n",
    "Yet, if $p$ has a weight $m$, we get\n",
    "$$\n",
    "p + \\mathbf t = m (\\mathbf e_0 + \\mathbf p) + \\mathbf t = m (\\mathbf e_0 + \\mathbf p + \\mathbf t/m).\n",
    "$$\n",
    "Which means that we translate $p$ only by $\\mathbf t/m$. Thus, to translate a point of mass $m$ by $\\mathbf t$\n",
    "we actually need to sum it by $ m \\mathbf t$."
   ]
  },
  {
   "cell_type": "markdown",
   "id": "223ad60f-0275-4a73-b146-5a9383492ecf",
   "metadata": {},
   "source": [
    "## 2. Lines\n",
    "\n",
    "Lines can be computed simply by the outer product of two points, e.g. $l = p\\wedge q$. We can\n",
    "show that this indeed satisfy the property that $x \\wedge l = 0$ for every point $x$ that \"should\"\n",
    "be over this line. An equivalent construction is by providing a point $p$ and a direction $\\mathbf a$,\n",
    "such that $l = p \\wedge \\mathbf a$.\n",
    "\n",
    "Note if $\\mathbf a = \\mathbf q - \\mathbf p$, then\n",
    "$$\n",
    "p \\wedge q = p \\wedge q - p\\wedge p = p \\wedge (q - p) = p \\wedge (\\mathbf e_0 + \\mathbf q - \\mathbf e_0 - \\mathbf p)\n",
    "= p \\wedge (\\mathbf q - \\mathbf p)\n",
    "= p \\wedge \\mathbf a.\n",
    "$$\n",
    "\n",
    "From a line $l = p \\wedge q$, we cannot recover $p$ and $q$. Hence, if we wish to model a line segment,\n",
    "we need to store the both $p\\wedge q$ and $p,q$. Or at least $p$ and $p \\wedge q$, as we can compute\n",
    "$q$ using:\n",
    "\n",
    "$$\n",
    "q = p \\mathbf e_0^{-1} \\lfloor (p\\wedge q).\n",
    "$$"
   ]
  },
  {
   "cell_type": "code",
   "execution_count": 2,
   "id": "57604529-e7c4-44e9-9edb-a6ee99c5410c",
   "metadata": {},
   "outputs": [
    {
     "name": "stderr",
     "output_type": "stream",
     "text": [
      "\u001b[32m\u001b[1m  Activating\u001b[22m\u001b[39m project at `~/MEGA/EMAP/Julia_Tutorials/GeometricAlgebra`\n"
     ]
    }
   ],
   "source": [
    "using Pkg\n",
    "Pkg.activate(\".\")\n",
    "using CliffordAlgebras\n",
    "import CliffordAlgebras: basegrade\n",
    "using LinearAlgebra: norm, normalize, dot\n",
    "\n",
    "using Plots\n",
    "include(\"./auxiliary.jl\")\n",
    "plotly();"
   ]
  },
  {
   "cell_type": "code",
   "execution_count": 24,
   "id": "4310dc59-7765-4a2d-8d2a-2205ab062e6b",
   "metadata": {},
   "outputs": [
    {
     "data": {
      "text/plain": [
       "+1.0×e1+1.0×e2+1.0×e3 ∈ Cl(4, 0, 0)"
      ]
     },
     "execution_count": 24,
     "metadata": {},
     "output_type": "execute_result"
    }
   ],
   "source": [
    "cl = CliffordAlgebra(4)\n",
    "e0 = cl.e4\n",
    "\n",
    "point(x,y,z) = e0 + x*cl.e1 + y*cl.e2 + z*cl.e3\n",
    "\n",
    "p = point(1,1,1)\n",
    "\n",
    "p/(inv(e0) ⋅ p) - e0"
   ]
  },
  {
   "cell_type": "code",
   "execution_count": 22,
   "id": "32510fe9-06e5-4a2f-945b-1863086dfaa8",
   "metadata": {},
   "outputs": [
    {
     "data": {
      "text/plain": [
       "+1×e1+1×e2+1×e3+1×e4 ∈ Cl(4, 0, 0)"
      ]
     },
     "execution_count": 22,
     "metadata": {},
     "output_type": "execute_result"
    }
   ],
   "source": []
  }
 ],
 "metadata": {
  "kernelspec": {
   "display_name": "Julia 1.8.2",
   "language": "julia",
   "name": "julia-1.8"
  },
  "language_info": {
   "file_extension": ".jl",
   "mimetype": "application/julia",
   "name": "julia",
   "version": "1.8.2"
  }
 },
 "nbformat": 4,
 "nbformat_minor": 5
}
