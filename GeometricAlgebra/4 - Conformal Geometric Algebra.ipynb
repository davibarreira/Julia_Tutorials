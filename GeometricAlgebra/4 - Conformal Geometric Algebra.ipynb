{
 "cells": [
  {
   "cell_type": "markdown",
   "id": "d5dda936-a519-46e9-9991-fa3d81b02122",
   "metadata": {},
   "source": [
    "# **Conformal Geometric Algebra**\n",
    "\n",
    "Conformal geometry studies *conformal structures*, or, *conformal trasnformations*.\n",
    "Topology is concerned with preserving connectivity (e.g. number of holes), while\n",
    "conformal geometry is concerned with preserving angles.\n",
    "Note that \"conformity\" is a stronger notion than topology, in the sense\n",
    "that a conformal equivalence implies topological equivalence.\n",
    "\n",
    "When modelling geometric objects, we can deal with different levels of abstraction. For example,\n",
    "if we want to create a type \"Triangle\" that encapsulates all triangles, what is the \"correct\" equivalence\n",
    "class to use for such modelling? We know that, from the start, a triangle has three vertices with v1\n",
    "connected to v2, v2 connected to v3 and v1. From an topological perspective, this view is yet lacking. We don't\n",
    "know if the triangle is filled or not, hence, it could either have one hole or zero holes. For our case,\n",
    "let's suppose that a triangle is filled, i.e. it's a simpicial complex of $[v1,v2,v3,[v1,v2], [v2,v3],[v3,v1],[v1,v2,v3]]$.\n",
    "Once this is defined, then we've characterized triangles topologically. Yet, note that, topologically, a triangle is the same\n",
    "as a filled circle. Hence, the topology does not actually capture the \"shape\" of the triangle. This is done with\n",
    "conformal equivalence.\n",
    "\n",
    "Hence, besides the simplicial complex description (which is the algebraic topology), we need an algebraic conformal description.\n",
    "This will be done using Geometric Algebra with the Conformal Model.\n",
    "\n",
    "\n",
    "## 1. CGA Model\n",
    "\n",
    "Our goal is to model 3D space in a way that conformal transformations can be algebraically represented. Besides the algebraic\n",
    "representation, we want our transformations to be covariant, in the sense that applying one conformal transformation preserves\n",
    "the algebraic structure of our object. This can be achieved by using the Conformal Geometric Algebra Model (CGA).\n",
    "\n",
    "In this model, we actually represent the existing objects as living in a 5D space,\n",
    "i.e. we use two extra dimensions in order to better distinguish objects.\n",
    "For example, a vector in 3D space could be modeled as an array with three entries.\n",
    "In a similar manner, a point in space could also be modeled in the same way.\n",
    "The problem becomes that we cannot distinguish between a point and a vector.\n",
    "\n",
    "Therefore, the Conformal Model in an $\\mathbb R^{3+1,1}$ multivector space.\n",
    "In this model, we thus have the following base vectors $\\{e_1,e_2,e_3,e_-, e_+\\}$.\n",
    "The first three are the base vectors of the actual space, while the last two\n",
    "are special base vectors, where $e_-^2= -1$. Note that, in the Conformal Model, we actually use\n",
    "a slightly different base. Instead of $e_-$ and $e_+$ we use\n",
    "\n",
    "$$\n",
    "    n_\\infty := e_+ + e_- , \\quad n_o = e_+ - e_-.\n",
    "$$\n",
    "\n",
    "**NOTE**: The definintion of $n_\\infty$ and $n_0$ varies a lot from author to author. Here we are following the convention of Leo Dorst. Note that,\n",
    "for exemple, there is a different convention used by Fernandes et. al.\n",
    "\n",
    "#### IMPLEMENTATION\n",
    "\n",
    "Let's use Julia to start using our CGA model. For that, let's use the\n",
    "`CliffordAlgebras.jl` package, which already implements the underlying geometric algebra."
   ]
  },
  {
   "cell_type": "code",
   "execution_count": 17,
   "id": "13fa70b8-c254-4acb-8320-5e4358231fed",
   "metadata": {},
   "outputs": [
    {
     "name": "stderr",
     "output_type": "stream",
     "text": [
      "\u001b[32m\u001b[1m  Activating\u001b[22m\u001b[39m project at `~/MEGA/EMAP/Julia_Tutorials/GeometricAlgebra`\n",
      "┌ Warning: For saving to png with the `Plotly` backend `PlotlyBase` and `PlotlyKaleido` need to be installed.\n",
      "│   err = ArgumentError(\"Package PlotlyBase not found in current path.\\n- Run `import Pkg; Pkg.add(\\\"PlotlyBase\\\")` to install the PlotlyBase package.\")\n",
      "└ @ Plots /home/davibarreira/.julia/packages/Plots/M4dfL/src/backends.jl:545\n"
     ]
    }
   ],
   "source": [
    "using Pkg\n",
    "Pkg.activate(\".\")\n",
    "using CliffordAlgebras\n",
    "import CliffordAlgebras: basegrade\n",
    "using LinearAlgebra: norm, normalize, dot\n",
    "\n",
    "using Plots\n",
    "include(\"./auxiliary.jl\")\n",
    "plotly();"
   ]
  },
  {
   "cell_type": "code",
   "execution_count": 18,
   "id": "fa43350e-aa3b-4897-bc88-d08e293b5f44",
   "metadata": {},
   "outputs": [
    {
     "data": {
      "text/plain": [
       "(:𝟏, :e1, :e2, :e3, :e₊, :e₋, :e1e2, :e1e3, :e2e3, :e1e₊, :e2e₊, :e3e₊, :e1e₋, :e2e₋, :e3e₋, :e₊e₋, :e1e2e3, :e1e₊e2, :e1e3e₊, :e2e₊e3, :e1e2e₋, :e1e₋e3, :e2e3e₋, :e1e₊e₋, :e2e₋e₊, :e3e₊e₋, :e1e2e3e₊, :e1e2e₋e3, :e1e2e₊e₋, :e1e3e₋e₊, :e2e3e₊e₋, :e1e2e3e₊e₋)"
      ]
     },
     "execution_count": 18,
     "metadata": {},
     "output_type": "execute_result"
    }
   ],
   "source": [
    "cl = CliffordAlgebra(:CGA3D)\n",
    "\n",
    "e1 = cl.e1\n",
    "e2 = cl.e2\n",
    "e3 = cl.e3\n",
    "e₊ = cl.e₊\n",
    "e₋ = cl.e₋\n",
    "I  = pseudoscalar(cl)\n",
    "\n",
    "no = cl.e₊ + cl.e₋\n",
    "n∞ = cl.e₊ - cl.e₋\n",
    "\n",
    "propertynames(cl)"
   ]
  },
  {
   "cell_type": "markdown",
   "id": "f3c94e21-fd1d-41bb-bf93-2c77d51bcdac",
   "metadata": {},
   "source": [
    "Note that `cl` is our algebra, and above we have the list of blade bases, which consists in a total\n",
    "of $2^5 = 32$ blades."
   ]
  },
  {
   "cell_type": "code",
   "execution_count": 19,
   "id": "56a8ae8b-882e-42d6-8b15-0ced10703842",
   "metadata": {},
   "outputs": [
    {
     "name": "stdout",
     "output_type": "stream",
     "text": [
      "cl.e₊ ⋅ cl.e₊ = +1 ∈ Cl(4, 1, 0)\n",
      "cl.e₋ ⋅ cl.e₋ = -1 ∈ Cl(4, 1, 0)\n"
     ]
    }
   ],
   "source": [
    "@show cl.e₊ ⋅ cl.e₊\n",
    "@show cl.e₋ ⋅ cl.e₋;"
   ]
  },
  {
   "cell_type": "markdown",
   "id": "b7d37cbb-ac61-4510-9cd3-7fb8e083ad20",
   "metadata": {},
   "source": [
    "## 2. Representing Geometric Objects\n",
    "\n",
    "### 2.1 Points\n",
    "\n",
    "Now, one of the goals of using our CGA model is to be able to differentiate objects such as points and vectors.\n",
    "In this model, a point is the same as a *null vector*. Remember, the norm square of a vector\n",
    "is $\\langle v, v \\rangle$. Hence, a point is just a vector $v_p$ where $\\langle v_p, v_p \\rangle = 0$ in our CGA model.\n",
    "\n",
    "You might wonder if the fact that the norm is zero, if this does not imply that the vector is just the zero vector.\n",
    "Yet, since $\\langle e_-, e_-\\rangle = -1$, it turns out we can actually construct non-null vectors.\n",
    "\n",
    "Consider a vector $v \\in \\mathbb R^3$. We want to apply a function $F: \\mathbb R^3 \\to \\mathbb R^{4,1}$,\n",
    "such that $\\langle F(v), F(v) \\rangle = 0$, i.e. it's a null vector in the CGA model.\n",
    "\n",
    "Let $v = \\alpha_1 e_1 + \\alpha_2 e_2 + \\alpha_3 e_3$, therefore, our function to find null vectors in CGA is:\n",
    "$$\n",
    "F(v) = \\frac{1}{2} \\left(-n_0 + 2v  + (v \\cdot v) n_\\infty\n",
    "\\right)\n",
    "= \\frac{-n_0}{2} + \\alpha_1 e_1 + \\alpha_2 e_2 + \\alpha_3 e_3  + \\frac{\\sum^3_{i=1} \\alpha_i^2 n_\\infty}{2}\n",
    "$$\n",
    "\n",
    "Note that this function satisfies the property of taking vectors and turning them into null vectors in the CGA space:\n",
    "$$\n",
    "F(v)^2 = F(v) \\cdot F(v) = \\frac{1}{4}(- n_0 + 2v + v^2 n_\\infty) \\cdot (- n_0 + 2v + v^2 n_\\infty)\\\\\n",
    "= - \\frac{1}{2}v^2 n_\\infty \\cdot n_0 + v^2 = - v^2 + v^2 = 0.\n",
    "$$\n",
    "\n",
    "The $\\frac{1}{2}$ factor in our formula of $F$ is not necessary for nullifying the vector, instead,\n",
    "this factor is added in order to \"normalize\" our multivector, i.e. $F(v) \\cdot n_\\infty = -1.$\n",
    "\n",
    "\n",
    "Another interesting thing to note is that the inner product between two points will give their Euclidean distance, i.e.\n",
    "$$\n",
    "F(v) \\cdot F(u) = -\\frac{1}{2} (u - v)^2\n",
    "$$"
   ]
  },
  {
   "cell_type": "code",
   "execution_count": 164,
   "id": "e86ae63a-2908-4f11-88e0-7ebd5380e9d3",
   "metadata": {},
   "outputs": [
    {
     "data": {
      "text/plain": [
       "F (generic function with 1 method)"
      ]
     },
     "execution_count": 164,
     "metadata": {},
     "output_type": "execute_result"
    }
   ],
   "source": [
    "point(x=0,y=0,z=0)  = -no/2 + x*cl.e1 + y*cl.e2 + z*cl.e3 + (x^2 + y^2 + z^2)/2 * n∞\n",
    "point(;x=0,y=0,z=0) = -no/2 + x*cl.e1 + y*cl.e2 + z*cl.e3 + (x^2 + y^2 + z^2)/2 * n∞\n",
    "\n",
    "# Point from vector\n",
    "F(x) = -no/2 + x + (x ⋅ x)*n∞/2"
   ]
  },
  {
   "cell_type": "code",
   "execution_count": 165,
   "id": "70b8b53f-5437-4e89-a26e-8c2418c7f432",
   "metadata": {},
   "outputs": [
    {
     "name": "stdout",
     "output_type": "stream",
     "text": [
      "p ⋅ n∞ = -1.0 ∈ Cl(4, 1, 0)\n",
      "p == F(cl.e1 + 2 * cl.e2 + 3 * cl.e3) = true\n"
     ]
    }
   ],
   "source": [
    "p = point(1,2,3)\n",
    "@show p ⋅ n∞\n",
    "@show p == F(cl.e1 + 2cl.e2 + 3cl.e3);"
   ]
  },
  {
   "cell_type": "markdown",
   "id": "3eb25897-0bb5-4bdf-971a-9d6afe1c2ac3",
   "metadata": {},
   "source": [
    "Checking the point distance: "
   ]
  },
  {
   "cell_type": "code",
   "execution_count": 166,
   "id": "f50d13ec-9d53-429a-9795-256ae59352c3",
   "metadata": {},
   "outputs": [
    {
     "data": {
      "text/plain": [
       "true"
      ]
     },
     "execution_count": 166,
     "metadata": {},
     "output_type": "execute_result"
    }
   ],
   "source": [
    "u = [1,1]\n",
    "v = [3,2]\n",
    "pu = point(u...)\n",
    "pv = point(v...)\n",
    "\n",
    "-norm_sqr(u - v)/2  ≈ scalar(pu ⋅ pv)"
   ]
  },
  {
   "cell_type": "markdown",
   "id": "b9f3e7ef-7cb1-4e06-b08d-f192d4d624e8",
   "metadata": {},
   "source": [
    "### 2.2 Affine Combination of Points\n",
    "\n",
    "Now, suppose that we have two points, $p$ and $q$. We want to do an affine combination in order\n",
    "to obtain interpolated points, e.g.\n",
    "$$\n",
    "\\lambda\\mathbf p + (1-\\lambda) \\mathbf q.\n",
    "$$\n",
    "\n",
    "We cannot simply do\n",
    "$$\n",
    "\\lambda p + (1-\\lambda) q.\n",
    "$$\n",
    "in our conformal model, because the result of\n",
    "this sum would not be a point in our conformal model.\n",
    "\n",
    "For this to work, we have to use *flat points*. A flat point is $p \\wedge \\mathbf n_\\infty$.\n",
    "Thus:\n",
    "$$\n",
    "\\lambda(p\\wedge \\mathbf n_\\infty) + (1-\\lambda) (q \\wedge \\mathbf n_\\infty) = \n",
    "F(\\lambda\\mathbf p + (1-\\lambda) \\mathbf q)\n",
    "\\wedge \\mathbf n_\\infty.\n",
    "$$\n",
    "\n",
    "Note that the result is a *flat point*"
   ]
  },
  {
   "cell_type": "code",
   "execution_count": 332,
   "id": "15e92980-f658-4b4f-b7d4-ae89ee9301e9",
   "metadata": {},
   "outputs": [
    {
     "data": {
      "text/plain": [
       "+1.0×e1+3.0×e2+0.5×e3 ∈ Cl(4, 1, 0)"
      ]
     },
     "execution_count": 332,
     "metadata": {},
     "output_type": "execute_result"
    }
   ],
   "source": [
    "function getblades(x,blades = [:e1,:e2,:e3])\n",
    "    cl = algebra(x)\n",
    "    mapreduce(b->reduce(*,getproperty.([m,cl],b)),+,[:e1,:e2,:e3])\n",
    "end\n",
    "\n",
    "getblades(m)\n"
   ]
  },
  {
   "cell_type": "code",
   "execution_count": 303,
   "id": "ee250971-1959-4bb9-ac44-674f36b69dba",
   "metadata": {},
   "outputs": [
    {
     "data": {
      "application/vnd.plotly.v1+json": {
       "data": [
        {
         "colorbar": {
          "len": 0.9525371828521435,
          "title": {
           "text": ""
          },
          "x": 0.9934383202099737,
          "y": 0.513888888888889
         },
         "legendgroup": "p",
         "marker": {
          "color": "rgba(0, 154, 250, 1.000)",
          "line": {
           "color": "rgba(0, 0, 0, 1)",
           "width": 1
          },
          "size": 8,
          "symbol": "circle"
         },
         "mode": "markers",
         "name": "p",
         "showlegend": true,
         "type": "scatter",
         "x": [
          0
         ],
         "xaxis": "x",
         "y": [
          2
         ],
         "yaxis": "y",
         "zmax": null,
         "zmin": null
        },
        {
         "colorbar": {
          "len": 0.9525371828521435,
          "title": {
           "text": ""
          },
          "x": 0.9934383202099737,
          "y": 0.513888888888889
         },
         "legendgroup": "q",
         "marker": {
          "color": "rgba(227, 111, 71, 1.000)",
          "line": {
           "color": "rgba(0, 0, 0, 1)",
           "width": 1
          },
          "size": 8,
          "symbol": "circle"
         },
         "mode": "markers",
         "name": "q",
         "showlegend": true,
         "type": "scatter",
         "x": [
          2
         ],
         "xaxis": "x",
         "y": [
          4
         ],
         "yaxis": "y",
         "zmax": null,
         "zmin": null
        },
        {
         "colorbar": {
          "len": 0.9525371828521435,
          "title": {
           "text": ""
          },
          "x": 0.9934383202099737,
          "y": 0.513888888888889
         },
         "legendgroup": "λp + (1-λ)q",
         "marker": {
          "color": "rgba(62, 164, 78, 1.000)",
          "line": {
           "color": "rgba(0, 0, 0, 1)",
           "width": 1
          },
          "size": 8,
          "symbol": "circle"
         },
         "mode": "markers",
         "name": "λp + (1-λ)q",
         "showlegend": true,
         "type": "scatter",
         "x": [
          1
         ],
         "xaxis": "x",
         "y": [
          3
         ],
         "yaxis": "y",
         "zmax": null,
         "zmin": null
        }
       ],
       "layout": {
        "annotations": [],
        "height": 400,
        "legend": {
         "bgcolor": "rgba(255, 255, 255, 1.000)",
         "bordercolor": "rgba(0, 0, 0, 1)",
         "borderwidth": 1,
         "font": {
          "color": "rgba(0, 0, 0, 1)",
          "family": "sans-serif",
          "size": 11
         },
         "title": {
          "font": {
           "color": "rgba(0, 0, 0, 1)",
           "family": "sans-serif",
           "size": 15
          },
          "text": ""
         },
         "tracegroupgap": 0,
         "traceorder": "normal",
         "x": 1,
         "xanchor": "auto",
         "y": 1,
         "yanchor": "auto"
        },
        "margin": {
         "b": 20,
         "l": 0,
         "r": 0,
         "t": 20
        },
        "paper_bgcolor": "rgba(255, 255, 255, 1.000)",
        "plot_bgcolor": "rgba(255, 255, 255, 1.000)",
        "showlegend": true,
        "width": 600,
        "xaxis": {
         "anchor": "y",
         "domain": [
          0.036191309419655926,
          0.9934383202099737
         ],
         "gridcolor": "rgba(0, 0, 0, 0.1)",
         "gridwidth": 0.5,
         "linecolor": "rgba(0, 0, 0, 1)",
         "mirror": false,
         "range": [
          -3.5222502870264067,
          5.522250287026407
         ],
         "showgrid": true,
         "showline": true,
         "showticklabels": true,
         "tickangle": 0,
         "tickcolor": "rgb(0, 0, 0)",
         "tickfont": {
          "color": "rgba(0, 0, 0, 1)",
          "family": "sans-serif",
          "size": 11
         },
         "tickmode": "array",
         "ticks": "inside",
         "ticktext": [
          "−2",
          "0",
          "2",
          "4"
         ],
         "tickvals": [
          -2,
          0,
          2,
          4
         ],
         "title": {
          "font": {
           "color": "rgba(0, 0, 0, 1)",
           "family": "sans-serif",
           "size": 15
          },
          "text": ""
         },
         "type": "linear",
         "visible": true,
         "zeroline": false,
         "zerolinecolor": "rgba(0, 0, 0, 1)"
        },
        "yaxis": {
         "anchor": "x",
         "domain": [
          0.03762029746281716,
          0.9901574803149606
         ],
         "gridcolor": "rgba(0, 0, 0, 0.1)",
         "gridwidth": 0.5,
         "linecolor": "rgba(0, 0, 0, 1)",
         "mirror": false,
         "range": [
          -1,
          5
         ],
         "showgrid": true,
         "showline": true,
         "showticklabels": true,
         "tickangle": 0,
         "tickcolor": "rgb(0, 0, 0)",
         "tickfont": {
          "color": "rgba(0, 0, 0, 1)",
          "family": "sans-serif",
          "size": 11
         },
         "tickmode": "array",
         "ticks": "inside",
         "ticktext": [
          "−1",
          "0",
          "1",
          "2",
          "3",
          "4",
          "5"
         ],
         "tickvals": [
          -1,
          0,
          1,
          2,
          3,
          4,
          5
         ],
         "title": {
          "font": {
           "color": "rgba(0, 0, 0, 1)",
           "family": "sans-serif",
           "size": 15
          },
          "text": ""
         },
         "type": "linear",
         "visible": true,
         "zeroline": false,
         "zerolinecolor": "rgba(0, 0, 0, 1)"
        }
       }
      },
      "image/png": "[encoded data removed]",
      "text/html": [
       "    <div id=\"30e6abea-5f78-440e-9304-8acc4676bda3\" style=\"width:600px;height:400px;\"></div>\n",
       "    <script>\n",
       "        requirejs.config({\n",
       "        paths: {\n",
       "            Plotly: 'https://cdn.plot.ly/plotly-2.6.3.min'\n",
       "        }\n",
       "    });\n",
       "    require(['Plotly'], function (Plotly) {\n",
       "\n",
       "    Plotly.newPlot('30e6abea-5f78-440e-9304-8acc4676bda3', [\n",
       "    {\n",
       "        \"xaxis\": \"x\",\n",
       "        \"colorbar\": {\n",
       "            \"y\": 0.513888888888889,\n",
       "            \"title\": \"\",\n",
       "            \"len\": 0.9525371828521435,\n",
       "            \"x\": 0.9934383202099737\n",
       "        },\n",
       "        \"yaxis\": \"y\",\n",
       "        \"x\": [\n",
       "            0.0\n",
       "        ],\n",
       "        \"showlegend\": true,\n",
       "        \"mode\": \"markers\",\n",
       "        \"name\": \"p\",\n",
       "        \"zmin\": null,\n",
       "        \"legendgroup\": \"p\",\n",
       "        \"marker\": {\n",
       "            \"symbol\": \"circle\",\n",
       "            \"color\": \"rgba(0, 154, 250, 1.000)\",\n",
       "            \"line\": {\n",
       "                \"color\": \"rgba(0, 0, 0, 1.000)\",\n",
       "                \"width\": 1\n",
       "            },\n",
       "            \"size\": 8\n",
       "        },\n",
       "        \"zmax\": null,\n",
       "        \"y\": [\n",
       "            2.0\n",
       "        ],\n",
       "        \"type\": \"scatter\"\n",
       "    },\n",
       "    {\n",
       "        \"xaxis\": \"x\",\n",
       "        \"colorbar\": {\n",
       "            \"y\": 0.513888888888889,\n",
       "            \"title\": \"\",\n",
       "            \"len\": 0.9525371828521435,\n",
       "            \"x\": 0.9934383202099737\n",
       "        },\n",
       "        \"yaxis\": \"y\",\n",
       "        \"x\": [\n",
       "            2.0\n",
       "        ],\n",
       "        \"showlegend\": true,\n",
       "        \"mode\": \"markers\",\n",
       "        \"name\": \"q\",\n",
       "        \"zmin\": null,\n",
       "        \"legendgroup\": \"q\",\n",
       "        \"marker\": {\n",
       "            \"symbol\": \"circle\",\n",
       "            \"color\": \"rgba(227, 111, 71, 1.000)\",\n",
       "            \"line\": {\n",
       "                \"color\": \"rgba(0, 0, 0, 1.000)\",\n",
       "                \"width\": 1\n",
       "            },\n",
       "            \"size\": 8\n",
       "        },\n",
       "        \"zmax\": null,\n",
       "        \"y\": [\n",
       "            4.0\n",
       "        ],\n",
       "        \"type\": \"scatter\"\n",
       "    },\n",
       "    {\n",
       "        \"xaxis\": \"x\",\n",
       "        \"colorbar\": {\n",
       "            \"y\": 0.513888888888889,\n",
       "            \"title\": \"\",\n",
       "            \"len\": 0.9525371828521435,\n",
       "            \"x\": 0.9934383202099737\n",
       "        },\n",
       "        \"yaxis\": \"y\",\n",
       "        \"x\": [\n",
       "            1.0\n",
       "        ],\n",
       "        \"showlegend\": true,\n",
       "        \"mode\": \"markers\",\n",
       "        \"name\": \"λp + (1-λ)q\",\n",
       "        \"zmin\": null,\n",
       "        \"legendgroup\": \"λp + (1-λ)q\",\n",
       "        \"marker\": {\n",
       "            \"symbol\": \"circle\",\n",
       "            \"color\": \"rgba(62, 164, 78, 1.000)\",\n",
       "            \"line\": {\n",
       "                \"color\": \"rgba(0, 0, 0, 1.000)\",\n",
       "                \"width\": 1\n",
       "            },\n",
       "            \"size\": 8\n",
       "        },\n",
       "        \"zmax\": null,\n",
       "        \"y\": [\n",
       "            3.0\n",
       "        ],\n",
       "        \"type\": \"scatter\"\n",
       "    }\n",
       "]\n",
       ", {\n",
       "    \"showlegend\": true,\n",
       "    \"xaxis\": {\n",
       "        \"showticklabels\": true,\n",
       "        \"gridwidth\": 0.5,\n",
       "        \"tickvals\": [\n",
       "            -2.0,\n",
       "            0.0,\n",
       "            2.0,\n",
       "            4.0\n",
       "        ],\n",
       "        \"range\": [\n",
       "            -3.5222502870264067,\n",
       "            5.522250287026407\n",
       "        ],\n",
       "        \"domain\": [\n",
       "            0.036191309419655926,\n",
       "            0.9934383202099737\n",
       "        ],\n",
       "        \"mirror\": false,\n",
       "        \"tickangle\": 0,\n",
       "        \"showline\": true,\n",
       "        \"ticktext\": [\n",
       "            \"−2\",\n",
       "            \"0\",\n",
       "            \"2\",\n",
       "            \"4\"\n",
       "        ],\n",
       "        \"zeroline\": false,\n",
       "        \"tickfont\": {\n",
       "            \"color\": \"rgba(0, 0, 0, 1.000)\",\n",
       "            \"family\": \"sans-serif\",\n",
       "            \"size\": 11\n",
       "        },\n",
       "        \"zerolinecolor\": \"rgba(0, 0, 0, 1.000)\",\n",
       "        \"anchor\": \"y\",\n",
       "        \"visible\": true,\n",
       "        \"ticks\": \"inside\",\n",
       "        \"tickmode\": \"array\",\n",
       "        \"linecolor\": \"rgba(0, 0, 0, 1.000)\",\n",
       "        \"showgrid\": true,\n",
       "        \"title\": \"\",\n",
       "        \"gridcolor\": \"rgba(0, 0, 0, 0.100)\",\n",
       "        \"titlefont\": {\n",
       "            \"color\": \"rgba(0, 0, 0, 1.000)\",\n",
       "            \"family\": \"sans-serif\",\n",
       "            \"size\": 15\n",
       "        },\n",
       "        \"tickcolor\": \"rgb(0, 0, 0)\",\n",
       "        \"type\": \"-\"\n",
       "    },\n",
       "    \"paper_bgcolor\": \"rgba(255, 255, 255, 1.000)\",\n",
       "    \"annotations\": [],\n",
       "    \"height\": 400,\n",
       "    \"margin\": {\n",
       "        \"l\": 0,\n",
       "        \"b\": 20,\n",
       "        \"r\": 0,\n",
       "        \"t\": 20\n",
       "    },\n",
       "    \"plot_bgcolor\": \"rgba(255, 255, 255, 1.000)\",\n",
       "    \"yaxis\": {\n",
       "        \"showticklabels\": true,\n",
       "        \"gridwidth\": 0.5,\n",
       "        \"tickvals\": [\n",
       "            -1.0,\n",
       "            0.0,\n",
       "            1.0,\n",
       "            2.0,\n",
       "            3.0,\n",
       "            4.0,\n",
       "            5.0\n",
       "        ],\n",
       "        \"range\": [\n",
       "            -1.0,\n",
       "            5.0\n",
       "        ],\n",
       "        \"domain\": [\n",
       "            0.03762029746281716,\n",
       "            0.9901574803149606\n",
       "        ],\n",
       "        \"mirror\": false,\n",
       "        \"tickangle\": 0,\n",
       "        \"showline\": true,\n",
       "        \"ticktext\": [\n",
       "            \"−1\",\n",
       "            \"0\",\n",
       "            \"1\",\n",
       "            \"2\",\n",
       "            \"3\",\n",
       "            \"4\",\n",
       "            \"5\"\n",
       "        ],\n",
       "        \"zeroline\": false,\n",
       "        \"tickfont\": {\n",
       "            \"color\": \"rgba(0, 0, 0, 1.000)\",\n",
       "            \"family\": \"sans-serif\",\n",
       "            \"size\": 11\n",
       "        },\n",
       "        \"zerolinecolor\": \"rgba(0, 0, 0, 1.000)\",\n",
       "        \"anchor\": \"x\",\n",
       "        \"visible\": true,\n",
       "        \"ticks\": \"inside\",\n",
       "        \"tickmode\": \"array\",\n",
       "        \"linecolor\": \"rgba(0, 0, 0, 1.000)\",\n",
       "        \"showgrid\": true,\n",
       "        \"title\": \"\",\n",
       "        \"gridcolor\": \"rgba(0, 0, 0, 0.100)\",\n",
       "        \"titlefont\": {\n",
       "            \"color\": \"rgba(0, 0, 0, 1.000)\",\n",
       "            \"family\": \"sans-serif\",\n",
       "            \"size\": 15\n",
       "        },\n",
       "        \"tickcolor\": \"rgb(0, 0, 0)\",\n",
       "        \"type\": \"-\"\n",
       "    },\n",
       "    \"legend\": {\n",
       "        \"yanchor\": \"auto\",\n",
       "        \"xanchor\": \"auto\",\n",
       "        \"bordercolor\": \"rgba(0, 0, 0, 1.000)\",\n",
       "        \"bgcolor\": \"rgba(255, 255, 255, 1.000)\",\n",
       "        \"borderwidth\": 1,\n",
       "        \"tracegroupgap\": 0,\n",
       "        \"y\": 1.0,\n",
       "        \"font\": {\n",
       "            \"color\": \"rgba(0, 0, 0, 1.000)\",\n",
       "            \"family\": \"sans-serif\",\n",
       "            \"size\": 11\n",
       "        },\n",
       "        \"title\": {\n",
       "            \"font\": {\n",
       "                \"color\": \"rgba(0, 0, 0, 1.000)\",\n",
       "                \"family\": \"sans-serif\",\n",
       "                \"size\": 15\n",
       "            },\n",
       "            \"text\": \"\"\n",
       "        },\n",
       "        \"traceorder\": \"normal\",\n",
       "        \"x\": 1.0\n",
       "    },\n",
       "    \"width\": 600\n",
       "}\n",
       ");\n",
       "    });\n",
       "    </script>\n"
      ]
     },
     "execution_count": 303,
     "metadata": {},
     "output_type": "execute_result"
    }
   ],
   "source": [
    "p = point(0,2,0)\n",
    "q = point(2,4,1)\n",
    "λ = 0.5\n",
    "m = (λ*(p ∧ n∞) + (1-λ)*(q ∧ n∞))*no/2\n",
    "# m = λ*[p.e1,p.e2] + (1-λ)*[q.e1,q.e2]\n",
    "\n",
    "p1 = scatter([p.e1],[p.e2],label=\"p\")\n",
    "p1 = scatter!([q.e1],[q.e2],label=\"q\", aspect_ratio=1,ylims=(-1,5))\n",
    "p1 = scatter!([m.e1],[m.e2],legend=true,label=\"λp + (1-λ)q\")\n",
    "# p1 = scatter!([m[1]],[m[2]],legend=true,label=\"λp + (1-λ)q\")"
   ]
  },
  {
   "cell_type": "code",
   "execution_count": 241,
   "id": "403ec5da-890b-4388-82be-60a23db239b8",
   "metadata": {},
   "outputs": [
    {
     "data": {
      "text/plain": [
       "+20.0+1.0×e1e₊+3.0×e2e₊+1.0×e1e₋+3.0×e2e₋+20.0×e₊e₋ ∈ Cl(4, 1, 0)"
      ]
     },
     "execution_count": 241,
     "metadata": {},
     "output_type": "execute_result"
    }
   ],
   "source": [
    "m ⋅ m"
   ]
  },
  {
   "cell_type": "markdown",
   "id": "711717a3-5bb3-4a42-8424-d0d70ef75221",
   "metadata": {},
   "source": [
    "## 3. Transformations in the Conformal Model\n",
    "\n",
    "### 3.1 Rotors\n",
    "\n",
    "The first transformation we deal with are rotors. Remember, a rotor is a transformation\n",
    "with unit norm constructed via the product of an even number of invertible vectors. The application\n",
    "of a rotor in the Euclidean Geometry is done via a sandwiching, e.g.\n",
    "$R x \\tilde{R}$. One can show that $R x n_\\infty \\tilde{R} = R x \\tilde{R} n_\\infty$\n",
    "and $R x n_0 \\tilde{R} = R x \\tilde{R} n_0$.\n",
    "\n",
    "Using this fact, we can show that:\n",
    "\n",
    "$$\n",
    "R F(\\mathbf x) \\tilde{R} = F(R \\mathbf x \\tilde{R}),\n",
    "$$\n",
    "\n",
    "which means that a rotor that acts as a rotation in the Euclidean space also does the same in our Conformal Model."
   ]
  },
  {
   "cell_type": "code",
   "execution_count": 231,
   "id": "2d363c41-34fe-4f72-a1d7-fddf9cf76c68",
   "metadata": {},
   "outputs": [
    {
     "data": {
      "application/vnd.plotly.v1+json": {
       "data": [
        {
         "colorbar": {
          "len": 0.9525371828521435,
          "title": {
           "text": ""
          },
          "x": 0.4934383202099738,
          "y": 0.513888888888889
         },
         "legendgroup": "y1",
         "marker": {
          "color": "rgba(0, 154, 250, 1.000)",
          "line": {
           "color": "rgba(0, 0, 0, 1)",
           "width": 1
          },
          "size": 8,
          "symbol": "circle"
         },
         "mode": "markers",
         "name": "y1",
         "showlegend": true,
         "type": "scatter",
         "x": [
          1
         ],
         "xaxis": "x",
         "y": [
          2
         ],
         "yaxis": "y",
         "zmax": null,
         "zmin": null
        },
        {
         "colorbar": {
          "len": 0.9525371828521435,
          "title": {
           "text": ""
          },
          "x": 0.4934383202099738,
          "y": 0.513888888888889
         },
         "legendgroup": "y2",
         "marker": {
          "color": "rgba(227, 111, 71, 1.000)",
          "line": {
           "color": "rgba(0, 0, 0, 1)",
           "width": 1
          },
          "size": 8,
          "symbol": "circle"
         },
         "mode": "markers",
         "name": "y2",
         "showlegend": true,
         "type": "scatter",
         "x": [
          -1
         ],
         "xaxis": "x",
         "y": [
          -2
         ],
         "yaxis": "y",
         "zmax": null,
         "zmin": null
        },
        {
         "colorbar": {
          "len": 0.9525371828521435,
          "title": {
           "text": ""
          },
          "x": 0.9934383202099738,
          "y": 0.513888888888889
         },
         "legendgroup": "y1",
         "marker": {
          "color": "rgba(0, 154, 250, 1.000)",
          "line": {
           "color": "rgba(0, 0, 0, 1)",
           "width": 1
          },
          "size": 8,
          "symbol": "circle"
         },
         "mode": "markers",
         "name": "y1",
         "showlegend": true,
         "type": "scatter",
         "x": [
          1
         ],
         "xaxis": "x2",
         "y": [
          2
         ],
         "yaxis": "y2",
         "zmax": null,
         "zmin": null
        },
        {
         "colorbar": {
          "len": 0.9525371828521435,
          "title": {
           "text": ""
          },
          "x": 0.9934383202099738,
          "y": 0.513888888888889
         },
         "legendgroup": "y2",
         "marker": {
          "color": "rgba(227, 111, 71, 1.000)",
          "line": {
           "color": "rgba(0, 0, 0, 1)",
           "width": 1
          },
          "size": 8,
          "symbol": "circle"
         },
         "mode": "markers",
         "name": "y2",
         "showlegend": true,
         "type": "scatter",
         "x": [
          -1
         ],
         "xaxis": "x2",
         "y": [
          -2
         ],
         "yaxis": "y2",
         "zmax": null,
         "zmin": null
        }
       ],
       "layout": {
        "annotations": [],
        "height": 400,
        "margin": {
         "b": 20,
         "l": 0,
         "r": 0,
         "t": 20
        },
        "paper_bgcolor": "rgba(255, 255, 255, 1.000)",
        "plot_bgcolor": "rgba(255, 255, 255, 1.000)",
        "showlegend": false,
        "width": 600,
        "xaxis": {
         "anchor": "y",
         "domain": [
          0.03619130941965587,
          0.4934383202099738
         ],
         "gridcolor": "rgba(0, 0, 0, 0.1)",
         "gridwidth": 0.5,
         "linecolor": "rgba(0, 0, 0, 1)",
         "mirror": false,
         "range": [
          -1.526497359357061,
          1.526497359357061
         ],
         "showgrid": true,
         "showline": false,
         "showticklabels": true,
         "tickangle": 0,
         "tickcolor": "rgba(0, 0, 0, 0)",
         "tickfont": {
          "color": "rgba(0, 0, 0, 1)",
          "family": "sans-serif",
          "size": 11
         },
         "tickmode": "array",
         "ticks": "inside",
         "ticktext": [
          "−1.5",
          "−1.0",
          "−0.5",
          "0.0",
          "0.5",
          "1.0",
          "1.5"
         ],
         "tickvals": [
          -1.5,
          -1,
          -0.5,
          0,
          0.5,
          1,
          1.5
         ],
         "title": {
          "font": {
           "color": "rgba(0, 0, 0, 1)",
           "family": "sans-serif",
           "size": 15
          },
          "text": ""
         },
         "type": "linear",
         "visible": true,
         "zeroline": true,
         "zerolinecolor": "rgba(0, 0, 0, 1)"
        },
        "xaxis2": {
         "anchor": "y2",
         "domain": [
          0.5361913094196559,
          0.9934383202099738
         ],
         "gridcolor": "rgba(0, 0, 0, 0.1)",
         "gridwidth": 0.5,
         "linecolor": "rgba(0, 0, 0, 1)",
         "mirror": false,
         "range": [
          -1.526497359357061,
          1.526497359357061
         ],
         "showgrid": true,
         "showline": false,
         "showticklabels": true,
         "tickangle": 0,
         "tickcolor": "rgba(0, 0, 0, 0)",
         "tickfont": {
          "color": "rgba(0, 0, 0, 1)",
          "family": "sans-serif",
          "size": 11
         },
         "tickmode": "array",
         "ticks": "inside",
         "ticktext": [
          "−1.5",
          "−1.0",
          "−0.5",
          "0.0",
          "0.5",
          "1.0",
          "1.5"
         ],
         "tickvals": [
          -1.5,
          -1,
          -0.5,
          0,
          0.5,
          1,
          1.5
         ],
         "title": {
          "font": {
           "color": "rgba(0, 0, 0, 1)",
           "family": "sans-serif",
           "size": 15
          },
          "text": ""
         },
         "type": "linear",
         "visible": true,
         "zeroline": true,
         "zerolinecolor": "rgba(0, 0, 0, 1)"
        },
        "yaxis": {
         "anchor": "x",
         "domain": [
          0.03762029746281716,
          0.9901574803149606
         ],
         "gridcolor": "rgba(0, 0, 0, 0.1)",
         "gridwidth": 0.5,
         "linecolor": "rgba(0, 0, 0, 1)",
         "mirror": false,
         "range": [
          -2.12,
          2.12
         ],
         "showgrid": true,
         "showline": false,
         "showticklabels": true,
         "tickangle": 0,
         "tickcolor": "rgba(0, 0, 0, 0)",
         "tickfont": {
          "color": "rgba(0, 0, 0, 1)",
          "family": "sans-serif",
          "size": 11
         },
         "tickmode": "array",
         "ticks": "inside",
         "ticktext": [
          "−2",
          "−1",
          "0",
          "1",
          "2"
         ],
         "tickvals": [
          -2,
          -1,
          0,
          1,
          2
         ],
         "title": {
          "font": {
           "color": "rgba(0, 0, 0, 1)",
           "family": "sans-serif",
           "size": 15
          },
          "text": ""
         },
         "type": "linear",
         "visible": true,
         "zeroline": true,
         "zerolinecolor": "rgba(0, 0, 0, 1)"
        },
        "yaxis2": {
         "anchor": "x2",
         "domain": [
          0.03762029746281716,
          0.9901574803149606
         ],
         "gridcolor": "rgba(0, 0, 0, 0.1)",
         "gridwidth": 0.5,
         "linecolor": "rgba(0, 0, 0, 1)",
         "mirror": false,
         "range": [
          -2.12,
          2.12
         ],
         "showgrid": true,
         "showline": false,
         "showticklabels": true,
         "tickangle": 0,
         "tickcolor": "rgba(0, 0, 0, 0)",
         "tickfont": {
          "color": "rgba(0, 0, 0, 1)",
          "family": "sans-serif",
          "size": 11
         },
         "tickmode": "array",
         "ticks": "inside",
         "ticktext": [
          "−2",
          "−1",
          "0",
          "1",
          "2"
         ],
         "tickvals": [
          -2,
          -1,
          0,
          1,
          2
         ],
         "title": {
          "font": {
           "color": "rgba(0, 0, 0, 1)",
           "family": "sans-serif",
           "size": 15
          },
          "text": ""
         },
         "type": "linear",
         "visible": true,
         "zeroline": true,
         "zerolinecolor": "rgba(0, 0, 0, 1)"
        }
       }
      },
      "image/png": "[encoded data removed]",
      "text/html": [
       "    <div id=\"23f98403-ab2f-46bd-9ce3-c76755423329\" style=\"width:600px;height:400px;\"></div>\n",
       "    <script>\n",
       "        requirejs.config({\n",
       "        paths: {\n",
       "            Plotly: 'https://cdn.plot.ly/plotly-2.6.3.min'\n",
       "        }\n",
       "    });\n",
       "    require(['Plotly'], function (Plotly) {\n",
       "\n",
       "    Plotly.newPlot('23f98403-ab2f-46bd-9ce3-c76755423329', [\n",
       "    {\n",
       "        \"xaxis\": \"x1\",\n",
       "        \"colorbar\": {\n",
       "            \"y\": 0.513888888888889,\n",
       "            \"title\": \"\",\n",
       "            \"len\": 0.9525371828521435,\n",
       "            \"x\": 0.4934383202099738\n",
       "        },\n",
       "        \"yaxis\": \"y1\",\n",
       "        \"x\": [\n",
       "            1.0\n",
       "        ],\n",
       "        \"showlegend\": true,\n",
       "        \"mode\": \"markers\",\n",
       "        \"name\": \"y1\",\n",
       "        \"zmin\": null,\n",
       "        \"legendgroup\": \"y1\",\n",
       "        \"marker\": {\n",
       "            \"symbol\": \"circle\",\n",
       "            \"color\": \"rgba(0, 154, 250, 1.000)\",\n",
       "            \"line\": {\n",
       "                \"color\": \"rgba(0, 0, 0, 1.000)\",\n",
       "                \"width\": 1\n",
       "            },\n",
       "            \"size\": 8\n",
       "        },\n",
       "        \"zmax\": null,\n",
       "        \"y\": [\n",
       "            2.0\n",
       "        ],\n",
       "        \"type\": \"scatter\"\n",
       "    },\n",
       "    {\n",
       "        \"xaxis\": \"x1\",\n",
       "        \"colorbar\": {\n",
       "            \"y\": 0.513888888888889,\n",
       "            \"title\": \"\",\n",
       "            \"len\": 0.9525371828521435,\n",
       "            \"x\": 0.4934383202099738\n",
       "        },\n",
       "        \"yaxis\": \"y1\",\n",
       "        \"x\": [\n",
       "            -1.0\n",
       "        ],\n",
       "        \"showlegend\": true,\n",
       "        \"mode\": \"markers\",\n",
       "        \"name\": \"y2\",\n",
       "        \"zmin\": null,\n",
       "        \"legendgroup\": \"y2\",\n",
       "        \"marker\": {\n",
       "            \"symbol\": \"circle\",\n",
       "            \"color\": \"rgba(227, 111, 71, 1.000)\",\n",
       "            \"line\": {\n",
       "                \"color\": \"rgba(0, 0, 0, 1.000)\",\n",
       "                \"width\": 1\n",
       "            },\n",
       "            \"size\": 8\n",
       "        },\n",
       "        \"zmax\": null,\n",
       "        \"y\": [\n",
       "            -2.0\n",
       "        ],\n",
       "        \"type\": \"scatter\"\n",
       "    },\n",
       "    {\n",
       "        \"xaxis\": \"x2\",\n",
       "        \"colorbar\": {\n",
       "            \"y\": 0.513888888888889,\n",
       "            \"title\": \"\",\n",
       "            \"len\": 0.9525371828521435,\n",
       "            \"x\": 0.9934383202099738\n",
       "        },\n",
       "        \"yaxis\": \"y2\",\n",
       "        \"x\": [\n",
       "            1.0\n",
       "        ],\n",
       "        \"showlegend\": true,\n",
       "        \"mode\": \"markers\",\n",
       "        \"name\": \"y1\",\n",
       "        \"zmin\": null,\n",
       "        \"legendgroup\": \"y1\",\n",
       "        \"marker\": {\n",
       "            \"symbol\": \"circle\",\n",
       "            \"color\": \"rgba(0, 154, 250, 1.000)\",\n",
       "            \"line\": {\n",
       "                \"color\": \"rgba(0, 0, 0, 1.000)\",\n",
       "                \"width\": 1\n",
       "            },\n",
       "            \"size\": 8\n",
       "        },\n",
       "        \"zmax\": null,\n",
       "        \"y\": [\n",
       "            2.0\n",
       "        ],\n",
       "        \"type\": \"scatter\"\n",
       "    },\n",
       "    {\n",
       "        \"xaxis\": \"x2\",\n",
       "        \"colorbar\": {\n",
       "            \"y\": 0.513888888888889,\n",
       "            \"title\": \"\",\n",
       "            \"len\": 0.9525371828521435,\n",
       "            \"x\": 0.9934383202099738\n",
       "        },\n",
       "        \"yaxis\": \"y2\",\n",
       "        \"x\": [\n",
       "            -1.0\n",
       "        ],\n",
       "        \"showlegend\": true,\n",
       "        \"mode\": \"markers\",\n",
       "        \"name\": \"y2\",\n",
       "        \"zmin\": null,\n",
       "        \"legendgroup\": \"y2\",\n",
       "        \"marker\": {\n",
       "            \"symbol\": \"circle\",\n",
       "            \"color\": \"rgba(227, 111, 71, 1.000)\",\n",
       "            \"line\": {\n",
       "                \"color\": \"rgba(0, 0, 0, 1.000)\",\n",
       "                \"width\": 1\n",
       "            },\n",
       "            \"size\": 8\n",
       "        },\n",
       "        \"zmax\": null,\n",
       "        \"y\": [\n",
       "            -2.0\n",
       "        ],\n",
       "        \"type\": \"scatter\"\n",
       "    }\n",
       "]\n",
       ", {\n",
       "    \"showlegend\": false,\n",
       "    \"paper_bgcolor\": \"rgba(255, 255, 255, 1.000)\",\n",
       "    \"xaxis1\": {\n",
       "        \"showticklabels\": true,\n",
       "        \"gridwidth\": 0.5,\n",
       "        \"tickvals\": [\n",
       "            -1.5,\n",
       "            -1.0,\n",
       "            -0.5,\n",
       "            0.0,\n",
       "            0.5,\n",
       "            1.0,\n",
       "            1.5\n",
       "        ],\n",
       "        \"range\": [\n",
       "            -1.526497359357061,\n",
       "            1.526497359357061\n",
       "        ],\n",
       "        \"domain\": [\n",
       "            0.03619130941965587,\n",
       "            0.4934383202099738\n",
       "        ],\n",
       "        \"mirror\": false,\n",
       "        \"tickangle\": 0,\n",
       "        \"showline\": false,\n",
       "        \"ticktext\": [\n",
       "            \"−1.5\",\n",
       "            \"−1.0\",\n",
       "            \"−0.5\",\n",
       "            \"0.0\",\n",
       "            \"0.5\",\n",
       "            \"1.0\",\n",
       "            \"1.5\"\n",
       "        ],\n",
       "        \"zeroline\": true,\n",
       "        \"tickfont\": {\n",
       "            \"color\": \"rgba(0, 0, 0, 1.000)\",\n",
       "            \"family\": \"sans-serif\",\n",
       "            \"size\": 11\n",
       "        },\n",
       "        \"zerolinecolor\": \"rgba(0, 0, 0, 1.000)\",\n",
       "        \"anchor\": \"y1\",\n",
       "        \"visible\": true,\n",
       "        \"ticks\": \"inside\",\n",
       "        \"tickmode\": \"array\",\n",
       "        \"linecolor\": \"rgba(0, 0, 0, 1.000)\",\n",
       "        \"showgrid\": true,\n",
       "        \"title\": \"\",\n",
       "        \"gridcolor\": \"rgba(0, 0, 0, 0.100)\",\n",
       "        \"titlefont\": {\n",
       "            \"color\": \"rgba(0, 0, 0, 1.000)\",\n",
       "            \"family\": \"sans-serif\",\n",
       "            \"size\": 15\n",
       "        },\n",
       "        \"tickcolor\": \"rgba(0, 0, 0, 0.000)\",\n",
       "        \"type\": \"-\"\n",
       "    },\n",
       "    \"height\": 400,\n",
       "    \"yaxis2\": {\n",
       "        \"showticklabels\": true,\n",
       "        \"gridwidth\": 0.5,\n",
       "        \"tickvals\": [\n",
       "            -2.0,\n",
       "            -1.0,\n",
       "            0.0,\n",
       "            1.0,\n",
       "            2.0\n",
       "        ],\n",
       "        \"range\": [\n",
       "            -2.12,\n",
       "            2.12\n",
       "        ],\n",
       "        \"domain\": [\n",
       "            0.03762029746281716,\n",
       "            0.9901574803149606\n",
       "        ],\n",
       "        \"mirror\": false,\n",
       "        \"tickangle\": 0,\n",
       "        \"showline\": false,\n",
       "        \"ticktext\": [\n",
       "            \"−2\",\n",
       "            \"−1\",\n",
       "            \"0\",\n",
       "            \"1\",\n",
       "            \"2\"\n",
       "        ],\n",
       "        \"zeroline\": true,\n",
       "        \"tickfont\": {\n",
       "            \"color\": \"rgba(0, 0, 0, 1.000)\",\n",
       "            \"family\": \"sans-serif\",\n",
       "            \"size\": 11\n",
       "        },\n",
       "        \"zerolinecolor\": \"rgba(0, 0, 0, 1.000)\",\n",
       "        \"anchor\": \"x2\",\n",
       "        \"visible\": true,\n",
       "        \"ticks\": \"inside\",\n",
       "        \"tickmode\": \"array\",\n",
       "        \"linecolor\": \"rgba(0, 0, 0, 1.000)\",\n",
       "        \"showgrid\": true,\n",
       "        \"title\": \"\",\n",
       "        \"gridcolor\": \"rgba(0, 0, 0, 0.100)\",\n",
       "        \"titlefont\": {\n",
       "            \"color\": \"rgba(0, 0, 0, 1.000)\",\n",
       "            \"family\": \"sans-serif\",\n",
       "            \"size\": 15\n",
       "        },\n",
       "        \"tickcolor\": \"rgba(0, 0, 0, 0.000)\",\n",
       "        \"type\": \"-\"\n",
       "    },\n",
       "    \"xaxis2\": {\n",
       "        \"showticklabels\": true,\n",
       "        \"gridwidth\": 0.5,\n",
       "        \"tickvals\": [\n",
       "            -1.5,\n",
       "            -1.0,\n",
       "            -0.5,\n",
       "            0.0,\n",
       "            0.5,\n",
       "            1.0,\n",
       "            1.5\n",
       "        ],\n",
       "        \"range\": [\n",
       "            -1.526497359357061,\n",
       "            1.526497359357061\n",
       "        ],\n",
       "        \"domain\": [\n",
       "            0.5361913094196559,\n",
       "            0.9934383202099738\n",
       "        ],\n",
       "        \"mirror\": false,\n",
       "        \"tickangle\": 0,\n",
       "        \"showline\": false,\n",
       "        \"ticktext\": [\n",
       "            \"−1.5\",\n",
       "            \"−1.0\",\n",
       "            \"−0.5\",\n",
       "            \"0.0\",\n",
       "            \"0.5\",\n",
       "            \"1.0\",\n",
       "            \"1.5\"\n",
       "        ],\n",
       "        \"zeroline\": true,\n",
       "        \"tickfont\": {\n",
       "            \"color\": \"rgba(0, 0, 0, 1.000)\",\n",
       "            \"family\": \"sans-serif\",\n",
       "            \"size\": 11\n",
       "        },\n",
       "        \"zerolinecolor\": \"rgba(0, 0, 0, 1.000)\",\n",
       "        \"anchor\": \"y2\",\n",
       "        \"visible\": true,\n",
       "        \"ticks\": \"inside\",\n",
       "        \"tickmode\": \"array\",\n",
       "        \"linecolor\": \"rgba(0, 0, 0, 1.000)\",\n",
       "        \"showgrid\": true,\n",
       "        \"title\": \"\",\n",
       "        \"gridcolor\": \"rgba(0, 0, 0, 0.100)\",\n",
       "        \"titlefont\": {\n",
       "            \"color\": \"rgba(0, 0, 0, 1.000)\",\n",
       "            \"family\": \"sans-serif\",\n",
       "            \"size\": 15\n",
       "        },\n",
       "        \"tickcolor\": \"rgba(0, 0, 0, 0.000)\",\n",
       "        \"type\": \"-\"\n",
       "    },\n",
       "    \"yaxis1\": {\n",
       "        \"showticklabels\": true,\n",
       "        \"gridwidth\": 0.5,\n",
       "        \"tickvals\": [\n",
       "            -2.0,\n",
       "            -1.0,\n",
       "            0.0,\n",
       "            1.0,\n",
       "            2.0\n",
       "        ],\n",
       "        \"range\": [\n",
       "            -2.12,\n",
       "            2.12\n",
       "        ],\n",
       "        \"domain\": [\n",
       "            0.03762029746281716,\n",
       "            0.9901574803149606\n",
       "        ],\n",
       "        \"mirror\": false,\n",
       "        \"tickangle\": 0,\n",
       "        \"showline\": false,\n",
       "        \"ticktext\": [\n",
       "            \"−2\",\n",
       "            \"−1\",\n",
       "            \"0\",\n",
       "            \"1\",\n",
       "            \"2\"\n",
       "        ],\n",
       "        \"zeroline\": true,\n",
       "        \"tickfont\": {\n",
       "            \"color\": \"rgba(0, 0, 0, 1.000)\",\n",
       "            \"family\": \"sans-serif\",\n",
       "            \"size\": 11\n",
       "        },\n",
       "        \"zerolinecolor\": \"rgba(0, 0, 0, 1.000)\",\n",
       "        \"anchor\": \"x1\",\n",
       "        \"visible\": true,\n",
       "        \"ticks\": \"inside\",\n",
       "        \"tickmode\": \"array\",\n",
       "        \"linecolor\": \"rgba(0, 0, 0, 1.000)\",\n",
       "        \"showgrid\": true,\n",
       "        \"title\": \"\",\n",
       "        \"gridcolor\": \"rgba(0, 0, 0, 0.100)\",\n",
       "        \"titlefont\": {\n",
       "            \"color\": \"rgba(0, 0, 0, 1.000)\",\n",
       "            \"family\": \"sans-serif\",\n",
       "            \"size\": 15\n",
       "        },\n",
       "        \"tickcolor\": \"rgba(0, 0, 0, 0.000)\",\n",
       "        \"type\": \"-\"\n",
       "    },\n",
       "    \"annotations\": [],\n",
       "    \"plot_bgcolor\": \"rgba(255, 255, 255, 1.000)\",\n",
       "    \"margin\": {\n",
       "        \"l\": 0,\n",
       "        \"b\": 20,\n",
       "        \"r\": 0,\n",
       "        \"t\": 20\n",
       "    },\n",
       "    \"width\": 600\n",
       "}\n",
       ");\n",
       "    });\n",
       "    </script>\n"
      ]
     },
     "execution_count": 231,
     "metadata": {},
     "output_type": "execute_result"
    }
   ],
   "source": [
    "x = cl.e1 + 2cl.e2 + 0cl.e3\n",
    "\n",
    "R = cl.e1 * cl.e2\n",
    "\n",
    "Rx = R*x*reverse(R)\n",
    "\n",
    "Fx  = F(x)\n",
    "RFx = R*x*reverse(R)\n",
    "\n",
    "p1 = scatter([x.e1],[x.e2])\n",
    "p1 = scatter!([Rx.e1],[Rx.e2],\n",
    "    framestyle=:zerolines,\n",
    "    legend=false,\n",
    "    aspect_ratio=1);\n",
    "\n",
    "p2 = scatter([Fx.e1],[Fx.e2])\n",
    "p2 = scatter!([RFx.e1],[RFx.e2],\n",
    "    framestyle=:zerolines,\n",
    "    legend=false,\n",
    "    aspect_ratio=1);\n",
    "\n",
    "plot(p1,p2)"
   ]
  },
  {
   "cell_type": "markdown",
   "id": "2ceed382-ec5e-4097-8e4e-6680f3b7d237",
   "metadata": {},
   "source": [
    "## 3.2 Inversion\n",
    "\n",
    "Next, suppose that we have a point $F(\\mathbf x)$. We know that we can invert $\\mathbf x$\n",
    "by \n",
    "\n",
    "$$\n",
    "\\mathbf x^{-1} = \\frac{\\mathbf x}{\\mathbf x \\mathbf x}.\n",
    "$$\n",
    "\n",
    "The way of doing this in our conformal model is by reflecting on the base vector $e$ and normalizing.\n",
    "$$\n",
    "F(\\mathbf x^{-1}) = \\frac{-\\mathbf e F(\\mathbf x) \\mathbf e}{\\mathbf x\\mathbf x}.\n",
    "$$"
   ]
  },
  {
   "cell_type": "code",
   "execution_count": 106,
   "id": "f6a6ed5e-16af-45c5-b904-15d2c4444c4a",
   "metadata": {},
   "outputs": [
    {
     "data": {
      "text/plain": [
       "true"
      ]
     },
     "execution_count": 106,
     "metadata": {},
     "output_type": "execute_result"
    }
   ],
   "source": [
    "x = cl.e1 + 2cl.e2 + 0cl.e3\n",
    "F(inv(x)) ≈ -(cl.e₊ * F(x) * cl.e₊)/(x*x)"
   ]
  },
  {
   "attachments": {
    "750d8db9-1c08-45b2-95ac-9af0566aa70c.png": {
     "image/png": "[encoded data removed]"
    }
   },
   "cell_type": "markdown",
   "id": "b66ae41d-6720-4d55-9250-47ec53ae9620",
   "metadata": {},
   "source": [
    "## 3.3 Translations\n",
    "\n",
    "Given a vector $\\mathbf x$ the translation can be computed as $\\mathbf x + \\mathbf a$. To represent this in our model,\n",
    "we want to apply it as a versor that guarantees that our objects preserve their properties. For example,\n",
    "if we want to translate a circle, we want it to preserve the radius.\n",
    "\n",
    "In the conformal model, every conformal transformation (which includes translations) can be represented as versors.\n",
    "The translation can be represented as reflecting over a plane. The problem with a single reflection is that\n",
    "it will mirror the original object. Yet, if we reflect on two planes, we get the translation without the mirroring, as shown below.\n",
    "\n",
    "![reflection.png](attachment:750d8db9-1c08-45b2-95ac-9af0566aa70c.png)"
   ]
  },
  {
   "cell_type": "markdown",
   "id": "a5ed701e-4495-46f6-a4e3-acffee397188",
   "metadata": {},
   "source": [
    "Thus, a translation will be written as a double reflection.\n",
    "\n",
    "Let $\\mathbf a$ be the translation vector, the translation rotor can be written as\n",
    "\n",
    "$$\n",
    "T_{\\mathbf a} = \\left(\n",
    "1 + \\frac{\\mathbf n_\\infty \\mathbf a}{2}\n",
    "\\right) =\\exp\\left(\n",
    "\\frac{\\mathbf n_\\infty \\mathbf a}{2}\n",
    "\\right).\n",
    "$$\n",
    "\n",
    "We then have:\n",
    "$$\n",
    "T_{\\mathbf a} F(\\mathbf x) \\tilde{T_{\\mathbf a}} = F(\\mathbf x +\\mathbf a).\n",
    "$$"
   ]
  },
  {
   "cell_type": "code",
   "execution_count": 115,
   "id": "e0fb8059-f275-43c5-9c73-8aac223206c5",
   "metadata": {},
   "outputs": [
    {
     "data": {
      "application/vnd.plotly.v1+json": {
       "data": [
        {
         "colorbar": {
          "len": 0.9525371828521435,
          "title": {
           "text": ""
          },
          "x": 0.9934383202099737,
          "y": 0.513888888888889
         },
         "legendgroup": "y1",
         "marker": {
          "color": "rgba(0, 154, 250, 1.000)",
          "line": {
           "color": "rgba(0, 0, 0, 1)",
           "width": 1
          },
          "size": 8,
          "symbol": "circle"
         },
         "mode": "markers",
         "name": "y1",
         "showlegend": true,
         "type": "scatter",
         "x": [
          1
         ],
         "xaxis": "x",
         "y": [
          2
         ],
         "yaxis": "y",
         "zmax": null,
         "zmin": null
        },
        {
         "colorbar": {
          "len": 0.9525371828521435,
          "title": {
           "text": ""
          },
          "x": 0.9934383202099737,
          "y": 0.513888888888889
         },
         "legendgroup": "y2",
         "marker": {
          "color": "rgba(227, 111, 71, 1.000)",
          "line": {
           "color": "rgba(0, 0, 0, 1)",
           "width": 1
          },
          "size": 8,
          "symbol": "circle"
         },
         "mode": "markers",
         "name": "y2",
         "showlegend": true,
         "type": "scatter",
         "x": [
          2
         ],
         "xaxis": "x",
         "y": [
          3
         ],
         "yaxis": "y",
         "zmax": null,
         "zmin": null
        },
        {
         "colorbar": {
          "len": 0.9525371828521435,
          "title": {
           "text": ""
          },
          "x": 0.9934383202099737,
          "y": 0.513888888888889
         },
         "legendgroup": "",
         "line": {
          "color": "rgba(62, 164, 78, 1.000)",
          "dash": "solid",
          "shape": "linear",
          "width": 1
         },
         "mode": "lines",
         "name": "",
         "showlegend": false,
         "type": "scatter",
         "x": [
          1,
          2
         ],
         "xaxis": "x",
         "y": [
          2,
          3
         ],
         "yaxis": "y",
         "zmax": null,
         "zmin": null
        }
       ],
       "layout": {
        "annotations": [],
        "height": 400,
        "margin": {
         "b": 20,
         "l": 0,
         "r": 0,
         "t": 20
        },
        "paper_bgcolor": "rgba(255, 255, 255, 1.000)",
        "plot_bgcolor": "rgba(255, 255, 255, 1.000)",
        "showlegend": false,
        "width": 600,
        "xaxis": {
         "anchor": "y",
         "domain": [
          0.02137649460484106,
          0.9934383202099737
         ],
         "gridcolor": "rgba(0, 0, 0, 0.1)",
         "gridwidth": 0.5,
         "linecolor": "rgba(0, 0, 0, 1)",
         "mirror": false,
         "range": [
          -1.433886567164179,
          3.433886567164179
         ],
         "showgrid": true,
         "showline": false,
         "showticklabels": true,
         "tickangle": 0,
         "tickcolor": "rgba(0, 0, 0, 0)",
         "tickfont": {
          "color": "rgba(0, 0, 0, 1)",
          "family": "sans-serif",
          "size": 11
         },
         "tickmode": "array",
         "ticks": "inside",
         "ticktext": [
          "−1",
          "0",
          "1",
          "2",
          "3"
         ],
         "tickvals": [
          -1,
          0,
          1,
          2,
          3
         ],
         "title": {
          "font": {
           "color": "rgba(0, 0, 0, 1)",
           "family": "sans-serif",
           "size": 15
          },
          "text": ""
         },
         "type": "linear",
         "visible": true,
         "zeroline": true,
         "zerolinecolor": "rgba(0, 0, 0, 1)"
        },
        "yaxis": {
         "anchor": "x",
         "domain": [
          0.03762029746281716,
          0.9901574803149606
         ],
         "gridcolor": "rgba(0, 0, 0, 0.1)",
         "gridwidth": 0.5,
         "linecolor": "rgba(0, 0, 0, 1)",
         "mirror": false,
         "range": [
          -0.09000000000000008,
          3.09
         ],
         "showgrid": true,
         "showline": false,
         "showticklabels": true,
         "tickangle": 0,
         "tickcolor": "rgba(0, 0, 0, 0)",
         "tickfont": {
          "color": "rgba(0, 0, 0, 1)",
          "family": "sans-serif",
          "size": 11
         },
         "tickmode": "array",
         "ticks": "inside",
         "ticktext": [
          "0",
          "1",
          "2",
          "3"
         ],
         "tickvals": [
          0,
          1,
          2,
          3
         ],
         "title": {
          "font": {
           "color": "rgba(0, 0, 0, 1)",
           "family": "sans-serif",
           "size": 15
          },
          "text": ""
         },
         "type": "linear",
         "visible": true,
         "zeroline": true,
         "zerolinecolor": "rgba(0, 0, 0, 1)"
        }
       }
      },
      "image/png": "[encoded data removed]",
      "text/html": [
       "    <div id=\"c293a7ed-b068-499b-9d4b-1354663f5b47\" style=\"width:600px;height:400px;\"></div>\n",
       "    <script>\n",
       "        requirejs.config({\n",
       "        paths: {\n",
       "            Plotly: 'https://cdn.plot.ly/plotly-2.6.3.min'\n",
       "        }\n",
       "    });\n",
       "    require(['Plotly'], function (Plotly) {\n",
       "\n",
       "    Plotly.newPlot('c293a7ed-b068-499b-9d4b-1354663f5b47', [\n",
       "    {\n",
       "        \"xaxis\": \"x\",\n",
       "        \"colorbar\": {\n",
       "            \"y\": 0.513888888888889,\n",
       "            \"title\": \"\",\n",
       "            \"len\": 0.9525371828521435,\n",
       "            \"x\": 0.9934383202099737\n",
       "        },\n",
       "        \"yaxis\": \"y\",\n",
       "        \"x\": [\n",
       "            1.0\n",
       "        ],\n",
       "        \"showlegend\": true,\n",
       "        \"mode\": \"markers\",\n",
       "        \"name\": \"y1\",\n",
       "        \"zmin\": null,\n",
       "        \"legendgroup\": \"y1\",\n",
       "        \"marker\": {\n",
       "            \"symbol\": \"circle\",\n",
       "            \"color\": \"rgba(0, 154, 250, 1.000)\",\n",
       "            \"line\": {\n",
       "                \"color\": \"rgba(0, 0, 0, 1.000)\",\n",
       "                \"width\": 1\n",
       "            },\n",
       "            \"size\": 8\n",
       "        },\n",
       "        \"zmax\": null,\n",
       "        \"y\": [\n",
       "            2.0\n",
       "        ],\n",
       "        \"type\": \"scatter\"\n",
       "    },\n",
       "    {\n",
       "        \"xaxis\": \"x\",\n",
       "        \"colorbar\": {\n",
       "            \"y\": 0.513888888888889,\n",
       "            \"title\": \"\",\n",
       "            \"len\": 0.9525371828521435,\n",
       "            \"x\": 0.9934383202099737\n",
       "        },\n",
       "        \"yaxis\": \"y\",\n",
       "        \"x\": [\n",
       "            2.0\n",
       "        ],\n",
       "        \"showlegend\": true,\n",
       "        \"mode\": \"markers\",\n",
       "        \"name\": \"y2\",\n",
       "        \"zmin\": null,\n",
       "        \"legendgroup\": \"y2\",\n",
       "        \"marker\": {\n",
       "            \"symbol\": \"circle\",\n",
       "            \"color\": \"rgba(227, 111, 71, 1.000)\",\n",
       "            \"line\": {\n",
       "                \"color\": \"rgba(0, 0, 0, 1.000)\",\n",
       "                \"width\": 1\n",
       "            },\n",
       "            \"size\": 8\n",
       "        },\n",
       "        \"zmax\": null,\n",
       "        \"y\": [\n",
       "            3.0\n",
       "        ],\n",
       "        \"type\": \"scatter\"\n",
       "    },\n",
       "    {\n",
       "        \"xaxis\": \"x\",\n",
       "        \"colorbar\": {\n",
       "            \"y\": 0.513888888888889,\n",
       "            \"title\": \"\",\n",
       "            \"len\": 0.9525371828521435,\n",
       "            \"x\": 0.9934383202099737\n",
       "        },\n",
       "        \"yaxis\": \"y\",\n",
       "        \"x\": [\n",
       "            1.0,\n",
       "            2.0\n",
       "        ],\n",
       "        \"showlegend\": false,\n",
       "        \"mode\": \"lines\",\n",
       "        \"name\": \"\",\n",
       "        \"zmin\": null,\n",
       "        \"legendgroup\": \"\",\n",
       "        \"zmax\": null,\n",
       "        \"line\": {\n",
       "            \"color\": \"rgba(62, 164, 78, 1.000)\",\n",
       "            \"shape\": \"linear\",\n",
       "            \"dash\": \"solid\",\n",
       "            \"width\": 1\n",
       "        },\n",
       "        \"y\": [\n",
       "            2.0,\n",
       "            3.0\n",
       "        ],\n",
       "        \"type\": \"scatter\"\n",
       "    }\n",
       "]\n",
       ", {\n",
       "    \"showlegend\": false,\n",
       "    \"xaxis\": {\n",
       "        \"showticklabels\": true,\n",
       "        \"gridwidth\": 0.5,\n",
       "        \"tickvals\": [\n",
       "            -1.0,\n",
       "            0.0,\n",
       "            1.0,\n",
       "            2.0,\n",
       "            3.0\n",
       "        ],\n",
       "        \"range\": [\n",
       "            -1.433886567164179,\n",
       "            3.433886567164179\n",
       "        ],\n",
       "        \"domain\": [\n",
       "            0.02137649460484106,\n",
       "            0.9934383202099737\n",
       "        ],\n",
       "        \"mirror\": false,\n",
       "        \"tickangle\": 0,\n",
       "        \"showline\": false,\n",
       "        \"ticktext\": [\n",
       "            \"−1\",\n",
       "            \"0\",\n",
       "            \"1\",\n",
       "            \"2\",\n",
       "            \"3\"\n",
       "        ],\n",
       "        \"zeroline\": true,\n",
       "        \"tickfont\": {\n",
       "            \"color\": \"rgba(0, 0, 0, 1.000)\",\n",
       "            \"family\": \"sans-serif\",\n",
       "            \"size\": 11\n",
       "        },\n",
       "        \"zerolinecolor\": \"rgba(0, 0, 0, 1.000)\",\n",
       "        \"anchor\": \"y\",\n",
       "        \"visible\": true,\n",
       "        \"ticks\": \"inside\",\n",
       "        \"tickmode\": \"array\",\n",
       "        \"linecolor\": \"rgba(0, 0, 0, 1.000)\",\n",
       "        \"showgrid\": true,\n",
       "        \"title\": \"\",\n",
       "        \"gridcolor\": \"rgba(0, 0, 0, 0.100)\",\n",
       "        \"titlefont\": {\n",
       "            \"color\": \"rgba(0, 0, 0, 1.000)\",\n",
       "            \"family\": \"sans-serif\",\n",
       "            \"size\": 15\n",
       "        },\n",
       "        \"tickcolor\": \"rgba(0, 0, 0, 0.000)\",\n",
       "        \"type\": \"-\"\n",
       "    },\n",
       "    \"paper_bgcolor\": \"rgba(255, 255, 255, 1.000)\",\n",
       "    \"annotations\": [],\n",
       "    \"height\": 400,\n",
       "    \"margin\": {\n",
       "        \"l\": 0,\n",
       "        \"b\": 20,\n",
       "        \"r\": 0,\n",
       "        \"t\": 20\n",
       "    },\n",
       "    \"plot_bgcolor\": \"rgba(255, 255, 255, 1.000)\",\n",
       "    \"yaxis\": {\n",
       "        \"showticklabels\": true,\n",
       "        \"gridwidth\": 0.5,\n",
       "        \"tickvals\": [\n",
       "            0.0,\n",
       "            1.0,\n",
       "            2.0,\n",
       "            3.0\n",
       "        ],\n",
       "        \"range\": [\n",
       "            -0.09000000000000008,\n",
       "            3.09\n",
       "        ],\n",
       "        \"domain\": [\n",
       "            0.03762029746281716,\n",
       "            0.9901574803149606\n",
       "        ],\n",
       "        \"mirror\": false,\n",
       "        \"tickangle\": 0,\n",
       "        \"showline\": false,\n",
       "        \"ticktext\": [\n",
       "            \"0\",\n",
       "            \"1\",\n",
       "            \"2\",\n",
       "            \"3\"\n",
       "        ],\n",
       "        \"zeroline\": true,\n",
       "        \"tickfont\": {\n",
       "            \"color\": \"rgba(0, 0, 0, 1.000)\",\n",
       "            \"family\": \"sans-serif\",\n",
       "            \"size\": 11\n",
       "        },\n",
       "        \"zerolinecolor\": \"rgba(0, 0, 0, 1.000)\",\n",
       "        \"anchor\": \"x\",\n",
       "        \"visible\": true,\n",
       "        \"ticks\": \"inside\",\n",
       "        \"tickmode\": \"array\",\n",
       "        \"linecolor\": \"rgba(0, 0, 0, 1.000)\",\n",
       "        \"showgrid\": true,\n",
       "        \"title\": \"\",\n",
       "        \"gridcolor\": \"rgba(0, 0, 0, 0.100)\",\n",
       "        \"titlefont\": {\n",
       "            \"color\": \"rgba(0, 0, 0, 1.000)\",\n",
       "            \"family\": \"sans-serif\",\n",
       "            \"size\": 15\n",
       "        },\n",
       "        \"tickcolor\": \"rgba(0, 0, 0, 0.000)\",\n",
       "        \"type\": \"-\"\n",
       "    },\n",
       "    \"width\": 600\n",
       "}\n",
       ");\n",
       "    });\n",
       "    </script>\n"
      ]
     },
     "execution_count": 115,
     "metadata": {},
     "output_type": "execute_result"
    }
   ],
   "source": [
    "x = cl.e1 + 2cl.e2 + 0cl.e3\n",
    "a = cl.e1 + cl.e2\n",
    "Ta = exp(n∞*a/2)\n",
    "\n",
    "x_t = Ta * F(x) * reverse(Ta)\n",
    "\n",
    "p1 = scatter([x.e1],[x.e2])\n",
    "p1 = scatter!([x_t.e1],[x_t.e2],\n",
    "    framestyle=:zerolines,\n",
    "    legend=false,\n",
    "    aspect_ratio=1);\n",
    "p1 = quiver!([x.e1],[x.e2],quiver=([a.e1],[a.e2]))"
   ]
  },
  {
   "cell_type": "markdown",
   "id": "cb5f8da0-dff2-4102-88e4-518a96ccdb48",
   "metadata": {},
   "source": [
    "## 3.4 Dilations"
   ]
  },
  {
   "cell_type": "code",
   "execution_count": 163,
   "id": "a133f399-9dbb-4f22-a346-9b784b85a0ca",
   "metadata": {},
   "outputs": [
    {
     "data": {
      "text/plain": [
       "+1.1276259652063807+0.5210953054937474×e₊e₋ ∈ Cl(4, 1, 0)"
      ]
     },
     "execution_count": 163,
     "metadata": {},
     "output_type": "execute_result"
    }
   ],
   "source": [
    "dx \n",
    "exp(α)*F(exp(-α)*x)\n",
    "\n",
    "exp(cl.e₊*cl.e₋/2)"
   ]
  },
  {
   "cell_type": "code",
   "execution_count": 150,
   "id": "6d4dc96d-e1ae-436b-9b25-d53e623e6b3f",
   "metadata": {},
   "outputs": [
    {
     "data": {
      "application/vnd.plotly.v1+json": {
       "data": [
        {
         "colorbar": {
          "len": 0.9525371828521435,
          "title": {
           "text": ""
          },
          "x": 0.9934383202099738,
          "y": 0.513888888888889
         },
         "legendgroup": "y1",
         "marker": {
          "color": "rgba(0, 154, 250, 1.000)",
          "line": {
           "color": "rgba(0, 0, 0, 1)",
           "width": 1
          },
          "size": 8,
          "symbol": "circle"
         },
         "mode": "markers",
         "name": "y1",
         "showlegend": true,
         "type": "scatter",
         "x": [
          1
         ],
         "xaxis": "x",
         "y": [
          1
         ],
         "yaxis": "y",
         "zmax": null,
         "zmin": null
        },
        {
         "colorbar": {
          "len": 0.9525371828521435,
          "title": {
           "text": ""
          },
          "x": 0.9934383202099738,
          "y": 0.513888888888889
         },
         "legendgroup": "y2",
         "marker": {
          "color": "rgba(227, 111, 71, 1.000)",
          "line": {
           "color": "rgba(0, 0, 0, 1)",
           "width": 1
          },
          "size": 8,
          "symbol": "circle"
         },
         "mode": "markers",
         "name": "y2",
         "showlegend": true,
         "type": "scatter",
         "x": [
          -1
         ],
         "xaxis": "x",
         "y": [
          -1
         ],
         "yaxis": "y",
         "zmax": null,
         "zmin": null
        },
        {
         "colorbar": {
          "len": 0.9525371828521435,
          "title": {
           "text": ""
          },
          "x": 0.9934383202099738,
          "y": 0.513888888888889
         },
         "legendgroup": "y3",
         "marker": {
          "color": "rgba(62, 164, 78, 1.000)",
          "line": {
           "color": "rgba(0, 0, 0, 1)",
           "width": 1
          },
          "size": 8,
          "symbol": "circle"
         },
         "mode": "markers",
         "name": "y3",
         "showlegend": true,
         "type": "scatter",
         "x": [
          1.0000000000000002
         ],
         "xaxis": "x",
         "y": [
          1.0000000000000002
         ],
         "yaxis": "y",
         "zmax": null,
         "zmin": null
        },
        {
         "colorbar": {
          "len": 0.9525371828521435,
          "title": {
           "text": ""
          },
          "x": 0.9934383202099738,
          "y": 0.513888888888889
         },
         "legendgroup": "y4",
         "marker": {
          "color": "rgba(195, 113, 210, 1.000)",
          "line": {
           "color": "rgba(0, 0, 0, 1)",
           "width": 1
          },
          "size": 8,
          "symbol": "circle"
         },
         "mode": "markers",
         "name": "y4",
         "showlegend": true,
         "type": "scatter",
         "x": [
          -1.0000000000000002
         ],
         "xaxis": "x",
         "y": [
          -1.0000000000000002
         ],
         "yaxis": "y",
         "zmax": null,
         "zmin": null
        }
       ],
       "layout": {
        "annotations": [],
        "height": 400,
        "margin": {
         "b": 20,
         "l": 0,
         "r": 0,
         "t": 20
        },
        "paper_bgcolor": "rgba(255, 255, 255, 1.000)",
        "plot_bgcolor": "rgba(255, 255, 255, 1.000)",
        "showlegend": false,
        "width": 600,
        "xaxis": {
         "anchor": "y",
         "domain": [
          0.0658209390492855,
          0.9934383202099738
         ],
         "gridcolor": "rgba(0, 0, 0, 0.1)",
         "gridwidth": 0.5,
         "linecolor": "rgba(0, 0, 0, 1)",
         "mirror": false,
         "range": [
          -1.5484032146957527,
          1.5484032146957527
         ],
         "showgrid": true,
         "showline": true,
         "showticklabels": true,
         "tickangle": 0,
         "tickcolor": "rgb(0, 0, 0)",
         "tickfont": {
          "color": "rgba(0, 0, 0, 1)",
          "family": "sans-serif",
          "size": 11
         },
         "tickmode": "array",
         "ticks": "inside",
         "ticktext": [
          "−1.5",
          "−1.0",
          "−0.5",
          "0.0",
          "0.5",
          "1.0",
          "1.5"
         ],
         "tickvals": [
          -1.5,
          -1,
          -0.5,
          0,
          0.5,
          1,
          1.5
         ],
         "title": {
          "font": {
           "color": "rgba(0, 0, 0, 1)",
           "family": "sans-serif",
           "size": 15
          },
          "text": ""
         },
         "type": "linear",
         "visible": true,
         "zeroline": false,
         "zerolinecolor": "rgba(0, 0, 0, 1)"
        },
        "yaxis": {
         "anchor": "x",
         "domain": [
          0.03762029746281716,
          0.9901574803149606
         ],
         "gridcolor": "rgba(0, 0, 0, 0.1)",
         "gridwidth": 0.5,
         "linecolor": "rgba(0, 0, 0, 1)",
         "mirror": false,
         "range": [
          -1.0600000000000003,
          1.0600000000000003
         ],
         "showgrid": true,
         "showline": true,
         "showticklabels": true,
         "tickangle": 0,
         "tickcolor": "rgb(0, 0, 0)",
         "tickfont": {
          "color": "rgba(0, 0, 0, 1)",
          "family": "sans-serif",
          "size": 11
         },
         "tickmode": "array",
         "ticks": "inside",
         "ticktext": [
          "−1.0",
          "−0.5",
          "0.0",
          "0.5",
          "1.0"
         ],
         "tickvals": [
          -1,
          -0.5,
          0,
          0.5,
          1
         ],
         "title": {
          "font": {
           "color": "rgba(0, 0, 0, 1)",
           "family": "sans-serif",
           "size": 15
          },
          "text": ""
         },
         "type": "linear",
         "visible": true,
         "zeroline": false,
         "zerolinecolor": "rgba(0, 0, 0, 1)"
        }
       }
      },
      "image/png": "[encoded data removed]",
      "text/html": [
       "    <div id=\"e81e5641-a07e-4c32-9496-216746de49d2\" style=\"width:600px;height:400px;\"></div>\n",
       "    <script>\n",
       "        requirejs.config({\n",
       "        paths: {\n",
       "            Plotly: 'https://cdn.plot.ly/plotly-2.6.3.min'\n",
       "        }\n",
       "    });\n",
       "    require(['Plotly'], function (Plotly) {\n",
       "\n",
       "    Plotly.newPlot('e81e5641-a07e-4c32-9496-216746de49d2', [\n",
       "    {\n",
       "        \"xaxis\": \"x\",\n",
       "        \"colorbar\": {\n",
       "            \"y\": 0.513888888888889,\n",
       "            \"title\": \"\",\n",
       "            \"len\": 0.9525371828521435,\n",
       "            \"x\": 0.9934383202099738\n",
       "        },\n",
       "        \"yaxis\": \"y\",\n",
       "        \"x\": [\n",
       "            1.0\n",
       "        ],\n",
       "        \"showlegend\": true,\n",
       "        \"mode\": \"markers\",\n",
       "        \"name\": \"y1\",\n",
       "        \"zmin\": null,\n",
       "        \"legendgroup\": \"y1\",\n",
       "        \"marker\": {\n",
       "            \"symbol\": \"circle\",\n",
       "            \"color\": \"rgba(0, 154, 250, 1.000)\",\n",
       "            \"line\": {\n",
       "                \"color\": \"rgba(0, 0, 0, 1.000)\",\n",
       "                \"width\": 1\n",
       "            },\n",
       "            \"size\": 8\n",
       "        },\n",
       "        \"zmax\": null,\n",
       "        \"y\": [\n",
       "            1.0\n",
       "        ],\n",
       "        \"type\": \"scatter\"\n",
       "    },\n",
       "    {\n",
       "        \"xaxis\": \"x\",\n",
       "        \"colorbar\": {\n",
       "            \"y\": 0.513888888888889,\n",
       "            \"title\": \"\",\n",
       "            \"len\": 0.9525371828521435,\n",
       "            \"x\": 0.9934383202099738\n",
       "        },\n",
       "        \"yaxis\": \"y\",\n",
       "        \"x\": [\n",
       "            -1.0\n",
       "        ],\n",
       "        \"showlegend\": true,\n",
       "        \"mode\": \"markers\",\n",
       "        \"name\": \"y2\",\n",
       "        \"zmin\": null,\n",
       "        \"legendgroup\": \"y2\",\n",
       "        \"marker\": {\n",
       "            \"symbol\": \"circle\",\n",
       "            \"color\": \"rgba(227, 111, 71, 1.000)\",\n",
       "            \"line\": {\n",
       "                \"color\": \"rgba(0, 0, 0, 1.000)\",\n",
       "                \"width\": 1\n",
       "            },\n",
       "            \"size\": 8\n",
       "        },\n",
       "        \"zmax\": null,\n",
       "        \"y\": [\n",
       "            -1.0\n",
       "        ],\n",
       "        \"type\": \"scatter\"\n",
       "    },\n",
       "    {\n",
       "        \"xaxis\": \"x\",\n",
       "        \"colorbar\": {\n",
       "            \"y\": 0.513888888888889,\n",
       "            \"title\": \"\",\n",
       "            \"len\": 0.9525371828521435,\n",
       "            \"x\": 0.9934383202099738\n",
       "        },\n",
       "        \"yaxis\": \"y\",\n",
       "        \"x\": [\n",
       "            1.0000000000000002\n",
       "        ],\n",
       "        \"showlegend\": true,\n",
       "        \"mode\": \"markers\",\n",
       "        \"name\": \"y3\",\n",
       "        \"zmin\": null,\n",
       "        \"legendgroup\": \"y3\",\n",
       "        \"marker\": {\n",
       "            \"symbol\": \"circle\",\n",
       "            \"color\": \"rgba(62, 164, 78, 1.000)\",\n",
       "            \"line\": {\n",
       "                \"color\": \"rgba(0, 0, 0, 1.000)\",\n",
       "                \"width\": 1\n",
       "            },\n",
       "            \"size\": 8\n",
       "        },\n",
       "        \"zmax\": null,\n",
       "        \"y\": [\n",
       "            1.0000000000000002\n",
       "        ],\n",
       "        \"type\": \"scatter\"\n",
       "    },\n",
       "    {\n",
       "        \"xaxis\": \"x\",\n",
       "        \"colorbar\": {\n",
       "            \"y\": 0.513888888888889,\n",
       "            \"title\": \"\",\n",
       "            \"len\": 0.9525371828521435,\n",
       "            \"x\": 0.9934383202099738\n",
       "        },\n",
       "        \"yaxis\": \"y\",\n",
       "        \"x\": [\n",
       "            -1.0000000000000002\n",
       "        ],\n",
       "        \"showlegend\": true,\n",
       "        \"mode\": \"markers\",\n",
       "        \"name\": \"y4\",\n",
       "        \"zmin\": null,\n",
       "        \"legendgroup\": \"y4\",\n",
       "        \"marker\": {\n",
       "            \"symbol\": \"circle\",\n",
       "            \"color\": \"rgba(195, 113, 210, 1.000)\",\n",
       "            \"line\": {\n",
       "                \"color\": \"rgba(0, 0, 0, 1.000)\",\n",
       "                \"width\": 1\n",
       "            },\n",
       "            \"size\": 8\n",
       "        },\n",
       "        \"zmax\": null,\n",
       "        \"y\": [\n",
       "            -1.0000000000000002\n",
       "        ],\n",
       "        \"type\": \"scatter\"\n",
       "    }\n",
       "]\n",
       ", {\n",
       "    \"showlegend\": false,\n",
       "    \"xaxis\": {\n",
       "        \"showticklabels\": true,\n",
       "        \"gridwidth\": 0.5,\n",
       "        \"tickvals\": [\n",
       "            -1.5,\n",
       "            -1.0,\n",
       "            -0.5,\n",
       "            0.0,\n",
       "            0.5,\n",
       "            1.0,\n",
       "            1.5\n",
       "        ],\n",
       "        \"range\": [\n",
       "            -1.5484032146957527,\n",
       "            1.5484032146957527\n",
       "        ],\n",
       "        \"domain\": [\n",
       "            0.0658209390492855,\n",
       "            0.9934383202099738\n",
       "        ],\n",
       "        \"mirror\": false,\n",
       "        \"tickangle\": 0,\n",
       "        \"showline\": true,\n",
       "        \"ticktext\": [\n",
       "            \"−1.5\",\n",
       "            \"−1.0\",\n",
       "            \"−0.5\",\n",
       "            \"0.0\",\n",
       "            \"0.5\",\n",
       "            \"1.0\",\n",
       "            \"1.5\"\n",
       "        ],\n",
       "        \"zeroline\": false,\n",
       "        \"tickfont\": {\n",
       "            \"color\": \"rgba(0, 0, 0, 1.000)\",\n",
       "            \"family\": \"sans-serif\",\n",
       "            \"size\": 11\n",
       "        },\n",
       "        \"zerolinecolor\": \"rgba(0, 0, 0, 1.000)\",\n",
       "        \"anchor\": \"y\",\n",
       "        \"visible\": true,\n",
       "        \"ticks\": \"inside\",\n",
       "        \"tickmode\": \"array\",\n",
       "        \"linecolor\": \"rgba(0, 0, 0, 1.000)\",\n",
       "        \"showgrid\": true,\n",
       "        \"title\": \"\",\n",
       "        \"gridcolor\": \"rgba(0, 0, 0, 0.100)\",\n",
       "        \"titlefont\": {\n",
       "            \"color\": \"rgba(0, 0, 0, 1.000)\",\n",
       "            \"family\": \"sans-serif\",\n",
       "            \"size\": 15\n",
       "        },\n",
       "        \"tickcolor\": \"rgb(0, 0, 0)\",\n",
       "        \"type\": \"-\"\n",
       "    },\n",
       "    \"paper_bgcolor\": \"rgba(255, 255, 255, 1.000)\",\n",
       "    \"annotations\": [],\n",
       "    \"height\": 400,\n",
       "    \"margin\": {\n",
       "        \"l\": 0,\n",
       "        \"b\": 20,\n",
       "        \"r\": 0,\n",
       "        \"t\": 20\n",
       "    },\n",
       "    \"plot_bgcolor\": \"rgba(255, 255, 255, 1.000)\",\n",
       "    \"yaxis\": {\n",
       "        \"showticklabels\": true,\n",
       "        \"gridwidth\": 0.5,\n",
       "        \"tickvals\": [\n",
       "            -1.0,\n",
       "            -0.5,\n",
       "            0.0,\n",
       "            0.5,\n",
       "            1.0\n",
       "        ],\n",
       "        \"range\": [\n",
       "            -1.0600000000000003,\n",
       "            1.0600000000000003\n",
       "        ],\n",
       "        \"domain\": [\n",
       "            0.03762029746281716,\n",
       "            0.9901574803149606\n",
       "        ],\n",
       "        \"mirror\": false,\n",
       "        \"tickangle\": 0,\n",
       "        \"showline\": true,\n",
       "        \"ticktext\": [\n",
       "            \"−1.0\",\n",
       "            \"−0.5\",\n",
       "            \"0.0\",\n",
       "            \"0.5\",\n",
       "            \"1.0\"\n",
       "        ],\n",
       "        \"zeroline\": false,\n",
       "        \"tickfont\": {\n",
       "            \"color\": \"rgba(0, 0, 0, 1.000)\",\n",
       "            \"family\": \"sans-serif\",\n",
       "            \"size\": 11\n",
       "        },\n",
       "        \"zerolinecolor\": \"rgba(0, 0, 0, 1.000)\",\n",
       "        \"anchor\": \"x\",\n",
       "        \"visible\": true,\n",
       "        \"ticks\": \"inside\",\n",
       "        \"tickmode\": \"array\",\n",
       "        \"linecolor\": \"rgba(0, 0, 0, 1.000)\",\n",
       "        \"showgrid\": true,\n",
       "        \"title\": \"\",\n",
       "        \"gridcolor\": \"rgba(0, 0, 0, 0.100)\",\n",
       "        \"titlefont\": {\n",
       "            \"color\": \"rgba(0, 0, 0, 1.000)\",\n",
       "            \"family\": \"sans-serif\",\n",
       "            \"size\": 15\n",
       "        },\n",
       "        \"tickcolor\": \"rgb(0, 0, 0)\",\n",
       "        \"type\": \"-\"\n",
       "    },\n",
       "    \"width\": 600\n",
       "}\n",
       ");\n",
       "    });\n",
       "    </script>\n"
      ]
     },
     "execution_count": 150,
     "metadata": {},
     "output_type": "execute_result"
    }
   ],
   "source": [
    "D(α) = exp(α*cl.e₊*cl.e₋/2)\n",
    "x = cl.e1 + cl.e2\n",
    "y = -cl.e1 - cl.e2\n",
    "α = 2\n",
    "dx = D(α)*F(x)*reverse(D(α))\n",
    "dy = D(α)*F(y)*reverse(D(α))\n",
    "\n",
    "p1 = scatter([x.e1],[x.e2])\n",
    "p1 = scatter!([y.e1],[y.e2],legend=false, aspect_ratio=1)\n",
    "p1 = scatter!([dx.e1],[dx.e2])\n",
    "p1 = scatter!([dy.e1],[dy.e2])"
   ]
  },
  {
   "cell_type": "code",
   "execution_count": null,
   "id": "027d50b8-df6e-478f-a4b1-f973d1ac1a86",
   "metadata": {},
   "outputs": [],
   "source": []
  }
 ],
 "metadata": {
  "kernelspec": {
   "display_name": "Julia 1.8.2",
   "language": "julia",
   "name": "julia-1.8"
  },
  "language_info": {
   "file_extension": ".jl",
   "mimetype": "application/julia",
   "name": "julia",
   "version": "1.8.2"
  }
 },
 "nbformat": 4,
 "nbformat_minor": 5
}
