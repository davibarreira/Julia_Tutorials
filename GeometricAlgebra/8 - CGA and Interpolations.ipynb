{
 "cells": [
  {
   "cell_type": "markdown",
   "id": "4ce078c8-1100-4e48-97c3-e7f93f707031",
   "metadata": {},
   "source": [
    "# **CGA and Interpolations**\n",
    "\n",
    "This section is based on the article \"Direct Linear Interpolation of Geometric Objects in Conformal Geometric Algebra\" by Hadfield and Lasenby."
   ]
  },
  {
   "cell_type": "code",
   "execution_count": 1,
   "id": "b8ac12fa-2f1e-4188-956a-b7abb6f04e73",
   "metadata": {},
   "outputs": [
    {
     "name": "stderr",
     "output_type": "stream",
     "text": [
      "\u001b[32m\u001b[1m  Activating\u001b[22m\u001b[39m project at `~/MEGA/EMAP/Julia_Tutorials/GeometricAlgebra`\n"
     ]
    }
   ],
   "source": [
    "using Pkg\n",
    "Pkg.activate(\".\")\n",
    "using CliffordAlgebras\n",
    "import CliffordAlgebras: basegrade\n",
    "using LinearAlgebra: norm, normalize, dot\n",
    "using LaTeXStrings\n",
    "\n",
    "using Plots\n",
    "include(\"./auxiliary.jl\")\n",
    "plotly();"
   ]
  },
  {
   "cell_type": "markdown",
   "id": "ac6944f5-18b0-451b-b0b2-42fae5603d6c",
   "metadata": {},
   "source": [
    "## 1. Interpolating Points\n",
    "\n",
    "From a vector $\\mathbf v$, recall that we can contruct a point in the CGA model as\n",
    "\n",
    "$$\n",
    "F(\\mathbf v) = n_o + \\mathbf v  + \\frac{1}{2}(\\mathbf v \\cdot \\mathbf v) n_\\infty.\n",
    "$$\n",
    "\n",
    "Given two point $a$ and $b$, we might wish to interpolate them. This could be done using\n",
    "$$\n",
    "F(\\lambda \\mathbf a + (1-\\lambda) \\mathbf b),\n",
    "$$\n",
    "where $\\mathbf a$ and $\\mathbf b$ are the Euclidean coordinates of the points.\n",
    "\n",
    "As pointed out by Hadfield and Lasenby\n",
    "\n",
    "$$\n",
    "F(\\lambda \\mathbf a + (1-\\lambda) \\mathbf b) = \\lambda a + (1-\\lambda) b + \\lambda(1-\\lambda) (a \\cdot b) n_\\infty.\n",
    "$$\n",
    "\n",
    "This formula shows us that if we have two points in CGA and want to interpolate them we can just\n",
    "interpolate them and add the extra $\\lambda(1-\\lambda) (a \\cdot b) n_\\infty$. This would give\n",
    "us the interpolated point in CGA."
   ]
  },
  {
   "cell_type": "markdown",
   "id": "af6a5873-5b84-464c-870a-160253d0a1b9",
   "metadata": {},
   "source": [
    "The \"inverse\" problem also has a solution, i.e. given the interpolation $c' = \\lambda a + (1- \\lambda)b)$, we want to \n",
    "obtain $c = F(\\lambda \\mathbf a + (1-\\lambda) \\mathbf b)$. Note that $c'$ is not a point in CGA, but $c$ is. Hence, we were\n",
    "given only the interpolation $c'$ and want to figure out $c$ without knowing who $a$ and $b$ are. We can solve this using:\n",
    "\n",
    "$$\n",
    "c = \\frac{- c' n_\\infty  c'}{2(c' \\cdot n_\\infty)^2}\n",
    "$$"
   ]
  },
  {
   "cell_type": "code",
   "execution_count": 2,
   "id": "ea7218cc-7a13-4b92-b749-edd621864ad2",
   "metadata": {},
   "outputs": [
    {
     "data": {
      "text/plain": [
       "point (generic function with 4 methods)"
      ]
     },
     "execution_count": 2,
     "metadata": {},
     "output_type": "execute_result"
    }
   ],
   "source": [
    "cl = CliffordAlgebra(:CGA3D)\n",
    "\n",
    "no  = (cl.e₊ + cl.e₋)/2\n",
    "n∞  = cl.e₋ - cl.e₊\n",
    "\n",
    "F(x) = no + x + (x ⋅ x) * n∞ /2\n",
    "point(x=0,y=0,z=0)  = no + x*cl.e1 + y*cl.e2 + z*cl.e3 + (x^2 + y^2 + z^2) * n∞/2"
   ]
  },
  {
   "cell_type": "code",
   "execution_count": 3,
   "id": "08e460a6-e100-48bb-a9a4-9cb1e14e6110",
   "metadata": {},
   "outputs": [
    {
     "data": {
      "application/vnd.plotly.v1+json": {
       "data": [
        {
         "colorbar": {
          "len": 0.9525371828521435,
          "title": {
           "text": ""
          },
          "x": 0.9934383202099737,
          "y": 0.513888888888889
         },
         "legendgroup": "a",
         "marker": {
          "color": "rgba(0, 154, 250, 1.000)",
          "line": {
           "color": "rgba(0, 0, 0, 1)",
           "width": 1
          },
          "size": 8,
          "symbol": "circle"
         },
         "mode": "markers",
         "name": "a",
         "showlegend": true,
         "type": "scatter",
         "x": [
          0
         ],
         "xaxis": "x",
         "y": [
          2
         ],
         "yaxis": "y",
         "zmax": null,
         "zmin": null
        },
        {
         "colorbar": {
          "len": 0.9525371828521435,
          "title": {
           "text": ""
          },
          "x": 0.9934383202099737,
          "y": 0.513888888888889
         },
         "legendgroup": "b",
         "marker": {
          "color": "rgba(227, 111, 71, 1.000)",
          "line": {
           "color": "rgba(0, 0, 0, 1)",
           "width": 1
          },
          "size": 8,
          "symbol": "circle"
         },
         "mode": "markers",
         "name": "b",
         "showlegend": true,
         "type": "scatter",
         "x": [
          2
         ],
         "xaxis": "x",
         "y": [
          4
         ],
         "yaxis": "y",
         "zmax": null,
         "zmin": null
        },
        {
         "colorbar": {
          "len": 0.9525371828521435,
          "title": {
           "text": ""
          },
          "x": 0.9934383202099737,
          "y": 0.513888888888889
         },
         "legendgroup": "λa + (1-λ)b",
         "marker": {
          "color": "rgba(62, 164, 78, 1.000)",
          "line": {
           "color": "rgba(0, 0, 0, 1)",
           "width": 1
          },
          "size": 8,
          "symbol": "circle"
         },
         "mode": "markers",
         "name": "λa + (1-λ)b",
         "showlegend": true,
         "type": "scatter",
         "x": [
          0.19999999999999996
         ],
         "xaxis": "x",
         "y": [
          2.2
         ],
         "yaxis": "y",
         "zmax": null,
         "zmin": null
        }
       ],
       "layout": {
        "annotations": [],
        "height": 400,
        "legend": {
         "bgcolor": "rgba(255, 255, 255, 1.000)",
         "bordercolor": "rgba(0, 0, 0, 1)",
         "borderwidth": 1,
         "font": {
          "color": "rgba(0, 0, 0, 1)",
          "family": "sans-serif",
          "size": 11
         },
         "title": {
          "font": {
           "color": "rgba(0, 0, 0, 1)",
           "family": "sans-serif",
           "size": 15
          },
          "text": ""
         },
         "tracegroupgap": 0,
         "traceorder": "normal",
         "x": 1,
         "xanchor": "auto",
         "y": 1,
         "yanchor": "auto"
        },
        "margin": {
         "b": 20,
         "l": 0,
         "r": 0,
         "t": 20
        },
        "paper_bgcolor": "rgba(255, 255, 255, 1.000)",
        "plot_bgcolor": "rgba(255, 255, 255, 1.000)",
        "showlegend": true,
        "width": 600,
        "xaxis": {
         "anchor": "y",
         "domain": [
          0.036191309419655926,
          0.9934383202099737
         ],
         "gridcolor": "rgba(0, 0, 0, 0.1)",
         "gridwidth": 0.5,
         "linecolor": "rgba(0, 0, 0, 1)",
         "mirror": false,
         "range": [
          -3.5222502870264067,
          5.522250287026407
         ],
         "showgrid": true,
         "showline": true,
         "showticklabels": true,
         "tickangle": 0,
         "tickcolor": "rgb(0, 0, 0)",
         "tickfont": {
          "color": "rgba(0, 0, 0, 1)",
          "family": "sans-serif",
          "size": 11
         },
         "tickmode": "array",
         "ticks": "inside",
         "ticktext": [
          "−2",
          "0",
          "2",
          "4"
         ],
         "tickvals": [
          -2,
          0,
          2,
          4
         ],
         "title": {
          "font": {
           "color": "rgba(0, 0, 0, 1)",
           "family": "sans-serif",
           "size": 15
          },
          "text": ""
         },
         "type": "linear",
         "visible": true,
         "zeroline": false,
         "zerolinecolor": "rgba(0, 0, 0, 1)"
        },
        "yaxis": {
         "anchor": "x",
         "domain": [
          0.03762029746281716,
          0.9901574803149606
         ],
         "gridcolor": "rgba(0, 0, 0, 0.1)",
         "gridwidth": 0.5,
         "linecolor": "rgba(0, 0, 0, 1)",
         "mirror": false,
         "range": [
          -1,
          5
         ],
         "showgrid": true,
         "showline": true,
         "showticklabels": true,
         "tickangle": 0,
         "tickcolor": "rgb(0, 0, 0)",
         "tickfont": {
          "color": "rgba(0, 0, 0, 1)",
          "family": "sans-serif",
          "size": 11
         },
         "tickmode": "array",
         "ticks": "inside",
         "ticktext": [
          "−1",
          "0",
          "1",
          "2",
          "3",
          "4",
          "5"
         ],
         "tickvals": [
          -1,
          0,
          1,
          2,
          3,
          4,
          5
         ],
         "title": {
          "font": {
           "color": "rgba(0, 0, 0, 1)",
           "family": "sans-serif",
           "size": 15
          },
          "text": ""
         },
         "type": "linear",
         "visible": true,
         "zeroline": false,
         "zerolinecolor": "rgba(0, 0, 0, 1)"
        }
       }
      },
      "image/png": "[encoded data removed]",
      "text/html": [
       "    <div id=\"0ea111bf-3946-4f29-8e92-f2ba8faf6dc9\" style=\"width:600px;height:400px;\"></div>\n",
       "    <script>\n",
       "        requirejs.config({\n",
       "        paths: {\n",
       "            Plotly: 'https://cdn.plot.ly/plotly-2.6.3.min'\n",
       "        }\n",
       "    });\n",
       "    require(['Plotly'], function (Plotly) {\n",
       "\n",
       "    Plotly.newPlot('0ea111bf-3946-4f29-8e92-f2ba8faf6dc9', [\n",
       "    {\n",
       "        \"showlegend\": true,\n",
       "        \"mode\": \"markers\",\n",
       "        \"xaxis\": \"x\",\n",
       "        \"colorbar\": {\n",
       "            \"y\": 0.513888888888889,\n",
       "            \"title\": \"\",\n",
       "            \"len\": 0.9525371828521435,\n",
       "            \"x\": 0.9934383202099737\n",
       "        },\n",
       "        \"name\": \"a\",\n",
       "        \"zmin\": null,\n",
       "        \"yaxis\": \"y\",\n",
       "        \"legendgroup\": \"a\",\n",
       "        \"marker\": {\n",
       "            \"symbol\": \"circle\",\n",
       "            \"color\": \"rgba(0, 154, 250, 1.000)\",\n",
       "            \"line\": {\n",
       "                \"color\": \"rgba(0, 0, 0, 1.000)\",\n",
       "                \"width\": 1\n",
       "            },\n",
       "            \"size\": 8\n",
       "        },\n",
       "        \"zmax\": null,\n",
       "        \"y\": [\n",
       "            2.0\n",
       "        ],\n",
       "        \"type\": \"scatter\",\n",
       "        \"x\": [\n",
       "            0.0\n",
       "        ]\n",
       "    },\n",
       "    {\n",
       "        \"showlegend\": true,\n",
       "        \"mode\": \"markers\",\n",
       "        \"xaxis\": \"x\",\n",
       "        \"colorbar\": {\n",
       "            \"y\": 0.513888888888889,\n",
       "            \"title\": \"\",\n",
       "            \"len\": 0.9525371828521435,\n",
       "            \"x\": 0.9934383202099737\n",
       "        },\n",
       "        \"name\": \"b\",\n",
       "        \"zmin\": null,\n",
       "        \"yaxis\": \"y\",\n",
       "        \"legendgroup\": \"b\",\n",
       "        \"marker\": {\n",
       "            \"symbol\": \"circle\",\n",
       "            \"color\": \"rgba(227, 111, 71, 1.000)\",\n",
       "            \"line\": {\n",
       "                \"color\": \"rgba(0, 0, 0, 1.000)\",\n",
       "                \"width\": 1\n",
       "            },\n",
       "            \"size\": 8\n",
       "        },\n",
       "        \"zmax\": null,\n",
       "        \"y\": [\n",
       "            4.0\n",
       "        ],\n",
       "        \"type\": \"scatter\",\n",
       "        \"x\": [\n",
       "            2.0\n",
       "        ]\n",
       "    },\n",
       "    {\n",
       "        \"showlegend\": true,\n",
       "        \"mode\": \"markers\",\n",
       "        \"xaxis\": \"x\",\n",
       "        \"colorbar\": {\n",
       "            \"y\": 0.513888888888889,\n",
       "            \"title\": \"\",\n",
       "            \"len\": 0.9525371828521435,\n",
       "            \"x\": 0.9934383202099737\n",
       "        },\n",
       "        \"name\": \"λa + (1-λ)b\",\n",
       "        \"zmin\": null,\n",
       "        \"yaxis\": \"y\",\n",
       "        \"legendgroup\": \"λa + (1-λ)b\",\n",
       "        \"marker\": {\n",
       "            \"symbol\": \"circle\",\n",
       "            \"color\": \"rgba(62, 164, 78, 1.000)\",\n",
       "            \"line\": {\n",
       "                \"color\": \"rgba(0, 0, 0, 1.000)\",\n",
       "                \"width\": 1\n",
       "            },\n",
       "            \"size\": 8\n",
       "        },\n",
       "        \"zmax\": null,\n",
       "        \"y\": [\n",
       "            2.2\n",
       "        ],\n",
       "        \"type\": \"scatter\",\n",
       "        \"x\": [\n",
       "            0.19999999999999996\n",
       "        ]\n",
       "    }\n",
       "]\n",
       ", {\n",
       "    \"showlegend\": true,\n",
       "    \"xaxis\": {\n",
       "        \"showticklabels\": true,\n",
       "        \"gridwidth\": 0.5,\n",
       "        \"tickvals\": [\n",
       "            -2.0,\n",
       "            0.0,\n",
       "            2.0,\n",
       "            4.0\n",
       "        ],\n",
       "        \"range\": [\n",
       "            -3.5222502870264067,\n",
       "            5.522250287026407\n",
       "        ],\n",
       "        \"domain\": [\n",
       "            0.036191309419655926,\n",
       "            0.9934383202099737\n",
       "        ],\n",
       "        \"mirror\": false,\n",
       "        \"tickangle\": 0,\n",
       "        \"showline\": true,\n",
       "        \"ticktext\": [\n",
       "            \"−2\",\n",
       "            \"0\",\n",
       "            \"2\",\n",
       "            \"4\"\n",
       "        ],\n",
       "        \"zeroline\": false,\n",
       "        \"tickfont\": {\n",
       "            \"color\": \"rgba(0, 0, 0, 1.000)\",\n",
       "            \"family\": \"sans-serif\",\n",
       "            \"size\": 11\n",
       "        },\n",
       "        \"zerolinecolor\": \"rgba(0, 0, 0, 1.000)\",\n",
       "        \"anchor\": \"y\",\n",
       "        \"visible\": true,\n",
       "        \"ticks\": \"inside\",\n",
       "        \"tickmode\": \"array\",\n",
       "        \"linecolor\": \"rgba(0, 0, 0, 1.000)\",\n",
       "        \"showgrid\": true,\n",
       "        \"title\": \"\",\n",
       "        \"gridcolor\": \"rgba(0, 0, 0, 0.100)\",\n",
       "        \"titlefont\": {\n",
       "            \"color\": \"rgba(0, 0, 0, 1.000)\",\n",
       "            \"family\": \"sans-serif\",\n",
       "            \"size\": 15\n",
       "        },\n",
       "        \"tickcolor\": \"rgb(0, 0, 0)\",\n",
       "        \"type\": \"-\"\n",
       "    },\n",
       "    \"paper_bgcolor\": \"rgba(255, 255, 255, 1.000)\",\n",
       "    \"annotations\": [],\n",
       "    \"height\": 400,\n",
       "    \"margin\": {\n",
       "        \"l\": 0,\n",
       "        \"b\": 20,\n",
       "        \"r\": 0,\n",
       "        \"t\": 20\n",
       "    },\n",
       "    \"plot_bgcolor\": \"rgba(255, 255, 255, 1.000)\",\n",
       "    \"yaxis\": {\n",
       "        \"showticklabels\": true,\n",
       "        \"gridwidth\": 0.5,\n",
       "        \"tickvals\": [\n",
       "            -1.0,\n",
       "            0.0,\n",
       "            1.0,\n",
       "            2.0,\n",
       "            3.0,\n",
       "            4.0,\n",
       "            5.0\n",
       "        ],\n",
       "        \"range\": [\n",
       "            -1.0,\n",
       "            5.0\n",
       "        ],\n",
       "        \"domain\": [\n",
       "            0.03762029746281716,\n",
       "            0.9901574803149606\n",
       "        ],\n",
       "        \"mirror\": false,\n",
       "        \"tickangle\": 0,\n",
       "        \"showline\": true,\n",
       "        \"ticktext\": [\n",
       "            \"−1\",\n",
       "            \"0\",\n",
       "            \"1\",\n",
       "            \"2\",\n",
       "            \"3\",\n",
       "            \"4\",\n",
       "            \"5\"\n",
       "        ],\n",
       "        \"zeroline\": false,\n",
       "        \"tickfont\": {\n",
       "            \"color\": \"rgba(0, 0, 0, 1.000)\",\n",
       "            \"family\": \"sans-serif\",\n",
       "            \"size\": 11\n",
       "        },\n",
       "        \"zerolinecolor\": \"rgba(0, 0, 0, 1.000)\",\n",
       "        \"anchor\": \"x\",\n",
       "        \"visible\": true,\n",
       "        \"ticks\": \"inside\",\n",
       "        \"tickmode\": \"array\",\n",
       "        \"linecolor\": \"rgba(0, 0, 0, 1.000)\",\n",
       "        \"showgrid\": true,\n",
       "        \"title\": \"\",\n",
       "        \"gridcolor\": \"rgba(0, 0, 0, 0.100)\",\n",
       "        \"titlefont\": {\n",
       "            \"color\": \"rgba(0, 0, 0, 1.000)\",\n",
       "            \"family\": \"sans-serif\",\n",
       "            \"size\": 15\n",
       "        },\n",
       "        \"tickcolor\": \"rgb(0, 0, 0)\",\n",
       "        \"type\": \"-\"\n",
       "    },\n",
       "    \"legend\": {\n",
       "        \"yanchor\": \"auto\",\n",
       "        \"xanchor\": \"auto\",\n",
       "        \"bordercolor\": \"rgba(0, 0, 0, 1.000)\",\n",
       "        \"bgcolor\": \"rgba(255, 255, 255, 1.000)\",\n",
       "        \"borderwidth\": 1,\n",
       "        \"tracegroupgap\": 0,\n",
       "        \"y\": 1.0,\n",
       "        \"font\": {\n",
       "            \"color\": \"rgba(0, 0, 0, 1.000)\",\n",
       "            \"family\": \"sans-serif\",\n",
       "            \"size\": 11\n",
       "        },\n",
       "        \"title\": {\n",
       "            \"font\": {\n",
       "                \"color\": \"rgba(0, 0, 0, 1.000)\",\n",
       "                \"family\": \"sans-serif\",\n",
       "                \"size\": 15\n",
       "            },\n",
       "            \"text\": \"\"\n",
       "        },\n",
       "        \"traceorder\": \"normal\",\n",
       "        \"x\": 1.0\n",
       "    },\n",
       "    \"width\": 600\n",
       "}\n",
       ");\n",
       "    });\n",
       "    </script>\n"
      ]
     },
     "execution_count": 3,
     "metadata": {},
     "output_type": "execute_result"
    }
   ],
   "source": [
    "a = point(0,2,0)\n",
    "b = point(2,4,0)\n",
    "λ = 0.9\n",
    "c = λ*a + (1-λ)*b + λ*(1-λ)*(a ⋅ b)* n∞\n",
    "\n",
    "p1 = scatter([a.e1],[a.e2],label=\"a\")\n",
    "p1 = scatter!([b.e1],[b.e2],label=\"b\", aspect_ratio=1,ylims=(-1,5))\n",
    "p1 = scatter!([c.e1],[c.e2],legend=true,label=\"λa + (1-λ)b\")"
   ]
  },
  {
   "cell_type": "code",
   "execution_count": 4,
   "id": "c115adc6-3c5f-488d-9e25-b3ff969142b2",
   "metadata": {},
   "outputs": [
    {
     "name": "stdout",
     "output_type": "stream",
     "text": [
      "(-c_ * n∞ * c_) / (2 * (c_ ⋅ n∞) ^ 2) ≈ c = true\n"
     ]
    }
   ],
   "source": [
    "c_ = λ*a + (1-λ)*b\n",
    "\n",
    "@show (-c_*n∞ *c_)/(2*((c_ ⋅ n∞)^2)) ≈ c;"
   ]
  },
  {
   "cell_type": "markdown",
   "id": "c09d3c67-9e93-4280-aee1-86456caea316",
   "metadata": {},
   "source": [
    "## 2. Interpolating Blades with Grade ≥ 2\n",
    "\n",
    "We've shown how to interpolate points. The formula to interpolate other blades is different.\n",
    "\n",
    "Let $X_1$ and $X_2$ be two blades with the same grade 2 or above. We want to interpolate them, e.g.\n",
    "given two circles, we want to interpolate it to get a circle \"in the middle\".\n",
    "\n",
    "Let $X'_\\alpha =  \\alpha X_1 + (1- \\alpha)X_2$. This operation does not guarantee that we obtain\n",
    "another blade with grade equal to $X_1$ and $X_2$. Similar to how happends to points, we need a slightly\n",
    "different formulation.\n",
    "\n",
    "$$\n",
    "X_\\alpha = S X'_\\alpha = \\frac{kS}{(kS)(kS^-)},\n",
    "$$\n",
    "where\n",
    "$$\n",
    "k S^- = \\sqrt{-X'_\\alpha \\tilde{X'_\\alpha}},\n",
    "$$\n",
    "and\n",
    "$$\n",
    "kS = \\langle k S^- \\rangle_0 - \\langle k S^- \\rangle_4\n",
    "$$\n",
    "\n",
    "Note that $k = \\frac{1}{S^- S}$ is a scalar and both $S$ and $S^-$ only contains 0 and 4\n",
    "grade coefficients."
   ]
  },
  {
   "cell_type": "markdown",
   "id": "0af446bb-28ae-4a0e-881f-ece1fdb7ec37",
   "metadata": {},
   "source": [
    "To compute the square root of an element of the Conformal Algebra that only contains\n",
    "0 and 4 grade coeffients, we can use the following formula:\n",
    "\n",
    "$$\n",
    "\\sqrt{\\Sigma} = \\frac{\\langle \\Sigma \\rangle_0 \\pm\n",
    "[[\\Sigma]]}{\\sqrt 2 \\sqrt{\\langle \\Sigma \\rangle_0} \\pm [[\\Sigma]]} +\n",
    "\\frac{\\langle \\Sigma \\rangle_4}{\\sqrt 2 \\sqrt{\\langle \\Sigma \\rangle_0 \\pm [[\\Sigma]]}},\n",
    "$$\n",
    "where $[[\\Sigma]] = \\sqrt{\\langle \\Sigma \\rangle_0^2 + \\langle \\Sigma \\rangle_4^2}$."
   ]
  },
  {
   "cell_type": "code",
   "execution_count": 5,
   "id": "36b63940-a366-46d9-bfb9-d5a81211741c",
   "metadata": {},
   "outputs": [],
   "source": [
    "function Base.:√(Σ::MultiVector)\n",
    "    Σbracket = √(scalar(grade(Σ,0)^2 + grade(Σ,4)^2))\n",
    "    D = (√(2)*√scalar(grade(Σ,0)+Σbracket))\n",
    "    if D == 0\n",
    "        return 0\n",
    "    end\n",
    "    L = (grade(Σ,0) + Σbracket)/D\n",
    "    R = grade(Σ,4)/D\n",
    "    \n",
    "    return L + R\n",
    "end"
   ]
  },
  {
   "cell_type": "code",
   "execution_count": 6,
   "id": "06d70c06-f625-4315-9f66-1783bf574aef",
   "metadata": {},
   "outputs": [
    {
     "data": {
      "text/plain": [
       "-1.7677669529663689×e1e₊e2-1.7677669529663689×e1e2e₋-0.7071067811865476×e1e₊e₋-0.7071067811865476×e2e₋e₊ ∈ Cl(4, 1, 0)"
      ]
     },
     "execution_count": 6,
     "metadata": {},
     "output_type": "execute_result"
    }
   ],
   "source": [
    "p = point(0,1,0)\n",
    "q = point(1,0,0)\n",
    "l1 = p ∧ q ∧ n∞\n",
    "\n",
    "p = point(0,3,0)\n",
    "q = point(3,0,0)\n",
    "l2 = p ∧ q ∧ n∞\n",
    "\n",
    "α = 0.5\n",
    "\n",
    "Xꜝα = α*l1 + (1-α) *l2\n",
    "kS⁻ = √(-Xꜝα * reverse(Xꜝα))\n",
    "kS  = grade(kS⁻,0) - grade(kS⁻,4)\n",
    "Xα  = kS / ((kS)*(kS⁻)) * Xꜝα"
   ]
  },
  {
   "cell_type": "code",
   "execution_count": 7,
   "id": "0b2394b3-7007-4862-a72b-c5bf309e2e11",
   "metadata": {},
   "outputs": [
    {
     "data": {
      "text/plain": [
       "+0.7071067811865475×e1-0.7071067811865475×e2 ∈ Cl(4, 1, 0)"
      ]
     },
     "execution_count": 7,
     "metadata": {},
     "output_type": "execute_result"
    }
   ],
   "source": [
    "weight = norm(n∞ ⨼ (no ⨼ l1))\n",
    "v = n∞ ⨼ (no ⨼ l1)/weight"
   ]
  },
  {
   "cell_type": "code",
   "execution_count": 8,
   "id": "d9943fdd-5a8d-440d-b353-fe6a7f15c317",
   "metadata": {},
   "outputs": [
    {
     "data": {
      "text/plain": [
       "+0.7071067811865476×e1-0.7071067811865476×e2 ∈ Cl(4, 1, 0)"
      ]
     },
     "execution_count": 8,
     "metadata": {},
     "output_type": "execute_result"
    }
   ],
   "source": [
    "weight = norm(n∞ ⨼ (no ⨼ l2))\n",
    "v = n∞ ⨼ (no ⨼ l2)/weight"
   ]
  },
  {
   "cell_type": "code",
   "execution_count": 9,
   "id": "a3094497-df1a-4792-a1d7-c2aab14e0f68",
   "metadata": {},
   "outputs": [
    {
     "data": {
      "text/plain": [
       "+0.7071067811865476×e1-0.7071067811865476×e2 ∈ Cl(4, 1, 0)"
      ]
     },
     "execution_count": 9,
     "metadata": {},
     "output_type": "execute_result"
    }
   ],
   "source": [
    "weight = norm(n∞ ⨼ (no ⨼ Xα))\n",
    "v = n∞ ⨼ (no ⨼ Xα)/weight"
   ]
  },
  {
   "cell_type": "code",
   "execution_count": 10,
   "id": "0b6976dc-dce6-4147-928a-f1ff0e4c79d6",
   "metadata": {},
   "outputs": [
    {
     "data": {
      "text/plain": [
       "+0.5×e1+0.5×e2 ∈ Cl(4, 1, 0)"
      ]
     },
     "execution_count": 10,
     "metadata": {},
     "output_type": "execute_result"
    }
   ],
   "source": [
    "d = round(getblades((no ⨼ l1) / l1); digits=2)"
   ]
  },
  {
   "cell_type": "code",
   "execution_count": 11,
   "id": "76e8c0fe-cd9a-4143-b8a9-c1e0dc5711db",
   "metadata": {},
   "outputs": [
    {
     "data": {
      "text/plain": [
       "+1.5×e1+1.5×e2 ∈ Cl(4, 1, 0)"
      ]
     },
     "execution_count": 11,
     "metadata": {},
     "output_type": "execute_result"
    }
   ],
   "source": [
    "d = round(getblades((no ⨼ l2) / l2); digits=2)"
   ]
  },
  {
   "cell_type": "code",
   "execution_count": 12,
   "id": "c0c0298b-08c7-43bc-b77b-54078759aadf",
   "metadata": {},
   "outputs": [
    {
     "data": {
      "text/plain": [
       "+1.25×e1+1.25×e2 ∈ Cl(4, 1, 0)"
      ]
     },
     "execution_count": 12,
     "metadata": {},
     "output_type": "execute_result"
    }
   ],
   "source": [
    "d = round(getblades((no ⨼ Xα) / Xα); digits=2)"
   ]
  }
 ],
 "metadata": {
  "kernelspec": {
   "display_name": "Julia 1.9.1",
   "language": "julia",
   "name": "julia-1.9"
  },
  "language_info": {
   "file_extension": ".jl",
   "mimetype": "application/julia",
   "name": "julia",
   "version": "1.9.1"
  }
 },
 "nbformat": 4,
 "nbformat_minor": 5
}
