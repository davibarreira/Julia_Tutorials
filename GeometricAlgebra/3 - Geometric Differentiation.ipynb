{
 "cells": [
  {
   "cell_type": "markdown",
   "id": "f3f94e24-6c26-4207-a889-468e3759e8d8",
   "metadata": {},
   "source": [
    "# **3 - Geometric Differentiation**\n",
    "\n"
   ]
  },
  {
   "cell_type": "code",
   "execution_count": 63,
   "id": "63426d7e-f200-40bd-830f-5993bb0cfdf2",
   "metadata": {},
   "outputs": [
    {
     "name": "stderr",
     "output_type": "stream",
     "text": [
      "\u001b[32m\u001b[1m  Activating\u001b[22m\u001b[39m project at `~/MEGA/EMAP/Julia_Tutorials/GeometricAlgebra`\n"
     ]
    }
   ],
   "source": [
    "using Pkg\n",
    "Pkg.activate(\".\")\n",
    "\n",
    "using CliffordAlgebras\n",
    "using Plots\n",
    "include(\"./auxiliary.jl\")\n",
    "plotly();"
   ]
  },
  {
   "cell_type": "code",
   "execution_count": 64,
   "id": "c7d094aa-feda-4313-bc63-58f90d21a7ad",
   "metadata": {},
   "outputs": [
    {
     "data": {
      "text/plain": [
       "Cl(3,0,0)"
      ]
     },
     "execution_count": 64,
     "metadata": {},
     "output_type": "execute_result"
    }
   ],
   "source": [
    "cl = CliffordAlgebra(3)"
   ]
  },
  {
   "cell_type": "code",
   "execution_count": 68,
   "id": "2f4bab9f-9a74-4d37-84cd-1874c0939852",
   "metadata": {},
   "outputs": [
    {
     "data": {
      "text/plain": [
       "× (generic function with 1 method)"
      ]
     },
     "execution_count": 68,
     "metadata": {},
     "output_type": "execute_result"
    }
   ],
   "source": [
    "function ×(X::MultiVector, B::MultiVector)\n",
    "    return (X*B - B*X)/2\n",
    "end"
   ]
  },
  {
   "cell_type": "code",
   "execution_count": 70,
   "id": "9d4bce40-13e7-4aca-96be-8769f56fc5fa",
   "metadata": {},
   "outputs": [
    {
     "data": {
      "text/plain": [
       "+1.0×e1e2 ∈ Cl(3, 0, 0)"
      ]
     },
     "execution_count": 70,
     "metadata": {},
     "output_type": "execute_result"
    }
   ],
   "source": [
    "cl.e1 × cl.e2"
   ]
  },
  {
   "cell_type": "code",
   "execution_count": 9,
   "id": "be018e06-1cf8-4316-ac89-ae5c73682063",
   "metadata": {},
   "outputs": [
    {
     "data": {
      "text/plain": [
       "+1.0-1.0×e1e2 ∈ Cl(3, 0, 0)"
      ]
     },
     "execution_count": 9,
     "metadata": {},
     "output_type": "execute_result"
    }
   ],
   "source": [
    "\n",
    "# function xk(x,c = cl.e1 + cl.e2,k = 3)\n",
    "#     xₖ = x\n",
    "#     for i in 1:k\n",
    "#        xₖ = xₖ * cl.e1 * xₖ +  c\n",
    "#     end\n",
    "#     return xₖ\n",
    "# end"
   ]
  },
  {
   "cell_type": "code",
   "execution_count": 55,
   "id": "c562d554-6b73-4d14-84db-151b2ac3fd86",
   "metadata": {},
   "outputs": [],
   "source": [
    "c = 0\n",
    "x₀ = 0.5(cl.e1 + cl.e2)/cl.e1\n",
    "\n",
    "xₖ = x₀\n",
    "# x = [x₀.e1, x₀.e2]\n",
    "for k in 1:5\n",
    "    xₖ = xₖ * cl.e1 * xₖ +  c\n",
    "    # push!(x, [xₖ.e1,xₖ.e2])\n",
    "end\n",
    "# x = vcat(x'...);"
   ]
  },
  {
   "cell_type": "code",
   "execution_count": 61,
   "id": "a9ad8bf2-d386-4dc8-9ee8-10b67a49bcf3",
   "metadata": {},
   "outputs": [
    {
     "data": {
      "text/plain": [
       "+0.5×e2 ∈ Cl(3, 0, 0)"
      ]
     },
     "execution_count": 61,
     "metadata": {},
     "output_type": "execute_result"
    }
   ],
   "source": [
    "# scatter(x[:,1],x[:,2])\n",
    "x₀*cl.e2*x₀ + 0"
   ]
  },
  {
   "cell_type": "code",
   "execution_count": null,
   "id": "dbd53760-4dee-4552-aae1-70015e448f43",
   "metadata": {},
   "outputs": [],
   "source": []
  }
 ],
 "metadata": {
  "kernelspec": {
   "display_name": "Julia 1.8.2",
   "language": "julia",
   "name": "julia-1.8"
  },
  "language_info": {
   "file_extension": ".jl",
   "mimetype": "application/julia",
   "name": "julia",
   "version": "1.8.2"
  }
 },
 "nbformat": 4,
 "nbformat_minor": 5
}
