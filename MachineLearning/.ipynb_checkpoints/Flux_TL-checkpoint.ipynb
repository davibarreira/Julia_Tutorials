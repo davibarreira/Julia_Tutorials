{
 "cells": [
  {
   "cell_type": "code",
   "execution_count": 16,
   "metadata": {},
   "outputs": [],
   "source": [
    "using MLDatasets\n",
    "using Flux\n",
    "using PackageCompiler\n",
    "using Gadfly"
   ]
  },
  {
   "cell_type": "code",
   "execution_count": 25,
   "metadata": {},
   "outputs": [],
   "source": [
    "using StatsBase\n",
    "using LinearAlgebra"
   ]
  },
  {
   "cell_type": "code",
   "execution_count": 24,
   "metadata": {},
   "outputs": [
    {
     "name": "stderr",
     "output_type": "stream",
     "text": [
      "┌ Info: PackageCompiler: creating system image object file, this might take a while...\n",
      "└ @ PackageCompiler /home/davi/.julia/packages/PackageCompiler/vsMJE/src/PackageCompiler.jl:287\n"
     ]
    }
   ],
   "source": [
    "create_sysimage(:Gadfly,\n",
    "    sysimage_path=\"/home/davi/JuliaSysImageEnv/sys_gadfly.so\")"
   ]
  },
  {
   "cell_type": "code",
   "execution_count": 29,
   "metadata": {},
   "outputs": [
    {
     "ename": "LoadError",
     "evalue": "package(s) Flux not in project",
     "output_type": "error",
     "traceback": [
      "package(s) Flux not in project",
      "",
      "Stacktrace:",
      " [1] error(::String) at ./error.jl:33",
      " [2] check_packages_in_project(::Pkg.Types.Context, ::Array{String,1}) at /home/davi/.julia/packages/PackageCompiler/vsMJE/src/PackageCompiler.jl:321",
      " [3] create_sysimage(::Symbol; sysimage_path::String, project::String, precompile_execution_file::Array{String,1}, precompile_statements_file::Array{String,1}, incremental::Bool, filter_stdlibs::Bool, replace_default::Bool, cpu_target::String, script::Nothing, base_sysimage::Nothing, isapp::Bool) at /home/davi/.julia/packages/PackageCompiler/vsMJE/src/PackageCompiler.jl:403",
      " [4] top-level scope at In[29]:1",
      " [5] include_string(::Function, ::Module, ::String, ::String) at ./loading.jl:1091"
     ]
    }
   ],
   "source": [
    "create_sysimage(:Flux,\n",
    "    sysimage_path=\"/home/davi/JuliaSysImageEnv/sys_gadfly_flux.so\")"
   ]
  },
  {
   "cell_type": "code",
   "execution_count": 28,
   "metadata": {},
   "outputs": [],
   "source": [
    "using Flux"
   ]
  },
  {
   "cell_type": "code",
   "execution_count": null,
   "metadata": {},
   "outputs": [],
   "source": []
  }
 ],
 "metadata": {
  "kernelspec": {
   "display_name": "Julia 1.5.1",
   "language": "julia",
   "name": "julia-1.5"
  },
  "language_info": {
   "file_extension": ".jl",
   "mimetype": "application/julia",
   "name": "julia",
   "version": "1.5.1"
  }
 },
 "nbformat": 4,
 "nbformat_minor": 4
}
