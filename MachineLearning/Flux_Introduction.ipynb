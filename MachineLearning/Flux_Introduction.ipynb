{
 "cells": [
  {
   "cell_type": "code",
   "execution_count": 9,
   "id": "d9c13a1a-f076-41ee-aa39-e393a8d1a818",
   "metadata": {},
   "outputs": [],
   "source": [
    "using Flux\n",
    "using CairoMakie"
   ]
  },
  {
   "cell_type": "code",
   "execution_count": 17,
   "id": "42d82925-f60e-405c-9b2b-05a93d05e6b4",
   "metadata": {},
   "outputs": [
    {
     "data": {
      "text/plain": [
       "32.0"
      ]
     },
     "execution_count": 17,
     "metadata": {},
     "output_type": "execute_result"
    }
   ],
   "source": [
    "f(x) = 3x^2 + 2x + 1\n",
    "\n",
    "f(5)\n",
    "\n",
    "# In simple cases it's pretty easy to work out the gradient by hand – here it's\n",
    "# `6x+2`. But it's much easier to make Flux do the work for us!\n",
    "\n",
    "df(x) = gradient(f, x)[1]\n",
    "\n",
    "df(5)\n"
   ]
  },
  {
   "cell_type": "code",
   "execution_count": 18,
   "id": "37bac027-11fa-42ff-9de7-05d35e45a1ea",
   "metadata": {},
   "outputs": [
    {
     "data": {
      "text/plain": [
       "6.0"
      ]
     },
     "execution_count": 18,
     "metadata": {},
     "output_type": "execute_result"
    }
   ],
   "source": [
    "# You can try this with a few different inputs to make sure it's really the same\n",
    "# as `6x+2`. We can even do this multiple times (but the second derivative is a\n",
    "# fairly boring `6`).\n",
    "\n",
    "ddf(x) = gradient(df, x)[1]\n",
    "\n",
    "ddf(5)"
   ]
  },
  {
   "cell_type": "code",
   "execution_count": 13,
   "id": "0a71c27c-b075-458a-9aad-294735fcd649",
   "metadata": {},
   "outputs": [
    {
     "data": {
      "text/plain": [
       "Dense(2, 1, σ)      \u001b[90m# 3 parameters\u001b[39m"
      ]
     },
     "execution_count": 13,
     "metadata": {},
     "output_type": "execute_result"
    }
   ],
   "source": [
    "model = Dense(2, 1, σ)"
   ]
  },
  {
   "cell_type": "code",
   "execution_count": 15,
   "id": "aac498c1-d504-4a0b-a05c-3629533b0201",
   "metadata": {},
   "outputs": [
    {
     "data": {
      "text/plain": [
       "1-element Vector{Float32}:\n",
       " 0.0"
      ]
     },
     "execution_count": 15,
     "metadata": {},
     "output_type": "execute_result"
    }
   ],
   "source": [
    "model.bias"
   ]
  },
  {
   "cell_type": "code",
   "execution_count": 16,
   "id": "d1138d99-fced-411d-b4a6-1b82ed6d1ec6",
   "metadata": {},
   "outputs": [
    {
     "data": {
      "text/plain": [
       "1×2 Matrix{Float32}:\n",
       " -1.06721  -0.488439"
      ]
     },
     "execution_count": 16,
     "metadata": {},
     "output_type": "execute_result"
    }
   ],
   "source": [
    "model.W"
   ]
  },
  {
   "cell_type": "code",
   "execution_count": null,
   "id": "6d13a56a-0069-4233-a699-59577b8ace50",
   "metadata": {},
   "outputs": [],
   "source": [
    "x = rand(2)"
   ]
  }
 ],
 "metadata": {
  "kernelspec": {
   "display_name": "JuliaFlux 1.6.1",
   "language": "julia",
   "name": "juliaflux-1.6"
  },
  "language_info": {
   "file_extension": ".jl",
   "mimetype": "application/julia",
   "name": "julia",
   "version": "1.6.1"
  }
 },
 "nbformat": 4,
 "nbformat_minor": 5
}
