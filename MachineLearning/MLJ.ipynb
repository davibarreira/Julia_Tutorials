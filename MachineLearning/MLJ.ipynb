{
 "cells": [
  {
   "cell_type": "markdown",
   "id": "d9d51912-fcf2-4032-b200-f7d34d4bdf57",
   "metadata": {},
   "source": [
    "# Tutorial on Machine Learning with MLJ"
   ]
  },
  {
   "cell_type": "code",
   "execution_count": 21,
   "id": "21e62fc4-9314-4f85-a338-e365eca6b341",
   "metadata": {},
   "outputs": [
    {
     "name": "stderr",
     "output_type": "stream",
     "text": [
      "\u001b[32m\u001b[1m  Activating\u001b[22m\u001b[39m project at `~/.julia/environments/v1.7`\n"
     ]
    }
   ],
   "source": [
    "using Pkg\n",
    "Pkg.activate()"
   ]
  },
  {
   "cell_type": "code",
   "execution_count": 78,
   "id": "e4a56570-569c-4e7c-b0ca-c3d6d670cd6d",
   "metadata": {},
   "outputs": [],
   "source": [
    "using MLJ\n",
    "using VegaLite\n",
    "ENV[\"COLUMNS\"] = 10_000;"
   ]
  },
  {
   "cell_type": "markdown",
   "id": "e4d1ebb7-c3bf-4d3b-93ee-7fc1c3a04444",
   "metadata": {},
   "source": [
    "## 1. O Básico"
   ]
  },
  {
   "cell_type": "code",
   "execution_count": 3,
   "id": "6b871ecc-84e9-4334-9109-3138666c30df",
   "metadata": {},
   "outputs": [
    {
     "data": {
      "text/plain": [
       "┌──────────────┬────────────┬─────────┐\n",
       "│\u001b[22m names        \u001b[0m│\u001b[22m scitypes   \u001b[0m│\u001b[22m types   \u001b[0m│\n",
       "├──────────────┼────────────┼─────────┤\n",
       "│ sepal_length │ Continuous │ Float64 │\n",
       "│ sepal_width  │ Continuous │ Float64 │\n",
       "│ petal_length │ Continuous │ Float64 │\n",
       "│ petal_width  │ Continuous │ Float64 │\n",
       "└──────────────┴────────────┴─────────┘\n"
      ]
     },
     "execution_count": 3,
     "metadata": {},
     "output_type": "execute_result"
    }
   ],
   "source": [
    "const X_iris, y_iris = @load_iris;\n",
    "schema(X_iris)"
   ]
  },
  {
   "cell_type": "code",
   "execution_count": 4,
   "id": "251b1701-62a9-4a7e-b7df-4171afa9ea75",
   "metadata": {},
   "outputs": [
    {
     "data": {
      "text/plain": [
       "3-element Vector{String}:\n",
       " \"setosa\"\n",
       " \"versicolor\"\n",
       " \"virginica\""
      ]
     },
     "execution_count": 4,
     "metadata": {},
     "output_type": "execute_result"
    }
   ],
   "source": [
    "levels(y_iris)"
   ]
  },
  {
   "cell_type": "code",
   "execution_count": 5,
   "id": "51bd4032-5097-455b-bc7f-a6872b20b112",
   "metadata": {},
   "outputs": [
    {
     "name": "stdout",
     "output_type": "stream",
     "text": [
      "import BetaML ✔\n"
     ]
    },
    {
     "name": "stderr",
     "output_type": "stream",
     "text": [
      "┌ Info: For silent loading, specify `verbosity=0`. \n",
      "└ @ Main /home/davibarreira/.julia/packages/MLJModels/lDzCR/src/loading.jl:168\n"
     ]
    },
    {
     "data": {
      "text/plain": [
       "BetaML.Trees.DecisionTreeClassifier"
      ]
     },
     "execution_count": 5,
     "metadata": {},
     "output_type": "execute_result"
    }
   ],
   "source": [
    "DecisionTree = @load DecisionTreeClassifier pkg=BetaML # model type"
   ]
  },
  {
   "cell_type": "code",
   "execution_count": 6,
   "id": "94b92877-bad2-4112-a0e4-c7f9c1a8a89d",
   "metadata": {},
   "outputs": [
    {
     "data": {
      "text/plain": [
       "DecisionTreeClassifier(\n",
       "  maxDepth = 0, \n",
       "  minGain = 0.0, \n",
       "  minRecords = 5, \n",
       "  maxFeatures = 0, \n",
       "  splittingCriterion = BetaML.Utils.gini, \n",
       "  rng = Random._GLOBAL_RNG())"
      ]
     },
     "execution_count": 6,
     "metadata": {},
     "output_type": "execute_result"
    }
   ],
   "source": [
    "model = DecisionTree(minRecords=5)                    # model instance"
   ]
  },
  {
   "cell_type": "code",
   "execution_count": 7,
   "id": "12833849-6469-416c-8319-7bb3c6fab3fb",
   "metadata": {},
   "outputs": [
    {
     "data": {
      "text/plain": [
       "Machine trained 0 times; caches data\n",
       "  model: DecisionTreeClassifier(maxDepth = 0, …)\n",
       "  args: \n",
       "    1:\tSource @016 ⏎ `Table{AbstractVector{Continuous}}`\n",
       "    2:\tSource @711 ⏎ `AbstractVector{Multiclass{3}}`\n"
      ]
     },
     "execution_count": 7,
     "metadata": {},
     "output_type": "execute_result"
    }
   ],
   "source": [
    "mach = machine(model, X_iris, y_iris)"
   ]
  },
  {
   "cell_type": "code",
   "execution_count": 8,
   "id": "1da42df3-6b59-4617-b8dd-03a99ef7d2b8",
   "metadata": {},
   "outputs": [
    {
     "name": "stderr",
     "output_type": "stream",
     "text": [
      "┌ Info: Training machine(DecisionTreeClassifier(maxDepth = 0, …), …).\n",
      "└ @ MLJBase /home/davibarreira/.julia/packages/MLJBase/jcOVb/src/machines.jl:487\n"
     ]
    },
    {
     "data": {
      "text/plain": [
       "(fitresult = (BetaML.Trees.DecisionNode{Float64}(BetaML.Trees.Question{Float64}(4, 1.0), BetaML.Trees.DecisionNode{Float64}(BetaML.Trees.Question{Float64}(3, 4.8), BetaML.Trees.DecisionNode{Float64}(BetaML.Trees.Question{Float64}(4, 1.6), BetaML.Trees.Leaf{String}(Dict(\"virginica\" => 1.0), 4), BetaML.Trees.Leaf{String}(Dict(\"virginica\" => 0.75, \"versicolor\" => 0.25), 4), 3, 0.92), BetaML.Trees.DecisionNode{Float64}(BetaML.Trees.Question{Float64}(4, 1.7), BetaML.Trees.Leaf{String}(Dict(\"virginica\" => 1.0), 4), BetaML.Trees.Leaf{String}(Dict(\"versicolor\" => 1.0), 4), 3, 0.05), 2, 0.7142857142857143), BetaML.Trees.Leaf{String}(Dict(\"setosa\" => 1.0), 2), 1, 0.5833333333333334), CategoricalArrays.CategoricalValue{String, UInt32} \"setosa\"),)"
      ]
     },
     "execution_count": 8,
     "metadata": {},
     "output_type": "execute_result"
    }
   ],
   "source": [
    "train_rows = vcat(1:60, 91:150); # some row indices (observations are rows not columns)\n",
    "fit!(mach, rows=train_rows)\n",
    "fitted_params(mach)"
   ]
  },
  {
   "cell_type": "code",
   "execution_count": 9,
   "id": "45d9adfc-00d9-4c78-973d-b24182cac92e",
   "metadata": {},
   "outputs": [
    {
     "data": {
      "text/plain": [
       "3-element CategoricalDistributions.UnivariateFiniteVector{Multiclass{3}, String, UInt32, Float64}:\n",
       " UnivariateFinite{Multiclass{3}}(setosa=>0.0, versicolor=>0.0, virginica=>1.0)\n",
       " UnivariateFinite{Multiclass{3}}(setosa=>0.0, versicolor=>1.0, virginica=>0.0)\n",
       " UnivariateFinite{Multiclass{3}}(setosa=>0.0, versicolor=>0.25, virginica=>0.75)"
      ]
     },
     "execution_count": 9,
     "metadata": {},
     "output_type": "execute_result"
    }
   ],
   "source": [
    "predict(mach, rows=71:73)"
   ]
  },
  {
   "cell_type": "code",
   "execution_count": 10,
   "id": "36347790-a978-4977-9b0a-4a8cd279e49b",
   "metadata": {},
   "outputs": [
    {
     "data": {
      "text/plain": [
       "2-element CategoricalDistributions.UnivariateFiniteVector{Multiclass{3}, String, UInt32, Float64}:\n",
       " UnivariateFinite{Multiclass{3}}(setosa=>1.0, versicolor=>0.0, virginica=>0.0)\n",
       " UnivariateFinite{Multiclass{3}}(setosa=>0.0, versicolor=>0.25, virginica=>0.75)"
      ]
     },
     "execution_count": 10,
     "metadata": {},
     "output_type": "execute_result"
    }
   ],
   "source": [
    "Xnew = (sepal_length = [5.1, 6.3],\n",
    "        sepal_width = [3.0, 2.5],\n",
    "        petal_length = [1.4, 4.9],\n",
    "        petal_width = [0.3, 1.5])\n",
    "yhat = predict(mach, Xnew)"
   ]
  },
  {
   "cell_type": "code",
   "execution_count": 11,
   "id": "356beb9c-51cc-4008-af8e-cceb5018172d",
   "metadata": {},
   "outputs": [
    {
     "data": {
      "text/plain": [
       "2-element Vector{Float64}:\n",
       " 0.0\n",
       " 0.75"
      ]
     },
     "execution_count": 11,
     "metadata": {},
     "output_type": "execute_result"
    }
   ],
   "source": [
    "pdf.(yhat, \"virginica\")"
   ]
  },
  {
   "cell_type": "markdown",
   "id": "af7f7e4a-eb08-4727-a870-e70ff091dd34",
   "metadata": {},
   "source": [
    "## 2. Indo mais a fundo"
   ]
  },
  {
   "cell_type": "code",
   "execution_count": 12,
   "id": "43ae6981-f54d-4aa1-99a9-4a2af470235c",
   "metadata": {},
   "outputs": [
    {
     "data": {
      "text/html": [
       "<div class=\"data-frame\"><p>4 rows × 21 columns (omitted printing of 13 columns)</p><table class=\"data-frame\"><thead><tr><th></th><th>customerID</th><th>gender</th><th>SeniorCitizen</th><th>Partner</th><th>Dependents</th><th>tenure</th><th>PhoneService</th><th>MultipleLines</th></tr><tr><th></th><th title=\"String\">String</th><th title=\"String\">String</th><th title=\"Float64\">Float64</th><th title=\"String\">String</th><th title=\"String\">String</th><th title=\"Float64\">Float64</th><th title=\"String\">String</th><th title=\"String\">String</th></tr></thead><tbody><tr><th>1</th><td>7590-VHVEG</td><td>Female</td><td>0.0</td><td>Yes</td><td>No</td><td>1.0</td><td>No</td><td>No phone service</td></tr><tr><th>2</th><td>5575-GNVDE</td><td>Male</td><td>0.0</td><td>No</td><td>No</td><td>34.0</td><td>Yes</td><td>No</td></tr><tr><th>3</th><td>3668-QPYBK</td><td>Male</td><td>0.0</td><td>No</td><td>No</td><td>2.0</td><td>Yes</td><td>No</td></tr><tr><th>4</th><td>7795-CFOCW</td><td>Male</td><td>0.0</td><td>No</td><td>No</td><td>45.0</td><td>No</td><td>No phone service</td></tr></tbody></table></div>"
      ],
      "text/latex": [
       "\\begin{tabular}{r|ccccccccc}\n",
       "\t& customerID & gender & SeniorCitizen & Partner & Dependents & tenure & PhoneService & MultipleLines & \\\\\n",
       "\t\\hline\n",
       "\t& String & String & Float64 & String & String & Float64 & String & String & \\\\\n",
       "\t\\hline\n",
       "\t1 & 7590-VHVEG & Female & 0.0 & Yes & No & 1.0 & No & No phone service & $\\dots$ \\\\\n",
       "\t2 & 5575-GNVDE & Male & 0.0 & No & No & 34.0 & Yes & No & $\\dots$ \\\\\n",
       "\t3 & 3668-QPYBK & Male & 0.0 & No & No & 2.0 & Yes & No & $\\dots$ \\\\\n",
       "\t4 & 7795-CFOCW & Male & 0.0 & No & No & 45.0 & No & No phone service & $\\dots$ \\\\\n",
       "\\end{tabular}\n"
      ],
      "text/plain": [
       "\u001b[1m4×21 DataFrame\u001b[0m\n",
       "\u001b[1m Row \u001b[0m│\u001b[1m customerID \u001b[0m\u001b[1m gender \u001b[0m\u001b[1m SeniorCitizen \u001b[0m\u001b[1m Partner \u001b[0m\u001b[1m Dependents \u001b[0m\u001b[1m tenure  \u001b[0m\u001b[1m PhoneS\u001b[0m ⋯\n",
       "\u001b[1m     \u001b[0m│\u001b[90m String     \u001b[0m\u001b[90m String \u001b[0m\u001b[90m Float64       \u001b[0m\u001b[90m String  \u001b[0m\u001b[90m String     \u001b[0m\u001b[90m Float64 \u001b[0m\u001b[90m String\u001b[0m ⋯\n",
       "─────┼──────────────────────────────────────────────────────────────────────────\n",
       "   1 │ 7590-VHVEG  Female            0.0  Yes      No              1.0  No     ⋯\n",
       "   2 │ 5575-GNVDE  Male              0.0  No       No             34.0  Yes\n",
       "   3 │ 3668-QPYBK  Male              0.0  No       No              2.0  Yes\n",
       "   4 │ 7795-CFOCW  Male              0.0  No       No             45.0  No\n",
       "\u001b[36m                                                              15 columns omitted\u001b[0m"
      ]
     },
     "execution_count": 12,
     "metadata": {},
     "output_type": "execute_result"
    }
   ],
   "source": [
    "using DataFrames\n",
    "data = OpenML.load(42178) # data set from OpenML.org\n",
    "df0 = DataFrame(data)\n",
    "first(df0, 4)"
   ]
  },
  {
   "cell_type": "code",
   "execution_count": 13,
   "id": "5ccf7a40-1f43-4546-889b-f7efe3bfde15",
   "metadata": {},
   "outputs": [],
   "source": [
    "fix_blanks(v) = map(v) do x\n",
    "    if x == \" \"\n",
    "        return \"0.0\"\n",
    "    else\n",
    "        return x\n",
    "    end\n",
    "end\n",
    "\n",
    "df0.TotalCharges = fix_blanks(df0.TotalCharges);"
   ]
  },
  {
   "cell_type": "code",
   "execution_count": 14,
   "id": "3620a87f-a56c-42bb-baf0-47a6111dc3f7",
   "metadata": {},
   "outputs": [
    {
     "data": {
      "text/plain": [
       "2-element Vector{String}:\n",
       " \"No\"\n",
       " \"Yes\""
      ]
     },
     "execution_count": 14,
     "metadata": {},
     "output_type": "execute_result"
    }
   ],
   "source": [
    "coerce!(df0, :TotalCharges => Continuous);\n",
    "coerce!(df0, Textual => Multiclass);\n",
    "coerce!(df0, :Churn => OrderedFactor)\n",
    "levels(df0.Churn) # to check order"
   ]
  },
  {
   "cell_type": "code",
   "execution_count": 15,
   "id": "0816ff7c-f940-4ad7-8e6d-983436cbdf54",
   "metadata": {},
   "outputs": [
    {
     "data": {
      "text/html": [
       "<div class=\"data-frame\"><p>21 rows × 3 columns</p><table class=\"data-frame\"><thead><tr><th></th><th>names</th><th>scitypes</th><th>types</th></tr><tr><th></th><th title=\"Symbol\">Symbol</th><th title=\"DataType\">DataType</th><th title=\"DataType\">DataType</th></tr></thead><tbody><tr><th>1</th><td>customerID</td><td>Multiclass{7043}</td><td>CategoricalValue{String, UInt32}</td></tr><tr><th>2</th><td>gender</td><td>Multiclass{2}</td><td>CategoricalValue{String, UInt32}</td></tr><tr><th>3</th><td>SeniorCitizen</td><td>Continuous</td><td>Float64</td></tr><tr><th>4</th><td>Partner</td><td>Multiclass{2}</td><td>CategoricalValue{String, UInt32}</td></tr><tr><th>5</th><td>Dependents</td><td>Multiclass{2}</td><td>CategoricalValue{String, UInt32}</td></tr><tr><th>6</th><td>tenure</td><td>Continuous</td><td>Float64</td></tr><tr><th>7</th><td>PhoneService</td><td>Multiclass{2}</td><td>CategoricalValue{String, UInt32}</td></tr><tr><th>8</th><td>MultipleLines</td><td>Multiclass{3}</td><td>CategoricalValue{String, UInt32}</td></tr><tr><th>9</th><td>InternetService</td><td>Multiclass{3}</td><td>CategoricalValue{String, UInt32}</td></tr><tr><th>10</th><td>OnlineSecurity</td><td>Multiclass{3}</td><td>CategoricalValue{String, UInt32}</td></tr><tr><th>11</th><td>OnlineBackup</td><td>Multiclass{3}</td><td>CategoricalValue{String, UInt32}</td></tr><tr><th>12</th><td>DeviceProtection</td><td>Multiclass{3}</td><td>CategoricalValue{String, UInt32}</td></tr><tr><th>13</th><td>TechSupport</td><td>Multiclass{3}</td><td>CategoricalValue{String, UInt32}</td></tr><tr><th>14</th><td>StreamingTV</td><td>Multiclass{3}</td><td>CategoricalValue{String, UInt32}</td></tr><tr><th>15</th><td>StreamingMovies</td><td>Multiclass{3}</td><td>CategoricalValue{String, UInt32}</td></tr><tr><th>16</th><td>Contract</td><td>Multiclass{3}</td><td>CategoricalValue{String, UInt32}</td></tr><tr><th>17</th><td>PaperlessBilling</td><td>Multiclass{2}</td><td>CategoricalValue{String, UInt32}</td></tr><tr><th>18</th><td>PaymentMethod</td><td>Multiclass{4}</td><td>CategoricalValue{String, UInt32}</td></tr><tr><th>19</th><td>MonthlyCharges</td><td>Continuous</td><td>Float64</td></tr><tr><th>20</th><td>TotalCharges</td><td>Continuous</td><td>Float64</td></tr><tr><th>21</th><td>Churn</td><td>OrderedFactor{2}</td><td>CategoricalValue{String, UInt32}</td></tr></tbody></table></div>"
      ],
      "text/latex": [
       "\\begin{tabular}{r|ccc}\n",
       "\t& names & scitypes & types\\\\\n",
       "\t\\hline\n",
       "\t& Symbol & DataType & DataType\\\\\n",
       "\t\\hline\n",
       "\t1 & customerID & Multiclass\\{7043\\} & CategoricalValue\\{String, UInt32\\} \\\\\n",
       "\t2 & gender & Multiclass\\{2\\} & CategoricalValue\\{String, UInt32\\} \\\\\n",
       "\t3 & SeniorCitizen & Continuous & Float64 \\\\\n",
       "\t4 & Partner & Multiclass\\{2\\} & CategoricalValue\\{String, UInt32\\} \\\\\n",
       "\t5 & Dependents & Multiclass\\{2\\} & CategoricalValue\\{String, UInt32\\} \\\\\n",
       "\t6 & tenure & Continuous & Float64 \\\\\n",
       "\t7 & PhoneService & Multiclass\\{2\\} & CategoricalValue\\{String, UInt32\\} \\\\\n",
       "\t8 & MultipleLines & Multiclass\\{3\\} & CategoricalValue\\{String, UInt32\\} \\\\\n",
       "\t9 & InternetService & Multiclass\\{3\\} & CategoricalValue\\{String, UInt32\\} \\\\\n",
       "\t10 & OnlineSecurity & Multiclass\\{3\\} & CategoricalValue\\{String, UInt32\\} \\\\\n",
       "\t11 & OnlineBackup & Multiclass\\{3\\} & CategoricalValue\\{String, UInt32\\} \\\\\n",
       "\t12 & DeviceProtection & Multiclass\\{3\\} & CategoricalValue\\{String, UInt32\\} \\\\\n",
       "\t13 & TechSupport & Multiclass\\{3\\} & CategoricalValue\\{String, UInt32\\} \\\\\n",
       "\t14 & StreamingTV & Multiclass\\{3\\} & CategoricalValue\\{String, UInt32\\} \\\\\n",
       "\t15 & StreamingMovies & Multiclass\\{3\\} & CategoricalValue\\{String, UInt32\\} \\\\\n",
       "\t16 & Contract & Multiclass\\{3\\} & CategoricalValue\\{String, UInt32\\} \\\\\n",
       "\t17 & PaperlessBilling & Multiclass\\{2\\} & CategoricalValue\\{String, UInt32\\} \\\\\n",
       "\t18 & PaymentMethod & Multiclass\\{4\\} & CategoricalValue\\{String, UInt32\\} \\\\\n",
       "\t19 & MonthlyCharges & Continuous & Float64 \\\\\n",
       "\t20 & TotalCharges & Continuous & Float64 \\\\\n",
       "\t21 & Churn & OrderedFactor\\{2\\} & CategoricalValue\\{String, UInt32\\} \\\\\n",
       "\\end{tabular}\n"
      ],
      "text/plain": [
       "\u001b[1m21×3 DataFrame\u001b[0m\n",
       "\u001b[1m Row \u001b[0m│\u001b[1m names            \u001b[0m\u001b[1m scitypes         \u001b[0m\u001b[1m types                            \u001b[0m\n",
       "\u001b[1m     \u001b[0m│\u001b[90m Symbol           \u001b[0m\u001b[90m DataType         \u001b[0m\u001b[90m DataType                         \u001b[0m\n",
       "─────┼──────────────────────────────────────────────────────────────────────\n",
       "   1 │ customerID        Multiclass{7043}  CategoricalValue{String, UInt32}\n",
       "   2 │ gender            Multiclass{2}     CategoricalValue{String, UInt32}\n",
       "   3 │ SeniorCitizen     Continuous        Float64\n",
       "   4 │ Partner           Multiclass{2}     CategoricalValue{String, UInt32}\n",
       "   5 │ Dependents        Multiclass{2}     CategoricalValue{String, UInt32}\n",
       "   6 │ tenure            Continuous        Float64\n",
       "   7 │ PhoneService      Multiclass{2}     CategoricalValue{String, UInt32}\n",
       "   8 │ MultipleLines     Multiclass{3}     CategoricalValue{String, UInt32}\n",
       "   9 │ InternetService   Multiclass{3}     CategoricalValue{String, UInt32}\n",
       "  10 │ OnlineSecurity    Multiclass{3}     CategoricalValue{String, UInt32}\n",
       "  11 │ OnlineBackup      Multiclass{3}     CategoricalValue{String, UInt32}\n",
       "  12 │ DeviceProtection  Multiclass{3}     CategoricalValue{String, UInt32}\n",
       "  13 │ TechSupport       Multiclass{3}     CategoricalValue{String, UInt32}\n",
       "  14 │ StreamingTV       Multiclass{3}     CategoricalValue{String, UInt32}\n",
       "  15 │ StreamingMovies   Multiclass{3}     CategoricalValue{String, UInt32}\n",
       "  16 │ Contract          Multiclass{3}     CategoricalValue{String, UInt32}\n",
       "  17 │ PaperlessBilling  Multiclass{2}     CategoricalValue{String, UInt32}\n",
       "  18 │ PaymentMethod     Multiclass{4}     CategoricalValue{String, UInt32}\n",
       "  19 │ MonthlyCharges    Continuous        Float64\n",
       "  20 │ TotalCharges      Continuous        Float64\n",
       "  21 │ Churn             OrderedFactor{2}  CategoricalValue{String, UInt32}"
      ]
     },
     "execution_count": 15,
     "metadata": {},
     "output_type": "execute_result"
    }
   ],
   "source": [
    "schema(df0) |> DataFrames.DataFrame"
   ]
  },
  {
   "cell_type": "code",
   "execution_count": 16,
   "id": "1c528851-3b9e-4533-b2e1-f070f6f49de5",
   "metadata": {},
   "outputs": [],
   "source": [
    "df, df_test, df_dumped = partition(df0, 0.07, 0.03, # in ratios 7:3:90\n",
    "                                   stratify=df0.Churn,\n",
    "                                   rng=123);"
   ]
  },
  {
   "cell_type": "code",
   "execution_count": 17,
   "id": "4ce66e52-e7f4-44f2-9217-e09ede33d6d5",
   "metadata": {},
   "outputs": [],
   "source": [
    "const y, X = unpack(df, ==(:Churn), !=(:customerID));\n",
    "const ytest, Xtest = unpack(df_test, ==(:Churn), !=(:customerID));"
   ]
  },
  {
   "cell_type": "code",
   "execution_count": 25,
   "id": "edc1800f-0f01-4f3e-ac1b-366b397b886c",
   "metadata": {},
   "outputs": [
    {
     "name": "stdout",
     "output_type": "stream",
     "text": [
      "import EvoTrees ✔\n"
     ]
    },
    {
     "name": "stderr",
     "output_type": "stream",
     "text": [
      "┌ Info: Precompiling EvoTrees [f6006082-12f8-11e9-0c9c-0d5d367ab1e5]\n",
      "└ @ Base loading.jl:1423\n",
      "┌ Info: For silent loading, specify `verbosity=0`. \n",
      "└ @ Main /home/davibarreira/.julia/packages/MLJModels/lDzCR/src/loading.jl:168\n"
     ]
    },
    {
     "data": {
      "text/plain": [
       "EvoTreeClassifier"
      ]
     },
     "execution_count": 25,
     "metadata": {},
     "output_type": "execute_result"
    }
   ],
   "source": [
    "Booster = @load EvoTreeClassifier pkg=EvoTrees"
   ]
  },
  {
   "cell_type": "code",
   "execution_count": 26,
   "id": "d29f850b-64cb-455b-b288-8c0eaaffa0fd",
   "metadata": {},
   "outputs": [
    {
     "data": {
      "text/plain": [
       "EvoTreeClassifier(\n",
       "  loss = EvoTrees.Softmax(), \n",
       "  nrounds = 10, \n",
       "  λ = 0.0, \n",
       "  γ = 0.0, \n",
       "  η = 0.1, \n",
       "  max_depth = 5, \n",
       "  min_weight = 1.0, \n",
       "  rowsample = 1.0, \n",
       "  colsample = 1.0, \n",
       "  nbins = 64, \n",
       "  α = 0.5, \n",
       "  metric = :mlogloss, \n",
       "  rng = Random.MersenneTwister(123), \n",
       "  device = \"cpu\")"
      ]
     },
     "execution_count": 26,
     "metadata": {},
     "output_type": "execute_result"
    }
   ],
   "source": [
    "booster = Booster()"
   ]
  },
  {
   "cell_type": "markdown",
   "id": "746c99b2-5a14-444a-b5bd-03b45f42dd51",
   "metadata": {},
   "source": [
    "Nosso modelo não pode ser utilizado diretamente."
   ]
  },
  {
   "cell_type": "code",
   "execution_count": 28,
   "id": "31a1c59b-e250-4a0a-8c02-7e3808023639",
   "metadata": {},
   "outputs": [
    {
     "data": {
      "text/plain": [
       "false"
      ]
     },
     "execution_count": 28,
     "metadata": {},
     "output_type": "execute_result"
    }
   ],
   "source": [
    "scitype(X) <: input_scitype(booster)"
   ]
  },
  {
   "cell_type": "code",
   "execution_count": 29,
   "id": "c40fc4a1-f8e7-48fa-9b10-95c31ce426c9",
   "metadata": {},
   "outputs": [
    {
     "data": {
      "text/plain": [
       "ProbabilisticPipeline(\n",
       "  continuous_encoder = ContinuousEncoder(\n",
       "        drop_last = false, \n",
       "        one_hot_ordered_factors = false), \n",
       "  evo_tree_classifier = EvoTreeClassifier(\n",
       "        loss = EvoTrees.Softmax(), \n",
       "        nrounds = 10, \n",
       "        λ = 0.0, \n",
       "        γ = 0.0, \n",
       "        η = 0.1, \n",
       "        max_depth = 5, \n",
       "        min_weight = 1.0, \n",
       "        rowsample = 1.0, \n",
       "        colsample = 1.0, \n",
       "        nbins = 64, \n",
       "        α = 0.5, \n",
       "        metric = :mlogloss, \n",
       "        rng = Random.MersenneTwister(123), \n",
       "        device = \"cpu\"), \n",
       "  cache = true)"
      ]
     },
     "execution_count": 29,
     "metadata": {},
     "output_type": "execute_result"
    }
   ],
   "source": [
    "pipe = ContinuousEncoder() |> booster"
   ]
  },
  {
   "cell_type": "code",
   "execution_count": 31,
   "id": "f3400f5c-a23a-44a2-8ba1-9c3b6651e4d3",
   "metadata": {},
   "outputs": [
    {
     "data": {
      "text/plain": [
       "5"
      ]
     },
     "execution_count": 31,
     "metadata": {},
     "output_type": "execute_result"
    }
   ],
   "source": [
    "pipe.evo_tree_classifier.max_depth"
   ]
  },
  {
   "cell_type": "code",
   "execution_count": 32,
   "id": "0daf1d45-a058-4672-988f-68eac83a224f",
   "metadata": {},
   "outputs": [
    {
     "data": {
      "text/plain": [
       "Machine trained 0 times; caches data\n",
       "  model: ProbabilisticPipeline(continuous_encoder = ContinuousEncoder(drop_last = false, …), …)\n",
       "  args: \n",
       "    1:\tSource @851 ⏎ `Table{Union{AbstractVector{Continuous}, AbstractVector{Multiclass{3}}, AbstractVector{Multiclass{2}}, AbstractVector{Multiclass{4}}}}`\n",
       "    2:\tSource @689 ⏎ `AbstractVector{OrderedFactor{2}}`\n"
      ]
     },
     "execution_count": 32,
     "metadata": {},
     "output_type": "execute_result"
    }
   ],
   "source": [
    "mach_pipe = machine(pipe, X, y)"
   ]
  },
  {
   "cell_type": "code",
   "execution_count": 33,
   "id": "eec23e4b-aa73-4390-8818-78c9c01522fd",
   "metadata": {},
   "outputs": [
    {
     "data": {
      "text/plain": [
       "([1, 2, 3, 4, 5, 6, 7, 8, 9, 10  …  336, 337, 338, 339, 340, 341, 342, 343, 344, 345], [346, 347, 348, 349, 350, 351, 352, 353, 354, 355  …  484, 485, 486, 487, 488, 489, 490, 491, 492, 493])"
      ]
     },
     "execution_count": 33,
     "metadata": {},
     "output_type": "execute_result"
    }
   ],
   "source": [
    "train, validation = partition(1:length(y), 0.7)"
   ]
  },
  {
   "cell_type": "code",
   "execution_count": 34,
   "id": "1a85895c-d4d3-4640-8d1c-f3fc30975072",
   "metadata": {},
   "outputs": [
    {
     "name": "stderr",
     "output_type": "stream",
     "text": [
      "┌ Info: Training machine(ProbabilisticPipeline(continuous_encoder = ContinuousEncoder(drop_last = false, …), …), …).\n",
      "└ @ MLJBase /home/davibarreira/.julia/packages/MLJBase/jcOVb/src/machines.jl:487\n",
      "┌ Info: Training machine(ContinuousEncoder(drop_last = false, …), …).\n",
      "└ @ MLJBase /home/davibarreira/.julia/packages/MLJBase/jcOVb/src/machines.jl:487\n",
      "┌ Info: Training machine(EvoTreeClassifier(loss = EvoTrees.Softmax(), …), …).\n",
      "└ @ MLJBase /home/davibarreira/.julia/packages/MLJBase/jcOVb/src/machines.jl:487\n"
     ]
    },
    {
     "data": {
      "text/plain": [
       "Machine trained 1 time; caches data\n",
       "  model: ProbabilisticPipeline(continuous_encoder = ContinuousEncoder(drop_last = false, …), …)\n",
       "  args: \n",
       "    1:\tSource @851 ⏎ `Table{Union{AbstractVector{Continuous}, AbstractVector{Multiclass{3}}, AbstractVector{Multiclass{2}}, AbstractVector{Multiclass{4}}}}`\n",
       "    2:\tSource @689 ⏎ `AbstractVector{OrderedFactor{2}}`\n"
      ]
     },
     "execution_count": 34,
     "metadata": {},
     "output_type": "execute_result"
    }
   ],
   "source": [
    "fit!(mach_pipe, rows=train)"
   ]
  },
  {
   "cell_type": "code",
   "execution_count": 35,
   "id": "10162347-6b1c-4b01-9ea4-8eb7c64c4d99",
   "metadata": {},
   "outputs": [
    {
     "data": {
      "text/plain": [
       "(:evo_tree_classifier, :continuous_encoder, :machines, :fitted_params_given_machine)"
      ]
     },
     "execution_count": 35,
     "metadata": {},
     "output_type": "execute_result"
    }
   ],
   "source": [
    "fp = fitted_params(mach_pipe);\n",
    "keys(fp)"
   ]
  },
  {
   "cell_type": "markdown",
   "id": "683443e1-f8f6-4a71-8227-3f62d04e0097",
   "metadata": {},
   "source": [
    "Aqui vamos checar que de fato temos as mesmas variáveis\n",
    "no modelo quanto na base, ou seja,\n",
    "que nosso pipe não jogou nada fora."
   ]
  },
  {
   "cell_type": "code",
   "execution_count": 36,
   "id": "d7a6e763-a133-4d08-a794-9e309db9a643",
   "metadata": {},
   "outputs": [
    {
     "data": {
      "text/plain": [
       "true"
      ]
     },
     "execution_count": 36,
     "metadata": {},
     "output_type": "execute_result"
    }
   ],
   "source": [
    "Set(fp.continuous_encoder.features_to_keep) == Set(schema(X).names)"
   ]
  },
  {
   "cell_type": "code",
   "execution_count": 42,
   "id": "4f208032-e426-4fa7-b63c-8721a9c9f859",
   "metadata": {},
   "outputs": [
    {
     "data": {
      "text/plain": [
       "(:feature_importances,)"
      ]
     },
     "execution_count": 42,
     "metadata": {},
     "output_type": "execute_result"
    }
   ],
   "source": [
    "rpt = report(mach_pipe)\n",
    "keys(rpt.evo_tree_classifier)"
   ]
  },
  {
   "cell_type": "code",
   "execution_count": 44,
   "id": "ae675f9f-d1e6-4faa-9d07-25abcb290fc6",
   "metadata": {},
   "outputs": [
    {
     "data": {
      "text/html": [
       "<div class=\"data-frame\"><p>45 rows × 2 columns</p><table class=\"data-frame\"><thead><tr><th></th><th>feature</th><th>importance</th></tr><tr><th></th><th title=\"Symbol\">Symbol</th><th title=\"Float64\">Float64</th></tr></thead><tbody><tr><th>1</th><td>tenure</td><td>0.367021</td></tr><tr><th>2</th><td>MonthlyCharges</td><td>0.167477</td></tr><tr><th>3</th><td>Contract__Month-to-month</td><td>0.16637</td></tr><tr><th>4</th><td>TotalCharges</td><td>0.0608734</td></tr><tr><th>5</th><td>PaymentMethod__Bank transfer (automatic)</td><td>0.0381171</td></tr><tr><th>6</th><td>Dependents__No</td><td>0.0273874</td></tr><tr><th>7</th><td>SeniorCitizen</td><td>0.0262011</td></tr><tr><th>8</th><td>PaperlessBilling__No</td><td>0.024691</td></tr><tr><th>9</th><td>DeviceProtection__No</td><td>0.0234396</td></tr><tr><th>10</th><td>StreamingMovies__Yes</td><td>0.0182277</td></tr><tr><th>11</th><td>gender__Female</td><td>0.0133198</td></tr><tr><th>12</th><td>OnlineBackup__Yes</td><td>0.010152</td></tr><tr><th>13</th><td>MultipleLines__No</td><td>0.0093157</td></tr><tr><th>14</th><td>StreamingTV__No</td><td>0.00695159</td></tr><tr><th>15</th><td>DeviceProtection__Yes</td><td>0.00653241</td></tr><tr><th>16</th><td>PaperlessBilling__Yes</td><td>0.00581502</td></tr><tr><th>17</th><td>TechSupport__No</td><td>0.00460489</td></tr><tr><th>18</th><td>PaymentMethod__Credit card (automatic)</td><td>0.00369404</td></tr><tr><th>19</th><td>StreamingMovies__No</td><td>0.00352602</td></tr><tr><th>20</th><td>Contract__One year</td><td>0.00339499</td></tr><tr><th>21</th><td>Contract__Two year</td><td>0.00316092</td></tr><tr><th>22</th><td>Partner__Yes</td><td>0.00292232</td></tr><tr><th>23</th><td>OnlineBackup__No</td><td>0.0029127</td></tr><tr><th>24</th><td>Dependents__Yes</td><td>0.00225914</td></tr><tr><th>25</th><td>Partner__No</td><td>0.00145106</td></tr><tr><th>26</th><td>gender__Male</td><td>0.000181241</td></tr><tr><th>27</th><td>PaymentMethod__Mailed check</td><td>1.17948e-6</td></tr><tr><th>28</th><td>OnlineSecurity__No internet service</td><td>0.0</td></tr><tr><th>29</th><td>OnlineSecurity__No</td><td>0.0</td></tr><tr><th>30</th><td>PaymentMethod__Electronic check</td><td>0.0</td></tr><tr><th>&vellip;</th><td>&vellip;</td><td>&vellip;</td></tr></tbody></table></div>"
      ],
      "text/latex": [
       "\\begin{tabular}{r|cc}\n",
       "\t& feature & importance\\\\\n",
       "\t\\hline\n",
       "\t& Symbol & Float64\\\\\n",
       "\t\\hline\n",
       "\t1 & tenure & 0.367021 \\\\\n",
       "\t2 & MonthlyCharges & 0.167477 \\\\\n",
       "\t3 & Contract\\_\\_Month-to-month & 0.16637 \\\\\n",
       "\t4 & TotalCharges & 0.0608734 \\\\\n",
       "\t5 & PaymentMethod\\_\\_Bank transfer (automatic) & 0.0381171 \\\\\n",
       "\t6 & Dependents\\_\\_No & 0.0273874 \\\\\n",
       "\t7 & SeniorCitizen & 0.0262011 \\\\\n",
       "\t8 & PaperlessBilling\\_\\_No & 0.024691 \\\\\n",
       "\t9 & DeviceProtection\\_\\_No & 0.0234396 \\\\\n",
       "\t10 & StreamingMovies\\_\\_Yes & 0.0182277 \\\\\n",
       "\t11 & gender\\_\\_Female & 0.0133198 \\\\\n",
       "\t12 & OnlineBackup\\_\\_Yes & 0.010152 \\\\\n",
       "\t13 & MultipleLines\\_\\_No & 0.0093157 \\\\\n",
       "\t14 & StreamingTV\\_\\_No & 0.00695159 \\\\\n",
       "\t15 & DeviceProtection\\_\\_Yes & 0.00653241 \\\\\n",
       "\t16 & PaperlessBilling\\_\\_Yes & 0.00581502 \\\\\n",
       "\t17 & TechSupport\\_\\_No & 0.00460489 \\\\\n",
       "\t18 & PaymentMethod\\_\\_Credit card (automatic) & 0.00369404 \\\\\n",
       "\t19 & StreamingMovies\\_\\_No & 0.00352602 \\\\\n",
       "\t20 & Contract\\_\\_One year & 0.00339499 \\\\\n",
       "\t21 & Contract\\_\\_Two year & 0.00316092 \\\\\n",
       "\t22 & Partner\\_\\_Yes & 0.00292232 \\\\\n",
       "\t23 & OnlineBackup\\_\\_No & 0.0029127 \\\\\n",
       "\t24 & Dependents\\_\\_Yes & 0.00225914 \\\\\n",
       "\t25 & Partner\\_\\_No & 0.00145106 \\\\\n",
       "\t26 & gender\\_\\_Male & 0.000181241 \\\\\n",
       "\t27 & PaymentMethod\\_\\_Mailed check & 1.17948e-6 \\\\\n",
       "\t28 & OnlineSecurity\\_\\_No internet service & 0.0 \\\\\n",
       "\t29 & OnlineSecurity\\_\\_No & 0.0 \\\\\n",
       "\t30 & PaymentMethod\\_\\_Electronic check & 0.0 \\\\\n",
       "\t$\\dots$ & $\\dots$ & $\\dots$ \\\\\n",
       "\\end{tabular}\n"
      ],
      "text/plain": [
       "\u001b[1m45×2 DataFrame\u001b[0m\n",
       "\u001b[1m Row \u001b[0m│\u001b[1m feature                           \u001b[0m\u001b[1m importance \u001b[0m\n",
       "\u001b[1m     \u001b[0m│\u001b[90m Symbol                            \u001b[0m\u001b[90m Float64    \u001b[0m\n",
       "─────┼───────────────────────────────────────────────\n",
       "   1 │ tenure                             0.367021\n",
       "   2 │ MonthlyCharges                     0.167477\n",
       "   3 │ Contract__Month-to-month           0.16637\n",
       "   4 │ TotalCharges                       0.0608734\n",
       "   5 │ PaymentMethod__Bank transfer (au…  0.0381171\n",
       "   6 │ Dependents__No                     0.0273874\n",
       "   7 │ SeniorCitizen                      0.0262011\n",
       "   8 │ PaperlessBilling__No               0.024691\n",
       "   9 │ DeviceProtection__No               0.0234396\n",
       "  10 │ StreamingMovies__Yes               0.0182277\n",
       "  11 │ gender__Female                     0.0133198\n",
       "  ⋮  │                 ⋮                      ⋮\n",
       "  36 │ StreamingTV__Yes                   0.0\n",
       "  37 │ PhoneService__No                   0.0\n",
       "  38 │ PhoneService__Yes                  0.0\n",
       "  39 │ DeviceProtection__No internet se…  0.0\n",
       "  40 │ StreamingTV__No internet service   0.0\n",
       "  41 │ StreamingMovies__No internet ser…  0.0\n",
       "  42 │ TechSupport__No internet service   0.0\n",
       "  43 │ MultipleLines__Yes                 0.0\n",
       "  44 │ MultipleLines__No phone service    0.0\n",
       "  45 │ InternetService__DSL               0.0\n",
       "\u001b[36m                                      24 rows omitted\u001b[0m"
      ]
     },
     "execution_count": 44,
     "metadata": {},
     "output_type": "execute_result"
    }
   ],
   "source": [
    "fi = rpt.evo_tree_classifier.feature_importances\n",
    "feature_importance_table =\n",
    "    (feature=Symbol.(first.(fi)), importance=last.(fi)) |> DataFrames.DataFrame"
   ]
  },
  {
   "cell_type": "code",
   "execution_count": 44,
   "id": "5e402cec",
   "metadata": {},
   "outputs": [
    {
     "data": {
      "text/html": [
       "<div class=\"data-frame\"><p>45 rows × 2 columns</p><table class=\"data-frame\"><thead><tr><th></th><th>feature</th><th>importance</th></tr><tr><th></th><th title=\"Symbol\">Symbol</th><th title=\"Float64\">Float64</th></tr></thead><tbody><tr><th>1</th><td>tenure</td><td>0.367021</td></tr><tr><th>2</th><td>MonthlyCharges</td><td>0.167477</td></tr><tr><th>3</th><td>Contract__Month-to-month</td><td>0.16637</td></tr><tr><th>4</th><td>TotalCharges</td><td>0.0608734</td></tr><tr><th>5</th><td>PaymentMethod__Bank transfer (automatic)</td><td>0.0381171</td></tr><tr><th>6</th><td>Dependents__No</td><td>0.0273874</td></tr><tr><th>7</th><td>SeniorCitizen</td><td>0.0262011</td></tr><tr><th>8</th><td>PaperlessBilling__No</td><td>0.024691</td></tr><tr><th>9</th><td>DeviceProtection__No</td><td>0.0234396</td></tr><tr><th>10</th><td>StreamingMovies__Yes</td><td>0.0182277</td></tr><tr><th>11</th><td>gender__Female</td><td>0.0133198</td></tr><tr><th>12</th><td>OnlineBackup__Yes</td><td>0.010152</td></tr><tr><th>13</th><td>MultipleLines__No</td><td>0.0093157</td></tr><tr><th>14</th><td>StreamingTV__No</td><td>0.00695159</td></tr><tr><th>15</th><td>DeviceProtection__Yes</td><td>0.00653241</td></tr><tr><th>16</th><td>PaperlessBilling__Yes</td><td>0.00581502</td></tr><tr><th>17</th><td>TechSupport__No</td><td>0.00460489</td></tr><tr><th>18</th><td>PaymentMethod__Credit card (automatic)</td><td>0.00369404</td></tr><tr><th>19</th><td>StreamingMovies__No</td><td>0.00352602</td></tr><tr><th>20</th><td>Contract__One year</td><td>0.00339499</td></tr><tr><th>21</th><td>Contract__Two year</td><td>0.00316092</td></tr><tr><th>22</th><td>Partner__Yes</td><td>0.00292232</td></tr><tr><th>23</th><td>OnlineBackup__No</td><td>0.0029127</td></tr><tr><th>24</th><td>Dependents__Yes</td><td>0.00225914</td></tr><tr><th>25</th><td>Partner__No</td><td>0.00145106</td></tr><tr><th>26</th><td>gender__Male</td><td>0.000181241</td></tr><tr><th>27</th><td>PaymentMethod__Mailed check</td><td>1.17948e-6</td></tr><tr><th>28</th><td>OnlineSecurity__No internet service</td><td>0.0</td></tr><tr><th>29</th><td>OnlineSecurity__No</td><td>0.0</td></tr><tr><th>30</th><td>PaymentMethod__Electronic check</td><td>0.0</td></tr><tr><th>&vellip;</th><td>&vellip;</td><td>&vellip;</td></tr></tbody></table></div>"
      ],
      "text/latex": [
       "\\begin{tabular}{r|cc}\n",
       "\t& feature & importance\\\\\n",
       "\t\\hline\n",
       "\t& Symbol & Float64\\\\\n",
       "\t\\hline\n",
       "\t1 & tenure & 0.367021 \\\\\n",
       "\t2 & MonthlyCharges & 0.167477 \\\\\n",
       "\t3 & Contract\\_\\_Month-to-month & 0.16637 \\\\\n",
       "\t4 & TotalCharges & 0.0608734 \\\\\n",
       "\t5 & PaymentMethod\\_\\_Bank transfer (automatic) & 0.0381171 \\\\\n",
       "\t6 & Dependents\\_\\_No & 0.0273874 \\\\\n",
       "\t7 & SeniorCitizen & 0.0262011 \\\\\n",
       "\t8 & PaperlessBilling\\_\\_No & 0.024691 \\\\\n",
       "\t9 & DeviceProtection\\_\\_No & 0.0234396 \\\\\n",
       "\t10 & StreamingMovies\\_\\_Yes & 0.0182277 \\\\\n",
       "\t11 & gender\\_\\_Female & 0.0133198 \\\\\n",
       "\t12 & OnlineBackup\\_\\_Yes & 0.010152 \\\\\n",
       "\t13 & MultipleLines\\_\\_No & 0.0093157 \\\\\n",
       "\t14 & StreamingTV\\_\\_No & 0.00695159 \\\\\n",
       "\t15 & DeviceProtection\\_\\_Yes & 0.00653241 \\\\\n",
       "\t16 & PaperlessBilling\\_\\_Yes & 0.00581502 \\\\\n",
       "\t17 & TechSupport\\_\\_No & 0.00460489 \\\\\n",
       "\t18 & PaymentMethod\\_\\_Credit card (automatic) & 0.00369404 \\\\\n",
       "\t19 & StreamingMovies\\_\\_No & 0.00352602 \\\\\n",
       "\t20 & Contract\\_\\_One year & 0.00339499 \\\\\n",
       "\t21 & Contract\\_\\_Two year & 0.00316092 \\\\\n",
       "\t22 & Partner\\_\\_Yes & 0.00292232 \\\\\n",
       "\t23 & OnlineBackup\\_\\_No & 0.0029127 \\\\\n",
       "\t24 & Dependents\\_\\_Yes & 0.00225914 \\\\\n",
       "\t25 & Partner\\_\\_No & 0.00145106 \\\\\n",
       "\t26 & gender\\_\\_Male & 0.000181241 \\\\\n",
       "\t27 & PaymentMethod\\_\\_Mailed check & 1.17948e-6 \\\\\n",
       "\t28 & OnlineSecurity\\_\\_No internet service & 0.0 \\\\\n",
       "\t29 & OnlineSecurity\\_\\_No & 0.0 \\\\\n",
       "\t30 & PaymentMethod\\_\\_Electronic check & 0.0 \\\\\n",
       "\t$\\dots$ & $\\dots$ & $\\dots$ \\\\\n",
       "\\end{tabular}\n"
      ],
      "text/plain": [
       "\u001b[1m45×2 DataFrame\u001b[0m\n",
       "\u001b[1m Row \u001b[0m│\u001b[1m feature                           \u001b[0m\u001b[1m importance \u001b[0m\n",
       "\u001b[1m     \u001b[0m│\u001b[90m Symbol                            \u001b[0m\u001b[90m Float64    \u001b[0m\n",
       "─────┼───────────────────────────────────────────────\n",
       "   1 │ tenure                             0.367021\n",
       "   2 │ MonthlyCharges                     0.167477\n",
       "   3 │ Contract__Month-to-month           0.16637\n",
       "   4 │ TotalCharges                       0.0608734\n",
       "   5 │ PaymentMethod__Bank transfer (au…  0.0381171\n",
       "   6 │ Dependents__No                     0.0273874\n",
       "   7 │ SeniorCitizen                      0.0262011\n",
       "   8 │ PaperlessBilling__No               0.024691\n",
       "   9 │ DeviceProtection__No               0.0234396\n",
       "  10 │ StreamingMovies__Yes               0.0182277\n",
       "  11 │ gender__Female                     0.0133198\n",
       "  ⋮  │                 ⋮                      ⋮\n",
       "  36 │ StreamingTV__Yes                   0.0\n",
       "  37 │ PhoneService__No                   0.0\n",
       "  38 │ PhoneService__Yes                  0.0\n",
       "  39 │ DeviceProtection__No internet se…  0.0\n",
       "  40 │ StreamingTV__No internet service   0.0\n",
       "  41 │ StreamingMovies__No internet ser…  0.0\n",
       "  42 │ TechSupport__No internet service   0.0\n",
       "  43 │ MultipleLines__Yes                 0.0\n",
       "  44 │ MultipleLines__No phone service    0.0\n",
       "  45 │ InternetService__DSL               0.0\n",
       "\u001b[36m                                      24 rows omitted\u001b[0m"
      ]
     },
     "execution_count": 44,
     "metadata": {},
     "output_type": "execute_result"
    }
   ],
   "source": [
    "fi = rpt.evo_tree_classifier.feature_importances\n",
    "feature_importance_table =\n",
    "    (feature=Symbol.(first.(fi)), importance=last.(fi)) |> DataFrames.DataFrame"
   ]
  },
  {
   "cell_type": "code",
   "execution_count": 51,
   "id": "9350b43e-c593-4245-9d3b-d1e775b01b72",
   "metadata": {},
   "outputs": [
    {
     "name": "stderr",
     "output_type": "stream",
     "text": [
      "┌ Info: Measurements\n",
      "│   brier_loss(ŷ, y[validation]) |> mean = 0.27683139589958233\n",
      "│   auc(ŷ, y[validation]) = 0.8171277997364954\n",
      "│   accuracy(mode.(ŷ), y[validation]) = 0.7972972972972973\n",
      "└ @ Main In[51]:2\n"
     ]
    }
   ],
   "source": [
    "ŷ = predict(mach_pipe, rows=validation);\n",
    "@info(\"Measurements\",\n",
    "      brier_loss(ŷ, y[validation]) |> mean,\n",
    "      auc(ŷ, y[validation]),\n",
    "      accuracy(mode.(ŷ), y[validation])\n",
    "      )"
   ]
  },
  {
   "cell_type": "code",
   "execution_count": 52,
   "id": "f6830b56-6c71-42bc-92e2-ce0a57d95938",
   "metadata": {},
   "outputs": [
    {
     "data": {
      "text/plain": [
       "              ┌───────────────────────────┐\n",
       "              │       Ground Truth        │\n",
       "┌─────────────┼─────────────┬─────────────┤\n",
       "│  Predicted  │     No      │     Yes     │\n",
       "├─────────────┼─────────────┼─────────────┤\n",
       "│     No      │     101     │     16      │\n",
       "├─────────────┼─────────────┼─────────────┤\n",
       "│     Yes     │     14      │     17      │\n",
       "└─────────────┴─────────────┴─────────────┘\n"
      ]
     },
     "execution_count": 52,
     "metadata": {},
     "output_type": "execute_result"
    }
   ],
   "source": [
    "confmat(mode.(ŷ), y[validation])"
   ]
  },
  {
   "cell_type": "code",
   "execution_count": 61,
   "id": "1b7593dc-86ae-467e-a4b9-70abf993eaf0",
   "metadata": {},
   "outputs": [],
   "source": [
    "fp, tp = roc(ŷ, y[validation]);"
   ]
  },
  {
   "cell_type": "code",
   "execution_count": 75,
   "id": "db1d28cd-beb6-403c-90ee-e124faae94a6",
   "metadata": {},
   "outputs": [
    {
     "data": {
      "application/vnd.vegalite.v4+json": {
       "layer": [
        {
         "data": {
          "values": [
           {
            "fp": 0,
            "tp": 0
           },
           {
            "fp": 0,
            "tp": 0.030303030303030304
           },
           {
            "fp": 0,
            "tp": 0.06060606060606061
           },
           {
            "fp": 0,
            "tp": 0.12121212121212122
           },
           {
            "fp": 0,
            "tp": 0.15151515151515152
           },
           {
            "fp": 0.008695652173913044,
            "tp": 0.15151515151515152
           },
           {
            "fp": 0.008695652173913044,
            "tp": 0.18181818181818182
           },
           {
            "fp": 0.008695652173913044,
            "tp": 0.21212121212121213
           },
           {
            "fp": 0.008695652173913044,
            "tp": 0.24242424242424243
           },
           {
            "fp": 0.017391304347826087,
            "tp": 0.24242424242424243
           },
           {
            "fp": 0.02608695652173913,
            "tp": 0.24242424242424243
           },
           {
            "fp": 0.02608695652173913,
            "tp": 0.2727272727272727
           },
           {
            "fp": 0.034782608695652174,
            "tp": 0.2727272727272727
           },
           {
            "fp": 0.043478260869565216,
            "tp": 0.30303030303030304
           },
           {
            "fp": 0.043478260869565216,
            "tp": 0.3333333333333333
           },
           {
            "fp": 0.05217391304347826,
            "tp": 0.3333333333333333
           },
           {
            "fp": 0.06086956521739131,
            "tp": 0.3333333333333333
           },
           {
            "fp": 0.06086956521739131,
            "tp": 0.36363636363636365
           },
           {
            "fp": 0.06956521739130435,
            "tp": 0.36363636363636365
           },
           {
            "fp": 0.0782608695652174,
            "tp": 0.36363636363636365
           },
           {
            "fp": 0.08695652173913043,
            "tp": 0.36363636363636365
           },
           {
            "fp": 0.09565217391304348,
            "tp": 0.36363636363636365
           },
           {
            "fp": 0.09565217391304348,
            "tp": 0.3939393939393939
           },
           {
            "fp": 0.10434782608695652,
            "tp": 0.3939393939393939
           },
           {
            "fp": 0.10434782608695652,
            "tp": 0.42424242424242425
           },
           {
            "fp": 0.10434782608695652,
            "tp": 0.45454545454545453
           },
           {
            "fp": 0.11304347826086956,
            "tp": 0.45454545454545453
           },
           {
            "fp": 0.12173913043478261,
            "tp": 0.45454545454545453
           },
           {
            "fp": 0.12173913043478261,
            "tp": 0.5151515151515151
           },
           {
            "fp": 0.12173913043478261,
            "tp": 0.5454545454545454
           },
           {
            "fp": 0.13043478260869565,
            "tp": 0.5454545454545454
           },
           {
            "fp": 0.1391304347826087,
            "tp": 0.5454545454545454
           },
           {
            "fp": 0.14782608695652175,
            "tp": 0.5454545454545454
           },
           {
            "fp": 0.1565217391304348,
            "tp": 0.5454545454545454
           },
           {
            "fp": 0.16521739130434782,
            "tp": 0.5454545454545454
           },
           {
            "fp": 0.17391304347826086,
            "tp": 0.5454545454545454
           },
           {
            "fp": 0.17391304347826086,
            "tp": 0.5757575757575758
           },
           {
            "fp": 0.1826086956521739,
            "tp": 0.5757575757575758
           },
           {
            "fp": 0.1826086956521739,
            "tp": 0.6060606060606061
           },
           {
            "fp": 0.19130434782608696,
            "tp": 0.6060606060606061
           },
           {
            "fp": 0.19130434782608696,
            "tp": 0.6363636363636364
           },
           {
            "fp": 0.19130434782608696,
            "tp": 0.6666666666666666
           },
           {
            "fp": 0.2,
            "tp": 0.6666666666666666
           },
           {
            "fp": 0.2,
            "tp": 0.696969696969697
           },
           {
            "fp": 0.20869565217391303,
            "tp": 0.696969696969697
           },
           {
            "fp": 0.21739130434782608,
            "tp": 0.696969696969697
           },
           {
            "fp": 0.22608695652173913,
            "tp": 0.696969696969697
           },
           {
            "fp": 0.23478260869565218,
            "tp": 0.696969696969697
           },
           {
            "fp": 0.23478260869565218,
            "tp": 0.7272727272727273
           },
           {
            "fp": 0.24347826086956523,
            "tp": 0.7272727272727273
           },
           {
            "fp": 0.25217391304347825,
            "tp": 0.7272727272727273
           },
           {
            "fp": 0.25217391304347825,
            "tp": 0.7575757575757576
           },
           {
            "fp": 0.2608695652173913,
            "tp": 0.7575757575757576
           },
           {
            "fp": 0.2608695652173913,
            "tp": 0.7878787878787878
           },
           {
            "fp": 0.26956521739130435,
            "tp": 0.7878787878787878
           },
           {
            "fp": 0.2782608695652174,
            "tp": 0.7878787878787878
           },
           {
            "fp": 0.28695652173913044,
            "tp": 0.7878787878787878
           },
           {
            "fp": 0.2956521739130435,
            "tp": 0.7878787878787878
           },
           {
            "fp": 0.2956521739130435,
            "tp": 0.8181818181818182
           },
           {
            "fp": 0.30434782608695654,
            "tp": 0.8181818181818182
           },
           {
            "fp": 0.3130434782608696,
            "tp": 0.8181818181818182
           },
           {
            "fp": 0.3217391304347826,
            "tp": 0.8181818181818182
           },
           {
            "fp": 0.33043478260869563,
            "tp": 0.8181818181818182
           },
           {
            "fp": 0.3391304347826087,
            "tp": 0.8181818181818182
           },
           {
            "fp": 0.34782608695652173,
            "tp": 0.8181818181818182
           },
           {
            "fp": 0.3565217391304348,
            "tp": 0.8181818181818182
           },
           {
            "fp": 0.3652173913043478,
            "tp": 0.8181818181818182
           },
           {
            "fp": 0.3739130434782609,
            "tp": 0.8181818181818182
           },
           {
            "fp": 0.391304347826087,
            "tp": 0.8181818181818182
           },
           {
            "fp": 0.4,
            "tp": 0.8181818181818182
           },
           {
            "fp": 0.40869565217391307,
            "tp": 0.8181818181818182
           },
           {
            "fp": 0.40869565217391307,
            "tp": 0.8484848484848485
           },
           {
            "fp": 0.41739130434782606,
            "tp": 0.8484848484848485
           },
           {
            "fp": 0.4260869565217391,
            "tp": 0.8484848484848485
           },
           {
            "fp": 0.43478260869565216,
            "tp": 0.8484848484848485
           },
           {
            "fp": 0.43478260869565216,
            "tp": 0.8787878787878788
           },
           {
            "fp": 0.4608695652173913,
            "tp": 0.8787878787878788
           },
           {
            "fp": 0.46956521739130436,
            "tp": 0.8787878787878788
           },
           {
            "fp": 0.4782608695652174,
            "tp": 0.8787878787878788
           },
           {
            "fp": 0.4956521739130435,
            "tp": 0.8787878787878788
           },
           {
            "fp": 0.5043478260869565,
            "tp": 0.8787878787878788
           },
           {
            "fp": 0.5130434782608696,
            "tp": 0.9090909090909091
           },
           {
            "fp": 0.5217391304347826,
            "tp": 0.9393939393939394
           },
           {
            "fp": 0.5304347826086957,
            "tp": 0.9393939393939394
           },
           {
            "fp": 0.5391304347826087,
            "tp": 0.9393939393939394
           },
           {
            "fp": 0.5565217391304348,
            "tp": 0.9393939393939394
           },
           {
            "fp": 0.5652173913043478,
            "tp": 0.9393939393939394
           },
           {
            "fp": 0.5826086956521739,
            "tp": 0.9393939393939394
           },
           {
            "fp": 0.591304347826087,
            "tp": 0.9393939393939394
           },
           {
            "fp": 0.6086956521739131,
            "tp": 0.9393939393939394
           },
           {
            "fp": 0.6173913043478261,
            "tp": 0.9393939393939394
           },
           {
            "fp": 0.6260869565217392,
            "tp": 0.9393939393939394
           },
           {
            "fp": 0.6347826086956522,
            "tp": 0.9393939393939394
           },
           {
            "fp": 0.6434782608695652,
            "tp": 0.9393939393939394
           },
           {
            "fp": 0.6521739130434783,
            "tp": 0.9393939393939394
           },
           {
            "fp": 0.6521739130434783,
            "tp": 0.9696969696969697
           },
           {
            "fp": 0.6608695652173913,
            "tp": 1
           },
           {
            "fp": 0.6695652173913044,
            "tp": 1
           },
           {
            "fp": 0.6956521739130435,
            "tp": 1
           },
           {
            "fp": 0.7043478260869566,
            "tp": 1
           },
           {
            "fp": 0.7130434782608696,
            "tp": 1
           },
           {
            "fp": 0.7217391304347827,
            "tp": 1
           },
           {
            "fp": 0.7304347826086957,
            "tp": 1
           },
           {
            "fp": 0.7913043478260869,
            "tp": 1
           },
           {
            "fp": 0.8,
            "tp": 1
           },
           {
            "fp": 0.8260869565217391,
            "tp": 1
           },
           {
            "fp": 0.8347826086956521,
            "tp": 1
           },
           {
            "fp": 0.8434782608695652,
            "tp": 1
           },
           {
            "fp": 0.8521739130434782,
            "tp": 1
           },
           {
            "fp": 0.8608695652173913,
            "tp": 1
           },
           {
            "fp": 0.8695652173913043,
            "tp": 1
           },
           {
            "fp": 0.9304347826086956,
            "tp": 1
           },
           {
            "fp": 0.9391304347826087,
            "tp": 1
           },
           {
            "fp": 1,
            "tp": 1
           }
          ]
         },
         "encoding": {
          "x": {
           "field": "fp",
           "title": "False Positive",
           "type": "q"
          },
          "y": {
           "field": "tp",
           "tiltle": "True Positive",
           "type": "q"
          }
         },
         "height": 400,
         "mark": "point",
         "width": 400
        },
        {
         "data": {
          "values": [
           {
            "fp": 0,
            "tp": 0
           },
           {
            "fp": 1,
            "tp": 1
           }
          ]
         },
         "encoding": {
          "x": {
           "field": "fp",
           "title": "False Positive",
           "type": "q"
          },
          "y": {
           "field": "tp",
           "tiltle": "True Positive",
           "type": "q"
          }
         },
         "height": 400,
         "mark": {
          "color": "black",
          "type": "line"
         },
         "width": 400
        }
       ]
      },
      "image/png": "[encoded data removed]",
      "image/svg+xml": [
       "<?xml version=\"1.0\" encoding=\"utf-8\"?>\n",
       "<!DOCTYPE svg PUBLIC \"-//W3C//DTD SVG 1.1//EN\" \"http://www.w3.org/Graphics/SVG/1.1/DTD/svg11.dtd\">\n",
       "<svg xmlns=\"http://www.w3.org/2000/svg\" xmlns:xlink=\"http://www.w3.org/1999/xlink\" version=\"1.1\" class=\"marks\" width=\"452\" height=\"447\" viewBox=\"0 0 452 447\"><rect width=\"452\" height=\"447\" fill=\"white\"/><g fill=\"none\" stroke-miterlimit=\"10\" transform=\"translate(42,10)\"><g class=\"mark-group role-frame root\" role=\"graphics-object\" aria-roledescription=\"group mark container\"><g transform=\"translate(0,0)\"><path class=\"background\" aria-hidden=\"true\" d=\"M0.5,0.5h400v400h-400Z\" stroke=\"#ddd\"/><g><g class=\"mark-group role-axis\" aria-hidden=\"true\"><g transform=\"translate(0.5,400.5)\"><path class=\"background\" aria-hidden=\"true\" d=\"M0,0h0v0h0Z\" pointer-events=\"none\"/><g><g class=\"mark-rule role-axis-grid\" pointer-events=\"none\"><line transform=\"translate(0,-400)\" x2=\"0\" y2=\"400\" stroke=\"#ddd\" stroke-width=\"1\" opacity=\"1\"/><line transform=\"translate(40,-400)\" x2=\"0\" y2=\"400\" stroke=\"#ddd\" stroke-width=\"1\" opacity=\"1\"/><line transform=\"translate(80,-400)\" x2=\"0\" y2=\"400\" stroke=\"#ddd\" stroke-width=\"1\" opacity=\"1\"/><line transform=\"translate(120,-400)\" x2=\"0\" y2=\"400\" stroke=\"#ddd\" stroke-width=\"1\" opacity=\"1\"/><line transform=\"translate(160,-400)\" x2=\"0\" y2=\"400\" stroke=\"#ddd\" stroke-width=\"1\" opacity=\"1\"/><line transform=\"translate(200,-400)\" x2=\"0\" y2=\"400\" stroke=\"#ddd\" stroke-width=\"1\" opacity=\"1\"/><line transform=\"translate(240,-400)\" x2=\"0\" y2=\"400\" stroke=\"#ddd\" stroke-width=\"1\" opacity=\"1\"/><line transform=\"translate(280,-400)\" x2=\"0\" y2=\"400\" stroke=\"#ddd\" stroke-width=\"1\" opacity=\"1\"/><line transform=\"translate(320,-400)\" x2=\"0\" y2=\"400\" stroke=\"#ddd\" stroke-width=\"1\" opacity=\"1\"/><line transform=\"translate(360,-400)\" x2=\"0\" y2=\"400\" stroke=\"#ddd\" stroke-width=\"1\" opacity=\"1\"/><line transform=\"translate(400,-400)\" x2=\"0\" y2=\"400\" stroke=\"#ddd\" stroke-width=\"1\" opacity=\"1\"/></g></g><path class=\"foreground\" aria-hidden=\"true\" d=\"\" pointer-events=\"none\" display=\"none\"/></g></g><g class=\"mark-group role-axis\" aria-hidden=\"true\"><g transform=\"translate(0.5,0.5)\"><path class=\"background\" aria-hidden=\"true\" d=\"M0,0h0v0h0Z\" pointer-events=\"none\"/><g><g class=\"mark-rule role-axis-grid\" pointer-events=\"none\"><line transform=\"translate(0,400)\" x2=\"400\" y2=\"0\" stroke=\"#ddd\" stroke-width=\"1\" opacity=\"1\"/><line transform=\"translate(0,360)\" x2=\"400\" y2=\"0\" stroke=\"#ddd\" stroke-width=\"1\" opacity=\"1\"/><line transform=\"translate(0,320)\" x2=\"400\" y2=\"0\" stroke=\"#ddd\" stroke-width=\"1\" opacity=\"1\"/><line transform=\"translate(0,280)\" x2=\"400\" y2=\"0\" stroke=\"#ddd\" stroke-width=\"1\" opacity=\"1\"/><line transform=\"translate(0,240)\" x2=\"400\" y2=\"0\" stroke=\"#ddd\" stroke-width=\"1\" opacity=\"1\"/><line transform=\"translate(0,200)\" x2=\"400\" y2=\"0\" stroke=\"#ddd\" stroke-width=\"1\" opacity=\"1\"/><line transform=\"translate(0,160)\" x2=\"400\" y2=\"0\" stroke=\"#ddd\" stroke-width=\"1\" opacity=\"1\"/><line transform=\"translate(0,120)\" x2=\"400\" y2=\"0\" stroke=\"#ddd\" stroke-width=\"1\" opacity=\"1\"/><line transform=\"translate(0,80)\" x2=\"400\" y2=\"0\" stroke=\"#ddd\" stroke-width=\"1\" opacity=\"1\"/><line transform=\"translate(0,40)\" x2=\"400\" y2=\"0\" stroke=\"#ddd\" stroke-width=\"1\" opacity=\"1\"/><line transform=\"translate(0,0)\" x2=\"400\" y2=\"0\" stroke=\"#ddd\" stroke-width=\"1\" opacity=\"1\"/></g></g><path class=\"foreground\" aria-hidden=\"true\" d=\"\" pointer-events=\"none\" display=\"none\"/></g></g><g class=\"mark-group role-axis\" role=\"graphics-symbol\" aria-roledescription=\"axis\" aria-label=\"X-axis titled 'False Positive' for a linear scale with values from 0.0 to 1.0\"><g transform=\"translate(0.5,400.5)\"><path class=\"background\" aria-hidden=\"true\" d=\"M0,0h0v0h0Z\" pointer-events=\"none\"/><g><g class=\"mark-rule role-axis-tick\" pointer-events=\"none\"><line transform=\"translate(0,0)\" x2=\"0\" y2=\"5\" stroke=\"#888\" stroke-width=\"1\" opacity=\"1\"/><line transform=\"translate(40,0)\" x2=\"0\" y2=\"5\" stroke=\"#888\" stroke-width=\"1\" opacity=\"1\"/><line transform=\"translate(80,0)\" x2=\"0\" y2=\"5\" stroke=\"#888\" stroke-width=\"1\" opacity=\"1\"/><line transform=\"translate(120,0)\" x2=\"0\" y2=\"5\" stroke=\"#888\" stroke-width=\"1\" opacity=\"1\"/><line transform=\"translate(160,0)\" x2=\"0\" y2=\"5\" stroke=\"#888\" stroke-width=\"1\" opacity=\"1\"/><line transform=\"translate(200,0)\" x2=\"0\" y2=\"5\" stroke=\"#888\" stroke-width=\"1\" opacity=\"1\"/><line transform=\"translate(240,0)\" x2=\"0\" y2=\"5\" stroke=\"#888\" stroke-width=\"1\" opacity=\"1\"/><line transform=\"translate(280,0)\" x2=\"0\" y2=\"5\" stroke=\"#888\" stroke-width=\"1\" opacity=\"1\"/><line transform=\"translate(320,0)\" x2=\"0\" y2=\"5\" stroke=\"#888\" stroke-width=\"1\" opacity=\"1\"/><line transform=\"translate(360,0)\" x2=\"0\" y2=\"5\" stroke=\"#888\" stroke-width=\"1\" opacity=\"1\"/><line transform=\"translate(400,0)\" x2=\"0\" y2=\"5\" stroke=\"#888\" stroke-width=\"1\" opacity=\"1\"/></g><g class=\"mark-text role-axis-label\" pointer-events=\"none\"><text text-anchor=\"start\" transform=\"translate(0,15)\" font-family=\"sans-serif\" font-size=\"10px\" fill=\"#000\" opacity=\"1\">0.0</text><text text-anchor=\"middle\" transform=\"translate(40,15)\" font-family=\"sans-serif\" font-size=\"10px\" fill=\"#000\" opacity=\"1\">0.1</text><text text-anchor=\"middle\" transform=\"translate(80,15)\" font-family=\"sans-serif\" font-size=\"10px\" fill=\"#000\" opacity=\"1\">0.2</text><text text-anchor=\"middle\" transform=\"translate(120,15)\" font-family=\"sans-serif\" font-size=\"10px\" fill=\"#000\" opacity=\"1\">0.3</text><text text-anchor=\"middle\" transform=\"translate(160,15)\" font-family=\"sans-serif\" font-size=\"10px\" fill=\"#000\" opacity=\"1\">0.4</text><text text-anchor=\"middle\" transform=\"translate(200,15)\" font-family=\"sans-serif\" font-size=\"10px\" fill=\"#000\" opacity=\"1\">0.5</text><text text-anchor=\"middle\" transform=\"translate(240,15)\" font-family=\"sans-serif\" font-size=\"10px\" fill=\"#000\" opacity=\"1\">0.6</text><text text-anchor=\"middle\" transform=\"translate(280,15)\" font-family=\"sans-serif\" font-size=\"10px\" fill=\"#000\" opacity=\"1\">0.7</text><text text-anchor=\"middle\" transform=\"translate(320,15)\" font-family=\"sans-serif\" font-size=\"10px\" fill=\"#000\" opacity=\"1\">0.8</text><text text-anchor=\"middle\" transform=\"translate(360,15)\" font-family=\"sans-serif\" font-size=\"10px\" fill=\"#000\" opacity=\"1\">0.9</text><text text-anchor=\"end\" transform=\"translate(400,15)\" font-family=\"sans-serif\" font-size=\"10px\" fill=\"#000\" opacity=\"1\">1.0</text></g><g class=\"mark-rule role-axis-domain\" pointer-events=\"none\"><line transform=\"translate(0,0)\" x2=\"400\" y2=\"0\" stroke=\"#888\" stroke-width=\"1\" opacity=\"1\"/></g><g class=\"mark-text role-axis-title\" pointer-events=\"none\"><text text-anchor=\"middle\" transform=\"translate(200,30)\" font-family=\"sans-serif\" font-size=\"11px\" font-weight=\"bold\" fill=\"#000\" opacity=\"1\">False Positive</text></g></g><path class=\"foreground\" aria-hidden=\"true\" d=\"\" pointer-events=\"none\" display=\"none\"/></g></g><g class=\"mark-group role-axis\" role=\"graphics-symbol\" aria-roledescription=\"axis\" aria-label=\"Y-axis titled 'tp' for a linear scale with values from 0.0 to 1.0\"><g transform=\"translate(0.5,0.5)\"><path class=\"background\" aria-hidden=\"true\" d=\"M0,0h0v0h0Z\" pointer-events=\"none\"/><g><g class=\"mark-rule role-axis-tick\" pointer-events=\"none\"><line transform=\"translate(0,400)\" x2=\"-5\" y2=\"0\" stroke=\"#888\" stroke-width=\"1\" opacity=\"1\"/><line transform=\"translate(0,360)\" x2=\"-5\" y2=\"0\" stroke=\"#888\" stroke-width=\"1\" opacity=\"1\"/><line transform=\"translate(0,320)\" x2=\"-5\" y2=\"0\" stroke=\"#888\" stroke-width=\"1\" opacity=\"1\"/><line transform=\"translate(0,280)\" x2=\"-5\" y2=\"0\" stroke=\"#888\" stroke-width=\"1\" opacity=\"1\"/><line transform=\"translate(0,240)\" x2=\"-5\" y2=\"0\" stroke=\"#888\" stroke-width=\"1\" opacity=\"1\"/><line transform=\"translate(0,200)\" x2=\"-5\" y2=\"0\" stroke=\"#888\" stroke-width=\"1\" opacity=\"1\"/><line transform=\"translate(0,160)\" x2=\"-5\" y2=\"0\" stroke=\"#888\" stroke-width=\"1\" opacity=\"1\"/><line transform=\"translate(0,120)\" x2=\"-5\" y2=\"0\" stroke=\"#888\" stroke-width=\"1\" opacity=\"1\"/><line transform=\"translate(0,80)\" x2=\"-5\" y2=\"0\" stroke=\"#888\" stroke-width=\"1\" opacity=\"1\"/><line transform=\"translate(0,40)\" x2=\"-5\" y2=\"0\" stroke=\"#888\" stroke-width=\"1\" opacity=\"1\"/><line transform=\"translate(0,0)\" x2=\"-5\" y2=\"0\" stroke=\"#888\" stroke-width=\"1\" opacity=\"1\"/></g><g class=\"mark-text role-axis-label\" pointer-events=\"none\"><text text-anchor=\"end\" transform=\"translate(-7,403)\" font-family=\"sans-serif\" font-size=\"10px\" fill=\"#000\" opacity=\"1\">0.0</text><text text-anchor=\"end\" transform=\"translate(-7,363)\" font-family=\"sans-serif\" font-size=\"10px\" fill=\"#000\" opacity=\"1\">0.1</text><text text-anchor=\"end\" transform=\"translate(-7,323)\" font-family=\"sans-serif\" font-size=\"10px\" fill=\"#000\" opacity=\"1\">0.2</text><text text-anchor=\"end\" transform=\"translate(-7,283)\" font-family=\"sans-serif\" font-size=\"10px\" fill=\"#000\" opacity=\"1\">0.3</text><text text-anchor=\"end\" transform=\"translate(-7,243)\" font-family=\"sans-serif\" font-size=\"10px\" fill=\"#000\" opacity=\"1\">0.4</text><text text-anchor=\"end\" transform=\"translate(-7,203)\" font-family=\"sans-serif\" font-size=\"10px\" fill=\"#000\" opacity=\"1\">0.5</text><text text-anchor=\"end\" transform=\"translate(-7,163)\" font-family=\"sans-serif\" font-size=\"10px\" fill=\"#000\" opacity=\"1\">0.6</text><text text-anchor=\"end\" transform=\"translate(-7,123.00000000000001)\" font-family=\"sans-serif\" font-size=\"10px\" fill=\"#000\" opacity=\"1\">0.7</text><text text-anchor=\"end\" transform=\"translate(-7,82.99999999999999)\" font-family=\"sans-serif\" font-size=\"10px\" fill=\"#000\" opacity=\"1\">0.8</text><text text-anchor=\"end\" transform=\"translate(-7,42.99999999999999)\" font-family=\"sans-serif\" font-size=\"10px\" fill=\"#000\" opacity=\"1\">0.9</text><text text-anchor=\"end\" transform=\"translate(-7,3)\" font-family=\"sans-serif\" font-size=\"10px\" fill=\"#000\" opacity=\"1\">1.0</text></g><g class=\"mark-rule role-axis-domain\" pointer-events=\"none\"><line transform=\"translate(0,400)\" x2=\"0\" y2=\"-400\" stroke=\"#888\" stroke-width=\"1\" opacity=\"1\"/></g><g class=\"mark-text role-axis-title\" pointer-events=\"none\"><text text-anchor=\"middle\" transform=\"translate(-26,200) rotate(-90) translate(0,-2)\" font-family=\"sans-serif\" font-size=\"11px\" font-weight=\"bold\" fill=\"#000\" opacity=\"1\">tp</text></g></g><path class=\"foreground\" aria-hidden=\"true\" d=\"\" pointer-events=\"none\" display=\"none\"/></g></g><g class=\"mark-symbol role-mark layer_0_marks\" role=\"graphics-object\" aria-roledescription=\"symbol mark container\"><path aria-label=\"False Positive: 0; tp: 0\" role=\"graphics-symbol\" aria-roledescription=\"point\" transform=\"translate(0,400)\" d=\"M2.7386127875258306,0A2.7386127875258306,2.7386127875258306,0,1,1,-2.7386127875258306,0A2.7386127875258306,2.7386127875258306,0,1,1,2.7386127875258306,0\" stroke=\"#4c78a8\" stroke-width=\"2\" opacity=\"0.7\"/><path aria-label=\"False Positive: 0; tp: 0.030303030303\" role=\"graphics-symbol\" aria-roledescription=\"point\" transform=\"translate(0,387.8787878787879)\" d=\"M2.7386127875258306,0A2.7386127875258306,2.7386127875258306,0,1,1,-2.7386127875258306,0A2.7386127875258306,2.7386127875258306,0,1,1,2.7386127875258306,0\" stroke=\"#4c78a8\" stroke-width=\"2\" opacity=\"0.7\"/><path aria-label=\"False Positive: 0; tp: 0.0606060606061\" role=\"graphics-symbol\" aria-roledescription=\"point\" transform=\"translate(0,375.75757575757575)\" d=\"M2.7386127875258306,0A2.7386127875258306,2.7386127875258306,0,1,1,-2.7386127875258306,0A2.7386127875258306,2.7386127875258306,0,1,1,2.7386127875258306,0\" stroke=\"#4c78a8\" stroke-width=\"2\" opacity=\"0.7\"/><path aria-label=\"False Positive: 0; tp: 0.121212121212\" role=\"graphics-symbol\" aria-roledescription=\"point\" transform=\"translate(0,351.5151515151515)\" d=\"M2.7386127875258306,0A2.7386127875258306,2.7386127875258306,0,1,1,-2.7386127875258306,0A2.7386127875258306,2.7386127875258306,0,1,1,2.7386127875258306,0\" stroke=\"#4c78a8\" stroke-width=\"2\" opacity=\"0.7\"/><path aria-label=\"False Positive: 0; tp: 0.151515151515\" role=\"graphics-symbol\" aria-roledescription=\"point\" transform=\"translate(0,339.3939393939394)\" d=\"M2.7386127875258306,0A2.7386127875258306,2.7386127875258306,0,1,1,-2.7386127875258306,0A2.7386127875258306,2.7386127875258306,0,1,1,2.7386127875258306,0\" stroke=\"#4c78a8\" stroke-width=\"2\" opacity=\"0.7\"/><path aria-label=\"False Positive: 0.00869565217391; tp: 0.151515151515\" role=\"graphics-symbol\" aria-roledescription=\"point\" transform=\"translate(3.4782608695652173,339.3939393939394)\" d=\"M2.7386127875258306,0A2.7386127875258306,2.7386127875258306,0,1,1,-2.7386127875258306,0A2.7386127875258306,2.7386127875258306,0,1,1,2.7386127875258306,0\" stroke=\"#4c78a8\" stroke-width=\"2\" opacity=\"0.7\"/><path aria-label=\"False Positive: 0.00869565217391; tp: 0.181818181818\" role=\"graphics-symbol\" aria-roledescription=\"point\" transform=\"translate(3.4782608695652173,327.27272727272725)\" d=\"M2.7386127875258306,0A2.7386127875258306,2.7386127875258306,0,1,1,-2.7386127875258306,0A2.7386127875258306,2.7386127875258306,0,1,1,2.7386127875258306,0\" stroke=\"#4c78a8\" stroke-width=\"2\" opacity=\"0.7\"/><path aria-label=\"False Positive: 0.00869565217391; tp: 0.212121212121\" role=\"graphics-symbol\" aria-roledescription=\"point\" transform=\"translate(3.4782608695652173,315.1515151515151)\" d=\"M2.7386127875258306,0A2.7386127875258306,2.7386127875258306,0,1,1,-2.7386127875258306,0A2.7386127875258306,2.7386127875258306,0,1,1,2.7386127875258306,0\" stroke=\"#4c78a8\" stroke-width=\"2\" opacity=\"0.7\"/><path aria-label=\"False Positive: 0.00869565217391; tp: 0.242424242424\" role=\"graphics-symbol\" aria-roledescription=\"point\" transform=\"translate(3.4782608695652173,303.030303030303)\" d=\"M2.7386127875258306,0A2.7386127875258306,2.7386127875258306,0,1,1,-2.7386127875258306,0A2.7386127875258306,2.7386127875258306,0,1,1,2.7386127875258306,0\" stroke=\"#4c78a8\" stroke-width=\"2\" opacity=\"0.7\"/><path aria-label=\"False Positive: 0.0173913043478; tp: 0.242424242424\" role=\"graphics-symbol\" aria-roledescription=\"point\" transform=\"translate(6.956521739130435,303.030303030303)\" d=\"M2.7386127875258306,0A2.7386127875258306,2.7386127875258306,0,1,1,-2.7386127875258306,0A2.7386127875258306,2.7386127875258306,0,1,1,2.7386127875258306,0\" stroke=\"#4c78a8\" stroke-width=\"2\" opacity=\"0.7\"/><path aria-label=\"False Positive: 0.0260869565217; tp: 0.242424242424\" role=\"graphics-symbol\" aria-roledescription=\"point\" transform=\"translate(10.434782608695652,303.030303030303)\" d=\"M2.7386127875258306,0A2.7386127875258306,2.7386127875258306,0,1,1,-2.7386127875258306,0A2.7386127875258306,2.7386127875258306,0,1,1,2.7386127875258306,0\" stroke=\"#4c78a8\" stroke-width=\"2\" opacity=\"0.7\"/><path aria-label=\"False Positive: 0.0260869565217; tp: 0.272727272727\" role=\"graphics-symbol\" aria-roledescription=\"point\" transform=\"translate(10.434782608695652,290.90909090909093)\" d=\"M2.7386127875258306,0A2.7386127875258306,2.7386127875258306,0,1,1,-2.7386127875258306,0A2.7386127875258306,2.7386127875258306,0,1,1,2.7386127875258306,0\" stroke=\"#4c78a8\" stroke-width=\"2\" opacity=\"0.7\"/><path aria-label=\"False Positive: 0.0347826086957; tp: 0.272727272727\" role=\"graphics-symbol\" aria-roledescription=\"point\" transform=\"translate(13.91304347826087,290.90909090909093)\" d=\"M2.7386127875258306,0A2.7386127875258306,2.7386127875258306,0,1,1,-2.7386127875258306,0A2.7386127875258306,2.7386127875258306,0,1,1,2.7386127875258306,0\" stroke=\"#4c78a8\" stroke-width=\"2\" opacity=\"0.7\"/><path aria-label=\"False Positive: 0.0434782608696; tp: 0.30303030303\" role=\"graphics-symbol\" aria-roledescription=\"point\" transform=\"translate(17.391304347826086,278.7878787878788)\" d=\"M2.7386127875258306,0A2.7386127875258306,2.7386127875258306,0,1,1,-2.7386127875258306,0A2.7386127875258306,2.7386127875258306,0,1,1,2.7386127875258306,0\" stroke=\"#4c78a8\" stroke-width=\"2\" opacity=\"0.7\"/><path aria-label=\"False Positive: 0.0434782608696; tp: 0.333333333333\" role=\"graphics-symbol\" aria-roledescription=\"point\" transform=\"translate(17.391304347826086,266.6666666666667)\" d=\"M2.7386127875258306,0A2.7386127875258306,2.7386127875258306,0,1,1,-2.7386127875258306,0A2.7386127875258306,2.7386127875258306,0,1,1,2.7386127875258306,0\" stroke=\"#4c78a8\" stroke-width=\"2\" opacity=\"0.7\"/><path aria-label=\"False Positive: 0.0521739130435; tp: 0.333333333333\" role=\"graphics-symbol\" aria-roledescription=\"point\" transform=\"translate(20.869565217391305,266.6666666666667)\" d=\"M2.7386127875258306,0A2.7386127875258306,2.7386127875258306,0,1,1,-2.7386127875258306,0A2.7386127875258306,2.7386127875258306,0,1,1,2.7386127875258306,0\" stroke=\"#4c78a8\" stroke-width=\"2\" opacity=\"0.7\"/><path aria-label=\"False Positive: 0.0608695652174; tp: 0.333333333333\" role=\"graphics-symbol\" aria-roledescription=\"point\" transform=\"translate(24.347826086956523,266.6666666666667)\" d=\"M2.7386127875258306,0A2.7386127875258306,2.7386127875258306,0,1,1,-2.7386127875258306,0A2.7386127875258306,2.7386127875258306,0,1,1,2.7386127875258306,0\" stroke=\"#4c78a8\" stroke-width=\"2\" opacity=\"0.7\"/><path aria-label=\"False Positive: 0.0608695652174; tp: 0.363636363636\" role=\"graphics-symbol\" aria-roledescription=\"point\" transform=\"translate(24.347826086956523,254.54545454545453)\" d=\"M2.7386127875258306,0A2.7386127875258306,2.7386127875258306,0,1,1,-2.7386127875258306,0A2.7386127875258306,2.7386127875258306,0,1,1,2.7386127875258306,0\" stroke=\"#4c78a8\" stroke-width=\"2\" opacity=\"0.7\"/><path aria-label=\"False Positive: 0.0695652173913; tp: 0.363636363636\" role=\"graphics-symbol\" aria-roledescription=\"point\" transform=\"translate(27.82608695652174,254.54545454545453)\" d=\"M2.7386127875258306,0A2.7386127875258306,2.7386127875258306,0,1,1,-2.7386127875258306,0A2.7386127875258306,2.7386127875258306,0,1,1,2.7386127875258306,0\" stroke=\"#4c78a8\" stroke-width=\"2\" opacity=\"0.7\"/><path aria-label=\"False Positive: 0.0782608695652; tp: 0.363636363636\" role=\"graphics-symbol\" aria-roledescription=\"point\" transform=\"translate(31.30434782608696,254.54545454545453)\" d=\"M2.7386127875258306,0A2.7386127875258306,2.7386127875258306,0,1,1,-2.7386127875258306,0A2.7386127875258306,2.7386127875258306,0,1,1,2.7386127875258306,0\" stroke=\"#4c78a8\" stroke-width=\"2\" opacity=\"0.7\"/><path aria-label=\"False Positive: 0.0869565217391; tp: 0.363636363636\" role=\"graphics-symbol\" aria-roledescription=\"point\" transform=\"translate(34.78260869565217,254.54545454545453)\" d=\"M2.7386127875258306,0A2.7386127875258306,2.7386127875258306,0,1,1,-2.7386127875258306,0A2.7386127875258306,2.7386127875258306,0,1,1,2.7386127875258306,0\" stroke=\"#4c78a8\" stroke-width=\"2\" opacity=\"0.7\"/><path aria-label=\"False Positive: 0.095652173913; tp: 0.363636363636\" role=\"graphics-symbol\" aria-roledescription=\"point\" transform=\"translate(38.26086956521739,254.54545454545453)\" d=\"M2.7386127875258306,0A2.7386127875258306,2.7386127875258306,0,1,1,-2.7386127875258306,0A2.7386127875258306,2.7386127875258306,0,1,1,2.7386127875258306,0\" stroke=\"#4c78a8\" stroke-width=\"2\" opacity=\"0.7\"/><path aria-label=\"False Positive: 0.095652173913; tp: 0.393939393939\" role=\"graphics-symbol\" aria-roledescription=\"point\" transform=\"translate(38.26086956521739,242.42424242424244)\" d=\"M2.7386127875258306,0A2.7386127875258306,2.7386127875258306,0,1,1,-2.7386127875258306,0A2.7386127875258306,2.7386127875258306,0,1,1,2.7386127875258306,0\" stroke=\"#4c78a8\" stroke-width=\"2\" opacity=\"0.7\"/><path aria-label=\"False Positive: 0.104347826087; tp: 0.393939393939\" role=\"graphics-symbol\" aria-roledescription=\"point\" transform=\"translate(41.73913043478261,242.42424242424244)\" d=\"M2.7386127875258306,0A2.7386127875258306,2.7386127875258306,0,1,1,-2.7386127875258306,0A2.7386127875258306,2.7386127875258306,0,1,1,2.7386127875258306,0\" stroke=\"#4c78a8\" stroke-width=\"2\" opacity=\"0.7\"/><path aria-label=\"False Positive: 0.104347826087; tp: 0.424242424242\" role=\"graphics-symbol\" aria-roledescription=\"point\" transform=\"translate(41.73913043478261,230.30303030303028)\" d=\"M2.7386127875258306,0A2.7386127875258306,2.7386127875258306,0,1,1,-2.7386127875258306,0A2.7386127875258306,2.7386127875258306,0,1,1,2.7386127875258306,0\" stroke=\"#4c78a8\" stroke-width=\"2\" opacity=\"0.7\"/><path aria-label=\"False Positive: 0.104347826087; tp: 0.454545454545\" role=\"graphics-symbol\" aria-roledescription=\"point\" transform=\"translate(41.73913043478261,218.18181818181816)\" d=\"M2.7386127875258306,0A2.7386127875258306,2.7386127875258306,0,1,1,-2.7386127875258306,0A2.7386127875258306,2.7386127875258306,0,1,1,2.7386127875258306,0\" stroke=\"#4c78a8\" stroke-width=\"2\" opacity=\"0.7\"/><path aria-label=\"False Positive: 0.113043478261; tp: 0.454545454545\" role=\"graphics-symbol\" aria-roledescription=\"point\" transform=\"translate(45.21739130434783,218.18181818181816)\" d=\"M2.7386127875258306,0A2.7386127875258306,2.7386127875258306,0,1,1,-2.7386127875258306,0A2.7386127875258306,2.7386127875258306,0,1,1,2.7386127875258306,0\" stroke=\"#4c78a8\" stroke-width=\"2\" opacity=\"0.7\"/><path aria-label=\"False Positive: 0.121739130435; tp: 0.454545454545\" role=\"graphics-symbol\" aria-roledescription=\"point\" transform=\"translate(48.69565217391305,218.18181818181816)\" d=\"M2.7386127875258306,0A2.7386127875258306,2.7386127875258306,0,1,1,-2.7386127875258306,0A2.7386127875258306,2.7386127875258306,0,1,1,2.7386127875258306,0\" stroke=\"#4c78a8\" stroke-width=\"2\" opacity=\"0.7\"/><path aria-label=\"False Positive: 0.121739130435; tp: 0.515151515152\" role=\"graphics-symbol\" aria-roledescription=\"point\" transform=\"translate(48.69565217391305,193.93939393939394)\" d=\"M2.7386127875258306,0A2.7386127875258306,2.7386127875258306,0,1,1,-2.7386127875258306,0A2.7386127875258306,2.7386127875258306,0,1,1,2.7386127875258306,0\" stroke=\"#4c78a8\" stroke-width=\"2\" opacity=\"0.7\"/><path aria-label=\"False Positive: 0.121739130435; tp: 0.545454545455\" role=\"graphics-symbol\" aria-roledescription=\"point\" transform=\"translate(48.69565217391305,181.81818181818184)\" d=\"M2.7386127875258306,0A2.7386127875258306,2.7386127875258306,0,1,1,-2.7386127875258306,0A2.7386127875258306,2.7386127875258306,0,1,1,2.7386127875258306,0\" stroke=\"#4c78a8\" stroke-width=\"2\" opacity=\"0.7\"/><path aria-label=\"False Positive: 0.130434782609; tp: 0.545454545455\" role=\"graphics-symbol\" aria-roledescription=\"point\" transform=\"translate(52.17391304347826,181.81818181818184)\" d=\"M2.7386127875258306,0A2.7386127875258306,2.7386127875258306,0,1,1,-2.7386127875258306,0A2.7386127875258306,2.7386127875258306,0,1,1,2.7386127875258306,0\" stroke=\"#4c78a8\" stroke-width=\"2\" opacity=\"0.7\"/><path aria-label=\"False Positive: 0.139130434783; tp: 0.545454545455\" role=\"graphics-symbol\" aria-roledescription=\"point\" transform=\"translate(55.65217391304348,181.81818181818184)\" d=\"M2.7386127875258306,0A2.7386127875258306,2.7386127875258306,0,1,1,-2.7386127875258306,0A2.7386127875258306,2.7386127875258306,0,1,1,2.7386127875258306,0\" stroke=\"#4c78a8\" stroke-width=\"2\" opacity=\"0.7\"/><path aria-label=\"False Positive: 0.147826086957; tp: 0.545454545455\" role=\"graphics-symbol\" aria-roledescription=\"point\" transform=\"translate(59.130434782608695,181.81818181818184)\" d=\"M2.7386127875258306,0A2.7386127875258306,2.7386127875258306,0,1,1,-2.7386127875258306,0A2.7386127875258306,2.7386127875258306,0,1,1,2.7386127875258306,0\" stroke=\"#4c78a8\" stroke-width=\"2\" opacity=\"0.7\"/><path aria-label=\"False Positive: 0.15652173913; tp: 0.545454545455\" role=\"graphics-symbol\" aria-roledescription=\"point\" transform=\"translate(62.60869565217392,181.81818181818184)\" d=\"M2.7386127875258306,0A2.7386127875258306,2.7386127875258306,0,1,1,-2.7386127875258306,0A2.7386127875258306,2.7386127875258306,0,1,1,2.7386127875258306,0\" stroke=\"#4c78a8\" stroke-width=\"2\" opacity=\"0.7\"/><path aria-label=\"False Positive: 0.165217391304; tp: 0.545454545455\" role=\"graphics-symbol\" aria-roledescription=\"point\" transform=\"translate(66.08695652173913,181.81818181818184)\" d=\"M2.7386127875258306,0A2.7386127875258306,2.7386127875258306,0,1,1,-2.7386127875258306,0A2.7386127875258306,2.7386127875258306,0,1,1,2.7386127875258306,0\" stroke=\"#4c78a8\" stroke-width=\"2\" opacity=\"0.7\"/><path aria-label=\"False Positive: 0.173913043478; tp: 0.545454545455\" role=\"graphics-symbol\" aria-roledescription=\"point\" transform=\"translate(69.56521739130434,181.81818181818184)\" d=\"M2.7386127875258306,0A2.7386127875258306,2.7386127875258306,0,1,1,-2.7386127875258306,0A2.7386127875258306,2.7386127875258306,0,1,1,2.7386127875258306,0\" stroke=\"#4c78a8\" stroke-width=\"2\" opacity=\"0.7\"/><path aria-label=\"False Positive: 0.173913043478; tp: 0.575757575758\" role=\"graphics-symbol\" aria-roledescription=\"point\" transform=\"translate(69.56521739130434,169.6969696969697)\" d=\"M2.7386127875258306,0A2.7386127875258306,2.7386127875258306,0,1,1,-2.7386127875258306,0A2.7386127875258306,2.7386127875258306,0,1,1,2.7386127875258306,0\" stroke=\"#4c78a8\" stroke-width=\"2\" opacity=\"0.7\"/><path aria-label=\"False Positive: 0.182608695652; tp: 0.575757575758\" role=\"graphics-symbol\" aria-roledescription=\"point\" transform=\"translate(73.04347826086956,169.6969696969697)\" d=\"M2.7386127875258306,0A2.7386127875258306,2.7386127875258306,0,1,1,-2.7386127875258306,0A2.7386127875258306,2.7386127875258306,0,1,1,2.7386127875258306,0\" stroke=\"#4c78a8\" stroke-width=\"2\" opacity=\"0.7\"/><path aria-label=\"False Positive: 0.182608695652; tp: 0.606060606061\" role=\"graphics-symbol\" aria-roledescription=\"point\" transform=\"translate(73.04347826086956,157.57575757575756)\" d=\"M2.7386127875258306,0A2.7386127875258306,2.7386127875258306,0,1,1,-2.7386127875258306,0A2.7386127875258306,2.7386127875258306,0,1,1,2.7386127875258306,0\" stroke=\"#4c78a8\" stroke-width=\"2\" opacity=\"0.7\"/><path aria-label=\"False Positive: 0.191304347826; tp: 0.606060606061\" role=\"graphics-symbol\" aria-roledescription=\"point\" transform=\"translate(76.52173913043478,157.57575757575756)\" d=\"M2.7386127875258306,0A2.7386127875258306,2.7386127875258306,0,1,1,-2.7386127875258306,0A2.7386127875258306,2.7386127875258306,0,1,1,2.7386127875258306,0\" stroke=\"#4c78a8\" stroke-width=\"2\" opacity=\"0.7\"/><path aria-label=\"False Positive: 0.191304347826; tp: 0.636363636364\" role=\"graphics-symbol\" aria-roledescription=\"point\" transform=\"translate(76.52173913043478,145.45454545454547)\" d=\"M2.7386127875258306,0A2.7386127875258306,2.7386127875258306,0,1,1,-2.7386127875258306,0A2.7386127875258306,2.7386127875258306,0,1,1,2.7386127875258306,0\" stroke=\"#4c78a8\" stroke-width=\"2\" opacity=\"0.7\"/><path aria-label=\"False Positive: 0.191304347826; tp: 0.666666666667\" role=\"graphics-symbol\" aria-roledescription=\"point\" transform=\"translate(76.52173913043478,133.33333333333334)\" d=\"M2.7386127875258306,0A2.7386127875258306,2.7386127875258306,0,1,1,-2.7386127875258306,0A2.7386127875258306,2.7386127875258306,0,1,1,2.7386127875258306,0\" stroke=\"#4c78a8\" stroke-width=\"2\" opacity=\"0.7\"/><path aria-label=\"False Positive: 0.2; tp: 0.666666666667\" role=\"graphics-symbol\" aria-roledescription=\"point\" transform=\"translate(80,133.33333333333334)\" d=\"M2.7386127875258306,0A2.7386127875258306,2.7386127875258306,0,1,1,-2.7386127875258306,0A2.7386127875258306,2.7386127875258306,0,1,1,2.7386127875258306,0\" stroke=\"#4c78a8\" stroke-width=\"2\" opacity=\"0.7\"/><path aria-label=\"False Positive: 0.2; tp: 0.69696969697\" role=\"graphics-symbol\" aria-roledescription=\"point\" transform=\"translate(80,121.21212121212119)\" d=\"M2.7386127875258306,0A2.7386127875258306,2.7386127875258306,0,1,1,-2.7386127875258306,0A2.7386127875258306,2.7386127875258306,0,1,1,2.7386127875258306,0\" stroke=\"#4c78a8\" stroke-width=\"2\" opacity=\"0.7\"/><path aria-label=\"False Positive: 0.208695652174; tp: 0.69696969697\" role=\"graphics-symbol\" aria-roledescription=\"point\" transform=\"translate(83.47826086956522,121.21212121212119)\" d=\"M2.7386127875258306,0A2.7386127875258306,2.7386127875258306,0,1,1,-2.7386127875258306,0A2.7386127875258306,2.7386127875258306,0,1,1,2.7386127875258306,0\" stroke=\"#4c78a8\" stroke-width=\"2\" opacity=\"0.7\"/><path aria-label=\"False Positive: 0.217391304348; tp: 0.69696969697\" role=\"graphics-symbol\" aria-roledescription=\"point\" transform=\"translate(86.95652173913044,121.21212121212119)\" d=\"M2.7386127875258306,0A2.7386127875258306,2.7386127875258306,0,1,1,-2.7386127875258306,0A2.7386127875258306,2.7386127875258306,0,1,1,2.7386127875258306,0\" stroke=\"#4c78a8\" stroke-width=\"2\" opacity=\"0.7\"/><path aria-label=\"False Positive: 0.226086956522; tp: 0.69696969697\" role=\"graphics-symbol\" aria-roledescription=\"point\" transform=\"translate(90.43478260869566,121.21212121212119)\" d=\"M2.7386127875258306,0A2.7386127875258306,2.7386127875258306,0,1,1,-2.7386127875258306,0A2.7386127875258306,2.7386127875258306,0,1,1,2.7386127875258306,0\" stroke=\"#4c78a8\" stroke-width=\"2\" opacity=\"0.7\"/><path aria-label=\"False Positive: 0.234782608696; tp: 0.69696969697\" role=\"graphics-symbol\" aria-roledescription=\"point\" transform=\"translate(93.91304347826087,121.21212121212119)\" d=\"M2.7386127875258306,0A2.7386127875258306,2.7386127875258306,0,1,1,-2.7386127875258306,0A2.7386127875258306,2.7386127875258306,0,1,1,2.7386127875258306,0\" stroke=\"#4c78a8\" stroke-width=\"2\" opacity=\"0.7\"/><path aria-label=\"False Positive: 0.234782608696; tp: 0.727272727273\" role=\"graphics-symbol\" aria-roledescription=\"point\" transform=\"translate(93.91304347826087,109.09090909090908)\" d=\"M2.7386127875258306,0A2.7386127875258306,2.7386127875258306,0,1,1,-2.7386127875258306,0A2.7386127875258306,2.7386127875258306,0,1,1,2.7386127875258306,0\" stroke=\"#4c78a8\" stroke-width=\"2\" opacity=\"0.7\"/><path aria-label=\"False Positive: 0.24347826087; tp: 0.727272727273\" role=\"graphics-symbol\" aria-roledescription=\"point\" transform=\"translate(97.3913043478261,109.09090909090908)\" d=\"M2.7386127875258306,0A2.7386127875258306,2.7386127875258306,0,1,1,-2.7386127875258306,0A2.7386127875258306,2.7386127875258306,0,1,1,2.7386127875258306,0\" stroke=\"#4c78a8\" stroke-width=\"2\" opacity=\"0.7\"/><path aria-label=\"False Positive: 0.252173913043; tp: 0.727272727273\" role=\"graphics-symbol\" aria-roledescription=\"point\" transform=\"translate(100.8695652173913,109.09090909090908)\" d=\"M2.7386127875258306,0A2.7386127875258306,2.7386127875258306,0,1,1,-2.7386127875258306,0A2.7386127875258306,2.7386127875258306,0,1,1,2.7386127875258306,0\" stroke=\"#4c78a8\" stroke-width=\"2\" opacity=\"0.7\"/><path aria-label=\"False Positive: 0.252173913043; tp: 0.757575757576\" role=\"graphics-symbol\" aria-roledescription=\"point\" transform=\"translate(100.8695652173913,96.96969696969697)\" d=\"M2.7386127875258306,0A2.7386127875258306,2.7386127875258306,0,1,1,-2.7386127875258306,0A2.7386127875258306,2.7386127875258306,0,1,1,2.7386127875258306,0\" stroke=\"#4c78a8\" stroke-width=\"2\" opacity=\"0.7\"/><path aria-label=\"False Positive: 0.260869565217; tp: 0.757575757576\" role=\"graphics-symbol\" aria-roledescription=\"point\" transform=\"translate(104.34782608695652,96.96969696969697)\" d=\"M2.7386127875258306,0A2.7386127875258306,2.7386127875258306,0,1,1,-2.7386127875258306,0A2.7386127875258306,2.7386127875258306,0,1,1,2.7386127875258306,0\" stroke=\"#4c78a8\" stroke-width=\"2\" opacity=\"0.7\"/><path aria-label=\"False Positive: 0.260869565217; tp: 0.787878787879\" role=\"graphics-symbol\" aria-roledescription=\"point\" transform=\"translate(104.34782608695652,84.84848484848486)\" d=\"M2.7386127875258306,0A2.7386127875258306,2.7386127875258306,0,1,1,-2.7386127875258306,0A2.7386127875258306,2.7386127875258306,0,1,1,2.7386127875258306,0\" stroke=\"#4c78a8\" stroke-width=\"2\" opacity=\"0.7\"/><path aria-label=\"False Positive: 0.269565217391; tp: 0.787878787879\" role=\"graphics-symbol\" aria-roledescription=\"point\" transform=\"translate(107.82608695652173,84.84848484848486)\" d=\"M2.7386127875258306,0A2.7386127875258306,2.7386127875258306,0,1,1,-2.7386127875258306,0A2.7386127875258306,2.7386127875258306,0,1,1,2.7386127875258306,0\" stroke=\"#4c78a8\" stroke-width=\"2\" opacity=\"0.7\"/><path aria-label=\"False Positive: 0.278260869565; tp: 0.787878787879\" role=\"graphics-symbol\" aria-roledescription=\"point\" transform=\"translate(111.30434782608695,84.84848484848486)\" d=\"M2.7386127875258306,0A2.7386127875258306,2.7386127875258306,0,1,1,-2.7386127875258306,0A2.7386127875258306,2.7386127875258306,0,1,1,2.7386127875258306,0\" stroke=\"#4c78a8\" stroke-width=\"2\" opacity=\"0.7\"/><path aria-label=\"False Positive: 0.286956521739; tp: 0.787878787879\" role=\"graphics-symbol\" aria-roledescription=\"point\" transform=\"translate(114.78260869565217,84.84848484848486)\" d=\"M2.7386127875258306,0A2.7386127875258306,2.7386127875258306,0,1,1,-2.7386127875258306,0A2.7386127875258306,2.7386127875258306,0,1,1,2.7386127875258306,0\" stroke=\"#4c78a8\" stroke-width=\"2\" opacity=\"0.7\"/><path aria-label=\"False Positive: 0.295652173913; tp: 0.787878787879\" role=\"graphics-symbol\" aria-roledescription=\"point\" transform=\"translate(118.26086956521739,84.84848484848486)\" d=\"M2.7386127875258306,0A2.7386127875258306,2.7386127875258306,0,1,1,-2.7386127875258306,0A2.7386127875258306,2.7386127875258306,0,1,1,2.7386127875258306,0\" stroke=\"#4c78a8\" stroke-width=\"2\" opacity=\"0.7\"/><path aria-label=\"False Positive: 0.295652173913; tp: 0.818181818182\" role=\"graphics-symbol\" aria-roledescription=\"point\" transform=\"translate(118.26086956521739,72.7272727272727)\" d=\"M2.7386127875258306,0A2.7386127875258306,2.7386127875258306,0,1,1,-2.7386127875258306,0A2.7386127875258306,2.7386127875258306,0,1,1,2.7386127875258306,0\" stroke=\"#4c78a8\" stroke-width=\"2\" opacity=\"0.7\"/><path aria-label=\"False Positive: 0.304347826087; tp: 0.818181818182\" role=\"graphics-symbol\" aria-roledescription=\"point\" transform=\"translate(121.73913043478262,72.7272727272727)\" d=\"M2.7386127875258306,0A2.7386127875258306,2.7386127875258306,0,1,1,-2.7386127875258306,0A2.7386127875258306,2.7386127875258306,0,1,1,2.7386127875258306,0\" stroke=\"#4c78a8\" stroke-width=\"2\" opacity=\"0.7\"/><path aria-label=\"False Positive: 0.313043478261; tp: 0.818181818182\" role=\"graphics-symbol\" aria-roledescription=\"point\" transform=\"translate(125.21739130434784,72.7272727272727)\" d=\"M2.7386127875258306,0A2.7386127875258306,2.7386127875258306,0,1,1,-2.7386127875258306,0A2.7386127875258306,2.7386127875258306,0,1,1,2.7386127875258306,0\" stroke=\"#4c78a8\" stroke-width=\"2\" opacity=\"0.7\"/><path aria-label=\"False Positive: 0.321739130435; tp: 0.818181818182\" role=\"graphics-symbol\" aria-roledescription=\"point\" transform=\"translate(128.69565217391303,72.7272727272727)\" d=\"M2.7386127875258306,0A2.7386127875258306,2.7386127875258306,0,1,1,-2.7386127875258306,0A2.7386127875258306,2.7386127875258306,0,1,1,2.7386127875258306,0\" stroke=\"#4c78a8\" stroke-width=\"2\" opacity=\"0.7\"/><path aria-label=\"False Positive: 0.330434782609; tp: 0.818181818182\" role=\"graphics-symbol\" aria-roledescription=\"point\" transform=\"translate(132.17391304347825,72.7272727272727)\" d=\"M2.7386127875258306,0A2.7386127875258306,2.7386127875258306,0,1,1,-2.7386127875258306,0A2.7386127875258306,2.7386127875258306,0,1,1,2.7386127875258306,0\" stroke=\"#4c78a8\" stroke-width=\"2\" opacity=\"0.7\"/><path aria-label=\"False Positive: 0.339130434783; tp: 0.818181818182\" role=\"graphics-symbol\" aria-roledescription=\"point\" transform=\"translate(135.65217391304347,72.7272727272727)\" d=\"M2.7386127875258306,0A2.7386127875258306,2.7386127875258306,0,1,1,-2.7386127875258306,0A2.7386127875258306,2.7386127875258306,0,1,1,2.7386127875258306,0\" stroke=\"#4c78a8\" stroke-width=\"2\" opacity=\"0.7\"/><path aria-label=\"False Positive: 0.347826086957; tp: 0.818181818182\" role=\"graphics-symbol\" aria-roledescription=\"point\" transform=\"translate(139.1304347826087,72.7272727272727)\" d=\"M2.7386127875258306,0A2.7386127875258306,2.7386127875258306,0,1,1,-2.7386127875258306,0A2.7386127875258306,2.7386127875258306,0,1,1,2.7386127875258306,0\" stroke=\"#4c78a8\" stroke-width=\"2\" opacity=\"0.7\"/><path aria-label=\"False Positive: 0.35652173913; tp: 0.818181818182\" role=\"graphics-symbol\" aria-roledescription=\"point\" transform=\"translate(142.6086956521739,72.7272727272727)\" d=\"M2.7386127875258306,0A2.7386127875258306,2.7386127875258306,0,1,1,-2.7386127875258306,0A2.7386127875258306,2.7386127875258306,0,1,1,2.7386127875258306,0\" stroke=\"#4c78a8\" stroke-width=\"2\" opacity=\"0.7\"/><path aria-label=\"False Positive: 0.365217391304; tp: 0.818181818182\" role=\"graphics-symbol\" aria-roledescription=\"point\" transform=\"translate(146.08695652173913,72.7272727272727)\" d=\"M2.7386127875258306,0A2.7386127875258306,2.7386127875258306,0,1,1,-2.7386127875258306,0A2.7386127875258306,2.7386127875258306,0,1,1,2.7386127875258306,0\" stroke=\"#4c78a8\" stroke-width=\"2\" opacity=\"0.7\"/><path aria-label=\"False Positive: 0.373913043478; tp: 0.818181818182\" role=\"graphics-symbol\" aria-roledescription=\"point\" transform=\"translate(149.56521739130434,72.7272727272727)\" d=\"M2.7386127875258306,0A2.7386127875258306,2.7386127875258306,0,1,1,-2.7386127875258306,0A2.7386127875258306,2.7386127875258306,0,1,1,2.7386127875258306,0\" stroke=\"#4c78a8\" stroke-width=\"2\" opacity=\"0.7\"/><path aria-label=\"False Positive: 0.391304347826; tp: 0.818181818182\" role=\"graphics-symbol\" aria-roledescription=\"point\" transform=\"translate(156.52173913043478,72.7272727272727)\" d=\"M2.7386127875258306,0A2.7386127875258306,2.7386127875258306,0,1,1,-2.7386127875258306,0A2.7386127875258306,2.7386127875258306,0,1,1,2.7386127875258306,0\" stroke=\"#4c78a8\" stroke-width=\"2\" opacity=\"0.7\"/><path aria-label=\"False Positive: 0.4; tp: 0.818181818182\" role=\"graphics-symbol\" aria-roledescription=\"point\" transform=\"translate(160,72.7272727272727)\" d=\"M2.7386127875258306,0A2.7386127875258306,2.7386127875258306,0,1,1,-2.7386127875258306,0A2.7386127875258306,2.7386127875258306,0,1,1,2.7386127875258306,0\" stroke=\"#4c78a8\" stroke-width=\"2\" opacity=\"0.7\"/><path aria-label=\"False Positive: 0.408695652174; tp: 0.818181818182\" role=\"graphics-symbol\" aria-roledescription=\"point\" transform=\"translate(163.47826086956522,72.7272727272727)\" d=\"M2.7386127875258306,0A2.7386127875258306,2.7386127875258306,0,1,1,-2.7386127875258306,0A2.7386127875258306,2.7386127875258306,0,1,1,2.7386127875258306,0\" stroke=\"#4c78a8\" stroke-width=\"2\" opacity=\"0.7\"/><path aria-label=\"False Positive: 0.408695652174; tp: 0.848484848485\" role=\"graphics-symbol\" aria-roledescription=\"point\" transform=\"translate(163.47826086956522,60.606060606060595)\" d=\"M2.7386127875258306,0A2.7386127875258306,2.7386127875258306,0,1,1,-2.7386127875258306,0A2.7386127875258306,2.7386127875258306,0,1,1,2.7386127875258306,0\" stroke=\"#4c78a8\" stroke-width=\"2\" opacity=\"0.7\"/><path aria-label=\"False Positive: 0.417391304348; tp: 0.848484848485\" role=\"graphics-symbol\" aria-roledescription=\"point\" transform=\"translate(166.95652173913044,60.606060606060595)\" d=\"M2.7386127875258306,0A2.7386127875258306,2.7386127875258306,0,1,1,-2.7386127875258306,0A2.7386127875258306,2.7386127875258306,0,1,1,2.7386127875258306,0\" stroke=\"#4c78a8\" stroke-width=\"2\" opacity=\"0.7\"/><path aria-label=\"False Positive: 0.426086956522; tp: 0.848484848485\" role=\"graphics-symbol\" aria-roledescription=\"point\" transform=\"translate(170.43478260869566,60.606060606060595)\" d=\"M2.7386127875258306,0A2.7386127875258306,2.7386127875258306,0,1,1,-2.7386127875258306,0A2.7386127875258306,2.7386127875258306,0,1,1,2.7386127875258306,0\" stroke=\"#4c78a8\" stroke-width=\"2\" opacity=\"0.7\"/><path aria-label=\"False Positive: 0.434782608696; tp: 0.848484848485\" role=\"graphics-symbol\" aria-roledescription=\"point\" transform=\"translate(173.91304347826087,60.606060606060595)\" d=\"M2.7386127875258306,0A2.7386127875258306,2.7386127875258306,0,1,1,-2.7386127875258306,0A2.7386127875258306,2.7386127875258306,0,1,1,2.7386127875258306,0\" stroke=\"#4c78a8\" stroke-width=\"2\" opacity=\"0.7\"/><path aria-label=\"False Positive: 0.434782608696; tp: 0.878787878788\" role=\"graphics-symbol\" aria-roledescription=\"point\" transform=\"translate(173.91304347826087,48.484848484848484)\" d=\"M2.7386127875258306,0A2.7386127875258306,2.7386127875258306,0,1,1,-2.7386127875258306,0A2.7386127875258306,2.7386127875258306,0,1,1,2.7386127875258306,0\" stroke=\"#4c78a8\" stroke-width=\"2\" opacity=\"0.7\"/><path aria-label=\"False Positive: 0.460869565217; tp: 0.878787878788\" role=\"graphics-symbol\" aria-roledescription=\"point\" transform=\"translate(184.34782608695653,48.484848484848484)\" d=\"M2.7386127875258306,0A2.7386127875258306,2.7386127875258306,0,1,1,-2.7386127875258306,0A2.7386127875258306,2.7386127875258306,0,1,1,2.7386127875258306,0\" stroke=\"#4c78a8\" stroke-width=\"2\" opacity=\"0.7\"/><path aria-label=\"False Positive: 0.469565217391; tp: 0.878787878788\" role=\"graphics-symbol\" aria-roledescription=\"point\" transform=\"translate(187.82608695652175,48.484848484848484)\" d=\"M2.7386127875258306,0A2.7386127875258306,2.7386127875258306,0,1,1,-2.7386127875258306,0A2.7386127875258306,2.7386127875258306,0,1,1,2.7386127875258306,0\" stroke=\"#4c78a8\" stroke-width=\"2\" opacity=\"0.7\"/><path aria-label=\"False Positive: 0.478260869565; tp: 0.878787878788\" role=\"graphics-symbol\" aria-roledescription=\"point\" transform=\"translate(191.30434782608697,48.484848484848484)\" d=\"M2.7386127875258306,0A2.7386127875258306,2.7386127875258306,0,1,1,-2.7386127875258306,0A2.7386127875258306,2.7386127875258306,0,1,1,2.7386127875258306,0\" stroke=\"#4c78a8\" stroke-width=\"2\" opacity=\"0.7\"/><path aria-label=\"False Positive: 0.495652173913; tp: 0.878787878788\" role=\"graphics-symbol\" aria-roledescription=\"point\" transform=\"translate(198.2608695652174,48.484848484848484)\" d=\"M2.7386127875258306,0A2.7386127875258306,2.7386127875258306,0,1,1,-2.7386127875258306,0A2.7386127875258306,2.7386127875258306,0,1,1,2.7386127875258306,0\" stroke=\"#4c78a8\" stroke-width=\"2\" opacity=\"0.7\"/><path aria-label=\"False Positive: 0.504347826087; tp: 0.878787878788\" role=\"graphics-symbol\" aria-roledescription=\"point\" transform=\"translate(201.7391304347826,48.484848484848484)\" d=\"M2.7386127875258306,0A2.7386127875258306,2.7386127875258306,0,1,1,-2.7386127875258306,0A2.7386127875258306,2.7386127875258306,0,1,1,2.7386127875258306,0\" stroke=\"#4c78a8\" stroke-width=\"2\" opacity=\"0.7\"/><path aria-label=\"False Positive: 0.513043478261; tp: 0.909090909091\" role=\"graphics-symbol\" aria-roledescription=\"point\" transform=\"translate(205.21739130434784,36.363636363636374)\" d=\"M2.7386127875258306,0A2.7386127875258306,2.7386127875258306,0,1,1,-2.7386127875258306,0A2.7386127875258306,2.7386127875258306,0,1,1,2.7386127875258306,0\" stroke=\"#4c78a8\" stroke-width=\"2\" opacity=\"0.7\"/><path aria-label=\"False Positive: 0.521739130435; tp: 0.939393939394\" role=\"graphics-symbol\" aria-roledescription=\"point\" transform=\"translate(208.69565217391303,24.24242424242422)\" d=\"M2.7386127875258306,0A2.7386127875258306,2.7386127875258306,0,1,1,-2.7386127875258306,0A2.7386127875258306,2.7386127875258306,0,1,1,2.7386127875258306,0\" stroke=\"#4c78a8\" stroke-width=\"2\" opacity=\"0.7\"/><path aria-label=\"False Positive: 0.530434782609; tp: 0.939393939394\" role=\"graphics-symbol\" aria-roledescription=\"point\" transform=\"translate(212.17391304347828,24.24242424242422)\" d=\"M2.7386127875258306,0A2.7386127875258306,2.7386127875258306,0,1,1,-2.7386127875258306,0A2.7386127875258306,2.7386127875258306,0,1,1,2.7386127875258306,0\" stroke=\"#4c78a8\" stroke-width=\"2\" opacity=\"0.7\"/><path aria-label=\"False Positive: 0.539130434783; tp: 0.939393939394\" role=\"graphics-symbol\" aria-roledescription=\"point\" transform=\"translate(215.65217391304347,24.24242424242422)\" d=\"M2.7386127875258306,0A2.7386127875258306,2.7386127875258306,0,1,1,-2.7386127875258306,0A2.7386127875258306,2.7386127875258306,0,1,1,2.7386127875258306,0\" stroke=\"#4c78a8\" stroke-width=\"2\" opacity=\"0.7\"/><path aria-label=\"False Positive: 0.55652173913; tp: 0.939393939394\" role=\"graphics-symbol\" aria-roledescription=\"point\" transform=\"translate(222.6086956521739,24.24242424242422)\" d=\"M2.7386127875258306,0A2.7386127875258306,2.7386127875258306,0,1,1,-2.7386127875258306,0A2.7386127875258306,2.7386127875258306,0,1,1,2.7386127875258306,0\" stroke=\"#4c78a8\" stroke-width=\"2\" opacity=\"0.7\"/><path aria-label=\"False Positive: 0.565217391304; tp: 0.939393939394\" role=\"graphics-symbol\" aria-roledescription=\"point\" transform=\"translate(226.08695652173913,24.24242424242422)\" d=\"M2.7386127875258306,0A2.7386127875258306,2.7386127875258306,0,1,1,-2.7386127875258306,0A2.7386127875258306,2.7386127875258306,0,1,1,2.7386127875258306,0\" stroke=\"#4c78a8\" stroke-width=\"2\" opacity=\"0.7\"/><path aria-label=\"False Positive: 0.582608695652; tp: 0.939393939394\" role=\"graphics-symbol\" aria-roledescription=\"point\" transform=\"translate(233.04347826086956,24.24242424242422)\" d=\"M2.7386127875258306,0A2.7386127875258306,2.7386127875258306,0,1,1,-2.7386127875258306,0A2.7386127875258306,2.7386127875258306,0,1,1,2.7386127875258306,0\" stroke=\"#4c78a8\" stroke-width=\"2\" opacity=\"0.7\"/><path aria-label=\"False Positive: 0.591304347826; tp: 0.939393939394\" role=\"graphics-symbol\" aria-roledescription=\"point\" transform=\"translate(236.52173913043478,24.24242424242422)\" d=\"M2.7386127875258306,0A2.7386127875258306,2.7386127875258306,0,1,1,-2.7386127875258306,0A2.7386127875258306,2.7386127875258306,0,1,1,2.7386127875258306,0\" stroke=\"#4c78a8\" stroke-width=\"2\" opacity=\"0.7\"/><path aria-label=\"False Positive: 0.608695652174; tp: 0.939393939394\" role=\"graphics-symbol\" aria-roledescription=\"point\" transform=\"translate(243.47826086956525,24.24242424242422)\" d=\"M2.7386127875258306,0A2.7386127875258306,2.7386127875258306,0,1,1,-2.7386127875258306,0A2.7386127875258306,2.7386127875258306,0,1,1,2.7386127875258306,0\" stroke=\"#4c78a8\" stroke-width=\"2\" opacity=\"0.7\"/><path aria-label=\"False Positive: 0.617391304348; tp: 0.939393939394\" role=\"graphics-symbol\" aria-roledescription=\"point\" transform=\"translate(246.95652173913044,24.24242424242422)\" d=\"M2.7386127875258306,0A2.7386127875258306,2.7386127875258306,0,1,1,-2.7386127875258306,0A2.7386127875258306,2.7386127875258306,0,1,1,2.7386127875258306,0\" stroke=\"#4c78a8\" stroke-width=\"2\" opacity=\"0.7\"/><path aria-label=\"False Positive: 0.626086956522; tp: 0.939393939394\" role=\"graphics-symbol\" aria-roledescription=\"point\" transform=\"translate(250.43478260869568,24.24242424242422)\" d=\"M2.7386127875258306,0A2.7386127875258306,2.7386127875258306,0,1,1,-2.7386127875258306,0A2.7386127875258306,2.7386127875258306,0,1,1,2.7386127875258306,0\" stroke=\"#4c78a8\" stroke-width=\"2\" opacity=\"0.7\"/><path aria-label=\"False Positive: 0.634782608696; tp: 0.939393939394\" role=\"graphics-symbol\" aria-roledescription=\"point\" transform=\"translate(253.91304347826087,24.24242424242422)\" d=\"M2.7386127875258306,0A2.7386127875258306,2.7386127875258306,0,1,1,-2.7386127875258306,0A2.7386127875258306,2.7386127875258306,0,1,1,2.7386127875258306,0\" stroke=\"#4c78a8\" stroke-width=\"2\" opacity=\"0.7\"/><path aria-label=\"False Positive: 0.64347826087; tp: 0.939393939394\" role=\"graphics-symbol\" aria-roledescription=\"point\" transform=\"translate(257.39130434782606,24.24242424242422)\" d=\"M2.7386127875258306,0A2.7386127875258306,2.7386127875258306,0,1,1,-2.7386127875258306,0A2.7386127875258306,2.7386127875258306,0,1,1,2.7386127875258306,0\" stroke=\"#4c78a8\" stroke-width=\"2\" opacity=\"0.7\"/><path aria-label=\"False Positive: 0.652173913043; tp: 0.939393939394\" role=\"graphics-symbol\" aria-roledescription=\"point\" transform=\"translate(260.8695652173913,24.24242424242422)\" d=\"M2.7386127875258306,0A2.7386127875258306,2.7386127875258306,0,1,1,-2.7386127875258306,0A2.7386127875258306,2.7386127875258306,0,1,1,2.7386127875258306,0\" stroke=\"#4c78a8\" stroke-width=\"2\" opacity=\"0.7\"/><path aria-label=\"False Positive: 0.652173913043; tp: 0.969696969697\" role=\"graphics-symbol\" aria-roledescription=\"point\" transform=\"translate(260.8695652173913,12.12121212121211)\" d=\"M2.7386127875258306,0A2.7386127875258306,2.7386127875258306,0,1,1,-2.7386127875258306,0A2.7386127875258306,2.7386127875258306,0,1,1,2.7386127875258306,0\" stroke=\"#4c78a8\" stroke-width=\"2\" opacity=\"0.7\"/><path aria-label=\"False Positive: 0.660869565217; tp: 1\" role=\"graphics-symbol\" aria-roledescription=\"point\" transform=\"translate(264.3478260869565,0)\" d=\"M2.7386127875258306,0A2.7386127875258306,2.7386127875258306,0,1,1,-2.7386127875258306,0A2.7386127875258306,2.7386127875258306,0,1,1,2.7386127875258306,0\" stroke=\"#4c78a8\" stroke-width=\"2\" opacity=\"0.7\"/><path aria-label=\"False Positive: 0.669565217391; tp: 1\" role=\"graphics-symbol\" aria-roledescription=\"point\" transform=\"translate(267.82608695652175,0)\" d=\"M2.7386127875258306,0A2.7386127875258306,2.7386127875258306,0,1,1,-2.7386127875258306,0A2.7386127875258306,2.7386127875258306,0,1,1,2.7386127875258306,0\" stroke=\"#4c78a8\" stroke-width=\"2\" opacity=\"0.7\"/><path aria-label=\"False Positive: 0.695652173913; tp: 1\" role=\"graphics-symbol\" aria-roledescription=\"point\" transform=\"translate(278.2608695652174,0)\" d=\"M2.7386127875258306,0A2.7386127875258306,2.7386127875258306,0,1,1,-2.7386127875258306,0A2.7386127875258306,2.7386127875258306,0,1,1,2.7386127875258306,0\" stroke=\"#4c78a8\" stroke-width=\"2\" opacity=\"0.7\"/><path aria-label=\"False Positive: 0.704347826087; tp: 1\" role=\"graphics-symbol\" aria-roledescription=\"point\" transform=\"translate(281.7391304347826,0)\" d=\"M2.7386127875258306,0A2.7386127875258306,2.7386127875258306,0,1,1,-2.7386127875258306,0A2.7386127875258306,2.7386127875258306,0,1,1,2.7386127875258306,0\" stroke=\"#4c78a8\" stroke-width=\"2\" opacity=\"0.7\"/><path aria-label=\"False Positive: 0.713043478261; tp: 1\" role=\"graphics-symbol\" aria-roledescription=\"point\" transform=\"translate(285.2173913043478,0)\" d=\"M2.7386127875258306,0A2.7386127875258306,2.7386127875258306,0,1,1,-2.7386127875258306,0A2.7386127875258306,2.7386127875258306,0,1,1,2.7386127875258306,0\" stroke=\"#4c78a8\" stroke-width=\"2\" opacity=\"0.7\"/><path aria-label=\"False Positive: 0.721739130435; tp: 1\" role=\"graphics-symbol\" aria-roledescription=\"point\" transform=\"translate(288.69565217391306,0)\" d=\"M2.7386127875258306,0A2.7386127875258306,2.7386127875258306,0,1,1,-2.7386127875258306,0A2.7386127875258306,2.7386127875258306,0,1,1,2.7386127875258306,0\" stroke=\"#4c78a8\" stroke-width=\"2\" opacity=\"0.7\"/><path aria-label=\"False Positive: 0.730434782609; tp: 1\" role=\"graphics-symbol\" aria-roledescription=\"point\" transform=\"translate(292.17391304347825,0)\" d=\"M2.7386127875258306,0A2.7386127875258306,2.7386127875258306,0,1,1,-2.7386127875258306,0A2.7386127875258306,2.7386127875258306,0,1,1,2.7386127875258306,0\" stroke=\"#4c78a8\" stroke-width=\"2\" opacity=\"0.7\"/><path aria-label=\"False Positive: 0.791304347826; tp: 1\" role=\"graphics-symbol\" aria-roledescription=\"point\" transform=\"translate(316.52173913043475,0)\" d=\"M2.7386127875258306,0A2.7386127875258306,2.7386127875258306,0,1,1,-2.7386127875258306,0A2.7386127875258306,2.7386127875258306,0,1,1,2.7386127875258306,0\" stroke=\"#4c78a8\" stroke-width=\"2\" opacity=\"0.7\"/><path aria-label=\"False Positive: 0.8; tp: 1\" role=\"graphics-symbol\" aria-roledescription=\"point\" transform=\"translate(320,0)\" d=\"M2.7386127875258306,0A2.7386127875258306,2.7386127875258306,0,1,1,-2.7386127875258306,0A2.7386127875258306,2.7386127875258306,0,1,1,2.7386127875258306,0\" stroke=\"#4c78a8\" stroke-width=\"2\" opacity=\"0.7\"/><path aria-label=\"False Positive: 0.826086956522; tp: 1\" role=\"graphics-symbol\" aria-roledescription=\"point\" transform=\"translate(330.4347826086956,0)\" d=\"M2.7386127875258306,0A2.7386127875258306,2.7386127875258306,0,1,1,-2.7386127875258306,0A2.7386127875258306,2.7386127875258306,0,1,1,2.7386127875258306,0\" stroke=\"#4c78a8\" stroke-width=\"2\" opacity=\"0.7\"/><path aria-label=\"False Positive: 0.834782608696; tp: 1\" role=\"graphics-symbol\" aria-roledescription=\"point\" transform=\"translate(333.9130434782609,0)\" d=\"M2.7386127875258306,0A2.7386127875258306,2.7386127875258306,0,1,1,-2.7386127875258306,0A2.7386127875258306,2.7386127875258306,0,1,1,2.7386127875258306,0\" stroke=\"#4c78a8\" stroke-width=\"2\" opacity=\"0.7\"/><path aria-label=\"False Positive: 0.84347826087; tp: 1\" role=\"graphics-symbol\" aria-roledescription=\"point\" transform=\"translate(337.3913043478261,0)\" d=\"M2.7386127875258306,0A2.7386127875258306,2.7386127875258306,0,1,1,-2.7386127875258306,0A2.7386127875258306,2.7386127875258306,0,1,1,2.7386127875258306,0\" stroke=\"#4c78a8\" stroke-width=\"2\" opacity=\"0.7\"/><path aria-label=\"False Positive: 0.852173913043; tp: 1\" role=\"graphics-symbol\" aria-roledescription=\"point\" transform=\"translate(340.8695652173913,0)\" d=\"M2.7386127875258306,0A2.7386127875258306,2.7386127875258306,0,1,1,-2.7386127875258306,0A2.7386127875258306,2.7386127875258306,0,1,1,2.7386127875258306,0\" stroke=\"#4c78a8\" stroke-width=\"2\" opacity=\"0.7\"/><path aria-label=\"False Positive: 0.860869565217; tp: 1\" role=\"graphics-symbol\" aria-roledescription=\"point\" transform=\"translate(344.34782608695656,0)\" d=\"M2.7386127875258306,0A2.7386127875258306,2.7386127875258306,0,1,1,-2.7386127875258306,0A2.7386127875258306,2.7386127875258306,0,1,1,2.7386127875258306,0\" stroke=\"#4c78a8\" stroke-width=\"2\" opacity=\"0.7\"/><path aria-label=\"False Positive: 0.869565217391; tp: 1\" role=\"graphics-symbol\" aria-roledescription=\"point\" transform=\"translate(347.82608695652175,0)\" d=\"M2.7386127875258306,0A2.7386127875258306,2.7386127875258306,0,1,1,-2.7386127875258306,0A2.7386127875258306,2.7386127875258306,0,1,1,2.7386127875258306,0\" stroke=\"#4c78a8\" stroke-width=\"2\" opacity=\"0.7\"/><path aria-label=\"False Positive: 0.930434782609; tp: 1\" role=\"graphics-symbol\" aria-roledescription=\"point\" transform=\"translate(372.17391304347825,0)\" d=\"M2.7386127875258306,0A2.7386127875258306,2.7386127875258306,0,1,1,-2.7386127875258306,0A2.7386127875258306,2.7386127875258306,0,1,1,2.7386127875258306,0\" stroke=\"#4c78a8\" stroke-width=\"2\" opacity=\"0.7\"/><path aria-label=\"False Positive: 0.939130434783; tp: 1\" role=\"graphics-symbol\" aria-roledescription=\"point\" transform=\"translate(375.6521739130435,0)\" d=\"M2.7386127875258306,0A2.7386127875258306,2.7386127875258306,0,1,1,-2.7386127875258306,0A2.7386127875258306,2.7386127875258306,0,1,1,2.7386127875258306,0\" stroke=\"#4c78a8\" stroke-width=\"2\" opacity=\"0.7\"/><path aria-label=\"False Positive: 1; tp: 1\" role=\"graphics-symbol\" aria-roledescription=\"point\" transform=\"translate(400,0)\" d=\"M2.7386127875258306,0A2.7386127875258306,2.7386127875258306,0,1,1,-2.7386127875258306,0A2.7386127875258306,2.7386127875258306,0,1,1,2.7386127875258306,0\" stroke=\"#4c78a8\" stroke-width=\"2\" opacity=\"0.7\"/></g><g class=\"mark-line role-mark layer_1_marks\" role=\"graphics-object\" aria-roledescription=\"line mark container\"><path aria-label=\"False Positive: 0; tp: 0\" role=\"graphics-symbol\" aria-roledescription=\"line mark\" d=\"M0,400L400,0\" stroke=\"black\" stroke-width=\"2\"/></g></g><path class=\"foreground\" aria-hidden=\"true\" d=\"\" display=\"none\"/></g></g></g></svg>\n"
      ],
      "text/plain": [
       "@vlplot(\n",
       "    layer=[\n",
       "        {\n",
       "            data={\n",
       "                values=...\n",
       "            },\n",
       "            width=400,\n",
       "            height=400,\n",
       "            mark=\"point\",\n",
       "            encoding={\n",
       "                x={\n",
       "                    title=\"False Positive\",\n",
       "                    type=\"q\",\n",
       "                    field=\"fp\"\n",
       "                },\n",
       "                y={\n",
       "                    tiltle=\"True Positive\",\n",
       "                    type=\"q\",\n",
       "                    field=\"tp\"\n",
       "                }\n",
       "            }\n",
       "        },\n",
       "        {\n",
       "            data={\n",
       "                values=...\n",
       "            },\n",
       "            mark={\n",
       "                color=\"black\",\n",
       "                type=\"line\"\n",
       "            },\n",
       "            width=400,\n",
       "            height=400,\n",
       "            encoding={\n",
       "                x={\n",
       "                    title=\"False Positive\",\n",
       "                    type=\"q\",\n",
       "                    field=\"fp\"\n",
       "                },\n",
       "                y={\n",
       "                    tiltle=\"True Positive\",\n",
       "                    type=\"q\",\n",
       "                    field=\"tp\"\n",
       "                }\n",
       "            }\n",
       "        }\n",
       "    ]\n",
       ")"
      ]
     },
     "execution_count": 75,
     "metadata": {},
     "output_type": "execute_result"
    }
   ],
   "source": [
    "plt = @vlplot(\n",
    "    data=DataFrame(fp = fp,tp = tp),\n",
    "    :point,\n",
    "    x={:fp, title=\"False Positive\",type=:q},\n",
    "    y={:tp, tiltle=\"True Positive\", type=:q},\n",
    "    width=400,\n",
    "    height=400\n",
    ")\n",
    "l = @vlplot(\n",
    "    data= DataFrame(fp=[0,1],tp=[0,1]),\n",
    "    mark={:line,color=\"black\"},\n",
    "    x={:fp, title=\"False Positive\",type=:q},\n",
    "        y={:tp, tiltle=\"True Positive\", type=:q},\n",
    "    width=400,\n",
    "    height=400\n",
    ")\n",
    "\n",
    "@vlplot() + plt + l"
   ]
  },
  {
   "cell_type": "code",
   "execution_count": 79,
   "id": "2e1cafa8-a8e3-436c-9edb-4fe7b5b42729",
   "metadata": {},
   "outputs": [
    {
     "name": "stderr",
     "output_type": "stream",
     "text": [
      "┌ Info: Performing evaluations using 4 threads.\n",
      "└ @ MLJBase /home/davibarreira/.julia/packages/MLJBase/jcOVb/src/resampling.jl:1218\n",
      "\u001b[33mEvaluating over 18 folds: 100%[=========================] Time: 0:00:00\u001b[39m\n"
     ]
    },
    {
     "data": {
      "text/plain": [
       "PerformanceEvaluation object with these fields:\n",
       "  measure, operation, measurement, per_fold,\n",
       "  per_observation, fitted_params_per_fold,\n",
       "  report_per_fold, train_test_rows\n",
       "Extract:\n",
       "┌──────────────────┬──────────────┬─────────────┬─────────┬────────────────────────────────────────────────────────────────────────────────────────────────────────────────────────────────┐\n",
       "│\u001b[22m measure          \u001b[0m│\u001b[22m operation    \u001b[0m│\u001b[22m measurement \u001b[0m│\u001b[22m 1.96*SE \u001b[0m│\u001b[22m per_fold                                                                                                                       \u001b[0m│\n",
       "├──────────────────┼──────────────┼─────────────┼─────────┼────────────────────────────────────────────────────────────────────────────────────────────────────────────────────────────────┤\n",
       "│ BrierLoss()      │ predict      │ 0.313       │ 0.0136  │ [0.311, 0.344, 0.291, 0.348, 0.357, 0.295, 0.285, 0.313, 0.324, 0.296, 0.284, 0.343, 0.316, 0.268, 0.306, 0.369, 0.287, 0.298] │\n",
       "│ AreaUnderCurve() │ predict      │ 0.788       │ 0.0226  │ [0.778, 0.743, 0.802, 0.774, 0.724, 0.808, 0.832, 0.788, 0.743, 0.82, 0.862, 0.692, 0.761, 0.845, 0.827, 0.734, 0.833, 0.824]  │\n",
       "│ Accuracy()       │ predict_mode │ 0.783       │ 0.0116  │ [0.771, 0.78, 0.78, 0.78, 0.732, 0.817, 0.795, 0.78, 0.78, 0.793, 0.805, 0.768, 0.783, 0.841, 0.78, 0.744, 0.793, 0.768]       │\n",
       "└──────────────────┴──────────────┴─────────────┴─────────┴────────────────────────────────────────────────────────────────────────────────────────────────────────────────────────────────┘\n"
      ]
     },
     "execution_count": 79,
     "metadata": {},
     "output_type": "execute_result"
    }
   ],
   "source": [
    "e_pipe = evaluate(pipe, X, y,\n",
    "                  resampling=StratifiedCV(nfolds=6, rng=123),\n",
    "                  measures=[brier_loss, auc, accuracy],\n",
    "                  repeats=3,\n",
    "                  acceleration=CPUThreads())"
   ]
  },
  {
   "cell_type": "markdown",
   "id": "58a10b83-bf63-4a43-9ea0-797d9fcd65d2",
   "metadata": {},
   "source": [
    "## Filtrando Variáveis por Importância"
   ]
  },
  {
   "cell_type": "code",
   "execution_count": 80,
   "id": "ffcaa507-2c36-4c4d-9d58-8cf5111b3393",
   "metadata": {},
   "outputs": [
    {
     "data": {
      "text/plain": [
       "29-element Vector{Symbol}:\n",
       " :TechSupport__No\n",
       " Symbol(\"PaymentMethod__Credit card (automatic)\")\n",
       " :StreamingMovies__No\n",
       " Symbol(\"Contract__One year\")\n",
       " Symbol(\"Contract__Two year\")\n",
       " :Partner__Yes\n",
       " :OnlineBackup__No\n",
       " :Dependents__Yes\n",
       " :Partner__No\n",
       " :gender__Male\n",
       " Symbol(\"PaymentMethod__Mailed check\")\n",
       " Symbol(\"OnlineSecurity__No internet service\")\n",
       " :OnlineSecurity__No\n",
       " ⋮\n",
       " Symbol(\"OnlineBackup__No internet service\")\n",
       " :InternetService__No\n",
       " :StreamingTV__Yes\n",
       " :PhoneService__No\n",
       " :PhoneService__Yes\n",
       " Symbol(\"DeviceProtection__No internet service\")\n",
       " Symbol(\"StreamingTV__No internet service\")\n",
       " Symbol(\"StreamingMovies__No internet service\")\n",
       " Symbol(\"TechSupport__No internet service\")\n",
       " :MultipleLines__Yes\n",
       " Symbol(\"MultipleLines__No phone service\")\n",
       " :InternetService__DSL"
      ]
     },
     "execution_count": 80,
     "metadata": {},
     "output_type": "execute_result"
    }
   ],
   "source": [
    "unimportant_features = filter(:importance => <(0.005), feature_importance_table).feature"
   ]
  },
  {
   "cell_type": "code",
   "execution_count": 81,
   "id": "a19d1358-e91b-4fb2-ada9-905304d0aa77",
   "metadata": {},
   "outputs": [
    {
     "data": {
      "text/plain": [
       "ProbabilisticPipeline(\n",
       "  continuous_encoder = ContinuousEncoder(\n",
       "        drop_last = false, \n",
       "        one_hot_ordered_factors = false), \n",
       "  feature_selector = FeatureSelector(\n",
       "        features = [:TechSupport__No, Symbol(\"PaymentMethod__Credit card (automatic)\"), :StreamingMovies__No, Symbol(\"Contract__One year\"), Symbol(\"Contract__Two year\"), :Partner__Yes, :OnlineBackup__No, :Dependents__Yes, :Partner__No, :gender__Male  …  :StreamingTV__Yes, :PhoneService__No, :PhoneService__Yes, Symbol(\"DeviceProtection__No internet service\"), Symbol(\"StreamingTV__No internet service\"), Symbol(\"StreamingMovies__No internet service\"), Symbol(\"TechSupport__No internet service\"), :MultipleLines__Yes, Symbol(\"MultipleLines__No phone service\"), :InternetService__DSL], \n",
       "        ignore = true), \n",
       "  evo_tree_classifier = EvoTreeClassifier(\n",
       "        loss = EvoTrees.Softmax(), \n",
       "        nrounds = 10, \n",
       "        λ = 0.0, \n",
       "        γ = 0.0, \n",
       "        η = 0.1, \n",
       "        max_depth = 5, \n",
       "        min_weight = 1.0, \n",
       "        rowsample = 1.0, \n",
       "        colsample = 1.0, \n",
       "        nbins = 64, \n",
       "        α = 0.5, \n",
       "        metric = :mlogloss, \n",
       "        rng = Random.MersenneTwister(123, (0, 168336, 167334, 666)), \n",
       "        device = \"cpu\"), \n",
       "  cache = true)"
      ]
     },
     "execution_count": 81,
     "metadata": {},
     "output_type": "execute_result"
    }
   ],
   "source": [
    "pipe2 = ContinuousEncoder() |>\n",
    "    FeatureSelector(features=unimportant_features, ignore=true) |> booster"
   ]
  },
  {
   "cell_type": "markdown",
   "id": "6c79053a-78d3-49cd-85ea-79a07b307188",
   "metadata": {},
   "source": [
    "## Controlando Otimização de Hiperparâmetros"
   ]
  },
  {
   "cell_type": "code",
   "execution_count": 82,
   "id": "076a4832-f72f-4bce-af42-c9340aa4b5cd",
   "metadata": {},
   "outputs": [
    {
     "data": {
      "text/plain": [
       "4-element Vector{Any}:\n",
       " Step(1)\n",
       " NumberSinceBest(4)\n",
       " TimeLimit(Dates.Millisecond(2000))\n",
       " InvalidValue()"
      ]
     },
     "execution_count": 82,
     "metadata": {},
     "output_type": "execute_result"
    }
   ],
   "source": [
    "controls = [\n",
    "    Step(1),              # to increment iteration parameter (`pipe.nrounds`)\n",
    "    NumberSinceBest(4),   # main stopping criterion\n",
    "    TimeLimit(2/3600),    # never train more than 2 sec\n",
    "    InvalidValue()        # stop if NaN or ±Inf encountered\n",
    "]"
   ]
  },
  {
   "cell_type": "code",
   "execution_count": 83,
   "id": "5163a88e-6f74-4dc5-90ea-624c4b4a41a4",
   "metadata": {},
   "outputs": [
    {
     "data": {
      "text/plain": [
       "ProbabilisticIteratedModel(\n",
       "  model = ProbabilisticPipeline(\n",
       "        continuous_encoder = ContinuousEncoder(drop_last = false, …), \n",
       "        feature_selector = FeatureSelector(features = [:TechSupport__No, Symbol(\"PaymentMethod__Credit card (automatic)\"), :StreamingMovies__No, Symbol(\"Contract__One year\"), Symbol(\"Contract__Two year\"), :Partner__Yes, :OnlineBackup__No, :Dependents__Yes, :Partner__No, :gender__Male, Symbol(\"PaymentMethod__Mailed check\"), Symbol(\"OnlineSecurity__No internet service\"), :OnlineSecurity__No, Symbol(\"PaymentMethod__Electronic check\"), :OnlineSecurity__Yes, Symbol(\"InternetService__Fiber optic\"), :TechSupport__Yes, Symbol(\"OnlineBackup__No internet service\"), :InternetService__No, :StreamingTV__Yes, :PhoneService__No, :PhoneService__Yes, Symbol(\"DeviceProtection__No internet service\"), Symbol(\"StreamingTV__No internet service\"), Symbol(\"StreamingMovies__No internet service\"), Symbol(\"TechSupport__No internet service\"), :MultipleLines__Yes, Symbol(\"MultipleLines__No phone service\"), :InternetService__DSL], …), \n",
       "        evo_tree_classifier = EvoTreeClassifier(loss = EvoTrees.Softmax(), …), \n",
       "        cache = true), \n",
       "  controls = Any[Step(1), NumberSinceBest(4), TimeLimit(Dates.Millisecond(2000)), InvalidValue()], \n",
       "  resampling = Holdout(\n",
       "        fraction_train = 0.7, \n",
       "        shuffle = false, \n",
       "        rng = Random._GLOBAL_RNG()), \n",
       "  measure = BrierLoss(), \n",
       "  weights = nothing, \n",
       "  class_weights = nothing, \n",
       "  operation = MLJModelInterface.predict, \n",
       "  retrain = false, \n",
       "  check_measure = true, \n",
       "  iteration_parameter = nothing, \n",
       "  cache = true)"
      ]
     },
     "execution_count": 83,
     "metadata": {},
     "output_type": "execute_result"
    }
   ],
   "source": [
    "iterated_pipe = IteratedModel(model=pipe2,\n",
    "                              controls=controls,\n",
    "                              measure=brier_loss,\n",
    "                              resampling=Holdout(fraction_train=0.7))"
   ]
  },
  {
   "cell_type": "code",
   "execution_count": 84,
   "id": "7428e25d-dd49-4a58-957a-30f15271bded",
   "metadata": {},
   "outputs": [
    {
     "name": "stderr",
     "output_type": "stream",
     "text": [
      "┌ Info: Training machine(ProbabilisticIteratedModel(model = ProbabilisticPipeline(continuous_encoder = ContinuousEncoder(drop_last = false, …), …), …), …).\n",
      "└ @ MLJBase /home/davibarreira/.julia/packages/MLJBase/jcOVb/src/machines.jl:487\n",
      "┌ Info: No iteration parameter specified. Using `iteration_parameter=:(evo_tree_classifier.nrounds)`. \n",
      "└ @ MLJIteration /home/davibarreira/.julia/packages/MLJIteration/J0pbp/src/core.jl:62\n",
      "┌ Info: final loss: 0.2699002246483003\n",
      "└ @ IterationControl /home/davibarreira/.julia/packages/IterationControl/wJWPx/src/train.jl:44\n",
      "┌ Info: Stop triggered by NumberSinceBest(4) stopping criterion. \n",
      "└ @ IterationControl /home/davibarreira/.julia/packages/IterationControl/wJWPx/src/stopping_controls.jl:54\n",
      "┌ Info: Total of 29 iterations. \n",
      "└ @ MLJIteration /home/davibarreira/.julia/packages/MLJIteration/J0pbp/src/core.jl:35\n"
     ]
    }
   ],
   "source": [
    "mach_iterated_pipe = machine(iterated_pipe, X, y)\n",
    "fit!(mach_iterated_pipe);"
   ]
  },
  {
   "cell_type": "code",
   "execution_count": 138,
   "id": "2494128c-bcdf-42d5-98e3-ef8c8c7704f8",
   "metadata": {},
   "outputs": [
    {
     "data": {
      "text/plain": [
       "RandomSearch(\n",
       "  bounded = Distributions.Uniform, \n",
       "  positive_unbounded = Distributions.Gamma, \n",
       "  other = Distributions.Normal, \n",
       "  rng = Random.MersenneTwister(123))"
      ]
     },
     "execution_count": 138,
     "metadata": {},
     "output_type": "execute_result"
    }
   ],
   "source": [
    "p1 = :(model.evo_tree_classifier.η)\n",
    "p2 = :(model.evo_tree_classifier.max_depth)\n",
    "\n",
    "r1 = range(iterated_pipe, p1, lower=-2, upper=-0.5, scale=x->10^x)\n",
    "r2 = range(iterated_pipe, p2, lower=2, upper=6)\n",
    "\n",
    "tuning = RandomSearch(rng=123)"
   ]
  },
  {
   "cell_type": "markdown",
   "id": "3eed20b1-c5a1-411c-8656-8c684617a51a",
   "metadata": {},
   "source": [
    "Abaixo definimos como realizar a busca de hiperparâmetros ótimos.\n",
    "Note que passamos várias métricas (`measures`), porém, o modelo irá fazer a otimização\n",
    "baseada na primeira delas, que, neste caso, será a medida de Brier."
   ]
  },
  {
   "cell_type": "code",
   "execution_count": 139,
   "id": "14b07072-b1c9-4487-8da1-2125edbf42ae",
   "metadata": {},
   "outputs": [
    {
     "name": "stderr",
     "output_type": "stream",
     "text": [
      "┌ Info: Training machine(ProbabilisticTunedModel(model = ProbabilisticIteratedModel(model = ProbabilisticPipeline(continuous_encoder = ContinuousEncoder(drop_last = false, …), …), …), …), …).\n",
      "└ @ MLJBase /home/davibarreira/.julia/packages/MLJBase/jcOVb/src/machines.jl:487\n",
      "┌ Info: Attempting to evaluate 40 models.\n",
      "└ @ MLJTuning /home/davibarreira/.julia/packages/MLJTuning/DO54j/src/tuned_models.jl:727\n",
      "\u001b[33mEvaluating over 40 metamodels: 100%[=========================] Time: 0:00:34\u001b[39m\n"
     ]
    },
    {
     "data": {
      "text/plain": [
       "Machine trained 1 time; does not cache data\n",
       "  model: ProbabilisticTunedModel(model = ProbabilisticIteratedModel(model = ProbabilisticPipeline(continuous_encoder = ContinuousEncoder(drop_last = false, …), …), …), …)\n",
       "  args: \n",
       "    1:\tSource @771 ⏎ `Table{Union{AbstractVector{Continuous}, AbstractVector{Multiclass{3}}, AbstractVector{Multiclass{2}}, AbstractVector{Multiclass{4}}}}`\n",
       "    2:\tSource @909 ⏎ `AbstractVector{OrderedFactor{2}}`\n"
      ]
     },
     "execution_count": 139,
     "metadata": {},
     "output_type": "execute_result"
    }
   ],
   "source": [
    "tuned_iterated_pipe = TunedModel(model=iterated_pipe,\n",
    "                                 range=[r1, r2],\n",
    "                                 tuning=tuning,\n",
    "                                 measures=[brier_loss, auc, accuracy],\n",
    "                                 resampling=StratifiedCV(nfolds=6, rng=123),\n",
    "                                 acceleration=CPUThreads(),\n",
    "                                 n=40)\n",
    "mach_tuned_iterated_pipe = machine(tuned_iterated_pipe, X, y)\n",
    "fit!(mach_tuned_iterated_pipe)"
   ]
  },
  {
   "cell_type": "code",
   "execution_count": 140,
   "id": "c0761644-d734-4b1e-9048-86b85877a093",
   "metadata": {},
   "outputs": [
    {
     "data": {
      "text/plain": [
       "EvoTreeClassifier(\n",
       "  loss = EvoTrees.Softmax(), \n",
       "  nrounds = 10, \n",
       "  λ = 0.0, \n",
       "  γ = 0.0, \n",
       "  η = 0.15321505062842458, \n",
       "  max_depth = 3, \n",
       "  min_weight = 1.0, \n",
       "  rowsample = 1.0, \n",
       "  colsample = 1.0, \n",
       "  nbins = 64, \n",
       "  α = 0.5, \n",
       "  metric = :mlogloss, \n",
       "  rng = Random.MersenneTwister(123, (0, 168336, 167334, 666)), \n",
       "  device = \"cpu\")"
      ]
     },
     "execution_count": 140,
     "metadata": {},
     "output_type": "execute_result"
    }
   ],
   "source": [
    "rpt2 = report(mach_tuned_iterated_pipe);\n",
    "best_booster = rpt2.best_model.model.evo_tree_classifier"
   ]
  },
  {
   "cell_type": "code",
   "execution_count": 143,
   "id": "a2a4dc77-a369-4ee7-8359-2885078c964b",
   "metadata": {},
   "outputs": [
    {
     "data": {
      "text/plain": [
       "(MLJBase.Measure[BrierLoss(), AreaUnderCurve(), Accuracy()], [0.2839209303524716, 0.8194917559671658, 0.790993241257714])"
      ]
     },
     "execution_count": 143,
     "metadata": {},
     "output_type": "execute_result"
    }
   ],
   "source": [
    "rpt2.best_history_entry.measure,rpt2.best_history_entry.measurement"
   ]
  },
  {
   "cell_type": "code",
   "execution_count": 144,
   "id": "2c3b1c60-c452-4c2a-b2ce-969df2381e03",
   "metadata": {},
   "outputs": [
    {
     "data": {
      "text/plain": [
       "4-element Vector{Tuple{Any, NamedTuple}}:\n",
       " (Step(1), (new_iterations = 14,))\n",
       " (NumberSinceBest(4), (done = true, log = \"Stop triggered by NumberSinceBest(4) stopping criterion. \"))\n",
       " (TimeLimit(Dates.Millisecond(2000)), (done = false, log = \"\"))\n",
       " (InvalidValue(), (done = false, log = \"\"))"
      ]
     },
     "execution_count": 144,
     "metadata": {},
     "output_type": "execute_result"
    }
   ],
   "source": [
    "rpt2.best_report.controls |> collect"
   ]
  },
  {
   "cell_type": "code",
   "execution_count": 148,
   "id": "feffd725-8092-4ded-af0e-68aad444513f",
   "metadata": {},
   "outputs": [],
   "source": [
    "hiper = DataFrame(\"measures\" => mach_tuned_iterated_pipe.report.plotting.measurements,\n",
    "    split(mach_tuned_iterated_pipe.report.plotting.parameter_names[1],\".\")[end] => mach_tuned_iterated_pipe.report.plotting.parameter_values[:,1],\n",
    "    split(mach_tuned_iterated_pipe.report.plotting.parameter_names[2],\".\")[end] => mach_tuned_iterated_pipe.report.plotting.parameter_values[:,2]);"
   ]
  },
  {
   "cell_type": "code",
   "execution_count": 167,
   "id": "8fb6efcc-d186-4af7-adcc-09cd09200ae1",
   "metadata": {},
   "outputs": [
    {
     "data": {
      "text/plain": [
       "40-element Vector{Float64}:\n",
       " 0.2839209303524716\n",
       " 0.2845644400714636\n",
       " 0.28463271714083394\n",
       " 0.2868414014740747\n",
       " 0.2903480971187296\n",
       " 0.2925481743057746\n",
       " 0.294677287325022\n",
       " 0.2953485089671379\n",
       " 0.29718258717021834\n",
       " 0.2973920279642179\n",
       " 0.297889016990605\n",
       " 0.29815946303634394\n",
       " 0.2993934072852397\n",
       " ⋮\n",
       " 0.31850916359576714\n",
       " 0.3222513776716544\n",
       " 0.3238030232526914\n",
       " 0.3275521621207409\n",
       " 0.3380759235071016\n",
       " 0.3396695704850056\n",
       " 0.34013610778061026\n",
       " 0.3432681513573821\n",
       " 0.3486723237767213\n",
       " 0.3499715122318583\n",
       " 0.3546960451836864\n",
       " 0.3700354169091488"
      ]
     },
     "execution_count": 167,
     "metadata": {},
     "output_type": "execute_result"
    }
   ],
   "source": [
    "sort(mach_tuned_iterated_pipe.report.plotting.measurements)"
   ]
  },
  {
   "cell_type": "code",
   "execution_count": 168,
   "id": "5be8c526-6b20-4c39-a6f5-2f37bcf39bbb",
   "metadata": {},
   "outputs": [
    {
     "data": {
      "application/vnd.vegalite.v4+json": {
       "data": {
        "values": [
         {
          "max_depth": 6,
          "measures": 0.3380759235071016,
          "η": 0.10255056131766714
         },
         {
          "max_depth": 5,
          "measures": 0.3222513776716544,
          "η": 0.029502983318209337
         },
         {
          "max_depth": 2,
          "measures": 0.2973920279642179,
          "η": 0.025290612814272948
         },
         {
          "max_depth": 3,
          "measures": 0.3014837532924155,
          "η": 0.05123010242209152
         },
         {
          "max_depth": 4,
          "measures": 0.3103834970425723,
          "η": 0.026825439779835418
         },
         {
          "max_depth": 4,
          "measures": 0.3082536748817466,
          "η": 0.025925591439329657
         },
         {
          "max_depth": 5,
          "measures": 0.3238030232526914,
          "η": 0.024208727104518445
         },
         {
          "max_depth": 3,
          "measures": 0.30305416456670287,
          "η": 0.1546666018182214
         },
         {
          "max_depth": 4,
          "measures": 0.31097399555003896,
          "η": 0.23836785946891773
         },
         {
          "max_depth": 6,
          "measures": 0.3486723237767213,
          "η": 0.06815574217348588
         },
         {
          "max_depth": 3,
          "measures": 0.2839209303524716,
          "η": 0.15321505062842458
         },
         {
          "max_depth": 4,
          "measures": 0.30311434553151506,
          "η": 0.011162113955570941
         },
         {
          "max_depth": 6,
          "measures": 0.3275521621207409,
          "η": 0.08552007488288643
         },
         {
          "max_depth": 3,
          "measures": 0.2868414014740747,
          "η": 0.0717661723753943
         },
         {
          "max_depth": 3,
          "measures": 0.2845644400714636,
          "η": 0.1379215027098633
         },
         {
          "max_depth": 5,
          "measures": 0.3149111738564178,
          "η": 0.014012147650657773
         },
         {
          "max_depth": 2,
          "measures": 0.294677287325022,
          "η": 0.06612359168674212
         },
         {
          "max_depth": 5,
          "measures": 0.31308769884365284,
          "η": 0.05915886385002976
         },
         {
          "max_depth": 5,
          "measures": 0.3155875591530857,
          "η": 0.028340343065437555
         },
         {
          "max_depth": 4,
          "measures": 0.30082495764120326,
          "η": 0.0502143545430527
         },
         {
          "max_depth": 2,
          "measures": 0.28463271714083394,
          "η": 0.14682597477521467
         },
         {
          "max_depth": 3,
          "measures": 0.2925481743057746,
          "η": 0.2440323369142411
         },
         {
          "max_depth": 5,
          "measures": 0.31850916359576714,
          "η": 0.015131920550523635
         },
         {
          "max_depth": 3,
          "measures": 0.2903480971187296,
          "η": 0.07331812022796641
         },
         {
          "max_depth": 6,
          "measures": 0.34013610778061026,
          "η": 0.01032165596249556
         },
         {
          "max_depth": 6,
          "measures": 0.3432681513573821,
          "η": 0.18319678350960295
         },
         {
          "max_depth": 6,
          "measures": 0.3499715122318583,
          "η": 0.19212808129408532
         },
         {
          "max_depth": 4,
          "measures": 0.30628703111612543,
          "η": 0.03558369392905288
         },
         {
          "max_depth": 5,
          "measures": 0.3120308238173068,
          "η": 0.2103097980193911
         },
         {
          "max_depth": 6,
          "measures": 0.3396695704850056,
          "η": 0.025802448626044985
         },
         {
          "max_depth": 3,
          "measures": 0.29815946303634394,
          "η": 0.09153894687112983
         },
         {
          "max_depth": 3,
          "measures": 0.2993934072852397,
          "η": 0.17636523799927525
         },
         {
          "max_depth": 2,
          "measures": 0.2953485089671379,
          "η": 0.042542369604173944
         },
         {
          "max_depth": 3,
          "measures": 0.297889016990605,
          "η": 0.01816219253630274
         },
         {
          "max_depth": 6,
          "measures": 0.3700354169091488,
          "η": 0.2775945106764051
         },
         {
          "max_depth": 5,
          "measures": 0.3546960451836864,
          "η": 0.29973832512124293
         },
         {
          "max_depth": 2,
          "measures": 0.29718258717021834,
          "η": 0.030484775278807642
         },
         {
          "max_depth": 2,
          "measures": 0.29967714512201094,
          "η": 0.02592018905480225
         },
         {
          "max_depth": 4,
          "measures": 0.3087090397175543,
          "η": 0.04277894095114918
         },
         {
          "max_depth": 4,
          "measures": 0.3043412982894912,
          "η": 0.1112422722108546
         }
        ]
       },
       "encoding": {
        "size": {
         "field": "measures",
         "type": "quantitative"
        },
        "x": {
         "field": "η",
         "title": "False Positive",
         "type": "q"
        },
        "y": {
         "field": "max_depth",
         "tiltle": "True Positive",
         "type": "q"
        }
       },
       "height": 400,
       "mark": "circle",
       "width": 400
      },
      "image/png": "[encoded data removed]",
      "image/svg+xml": [
       "<?xml version=\"1.0\" encoding=\"utf-8\"?>\n",
       "<!DOCTYPE svg PUBLIC \"-//W3C//DTD SVG 1.1//EN\" \"http://www.w3.org/Graphics/SVG/1.1/DTD/svg11.dtd\">\n",
       "<svg xmlns=\"http://www.w3.org/2000/svg\" xmlns:xlink=\"http://www.w3.org/1999/xlink\" version=\"1.1\" class=\"marks\" width=\"524\" height=\"452\" viewBox=\"0 0 524 452\"><rect width=\"524\" height=\"452\" fill=\"white\"/><g fill=\"none\" stroke-miterlimit=\"10\" transform=\"translate(42,15)\"><g class=\"mark-group role-frame root\" role=\"graphics-object\" aria-roledescription=\"group mark container\"><g transform=\"translate(0,0)\"><path class=\"background\" aria-hidden=\"true\" d=\"M0.5,0.5h400v400h-400Z\" stroke=\"#ddd\"/><g><g class=\"mark-group role-axis\" aria-hidden=\"true\"><g transform=\"translate(0.5,400.5)\"><path class=\"background\" aria-hidden=\"true\" d=\"M0,0h0v0h0Z\" pointer-events=\"none\"/><g><g class=\"mark-rule role-axis-grid\" pointer-events=\"none\"><line transform=\"translate(0,-400)\" x2=\"0\" y2=\"400\" stroke=\"#ddd\" stroke-width=\"1\" opacity=\"1\"/><line transform=\"translate(27,-400)\" x2=\"0\" y2=\"400\" stroke=\"#ddd\" stroke-width=\"1\" opacity=\"1\"/><line transform=\"translate(53,-400)\" x2=\"0\" y2=\"400\" stroke=\"#ddd\" stroke-width=\"1\" opacity=\"1\"/><line transform=\"translate(80,-400)\" x2=\"0\" y2=\"400\" stroke=\"#ddd\" stroke-width=\"1\" opacity=\"1\"/><line transform=\"translate(107,-400)\" x2=\"0\" y2=\"400\" stroke=\"#ddd\" stroke-width=\"1\" opacity=\"1\"/><line transform=\"translate(133,-400)\" x2=\"0\" y2=\"400\" stroke=\"#ddd\" stroke-width=\"1\" opacity=\"1\"/><line transform=\"translate(160,-400)\" x2=\"0\" y2=\"400\" stroke=\"#ddd\" stroke-width=\"1\" opacity=\"1\"/><line transform=\"translate(187,-400)\" x2=\"0\" y2=\"400\" stroke=\"#ddd\" stroke-width=\"1\" opacity=\"1\"/><line transform=\"translate(213,-400)\" x2=\"0\" y2=\"400\" stroke=\"#ddd\" stroke-width=\"1\" opacity=\"1\"/><line transform=\"translate(240,-400)\" x2=\"0\" y2=\"400\" stroke=\"#ddd\" stroke-width=\"1\" opacity=\"1\"/><line transform=\"translate(267,-400)\" x2=\"0\" y2=\"400\" stroke=\"#ddd\" stroke-width=\"1\" opacity=\"1\"/><line transform=\"translate(293,-400)\" x2=\"0\" y2=\"400\" stroke=\"#ddd\" stroke-width=\"1\" opacity=\"1\"/><line transform=\"translate(320,-400)\" x2=\"0\" y2=\"400\" stroke=\"#ddd\" stroke-width=\"1\" opacity=\"1\"/><line transform=\"translate(347,-400)\" x2=\"0\" y2=\"400\" stroke=\"#ddd\" stroke-width=\"1\" opacity=\"1\"/><line transform=\"translate(373,-400)\" x2=\"0\" y2=\"400\" stroke=\"#ddd\" stroke-width=\"1\" opacity=\"1\"/><line transform=\"translate(400,-400)\" x2=\"0\" y2=\"400\" stroke=\"#ddd\" stroke-width=\"1\" opacity=\"1\"/></g></g><path class=\"foreground\" aria-hidden=\"true\" d=\"\" pointer-events=\"none\" display=\"none\"/></g></g><g class=\"mark-group role-axis\" aria-hidden=\"true\"><g transform=\"translate(0.5,0.5)\"><path class=\"background\" aria-hidden=\"true\" d=\"M0,0h0v0h0Z\" pointer-events=\"none\"/><g><g class=\"mark-rule role-axis-grid\" pointer-events=\"none\"><line transform=\"translate(0,400)\" x2=\"400\" y2=\"0\" stroke=\"#ddd\" stroke-width=\"1\" opacity=\"1\"/><line transform=\"translate(0,367)\" x2=\"400\" y2=\"0\" stroke=\"#ddd\" stroke-width=\"1\" opacity=\"1\"/><line transform=\"translate(0,333)\" x2=\"400\" y2=\"0\" stroke=\"#ddd\" stroke-width=\"1\" opacity=\"1\"/><line transform=\"translate(0,300)\" x2=\"400\" y2=\"0\" stroke=\"#ddd\" stroke-width=\"1\" opacity=\"1\"/><line transform=\"translate(0,267)\" x2=\"400\" y2=\"0\" stroke=\"#ddd\" stroke-width=\"1\" opacity=\"1\"/><line transform=\"translate(0,233)\" x2=\"400\" y2=\"0\" stroke=\"#ddd\" stroke-width=\"1\" opacity=\"1\"/><line transform=\"translate(0,200)\" x2=\"400\" y2=\"0\" stroke=\"#ddd\" stroke-width=\"1\" opacity=\"1\"/><line transform=\"translate(0,167)\" x2=\"400\" y2=\"0\" stroke=\"#ddd\" stroke-width=\"1\" opacity=\"1\"/><line transform=\"translate(0,133)\" x2=\"400\" y2=\"0\" stroke=\"#ddd\" stroke-width=\"1\" opacity=\"1\"/><line transform=\"translate(0,100)\" x2=\"400\" y2=\"0\" stroke=\"#ddd\" stroke-width=\"1\" opacity=\"1\"/><line transform=\"translate(0,67)\" x2=\"400\" y2=\"0\" stroke=\"#ddd\" stroke-width=\"1\" opacity=\"1\"/><line transform=\"translate(0,33)\" x2=\"400\" y2=\"0\" stroke=\"#ddd\" stroke-width=\"1\" opacity=\"1\"/><line transform=\"translate(0,0)\" x2=\"400\" y2=\"0\" stroke=\"#ddd\" stroke-width=\"1\" opacity=\"1\"/></g></g><path class=\"foreground\" aria-hidden=\"true\" d=\"\" pointer-events=\"none\" display=\"none\"/></g></g><g class=\"mark-group role-axis\" role=\"graphics-symbol\" aria-roledescription=\"axis\" aria-label=\"X-axis titled 'False Positive' for a linear scale with values from 0.00 to 0.30\"><g transform=\"translate(0.5,400.5)\"><path class=\"background\" aria-hidden=\"true\" d=\"M0,0h0v0h0Z\" pointer-events=\"none\"/><g><g class=\"mark-rule role-axis-tick\" pointer-events=\"none\"><line transform=\"translate(0,0)\" x2=\"0\" y2=\"5\" stroke=\"#888\" stroke-width=\"1\" opacity=\"1\"/><line transform=\"translate(27,0)\" x2=\"0\" y2=\"5\" stroke=\"#888\" stroke-width=\"1\" opacity=\"1\"/><line transform=\"translate(53,0)\" x2=\"0\" y2=\"5\" stroke=\"#888\" stroke-width=\"1\" opacity=\"1\"/><line transform=\"translate(80,0)\" x2=\"0\" y2=\"5\" stroke=\"#888\" stroke-width=\"1\" opacity=\"1\"/><line transform=\"translate(107,0)\" x2=\"0\" y2=\"5\" stroke=\"#888\" stroke-width=\"1\" opacity=\"1\"/><line transform=\"translate(133,0)\" x2=\"0\" y2=\"5\" stroke=\"#888\" stroke-width=\"1\" opacity=\"1\"/><line transform=\"translate(160,0)\" x2=\"0\" y2=\"5\" stroke=\"#888\" stroke-width=\"1\" opacity=\"1\"/><line transform=\"translate(187,0)\" x2=\"0\" y2=\"5\" stroke=\"#888\" stroke-width=\"1\" opacity=\"1\"/><line transform=\"translate(213,0)\" x2=\"0\" y2=\"5\" stroke=\"#888\" stroke-width=\"1\" opacity=\"1\"/><line transform=\"translate(240,0)\" x2=\"0\" y2=\"5\" stroke=\"#888\" stroke-width=\"1\" opacity=\"1\"/><line transform=\"translate(267,0)\" x2=\"0\" y2=\"5\" stroke=\"#888\" stroke-width=\"1\" opacity=\"1\"/><line transform=\"translate(293,0)\" x2=\"0\" y2=\"5\" stroke=\"#888\" stroke-width=\"1\" opacity=\"1\"/><line transform=\"translate(320,0)\" x2=\"0\" y2=\"5\" stroke=\"#888\" stroke-width=\"1\" opacity=\"1\"/><line transform=\"translate(347,0)\" x2=\"0\" y2=\"5\" stroke=\"#888\" stroke-width=\"1\" opacity=\"1\"/><line transform=\"translate(373,0)\" x2=\"0\" y2=\"5\" stroke=\"#888\" stroke-width=\"1\" opacity=\"1\"/><line transform=\"translate(400,0)\" x2=\"0\" y2=\"5\" stroke=\"#888\" stroke-width=\"1\" opacity=\"1\"/></g><g class=\"mark-text role-axis-label\" pointer-events=\"none\"><text text-anchor=\"start\" transform=\"translate(0,15)\" font-family=\"sans-serif\" font-size=\"10px\" fill=\"#000\" opacity=\"1\">0.00</text><text text-anchor=\"middle\" transform=\"translate(26.666666666666668,15)\" font-family=\"sans-serif\" font-size=\"10px\" fill=\"#000\" opacity=\"0\">0.02</text><text text-anchor=\"middle\" transform=\"translate(53.333333333333336,15)\" font-family=\"sans-serif\" font-size=\"10px\" fill=\"#000\" opacity=\"1\">0.04</text><text text-anchor=\"middle\" transform=\"translate(80,15)\" font-family=\"sans-serif\" font-size=\"10px\" fill=\"#000\" opacity=\"0\">0.06</text><text text-anchor=\"middle\" transform=\"translate(106.66666666666667,15)\" font-family=\"sans-serif\" font-size=\"10px\" fill=\"#000\" opacity=\"1\">0.08</text><text text-anchor=\"middle\" transform=\"translate(133.33333333333334,15)\" font-family=\"sans-serif\" font-size=\"10px\" fill=\"#000\" opacity=\"0\">0.10</text><text text-anchor=\"middle\" transform=\"translate(160,15)\" font-family=\"sans-serif\" font-size=\"10px\" fill=\"#000\" opacity=\"1\">0.12</text><text text-anchor=\"middle\" transform=\"translate(186.66666666666669,15)\" font-family=\"sans-serif\" font-size=\"10px\" fill=\"#000\" opacity=\"0\">0.14</text><text text-anchor=\"middle\" transform=\"translate(213.33333333333334,15)\" font-family=\"sans-serif\" font-size=\"10px\" fill=\"#000\" opacity=\"1\">0.16</text><text text-anchor=\"middle\" transform=\"translate(240,15)\" font-family=\"sans-serif\" font-size=\"10px\" fill=\"#000\" opacity=\"0\">0.18</text><text text-anchor=\"middle\" transform=\"translate(266.6666666666667,15)\" font-family=\"sans-serif\" font-size=\"10px\" fill=\"#000\" opacity=\"1\">0.20</text><text text-anchor=\"middle\" transform=\"translate(293.33333333333337,15)\" font-family=\"sans-serif\" font-size=\"10px\" fill=\"#000\" opacity=\"0\">0.22</text><text text-anchor=\"middle\" transform=\"translate(320,15)\" font-family=\"sans-serif\" font-size=\"10px\" fill=\"#000\" opacity=\"1\">0.24</text><text text-anchor=\"middle\" transform=\"translate(346.6666666666667,15)\" font-family=\"sans-serif\" font-size=\"10px\" fill=\"#000\" opacity=\"0\">0.26</text><text text-anchor=\"middle\" transform=\"translate(373.33333333333337,15)\" font-family=\"sans-serif\" font-size=\"10px\" fill=\"#000\" opacity=\"1\">0.28</text><text text-anchor=\"end\" transform=\"translate(400,15)\" font-family=\"sans-serif\" font-size=\"10px\" fill=\"#000\" opacity=\"0\">0.30</text></g><g class=\"mark-rule role-axis-domain\" pointer-events=\"none\"><line transform=\"translate(0,0)\" x2=\"400\" y2=\"0\" stroke=\"#888\" stroke-width=\"1\" opacity=\"1\"/></g><g class=\"mark-text role-axis-title\" pointer-events=\"none\"><text text-anchor=\"middle\" transform=\"translate(200,30)\" font-family=\"sans-serif\" font-size=\"11px\" font-weight=\"bold\" fill=\"#000\" opacity=\"1\">False Positive</text></g></g><path class=\"foreground\" aria-hidden=\"true\" d=\"\" pointer-events=\"none\" display=\"none\"/></g></g><g class=\"mark-group role-axis\" role=\"graphics-symbol\" aria-roledescription=\"axis\" aria-label=\"Y-axis titled 'max_depth' for a linear scale with values from 0 to 6\"><g transform=\"translate(0.5,0.5)\"><path class=\"background\" aria-hidden=\"true\" d=\"M0,0h0v0h0Z\" pointer-events=\"none\"/><g><g class=\"mark-rule role-axis-tick\" pointer-events=\"none\"><line transform=\"translate(0,400)\" x2=\"-5\" y2=\"0\" stroke=\"#888\" stroke-width=\"1\" opacity=\"1\"/><line transform=\"translate(0,367)\" x2=\"-5\" y2=\"0\" stroke=\"#888\" stroke-width=\"1\" opacity=\"1\"/><line transform=\"translate(0,333)\" x2=\"-5\" y2=\"0\" stroke=\"#888\" stroke-width=\"1\" opacity=\"1\"/><line transform=\"translate(0,300)\" x2=\"-5\" y2=\"0\" stroke=\"#888\" stroke-width=\"1\" opacity=\"1\"/><line transform=\"translate(0,267)\" x2=\"-5\" y2=\"0\" stroke=\"#888\" stroke-width=\"1\" opacity=\"1\"/><line transform=\"translate(0,233)\" x2=\"-5\" y2=\"0\" stroke=\"#888\" stroke-width=\"1\" opacity=\"1\"/><line transform=\"translate(0,200)\" x2=\"-5\" y2=\"0\" stroke=\"#888\" stroke-width=\"1\" opacity=\"1\"/><line transform=\"translate(0,167)\" x2=\"-5\" y2=\"0\" stroke=\"#888\" stroke-width=\"1\" opacity=\"1\"/><line transform=\"translate(0,133)\" x2=\"-5\" y2=\"0\" stroke=\"#888\" stroke-width=\"1\" opacity=\"1\"/><line transform=\"translate(0,100)\" x2=\"-5\" y2=\"0\" stroke=\"#888\" stroke-width=\"1\" opacity=\"1\"/><line transform=\"translate(0,67)\" x2=\"-5\" y2=\"0\" stroke=\"#888\" stroke-width=\"1\" opacity=\"1\"/><line transform=\"translate(0,33)\" x2=\"-5\" y2=\"0\" stroke=\"#888\" stroke-width=\"1\" opacity=\"1\"/><line transform=\"translate(0,0)\" x2=\"-5\" y2=\"0\" stroke=\"#888\" stroke-width=\"1\" opacity=\"1\"/></g><g class=\"mark-text role-axis-label\" pointer-events=\"none\"><text text-anchor=\"end\" transform=\"translate(-7,403)\" font-family=\"sans-serif\" font-size=\"10px\" fill=\"#000\" opacity=\"1\">0.0</text><text text-anchor=\"end\" transform=\"translate(-7,369.66666666666663)\" font-family=\"sans-serif\" font-size=\"10px\" fill=\"#000\" opacity=\"1\">0.5</text><text text-anchor=\"end\" transform=\"translate(-7,336.33333333333337)\" font-family=\"sans-serif\" font-size=\"10px\" fill=\"#000\" opacity=\"1\">1.0</text><text text-anchor=\"end\" transform=\"translate(-7,303)\" font-family=\"sans-serif\" font-size=\"10px\" fill=\"#000\" opacity=\"1\">1.5</text><text text-anchor=\"end\" transform=\"translate(-7,269.6666666666667)\" font-family=\"sans-serif\" font-size=\"10px\" fill=\"#000\" opacity=\"1\">2.0</text><text text-anchor=\"end\" transform=\"translate(-7,236.33333333333331)\" font-family=\"sans-serif\" font-size=\"10px\" fill=\"#000\" opacity=\"1\">2.5</text><text text-anchor=\"end\" transform=\"translate(-7,203)\" font-family=\"sans-serif\" font-size=\"10px\" fill=\"#000\" opacity=\"1\">3.0</text><text text-anchor=\"end\" transform=\"translate(-7,169.66666666666666)\" font-family=\"sans-serif\" font-size=\"10px\" fill=\"#000\" opacity=\"1\">3.5</text><text text-anchor=\"end\" transform=\"translate(-7,136.33333333333334)\" font-family=\"sans-serif\" font-size=\"10px\" fill=\"#000\" opacity=\"1\">4.0</text><text text-anchor=\"end\" transform=\"translate(-7,103)\" font-family=\"sans-serif\" font-size=\"10px\" fill=\"#000\" opacity=\"1\">4.5</text><text text-anchor=\"end\" transform=\"translate(-7,69.66666666666666)\" font-family=\"sans-serif\" font-size=\"10px\" fill=\"#000\" opacity=\"1\">5.0</text><text text-anchor=\"end\" transform=\"translate(-7,36.33333333333335)\" font-family=\"sans-serif\" font-size=\"10px\" fill=\"#000\" opacity=\"1\">5.5</text><text text-anchor=\"end\" transform=\"translate(-7,3)\" font-family=\"sans-serif\" font-size=\"10px\" fill=\"#000\" opacity=\"1\">6.0</text></g><g class=\"mark-rule role-axis-domain\" pointer-events=\"none\"><line transform=\"translate(0,400)\" x2=\"0\" y2=\"-400\" stroke=\"#888\" stroke-width=\"1\" opacity=\"1\"/></g><g class=\"mark-text role-axis-title\" pointer-events=\"none\"><text text-anchor=\"middle\" transform=\"translate(-26,200) rotate(-90) translate(0,-2)\" font-family=\"sans-serif\" font-size=\"11px\" font-weight=\"bold\" fill=\"#000\" opacity=\"1\">max_depth</text></g></g><path class=\"foreground\" aria-hidden=\"true\" d=\"\" pointer-events=\"none\" display=\"none\"/></g></g><g class=\"mark-symbol role-mark marks\" role=\"graphics-object\" aria-roledescription=\"symbol mark container\"><path aria-label=\"False Positive: 0.102550561318; max_depth: 6; measures: 0.338075923507\" role=\"graphics-symbol\" aria-roledescription=\"circle\" transform=\"translate(136.73408175688954,0)\" d=\"M9.080485727489688,0A9.080485727489688,9.080485727489688,0,1,1,-9.080485727489688,0A9.080485727489688,9.080485727489688,0,1,1,9.080485727489688,0\" fill=\"#4c78a8\" stroke-width=\"2\" opacity=\"0.7\"/><path aria-label=\"False Positive: 0.0295029833182; max_depth: 5; measures: 0.322251377672\" role=\"graphics-symbol\" aria-roledescription=\"circle\" transform=\"translate(39.33731109094579,66.66666666666666)\" d=\"M8.865420710532582,0A8.865420710532582,8.865420710532582,0,1,1,-8.865420710532582,0A8.865420710532582,8.865420710532582,0,1,1,8.865420710532582,0\" fill=\"#4c78a8\" stroke-width=\"2\" opacity=\"0.7\"/><path aria-label=\"False Positive: 0.0252906128143; max_depth: 2; measures: 0.297392027964\" role=\"graphics-symbol\" aria-roledescription=\"circle\" transform=\"translate(33.72081708569726,266.6666666666667)\" d=\"M8.516607249130765,0A8.516607249130765,8.516607249130765,0,1,1,-8.516607249130765,0A8.516607249130765,8.516607249130765,0,1,1,8.516607249130765,0\" fill=\"#4c78a8\" stroke-width=\"2\" opacity=\"0.7\"/><path aria-label=\"False Positive: 0.0512301024221; max_depth: 3; measures: 0.301483753292\" role=\"graphics-symbol\" aria-roledescription=\"circle\" transform=\"translate(68.30680322945535,200)\" d=\"M8.574995785947248,0A8.574995785947248,8.574995785947248,0,1,1,-8.574995785947248,0A8.574995785947248,8.574995785947248,0,1,1,8.574995785947248,0\" fill=\"#4c78a8\" stroke-width=\"2\" opacity=\"0.7\"/><path aria-label=\"False Positive: 0.0268254397798; max_depth: 4; measures: 0.310383497043\" role=\"graphics-symbol\" aria-roledescription=\"circle\" transform=\"translate(35.76725303978056,133.33333333333334)\" d=\"M8.70064140334564,0A8.70064140334564,8.70064140334564,0,1,1,-8.70064140334564,0A8.70064140334564,8.70064140334564,0,1,1,8.70064140334564,0\" fill=\"#4c78a8\" stroke-width=\"2\" opacity=\"0.7\"/><path aria-label=\"False Positive: 0.0259255914393; max_depth: 4; measures: 0.308253674882\" role=\"graphics-symbol\" aria-roledescription=\"circle\" transform=\"translate(34.567455252439544,133.33333333333334)\" d=\"M8.670738528725492,0A8.670738528725492,8.670738528725492,0,1,1,-8.670738528725492,0A8.670738528725492,8.670738528725492,0,1,1,8.670738528725492,0\" fill=\"#4c78a8\" stroke-width=\"2\" opacity=\"0.7\"/><path aria-label=\"False Positive: 0.0242087271045; max_depth: 5; measures: 0.323803023253\" role=\"graphics-symbol\" aria-roledescription=\"circle\" transform=\"translate(32.2783028060246,66.66666666666666)\" d=\"M8.886738651646247,0A8.886738651646247,8.886738651646247,0,1,1,-8.886738651646247,0A8.886738651646247,8.886738651646247,0,1,1,8.886738651646247,0\" fill=\"#4c78a8\" stroke-width=\"2\" opacity=\"0.7\"/><path aria-label=\"False Positive: 0.154666601818; max_depth: 3; measures: 0.303054164567\" role=\"graphics-symbol\" aria-roledescription=\"circle\" transform=\"translate(206.22213575762856,200)\" d=\"M8.597300104477133,0A8.597300104477133,8.597300104477133,0,1,1,-8.597300104477133,0A8.597300104477133,8.597300104477133,0,1,1,8.597300104477133,0\" fill=\"#4c78a8\" stroke-width=\"2\" opacity=\"0.7\"/><path aria-label=\"False Positive: 0.238367859469; max_depth: 4; measures: 0.31097399555\" role=\"graphics-symbol\" aria-roledescription=\"circle\" transform=\"translate(317.82381262522364,133.33333333333334)\" d=\"M8.708913870362194,0A8.708913870362194,8.708913870362194,0,1,1,-8.708913870362194,0A8.708913870362194,8.708913870362194,0,1,1,8.708913870362194,0\" fill=\"#4c78a8\" stroke-width=\"2\" opacity=\"0.7\"/><path aria-label=\"False Positive: 0.0681557421735; max_depth: 6; measures: 0.348672323777\" role=\"graphics-symbol\" aria-roledescription=\"circle\" transform=\"translate(90.87432289798119,0)\" d=\"M9.2216937794296,0A9.2216937794296,9.2216937794296,0,1,1,-9.2216937794296,0A9.2216937794296,9.2216937794296,0,1,1,9.2216937794296,0\" fill=\"#4c78a8\" stroke-width=\"2\" opacity=\"0.7\"/><path aria-label=\"False Positive: 0.153215050628; max_depth: 3; measures: 0.283920930352\" role=\"graphics-symbol\" aria-roledescription=\"circle\" transform=\"translate(204.2867341712328,200)\" d=\"M8.321481716999124,0A8.321481716999124,8.321481716999124,0,1,1,-8.321481716999124,0A8.321481716999124,8.321481716999124,0,1,1,8.321481716999124,0\" fill=\"#4c78a8\" stroke-width=\"2\" opacity=\"0.7\"/><path aria-label=\"False Positive: 0.0111621139556; max_depth: 4; measures: 0.303114345532\" role=\"graphics-symbol\" aria-roledescription=\"circle\" transform=\"translate(14.882818607427922,133.33333333333334)\" d=\"M8.598153694679633,0A8.598153694679633,8.598153694679633,0,1,1,-8.598153694679633,0A8.598153694679633,8.598153694679633,0,1,1,8.598153694679633,0\" fill=\"#4c78a8\" stroke-width=\"2\" opacity=\"0.7\"/><path aria-label=\"False Positive: 0.0855200748829; max_depth: 6; measures: 0.327552162121\" role=\"graphics-symbol\" aria-roledescription=\"circle\" transform=\"translate(114.02676651051524,0)\" d=\"M8.9380379410005,0A8.9380379410005,8.9380379410005,0,1,1,-8.9380379410005,0A8.9380379410005,8.9380379410005,0,1,1,8.9380379410005,0\" fill=\"#4c78a8\" stroke-width=\"2\" opacity=\"0.7\"/><path aria-label=\"False Positive: 0.0717661723754; max_depth: 3; measures: 0.286841401474\" role=\"graphics-symbol\" aria-roledescription=\"circle\" transform=\"translate(95.68822983385907,200)\" d=\"M8.364170487483456,0A8.364170487483456,8.364170487483456,0,1,1,-8.364170487483456,0A8.364170487483456,8.364170487483456,0,1,1,8.364170487483456,0\" fill=\"#4c78a8\" stroke-width=\"2\" opacity=\"0.7\"/><path aria-label=\"False Positive: 0.13792150271; max_depth: 3; measures: 0.284564440071\" role=\"graphics-symbol\" aria-roledescription=\"circle\" transform=\"translate(183.8953369464844,200)\" d=\"M8.330906741641652,0A8.330906741641652,8.330906741641652,0,1,1,-8.330906741641652,0A8.330906741641652,8.330906741641652,0,1,1,8.330906741641652,0\" fill=\"#4c78a8\" stroke-width=\"2\" opacity=\"0.7\"/><path aria-label=\"False Positive: 0.0140121476507; max_depth: 5; measures: 0.314911173856\" role=\"graphics-symbol\" aria-roledescription=\"circle\" transform=\"translate(18.682863534210366,66.66666666666666)\" d=\"M8.76387135688487,0A8.76387135688487,8.76387135688487,0,1,1,-8.76387135688487,0A8.76387135688487,8.76387135688487,0,1,1,8.76387135688487,0\" fill=\"#4c78a8\" stroke-width=\"2\" opacity=\"0.7\"/><path aria-label=\"False Positive: 0.0661235916867; max_depth: 2; measures: 0.294677287325\" role=\"graphics-symbol\" aria-roledescription=\"circle\" transform=\"translate(88.16478891565616,266.6666666666667)\" d=\"M8.477646242470705,0A8.477646242470705,8.477646242470705,0,1,1,-8.477646242470705,0A8.477646242470705,8.477646242470705,0,1,1,8.477646242470705,0\" fill=\"#4c78a8\" stroke-width=\"2\" opacity=\"0.7\"/><path aria-label=\"False Positive: 0.05915886385; max_depth: 5; measures: 0.313087698844\" role=\"graphics-symbol\" aria-roledescription=\"circle\" transform=\"translate(78.87848513337302,66.66666666666666)\" d=\"M8.738461173291418,0A8.738461173291418,8.738461173291418,0,1,1,-8.738461173291418,0A8.738461173291418,8.738461173291418,0,1,1,8.738461173291418,0\" fill=\"#4c78a8\" stroke-width=\"2\" opacity=\"0.7\"/><path aria-label=\"False Positive: 0.0283403430654; max_depth: 5; measures: 0.315587559153\" role=\"graphics-symbol\" aria-roledescription=\"circle\" transform=\"translate(37.78712408725007,66.66666666666666)\" d=\"M8.773278095413273,0A8.773278095413273,8.773278095413273,0,1,1,-8.773278095413273,0A8.773278095413273,8.773278095413273,0,1,1,8.773278095413273,0\" fill=\"#4c78a8\" stroke-width=\"2\" opacity=\"0.7\"/><path aria-label=\"False Positive: 0.0502143545431; max_depth: 4; measures: 0.300824957641\" role=\"graphics-symbol\" aria-roledescription=\"circle\" transform=\"translate(66.95247272407028,133.33333333333334)\" d=\"M8.56562171627006,0A8.56562171627006,8.56562171627006,0,1,1,-8.56562171627006,0A8.56562171627006,8.56562171627006,0,1,1,8.56562171627006,0\" fill=\"#4c78a8\" stroke-width=\"2\" opacity=\"0.7\"/><path aria-label=\"False Positive: 0.146825974775; max_depth: 2; measures: 0.284632717141\" role=\"graphics-symbol\" aria-roledescription=\"circle\" transform=\"translate(195.76796636695292,266.6666666666667)\" d=\"M8.331906121223419,0A8.331906121223419,8.331906121223419,0,1,1,-8.331906121223419,0A8.331906121223419,8.331906121223419,0,1,1,8.331906121223419,0\" fill=\"#4c78a8\" stroke-width=\"2\" opacity=\"0.7\"/><path aria-label=\"False Positive: 0.244032336914; max_depth: 3; measures: 0.292548174306\" role=\"graphics-symbol\" aria-roledescription=\"circle\" transform=\"translate(325.3764492189881,200)\" d=\"M8.44696422230386,0A8.44696422230386,8.44696422230386,0,1,1,-8.44696422230386,0A8.44696422230386,8.44696422230386,0,1,1,8.44696422230386,0\" fill=\"#4c78a8\" stroke-width=\"2\" opacity=\"0.7\"/><path aria-label=\"False Positive: 0.0151319205505; max_depth: 5; measures: 0.318509163596\" role=\"graphics-symbol\" aria-roledescription=\"circle\" transform=\"translate(20.175894067364847,66.66666666666666)\" d=\"M8.813794581721917,0A8.813794581721917,8.813794581721917,0,1,1,-8.813794581721917,0A8.813794581721917,8.813794581721917,0,1,1,8.813794581721917,0\" fill=\"#4c78a8\" stroke-width=\"2\" opacity=\"0.7\"/><path aria-label=\"False Positive: 0.073318120228; max_depth: 3; measures: 0.290348097119\" role=\"graphics-symbol\" aria-roledescription=\"circle\" transform=\"translate(97.75749363728855,200)\" d=\"M8.415142036051737,0A8.415142036051737,8.415142036051737,0,1,1,-8.415142036051737,0A8.415142036051737,8.415142036051737,0,1,1,8.415142036051737,0\" fill=\"#4c78a8\" stroke-width=\"2\" opacity=\"0.7\"/><path aria-label=\"False Positive: 0.0103216559625; max_depth: 6; measures: 0.340136107781\" role=\"graphics-symbol\" aria-roledescription=\"circle\" transform=\"translate(13.76220794999408,0)\" d=\"M9.108111268029665,0A9.108111268029665,9.108111268029665,0,1,1,-9.108111268029665,0A9.108111268029665,9.108111268029665,0,1,1,9.108111268029665,0\" fill=\"#4c78a8\" stroke-width=\"2\" opacity=\"0.7\"/><path aria-label=\"False Positive: 0.18319678351; max_depth: 6; measures: 0.343268151357\" role=\"graphics-symbol\" aria-roledescription=\"circle\" transform=\"translate(244.26237801280394,0)\" d=\"M9.149949859606364,0A9.149949859606364,9.149949859606364,0,1,1,-9.149949859606364,0A9.149949859606364,9.149949859606364,0,1,1,9.149949859606364,0\" fill=\"#4c78a8\" stroke-width=\"2\" opacity=\"0.7\"/><path aria-label=\"False Positive: 0.192128081294; max_depth: 6; measures: 0.349971512232\" role=\"graphics-symbol\" aria-roledescription=\"circle\" transform=\"translate(256.17077505878046,0)\" d=\"M9.238858288454264,0A9.238858288454264,9.238858288454264,0,1,1,-9.238858288454264,0A9.238858288454264,9.238858288454264,0,1,1,9.238858288454264,0\" fill=\"#4c78a8\" stroke-width=\"2\" opacity=\"0.7\"/><path aria-label=\"False Positive: 0.0355836939291; max_depth: 4; measures: 0.306287031116\" role=\"graphics-symbol\" aria-roledescription=\"circle\" transform=\"translate(47.44492523873718,133.33333333333334)\" d=\"M8.643034821497606,0A8.643034821497606,8.643034821497606,0,1,1,-8.643034821497606,0A8.643034821497606,8.643034821497606,0,1,1,8.643034821497606,0\" fill=\"#4c78a8\" stroke-width=\"2\" opacity=\"0.7\"/><path aria-label=\"False Positive: 0.210309798019; max_depth: 5; measures: 0.312030823817\" role=\"graphics-symbol\" aria-roledescription=\"circle\" transform=\"translate(280.4130640258548,66.66666666666666)\" d=\"M8.723699704660186,0A8.723699704660186,8.723699704660186,0,1,1,-8.723699704660186,0A8.723699704660186,8.723699704660186,0,1,1,8.723699704660186,0\" fill=\"#4c78a8\" stroke-width=\"2\" opacity=\"0.7\"/><path aria-label=\"False Positive: 0.025802448626; max_depth: 6; measures: 0.339669570485\" role=\"graphics-symbol\" aria-roledescription=\"circle\" transform=\"translate(34.40326483472665,0)\" d=\"M9.101862693417138,0A9.101862693417138,9.101862693417138,0,1,1,-9.101862693417138,0A9.101862693417138,9.101862693417138,0,1,1,9.101862693417138,0\" fill=\"#4c78a8\" stroke-width=\"2\" opacity=\"0.7\"/><path aria-label=\"False Positive: 0.0915389468711; max_depth: 3; measures: 0.298159463036\" role=\"graphics-symbol\" aria-roledescription=\"circle\" transform=\"translate(122.05192916150645,200)\" d=\"M8.527588935480281,0A8.527588935480281,8.527588935480281,0,1,1,-8.527588935480281,0A8.527588935480281,8.527588935480281,0,1,1,8.527588935480281,0\" fill=\"#4c78a8\" stroke-width=\"2\" opacity=\"0.7\"/><path aria-label=\"False Positive: 0.176365237999; max_depth: 3; measures: 0.299393407285\" role=\"graphics-symbol\" aria-roledescription=\"circle\" transform=\"translate(235.15365066570033,200)\" d=\"M8.5452165912887,0A8.5452165912887,8.5452165912887,0,1,1,-8.5452165912887,0A8.5452165912887,8.5452165912887,0,1,1,8.5452165912887,0\" fill=\"#4c78a8\" stroke-width=\"2\" opacity=\"0.7\"/><path aria-label=\"False Positive: 0.0425423696042; max_depth: 2; measures: 0.295348508967\" role=\"graphics-symbol\" aria-roledescription=\"circle\" transform=\"translate(56.723159472231934,266.6666666666667)\" d=\"M8.487296024024598,0A8.487296024024598,8.487296024024598,0,1,1,-8.487296024024598,0A8.487296024024598,8.487296024024598,0,1,1,8.487296024024598,0\" fill=\"#4c78a8\" stroke-width=\"2\" opacity=\"0.7\"/><path aria-label=\"False Positive: 0.0181621925363; max_depth: 3; measures: 0.297889016991\" role=\"graphics-symbol\" aria-roledescription=\"circle\" transform=\"translate(24.21625671507032,200)\" d=\"M8.523720576090112,0A8.523720576090112,8.523720576090112,0,1,1,-8.523720576090112,0A8.523720576090112,8.523720576090112,0,1,1,8.523720576090112,0\" fill=\"#4c78a8\" stroke-width=\"2\" opacity=\"0.7\"/><path aria-label=\"False Positive: 0.277594510676; max_depth: 6; measures: 0.370035416909\" role=\"graphics-symbol\" aria-roledescription=\"circle\" transform=\"translate(370.1260142352068,0)\" d=\"M9.5,0A9.5,9.5,0,1,1,-9.5,0A9.5,9.5,0,1,1,9.5,0\" fill=\"#4c78a8\" stroke-width=\"2\" opacity=\"0.7\"/><path aria-label=\"False Positive: 0.299738325121; max_depth: 5; measures: 0.354696045184\" role=\"graphics-symbol\" aria-roledescription=\"circle\" transform=\"translate(399.65110016165727,66.66666666666666)\" d=\"M9.30101043678087,0A9.30101043678087,9.30101043678087,0,1,1,-9.30101043678087,0A9.30101043678087,9.30101043678087,0,1,1,9.30101043678087,0\" fill=\"#4c78a8\" stroke-width=\"2\" opacity=\"0.7\"/><path aria-label=\"False Positive: 0.0304847752788; max_depth: 2; measures: 0.29718258717\" role=\"graphics-symbol\" aria-roledescription=\"circle\" transform=\"translate(40.64636703841019,266.6666666666667)\" d=\"M8.513607775409069,0A8.513607775409069,8.513607775409069,0,1,1,-8.513607775409069,0A8.513607775409069,8.513607775409069,0,1,1,8.513607775409069,0\" fill=\"#4c78a8\" stroke-width=\"2\" opacity=\"0.7\"/><path aria-label=\"False Positive: 0.0259201890548; max_depth: 2; measures: 0.299677145122\" role=\"graphics-symbol\" aria-roledescription=\"circle\" transform=\"translate(34.56025207306967,266.6666666666667)\" d=\"M8.54926482185972,0A8.54926482185972,8.54926482185972,0,1,1,-8.54926482185972,0A8.54926482185972,8.54926482185972,0,1,1,8.54926482185972,0\" fill=\"#4c78a8\" stroke-width=\"2\" opacity=\"0.7\"/><path aria-label=\"False Positive: 0.0427789409511; max_depth: 4; measures: 0.308709039718\" role=\"graphics-symbol\" aria-roledescription=\"circle\" transform=\"translate(57.03858793486558,133.33333333333334)\" d=\"M8.677140548650351,0A8.677140548650351,8.677140548650351,0,1,1,-8.677140548650351,0A8.677140548650351,8.677140548650351,0,1,1,8.677140548650351,0\" fill=\"#4c78a8\" stroke-width=\"2\" opacity=\"0.7\"/><path aria-label=\"False Positive: 0.111242272211; max_depth: 4; measures: 0.304341298289\" role=\"graphics-symbol\" aria-roledescription=\"circle\" transform=\"translate(148.3230296144728,133.33333333333334)\" d=\"M8.615538015885003,0A8.615538015885003,8.615538015885003,0,1,1,-8.615538015885003,0A8.615538015885003,8.615538015885003,0,1,1,8.615538015885003,0\" fill=\"#4c78a8\" stroke-width=\"2\" opacity=\"0.7\"/></g><g class=\"mark-group role-legend\" role=\"graphics-symbol\" aria-roledescription=\"legend\" aria-label=\"Symbol legend titled 'measures' for size with values from 0.0 to 0.4\"><g transform=\"translate(418,0)\"><path class=\"background\" aria-hidden=\"true\" d=\"M0,0h59v72h-59Z\" pointer-events=\"none\"/><g><g class=\"mark-group role-legend-entry\"><g transform=\"translate(0,16)\"><path class=\"background\" aria-hidden=\"true\" d=\"M0,0h0v0h0Z\" pointer-events=\"none\"/><g><g class=\"mark-group role-scope\" role=\"graphics-object\" aria-roledescription=\"group mark container\"><g transform=\"translate(0,0)\"><path class=\"background\" aria-hidden=\"true\" d=\"M0,0h38v12.438578468537902h-38Z\" pointer-events=\"none\" opacity=\"1\"/><g><g class=\"mark-symbol role-legend-symbol\" pointer-events=\"none\"><path transform=\"translate(9.5,6)\" d=\"M4.938578468537902,0A4.938578468537902,4.938578468537902,0,1,1,-4.938578468537902,0A4.938578468537902,4.938578468537902,0,1,1,4.938578468537902,0\" fill=\"#4c78a8\" stroke-width=\"1.5\" opacity=\"0.7\"/></g><g class=\"mark-text role-legend-label\" pointer-events=\"none\"><text text-anchor=\"start\" transform=\"translate(23,9)\" font-family=\"sans-serif\" font-size=\"10px\" fill=\"#000\" opacity=\"1\">0.1</text></g></g><path class=\"foreground\" aria-hidden=\"true\" d=\"\" pointer-events=\"none\" display=\"none\"/></g><g transform=\"translate(0,16)\"><path class=\"background\" aria-hidden=\"true\" d=\"M0,0h38v16.48420464905005h-38Z\" pointer-events=\"none\" opacity=\"1\"/><g><g class=\"mark-symbol role-legend-symbol\" pointer-events=\"none\"><path transform=\"translate(9.5,8)\" d=\"M6.984204649050051,0A6.984204649050051,6.984204649050051,0,1,1,-6.984204649050051,0A6.984204649050051,6.984204649050051,0,1,1,6.984204649050051,0\" fill=\"#4c78a8\" stroke-width=\"1.5\" opacity=\"0.7\"/></g><g class=\"mark-text role-legend-label\" pointer-events=\"none\"><text text-anchor=\"start\" transform=\"translate(23,11)\" font-family=\"sans-serif\" font-size=\"10px\" fill=\"#000\" opacity=\"1\">0.2</text></g></g><path class=\"foreground\" aria-hidden=\"true\" d=\"\" pointer-events=\"none\" display=\"none\"/></g><g transform=\"translate(0,36)\"><path class=\"background\" aria-hidden=\"true\" d=\"M0,0h38v19.553868824673344h-38Z\" pointer-events=\"none\" opacity=\"1\"/><g><g class=\"mark-symbol role-legend-symbol\" pointer-events=\"none\"><path transform=\"translate(9.5,9.5)\" d=\"M8.553868824673343,0A8.553868824673343,8.553868824673343,0,1,1,-8.553868824673343,0A8.553868824673343,8.553868824673343,0,1,1,8.553868824673343,0\" fill=\"#4c78a8\" stroke-width=\"1.5\" opacity=\"0.7\"/></g><g class=\"mark-text role-legend-label\" pointer-events=\"none\"><text text-anchor=\"start\" transform=\"translate(23,12.5)\" font-family=\"sans-serif\" font-size=\"10px\" fill=\"#000\" opacity=\"1\">0.3</text></g></g><path class=\"foreground\" aria-hidden=\"true\" d=\"\" pointer-events=\"none\" display=\"none\"/></g></g></g><path class=\"foreground\" aria-hidden=\"true\" d=\"\" pointer-events=\"none\" display=\"none\"/></g></g><g class=\"mark-text role-legend-title\" pointer-events=\"none\"><text text-anchor=\"start\" transform=\"translate(0,9)\" font-family=\"sans-serif\" font-size=\"11px\" font-weight=\"bold\" fill=\"#000\" opacity=\"1\">measures</text></g></g><path class=\"foreground\" aria-hidden=\"true\" d=\"\" pointer-events=\"none\" display=\"none\"/></g></g></g><path class=\"foreground\" aria-hidden=\"true\" d=\"\" display=\"none\"/></g></g></g></svg>\n"
      ],
      "text/plain": [
       "@vlplot(\n",
       "    data={\n",
       "        values=...\n",
       "    },\n",
       "    width=400,\n",
       "    height=400,\n",
       "    mark=\"circle\",\n",
       "    encoding={\n",
       "        x={\n",
       "            title=\"False Positive\",\n",
       "            type=\"q\",\n",
       "            field=\"η\"\n",
       "        },\n",
       "        y={\n",
       "            tiltle=\"True Positive\",\n",
       "            type=\"q\",\n",
       "            field=\"max_depth\"\n",
       "        },\n",
       "        size={\n",
       "            field=\"measures\"\n",
       "        }\n",
       "    }\n",
       ")"
      ]
     },
     "execution_count": 168,
     "metadata": {},
     "output_type": "execute_result"
    }
   ],
   "source": [
    "plt = @vlplot(\n",
    "    data=hiper,\n",
    "    :circle,\n",
    "    x={:η, title=\"False Positive\",type=:q},\n",
    "    y={:max_depth, tiltle=\"True Positive\", type=:q},\n",
    "    size={:measures,\n",
    "            },\n",
    "    width=400,\n",
    "    height=400\n",
    ")"
   ]
  },
  {
   "cell_type": "code",
   "execution_count": null,
   "id": "00613d94-37b6-4477-9521-f78696f7195c",
   "metadata": {},
   "outputs": [],
   "source": []
  },
  {
   "cell_type": "code",
   "execution_count": null,
   "id": "2ab59e33-2051-46db-a063-ac0cd664f866",
   "metadata": {},
   "outputs": [],
   "source": []
  }
 ],
 "metadata": {
  "kernelspec": {
   "display_name": "Julia (4 threads) 1.7.2",
   "language": "julia",
   "name": "julia-(4-threads)-1.7"
  },
  "language_info": {
   "file_extension": ".jl",
   "mimetype": "application/julia",
   "name": "julia",
   "version": "1.7.2"
  }
 },
 "nbformat": 4,
 "nbformat_minor": 5
}
