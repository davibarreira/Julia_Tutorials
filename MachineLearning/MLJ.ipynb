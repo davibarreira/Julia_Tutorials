{
 "cells": [
  {
   "cell_type": "markdown",
   "id": "d9d51912-fcf2-4032-b200-f7d34d4bdf57",
   "metadata": {},
   "source": [
    "# Tutorial on Machine Learning with MLJ"
   ]
  },
  {
   "cell_type": "code",
   "execution_count": null,
   "id": "21e62fc4-9314-4f85-a338-e365eca6b341",
   "metadata": {},
   "outputs": [],
   "source": []
  }
 ],
 "metadata": {
  "kernelspec": {
   "display_name": "Julia 1.6.1",
   "language": "julia",
   "name": "julia-1.6"
  },
  "language_info": {
   "file_extension": ".jl",
   "mimetype": "application/julia",
   "name": "julia",
   "version": "1.6.1"
  }
 },
 "nbformat": 4,
 "nbformat_minor": 5
}
